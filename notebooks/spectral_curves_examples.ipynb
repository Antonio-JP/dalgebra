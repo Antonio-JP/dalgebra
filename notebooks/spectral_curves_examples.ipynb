{
 "cells": [
  {
   "cell_type": "code",
   "execution_count": 1,
   "metadata": {},
   "outputs": [],
   "source": [
    "%display latex\n",
    "from dalgebra import *"
   ]
  },
  {
   "cell_type": "markdown",
   "metadata": {},
   "source": [
    "# Non-trivial centralizers and the spectral curve"
   ]
  },
  {
   "cell_type": "markdown",
   "metadata": {},
   "source": [
    "In this notebook we are going to explain and provide code on how we can get some non-trivial centralizers in differential algebra and, once a couple of commuting operators are found, we will compute the spectral curve for both.\n",
    "\n",
    "This notebook will serve as a checking on the state on the repository and will push also the theory we have been developing further.\n",
    "\n",
    "*Notation*: we will use the notation $(R,\\partial)$ to described a differential ring and $R\\{u\\}$ as the ring of differential polynomials in $u$ (meaning, $R\\{u\\} = R[u,u',u'',\\ldots]$ and all the derivations of $u$ are algebraically independent). A differential operator with coefficients over a differential ring $(R,\\partial)$ is an element of the first Weyl algebra $R[\\partial]$. This is a non-commutative ring where $\\partial r = r' + r\\partial$."
   ]
  },
  {
   "cell_type": "markdown",
   "metadata": {},
   "source": [
    "#### References\n",
    "\n",
    "This work is based on the following references (will increase when needed):\n",
    "\n",
    "1. *Computing Almost-commuting Basis of Ordinary Differential Operators*, A. Jiménez-Pastor, S. Rueda, M.A. Zurro, in the 48th International Symposium on Symbolic and Algebraic Computation (**short communication**), 2023.\n",
    "2. *A *REDUCE* program for the integration of diferential polynomials*, A.H. Bilge in **Computer Physics Communications** (73-3), pp. 263-268, 1992.\n",
    "3. *Towards the classification of scalar nonpolynomial evolution equations: Quasilinearity*, A.H. Bilge in **Computers and Mathematics with Applications** (49-11,12), pp. 1837-1848, 2005.\n",
    "4. *Additive normal forms and integration of differential fractions*, F. Boulier, F. Lemaire, J. Lallemand, G. Regensburger, M. Rosenkranz, in **Journal of Symbolic Computation** (77), pp. 16-38, 2016.\n",
    "5. *Factorization of KdV Schrödinger operators using differential subresultants*, J.J. Morales-Ruíz, S. Rueda, M.A. Zurro in **Advances in Applied Mathematics** (120), pp. 102065, 2020.\n",
    "6. *Factoring Third Order Ordinary Differential Operators over Spectral Curves*, S. Rueda, M.A. Zurro in **ArXiV** [arXiv:2102.04733v1](https://www.arxiv.org/abs/2102.04733v1)"
   ]
  },
  {
   "cell_type": "code",
   "execution_count": null,
   "metadata": {},
   "outputs": [],
   "source": []
  },
  {
   "cell_type": "code",
   "execution_count": null,
   "metadata": {},
   "outputs": [],
   "source": []
  },
  {
   "cell_type": "code",
   "execution_count": null,
   "metadata": {},
   "outputs": [],
   "source": []
  },
  {
   "cell_type": "code",
   "execution_count": null,
   "metadata": {},
   "outputs": [],
   "source": []
  },
  {
   "cell_type": "code",
   "execution_count": null,
   "metadata": {},
   "outputs": [],
   "source": []
  },
  {
   "cell_type": "markdown",
   "metadata": {},
   "source": [
    "## Differential resultant of two ordinary differential operators\n",
    "\n",
    "Let $(\\mathbb{K}, \\partial)$ be a differential field of characterisfic zero and consider two differential operators\n",
    "$\\mathcal{A}, \\mathcal{B} \\in \\mathbb{K}[D]$, where for any $\\alpha in \\mathbb{K}$:\n",
    "\n",
    "$$D \\alpha = \\alpha D + \\partial(\\alpha).$$\n",
    "\n",
    "We want to compute the differential resultant of these two operators. This can be done algebraically, since these operators are basically polynomials in the non-commutative variable $D$, using Sylvester resultant.\n",
    "\n",
    "Currently this structure is not available on the package `dalgebra` and the package `ore_algebra` may not work in all cases to handle these type of operators. \n",
    "\n",
    "Anyway, we can reinterpret differential operators as homogeneous differential polynomials in one variable (let call this variable $w(x)$). Then the differential resultant of the two differential operators is the differential resultant of the two differential polynomials eliminating the variable $w(x)$.\n",
    "\n",
    "\n",
    "#### 1. Setting up the example\n",
    "\n",
    "In the paper *Algebro-geometric solitonic solutions and Differential Galois Theory*, the authors studied some spectral curves. They considered the Schr\\\"odinger operator\n",
    "$$L = -\\partial^2  + u,$$\n",
    "where $u(x)$ is a differential indeterminate that is calle a *potential*. \n",
    "\n",
    "Then, they consider some other operators (coming from the KdV hierarchy?):\n",
    "$$\\begin{array}{l}\n",
    "    \\tilde{P_1} = P_1,\\\\\n",
    "    \\tilde{P_3} = P_3 + c_1P_1,\\\\\n",
    "    \\tilde{P_5} = P_5 + c_2P_3 + c_1P_1,\n",
    "\\end{array}$$\n",
    "where the operators $P_1$, $P_3$ and $P_5$ are defined as follows:\n",
    "$$\\begin{array}{l}\n",
    "    P_1 = \\partial,\\\\\n",
    "    P_3 = -\\partial^3+\\frac{3}{2} u \\partial +\\frac{3}{4}u',\\\\\n",
    "    P_5 = \\partial^5-\\frac{5}{2}u \\partial^3-\\frac{15}{4}u'\\partial^2+\\frac{15}{8}u^2\\partial-\\frac{25}{8}u''\\partial -\\frac{15}{16}u'''+\\frac{15}{8}u u'.\n",
    "\\end{array}$$\n",
    "\n",
    "The differential resultants they computed were:\n",
    "$$dres(L - \\lambda, \\tilde{P}_3 - \\mu),\\qquad dres(L - \\lambda, \\tilde{P}_5 - \\mu).$$\n",
    "\n",
    "Hence we have to work on the differential ring: $\\mathbb{C}\\{u\\}[c_i][\\lambda, \\mu]$ and consider those operators in that ring. We are going to create several variables for each step of the process:\n",
    "\n",
    "* `B` will represent the ring with the potential: $\\mathbb{C}\\{u\\}$.\n",
    "* `R` will represent the addition of the constants: $\\mathbb{C}\\{u\\}[c_i]$.\n",
    "* `S` will represent the addition of the two spectral parameters: $\\mathbb{C}\\{u\\}[c_i][\\lambda,\\mu]$.\n",
    "* Finally, `F` will represent the ring with the extra differential variable $w(x)$ that allow us to represent the differential operators as differential polynomials: $\\mathbb{C}\\{u\\}[c_i][\\lambda, \\mu]\\{w\\}$."
   ]
  },
  {
   "cell_type": "markdown",
   "metadata": {},
   "source": [
    "We are going to rearrange the creation of the ring so the differential computations are performed properly.\n",
    "\n",
    "For doing so, we are going to compute the ring $\\mathbb{C}[c_1,c_2,\\lambda,\\mu]\\{u,w\\}$. Then we can set the derivation on the base polynomial ring to be the constant zero (since all the variables there are constant w.r.t. the derivation) and the differential behavior of $u$ and $w$ is preserved properly."
   ]
  },
  {
   "cell_type": "code",
   "execution_count": 6,
   "metadata": {},
   "outputs": [
    {
     "data": {
      "text/html": [
       "<html>\\(\\displaystyle \\newcommand{\\Bold}[1]{\\mathbf{#1}}\\left(\\Bold{Q}[c_{1}, c_{2}, l, m], 0\\right) \\{ u, w \\}\\)</html>"
      ],
      "text/latex": [
       "$\\displaystyle \\newcommand{\\Bold}[1]{\\mathbf{#1}}\\left(\\Bold{Q}[c_{1}, c_{2}, l, m], 0\\right) \\{ u, w \\}$"
      ],
      "text/plain": [
       "Ring of operator polynomials in (u, w) over Differential Ring [[Multivariate Polynomial Ring in c_1, c_2, l, m over Rational Field], (0,)]"
      ]
     },
     "execution_count": 6,
     "metadata": {},
     "output_type": "execute_result"
    }
   ],
   "source": [
    "B.<c_1,c_2,l,m> = QQ[]\n",
    "dB = DifferentialRing(B, lambda p : 0)\n",
    "F.<u,w> = DifferentialPolynomialRing(dB); F"
   ]
  },
  {
   "cell_type": "markdown",
   "metadata": {},
   "source": [
    "At this point we can create the differential operators as differential polynomials:"
   ]
  },
  {
   "cell_type": "code",
   "execution_count": 7,
   "metadata": {},
   "outputs": [],
   "source": [
    "L = -w[2] + u[0]*w[0]"
   ]
  },
  {
   "cell_type": "code",
   "execution_count": 8,
   "metadata": {},
   "outputs": [],
   "source": [
    "P1 = w[1]\n",
    "P3 = -w[3] + (3/2)*u[0]*w[1] + (3/4)*u[1]*w[0]\n",
    "P5 = w[5] - (5/2)*u[0]*w[3] - (15/4)*u[1]*w[2] + (15/8)*u[0]^2*w[1] - (25/8)*u[2]*w[1] - (15/16)*u[3]*w[0] + (15/8)*u[0]*u[1]*w[0]"
   ]
  },
  {
   "cell_type": "code",
   "execution_count": 9,
   "metadata": {},
   "outputs": [],
   "source": [
    "tP3 = P3 + c_1*P1\n",
    "tP5 = P5 + c_2*P3 + c_1*P1"
   ]
  },
  {
   "cell_type": "code",
   "execution_count": 10,
   "metadata": {},
   "outputs": [],
   "source": [
    "op1 = L-l*w[0]; op2 = tP3 - m*w[0]; op3 = tP5 - m*w[0]"
   ]
  },
  {
   "cell_type": "markdown",
   "metadata": {},
   "source": [
    "#### 2. The first differential resultant\n",
    "\n",
    "We are going to look now to the differential resultant of `op1` and `op2`, i.e.:\n",
    "$$dres(L-\\lambda, \\tilde{P}_3-\\mu)$$\n",
    "eliminating the variable $w$.\n",
    "\n",
    "For doing so, we need to use the class `DifferentialSystem` indicating the two differential polynomials involved and the variables we will eliminate:"
   ]
  },
  {
   "cell_type": "code",
   "execution_count": 11,
   "metadata": {},
   "outputs": [
    {
     "data": {
      "text/html": [
       "<html>\\(\\displaystyle \\newcommand{\\Bold}[1]{\\mathbf{#1}}\\text{System over } \\left(\\Bold{Q}[c_{1}, c_{2}, l, m], 0\\right) \\{ u, w \\} \\text{ with variables } w_{\\ast} :\n",
       "\n",
       " \\left\\{\\begin{array}{ll} 1 u_{0} w_{0} - w_{2} + \\left(-l\\right) w_{0} & = 0 \\\\\n",
       "\\frac{3}{4} u_{1} w_{0} + \\frac{3}{2} u_{0} w_{1} - w_{3} + c_{1} w_{1} + \\left(-m\\right) w_{0} & = 0 \\\\ \n",
       "\\end{array}\\right.\\)</html>"
      ],
      "text/latex": [
       "$\\displaystyle \\newcommand{\\Bold}[1]{\\mathbf{#1}}\\text{System over } \\left(\\Bold{Q}[c_{1}, c_{2}, l, m], 0\\right) \\{ u, w \\} \\text{ with variables } w_{\\ast} :\n",
       "\n",
       " \\left\\{\\begin{array}{ll} 1 u_{0} w_{0} - w_{2} + \\left(-l\\right) w_{0} & = 0 \\\\\n",
       "\\frac{3}{4} u_{1} w_{0} + \\frac{3}{2} u_{0} w_{1} - w_{3} + c_{1} w_{1} + \\left(-m\\right) w_{0} & = 0 \\\\ \n",
       "\\end{array}\\right.$"
      ],
      "text/plain": [
       "System over [Ring of operator polynomials in (u, w) over Differential Ring [[Multivariate Polynomial Ring in c_1, c_2, l, m over Rational Field], (0,)]] with variables [(w_*,)]:\n",
       "{\n",
       "\tu_0*w_0 - w_2 + (-l)*w_0 == 0\n",
       "\t3/4*u_1*w_0 + 3/2*u_0*w_1 - w_3 + c_1*w_1 + (-m)*w_0 == 0\n",
       "}"
      ]
     },
     "execution_count": 11,
     "metadata": {},
     "output_type": "execute_result"
    }
   ],
   "source": [
    "system1 = DifferentialSystem([op1, op2], variables=[w])\n",
    "system1"
   ]
  },
  {
   "cell_type": "code",
   "execution_count": 13,
   "metadata": {},
   "outputs": [
    {
     "data": {
      "text/html": [
       "<html>\\(\\displaystyle \\frac{1}{4} u_{0}^{3} + \\left(-\\frac{1}{8}\\right) u_{2} u_{0} + \\frac{1}{16} u_{1}^{2} + \\left(c_{1} + \\frac{3}{4} l\\right) u_{0}^{2} + \\left(-\\frac{1}{4} c_{1} - \\frac{1}{4} l\\right) u_{2} + \\left(c_{1}^{2} + c_{1} l\\right) u_{0} - c_{1}^{2} l - 2 c_{1} l^{2} - l^{3} - m^{2}\\)</html>"
      ],
      "text/latex": [
       "$\\displaystyle \\frac{1}{4} u_{0}^{3} + \\left(-\\frac{1}{8}\\right) u_{2} u_{0} + \\frac{1}{16} u_{1}^{2} + \\left(c_{1} + \\frac{3}{4} l\\right) u_{0}^{2} + \\left(-\\frac{1}{4} c_{1} - \\frac{1}{4} l\\right) u_{2} + \\left(c_{1}^{2} + c_{1} l\\right) u_{0} - c_{1}^{2} l - 2 c_{1} l^{2} - l^{3} - m^{2}$"
      ],
      "text/plain": [
       "1/4*u_0^3 + (-1/8)*u_2*u_0 + 1/16*u_1^2 + (c_1 + 3/4*l)*u_0^2 + (-1/4*c_1 - 1/4*l)*u_2 + (c_1^2 + c_1*l)*u_0 - c_1^2*l - 2*c_1*l^2 - l^3 - m^2"
      ]
     },
     "execution_count": 13,
     "metadata": {},
     "output_type": "execute_result"
    }
   ],
   "source": [
    "dres_system1 = system1.diff_resultant(alg_res=\"macaulay\")\n",
    "dres_system1"
   ]
  },
  {
   "cell_type": "markdown",
   "metadata": {},
   "source": [
    "At this point, to extrac the coefficients we will need to change the order of the variables appearing in this polynomial:\n",
    "\n",
    "**WARNING: Maybe this is something we can do automatically... however this comes from the fact that the original structure we wanted to create failed cuurently in `dalgebra`**"
   ]
  },
  {
   "cell_type": "markdown",
   "metadata": {},
   "source": [
    "#### 3. The second differential resultant\n",
    "\n",
    "We are going to look now to the differential resultant of `op1` and `op3`, i.e.:\n",
    "$$dres(L-\\lambda, \\tilde{P}_5-\\mu)$$\n",
    "eliminating the variable $w$.\n",
    "\n",
    "For doing so, we need to use the class `DifferentialSystem` indicating the two differential polynomials involved and the variables we will eliminate:"
   ]
  },
  {
   "cell_type": "code",
   "execution_count": 14,
   "metadata": {},
   "outputs": [
    {
     "data": {
      "text/html": [
       "<html>\\(\\displaystyle \\newcommand{\\Bold}[1]{\\mathbf{#1}}\\text{System over } \\left(\\Bold{Q}[c_{1}, c_{2}, l, m], 0\\right) \\{ u, w \\} \\text{ with variables } w_{\\ast} :\n",
       "\n",
       " \\left\\{\\begin{array}{ll} 1 u_{0} w_{0} - w_{2} + \\left(-l\\right) w_{0} & = 0 \\\\\n",
       "\\frac{15}{8} u_{1} u_{0} w_{0} + \\frac{15}{8} u_{0}^{2} w_{1} + \\left(-\\frac{15}{16}\\right) u_{3} w_{0} + \\left(-\\frac{25}{8}\\right) u_{2} w_{1} + \\left(-\\frac{15}{4}\\right) u_{1} w_{2} + \\left(\\frac{3}{4} c_{2}\\right) u_{1} w_{0} + \\left(-\\frac{5}{2}\\right) u_{0} w_{3} + \\left(\\frac{3}{2} c_{2}\\right) u_{0} w_{1} + 1 w_{5} + \\left(-c_{2}\\right) w_{3} + c_{1} w_{1} + \\left(-m\\right) w_{0} & = 0 \\\\ \n",
       "\\end{array}\\right.\\)</html>"
      ],
      "text/latex": [
       "$\\displaystyle \\newcommand{\\Bold}[1]{\\mathbf{#1}}\\text{System over } \\left(\\Bold{Q}[c_{1}, c_{2}, l, m], 0\\right) \\{ u, w \\} \\text{ with variables } w_{\\ast} :\n",
       "\n",
       " \\left\\{\\begin{array}{ll} 1 u_{0} w_{0} - w_{2} + \\left(-l\\right) w_{0} & = 0 \\\\\n",
       "\\frac{15}{8} u_{1} u_{0} w_{0} + \\frac{15}{8} u_{0}^{2} w_{1} + \\left(-\\frac{15}{16}\\right) u_{3} w_{0} + \\left(-\\frac{25}{8}\\right) u_{2} w_{1} + \\left(-\\frac{15}{4}\\right) u_{1} w_{2} + \\left(\\frac{3}{4} c_{2}\\right) u_{1} w_{0} + \\left(-\\frac{5}{2}\\right) u_{0} w_{3} + \\left(\\frac{3}{2} c_{2}\\right) u_{0} w_{1} + 1 w_{5} + \\left(-c_{2}\\right) w_{3} + c_{1} w_{1} + \\left(-m\\right) w_{0} & = 0 \\\\ \n",
       "\\end{array}\\right.$"
      ],
      "text/plain": [
       "System over [Ring of operator polynomials in (u, w) over Differential Ring [[Multivariate Polynomial Ring in c_1, c_2, l, m over Rational Field], (0,)]] with variables [(w_*,)]:\n",
       "{\n",
       "\tu_0*w_0 - w_2 + (-l)*w_0 == 0\n",
       "\t15/8*u_1*u_0*w_0 + 15/8*u_0^2*w_1 + (-15/16)*u_3*w_0 + (-25/8)*u_2*w_1 + (-15/4)*u_1*w_2 + 3/4*c_2*u_1*w_0 + (-5/2)*u_0*w_3 + 3/2*c_2*u_0*w_1 + w_5 + (-c_2)*w_3 + c_1*w_1 + (-m)*w_0 == 0\n",
       "}"
      ]
     },
     "execution_count": 14,
     "metadata": {},
     "output_type": "execute_result"
    }
   ],
   "source": [
    "system2 = DifferentialSystem([op1, op3], variables=[w])\n",
    "system2"
   ]
  },
  {
   "cell_type": "code",
   "execution_count": 16,
   "metadata": {},
   "outputs": [
    {
     "data": {
      "text/html": [
       "<html>\\(\\displaystyle \\frac{9}{64} u_{0}^{5} + \\left(-\\frac{15}{64}\\right) u_{2} u_{0}^{3} + \\left(\\frac{3}{8} c_{2} + \\frac{15}{64} l\\right) u_{0}^{4} + \\frac{3}{128} u_{4} u_{0}^{2} + \\left(-\\frac{3}{64}\\right) u_{3} u_{1} u_{0} + \\frac{1}{16} u_{2}^{2} u_{0} + \\frac{3}{64} u_{2} u_{1}^{2} + \\left(-\\frac{13}{32} c_{2} - \\frac{5}{16} l\\right) u_{2} u_{0}^{2} + \\left(\\frac{1}{4} c_{2}^{2} + \\frac{7}{8} c_{2} l + \\frac{5}{8} l^{2} + \\frac{3}{4} c_{1}\\right) u_{0}^{3} + \\left(-\\frac{1}{128}\\right) u_{4} u_{2} + \\left(\\frac{1}{32} c_{2} + \\frac{1}{32} l\\right) u_{4} u_{0} + \\frac{1}{256} u_{3}^{2} + \\left(-\\frac{1}{32} c_{2} - \\frac{1}{32} l\\right) u_{3} u_{1} + \\left(\\frac{1}{32} c_{2} + \\frac{1}{64} l\\right) u_{2}^{2} + \\left(-\\frac{1}{8} c_{2}^{2} - \\frac{3}{4} c_{2} l - \\frac{5}{8} l^{2} - \\frac{5}{8} c_{1}\\right) u_{2} u_{0} + \\left(\\frac{1}{16} c_{2}^{2} - \\frac{1}{4} c_{2} l - \\frac{5}{16} l^{2} - \\frac{3}{8} c_{1}\\right) u_{1}^{2} + \\left(\\frac{3}{4} c_{2}^{2} l + \\frac{3}{4} c_{2} l^{2} + c_{1} c_{2} + \\frac{1}{4} c_{1} l\\right) u_{0}^{2} + \\left(\\frac{1}{16} c_{2} l + \\frac{1}{16} l^{2} + \\frac{1}{16} c_{1}\\right) u_{4} + \\left(-\\frac{1}{4} c_{2}^{2} l - \\frac{1}{4} c_{2} l^{2} - \\frac{1}{4} c_{1} c_{2}\\right) u_{2} + \\left(c_{1} c_{2} l + c_{1} l^{2} + c_{1}^{2}\\right) u_{0} - c_{2}^{2} l^{3} - 2 c_{2} l^{4} - l^{5} - 2 c_{1} c_{2} l^{2} - 2 c_{1} l^{3} - c_{1}^{2} l - m^{2}\\)</html>"
      ],
      "text/latex": [
       "$\\displaystyle \\frac{9}{64} u_{0}^{5} + \\left(-\\frac{15}{64}\\right) u_{2} u_{0}^{3} + \\left(\\frac{3}{8} c_{2} + \\frac{15}{64} l\\right) u_{0}^{4} + \\frac{3}{128} u_{4} u_{0}^{2} + \\left(-\\frac{3}{64}\\right) u_{3} u_{1} u_{0} + \\frac{1}{16} u_{2}^{2} u_{0} + \\frac{3}{64} u_{2} u_{1}^{2} + \\left(-\\frac{13}{32} c_{2} - \\frac{5}{16} l\\right) u_{2} u_{0}^{2} + \\left(\\frac{1}{4} c_{2}^{2} + \\frac{7}{8} c_{2} l + \\frac{5}{8} l^{2} + \\frac{3}{4} c_{1}\\right) u_{0}^{3} + \\left(-\\frac{1}{128}\\right) u_{4} u_{2} + \\left(\\frac{1}{32} c_{2} + \\frac{1}{32} l\\right) u_{4} u_{0} + \\frac{1}{256} u_{3}^{2} + \\left(-\\frac{1}{32} c_{2} - \\frac{1}{32} l\\right) u_{3} u_{1} + \\left(\\frac{1}{32} c_{2} + \\frac{1}{64} l\\right) u_{2}^{2} + \\left(-\\frac{1}{8} c_{2}^{2} - \\frac{3}{4} c_{2} l - \\frac{5}{8} l^{2} - \\frac{5}{8} c_{1}\\right) u_{2} u_{0} + \\left(\\frac{1}{16} c_{2}^{2} - \\frac{1}{4} c_{2} l - \\frac{5}{16} l^{2} - \\frac{3}{8} c_{1}\\right) u_{1}^{2} + \\left(\\frac{3}{4} c_{2}^{2} l + \\frac{3}{4} c_{2} l^{2} + c_{1} c_{2} + \\frac{1}{4} c_{1} l\\right) u_{0}^{2} + \\left(\\frac{1}{16} c_{2} l + \\frac{1}{16} l^{2} + \\frac{1}{16} c_{1}\\right) u_{4} + \\left(-\\frac{1}{4} c_{2}^{2} l - \\frac{1}{4} c_{2} l^{2} - \\frac{1}{4} c_{1} c_{2}\\right) u_{2} + \\left(c_{1} c_{2} l + c_{1} l^{2} + c_{1}^{2}\\right) u_{0} - c_{2}^{2} l^{3} - 2 c_{2} l^{4} - l^{5} - 2 c_{1} c_{2} l^{2} - 2 c_{1} l^{3} - c_{1}^{2} l - m^{2}$"
      ],
      "text/plain": [
       "9/64*u_0^5 + (-15/64)*u_2*u_0^3 + (3/8*c_2 + 15/64*l)*u_0^4 + 3/128*u_4*u_0^2 + (-3/64)*u_3*u_1*u_0 + 1/16*u_2^2*u_0 + 3/64*u_2*u_1^2 + (-13/32*c_2 - 5/16*l)*u_2*u_0^2 + (1/4*c_2^2 + 7/8*c_2*l + 5/8*l^2 + 3/4*c_1)*u_0^3 + (-1/128)*u_4*u_2 + (1/32*c_2 + 1/32*l)*u_4*u_0 + 1/256*u_3^2 + (-1/32*c_2 - 1/32*l)*u_3*u_1 + (1/32*c_2 + 1/64*l)*u_2^2 + (-1/8*c_2^2 - 3/4*c_2*l - 5/8*l^2 - 5/8*c_1)*u_2*u_0 + (1/16*c_2^2 - 1/4*c_2*l - 5/16*l^2 - 3/8*c_1)*u_1^2 + (3/4*c_2^2*l + 3/4*c_2*l^2 + c_1*c_2 + 1/4*c_1*l)*u_0^2 + (1/16*c_2*l + 1/16*l^2 + 1/16*c_1)*u_4 + (-1/4*c_2^2*l - 1/4*c_2*l^2 - 1/4*c_1*c_2)*u_2 + (c_1*c_2*l + c_1*l^2 + c_1^2)*u_0 - c_2^2*l^3 - 2*c_2*l^4 - l^5 - 2*c_1*c_2*l^2 - 2*c_1*l^3 - c_1^2*l - m^2"
      ]
     },
     "execution_count": 16,
     "metadata": {},
     "output_type": "execute_result"
    }
   ],
   "source": [
    "dres_system2 = system2.diff_resultant(alg_res=\"macaulay\")\n",
    "dres_system2"
   ]
  },
  {
   "cell_type": "markdown",
   "metadata": {},
   "source": [
    "Once again, we reorganize the variable to be more readable with respect to the variables $\\lambda$ and $\\mu$:"
   ]
  }
 ],
 "metadata": {
  "kernelspec": {
   "display_name": "SageMath 9.7",
   "language": "sage",
   "name": "sagemath"
  },
  "language_info": {
   "codemirror_mode": {
    "name": "ipython",
    "version": 3
   },
   "file_extension": ".py",
   "mimetype": "text/x-python",
   "name": "python",
   "nbconvert_exporter": "python",
   "pygments_lexer": "ipython3",
   "version": "3.10.5"
  }
 },
 "nbformat": 4,
 "nbformat_minor": 4
}
