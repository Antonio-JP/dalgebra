{
 "cells": [
  {
   "cell_type": "markdown",
   "id": "83afc02b-1779-4845-aed8-f9d13c7db38e",
   "metadata": {},
   "source": [
    "# **Example of *Paper***"
   ]
  },
  {
   "cell_type": "markdown",
   "id": "15743f50-3adf-4298-a28a-dac2f7ce3697",
   "metadata": {},
   "source": [
    "In this notebook we provide the code that can be used to obtain the results from the *paper* in Section *6* to get the first basis elements of the almost-commuting basis for generic operators $L_3$ and $L_5$ of order 3 and 5, respectively.\n",
    "\n",
    "This implementation is done for these particular cases, and they show intermidiate steps. The complete process can be seen in the method `almost_commuting_wilson` in `dalgebra.commutators.almost_commuting`."
   ]
  },
  {
   "cell_type": "code",
   "execution_count": 1,
   "id": "15c4c99c-db94-4b49-92db-dab1b1781ffe",
   "metadata": {},
   "outputs": [],
   "source": [
    "import sys\n",
    "sys.path.insert(0, \"..\")\n",
    "from dalgebra import *\n",
    "%display latex"
   ]
  },
  {
   "cell_type": "code",
   "execution_count": 2,
   "id": "eb03de4c-071c-4ed1-b867-692767b2dd87",
   "metadata": {},
   "outputs": [],
   "source": [
    "import re\n",
    "from functools import reduce\n",
    "def poly_to_latex(poly):\n",
    "    r'''\n",
    "        Transform a polynomial to a proper LaTeX representation.\n",
    "        \n",
    "        We assume the polynomial has variables `u_i`, `c_{i,j}` and `y_i` where the variables `u_i` and `y_i` are differential variables.\n",
    "        The differential variables are given with `y_i^{(j)}` --  \"yi_j\".\n",
    "        The constant variables are given with `c_{i,j}` -- \"c_i_j\".\n",
    "        \n",
    "        This method also guarantees the removal of \"*\" for multiplications and the \"+ (-...)\".\n",
    "    '''\n",
    "    if not isinstance(poly, str):\n",
    "        poly = str(poly)\n",
    "        \n",
    "    patterns = list()\n",
    "    \n",
    "    patterns.append((r\"\\*\", \"\")) # We remove the multiplication symbol\n",
    "    patterns.append((r\"\\+ \\(-([^\\)])+\\)\", lambda M: f\"- {M.groups()[0]}\")) # We remove the + (-number)\n",
    "    patterns.append((r\"\\(-([^\\)])+\\)\", lambda M: f\"-{M.groups()[0]}\")) # We remove the + (-number)\n",
    "    patterns.append((r\"(\\d+)/(\\d+)\", lambda M: f\"\\\\frac\\u007b{M.groups()[0]}\\u007d\\u007b{M.groups()[1]}\\u007d\"))\n",
    "    patterns.append((r\"c_(\\d+)_(\\d+)\", lambda M: f\"c_\\u007b{M.groups()[0]},{M.groups()[1]}\\u007d\")) # Rewritting constant variables\n",
    "    ## Rewriting differential variables\n",
    "    patterns.append((r\"([uy])(\\d+)_0([^\\d]?)\", lambda M: f\"{M.groups()[0]}_\\u007b{M.groups()[1]}\\u007d{M.groups()[2]}\"))\n",
    "    patterns.append((r\"([uy])(\\d+)_1([^\\d]?)\", lambda M: f\"{M.groups()[0]}_\\u007b{M.groups()[1]}\\u007d'{M.groups()[2]}\"))\n",
    "    patterns.append((r\"([uy])(\\d+)_2([^\\d]?)\", lambda M: f\"{M.groups()[0]}_\\u007b{M.groups()[1]}\\u007d''{M.groups()[2]}\"))\n",
    "    patterns.append((r\"([uy])(\\d+)_3([^\\d]?)\", lambda M: f\"{M.groups()[0]}_\\u007b{M.groups()[1]}\\u007d'''{M.groups()[2]}\"))\n",
    "    patterns.append((r\"([uy])(\\d+)_(\\d+)\", lambda M: f\"{M.groups()[0]}_\\u007b{M.groups()[1]}\\u007d^\\u007b({M.groups()[2]})\\u007d\"))\n",
    "    patterns.append((r\"([uy])(\\d+)\", lambda M: f\"{M.groups()[0]}_\\u007b{M.groups()[1]}\\u007d\"))\n",
    "    patterns.append((r\"z_(\\d+)\", lambda M: f\"\\\\partial^\\u007b{M.groups()[0]}\\u007d\"))\n",
    "    \n",
    "    return reduce(lambda p, q : re.sub(q[0], q[1], p), patterns, poly)"
   ]
  },
  {
   "cell_type": "markdown",
   "id": "0c5f337e-67f2-415d-ac34-2b0773806844",
   "metadata": {
    "jp-MarkdownHeadingCollapsed": true,
    "tags": []
   },
   "source": [
    "## Case of order 3"
   ]
  },
  {
   "cell_type": "code",
   "execution_count": 3,
   "id": "353ca122-8539-4300-8eab-eb069cb6bdbd",
   "metadata": {},
   "outputs": [
    {
     "data": {
      "text/html": [
       "<html>\\(\\displaystyle u_{2}\\partial^{1} + u_{3}\\partial^{0} + \\partial^{3}\\)</html>"
      ],
      "text/latex": [
       "$\\displaystyle u_{2}\\partial^{1} + u_{3}\\partial^{0} + \\partial^{3}$"
      ],
      "text/plain": [
       "u_{2}\\partial^{1} + u_{3}\\partial^{0} + \\partial^{3}"
      ]
     },
     "execution_count": 3,
     "metadata": {},
     "output_type": "execute_result"
    }
   ],
   "source": [
    "## Setting up the framework to work\n",
    "R.<u2,u3,y2,y3,y4,y5,z> = DifferentialPolynomialRing(QQ)\n",
    "u = (1, 0, u2, u3)\n",
    "y = (1, 0, y2, y3, y4, y5)\n",
    "L = sum(z[i]*u[3-i] for i in range(4))\n",
    "## Showing L\n",
    "LatexExpr(poly_to_latex(L))"
   ]
  },
  {
   "cell_type": "code",
   "execution_count": 4,
   "id": "c0fd3180-be02-4b8f-87fd-ac9bdccfd135",
   "metadata": {},
   "outputs": [
    {
     "data": {
      "text/html": [
       "<html>\\(\\displaystyle \\tilde{P}_{0}(U,Y) \\longrightarrow 1\\)</html>"
      ],
      "text/latex": [
       "$\\displaystyle \\tilde{P}_{0}(U,Y) \\longrightarrow 1$"
      ],
      "text/plain": [
       "\\tilde{P}_{0}(U,Y) \\longrightarrow 1"
      ]
     },
     "metadata": {},
     "output_type": "display_data"
    },
    {
     "data": {
      "text/html": [
       "<html>\\(\\displaystyle \\tilde{P}_{1}(U,Y) \\longrightarrow \\partial^{1}\\)</html>"
      ],
      "text/latex": [
       "$\\displaystyle \\tilde{P}_{1}(U,Y) \\longrightarrow \\partial^{1}$"
      ],
      "text/plain": [
       "\\tilde{P}_{1}(U,Y) \\longrightarrow \\partial^{1}"
      ]
     },
     "metadata": {},
     "output_type": "display_data"
    },
    {
     "data": {
      "text/html": [
       "<html>\\(\\displaystyle \\tilde{P}_{2}(U,Y) \\longrightarrow y_{2}\\partial^{0} + \\partial^{2}\\)</html>"
      ],
      "text/latex": [
       "$\\displaystyle \\tilde{P}_{2}(U,Y) \\longrightarrow y_{2}\\partial^{0} + \\partial^{2}$"
      ],
      "text/plain": [
       "\\tilde{P}_{2}(U,Y) \\longrightarrow y_{2}\\partial^{0} + \\partial^{2}"
      ]
     },
     "metadata": {},
     "output_type": "display_data"
    },
    {
     "data": {
      "text/html": [
       "<html>\\(\\displaystyle \\tilde{P}_{3}(U,Y) \\longrightarrow y_{2}\\partial^{1} + y_{3}\\partial^{0} + \\partial^{3}\\)</html>"
      ],
      "text/latex": [
       "$\\displaystyle \\tilde{P}_{3}(U,Y) \\longrightarrow y_{2}\\partial^{1} + y_{3}\\partial^{0} + \\partial^{3}$"
      ],
      "text/plain": [
       "\\tilde{P}_{3}(U,Y) \\longrightarrow y_{2}\\partial^{1} + y_{3}\\partial^{0} + \\partial^{3}"
      ]
     },
     "metadata": {},
     "output_type": "display_data"
    },
    {
     "data": {
      "text/html": [
       "<html>\\(\\displaystyle \\tilde{P}_{4}(U,Y) \\longrightarrow y_{2}\\partial^{2} + y_{3}\\partial^{1} + y_{4}\\partial^{0} + \\partial^{4}\\)</html>"
      ],
      "text/latex": [
       "$\\displaystyle \\tilde{P}_{4}(U,Y) \\longrightarrow y_{2}\\partial^{2} + y_{3}\\partial^{1} + y_{4}\\partial^{0} + \\partial^{4}$"
      ],
      "text/plain": [
       "\\tilde{P}_{4}(U,Y) \\longrightarrow y_{2}\\partial^{2} + y_{3}\\partial^{1} + y_{4}\\partial^{0} + \\partial^{4}"
      ]
     },
     "metadata": {},
     "output_type": "display_data"
    },
    {
     "data": {
      "text/html": [
       "<html>\\(\\displaystyle \\tilde{P}_{5}(U,Y) \\longrightarrow y_{2}\\partial^{3} + y_{3}\\partial^{2} + y_{4}\\partial^{1} + y_{5}\\partial^{0} + \\partial^{5}\\)</html>"
      ],
      "text/latex": [
       "$\\displaystyle \\tilde{P}_{5}(U,Y) \\longrightarrow y_{2}\\partial^{3} + y_{3}\\partial^{2} + y_{4}\\partial^{1} + y_{5}\\partial^{0} + \\partial^{5}$"
      ],
      "text/plain": [
       "\\tilde{P}_{5}(U,Y) \\longrightarrow y_{2}\\partial^{3} + y_{3}\\partial^{2} + y_{4}\\partial^{1} + y_{5}\\partial^{0} + \\partial^{5}"
      ]
     },
     "metadata": {},
     "output_type": "display_data"
    }
   ],
   "source": [
    "## Creating the \\tilde{P}_i polynomials\n",
    "PT = [1, z[1]]\n",
    "while(len(PT) <= 5): # creating up to P_6(U;Y)\n",
    "    PT += [PT[-1](z=z[1]) + y[len(PT)]*z[0]]\n",
    "\n",
    "## Showing the PT\n",
    "for (i,p) in enumerate(PT):\n",
    "    show(LatexExpr(r\"\\tilde{P}_{\" + str(i) + r\"}(U,Y) \\longrightarrow \" + poly_to_latex(p)))"
   ]
  },
  {
   "cell_type": "markdown",
   "id": "58f98565-bd20-4194-8ed2-68c3f665d882",
   "metadata": {
    "jp-MarkdownHeadingCollapsed": true,
    "tags": []
   },
   "source": [
    "#### **1. Computing the differential systems**"
   ]
  },
  {
   "cell_type": "code",
   "execution_count": 5,
   "id": "c94eac94-0561-4c22-ad8e-013fc6d44043",
   "metadata": {},
   "outputs": [],
   "source": [
    "lie_brackets = [L.lie_bracket(P, \"z\") for P in PT]"
   ]
  },
  {
   "cell_type": "code",
   "execution_count": 6,
   "id": "ca8a2498-42ef-423d-97b4-8ad4699f8e7d",
   "metadata": {},
   "outputs": [],
   "source": [
    "diff_systems = [tuple([bracket.coefficient(z[i]) for i in range(L.order(z)-1, bracket.order(z)+1)]) for bracket in lie_brackets]"
   ]
  },
  {
   "cell_type": "markdown",
   "id": "501442d1-b4e4-48a7-b308-f31a4516c923",
   "metadata": {},
   "source": [
    "##### The system for $m = 1$"
   ]
  },
  {
   "cell_type": "code",
   "execution_count": 7,
   "id": "264b80a4-e0da-48ab-b855-2b7f08c9a3ff",
   "metadata": {},
   "outputs": [
    {
     "data": {
      "text/html": [
       "<html>\\(\\displaystyle [L_3, \\tilde{P}_1(U)] = \\left(-u_{2}'\\right)\\partial^1+\\left(-u_{3}'\\right)\\)</html>"
      ],
      "text/latex": [
       "$\\displaystyle [L_3, \\tilde{P}_1(U)] = \\left(-u_{2}'\\right)\\partial^1+\\left(-u_{3}'\\right)$"
      ],
      "text/plain": [
       "[L_3, \\tilde{P}_1(U)] = \\left(-u_{2}'\\right)\\partial^1+\\left(-u_{3}'\\right)"
      ]
     },
     "execution_count": 7,
     "metadata": {},
     "output_type": "execute_result"
    }
   ],
   "source": [
    "bracket = lie_brackets[1]\n",
    "LatexExpr(r\"[L_3, \\tilde{P}_1(U)] = \" + \"+\".join(r\"\\left(\" + poly_to_latex(bracket.coefficient(z[i])) + r\"\\right)\" + (r\"\\partial^\" + str(i) if i > 0 else \"\") for i in range(bracket.order(z), -1, -1) if bracket.coefficient(z[i]) != 0))"
   ]
  },
  {
   "cell_type": "code",
   "execution_count": 8,
   "id": "7ca4dabe-a494-4692-9283-3c8476b32a41",
   "metadata": {},
   "outputs": [
    {
     "name": "stdout",
     "output_type": "stream",
     "text": [
      "[L_3, \\tilde{P}_1(U)] = \\left(-u_{2}'\\right)\\partial^1+\\left(-u_{3}'\\right)\n"
     ]
    }
   ],
   "source": [
    "print(_)"
   ]
  },
  {
   "cell_type": "code",
   "execution_count": 9,
   "id": "a230c5c6-994b-4469-9364-ffc92b714099",
   "metadata": {},
   "outputs": [
    {
     "data": {
      "text/html": [
       "<html>\\(\\displaystyle \\left(\\right)\\)</html>"
      ],
      "text/latex": [
       "$\\displaystyle \\left(\\right)$"
      ],
      "text/plain": [
       "()"
      ]
     },
     "execution_count": 9,
     "metadata": {},
     "output_type": "execute_result"
    }
   ],
   "source": [
    "## There are no equations for the almost commuting of z[1]\n",
    "##  --> trivial: it is the unique monic operator of order 1 in normal form\n",
    "diff_systems[1]"
   ]
  },
  {
   "cell_type": "markdown",
   "id": "c6afcf25-e4d1-4091-9fbe-842519a9b9e2",
   "metadata": {},
   "source": [
    "##### The system for $m=2$"
   ]
  },
  {
   "cell_type": "code",
   "execution_count": 10,
   "id": "3b28fb28-0a56-458c-a408-1a1f06b3f1a0",
   "metadata": {},
   "outputs": [
    {
     "data": {
      "text/html": [
       "<html>\\(\\displaystyle [L_3, \\tilde{P}_2(U, y_2)] = \\left(-2u_{2}' + 3y_{2}'\\right)\\partial^2+\\left(-u_{2}'' - 2u_{3}' + 3y_{2}''\\right)\\partial^1+\\left(u_{2}y_{2}' - u_{3}'' + y_{2}'''\\right)\\)</html>"
      ],
      "text/latex": [
       "$\\displaystyle [L_3, \\tilde{P}_2(U, y_2)] = \\left(-2u_{2}' + 3y_{2}'\\right)\\partial^2+\\left(-u_{2}'' - 2u_{3}' + 3y_{2}''\\right)\\partial^1+\\left(u_{2}y_{2}' - u_{3}'' + y_{2}'''\\right)$"
      ],
      "text/plain": [
       "[L_3, \\tilde{P}_2(U, y_2)] = \\left(-2u_{2}' + 3y_{2}'\\right)\\partial^2+\\left(-u_{2}'' - 2u_{3}' + 3y_{2}''\\right)\\partial^1+\\left(u_{2}y_{2}' - u_{3}'' + y_{2}'''\\right)"
      ]
     },
     "execution_count": 10,
     "metadata": {},
     "output_type": "execute_result"
    }
   ],
   "source": [
    "bracket = lie_brackets[2]\n",
    "LatexExpr(r\"[L_3, \\tilde{P}_2(U, y_2)] = \" + \"+\".join(r\"\\left(\" + poly_to_latex(bracket.coefficient(z[i])) + r\"\\right)\" + (r\"\\partial^\" + str(i) if i > 0 else \"\") for i in range(bracket.order(z), -1, -1) if bracket.coefficient(z[i]) != 0))"
   ]
  },
  {
   "cell_type": "code",
   "execution_count": 11,
   "id": "9fbbb810-a2d3-47e0-9b8d-2ad94d6bf303",
   "metadata": {},
   "outputs": [
    {
     "name": "stdout",
     "output_type": "stream",
     "text": [
      "[L_3, \\tilde{P}_2(U, y_2)] = \\left(-2u_{2}' + 3y_{2}'\\right)\\partial^2+\\left(-u_{2}'' - 2u_{3}' + 3y_{2}''\\right)\\partial^1+\\left(u_{2}y_{2}' - u_{3}'' + y_{2}'''\\right)\n"
     ]
    }
   ],
   "source": [
    "print(_)"
   ]
  },
  {
   "cell_type": "code",
   "execution_count": 12,
   "id": "357ee9f1-b901-4279-b875-c55350dc6340",
   "metadata": {},
   "outputs": [
    {
     "data": {
      "text/html": [
       "<html>\\(\\displaystyle \\left\\{\\begin{array}{rl}\n",
       "\t-2u_{2}' + 3y_{2}'&= 0\n",
       "\\end{array}\\right.\\)</html>"
      ],
      "text/latex": [
       "$\\displaystyle \\left\\{\\begin{array}{rl}\n",
       "\t-2u_{2}' + 3y_{2}'&= 0\n",
       "\\end{array}\\right.$"
      ],
      "text/plain": [
       "\\left\\{\\begin{array}{rl}\n",
       "\t-2u_{2}' + 3y_{2}'&= 0\n",
       "\\end{array}\\right."
      ]
     },
     "execution_count": 12,
     "metadata": {},
     "output_type": "execute_result"
    }
   ],
   "source": [
    "LatexExpr(r\"\\left\\{\\begin{array}{rl}\" + \"\\n\\t\" + \"\\\\\\\\\\n\\t\".join(poly_to_latex(p) + r\"&= 0\" for p in diff_systems[2]) + \"\\n\" + r\"\\end{array}\\right.\")"
   ]
  },
  {
   "cell_type": "code",
   "execution_count": 13,
   "id": "8cf28569-21e6-4238-8e02-c9ea149b3483",
   "metadata": {},
   "outputs": [
    {
     "name": "stdout",
     "output_type": "stream",
     "text": [
      "\\left\\{\\begin{array}{rl}\n",
      "\t-2u_{2}' + 3y_{2}'&= 0\n",
      "\\end{array}\\right.\n"
     ]
    }
   ],
   "source": [
    "print(_)"
   ]
  },
  {
   "cell_type": "markdown",
   "id": "c507f869-7ccc-40e0-a7d6-41784ca53b54",
   "metadata": {},
   "source": [
    "##### The system for $m = 3$"
   ]
  },
  {
   "cell_type": "code",
   "execution_count": 14,
   "id": "55bfaf2a-68e4-42dc-9e90-c184ad439912",
   "metadata": {},
   "outputs": [
    {
     "data": {
      "text/html": [
       "<html>\\(\\displaystyle [L_3, \\tilde{P}_3(U, y_2, y_3)] = \\left(-3u_{2}' + 3y_{2}'\\right)\\partial^3+\\left(-3u_{2}'' - 3u_{3}' + 3y_{2}'' + 3y_{3}'\\right)\\partial^2+\\left(-u_{2}'y_{2} + u_{2}y_{2}' - u_{2}''' - 3u_{3}'' + y_{2}''' + 3y_{3}''\\right)\\partial^1+\\left(u_{2}y_{3}' - u_{3}'y_{2} - u_{3}''' + y_{3}'''\\right)\\)</html>"
      ],
      "text/latex": [
       "$\\displaystyle [L_3, \\tilde{P}_3(U, y_2, y_3)] = \\left(-3u_{2}' + 3y_{2}'\\right)\\partial^3+\\left(-3u_{2}'' - 3u_{3}' + 3y_{2}'' + 3y_{3}'\\right)\\partial^2+\\left(-u_{2}'y_{2} + u_{2}y_{2}' - u_{2}''' - 3u_{3}'' + y_{2}''' + 3y_{3}''\\right)\\partial^1+\\left(u_{2}y_{3}' - u_{3}'y_{2} - u_{3}''' + y_{3}'''\\right)$"
      ],
      "text/plain": [
       "[L_3, \\tilde{P}_3(U, y_2, y_3)] = \\left(-3u_{2}' + 3y_{2}'\\right)\\partial^3+\\left(-3u_{2}'' - 3u_{3}' + 3y_{2}'' + 3y_{3}'\\right)\\partial^2+\\left(-u_{2}'y_{2} + u_{2}y_{2}' - u_{2}''' - 3u_{3}'' + y_{2}''' + 3y_{3}''\\right)\\partial^1+\\left(u_{2}y_{3}' - u_{3}'y_{2} - u_{3}''' + y_{3}'''\\right)"
      ]
     },
     "execution_count": 14,
     "metadata": {},
     "output_type": "execute_result"
    }
   ],
   "source": [
    "bracket = lie_brackets[3]\n",
    "LatexExpr(r\"[L_3, \\tilde{P}_3(U, y_2, y_3)] = \" + \"+\".join(r\"\\left(\" + poly_to_latex(bracket.coefficient(z[i])) + r\"\\right)\" + (r\"\\partial^\" + str(i) if i > 0 else \"\") for i in range(bracket.order(z), -1, -1) if bracket.coefficient(z[i]) != 0))"
   ]
  },
  {
   "cell_type": "code",
   "execution_count": 15,
   "id": "81a39d80-e26c-4911-aa0d-db3275c95a63",
   "metadata": {},
   "outputs": [
    {
     "name": "stdout",
     "output_type": "stream",
     "text": [
      "[L_3, \\tilde{P}_3(U, y_2, y_3)] = \\left(-3u_{2}' + 3y_{2}'\\right)\\partial^3+\\left(-3u_{2}'' - 3u_{3}' + 3y_{2}'' + 3y_{3}'\\right)\\partial^2+\\left(-u_{2}'y_{2} + u_{2}y_{2}' - u_{2}''' - 3u_{3}'' + y_{2}''' + 3y_{3}''\\right)\\partial^1+\\left(u_{2}y_{3}' - u_{3}'y_{2} - u_{3}''' + y_{3}'''\\right)\n"
     ]
    }
   ],
   "source": [
    "print(_)"
   ]
  },
  {
   "cell_type": "code",
   "execution_count": 16,
   "id": "12af29ab-2e8f-4829-ba7b-30baacb69998",
   "metadata": {},
   "outputs": [
    {
     "data": {
      "text/html": [
       "<html>\\(\\displaystyle \\left\\{\\begin{array}{rl}\n",
       "\t-3u_{2}'' - 3u_{3}' + 3y_{2}'' + 3y_{3}'&= 0\\\\\n",
       "\t-3u_{2}' + 3y_{2}'&= 0\n",
       "\\end{array}\\right.\\)</html>"
      ],
      "text/latex": [
       "$\\displaystyle \\left\\{\\begin{array}{rl}\n",
       "\t-3u_{2}'' - 3u_{3}' + 3y_{2}'' + 3y_{3}'&= 0\\\\\n",
       "\t-3u_{2}' + 3y_{2}'&= 0\n",
       "\\end{array}\\right.$"
      ],
      "text/plain": [
       "\\left\\{\\begin{array}{rl}\n",
       "\t-3u_{2}'' - 3u_{3}' + 3y_{2}'' + 3y_{3}'&= 0\\\\\n",
       "\t-3u_{2}' + 3y_{2}'&= 0\n",
       "\\end{array}\\right."
      ]
     },
     "execution_count": 16,
     "metadata": {},
     "output_type": "execute_result"
    }
   ],
   "source": [
    "LatexExpr(r\"\\left\\{\\begin{array}{rl}\" + \"\\n\\t\" + \"\\\\\\\\\\n\\t\".join(poly_to_latex(p) + r\"&= 0\" for p in diff_systems[3]) + \"\\n\" + r\"\\end{array}\\right.\")"
   ]
  },
  {
   "cell_type": "code",
   "execution_count": 17,
   "id": "900cb374-f621-4931-9ea3-51675ee1b4fa",
   "metadata": {},
   "outputs": [
    {
     "name": "stdout",
     "output_type": "stream",
     "text": [
      "\\left\\{\\begin{array}{rl}\n",
      "\t-3u_{2}'' - 3u_{3}' + 3y_{2}'' + 3y_{3}'&= 0\\\\\n",
      "\t-3u_{2}' + 3y_{2}'&= 0\n",
      "\\end{array}\\right.\n"
     ]
    }
   ],
   "source": [
    "print(_)"
   ]
  },
  {
   "cell_type": "markdown",
   "id": "7af1d686-69bf-44a7-8d0d-ba92282ef02d",
   "metadata": {},
   "source": [
    "##### The system for $m = 4$"
   ]
  },
  {
   "cell_type": "code",
   "execution_count": 18,
   "id": "03663790-69a7-4d2c-a977-5ef75b867908",
   "metadata": {},
   "outputs": [
    {
     "data": {
      "text/html": [
       "<html>\\(\\displaystyle [L_3, \\tilde{P}_4(U, y_2,y_3,y_4)] = \\left(-4u_{2}' + 3y_{2}'\\right)\\partial^4+\\left(-6u_{2}'' - 4u_{3}' + 3y_{2}'' + 3y_{3}'\\right)\\partial^3+\\left(-2u_{2}'y_{2} + u_{2}y_{2}' - 4u_{2}''' - 6u_{3}'' + y_{2}''' + 3y_{3}'' + 3y_{4}'\\right)\\partial^2+\\left(-u_{2}''y_{2} - u_{2}'y_{3} + u_{2}y_{3}' - 2u_{3}'y_{2} - u_{2}^{(4)} - 4u_{3}''' + y_{3}''' + 3y_{4}''\\right)\\partial^1+\\left(u_{2}y_{4}' - u_{3}''y_{2} - u_{3}'y_{3} - u_{3}^{(4)} + y_{4}'''\\right)\\)</html>"
      ],
      "text/latex": [
       "$\\displaystyle [L_3, \\tilde{P}_4(U, y_2,y_3,y_4)] = \\left(-4u_{2}' + 3y_{2}'\\right)\\partial^4+\\left(-6u_{2}'' - 4u_{3}' + 3y_{2}'' + 3y_{3}'\\right)\\partial^3+\\left(-2u_{2}'y_{2} + u_{2}y_{2}' - 4u_{2}''' - 6u_{3}'' + y_{2}''' + 3y_{3}'' + 3y_{4}'\\right)\\partial^2+\\left(-u_{2}''y_{2} - u_{2}'y_{3} + u_{2}y_{3}' - 2u_{3}'y_{2} - u_{2}^{(4)} - 4u_{3}''' + y_{3}''' + 3y_{4}''\\right)\\partial^1+\\left(u_{2}y_{4}' - u_{3}''y_{2} - u_{3}'y_{3} - u_{3}^{(4)} + y_{4}'''\\right)$"
      ],
      "text/plain": [
       "[L_3, \\tilde{P}_4(U, y_2,y_3,y_4)] = \\left(-4u_{2}' + 3y_{2}'\\right)\\partial^4+\\left(-6u_{2}'' - 4u_{3}' + 3y_{2}'' + 3y_{3}'\\right)\\partial^3+\\left(-2u_{2}'y_{2} + u_{2}y_{2}' - 4u_{2}''' - 6u_{3}'' + y_{2}''' + 3y_{3}'' + 3y_{4}'\\right)\\partial^2+\\left(-u_{2}''y_{2} - u_{2}'y_{3} + u_{2}y_{3}' - 2u_{3}'y_{2} - u_{2}^{(4)} - 4u_{3}''' + y_{3}''' + 3y_{4}''\\right)\\partial^1+\\left(u_{2}y_{4}' - u_{3}''y_{2} - u_{3}'y_{3} - u_{3}^{(4)} + y_{4}'''\\right)"
      ]
     },
     "execution_count": 18,
     "metadata": {},
     "output_type": "execute_result"
    }
   ],
   "source": [
    "bracket = lie_brackets[4]\n",
    "LatexExpr(r\"[L_3, \\tilde{P}_4(U, y_2,y_3,y_4)] = \" + \"+\".join(r\"\\left(\" + poly_to_latex(bracket.coefficient(z[i])) + r\"\\right)\" + (r\"\\partial^\" + str(i) if i > 0 else \"\") for i in range(bracket.order(z), -1, -1) if bracket.coefficient(z[i]) != 0))"
   ]
  },
  {
   "cell_type": "code",
   "execution_count": 19,
   "id": "48931572-db6c-4b04-ae12-c921e2915e93",
   "metadata": {},
   "outputs": [
    {
     "name": "stdout",
     "output_type": "stream",
     "text": [
      "[L_3, \\tilde{P}_4(U, y_2,y_3,y_4)] = \\left(-4u_{2}' + 3y_{2}'\\right)\\partial^4+\\left(-6u_{2}'' - 4u_{3}' + 3y_{2}'' + 3y_{3}'\\right)\\partial^3+\\left(-2u_{2}'y_{2} + u_{2}y_{2}' - 4u_{2}''' - 6u_{3}'' + y_{2}''' + 3y_{3}'' + 3y_{4}'\\right)\\partial^2+\\left(-u_{2}''y_{2} - u_{2}'y_{3} + u_{2}y_{3}' - 2u_{3}'y_{2} - u_{2}^{(4)} - 4u_{3}''' + y_{3}''' + 3y_{4}''\\right)\\partial^1+\\left(u_{2}y_{4}' - u_{3}''y_{2} - u_{3}'y_{3} - u_{3}^{(4)} + y_{4}'''\\right)\n"
     ]
    }
   ],
   "source": [
    "print(_)"
   ]
  },
  {
   "cell_type": "code",
   "execution_count": 20,
   "id": "e4b7e1fa-7ec3-4f2e-b2c5-559af4985fe0",
   "metadata": {},
   "outputs": [
    {
     "data": {
      "text/html": [
       "<html>\\(\\displaystyle \\left\\{\\begin{array}{rl}\n",
       "\t-2u_{2}'y_{2} + u_{2}y_{2}' - 4u_{2}''' - 6u_{3}'' + y_{2}''' + 3y_{3}'' + 3y_{4}'&= 0\\\\\n",
       "\t-6u_{2}'' - 4u_{3}' + 3y_{2}'' + 3y_{3}'&= 0\\\\\n",
       "\t-4u_{2}' + 3y_{2}'&= 0\n",
       "\\end{array}\\right.\\)</html>"
      ],
      "text/latex": [
       "$\\displaystyle \\left\\{\\begin{array}{rl}\n",
       "\t-2u_{2}'y_{2} + u_{2}y_{2}' - 4u_{2}''' - 6u_{3}'' + y_{2}''' + 3y_{3}'' + 3y_{4}'&= 0\\\\\n",
       "\t-6u_{2}'' - 4u_{3}' + 3y_{2}'' + 3y_{3}'&= 0\\\\\n",
       "\t-4u_{2}' + 3y_{2}'&= 0\n",
       "\\end{array}\\right.$"
      ],
      "text/plain": [
       "\\left\\{\\begin{array}{rl}\n",
       "\t-2u_{2}'y_{2} + u_{2}y_{2}' - 4u_{2}''' - 6u_{3}'' + y_{2}''' + 3y_{3}'' + 3y_{4}'&= 0\\\\\n",
       "\t-6u_{2}'' - 4u_{3}' + 3y_{2}'' + 3y_{3}'&= 0\\\\\n",
       "\t-4u_{2}' + 3y_{2}'&= 0\n",
       "\\end{array}\\right."
      ]
     },
     "execution_count": 20,
     "metadata": {},
     "output_type": "execute_result"
    }
   ],
   "source": [
    "LatexExpr(r\"\\left\\{\\begin{array}{rl}\" + \"\\n\\t\" + \"\\\\\\\\\\n\\t\".join(poly_to_latex(p) + r\"&= 0\" for p in diff_systems[4]) + \"\\n\" + r\"\\end{array}\\right.\")"
   ]
  },
  {
   "cell_type": "code",
   "execution_count": 21,
   "id": "1adbba4c-26ef-4286-898b-4fb879ef2b46",
   "metadata": {},
   "outputs": [
    {
     "name": "stdout",
     "output_type": "stream",
     "text": [
      "\\left\\{\\begin{array}{rl}\n",
      "\t-2u_{2}'y_{2} + u_{2}y_{2}' - 4u_{2}''' - 6u_{3}'' + y_{2}''' + 3y_{3}'' + 3y_{4}'&= 0\\\\\n",
      "\t-6u_{2}'' - 4u_{3}' + 3y_{2}'' + 3y_{3}'&= 0\\\\\n",
      "\t-4u_{2}' + 3y_{2}'&= 0\n",
      "\\end{array}\\right.\n"
     ]
    }
   ],
   "source": [
    "print(_)"
   ]
  },
  {
   "cell_type": "markdown",
   "id": "2890f6bc-4b22-4937-a5db-c43b7787afc8",
   "metadata": {},
   "source": [
    "##### The system for $m = 5$"
   ]
  },
  {
   "cell_type": "code",
   "execution_count": 22,
   "id": "67921d0e-0f37-4543-87cb-062f53142093",
   "metadata": {},
   "outputs": [
    {
     "data": {
      "text/html": [
       "<html>\\(\\displaystyle [L_3, \\tilde{P}_5(U, y_2,y_3,y_4,y_5)] = \\left(-5u_{2}' + 3y_{2}'\\right)\\partial^5+\\left(-0u_{2}'' - 5u_{3}' + 3y_{2}'' + 3y_{3}'\\right)\\partial^4+\\left(-3u_{2}'y_{2} + u_{2}y_{2}' - 0u_{2}''' - 0u_{3}'' + y_{2}''' + 3y_{3}'' + 3y_{4}'\\right)\\partial^3+\\left(-3u_{2}''y_{2} - 2u_{2}'y_{3} + u_{2}y_{3}' - 3u_{3}'y_{2} - 5u_{2}^{(4)} - 0u_{3}''' + y_{3}''' + 3y_{4}'' + 3y_{5}'\\right)\\partial^2+\\left(-u_{2}'''y_{2} - u_{2}''y_{3} - u_{2}'y_{4} + u_{2}y_{4}' - 3u_{3}''y_{2} - 2u_{3}'y_{3} - u_{2}^{(5)} - 5u_{3}^{(4)} + y_{4}''' + 3y_{5}''\\right)\\partial^1+\\left(u_{2}y_{5}' - u_{3}'''y_{2} - u_{3}''y_{3} - u_{3}'y_{4} - u_{3}^{(5)} + y_{5}'''\\right)\\)</html>"
      ],
      "text/latex": [
       "$\\displaystyle [L_3, \\tilde{P}_5(U, y_2,y_3,y_4,y_5)] = \\left(-5u_{2}' + 3y_{2}'\\right)\\partial^5+\\left(-0u_{2}'' - 5u_{3}' + 3y_{2}'' + 3y_{3}'\\right)\\partial^4+\\left(-3u_{2}'y_{2} + u_{2}y_{2}' - 0u_{2}''' - 0u_{3}'' + y_{2}''' + 3y_{3}'' + 3y_{4}'\\right)\\partial^3+\\left(-3u_{2}''y_{2} - 2u_{2}'y_{3} + u_{2}y_{3}' - 3u_{3}'y_{2} - 5u_{2}^{(4)} - 0u_{3}''' + y_{3}''' + 3y_{4}'' + 3y_{5}'\\right)\\partial^2+\\left(-u_{2}'''y_{2} - u_{2}''y_{3} - u_{2}'y_{4} + u_{2}y_{4}' - 3u_{3}''y_{2} - 2u_{3}'y_{3} - u_{2}^{(5)} - 5u_{3}^{(4)} + y_{4}''' + 3y_{5}''\\right)\\partial^1+\\left(u_{2}y_{5}' - u_{3}'''y_{2} - u_{3}''y_{3} - u_{3}'y_{4} - u_{3}^{(5)} + y_{5}'''\\right)$"
      ],
      "text/plain": [
       "[L_3, \\tilde{P}_5(U, y_2,y_3,y_4,y_5)] = \\left(-5u_{2}' + 3y_{2}'\\right)\\partial^5+\\left(-0u_{2}'' - 5u_{3}' + 3y_{2}'' + 3y_{3}'\\right)\\partial^4+\\left(-3u_{2}'y_{2} + u_{2}y_{2}' - 0u_{2}''' - 0u_{3}'' + y_{2}''' + 3y_{3}'' + 3y_{4}'\\right)\\partial^3+\\left(-3u_{2}''y_{2} - 2u_{2}'y_{3} + u_{2}y_{3}' - 3u_{3}'y_{2} - 5u_{2}^{(4)} - 0u_{3}''' + y_{3}''' + 3y_{4}'' + 3y_{5}'\\right)\\partial^2+\\left(-u_{2}'''y_{2} - u_{2}''y_{3} - u_{2}'y_{4} + u_{2}y_{4}' - 3u_{3}''y_{2} - 2u_{3}'y_{3} - u_{2}^{(5)} - 5u_{3}^{(4)} + y_{4}''' + 3y_{5}''\\right)\\partial^1+\\left(u_{2}y_{5}' - u_{3}'''y_{2} - u_{3}''y_{3} - u_{3}'y_{4} - u_{3}^{(5)} + y_{5}'''\\right)"
      ]
     },
     "execution_count": 22,
     "metadata": {},
     "output_type": "execute_result"
    }
   ],
   "source": [
    "bracket = lie_brackets[5]\n",
    "LatexExpr(r\"[L_3, \\tilde{P}_5(U, y_2,y_3,y_4,y_5)] = \" + \"+\".join(r\"\\left(\" + poly_to_latex(bracket.coefficient(z[i])) + r\"\\right)\" + (r\"\\partial^\" + str(i) if i > 0 else \"\") for i in range(bracket.order(z), -1, -1) if bracket.coefficient(z[i]) != 0))"
   ]
  },
  {
   "cell_type": "code",
   "execution_count": 23,
   "id": "c7916eb5-9085-4264-b8d9-501af5d7f1d6",
   "metadata": {},
   "outputs": [
    {
     "name": "stdout",
     "output_type": "stream",
     "text": [
      "[L_3, \\tilde{P}_5(U, y_2,y_3,y_4,y_5)] = \\left(-5u_{2}' + 3y_{2}'\\right)\\partial^5+\\left(-0u_{2}'' - 5u_{3}' + 3y_{2}'' + 3y_{3}'\\right)\\partial^4+\\left(-3u_{2}'y_{2} + u_{2}y_{2}' - 0u_{2}''' - 0u_{3}'' + y_{2}''' + 3y_{3}'' + 3y_{4}'\\right)\\partial^3+\\left(-3u_{2}''y_{2} - 2u_{2}'y_{3} + u_{2}y_{3}' - 3u_{3}'y_{2} - 5u_{2}^{(4)} - 0u_{3}''' + y_{3}''' + 3y_{4}'' + 3y_{5}'\\right)\\partial^2+\\left(-u_{2}'''y_{2} - u_{2}''y_{3} - u_{2}'y_{4} + u_{2}y_{4}' - 3u_{3}''y_{2} - 2u_{3}'y_{3} - u_{2}^{(5)} - 5u_{3}^{(4)} + y_{4}''' + 3y_{5}''\\right)\\partial^1+\\left(u_{2}y_{5}' - u_{3}'''y_{2} - u_{3}''y_{3} - u_{3}'y_{4} - u_{3}^{(5)} + y_{5}'''\\right)\n"
     ]
    }
   ],
   "source": [
    "print(_)"
   ]
  },
  {
   "cell_type": "code",
   "execution_count": 24,
   "id": "18fac30d-f8de-4ec9-a30e-37529edf11e9",
   "metadata": {},
   "outputs": [
    {
     "data": {
      "text/html": [
       "<html>\\(\\displaystyle \\left\\{\\begin{array}{rl}\n",
       "\t-3u_{2}''y_{2} - 2u_{2}'y_{3} + u_{2}y_{3}' - 3u_{3}'y_{2} - 5u_{2}^{(4)} - 0u_{3}''' + y_{3}''' + 3y_{4}'' + 3y_{5}'&= 0\\\\\n",
       "\t-3u_{2}'y_{2} + u_{2}y_{2}' - 0u_{2}''' - 0u_{3}'' + y_{2}''' + 3y_{3}'' + 3y_{4}'&= 0\\\\\n",
       "\t-0u_{2}'' - 5u_{3}' + 3y_{2}'' + 3y_{3}'&= 0\\\\\n",
       "\t-5u_{2}' + 3y_{2}'&= 0\n",
       "\\end{array}\\right.\\)</html>"
      ],
      "text/latex": [
       "$\\displaystyle \\left\\{\\begin{array}{rl}\n",
       "\t-3u_{2}''y_{2} - 2u_{2}'y_{3} + u_{2}y_{3}' - 3u_{3}'y_{2} - 5u_{2}^{(4)} - 0u_{3}''' + y_{3}''' + 3y_{4}'' + 3y_{5}'&= 0\\\\\n",
       "\t-3u_{2}'y_{2} + u_{2}y_{2}' - 0u_{2}''' - 0u_{3}'' + y_{2}''' + 3y_{3}'' + 3y_{4}'&= 0\\\\\n",
       "\t-0u_{2}'' - 5u_{3}' + 3y_{2}'' + 3y_{3}'&= 0\\\\\n",
       "\t-5u_{2}' + 3y_{2}'&= 0\n",
       "\\end{array}\\right.$"
      ],
      "text/plain": [
       "\\left\\{\\begin{array}{rl}\n",
       "\t-3u_{2}''y_{2} - 2u_{2}'y_{3} + u_{2}y_{3}' - 3u_{3}'y_{2} - 5u_{2}^{(4)} - 0u_{3}''' + y_{3}''' + 3y_{4}'' + 3y_{5}'&= 0\\\\\n",
       "\t-3u_{2}'y_{2} + u_{2}y_{2}' - 0u_{2}''' - 0u_{3}'' + y_{2}''' + 3y_{3}'' + 3y_{4}'&= 0\\\\\n",
       "\t-0u_{2}'' - 5u_{3}' + 3y_{2}'' + 3y_{3}'&= 0\\\\\n",
       "\t-5u_{2}' + 3y_{2}'&= 0\n",
       "\\end{array}\\right."
      ]
     },
     "execution_count": 24,
     "metadata": {},
     "output_type": "execute_result"
    }
   ],
   "source": [
    "LatexExpr(r\"\\left\\{\\begin{array}{rl}\" + \"\\n\\t\" + \"\\\\\\\\\\n\\t\".join(poly_to_latex(p) + r\"&= 0\" for p in diff_systems[5]) + \"\\n\" + r\"\\end{array}\\right.\")"
   ]
  },
  {
   "cell_type": "code",
   "execution_count": 25,
   "id": "c700f337-b708-4b93-ae61-5988d288ef52",
   "metadata": {},
   "outputs": [
    {
     "name": "stdout",
     "output_type": "stream",
     "text": [
      "\\left\\{\\begin{array}{rl}\n",
      "\t-3u_{2}''y_{2} - 2u_{2}'y_{3} + u_{2}y_{3}' - 3u_{3}'y_{2} - 5u_{2}^{(4)} - 0u_{3}''' + y_{3}''' + 3y_{4}'' + 3y_{5}'&= 0\\\\\n",
      "\t-3u_{2}'y_{2} + u_{2}y_{2}' - 0u_{2}''' - 0u_{3}'' + y_{2}''' + 3y_{3}'' + 3y_{4}'&= 0\\\\\n",
      "\t-0u_{2}'' - 5u_{3}' + 3y_{2}'' + 3y_{3}'&= 0\\\\\n",
      "\t-5u_{2}' + 3y_{2}'&= 0\n",
      "\\end{array}\\right.\n"
     ]
    }
   ],
   "source": [
    "print(_)"
   ]
  },
  {
   "cell_type": "markdown",
   "id": "36b18186-27a3-4e0b-a87c-1280e1fbe2fc",
   "metadata": {
    "jp-MarkdownHeadingCollapsed": true,
    "tags": []
   },
   "source": [
    "#### **2. Computing the basis of $W(L_5)$**"
   ]
  },
  {
   "cell_type": "code",
   "execution_count": 26,
   "id": "66fb851d-5fca-4705-9985-8d369183c997",
   "metadata": {},
   "outputs": [],
   "source": [
    "W = R.weight_func([2,3,0,0,0,0,0], [1])\n",
    "T = [W.homogeneous_monomials(i) for i in range(6)]"
   ]
  },
  {
   "cell_type": "code",
   "execution_count": 27,
   "id": "ea9a0956-7bd7-4297-8830-74236e3cf478",
   "metadata": {},
   "outputs": [
    {
     "data": {
      "text/html": [
       "<html>\\(\\displaystyle \\mathcal{T}_{0} = \\{1\\}\\)</html>"
      ],
      "text/latex": [
       "$\\displaystyle \\mathcal{T}_{0} = \\{1\\}$"
      ],
      "text/plain": [
       "\\mathcal{T}_{0} = \\{1\\}"
      ]
     },
     "metadata": {},
     "output_type": "display_data"
    },
    {
     "data": {
      "text/html": [
       "<html>\\(\\displaystyle \\mathcal{T}_{1} = \\{\\}\\)</html>"
      ],
      "text/latex": [
       "$\\displaystyle \\mathcal{T}_{1} = \\{\\}$"
      ],
      "text/plain": [
       "\\mathcal{T}_{1} = \\{\\}"
      ]
     },
     "metadata": {},
     "output_type": "display_data"
    },
    {
     "data": {
      "text/html": [
       "<html>\\(\\displaystyle \\mathcal{T}_{2} = \\{u_{2}\\}\\)</html>"
      ],
      "text/latex": [
       "$\\displaystyle \\mathcal{T}_{2} = \\{u_{2}\\}$"
      ],
      "text/plain": [
       "\\mathcal{T}_{2} = \\{u_{2}\\}"
      ]
     },
     "metadata": {},
     "output_type": "display_data"
    },
    {
     "data": {
      "text/html": [
       "<html>\\(\\displaystyle \\mathcal{T}_{3} = \\{u_{2}',u_{3}\\}\\)</html>"
      ],
      "text/latex": [
       "$\\displaystyle \\mathcal{T}_{3} = \\{u_{2}',u_{3}\\}$"
      ],
      "text/plain": [
       "\\mathcal{T}_{3} = \\{u_{2}',u_{3}\\}"
      ]
     },
     "metadata": {},
     "output_type": "display_data"
    },
    {
     "data": {
      "text/html": [
       "<html>\\(\\displaystyle \\mathcal{T}_{4} = \\{u_{2}'',u_{3}',u_{2}^2\\}\\)</html>"
      ],
      "text/latex": [
       "$\\displaystyle \\mathcal{T}_{4} = \\{u_{2}'',u_{3}',u_{2}^2\\}$"
      ],
      "text/plain": [
       "\\mathcal{T}_{4} = \\{u_{2}'',u_{3}',u_{2}^2\\}"
      ]
     },
     "metadata": {},
     "output_type": "display_data"
    },
    {
     "data": {
      "text/html": [
       "<html>\\(\\displaystyle \\mathcal{T}_{5} = \\{u_{2}''',u_{3}'',u_{2}'u_{2},u_{2}u_{3}^{(0)}\\}\\)</html>"
      ],
      "text/latex": [
       "$\\displaystyle \\mathcal{T}_{5} = \\{u_{2}''',u_{3}'',u_{2}'u_{2},u_{2}u_{3}^{(0)}\\}$"
      ],
      "text/plain": [
       "\\mathcal{T}_{5} = \\{u_{2}''',u_{3}'',u_{2}'u_{2},u_{2}u_{3}^{(0)}\\}"
      ]
     },
     "metadata": {},
     "output_type": "display_data"
    }
   ],
   "source": [
    "for i in range(6):\n",
    "    show(LatexExpr(r\"\\mathcal{T}_{\" + str(i) + r\"} = \\{\" + \",\".join(poly_to_latex(t) for t in T[i]) +  r\"\\}\"))"
   ]
  },
  {
   "cell_type": "code",
   "execution_count": 28,
   "id": "1705bb79-8d64-4f06-8460-8e17b3ba06e2",
   "metadata": {},
   "outputs": [
    {
     "name": "stdout",
     "output_type": "stream",
     "text": [
      "\\begin{itemize}\n",
      "\t\\item $\\mathcal{T}_{0} = \\{1\\}$\n",
      "\t\\item $\\mathcal{T}_{1} = \\{\\}$\n",
      "\t\\item $\\mathcal{T}_{2} = \\{u_{2}\\}$\n",
      "\t\\item $\\mathcal{T}_{3} = \\{u_{2}',u_{3}\\}$\n",
      "\t\\item $\\mathcal{T}_{4} = \\{u_{2}'',u_{3}',u_{2}^2\\}$\n",
      "\t\\item $\\mathcal{T}_{5} = \\{u_{2}''',u_{3}'',u_{2}'u_{2},u_{2}u_{3}^{(0)}\\}$\n",
      "\\end{itemize}\n"
     ]
    }
   ],
   "source": [
    "print(LatexExpr(\n",
    "    r\"\\begin{itemize}\" + \"\\n\\t\" + r\"\\item $\" + (\"\\n\\t\" + r\"\\item $\").join(\n",
    "        r\"\\mathcal{T}_{\" + str(i) + r\"} = \\{\" + \",\".join(poly_to_latex(t) for t in T[i]) +  r\"\\}$\"\n",
    "    for i in range(6)) + \"\\n\" + r\"\\end{itemize}\"))"
   ]
  },
  {
   "cell_type": "code",
   "execution_count": 29,
   "id": "eeabf9f8-b65c-4dca-8388-995262d79917",
   "metadata": {},
   "outputs": [],
   "source": [
    "## We create now the constants\n",
    "RwC = DifferentialRing(PolynomialRing(QQ, sum(([f\"c_{i}_{j}\" for j in range(len(T[i]))] for i in range(2,6)), [])))\n",
    "C = [[],[]] + [[RwC(f\"c_{i}_{j}\") for j in range(len(T[i]))] for i in range(2,6)]"
   ]
  },
  {
   "cell_type": "code",
   "execution_count": 30,
   "id": "30ce766c-cf97-4d6c-8c4f-ec04ce931301",
   "metadata": {},
   "outputs": [
    {
     "name": "stdout",
     "output_type": "stream",
     "text": [
      "\\begin{array}{rcl}\n",
      "\ty_{2} & \\rightarrow & c_{2,0}u_{2}\\\\\n",
      "\ty_{3} & \\rightarrow & c_{3,0}u_{2}' + c_{3,1}u_{3}\\\\\n",
      "\ty_{4} & \\rightarrow & c_{4,2}u_{2}^2 + c_{4,0}u_{2}'' + c_{4,1}u_{3}'\\\\\n",
      "\ty_{5} & \\rightarrow & c_{5,2}u_{2}'u_{2} + c_{5,3}u_{2}u_{3}^{(0)} + c_{5,0}u_{2}''' + c_{5,1}u_{3}''\n",
      "\\end{array}\n"
     ]
    }
   ],
   "source": [
    "y_subs = {f\"y{i}\" : sum(c*t for (c,t) in zip(C[i], T[i])) for i in range(2,6)}\n",
    "print(LatexExpr(\n",
    "    r\"\\begin{array}{rcl}\" + \"\\n\\t\" + \"\\\\\\\\\\n\\t\".join(poly_to_latex(k) + r\" & \\rightarrow & \" + poly_to_latex(v) for (k,v) in y_subs.items()) + \"\\n\" + r\"\\end{array}\"))"
   ]
  },
  {
   "cell_type": "code",
   "execution_count": 31,
   "id": "4bb3f8c7-a71f-4ed5-8281-938f5e9535d4",
   "metadata": {},
   "outputs": [],
   "source": [
    "## We compute the linear system for each $m$\n",
    "lin_systems = [sum(([RwC.wrapped(c) for c in el(**y_subs).coefficients()] for el in diff_systems[m]), []) for m in range(6)]"
   ]
  },
  {
   "cell_type": "code",
   "execution_count": 32,
   "id": "3bd4e16c-9f8a-4083-8f91-4883907366c5",
   "metadata": {},
   "outputs": [
    {
     "data": {
      "text/html": [
       "<html>\\(\\displaystyle \\left\\{\\begin{array}{rl}\n",
       "\t3c_{2,0} & = -2\n",
       "\\end{array}\\right.\\)</html>"
      ],
      "text/latex": [
       "$\\displaystyle \\left\\{\\begin{array}{rl}\n",
       "\t3c_{2,0} & = -2\n",
       "\\end{array}\\right.$"
      ],
      "text/plain": [
       "\\left\\{\\begin{array}{rl}\n",
       "\t3c_{2,0} & = -2\n",
       "\\end{array}\\right."
      ]
     },
     "execution_count": 32,
     "metadata": {},
     "output_type": "execute_result"
    }
   ],
   "source": [
    "LatexExpr(\n",
    "    r\"\\left\\{\\begin{array}{rl}\" + \"\\n\\t\" + \"\\\\\\\\\\n\\t\".join(\n",
    "        poly_to_latex(equ-equ.constant_coefficient()) + r\" & = \" + poly_to_latex(equ.constant_coefficient()) \n",
    "        for equ in lin_systems[2]) + \"\\n\" r\"\\end{array}\\right.\")"
   ]
  },
  {
   "cell_type": "code",
   "execution_count": 33,
   "id": "8d754f9e-8a32-4491-afdd-58a0a543dcdb",
   "metadata": {},
   "outputs": [
    {
     "name": "stdout",
     "output_type": "stream",
     "text": [
      "\\left\\{\\begin{array}{rl}\n",
      "\t3c_{2,0} & = -2\n",
      "\\end{array}\\right.\n"
     ]
    }
   ],
   "source": [
    "print(_)"
   ]
  },
  {
   "cell_type": "code",
   "execution_count": 34,
   "id": "1236dffb-6f3d-4443-9b9c-a30170fb81f1",
   "metadata": {},
   "outputs": [
    {
     "data": {
      "text/html": [
       "<html>\\(\\displaystyle \\left\\{\\begin{array}{rl}\n",
       "\t3c_{2,0} + 3c_{3,0} & = -3\\\\\n",
       "\t3c_{3,1} & = -3\\\\\n",
       "\t3c_{2,0} & = -3\n",
       "\\end{array}\\right.\\)</html>"
      ],
      "text/latex": [
       "$\\displaystyle \\left\\{\\begin{array}{rl}\n",
       "\t3c_{2,0} + 3c_{3,0} & = -3\\\\\n",
       "\t3c_{3,1} & = -3\\\\\n",
       "\t3c_{2,0} & = -3\n",
       "\\end{array}\\right.$"
      ],
      "text/plain": [
       "\\left\\{\\begin{array}{rl}\n",
       "\t3c_{2,0} + 3c_{3,0} & = -3\\\\\n",
       "\t3c_{3,1} & = -3\\\\\n",
       "\t3c_{2,0} & = -3\n",
       "\\end{array}\\right."
      ]
     },
     "execution_count": 34,
     "metadata": {},
     "output_type": "execute_result"
    }
   ],
   "source": [
    "LatexExpr(\n",
    "    r\"\\left\\{\\begin{array}{rl}\" + \"\\n\\t\" + \"\\\\\\\\\\n\\t\".join(\n",
    "        poly_to_latex(equ-equ.constant_coefficient()) + r\" & = \" + poly_to_latex(equ.constant_coefficient()) \n",
    "        for equ in lin_systems[3]) + \"\\n\" r\"\\end{array}\\right.\")"
   ]
  },
  {
   "cell_type": "code",
   "execution_count": 35,
   "id": "5923fbc0-d62c-4dca-a40d-ea064607dbc7",
   "metadata": {},
   "outputs": [
    {
     "name": "stdout",
     "output_type": "stream",
     "text": [
      "\\left\\{\\begin{array}{rl}\n",
      "\t3c_{2,0} + 3c_{3,0} & = -3\\\\\n",
      "\t3c_{3,1} & = -3\\\\\n",
      "\t3c_{2,0} & = -3\n",
      "\\end{array}\\right.\n"
     ]
    }
   ],
   "source": [
    "print(_)"
   ]
  },
  {
   "cell_type": "code",
   "execution_count": 36,
   "id": "afdd423d-2905-4da6-a041-edad7d6b2149",
   "metadata": {},
   "outputs": [
    {
     "data": {
      "text/html": [
       "<html>\\(\\displaystyle \\left\\{\\begin{array}{rl}\n",
       "\t-c_{2,0} + 6c_{4,2} & = 0\\\\\n",
       "\tc_{2,0} + 3c_{3,0} + 3c_{4,0} & = -4\\\\\n",
       "\t3c_{3,1} + 3c_{4,1} & = -6\\\\\n",
       "\t3c_{2,0} + 3c_{3,0} & = -6\\\\\n",
       "\t3c_{3,1} & = -4\\\\\n",
       "\t3c_{2,0} & = -4\n",
       "\\end{array}\\right.\\)</html>"
      ],
      "text/latex": [
       "$\\displaystyle \\left\\{\\begin{array}{rl}\n",
       "\t-c_{2,0} + 6c_{4,2} & = 0\\\\\n",
       "\tc_{2,0} + 3c_{3,0} + 3c_{4,0} & = -4\\\\\n",
       "\t3c_{3,1} + 3c_{4,1} & = -6\\\\\n",
       "\t3c_{2,0} + 3c_{3,0} & = -6\\\\\n",
       "\t3c_{3,1} & = -4\\\\\n",
       "\t3c_{2,0} & = -4\n",
       "\\end{array}\\right.$"
      ],
      "text/plain": [
       "\\left\\{\\begin{array}{rl}\n",
       "\t-c_{2,0} + 6c_{4,2} & = 0\\\\\n",
       "\tc_{2,0} + 3c_{3,0} + 3c_{4,0} & = -4\\\\\n",
       "\t3c_{3,1} + 3c_{4,1} & = -6\\\\\n",
       "\t3c_{2,0} + 3c_{3,0} & = -6\\\\\n",
       "\t3c_{3,1} & = -4\\\\\n",
       "\t3c_{2,0} & = -4\n",
       "\\end{array}\\right."
      ]
     },
     "execution_count": 36,
     "metadata": {},
     "output_type": "execute_result"
    }
   ],
   "source": [
    "LatexExpr(\n",
    "    r\"\\left\\{\\begin{array}{rl}\" + \"\\n\\t\" + \"\\\\\\\\\\n\\t\".join(\n",
    "        poly_to_latex(equ-equ.constant_coefficient()) + r\" & = \" + poly_to_latex(equ.constant_coefficient()) \n",
    "        for equ in lin_systems[4]) + \"\\n\" r\"\\end{array}\\right.\")"
   ]
  },
  {
   "cell_type": "code",
   "execution_count": 37,
   "id": "f2876afd-4081-47e7-8871-1cfb00724474",
   "metadata": {},
   "outputs": [
    {
     "name": "stdout",
     "output_type": "stream",
     "text": [
      "\\left\\{\\begin{array}{rl}\n",
      "\t-c_{2,0} + 6c_{4,2} & = 0\\\\\n",
      "\tc_{2,0} + 3c_{3,0} + 3c_{4,0} & = -4\\\\\n",
      "\t3c_{3,1} + 3c_{4,1} & = -6\\\\\n",
      "\t3c_{2,0} + 3c_{3,0} & = -6\\\\\n",
      "\t3c_{3,1} & = -4\\\\\n",
      "\t3c_{2,0} & = -4\n",
      "\\end{array}\\right.\n"
     ]
    }
   ],
   "source": [
    "print(_)"
   ]
  },
  {
   "cell_type": "code",
   "execution_count": 38,
   "id": "5dd68e97-affc-4b72-b6ae-e8a2bd51d487",
   "metadata": {},
   "outputs": [
    {
     "data": {
      "text/html": [
       "<html>\\(\\displaystyle \\left\\{\\begin{array}{rl}\n",
       "\t-3c_{2,0} + c_{3,0} + 6c_{4,2} + 3c_{5,2} & = 0\\\\\n",
       "\t-2c_{3,0} + 6c_{4,2} + 3c_{5,2} & = 0\\\\\n",
       "\t-2c_{3,1} + 3c_{5,3} & = 0\\\\\n",
       "\t-3c_{2,0} + c_{3,1} + 3c_{5,3} & = 0\\\\\n",
       "\tc_{3,0} + 3c_{4,0} + 3c_{5,0} & = -5\\\\\n",
       "\tc_{3,1} + 3c_{4,1} + 3c_{5,1} & = -10\\\\\n",
       "\t-2c_{2,0} + 6c_{4,2} & = 0\\\\\n",
       "\tc_{2,0} + 3c_{3,0} + 3c_{4,0} & = -10\\\\\n",
       "\t3c_{3,1} + 3c_{4,1} & = -10\\\\\n",
       "\t3c_{2,0} + 3c_{3,0} & = -10\\\\\n",
       "\t3c_{3,1} & = -5\\\\\n",
       "\t3c_{2,0} & = -5\n",
       "\\end{array}\\right.\\)</html>"
      ],
      "text/latex": [
       "$\\displaystyle \\left\\{\\begin{array}{rl}\n",
       "\t-3c_{2,0} + c_{3,0} + 6c_{4,2} + 3c_{5,2} & = 0\\\\\n",
       "\t-2c_{3,0} + 6c_{4,2} + 3c_{5,2} & = 0\\\\\n",
       "\t-2c_{3,1} + 3c_{5,3} & = 0\\\\\n",
       "\t-3c_{2,0} + c_{3,1} + 3c_{5,3} & = 0\\\\\n",
       "\tc_{3,0} + 3c_{4,0} + 3c_{5,0} & = -5\\\\\n",
       "\tc_{3,1} + 3c_{4,1} + 3c_{5,1} & = -10\\\\\n",
       "\t-2c_{2,0} + 6c_{4,2} & = 0\\\\\n",
       "\tc_{2,0} + 3c_{3,0} + 3c_{4,0} & = -10\\\\\n",
       "\t3c_{3,1} + 3c_{4,1} & = -10\\\\\n",
       "\t3c_{2,0} + 3c_{3,0} & = -10\\\\\n",
       "\t3c_{3,1} & = -5\\\\\n",
       "\t3c_{2,0} & = -5\n",
       "\\end{array}\\right.$"
      ],
      "text/plain": [
       "\\left\\{\\begin{array}{rl}\n",
       "\t-3c_{2,0} + c_{3,0} + 6c_{4,2} + 3c_{5,2} & = 0\\\\\n",
       "\t-2c_{3,0} + 6c_{4,2} + 3c_{5,2} & = 0\\\\\n",
       "\t-2c_{3,1} + 3c_{5,3} & = 0\\\\\n",
       "\t-3c_{2,0} + c_{3,1} + 3c_{5,3} & = 0\\\\\n",
       "\tc_{3,0} + 3c_{4,0} + 3c_{5,0} & = -5\\\\\n",
       "\tc_{3,1} + 3c_{4,1} + 3c_{5,1} & = -10\\\\\n",
       "\t-2c_{2,0} + 6c_{4,2} & = 0\\\\\n",
       "\tc_{2,0} + 3c_{3,0} + 3c_{4,0} & = -10\\\\\n",
       "\t3c_{3,1} + 3c_{4,1} & = -10\\\\\n",
       "\t3c_{2,0} + 3c_{3,0} & = -10\\\\\n",
       "\t3c_{3,1} & = -5\\\\\n",
       "\t3c_{2,0} & = -5\n",
       "\\end{array}\\right."
      ]
     },
     "execution_count": 38,
     "metadata": {},
     "output_type": "execute_result"
    }
   ],
   "source": [
    "LatexExpr(\n",
    "    r\"\\left\\{\\begin{array}{rl}\" + \"\\n\\t\" + \"\\\\\\\\\\n\\t\".join(\n",
    "        poly_to_latex(equ-equ.constant_coefficient()) + r\" & = \" + poly_to_latex(equ.constant_coefficient()) \n",
    "        for equ in lin_systems[5]) + \"\\n\" r\"\\end{array}\\right.\")"
   ]
  },
  {
   "cell_type": "code",
   "execution_count": 39,
   "id": "d5cc06f0-7e0f-4019-8d25-68e5e3ec12c0",
   "metadata": {},
   "outputs": [
    {
     "name": "stdout",
     "output_type": "stream",
     "text": [
      "\\left\\{\\begin{array}{rl}\n",
      "\t-3c_{2,0} + c_{3,0} + 6c_{4,2} + 3c_{5,2} & = 0\\\\\n",
      "\t-2c_{3,0} + 6c_{4,2} + 3c_{5,2} & = 0\\\\\n",
      "\t-2c_{3,1} + 3c_{5,3} & = 0\\\\\n",
      "\t-3c_{2,0} + c_{3,1} + 3c_{5,3} & = 0\\\\\n",
      "\tc_{3,0} + 3c_{4,0} + 3c_{5,0} & = -5\\\\\n",
      "\tc_{3,1} + 3c_{4,1} + 3c_{5,1} & = -10\\\\\n",
      "\t-2c_{2,0} + 6c_{4,2} & = 0\\\\\n",
      "\tc_{2,0} + 3c_{3,0} + 3c_{4,0} & = -10\\\\\n",
      "\t3c_{3,1} + 3c_{4,1} & = -10\\\\\n",
      "\t3c_{2,0} + 3c_{3,0} & = -10\\\\\n",
      "\t3c_{3,1} & = -5\\\\\n",
      "\t3c_{2,0} & = -5\n",
      "\\end{array}\\right.\n"
     ]
    }
   ],
   "source": [
    "print(_)"
   ]
  },
  {
   "cell_type": "code",
   "execution_count": 40,
   "id": "ede7fb0b-a611-4899-90a2-b95050f45ade",
   "metadata": {},
   "outputs": [],
   "source": [
    "solutions = [ideal(system).groebner_basis() if len(system) > 0 else [] for system in lin_systems]"
   ]
  },
  {
   "cell_type": "code",
   "execution_count": 41,
   "id": "9e260ddd-ee77-4b28-b354-ad1451b856ba",
   "metadata": {},
   "outputs": [
    {
     "data": {
      "text/html": [
       "<html>\\(\\displaystyle 0 \\qquad\\longrightarrow\\qquad \\left[\\right]\\)</html>"
      ],
      "text/latex": [
       "$\\displaystyle 0 \\qquad\\longrightarrow\\qquad \\left[\\right]$"
      ],
      "text/plain": [
       "0 \\qquad\\longrightarrow\\qquad []"
      ]
     },
     "metadata": {},
     "output_type": "display_data"
    },
    {
     "data": {
      "text/html": [
       "<html>\\(\\displaystyle 1 \\qquad\\longrightarrow\\qquad \\left[\\right]\\)</html>"
      ],
      "text/latex": [
       "$\\displaystyle 1 \\qquad\\longrightarrow\\qquad \\left[\\right]$"
      ],
      "text/plain": [
       "1 \\qquad\\longrightarrow\\qquad []"
      ]
     },
     "metadata": {},
     "output_type": "display_data"
    },
    {
     "data": {
      "text/html": [
       "<html>\\(\\displaystyle 2 \\qquad\\longrightarrow\\qquad \\left[c_{2,0} - \\frac{2}{3}\\right]\\)</html>"
      ],
      "text/latex": [
       "$\\displaystyle 2 \\qquad\\longrightarrow\\qquad \\left[c_{2,0} - \\frac{2}{3}\\right]$"
      ],
      "text/plain": [
       "2 \\qquad\\longrightarrow\\qquad [c_{2,0} - \\frac{2}{3}]"
      ]
     },
     "metadata": {},
     "output_type": "display_data"
    },
    {
     "data": {
      "text/html": [
       "<html>\\(\\displaystyle 3 \\qquad\\longrightarrow\\qquad \\left[c_{2,0} - 1, c_{3,0}, c_{3,1} - 1\\right]\\)</html>"
      ],
      "text/latex": [
       "$\\displaystyle 3 \\qquad\\longrightarrow\\qquad \\left[c_{2,0} - 1, c_{3,0}, c_{3,1} - 1\\right]$"
      ],
      "text/plain": [
       "3 \\qquad\\longrightarrow\\qquad [c_{2,0} - 1, c_{3,0}, c_{3,1} - 1]"
      ]
     },
     "metadata": {},
     "output_type": "display_data"
    },
    {
     "data": {
      "text/html": [
       "<html>\\(\\displaystyle 4 \\qquad\\longrightarrow\\qquad \\left[c_{2,0} - \\frac{4}{3}, c_{3,0} - \\frac{2}{3}, c_{3,1} - \\frac{4}{3}, c_{4,0} - \\frac{2}{9}, c_{4,1} - \\frac{2}{3}, c_{4,2} - \\frac{2}{9}\\right]\\)</html>"
      ],
      "text/latex": [
       "$\\displaystyle 4 \\qquad\\longrightarrow\\qquad \\left[c_{2,0} - \\frac{4}{3}, c_{3,0} - \\frac{2}{3}, c_{3,1} - \\frac{4}{3}, c_{4,0} - \\frac{2}{9}, c_{4,1} - \\frac{2}{3}, c_{4,2} - \\frac{2}{9}\\right]$"
      ],
      "text/plain": [
       "4 \\qquad\\longrightarrow\\qquad [c_{2,0} - \\frac{4}{3},\n",
       " c_{3,0} - \\frac{2}{3},\n",
       " c_{3,1} - \\frac{4}{3},\n",
       " c_{4,0} - \\frac{2}{9},\n",
       " c_{4,1} - \\frac{2}{3},\n",
       " c_{4,2} - \\frac{2}{9}]"
      ]
     },
     "metadata": {},
     "output_type": "display_data"
    },
    {
     "data": {
      "text/html": [
       "<html>\\(\\displaystyle 5 \\qquad\\longrightarrow\\qquad \\left[c_{2,0} - \\frac{5}{3}, c_{3,0} - \\frac{5}{3}, c_{3,1} - \\frac{5}{3}, c_{4,0} - \\frac{10}{9}, c_{4,1} - \\frac{5}{3}, c_{4,2} - \\frac{5}{9}, c_{5,0}, c_{5,1} - \\frac{10}{9}, c_{5,2}, c_{5,3} - \\frac{10}{9}\\right]\\)</html>"
      ],
      "text/latex": [
       "$\\displaystyle 5 \\qquad\\longrightarrow\\qquad \\left[c_{2,0} - \\frac{5}{3}, c_{3,0} - \\frac{5}{3}, c_{3,1} - \\frac{5}{3}, c_{4,0} - \\frac{10}{9}, c_{4,1} - \\frac{5}{3}, c_{4,2} - \\frac{5}{9}, c_{5,0}, c_{5,1} - \\frac{10}{9}, c_{5,2}, c_{5,3} - \\frac{10}{9}\\right]$"
      ],
      "text/plain": [
       "5 \\qquad\\longrightarrow\\qquad [c_{2,0} - \\frac{5}{3},\n",
       " c_{3,0} - \\frac{5}{3},\n",
       " c_{3,1} - \\frac{5}{3},\n",
       " c_{4,0} - \\frac{10}{9},\n",
       " c_{4,1} - \\frac{5}{3},\n",
       " c_{4,2} - \\frac{5}{9},\n",
       " c_{5,0},\n",
       " c_{5,1} - \\frac{10}{9},\n",
       " c_{5,2},\n",
       " c_{5,3} - \\frac{10}{9}]"
      ]
     },
     "metadata": {},
     "output_type": "display_data"
    }
   ],
   "source": [
    "for i in range(len(solutions)):\n",
    "    show(i, LatexExpr(r\"\\qquad\\longrightarrow\\qquad\"), [LatexExpr(poly_to_latex(sol)) for sol in solutions[i]])"
   ]
  },
  {
   "cell_type": "markdown",
   "id": "c1d205be-3997-41a7-993c-9adea935e7d1",
   "metadata": {
    "jp-MarkdownHeadingCollapsed": true,
    "tags": []
   },
   "source": [
    "#### **3. Computing the hierarchy equations**"
   ]
  },
  {
   "cell_type": "code",
   "execution_count": 42,
   "id": "20a224ff-b6a8-4195-8648-4b102ad3c8aa",
   "metadata": {},
   "outputs": [],
   "source": [
    "y_subs_true = [dict(),dict()] + [{f\"y{i}\" : sum(QQ(RwC.wrapped(c).reduce(solutions[m]))*t for (c,t) in zip(C[i], T[i])) for i in range(2,m+1)} for m in range(2,6)]"
   ]
  },
  {
   "cell_type": "code",
   "execution_count": 43,
   "id": "c8f7e205-8aca-4d63-81a2-4ad6eb48604d",
   "metadata": {},
   "outputs": [],
   "source": [
    "H = [[lie_brackets[m].coefficient(z[i])(**y_subs_true[m]) for i in range(L.order(z)-1)] for m in range(6)]"
   ]
  },
  {
   "cell_type": "markdown",
   "id": "ed2d039b-4adf-429b-a22a-d04c2830b588",
   "metadata": {},
   "source": [
    "##### m = 0"
   ]
  },
  {
   "cell_type": "code",
   "execution_count": 44,
   "id": "b7983136-070d-4ddf-bdf5-18497519e9f5",
   "metadata": {},
   "outputs": [
    {
     "data": {
      "text/html": [
       "<html>\\(\\displaystyle \\left\\{\\begin{array}{rl}\n",
       "\tH_{0,0}(u_2,u_3) = & 0\\\\\n",
       "\tH_{0,1}(u_2,u_3) = & 0\n",
       "\\end{array}\\right.\\)</html>"
      ],
      "text/latex": [
       "$\\displaystyle \\left\\{\\begin{array}{rl}\n",
       "\tH_{0,0}(u_2,u_3) = & 0\\\\\n",
       "\tH_{0,1}(u_2,u_3) = & 0\n",
       "\\end{array}\\right.$"
      ],
      "text/plain": [
       "\\left\\{\\begin{array}{rl}\n",
       "\tH_{0,0}(u_2,u_3) = & 0\\\\\n",
       "\tH_{0,1}(u_2,u_3) = & 0\n",
       "\\end{array}\\right."
      ]
     },
     "execution_count": 44,
     "metadata": {},
     "output_type": "execute_result"
    }
   ],
   "source": [
    "m = 0\n",
    "LatexExpr(r\"\\left\\{\\begin{array}{rl}\" + \"\\n\\t\" + \"\\\\\\\\\\n\\t\".join(f\"H_\\u007b{m},{i}\\u007d(u_2,u_3) = & \" + poly_to_latex(H[m][i]) for i in range(L.order(z)-1)) + \"\\n\" + r\"\\end{array}\\right.\")"
   ]
  },
  {
   "cell_type": "code",
   "execution_count": 45,
   "id": "4c7ce5d4-ea07-459d-ba76-778a118a6c6d",
   "metadata": {},
   "outputs": [
    {
     "name": "stdout",
     "output_type": "stream",
     "text": [
      "\\left\\{\\begin{array}{rl}\n",
      "\tH_{0,0}(u_2,u_3) = & 0\\\\\n",
      "\tH_{0,1}(u_2,u_3) = & 0\n",
      "\\end{array}\\right.\n"
     ]
    }
   ],
   "source": [
    "print(_)"
   ]
  },
  {
   "cell_type": "markdown",
   "id": "5c85ab7e-54c1-4917-8aad-7b816e771f22",
   "metadata": {},
   "source": [
    "##### m = 1"
   ]
  },
  {
   "cell_type": "code",
   "execution_count": 46,
   "id": "46cb029c-6a90-4065-a020-3c9ba58955a1",
   "metadata": {},
   "outputs": [
    {
     "data": {
      "text/html": [
       "<html>\\(\\displaystyle \\left\\{\\begin{array}{rl}\n",
       "\tH_{1,0}(u_2,u_3) = & -u_{3}'\\\\\n",
       "\tH_{1,1}(u_2,u_3) = & -u_{2}'\n",
       "\\end{array}\\right.\\)</html>"
      ],
      "text/latex": [
       "$\\displaystyle \\left\\{\\begin{array}{rl}\n",
       "\tH_{1,0}(u_2,u_3) = & -u_{3}'\\\\\n",
       "\tH_{1,1}(u_2,u_3) = & -u_{2}'\n",
       "\\end{array}\\right.$"
      ],
      "text/plain": [
       "\\left\\{\\begin{array}{rl}\n",
       "\tH_{1,0}(u_2,u_3) = & -u_{3}'\\\\\n",
       "\tH_{1,1}(u_2,u_3) = & -u_{2}'\n",
       "\\end{array}\\right."
      ]
     },
     "execution_count": 46,
     "metadata": {},
     "output_type": "execute_result"
    }
   ],
   "source": [
    "m=1\n",
    "LatexExpr(r\"\\left\\{\\begin{array}{rl}\" + \"\\n\\t\" + \"\\\\\\\\\\n\\t\".join(f\"H_\\u007b{m},{i}\\u007d(u_2,u_3) = & \" + poly_to_latex(H[m][i]) for i in range(L.order(z)-1)) + \"\\n\" + r\"\\end{array}\\right.\")"
   ]
  },
  {
   "cell_type": "code",
   "execution_count": 47,
   "id": "67348ff2-d932-4517-b088-8687e60ac88f",
   "metadata": {},
   "outputs": [
    {
     "name": "stdout",
     "output_type": "stream",
     "text": [
      "\\left\\{\\begin{array}{rl}\n",
      "\tH_{1,0}(u_2,u_3) = & -u_{3}'\\\\\n",
      "\tH_{1,1}(u_2,u_3) = & -u_{2}'\n",
      "\\end{array}\\right.\n"
     ]
    }
   ],
   "source": [
    "print(_)"
   ]
  },
  {
   "cell_type": "markdown",
   "id": "047f1dae-ed38-4328-a49e-492fae2584ac",
   "metadata": {},
   "source": [
    "##### m = 2"
   ]
  },
  {
   "cell_type": "code",
   "execution_count": 48,
   "id": "6742bfac-e2eb-44a6-865c-b7a01958aa0a",
   "metadata": {},
   "outputs": [
    {
     "data": {
      "text/html": [
       "<html>\\(\\displaystyle \\left\\{\\begin{array}{rl}\n",
       "\tH_{2,0}(u_2,u_3) = & \\frac{2}{3}u_{2}'u_{2} + \\frac{2}{3}u_{2}''' - u_{3}''\\\\\n",
       "\tH_{2,1}(u_2,u_3) = & u_{2}'' - 2u_{3}'\n",
       "\\end{array}\\right.\\)</html>"
      ],
      "text/latex": [
       "$\\displaystyle \\left\\{\\begin{array}{rl}\n",
       "\tH_{2,0}(u_2,u_3) = & \\frac{2}{3}u_{2}'u_{2} + \\frac{2}{3}u_{2}''' - u_{3}''\\\\\n",
       "\tH_{2,1}(u_2,u_3) = & u_{2}'' - 2u_{3}'\n",
       "\\end{array}\\right.$"
      ],
      "text/plain": [
       "\\left\\{\\begin{array}{rl}\n",
       "\tH_{2,0}(u_2,u_3) = & \\frac{2}{3}u_{2}'u_{2} + \\frac{2}{3}u_{2}''' - u_{3}''\\\\\n",
       "\tH_{2,1}(u_2,u_3) = & u_{2}'' - 2u_{3}'\n",
       "\\end{array}\\right."
      ]
     },
     "execution_count": 48,
     "metadata": {},
     "output_type": "execute_result"
    }
   ],
   "source": [
    "m=2\n",
    "LatexExpr(r\"\\left\\{\\begin{array}{rl}\" + \"\\n\\t\" + \"\\\\\\\\\\n\\t\".join(f\"H_\\u007b{m},{i}\\u007d(u_2,u_3) = & \" + poly_to_latex(H[m][i]) for i in range(L.order(z)-1)) + \"\\n\" + r\"\\end{array}\\right.\")"
   ]
  },
  {
   "cell_type": "code",
   "execution_count": 49,
   "id": "f3aef7d4-3992-4055-abd0-b984ce36972e",
   "metadata": {},
   "outputs": [
    {
     "name": "stdout",
     "output_type": "stream",
     "text": [
      "\\left\\{\\begin{array}{rl}\n",
      "\tH_{2,0}(u_2,u_3) = & \\frac{2}{3}u_{2}'u_{2} + \\frac{2}{3}u_{2}''' - u_{3}''\\\\\n",
      "\tH_{2,1}(u_2,u_3) = & u_{2}'' - 2u_{3}'\n",
      "\\end{array}\\right.\n"
     ]
    }
   ],
   "source": [
    "print(_)"
   ]
  },
  {
   "cell_type": "markdown",
   "id": "c15ada39-0346-4112-86e7-3a9bebc7b18a",
   "metadata": {},
   "source": [
    "##### m = 3"
   ]
  },
  {
   "cell_type": "code",
   "execution_count": 50,
   "id": "84cb900d-830b-4d59-a10e-8b55b5f1509b",
   "metadata": {},
   "outputs": [
    {
     "data": {
      "text/html": [
       "<html>\\(\\displaystyle \\left\\{\\begin{array}{rl}\n",
       "\tH_{3,0}(u_2,u_3) = & 0\\\\\n",
       "\tH_{3,1}(u_2,u_3) = & 0\n",
       "\\end{array}\\right.\\)</html>"
      ],
      "text/latex": [
       "$\\displaystyle \\left\\{\\begin{array}{rl}\n",
       "\tH_{3,0}(u_2,u_3) = & 0\\\\\n",
       "\tH_{3,1}(u_2,u_3) = & 0\n",
       "\\end{array}\\right.$"
      ],
      "text/plain": [
       "\\left\\{\\begin{array}{rl}\n",
       "\tH_{3,0}(u_2,u_3) = & 0\\\\\n",
       "\tH_{3,1}(u_2,u_3) = & 0\n",
       "\\end{array}\\right."
      ]
     },
     "execution_count": 50,
     "metadata": {},
     "output_type": "execute_result"
    }
   ],
   "source": [
    "m=3\n",
    "LatexExpr(r\"\\left\\{\\begin{array}{rl}\" + \"\\n\\t\" + \"\\\\\\\\\\n\\t\".join(f\"H_\\u007b{m},{i}\\u007d(u_2,u_3) = & \" + poly_to_latex(H[m][i]) for i in range(L.order(z)-1)) + \"\\n\" + r\"\\end{array}\\right.\")"
   ]
  },
  {
   "cell_type": "code",
   "execution_count": 51,
   "id": "37cc3ead-e7fe-4e86-b166-0efa77f9f78a",
   "metadata": {},
   "outputs": [
    {
     "name": "stdout",
     "output_type": "stream",
     "text": [
      "\\left\\{\\begin{array}{rl}\n",
      "\tH_{3,0}(u_2,u_3) = & 0\\\\\n",
      "\tH_{3,1}(u_2,u_3) = & 0\n",
      "\\end{array}\\right.\n"
     ]
    }
   ],
   "source": [
    "print(_)"
   ]
  },
  {
   "cell_type": "markdown",
   "id": "8af3c9df-95ca-4104-9b32-9f78e595c899",
   "metadata": {},
   "source": [
    "##### m = 4"
   ]
  },
  {
   "cell_type": "code",
   "execution_count": 52,
   "id": "8ef99c03-ffa7-4d75-934e-f81464e76cc2",
   "metadata": {},
   "outputs": [
    {
     "data": {
      "text/html": [
       "<html>\\(\\displaystyle \\left\\{\\begin{array}{rl}\n",
       "\tH_{4,0}(u_2,u_3) = & \\frac{4}{9}u_{2}'u_{2}^2 + \\frac{2}{3}u_{2}'''u_{2} + \\frac{4}{3}u_{2}''u_{2}' - 3u_{2}'u_{3}^{(1)} - 3u_{2}u_{3}'' - 3u_{3}'u_{3} + \\frac{2}{9}u_{2}^{(5)} - 3u_{3}^{(4)}\\\\\n",
       "\tH_{4,1}(u_2,u_3) = & \\frac{2}{3}u_{2}''u_{2} + \\frac{2}{3}u_{2}'^2 - 3u_{2}'u_{3} - 3u_{2}u_{3}' + \\frac{1}{3}u_{2}^{(4)} - 3u_{3}'''\n",
       "\\end{array}\\right.\\)</html>"
      ],
      "text/latex": [
       "$\\displaystyle \\left\\{\\begin{array}{rl}\n",
       "\tH_{4,0}(u_2,u_3) = & \\frac{4}{9}u_{2}'u_{2}^2 + \\frac{2}{3}u_{2}'''u_{2} + \\frac{4}{3}u_{2}''u_{2}' - 3u_{2}'u_{3}^{(1)} - 3u_{2}u_{3}'' - 3u_{3}'u_{3} + \\frac{2}{9}u_{2}^{(5)} - 3u_{3}^{(4)}\\\\\n",
       "\tH_{4,1}(u_2,u_3) = & \\frac{2}{3}u_{2}''u_{2} + \\frac{2}{3}u_{2}'^2 - 3u_{2}'u_{3} - 3u_{2}u_{3}' + \\frac{1}{3}u_{2}^{(4)} - 3u_{3}'''\n",
       "\\end{array}\\right.$"
      ],
      "text/plain": [
       "\\left\\{\\begin{array}{rl}\n",
       "\tH_{4,0}(u_2,u_3) = & \\frac{4}{9}u_{2}'u_{2}^2 + \\frac{2}{3}u_{2}'''u_{2} + \\frac{4}{3}u_{2}''u_{2}' - 3u_{2}'u_{3}^{(1)} - 3u_{2}u_{3}'' - 3u_{3}'u_{3} + \\frac{2}{9}u_{2}^{(5)} - 3u_{3}^{(4)}\\\\\n",
       "\tH_{4,1}(u_2,u_3) = & \\frac{2}{3}u_{2}''u_{2} + \\frac{2}{3}u_{2}'^2 - 3u_{2}'u_{3} - 3u_{2}u_{3}' + \\frac{1}{3}u_{2}^{(4)} - 3u_{3}'''\n",
       "\\end{array}\\right."
      ]
     },
     "execution_count": 52,
     "metadata": {},
     "output_type": "execute_result"
    }
   ],
   "source": [
    "m=4\n",
    "LatexExpr(r\"\\left\\{\\begin{array}{rl}\" + \"\\n\\t\" + \"\\\\\\\\\\n\\t\".join(f\"H_\\u007b{m},{i}\\u007d(u_2,u_3) = & \" + poly_to_latex(H[m][i]) for i in range(L.order(z)-1)) + \"\\n\" + r\"\\end{array}\\right.\")"
   ]
  },
  {
   "cell_type": "code",
   "execution_count": 53,
   "id": "86a03f93-ef16-4e10-88db-b4ddd2d6a563",
   "metadata": {},
   "outputs": [
    {
     "name": "stdout",
     "output_type": "stream",
     "text": [
      "\\left\\{\\begin{array}{rl}\n",
      "\tH_{4,0}(u_2,u_3) = & \\frac{4}{9}u_{2}'u_{2}^2 + \\frac{2}{3}u_{2}'''u_{2} + \\frac{4}{3}u_{2}''u_{2}' - 3u_{2}'u_{3}^{(1)} - 3u_{2}u_{3}'' - 3u_{3}'u_{3} + \\frac{2}{9}u_{2}^{(5)} - 3u_{3}^{(4)}\\\\\n",
      "\tH_{4,1}(u_2,u_3) = & \\frac{2}{3}u_{2}''u_{2} + \\frac{2}{3}u_{2}'^2 - 3u_{2}'u_{3} - 3u_{2}u_{3}' + \\frac{1}{3}u_{2}^{(4)} - 3u_{3}'''\n",
      "\\end{array}\\right.\n"
     ]
    }
   ],
   "source": [
    "print(_)"
   ]
  },
  {
   "cell_type": "markdown",
   "id": "25be262d-2cb3-4f88-a10d-efadf88d3c34",
   "metadata": {},
   "source": [
    "##### m = 5"
   ]
  },
  {
   "cell_type": "code",
   "execution_count": 54,
   "id": "cc2bf68a-1a65-4dd8-8381-e303e05688ba",
   "metadata": {},
   "outputs": [
    {
     "data": {
      "text/html": [
       "<html>\\(\\displaystyle \\left\\{\\begin{array}{rl}\n",
       "\tH_{5,0}(u_2,u_3) = & \\frac{10}{9}u_{2}'u_{2}u_{3}^{(0)} + \\frac{5}{9}u_{2}^2u_{3}' + \\frac{10}{9}u_{2}'''u_{3} + \\frac{20}{9}u_{2}''u_{3}' + \\frac{5}{3}u_{2}'u_{3}'' + \\frac{5}{9}u_{2}u_{3}''' - 3u_{3}''u_{3} - 3u_{3}'^2 + \\frac{1}{9}u_{3}^{(5)}\\\\\n",
       "\tH_{5,1}(u_2,u_3) = & \\frac{5}{9}u_{2}'u_{2}^2 + \\frac{5}{9}u_{2}'''u_{2} + \\frac{5}{9}u_{2}''u_{2}' + \\frac{5}{3}u_{2}''u_{3} + \\frac{5}{3}u_{2}'u_{3}^{(1)} - 3u_{3}'u_{3} + \\frac{1}{9}u_{2}^{(5)}\n",
       "\\end{array}\\right.\\)</html>"
      ],
      "text/latex": [
       "$\\displaystyle \\left\\{\\begin{array}{rl}\n",
       "\tH_{5,0}(u_2,u_3) = & \\frac{10}{9}u_{2}'u_{2}u_{3}^{(0)} + \\frac{5}{9}u_{2}^2u_{3}' + \\frac{10}{9}u_{2}'''u_{3} + \\frac{20}{9}u_{2}''u_{3}' + \\frac{5}{3}u_{2}'u_{3}'' + \\frac{5}{9}u_{2}u_{3}''' - 3u_{3}''u_{3} - 3u_{3}'^2 + \\frac{1}{9}u_{3}^{(5)}\\\\\n",
       "\tH_{5,1}(u_2,u_3) = & \\frac{5}{9}u_{2}'u_{2}^2 + \\frac{5}{9}u_{2}'''u_{2} + \\frac{5}{9}u_{2}''u_{2}' + \\frac{5}{3}u_{2}''u_{3} + \\frac{5}{3}u_{2}'u_{3}^{(1)} - 3u_{3}'u_{3} + \\frac{1}{9}u_{2}^{(5)}\n",
       "\\end{array}\\right.$"
      ],
      "text/plain": [
       "\\left\\{\\begin{array}{rl}\n",
       "\tH_{5,0}(u_2,u_3) = & \\frac{10}{9}u_{2}'u_{2}u_{3}^{(0)} + \\frac{5}{9}u_{2}^2u_{3}' + \\frac{10}{9}u_{2}'''u_{3} + \\frac{20}{9}u_{2}''u_{3}' + \\frac{5}{3}u_{2}'u_{3}'' + \\frac{5}{9}u_{2}u_{3}''' - 3u_{3}''u_{3} - 3u_{3}'^2 + \\frac{1}{9}u_{3}^{(5)}\\\\\n",
       "\tH_{5,1}(u_2,u_3) = & \\frac{5}{9}u_{2}'u_{2}^2 + \\frac{5}{9}u_{2}'''u_{2} + \\frac{5}{9}u_{2}''u_{2}' + \\frac{5}{3}u_{2}''u_{3} + \\frac{5}{3}u_{2}'u_{3}^{(1)} - 3u_{3}'u_{3} + \\frac{1}{9}u_{2}^{(5)}\n",
       "\\end{array}\\right."
      ]
     },
     "execution_count": 54,
     "metadata": {},
     "output_type": "execute_result"
    }
   ],
   "source": [
    "m=5\n",
    "LatexExpr(r\"\\left\\{\\begin{array}{rl}\" + \"\\n\\t\" + \"\\\\\\\\\\n\\t\".join(f\"H_\\u007b{m},{i}\\u007d(u_2,u_3) = & \" + poly_to_latex(H[m][i]) for i in range(L.order(z)-1)) + \"\\n\" + r\"\\end{array}\\right.\")"
   ]
  },
  {
   "cell_type": "code",
   "execution_count": 55,
   "id": "0b03c67f-c771-4ca6-8682-c37fc48a16d6",
   "metadata": {},
   "outputs": [
    {
     "name": "stdout",
     "output_type": "stream",
     "text": [
      "\\left\\{\\begin{array}{rl}\n",
      "\tH_{5,0}(u_2,u_3) = & \\frac{10}{9}u_{2}'u_{2}u_{3}^{(0)} + \\frac{5}{9}u_{2}^2u_{3}' + \\frac{10}{9}u_{2}'''u_{3} + \\frac{20}{9}u_{2}''u_{3}' + \\frac{5}{3}u_{2}'u_{3}'' + \\frac{5}{9}u_{2}u_{3}''' - 3u_{3}''u_{3} - 3u_{3}'^2 + \\frac{1}{9}u_{3}^{(5)}\\\\\n",
      "\tH_{5,1}(u_2,u_3) = & \\frac{5}{9}u_{2}'u_{2}^2 + \\frac{5}{9}u_{2}'''u_{2} + \\frac{5}{9}u_{2}''u_{2}' + \\frac{5}{3}u_{2}''u_{3} + \\frac{5}{3}u_{2}'u_{3}^{(1)} - 3u_{3}'u_{3} + \\frac{1}{9}u_{2}^{(5)}\n",
      "\\end{array}\\right.\n"
     ]
    }
   ],
   "source": [
    "print(_)"
   ]
  },
  {
   "cell_type": "markdown",
   "id": "aaa9b67e-e2d0-4b07-af05-5ddf1d9c17fb",
   "metadata": {
    "tags": []
   },
   "source": [
    "## Case of order 5"
   ]
  },
  {
   "cell_type": "code",
   "execution_count": 56,
   "id": "e09c07a9-4735-4426-96d8-20dd0f2c0ae4",
   "metadata": {},
   "outputs": [
    {
     "data": {
      "text/html": [
       "<html>\\(\\displaystyle u_{2}\\partial^{3} + u_{3}\\partial^{2} + u_{4}\\partial^{1} + u_{5}\\partial^{0} + \\partial^{5}\\)</html>"
      ],
      "text/latex": [
       "$\\displaystyle u_{2}\\partial^{3} + u_{3}\\partial^{2} + u_{4}\\partial^{1} + u_{5}\\partial^{0} + \\partial^{5}$"
      ],
      "text/plain": [
       "u_{2}\\partial^{3} + u_{3}\\partial^{2} + u_{4}\\partial^{1} + u_{5}\\partial^{0} + \\partial^{5}"
      ]
     },
     "execution_count": 56,
     "metadata": {},
     "output_type": "execute_result"
    }
   ],
   "source": [
    "## Setting up the framework to work\n",
    "R.<u2,u3,u4,u5,y2,y3,y4,y5,y6,z> = DifferentialPolynomialRing(QQ)\n",
    "u = (1, 0, u2, u3, u4, u5)\n",
    "y = (1, 0, y2, y3, y4, y5, y6)\n",
    "L = sum(z[i]*u[5-i] for i in range(6))\n",
    "## Showing L\n",
    "LatexExpr(poly_to_latex(L))"
   ]
  },
  {
   "cell_type": "code",
   "execution_count": 57,
   "id": "02e9e906-ec4f-4a96-a886-c9c3034effa3",
   "metadata": {},
   "outputs": [
    {
     "data": {
      "text/html": [
       "<html>\\(\\displaystyle \\tilde{P}_{0}(U,Y) \\longrightarrow 1\\)</html>"
      ],
      "text/latex": [
       "$\\displaystyle \\tilde{P}_{0}(U,Y) \\longrightarrow 1$"
      ],
      "text/plain": [
       "\\tilde{P}_{0}(U,Y) \\longrightarrow 1"
      ]
     },
     "metadata": {},
     "output_type": "display_data"
    },
    {
     "data": {
      "text/html": [
       "<html>\\(\\displaystyle \\tilde{P}_{1}(U,Y) \\longrightarrow \\partial^{1}\\)</html>"
      ],
      "text/latex": [
       "$\\displaystyle \\tilde{P}_{1}(U,Y) \\longrightarrow \\partial^{1}$"
      ],
      "text/plain": [
       "\\tilde{P}_{1}(U,Y) \\longrightarrow \\partial^{1}"
      ]
     },
     "metadata": {},
     "output_type": "display_data"
    },
    {
     "data": {
      "text/html": [
       "<html>\\(\\displaystyle \\tilde{P}_{2}(U,Y) \\longrightarrow y_{2}\\partial^{0} + \\partial^{2}\\)</html>"
      ],
      "text/latex": [
       "$\\displaystyle \\tilde{P}_{2}(U,Y) \\longrightarrow y_{2}\\partial^{0} + \\partial^{2}$"
      ],
      "text/plain": [
       "\\tilde{P}_{2}(U,Y) \\longrightarrow y_{2}\\partial^{0} + \\partial^{2}"
      ]
     },
     "metadata": {},
     "output_type": "display_data"
    },
    {
     "data": {
      "text/html": [
       "<html>\\(\\displaystyle \\tilde{P}_{3}(U,Y) \\longrightarrow y_{2}\\partial^{1} + y_{3}\\partial^{0} + \\partial^{3}\\)</html>"
      ],
      "text/latex": [
       "$\\displaystyle \\tilde{P}_{3}(U,Y) \\longrightarrow y_{2}\\partial^{1} + y_{3}\\partial^{0} + \\partial^{3}$"
      ],
      "text/plain": [
       "\\tilde{P}_{3}(U,Y) \\longrightarrow y_{2}\\partial^{1} + y_{3}\\partial^{0} + \\partial^{3}"
      ]
     },
     "metadata": {},
     "output_type": "display_data"
    },
    {
     "data": {
      "text/html": [
       "<html>\\(\\displaystyle \\tilde{P}_{4}(U,Y) \\longrightarrow y_{2}\\partial^{2} + y_{3}\\partial^{1} + y_{4}\\partial^{0} + \\partial^{4}\\)</html>"
      ],
      "text/latex": [
       "$\\displaystyle \\tilde{P}_{4}(U,Y) \\longrightarrow y_{2}\\partial^{2} + y_{3}\\partial^{1} + y_{4}\\partial^{0} + \\partial^{4}$"
      ],
      "text/plain": [
       "\\tilde{P}_{4}(U,Y) \\longrightarrow y_{2}\\partial^{2} + y_{3}\\partial^{1} + y_{4}\\partial^{0} + \\partial^{4}"
      ]
     },
     "metadata": {},
     "output_type": "display_data"
    },
    {
     "data": {
      "text/html": [
       "<html>\\(\\displaystyle \\tilde{P}_{5}(U,Y) \\longrightarrow y_{2}\\partial^{3} + y_{3}\\partial^{2} + y_{4}\\partial^{1} + y_{5}\\partial^{0} + \\partial^{5}\\)</html>"
      ],
      "text/latex": [
       "$\\displaystyle \\tilde{P}_{5}(U,Y) \\longrightarrow y_{2}\\partial^{3} + y_{3}\\partial^{2} + y_{4}\\partial^{1} + y_{5}\\partial^{0} + \\partial^{5}$"
      ],
      "text/plain": [
       "\\tilde{P}_{5}(U,Y) \\longrightarrow y_{2}\\partial^{3} + y_{3}\\partial^{2} + y_{4}\\partial^{1} + y_{5}\\partial^{0} + \\partial^{5}"
      ]
     },
     "metadata": {},
     "output_type": "display_data"
    },
    {
     "data": {
      "text/html": [
       "<html>\\(\\displaystyle \\tilde{P}_{6}(U,Y) \\longrightarrow y_{2}\\partial^{4} + y_{3}\\partial^{3} + y_{4}\\partial^{2} + y_{5}\\partial^{1} + y_{6}\\partial^{0} + \\partial^{6}\\)</html>"
      ],
      "text/latex": [
       "$\\displaystyle \\tilde{P}_{6}(U,Y) \\longrightarrow y_{2}\\partial^{4} + y_{3}\\partial^{3} + y_{4}\\partial^{2} + y_{5}\\partial^{1} + y_{6}\\partial^{0} + \\partial^{6}$"
      ],
      "text/plain": [
       "\\tilde{P}_{6}(U,Y) \\longrightarrow y_{2}\\partial^{4} + y_{3}\\partial^{3} + y_{4}\\partial^{2} + y_{5}\\partial^{1} + y_{6}\\partial^{0} + \\partial^{6}"
      ]
     },
     "metadata": {},
     "output_type": "display_data"
    }
   ],
   "source": [
    "## Creating the \\tilde{P}_i polynomials\n",
    "PT = [1, z[1]]\n",
    "while(len(PT) <= 6): # creating up to P_6(U;Y)\n",
    "    PT += [PT[-1](z=z[1]) + y[len(PT)]*z[0]]\n",
    "\n",
    "## Showing the PT\n",
    "for (i,p) in enumerate(PT):\n",
    "    show(LatexExpr(r\"\\tilde{P}_{\" + str(i) + r\"}(U,Y) \\longrightarrow \" + poly_to_latex(p)))"
   ]
  },
  {
   "cell_type": "markdown",
   "id": "31ba3259-d17a-4e40-b48f-ff9a53f19462",
   "metadata": {
    "jp-MarkdownHeadingCollapsed": true,
    "tags": []
   },
   "source": [
    "#### **1. Computing the differential systems**"
   ]
  },
  {
   "cell_type": "code",
   "execution_count": 58,
   "id": "6a3b59a9-23f2-4377-81e1-14cb89ea1c6d",
   "metadata": {},
   "outputs": [],
   "source": [
    "lie_brackets = [L.lie_bracket(P, \"z\") for P in PT]"
   ]
  },
  {
   "cell_type": "code",
   "execution_count": 59,
   "id": "79c8ca91-5a3e-48d6-8c96-02fc504d8e52",
   "metadata": {},
   "outputs": [],
   "source": [
    "diff_systems = [tuple([bracket.coefficient(z[i]) for i in range(L.order(z)-1, bracket.order(z)+1)]) for bracket in lie_brackets]"
   ]
  },
  {
   "cell_type": "markdown",
   "id": "bb463ac6-64cc-4c12-9b05-5f6603c01e4b",
   "metadata": {},
   "source": [
    "##### The system for $m = 1$"
   ]
  },
  {
   "cell_type": "code",
   "execution_count": 60,
   "id": "26fc0d2a-ce0d-41b7-88ba-857ce2d8b669",
   "metadata": {},
   "outputs": [
    {
     "data": {
      "text/html": [
       "<html>\\(\\displaystyle [L_5, \\tilde{P}_1(U)] = \\left(-u_{2}'\\right)\\partial^3+\\left(-u_{3}'\\right)\\partial^2+\\left(-u_{4}'\\right)\\partial^1+\\left(-u_{5}'\\right)\\)</html>"
      ],
      "text/latex": [
       "$\\displaystyle [L_5, \\tilde{P}_1(U)] = \\left(-u_{2}'\\right)\\partial^3+\\left(-u_{3}'\\right)\\partial^2+\\left(-u_{4}'\\right)\\partial^1+\\left(-u_{5}'\\right)$"
      ],
      "text/plain": [
       "[L_5, \\tilde{P}_1(U)] = \\left(-u_{2}'\\right)\\partial^3+\\left(-u_{3}'\\right)\\partial^2+\\left(-u_{4}'\\right)\\partial^1+\\left(-u_{5}'\\right)"
      ]
     },
     "execution_count": 60,
     "metadata": {},
     "output_type": "execute_result"
    }
   ],
   "source": [
    "bracket = lie_brackets[1]\n",
    "LatexExpr(r\"[L_5, \\tilde{P}_1(U)] = \" + \"+\".join(r\"\\left(\" + poly_to_latex(bracket.coefficient(z[i])) + r\"\\right)\" + (r\"\\partial^\" + str(i) if i > 0 else \"\") for i in range(bracket.order(z), -1, -1) if bracket.coefficient(z[i]) != 0))"
   ]
  },
  {
   "cell_type": "code",
   "execution_count": 61,
   "id": "b8510de2-dc82-481f-a805-92dae477abc5",
   "metadata": {},
   "outputs": [
    {
     "name": "stdout",
     "output_type": "stream",
     "text": [
      "[L_5, \\tilde{P}_1(U)] = \\left(-u_{2}'\\right)\\partial^3+\\left(-u_{3}'\\right)\\partial^2+\\left(-u_{4}'\\right)\\partial^1+\\left(-u_{5}'\\right)\n"
     ]
    }
   ],
   "source": [
    "print(_)"
   ]
  },
  {
   "cell_type": "code",
   "execution_count": 62,
   "id": "73c990fc-e107-4a35-9dff-5d0716c0c53b",
   "metadata": {},
   "outputs": [
    {
     "data": {
      "text/html": [
       "<html>\\(\\displaystyle \\left(\\right)\\)</html>"
      ],
      "text/latex": [
       "$\\displaystyle \\left(\\right)$"
      ],
      "text/plain": [
       "()"
      ]
     },
     "execution_count": 62,
     "metadata": {},
     "output_type": "execute_result"
    }
   ],
   "source": [
    "## There are no equations for the almost commuting of z[1]\n",
    "##  --> trivial: it is the unique monic operator of order 1 in normal form\n",
    "diff_systems[1]"
   ]
  },
  {
   "cell_type": "markdown",
   "id": "582b3be5-74c4-4e32-a4f2-1ac6e0d5a428",
   "metadata": {},
   "source": [
    "##### The system for $m=2$"
   ]
  },
  {
   "cell_type": "code",
   "execution_count": 63,
   "id": "01be631c-0f9b-48c4-8865-76963fc9b53b",
   "metadata": {},
   "outputs": [
    {
     "data": {
      "text/html": [
       "<html>\\(\\displaystyle [L_5, \\tilde{P}_2(U, y_2)] = \\left(-2u_{2}' + 5y_{2}'\\right)\\partial^4+\\left(-u_{2}'' - 2u_{3}' + 10y_{2}''\\right)\\partial^3+\\left(3u_{2}y_{2}' - u_{3}'' - 2u_{4}' + 10y_{2}'''\\right)\\partial^2+\\left(3u_{2}y_{2}'' + 2u_{3}y_{2}' - u_{4}'' - 2u_{5}' + 5y_{2}^{(4)}\\right)\\partial^1+\\left(u_{2}y_{2}''' + u_{3}y_{2}'' + u_{4}y_{2}' - u_{5}'' + y_{2}^{(5)}\\right)\\)</html>"
      ],
      "text/latex": [
       "$\\displaystyle [L_5, \\tilde{P}_2(U, y_2)] = \\left(-2u_{2}' + 5y_{2}'\\right)\\partial^4+\\left(-u_{2}'' - 2u_{3}' + 10y_{2}''\\right)\\partial^3+\\left(3u_{2}y_{2}' - u_{3}'' - 2u_{4}' + 10y_{2}'''\\right)\\partial^2+\\left(3u_{2}y_{2}'' + 2u_{3}y_{2}' - u_{4}'' - 2u_{5}' + 5y_{2}^{(4)}\\right)\\partial^1+\\left(u_{2}y_{2}''' + u_{3}y_{2}'' + u_{4}y_{2}' - u_{5}'' + y_{2}^{(5)}\\right)$"
      ],
      "text/plain": [
       "[L_5, \\tilde{P}_2(U, y_2)] = \\left(-2u_{2}' + 5y_{2}'\\right)\\partial^4+\\left(-u_{2}'' - 2u_{3}' + 10y_{2}''\\right)\\partial^3+\\left(3u_{2}y_{2}' - u_{3}'' - 2u_{4}' + 10y_{2}'''\\right)\\partial^2+\\left(3u_{2}y_{2}'' + 2u_{3}y_{2}' - u_{4}'' - 2u_{5}' + 5y_{2}^{(4)}\\right)\\partial^1+\\left(u_{2}y_{2}''' + u_{3}y_{2}'' + u_{4}y_{2}' - u_{5}'' + y_{2}^{(5)}\\right)"
      ]
     },
     "execution_count": 63,
     "metadata": {},
     "output_type": "execute_result"
    }
   ],
   "source": [
    "bracket = lie_brackets[2]\n",
    "LatexExpr(r\"[L_5, \\tilde{P}_2(U, y_2)] = \" + \"+\".join(r\"\\left(\" + poly_to_latex(bracket.coefficient(z[i])) + r\"\\right)\" + (r\"\\partial^\" + str(i) if i > 0 else \"\") for i in range(bracket.order(z), -1, -1) if bracket.coefficient(z[i]) != 0))"
   ]
  },
  {
   "cell_type": "code",
   "execution_count": 64,
   "id": "edbcb94a-0653-42a6-b285-1497b20ef414",
   "metadata": {},
   "outputs": [
    {
     "name": "stdout",
     "output_type": "stream",
     "text": [
      "[L_5, \\tilde{P}_2(U, y_2)] = \\left(-2u_{2}' + 5y_{2}'\\right)\\partial^4+\\left(-u_{2}'' - 2u_{3}' + 10y_{2}''\\right)\\partial^3+\\left(3u_{2}y_{2}' - u_{3}'' - 2u_{4}' + 10y_{2}'''\\right)\\partial^2+\\left(3u_{2}y_{2}'' + 2u_{3}y_{2}' - u_{4}'' - 2u_{5}' + 5y_{2}^{(4)}\\right)\\partial^1+\\left(u_{2}y_{2}''' + u_{3}y_{2}'' + u_{4}y_{2}' - u_{5}'' + y_{2}^{(5)}\\right)\n"
     ]
    }
   ],
   "source": [
    "print(_)"
   ]
  },
  {
   "cell_type": "code",
   "execution_count": 65,
   "id": "b26d268a-f3fe-417c-98b3-c6a9f899a35c",
   "metadata": {},
   "outputs": [
    {
     "data": {
      "text/html": [
       "<html>\\(\\displaystyle \\left\\{\\begin{array}{rl}\n",
       "\t-2u_{2}' + 5y_{2}'&= 0\n",
       "\\end{array}\\right.\\)</html>"
      ],
      "text/latex": [
       "$\\displaystyle \\left\\{\\begin{array}{rl}\n",
       "\t-2u_{2}' + 5y_{2}'&= 0\n",
       "\\end{array}\\right.$"
      ],
      "text/plain": [
       "\\left\\{\\begin{array}{rl}\n",
       "\t-2u_{2}' + 5y_{2}'&= 0\n",
       "\\end{array}\\right."
      ]
     },
     "execution_count": 65,
     "metadata": {},
     "output_type": "execute_result"
    }
   ],
   "source": [
    "LatexExpr(r\"\\left\\{\\begin{array}{rl}\" + \"\\n\\t\" + \"\\\\\\\\\\n\\t\".join(poly_to_latex(p) + r\"&= 0\" for p in diff_systems[2]) + \"\\n\" + r\"\\end{array}\\right.\")"
   ]
  },
  {
   "cell_type": "code",
   "execution_count": 66,
   "id": "f69bf677-2def-4264-bf6e-547e6b2ac2c1",
   "metadata": {},
   "outputs": [
    {
     "name": "stdout",
     "output_type": "stream",
     "text": [
      "\\left\\{\\begin{array}{rl}\n",
      "\t-2u_{2}' + 5y_{2}'&= 0\n",
      "\\end{array}\\right.\n"
     ]
    }
   ],
   "source": [
    "print(_)"
   ]
  },
  {
   "cell_type": "markdown",
   "id": "0f85f775-4326-48fd-a60b-be5fb0af32f9",
   "metadata": {},
   "source": [
    "##### The system for $m = 3$"
   ]
  },
  {
   "cell_type": "code",
   "execution_count": 67,
   "id": "c35dc6ed-d9dc-4526-8e3f-bf2b4308e891",
   "metadata": {},
   "outputs": [
    {
     "data": {
      "text/html": [
       "<html>\\(\\displaystyle [L_5, \\tilde{P}_3(U, y_2, y_3)] = \\left(-3u_{2}' + 5y_{2}'\\right)\\partial^5+\\left(-3u_{2}'' - 3u_{3}' + 10y_{2}'' + 5y_{3}'\\right)\\partial^4+\\left(-u_{2}'y_{2} + 3u_{2}y_{2}' - u_{2}''' - 3u_{3}'' - 3u_{4}' + 10y_{2}''' + 10y_{3}''\\right)\\partial^3+\\left(3u_{2}y_{2}'' + 3u_{2}y_{3}' - u_{3}'y_{2} + 2u_{3}y_{2}' - u_{3}''' - 3u_{4}'' - 3u_{5}' + 5y_{2}^{(4)} + 10y_{3}'''\\right)\\partial^2+\\left(u_{2}y_{2}''' + 3u_{2}y_{3}'' + u_{3}y_{2}'' + 2u_{3}y_{3}' - u_{4}'y_{2} + u_{4}y_{2}' - u_{4}''' - 3u_{5}'' + y_{2}^{(5)} + 5y_{3}^{(4)}\\right)\\partial^1+\\left(u_{2}y_{3}''' + u_{3}y_{3}'' + u_{4}y_{3}' - u_{5}'y_{2} - u_{5}''' + y_{3}^{(5)}\\right)\\)</html>"
      ],
      "text/latex": [
       "$\\displaystyle [L_5, \\tilde{P}_3(U, y_2, y_3)] = \\left(-3u_{2}' + 5y_{2}'\\right)\\partial^5+\\left(-3u_{2}'' - 3u_{3}' + 10y_{2}'' + 5y_{3}'\\right)\\partial^4+\\left(-u_{2}'y_{2} + 3u_{2}y_{2}' - u_{2}''' - 3u_{3}'' - 3u_{4}' + 10y_{2}''' + 10y_{3}''\\right)\\partial^3+\\left(3u_{2}y_{2}'' + 3u_{2}y_{3}' - u_{3}'y_{2} + 2u_{3}y_{2}' - u_{3}''' - 3u_{4}'' - 3u_{5}' + 5y_{2}^{(4)} + 10y_{3}'''\\right)\\partial^2+\\left(u_{2}y_{2}''' + 3u_{2}y_{3}'' + u_{3}y_{2}'' + 2u_{3}y_{3}' - u_{4}'y_{2} + u_{4}y_{2}' - u_{4}''' - 3u_{5}'' + y_{2}^{(5)} + 5y_{3}^{(4)}\\right)\\partial^1+\\left(u_{2}y_{3}''' + u_{3}y_{3}'' + u_{4}y_{3}' - u_{5}'y_{2} - u_{5}''' + y_{3}^{(5)}\\right)$"
      ],
      "text/plain": [
       "[L_5, \\tilde{P}_3(U, y_2, y_3)] = \\left(-3u_{2}' + 5y_{2}'\\right)\\partial^5+\\left(-3u_{2}'' - 3u_{3}' + 10y_{2}'' + 5y_{3}'\\right)\\partial^4+\\left(-u_{2}'y_{2} + 3u_{2}y_{2}' - u_{2}''' - 3u_{3}'' - 3u_{4}' + 10y_{2}''' + 10y_{3}''\\right)\\partial^3+\\left(3u_{2}y_{2}'' + 3u_{2}y_{3}' - u_{3}'y_{2} + 2u_{3}y_{2}' - u_{3}''' - 3u_{4}'' - 3u_{5}' + 5y_{2}^{(4)} + 10y_{3}'''\\right)\\partial^2+\\left(u_{2}y_{2}''' + 3u_{2}y_{3}'' + u_{3}y_{2}'' + 2u_{3}y_{3}' - u_{4}'y_{2} + u_{4}y_{2}' - u_{4}''' - 3u_{5}'' + y_{2}^{(5)} + 5y_{3}^{(4)}\\right)\\partial^1+\\left(u_{2}y_{3}''' + u_{3}y_{3}'' + u_{4}y_{3}' - u_{5}'y_{2} - u_{5}''' + y_{3}^{(5)}\\right)"
      ]
     },
     "execution_count": 67,
     "metadata": {},
     "output_type": "execute_result"
    }
   ],
   "source": [
    "bracket = lie_brackets[3]\n",
    "LatexExpr(r\"[L_5, \\tilde{P}_3(U, y_2, y_3)] = \" + \"+\".join(r\"\\left(\" + poly_to_latex(bracket.coefficient(z[i])) + r\"\\right)\" + (r\"\\partial^\" + str(i) if i > 0 else \"\") for i in range(bracket.order(z), -1, -1) if bracket.coefficient(z[i]) != 0))"
   ]
  },
  {
   "cell_type": "code",
   "execution_count": 68,
   "id": "f2d7f6e7-cc1f-4d18-bbf1-9cebe859a93c",
   "metadata": {},
   "outputs": [
    {
     "name": "stdout",
     "output_type": "stream",
     "text": [
      "[L_5, \\tilde{P}_3(U, y_2, y_3)] = \\left(-3u_{2}' + 5y_{2}'\\right)\\partial^5+\\left(-3u_{2}'' - 3u_{3}' + 10y_{2}'' + 5y_{3}'\\right)\\partial^4+\\left(-u_{2}'y_{2} + 3u_{2}y_{2}' - u_{2}''' - 3u_{3}'' - 3u_{4}' + 10y_{2}''' + 10y_{3}''\\right)\\partial^3+\\left(3u_{2}y_{2}'' + 3u_{2}y_{3}' - u_{3}'y_{2} + 2u_{3}y_{2}' - u_{3}''' - 3u_{4}'' - 3u_{5}' + 5y_{2}^{(4)} + 10y_{3}'''\\right)\\partial^2+\\left(u_{2}y_{2}''' + 3u_{2}y_{3}'' + u_{3}y_{2}'' + 2u_{3}y_{3}' - u_{4}'y_{2} + u_{4}y_{2}' - u_{4}''' - 3u_{5}'' + y_{2}^{(5)} + 5y_{3}^{(4)}\\right)\\partial^1+\\left(u_{2}y_{3}''' + u_{3}y_{3}'' + u_{4}y_{3}' - u_{5}'y_{2} - u_{5}''' + y_{3}^{(5)}\\right)\n"
     ]
    }
   ],
   "source": [
    "print(_)"
   ]
  },
  {
   "cell_type": "code",
   "execution_count": 69,
   "id": "21cce98b-0918-440b-b673-dc7c96f261c8",
   "metadata": {},
   "outputs": [
    {
     "data": {
      "text/html": [
       "<html>\\(\\displaystyle \\left\\{\\begin{array}{rl}\n",
       "\t-3u_{2}'' - 3u_{3}' + 10y_{2}'' + 5y_{3}'&= 0\\\\\n",
       "\t-3u_{2}' + 5y_{2}'&= 0\n",
       "\\end{array}\\right.\\)</html>"
      ],
      "text/latex": [
       "$\\displaystyle \\left\\{\\begin{array}{rl}\n",
       "\t-3u_{2}'' - 3u_{3}' + 10y_{2}'' + 5y_{3}'&= 0\\\\\n",
       "\t-3u_{2}' + 5y_{2}'&= 0\n",
       "\\end{array}\\right.$"
      ],
      "text/plain": [
       "\\left\\{\\begin{array}{rl}\n",
       "\t-3u_{2}'' - 3u_{3}' + 10y_{2}'' + 5y_{3}'&= 0\\\\\n",
       "\t-3u_{2}' + 5y_{2}'&= 0\n",
       "\\end{array}\\right."
      ]
     },
     "execution_count": 69,
     "metadata": {},
     "output_type": "execute_result"
    }
   ],
   "source": [
    "LatexExpr(r\"\\left\\{\\begin{array}{rl}\" + \"\\n\\t\" + \"\\\\\\\\\\n\\t\".join(poly_to_latex(p) + r\"&= 0\" for p in diff_systems[3]) + \"\\n\" + r\"\\end{array}\\right.\")"
   ]
  },
  {
   "cell_type": "code",
   "execution_count": 70,
   "id": "006484ba-e2f4-4f6d-aaea-a32be72bc1a5",
   "metadata": {},
   "outputs": [
    {
     "name": "stdout",
     "output_type": "stream",
     "text": [
      "\\left\\{\\begin{array}{rl}\n",
      "\t-3u_{2}'' - 3u_{3}' + 10y_{2}'' + 5y_{3}'&= 0\\\\\n",
      "\t-3u_{2}' + 5y_{2}'&= 0\n",
      "\\end{array}\\right.\n"
     ]
    }
   ],
   "source": [
    "print(_)"
   ]
  },
  {
   "cell_type": "markdown",
   "id": "267bf40d-694c-4e14-b4cf-9572687b4aa3",
   "metadata": {},
   "source": [
    "##### The system for $m = 4$"
   ]
  },
  {
   "cell_type": "code",
   "execution_count": 71,
   "id": "811a143f-485f-447c-b96c-8e991992d4f8",
   "metadata": {},
   "outputs": [
    {
     "data": {
      "text/html": [
       "<html>\\(\\displaystyle [L_5, \\tilde{P}_4(U, y_2,y_3,y_4)] = \\left(-4u_{2}' + 5y_{2}'\\right)\\partial^6+\\left(-6u_{2}'' - 4u_{3}' + 10y_{2}'' + 5y_{3}'\\right)\\partial^5+\\left(-2u_{2}'y_{2} + 3u_{2}y_{2}' - 4u_{2}''' - 6u_{3}'' - 4u_{4}' + 10y_{2}''' + 10y_{3}'' + 5y_{4}'\\right)\\partial^4+\\left(-u_{2}''y_{2} - u_{2}'y_{3} + 3u_{2}y_{2}'' + 3u_{2}y_{3}' - 2u_{3}'y_{2} + 2u_{3}y_{2}' - u_{2}^{(4)} - 4u_{3}''' - 6u_{4}'' - 4u_{5}' + 5y_{2}^{(4)} + 10y_{3}''' + 10y_{4}''\\right)\\partial^3+\\left(u_{2}y_{2}''' + 3u_{2}y_{3}'' + 3u_{2}y_{4}' - u_{3}''y_{2} - u_{3}'y_{3} + u_{3}y_{2}'' + 2u_{3}y_{3}' - 2u_{4}'y_{2} + u_{4}y_{2}' - u_{3}^{(4)} - 4u_{4}''' - 6u_{5}'' + y_{2}^{(5)} + 5y_{3}^{(4)} + 10y_{4}'''\\right)\\partial^2+\\left(u_{2}y_{3}''' + 3u_{2}y_{4}'' + u_{3}y_{3}'' + 2u_{3}y_{4}' - u_{4}''y_{2} - u_{4}'y_{3} + u_{4}y_{3}' - 2u_{5}'y_{2} - u_{4}^{(4)} - 4u_{5}''' + y_{3}^{(5)} + 5y_{4}^{(4)}\\right)\\partial^1+\\left(u_{2}y_{4}''' + u_{3}y_{4}'' + u_{4}y_{4}' - u_{5}''y_{2} - u_{5}'y_{3} - u_{5}^{(4)} + y_{4}^{(5)}\\right)\\)</html>"
      ],
      "text/latex": [
       "$\\displaystyle [L_5, \\tilde{P}_4(U, y_2,y_3,y_4)] = \\left(-4u_{2}' + 5y_{2}'\\right)\\partial^6+\\left(-6u_{2}'' - 4u_{3}' + 10y_{2}'' + 5y_{3}'\\right)\\partial^5+\\left(-2u_{2}'y_{2} + 3u_{2}y_{2}' - 4u_{2}''' - 6u_{3}'' - 4u_{4}' + 10y_{2}''' + 10y_{3}'' + 5y_{4}'\\right)\\partial^4+\\left(-u_{2}''y_{2} - u_{2}'y_{3} + 3u_{2}y_{2}'' + 3u_{2}y_{3}' - 2u_{3}'y_{2} + 2u_{3}y_{2}' - u_{2}^{(4)} - 4u_{3}''' - 6u_{4}'' - 4u_{5}' + 5y_{2}^{(4)} + 10y_{3}''' + 10y_{4}''\\right)\\partial^3+\\left(u_{2}y_{2}''' + 3u_{2}y_{3}'' + 3u_{2}y_{4}' - u_{3}''y_{2} - u_{3}'y_{3} + u_{3}y_{2}'' + 2u_{3}y_{3}' - 2u_{4}'y_{2} + u_{4}y_{2}' - u_{3}^{(4)} - 4u_{4}''' - 6u_{5}'' + y_{2}^{(5)} + 5y_{3}^{(4)} + 10y_{4}'''\\right)\\partial^2+\\left(u_{2}y_{3}''' + 3u_{2}y_{4}'' + u_{3}y_{3}'' + 2u_{3}y_{4}' - u_{4}''y_{2} - u_{4}'y_{3} + u_{4}y_{3}' - 2u_{5}'y_{2} - u_{4}^{(4)} - 4u_{5}''' + y_{3}^{(5)} + 5y_{4}^{(4)}\\right)\\partial^1+\\left(u_{2}y_{4}''' + u_{3}y_{4}'' + u_{4}y_{4}' - u_{5}''y_{2} - u_{5}'y_{3} - u_{5}^{(4)} + y_{4}^{(5)}\\right)$"
      ],
      "text/plain": [
       "[L_5, \\tilde{P}_4(U, y_2,y_3,y_4)] = \\left(-4u_{2}' + 5y_{2}'\\right)\\partial^6+\\left(-6u_{2}'' - 4u_{3}' + 10y_{2}'' + 5y_{3}'\\right)\\partial^5+\\left(-2u_{2}'y_{2} + 3u_{2}y_{2}' - 4u_{2}''' - 6u_{3}'' - 4u_{4}' + 10y_{2}''' + 10y_{3}'' + 5y_{4}'\\right)\\partial^4+\\left(-u_{2}''y_{2} - u_{2}'y_{3} + 3u_{2}y_{2}'' + 3u_{2}y_{3}' - 2u_{3}'y_{2} + 2u_{3}y_{2}' - u_{2}^{(4)} - 4u_{3}''' - 6u_{4}'' - 4u_{5}' + 5y_{2}^{(4)} + 10y_{3}''' + 10y_{4}''\\right)\\partial^3+\\left(u_{2}y_{2}''' + 3u_{2}y_{3}'' + 3u_{2}y_{4}' - u_{3}''y_{2} - u_{3}'y_{3} + u_{3}y_{2}'' + 2u_{3}y_{3}' - 2u_{4}'y_{2} + u_{4}y_{2}' - u_{3}^{(4)} - 4u_{4}''' - 6u_{5}'' + y_{2}^{(5)} + 5y_{3}^{(4)} + 10y_{4}'''\\right)\\partial^2+\\left(u_{2}y_{3}''' + 3u_{2}y_{4}'' + u_{3}y_{3}'' + 2u_{3}y_{4}' - u_{4}''y_{2} - u_{4}'y_{3} + u_{4}y_{3}' - 2u_{5}'y_{2} - u_{4}^{(4)} - 4u_{5}''' + y_{3}^{(5)} + 5y_{4}^{(4)}\\right)\\partial^1+\\left(u_{2}y_{4}''' + u_{3}y_{4}'' + u_{4}y_{4}' - u_{5}''y_{2} - u_{5}'y_{3} - u_{5}^{(4)} + y_{4}^{(5)}\\right)"
      ]
     },
     "execution_count": 71,
     "metadata": {},
     "output_type": "execute_result"
    }
   ],
   "source": [
    "bracket = lie_brackets[4]\n",
    "LatexExpr(r\"[L_5, \\tilde{P}_4(U, y_2,y_3,y_4)] = \" + \"+\".join(r\"\\left(\" + poly_to_latex(bracket.coefficient(z[i])) + r\"\\right)\" + (r\"\\partial^\" + str(i) if i > 0 else \"\") for i in range(bracket.order(z), -1, -1) if bracket.coefficient(z[i]) != 0))"
   ]
  },
  {
   "cell_type": "code",
   "execution_count": 72,
   "id": "e8c1b125-85c8-43ea-8a9b-fbc6454080a9",
   "metadata": {},
   "outputs": [
    {
     "name": "stdout",
     "output_type": "stream",
     "text": [
      "[L_5, \\tilde{P}_4(U, y_2,y_3,y_4)] = \\left(-4u_{2}' + 5y_{2}'\\right)\\partial^6+\\left(-6u_{2}'' - 4u_{3}' + 10y_{2}'' + 5y_{3}'\\right)\\partial^5+\\left(-2u_{2}'y_{2} + 3u_{2}y_{2}' - 4u_{2}''' - 6u_{3}'' - 4u_{4}' + 10y_{2}''' + 10y_{3}'' + 5y_{4}'\\right)\\partial^4+\\left(-u_{2}''y_{2} - u_{2}'y_{3} + 3u_{2}y_{2}'' + 3u_{2}y_{3}' - 2u_{3}'y_{2} + 2u_{3}y_{2}' - u_{2}^{(4)} - 4u_{3}''' - 6u_{4}'' - 4u_{5}' + 5y_{2}^{(4)} + 10y_{3}''' + 10y_{4}''\\right)\\partial^3+\\left(u_{2}y_{2}''' + 3u_{2}y_{3}'' + 3u_{2}y_{4}' - u_{3}''y_{2} - u_{3}'y_{3} + u_{3}y_{2}'' + 2u_{3}y_{3}' - 2u_{4}'y_{2} + u_{4}y_{2}' - u_{3}^{(4)} - 4u_{4}''' - 6u_{5}'' + y_{2}^{(5)} + 5y_{3}^{(4)} + 10y_{4}'''\\right)\\partial^2+\\left(u_{2}y_{3}''' + 3u_{2}y_{4}'' + u_{3}y_{3}'' + 2u_{3}y_{4}' - u_{4}''y_{2} - u_{4}'y_{3} + u_{4}y_{3}' - 2u_{5}'y_{2} - u_{4}^{(4)} - 4u_{5}''' + y_{3}^{(5)} + 5y_{4}^{(4)}\\right)\\partial^1+\\left(u_{2}y_{4}''' + u_{3}y_{4}'' + u_{4}y_{4}' - u_{5}''y_{2} - u_{5}'y_{3} - u_{5}^{(4)} + y_{4}^{(5)}\\right)\n"
     ]
    }
   ],
   "source": [
    "print(_)"
   ]
  },
  {
   "cell_type": "code",
   "execution_count": 73,
   "id": "87b8f290-02b2-4b6a-9b81-cfef4390dd0e",
   "metadata": {},
   "outputs": [
    {
     "data": {
      "text/html": [
       "<html>\\(\\displaystyle \\left\\{\\begin{array}{rl}\n",
       "\t-2u_{2}'y_{2} + 3u_{2}y_{2}' - 4u_{2}''' - 6u_{3}'' - 4u_{4}' + 10y_{2}''' + 10y_{3}'' + 5y_{4}'&= 0\\\\\n",
       "\t-6u_{2}'' - 4u_{3}' + 10y_{2}'' + 5y_{3}'&= 0\\\\\n",
       "\t-4u_{2}' + 5y_{2}'&= 0\n",
       "\\end{array}\\right.\\)</html>"
      ],
      "text/latex": [
       "$\\displaystyle \\left\\{\\begin{array}{rl}\n",
       "\t-2u_{2}'y_{2} + 3u_{2}y_{2}' - 4u_{2}''' - 6u_{3}'' - 4u_{4}' + 10y_{2}''' + 10y_{3}'' + 5y_{4}'&= 0\\\\\n",
       "\t-6u_{2}'' - 4u_{3}' + 10y_{2}'' + 5y_{3}'&= 0\\\\\n",
       "\t-4u_{2}' + 5y_{2}'&= 0\n",
       "\\end{array}\\right.$"
      ],
      "text/plain": [
       "\\left\\{\\begin{array}{rl}\n",
       "\t-2u_{2}'y_{2} + 3u_{2}y_{2}' - 4u_{2}''' - 6u_{3}'' - 4u_{4}' + 10y_{2}''' + 10y_{3}'' + 5y_{4}'&= 0\\\\\n",
       "\t-6u_{2}'' - 4u_{3}' + 10y_{2}'' + 5y_{3}'&= 0\\\\\n",
       "\t-4u_{2}' + 5y_{2}'&= 0\n",
       "\\end{array}\\right."
      ]
     },
     "execution_count": 73,
     "metadata": {},
     "output_type": "execute_result"
    }
   ],
   "source": [
    "LatexExpr(r\"\\left\\{\\begin{array}{rl}\" + \"\\n\\t\" + \"\\\\\\\\\\n\\t\".join(poly_to_latex(p) + r\"&= 0\" for p in diff_systems[4]) + \"\\n\" + r\"\\end{array}\\right.\")"
   ]
  },
  {
   "cell_type": "code",
   "execution_count": 74,
   "id": "fa63743a-e824-4eb9-b8a1-641d8ae9957c",
   "metadata": {},
   "outputs": [
    {
     "name": "stdout",
     "output_type": "stream",
     "text": [
      "\\left\\{\\begin{array}{rl}\n",
      "\t-2u_{2}'y_{2} + 3u_{2}y_{2}' - 4u_{2}''' - 6u_{3}'' - 4u_{4}' + 10y_{2}''' + 10y_{3}'' + 5y_{4}'&= 0\\\\\n",
      "\t-6u_{2}'' - 4u_{3}' + 10y_{2}'' + 5y_{3}'&= 0\\\\\n",
      "\t-4u_{2}' + 5y_{2}'&= 0\n",
      "\\end{array}\\right.\n"
     ]
    }
   ],
   "source": [
    "print(_)"
   ]
  },
  {
   "cell_type": "markdown",
   "id": "0c79dd05-d239-435e-81d8-6300198f4097",
   "metadata": {},
   "source": [
    "##### The system for $m = 5$"
   ]
  },
  {
   "cell_type": "code",
   "execution_count": 75,
   "id": "bf46acb6-83fb-41fb-8ae1-e5f7c3537fe5",
   "metadata": {},
   "outputs": [
    {
     "data": {
      "text/html": [
       "<html>\\(\\displaystyle [L_5, \\tilde{P}_5(U, y_2,y_3,y_4,y_5)] = \\left(-5u_{2}' + 5y_{2}'\\right)\\partial^7+\\left(-0u_{2}'' - 5u_{3}' + 10y_{2}'' + 5y_{3}'\\right)\\partial^6+\\left(-3u_{2}'y_{2} + 3u_{2}y_{2}' - 0u_{2}''' - 0u_{3}'' - 5u_{4}' + 10y_{2}''' + 10y_{3}'' + 5y_{4}'\\right)\\partial^5+\\left(-3u_{2}''y_{2} - 2u_{2}'y_{3} + 3u_{2}y_{2}'' + 3u_{2}y_{3}' - 3u_{3}'y_{2} + 2u_{3}y_{2}' - 5u_{2}^{(4)} - 0u_{3}''' - 0u_{4}'' - 5u_{5}' + 5y_{2}^{(4)} + 10y_{3}''' + 10y_{4}'' + 5y_{5}'\\right)\\partial^4+\\left(-u_{2}'''y_{2} - u_{2}''y_{3} - u_{2}'y_{4} + u_{2}y_{2}''' + 3u_{2}y_{3}'' + 3u_{2}y_{4}' - 3u_{3}''y_{2} - 2u_{3}'y_{3} + u_{3}y_{2}'' + 2u_{3}y_{3}' - 3u_{4}'y_{2} + u_{4}y_{2}' - u_{2}^{(5)} - 5u_{3}^{(4)} - 0u_{4}''' - 0u_{5}'' + y_{2}^{(5)} + 5y_{3}^{(4)} + 10y_{4}''' + 10y_{5}''\\right)\\partial^3+\\left(u_{2}y_{3}''' + 3u_{2}y_{4}'' + 3u_{2}y_{5}' - u_{3}'''y_{2} - u_{3}''y_{3} - u_{3}'y_{4} + u_{3}y_{3}'' + 2u_{3}y_{4}' - 3u_{4}''y_{2} - 2u_{4}'y_{3} + u_{4}y_{3}' - 3u_{5}'y_{2} - u_{3}^{(5)} - 5u_{4}^{(4)} - 0u_{5}''' + y_{3}^{(5)} + 5y_{4}^{(4)} + 10y_{5}'''\\right)\\partial^2+\\left(u_{2}y_{4}''' + 3u_{2}y_{5}'' + u_{3}y_{4}'' + 2u_{3}y_{5}' - u_{4}'''y_{2} - u_{4}''y_{3} - u_{4}'y_{4} + u_{4}y_{4}' - 3u_{5}''y_{2} - 2u_{5}'y_{3} - u_{4}^{(5)} - 5u_{5}^{(4)} + y_{4}^{(5)} + 5y_{5}^{(4)}\\right)\\partial^1+\\left(u_{2}y_{5}''' + u_{3}y_{5}'' + u_{4}y_{5}' - u_{5}'''y_{2} - u_{5}''y_{3} - u_{5}'y_{4} - u_{5}^{(5)} + y_{5}^{(5)}\\right)\\)</html>"
      ],
      "text/latex": [
       "$\\displaystyle [L_5, \\tilde{P}_5(U, y_2,y_3,y_4,y_5)] = \\left(-5u_{2}' + 5y_{2}'\\right)\\partial^7+\\left(-0u_{2}'' - 5u_{3}' + 10y_{2}'' + 5y_{3}'\\right)\\partial^6+\\left(-3u_{2}'y_{2} + 3u_{2}y_{2}' - 0u_{2}''' - 0u_{3}'' - 5u_{4}' + 10y_{2}''' + 10y_{3}'' + 5y_{4}'\\right)\\partial^5+\\left(-3u_{2}''y_{2} - 2u_{2}'y_{3} + 3u_{2}y_{2}'' + 3u_{2}y_{3}' - 3u_{3}'y_{2} + 2u_{3}y_{2}' - 5u_{2}^{(4)} - 0u_{3}''' - 0u_{4}'' - 5u_{5}' + 5y_{2}^{(4)} + 10y_{3}''' + 10y_{4}'' + 5y_{5}'\\right)\\partial^4+\\left(-u_{2}'''y_{2} - u_{2}''y_{3} - u_{2}'y_{4} + u_{2}y_{2}''' + 3u_{2}y_{3}'' + 3u_{2}y_{4}' - 3u_{3}''y_{2} - 2u_{3}'y_{3} + u_{3}y_{2}'' + 2u_{3}y_{3}' - 3u_{4}'y_{2} + u_{4}y_{2}' - u_{2}^{(5)} - 5u_{3}^{(4)} - 0u_{4}''' - 0u_{5}'' + y_{2}^{(5)} + 5y_{3}^{(4)} + 10y_{4}''' + 10y_{5}''\\right)\\partial^3+\\left(u_{2}y_{3}''' + 3u_{2}y_{4}'' + 3u_{2}y_{5}' - u_{3}'''y_{2} - u_{3}''y_{3} - u_{3}'y_{4} + u_{3}y_{3}'' + 2u_{3}y_{4}' - 3u_{4}''y_{2} - 2u_{4}'y_{3} + u_{4}y_{3}' - 3u_{5}'y_{2} - u_{3}^{(5)} - 5u_{4}^{(4)} - 0u_{5}''' + y_{3}^{(5)} + 5y_{4}^{(4)} + 10y_{5}'''\\right)\\partial^2+\\left(u_{2}y_{4}''' + 3u_{2}y_{5}'' + u_{3}y_{4}'' + 2u_{3}y_{5}' - u_{4}'''y_{2} - u_{4}''y_{3} - u_{4}'y_{4} + u_{4}y_{4}' - 3u_{5}''y_{2} - 2u_{5}'y_{3} - u_{4}^{(5)} - 5u_{5}^{(4)} + y_{4}^{(5)} + 5y_{5}^{(4)}\\right)\\partial^1+\\left(u_{2}y_{5}''' + u_{3}y_{5}'' + u_{4}y_{5}' - u_{5}'''y_{2} - u_{5}''y_{3} - u_{5}'y_{4} - u_{5}^{(5)} + y_{5}^{(5)}\\right)$"
      ],
      "text/plain": [
       "[L_5, \\tilde{P}_5(U, y_2,y_3,y_4,y_5)] = \\left(-5u_{2}' + 5y_{2}'\\right)\\partial^7+\\left(-0u_{2}'' - 5u_{3}' + 10y_{2}'' + 5y_{3}'\\right)\\partial^6+\\left(-3u_{2}'y_{2} + 3u_{2}y_{2}' - 0u_{2}''' - 0u_{3}'' - 5u_{4}' + 10y_{2}''' + 10y_{3}'' + 5y_{4}'\\right)\\partial^5+\\left(-3u_{2}''y_{2} - 2u_{2}'y_{3} + 3u_{2}y_{2}'' + 3u_{2}y_{3}' - 3u_{3}'y_{2} + 2u_{3}y_{2}' - 5u_{2}^{(4)} - 0u_{3}''' - 0u_{4}'' - 5u_{5}' + 5y_{2}^{(4)} + 10y_{3}''' + 10y_{4}'' + 5y_{5}'\\right)\\partial^4+\\left(-u_{2}'''y_{2} - u_{2}''y_{3} - u_{2}'y_{4} + u_{2}y_{2}''' + 3u_{2}y_{3}'' + 3u_{2}y_{4}' - 3u_{3}''y_{2} - 2u_{3}'y_{3} + u_{3}y_{2}'' + 2u_{3}y_{3}' - 3u_{4}'y_{2} + u_{4}y_{2}' - u_{2}^{(5)} - 5u_{3}^{(4)} - 0u_{4}''' - 0u_{5}'' + y_{2}^{(5)} + 5y_{3}^{(4)} + 10y_{4}''' + 10y_{5}''\\right)\\partial^3+\\left(u_{2}y_{3}''' + 3u_{2}y_{4}'' + 3u_{2}y_{5}' - u_{3}'''y_{2} - u_{3}''y_{3} - u_{3}'y_{4} + u_{3}y_{3}'' + 2u_{3}y_{4}' - 3u_{4}''y_{2} - 2u_{4}'y_{3} + u_{4}y_{3}' - 3u_{5}'y_{2} - u_{3}^{(5)} - 5u_{4}^{(4)} - 0u_{5}''' + y_{3}^{(5)} + 5y_{4}^{(4)} + 10y_{5}'''\\right)\\partial^2+\\left(u_{2}y_{4}''' + 3u_{2}y_{5}'' + u_{3}y_{4}'' + 2u_{3}y_{5}' - u_{4}'''y_{2} - u_{4}''y_{3} - u_{4}'y_{4} + u_{4}y_{4}' - 3u_{5}''y_{2} - 2u_{5}'y_{3} - u_{4}^{(5)} - 5u_{5}^{(4)} + y_{4}^{(5)} + 5y_{5}^{(4)}\\right)\\partial^1+\\left(u_{2}y_{5}''' + u_{3}y_{5}'' + u_{4}y_{5}' - u_{5}'''y_{2} - u_{5}''y_{3} - u_{5}'y_{4} - u_{5}^{(5)} + y_{5}^{(5)}\\right)"
      ]
     },
     "execution_count": 75,
     "metadata": {},
     "output_type": "execute_result"
    }
   ],
   "source": [
    "bracket = lie_brackets[5]\n",
    "LatexExpr(r\"[L_5, \\tilde{P}_5(U, y_2,y_3,y_4,y_5)] = \" + \"+\".join(r\"\\left(\" + poly_to_latex(bracket.coefficient(z[i])) + r\"\\right)\" + (r\"\\partial^\" + str(i) if i > 0 else \"\") for i in range(bracket.order(z), -1, -1) if bracket.coefficient(z[i]) != 0))"
   ]
  },
  {
   "cell_type": "code",
   "execution_count": 76,
   "id": "d7ebe95f-737c-4876-8d33-3614e269650f",
   "metadata": {},
   "outputs": [
    {
     "name": "stdout",
     "output_type": "stream",
     "text": [
      "[L_5, \\tilde{P}_5(U, y_2,y_3,y_4,y_5)] = \\left(-5u_{2}' + 5y_{2}'\\right)\\partial^7+\\left(-0u_{2}'' - 5u_{3}' + 10y_{2}'' + 5y_{3}'\\right)\\partial^6+\\left(-3u_{2}'y_{2} + 3u_{2}y_{2}' - 0u_{2}''' - 0u_{3}'' - 5u_{4}' + 10y_{2}''' + 10y_{3}'' + 5y_{4}'\\right)\\partial^5+\\left(-3u_{2}''y_{2} - 2u_{2}'y_{3} + 3u_{2}y_{2}'' + 3u_{2}y_{3}' - 3u_{3}'y_{2} + 2u_{3}y_{2}' - 5u_{2}^{(4)} - 0u_{3}''' - 0u_{4}'' - 5u_{5}' + 5y_{2}^{(4)} + 10y_{3}''' + 10y_{4}'' + 5y_{5}'\\right)\\partial^4+\\left(-u_{2}'''y_{2} - u_{2}''y_{3} - u_{2}'y_{4} + u_{2}y_{2}''' + 3u_{2}y_{3}'' + 3u_{2}y_{4}' - 3u_{3}''y_{2} - 2u_{3}'y_{3} + u_{3}y_{2}'' + 2u_{3}y_{3}' - 3u_{4}'y_{2} + u_{4}y_{2}' - u_{2}^{(5)} - 5u_{3}^{(4)} - 0u_{4}''' - 0u_{5}'' + y_{2}^{(5)} + 5y_{3}^{(4)} + 10y_{4}''' + 10y_{5}''\\right)\\partial^3+\\left(u_{2}y_{3}''' + 3u_{2}y_{4}'' + 3u_{2}y_{5}' - u_{3}'''y_{2} - u_{3}''y_{3} - u_{3}'y_{4} + u_{3}y_{3}'' + 2u_{3}y_{4}' - 3u_{4}''y_{2} - 2u_{4}'y_{3} + u_{4}y_{3}' - 3u_{5}'y_{2} - u_{3}^{(5)} - 5u_{4}^{(4)} - 0u_{5}''' + y_{3}^{(5)} + 5y_{4}^{(4)} + 10y_{5}'''\\right)\\partial^2+\\left(u_{2}y_{4}''' + 3u_{2}y_{5}'' + u_{3}y_{4}'' + 2u_{3}y_{5}' - u_{4}'''y_{2} - u_{4}''y_{3} - u_{4}'y_{4} + u_{4}y_{4}' - 3u_{5}''y_{2} - 2u_{5}'y_{3} - u_{4}^{(5)} - 5u_{5}^{(4)} + y_{4}^{(5)} + 5y_{5}^{(4)}\\right)\\partial^1+\\left(u_{2}y_{5}''' + u_{3}y_{5}'' + u_{4}y_{5}' - u_{5}'''y_{2} - u_{5}''y_{3} - u_{5}'y_{4} - u_{5}^{(5)} + y_{5}^{(5)}\\right)\n"
     ]
    }
   ],
   "source": [
    "print(_)"
   ]
  },
  {
   "cell_type": "code",
   "execution_count": 77,
   "id": "a16c896f-2af9-45b9-9c8b-884882ce170c",
   "metadata": {},
   "outputs": [
    {
     "data": {
      "text/html": [
       "<html>\\(\\displaystyle \\left\\{\\begin{array}{rl}\n",
       "\t-3u_{2}''y_{2} - 2u_{2}'y_{3} + 3u_{2}y_{2}'' + 3u_{2}y_{3}' - 3u_{3}'y_{2} + 2u_{3}y_{2}' - 5u_{2}^{(4)} - 0u_{3}''' - 0u_{4}'' - 5u_{5}' + 5y_{2}^{(4)} + 10y_{3}''' + 10y_{4}'' + 5y_{5}'&= 0\\\\\n",
       "\t-3u_{2}'y_{2} + 3u_{2}y_{2}' - 0u_{2}''' - 0u_{3}'' - 5u_{4}' + 10y_{2}''' + 10y_{3}'' + 5y_{4}'&= 0\\\\\n",
       "\t-0u_{2}'' - 5u_{3}' + 10y_{2}'' + 5y_{3}'&= 0\\\\\n",
       "\t-5u_{2}' + 5y_{2}'&= 0\n",
       "\\end{array}\\right.\\)</html>"
      ],
      "text/latex": [
       "$\\displaystyle \\left\\{\\begin{array}{rl}\n",
       "\t-3u_{2}''y_{2} - 2u_{2}'y_{3} + 3u_{2}y_{2}'' + 3u_{2}y_{3}' - 3u_{3}'y_{2} + 2u_{3}y_{2}' - 5u_{2}^{(4)} - 0u_{3}''' - 0u_{4}'' - 5u_{5}' + 5y_{2}^{(4)} + 10y_{3}''' + 10y_{4}'' + 5y_{5}'&= 0\\\\\n",
       "\t-3u_{2}'y_{2} + 3u_{2}y_{2}' - 0u_{2}''' - 0u_{3}'' - 5u_{4}' + 10y_{2}''' + 10y_{3}'' + 5y_{4}'&= 0\\\\\n",
       "\t-0u_{2}'' - 5u_{3}' + 10y_{2}'' + 5y_{3}'&= 0\\\\\n",
       "\t-5u_{2}' + 5y_{2}'&= 0\n",
       "\\end{array}\\right.$"
      ],
      "text/plain": [
       "\\left\\{\\begin{array}{rl}\n",
       "\t-3u_{2}''y_{2} - 2u_{2}'y_{3} + 3u_{2}y_{2}'' + 3u_{2}y_{3}' - 3u_{3}'y_{2} + 2u_{3}y_{2}' - 5u_{2}^{(4)} - 0u_{3}''' - 0u_{4}'' - 5u_{5}' + 5y_{2}^{(4)} + 10y_{3}''' + 10y_{4}'' + 5y_{5}'&= 0\\\\\n",
       "\t-3u_{2}'y_{2} + 3u_{2}y_{2}' - 0u_{2}''' - 0u_{3}'' - 5u_{4}' + 10y_{2}''' + 10y_{3}'' + 5y_{4}'&= 0\\\\\n",
       "\t-0u_{2}'' - 5u_{3}' + 10y_{2}'' + 5y_{3}'&= 0\\\\\n",
       "\t-5u_{2}' + 5y_{2}'&= 0\n",
       "\\end{array}\\right."
      ]
     },
     "execution_count": 77,
     "metadata": {},
     "output_type": "execute_result"
    }
   ],
   "source": [
    "LatexExpr(r\"\\left\\{\\begin{array}{rl}\" + \"\\n\\t\" + \"\\\\\\\\\\n\\t\".join(poly_to_latex(p) + r\"&= 0\" for p in diff_systems[5]) + \"\\n\" + r\"\\end{array}\\right.\")"
   ]
  },
  {
   "cell_type": "code",
   "execution_count": 78,
   "id": "8392d189-f923-4b92-9d72-b7efb31473d1",
   "metadata": {},
   "outputs": [
    {
     "name": "stdout",
     "output_type": "stream",
     "text": [
      "\\left\\{\\begin{array}{rl}\n",
      "\t-3u_{2}''y_{2} - 2u_{2}'y_{3} + 3u_{2}y_{2}'' + 3u_{2}y_{3}' - 3u_{3}'y_{2} + 2u_{3}y_{2}' - 5u_{2}^{(4)} - 0u_{3}''' - 0u_{4}'' - 5u_{5}' + 5y_{2}^{(4)} + 10y_{3}''' + 10y_{4}'' + 5y_{5}'&= 0\\\\\n",
      "\t-3u_{2}'y_{2} + 3u_{2}y_{2}' - 0u_{2}''' - 0u_{3}'' - 5u_{4}' + 10y_{2}''' + 10y_{3}'' + 5y_{4}'&= 0\\\\\n",
      "\t-0u_{2}'' - 5u_{3}' + 10y_{2}'' + 5y_{3}'&= 0\\\\\n",
      "\t-5u_{2}' + 5y_{2}'&= 0\n",
      "\\end{array}\\right.\n"
     ]
    }
   ],
   "source": [
    "print(_)"
   ]
  },
  {
   "cell_type": "markdown",
   "id": "d0d54f3a-7edc-48e6-aa20-b648dc229a97",
   "metadata": {
    "tags": []
   },
   "source": [
    "##### The system for $m = 6$"
   ]
  },
  {
   "cell_type": "code",
   "execution_count": 79,
   "id": "75f7f89a-34af-467d-9e9a-909571a45ecf",
   "metadata": {},
   "outputs": [
    {
     "data": {
      "text/html": [
       "<html>\\(\\displaystyle [L_5, \\tilde{P}_6(U, Y)] = \\left(-6u_{2}' + 5y_{2}'\\right)\\partial^8+\\left(-5u_{2}'' - 6u_{3}' + 10y_{2}'' + 5y_{3}'\\right)\\partial^7+\\left(-4u_{2}'y_{2} + 3u_{2}y_{2}' - 0u_{2}''' - 5u_{3}'' - 6u_{4}' + 10y_{2}''' + 10y_{3}'' + 5y_{4}'\\right)\\partial^6+\\left(-6u_{2}''y_{2} - 3u_{2}'y_{3} + 3u_{2}y_{2}'' + 3u_{2}y_{3}' - 4u_{3}'y_{2} + 2u_{3}y_{2}' - 5u_{2}^{(4)} - 0u_{3}''' - 5u_{4}'' - 6u_{5}' + 5y_{2}^{(4)} + 10y_{3}''' + 10y_{4}'' + 5y_{5}'\\right)\\partial^5+\\left(-4u_{2}'''y_{2} - 3u_{2}''y_{3} - 2u_{2}'y_{4} + u_{2}y_{2}''' + 3u_{2}y_{3}'' + 3u_{2}y_{4}' - 6u_{3}''y_{2} - 3u_{3}'y_{3} + u_{3}y_{2}'' + 2u_{3}y_{3}' - 4u_{4}'y_{2} + u_{4}y_{2}' - 6u_{2}^{(5)} - 5u_{3}^{(4)} - 0u_{4}''' - 5u_{5}'' + y_{2}^{(5)} + 5y_{3}^{(4)} + 10y_{4}''' + 10y_{5}'' + 5y_{6}'\\right)\\partial^4+\\left(-u_{2}^{(4)}y_{2} - u_{2}'''y_{3} - u_{2}''y_{4} - u_{2}'y_{5} + u_{2}y_{3}''' + 3u_{2}y_{4}'' + 3u_{2}y_{5}' - 4u_{3}'''y_{2} - 3u_{3}''y_{3} - 2u_{3}'y_{4} + u_{3}y_{3}'' + 2u_{3}y_{4}' - 6u_{4}''y_{2} - 3u_{4}'y_{3} + u_{4}y_{3}' - 4u_{5}'y_{2} - u_{2}^{(6)} - 6u_{3}^{(5)} - 5u_{4}^{(4)} - 0u_{5}''' + y_{3}^{(5)} + 5y_{4}^{(4)} + 10y_{5}''' + 10y_{6}''\\right)\\partial^3+\\left(u_{2}y_{4}''' + 3u_{2}y_{5}'' + 3u_{2}y_{6}' - u_{3}^{(4)}y_{2} - u_{3}'''y_{3} - u_{3}''y_{4} - u_{3}'y_{5} + u_{3}y_{4}'' + 2u_{3}y_{5}' - 4u_{4}'''y_{2} - 3u_{4}''y_{3} - 2u_{4}'y_{4} + u_{4}y_{4}' - 6u_{5}''y_{2} - 3u_{5}'y_{3} - u_{3}^{(6)} - 6u_{4}^{(5)} - 5u_{5}^{(4)} + y_{4}^{(5)} + 5y_{5}^{(4)} + 10y_{6}'''\\right)\\partial^2+\\left(u_{2}y_{5}''' + 3u_{2}y_{6}'' + u_{3}y_{5}'' + 2u_{3}y_{6}' - u_{4}^{(4)}y_{2} - u_{4}'''y_{3} - u_{4}''y_{4} - u_{4}'y_{5} + u_{4}y_{5}' - 4u_{5}'''y_{2} - 3u_{5}''y_{3} - 2u_{5}'y_{4} - u_{4}^{(6)} - 6u_{5}^{(5)} + y_{5}^{(5)} + 5y_{6}^{(4)}\\right)\\partial^1+\\left(u_{2}y_{6}''' + u_{3}y_{6}'' + u_{4}y_{6}' - u_{5}^{(4)}y_{2} - u_{5}'''y_{3} - u_{5}''y_{4} - u_{5}'y_{5} - u_{5}^{(6)} + y_{6}^{(5)}\\right)\\)</html>"
      ],
      "text/latex": [
       "$\\displaystyle [L_5, \\tilde{P}_6(U, Y)] = \\left(-6u_{2}' + 5y_{2}'\\right)\\partial^8+\\left(-5u_{2}'' - 6u_{3}' + 10y_{2}'' + 5y_{3}'\\right)\\partial^7+\\left(-4u_{2}'y_{2} + 3u_{2}y_{2}' - 0u_{2}''' - 5u_{3}'' - 6u_{4}' + 10y_{2}''' + 10y_{3}'' + 5y_{4}'\\right)\\partial^6+\\left(-6u_{2}''y_{2} - 3u_{2}'y_{3} + 3u_{2}y_{2}'' + 3u_{2}y_{3}' - 4u_{3}'y_{2} + 2u_{3}y_{2}' - 5u_{2}^{(4)} - 0u_{3}''' - 5u_{4}'' - 6u_{5}' + 5y_{2}^{(4)} + 10y_{3}''' + 10y_{4}'' + 5y_{5}'\\right)\\partial^5+\\left(-4u_{2}'''y_{2} - 3u_{2}''y_{3} - 2u_{2}'y_{4} + u_{2}y_{2}''' + 3u_{2}y_{3}'' + 3u_{2}y_{4}' - 6u_{3}''y_{2} - 3u_{3}'y_{3} + u_{3}y_{2}'' + 2u_{3}y_{3}' - 4u_{4}'y_{2} + u_{4}y_{2}' - 6u_{2}^{(5)} - 5u_{3}^{(4)} - 0u_{4}''' - 5u_{5}'' + y_{2}^{(5)} + 5y_{3}^{(4)} + 10y_{4}''' + 10y_{5}'' + 5y_{6}'\\right)\\partial^4+\\left(-u_{2}^{(4)}y_{2} - u_{2}'''y_{3} - u_{2}''y_{4} - u_{2}'y_{5} + u_{2}y_{3}''' + 3u_{2}y_{4}'' + 3u_{2}y_{5}' - 4u_{3}'''y_{2} - 3u_{3}''y_{3} - 2u_{3}'y_{4} + u_{3}y_{3}'' + 2u_{3}y_{4}' - 6u_{4}''y_{2} - 3u_{4}'y_{3} + u_{4}y_{3}' - 4u_{5}'y_{2} - u_{2}^{(6)} - 6u_{3}^{(5)} - 5u_{4}^{(4)} - 0u_{5}''' + y_{3}^{(5)} + 5y_{4}^{(4)} + 10y_{5}''' + 10y_{6}''\\right)\\partial^3+\\left(u_{2}y_{4}''' + 3u_{2}y_{5}'' + 3u_{2}y_{6}' - u_{3}^{(4)}y_{2} - u_{3}'''y_{3} - u_{3}''y_{4} - u_{3}'y_{5} + u_{3}y_{4}'' + 2u_{3}y_{5}' - 4u_{4}'''y_{2} - 3u_{4}''y_{3} - 2u_{4}'y_{4} + u_{4}y_{4}' - 6u_{5}''y_{2} - 3u_{5}'y_{3} - u_{3}^{(6)} - 6u_{4}^{(5)} - 5u_{5}^{(4)} + y_{4}^{(5)} + 5y_{5}^{(4)} + 10y_{6}'''\\right)\\partial^2+\\left(u_{2}y_{5}''' + 3u_{2}y_{6}'' + u_{3}y_{5}'' + 2u_{3}y_{6}' - u_{4}^{(4)}y_{2} - u_{4}'''y_{3} - u_{4}''y_{4} - u_{4}'y_{5} + u_{4}y_{5}' - 4u_{5}'''y_{2} - 3u_{5}''y_{3} - 2u_{5}'y_{4} - u_{4}^{(6)} - 6u_{5}^{(5)} + y_{5}^{(5)} + 5y_{6}^{(4)}\\right)\\partial^1+\\left(u_{2}y_{6}''' + u_{3}y_{6}'' + u_{4}y_{6}' - u_{5}^{(4)}y_{2} - u_{5}'''y_{3} - u_{5}''y_{4} - u_{5}'y_{5} - u_{5}^{(6)} + y_{6}^{(5)}\\right)$"
      ],
      "text/plain": [
       "[L_5, \\tilde{P}_6(U, Y)] = \\left(-6u_{2}' + 5y_{2}'\\right)\\partial^8+\\left(-5u_{2}'' - 6u_{3}' + 10y_{2}'' + 5y_{3}'\\right)\\partial^7+\\left(-4u_{2}'y_{2} + 3u_{2}y_{2}' - 0u_{2}''' - 5u_{3}'' - 6u_{4}' + 10y_{2}''' + 10y_{3}'' + 5y_{4}'\\right)\\partial^6+\\left(-6u_{2}''y_{2} - 3u_{2}'y_{3} + 3u_{2}y_{2}'' + 3u_{2}y_{3}' - 4u_{3}'y_{2} + 2u_{3}y_{2}' - 5u_{2}^{(4)} - 0u_{3}''' - 5u_{4}'' - 6u_{5}' + 5y_{2}^{(4)} + 10y_{3}''' + 10y_{4}'' + 5y_{5}'\\right)\\partial^5+\\left(-4u_{2}'''y_{2} - 3u_{2}''y_{3} - 2u_{2}'y_{4} + u_{2}y_{2}''' + 3u_{2}y_{3}'' + 3u_{2}y_{4}' - 6u_{3}''y_{2} - 3u_{3}'y_{3} + u_{3}y_{2}'' + 2u_{3}y_{3}' - 4u_{4}'y_{2} + u_{4}y_{2}' - 6u_{2}^{(5)} - 5u_{3}^{(4)} - 0u_{4}''' - 5u_{5}'' + y_{2}^{(5)} + 5y_{3}^{(4)} + 10y_{4}''' + 10y_{5}'' + 5y_{6}'\\right)\\partial^4+\\left(-u_{2}^{(4)}y_{2} - u_{2}'''y_{3} - u_{2}''y_{4} - u_{2}'y_{5} + u_{2}y_{3}''' + 3u_{2}y_{4}'' + 3u_{2}y_{5}' - 4u_{3}'''y_{2} - 3u_{3}''y_{3} - 2u_{3}'y_{4} + u_{3}y_{3}'' + 2u_{3}y_{4}' - 6u_{4}''y_{2} - 3u_{4}'y_{3} + u_{4}y_{3}' - 4u_{5}'y_{2} - u_{2}^{(6)} - 6u_{3}^{(5)} - 5u_{4}^{(4)} - 0u_{5}''' + y_{3}^{(5)} + 5y_{4}^{(4)} + 10y_{5}''' + 10y_{6}''\\right)\\partial^3+\\left(u_{2}y_{4}''' + 3u_{2}y_{5}'' + 3u_{2}y_{6}' - u_{3}^{(4)}y_{2} - u_{3}'''y_{3} - u_{3}''y_{4} - u_{3}'y_{5} + u_{3}y_{4}'' + 2u_{3}y_{5}' - 4u_{4}'''y_{2} - 3u_{4}''y_{3} - 2u_{4}'y_{4} + u_{4}y_{4}' - 6u_{5}''y_{2} - 3u_{5}'y_{3} - u_{3}^{(6)} - 6u_{4}^{(5)} - 5u_{5}^{(4)} + y_{4}^{(5)} + 5y_{5}^{(4)} + 10y_{6}'''\\right)\\partial^2+\\left(u_{2}y_{5}''' + 3u_{2}y_{6}'' + u_{3}y_{5}'' + 2u_{3}y_{6}' - u_{4}^{(4)}y_{2} - u_{4}'''y_{3} - u_{4}''y_{4} - u_{4}'y_{5} + u_{4}y_{5}' - 4u_{5}'''y_{2} - 3u_{5}''y_{3} - 2u_{5}'y_{4} - u_{4}^{(6)} - 6u_{5}^{(5)} + y_{5}^{(5)} + 5y_{6}^{(4)}\\right)\\partial^1+\\left(u_{2}y_{6}''' + u_{3}y_{6}'' + u_{4}y_{6}' - u_{5}^{(4)}y_{2} - u_{5}'''y_{3} - u_{5}''y_{4} - u_{5}'y_{5} - u_{5}^{(6)} + y_{6}^{(5)}\\right)"
      ]
     },
     "execution_count": 79,
     "metadata": {},
     "output_type": "execute_result"
    }
   ],
   "source": [
    "bracket = lie_brackets[6]\n",
    "LatexExpr(r\"[L_5, \\tilde{P}_6(U, Y)] = \" + \"+\".join(r\"\\left(\" + poly_to_latex(bracket.coefficient(z[i])) + r\"\\right)\" + (r\"\\partial^\" + str(i) if i > 0 else \"\") for i in range(bracket.order(z), -1, -1) if bracket.coefficient(z[i]) != 0))"
   ]
  },
  {
   "cell_type": "code",
   "execution_count": 80,
   "id": "6a6edb01-c77a-45dc-a525-22564dd8415a",
   "metadata": {},
   "outputs": [
    {
     "name": "stdout",
     "output_type": "stream",
     "text": [
      "[L_5, \\tilde{P}_6(U, Y)] = \\left(-6u_{2}' + 5y_{2}'\\right)\\partial^8+\\left(-5u_{2}'' - 6u_{3}' + 10y_{2}'' + 5y_{3}'\\right)\\partial^7+\\left(-4u_{2}'y_{2} + 3u_{2}y_{2}' - 0u_{2}''' - 5u_{3}'' - 6u_{4}' + 10y_{2}''' + 10y_{3}'' + 5y_{4}'\\right)\\partial^6+\\left(-6u_{2}''y_{2} - 3u_{2}'y_{3} + 3u_{2}y_{2}'' + 3u_{2}y_{3}' - 4u_{3}'y_{2} + 2u_{3}y_{2}' - 5u_{2}^{(4)} - 0u_{3}''' - 5u_{4}'' - 6u_{5}' + 5y_{2}^{(4)} + 10y_{3}''' + 10y_{4}'' + 5y_{5}'\\right)\\partial^5+\\left(-4u_{2}'''y_{2} - 3u_{2}''y_{3} - 2u_{2}'y_{4} + u_{2}y_{2}''' + 3u_{2}y_{3}'' + 3u_{2}y_{4}' - 6u_{3}''y_{2} - 3u_{3}'y_{3} + u_{3}y_{2}'' + 2u_{3}y_{3}' - 4u_{4}'y_{2} + u_{4}y_{2}' - 6u_{2}^{(5)} - 5u_{3}^{(4)} - 0u_{4}''' - 5u_{5}'' + y_{2}^{(5)} + 5y_{3}^{(4)} + 10y_{4}''' + 10y_{5}'' + 5y_{6}'\\right)\\partial^4+\\left(-u_{2}^{(4)}y_{2} - u_{2}'''y_{3} - u_{2}''y_{4} - u_{2}'y_{5} + u_{2}y_{3}''' + 3u_{2}y_{4}'' + 3u_{2}y_{5}' - 4u_{3}'''y_{2} - 3u_{3}''y_{3} - 2u_{3}'y_{4} + u_{3}y_{3}'' + 2u_{3}y_{4}' - 6u_{4}''y_{2} - 3u_{4}'y_{3} + u_{4}y_{3}' - 4u_{5}'y_{2} - u_{2}^{(6)} - 6u_{3}^{(5)} - 5u_{4}^{(4)} - 0u_{5}''' + y_{3}^{(5)} + 5y_{4}^{(4)} + 10y_{5}''' + 10y_{6}''\\right)\\partial^3+\\left(u_{2}y_{4}''' + 3u_{2}y_{5}'' + 3u_{2}y_{6}' - u_{3}^{(4)}y_{2} - u_{3}'''y_{3} - u_{3}''y_{4} - u_{3}'y_{5} + u_{3}y_{4}'' + 2u_{3}y_{5}' - 4u_{4}'''y_{2} - 3u_{4}''y_{3} - 2u_{4}'y_{4} + u_{4}y_{4}' - 6u_{5}''y_{2} - 3u_{5}'y_{3} - u_{3}^{(6)} - 6u_{4}^{(5)} - 5u_{5}^{(4)} + y_{4}^{(5)} + 5y_{5}^{(4)} + 10y_{6}'''\\right)\\partial^2+\\left(u_{2}y_{5}''' + 3u_{2}y_{6}'' + u_{3}y_{5}'' + 2u_{3}y_{6}' - u_{4}^{(4)}y_{2} - u_{4}'''y_{3} - u_{4}''y_{4} - u_{4}'y_{5} + u_{4}y_{5}' - 4u_{5}'''y_{2} - 3u_{5}''y_{3} - 2u_{5}'y_{4} - u_{4}^{(6)} - 6u_{5}^{(5)} + y_{5}^{(5)} + 5y_{6}^{(4)}\\right)\\partial^1+\\left(u_{2}y_{6}''' + u_{3}y_{6}'' + u_{4}y_{6}' - u_{5}^{(4)}y_{2} - u_{5}'''y_{3} - u_{5}''y_{4} - u_{5}'y_{5} - u_{5}^{(6)} + y_{6}^{(5)}\\right)\n"
     ]
    }
   ],
   "source": [
    "print(_)"
   ]
  },
  {
   "cell_type": "code",
   "execution_count": 81,
   "id": "24cfa0e6-08e9-4f57-b371-1888238f8632",
   "metadata": {},
   "outputs": [
    {
     "data": {
      "text/html": [
       "<html>\\(\\displaystyle \\left\\{\\begin{array}{rl}\n",
       "\t-4u_{2}'''y_{2} - 3u_{2}''y_{3} - 2u_{2}'y_{4} + u_{2}y_{2}''' + 3u_{2}y_{3}'' + 3u_{2}y_{4}' - 6u_{3}''y_{2} - 3u_{3}'y_{3} + u_{3}y_{2}'' + 2u_{3}y_{3}' - 4u_{4}'y_{2} + u_{4}y_{2}' - 6u_{2}^{(5)} - 5u_{3}^{(4)} - 0u_{4}''' - 5u_{5}'' + y_{2}^{(5)} + 5y_{3}^{(4)} + 10y_{4}''' + 10y_{5}'' + 5y_{6}'&= 0\\\\\n",
       "\t-6u_{2}''y_{2} - 3u_{2}'y_{3} + 3u_{2}y_{2}'' + 3u_{2}y_{3}' - 4u_{3}'y_{2} + 2u_{3}y_{2}' - 5u_{2}^{(4)} - 0u_{3}''' - 5u_{4}'' - 6u_{5}' + 5y_{2}^{(4)} + 10y_{3}''' + 10y_{4}'' + 5y_{5}'&= 0\\\\\n",
       "\t-4u_{2}'y_{2} + 3u_{2}y_{2}' - 0u_{2}''' - 5u_{3}'' - 6u_{4}' + 10y_{2}''' + 10y_{3}'' + 5y_{4}'&= 0\\\\\n",
       "\t-5u_{2}'' - 6u_{3}' + 10y_{2}'' + 5y_{3}'&= 0\\\\\n",
       "\t-6u_{2}' + 5y_{2}'&= 0\n",
       "\\end{array}\\right.\\)</html>"
      ],
      "text/latex": [
       "$\\displaystyle \\left\\{\\begin{array}{rl}\n",
       "\t-4u_{2}'''y_{2} - 3u_{2}''y_{3} - 2u_{2}'y_{4} + u_{2}y_{2}''' + 3u_{2}y_{3}'' + 3u_{2}y_{4}' - 6u_{3}''y_{2} - 3u_{3}'y_{3} + u_{3}y_{2}'' + 2u_{3}y_{3}' - 4u_{4}'y_{2} + u_{4}y_{2}' - 6u_{2}^{(5)} - 5u_{3}^{(4)} - 0u_{4}''' - 5u_{5}'' + y_{2}^{(5)} + 5y_{3}^{(4)} + 10y_{4}''' + 10y_{5}'' + 5y_{6}'&= 0\\\\\n",
       "\t-6u_{2}''y_{2} - 3u_{2}'y_{3} + 3u_{2}y_{2}'' + 3u_{2}y_{3}' - 4u_{3}'y_{2} + 2u_{3}y_{2}' - 5u_{2}^{(4)} - 0u_{3}''' - 5u_{4}'' - 6u_{5}' + 5y_{2}^{(4)} + 10y_{3}''' + 10y_{4}'' + 5y_{5}'&= 0\\\\\n",
       "\t-4u_{2}'y_{2} + 3u_{2}y_{2}' - 0u_{2}''' - 5u_{3}'' - 6u_{4}' + 10y_{2}''' + 10y_{3}'' + 5y_{4}'&= 0\\\\\n",
       "\t-5u_{2}'' - 6u_{3}' + 10y_{2}'' + 5y_{3}'&= 0\\\\\n",
       "\t-6u_{2}' + 5y_{2}'&= 0\n",
       "\\end{array}\\right.$"
      ],
      "text/plain": [
       "\\left\\{\\begin{array}{rl}\n",
       "\t-4u_{2}'''y_{2} - 3u_{2}''y_{3} - 2u_{2}'y_{4} + u_{2}y_{2}''' + 3u_{2}y_{3}'' + 3u_{2}y_{4}' - 6u_{3}''y_{2} - 3u_{3}'y_{3} + u_{3}y_{2}'' + 2u_{3}y_{3}' - 4u_{4}'y_{2} + u_{4}y_{2}' - 6u_{2}^{(5)} - 5u_{3}^{(4)} - 0u_{4}''' - 5u_{5}'' + y_{2}^{(5)} + 5y_{3}^{(4)} + 10y_{4}''' + 10y_{5}'' + 5y_{6}'&= 0\\\\\n",
       "\t-6u_{2}''y_{2} - 3u_{2}'y_{3} + 3u_{2}y_{2}'' + 3u_{2}y_{3}' - 4u_{3}'y_{2} + 2u_{3}y_{2}' - 5u_{2}^{(4)} - 0u_{3}''' - 5u_{4}'' - 6u_{5}' + 5y_{2}^{(4)} + 10y_{3}''' + 10y_{4}'' + 5y_{5}'&= 0\\\\\n",
       "\t-4u_{2}'y_{2} + 3u_{2}y_{2}' - 0u_{2}''' - 5u_{3}'' - 6u_{4}' + 10y_{2}''' + 10y_{3}'' + 5y_{4}'&= 0\\\\\n",
       "\t-5u_{2}'' - 6u_{3}' + 10y_{2}'' + 5y_{3}'&= 0\\\\\n",
       "\t-6u_{2}' + 5y_{2}'&= 0\n",
       "\\end{array}\\right."
      ]
     },
     "execution_count": 81,
     "metadata": {},
     "output_type": "execute_result"
    }
   ],
   "source": [
    "LatexExpr(r\"\\left\\{\\begin{array}{rl}\" + \"\\n\\t\" + \"\\\\\\\\\\n\\t\".join(poly_to_latex(p) + r\"&= 0\" for p in diff_systems[6]) + \"\\n\" + r\"\\end{array}\\right.\")"
   ]
  },
  {
   "cell_type": "code",
   "execution_count": 82,
   "id": "f1d3582d-b804-4491-a141-5e9d70ad2f41",
   "metadata": {},
   "outputs": [
    {
     "name": "stdout",
     "output_type": "stream",
     "text": [
      "\\left\\{\\begin{array}{rl}\n",
      "\t-4u_{2}'''y_{2} - 3u_{2}''y_{3} - 2u_{2}'y_{4} + u_{2}y_{2}''' + 3u_{2}y_{3}'' + 3u_{2}y_{4}' - 6u_{3}''y_{2} - 3u_{3}'y_{3} + u_{3}y_{2}'' + 2u_{3}y_{3}' - 4u_{4}'y_{2} + u_{4}y_{2}' - 6u_{2}^{(5)} - 5u_{3}^{(4)} - 0u_{4}''' - 5u_{5}'' + y_{2}^{(5)} + 5y_{3}^{(4)} + 10y_{4}''' + 10y_{5}'' + 5y_{6}'&= 0\\\\\n",
      "\t-6u_{2}''y_{2} - 3u_{2}'y_{3} + 3u_{2}y_{2}'' + 3u_{2}y_{3}' - 4u_{3}'y_{2} + 2u_{3}y_{2}' - 5u_{2}^{(4)} - 0u_{3}''' - 5u_{4}'' - 6u_{5}' + 5y_{2}^{(4)} + 10y_{3}''' + 10y_{4}'' + 5y_{5}'&= 0\\\\\n",
      "\t-4u_{2}'y_{2} + 3u_{2}y_{2}' - 0u_{2}''' - 5u_{3}'' - 6u_{4}' + 10y_{2}''' + 10y_{3}'' + 5y_{4}'&= 0\\\\\n",
      "\t-5u_{2}'' - 6u_{3}' + 10y_{2}'' + 5y_{3}'&= 0\\\\\n",
      "\t-6u_{2}' + 5y_{2}'&= 0\n",
      "\\end{array}\\right.\n"
     ]
    }
   ],
   "source": [
    "print(_)"
   ]
  },
  {
   "cell_type": "markdown",
   "id": "30be57ba-09d6-43f8-a13e-234cdff072cb",
   "metadata": {
    "jp-MarkdownHeadingCollapsed": true,
    "tags": []
   },
   "source": [
    "#### **2. Computing the basis of $W(L_5)$**"
   ]
  },
  {
   "cell_type": "code",
   "execution_count": 83,
   "id": "1c44c424-ff98-4f9a-9aaf-88d6660f5289",
   "metadata": {},
   "outputs": [],
   "source": [
    "W = R.weight_func([2,3,4,5,0,0,0,0,0,0], [1])\n",
    "T = [W.homogeneous_monomials(i) for i in range(7)]"
   ]
  },
  {
   "cell_type": "code",
   "execution_count": 84,
   "id": "26ea6301-cb65-4192-b769-f00e7c0d70ef",
   "metadata": {},
   "outputs": [
    {
     "data": {
      "text/html": [
       "<html>\\(\\displaystyle \\mathcal{T}_{0} = \\{1\\}\\)</html>"
      ],
      "text/latex": [
       "$\\displaystyle \\mathcal{T}_{0} = \\{1\\}$"
      ],
      "text/plain": [
       "\\mathcal{T}_{0} = \\{1\\}"
      ]
     },
     "metadata": {},
     "output_type": "display_data"
    },
    {
     "data": {
      "text/html": [
       "<html>\\(\\displaystyle \\mathcal{T}_{1} = \\{\\}\\)</html>"
      ],
      "text/latex": [
       "$\\displaystyle \\mathcal{T}_{1} = \\{\\}$"
      ],
      "text/plain": [
       "\\mathcal{T}_{1} = \\{\\}"
      ]
     },
     "metadata": {},
     "output_type": "display_data"
    },
    {
     "data": {
      "text/html": [
       "<html>\\(\\displaystyle \\mathcal{T}_{2} = \\{u_{2}\\}\\)</html>"
      ],
      "text/latex": [
       "$\\displaystyle \\mathcal{T}_{2} = \\{u_{2}\\}$"
      ],
      "text/plain": [
       "\\mathcal{T}_{2} = \\{u_{2}\\}"
      ]
     },
     "metadata": {},
     "output_type": "display_data"
    },
    {
     "data": {
      "text/html": [
       "<html>\\(\\displaystyle \\mathcal{T}_{3} = \\{u_{2}',u_{3}\\}\\)</html>"
      ],
      "text/latex": [
       "$\\displaystyle \\mathcal{T}_{3} = \\{u_{2}',u_{3}\\}$"
      ],
      "text/plain": [
       "\\mathcal{T}_{3} = \\{u_{2}',u_{3}\\}"
      ]
     },
     "metadata": {},
     "output_type": "display_data"
    },
    {
     "data": {
      "text/html": [
       "<html>\\(\\displaystyle \\mathcal{T}_{4} = \\{u_{2}'',u_{3}',u_{2}^2,u_{4}\\}\\)</html>"
      ],
      "text/latex": [
       "$\\displaystyle \\mathcal{T}_{4} = \\{u_{2}'',u_{3}',u_{2}^2,u_{4}\\}$"
      ],
      "text/plain": [
       "\\mathcal{T}_{4} = \\{u_{2}'',u_{3}',u_{2}^2,u_{4}\\}"
      ]
     },
     "metadata": {},
     "output_type": "display_data"
    },
    {
     "data": {
      "text/html": [
       "<html>\\(\\displaystyle \\mathcal{T}_{5} = \\{u_{2}''',u_{3}'',u_{2}'u_{2},u_{4}',u_{2}u_{3}^{(0)},u_{5}\\}\\)</html>"
      ],
      "text/latex": [
       "$\\displaystyle \\mathcal{T}_{5} = \\{u_{2}''',u_{3}'',u_{2}'u_{2},u_{4}',u_{2}u_{3}^{(0)},u_{5}\\}$"
      ],
      "text/plain": [
       "\\mathcal{T}_{5} = \\{u_{2}''',u_{3}'',u_{2}'u_{2},u_{4}',u_{2}u_{3}^{(0)},u_{5}\\}"
      ]
     },
     "metadata": {},
     "output_type": "display_data"
    },
    {
     "data": {
      "text/html": [
       "<html>\\(\\displaystyle \\mathcal{T}_{6} = \\{u_{2}^{(4)},u_{3}''',u_{2}''u_{2},u_{2}'^2,u_{4}'',u_{2}'u_{3},u_{2}u_{3}',u_{5}',u_{2}^3,u_{2}u_{4}^{(0)},u_{3}^2\\}\\)</html>"
      ],
      "text/latex": [
       "$\\displaystyle \\mathcal{T}_{6} = \\{u_{2}^{(4)},u_{3}''',u_{2}''u_{2},u_{2}'^2,u_{4}'',u_{2}'u_{3},u_{2}u_{3}',u_{5}',u_{2}^3,u_{2}u_{4}^{(0)},u_{3}^2\\}$"
      ],
      "text/plain": [
       "\\mathcal{T}_{6} = \\{u_{2}^{(4)},u_{3}''',u_{2}''u_{2},u_{2}'^2,u_{4}'',u_{2}'u_{3},u_{2}u_{3}',u_{5}',u_{2}^3,u_{2}u_{4}^{(0)},u_{3}^2\\}"
      ]
     },
     "metadata": {},
     "output_type": "display_data"
    }
   ],
   "source": [
    "for i in range(7):\n",
    "    show(LatexExpr(r\"\\mathcal{T}_{\" + str(i) + r\"} = \\{\" + \",\".join(poly_to_latex(t) for t in T[i]) +  r\"\\}\"))"
   ]
  },
  {
   "cell_type": "code",
   "execution_count": 85,
   "id": "be44872c-b906-4915-bab8-275c063ffa7d",
   "metadata": {},
   "outputs": [
    {
     "name": "stdout",
     "output_type": "stream",
     "text": [
      "\\begin{itemize}\n",
      "\t\\item $\\mathcal{T}_{0} = \\{1\\}$\n",
      "\t\\item $\\mathcal{T}_{1} = \\{\\}$\n",
      "\t\\item $\\mathcal{T}_{2} = \\{u_{2}\\}$\n",
      "\t\\item $\\mathcal{T}_{3} = \\{u_{2}',u_{3}\\}$\n",
      "\t\\item $\\mathcal{T}_{4} = \\{u_{2}'',u_{3}',u_{2}^2,u_{4}\\}$\n",
      "\t\\item $\\mathcal{T}_{5} = \\{u_{2}''',u_{3}'',u_{2}'u_{2},u_{4}',u_{2}u_{3}^{(0)},u_{5}\\}$\n",
      "\t\\item $\\mathcal{T}_{6} = \\{u_{2}^{(4)},u_{3}''',u_{2}''u_{2},u_{2}'^2,u_{4}'',u_{2}'u_{3},u_{2}u_{3}',u_{5}',u_{2}^3,u_{2}u_{4}^{(0)},u_{3}^2\\}$\n",
      "\\end{itemize}\n"
     ]
    }
   ],
   "source": [
    "print(LatexExpr(\n",
    "    r\"\\begin{itemize}\" + \"\\n\\t\" + r\"\\item $\" + (\"\\n\\t\" + r\"\\item $\").join(\n",
    "        r\"\\mathcal{T}_{\" + str(i) + r\"} = \\{\" + \",\".join(poly_to_latex(t) for t in T[i]) +  r\"\\}$\"\n",
    "    for i in range(7)) + \"\\n\" + r\"\\end{itemize}\"))"
   ]
  },
  {
   "cell_type": "code",
   "execution_count": 86,
   "id": "ac075362-452b-4e1a-b226-8aa34a9ef97e",
   "metadata": {},
   "outputs": [],
   "source": [
    "## We create now the constants\n",
    "RwC = DifferentialRing(PolynomialRing(QQ, sum(([f\"c_{i}_{j}\" for j in range(len(T[i]))] for i in range(2,7)), [])))\n",
    "C = [[],[]] + [[RwC(f\"c_{i}_{j}\") for j in range(len(T[i]))] for i in range(2,7)]"
   ]
  },
  {
   "cell_type": "code",
   "execution_count": 87,
   "id": "0f55af50-ea58-4e34-accb-d037cb3ec64e",
   "metadata": {},
   "outputs": [
    {
     "name": "stdout",
     "output_type": "stream",
     "text": [
      "\\begin{array}{rcl}\n",
      "\ty_{2} & \\rightarrow & c_{2,0}u_{2}\\\\\n",
      "\ty_{3} & \\rightarrow & c_{3,0}u_{2}' + c_{3,1}u_{3}\\\\\n",
      "\ty_{4} & \\rightarrow & c_{4,2}u_{2}^2 + c_{4,0}u_{2}'' + c_{4,1}u_{3}' + c_{4,3}u_{4}\\\\\n",
      "\ty_{5} & \\rightarrow & c_{5,2}u_{2}'u_{2} + c_{5,4}u_{2}u_{3}^{(0)} + c_{5,0}u_{2}''' + c_{5,1}u_{3}'' + c_{5,3}u_{4}' + c_{5,5}u_{5}\\\\\n",
      "\ty_{6} & \\rightarrow & c_{6,8}u_{2}^3 + c_{6,2}u_{2}''u_{2} + c_{6,3}u_{2}'^2 + c_{6,5}u_{2}'u_{3} + c_{6,6}u_{2}u_{3}' + c_{6,9}u_{2}u_{4}^{(0)} + c_{6,10}u_{3}^2 + c_{6,0}u_{2}^{(4)} + c_{6,1}u_{3}''' + c_{6,4}u_{4}'' + c_{6,7}u_{5}'\n",
      "\\end{array}\n"
     ]
    }
   ],
   "source": [
    "y_subs = {f\"y{i}\" : sum(c*t for (c,t) in zip(C[i], T[i])) for i in range(2,7)}\n",
    "print(LatexExpr(\n",
    "    r\"\\begin{array}{rcl}\" + \"\\n\\t\" + \"\\\\\\\\\\n\\t\".join(poly_to_latex(k) + r\" & \\rightarrow & \" + poly_to_latex(v) for (k,v) in y_subs.items()) + \"\\n\" + r\"\\end{array}\"))"
   ]
  },
  {
   "cell_type": "code",
   "execution_count": 88,
   "id": "20c92281-09ae-4db0-95fd-18de34e51439",
   "metadata": {},
   "outputs": [],
   "source": [
    "## We compute the linear system for each $m$\n",
    "lin_systems = [sum(([RwC.wrapped(c) for c in el(**y_subs).coefficients()] for el in diff_systems[m]), []) for m in range(7)]"
   ]
  },
  {
   "cell_type": "code",
   "execution_count": 89,
   "id": "c1a74598-8fa4-41d0-8ab0-33bf447d25c7",
   "metadata": {},
   "outputs": [
    {
     "data": {
      "text/html": [
       "<html>\\(\\displaystyle \\left\\{\\begin{array}{rl}\n",
       "\t5c_{2,0} & = -2\n",
       "\\end{array}\\right.\\)</html>"
      ],
      "text/latex": [
       "$\\displaystyle \\left\\{\\begin{array}{rl}\n",
       "\t5c_{2,0} & = -2\n",
       "\\end{array}\\right.$"
      ],
      "text/plain": [
       "\\left\\{\\begin{array}{rl}\n",
       "\t5c_{2,0} & = -2\n",
       "\\end{array}\\right."
      ]
     },
     "execution_count": 89,
     "metadata": {},
     "output_type": "execute_result"
    }
   ],
   "source": [
    "LatexExpr(\n",
    "    r\"\\left\\{\\begin{array}{rl}\" + \"\\n\\t\" + \"\\\\\\\\\\n\\t\".join(\n",
    "        poly_to_latex(equ-equ.constant_coefficient()) + r\" & = \" + poly_to_latex(equ.constant_coefficient()) \n",
    "        for equ in lin_systems[2]) + \"\\n\" r\"\\end{array}\\right.\")"
   ]
  },
  {
   "cell_type": "code",
   "execution_count": 90,
   "id": "c44aeb55-0d6d-41ca-941b-5adb965b3b3e",
   "metadata": {},
   "outputs": [
    {
     "name": "stdout",
     "output_type": "stream",
     "text": [
      "\\left\\{\\begin{array}{rl}\n",
      "\t5c_{2,0} & = -2\n",
      "\\end{array}\\right.\n"
     ]
    }
   ],
   "source": [
    "print(_)"
   ]
  },
  {
   "cell_type": "code",
   "execution_count": 91,
   "id": "4797c9bf-6b0e-447f-987c-16cde1ec8f84",
   "metadata": {},
   "outputs": [
    {
     "data": {
      "text/html": [
       "<html>\\(\\displaystyle \\left\\{\\begin{array}{rl}\n",
       "\t10c_{2,0} + 5c_{3,0} & = -3\\\\\n",
       "\t5c_{3,1} & = -3\\\\\n",
       "\t5c_{2,0} & = -3\n",
       "\\end{array}\\right.\\)</html>"
      ],
      "text/latex": [
       "$\\displaystyle \\left\\{\\begin{array}{rl}\n",
       "\t10c_{2,0} + 5c_{3,0} & = -3\\\\\n",
       "\t5c_{3,1} & = -3\\\\\n",
       "\t5c_{2,0} & = -3\n",
       "\\end{array}\\right.$"
      ],
      "text/plain": [
       "\\left\\{\\begin{array}{rl}\n",
       "\t10c_{2,0} + 5c_{3,0} & = -3\\\\\n",
       "\t5c_{3,1} & = -3\\\\\n",
       "\t5c_{2,0} & = -3\n",
       "\\end{array}\\right."
      ]
     },
     "execution_count": 91,
     "metadata": {},
     "output_type": "execute_result"
    }
   ],
   "source": [
    "LatexExpr(\n",
    "    r\"\\left\\{\\begin{array}{rl}\" + \"\\n\\t\" + \"\\\\\\\\\\n\\t\".join(\n",
    "        poly_to_latex(equ-equ.constant_coefficient()) + r\" & = \" + poly_to_latex(equ.constant_coefficient()) \n",
    "        for equ in lin_systems[3]) + \"\\n\" r\"\\end{array}\\right.\")"
   ]
  },
  {
   "cell_type": "code",
   "execution_count": 92,
   "id": "68713d25-10ed-4057-93fd-34cf998a320d",
   "metadata": {},
   "outputs": [
    {
     "name": "stdout",
     "output_type": "stream",
     "text": [
      "\\left\\{\\begin{array}{rl}\n",
      "\t10c_{2,0} + 5c_{3,0} & = -3\\\\\n",
      "\t5c_{3,1} & = -3\\\\\n",
      "\t5c_{2,0} & = -3\n",
      "\\end{array}\\right.\n"
     ]
    }
   ],
   "source": [
    "print(_)"
   ]
  },
  {
   "cell_type": "code",
   "execution_count": 93,
   "id": "d5aac3c9-71d1-48dd-aac3-315dc3e6b1da",
   "metadata": {},
   "outputs": [
    {
     "data": {
      "text/html": [
       "<html>\\(\\displaystyle \\left\\{\\begin{array}{rl}\n",
       "\tc_{2,0} + 10c_{4,2} & = 0\\\\\n",
       "\t10c_{2,0} + 10c_{3,0} + 5c_{4,0} & = -4\\\\\n",
       "\t10c_{3,1} + 5c_{4,1} & = -6\\\\\n",
       "\t5c_{4,3} & = -4\\\\\n",
       "\t10c_{2,0} + 5c_{3,0} & = -6\\\\\n",
       "\t5c_{3,1} & = -4\\\\\n",
       "\t5c_{2,0} & = -4\n",
       "\\end{array}\\right.\\)</html>"
      ],
      "text/latex": [
       "$\\displaystyle \\left\\{\\begin{array}{rl}\n",
       "\tc_{2,0} + 10c_{4,2} & = 0\\\\\n",
       "\t10c_{2,0} + 10c_{3,0} + 5c_{4,0} & = -4\\\\\n",
       "\t10c_{3,1} + 5c_{4,1} & = -6\\\\\n",
       "\t5c_{4,3} & = -4\\\\\n",
       "\t10c_{2,0} + 5c_{3,0} & = -6\\\\\n",
       "\t5c_{3,1} & = -4\\\\\n",
       "\t5c_{2,0} & = -4\n",
       "\\end{array}\\right.$"
      ],
      "text/plain": [
       "\\left\\{\\begin{array}{rl}\n",
       "\tc_{2,0} + 10c_{4,2} & = 0\\\\\n",
       "\t10c_{2,0} + 10c_{3,0} + 5c_{4,0} & = -4\\\\\n",
       "\t10c_{3,1} + 5c_{4,1} & = -6\\\\\n",
       "\t5c_{4,3} & = -4\\\\\n",
       "\t10c_{2,0} + 5c_{3,0} & = -6\\\\\n",
       "\t5c_{3,1} & = -4\\\\\n",
       "\t5c_{2,0} & = -4\n",
       "\\end{array}\\right."
      ]
     },
     "execution_count": 93,
     "metadata": {},
     "output_type": "execute_result"
    }
   ],
   "source": [
    "LatexExpr(\n",
    "    r\"\\left\\{\\begin{array}{rl}\" + \"\\n\\t\" + \"\\\\\\\\\\n\\t\".join(\n",
    "        poly_to_latex(equ-equ.constant_coefficient()) + r\" & = \" + poly_to_latex(equ.constant_coefficient()) \n",
    "        for equ in lin_systems[4]) + \"\\n\" r\"\\end{array}\\right.\")"
   ]
  },
  {
   "cell_type": "code",
   "execution_count": 94,
   "id": "4bc9abbd-3594-4204-b5d6-2f94f0df21ee",
   "metadata": {},
   "outputs": [
    {
     "name": "stdout",
     "output_type": "stream",
     "text": [
      "\\left\\{\\begin{array}{rl}\n",
      "\tc_{2,0} + 10c_{4,2} & = 0\\\\\n",
      "\t10c_{2,0} + 10c_{3,0} + 5c_{4,0} & = -4\\\\\n",
      "\t10c_{3,1} + 5c_{4,1} & = -6\\\\\n",
      "\t5c_{4,3} & = -4\\\\\n",
      "\t10c_{2,0} + 5c_{3,0} & = -6\\\\\n",
      "\t5c_{3,1} & = -4\\\\\n",
      "\t5c_{2,0} & = -4\n",
      "\\end{array}\\right.\n"
     ]
    }
   ],
   "source": [
    "print(_)"
   ]
  },
  {
   "cell_type": "code",
   "execution_count": 95,
   "id": "37ab5631-6558-45c9-85ea-4a6db16b5b8c",
   "metadata": {},
   "outputs": [
    {
     "data": {
      "text/html": [
       "<html>\\(\\displaystyle \\left\\{\\begin{array}{rl}\n",
       "\t3c_{3,0} + 20c_{4,2} + 5c_{5,2} & = 0\\\\\n",
       "\t-2c_{3,0} + 20c_{4,2} + 5c_{5,2} & = 0\\\\\n",
       "\t2c_{2,0} - 2c_{3,1} + 5c_{5,4} & = 0\\\\\n",
       "\t-3c_{2,0} + 3c_{3,1} + 5c_{5,4} & = 0\\\\\n",
       "\t5c_{2,0} + 10c_{3,0} + 10c_{4,0} + 5c_{5,0} & = -5\\\\\n",
       "\t10c_{3,1} + 10c_{4,1} + 5c_{5,1} & = -10\\\\\n",
       "\t10c_{4,3} + 5c_{5,3} & = -10\\\\\n",
       "\t5c_{5,5} & = -5\\\\\n",
       "\t10c_{4,2} & = 0\\\\\n",
       "\t10c_{2,0} + 10c_{3,0} + 5c_{4,0} & = -10\\\\\n",
       "\t10c_{3,1} + 5c_{4,1} & = -10\\\\\n",
       "\t5c_{4,3} & = -5\\\\\n",
       "\t10c_{2,0} + 5c_{3,0} & = -10\\\\\n",
       "\t5c_{3,1} & = -5\\\\\n",
       "\t5c_{2,0} & = -5\n",
       "\\end{array}\\right.\\)</html>"
      ],
      "text/latex": [
       "$\\displaystyle \\left\\{\\begin{array}{rl}\n",
       "\t3c_{3,0} + 20c_{4,2} + 5c_{5,2} & = 0\\\\\n",
       "\t-2c_{3,0} + 20c_{4,2} + 5c_{5,2} & = 0\\\\\n",
       "\t2c_{2,0} - 2c_{3,1} + 5c_{5,4} & = 0\\\\\n",
       "\t-3c_{2,0} + 3c_{3,1} + 5c_{5,4} & = 0\\\\\n",
       "\t5c_{2,0} + 10c_{3,0} + 10c_{4,0} + 5c_{5,0} & = -5\\\\\n",
       "\t10c_{3,1} + 10c_{4,1} + 5c_{5,1} & = -10\\\\\n",
       "\t10c_{4,3} + 5c_{5,3} & = -10\\\\\n",
       "\t5c_{5,5} & = -5\\\\\n",
       "\t10c_{4,2} & = 0\\\\\n",
       "\t10c_{2,0} + 10c_{3,0} + 5c_{4,0} & = -10\\\\\n",
       "\t10c_{3,1} + 5c_{4,1} & = -10\\\\\n",
       "\t5c_{4,3} & = -5\\\\\n",
       "\t10c_{2,0} + 5c_{3,0} & = -10\\\\\n",
       "\t5c_{3,1} & = -5\\\\\n",
       "\t5c_{2,0} & = -5\n",
       "\\end{array}\\right.$"
      ],
      "text/plain": [
       "\\left\\{\\begin{array}{rl}\n",
       "\t3c_{3,0} + 20c_{4,2} + 5c_{5,2} & = 0\\\\\n",
       "\t-2c_{3,0} + 20c_{4,2} + 5c_{5,2} & = 0\\\\\n",
       "\t2c_{2,0} - 2c_{3,1} + 5c_{5,4} & = 0\\\\\n",
       "\t-3c_{2,0} + 3c_{3,1} + 5c_{5,4} & = 0\\\\\n",
       "\t5c_{2,0} + 10c_{3,0} + 10c_{4,0} + 5c_{5,0} & = -5\\\\\n",
       "\t10c_{3,1} + 10c_{4,1} + 5c_{5,1} & = -10\\\\\n",
       "\t10c_{4,3} + 5c_{5,3} & = -10\\\\\n",
       "\t5c_{5,5} & = -5\\\\\n",
       "\t10c_{4,2} & = 0\\\\\n",
       "\t10c_{2,0} + 10c_{3,0} + 5c_{4,0} & = -10\\\\\n",
       "\t10c_{3,1} + 5c_{4,1} & = -10\\\\\n",
       "\t5c_{4,3} & = -5\\\\\n",
       "\t10c_{2,0} + 5c_{3,0} & = -10\\\\\n",
       "\t5c_{3,1} & = -5\\\\\n",
       "\t5c_{2,0} & = -5\n",
       "\\end{array}\\right."
      ]
     },
     "execution_count": 95,
     "metadata": {},
     "output_type": "execute_result"
    }
   ],
   "source": [
    "LatexExpr(\n",
    "    r\"\\left\\{\\begin{array}{rl}\" + \"\\n\\t\" + \"\\\\\\\\\\n\\t\".join(\n",
    "        poly_to_latex(equ-equ.constant_coefficient()) + r\" & = \" + poly_to_latex(equ.constant_coefficient()) \n",
    "        for equ in lin_systems[5]) + \"\\n\" r\"\\end{array}\\right.\")"
   ]
  },
  {
   "cell_type": "code",
   "execution_count": 96,
   "id": "34fdf669-8164-4641-b93f-bd0516cee4c9",
   "metadata": {},
   "outputs": [
    {
     "name": "stdout",
     "output_type": "stream",
     "text": [
      "\\left\\{\\begin{array}{rl}\n",
      "\t3c_{3,0} + 20c_{4,2} + 5c_{5,2} & = 0\\\\\n",
      "\t-2c_{3,0} + 20c_{4,2} + 5c_{5,2} & = 0\\\\\n",
      "\t2c_{2,0} - 2c_{3,1} + 5c_{5,4} & = 0\\\\\n",
      "\t-3c_{2,0} + 3c_{3,1} + 5c_{5,4} & = 0\\\\\n",
      "\t5c_{2,0} + 10c_{3,0} + 10c_{4,0} + 5c_{5,0} & = -5\\\\\n",
      "\t10c_{3,1} + 10c_{4,1} + 5c_{5,1} & = -10\\\\\n",
      "\t10c_{4,3} + 5c_{5,3} & = -10\\\\\n",
      "\t5c_{5,5} & = -5\\\\\n",
      "\t10c_{4,2} & = 0\\\\\n",
      "\t10c_{2,0} + 10c_{3,0} + 5c_{4,0} & = -10\\\\\n",
      "\t10c_{3,1} + 5c_{4,1} & = -10\\\\\n",
      "\t5c_{4,3} & = -5\\\\\n",
      "\t10c_{2,0} + 5c_{3,0} & = -10\\\\\n",
      "\t5c_{3,1} & = -5\\\\\n",
      "\t5c_{2,0} & = -5\n",
      "\\end{array}\\right.\n"
     ]
    }
   ],
   "source": [
    "print(_)"
   ]
  },
  {
   "cell_type": "code",
   "execution_count": 97,
   "id": "dae6b62e-dd6b-4cef-97c1-260233fec6f8",
   "metadata": {},
   "outputs": [
    {
     "data": {
      "text/html": [
       "<html>\\(\\displaystyle \\left\\{\\begin{array}{rl}\n",
       "\t4c_{4,2} + 15c_{6,8} & = 0\\\\\n",
       "\t-3c_{2,0} + 3c_{3,0} + 3c_{4,0} + 20c_{4,2} + 10c_{5,2} + 5c_{6,2} & = 0\\\\\n",
       "\t-3c_{3,0} - 2c_{4,0} + 60c_{4,2} + 30c_{5,2} + 5c_{6,2} + 10c_{6,3} & = 0\\\\\n",
       "\tc_{2,0} + 2c_{3,0} - 3c_{3,1} + 10c_{5,4} + 5c_{6,5} & = 0\\\\\n",
       "\t-3c_{3,0} - 2c_{4,1} + 20c_{5,4} + 5c_{6,5} + 5c_{6,6} & = 0\\\\\n",
       "\tc_{2,0} - 2c_{4,3} + 5c_{6,9} & = 0\\\\\n",
       "\t-6c_{2,0} + 3c_{3,1} + 3c_{4,1} + 10c_{5,4} + 5c_{6,6} & = 0\\\\\n",
       "\t-4c_{2,0} + 3c_{4,3} + 5c_{6,9} & = 0\\\\\n",
       "\t-c_{3,1} + 10c_{6,10} & = 0\\\\\n",
       "\tc_{2,0} + 5c_{3,0} + 10c_{4,0} + 10c_{5,0} + 5c_{6,0} & = -6\\\\\n",
       "\t5c_{3,1} + 10c_{4,1} + 10c_{5,1} + 5c_{6,1} & = -15\\\\\n",
       "\t10c_{4,3} + 10c_{5,3} + 5c_{6,4} & = -20\\\\\n",
       "\t10c_{5,5} + 5c_{6,7} & = -15\\\\\n",
       "\t-3c_{2,0} + 3c_{3,0} + 20c_{4,2} + 5c_{5,2} & = 0\\\\\n",
       "\t-3c_{3,0} + 20c_{4,2} + 5c_{5,2} & = 0\\\\\n",
       "\t2c_{2,0} - 3c_{3,1} + 5c_{5,4} & = 0\\\\\n",
       "\t-4c_{2,0} + 3c_{3,1} + 5c_{5,4} & = 0\\\\\n",
       "\t5c_{2,0} + 10c_{3,0} + 10c_{4,0} + 5c_{5,0} & = -15\\\\\n",
       "\t10c_{3,1} + 10c_{4,1} + 5c_{5,1} & = -20\\\\\n",
       "\t10c_{4,3} + 5c_{5,3} & = -15\\\\\n",
       "\t5c_{5,5} & = -6\\\\\n",
       "\t-c_{2,0} + 10c_{4,2} & = 0\\\\\n",
       "\t10c_{2,0} + 10c_{3,0} + 5c_{4,0} & = -20\\\\\n",
       "\t10c_{3,1} + 5c_{4,1} & = -15\\\\\n",
       "\t5c_{4,3} & = -6\\\\\n",
       "\t10c_{2,0} + 5c_{3,0} & = -15\\\\\n",
       "\t5c_{3,1} & = -6\\\\\n",
       "\t5c_{2,0} & = -6\n",
       "\\end{array}\\right.\\)</html>"
      ],
      "text/latex": [
       "$\\displaystyle \\left\\{\\begin{array}{rl}\n",
       "\t4c_{4,2} + 15c_{6,8} & = 0\\\\\n",
       "\t-3c_{2,0} + 3c_{3,0} + 3c_{4,0} + 20c_{4,2} + 10c_{5,2} + 5c_{6,2} & = 0\\\\\n",
       "\t-3c_{3,0} - 2c_{4,0} + 60c_{4,2} + 30c_{5,2} + 5c_{6,2} + 10c_{6,3} & = 0\\\\\n",
       "\tc_{2,0} + 2c_{3,0} - 3c_{3,1} + 10c_{5,4} + 5c_{6,5} & = 0\\\\\n",
       "\t-3c_{3,0} - 2c_{4,1} + 20c_{5,4} + 5c_{6,5} + 5c_{6,6} & = 0\\\\\n",
       "\tc_{2,0} - 2c_{4,3} + 5c_{6,9} & = 0\\\\\n",
       "\t-6c_{2,0} + 3c_{3,1} + 3c_{4,1} + 10c_{5,4} + 5c_{6,6} & = 0\\\\\n",
       "\t-4c_{2,0} + 3c_{4,3} + 5c_{6,9} & = 0\\\\\n",
       "\t-c_{3,1} + 10c_{6,10} & = 0\\\\\n",
       "\tc_{2,0} + 5c_{3,0} + 10c_{4,0} + 10c_{5,0} + 5c_{6,0} & = -6\\\\\n",
       "\t5c_{3,1} + 10c_{4,1} + 10c_{5,1} + 5c_{6,1} & = -15\\\\\n",
       "\t10c_{4,3} + 10c_{5,3} + 5c_{6,4} & = -20\\\\\n",
       "\t10c_{5,5} + 5c_{6,7} & = -15\\\\\n",
       "\t-3c_{2,0} + 3c_{3,0} + 20c_{4,2} + 5c_{5,2} & = 0\\\\\n",
       "\t-3c_{3,0} + 20c_{4,2} + 5c_{5,2} & = 0\\\\\n",
       "\t2c_{2,0} - 3c_{3,1} + 5c_{5,4} & = 0\\\\\n",
       "\t-4c_{2,0} + 3c_{3,1} + 5c_{5,4} & = 0\\\\\n",
       "\t5c_{2,0} + 10c_{3,0} + 10c_{4,0} + 5c_{5,0} & = -15\\\\\n",
       "\t10c_{3,1} + 10c_{4,1} + 5c_{5,1} & = -20\\\\\n",
       "\t10c_{4,3} + 5c_{5,3} & = -15\\\\\n",
       "\t5c_{5,5} & = -6\\\\\n",
       "\t-c_{2,0} + 10c_{4,2} & = 0\\\\\n",
       "\t10c_{2,0} + 10c_{3,0} + 5c_{4,0} & = -20\\\\\n",
       "\t10c_{3,1} + 5c_{4,1} & = -15\\\\\n",
       "\t5c_{4,3} & = -6\\\\\n",
       "\t10c_{2,0} + 5c_{3,0} & = -15\\\\\n",
       "\t5c_{3,1} & = -6\\\\\n",
       "\t5c_{2,0} & = -6\n",
       "\\end{array}\\right.$"
      ],
      "text/plain": [
       "\\left\\{\\begin{array}{rl}\n",
       "\t4c_{4,2} + 15c_{6,8} & = 0\\\\\n",
       "\t-3c_{2,0} + 3c_{3,0} + 3c_{4,0} + 20c_{4,2} + 10c_{5,2} + 5c_{6,2} & = 0\\\\\n",
       "\t-3c_{3,0} - 2c_{4,0} + 60c_{4,2} + 30c_{5,2} + 5c_{6,2} + 10c_{6,3} & = 0\\\\\n",
       "\tc_{2,0} + 2c_{3,0} - 3c_{3,1} + 10c_{5,4} + 5c_{6,5} & = 0\\\\\n",
       "\t-3c_{3,0} - 2c_{4,1} + 20c_{5,4} + 5c_{6,5} + 5c_{6,6} & = 0\\\\\n",
       "\tc_{2,0} - 2c_{4,3} + 5c_{6,9} & = 0\\\\\n",
       "\t-6c_{2,0} + 3c_{3,1} + 3c_{4,1} + 10c_{5,4} + 5c_{6,6} & = 0\\\\\n",
       "\t-4c_{2,0} + 3c_{4,3} + 5c_{6,9} & = 0\\\\\n",
       "\t-c_{3,1} + 10c_{6,10} & = 0\\\\\n",
       "\tc_{2,0} + 5c_{3,0} + 10c_{4,0} + 10c_{5,0} + 5c_{6,0} & = -6\\\\\n",
       "\t5c_{3,1} + 10c_{4,1} + 10c_{5,1} + 5c_{6,1} & = -15\\\\\n",
       "\t10c_{4,3} + 10c_{5,3} + 5c_{6,4} & = -20\\\\\n",
       "\t10c_{5,5} + 5c_{6,7} & = -15\\\\\n",
       "\t-3c_{2,0} + 3c_{3,0} + 20c_{4,2} + 5c_{5,2} & = 0\\\\\n",
       "\t-3c_{3,0} + 20c_{4,2} + 5c_{5,2} & = 0\\\\\n",
       "\t2c_{2,0} - 3c_{3,1} + 5c_{5,4} & = 0\\\\\n",
       "\t-4c_{2,0} + 3c_{3,1} + 5c_{5,4} & = 0\\\\\n",
       "\t5c_{2,0} + 10c_{3,0} + 10c_{4,0} + 5c_{5,0} & = -15\\\\\n",
       "\t10c_{3,1} + 10c_{4,1} + 5c_{5,1} & = -20\\\\\n",
       "\t10c_{4,3} + 5c_{5,3} & = -15\\\\\n",
       "\t5c_{5,5} & = -6\\\\\n",
       "\t-c_{2,0} + 10c_{4,2} & = 0\\\\\n",
       "\t10c_{2,0} + 10c_{3,0} + 5c_{4,0} & = -20\\\\\n",
       "\t10c_{3,1} + 5c_{4,1} & = -15\\\\\n",
       "\t5c_{4,3} & = -6\\\\\n",
       "\t10c_{2,0} + 5c_{3,0} & = -15\\\\\n",
       "\t5c_{3,1} & = -6\\\\\n",
       "\t5c_{2,0} & = -6\n",
       "\\end{array}\\right."
      ]
     },
     "execution_count": 97,
     "metadata": {},
     "output_type": "execute_result"
    }
   ],
   "source": [
    "LatexExpr(\n",
    "    r\"\\left\\{\\begin{array}{rl}\" + \"\\n\\t\" + \"\\\\\\\\\\n\\t\".join(\n",
    "        poly_to_latex(equ-equ.constant_coefficient()) + r\" & = \" + poly_to_latex(equ.constant_coefficient()) \n",
    "        for equ in lin_systems[6]) + \"\\n\" r\"\\end{array}\\right.\")"
   ]
  },
  {
   "cell_type": "code",
   "execution_count": 98,
   "id": "8505c1db-9336-49fc-8e4a-9939a3091fb2",
   "metadata": {},
   "outputs": [
    {
     "name": "stdout",
     "output_type": "stream",
     "text": [
      "\\left\\{\\begin{array}{rl}\n",
      "\t4c_{4,2} + 15c_{6,8} & = 0\\\\\n",
      "\t-3c_{2,0} + 3c_{3,0} + 3c_{4,0} + 20c_{4,2} + 10c_{5,2} + 5c_{6,2} & = 0\\\\\n",
      "\t-3c_{3,0} - 2c_{4,0} + 60c_{4,2} + 30c_{5,2} + 5c_{6,2} + 10c_{6,3} & = 0\\\\\n",
      "\tc_{2,0} + 2c_{3,0} - 3c_{3,1} + 10c_{5,4} + 5c_{6,5} & = 0\\\\\n",
      "\t-3c_{3,0} - 2c_{4,1} + 20c_{5,4} + 5c_{6,5} + 5c_{6,6} & = 0\\\\\n",
      "\tc_{2,0} - 2c_{4,3} + 5c_{6,9} & = 0\\\\\n",
      "\t-6c_{2,0} + 3c_{3,1} + 3c_{4,1} + 10c_{5,4} + 5c_{6,6} & = 0\\\\\n",
      "\t-4c_{2,0} + 3c_{4,3} + 5c_{6,9} & = 0\\\\\n",
      "\t-c_{3,1} + 10c_{6,10} & = 0\\\\\n",
      "\tc_{2,0} + 5c_{3,0} + 10c_{4,0} + 10c_{5,0} + 5c_{6,0} & = -6\\\\\n",
      "\t5c_{3,1} + 10c_{4,1} + 10c_{5,1} + 5c_{6,1} & = -15\\\\\n",
      "\t10c_{4,3} + 10c_{5,3} + 5c_{6,4} & = -20\\\\\n",
      "\t10c_{5,5} + 5c_{6,7} & = -15\\\\\n",
      "\t-3c_{2,0} + 3c_{3,0} + 20c_{4,2} + 5c_{5,2} & = 0\\\\\n",
      "\t-3c_{3,0} + 20c_{4,2} + 5c_{5,2} & = 0\\\\\n",
      "\t2c_{2,0} - 3c_{3,1} + 5c_{5,4} & = 0\\\\\n",
      "\t-4c_{2,0} + 3c_{3,1} + 5c_{5,4} & = 0\\\\\n",
      "\t5c_{2,0} + 10c_{3,0} + 10c_{4,0} + 5c_{5,0} & = -15\\\\\n",
      "\t10c_{3,1} + 10c_{4,1} + 5c_{5,1} & = -20\\\\\n",
      "\t10c_{4,3} + 5c_{5,3} & = -15\\\\\n",
      "\t5c_{5,5} & = -6\\\\\n",
      "\t-c_{2,0} + 10c_{4,2} & = 0\\\\\n",
      "\t10c_{2,0} + 10c_{3,0} + 5c_{4,0} & = -20\\\\\n",
      "\t10c_{3,1} + 5c_{4,1} & = -15\\\\\n",
      "\t5c_{4,3} & = -6\\\\\n",
      "\t10c_{2,0} + 5c_{3,0} & = -15\\\\\n",
      "\t5c_{3,1} & = -6\\\\\n",
      "\t5c_{2,0} & = -6\n",
      "\\end{array}\\right.\n"
     ]
    }
   ],
   "source": [
    "print(_)"
   ]
  },
  {
   "cell_type": "code",
   "execution_count": 99,
   "id": "268d1f87-ab88-43c7-bc88-0d5cdf74fe42",
   "metadata": {},
   "outputs": [],
   "source": [
    "solutions = [ideal(system).groebner_basis() if len(system) > 0 else [] for system in lin_systems]"
   ]
  },
  {
   "cell_type": "code",
   "execution_count": 100,
   "id": "b5c14ee5-74dd-4273-b119-cda9d15c715b",
   "metadata": {},
   "outputs": [
    {
     "data": {
      "text/html": [
       "<html>\\(\\displaystyle 0 \\qquad\\longrightarrow\\qquad \\left[\\right]\\)</html>"
      ],
      "text/latex": [
       "$\\displaystyle 0 \\qquad\\longrightarrow\\qquad \\left[\\right]$"
      ],
      "text/plain": [
       "0 \\qquad\\longrightarrow\\qquad []"
      ]
     },
     "metadata": {},
     "output_type": "display_data"
    },
    {
     "data": {
      "text/html": [
       "<html>\\(\\displaystyle 1 \\qquad\\longrightarrow\\qquad \\left[\\right]\\)</html>"
      ],
      "text/latex": [
       "$\\displaystyle 1 \\qquad\\longrightarrow\\qquad \\left[\\right]$"
      ],
      "text/plain": [
       "1 \\qquad\\longrightarrow\\qquad []"
      ]
     },
     "metadata": {},
     "output_type": "display_data"
    },
    {
     "data": {
      "text/html": [
       "<html>\\(\\displaystyle 2 \\qquad\\longrightarrow\\qquad \\left[c_{2,0} - \\frac{2}{5}\\right]\\)</html>"
      ],
      "text/latex": [
       "$\\displaystyle 2 \\qquad\\longrightarrow\\qquad \\left[c_{2,0} - \\frac{2}{5}\\right]$"
      ],
      "text/plain": [
       "2 \\qquad\\longrightarrow\\qquad [c_{2,0} - \\frac{2}{5}]"
      ]
     },
     "metadata": {},
     "output_type": "display_data"
    },
    {
     "data": {
      "text/html": [
       "<html>\\(\\displaystyle 3 \\qquad\\longrightarrow\\qquad \\left[c_{2,0} - \\frac{3}{5}, c_{3,0} + \\frac{3}{5}, c_{3,1} - \\frac{3}{5}\\right]\\)</html>"
      ],
      "text/latex": [
       "$\\displaystyle 3 \\qquad\\longrightarrow\\qquad \\left[c_{2,0} - \\frac{3}{5}, c_{3,0} + \\frac{3}{5}, c_{3,1} - \\frac{3}{5}\\right]$"
      ],
      "text/plain": [
       "3 \\qquad\\longrightarrow\\qquad [c_{2,0} - \\frac{3}{5}, c_{3,0} + \\frac{3}{5}, c_{3,1} - \\frac{3}{5}]"
      ]
     },
     "metadata": {},
     "output_type": "display_data"
    },
    {
     "data": {
      "text/html": [
       "<html>\\(\\displaystyle 4 \\qquad\\longrightarrow\\qquad \\left[c_{2,0} - \\frac{4}{5}, c_{3,0} + \\frac{2}{5}, c_{3,1} - \\frac{4}{5}, c_{4,0}, c_{4,1} + \\frac{2}{5}, c_{4,2} + \\frac{2}{25}, c_{4,3} - \\frac{4}{5}\\right]\\)</html>"
      ],
      "text/latex": [
       "$\\displaystyle 4 \\qquad\\longrightarrow\\qquad \\left[c_{2,0} - \\frac{4}{5}, c_{3,0} + \\frac{2}{5}, c_{3,1} - \\frac{4}{5}, c_{4,0}, c_{4,1} + \\frac{2}{5}, c_{4,2} + \\frac{2}{25}, c_{4,3} - \\frac{4}{5}\\right]$"
      ],
      "text/plain": [
       "4 \\qquad\\longrightarrow\\qquad [c_{2,0} - \\frac{4}{5},\n",
       " c_{3,0} + \\frac{2}{5},\n",
       " c_{3,1} - \\frac{4}{5},\n",
       " c_{4,0},\n",
       " c_{4,1} + \\frac{2}{5},\n",
       " c_{4,2} + \\frac{2}{25},\n",
       " c_{4,3} - \\frac{4}{5}]"
      ]
     },
     "metadata": {},
     "output_type": "display_data"
    },
    {
     "data": {
      "text/html": [
       "<html>\\(\\displaystyle 5 \\qquad\\longrightarrow\\qquad \\left[c_{2,0} - 1, c_{3,0}, c_{3,1} - 1, c_{4,0}, c_{4,1}, c_{4,2}, c_{4,3} - 1, c_{5,0}, c_{5,1}, c_{5,2}, c_{5,3}, c_{5,4}, c_{5,5} - 1\\right]\\)</html>"
      ],
      "text/latex": [
       "$\\displaystyle 5 \\qquad\\longrightarrow\\qquad \\left[c_{2,0} - 1, c_{3,0}, c_{3,1} - 1, c_{4,0}, c_{4,1}, c_{4,2}, c_{4,3} - 1, c_{5,0}, c_{5,1}, c_{5,2}, c_{5,3}, c_{5,4}, c_{5,5} - 1\\right]$"
      ],
      "text/plain": [
       "5 \\qquad\\longrightarrow\\qquad [c_{2,0} - 1,\n",
       " c_{3,0},\n",
       " c_{3,1} - 1,\n",
       " c_{4,0},\n",
       " c_{4,1},\n",
       " c_{4,2},\n",
       " c_{4,3} - 1,\n",
       " c_{5,0},\n",
       " c_{5,1},\n",
       " c_{5,2},\n",
       " c_{5,3},\n",
       " c_{5,4},\n",
       " c_{5,5} - 1]"
      ]
     },
     "metadata": {},
     "output_type": "display_data"
    },
    {
     "data": {
      "text/html": [
       "<html>\\(\\displaystyle 6 \\qquad\\longrightarrow\\qquad \\left[c_{2,0} - \\frac{6}{5}, c_{3,0} - \\frac{3}{5}, c_{3,1} - \\frac{6}{5}, c_{4,0} - \\frac{2}{5}, c_{4,1} - \\frac{3}{5}, c_{4,2} - \\frac{3}{25}, c_{4,3} - \\frac{6}{5}, c_{5,0} + \\frac{1}{5}, c_{5,1} - \\frac{2}{5}, c_{5,2} + \\frac{3}{25}, c_{5,3} - \\frac{3}{5}, c_{5,4} - \\frac{6}{25}, c_{5,5} - \\frac{6}{5}, c_{6,0} + \\frac{1}{25}, c_{6,1} + \\frac{1}{5}, c_{6,2} + \\frac{3}{25}, c_{6,3} + \\frac{1}{25}, c_{6,4} - \\frac{2}{5}, c_{6,5} + \\frac{6}{25}, c_{6,6} + \\frac{3}{25}, c_{6,7} - \\frac{3}{5}, c_{6,8} + \\frac{4}{125}, c_{6,9} - \\frac{6}{25}, c_{6,10} - \\frac{3}{25}\\right]\\)</html>"
      ],
      "text/latex": [
       "$\\displaystyle 6 \\qquad\\longrightarrow\\qquad \\left[c_{2,0} - \\frac{6}{5}, c_{3,0} - \\frac{3}{5}, c_{3,1} - \\frac{6}{5}, c_{4,0} - \\frac{2}{5}, c_{4,1} - \\frac{3}{5}, c_{4,2} - \\frac{3}{25}, c_{4,3} - \\frac{6}{5}, c_{5,0} + \\frac{1}{5}, c_{5,1} - \\frac{2}{5}, c_{5,2} + \\frac{3}{25}, c_{5,3} - \\frac{3}{5}, c_{5,4} - \\frac{6}{25}, c_{5,5} - \\frac{6}{5}, c_{6,0} + \\frac{1}{25}, c_{6,1} + \\frac{1}{5}, c_{6,2} + \\frac{3}{25}, c_{6,3} + \\frac{1}{25}, c_{6,4} - \\frac{2}{5}, c_{6,5} + \\frac{6}{25}, c_{6,6} + \\frac{3}{25}, c_{6,7} - \\frac{3}{5}, c_{6,8} + \\frac{4}{125}, c_{6,9} - \\frac{6}{25}, c_{6,10} - \\frac{3}{25}\\right]$"
      ],
      "text/plain": [
       "6 \\qquad\\longrightarrow\\qquad [c_{2,0} - \\frac{6}{5},\n",
       " c_{3,0} - \\frac{3}{5},\n",
       " c_{3,1} - \\frac{6}{5},\n",
       " c_{4,0} - \\frac{2}{5},\n",
       " c_{4,1} - \\frac{3}{5},\n",
       " c_{4,2} - \\frac{3}{25},\n",
       " c_{4,3} - \\frac{6}{5},\n",
       " c_{5,0} + \\frac{1}{5},\n",
       " c_{5,1} - \\frac{2}{5},\n",
       " c_{5,2} + \\frac{3}{25},\n",
       " c_{5,3} - \\frac{3}{5},\n",
       " c_{5,4} - \\frac{6}{25},\n",
       " c_{5,5} - \\frac{6}{5},\n",
       " c_{6,0} + \\frac{1}{25},\n",
       " c_{6,1} + \\frac{1}{5},\n",
       " c_{6,2} + \\frac{3}{25},\n",
       " c_{6,3} + \\frac{1}{25},\n",
       " c_{6,4} - \\frac{2}{5},\n",
       " c_{6,5} + \\frac{6}{25},\n",
       " c_{6,6} + \\frac{3}{25},\n",
       " c_{6,7} - \\frac{3}{5},\n",
       " c_{6,8} + \\frac{4}{125},\n",
       " c_{6,9} - \\frac{6}{25},\n",
       " c_{6,10} - \\frac{3}{25}]"
      ]
     },
     "metadata": {},
     "output_type": "display_data"
    }
   ],
   "source": [
    "for i in range(len(solutions)):\n",
    "    show(i, LatexExpr(r\"\\qquad\\longrightarrow\\qquad\"), [LatexExpr(poly_to_latex(sol)) for sol in solutions[i]])"
   ]
  },
  {
   "cell_type": "markdown",
   "id": "4579b4e2-0154-4d80-a23d-ebb29d741441",
   "metadata": {
    "jp-MarkdownHeadingCollapsed": true,
    "tags": []
   },
   "source": [
    "#### **3. Computing the hierarchy equations**"
   ]
  },
  {
   "cell_type": "code",
   "execution_count": 101,
   "id": "7c672e49-0b97-4e67-aec4-f725a48bc66e",
   "metadata": {},
   "outputs": [],
   "source": [
    "y_subs_true = [dict(),dict()] + [{f\"y{i}\" : sum(QQ(RwC.wrapped(c).reduce(solutions[m]))*t for (c,t) in zip(C[i], T[i])) for i in range(2,m+1)} for m in range(2,7)]"
   ]
  },
  {
   "cell_type": "code",
   "execution_count": 102,
   "id": "43fd46da-aac9-47a8-960c-c6b6c64814e8",
   "metadata": {},
   "outputs": [],
   "source": [
    "H = [[lie_brackets[m].coefficient(z[i])(**y_subs_true[m]) for i in range(L.order(z)-1)] for m in range(7)]"
   ]
  },
  {
   "cell_type": "markdown",
   "id": "607d96c6-1a81-4e22-9745-196aa94731a9",
   "metadata": {},
   "source": [
    "##### m = 0"
   ]
  },
  {
   "cell_type": "code",
   "execution_count": 103,
   "id": "4a7a465e-97c8-4ac7-a24e-8c679129b0bb",
   "metadata": {},
   "outputs": [
    {
     "data": {
      "text/html": [
       "<html>\\(\\displaystyle \\left\\{\\begin{array}{rl}\n",
       "\tH_{0,0}(u_2,u_3,u_4,u_5) = & 0\\\\\n",
       "\tH_{0,1}(u_2,u_3,u_4,u_5) = & 0\\\\\n",
       "\tH_{0,2}(u_2,u_3,u_4,u_5) = & 0\\\\\n",
       "\tH_{0,3}(u_2,u_3,u_4,u_5) = & 0\n",
       "\\end{array}\\right.\\)</html>"
      ],
      "text/latex": [
       "$\\displaystyle \\left\\{\\begin{array}{rl}\n",
       "\tH_{0,0}(u_2,u_3,u_4,u_5) = & 0\\\\\n",
       "\tH_{0,1}(u_2,u_3,u_4,u_5) = & 0\\\\\n",
       "\tH_{0,2}(u_2,u_3,u_4,u_5) = & 0\\\\\n",
       "\tH_{0,3}(u_2,u_3,u_4,u_5) = & 0\n",
       "\\end{array}\\right.$"
      ],
      "text/plain": [
       "\\left\\{\\begin{array}{rl}\n",
       "\tH_{0,0}(u_2,u_3,u_4,u_5) = & 0\\\\\n",
       "\tH_{0,1}(u_2,u_3,u_4,u_5) = & 0\\\\\n",
       "\tH_{0,2}(u_2,u_3,u_4,u_5) = & 0\\\\\n",
       "\tH_{0,3}(u_2,u_3,u_4,u_5) = & 0\n",
       "\\end{array}\\right."
      ]
     },
     "execution_count": 103,
     "metadata": {},
     "output_type": "execute_result"
    }
   ],
   "source": [
    "m = 0\n",
    "LatexExpr(r\"\\left\\{\\begin{array}{rl}\" + \"\\n\\t\" + \"\\\\\\\\\\n\\t\".join(f\"H_\\u007b{m},{i}\\u007d(u_2,u_3,u_4,u_5) = & \" + poly_to_latex(H[m][i]) for i in range(L.order(z)-1)) + \"\\n\" + r\"\\end{array}\\right.\")"
   ]
  },
  {
   "cell_type": "code",
   "execution_count": 104,
   "id": "826f1931-a099-415c-9c55-d3c43cd159cb",
   "metadata": {},
   "outputs": [
    {
     "name": "stdout",
     "output_type": "stream",
     "text": [
      "\\left\\{\\begin{array}{rl}\n",
      "\tH_{0,0}(u_2,u_3,u_4,u_5) = & 0\\\\\n",
      "\tH_{0,1}(u_2,u_3,u_4,u_5) = & 0\\\\\n",
      "\tH_{0,2}(u_2,u_3,u_4,u_5) = & 0\\\\\n",
      "\tH_{0,3}(u_2,u_3,u_4,u_5) = & 0\n",
      "\\end{array}\\right.\n"
     ]
    }
   ],
   "source": [
    "print(_)"
   ]
  },
  {
   "cell_type": "markdown",
   "id": "6616bd79-c1c8-43ff-8dc7-e86b58c14411",
   "metadata": {},
   "source": [
    "##### m = 1"
   ]
  },
  {
   "cell_type": "code",
   "execution_count": 105,
   "id": "2c22f987-8ec6-40c9-b424-db7a41d0d801",
   "metadata": {},
   "outputs": [
    {
     "data": {
      "text/html": [
       "<html>\\(\\displaystyle \\left\\{\\begin{array}{rl}\n",
       "\tH_{1,0}(u_2,u_3,u_4,u_5) = & -u_{5}'\\\\\n",
       "\tH_{1,1}(u_2,u_3,u_4,u_5) = & -u_{4}'\\\\\n",
       "\tH_{1,2}(u_2,u_3,u_4,u_5) = & -u_{3}'\\\\\n",
       "\tH_{1,3}(u_2,u_3,u_4,u_5) = & -u_{2}'\n",
       "\\end{array}\\right.\\)</html>"
      ],
      "text/latex": [
       "$\\displaystyle \\left\\{\\begin{array}{rl}\n",
       "\tH_{1,0}(u_2,u_3,u_4,u_5) = & -u_{5}'\\\\\n",
       "\tH_{1,1}(u_2,u_3,u_4,u_5) = & -u_{4}'\\\\\n",
       "\tH_{1,2}(u_2,u_3,u_4,u_5) = & -u_{3}'\\\\\n",
       "\tH_{1,3}(u_2,u_3,u_4,u_5) = & -u_{2}'\n",
       "\\end{array}\\right.$"
      ],
      "text/plain": [
       "\\left\\{\\begin{array}{rl}\n",
       "\tH_{1,0}(u_2,u_3,u_4,u_5) = & -u_{5}'\\\\\n",
       "\tH_{1,1}(u_2,u_3,u_4,u_5) = & -u_{4}'\\\\\n",
       "\tH_{1,2}(u_2,u_3,u_4,u_5) = & -u_{3}'\\\\\n",
       "\tH_{1,3}(u_2,u_3,u_4,u_5) = & -u_{2}'\n",
       "\\end{array}\\right."
      ]
     },
     "execution_count": 105,
     "metadata": {},
     "output_type": "execute_result"
    }
   ],
   "source": [
    "m=1\n",
    "LatexExpr(r\"\\left\\{\\begin{array}{rl}\" + \"\\n\\t\" + \"\\\\\\\\\\n\\t\".join(f\"H_\\u007b{m},{i}\\u007d(u_2,u_3,u_4,u_5) = & \" + poly_to_latex(H[m][i]) for i in range(L.order(z)-1)) + \"\\n\" + r\"\\end{array}\\right.\")"
   ]
  },
  {
   "cell_type": "code",
   "execution_count": 106,
   "id": "2f425704-11eb-474a-b9de-0c6d95464e34",
   "metadata": {},
   "outputs": [
    {
     "name": "stdout",
     "output_type": "stream",
     "text": [
      "\\left\\{\\begin{array}{rl}\n",
      "\tH_{1,0}(u_2,u_3,u_4,u_5) = & -u_{5}'\\\\\n",
      "\tH_{1,1}(u_2,u_3,u_4,u_5) = & -u_{4}'\\\\\n",
      "\tH_{1,2}(u_2,u_3,u_4,u_5) = & -u_{3}'\\\\\n",
      "\tH_{1,3}(u_2,u_3,u_4,u_5) = & -u_{2}'\n",
      "\\end{array}\\right.\n"
     ]
    }
   ],
   "source": [
    "print(_)"
   ]
  },
  {
   "cell_type": "markdown",
   "id": "5ec81220-3168-4950-89a2-a77f3a75a37a",
   "metadata": {},
   "source": [
    "##### m = 2"
   ]
  },
  {
   "cell_type": "code",
   "execution_count": 107,
   "id": "3c24294c-db36-4c16-881b-17ef0f155b45",
   "metadata": {},
   "outputs": [
    {
     "data": {
      "text/html": [
       "<html>\\(\\displaystyle \\left\\{\\begin{array}{rl}\n",
       "\tH_{2,0}(u_2,u_3,u_4,u_5) = & \\frac{2}{5}u_{2}'''u_{2} + \\frac{2}{5}u_{2}''u_{3} + \\frac{2}{5}u_{2}'u_{4} + \\frac{2}{5}u_{2}^{(5)} - u_{5}''\\\\\n",
       "\tH_{2,1}(u_2,u_3,u_4,u_5) = & \\frac{6}{5}u_{2}''u_{2} + \\frac{4}{5}u_{2}'u_{3} + 2u_{2}^{(4)} - u_{4}'' - 2u_{5}'\\\\\n",
       "\tH_{2,2}(u_2,u_3,u_4,u_5) = & \\frac{6}{5}u_{2}'u_{2} + 4u_{2}''' - u_{3}'' - 2u_{4}'\\\\\n",
       "\tH_{2,3}(u_2,u_3,u_4,u_5) = & 3u_{2}'' - 2u_{3}'\n",
       "\\end{array}\\right.\\)</html>"
      ],
      "text/latex": [
       "$\\displaystyle \\left\\{\\begin{array}{rl}\n",
       "\tH_{2,0}(u_2,u_3,u_4,u_5) = & \\frac{2}{5}u_{2}'''u_{2} + \\frac{2}{5}u_{2}''u_{3} + \\frac{2}{5}u_{2}'u_{4} + \\frac{2}{5}u_{2}^{(5)} - u_{5}''\\\\\n",
       "\tH_{2,1}(u_2,u_3,u_4,u_5) = & \\frac{6}{5}u_{2}''u_{2} + \\frac{4}{5}u_{2}'u_{3} + 2u_{2}^{(4)} - u_{4}'' - 2u_{5}'\\\\\n",
       "\tH_{2,2}(u_2,u_3,u_4,u_5) = & \\frac{6}{5}u_{2}'u_{2} + 4u_{2}''' - u_{3}'' - 2u_{4}'\\\\\n",
       "\tH_{2,3}(u_2,u_3,u_4,u_5) = & 3u_{2}'' - 2u_{3}'\n",
       "\\end{array}\\right.$"
      ],
      "text/plain": [
       "\\left\\{\\begin{array}{rl}\n",
       "\tH_{2,0}(u_2,u_3,u_4,u_5) = & \\frac{2}{5}u_{2}'''u_{2} + \\frac{2}{5}u_{2}''u_{3} + \\frac{2}{5}u_{2}'u_{4} + \\frac{2}{5}u_{2}^{(5)} - u_{5}''\\\\\n",
       "\tH_{2,1}(u_2,u_3,u_4,u_5) = & \\frac{6}{5}u_{2}''u_{2} + \\frac{4}{5}u_{2}'u_{3} + 2u_{2}^{(4)} - u_{4}'' - 2u_{5}'\\\\\n",
       "\tH_{2,2}(u_2,u_3,u_4,u_5) = & \\frac{6}{5}u_{2}'u_{2} + 4u_{2}''' - u_{3}'' - 2u_{4}'\\\\\n",
       "\tH_{2,3}(u_2,u_3,u_4,u_5) = & 3u_{2}'' - 2u_{3}'\n",
       "\\end{array}\\right."
      ]
     },
     "execution_count": 107,
     "metadata": {},
     "output_type": "execute_result"
    }
   ],
   "source": [
    "m=2\n",
    "LatexExpr(r\"\\left\\{\\begin{array}{rl}\" + \"\\n\\t\" + \"\\\\\\\\\\n\\t\".join(f\"H_\\u007b{m},{i}\\u007d(u_2,u_3,u_4,u_5) = & \" + poly_to_latex(H[m][i]) for i in range(L.order(z)-1)) + \"\\n\" + r\"\\end{array}\\right.\")"
   ]
  },
  {
   "cell_type": "code",
   "execution_count": 108,
   "id": "52c68af4-9380-4279-8375-f7397119935e",
   "metadata": {},
   "outputs": [
    {
     "name": "stdout",
     "output_type": "stream",
     "text": [
      "\\left\\{\\begin{array}{rl}\n",
      "\tH_{2,0}(u_2,u_3,u_4,u_5) = & \\frac{2}{5}u_{2}'''u_{2} + \\frac{2}{5}u_{2}''u_{3} + \\frac{2}{5}u_{2}'u_{4} + \\frac{2}{5}u_{2}^{(5)} - u_{5}''\\\\\n",
      "\tH_{2,1}(u_2,u_3,u_4,u_5) = & \\frac{6}{5}u_{2}''u_{2} + \\frac{4}{5}u_{2}'u_{3} + 2u_{2}^{(4)} - u_{4}'' - 2u_{5}'\\\\\n",
      "\tH_{2,2}(u_2,u_3,u_4,u_5) = & \\frac{6}{5}u_{2}'u_{2} + 4u_{2}''' - u_{3}'' - 2u_{4}'\\\\\n",
      "\tH_{2,3}(u_2,u_3,u_4,u_5) = & 3u_{2}'' - 2u_{3}'\n",
      "\\end{array}\\right.\n"
     ]
    }
   ],
   "source": [
    "print(_)"
   ]
  },
  {
   "cell_type": "markdown",
   "id": "8737168d-7b60-42f5-8bd5-561517fdcf4d",
   "metadata": {},
   "source": [
    "##### m = 3"
   ]
  },
  {
   "cell_type": "code",
   "execution_count": 109,
   "id": "a7f9ee17-fc94-4588-83e7-2b075691e075",
   "metadata": {},
   "outputs": [
    {
     "data": {
      "text/html": [
       "<html>\\(\\displaystyle \\left\\{\\begin{array}{rl}\n",
       "\tH_{3,0}(u_2,u_3,u_4,u_5) = & -5u_{2}^{(4)}u_{2} - 5u_{2}'''u_{3} - 5u_{2}''u_{4} + \\frac{3}{5}u_{2}u_{3}''' - 5u_{2}u_{5}' + \\frac{3}{5}u_{3}''u_{3} + \\frac{3}{5}u_{3}'u_{4} - 5u_{2}^{(6)} + \\frac{3}{5}u_{3}^{(5)} - u_{5}'''\\\\\n",
       "\tH_{3,1}(u_2,u_3,u_4,u_5) = & -5u_{2}'''u_{2} - 5u_{2}''u_{3} + \\frac{3}{5}u_{2}'u_{4} + \\frac{9}{5}u_{2}u_{3}'' - 5u_{2}u_{4}' + \\frac{6}{5}u_{3}'u_{3} - 5u_{2}^{(5)} + 3u_{3}^{(4)} - u_{4}''' - 3u_{5}''\\\\\n",
       "\tH_{3,2}(u_2,u_3,u_4,u_5) = & \\frac{6}{5}u_{2}'u_{3} + \\frac{6}{5}u_{2}u_{3}' - 3u_{2}^{(4)} + 5u_{3}''' - 3u_{4}'' - 3u_{5}'\\\\\n",
       "\tH_{3,3}(u_2,u_3,u_4,u_5) = & \\frac{6}{5}u_{2}'u_{2} - u_{2}''' + 3u_{3}'' - 3u_{4}'\n",
       "\\end{array}\\right.\\)</html>"
      ],
      "text/latex": [
       "$\\displaystyle \\left\\{\\begin{array}{rl}\n",
       "\tH_{3,0}(u_2,u_3,u_4,u_5) = & -5u_{2}^{(4)}u_{2} - 5u_{2}'''u_{3} - 5u_{2}''u_{4} + \\frac{3}{5}u_{2}u_{3}''' - 5u_{2}u_{5}' + \\frac{3}{5}u_{3}''u_{3} + \\frac{3}{5}u_{3}'u_{4} - 5u_{2}^{(6)} + \\frac{3}{5}u_{3}^{(5)} - u_{5}'''\\\\\n",
       "\tH_{3,1}(u_2,u_3,u_4,u_5) = & -5u_{2}'''u_{2} - 5u_{2}''u_{3} + \\frac{3}{5}u_{2}'u_{4} + \\frac{9}{5}u_{2}u_{3}'' - 5u_{2}u_{4}' + \\frac{6}{5}u_{3}'u_{3} - 5u_{2}^{(5)} + 3u_{3}^{(4)} - u_{4}''' - 3u_{5}''\\\\\n",
       "\tH_{3,2}(u_2,u_3,u_4,u_5) = & \\frac{6}{5}u_{2}'u_{3} + \\frac{6}{5}u_{2}u_{3}' - 3u_{2}^{(4)} + 5u_{3}''' - 3u_{4}'' - 3u_{5}'\\\\\n",
       "\tH_{3,3}(u_2,u_3,u_4,u_5) = & \\frac{6}{5}u_{2}'u_{2} - u_{2}''' + 3u_{3}'' - 3u_{4}'\n",
       "\\end{array}\\right.$"
      ],
      "text/plain": [
       "\\left\\{\\begin{array}{rl}\n",
       "\tH_{3,0}(u_2,u_3,u_4,u_5) = & -5u_{2}^{(4)}u_{2} - 5u_{2}'''u_{3} - 5u_{2}''u_{4} + \\frac{3}{5}u_{2}u_{3}''' - 5u_{2}u_{5}' + \\frac{3}{5}u_{3}''u_{3} + \\frac{3}{5}u_{3}'u_{4} - 5u_{2}^{(6)} + \\frac{3}{5}u_{3}^{(5)} - u_{5}'''\\\\\n",
       "\tH_{3,1}(u_2,u_3,u_4,u_5) = & -5u_{2}'''u_{2} - 5u_{2}''u_{3} + \\frac{3}{5}u_{2}'u_{4} + \\frac{9}{5}u_{2}u_{3}'' - 5u_{2}u_{4}' + \\frac{6}{5}u_{3}'u_{3} - 5u_{2}^{(5)} + 3u_{3}^{(4)} - u_{4}''' - 3u_{5}''\\\\\n",
       "\tH_{3,2}(u_2,u_3,u_4,u_5) = & \\frac{6}{5}u_{2}'u_{3} + \\frac{6}{5}u_{2}u_{3}' - 3u_{2}^{(4)} + 5u_{3}''' - 3u_{4}'' - 3u_{5}'\\\\\n",
       "\tH_{3,3}(u_2,u_3,u_4,u_5) = & \\frac{6}{5}u_{2}'u_{2} - u_{2}''' + 3u_{3}'' - 3u_{4}'\n",
       "\\end{array}\\right."
      ]
     },
     "execution_count": 109,
     "metadata": {},
     "output_type": "execute_result"
    }
   ],
   "source": [
    "m=3\n",
    "LatexExpr(r\"\\left\\{\\begin{array}{rl}\" + \"\\n\\t\" + \"\\\\\\\\\\n\\t\".join(f\"H_\\u007b{m},{i}\\u007d(u_2,u_3,u_4,u_5) = & \" + poly_to_latex(H[m][i]) for i in range(L.order(z)-1)) + \"\\n\" + r\"\\end{array}\\right.\")"
   ]
  },
  {
   "cell_type": "code",
   "execution_count": 110,
   "id": "b1865751-a46f-4697-92f5-05db8b0da23e",
   "metadata": {},
   "outputs": [
    {
     "name": "stdout",
     "output_type": "stream",
     "text": [
      "\\left\\{\\begin{array}{rl}\n",
      "\tH_{3,0}(u_2,u_3,u_4,u_5) = & -5u_{2}^{(4)}u_{2} - 5u_{2}'''u_{3} - 5u_{2}''u_{4} + \\frac{3}{5}u_{2}u_{3}''' - 5u_{2}u_{5}' + \\frac{3}{5}u_{3}''u_{3} + \\frac{3}{5}u_{3}'u_{4} - 5u_{2}^{(6)} + \\frac{3}{5}u_{3}^{(5)} - u_{5}'''\\\\\n",
      "\tH_{3,1}(u_2,u_3,u_4,u_5) = & -5u_{2}'''u_{2} - 5u_{2}''u_{3} + \\frac{3}{5}u_{2}'u_{4} + \\frac{9}{5}u_{2}u_{3}'' - 5u_{2}u_{4}' + \\frac{6}{5}u_{3}'u_{3} - 5u_{2}^{(5)} + 3u_{3}^{(4)} - u_{4}''' - 3u_{5}''\\\\\n",
      "\tH_{3,2}(u_2,u_3,u_4,u_5) = & \\frac{6}{5}u_{2}'u_{3} + \\frac{6}{5}u_{2}u_{3}' - 3u_{2}^{(4)} + 5u_{3}''' - 3u_{4}'' - 3u_{5}'\\\\\n",
      "\tH_{3,3}(u_2,u_3,u_4,u_5) = & \\frac{6}{5}u_{2}'u_{2} - u_{2}''' + 3u_{3}'' - 3u_{4}'\n",
      "\\end{array}\\right.\n"
     ]
    }
   ],
   "source": [
    "print(_)"
   ]
  },
  {
   "cell_type": "markdown",
   "id": "e358ac53-3618-417c-b76c-89d31f5329a8",
   "metadata": {},
   "source": [
    "##### m = 4"
   ]
  },
  {
   "cell_type": "code",
   "execution_count": 111,
   "id": "98a54e08-4248-4947-80a1-f2d7d4ac15e2",
   "metadata": {},
   "outputs": [
    {
     "data": {
      "text/html": [
       "<html>\\(\\displaystyle \\left\\{\\begin{array}{rl}\n",
       "\tH_{4,0}(u_2,u_3,u_4,u_5) = & -5u_{2}'''u_{2}^2 - 5u_{2}''u_{2}'u_{2} - 5u_{2}''u_{2}u_{3}^{(0)} - 5u_{2}'^2u_{3} - 5u_{2}'u_{2}u_{4}^{(0)} - 5u_{2}^{(5)}u_{2} - 5u_{2}^{(4)}u_{2}' - 5u_{2}'''u_{2}'' + \\frac{2}{5}u_{2}'u_{5}^{(1)} - 5u_{2}u_{3}^{(4)} + \\frac{4}{5}u_{2}u_{4}''' - 5u_{2}u_{5}'' - 5u_{3}'''u_{3} - 5u_{3}''u_{4} + \\frac{4}{5}u_{3}u_{4}'' - 5u_{3}u_{5}' + \\frac{4}{5}u_{4}'u_{4} - 5u_{3}^{(6)} + \\frac{4}{5}u_{4}^{(5)} - u_{5}^{(4)}\\\\\n",
       "\tH_{4,1}(u_2,u_3,u_4,u_5) = & -5u_{2}''u_{2}^2 - 5u_{2}'^2u_{2} - 5u_{2}'u_{2}u_{3}^{(0)} - 5u_{2}^{(4)}u_{2} - 5u_{2}'''u_{2}' - 5u_{2}'''u_{3} - 5u_{2}''^2 - 5u_{2}''u_{4} + \\frac{2}{5}u_{2}'u_{4}^{(1)} - 5u_{2}u_{3}''' + \\frac{8}{5}u_{2}u_{4}'' - 5u_{2}u_{5}' + \\frac{4}{5}u_{3}'u_{4} + \\frac{4}{5}u_{3}u_{4}' - 5u_{2}^{(6)} - 5u_{3}^{(5)} + 3u_{4}^{(4)} - 4u_{5}'''\\\\\n",
       "\tH_{4,2}(u_2,u_3,u_4,u_5) = & -5u_{2}'u_{2}^2 - 2u_{2}'''u_{2} - 5u_{2}''u_{2}' + \\frac{2}{5}u_{2}'u_{3}^{(1)} + \\frac{4}{5}u_{2}'u_{4} + \\frac{2}{5}u_{2}u_{3}'' + \\frac{4}{5}u_{2}u_{4}' + \\frac{4}{5}u_{3}'u_{3} - 5u_{2}^{(5)} - u_{3}^{(4)} + 4u_{4}''' - 6u_{5}''\\\\\n",
       "\tH_{4,3}(u_2,u_3,u_4,u_5) = & -5u_{2}''u_{2} - 5u_{2}'^2 + \\frac{4}{5}u_{2}'u_{3} + \\frac{4}{5}u_{2}u_{3}' - u_{2}^{(4)} + 2u_{4}'' - 4u_{5}'\n",
       "\\end{array}\\right.\\)</html>"
      ],
      "text/latex": [
       "$\\displaystyle \\left\\{\\begin{array}{rl}\n",
       "\tH_{4,0}(u_2,u_3,u_4,u_5) = & -5u_{2}'''u_{2}^2 - 5u_{2}''u_{2}'u_{2} - 5u_{2}''u_{2}u_{3}^{(0)} - 5u_{2}'^2u_{3} - 5u_{2}'u_{2}u_{4}^{(0)} - 5u_{2}^{(5)}u_{2} - 5u_{2}^{(4)}u_{2}' - 5u_{2}'''u_{2}'' + \\frac{2}{5}u_{2}'u_{5}^{(1)} - 5u_{2}u_{3}^{(4)} + \\frac{4}{5}u_{2}u_{4}''' - 5u_{2}u_{5}'' - 5u_{3}'''u_{3} - 5u_{3}''u_{4} + \\frac{4}{5}u_{3}u_{4}'' - 5u_{3}u_{5}' + \\frac{4}{5}u_{4}'u_{4} - 5u_{3}^{(6)} + \\frac{4}{5}u_{4}^{(5)} - u_{5}^{(4)}\\\\\n",
       "\tH_{4,1}(u_2,u_3,u_4,u_5) = & -5u_{2}''u_{2}^2 - 5u_{2}'^2u_{2} - 5u_{2}'u_{2}u_{3}^{(0)} - 5u_{2}^{(4)}u_{2} - 5u_{2}'''u_{2}' - 5u_{2}'''u_{3} - 5u_{2}''^2 - 5u_{2}''u_{4} + \\frac{2}{5}u_{2}'u_{4}^{(1)} - 5u_{2}u_{3}''' + \\frac{8}{5}u_{2}u_{4}'' - 5u_{2}u_{5}' + \\frac{4}{5}u_{3}'u_{4} + \\frac{4}{5}u_{3}u_{4}' - 5u_{2}^{(6)} - 5u_{3}^{(5)} + 3u_{4}^{(4)} - 4u_{5}'''\\\\\n",
       "\tH_{4,2}(u_2,u_3,u_4,u_5) = & -5u_{2}'u_{2}^2 - 2u_{2}'''u_{2} - 5u_{2}''u_{2}' + \\frac{2}{5}u_{2}'u_{3}^{(1)} + \\frac{4}{5}u_{2}'u_{4} + \\frac{2}{5}u_{2}u_{3}'' + \\frac{4}{5}u_{2}u_{4}' + \\frac{4}{5}u_{3}'u_{3} - 5u_{2}^{(5)} - u_{3}^{(4)} + 4u_{4}''' - 6u_{5}''\\\\\n",
       "\tH_{4,3}(u_2,u_3,u_4,u_5) = & -5u_{2}''u_{2} - 5u_{2}'^2 + \\frac{4}{5}u_{2}'u_{3} + \\frac{4}{5}u_{2}u_{3}' - u_{2}^{(4)} + 2u_{4}'' - 4u_{5}'\n",
       "\\end{array}\\right.$"
      ],
      "text/plain": [
       "\\left\\{\\begin{array}{rl}\n",
       "\tH_{4,0}(u_2,u_3,u_4,u_5) = & -5u_{2}'''u_{2}^2 - 5u_{2}''u_{2}'u_{2} - 5u_{2}''u_{2}u_{3}^{(0)} - 5u_{2}'^2u_{3} - 5u_{2}'u_{2}u_{4}^{(0)} - 5u_{2}^{(5)}u_{2} - 5u_{2}^{(4)}u_{2}' - 5u_{2}'''u_{2}'' + \\frac{2}{5}u_{2}'u_{5}^{(1)} - 5u_{2}u_{3}^{(4)} + \\frac{4}{5}u_{2}u_{4}''' - 5u_{2}u_{5}'' - 5u_{3}'''u_{3} - 5u_{3}''u_{4} + \\frac{4}{5}u_{3}u_{4}'' - 5u_{3}u_{5}' + \\frac{4}{5}u_{4}'u_{4} - 5u_{3}^{(6)} + \\frac{4}{5}u_{4}^{(5)} - u_{5}^{(4)}\\\\\n",
       "\tH_{4,1}(u_2,u_3,u_4,u_5) = & -5u_{2}''u_{2}^2 - 5u_{2}'^2u_{2} - 5u_{2}'u_{2}u_{3}^{(0)} - 5u_{2}^{(4)}u_{2} - 5u_{2}'''u_{2}' - 5u_{2}'''u_{3} - 5u_{2}''^2 - 5u_{2}''u_{4} + \\frac{2}{5}u_{2}'u_{4}^{(1)} - 5u_{2}u_{3}''' + \\frac{8}{5}u_{2}u_{4}'' - 5u_{2}u_{5}' + \\frac{4}{5}u_{3}'u_{4} + \\frac{4}{5}u_{3}u_{4}' - 5u_{2}^{(6)} - 5u_{3}^{(5)} + 3u_{4}^{(4)} - 4u_{5}'''\\\\\n",
       "\tH_{4,2}(u_2,u_3,u_4,u_5) = & -5u_{2}'u_{2}^2 - 2u_{2}'''u_{2} - 5u_{2}''u_{2}' + \\frac{2}{5}u_{2}'u_{3}^{(1)} + \\frac{4}{5}u_{2}'u_{4} + \\frac{2}{5}u_{2}u_{3}'' + \\frac{4}{5}u_{2}u_{4}' + \\frac{4}{5}u_{3}'u_{3} - 5u_{2}^{(5)} - u_{3}^{(4)} + 4u_{4}''' - 6u_{5}''\\\\\n",
       "\tH_{4,3}(u_2,u_3,u_4,u_5) = & -5u_{2}''u_{2} - 5u_{2}'^2 + \\frac{4}{5}u_{2}'u_{3} + \\frac{4}{5}u_{2}u_{3}' - u_{2}^{(4)} + 2u_{4}'' - 4u_{5}'\n",
       "\\end{array}\\right."
      ]
     },
     "execution_count": 111,
     "metadata": {},
     "output_type": "execute_result"
    }
   ],
   "source": [
    "m=4\n",
    "LatexExpr(r\"\\left\\{\\begin{array}{rl}\" + \"\\n\\t\" + \"\\\\\\\\\\n\\t\".join(f\"H_\\u007b{m},{i}\\u007d(u_2,u_3,u_4,u_5) = & \" + poly_to_latex(H[m][i]) for i in range(L.order(z)-1)) + \"\\n\" + r\"\\end{array}\\right.\")"
   ]
  },
  {
   "cell_type": "code",
   "execution_count": 112,
   "id": "94fc4ece-4f04-495f-8cde-ff25a09c8d7f",
   "metadata": {},
   "outputs": [
    {
     "name": "stdout",
     "output_type": "stream",
     "text": [
      "\\left\\{\\begin{array}{rl}\n",
      "\tH_{4,0}(u_2,u_3,u_4,u_5) = & -5u_{2}'''u_{2}^2 - 5u_{2}''u_{2}'u_{2} - 5u_{2}''u_{2}u_{3}^{(0)} - 5u_{2}'^2u_{3} - 5u_{2}'u_{2}u_{4}^{(0)} - 5u_{2}^{(5)}u_{2} - 5u_{2}^{(4)}u_{2}' - 5u_{2}'''u_{2}'' + \\frac{2}{5}u_{2}'u_{5}^{(1)} - 5u_{2}u_{3}^{(4)} + \\frac{4}{5}u_{2}u_{4}''' - 5u_{2}u_{5}'' - 5u_{3}'''u_{3} - 5u_{3}''u_{4} + \\frac{4}{5}u_{3}u_{4}'' - 5u_{3}u_{5}' + \\frac{4}{5}u_{4}'u_{4} - 5u_{3}^{(6)} + \\frac{4}{5}u_{4}^{(5)} - u_{5}^{(4)}\\\\\n",
      "\tH_{4,1}(u_2,u_3,u_4,u_5) = & -5u_{2}''u_{2}^2 - 5u_{2}'^2u_{2} - 5u_{2}'u_{2}u_{3}^{(0)} - 5u_{2}^{(4)}u_{2} - 5u_{2}'''u_{2}' - 5u_{2}'''u_{3} - 5u_{2}''^2 - 5u_{2}''u_{4} + \\frac{2}{5}u_{2}'u_{4}^{(1)} - 5u_{2}u_{3}''' + \\frac{8}{5}u_{2}u_{4}'' - 5u_{2}u_{5}' + \\frac{4}{5}u_{3}'u_{4} + \\frac{4}{5}u_{3}u_{4}' - 5u_{2}^{(6)} - 5u_{3}^{(5)} + 3u_{4}^{(4)} - 4u_{5}'''\\\\\n",
      "\tH_{4,2}(u_2,u_3,u_4,u_5) = & -5u_{2}'u_{2}^2 - 2u_{2}'''u_{2} - 5u_{2}''u_{2}' + \\frac{2}{5}u_{2}'u_{3}^{(1)} + \\frac{4}{5}u_{2}'u_{4} + \\frac{2}{5}u_{2}u_{3}'' + \\frac{4}{5}u_{2}u_{4}' + \\frac{4}{5}u_{3}'u_{3} - 5u_{2}^{(5)} - u_{3}^{(4)} + 4u_{4}''' - 6u_{5}''\\\\\n",
      "\tH_{4,3}(u_2,u_3,u_4,u_5) = & -5u_{2}''u_{2} - 5u_{2}'^2 + \\frac{4}{5}u_{2}'u_{3} + \\frac{4}{5}u_{2}u_{3}' - u_{2}^{(4)} + 2u_{4}'' - 4u_{5}'\n",
      "\\end{array}\\right.\n"
     ]
    }
   ],
   "source": [
    "print(_)"
   ]
  },
  {
   "cell_type": "markdown",
   "id": "747b8ab2-b59a-48c9-88e2-24e289fe66f0",
   "metadata": {},
   "source": [
    "##### m = 5"
   ]
  },
  {
   "cell_type": "code",
   "execution_count": 113,
   "id": "694ddce8-75a2-4f9b-aabf-a0283cd8f47d",
   "metadata": {},
   "outputs": [
    {
     "data": {
      "text/html": [
       "<html>\\(\\displaystyle \\left\\{\\begin{array}{rl}\n",
       "\tH_{5,0}(u_2,u_3,u_4,u_5) = & 0\\\\\n",
       "\tH_{5,1}(u_2,u_3,u_4,u_5) = & 0\\\\\n",
       "\tH_{5,2}(u_2,u_3,u_4,u_5) = & 0\\\\\n",
       "\tH_{5,3}(u_2,u_3,u_4,u_5) = & 0\n",
       "\\end{array}\\right.\\)</html>"
      ],
      "text/latex": [
       "$\\displaystyle \\left\\{\\begin{array}{rl}\n",
       "\tH_{5,0}(u_2,u_3,u_4,u_5) = & 0\\\\\n",
       "\tH_{5,1}(u_2,u_3,u_4,u_5) = & 0\\\\\n",
       "\tH_{5,2}(u_2,u_3,u_4,u_5) = & 0\\\\\n",
       "\tH_{5,3}(u_2,u_3,u_4,u_5) = & 0\n",
       "\\end{array}\\right.$"
      ],
      "text/plain": [
       "\\left\\{\\begin{array}{rl}\n",
       "\tH_{5,0}(u_2,u_3,u_4,u_5) = & 0\\\\\n",
       "\tH_{5,1}(u_2,u_3,u_4,u_5) = & 0\\\\\n",
       "\tH_{5,2}(u_2,u_3,u_4,u_5) = & 0\\\\\n",
       "\tH_{5,3}(u_2,u_3,u_4,u_5) = & 0\n",
       "\\end{array}\\right."
      ]
     },
     "execution_count": 113,
     "metadata": {},
     "output_type": "execute_result"
    }
   ],
   "source": [
    "m=5\n",
    "LatexExpr(r\"\\left\\{\\begin{array}{rl}\" + \"\\n\\t\" + \"\\\\\\\\\\n\\t\".join(f\"H_\\u007b{m},{i}\\u007d(u_2,u_3,u_4,u_5) = & \" + poly_to_latex(H[m][i]) for i in range(L.order(z)-1)) + \"\\n\" + r\"\\end{array}\\right.\")"
   ]
  },
  {
   "cell_type": "code",
   "execution_count": 114,
   "id": "235edd80-1658-4202-b043-e5aedfa0124a",
   "metadata": {},
   "outputs": [
    {
     "name": "stdout",
     "output_type": "stream",
     "text": [
      "\\left\\{\\begin{array}{rl}\n",
      "\tH_{5,0}(u_2,u_3,u_4,u_5) = & 0\\\\\n",
      "\tH_{5,1}(u_2,u_3,u_4,u_5) = & 0\\\\\n",
      "\tH_{5,2}(u_2,u_3,u_4,u_5) = & 0\\\\\n",
      "\tH_{5,3}(u_2,u_3,u_4,u_5) = & 0\n",
      "\\end{array}\\right.\n"
     ]
    }
   ],
   "source": [
    "print(_)"
   ]
  },
  {
   "cell_type": "markdown",
   "id": "996077ae-d36f-417d-b7dd-a77159e363d2",
   "metadata": {},
   "source": [
    "##### m = 6"
   ]
  },
  {
   "cell_type": "code",
   "execution_count": 115,
   "id": "d2c32804-cfc8-4094-a1ee-e0c7aee01874",
   "metadata": {},
   "outputs": [
    {
     "data": {
      "text/html": [
       "<html>\\(\\displaystyle \\left\\{\\begin{array}{rl}\n",
       "\tH_{6,0}(u_2,u_3,u_4,u_5) = & -5u_{2}'''u_{2}^3 - 5u_{2}''u_{2}'u_{2}^2 - 5u_{2}''u_{2}^2u_{3} - 5u_{2}'^3u_{2} - 5u_{2}'^2u_{2}u_{3}^{(0)} - 5u_{2}'u_{2}^2u_{4} - 5u_{2}^{(5)}u_{2}^2 - 5u_{2}^{(4)}u_{2}'u_{2} - 5u_{2}^{(4)}u_{2}u_{3}^{(0)} - 5u_{2}'''u_{2}''u_{2} - 5u_{2}'''u_{2}'^2 - 5u_{2}'''u_{2}'u_{3} - 5u_{2}'''u_{2}u_{3}' + \\frac{3}{25}u_{2}'''u_{2}u_{4}^{(0)} - 5u_{2}'''u_{3}^2 - 5u_{2}''^2u_{2}' - 5u_{2}''^2u_{3} - 5u_{2}''u_{2}'u_{4} - 5u_{2}''u_{2}u_{3}'' + \\frac{18}{25}u_{2}''u_{2}u_{4}' - 5u_{2}''u_{3}'u_{3} - 5u_{2}'u_{2}u_{3}''' + \\frac{18}{25}u_{2}'u_{2}u_{4}'' + \\frac{3}{25}u_{2}'u_{2}u_{5}' - 5u_{2}'u_{3}''u_{3} - 5u_{2}'u_{3}^{(1)}u_{4} + \\frac{12}{25}u_{2}'u_{3}u_{4}' + \\frac{6}{25}u_{2}'u_{4}^2 - 5u_{2}^2u_{3}^{(4)} + \\frac{6}{25}u_{2}^2u_{4}''' - 5u_{2}^2u_{5}'' + \\frac{3}{25}u_{2}u_{3}'''u_{3} + \\frac{18}{25}u_{2}u_{3}''u_{3}' - 5u_{2}u_{3}''u_{4} + \\frac{6}{25}u_{2}u_{3}^{(0)}u_{4}'' - 5u_{2}u_{3}^{(0)}u_{5}' + \\frac{6}{25}u_{2}u_{4}'u_{4} + \\frac{6}{25}u_{3}''u_{3}^2 + \\frac{6}{25}u_{3}'^2u_{3} + \\frac{6}{25}u_{3}'u_{3}u_{4}^{(0)} - 5u_{2}^{(7)}u_{2} - 5u_{2}^{(6)}u_{2}' - 5u_{2}^{(6)}u_{3} - 5u_{2}^{(5)}u_{2}'' - 5u_{2}^{(5)}u_{3}' + \\frac{1}{5}u_{2}^{(5)}u_{4} - 5u_{2}^{(4)}u_{2}''' - 3u_{2}^{(4)}u_{3}'' + \\frac{6}{5}u_{2}^{(4)}u_{4}' - 5u_{2}'''u_{3}^{(3)} + \\frac{12}{5}u_{2}'''u_{4}'' + \\frac{1}{5}u_{2}'''u_{5}' - 5u_{2}''u_{3}^{(4)} + \\frac{12}{5}u_{2}''u_{4}''' - 5u_{2}''u_{5}^{(2)} - 5u_{2}'u_{3}^{(5)} + \\frac{6}{5}u_{2}'u_{4}^{(4)} - 5u_{2}'u_{5}''' - 5u_{2}u_{3}^{(6)} + \\frac{16}{25}u_{2}u_{4}^{(5)} - 5u_{2}u_{5}^{(4)} + \\frac{1}{25}u_{3}^{(5)}u_{3} + \\frac{6}{5}u_{3}^{(4)}u_{3}' - 5u_{3}^{(4)}u_{4} + \\frac{12}{5}u_{3}'''u_{3}'' - 5u_{3}''u_{5}' - 5u_{3}'u_{5}'' + \\frac{2}{5}u_{3}u_{4}^{(4)} - 5u_{3}u_{5}''' + \\frac{2}{5}u_{4}'''u_{4} - 5u_{4}'u_{5}^{(1)} - 5u_{4}u_{5}'' - 5u_{5}'u_{5} - 5u_{2}^{(9)} - 5u_{3}^{(8)} + \\frac{2}{5}u_{4}^{(7)} - 5u_{5}^{(6)}\\\\\n",
       "\tH_{6,1}(u_2,u_3,u_4,u_5) = & -5u_{2}''u_{2}^3 - 5u_{2}'^2u_{2}^2 - 5u_{2}'u_{2}^2u_{3} - 5u_{2}^{(4)}u_{2}^2 - 5u_{2}'''u_{2}'u_{2} - 5u_{2}'''u_{2}u_{3}^{(0)} - 5u_{2}''^2u_{2} - 5u_{2}''u_{2}'^2 - 5u_{2}''u_{2}'u_{3} - 5u_{2}''u_{2}u_{3}' + \\frac{3}{5}u_{2}''u_{2}u_{4}^{(0)} - 5u_{2}''u_{3}^2 - 5u_{2}'^2u_{4} - 5u_{2}'u_{2}u_{3}'' + \\frac{39}{25}u_{2}'u_{2}u_{4}' - 5u_{2}'u_{3}^{(1)}u_{3} + \\frac{18}{25}u_{2}'u_{3}u_{4}^{(0)} - 5u_{2}^2u_{3}''' + \\frac{3}{5}u_{2}^2u_{4}'' - 5u_{2}^2u_{5}' + \\frac{18}{25}u_{2}u_{3}''u_{3} + \\frac{18}{25}u_{2}u_{3}'^2 + \\frac{6}{25}u_{2}u_{3}'u_{4} + \\frac{6}{25}u_{2}u_{3}^{(0)}u_{4}' + \\frac{12}{25}u_{3}'u_{3}^2 - 5u_{2}^{(6)}u_{2} - 5u_{2}^{(5)}u_{2}' - 5u_{2}^{(5)}u_{3} - 5u_{2}^{(4)}u_{2}'' - 5u_{2}^{(4)}u_{3}' + u_{2}^{(4)}u_{4} - 5u_{2}'''^2 - 5u_{2}'''u_{3}'' + 5u_{2}'''u_{4}' - 6u_{2}''u_{3}''' + \\frac{34}{5}u_{2}''u_{4}^{(2)} - 5u_{2}''u_{5}' - 5u_{2}'u_{3}^{(4)} + \\frac{21}{5}u_{2}'u_{4}''' - 5u_{2}'u_{5}'' - 5u_{2}u_{3}^{(5)} + \\frac{9}{5}u_{2}u_{4}^{(4)} - 5u_{2}u_{5}''' + \\frac{6}{5}u_{3}^{(4)}u_{3} + \\frac{24}{5}u_{3}'''u_{3}' + \\frac{2}{5}u_{3}'''u_{4} + \\frac{18}{5}u_{3}''^2 - 5u_{3}''u_{4}' - 5u_{3}'u_{4}'' - 5u_{3}'u_{5}^{(1)} + \\frac{1}{5}u_{3}u_{4}''' - 5u_{3}u_{5}'' - 5u_{4}''u_{4} - 5u_{4}'^2 - 5u_{4}'u_{5} - 5u_{4}u_{5}' - 5u_{2}^{(8)} - 5u_{3}^{(7)} + \\frac{8}{5}u_{4}^{(6)} - 5u_{5}^{(5)}\\\\\n",
       "\tH_{6,2}(u_2,u_3,u_4,u_5) = & -5u_{2}'u_{2}^3 - 5u_{2}'''u_{2}^2 - 5u_{2}''u_{2}'u_{2} - 5u_{2}'^3 + \\frac{12}{25}u_{2}'u_{2}u_{3}' + \\frac{24}{25}u_{2}'u_{2}u_{4}^{(0)} + \\frac{12}{25}u_{2}'u_{3}^2 + \\frac{6}{25}u_{2}^2u_{3}'' + \\frac{12}{25}u_{2}^2u_{4}' + \\frac{24}{25}u_{2}u_{3}'u_{3} - 5u_{2}^{(5)}u_{2} - 5u_{2}^{(4)}u_{2}' - 5u_{2}^{(4)}u_{3} - 5u_{2}'''u_{2}'' - 5u_{2}'''u_{3}' + \\frac{14}{5}u_{2}'''u_{4} - 4u_{2}''u_{3}^{(2)} + \\frac{32}{5}u_{2}''u_{4}' - 5u_{2}'u_{3}''' + \\frac{27}{5}u_{2}'u_{4}'' - 5u_{2}'u_{5}^{(1)} + \\frac{9}{5}u_{2}u_{4}''' - 5u_{2}u_{5}'' + \\frac{13}{5}u_{3}'''u_{3} + \\frac{31}{5}u_{3}''u_{3}' - 5u_{3}''u_{4} - 5u_{3}'u_{4}^{(1)} - 5u_{3}'u_{5} - 5u_{3}u_{4}'' - 5u_{3}u_{5}' - 5u_{4}'u_{4} - u_{2}^{(7)} - 5u_{3}^{(6)} + \\frac{11}{5}u_{4}^{(5)} - 3u_{5}^{(4)}\\\\\n",
       "\tH_{6,3}(u_2,u_3,u_4,u_5) = & -5u_{2}''u_{2}^2 - 5u_{2}'^2u_{2} + \\frac{24}{25}u_{2}'u_{2}u_{3}^{(0)} + \\frac{12}{25}u_{2}^2u_{3}' - 5u_{2}^{(4)}u_{2} - 5u_{2}'''u_{2}' + \\frac{1}{5}u_{2}'''u_{3} - 5u_{2}''^2 - 5u_{2}''u_{3}' + \\frac{9}{5}u_{2}''u_{4} + \\frac{1}{5}u_{2}'u_{3}'' + \\frac{12}{5}u_{2}'u_{4}^{(1)} - 5u_{2}'u_{5} + \\frac{3}{5}u_{2}u_{3}''' + \\frac{3}{5}u_{2}u_{4}'' - 5u_{2}u_{5}' + \\frac{6}{5}u_{3}''u_{3} + \\frac{6}{5}u_{3}'^2 - 5u_{3}'u_{4} - 5u_{3}u_{4}' - 5u_{2}^{(6)} + \\frac{1}{5}u_{3}^{(5)} + u_{4}^{(4)} - 2u_{5}'''\n",
       "\\end{array}\\right.\\)</html>"
      ],
      "text/latex": [
       "$\\displaystyle \\left\\{\\begin{array}{rl}\n",
       "\tH_{6,0}(u_2,u_3,u_4,u_5) = & -5u_{2}'''u_{2}^3 - 5u_{2}''u_{2}'u_{2}^2 - 5u_{2}''u_{2}^2u_{3} - 5u_{2}'^3u_{2} - 5u_{2}'^2u_{2}u_{3}^{(0)} - 5u_{2}'u_{2}^2u_{4} - 5u_{2}^{(5)}u_{2}^2 - 5u_{2}^{(4)}u_{2}'u_{2} - 5u_{2}^{(4)}u_{2}u_{3}^{(0)} - 5u_{2}'''u_{2}''u_{2} - 5u_{2}'''u_{2}'^2 - 5u_{2}'''u_{2}'u_{3} - 5u_{2}'''u_{2}u_{3}' + \\frac{3}{25}u_{2}'''u_{2}u_{4}^{(0)} - 5u_{2}'''u_{3}^2 - 5u_{2}''^2u_{2}' - 5u_{2}''^2u_{3} - 5u_{2}''u_{2}'u_{4} - 5u_{2}''u_{2}u_{3}'' + \\frac{18}{25}u_{2}''u_{2}u_{4}' - 5u_{2}''u_{3}'u_{3} - 5u_{2}'u_{2}u_{3}''' + \\frac{18}{25}u_{2}'u_{2}u_{4}'' + \\frac{3}{25}u_{2}'u_{2}u_{5}' - 5u_{2}'u_{3}''u_{3} - 5u_{2}'u_{3}^{(1)}u_{4} + \\frac{12}{25}u_{2}'u_{3}u_{4}' + \\frac{6}{25}u_{2}'u_{4}^2 - 5u_{2}^2u_{3}^{(4)} + \\frac{6}{25}u_{2}^2u_{4}''' - 5u_{2}^2u_{5}'' + \\frac{3}{25}u_{2}u_{3}'''u_{3} + \\frac{18}{25}u_{2}u_{3}''u_{3}' - 5u_{2}u_{3}''u_{4} + \\frac{6}{25}u_{2}u_{3}^{(0)}u_{4}'' - 5u_{2}u_{3}^{(0)}u_{5}' + \\frac{6}{25}u_{2}u_{4}'u_{4} + \\frac{6}{25}u_{3}''u_{3}^2 + \\frac{6}{25}u_{3}'^2u_{3} + \\frac{6}{25}u_{3}'u_{3}u_{4}^{(0)} - 5u_{2}^{(7)}u_{2} - 5u_{2}^{(6)}u_{2}' - 5u_{2}^{(6)}u_{3} - 5u_{2}^{(5)}u_{2}'' - 5u_{2}^{(5)}u_{3}' + \\frac{1}{5}u_{2}^{(5)}u_{4} - 5u_{2}^{(4)}u_{2}''' - 3u_{2}^{(4)}u_{3}'' + \\frac{6}{5}u_{2}^{(4)}u_{4}' - 5u_{2}'''u_{3}^{(3)} + \\frac{12}{5}u_{2}'''u_{4}'' + \\frac{1}{5}u_{2}'''u_{5}' - 5u_{2}''u_{3}^{(4)} + \\frac{12}{5}u_{2}''u_{4}''' - 5u_{2}''u_{5}^{(2)} - 5u_{2}'u_{3}^{(5)} + \\frac{6}{5}u_{2}'u_{4}^{(4)} - 5u_{2}'u_{5}''' - 5u_{2}u_{3}^{(6)} + \\frac{16}{25}u_{2}u_{4}^{(5)} - 5u_{2}u_{5}^{(4)} + \\frac{1}{25}u_{3}^{(5)}u_{3} + \\frac{6}{5}u_{3}^{(4)}u_{3}' - 5u_{3}^{(4)}u_{4} + \\frac{12}{5}u_{3}'''u_{3}'' - 5u_{3}''u_{5}' - 5u_{3}'u_{5}'' + \\frac{2}{5}u_{3}u_{4}^{(4)} - 5u_{3}u_{5}''' + \\frac{2}{5}u_{4}'''u_{4} - 5u_{4}'u_{5}^{(1)} - 5u_{4}u_{5}'' - 5u_{5}'u_{5} - 5u_{2}^{(9)} - 5u_{3}^{(8)} + \\frac{2}{5}u_{4}^{(7)} - 5u_{5}^{(6)}\\\\\n",
       "\tH_{6,1}(u_2,u_3,u_4,u_5) = & -5u_{2}''u_{2}^3 - 5u_{2}'^2u_{2}^2 - 5u_{2}'u_{2}^2u_{3} - 5u_{2}^{(4)}u_{2}^2 - 5u_{2}'''u_{2}'u_{2} - 5u_{2}'''u_{2}u_{3}^{(0)} - 5u_{2}''^2u_{2} - 5u_{2}''u_{2}'^2 - 5u_{2}''u_{2}'u_{3} - 5u_{2}''u_{2}u_{3}' + \\frac{3}{5}u_{2}''u_{2}u_{4}^{(0)} - 5u_{2}''u_{3}^2 - 5u_{2}'^2u_{4} - 5u_{2}'u_{2}u_{3}'' + \\frac{39}{25}u_{2}'u_{2}u_{4}' - 5u_{2}'u_{3}^{(1)}u_{3} + \\frac{18}{25}u_{2}'u_{3}u_{4}^{(0)} - 5u_{2}^2u_{3}''' + \\frac{3}{5}u_{2}^2u_{4}'' - 5u_{2}^2u_{5}' + \\frac{18}{25}u_{2}u_{3}''u_{3} + \\frac{18}{25}u_{2}u_{3}'^2 + \\frac{6}{25}u_{2}u_{3}'u_{4} + \\frac{6}{25}u_{2}u_{3}^{(0)}u_{4}' + \\frac{12}{25}u_{3}'u_{3}^2 - 5u_{2}^{(6)}u_{2} - 5u_{2}^{(5)}u_{2}' - 5u_{2}^{(5)}u_{3} - 5u_{2}^{(4)}u_{2}'' - 5u_{2}^{(4)}u_{3}' + u_{2}^{(4)}u_{4} - 5u_{2}'''^2 - 5u_{2}'''u_{3}'' + 5u_{2}'''u_{4}' - 6u_{2}''u_{3}''' + \\frac{34}{5}u_{2}''u_{4}^{(2)} - 5u_{2}''u_{5}' - 5u_{2}'u_{3}^{(4)} + \\frac{21}{5}u_{2}'u_{4}''' - 5u_{2}'u_{5}'' - 5u_{2}u_{3}^{(5)} + \\frac{9}{5}u_{2}u_{4}^{(4)} - 5u_{2}u_{5}''' + \\frac{6}{5}u_{3}^{(4)}u_{3} + \\frac{24}{5}u_{3}'''u_{3}' + \\frac{2}{5}u_{3}'''u_{4} + \\frac{18}{5}u_{3}''^2 - 5u_{3}''u_{4}' - 5u_{3}'u_{4}'' - 5u_{3}'u_{5}^{(1)} + \\frac{1}{5}u_{3}u_{4}''' - 5u_{3}u_{5}'' - 5u_{4}''u_{4} - 5u_{4}'^2 - 5u_{4}'u_{5} - 5u_{4}u_{5}' - 5u_{2}^{(8)} - 5u_{3}^{(7)} + \\frac{8}{5}u_{4}^{(6)} - 5u_{5}^{(5)}\\\\\n",
       "\tH_{6,2}(u_2,u_3,u_4,u_5) = & -5u_{2}'u_{2}^3 - 5u_{2}'''u_{2}^2 - 5u_{2}''u_{2}'u_{2} - 5u_{2}'^3 + \\frac{12}{25}u_{2}'u_{2}u_{3}' + \\frac{24}{25}u_{2}'u_{2}u_{4}^{(0)} + \\frac{12}{25}u_{2}'u_{3}^2 + \\frac{6}{25}u_{2}^2u_{3}'' + \\frac{12}{25}u_{2}^2u_{4}' + \\frac{24}{25}u_{2}u_{3}'u_{3} - 5u_{2}^{(5)}u_{2} - 5u_{2}^{(4)}u_{2}' - 5u_{2}^{(4)}u_{3} - 5u_{2}'''u_{2}'' - 5u_{2}'''u_{3}' + \\frac{14}{5}u_{2}'''u_{4} - 4u_{2}''u_{3}^{(2)} + \\frac{32}{5}u_{2}''u_{4}' - 5u_{2}'u_{3}''' + \\frac{27}{5}u_{2}'u_{4}'' - 5u_{2}'u_{5}^{(1)} + \\frac{9}{5}u_{2}u_{4}''' - 5u_{2}u_{5}'' + \\frac{13}{5}u_{3}'''u_{3} + \\frac{31}{5}u_{3}''u_{3}' - 5u_{3}''u_{4} - 5u_{3}'u_{4}^{(1)} - 5u_{3}'u_{5} - 5u_{3}u_{4}'' - 5u_{3}u_{5}' - 5u_{4}'u_{4} - u_{2}^{(7)} - 5u_{3}^{(6)} + \\frac{11}{5}u_{4}^{(5)} - 3u_{5}^{(4)}\\\\\n",
       "\tH_{6,3}(u_2,u_3,u_4,u_5) = & -5u_{2}''u_{2}^2 - 5u_{2}'^2u_{2} + \\frac{24}{25}u_{2}'u_{2}u_{3}^{(0)} + \\frac{12}{25}u_{2}^2u_{3}' - 5u_{2}^{(4)}u_{2} - 5u_{2}'''u_{2}' + \\frac{1}{5}u_{2}'''u_{3} - 5u_{2}''^2 - 5u_{2}''u_{3}' + \\frac{9}{5}u_{2}''u_{4} + \\frac{1}{5}u_{2}'u_{3}'' + \\frac{12}{5}u_{2}'u_{4}^{(1)} - 5u_{2}'u_{5} + \\frac{3}{5}u_{2}u_{3}''' + \\frac{3}{5}u_{2}u_{4}'' - 5u_{2}u_{5}' + \\frac{6}{5}u_{3}''u_{3} + \\frac{6}{5}u_{3}'^2 - 5u_{3}'u_{4} - 5u_{3}u_{4}' - 5u_{2}^{(6)} + \\frac{1}{5}u_{3}^{(5)} + u_{4}^{(4)} - 2u_{5}'''\n",
       "\\end{array}\\right.$"
      ],
      "text/plain": [
       "\\left\\{\\begin{array}{rl}\n",
       "\tH_{6,0}(u_2,u_3,u_4,u_5) = & -5u_{2}'''u_{2}^3 - 5u_{2}''u_{2}'u_{2}^2 - 5u_{2}''u_{2}^2u_{3} - 5u_{2}'^3u_{2} - 5u_{2}'^2u_{2}u_{3}^{(0)} - 5u_{2}'u_{2}^2u_{4} - 5u_{2}^{(5)}u_{2}^2 - 5u_{2}^{(4)}u_{2}'u_{2} - 5u_{2}^{(4)}u_{2}u_{3}^{(0)} - 5u_{2}'''u_{2}''u_{2} - 5u_{2}'''u_{2}'^2 - 5u_{2}'''u_{2}'u_{3} - 5u_{2}'''u_{2}u_{3}' + \\frac{3}{25}u_{2}'''u_{2}u_{4}^{(0)} - 5u_{2}'''u_{3}^2 - 5u_{2}''^2u_{2}' - 5u_{2}''^2u_{3} - 5u_{2}''u_{2}'u_{4} - 5u_{2}''u_{2}u_{3}'' + \\frac{18}{25}u_{2}''u_{2}u_{4}' - 5u_{2}''u_{3}'u_{3} - 5u_{2}'u_{2}u_{3}''' + \\frac{18}{25}u_{2}'u_{2}u_{4}'' + \\frac{3}{25}u_{2}'u_{2}u_{5}' - 5u_{2}'u_{3}''u_{3} - 5u_{2}'u_{3}^{(1)}u_{4} + \\frac{12}{25}u_{2}'u_{3}u_{4}' + \\frac{6}{25}u_{2}'u_{4}^2 - 5u_{2}^2u_{3}^{(4)} + \\frac{6}{25}u_{2}^2u_{4}''' - 5u_{2}^2u_{5}'' + \\frac{3}{25}u_{2}u_{3}'''u_{3} + \\frac{18}{25}u_{2}u_{3}''u_{3}' - 5u_{2}u_{3}''u_{4} + \\frac{6}{25}u_{2}u_{3}^{(0)}u_{4}'' - 5u_{2}u_{3}^{(0)}u_{5}' + \\frac{6}{25}u_{2}u_{4}'u_{4} + \\frac{6}{25}u_{3}''u_{3}^2 + \\frac{6}{25}u_{3}'^2u_{3} + \\frac{6}{25}u_{3}'u_{3}u_{4}^{(0)} - 5u_{2}^{(7)}u_{2} - 5u_{2}^{(6)}u_{2}' - 5u_{2}^{(6)}u_{3} - 5u_{2}^{(5)}u_{2}'' - 5u_{2}^{(5)}u_{3}' + \\frac{1}{5}u_{2}^{(5)}u_{4} - 5u_{2}^{(4)}u_{2}''' - 3u_{2}^{(4)}u_{3}'' + \\frac{6}{5}u_{2}^{(4)}u_{4}' - 5u_{2}'''u_{3}^{(3)} + \\frac{12}{5}u_{2}'''u_{4}'' + \\frac{1}{5}u_{2}'''u_{5}' - 5u_{2}''u_{3}^{(4)} + \\frac{12}{5}u_{2}''u_{4}''' - 5u_{2}''u_{5}^{(2)} - 5u_{2}'u_{3}^{(5)} + \\frac{6}{5}u_{2}'u_{4}^{(4)} - 5u_{2}'u_{5}''' - 5u_{2}u_{3}^{(6)} + \\frac{16}{25}u_{2}u_{4}^{(5)} - 5u_{2}u_{5}^{(4)} + \\frac{1}{25}u_{3}^{(5)}u_{3} + \\frac{6}{5}u_{3}^{(4)}u_{3}' - 5u_{3}^{(4)}u_{4} + \\frac{12}{5}u_{3}'''u_{3}'' - 5u_{3}''u_{5}' - 5u_{3}'u_{5}'' + \\frac{2}{5}u_{3}u_{4}^{(4)} - 5u_{3}u_{5}''' + \\frac{2}{5}u_{4}'''u_{4} - 5u_{4}'u_{5}^{(1)} - 5u_{4}u_{5}'' - 5u_{5}'u_{5} - 5u_{2}^{(9)} - 5u_{3}^{(8)} + \\frac{2}{5}u_{4}^{(7)} - 5u_{5}^{(6)}\\\\\n",
       "\tH_{6,1}(u_2,u_3,u_4,u_5) = & -5u_{2}''u_{2}^3 - 5u_{2}'^2u_{2}^2 - 5u_{2}'u_{2}^2u_{3} - 5u_{2}^{(4)}u_{2}^2 - 5u_{2}'''u_{2}'u_{2} - 5u_{2}'''u_{2}u_{3}^{(0)} - 5u_{2}''^2u_{2} - 5u_{2}''u_{2}'^2 - 5u_{2}''u_{2}'u_{3} - 5u_{2}''u_{2}u_{3}' + \\frac{3}{5}u_{2}''u_{2}u_{4}^{(0)} - 5u_{2}''u_{3}^2 - 5u_{2}'^2u_{4} - 5u_{2}'u_{2}u_{3}'' + \\frac{39}{25}u_{2}'u_{2}u_{4}' - 5u_{2}'u_{3}^{(1)}u_{3} + \\frac{18}{25}u_{2}'u_{3}u_{4}^{(0)} - 5u_{2}^2u_{3}''' + \\frac{3}{5}u_{2}^2u_{4}'' - 5u_{2}^2u_{5}' + \\frac{18}{25}u_{2}u_{3}''u_{3} + \\frac{18}{25}u_{2}u_{3}'^2 + \\frac{6}{25}u_{2}u_{3}'u_{4} + \\frac{6}{25}u_{2}u_{3}^{(0)}u_{4}' + \\frac{12}{25}u_{3}'u_{3}^2 - 5u_{2}^{(6)}u_{2} - 5u_{2}^{(5)}u_{2}' - 5u_{2}^{(5)}u_{3} - 5u_{2}^{(4)}u_{2}'' - 5u_{2}^{(4)}u_{3}' + u_{2}^{(4)}u_{4} - 5u_{2}'''^2 - 5u_{2}'''u_{3}'' + 5u_{2}'''u_{4}' - 6u_{2}''u_{3}''' + \\frac{34}{5}u_{2}''u_{4}^{(2)} - 5u_{2}''u_{5}' - 5u_{2}'u_{3}^{(4)} + \\frac{21}{5}u_{2}'u_{4}''' - 5u_{2}'u_{5}'' - 5u_{2}u_{3}^{(5)} + \\frac{9}{5}u_{2}u_{4}^{(4)} - 5u_{2}u_{5}''' + \\frac{6}{5}u_{3}^{(4)}u_{3} + \\frac{24}{5}u_{3}'''u_{3}' + \\frac{2}{5}u_{3}'''u_{4} + \\frac{18}{5}u_{3}''^2 - 5u_{3}''u_{4}' - 5u_{3}'u_{4}'' - 5u_{3}'u_{5}^{(1)} + \\frac{1}{5}u_{3}u_{4}''' - 5u_{3}u_{5}'' - 5u_{4}''u_{4} - 5u_{4}'^2 - 5u_{4}'u_{5} - 5u_{4}u_{5}' - 5u_{2}^{(8)} - 5u_{3}^{(7)} + \\frac{8}{5}u_{4}^{(6)} - 5u_{5}^{(5)}\\\\\n",
       "\tH_{6,2}(u_2,u_3,u_4,u_5) = & -5u_{2}'u_{2}^3 - 5u_{2}'''u_{2}^2 - 5u_{2}''u_{2}'u_{2} - 5u_{2}'^3 + \\frac{12}{25}u_{2}'u_{2}u_{3}' + \\frac{24}{25}u_{2}'u_{2}u_{4}^{(0)} + \\frac{12}{25}u_{2}'u_{3}^2 + \\frac{6}{25}u_{2}^2u_{3}'' + \\frac{12}{25}u_{2}^2u_{4}' + \\frac{24}{25}u_{2}u_{3}'u_{3} - 5u_{2}^{(5)}u_{2} - 5u_{2}^{(4)}u_{2}' - 5u_{2}^{(4)}u_{3} - 5u_{2}'''u_{2}'' - 5u_{2}'''u_{3}' + \\frac{14}{5}u_{2}'''u_{4} - 4u_{2}''u_{3}^{(2)} + \\frac{32}{5}u_{2}''u_{4}' - 5u_{2}'u_{3}''' + \\frac{27}{5}u_{2}'u_{4}'' - 5u_{2}'u_{5}^{(1)} + \\frac{9}{5}u_{2}u_{4}''' - 5u_{2}u_{5}'' + \\frac{13}{5}u_{3}'''u_{3} + \\frac{31}{5}u_{3}''u_{3}' - 5u_{3}''u_{4} - 5u_{3}'u_{4}^{(1)} - 5u_{3}'u_{5} - 5u_{3}u_{4}'' - 5u_{3}u_{5}' - 5u_{4}'u_{4} - u_{2}^{(7)} - 5u_{3}^{(6)} + \\frac{11}{5}u_{4}^{(5)} - 3u_{5}^{(4)}\\\\\n",
       "\tH_{6,3}(u_2,u_3,u_4,u_5) = & -5u_{2}''u_{2}^2 - 5u_{2}'^2u_{2} + \\frac{24}{25}u_{2}'u_{2}u_{3}^{(0)} + \\frac{12}{25}u_{2}^2u_{3}' - 5u_{2}^{(4)}u_{2} - 5u_{2}'''u_{2}' + \\frac{1}{5}u_{2}'''u_{3} - 5u_{2}''^2 - 5u_{2}''u_{3}' + \\frac{9}{5}u_{2}''u_{4} + \\frac{1}{5}u_{2}'u_{3}'' + \\frac{12}{5}u_{2}'u_{4}^{(1)} - 5u_{2}'u_{5} + \\frac{3}{5}u_{2}u_{3}''' + \\frac{3}{5}u_{2}u_{4}'' - 5u_{2}u_{5}' + \\frac{6}{5}u_{3}''u_{3} + \\frac{6}{5}u_{3}'^2 - 5u_{3}'u_{4} - 5u_{3}u_{4}' - 5u_{2}^{(6)} + \\frac{1}{5}u_{3}^{(5)} + u_{4}^{(4)} - 2u_{5}'''\n",
       "\\end{array}\\right."
      ]
     },
     "execution_count": 115,
     "metadata": {},
     "output_type": "execute_result"
    }
   ],
   "source": [
    "m=6\n",
    "LatexExpr(r\"\\left\\{\\begin{array}{rl}\" + \"\\n\\t\" + \"\\\\\\\\\\n\\t\".join(f\"H_\\u007b{m},{i}\\u007d(u_2,u_3,u_4,u_5) = & \" + poly_to_latex(H[m][i]) for i in range(L.order(z)-1)) + \"\\n\" + r\"\\end{array}\\right.\")"
   ]
  },
  {
   "cell_type": "code",
   "execution_count": 116,
   "id": "02af75f5-49cf-4652-861f-47ff580d80a0",
   "metadata": {},
   "outputs": [
    {
     "name": "stdout",
     "output_type": "stream",
     "text": [
      "\\left\\{\\begin{array}{rl}\n",
      "\tH_{6,0}(u_2,u_3,u_4,u_5) = & -5u_{2}'''u_{2}^3 - 5u_{2}''u_{2}'u_{2}^2 - 5u_{2}''u_{2}^2u_{3} - 5u_{2}'^3u_{2} - 5u_{2}'^2u_{2}u_{3}^{(0)} - 5u_{2}'u_{2}^2u_{4} - 5u_{2}^{(5)}u_{2}^2 - 5u_{2}^{(4)}u_{2}'u_{2} - 5u_{2}^{(4)}u_{2}u_{3}^{(0)} - 5u_{2}'''u_{2}''u_{2} - 5u_{2}'''u_{2}'^2 - 5u_{2}'''u_{2}'u_{3} - 5u_{2}'''u_{2}u_{3}' + \\frac{3}{25}u_{2}'''u_{2}u_{4}^{(0)} - 5u_{2}'''u_{3}^2 - 5u_{2}''^2u_{2}' - 5u_{2}''^2u_{3} - 5u_{2}''u_{2}'u_{4} - 5u_{2}''u_{2}u_{3}'' + \\frac{18}{25}u_{2}''u_{2}u_{4}' - 5u_{2}''u_{3}'u_{3} - 5u_{2}'u_{2}u_{3}''' + \\frac{18}{25}u_{2}'u_{2}u_{4}'' + \\frac{3}{25}u_{2}'u_{2}u_{5}' - 5u_{2}'u_{3}''u_{3} - 5u_{2}'u_{3}^{(1)}u_{4} + \\frac{12}{25}u_{2}'u_{3}u_{4}' + \\frac{6}{25}u_{2}'u_{4}^2 - 5u_{2}^2u_{3}^{(4)} + \\frac{6}{25}u_{2}^2u_{4}''' - 5u_{2}^2u_{5}'' + \\frac{3}{25}u_{2}u_{3}'''u_{3} + \\frac{18}{25}u_{2}u_{3}''u_{3}' - 5u_{2}u_{3}''u_{4} + \\frac{6}{25}u_{2}u_{3}^{(0)}u_{4}'' - 5u_{2}u_{3}^{(0)}u_{5}' + \\frac{6}{25}u_{2}u_{4}'u_{4} + \\frac{6}{25}u_{3}''u_{3}^2 + \\frac{6}{25}u_{3}'^2u_{3} + \\frac{6}{25}u_{3}'u_{3}u_{4}^{(0)} - 5u_{2}^{(7)}u_{2} - 5u_{2}^{(6)}u_{2}' - 5u_{2}^{(6)}u_{3} - 5u_{2}^{(5)}u_{2}'' - 5u_{2}^{(5)}u_{3}' + \\frac{1}{5}u_{2}^{(5)}u_{4} - 5u_{2}^{(4)}u_{2}''' - 3u_{2}^{(4)}u_{3}'' + \\frac{6}{5}u_{2}^{(4)}u_{4}' - 5u_{2}'''u_{3}^{(3)} + \\frac{12}{5}u_{2}'''u_{4}'' + \\frac{1}{5}u_{2}'''u_{5}' - 5u_{2}''u_{3}^{(4)} + \\frac{12}{5}u_{2}''u_{4}''' - 5u_{2}''u_{5}^{(2)} - 5u_{2}'u_{3}^{(5)} + \\frac{6}{5}u_{2}'u_{4}^{(4)} - 5u_{2}'u_{5}''' - 5u_{2}u_{3}^{(6)} + \\frac{16}{25}u_{2}u_{4}^{(5)} - 5u_{2}u_{5}^{(4)} + \\frac{1}{25}u_{3}^{(5)}u_{3} + \\frac{6}{5}u_{3}^{(4)}u_{3}' - 5u_{3}^{(4)}u_{4} + \\frac{12}{5}u_{3}'''u_{3}'' - 5u_{3}''u_{5}' - 5u_{3}'u_{5}'' + \\frac{2}{5}u_{3}u_{4}^{(4)} - 5u_{3}u_{5}''' + \\frac{2}{5}u_{4}'''u_{4} - 5u_{4}'u_{5}^{(1)} - 5u_{4}u_{5}'' - 5u_{5}'u_{5} - 5u_{2}^{(9)} - 5u_{3}^{(8)} + \\frac{2}{5}u_{4}^{(7)} - 5u_{5}^{(6)}\\\\\n",
      "\tH_{6,1}(u_2,u_3,u_4,u_5) = & -5u_{2}''u_{2}^3 - 5u_{2}'^2u_{2}^2 - 5u_{2}'u_{2}^2u_{3} - 5u_{2}^{(4)}u_{2}^2 - 5u_{2}'''u_{2}'u_{2} - 5u_{2}'''u_{2}u_{3}^{(0)} - 5u_{2}''^2u_{2} - 5u_{2}''u_{2}'^2 - 5u_{2}''u_{2}'u_{3} - 5u_{2}''u_{2}u_{3}' + \\frac{3}{5}u_{2}''u_{2}u_{4}^{(0)} - 5u_{2}''u_{3}^2 - 5u_{2}'^2u_{4} - 5u_{2}'u_{2}u_{3}'' + \\frac{39}{25}u_{2}'u_{2}u_{4}' - 5u_{2}'u_{3}^{(1)}u_{3} + \\frac{18}{25}u_{2}'u_{3}u_{4}^{(0)} - 5u_{2}^2u_{3}''' + \\frac{3}{5}u_{2}^2u_{4}'' - 5u_{2}^2u_{5}' + \\frac{18}{25}u_{2}u_{3}''u_{3} + \\frac{18}{25}u_{2}u_{3}'^2 + \\frac{6}{25}u_{2}u_{3}'u_{4} + \\frac{6}{25}u_{2}u_{3}^{(0)}u_{4}' + \\frac{12}{25}u_{3}'u_{3}^2 - 5u_{2}^{(6)}u_{2} - 5u_{2}^{(5)}u_{2}' - 5u_{2}^{(5)}u_{3} - 5u_{2}^{(4)}u_{2}'' - 5u_{2}^{(4)}u_{3}' + u_{2}^{(4)}u_{4} - 5u_{2}'''^2 - 5u_{2}'''u_{3}'' + 5u_{2}'''u_{4}' - 6u_{2}''u_{3}''' + \\frac{34}{5}u_{2}''u_{4}^{(2)} - 5u_{2}''u_{5}' - 5u_{2}'u_{3}^{(4)} + \\frac{21}{5}u_{2}'u_{4}''' - 5u_{2}'u_{5}'' - 5u_{2}u_{3}^{(5)} + \\frac{9}{5}u_{2}u_{4}^{(4)} - 5u_{2}u_{5}''' + \\frac{6}{5}u_{3}^{(4)}u_{3} + \\frac{24}{5}u_{3}'''u_{3}' + \\frac{2}{5}u_{3}'''u_{4} + \\frac{18}{5}u_{3}''^2 - 5u_{3}''u_{4}' - 5u_{3}'u_{4}'' - 5u_{3}'u_{5}^{(1)} + \\frac{1}{5}u_{3}u_{4}''' - 5u_{3}u_{5}'' - 5u_{4}''u_{4} - 5u_{4}'^2 - 5u_{4}'u_{5} - 5u_{4}u_{5}' - 5u_{2}^{(8)} - 5u_{3}^{(7)} + \\frac{8}{5}u_{4}^{(6)} - 5u_{5}^{(5)}\\\\\n",
      "\tH_{6,2}(u_2,u_3,u_4,u_5) = & -5u_{2}'u_{2}^3 - 5u_{2}'''u_{2}^2 - 5u_{2}''u_{2}'u_{2} - 5u_{2}'^3 + \\frac{12}{25}u_{2}'u_{2}u_{3}' + \\frac{24}{25}u_{2}'u_{2}u_{4}^{(0)} + \\frac{12}{25}u_{2}'u_{3}^2 + \\frac{6}{25}u_{2}^2u_{3}'' + \\frac{12}{25}u_{2}^2u_{4}' + \\frac{24}{25}u_{2}u_{3}'u_{3} - 5u_{2}^{(5)}u_{2} - 5u_{2}^{(4)}u_{2}' - 5u_{2}^{(4)}u_{3} - 5u_{2}'''u_{2}'' - 5u_{2}'''u_{3}' + \\frac{14}{5}u_{2}'''u_{4} - 4u_{2}''u_{3}^{(2)} + \\frac{32}{5}u_{2}''u_{4}' - 5u_{2}'u_{3}''' + \\frac{27}{5}u_{2}'u_{4}'' - 5u_{2}'u_{5}^{(1)} + \\frac{9}{5}u_{2}u_{4}''' - 5u_{2}u_{5}'' + \\frac{13}{5}u_{3}'''u_{3} + \\frac{31}{5}u_{3}''u_{3}' - 5u_{3}''u_{4} - 5u_{3}'u_{4}^{(1)} - 5u_{3}'u_{5} - 5u_{3}u_{4}'' - 5u_{3}u_{5}' - 5u_{4}'u_{4} - u_{2}^{(7)} - 5u_{3}^{(6)} + \\frac{11}{5}u_{4}^{(5)} - 3u_{5}^{(4)}\\\\\n",
      "\tH_{6,3}(u_2,u_3,u_4,u_5) = & -5u_{2}''u_{2}^2 - 5u_{2}'^2u_{2} + \\frac{24}{25}u_{2}'u_{2}u_{3}^{(0)} + \\frac{12}{25}u_{2}^2u_{3}' - 5u_{2}^{(4)}u_{2} - 5u_{2}'''u_{2}' + \\frac{1}{5}u_{2}'''u_{3} - 5u_{2}''^2 - 5u_{2}''u_{3}' + \\frac{9}{5}u_{2}''u_{4} + \\frac{1}{5}u_{2}'u_{3}'' + \\frac{12}{5}u_{2}'u_{4}^{(1)} - 5u_{2}'u_{5} + \\frac{3}{5}u_{2}u_{3}''' + \\frac{3}{5}u_{2}u_{4}'' - 5u_{2}u_{5}' + \\frac{6}{5}u_{3}''u_{3} + \\frac{6}{5}u_{3}'^2 - 5u_{3}'u_{4} - 5u_{3}u_{4}' - 5u_{2}^{(6)} + \\frac{1}{5}u_{3}^{(5)} + u_{4}^{(4)} - 2u_{5}'''\n",
      "\\end{array}\\right.\n"
     ]
    }
   ],
   "source": [
    "print(_)"
   ]
  },
  {
   "cell_type": "code",
   "execution_count": null,
   "id": "6f562111-472a-4367-bf3f-ba6532aef81e",
   "metadata": {},
   "outputs": [],
   "source": []
  }
 ],
 "metadata": {
  "kernelspec": {
   "display_name": "SageMath 9.7",
   "language": "sage",
   "name": "sagemath"
  },
  "language_info": {
   "codemirror_mode": {
    "name": "ipython",
    "version": 3
   },
   "file_extension": ".py",
   "mimetype": "text/x-python",
   "name": "python",
   "nbconvert_exporter": "python",
   "pygments_lexer": "ipython3",
   "version": "3.10.5"
  }
 },
 "nbformat": 4,
 "nbformat_minor": 5
}
