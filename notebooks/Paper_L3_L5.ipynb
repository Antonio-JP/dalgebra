{
 "cells": [
  {
   "cell_type": "markdown",
   "id": "83afc02b-1779-4845-aed8-f9d13c7db38e",
   "metadata": {},
   "source": [
    "# **Example of *Paper***"
   ]
  },
  {
   "cell_type": "markdown",
   "id": "15743f50-3adf-4298-a28a-dac2f7ce3697",
   "metadata": {},
   "source": [
    "In this notebook we provide the code that can be used to obtain the results from the *paper* in Section *6* to get the first basis elements of the almost-commuting basis for generic operators $L_3$ and $L_5$ of order 3 and 5, respectively.\n",
    "\n",
    "This implementation is done for these particular cases, and they show intermidiate steps. The complete process can be seen in the method `almost_commuting_wilson` in `dalgebra.commutators.almost_commuting`."
   ]
  },
  {
   "cell_type": "code",
   "execution_count": 1,
   "id": "15c4c99c-db94-4b49-92db-dab1b1781ffe",
   "metadata": {},
   "outputs": [],
   "source": [
    "import sys\n",
    "sys.path.insert(0, \"..\")\n",
    "from dalgebra import *\n",
    "%display latex"
   ]
  },
  {
   "cell_type": "code",
   "execution_count": 71,
   "id": "eb03de4c-071c-4ed1-b867-692767b2dd87",
   "metadata": {},
   "outputs": [],
   "source": [
    "import re\n",
    "from functools import reduce\n",
    "def poly_to_latex(poly, name_u=None,name_y=None):\n",
    "    r'''\n",
    "        Transform a polynomial to a proper LaTeX representation.\n",
    "        \n",
    "        We assume the polynomial has variables `u_i`, `c_{i,j}` and `y_i` where the variables `u_i` and `y_i` are differential variables.\n",
    "        The differential variables are given with `y_i^{(j)}` --  \"yi_j\".\n",
    "        The constant variables are given with `c_{i,j}` -- \"c_i_j\".\n",
    "        \n",
    "        This method also guarantees the removal of \"*\" for multiplications and the \"+ (-...)\".\n",
    "    '''\n",
    "    if not isinstance(poly, str):\n",
    "        poly = str(poly)\n",
    "        \n",
    "    patterns = list()\n",
    "    \n",
    "    patterns.append((r\"\\*\", \"\")) # We remove the multiplication symbol\n",
    "    patterns.append((r\"\\+ \\(-([^\\)]+)\\)\", lambda M: f\"- {M.groups()[0]}\")) # We remove the + (-number)\n",
    "    patterns.append((r\"\\(-([^\\)]+)\\)\", lambda M: f\"-{M.groups()[0]}\")) # We remove the + (-number)\n",
    "    patterns.append((r\"(\\d+)/(\\d+)\", lambda M: f\"\\\\frac\\u007b{M.groups()[0]}\\u007d\\u007b{M.groups()[1]}\\u007d\"))\n",
    "    patterns.append((r\"c_(\\d+)_(\\d+)\", lambda M: f\"c_\\u007b{M.groups()[0]},{M.groups()[1]}\\u007d\")) # Rewritting constant variables\n",
    "    ## Rewriting differential variables\n",
    "    patterns.append((r\"([u])(\\d+)_0([^\\d]?)\", lambda M: f\"{M.groups()[0] if name_u == None else name_u}_\\u007b{M.groups()[1]}\\u007d{M.groups()[2]}\"))\n",
    "    patterns.append((r\"([u])(\\d+)_1([^\\d]?)\", lambda M: f\"{M.groups()[0] if name_u == None else name_u}_\\u007b{M.groups()[1]}\\u007d'{M.groups()[2]}\"))\n",
    "    patterns.append((r\"([u])(\\d+)_2([^\\d]?)\", lambda M: f\"{M.groups()[0] if name_u == None else name_u}_\\u007b{M.groups()[1]}\\u007d''{M.groups()[2]}\"))\n",
    "    patterns.append((r\"([u])(\\d+)_3([^\\d]?)\", lambda M: f\"{M.groups()[0] if name_u == None else name_u}_\\u007b{M.groups()[1]}\\u007d'''{M.groups()[2]}\"))\n",
    "    patterns.append((r\"([u])(\\d+)_(\\d+)\", lambda M: f\"{M.groups()[0] if name_u == None else name_u}_\\u007b{M.groups()[1]}\\u007d^\\u007b({M.groups()[2]})\\u007d\"))\n",
    "    patterns.append((r\"([u])(\\d+)\", lambda M: f\"{M.groups()[0] if name_u == None else name_u}_\\u007b{M.groups()[1]}\\u007d\"))\n",
    "    patterns.append((r\"([y])(\\d+)_0([^\\d]?)\", lambda M: f\"{M.groups()[0] if name_y == None else name_y}_\\u007b{M.groups()[1]}\\u007d{M.groups()[2]}\"))\n",
    "    patterns.append((r\"([y])(\\d+)_1([^\\d]?)\", lambda M: f\"{M.groups()[0] if name_y == None else name_y}_\\u007b{M.groups()[1]}\\u007d'{M.groups()[2]}\"))\n",
    "    patterns.append((r\"([y])(\\d+)_2([^\\d]?)\", lambda M: f\"{M.groups()[0] if name_y == None else name_y}_\\u007b{M.groups()[1]}\\u007d''{M.groups()[2]}\"))\n",
    "    patterns.append((r\"([y])(\\d+)_3([^\\d]?)\", lambda M: f\"{M.groups()[0] if name_y == None else name_y}_\\u007b{M.groups()[1]}\\u007d'''{M.groups()[2]}\"))\n",
    "    patterns.append((r\"([y])(\\d+)_(\\d+)\", lambda M: f\"{M.groups()[0] if name_y == None else name_y}_\\u007b{M.groups()[1]}\\u007d^\\u007b({M.groups()[2]})\\u007d\"))\n",
    "    patterns.append((r\"([y])(\\d+)\", lambda M: f\"{M.groups()[0] if name_y == None else name_y}_\\u007b{M.groups()[1]}\\u007d\"))\n",
    "    patterns.append((r\"z_(\\d+)\", lambda M: f\"\\\\partial^\\u007b{M.groups()[0]}\\u007d\"))\n",
    "    \n",
    "    return reduce(lambda p, q : re.sub(q[0], q[1], p), patterns, poly)\n",
    "\n",
    "def print_pseudo(op):\n",
    "    return poly_to_latex(op[0]) + r\" + \\left(\" + poly_to_latex(op[1]) + r\"\\right)\\partial^{-1}\""
   ]
  },
  {
   "cell_type": "code",
   "execution_count": 72,
   "id": "e8d815fa-2a39-4009-b3ca-b140cbf4874c",
   "metadata": {},
   "outputs": [],
   "source": [
    "from dalgebra.commutators.almost_commuting import hierarchy, recursion\n",
    "import logging\n",
    "logging.getLogger(\"dalgebra.commutators\").setLevel(logging.INFO)"
   ]
  },
  {
   "cell_type": "markdown",
   "id": "0c5f337e-67f2-415d-ac34-2b0773806844",
   "metadata": {
    "tags": []
   },
   "source": [
    "## Case of order 3"
   ]
  },
  {
   "cell_type": "code",
   "execution_count": 73,
   "id": "353ca122-8539-4300-8eab-eb069cb6bdbd",
   "metadata": {},
   "outputs": [
    {
     "data": {
      "text/html": [
       "<html>\\(\\displaystyle u_{2}\\partial^{1} + u_{3}\\partial^{0} + \\partial^{3}\\)</html>"
      ],
      "text/latex": [
       "$\\displaystyle u_{2}\\partial^{1} + u_{3}\\partial^{0} + \\partial^{3}$"
      ],
      "text/plain": [
       "u_{2}\\partial^{1} + u_{3}\\partial^{0} + \\partial^{3}"
      ]
     },
     "execution_count": 73,
     "metadata": {},
     "output_type": "execute_result"
    }
   ],
   "source": [
    "## Setting up the framework to work\n",
    "R.<u2,u3,y2,y3,y4,y5,z> = DifferentialPolynomialRing(QQ)\n",
    "u = (1, 0, u2, u3)\n",
    "y = (1, 0, y2, y3, y4, y5)\n",
    "L = sum(z[i]*u[3-i] for i in range(4))\n",
    "## Showing L\n",
    "LatexExpr(poly_to_latex(L))"
   ]
  },
  {
   "cell_type": "code",
   "execution_count": 74,
   "id": "c0fd3180-be02-4b8f-87fd-ac9bdccfd135",
   "metadata": {},
   "outputs": [
    {
     "data": {
      "text/html": [
       "<html>\\(\\displaystyle \\tilde{P}_{0}(U,Y) \\longrightarrow 1\\)</html>"
      ],
      "text/latex": [
       "$\\displaystyle \\tilde{P}_{0}(U,Y) \\longrightarrow 1$"
      ],
      "text/plain": [
       "\\tilde{P}_{0}(U,Y) \\longrightarrow 1"
      ]
     },
     "metadata": {},
     "output_type": "display_data"
    },
    {
     "data": {
      "text/html": [
       "<html>\\(\\displaystyle \\tilde{P}_{1}(U,Y) \\longrightarrow \\partial^{1}\\)</html>"
      ],
      "text/latex": [
       "$\\displaystyle \\tilde{P}_{1}(U,Y) \\longrightarrow \\partial^{1}$"
      ],
      "text/plain": [
       "\\tilde{P}_{1}(U,Y) \\longrightarrow \\partial^{1}"
      ]
     },
     "metadata": {},
     "output_type": "display_data"
    },
    {
     "data": {
      "text/html": [
       "<html>\\(\\displaystyle \\tilde{P}_{2}(U,Y) \\longrightarrow y_{2}\\partial^{0} + \\partial^{2}\\)</html>"
      ],
      "text/latex": [
       "$\\displaystyle \\tilde{P}_{2}(U,Y) \\longrightarrow y_{2}\\partial^{0} + \\partial^{2}$"
      ],
      "text/plain": [
       "\\tilde{P}_{2}(U,Y) \\longrightarrow y_{2}\\partial^{0} + \\partial^{2}"
      ]
     },
     "metadata": {},
     "output_type": "display_data"
    },
    {
     "data": {
      "text/html": [
       "<html>\\(\\displaystyle \\tilde{P}_{3}(U,Y) \\longrightarrow y_{2}\\partial^{1} + y_{3}\\partial^{0} + \\partial^{3}\\)</html>"
      ],
      "text/latex": [
       "$\\displaystyle \\tilde{P}_{3}(U,Y) \\longrightarrow y_{2}\\partial^{1} + y_{3}\\partial^{0} + \\partial^{3}$"
      ],
      "text/plain": [
       "\\tilde{P}_{3}(U,Y) \\longrightarrow y_{2}\\partial^{1} + y_{3}\\partial^{0} + \\partial^{3}"
      ]
     },
     "metadata": {},
     "output_type": "display_data"
    },
    {
     "data": {
      "text/html": [
       "<html>\\(\\displaystyle \\tilde{P}_{4}(U,Y) \\longrightarrow y_{2}\\partial^{2} + y_{3}\\partial^{1} + y_{4}\\partial^{0} + \\partial^{4}\\)</html>"
      ],
      "text/latex": [
       "$\\displaystyle \\tilde{P}_{4}(U,Y) \\longrightarrow y_{2}\\partial^{2} + y_{3}\\partial^{1} + y_{4}\\partial^{0} + \\partial^{4}$"
      ],
      "text/plain": [
       "\\tilde{P}_{4}(U,Y) \\longrightarrow y_{2}\\partial^{2} + y_{3}\\partial^{1} + y_{4}\\partial^{0} + \\partial^{4}"
      ]
     },
     "metadata": {},
     "output_type": "display_data"
    },
    {
     "data": {
      "text/html": [
       "<html>\\(\\displaystyle \\tilde{P}_{5}(U,Y) \\longrightarrow y_{2}\\partial^{3} + y_{3}\\partial^{2} + y_{4}\\partial^{1} + y_{5}\\partial^{0} + \\partial^{5}\\)</html>"
      ],
      "text/latex": [
       "$\\displaystyle \\tilde{P}_{5}(U,Y) \\longrightarrow y_{2}\\partial^{3} + y_{3}\\partial^{2} + y_{4}\\partial^{1} + y_{5}\\partial^{0} + \\partial^{5}$"
      ],
      "text/plain": [
       "\\tilde{P}_{5}(U,Y) \\longrightarrow y_{2}\\partial^{3} + y_{3}\\partial^{2} + y_{4}\\partial^{1} + y_{5}\\partial^{0} + \\partial^{5}"
      ]
     },
     "metadata": {},
     "output_type": "display_data"
    }
   ],
   "source": [
    "## Creating the \\tilde{P}_i polynomials\n",
    "PT = [1, z[1]]\n",
    "while(len(PT) <= 5): # creating up to P_6(U;Y)\n",
    "    PT += [PT[-1](z=z[1]) + y[len(PT)]*z[0]]\n",
    "\n",
    "## Showing the PT\n",
    "for (i,p) in enumerate(PT):\n",
    "    show(LatexExpr(r\"\\tilde{P}_{\" + str(i) + r\"}(U,Y) \\longrightarrow \" + poly_to_latex(p)))"
   ]
  },
  {
   "cell_type": "markdown",
   "id": "58f98565-bd20-4194-8ed2-68c3f665d882",
   "metadata": {
    "jp-MarkdownHeadingCollapsed": true,
    "tags": []
   },
   "source": [
    "#### **1. Computing the differential systems**"
   ]
  },
  {
   "cell_type": "code",
   "execution_count": 6,
   "id": "c94eac94-0561-4c22-ad8e-013fc6d44043",
   "metadata": {},
   "outputs": [],
   "source": [
    "lie_brackets = [L.lie_bracket(P, \"z\") for P in PT]"
   ]
  },
  {
   "cell_type": "code",
   "execution_count": 8,
   "id": "ca8a2498-42ef-423d-97b4-8ad4699f8e7d",
   "metadata": {},
   "outputs": [],
   "source": [
    "diff_systems = [tuple([bracket.coefficient(z[i]) for i in range(L.order(z)-1, bracket.order(z)+1)]) for bracket in lie_brackets]"
   ]
  },
  {
   "cell_type": "markdown",
   "id": "501442d1-b4e4-48a7-b308-f31a4516c923",
   "metadata": {},
   "source": [
    "##### The system for $m = 1$"
   ]
  },
  {
   "cell_type": "code",
   "execution_count": 9,
   "id": "264b80a4-e0da-48ab-b855-2b7f08c9a3ff",
   "metadata": {},
   "outputs": [
    {
     "data": {
      "text/html": [
       "<html>\\(\\displaystyle [L_3, \\tilde{P}_1(U)] = \\left(-u_{2}'\\right)\\partial^1+\\left(-u_{3}'\\right)\\)</html>"
      ],
      "text/latex": [
       "$\\displaystyle [L_3, \\tilde{P}_1(U)] = \\left(-u_{2}'\\right)\\partial^1+\\left(-u_{3}'\\right)$"
      ],
      "text/plain": [
       "[L_3, \\tilde{P}_1(U)] = \\left(-u_{2}'\\right)\\partial^1+\\left(-u_{3}'\\right)"
      ]
     },
     "execution_count": 9,
     "metadata": {},
     "output_type": "execute_result"
    }
   ],
   "source": [
    "bracket = lie_brackets[1]\n",
    "LatexExpr(r\"[L_3, \\tilde{P}_1(U)] = \" + \"+\".join(r\"\\left(\" + poly_to_latex(bracket.coefficient(z[i])) + r\"\\right)\" + (r\"\\partial^\" + str(i) if i > 0 else \"\") for i in range(bracket.order(z), -1, -1) if bracket.coefficient(z[i]) != 0))"
   ]
  },
  {
   "cell_type": "code",
   "execution_count": 10,
   "id": "7ca4dabe-a494-4692-9283-3c8476b32a41",
   "metadata": {},
   "outputs": [
    {
     "name": "stdout",
     "output_type": "stream",
     "text": [
      "[L_3, \\tilde{P}_1(U)] = \\left(-u_{2}'\\right)\\partial^1+\\left(-u_{3}'\\right)\n"
     ]
    }
   ],
   "source": [
    "print(_)"
   ]
  },
  {
   "cell_type": "code",
   "execution_count": 11,
   "id": "a230c5c6-994b-4469-9364-ffc92b714099",
   "metadata": {},
   "outputs": [
    {
     "data": {
      "text/html": [
       "<html>\\(\\displaystyle \\left(\\right)\\)</html>"
      ],
      "text/latex": [
       "$\\displaystyle \\left(\\right)$"
      ],
      "text/plain": [
       "()"
      ]
     },
     "execution_count": 11,
     "metadata": {},
     "output_type": "execute_result"
    }
   ],
   "source": [
    "## There are no equations for the almost commuting of z[1]\n",
    "##  --> trivial: it is the unique monic operator of order 1 in normal form\n",
    "diff_systems[1]"
   ]
  },
  {
   "cell_type": "markdown",
   "id": "c6afcf25-e4d1-4091-9fbe-842519a9b9e2",
   "metadata": {},
   "source": [
    "##### The system for $m=2$"
   ]
  },
  {
   "cell_type": "code",
   "execution_count": 12,
   "id": "3b28fb28-0a56-458c-a408-1a1f06b3f1a0",
   "metadata": {},
   "outputs": [
    {
     "data": {
      "text/html": [
       "<html>\\(\\displaystyle [L_3, \\tilde{P}_2(U, y_2)] = \\left(-2u_{2}' + 3y_{2}'\\right)\\partial^2+\\left(-u_{2}'' - 2u_{3}' + 3y_{2}''\\right)\\partial^1+\\left(u_{2}y_{2}' - u_{3}'' + y_{2}'''\\right)\\)</html>"
      ],
      "text/latex": [
       "$\\displaystyle [L_3, \\tilde{P}_2(U, y_2)] = \\left(-2u_{2}' + 3y_{2}'\\right)\\partial^2+\\left(-u_{2}'' - 2u_{3}' + 3y_{2}''\\right)\\partial^1+\\left(u_{2}y_{2}' - u_{3}'' + y_{2}'''\\right)$"
      ],
      "text/plain": [
       "[L_3, \\tilde{P}_2(U, y_2)] = \\left(-2u_{2}' + 3y_{2}'\\right)\\partial^2+\\left(-u_{2}'' - 2u_{3}' + 3y_{2}''\\right)\\partial^1+\\left(u_{2}y_{2}' - u_{3}'' + y_{2}'''\\right)"
      ]
     },
     "execution_count": 12,
     "metadata": {},
     "output_type": "execute_result"
    }
   ],
   "source": [
    "bracket = lie_brackets[2]\n",
    "LatexExpr(r\"[L_3, \\tilde{P}_2(U, y_2)] = \" + \"+\".join(r\"\\left(\" + poly_to_latex(bracket.coefficient(z[i])) + r\"\\right)\" + (r\"\\partial^\" + str(i) if i > 0 else \"\") for i in range(bracket.order(z), -1, -1) if bracket.coefficient(z[i]) != 0))"
   ]
  },
  {
   "cell_type": "code",
   "execution_count": 13,
   "id": "9fbbb810-a2d3-47e0-9b8d-2ad94d6bf303",
   "metadata": {},
   "outputs": [
    {
     "name": "stdout",
     "output_type": "stream",
     "text": [
      "[L_3, \\tilde{P}_2(U, y_2)] = \\left(-2u_{2}' + 3y_{2}'\\right)\\partial^2+\\left(-u_{2}'' - 2u_{3}' + 3y_{2}''\\right)\\partial^1+\\left(u_{2}y_{2}' - u_{3}'' + y_{2}'''\\right)\n"
     ]
    }
   ],
   "source": [
    "print(_)"
   ]
  },
  {
   "cell_type": "code",
   "execution_count": 14,
   "id": "357ee9f1-b901-4279-b875-c55350dc6340",
   "metadata": {},
   "outputs": [
    {
     "data": {
      "text/html": [
       "<html>\\(\\displaystyle \\left\\{\\begin{array}{rl}\n",
       "\t-2u_{2}' + 3y_{2}'&= 0\n",
       "\\end{array}\\right.\\)</html>"
      ],
      "text/latex": [
       "$\\displaystyle \\left\\{\\begin{array}{rl}\n",
       "\t-2u_{2}' + 3y_{2}'&= 0\n",
       "\\end{array}\\right.$"
      ],
      "text/plain": [
       "\\left\\{\\begin{array}{rl}\n",
       "\t-2u_{2}' + 3y_{2}'&= 0\n",
       "\\end{array}\\right."
      ]
     },
     "execution_count": 14,
     "metadata": {},
     "output_type": "execute_result"
    }
   ],
   "source": [
    "LatexExpr(r\"\\left\\{\\begin{array}{rl}\" + \"\\n\\t\" + \"\\\\\\\\\\n\\t\".join(poly_to_latex(p) + r\"&= 0\" for p in diff_systems[2]) + \"\\n\" + r\"\\end{array}\\right.\")"
   ]
  },
  {
   "cell_type": "code",
   "execution_count": 15,
   "id": "8cf28569-21e6-4238-8e02-c9ea149b3483",
   "metadata": {},
   "outputs": [
    {
     "name": "stdout",
     "output_type": "stream",
     "text": [
      "\\left\\{\\begin{array}{rl}\n",
      "\t-2u_{2}' + 3y_{2}'&= 0\n",
      "\\end{array}\\right.\n"
     ]
    }
   ],
   "source": [
    "print(_)"
   ]
  },
  {
   "cell_type": "markdown",
   "id": "c507f869-7ccc-40e0-a7d6-41784ca53b54",
   "metadata": {},
   "source": [
    "##### The system for $m = 3$"
   ]
  },
  {
   "cell_type": "code",
   "execution_count": 16,
   "id": "55bfaf2a-68e4-42dc-9e90-c184ad439912",
   "metadata": {},
   "outputs": [
    {
     "data": {
      "text/html": [
       "<html>\\(\\displaystyle [L_3, \\tilde{P}_3(U, y_2, y_3)] = \\left(-3u_{2}' + 3y_{2}'\\right)\\partial^3+\\left(-3u_{2}'' - 3u_{3}' + 3y_{2}'' + 3y_{3}'\\right)\\partial^2+\\left(-u_{2}'y_{2} + u_{2}y_{2}' - u_{2}''' - 3u_{3}'' + y_{2}''' + 3y_{3}''\\right)\\partial^1+\\left(u_{2}y_{3}' - u_{3}'y_{2} - u_{3}''' + y_{3}'''\\right)\\)</html>"
      ],
      "text/latex": [
       "$\\displaystyle [L_3, \\tilde{P}_3(U, y_2, y_3)] = \\left(-3u_{2}' + 3y_{2}'\\right)\\partial^3+\\left(-3u_{2}'' - 3u_{3}' + 3y_{2}'' + 3y_{3}'\\right)\\partial^2+\\left(-u_{2}'y_{2} + u_{2}y_{2}' - u_{2}''' - 3u_{3}'' + y_{2}''' + 3y_{3}''\\right)\\partial^1+\\left(u_{2}y_{3}' - u_{3}'y_{2} - u_{3}''' + y_{3}'''\\right)$"
      ],
      "text/plain": [
       "[L_3, \\tilde{P}_3(U, y_2, y_3)] = \\left(-3u_{2}' + 3y_{2}'\\right)\\partial^3+\\left(-3u_{2}'' - 3u_{3}' + 3y_{2}'' + 3y_{3}'\\right)\\partial^2+\\left(-u_{2}'y_{2} + u_{2}y_{2}' - u_{2}''' - 3u_{3}'' + y_{2}''' + 3y_{3}''\\right)\\partial^1+\\left(u_{2}y_{3}' - u_{3}'y_{2} - u_{3}''' + y_{3}'''\\right)"
      ]
     },
     "execution_count": 16,
     "metadata": {},
     "output_type": "execute_result"
    }
   ],
   "source": [
    "bracket = lie_brackets[3]\n",
    "LatexExpr(r\"[L_3, \\tilde{P}_3(U, y_2, y_3)] = \" + \"+\".join(r\"\\left(\" + poly_to_latex(bracket.coefficient(z[i])) + r\"\\right)\" + (r\"\\partial^\" + str(i) if i > 0 else \"\") for i in range(bracket.order(z), -1, -1) if bracket.coefficient(z[i]) != 0))"
   ]
  },
  {
   "cell_type": "code",
   "execution_count": 17,
   "id": "81a39d80-e26c-4911-aa0d-db3275c95a63",
   "metadata": {},
   "outputs": [
    {
     "name": "stdout",
     "output_type": "stream",
     "text": [
      "[L_3, \\tilde{P}_3(U, y_2, y_3)] = \\left(-3u_{2}' + 3y_{2}'\\right)\\partial^3+\\left(-3u_{2}'' - 3u_{3}' + 3y_{2}'' + 3y_{3}'\\right)\\partial^2+\\left(-u_{2}'y_{2} + u_{2}y_{2}' - u_{2}''' - 3u_{3}'' + y_{2}''' + 3y_{3}''\\right)\\partial^1+\\left(u_{2}y_{3}' - u_{3}'y_{2} - u_{3}''' + y_{3}'''\\right)\n"
     ]
    }
   ],
   "source": [
    "print(_)"
   ]
  },
  {
   "cell_type": "code",
   "execution_count": 18,
   "id": "12af29ab-2e8f-4829-ba7b-30baacb69998",
   "metadata": {},
   "outputs": [
    {
     "data": {
      "text/html": [
       "<html>\\(\\displaystyle \\left\\{\\begin{array}{rl}\n",
       "\t-3u_{2}'' - 3u_{3}' + 3y_{2}'' + 3y_{3}'&= 0\\\\\n",
       "\t-3u_{2}' + 3y_{2}'&= 0\n",
       "\\end{array}\\right.\\)</html>"
      ],
      "text/latex": [
       "$\\displaystyle \\left\\{\\begin{array}{rl}\n",
       "\t-3u_{2}'' - 3u_{3}' + 3y_{2}'' + 3y_{3}'&= 0\\\\\n",
       "\t-3u_{2}' + 3y_{2}'&= 0\n",
       "\\end{array}\\right.$"
      ],
      "text/plain": [
       "\\left\\{\\begin{array}{rl}\n",
       "\t-3u_{2}'' - 3u_{3}' + 3y_{2}'' + 3y_{3}'&= 0\\\\\n",
       "\t-3u_{2}' + 3y_{2}'&= 0\n",
       "\\end{array}\\right."
      ]
     },
     "execution_count": 18,
     "metadata": {},
     "output_type": "execute_result"
    }
   ],
   "source": [
    "LatexExpr(r\"\\left\\{\\begin{array}{rl}\" + \"\\n\\t\" + \"\\\\\\\\\\n\\t\".join(poly_to_latex(p) + r\"&= 0\" for p in diff_systems[3]) + \"\\n\" + r\"\\end{array}\\right.\")"
   ]
  },
  {
   "cell_type": "code",
   "execution_count": 19,
   "id": "900cb374-f621-4931-9ea3-51675ee1b4fa",
   "metadata": {},
   "outputs": [
    {
     "name": "stdout",
     "output_type": "stream",
     "text": [
      "\\left\\{\\begin{array}{rl}\n",
      "\t-3u_{2}'' - 3u_{3}' + 3y_{2}'' + 3y_{3}'&= 0\\\\\n",
      "\t-3u_{2}' + 3y_{2}'&= 0\n",
      "\\end{array}\\right.\n"
     ]
    }
   ],
   "source": [
    "print(_)"
   ]
  },
  {
   "cell_type": "markdown",
   "id": "7af1d686-69bf-44a7-8d0d-ba92282ef02d",
   "metadata": {},
   "source": [
    "##### The system for $m = 4$"
   ]
  },
  {
   "cell_type": "code",
   "execution_count": 20,
   "id": "03663790-69a7-4d2c-a977-5ef75b867908",
   "metadata": {},
   "outputs": [
    {
     "data": {
      "text/html": [
       "<html>\\(\\displaystyle [L_3, \\tilde{P}_4(U, y_2,y_3,y_4)] = \\left(-4u_{2}' + 3y_{2}'\\right)\\partial^4+\\left(-6u_{2}'' - 4u_{3}' + 3y_{2}'' + 3y_{3}'\\right)\\partial^3+\\left(-2u_{2}'y_{2} + u_{2}y_{2}' - 4u_{2}''' - 6u_{3}'' + y_{2}''' + 3y_{3}'' + 3y_{4}'\\right)\\partial^2+\\left(-u_{2}''y_{2} - u_{2}'y_{3} + u_{2}y_{3}' - 2u_{3}'y_{2} - u_{2}^{(4)} - 4u_{3}''' + y_{3}''' + 3y_{4}''\\right)\\partial^1+\\left(u_{2}y_{4}' - u_{3}''y_{2} - u_{3}'y_{3} - u_{3}^{(4)} + y_{4}'''\\right)\\)</html>"
      ],
      "text/latex": [
       "$\\displaystyle [L_3, \\tilde{P}_4(U, y_2,y_3,y_4)] = \\left(-4u_{2}' + 3y_{2}'\\right)\\partial^4+\\left(-6u_{2}'' - 4u_{3}' + 3y_{2}'' + 3y_{3}'\\right)\\partial^3+\\left(-2u_{2}'y_{2} + u_{2}y_{2}' - 4u_{2}''' - 6u_{3}'' + y_{2}''' + 3y_{3}'' + 3y_{4}'\\right)\\partial^2+\\left(-u_{2}''y_{2} - u_{2}'y_{3} + u_{2}y_{3}' - 2u_{3}'y_{2} - u_{2}^{(4)} - 4u_{3}''' + y_{3}''' + 3y_{4}''\\right)\\partial^1+\\left(u_{2}y_{4}' - u_{3}''y_{2} - u_{3}'y_{3} - u_{3}^{(4)} + y_{4}'''\\right)$"
      ],
      "text/plain": [
       "[L_3, \\tilde{P}_4(U, y_2,y_3,y_4)] = \\left(-4u_{2}' + 3y_{2}'\\right)\\partial^4+\\left(-6u_{2}'' - 4u_{3}' + 3y_{2}'' + 3y_{3}'\\right)\\partial^3+\\left(-2u_{2}'y_{2} + u_{2}y_{2}' - 4u_{2}''' - 6u_{3}'' + y_{2}''' + 3y_{3}'' + 3y_{4}'\\right)\\partial^2+\\left(-u_{2}''y_{2} - u_{2}'y_{3} + u_{2}y_{3}' - 2u_{3}'y_{2} - u_{2}^{(4)} - 4u_{3}''' + y_{3}''' + 3y_{4}''\\right)\\partial^1+\\left(u_{2}y_{4}' - u_{3}''y_{2} - u_{3}'y_{3} - u_{3}^{(4)} + y_{4}'''\\right)"
      ]
     },
     "execution_count": 20,
     "metadata": {},
     "output_type": "execute_result"
    }
   ],
   "source": [
    "bracket = lie_brackets[4]\n",
    "LatexExpr(r\"[L_3, \\tilde{P}_4(U, y_2,y_3,y_4)] = \" + \"+\".join(r\"\\left(\" + poly_to_latex(bracket.coefficient(z[i])) + r\"\\right)\" + (r\"\\partial^\" + str(i) if i > 0 else \"\") for i in range(bracket.order(z), -1, -1) if bracket.coefficient(z[i]) != 0))"
   ]
  },
  {
   "cell_type": "code",
   "execution_count": 21,
   "id": "48931572-db6c-4b04-ae12-c921e2915e93",
   "metadata": {},
   "outputs": [
    {
     "name": "stdout",
     "output_type": "stream",
     "text": [
      "[L_3, \\tilde{P}_4(U, y_2,y_3,y_4)] = \\left(-4u_{2}' + 3y_{2}'\\right)\\partial^4+\\left(-6u_{2}'' - 4u_{3}' + 3y_{2}'' + 3y_{3}'\\right)\\partial^3+\\left(-2u_{2}'y_{2} + u_{2}y_{2}' - 4u_{2}''' - 6u_{3}'' + y_{2}''' + 3y_{3}'' + 3y_{4}'\\right)\\partial^2+\\left(-u_{2}''y_{2} - u_{2}'y_{3} + u_{2}y_{3}' - 2u_{3}'y_{2} - u_{2}^{(4)} - 4u_{3}''' + y_{3}''' + 3y_{4}''\\right)\\partial^1+\\left(u_{2}y_{4}' - u_{3}''y_{2} - u_{3}'y_{3} - u_{3}^{(4)} + y_{4}'''\\right)\n"
     ]
    }
   ],
   "source": [
    "print(_)"
   ]
  },
  {
   "cell_type": "code",
   "execution_count": 22,
   "id": "e4b7e1fa-7ec3-4f2e-b2c5-559af4985fe0",
   "metadata": {},
   "outputs": [
    {
     "data": {
      "text/html": [
       "<html>\\(\\displaystyle \\left\\{\\begin{array}{rl}\n",
       "\t-2u_{2}'y_{2} + u_{2}y_{2}' - 4u_{2}''' - 6u_{3}'' + y_{2}''' + 3y_{3}'' + 3y_{4}'&= 0\\\\\n",
       "\t-6u_{2}'' - 4u_{3}' + 3y_{2}'' + 3y_{3}'&= 0\\\\\n",
       "\t-4u_{2}' + 3y_{2}'&= 0\n",
       "\\end{array}\\right.\\)</html>"
      ],
      "text/latex": [
       "$\\displaystyle \\left\\{\\begin{array}{rl}\n",
       "\t-2u_{2}'y_{2} + u_{2}y_{2}' - 4u_{2}''' - 6u_{3}'' + y_{2}''' + 3y_{3}'' + 3y_{4}'&= 0\\\\\n",
       "\t-6u_{2}'' - 4u_{3}' + 3y_{2}'' + 3y_{3}'&= 0\\\\\n",
       "\t-4u_{2}' + 3y_{2}'&= 0\n",
       "\\end{array}\\right.$"
      ],
      "text/plain": [
       "\\left\\{\\begin{array}{rl}\n",
       "\t-2u_{2}'y_{2} + u_{2}y_{2}' - 4u_{2}''' - 6u_{3}'' + y_{2}''' + 3y_{3}'' + 3y_{4}'&= 0\\\\\n",
       "\t-6u_{2}'' - 4u_{3}' + 3y_{2}'' + 3y_{3}'&= 0\\\\\n",
       "\t-4u_{2}' + 3y_{2}'&= 0\n",
       "\\end{array}\\right."
      ]
     },
     "execution_count": 22,
     "metadata": {},
     "output_type": "execute_result"
    }
   ],
   "source": [
    "LatexExpr(r\"\\left\\{\\begin{array}{rl}\" + \"\\n\\t\" + \"\\\\\\\\\\n\\t\".join(poly_to_latex(p) + r\"&= 0\" for p in diff_systems[4]) + \"\\n\" + r\"\\end{array}\\right.\")"
   ]
  },
  {
   "cell_type": "code",
   "execution_count": 23,
   "id": "1adbba4c-26ef-4286-898b-4fb879ef2b46",
   "metadata": {},
   "outputs": [
    {
     "name": "stdout",
     "output_type": "stream",
     "text": [
      "\\left\\{\\begin{array}{rl}\n",
      "\t-2u_{2}'y_{2} + u_{2}y_{2}' - 4u_{2}''' - 6u_{3}'' + y_{2}''' + 3y_{3}'' + 3y_{4}'&= 0\\\\\n",
      "\t-6u_{2}'' - 4u_{3}' + 3y_{2}'' + 3y_{3}'&= 0\\\\\n",
      "\t-4u_{2}' + 3y_{2}'&= 0\n",
      "\\end{array}\\right.\n"
     ]
    }
   ],
   "source": [
    "print(_)"
   ]
  },
  {
   "cell_type": "markdown",
   "id": "2890f6bc-4b22-4937-a5db-c43b7787afc8",
   "metadata": {},
   "source": [
    "##### The system for $m = 5$"
   ]
  },
  {
   "cell_type": "code",
   "execution_count": 24,
   "id": "67921d0e-0f37-4543-87cb-062f53142093",
   "metadata": {},
   "outputs": [
    {
     "data": {
      "text/html": [
       "<html>\\(\\displaystyle [L_3, \\tilde{P}_5(U, y_2,y_3,y_4,y_5)] = \\left(-5u_{2}' + 3y_{2}'\\right)\\partial^5+\\left(-10u_{2}'' - 5u_{3}' + 3y_{2}'' + 3y_{3}'\\right)\\partial^4+\\left(-3u_{2}'y_{2} + u_{2}y_{2}' - 10u_{2}''' - 10u_{3}'' + y_{2}''' + 3y_{3}'' + 3y_{4}'\\right)\\partial^3+\\left(-3u_{2}''y_{2} - 2u_{2}'y_{3} + u_{2}y_{3}' - 3u_{3}'y_{2} - 5u_{2}^{(4)} - 10u_{3}''' + y_{3}''' + 3y_{4}'' + 3y_{5}'\\right)\\partial^2+\\left(-u_{2}'''y_{2} - u_{2}''y_{3} - u_{2}'y_{4} + u_{2}y_{4}' - 3u_{3}''y_{2} - 2u_{3}'y_{3} - u_{2}^{(5)} - 5u_{3}^{(4)} + y_{4}''' + 3y_{5}''\\right)\\partial^1+\\left(u_{2}y_{5}' - u_{3}'''y_{2} - u_{3}''y_{3} - u_{3}'y_{4} - u_{3}^{(5)} + y_{5}'''\\right)\\)</html>"
      ],
      "text/latex": [
       "$\\displaystyle [L_3, \\tilde{P}_5(U, y_2,y_3,y_4,y_5)] = \\left(-5u_{2}' + 3y_{2}'\\right)\\partial^5+\\left(-10u_{2}'' - 5u_{3}' + 3y_{2}'' + 3y_{3}'\\right)\\partial^4+\\left(-3u_{2}'y_{2} + u_{2}y_{2}' - 10u_{2}''' - 10u_{3}'' + y_{2}''' + 3y_{3}'' + 3y_{4}'\\right)\\partial^3+\\left(-3u_{2}''y_{2} - 2u_{2}'y_{3} + u_{2}y_{3}' - 3u_{3}'y_{2} - 5u_{2}^{(4)} - 10u_{3}''' + y_{3}''' + 3y_{4}'' + 3y_{5}'\\right)\\partial^2+\\left(-u_{2}'''y_{2} - u_{2}''y_{3} - u_{2}'y_{4} + u_{2}y_{4}' - 3u_{3}''y_{2} - 2u_{3}'y_{3} - u_{2}^{(5)} - 5u_{3}^{(4)} + y_{4}''' + 3y_{5}''\\right)\\partial^1+\\left(u_{2}y_{5}' - u_{3}'''y_{2} - u_{3}''y_{3} - u_{3}'y_{4} - u_{3}^{(5)} + y_{5}'''\\right)$"
      ],
      "text/plain": [
       "[L_3, \\tilde{P}_5(U, y_2,y_3,y_4,y_5)] = \\left(-5u_{2}' + 3y_{2}'\\right)\\partial^5+\\left(-10u_{2}'' - 5u_{3}' + 3y_{2}'' + 3y_{3}'\\right)\\partial^4+\\left(-3u_{2}'y_{2} + u_{2}y_{2}' - 10u_{2}''' - 10u_{3}'' + y_{2}''' + 3y_{3}'' + 3y_{4}'\\right)\\partial^3+\\left(-3u_{2}''y_{2} - 2u_{2}'y_{3} + u_{2}y_{3}' - 3u_{3}'y_{2} - 5u_{2}^{(4)} - 10u_{3}''' + y_{3}''' + 3y_{4}'' + 3y_{5}'\\right)\\partial^2+\\left(-u_{2}'''y_{2} - u_{2}''y_{3} - u_{2}'y_{4} + u_{2}y_{4}' - 3u_{3}''y_{2} - 2u_{3}'y_{3} - u_{2}^{(5)} - 5u_{3}^{(4)} + y_{4}''' + 3y_{5}''\\right)\\partial^1+\\left(u_{2}y_{5}' - u_{3}'''y_{2} - u_{3}''y_{3} - u_{3}'y_{4} - u_{3}^{(5)} + y_{5}'''\\right)"
      ]
     },
     "execution_count": 24,
     "metadata": {},
     "output_type": "execute_result"
    }
   ],
   "source": [
    "bracket = lie_brackets[5]\n",
    "LatexExpr(r\"[L_3, \\tilde{P}_5(U, y_2,y_3,y_4,y_5)] = \" + \"+\".join(r\"\\left(\" + poly_to_latex(bracket.coefficient(z[i])) + r\"\\right)\" + (r\"\\partial^\" + str(i) if i > 0 else \"\") for i in range(bracket.order(z), -1, -1) if bracket.coefficient(z[i]) != 0))"
   ]
  },
  {
   "cell_type": "code",
   "execution_count": 25,
   "id": "c7916eb5-9085-4264-b8d9-501af5d7f1d6",
   "metadata": {},
   "outputs": [
    {
     "name": "stdout",
     "output_type": "stream",
     "text": [
      "[L_3, \\tilde{P}_5(U, y_2,y_3,y_4,y_5)] = \\left(-5u_{2}' + 3y_{2}'\\right)\\partial^5+\\left(-10u_{2}'' - 5u_{3}' + 3y_{2}'' + 3y_{3}'\\right)\\partial^4+\\left(-3u_{2}'y_{2} + u_{2}y_{2}' - 10u_{2}''' - 10u_{3}'' + y_{2}''' + 3y_{3}'' + 3y_{4}'\\right)\\partial^3+\\left(-3u_{2}''y_{2} - 2u_{2}'y_{3} + u_{2}y_{3}' - 3u_{3}'y_{2} - 5u_{2}^{(4)} - 10u_{3}''' + y_{3}''' + 3y_{4}'' + 3y_{5}'\\right)\\partial^2+\\left(-u_{2}'''y_{2} - u_{2}''y_{3} - u_{2}'y_{4} + u_{2}y_{4}' - 3u_{3}''y_{2} - 2u_{3}'y_{3} - u_{2}^{(5)} - 5u_{3}^{(4)} + y_{4}''' + 3y_{5}''\\right)\\partial^1+\\left(u_{2}y_{5}' - u_{3}'''y_{2} - u_{3}''y_{3} - u_{3}'y_{4} - u_{3}^{(5)} + y_{5}'''\\right)\n"
     ]
    }
   ],
   "source": [
    "print(_)"
   ]
  },
  {
   "cell_type": "code",
   "execution_count": 26,
   "id": "18fac30d-f8de-4ec9-a30e-37529edf11e9",
   "metadata": {},
   "outputs": [
    {
     "data": {
      "text/html": [
       "<html>\\(\\displaystyle \\left\\{\\begin{array}{rl}\n",
       "\t-3u_{2}''y_{2} - 2u_{2}'y_{3} + u_{2}y_{3}' - 3u_{3}'y_{2} - 5u_{2}^{(4)} - 10u_{3}''' + y_{3}''' + 3y_{4}'' + 3y_{5}'&= 0\\\\\n",
       "\t-3u_{2}'y_{2} + u_{2}y_{2}' - 10u_{2}''' - 10u_{3}'' + y_{2}''' + 3y_{3}'' + 3y_{4}'&= 0\\\\\n",
       "\t-10u_{2}'' - 5u_{3}' + 3y_{2}'' + 3y_{3}'&= 0\\\\\n",
       "\t-5u_{2}' + 3y_{2}'&= 0\n",
       "\\end{array}\\right.\\)</html>"
      ],
      "text/latex": [
       "$\\displaystyle \\left\\{\\begin{array}{rl}\n",
       "\t-3u_{2}''y_{2} - 2u_{2}'y_{3} + u_{2}y_{3}' - 3u_{3}'y_{2} - 5u_{2}^{(4)} - 10u_{3}''' + y_{3}''' + 3y_{4}'' + 3y_{5}'&= 0\\\\\n",
       "\t-3u_{2}'y_{2} + u_{2}y_{2}' - 10u_{2}''' - 10u_{3}'' + y_{2}''' + 3y_{3}'' + 3y_{4}'&= 0\\\\\n",
       "\t-10u_{2}'' - 5u_{3}' + 3y_{2}'' + 3y_{3}'&= 0\\\\\n",
       "\t-5u_{2}' + 3y_{2}'&= 0\n",
       "\\end{array}\\right.$"
      ],
      "text/plain": [
       "\\left\\{\\begin{array}{rl}\n",
       "\t-3u_{2}''y_{2} - 2u_{2}'y_{3} + u_{2}y_{3}' - 3u_{3}'y_{2} - 5u_{2}^{(4)} - 10u_{3}''' + y_{3}''' + 3y_{4}'' + 3y_{5}'&= 0\\\\\n",
       "\t-3u_{2}'y_{2} + u_{2}y_{2}' - 10u_{2}''' - 10u_{3}'' + y_{2}''' + 3y_{3}'' + 3y_{4}'&= 0\\\\\n",
       "\t-10u_{2}'' - 5u_{3}' + 3y_{2}'' + 3y_{3}'&= 0\\\\\n",
       "\t-5u_{2}' + 3y_{2}'&= 0\n",
       "\\end{array}\\right."
      ]
     },
     "execution_count": 26,
     "metadata": {},
     "output_type": "execute_result"
    }
   ],
   "source": [
    "LatexExpr(r\"\\left\\{\\begin{array}{rl}\" + \"\\n\\t\" + \"\\\\\\\\\\n\\t\".join(poly_to_latex(p) + r\"&= 0\" for p in diff_systems[5]) + \"\\n\" + r\"\\end{array}\\right.\")"
   ]
  },
  {
   "cell_type": "code",
   "execution_count": 27,
   "id": "c700f337-b708-4b93-ae61-5988d288ef52",
   "metadata": {},
   "outputs": [
    {
     "name": "stdout",
     "output_type": "stream",
     "text": [
      "\\left\\{\\begin{array}{rl}\n",
      "\t-3u_{2}''y_{2} - 2u_{2}'y_{3} + u_{2}y_{3}' - 3u_{3}'y_{2} - 5u_{2}^{(4)} - 10u_{3}''' + y_{3}''' + 3y_{4}'' + 3y_{5}'&= 0\\\\\n",
      "\t-3u_{2}'y_{2} + u_{2}y_{2}' - 10u_{2}''' - 10u_{3}'' + y_{2}''' + 3y_{3}'' + 3y_{4}'&= 0\\\\\n",
      "\t-10u_{2}'' - 5u_{3}' + 3y_{2}'' + 3y_{3}'&= 0\\\\\n",
      "\t-5u_{2}' + 3y_{2}'&= 0\n",
      "\\end{array}\\right.\n"
     ]
    }
   ],
   "source": [
    "print(_)"
   ]
  },
  {
   "cell_type": "markdown",
   "id": "36b18186-27a3-4e0b-a87c-1280e1fbe2fc",
   "metadata": {
    "jp-MarkdownHeadingCollapsed": true,
    "tags": []
   },
   "source": [
    "#### **2. Computing the basis of $W(L_5)$**"
   ]
  },
  {
   "cell_type": "code",
   "execution_count": 28,
   "id": "66fb851d-5fca-4705-9985-8d369183c997",
   "metadata": {},
   "outputs": [],
   "source": [
    "W = R.weight_func([2,3,0,0,0,0,0], [1])\n",
    "T = [W.homogeneous_monomials(i) for i in range(6)]"
   ]
  },
  {
   "cell_type": "code",
   "execution_count": 29,
   "id": "ea9a0956-7bd7-4297-8830-74236e3cf478",
   "metadata": {},
   "outputs": [
    {
     "data": {
      "text/html": [
       "<html>\\(\\displaystyle \\mathcal{T}_{0} = \\{1\\}\\)</html>"
      ],
      "text/latex": [
       "$\\displaystyle \\mathcal{T}_{0} = \\{1\\}$"
      ],
      "text/plain": [
       "\\mathcal{T}_{0} = \\{1\\}"
      ]
     },
     "metadata": {},
     "output_type": "display_data"
    },
    {
     "data": {
      "text/html": [
       "<html>\\(\\displaystyle \\mathcal{T}_{1} = \\{\\}\\)</html>"
      ],
      "text/latex": [
       "$\\displaystyle \\mathcal{T}_{1} = \\{\\}$"
      ],
      "text/plain": [
       "\\mathcal{T}_{1} = \\{\\}"
      ]
     },
     "metadata": {},
     "output_type": "display_data"
    },
    {
     "data": {
      "text/html": [
       "<html>\\(\\displaystyle \\mathcal{T}_{2} = \\{u_{2}\\}\\)</html>"
      ],
      "text/latex": [
       "$\\displaystyle \\mathcal{T}_{2} = \\{u_{2}\\}$"
      ],
      "text/plain": [
       "\\mathcal{T}_{2} = \\{u_{2}\\}"
      ]
     },
     "metadata": {},
     "output_type": "display_data"
    },
    {
     "data": {
      "text/html": [
       "<html>\\(\\displaystyle \\mathcal{T}_{3} = \\{u_{2}',u_{3}\\}\\)</html>"
      ],
      "text/latex": [
       "$\\displaystyle \\mathcal{T}_{3} = \\{u_{2}',u_{3}\\}$"
      ],
      "text/plain": [
       "\\mathcal{T}_{3} = \\{u_{2}',u_{3}\\}"
      ]
     },
     "metadata": {},
     "output_type": "display_data"
    },
    {
     "data": {
      "text/html": [
       "<html>\\(\\displaystyle \\mathcal{T}_{4} = \\{u_{2}'',u_{3}',u_{2}^2\\}\\)</html>"
      ],
      "text/latex": [
       "$\\displaystyle \\mathcal{T}_{4} = \\{u_{2}'',u_{3}',u_{2}^2\\}$"
      ],
      "text/plain": [
       "\\mathcal{T}_{4} = \\{u_{2}'',u_{3}',u_{2}^2\\}"
      ]
     },
     "metadata": {},
     "output_type": "display_data"
    },
    {
     "data": {
      "text/html": [
       "<html>\\(\\displaystyle \\mathcal{T}_{5} = \\{u_{2}''',u_{3}'',u_{2}'u_{2},u_{2}u_{3}^{(0)}\\}\\)</html>"
      ],
      "text/latex": [
       "$\\displaystyle \\mathcal{T}_{5} = \\{u_{2}''',u_{3}'',u_{2}'u_{2},u_{2}u_{3}^{(0)}\\}$"
      ],
      "text/plain": [
       "\\mathcal{T}_{5} = \\{u_{2}''',u_{3}'',u_{2}'u_{2},u_{2}u_{3}^{(0)}\\}"
      ]
     },
     "metadata": {},
     "output_type": "display_data"
    }
   ],
   "source": [
    "for i in range(6):\n",
    "    show(LatexExpr(r\"\\mathcal{T}_{\" + str(i) + r\"} = \\{\" + \",\".join(poly_to_latex(t) for t in T[i]) +  r\"\\}\"))"
   ]
  },
  {
   "cell_type": "code",
   "execution_count": 30,
   "id": "1705bb79-8d64-4f06-8460-8e17b3ba06e2",
   "metadata": {},
   "outputs": [
    {
     "name": "stdout",
     "output_type": "stream",
     "text": [
      "\\begin{itemize}\n",
      "\t\\item $\\mathcal{T}_{0} = \\{1\\}$\n",
      "\t\\item $\\mathcal{T}_{1} = \\{\\}$\n",
      "\t\\item $\\mathcal{T}_{2} = \\{u_{2}\\}$\n",
      "\t\\item $\\mathcal{T}_{3} = \\{u_{2}',u_{3}\\}$\n",
      "\t\\item $\\mathcal{T}_{4} = \\{u_{2}'',u_{3}',u_{2}^2\\}$\n",
      "\t\\item $\\mathcal{T}_{5} = \\{u_{2}''',u_{3}'',u_{2}'u_{2},u_{2}u_{3}^{(0)}\\}$\n",
      "\\end{itemize}\n"
     ]
    }
   ],
   "source": [
    "print(LatexExpr(\n",
    "    r\"\\begin{itemize}\" + \"\\n\\t\" + r\"\\item $\" + (\"\\n\\t\" + r\"\\item $\").join(\n",
    "        r\"\\mathcal{T}_{\" + str(i) + r\"} = \\{\" + \",\".join(poly_to_latex(t) for t in T[i]) +  r\"\\}$\"\n",
    "    for i in range(6)) + \"\\n\" + r\"\\end{itemize}\"))"
   ]
  },
  {
   "cell_type": "code",
   "execution_count": 31,
   "id": "eeabf9f8-b65c-4dca-8388-995262d79917",
   "metadata": {},
   "outputs": [],
   "source": [
    "## We create now the constants\n",
    "C = C = [[],[]] + [[f\"c_{i}_{j}\" for j in range(len(T[i]))] for i in range(2,6)]\n",
    "RR = R.add_constants(*sum((c for c in C), []))\n",
    "RwC = RR.base()\n",
    "C = [[],[]] + [[RwC(f\"c_{i}_{j}\") for j in range(len(T[i]))] for i in range(2,6)]"
   ]
  },
  {
   "cell_type": "code",
   "execution_count": 32,
   "id": "30ce766c-cf97-4d6c-8c4f-ec04ce931301",
   "metadata": {},
   "outputs": [
    {
     "name": "stdout",
     "output_type": "stream",
     "text": [
      "\\begin{array}{rcl}\n",
      "\ty_{2} & \\rightarrow & c_{2,0}u_{2}\\\\\n",
      "\ty_{3} & \\rightarrow & c_{3,0}u_{2}' + c_{3,1}u_{3}\\\\\n",
      "\ty_{4} & \\rightarrow & c_{4,2}u_{2}^2 + c_{4,0}u_{2}'' + c_{4,1}u_{3}'\\\\\n",
      "\ty_{5} & \\rightarrow & c_{5,2}u_{2}'u_{2} + c_{5,3}u_{2}u_{3}^{(0)} + c_{5,0}u_{2}''' + c_{5,1}u_{3}''\n",
      "\\end{array}\n"
     ]
    }
   ],
   "source": [
    "y_subs = {f\"y{i}\" : sum(c*t for (c,t) in zip(C[i], T[i])) for i in range(2,6)}\n",
    "print(LatexExpr(\n",
    "    r\"\\begin{array}{rcl}\" + \"\\n\\t\" + \"\\\\\\\\\\n\\t\".join(poly_to_latex(k) + r\" & \\rightarrow & \" + poly_to_latex(v) for (k,v) in y_subs.items()) + \"\\n\" + r\"\\end{array}\"))"
   ]
  },
  {
   "cell_type": "code",
   "execution_count": 33,
   "id": "4bb3f8c7-a71f-4ed5-8281-938f5e9535d4",
   "metadata": {},
   "outputs": [],
   "source": [
    "## We compute the linear system for each $m$\n",
    "lin_systems = [sum(([RwC.wrapped(c) for c in el(**y_subs).coefficients()] for el in diff_systems[m]), []) for m in range(6)]"
   ]
  },
  {
   "cell_type": "code",
   "execution_count": 34,
   "id": "3bd4e16c-9f8a-4083-8f91-4883907366c5",
   "metadata": {},
   "outputs": [
    {
     "data": {
      "text/html": [
       "<html>\\(\\displaystyle \\left\\{\\begin{array}{rl}\n",
       "\t3c_{2,0} & = -2\n",
       "\\end{array}\\right.\\)</html>"
      ],
      "text/latex": [
       "$\\displaystyle \\left\\{\\begin{array}{rl}\n",
       "\t3c_{2,0} & = -2\n",
       "\\end{array}\\right.$"
      ],
      "text/plain": [
       "\\left\\{\\begin{array}{rl}\n",
       "\t3c_{2,0} & = -2\n",
       "\\end{array}\\right."
      ]
     },
     "execution_count": 34,
     "metadata": {},
     "output_type": "execute_result"
    }
   ],
   "source": [
    "LatexExpr(\n",
    "    r\"\\left\\{\\begin{array}{rl}\" + \"\\n\\t\" + \"\\\\\\\\\\n\\t\".join(\n",
    "        poly_to_latex(equ-equ.constant_coefficient()) + r\" & = \" + poly_to_latex(equ.constant_coefficient()) \n",
    "        for equ in lin_systems[2]) + \"\\n\" r\"\\end{array}\\right.\")"
   ]
  },
  {
   "cell_type": "code",
   "execution_count": 35,
   "id": "8d754f9e-8a32-4491-afdd-58a0a543dcdb",
   "metadata": {},
   "outputs": [
    {
     "name": "stdout",
     "output_type": "stream",
     "text": [
      "\\left\\{\\begin{array}{rl}\n",
      "\t3c_{2,0} & = -2\n",
      "\\end{array}\\right.\n"
     ]
    }
   ],
   "source": [
    "print(_)"
   ]
  },
  {
   "cell_type": "code",
   "execution_count": 36,
   "id": "1236dffb-6f3d-4443-9b9c-a30170fb81f1",
   "metadata": {},
   "outputs": [
    {
     "data": {
      "text/html": [
       "<html>\\(\\displaystyle \\left\\{\\begin{array}{rl}\n",
       "\t3c_{2,0} + 3c_{3,0} & = -3\\\\\n",
       "\t3c_{3,1} & = -3\\\\\n",
       "\t3c_{2,0} & = -3\n",
       "\\end{array}\\right.\\)</html>"
      ],
      "text/latex": [
       "$\\displaystyle \\left\\{\\begin{array}{rl}\n",
       "\t3c_{2,0} + 3c_{3,0} & = -3\\\\\n",
       "\t3c_{3,1} & = -3\\\\\n",
       "\t3c_{2,0} & = -3\n",
       "\\end{array}\\right.$"
      ],
      "text/plain": [
       "\\left\\{\\begin{array}{rl}\n",
       "\t3c_{2,0} + 3c_{3,0} & = -3\\\\\n",
       "\t3c_{3,1} & = -3\\\\\n",
       "\t3c_{2,0} & = -3\n",
       "\\end{array}\\right."
      ]
     },
     "execution_count": 36,
     "metadata": {},
     "output_type": "execute_result"
    }
   ],
   "source": [
    "LatexExpr(\n",
    "    r\"\\left\\{\\begin{array}{rl}\" + \"\\n\\t\" + \"\\\\\\\\\\n\\t\".join(\n",
    "        poly_to_latex(equ-equ.constant_coefficient()) + r\" & = \" + poly_to_latex(equ.constant_coefficient()) \n",
    "        for equ in lin_systems[3]) + \"\\n\" r\"\\end{array}\\right.\")"
   ]
  },
  {
   "cell_type": "code",
   "execution_count": 37,
   "id": "5923fbc0-d62c-4dca-a40d-ea064607dbc7",
   "metadata": {},
   "outputs": [
    {
     "name": "stdout",
     "output_type": "stream",
     "text": [
      "\\left\\{\\begin{array}{rl}\n",
      "\t3c_{2,0} + 3c_{3,0} & = -3\\\\\n",
      "\t3c_{3,1} & = -3\\\\\n",
      "\t3c_{2,0} & = -3\n",
      "\\end{array}\\right.\n"
     ]
    }
   ],
   "source": [
    "print(_)"
   ]
  },
  {
   "cell_type": "code",
   "execution_count": 38,
   "id": "afdd423d-2905-4da6-a041-edad7d6b2149",
   "metadata": {},
   "outputs": [
    {
     "data": {
      "text/html": [
       "<html>\\(\\displaystyle \\left\\{\\begin{array}{rl}\n",
       "\t-c_{2,0} + 6c_{4,2} & = 0\\\\\n",
       "\tc_{2,0} + 3c_{3,0} + 3c_{4,0} & = -4\\\\\n",
       "\t3c_{3,1} + 3c_{4,1} & = -6\\\\\n",
       "\t3c_{2,0} + 3c_{3,0} & = -6\\\\\n",
       "\t3c_{3,1} & = -4\\\\\n",
       "\t3c_{2,0} & = -4\n",
       "\\end{array}\\right.\\)</html>"
      ],
      "text/latex": [
       "$\\displaystyle \\left\\{\\begin{array}{rl}\n",
       "\t-c_{2,0} + 6c_{4,2} & = 0\\\\\n",
       "\tc_{2,0} + 3c_{3,0} + 3c_{4,0} & = -4\\\\\n",
       "\t3c_{3,1} + 3c_{4,1} & = -6\\\\\n",
       "\t3c_{2,0} + 3c_{3,0} & = -6\\\\\n",
       "\t3c_{3,1} & = -4\\\\\n",
       "\t3c_{2,0} & = -4\n",
       "\\end{array}\\right.$"
      ],
      "text/plain": [
       "\\left\\{\\begin{array}{rl}\n",
       "\t-c_{2,0} + 6c_{4,2} & = 0\\\\\n",
       "\tc_{2,0} + 3c_{3,0} + 3c_{4,0} & = -4\\\\\n",
       "\t3c_{3,1} + 3c_{4,1} & = -6\\\\\n",
       "\t3c_{2,0} + 3c_{3,0} & = -6\\\\\n",
       "\t3c_{3,1} & = -4\\\\\n",
       "\t3c_{2,0} & = -4\n",
       "\\end{array}\\right."
      ]
     },
     "execution_count": 38,
     "metadata": {},
     "output_type": "execute_result"
    }
   ],
   "source": [
    "LatexExpr(\n",
    "    r\"\\left\\{\\begin{array}{rl}\" + \"\\n\\t\" + \"\\\\\\\\\\n\\t\".join(\n",
    "        poly_to_latex(equ-equ.constant_coefficient()) + r\" & = \" + poly_to_latex(equ.constant_coefficient()) \n",
    "        for equ in lin_systems[4]) + \"\\n\" r\"\\end{array}\\right.\")"
   ]
  },
  {
   "cell_type": "code",
   "execution_count": 39,
   "id": "f2876afd-4081-47e7-8871-1cfb00724474",
   "metadata": {},
   "outputs": [
    {
     "name": "stdout",
     "output_type": "stream",
     "text": [
      "\\left\\{\\begin{array}{rl}\n",
      "\t-c_{2,0} + 6c_{4,2} & = 0\\\\\n",
      "\tc_{2,0} + 3c_{3,0} + 3c_{4,0} & = -4\\\\\n",
      "\t3c_{3,1} + 3c_{4,1} & = -6\\\\\n",
      "\t3c_{2,0} + 3c_{3,0} & = -6\\\\\n",
      "\t3c_{3,1} & = -4\\\\\n",
      "\t3c_{2,0} & = -4\n",
      "\\end{array}\\right.\n"
     ]
    }
   ],
   "source": [
    "print(_)"
   ]
  },
  {
   "cell_type": "code",
   "execution_count": 40,
   "id": "5dd68e97-affc-4b72-b6ae-e8a2bd51d487",
   "metadata": {},
   "outputs": [
    {
     "data": {
      "text/html": [
       "<html>\\(\\displaystyle \\left\\{\\begin{array}{rl}\n",
       "\t-3c_{2,0} + c_{3,0} + 6c_{4,2} + 3c_{5,2} & = 0\\\\\n",
       "\t-2c_{3,0} + 6c_{4,2} + 3c_{5,2} & = 0\\\\\n",
       "\t-2c_{3,1} + 3c_{5,3} & = 0\\\\\n",
       "\t-3c_{2,0} + c_{3,1} + 3c_{5,3} & = 0\\\\\n",
       "\tc_{3,0} + 3c_{4,0} + 3c_{5,0} & = -5\\\\\n",
       "\tc_{3,1} + 3c_{4,1} + 3c_{5,1} & = -10\\\\\n",
       "\t-2c_{2,0} + 6c_{4,2} & = 0\\\\\n",
       "\tc_{2,0} + 3c_{3,0} + 3c_{4,0} & = -10\\\\\n",
       "\t3c_{3,1} + 3c_{4,1} & = -10\\\\\n",
       "\t3c_{2,0} + 3c_{3,0} & = -10\\\\\n",
       "\t3c_{3,1} & = -5\\\\\n",
       "\t3c_{2,0} & = -5\n",
       "\\end{array}\\right.\\)</html>"
      ],
      "text/latex": [
       "$\\displaystyle \\left\\{\\begin{array}{rl}\n",
       "\t-3c_{2,0} + c_{3,0} + 6c_{4,2} + 3c_{5,2} & = 0\\\\\n",
       "\t-2c_{3,0} + 6c_{4,2} + 3c_{5,2} & = 0\\\\\n",
       "\t-2c_{3,1} + 3c_{5,3} & = 0\\\\\n",
       "\t-3c_{2,0} + c_{3,1} + 3c_{5,3} & = 0\\\\\n",
       "\tc_{3,0} + 3c_{4,0} + 3c_{5,0} & = -5\\\\\n",
       "\tc_{3,1} + 3c_{4,1} + 3c_{5,1} & = -10\\\\\n",
       "\t-2c_{2,0} + 6c_{4,2} & = 0\\\\\n",
       "\tc_{2,0} + 3c_{3,0} + 3c_{4,0} & = -10\\\\\n",
       "\t3c_{3,1} + 3c_{4,1} & = -10\\\\\n",
       "\t3c_{2,0} + 3c_{3,0} & = -10\\\\\n",
       "\t3c_{3,1} & = -5\\\\\n",
       "\t3c_{2,0} & = -5\n",
       "\\end{array}\\right.$"
      ],
      "text/plain": [
       "\\left\\{\\begin{array}{rl}\n",
       "\t-3c_{2,0} + c_{3,0} + 6c_{4,2} + 3c_{5,2} & = 0\\\\\n",
       "\t-2c_{3,0} + 6c_{4,2} + 3c_{5,2} & = 0\\\\\n",
       "\t-2c_{3,1} + 3c_{5,3} & = 0\\\\\n",
       "\t-3c_{2,0} + c_{3,1} + 3c_{5,3} & = 0\\\\\n",
       "\tc_{3,0} + 3c_{4,0} + 3c_{5,0} & = -5\\\\\n",
       "\tc_{3,1} + 3c_{4,1} + 3c_{5,1} & = -10\\\\\n",
       "\t-2c_{2,0} + 6c_{4,2} & = 0\\\\\n",
       "\tc_{2,0} + 3c_{3,0} + 3c_{4,0} & = -10\\\\\n",
       "\t3c_{3,1} + 3c_{4,1} & = -10\\\\\n",
       "\t3c_{2,0} + 3c_{3,0} & = -10\\\\\n",
       "\t3c_{3,1} & = -5\\\\\n",
       "\t3c_{2,0} & = -5\n",
       "\\end{array}\\right."
      ]
     },
     "execution_count": 40,
     "metadata": {},
     "output_type": "execute_result"
    }
   ],
   "source": [
    "LatexExpr(\n",
    "    r\"\\left\\{\\begin{array}{rl}\" + \"\\n\\t\" + \"\\\\\\\\\\n\\t\".join(\n",
    "        poly_to_latex(equ-equ.constant_coefficient()) + r\" & = \" + poly_to_latex(equ.constant_coefficient()) \n",
    "        for equ in lin_systems[5]) + \"\\n\" r\"\\end{array}\\right.\")"
   ]
  },
  {
   "cell_type": "code",
   "execution_count": 41,
   "id": "d5cc06f0-7e0f-4019-8d25-68e5e3ec12c0",
   "metadata": {},
   "outputs": [
    {
     "name": "stdout",
     "output_type": "stream",
     "text": [
      "\\left\\{\\begin{array}{rl}\n",
      "\t-3c_{2,0} + c_{3,0} + 6c_{4,2} + 3c_{5,2} & = 0\\\\\n",
      "\t-2c_{3,0} + 6c_{4,2} + 3c_{5,2} & = 0\\\\\n",
      "\t-2c_{3,1} + 3c_{5,3} & = 0\\\\\n",
      "\t-3c_{2,0} + c_{3,1} + 3c_{5,3} & = 0\\\\\n",
      "\tc_{3,0} + 3c_{4,0} + 3c_{5,0} & = -5\\\\\n",
      "\tc_{3,1} + 3c_{4,1} + 3c_{5,1} & = -10\\\\\n",
      "\t-2c_{2,0} + 6c_{4,2} & = 0\\\\\n",
      "\tc_{2,0} + 3c_{3,0} + 3c_{4,0} & = -10\\\\\n",
      "\t3c_{3,1} + 3c_{4,1} & = -10\\\\\n",
      "\t3c_{2,0} + 3c_{3,0} & = -10\\\\\n",
      "\t3c_{3,1} & = -5\\\\\n",
      "\t3c_{2,0} & = -5\n",
      "\\end{array}\\right.\n"
     ]
    }
   ],
   "source": [
    "print(_)"
   ]
  },
  {
   "cell_type": "code",
   "execution_count": 42,
   "id": "ede7fb0b-a611-4899-90a2-b95050f45ade",
   "metadata": {},
   "outputs": [],
   "source": [
    "solutions = [ideal(system).groebner_basis() if len(system) > 0 else [] for system in lin_systems]"
   ]
  },
  {
   "cell_type": "code",
   "execution_count": 43,
   "id": "9e260ddd-ee77-4b28-b354-ad1451b856ba",
   "metadata": {},
   "outputs": [
    {
     "data": {
      "text/html": [
       "<html>\\(\\displaystyle 0 \\qquad\\longrightarrow\\qquad \\left[\\right]\\)</html>"
      ],
      "text/latex": [
       "$\\displaystyle 0 \\qquad\\longrightarrow\\qquad \\left[\\right]$"
      ],
      "text/plain": [
       "0 \\qquad\\longrightarrow\\qquad []"
      ]
     },
     "metadata": {},
     "output_type": "display_data"
    },
    {
     "data": {
      "text/html": [
       "<html>\\(\\displaystyle 1 \\qquad\\longrightarrow\\qquad \\left[\\right]\\)</html>"
      ],
      "text/latex": [
       "$\\displaystyle 1 \\qquad\\longrightarrow\\qquad \\left[\\right]$"
      ],
      "text/plain": [
       "1 \\qquad\\longrightarrow\\qquad []"
      ]
     },
     "metadata": {},
     "output_type": "display_data"
    },
    {
     "data": {
      "text/html": [
       "<html>\\(\\displaystyle 2 \\qquad\\longrightarrow\\qquad \\left[c_{2,0} - \\frac{2}{3}\\right]\\)</html>"
      ],
      "text/latex": [
       "$\\displaystyle 2 \\qquad\\longrightarrow\\qquad \\left[c_{2,0} - \\frac{2}{3}\\right]$"
      ],
      "text/plain": [
       "2 \\qquad\\longrightarrow\\qquad [c_{2,0} - \\frac{2}{3}]"
      ]
     },
     "metadata": {},
     "output_type": "display_data"
    },
    {
     "data": {
      "text/html": [
       "<html>\\(\\displaystyle 3 \\qquad\\longrightarrow\\qquad \\left[c_{2,0} - 1, c_{3,0}, c_{3,1} - 1\\right]\\)</html>"
      ],
      "text/latex": [
       "$\\displaystyle 3 \\qquad\\longrightarrow\\qquad \\left[c_{2,0} - 1, c_{3,0}, c_{3,1} - 1\\right]$"
      ],
      "text/plain": [
       "3 \\qquad\\longrightarrow\\qquad [c_{2,0} - 1, c_{3,0}, c_{3,1} - 1]"
      ]
     },
     "metadata": {},
     "output_type": "display_data"
    },
    {
     "data": {
      "text/html": [
       "<html>\\(\\displaystyle 4 \\qquad\\longrightarrow\\qquad \\left[c_{2,0} - \\frac{4}{3}, c_{3,0} - \\frac{2}{3}, c_{3,1} - \\frac{4}{3}, c_{4,0} - \\frac{2}{9}, c_{4,1} - \\frac{2}{3}, c_{4,2} - \\frac{2}{9}\\right]\\)</html>"
      ],
      "text/latex": [
       "$\\displaystyle 4 \\qquad\\longrightarrow\\qquad \\left[c_{2,0} - \\frac{4}{3}, c_{3,0} - \\frac{2}{3}, c_{3,1} - \\frac{4}{3}, c_{4,0} - \\frac{2}{9}, c_{4,1} - \\frac{2}{3}, c_{4,2} - \\frac{2}{9}\\right]$"
      ],
      "text/plain": [
       "4 \\qquad\\longrightarrow\\qquad [c_{2,0} - \\frac{4}{3},\n",
       " c_{3,0} - \\frac{2}{3},\n",
       " c_{3,1} - \\frac{4}{3},\n",
       " c_{4,0} - \\frac{2}{9},\n",
       " c_{4,1} - \\frac{2}{3},\n",
       " c_{4,2} - \\frac{2}{9}]"
      ]
     },
     "metadata": {},
     "output_type": "display_data"
    },
    {
     "data": {
      "text/html": [
       "<html>\\(\\displaystyle 5 \\qquad\\longrightarrow\\qquad \\left[c_{2,0} - \\frac{5}{3}, c_{3,0} - \\frac{5}{3}, c_{3,1} - \\frac{5}{3}, c_{4,0} - \\frac{10}{9}, c_{4,1} - \\frac{5}{3}, c_{4,2} - \\frac{5}{9}, c_{5,0}, c_{5,1} - \\frac{10}{9}, c_{5,2}, c_{5,3} - \\frac{10}{9}\\right]\\)</html>"
      ],
      "text/latex": [
       "$\\displaystyle 5 \\qquad\\longrightarrow\\qquad \\left[c_{2,0} - \\frac{5}{3}, c_{3,0} - \\frac{5}{3}, c_{3,1} - \\frac{5}{3}, c_{4,0} - \\frac{10}{9}, c_{4,1} - \\frac{5}{3}, c_{4,2} - \\frac{5}{9}, c_{5,0}, c_{5,1} - \\frac{10}{9}, c_{5,2}, c_{5,3} - \\frac{10}{9}\\right]$"
      ],
      "text/plain": [
       "5 \\qquad\\longrightarrow\\qquad [c_{2,0} - \\frac{5}{3},\n",
       " c_{3,0} - \\frac{5}{3},\n",
       " c_{3,1} - \\frac{5}{3},\n",
       " c_{4,0} - \\frac{10}{9},\n",
       " c_{4,1} - \\frac{5}{3},\n",
       " c_{4,2} - \\frac{5}{9},\n",
       " c_{5,0},\n",
       " c_{5,1} - \\frac{10}{9},\n",
       " c_{5,2},\n",
       " c_{5,3} - \\frac{10}{9}]"
      ]
     },
     "metadata": {},
     "output_type": "display_data"
    }
   ],
   "source": [
    "for i in range(len(solutions)):\n",
    "    show(i, LatexExpr(r\"\\qquad\\longrightarrow\\qquad\"), [LatexExpr(poly_to_latex(sol)) for sol in solutions[i]])"
   ]
  },
  {
   "cell_type": "markdown",
   "id": "c1d205be-3997-41a7-993c-9adea935e7d1",
   "metadata": {
    "jp-MarkdownHeadingCollapsed": true,
    "tags": []
   },
   "source": [
    "#### **3. Computing the hierarchy equations**"
   ]
  },
  {
   "cell_type": "code",
   "execution_count": 44,
   "id": "20a224ff-b6a8-4195-8648-4b102ad3c8aa",
   "metadata": {},
   "outputs": [],
   "source": [
    "y_subs_true = [dict(),dict()] + [{f\"y{i}\" : sum(QQ(RwC.wrapped(c).reduce(solutions[m]))*t for (c,t) in zip(C[i], T[i])) for i in range(2,m+1)} for m in range(2,6)]"
   ]
  },
  {
   "cell_type": "code",
   "execution_count": 45,
   "id": "c8f7e205-8aca-4d63-81a2-4ad6eb48604d",
   "metadata": {},
   "outputs": [],
   "source": [
    "H = [[lie_brackets[m].coefficient(z[i])(**y_subs_true[m]) for i in range(L.order(z)-1)] for m in range(6)]"
   ]
  },
  {
   "cell_type": "markdown",
   "id": "ed2d039b-4adf-429b-a22a-d04c2830b588",
   "metadata": {},
   "source": [
    "##### m = 0"
   ]
  },
  {
   "cell_type": "code",
   "execution_count": 46,
   "id": "b7983136-070d-4ddf-bdf5-18497519e9f5",
   "metadata": {},
   "outputs": [
    {
     "data": {
      "text/html": [
       "<html>\\(\\displaystyle \\left\\{\\begin{array}{rl}\n",
       "\tH_{0,0}(u_2,u_3) = & 0\\\\\n",
       "\tH_{0,1}(u_2,u_3) = & 0\n",
       "\\end{array}\\right.\\)</html>"
      ],
      "text/latex": [
       "$\\displaystyle \\left\\{\\begin{array}{rl}\n",
       "\tH_{0,0}(u_2,u_3) = & 0\\\\\n",
       "\tH_{0,1}(u_2,u_3) = & 0\n",
       "\\end{array}\\right.$"
      ],
      "text/plain": [
       "\\left\\{\\begin{array}{rl}\n",
       "\tH_{0,0}(u_2,u_3) = & 0\\\\\n",
       "\tH_{0,1}(u_2,u_3) = & 0\n",
       "\\end{array}\\right."
      ]
     },
     "execution_count": 46,
     "metadata": {},
     "output_type": "execute_result"
    }
   ],
   "source": [
    "m = 0\n",
    "LatexExpr(r\"\\left\\{\\begin{array}{rl}\" + \"\\n\\t\" + \"\\\\\\\\\\n\\t\".join(f\"H_\\u007b{m},{i}\\u007d(u_2,u_3) = & \" + poly_to_latex(H[m][i]) for i in range(L.order(z)-1)) + \"\\n\" + r\"\\end{array}\\right.\")"
   ]
  },
  {
   "cell_type": "code",
   "execution_count": 47,
   "id": "4c7ce5d4-ea07-459d-ba76-778a118a6c6d",
   "metadata": {},
   "outputs": [
    {
     "name": "stdout",
     "output_type": "stream",
     "text": [
      "\\left\\{\\begin{array}{rl}\n",
      "\tH_{0,0}(u_2,u_3) = & 0\\\\\n",
      "\tH_{0,1}(u_2,u_3) = & 0\n",
      "\\end{array}\\right.\n"
     ]
    }
   ],
   "source": [
    "print(_)"
   ]
  },
  {
   "cell_type": "markdown",
   "id": "5c85ab7e-54c1-4917-8aad-7b816e771f22",
   "metadata": {},
   "source": [
    "##### m = 1"
   ]
  },
  {
   "cell_type": "code",
   "execution_count": 48,
   "id": "46cb029c-6a90-4065-a020-3c9ba58955a1",
   "metadata": {},
   "outputs": [
    {
     "data": {
      "text/html": [
       "<html>\\(\\displaystyle \\left\\{\\begin{array}{rl}\n",
       "\tH_{1,0}(u_2,u_3) = & -u_{3}'\\\\\n",
       "\tH_{1,1}(u_2,u_3) = & -u_{2}'\n",
       "\\end{array}\\right.\\)</html>"
      ],
      "text/latex": [
       "$\\displaystyle \\left\\{\\begin{array}{rl}\n",
       "\tH_{1,0}(u_2,u_3) = & -u_{3}'\\\\\n",
       "\tH_{1,1}(u_2,u_3) = & -u_{2}'\n",
       "\\end{array}\\right.$"
      ],
      "text/plain": [
       "\\left\\{\\begin{array}{rl}\n",
       "\tH_{1,0}(u_2,u_3) = & -u_{3}'\\\\\n",
       "\tH_{1,1}(u_2,u_3) = & -u_{2}'\n",
       "\\end{array}\\right."
      ]
     },
     "execution_count": 48,
     "metadata": {},
     "output_type": "execute_result"
    }
   ],
   "source": [
    "m=1\n",
    "LatexExpr(r\"\\left\\{\\begin{array}{rl}\" + \"\\n\\t\" + \"\\\\\\\\\\n\\t\".join(f\"H_\\u007b{m},{i}\\u007d(u_2,u_3) = & \" + poly_to_latex(H[m][i]) for i in range(L.order(z)-1)) + \"\\n\" + r\"\\end{array}\\right.\")"
   ]
  },
  {
   "cell_type": "code",
   "execution_count": 49,
   "id": "67348ff2-d932-4517-b088-8687e60ac88f",
   "metadata": {},
   "outputs": [
    {
     "name": "stdout",
     "output_type": "stream",
     "text": [
      "\\left\\{\\begin{array}{rl}\n",
      "\tH_{1,0}(u_2,u_3) = & -u_{3}'\\\\\n",
      "\tH_{1,1}(u_2,u_3) = & -u_{2}'\n",
      "\\end{array}\\right.\n"
     ]
    }
   ],
   "source": [
    "print(_)"
   ]
  },
  {
   "cell_type": "markdown",
   "id": "047f1dae-ed38-4328-a49e-492fae2584ac",
   "metadata": {},
   "source": [
    "##### m = 2"
   ]
  },
  {
   "cell_type": "code",
   "execution_count": 50,
   "id": "6742bfac-e2eb-44a6-865c-b7a01958aa0a",
   "metadata": {},
   "outputs": [
    {
     "data": {
      "text/html": [
       "<html>\\(\\displaystyle \\left\\{\\begin{array}{rl}\n",
       "\tH_{2,0}(u_2,u_3) = & \\frac{2}{3}u_{2}'u_{2} + \\frac{2}{3}u_{2}''' - u_{3}''\\\\\n",
       "\tH_{2,1}(u_2,u_3) = & u_{2}'' - 2u_{3}'\n",
       "\\end{array}\\right.\\)</html>"
      ],
      "text/latex": [
       "$\\displaystyle \\left\\{\\begin{array}{rl}\n",
       "\tH_{2,0}(u_2,u_3) = & \\frac{2}{3}u_{2}'u_{2} + \\frac{2}{3}u_{2}''' - u_{3}''\\\\\n",
       "\tH_{2,1}(u_2,u_3) = & u_{2}'' - 2u_{3}'\n",
       "\\end{array}\\right.$"
      ],
      "text/plain": [
       "\\left\\{\\begin{array}{rl}\n",
       "\tH_{2,0}(u_2,u_3) = & \\frac{2}{3}u_{2}'u_{2} + \\frac{2}{3}u_{2}''' - u_{3}''\\\\\n",
       "\tH_{2,1}(u_2,u_3) = & u_{2}'' - 2u_{3}'\n",
       "\\end{array}\\right."
      ]
     },
     "execution_count": 50,
     "metadata": {},
     "output_type": "execute_result"
    }
   ],
   "source": [
    "m=2\n",
    "LatexExpr(r\"\\left\\{\\begin{array}{rl}\" + \"\\n\\t\" + \"\\\\\\\\\\n\\t\".join(f\"H_\\u007b{m},{i}\\u007d(u_2,u_3) = & \" + poly_to_latex(H[m][i]) for i in range(L.order(z)-1)) + \"\\n\" + r\"\\end{array}\\right.\")"
   ]
  },
  {
   "cell_type": "code",
   "execution_count": 51,
   "id": "f3aef7d4-3992-4055-abd0-b984ce36972e",
   "metadata": {},
   "outputs": [
    {
     "name": "stdout",
     "output_type": "stream",
     "text": [
      "\\left\\{\\begin{array}{rl}\n",
      "\tH_{2,0}(u_2,u_3) = & \\frac{2}{3}u_{2}'u_{2} + \\frac{2}{3}u_{2}''' - u_{3}''\\\\\n",
      "\tH_{2,1}(u_2,u_3) = & u_{2}'' - 2u_{3}'\n",
      "\\end{array}\\right.\n"
     ]
    }
   ],
   "source": [
    "print(_)"
   ]
  },
  {
   "cell_type": "markdown",
   "id": "c15ada39-0346-4112-86e7-3a9bebc7b18a",
   "metadata": {},
   "source": [
    "##### m = 3"
   ]
  },
  {
   "cell_type": "code",
   "execution_count": 52,
   "id": "84cb900d-830b-4d59-a10e-8b55b5f1509b",
   "metadata": {},
   "outputs": [
    {
     "data": {
      "text/html": [
       "<html>\\(\\displaystyle \\left\\{\\begin{array}{rl}\n",
       "\tH_{3,0}(u_2,u_3) = & 0\\\\\n",
       "\tH_{3,1}(u_2,u_3) = & 0\n",
       "\\end{array}\\right.\\)</html>"
      ],
      "text/latex": [
       "$\\displaystyle \\left\\{\\begin{array}{rl}\n",
       "\tH_{3,0}(u_2,u_3) = & 0\\\\\n",
       "\tH_{3,1}(u_2,u_3) = & 0\n",
       "\\end{array}\\right.$"
      ],
      "text/plain": [
       "\\left\\{\\begin{array}{rl}\n",
       "\tH_{3,0}(u_2,u_3) = & 0\\\\\n",
       "\tH_{3,1}(u_2,u_3) = & 0\n",
       "\\end{array}\\right."
      ]
     },
     "execution_count": 52,
     "metadata": {},
     "output_type": "execute_result"
    }
   ],
   "source": [
    "m=3\n",
    "LatexExpr(r\"\\left\\{\\begin{array}{rl}\" + \"\\n\\t\" + \"\\\\\\\\\\n\\t\".join(f\"H_\\u007b{m},{i}\\u007d(u_2,u_3) = & \" + poly_to_latex(H[m][i]) for i in range(L.order(z)-1)) + \"\\n\" + r\"\\end{array}\\right.\")"
   ]
  },
  {
   "cell_type": "code",
   "execution_count": 53,
   "id": "37cc3ead-e7fe-4e86-b166-0efa77f9f78a",
   "metadata": {},
   "outputs": [
    {
     "name": "stdout",
     "output_type": "stream",
     "text": [
      "\\left\\{\\begin{array}{rl}\n",
      "\tH_{3,0}(u_2,u_3) = & 0\\\\\n",
      "\tH_{3,1}(u_2,u_3) = & 0\n",
      "\\end{array}\\right.\n"
     ]
    }
   ],
   "source": [
    "print(_)"
   ]
  },
  {
   "cell_type": "markdown",
   "id": "8af3c9df-95ca-4104-9b32-9f78e595c899",
   "metadata": {},
   "source": [
    "##### m = 4"
   ]
  },
  {
   "cell_type": "code",
   "execution_count": 54,
   "id": "8ef99c03-ffa7-4d75-934e-f81464e76cc2",
   "metadata": {},
   "outputs": [
    {
     "data": {
      "text/html": [
       "<html>\\(\\displaystyle \\left\\{\\begin{array}{rl}\n",
       "\tH_{4,0}(u_2,u_3) = & \\frac{4}{9}u_{2}'u_{2}^2 + \\frac{2}{3}u_{2}'''u_{2} + \\frac{4}{3}u_{2}''u_{2}' - \\frac{2}{3}u_{2}'u_{3}^{(1)} - \\frac{2}{3}u_{2}u_{3}'' - \\frac{4}{3}u_{3}'u_{3} + \\frac{2}{9}u_{2}^{(5)} - \\frac{1}{3}u_{3}^{(4)}\\\\\n",
       "\tH_{4,1}(u_2,u_3) = & \\frac{2}{3}u_{2}''u_{2} + \\frac{2}{3}u_{2}'^2 - \\frac{4}{3}u_{2}'u_{3} - \\frac{4}{3}u_{2}u_{3}' + \\frac{1}{3}u_{2}^{(4)} - \\frac{2}{3}u_{3}'''\n",
       "\\end{array}\\right.\\)</html>"
      ],
      "text/latex": [
       "$\\displaystyle \\left\\{\\begin{array}{rl}\n",
       "\tH_{4,0}(u_2,u_3) = & \\frac{4}{9}u_{2}'u_{2}^2 + \\frac{2}{3}u_{2}'''u_{2} + \\frac{4}{3}u_{2}''u_{2}' - \\frac{2}{3}u_{2}'u_{3}^{(1)} - \\frac{2}{3}u_{2}u_{3}'' - \\frac{4}{3}u_{3}'u_{3} + \\frac{2}{9}u_{2}^{(5)} - \\frac{1}{3}u_{3}^{(4)}\\\\\n",
       "\tH_{4,1}(u_2,u_3) = & \\frac{2}{3}u_{2}''u_{2} + \\frac{2}{3}u_{2}'^2 - \\frac{4}{3}u_{2}'u_{3} - \\frac{4}{3}u_{2}u_{3}' + \\frac{1}{3}u_{2}^{(4)} - \\frac{2}{3}u_{3}'''\n",
       "\\end{array}\\right.$"
      ],
      "text/plain": [
       "\\left\\{\\begin{array}{rl}\n",
       "\tH_{4,0}(u_2,u_3) = & \\frac{4}{9}u_{2}'u_{2}^2 + \\frac{2}{3}u_{2}'''u_{2} + \\frac{4}{3}u_{2}''u_{2}' - \\frac{2}{3}u_{2}'u_{3}^{(1)} - \\frac{2}{3}u_{2}u_{3}'' - \\frac{4}{3}u_{3}'u_{3} + \\frac{2}{9}u_{2}^{(5)} - \\frac{1}{3}u_{3}^{(4)}\\\\\n",
       "\tH_{4,1}(u_2,u_3) = & \\frac{2}{3}u_{2}''u_{2} + \\frac{2}{3}u_{2}'^2 - \\frac{4}{3}u_{2}'u_{3} - \\frac{4}{3}u_{2}u_{3}' + \\frac{1}{3}u_{2}^{(4)} - \\frac{2}{3}u_{3}'''\n",
       "\\end{array}\\right."
      ]
     },
     "execution_count": 54,
     "metadata": {},
     "output_type": "execute_result"
    }
   ],
   "source": [
    "m=4\n",
    "LatexExpr(r\"\\left\\{\\begin{array}{rl}\" + \"\\n\\t\" + \"\\\\\\\\\\n\\t\".join(f\"H_\\u007b{m},{i}\\u007d(u_2,u_3) = & \" + poly_to_latex(H[m][i]) for i in range(L.order(z)-1)) + \"\\n\" + r\"\\end{array}\\right.\")"
   ]
  },
  {
   "cell_type": "code",
   "execution_count": 55,
   "id": "86a03f93-ef16-4e10-88db-b4ddd2d6a563",
   "metadata": {},
   "outputs": [
    {
     "name": "stdout",
     "output_type": "stream",
     "text": [
      "\\left\\{\\begin{array}{rl}\n",
      "\tH_{4,0}(u_2,u_3) = & \\frac{4}{9}u_{2}'u_{2}^2 + \\frac{2}{3}u_{2}'''u_{2} + \\frac{4}{3}u_{2}''u_{2}' - \\frac{2}{3}u_{2}'u_{3}^{(1)} - \\frac{2}{3}u_{2}u_{3}'' - \\frac{4}{3}u_{3}'u_{3} + \\frac{2}{9}u_{2}^{(5)} - \\frac{1}{3}u_{3}^{(4)}\\\\\n",
      "\tH_{4,1}(u_2,u_3) = & \\frac{2}{3}u_{2}''u_{2} + \\frac{2}{3}u_{2}'^2 - \\frac{4}{3}u_{2}'u_{3} - \\frac{4}{3}u_{2}u_{3}' + \\frac{1}{3}u_{2}^{(4)} - \\frac{2}{3}u_{3}'''\n",
      "\\end{array}\\right.\n"
     ]
    }
   ],
   "source": [
    "print(_)"
   ]
  },
  {
   "cell_type": "markdown",
   "id": "25be262d-2cb3-4f88-a10d-efadf88d3c34",
   "metadata": {},
   "source": [
    "##### m = 5"
   ]
  },
  {
   "cell_type": "code",
   "execution_count": 56,
   "id": "cc2bf68a-1a65-4dd8-8381-e303e05688ba",
   "metadata": {},
   "outputs": [
    {
     "data": {
      "text/html": [
       "<html>\\(\\displaystyle \\left\\{\\begin{array}{rl}\n",
       "\tH_{5,0}(u_2,u_3) = & \\frac{10}{9}u_{2}'u_{2}u_{3}^{(0)} + \\frac{5}{9}u_{2}^2u_{3}' + \\frac{10}{9}u_{2}'''u_{3} + \\frac{20}{9}u_{2}''u_{3}' + \\frac{5}{3}u_{2}'u_{3}'' + \\frac{5}{9}u_{2}u_{3}''' - \\frac{5}{3}u_{3}''u_{3} - \\frac{5}{3}u_{3}'^2 + \\frac{1}{9}u_{3}^{(5)}\\\\\n",
       "\tH_{5,1}(u_2,u_3) = & \\frac{5}{9}u_{2}'u_{2}^2 + \\frac{5}{9}u_{2}'''u_{2} + \\frac{5}{9}u_{2}''u_{2}' + \\frac{5}{3}u_{2}''u_{3} + \\frac{5}{3}u_{2}'u_{3}^{(1)} - \\frac{10}{3}u_{3}'u_{3} + \\frac{1}{9}u_{2}^{(5)}\n",
       "\\end{array}\\right.\\)</html>"
      ],
      "text/latex": [
       "$\\displaystyle \\left\\{\\begin{array}{rl}\n",
       "\tH_{5,0}(u_2,u_3) = & \\frac{10}{9}u_{2}'u_{2}u_{3}^{(0)} + \\frac{5}{9}u_{2}^2u_{3}' + \\frac{10}{9}u_{2}'''u_{3} + \\frac{20}{9}u_{2}''u_{3}' + \\frac{5}{3}u_{2}'u_{3}'' + \\frac{5}{9}u_{2}u_{3}''' - \\frac{5}{3}u_{3}''u_{3} - \\frac{5}{3}u_{3}'^2 + \\frac{1}{9}u_{3}^{(5)}\\\\\n",
       "\tH_{5,1}(u_2,u_3) = & \\frac{5}{9}u_{2}'u_{2}^2 + \\frac{5}{9}u_{2}'''u_{2} + \\frac{5}{9}u_{2}''u_{2}' + \\frac{5}{3}u_{2}''u_{3} + \\frac{5}{3}u_{2}'u_{3}^{(1)} - \\frac{10}{3}u_{3}'u_{3} + \\frac{1}{9}u_{2}^{(5)}\n",
       "\\end{array}\\right.$"
      ],
      "text/plain": [
       "\\left\\{\\begin{array}{rl}\n",
       "\tH_{5,0}(u_2,u_3) = & \\frac{10}{9}u_{2}'u_{2}u_{3}^{(0)} + \\frac{5}{9}u_{2}^2u_{3}' + \\frac{10}{9}u_{2}'''u_{3} + \\frac{20}{9}u_{2}''u_{3}' + \\frac{5}{3}u_{2}'u_{3}'' + \\frac{5}{9}u_{2}u_{3}''' - \\frac{5}{3}u_{3}''u_{3} - \\frac{5}{3}u_{3}'^2 + \\frac{1}{9}u_{3}^{(5)}\\\\\n",
       "\tH_{5,1}(u_2,u_3) = & \\frac{5}{9}u_{2}'u_{2}^2 + \\frac{5}{9}u_{2}'''u_{2} + \\frac{5}{9}u_{2}''u_{2}' + \\frac{5}{3}u_{2}''u_{3} + \\frac{5}{3}u_{2}'u_{3}^{(1)} - \\frac{10}{3}u_{3}'u_{3} + \\frac{1}{9}u_{2}^{(5)}\n",
       "\\end{array}\\right."
      ]
     },
     "execution_count": 56,
     "metadata": {},
     "output_type": "execute_result"
    }
   ],
   "source": [
    "m=5\n",
    "LatexExpr(r\"\\left\\{\\begin{array}{rl}\" + \"\\n\\t\" + \"\\\\\\\\\\n\\t\".join(f\"H_\\u007b{m},{i}\\u007d(u_2,u_3) = & \" + poly_to_latex(H[m][i]) for i in range(L.order(z)-1)) + \"\\n\" + r\"\\end{array}\\right.\")"
   ]
  },
  {
   "cell_type": "code",
   "execution_count": 57,
   "id": "0b03c67f-c771-4ca6-8682-c37fc48a16d6",
   "metadata": {},
   "outputs": [
    {
     "name": "stdout",
     "output_type": "stream",
     "text": [
      "\\left\\{\\begin{array}{rl}\n",
      "\tH_{5,0}(u_2,u_3) = & \\frac{10}{9}u_{2}'u_{2}u_{3}^{(0)} + \\frac{5}{9}u_{2}^2u_{3}' + \\frac{10}{9}u_{2}'''u_{3} + \\frac{20}{9}u_{2}''u_{3}' + \\frac{5}{3}u_{2}'u_{3}'' + \\frac{5}{9}u_{2}u_{3}''' - \\frac{5}{3}u_{3}''u_{3} - \\frac{5}{3}u_{3}'^2 + \\frac{1}{9}u_{3}^{(5)}\\\\\n",
      "\tH_{5,1}(u_2,u_3) = & \\frac{5}{9}u_{2}'u_{2}^2 + \\frac{5}{9}u_{2}'''u_{2} + \\frac{5}{9}u_{2}''u_{2}' + \\frac{5}{3}u_{2}''u_{3} + \\frac{5}{3}u_{2}'u_{3}^{(1)} - \\frac{10}{3}u_{3}'u_{3} + \\frac{1}{9}u_{2}^{(5)}\n",
      "\\end{array}\\right.\n"
     ]
    }
   ],
   "source": [
    "print(_)"
   ]
  },
  {
   "cell_type": "markdown",
   "id": "9e5741cb-0a3a-4eef-a6f1-fc34493161c6",
   "metadata": {},
   "source": [
    "#### **Comparing with literature**"
   ]
  },
  {
   "cell_type": "code",
   "execution_count": 93,
   "id": "3c5e35fb-43e4-4b0d-9e52-354362b70e1a",
   "metadata": {},
   "outputs": [],
   "source": [
    "# q_1 -> u_2; q_0 -> u_3\n",
    "subs_to_paper = {\"u3\": (1/2*u[2][1] + u[3])}\n",
    "str_to_paper = lambda el : LatexExpr(poly_to_latex(el).replace(\"u_{2}\", \"q_{1}\").replace(\"u_{3}\", \"q_{0}\"))"
   ]
  },
  {
   "cell_type": "code",
   "execution_count": 94,
   "id": "f1df5b36-63a1-42a5-8e35-0bf5af1d550a",
   "metadata": {},
   "outputs": [],
   "source": [
    "# [P_r, L_3] = 3 f_n+1' \\partial + 3/2 f_n+1'' + 3g_n+1'\n",
    "# r = 3n+1 or 3n+2\n",
    "# So in our case, for r=3n+l\n",
    "# 3 f_{n+1}' = -H_{r, 1}; 3/2 f_{n+1}'' + 3g_{n+1}' = -H_{r, 0}\n",
    "# Solving this we get\n",
    "# f_{n+1} = -\\int (1/3) H_{r,1}\n",
    "# g_{n+1} = -\\int (1/3)H_{r, 0} - 1/2 f_{n+1}'"
   ]
  },
  {
   "cell_type": "code",
   "execution_count": 100,
   "id": "aaa40863-3a45-42c0-ab33-dfbd9eb35c96",
   "metadata": {},
   "outputs": [],
   "source": [
    "# r = 1 (mod 3)\n",
    "# f_1 = \\int (1/3) H_{1,1}\n",
    "# g_1 = \\int (1/3) H_{1,0} - 1/2 f_1\n",
    "f_1 = -((1/3)*H[1][1](**subs_to_paper)).inverse_operation(0)\n",
    "g_1 = -((1/3)*H[1][0](**subs_to_paper)).inverse_operation(0) - (1/2)*f_1"
   ]
  },
  {
   "cell_type": "code",
   "execution_count": 101,
   "id": "68a48a92-fcb4-44af-b11b-ddd45ae6d46c",
   "metadata": {},
   "outputs": [
    {
     "data": {
      "text/html": [
       "<html>\\(\\displaystyle \\frac{1}{3}q_{1}\\)</html>"
      ],
      "text/latex": [
       "$\\displaystyle \\frac{1}{3}q_{1}$"
      ],
      "text/plain": [
       "\\frac{1}{3}q_{1}"
      ]
     },
     "execution_count": 101,
     "metadata": {},
     "output_type": "execute_result"
    }
   ],
   "source": [
    "str_to_paper(f_1)"
   ]
  },
  {
   "cell_type": "code",
   "execution_count": 102,
   "id": "a52ad192-f25a-499d-89d5-edb8c257239b",
   "metadata": {},
   "outputs": [
    {
     "data": {
      "text/html": [
       "<html>\\(\\displaystyle -q_{0}'\\)</html>"
      ],
      "text/latex": [
       "$\\displaystyle -q_{0}'$"
      ],
      "text/plain": [
       "-q_{0}'"
      ]
     },
     "execution_count": 102,
     "metadata": {},
     "output_type": "execute_result"
    }
   ],
   "source": [
    "str_to_paper(H[1][0])"
   ]
  },
  {
   "cell_type": "code",
   "execution_count": 103,
   "id": "096b79d0-4942-4421-add8-351e511119de",
   "metadata": {},
   "outputs": [
    {
     "data": {
      "text/html": [
       "<html>\\(\\displaystyle \\frac{1}{6}q_{1}' - \\frac{1}{6}q_{1} + \\frac{1}{3}q_{0}\\)</html>"
      ],
      "text/latex": [
       "$\\displaystyle \\frac{1}{6}q_{1}' - \\frac{1}{6}q_{1} + \\frac{1}{3}q_{0}$"
      ],
      "text/plain": [
       "\\frac{1}{6}q_{1}' - \\frac{1}{6}q_{1} + \\frac{1}{3}q_{0}"
      ]
     },
     "execution_count": 103,
     "metadata": {},
     "output_type": "execute_result"
    }
   ],
   "source": [
    "str_to_paper(g_1)"
   ]
  },
  {
   "cell_type": "code",
   "execution_count": null,
   "id": "7518f4ba-bf83-4548-8ece-751c337577b7",
   "metadata": {},
   "outputs": [],
   "source": [
    "# r = 1 (mod 3)\n",
    "# f_2 = \\int (1/3) H_{4,1}\n",
    "# g_2 = \\int (1/3) H_{4,0} - 1/2 f_2"
   ]
  },
  {
   "cell_type": "code",
   "execution_count": null,
   "id": "74a0d224-e608-47f8-963e-6ea037fb1cc9",
   "metadata": {},
   "outputs": [],
   "source": [
    "# r = 2 (mod 3)\n",
    "# f_1 = \\int (1/3) H_{2,1}\n",
    "# g_1 = \\int (1/3) H_{2,0} - 1/2 f_1"
   ]
  },
  {
   "cell_type": "code",
   "execution_count": null,
   "id": "24e85217-e0d5-4e0d-86c7-9fba7dcf600a",
   "metadata": {},
   "outputs": [],
   "source": [
    "# r = 2 (mod 3)\n",
    "# f_2 = \\int (1/3) H_{5,1}\n",
    "# g_2 = \\int (1/3) H_{5,0} - 1/2 f_2"
   ]
  },
  {
   "cell_type": "markdown",
   "id": "aaa9b67e-e2d0-4b07-af05-5ddf1d9c17fb",
   "metadata": {
    "tags": []
   },
   "source": [
    "## Case of order 5"
   ]
  },
  {
   "cell_type": "code",
   "execution_count": null,
   "id": "e09c07a9-4735-4426-96d8-20dd0f2c0ae4",
   "metadata": {},
   "outputs": [],
   "source": [
    "## Setting up the framework to work\n",
    "R.<u2,u3,u4,u5,y2,y3,y4,y5,y6,z> = DifferentialPolynomialRing(QQ)\n",
    "u = (1, 0, u2, u3, u4, u5)\n",
    "y = (1, 0, y2, y3, y4, y5, y6)\n",
    "L = sum(z[i]*u[5-i] for i in range(6))\n",
    "## Showing L\n",
    "LatexExpr(poly_to_latex(L))"
   ]
  },
  {
   "cell_type": "code",
   "execution_count": null,
   "id": "02e9e906-ec4f-4a96-a886-c9c3034effa3",
   "metadata": {},
   "outputs": [],
   "source": [
    "## Creating the \\tilde{P}_i polynomials\n",
    "PT = [1, z[1]]\n",
    "while(len(PT) <= 6): # creating up to P_6(U;Y)\n",
    "    PT += [PT[-1](z=z[1]) + y[len(PT)]*z[0]]\n",
    "\n",
    "## Showing the PT\n",
    "for (i,p) in enumerate(PT):\n",
    "    show(LatexExpr(r\"\\tilde{P}_{\" + str(i) + r\"}(U,Y) \\longrightarrow \" + poly_to_latex(p)))"
   ]
  },
  {
   "cell_type": "markdown",
   "id": "31ba3259-d17a-4e40-b48f-ff9a53f19462",
   "metadata": {
    "jp-MarkdownHeadingCollapsed": true,
    "tags": []
   },
   "source": [
    "#### **1. Computing the differential systems**"
   ]
  },
  {
   "cell_type": "code",
   "execution_count": null,
   "id": "6a3b59a9-23f2-4377-81e1-14cb89ea1c6d",
   "metadata": {},
   "outputs": [],
   "source": [
    "lie_brackets = [L.lie_bracket(P, \"z\") for P in PT]"
   ]
  },
  {
   "cell_type": "code",
   "execution_count": null,
   "id": "79c8ca91-5a3e-48d6-8c96-02fc504d8e52",
   "metadata": {},
   "outputs": [],
   "source": [
    "diff_systems = [tuple([bracket.coefficient(z[i]) for i in range(L.order(z)-1, bracket.order(z)+1)]) for bracket in lie_brackets]"
   ]
  },
  {
   "cell_type": "markdown",
   "id": "bb463ac6-64cc-4c12-9b05-5f6603c01e4b",
   "metadata": {},
   "source": [
    "##### The system for $m = 1$"
   ]
  },
  {
   "cell_type": "code",
   "execution_count": null,
   "id": "26fc0d2a-ce0d-41b7-88ba-857ce2d8b669",
   "metadata": {},
   "outputs": [],
   "source": [
    "bracket = lie_brackets[1]\n",
    "LatexExpr(r\"[L_5, \\tilde{P}_1(U)] = \" + \"+\".join(r\"\\left(\" + poly_to_latex(bracket.coefficient(z[i])) + r\"\\right)\" + (r\"\\partial^\" + str(i) if i > 0 else \"\") for i in range(bracket.order(z), -1, -1) if bracket.coefficient(z[i]) != 0))"
   ]
  },
  {
   "cell_type": "code",
   "execution_count": null,
   "id": "b8510de2-dc82-481f-a805-92dae477abc5",
   "metadata": {},
   "outputs": [],
   "source": [
    "print(_)"
   ]
  },
  {
   "cell_type": "code",
   "execution_count": null,
   "id": "73c990fc-e107-4a35-9dff-5d0716c0c53b",
   "metadata": {},
   "outputs": [],
   "source": [
    "## There are no equations for the almost commuting of z[1]\n",
    "##  --> trivial: it is the unique monic operator of order 1 in normal form\n",
    "diff_systems[1]"
   ]
  },
  {
   "cell_type": "markdown",
   "id": "582b3be5-74c4-4e32-a4f2-1ac6e0d5a428",
   "metadata": {},
   "source": [
    "##### The system for $m=2$"
   ]
  },
  {
   "cell_type": "code",
   "execution_count": null,
   "id": "01be631c-0f9b-48c4-8865-76963fc9b53b",
   "metadata": {},
   "outputs": [],
   "source": [
    "bracket = lie_brackets[2]\n",
    "LatexExpr(r\"[L_5, \\tilde{P}_2(U, y_2)] = \" + \"+\".join(r\"\\left(\" + poly_to_latex(bracket.coefficient(z[i])) + r\"\\right)\" + (r\"\\partial^\" + str(i) if i > 0 else \"\") for i in range(bracket.order(z), -1, -1) if bracket.coefficient(z[i]) != 0))"
   ]
  },
  {
   "cell_type": "code",
   "execution_count": null,
   "id": "edbcb94a-0653-42a6-b285-1497b20ef414",
   "metadata": {},
   "outputs": [],
   "source": [
    "print(_)"
   ]
  },
  {
   "cell_type": "code",
   "execution_count": null,
   "id": "b26d268a-f3fe-417c-98b3-c6a9f899a35c",
   "metadata": {},
   "outputs": [],
   "source": [
    "LatexExpr(r\"\\left\\{\\begin{array}{rl}\" + \"\\n\\t\" + \"\\\\\\\\\\n\\t\".join(poly_to_latex(p) + r\"&= 0\" for p in diff_systems[2]) + \"\\n\" + r\"\\end{array}\\right.\")"
   ]
  },
  {
   "cell_type": "code",
   "execution_count": null,
   "id": "f69bf677-2def-4264-bf6e-547e6b2ac2c1",
   "metadata": {},
   "outputs": [],
   "source": [
    "print(_)"
   ]
  },
  {
   "cell_type": "markdown",
   "id": "0f85f775-4326-48fd-a60b-be5fb0af32f9",
   "metadata": {},
   "source": [
    "##### The system for $m = 3$"
   ]
  },
  {
   "cell_type": "code",
   "execution_count": null,
   "id": "c35dc6ed-d9dc-4526-8e3f-bf2b4308e891",
   "metadata": {},
   "outputs": [],
   "source": [
    "bracket = lie_brackets[3]\n",
    "LatexExpr(r\"[L_5, \\tilde{P}_3(U, y_2, y_3)] = \" + \"+\".join(r\"\\left(\" + poly_to_latex(bracket.coefficient(z[i])) + r\"\\right)\" + (r\"\\partial^\" + str(i) if i > 0 else \"\") for i in range(bracket.order(z), -1, -1) if bracket.coefficient(z[i]) != 0))"
   ]
  },
  {
   "cell_type": "code",
   "execution_count": null,
   "id": "f2d7f6e7-cc1f-4d18-bbf1-9cebe859a93c",
   "metadata": {},
   "outputs": [],
   "source": [
    "print(_)"
   ]
  },
  {
   "cell_type": "code",
   "execution_count": null,
   "id": "21cce98b-0918-440b-b673-dc7c96f261c8",
   "metadata": {},
   "outputs": [],
   "source": [
    "LatexExpr(r\"\\left\\{\\begin{array}{rl}\" + \"\\n\\t\" + \"\\\\\\\\\\n\\t\".join(poly_to_latex(p) + r\"&= 0\" for p in diff_systems[3]) + \"\\n\" + r\"\\end{array}\\right.\")"
   ]
  },
  {
   "cell_type": "code",
   "execution_count": null,
   "id": "006484ba-e2f4-4f6d-aaea-a32be72bc1a5",
   "metadata": {},
   "outputs": [],
   "source": [
    "print(_)"
   ]
  },
  {
   "cell_type": "markdown",
   "id": "267bf40d-694c-4e14-b4cf-9572687b4aa3",
   "metadata": {},
   "source": [
    "##### The system for $m = 4$"
   ]
  },
  {
   "cell_type": "code",
   "execution_count": null,
   "id": "811a143f-485f-447c-b96c-8e991992d4f8",
   "metadata": {},
   "outputs": [],
   "source": [
    "bracket = lie_brackets[4]\n",
    "LatexExpr(r\"[L_5, \\tilde{P}_4(U, y_2,y_3,y_4)] = \" + \"+\".join(r\"\\left(\" + poly_to_latex(bracket.coefficient(z[i])) + r\"\\right)\" + (r\"\\partial^\" + str(i) if i > 0 else \"\") for i in range(bracket.order(z), -1, -1) if bracket.coefficient(z[i]) != 0))"
   ]
  },
  {
   "cell_type": "code",
   "execution_count": null,
   "id": "e8c1b125-85c8-43ea-8a9b-fbc6454080a9",
   "metadata": {},
   "outputs": [],
   "source": [
    "print(_)"
   ]
  },
  {
   "cell_type": "code",
   "execution_count": null,
   "id": "87b8f290-02b2-4b6a-9b81-cfef4390dd0e",
   "metadata": {},
   "outputs": [],
   "source": [
    "LatexExpr(r\"\\left\\{\\begin{array}{rl}\" + \"\\n\\t\" + \"\\\\\\\\\\n\\t\".join(poly_to_latex(p) + r\"&= 0\" for p in diff_systems[4]) + \"\\n\" + r\"\\end{array}\\right.\")"
   ]
  },
  {
   "cell_type": "code",
   "execution_count": null,
   "id": "fa63743a-e824-4eb9-b8a1-641d8ae9957c",
   "metadata": {},
   "outputs": [],
   "source": [
    "print(_)"
   ]
  },
  {
   "cell_type": "markdown",
   "id": "0c79dd05-d239-435e-81d8-6300198f4097",
   "metadata": {},
   "source": [
    "##### The system for $m = 5$"
   ]
  },
  {
   "cell_type": "code",
   "execution_count": null,
   "id": "b3165bd3-a82b-4dc9-b22f-09bfa003c9bb",
   "metadata": {},
   "outputs": [],
   "source": [
    "bracket.coefficient(z[5])"
   ]
  },
  {
   "cell_type": "code",
   "execution_count": null,
   "id": "bf46acb6-83fb-41fb-8ae1-e5f7c3537fe5",
   "metadata": {},
   "outputs": [],
   "source": [
    "bracket = lie_brackets[5]\n",
    "LatexExpr(r\"[L_5, \\tilde{P}_5(U, y_2,y_3,y_4,y_5)] = \" + \"+\".join(r\"\\left(\" + poly_to_latex(bracket.coefficient(z[i])) + r\"\\right)\" + (r\"\\partial^\" + str(i) if i > 0 else \"\") + \"\\n\\t\" for i in range(bracket.order(z), -1, -1) if bracket.coefficient(z[i]) != 0))"
   ]
  },
  {
   "cell_type": "code",
   "execution_count": null,
   "id": "d7ebe95f-737c-4876-8d33-3614e269650f",
   "metadata": {},
   "outputs": [],
   "source": [
    "print(_)"
   ]
  },
  {
   "cell_type": "code",
   "execution_count": null,
   "id": "a16c896f-2af9-45b9-9c8b-884882ce170c",
   "metadata": {},
   "outputs": [],
   "source": [
    "LatexExpr(r\"\\left\\{\\begin{array}{rl}\" + \"\\n\\t\" + \"\\\\\\\\\\n\\t\".join(poly_to_latex(p) + r\"&= 0\" for p in diff_systems[5]) + \"\\n\" + r\"\\end{array}\\right.\")"
   ]
  },
  {
   "cell_type": "code",
   "execution_count": null,
   "id": "8392d189-f923-4b92-9d72-b7efb31473d1",
   "metadata": {},
   "outputs": [],
   "source": [
    "print(_)"
   ]
  },
  {
   "cell_type": "markdown",
   "id": "d0d54f3a-7edc-48e6-aa20-b648dc229a97",
   "metadata": {
    "tags": []
   },
   "source": [
    "##### The system for $m = 6$"
   ]
  },
  {
   "cell_type": "code",
   "execution_count": null,
   "id": "75f7f89a-34af-467d-9e9a-909571a45ecf",
   "metadata": {},
   "outputs": [],
   "source": [
    "bracket = lie_brackets[6]\n",
    "LatexExpr(r\"[L_5, \\tilde{P}_6(U, Y)] = \" + \"+\".join(r\"\\left(\" + poly_to_latex(bracket.coefficient(z[i])) + r\"\\right)\" + (r\"\\partial^\" + str(i) if i > 0 else \"\") + \"\\n\\t\" for i in range(bracket.order(z), -1, -1) if bracket.coefficient(z[i]) != 0))"
   ]
  },
  {
   "cell_type": "code",
   "execution_count": null,
   "id": "6a6edb01-c77a-45dc-a525-22564dd8415a",
   "metadata": {},
   "outputs": [],
   "source": [
    "print(_)"
   ]
  },
  {
   "cell_type": "code",
   "execution_count": null,
   "id": "24cfa0e6-08e9-4f57-b371-1888238f8632",
   "metadata": {},
   "outputs": [],
   "source": [
    "LatexExpr(r\"\\left\\{\\begin{array}{rl}\" + \"\\n\\t\" + \"\\\\\\\\\\n\\t\".join(poly_to_latex(p) + r\"&= 0\" for p in diff_systems[6]) + \"\\n\" + r\"\\end{array}\\right.\")"
   ]
  },
  {
   "cell_type": "code",
   "execution_count": null,
   "id": "f1d3582d-b804-4491-a141-5e9d70ad2f41",
   "metadata": {},
   "outputs": [],
   "source": [
    "print(_)"
   ]
  },
  {
   "cell_type": "markdown",
   "id": "30be57ba-09d6-43f8-a13e-234cdff072cb",
   "metadata": {
    "jp-MarkdownHeadingCollapsed": true,
    "tags": []
   },
   "source": [
    "#### **2. Computing the basis of $W(L_5)$**"
   ]
  },
  {
   "cell_type": "code",
   "execution_count": null,
   "id": "1c44c424-ff98-4f9a-9aaf-88d6660f5289",
   "metadata": {},
   "outputs": [],
   "source": [
    "W = R.weight_func([2,3,4,5,0,0,0,0,0,0], [1])\n",
    "T = [W.homogeneous_monomials(i) for i in range(7)]"
   ]
  },
  {
   "cell_type": "code",
   "execution_count": null,
   "id": "26ea6301-cb65-4192-b769-f00e7c0d70ef",
   "metadata": {},
   "outputs": [],
   "source": [
    "for i in range(7):\n",
    "    show(LatexExpr(r\"\\mathcal{T}_{\" + str(i) + r\"} = \\{\" + \",\".join(poly_to_latex(t) for t in T[i]) +  r\"\\}\"))"
   ]
  },
  {
   "cell_type": "code",
   "execution_count": null,
   "id": "be44872c-b906-4915-bab8-275c063ffa7d",
   "metadata": {},
   "outputs": [],
   "source": [
    "print(LatexExpr(\n",
    "    r\"\\begin{itemize}\" + \"\\n\\t\" + r\"\\item $\" + (\"\\n\\t\" + r\"\\item $\").join(\n",
    "        r\"\\mathcal{T}_{\" + str(i) + r\"} = \\{\" + \",\".join(poly_to_latex(t) for t in T[i]) +  r\"\\}$\"\n",
    "    for i in range(7)) + \"\\n\" + r\"\\end{itemize}\"))"
   ]
  },
  {
   "cell_type": "code",
   "execution_count": null,
   "id": "ac075362-452b-4e1a-b226-8aa34a9ef97e",
   "metadata": {},
   "outputs": [],
   "source": [
    "## We create now the constants\n",
    "RwC = DifferentialRing(PolynomialRing(QQ, sum(([f\"c_{i}_{j}\" for j in range(len(T[i]))] for i in range(2,7)), [])))\n",
    "C = [[],[]] + [[RwC(f\"c_{i}_{j}\") for j in range(len(T[i]))] for i in range(2,7)]"
   ]
  },
  {
   "cell_type": "code",
   "execution_count": null,
   "id": "0f55af50-ea58-4e34-accb-d037cb3ec64e",
   "metadata": {},
   "outputs": [],
   "source": [
    "y_subs = {f\"y{i}\" : sum(c*t for (c,t) in zip(C[i], T[i])) for i in range(2,7)}\n",
    "print(LatexExpr(\n",
    "    r\"\\begin{array}{rcl}\" + \"\\n\\t\" + \"\\\\\\\\\\n\\t\".join(poly_to_latex(k) + r\" & \\rightarrow & \" + poly_to_latex(v) for (k,v) in y_subs.items()) + \"\\n\" + r\"\\end{array}\"))"
   ]
  },
  {
   "cell_type": "code",
   "execution_count": null,
   "id": "20c92281-09ae-4db0-95fd-18de34e51439",
   "metadata": {},
   "outputs": [],
   "source": [
    "## We compute the linear system for each $m$\n",
    "lin_systems = [sum(([RwC.wrapped(c) for c in el(**y_subs).coefficients()] for el in diff_systems[m]), []) for m in range(7)]"
   ]
  },
  {
   "cell_type": "code",
   "execution_count": null,
   "id": "c1a74598-8fa4-41d0-8ab0-33bf447d25c7",
   "metadata": {},
   "outputs": [],
   "source": [
    "LatexExpr(\n",
    "    r\"\\left\\{\\begin{array}{rl}\" + \"\\n\\t\" + \"\\\\\\\\\\n\\t\".join(\n",
    "        poly_to_latex(equ-equ.constant_coefficient()) + r\" & = \" + poly_to_latex(-equ.constant_coefficient()) \n",
    "        for equ in lin_systems[2]) + \"\\n\" r\"\\end{array}\\right.\")"
   ]
  },
  {
   "cell_type": "code",
   "execution_count": null,
   "id": "c44aeb55-0d6d-41ca-941b-5adb965b3b3e",
   "metadata": {},
   "outputs": [],
   "source": [
    "print(_)"
   ]
  },
  {
   "cell_type": "code",
   "execution_count": null,
   "id": "4797c9bf-6b0e-447f-987c-16cde1ec8f84",
   "metadata": {},
   "outputs": [],
   "source": [
    "LatexExpr(\n",
    "    r\"\\left\\{\\begin{array}{rl}\" + \"\\n\\t\" + \"\\\\\\\\\\n\\t\".join(\n",
    "        poly_to_latex(equ-equ.constant_coefficient()) + r\" & = \" + poly_to_latex(-equ.constant_coefficient()) \n",
    "        for equ in lin_systems[3]) + \"\\n\" r\"\\end{array}\\right.\")"
   ]
  },
  {
   "cell_type": "code",
   "execution_count": null,
   "id": "68713d25-10ed-4057-93fd-34cf998a320d",
   "metadata": {},
   "outputs": [],
   "source": [
    "print(_)"
   ]
  },
  {
   "cell_type": "code",
   "execution_count": null,
   "id": "d5aac3c9-71d1-48dd-aac3-315dc3e6b1da",
   "metadata": {},
   "outputs": [],
   "source": [
    "LatexExpr(\n",
    "    r\"\\left\\{\\begin{array}{rl}\" + \"\\n\\t\" + \"\\\\\\\\\\n\\t\".join(\n",
    "        poly_to_latex(equ-equ.constant_coefficient()) + r\" & = \" + poly_to_latex(-equ.constant_coefficient()) \n",
    "        for equ in lin_systems[4]) + \"\\n\" r\"\\end{array}\\right.\")"
   ]
  },
  {
   "cell_type": "code",
   "execution_count": null,
   "id": "4bc9abbd-3594-4204-b5d6-2f94f0df21ee",
   "metadata": {},
   "outputs": [],
   "source": [
    "print(_)"
   ]
  },
  {
   "cell_type": "code",
   "execution_count": null,
   "id": "37ab5631-6558-45c9-85ea-4a6db16b5b8c",
   "metadata": {},
   "outputs": [],
   "source": [
    "LatexExpr(\n",
    "    r\"\\left\\{\\begin{array}{rl}\" + \"\\n\\t\" + \"\\\\\\\\\\n\\t\".join(\n",
    "        poly_to_latex(equ-equ.constant_coefficient()) + r\" & = \" + poly_to_latex(-equ.constant_coefficient()) \n",
    "        for equ in lin_systems[5]) + \"\\n\" r\"\\end{array}\\right.\")"
   ]
  },
  {
   "cell_type": "code",
   "execution_count": null,
   "id": "34fdf669-8164-4641-b93f-bd0516cee4c9",
   "metadata": {},
   "outputs": [],
   "source": [
    "print(_)"
   ]
  },
  {
   "cell_type": "code",
   "execution_count": null,
   "id": "268ecbd9-c5ce-4e58-a411-1cb2c4e82943",
   "metadata": {},
   "outputs": [],
   "source": [
    "len(lin_systems[6])"
   ]
  },
  {
   "cell_type": "code",
   "execution_count": null,
   "id": "dae6b62e-dd6b-4cef-97c1-260233fec6f8",
   "metadata": {},
   "outputs": [],
   "source": [
    "LatexExpr(\n",
    "    r\"\\left\\{\\begin{array}{rl}\" + \"\\n\\t\" + \"\\\\\\\\\\n\\t\".join(\n",
    "        poly_to_latex(equ-equ.constant_coefficient()) + r\" & = \" + poly_to_latex(-equ.constant_coefficient()) \n",
    "        for equ in lin_systems[6]) + \"\\n\" r\"\\end{array}\\right.\")"
   ]
  },
  {
   "cell_type": "code",
   "execution_count": null,
   "id": "8505c1db-9336-49fc-8e4a-9939a3091fb2",
   "metadata": {},
   "outputs": [],
   "source": [
    "print(_)"
   ]
  },
  {
   "cell_type": "code",
   "execution_count": null,
   "id": "268d1f87-ab88-43c7-bc88-0d5cdf74fe42",
   "metadata": {},
   "outputs": [],
   "source": [
    "solutions = [ideal(system).groebner_basis() if len(system) > 0 else [] for system in lin_systems]"
   ]
  },
  {
   "cell_type": "code",
   "execution_count": null,
   "id": "b5c14ee5-74dd-4273-b119-cda9d15c715b",
   "metadata": {},
   "outputs": [],
   "source": [
    "for i in range(len(solutions)):\n",
    "    show(i, LatexExpr(r\"\\qquad\\longrightarrow\\qquad\"), [LatexExpr(poly_to_latex(sol)) for sol in solutions[i]])"
   ]
  },
  {
   "cell_type": "markdown",
   "id": "4579b4e2-0154-4d80-a23d-ebb29d741441",
   "metadata": {
    "jp-MarkdownHeadingCollapsed": true,
    "tags": []
   },
   "source": [
    "#### **3. Computing the hierarchy equations**"
   ]
  },
  {
   "cell_type": "code",
   "execution_count": null,
   "id": "7c672e49-0b97-4e67-aec4-f725a48bc66e",
   "metadata": {},
   "outputs": [],
   "source": [
    "y_subs_true = [dict(),dict()] + [{f\"y{i}\" : sum(QQ(RwC.wrapped(c).reduce(solutions[m]))*t for (c,t) in zip(C[i], T[i])) for i in range(2,m+1)} for m in range(2,7)]"
   ]
  },
  {
   "cell_type": "code",
   "execution_count": null,
   "id": "43fd46da-aac9-47a8-960c-c6b6c64814e8",
   "metadata": {},
   "outputs": [],
   "source": [
    "H = [[lie_brackets[m].coefficient(z[i])(**y_subs_true[m]) for i in range(L.order(z)-1)] for m in range(7)]"
   ]
  },
  {
   "cell_type": "markdown",
   "id": "607d96c6-1a81-4e22-9745-196aa94731a9",
   "metadata": {},
   "source": [
    "##### m = 0"
   ]
  },
  {
   "cell_type": "code",
   "execution_count": null,
   "id": "4a7a465e-97c8-4ac7-a24e-8c679129b0bb",
   "metadata": {},
   "outputs": [],
   "source": [
    "m = 0\n",
    "LatexExpr(r\"\\left\\{\\begin{array}{rl}\" + \"\\n\\t\" + \"\\\\\\\\\\n\\t\".join(f\"H_\\u007b{m},{i}\\u007d(u_2,u_3,u_4,u_5) = & \" + poly_to_latex(H[m][i]) for i in range(L.order(z)-1)) + \"\\n\" + r\"\\end{array}\\right.\")"
   ]
  },
  {
   "cell_type": "code",
   "execution_count": null,
   "id": "826f1931-a099-415c-9c55-d3c43cd159cb",
   "metadata": {},
   "outputs": [],
   "source": [
    "print(_)"
   ]
  },
  {
   "cell_type": "markdown",
   "id": "6616bd79-c1c8-43ff-8dc7-e86b58c14411",
   "metadata": {},
   "source": [
    "##### m = 1"
   ]
  },
  {
   "cell_type": "code",
   "execution_count": null,
   "id": "2c22f987-8ec6-40c9-b424-db7a41d0d801",
   "metadata": {},
   "outputs": [],
   "source": [
    "m=1\n",
    "LatexExpr(r\"\\left\\{\\begin{array}{rl}\" + \"\\n\\t\" + \"\\\\\\\\\\n\\t\".join(f\"H_\\u007b{m},{i}\\u007d(u_2,u_3,u_4,u_5) = & \" + poly_to_latex(H[m][i]) for i in range(L.order(z)-1)) + \"\\n\" + r\"\\end{array}\\right.\")"
   ]
  },
  {
   "cell_type": "code",
   "execution_count": null,
   "id": "2f425704-11eb-474a-b9de-0c6d95464e34",
   "metadata": {},
   "outputs": [],
   "source": [
    "print(_)"
   ]
  },
  {
   "cell_type": "markdown",
   "id": "5ec81220-3168-4950-89a2-a77f3a75a37a",
   "metadata": {},
   "source": [
    "##### m = 2"
   ]
  },
  {
   "cell_type": "code",
   "execution_count": null,
   "id": "3c24294c-db36-4c16-881b-17ef0f155b45",
   "metadata": {},
   "outputs": [],
   "source": [
    "m=2\n",
    "LatexExpr(r\"\\left\\{\\begin{array}{rl}\" + \"\\n\\t\" + \"\\\\\\\\\\n\\t\".join(f\"H_\\u007b{m},{i}\\u007d(u_2,u_3,u_4,u_5) = & \" + poly_to_latex(H[m][i]) for i in range(L.order(z)-1)) + \"\\n\" + r\"\\end{array}\\right.\")"
   ]
  },
  {
   "cell_type": "code",
   "execution_count": null,
   "id": "52c68af4-9380-4279-8375-f7397119935e",
   "metadata": {},
   "outputs": [],
   "source": [
    "print(_)"
   ]
  },
  {
   "cell_type": "markdown",
   "id": "8737168d-7b60-42f5-8bd5-561517fdcf4d",
   "metadata": {},
   "source": [
    "##### m = 3"
   ]
  },
  {
   "cell_type": "code",
   "execution_count": null,
   "id": "a7f9ee17-fc94-4588-83e7-2b075691e075",
   "metadata": {},
   "outputs": [],
   "source": [
    "m=3\n",
    "LatexExpr(r\"\\left\\{\\begin{array}{rl}\" + \"\\n\\t\" + \"\\\\\\\\\\n\\t\".join(f\"H_\\u007b{m},{i}\\u007d(u_2,u_3,u_4,u_5) = & \" + poly_to_latex(H[m][i]) for i in range(L.order(z)-1)) + \"\\n\" + r\"\\end{array}\\right.\")"
   ]
  },
  {
   "cell_type": "code",
   "execution_count": null,
   "id": "b1865751-a46f-4697-92f5-05db8b0da23e",
   "metadata": {},
   "outputs": [],
   "source": [
    "print(_)"
   ]
  },
  {
   "cell_type": "markdown",
   "id": "e358ac53-3618-417c-b76c-89d31f5329a8",
   "metadata": {},
   "source": [
    "##### m = 4"
   ]
  },
  {
   "cell_type": "code",
   "execution_count": null,
   "id": "98a54e08-4248-4947-80a1-f2d7d4ac15e2",
   "metadata": {},
   "outputs": [],
   "source": [
    "m=4\n",
    "LatexExpr(r\"\\left\\{\\begin{array}{rl}\" + \"\\n\\t\" + \"\\\\\\\\\\n\\t\".join(f\"H_\\u007b{m},{i}\\u007d(u_2,u_3,u_4,u_5) = & \" + poly_to_latex(H[m][i]) for i in range(L.order(z)-1)) + \"\\n\" + r\"\\end{array}\\right.\")"
   ]
  },
  {
   "cell_type": "code",
   "execution_count": null,
   "id": "94fc4ece-4f04-495f-8cde-ff25a09c8d7f",
   "metadata": {},
   "outputs": [],
   "source": [
    "print(_)"
   ]
  },
  {
   "cell_type": "markdown",
   "id": "747b8ab2-b59a-48c9-88e2-24e289fe66f0",
   "metadata": {},
   "source": [
    "##### m = 5"
   ]
  },
  {
   "cell_type": "code",
   "execution_count": null,
   "id": "694ddce8-75a2-4f9b-aabf-a0283cd8f47d",
   "metadata": {},
   "outputs": [],
   "source": [
    "m=5\n",
    "LatexExpr(r\"\\left\\{\\begin{array}{rl}\" + \"\\n\\t\" + \"\\\\\\\\\\n\\t\".join(f\"H_\\u007b{m},{i}\\u007d(u_2,u_3,u_4,u_5) = & \" + poly_to_latex(H[m][i]) for i in range(L.order(z)-1)) + \"\\n\" + r\"\\end{array}\\right.\")"
   ]
  },
  {
   "cell_type": "code",
   "execution_count": null,
   "id": "235edd80-1658-4202-b043-e5aedfa0124a",
   "metadata": {},
   "outputs": [],
   "source": [
    "print(_)"
   ]
  },
  {
   "cell_type": "markdown",
   "id": "996077ae-d36f-417d-b7dd-a77159e363d2",
   "metadata": {},
   "source": [
    "##### m = 6"
   ]
  },
  {
   "cell_type": "code",
   "execution_count": null,
   "id": "d2c32804-cfc8-4094-a1ee-e0c7aee01874",
   "metadata": {},
   "outputs": [],
   "source": [
    "m=6\n",
    "LatexExpr(r\"\\left\\{\\begin{array}{rl}\" + \"\\n\\t\" + \"\\\\\\\\\\n\\t\".join(f\"H_\\u007b{m},{i}\\u007d(u_2,u_3,u_4,u_5) = & \" + poly_to_latex(H[m][i]) for i in range(L.order(z)-1)) + \"\\n\" + r\"\\end{array}\\right.\")"
   ]
  },
  {
   "cell_type": "code",
   "execution_count": null,
   "id": "02af75f5-49cf-4652-861f-47ff580d80a0",
   "metadata": {},
   "outputs": [],
   "source": [
    "print(_)"
   ]
  },
  {
   "cell_type": "code",
   "execution_count": null,
   "id": "6f562111-472a-4367-bf3f-ba6532aef81e",
   "metadata": {},
   "outputs": [],
   "source": [
    "order = lambda P : max([sum(o for o in el.orders() if o != -1) for el in P.monomials()])"
   ]
  },
  {
   "cell_type": "code",
   "execution_count": null,
   "id": "48ee5bbf-5e0b-4ef2-9ec5-2c929d97071e",
   "metadata": {},
   "outputs": [],
   "source": [
    "for i in range(4):\n",
    "    print(i, (order(H[6][i]), H[6][i].degree(), len(H[6][i].monomials())))"
   ]
  },
  {
   "cell_type": "markdown",
   "id": "bed2c8b3-db35-4143-9020-b37d42381901",
   "metadata": {
    "tags": []
   },
   "source": [
    "#### **Computations with the hierarchy?**"
   ]
  },
  {
   "cell_type": "code",
   "execution_count": null,
   "id": "1c877d0c-1996-4583-bce9-ba7288200e84",
   "metadata": {},
   "outputs": [],
   "source": [
    "recursion(5)"
   ]
  },
  {
   "cell_type": "code",
   "execution_count": 104,
   "id": "2504c895-6e0a-4c6f-aed7-86565de7aede",
   "metadata": {},
   "outputs": [
    {
     "data": {
      "text/html": [
       "<html>\\(\\displaystyle \\frac{2}{5} \\mathit{u2}_{3} \\mathit{u2}_{0} + \\frac{2}{5} \\mathit{u2}_{2} \\mathit{u3}_{0} + \\frac{2}{5} \\mathit{u2}_{1} \\mathit{u4}_{0} + \\frac{2}{5} \\mathit{u2}_{5} - \\mathit{u5}_{2}\\)</html>"
      ],
      "text/latex": [
       "$\\displaystyle \\frac{2}{5} \\mathit{u2}_{3} \\mathit{u2}_{0} + \\frac{2}{5} \\mathit{u2}_{2} \\mathit{u3}_{0} + \\frac{2}{5} \\mathit{u2}_{1} \\mathit{u4}_{0} + \\frac{2}{5} \\mathit{u2}_{5} - \\mathit{u5}_{2}$"
      ],
      "text/plain": [
       "2/5*u2_3*u2_0 + 2/5*u2_2*u3_0 + 2/5*u2_1*u4_0 + 2/5*u2_5 - u5_2"
      ]
     },
     "execution_count": 104,
     "metadata": {},
     "output_type": "execute_result"
    }
   ],
   "source": [
    "p = hierarchy(5,2)[0]\n",
    "R = p.parent()\n",
    "RwC = R.add_constants(\"a\",\"b\")\n",
    "u = [None, None] + list(p.parent().gens()[:-1])\n",
    "z = p.parent().gens()[-1]\n",
    "p"
   ]
  },
  {
   "cell_type": "code",
   "execution_count": 115,
   "id": "d741ede9-af8e-4291-a8bf-c54607055ebc",
   "metadata": {},
   "outputs": [],
   "source": [
    "elements = set()\n",
    "while(len(elements) < 100):\n",
    "    elements.add(R.random_element(5,5))\n",
    "names = {str(el) for el in elements}"
   ]
  },
  {
   "cell_type": "code",
   "execution_count": 116,
   "id": "a81ffe11-d8a5-4b32-8f97-01b44fdc0237",
   "metadata": {},
   "outputs": [
    {
     "name": "stdout",
     "output_type": "stream",
     "text": [
      "CPU times: user 584 µs, sys: 6 µs, total: 590 µs\n",
      "Wall time: 592 µs\n"
     ]
    }
   ],
   "source": [
    "%%time \n",
    "for _ in range(10):\n",
    "    T0 = [R(el) for el in elements]"
   ]
  },
  {
   "cell_type": "code",
   "execution_count": 117,
   "id": "e12bbbb0-907d-4095-89ca-2b01c0bf6087",
   "metadata": {
    "tags": []
   },
   "outputs": [
    {
     "name": "stdout",
     "output_type": "stream",
     "text": [
      "Unexpected exception formatting exception. Falling back to standard exception\n"
     ]
    },
    {
     "name": "stderr",
     "output_type": "stream",
     "text": [
      "Traceback (most recent call last):\n",
      "  File \"/home/qh82kz/sage/local/var/lib/sage/venv-python3.10.5/lib/python3.10/site-packages/IPython/core/magics/execution.py\", line 1316, in time\n",
      "    exec(code, glob, local_ns)\n",
      "  File \"<timed exec>\", line 2, in <module>\n",
      "  File \"<timed exec>\", line 2, in <listcomp>\n",
      "  File \"/home/qh82kz/git/dalgebra/notebooks/../dalgebra/dpolynomial/dpolynomial_ring.py\", line 572, in __call__\n",
      "    res = super().__call__(*args, **kwds)\n",
      "  File \"sage/structure/parent.pyx\", line 897, in sage.structure.parent.Parent.__call__\n",
      "    return mor._call_(x)\n",
      "  File \"sage/structure/coerce_maps.pyx\", line 156, in sage.structure.coerce_maps.DefaultConvertMap_unique._call_\n",
      "    return C._element_constructor(x)\n",
      "  File \"/home/qh82kz/git/dalgebra/notebooks/../dalgebra/dpolynomial/dpolynomial_ring.py\", line 345, in _element_constructor_\n",
      "    p = sum(self.base()(c)*self(str(t)) for (c,t) in zip(x.coefficients(), x.monomials()))\n",
      "  File \"/home/qh82kz/git/dalgebra/notebooks/../dalgebra/dpolynomial/dpolynomial_ring.py\", line 345, in <genexpr>\n",
      "    p = sum(self.base()(c)*self(str(t)) for (c,t) in zip(x.coefficients(), x.monomials()))\n",
      "  File \"/home/qh82kz/git/dalgebra/notebooks/../dalgebra/dpolynomial/dpolynomial_ring.py\", line 572, in __call__\n",
      "    res = super().__call__(*args, **kwds)\n",
      "  File \"sage/structure/parent.pyx\", line 897, in sage.structure.parent.Parent.__call__\n",
      "    return mor._call_(x)\n",
      "  File \"sage/structure/coerce_maps.pyx\", line 156, in sage.structure.coerce_maps.DefaultConvertMap_unique._call_\n",
      "    return C._element_constructor(x)\n",
      "  File \"/home/qh82kz/git/dalgebra/notebooks/../dalgebra/dpolynomial/dpolynomial_ring.py\", line 347, in _element_constructor_\n",
      "    p = super()._element_constructor_(x)\n",
      "  File \"/home/qh82kz/sage/src/sage/rings/polynomial/infinite_polynomial_ring.py\", line 898, in _element_constructor_\n",
      "    x = sage_eval(x, self.gens_dict())\n",
      "  File \"/home/qh82kz/sage/src/sage/misc/sage_eval.py\", line 198, in sage_eval\n",
      "    return eval(source, sage.all.__dict__, locals)\n",
      "  File \"<string>\", line 1, in <module>\n",
      "  File \"sage/structure/element.pyx\", line 1514, in sage.structure.element.Element.__mul__\n",
      "    return (<Element>left)._mul_(right)\n",
      "  File \"sage/structure/element.pyx\", line 2630, in sage.structure.element.RingElement._mul_\n",
      "    cpdef _mul_(self, other):\n",
      "  File \"/home/qh82kz/git/dalgebra/notebooks/../dalgebra/dpolynomial/dpolynomial_element.py\", line 921, in _mul_\n",
      "    return self.parent().element_class(self.parent(), super()._mul_(x))\n",
      "  File \"/home/qh82kz/sage/src/sage/rings/polynomial/infinite_polynomial_element.py\", line 600, in _mul_\n",
      "    return InfinitePolynomial_sparse(self.parent(),R(self._p) * R(x._p))\n",
      "  File \"/home/qh82kz/sage/src/sage/rings/polynomial/multi_polynomial_ring.py\", line 448, in __call__\n",
      "    return MPolynomial_polydict(self, self._extract_polydict(x))\n",
      "  File \"sage/rings/polynomial/multi_polynomial_ring_base.pyx\", line 455, in sage.rings.polynomial.multi_polynomial_ring_base.MPolynomialRing_base._extract_polydict\n",
      "    D[ix] = K(a)\n",
      "  File \"/home/qh82kz/git/dalgebra/notebooks/../dalgebra/dring.py\", line 1333, in __call__\n",
      "    return self._element_constructor_(result)\n",
      "  File \"/home/qh82kz/git/dalgebra/notebooks/../dalgebra/dring.py\", line 1340, in _element_constructor_\n",
      "    if x in SR:\n",
      "  File \"sage/symbolic/ring.pyx\", line 512, in sage.symbolic.ring.SymbolicRing.__contains__\n",
      "    return bool(x2 == x)\n",
      "  File \"sage/structure/element.pyx\", line 1112, in sage.structure.element.Element.__richcmp__\n",
      "    return coercion_model.richcmp(self, other, op)\n",
      "  File \"sage/structure/coerce.pyx\", line 1973, in sage.structure.coerce.CoercionModel.richcmp\n",
      "    x, y = self.canonical_coercion(x, y)\n",
      "  File \"sage/structure/coerce.pyx\", line 1315, in sage.structure.coerce.CoercionModel.canonical_coercion\n",
      "    y_elt = (<Map>y_map)._call_(y)\n",
      "  File \"sage/structure/coerce_maps.pyx\", line 287, in sage.structure.coerce_maps.NamedConvertMap._call_\n",
      "    cdef Element e = method(C)\n",
      "  File \"sage/rings/polynomial/multi_polynomial.pyx\", line 192, in sage.rings.polynomial.multi_polynomial.MPolynomial._symbolic_\n",
      "    d = dict([(repr(g), R.var(g)) for g in self.parent().gens()])\n",
      "  File \"src/cysignals/signals.pyx\", line 310, in cysignals.signals.python_check_interrupt\n",
      "KeyboardInterrupt\n",
      "\n",
      "During handling of the above exception, another exception occurred:\n",
      "\n",
      "Traceback (most recent call last):\n",
      "  File \"/home/qh82kz/sage/local/var/lib/sage/venv-python3.10.5/lib/python3.10/site-packages/IPython/core/interactiveshell.py\", line 1993, in showtraceback\n",
      "    stb = self.InteractiveTB.structured_traceback(\n",
      "  File \"/home/qh82kz/sage/local/var/lib/sage/venv-python3.10.5/lib/python3.10/site-packages/IPython/core/ultratb.py\", line 1118, in structured_traceback\n",
      "    return FormattedTB.structured_traceback(\n",
      "  File \"/home/qh82kz/sage/local/var/lib/sage/venv-python3.10.5/lib/python3.10/site-packages/IPython/core/ultratb.py\", line 1012, in structured_traceback\n",
      "    return VerboseTB.structured_traceback(\n",
      "  File \"/home/qh82kz/sage/local/var/lib/sage/venv-python3.10.5/lib/python3.10/site-packages/IPython/core/ultratb.py\", line 865, in structured_traceback\n",
      "    formatted_exception = self.format_exception_as_a_whole(etype, evalue, etb, number_of_lines_of_context,\n",
      "  File \"/home/qh82kz/sage/local/var/lib/sage/venv-python3.10.5/lib/python3.10/site-packages/IPython/core/ultratb.py\", line 807, in format_exception_as_a_whole\n",
      "    if r.frame.f_locals.get(\"__tracebackhide__\", 0) and i != lastrecord:\n",
      "AttributeError: 'GenDictWithBasering' object has no attribute 'get'\n"
     ]
    }
   ],
   "source": [
    "%%time \n",
    "for _ in range(10):\n",
    "    T1 = [RwC(el) for el in elements]"
   ]
  },
  {
   "cell_type": "code",
   "execution_count": 118,
   "id": "b458111f-cf34-4ee6-90c9-f2c237cd795e",
   "metadata": {},
   "outputs": [
    {
     "ename": "KeyboardInterrupt",
     "evalue": "",
     "output_type": "error",
     "traceback": [
      "\u001b[0;31m---------------------------------------------------------------------------\u001b[0m",
      "\u001b[0;31mKeyboardInterrupt\u001b[0m                         Traceback (most recent call last)",
      "File \u001b[0;32m<timed exec>:2\u001b[0m, in \u001b[0;36m<module>\u001b[0;34m\u001b[0m\n",
      "File \u001b[0;32m<timed exec>:2\u001b[0m, in \u001b[0;36m<listcomp>\u001b[0;34m(.0)\u001b[0m\n",
      "File \u001b[0;32m~/git/dalgebra/notebooks/../dalgebra/dpolynomial/dpolynomial_element.py:909\u001b[0m, in \u001b[0;36mDPolynomial.change_ring\u001b[0;34m(self, R)\u001b[0m\n\u001b[1;32m    907\u001b[0m \u001b[38;5;28;01mdef\u001b[39;00m \u001b[38;5;21mchange_ring\u001b[39m(\u001b[38;5;28mself\u001b[39m, R) \u001b[38;5;241m-\u001b[39m\u001b[38;5;241m>\u001b[39m DPolynomial:\n\u001b[1;32m    908\u001b[0m     new_ring \u001b[38;5;241m=\u001b[39m \u001b[38;5;28mself\u001b[39m\u001b[38;5;241m.\u001b[39mparent()\u001b[38;5;241m.\u001b[39mchange_ring(R)\n\u001b[0;32m--> 909\u001b[0m     \u001b[38;5;28;01mreturn\u001b[39;00m \u001b[38;5;28;43msum\u001b[39;49m\u001b[43m(\u001b[49m\u001b[43m(\u001b[49m\u001b[43mnew_ring\u001b[49m\u001b[43m(\u001b[49m\u001b[38;5;28;43mstr\u001b[39;49m\u001b[43m(\u001b[49m\u001b[43mm\u001b[49m\u001b[43m)\u001b[49m\u001b[43m)\u001b[49m\u001b[38;5;241;43m*\u001b[39;49m\u001b[43mnew_ring\u001b[49m\u001b[43m(\u001b[49m\u001b[43mc\u001b[49m\u001b[43m)\u001b[49m\u001b[43m \u001b[49m\u001b[38;5;28;43;01mfor\u001b[39;49;00m\u001b[43m \u001b[49m\u001b[43m(\u001b[49m\u001b[43mc\u001b[49m\u001b[43m,\u001b[49m\u001b[43mm\u001b[49m\u001b[43m)\u001b[49m\u001b[43m \u001b[49m\u001b[38;5;129;43;01min\u001b[39;49;00m\u001b[43m \u001b[49m\u001b[38;5;28;43mzip\u001b[39;49m\u001b[43m(\u001b[49m\u001b[38;5;28;43mself\u001b[39;49m\u001b[38;5;241;43m.\u001b[39;49m\u001b[43mcoefficients\u001b[49m\u001b[43m(\u001b[49m\u001b[43m)\u001b[49m\u001b[43m,\u001b[49m\u001b[43m \u001b[49m\u001b[38;5;28;43mself\u001b[39;49m\u001b[38;5;241;43m.\u001b[39;49m\u001b[43mmonomials\u001b[49m\u001b[43m(\u001b[49m\u001b[43m)\u001b[49m\u001b[43m)\u001b[49m\u001b[43m)\u001b[49m\u001b[43m,\u001b[49m\u001b[43m \u001b[49m\u001b[43mnew_ring\u001b[49m\u001b[38;5;241;43m.\u001b[39;49m\u001b[43mzero\u001b[49m\u001b[43m(\u001b[49m\u001b[43m)\u001b[49m\u001b[43m)\u001b[49m\n",
      "File \u001b[0;32m~/sage/src/sage/structure/element.pyx:1230\u001b[0m, in \u001b[0;36msage.structure.element.Element.__add__\u001b[0;34m()\u001b[0m\n\u001b[1;32m   1228\u001b[0m cdef int cl = classify_elements(left, right)\n\u001b[1;32m   1229\u001b[0m if HAVE_SAME_PARENT(cl):\n\u001b[0;32m-> 1230\u001b[0m     return (<Element>left)._add_(right)\n\u001b[1;32m   1231\u001b[0m # Left and right are Sage elements => use coercion model\n\u001b[1;32m   1232\u001b[0m if BOTH_ARE_ELEMENT(cl):\n",
      "File \u001b[0;32m~/sage/src/sage/structure/element.pyx:2367\u001b[0m, in \u001b[0;36msage.structure.element.ModuleElement._add_\u001b[0;34m()\u001b[0m\n\u001b[1;32m   2365\u001b[0m Generic element of a module.\n\u001b[1;32m   2366\u001b[0m \"\"\"\n\u001b[0;32m-> 2367\u001b[0m cpdef _add_(self, other):\n\u001b[1;32m   2368\u001b[0m     \"\"\"\n\u001b[1;32m   2369\u001b[0m     Abstract addition method\n",
      "File \u001b[0;32m~/git/dalgebra/notebooks/../dalgebra/dpolynomial/dpolynomial_element.py:915\u001b[0m, in \u001b[0;36mDPolynomial._add_\u001b[0;34m(self, x)\u001b[0m\n\u001b[1;32m    914\u001b[0m \u001b[38;5;28;01mdef\u001b[39;00m \u001b[38;5;21m_add_\u001b[39m(\u001b[38;5;28mself\u001b[39m, x):\n\u001b[0;32m--> 915\u001b[0m     \u001b[38;5;28;01mreturn\u001b[39;00m \u001b[38;5;28mself\u001b[39m\u001b[38;5;241m.\u001b[39mparent()\u001b[38;5;241m.\u001b[39melement_class(\u001b[38;5;28mself\u001b[39m\u001b[38;5;241m.\u001b[39mparent(), \u001b[38;5;28;43msuper\u001b[39;49m\u001b[43m(\u001b[49m\u001b[43m)\u001b[49m\u001b[38;5;241;43m.\u001b[39;49m\u001b[43m_add_\u001b[49m\u001b[43m(\u001b[49m\u001b[43mx\u001b[49m\u001b[43m)\u001b[49m)\n",
      "File \u001b[0;32m~/sage/src/sage/rings/polynomial/infinite_polynomial_element.py:564\u001b[0m, in \u001b[0;36mInfinitePolynomial_sparse._add_\u001b[0;34m(self, x)\u001b[0m\n\u001b[1;32m    562\u001b[0m \u001b[38;5;66;03m# One may need a new parent for  self._p and x._p\u001b[39;00m\n\u001b[1;32m    563\u001b[0m \u001b[38;5;28;01mtry\u001b[39;00m:\n\u001b[0;32m--> 564\u001b[0m     \u001b[38;5;28;01mreturn\u001b[39;00m InfinitePolynomial_sparse(\u001b[38;5;28mself\u001b[39m\u001b[38;5;241m.\u001b[39mparent(),\u001b[38;5;28;43mself\u001b[39;49m\u001b[38;5;241;43m.\u001b[39;49m\u001b[43m_p\u001b[49m\u001b[38;5;241;43m+\u001b[39;49m\u001b[43mx\u001b[49m\u001b[38;5;241;43m.\u001b[39;49m\u001b[43m_p\u001b[49m)\n\u001b[1;32m    565\u001b[0m \u001b[38;5;28;01mexcept\u001b[39;00m \u001b[38;5;167;01mException\u001b[39;00m:\n\u001b[1;32m    566\u001b[0m     \u001b[38;5;28;01mpass\u001b[39;00m\n",
      "File \u001b[0;32m~/sage/src/sage/structure/element.pyx:1233\u001b[0m, in \u001b[0;36msage.structure.element.Element.__add__\u001b[0;34m()\u001b[0m\n\u001b[1;32m   1231\u001b[0m # Left and right are Sage elements => use coercion model\n\u001b[1;32m   1232\u001b[0m if BOTH_ARE_ELEMENT(cl):\n\u001b[0;32m-> 1233\u001b[0m     return coercion_model.bin_op(left, right, add)\n\u001b[1;32m   1234\u001b[0m \n\u001b[1;32m   1235\u001b[0m cdef long value\n",
      "File \u001b[0;32m~/sage/src/sage/structure/coerce.pyx:1200\u001b[0m, in \u001b[0;36msage.structure.coerce.CoercionModel.bin_op\u001b[0;34m()\u001b[0m\n\u001b[1;32m   1198\u001b[0m # Now coerce to a common parent and do the operation there\n\u001b[1;32m   1199\u001b[0m try:\n\u001b[0;32m-> 1200\u001b[0m     xy = self.canonical_coercion(x, y)\n\u001b[1;32m   1201\u001b[0m except TypeError:\n\u001b[1;32m   1202\u001b[0m     self._record_exception()\n",
      "File \u001b[0;32m~/sage/src/sage/structure/coerce.pyx:1307\u001b[0m, in \u001b[0;36msage.structure.coerce.CoercionModel.canonical_coercion\u001b[0;34m()\u001b[0m\n\u001b[1;32m   1305\u001b[0m \n\u001b[1;32m   1306\u001b[0m         cdef Element x_elt, y_elt\n\u001b[0;32m-> 1307\u001b[0m         coercions = self.coercion_maps(xp, yp)\n\u001b[1;32m   1308\u001b[0m         if coercions is not None:\n\u001b[1;32m   1309\u001b[0m             x_map, y_map = coercions\n",
      "File \u001b[0;32m~/sage/src/sage/structure/coerce.pyx:1512\u001b[0m, in \u001b[0;36msage.structure.coerce.CoercionModel.coercion_maps\u001b[0;34m()\u001b[0m\n\u001b[1;32m   1510\u001b[0m except KeyError:\n\u001b[1;32m   1511\u001b[0m     pass\n\u001b[0;32m-> 1512\u001b[0m homs = self.discover_coercion(R, S)\n\u001b[1;32m   1513\u001b[0m if 0:\n\u001b[1;32m   1514\u001b[0m     # This breaks too many things that are going to change\n",
      "File \u001b[0;32m~/sage/src/sage/structure/coerce.pyx:1675\u001b[0m, in \u001b[0;36msage.structure.coerce.CoercionModel.discover_coercion\u001b[0;34m()\u001b[0m\n\u001b[1;32m   1673\u001b[0m from sage.categories.pushout import pushout\n\u001b[1;32m   1674\u001b[0m try:\n\u001b[0;32m-> 1675\u001b[0m     Z = pushout(R, S)\n\u001b[1;32m   1676\u001b[0m     coerce_R = Z._internal_coerce_map_from(R)\n\u001b[1;32m   1677\u001b[0m     coerce_S = Z._internal_coerce_map_from(S)\n",
      "File \u001b[0;32m~/sage/src/sage/categories/pushout.py:4223\u001b[0m, in \u001b[0;36mpushout\u001b[0;34m(R, S)\u001b[0m\n\u001b[1;32m   4220\u001b[0m     S_tower \u001b[38;5;241m=\u001b[39m expand_tower(S_tower[:\u001b[38;5;28mlen\u001b[39m(Ss)])\n\u001b[1;32m   4221\u001b[0m \u001b[38;5;28;01melse\u001b[39;00m:\n\u001b[1;32m   4222\u001b[0m     \u001b[38;5;66;03m# Rc is a list of functors from Z to R and Sc is a list of functors from Z to S\u001b[39;00m\n\u001b[0;32m-> 4223\u001b[0m     R_tower \u001b[38;5;241m=\u001b[39m \u001b[43mexpand_tower\u001b[49m\u001b[43m(\u001b[49m\u001b[43mR_tower\u001b[49m\u001b[43m[\u001b[49m\u001b[43m:\u001b[49m\u001b[38;5;28;43mlen\u001b[39;49m\u001b[43m(\u001b[49m\u001b[43mRs\u001b[49m\u001b[43m)\u001b[49m\u001b[43m \u001b[49m\u001b[38;5;241;43m+\u001b[39;49m\u001b[43m \u001b[49m\u001b[38;5;241;43m1\u001b[39;49m\u001b[43m]\u001b[49m\u001b[43m)\u001b[49m\n\u001b[1;32m   4224\u001b[0m     S_tower \u001b[38;5;241m=\u001b[39m expand_tower(S_tower[:\u001b[38;5;28mlen\u001b[39m(Ss) \u001b[38;5;241m+\u001b[39m \u001b[38;5;241m1\u001b[39m])\n\u001b[1;32m   4225\u001b[0m Rc \u001b[38;5;241m=\u001b[39m [c[\u001b[38;5;241m0\u001b[39m] \u001b[38;5;28;01mfor\u001b[39;00m c \u001b[38;5;129;01min\u001b[39;00m R_tower[\u001b[38;5;241m1\u001b[39m:]]\n",
      "File \u001b[0;32m~/sage/src/sage/categories/pushout.py:4550\u001b[0m, in \u001b[0;36mexpand_tower\u001b[0;34m(tower)\u001b[0m\n\u001b[1;32m   4548\u001b[0m         \u001b[38;5;28;01mfor\u001b[39;00m ff \u001b[38;5;129;01min\u001b[39;00m \u001b[38;5;28mreversed\u001b[39m(fs[\u001b[38;5;241m1\u001b[39m:]):\n\u001b[1;32m   4549\u001b[0m             new_tower\u001b[38;5;241m.\u001b[39mappend((ff, R))\n\u001b[0;32m-> 4550\u001b[0m             R \u001b[38;5;241m=\u001b[39m \u001b[43mff\u001b[49m\u001b[43m(\u001b[49m\u001b[43mR\u001b[49m\u001b[43m)\u001b[49m\n\u001b[1;32m   4551\u001b[0m         new_tower\u001b[38;5;241m.\u001b[39mappend((fs[\u001b[38;5;241m0\u001b[39m], R))\n\u001b[1;32m   4552\u001b[0m \u001b[38;5;28;01mreturn\u001b[39;00m \u001b[38;5;28mlist\u001b[39m(\u001b[38;5;28mreversed\u001b[39m(new_tower))\n",
      "File \u001b[0;32m~/sage/src/sage/categories/functor.pyx:383\u001b[0m, in \u001b[0;36msage.categories.functor.Functor.__call__\u001b[0;34m()\u001b[0m\n\u001b[1;32m    381\u001b[0m if is_Morphism(x):\n\u001b[1;32m    382\u001b[0m     return self._apply_functor_to_morphism(x)\n\u001b[0;32m--> 383\u001b[0m y = self._apply_functor(self._coerce_into_domain(x))\n\u001b[1;32m    384\u001b[0m if not ((y in self.__codomain) or (y in self.__codomain.Homsets())):\n\u001b[1;32m    385\u001b[0m     raise TypeError(\"%s is ill-defined, since it sends x (=%s) to something that is not in %s.\" % (repr(self), x, self.__codomain))\n",
      "File \u001b[0;32m~/sage/src/sage/categories/pushout.py:1016\u001b[0m, in \u001b[0;36mMultiPolynomialFunctor._apply_functor\u001b[0;34m(self, R)\u001b[0m\n\u001b[1;32m   1000\u001b[0m \u001b[38;5;250m\u001b[39m\u001b[38;5;124;03m\"\"\"\u001b[39;00m\n\u001b[1;32m   1001\u001b[0m \u001b[38;5;124;03mApply the functor to an object of ``self``'s domain.\u001b[39;00m\n\u001b[1;32m   1002\u001b[0m \n\u001b[0;32m   (...)\u001b[0m\n\u001b[1;32m   1013\u001b[0m \u001b[38;5;124;03m    Multivariate Polynomial Ring in x, y, z over Real Field with 53 bits of precision\u001b[39;00m\n\u001b[1;32m   1014\u001b[0m \u001b[38;5;124;03m\"\"\"\u001b[39;00m\n\u001b[1;32m   1015\u001b[0m \u001b[38;5;28;01mfrom\u001b[39;00m \u001b[38;5;21;01msage\u001b[39;00m\u001b[38;5;21;01m.\u001b[39;00m\u001b[38;5;21;01mrings\u001b[39;00m\u001b[38;5;21;01m.\u001b[39;00m\u001b[38;5;21;01mpolynomial\u001b[39;00m\u001b[38;5;21;01m.\u001b[39;00m\u001b[38;5;21;01mpolynomial_ring_constructor\u001b[39;00m \u001b[38;5;28;01mimport\u001b[39;00m PolynomialRing\n\u001b[0;32m-> 1016\u001b[0m \u001b[38;5;28;01mreturn\u001b[39;00m \u001b[43mPolynomialRing\u001b[49m\u001b[43m(\u001b[49m\u001b[43mR\u001b[49m\u001b[43m,\u001b[49m\u001b[43m \u001b[49m\u001b[38;5;28;43mself\u001b[39;49m\u001b[38;5;241;43m.\u001b[39;49m\u001b[43mvars\u001b[49m\u001b[43m)\u001b[49m\n",
      "File \u001b[0;32m~/sage/src/sage/rings/polynomial/polynomial_ring_constructor.py:632\u001b[0m, in \u001b[0;36mPolynomialRing\u001b[0;34m(base_ring, *args, **kwds)\u001b[0m\n\u001b[1;32m    629\u001b[0m     \u001b[38;5;28;01mexcept\u001b[39;00m \u001b[38;5;167;01mKeyError\u001b[39;00m:\n\u001b[1;32m    630\u001b[0m         \u001b[38;5;28;01mraise\u001b[39;00m \u001b[38;5;167;01mTypeError\u001b[39;00m(\u001b[38;5;124m\"\u001b[39m\u001b[38;5;124myou must specify the names of the variables\u001b[39m\u001b[38;5;124m\"\u001b[39m)\n\u001b[0;32m--> 632\u001b[0m names \u001b[38;5;241m=\u001b[39m \u001b[43mnormalize_names\u001b[49m\u001b[43m(\u001b[49m\u001b[43mn\u001b[49m\u001b[43m,\u001b[49m\u001b[43m \u001b[49m\u001b[43mnames\u001b[49m\u001b[43m)\u001b[49m\n\u001b[1;32m    634\u001b[0m \u001b[38;5;66;03m# At this point, we have only handled the \"names\" keyword if it was\u001b[39;00m\n\u001b[1;32m    635\u001b[0m \u001b[38;5;66;03m# needed. Since we know the variable names, it would logically be\u001b[39;00m\n\u001b[1;32m    636\u001b[0m \u001b[38;5;66;03m# an error to specify an additional \"names\" keyword. However,\u001b[39;00m\n\u001b[0;32m   (...)\u001b[0m\n\u001b[1;32m    639\u001b[0m \u001b[38;5;66;03m# and we allow this for historical reasons. However, the names\u001b[39;00m\n\u001b[1;32m    640\u001b[0m \u001b[38;5;66;03m# must be consistent!\u001b[39;00m\n\u001b[1;32m    641\u001b[0m \u001b[38;5;28;01mif\u001b[39;00m \u001b[38;5;124m\"\u001b[39m\u001b[38;5;124mnames\u001b[39m\u001b[38;5;124m\"\u001b[39m \u001b[38;5;129;01min\u001b[39;00m kwds:\n",
      "File \u001b[0;32msrc/cysignals/signals.pyx:310\u001b[0m, in \u001b[0;36mcysignals.signals.python_check_interrupt\u001b[0;34m()\u001b[0m\n",
      "\u001b[0;31mKeyboardInterrupt\u001b[0m: "
     ]
    }
   ],
   "source": [
    "%%time \n",
    "for _ in range(10):\n",
    "    T4 = [el.change_ring(RwC.base()) for el in elements]"
   ]
  },
  {
   "cell_type": "code",
   "execution_count": 119,
   "id": "7d14d43d-78c7-4182-8305-872308189aba",
   "metadata": {},
   "outputs": [
    {
     "name": "stdout",
     "output_type": "stream",
     "text": [
      "CPU times: user 13.4 s, sys: 0 ns, total: 13.4 s\n",
      "Wall time: 13.4 s\n"
     ]
    }
   ],
   "source": [
    "%%time \n",
    "for _ in range(10):\n",
    "    T2 = [R(el) for el in names]"
   ]
  },
  {
   "cell_type": "code",
   "execution_count": 120,
   "id": "28316317-fd20-420b-a3f0-94f4e48caedf",
   "metadata": {},
   "outputs": [
    {
     "name": "stdout",
     "output_type": "stream",
     "text": [
      "CPU times: user 37.7 s, sys: 50 ms, total: 37.7 s\n",
      "Wall time: 37.7 s\n"
     ]
    }
   ],
   "source": [
    "%%time \n",
    "for _ in range(10):\n",
    "    T3 = [RwC(el) for el in names]"
   ]
  },
  {
   "cell_type": "code",
   "execution_count": null,
   "id": "1937790c-c38e-4be3-a612-65c6a798ad10",
   "metadata": {},
   "outputs": [],
   "source": [
    "from sage.categories.pushout import pushout"
   ]
  },
  {
   "cell_type": "code",
   "execution_count": null,
   "id": "c992916a-65a0-4617-9610-14e4419f34c5",
   "metadata": {},
   "outputs": [],
   "source": [
    "z[10].divides(p)"
   ]
  },
  {
   "cell_type": "code",
   "execution_count": null,
   "id": "b2b09323-2876-438f-9524-4b73cf0daf68",
   "metadata": {},
   "outputs": [],
   "source": [
    "R = (z[10] + u[5][2] + p).polynomial().parent()"
   ]
  },
  {
   "cell_type": "code",
   "execution_count": null,
   "id": "ed8add71-4aa7-484d-b984-ed1039c65ef1",
   "metadata": {},
   "outputs": [],
   "source": [
    "z[10] + u[5][2] + p"
   ]
  },
  {
   "cell_type": "code",
   "execution_count": null,
   "id": "5b5e5649-447a-43e0-a59d-2656eb1472cf",
   "metadata": {},
   "outputs": [],
   "source": [
    "R(z[10].polynomial()).divides(R(p.polynomial()))"
   ]
  },
  {
   "cell_type": "code",
   "execution_count": null,
   "id": "56599ad1-d0d7-4fd2-8382-7055f64af591",
   "metadata": {},
   "outputs": [],
   "source": [
    "R.__class__"
   ]
  },
  {
   "cell_type": "code",
   "execution_count": null,
   "id": "66e1fa34-c8d4-4978-971d-b85880aa00f7",
   "metadata": {},
   "outputs": [],
   "source": [
    "R(p.polynomial())"
   ]
  },
  {
   "cell_type": "code",
   "execution_count": null,
   "id": "45d87d71-29e2-4e4a-bfbf-1201377ba63b",
   "metadata": {},
   "outputs": [],
   "source": [
    "p.degree(u[5][7])"
   ]
  },
  {
   "cell_type": "code",
   "execution_count": null,
   "id": "0dfb90a4-2857-47bb-92a4-d95ceb38d65c",
   "metadata": {},
   "outputs": [],
   "source": [
    "R(p.polynomial()).degree(R(z[10].polynomial()))"
   ]
  },
  {
   "cell_type": "code",
   "execution_count": null,
   "id": "ed9c2f03-e9ca-4ab5-9e3a-57d61c07cc75",
   "metadata": {},
   "outputs": [],
   "source": []
  }
 ],
 "metadata": {
  "kernelspec": {
   "display_name": "SageMath 9.7",
   "language": "sage",
   "name": "sagemath"
  },
  "language_info": {
   "codemirror_mode": {
    "name": "ipython",
    "version": 3
   },
   "file_extension": ".py",
   "mimetype": "text/x-python",
   "name": "python",
   "nbconvert_exporter": "python",
   "pygments_lexer": "ipython3",
   "version": "3.10.5"
  }
 },
 "nbformat": 4,
 "nbformat_minor": 5
}
