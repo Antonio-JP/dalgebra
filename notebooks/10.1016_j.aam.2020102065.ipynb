{
 "cells": [
  {
   "cell_type": "markdown",
   "id": "009091c1-f3c4-4e4f-b215-48a2fdc72f90",
   "metadata": {},
   "source": [
    "# **Examples from https://doi.org/10.1016/j.aam.2020.102065** $\\newcommand{\\kdv}{\\text{kdv}}$\n",
    "\n",
    "In this notebook we will simulate the computations within the article https://doi.org/10.1016/j.aam.2020.102065 using the software `dalgebra`. This will be useful as a demonstration on how to use the software, a testing on the capabilities of the software and a chance to explore future features for the software.\n",
    "\n",
    "For each example we will include the following:\n",
    "* Small introduction to the problem.\n",
    "* A cell wsetting up the framework for the example.\n",
    "* A sequence of cells and texts developing the computations of the example.\n",
    "* A last sentence with the conclusion or how to interpret the result."
   ]
  },
  {
   "cell_type": "code",
   "execution_count": 1,
   "id": "21f17ab9-9a1a-420d-aa5f-3d3f6c2c3e9c",
   "metadata": {},
   "outputs": [],
   "source": [
    "import sys; sys.path.insert(0, \"..\") # dalgebra is here -- comment for installed version\n",
    "\n",
    "%display latex\n",
    "from dalgebra import *\n",
    "from functools import lru_cache"
   ]
  },
  {
   "cell_type": "markdown",
   "id": "1379a7c7-eb5c-40eb-ab05-d194431d5f50",
   "metadata": {},
   "source": [
    "## **1. Section 3**"
   ]
  },
  {
   "cell_type": "markdown",
   "id": "6bab9bdf-b6e5-4f59-94a1-425923c19ce8",
   "metadata": {
    "tags": []
   },
   "source": [
    "### The sequence $\\kdv_n$\n",
    "\n",
    "In the article, the $\\kdv_n$ sequence is defined recursively using two pseudo-differential operators:\n",
    "\n",
    "$$\\mathcal{R} = -\\frac{1}{4}\\partial^2 + u + \\frac{1}{2} u' \\partial^{-1},\\qquad \\mathcal{R}^* = -\\frac{1}{4}\\partial^2 + u - \\frac{1}{2}\\partial^{-1} u,$$\n",
    "\n",
    "where $u$ is a differential indeterminate from a differential field $(C,\\partial)$. The inverse operator $\\partial^{-1}$ returns an antiderivative of the input to the operator. This can pose a serious problem because each time we apply it, we obtain a new different constant. Let see if we can express this directly on the system:"
   ]
  },
  {
   "cell_type": "code",
   "execution_count": 10,
   "id": "99d112c1-4b6c-48ec-be75-04adbfd6a18b",
   "metadata": {
    "tags": []
   },
   "outputs": [],
   "source": [
    "#B = DifferentialRing(InfinitePolynomialRing(QQ, \"c\"), lambda p : 0)"
   ]
  },
  {
   "cell_type": "markdown",
   "id": "9833eae3-acfa-4ce4-a772-5c2bd0365d9f",
   "metadata": {},
   "source": [
    "Unfortunately, the ring of infinitely many variables polynomial ring do not have a derivation module implemented. We can consider to implement one ourselves at some point, or simply try and avoid this by creating explicit variables for the integration constants when needed."
   ]
  },
  {
   "cell_type": "code",
   "execution_count": 2,
   "id": "211bdacd-94c8-4f77-9981-7f6535fb34dc",
   "metadata": {},
   "outputs": [],
   "source": [
    "B = DifferentialRing(QQ, lambda p : 0) # change QQ to other polynomial ring with more constants if needed\n",
    "R.<u> = DifferentialPolynomialRing(B)"
   ]
  },
  {
   "cell_type": "markdown",
   "id": "17f64584-1ff4-488d-8435-add804b7a2b7",
   "metadata": {},
   "source": [
    "The $\\kdv_n$ operators are dfeined recursively:\n",
    "$$\\kdv_{n+1} = \\mathcal{R}(\\kdv_n),\\qquad \\kdv_0 = u'.$$\n",
    "On the other hand, we can also define another recurrence using the adjoint operator $\\mathcal{R}^*$:\n",
    "$$v_{n+1} = \\mathcal{R}^*(v_n),\\qquad v_0 = 1.$$\n",
    "\n",
    "It is shown in Equation (6) that these two sequences are related (due to the fact that $\\mathcal{R}$ and $\\mathcal{R}^*$ are adjoints):\n",
    "$$2v_{n+1}' = \\kdv_n.$$\n",
    "\n",
    "In the following cell, we include two methods: the first tries to check whether a polynomial in $C\\{u\\}$ is a total derivative using a recursive elimination approach. The second method computes the application of $\\mathcal{R}^*$ for any element $p(u) \\in C\\{u\\}$ for which we know $u'p(u)$ is a total derivative (i.e., we know of some $a(u) \\in C\\{u\\}$ such that $a'(u) = u'p(u)$."
   ]
  },
  {
   "cell_type": "code",
   "execution_count": 3,
   "id": "82e0cdbb-63e6-49e8-b3ed-8b45a7396772",
   "metadata": {},
   "outputs": [],
   "source": [
    "def is_total_derivative(p, gen = None):\n",
    "    # Getting variables from argument\n",
    "    original = p\n",
    "    R = p.parent(); B = R.base()\n",
    "    if R.noperators() > 1: raise ValueError(f\"Too many operators ({R.noperators()})\")\n",
    "    if not R.is_differential(): raise TypeError(\"Only differential fields are allowed\")\n",
    "    u = R.gen(gen if gen != None else 0)\n",
    "    \n",
    "    a = 0\n",
    "    while(p != 0):\n",
    "        #print(\"**********************************\")\n",
    "        #print(f\"** Remaining polynomial: {p}\\n-- Current antiderivative: {a}\")\n",
    "        order = p.order(u)\n",
    "        #print(f\"** Current order: {order}\")\n",
    "        if p.degree(u[order]) > 1: return False, f\"The degree of the highest derivative is too big ({p.degree(u[p.order(u)])})\"\n",
    "    \n",
    "        ## extracting parts\n",
    "        highest_order = p.coefficient(u[order]); deg_order_1 = highest_order.degree(u[order-1])\n",
    "        cs = [highest_order.coefficient(u[order-1]**i) for i in range(deg_order_1+1)]\n",
    "        order_1_part = sum(cs[i]*u[order-1]**i for i in range(deg_order_1+1))\n",
    "        q1 = highest_order - order_1_part # order q1 < d-1\n",
    "        \n",
    "        #print(f\"    Order = d-1: {order_1_part}\")\n",
    "        #print(f\"    Order < d-1: {q1}\")\n",
    "        new_a = sum(cs[i]*(1/(i+1)) * u[order-1]**(i+1) for i in range(deg_order_1+1)) + u[order-1]*q1\n",
    "        p -= new_a.derivative()\n",
    "        a += new_a\n",
    "        \n",
    "    assert a.derivative() == original\n",
    "    return True, a\n",
    "\n",
    "def apply_Rs(p, a, gen=0):\n",
    "    r'''a' = u'*p'''\n",
    "    R = p.parent(); u = R.gen(gen)\n",
    "    new_p = -(1/4)*p.derivative(times=2) + u[0]*p - (1/2)*a\n",
    "    is_total, new_a = is_total_derivative(u[1]*new_p, gen)\n",
    "    if is_total:\n",
    "        return new_p, new_a\n",
    "    else:\n",
    "        raise ValueError(f\"u'P is not a total derivative: {new_a}\")    \n",
    "    return new_p, new_a"
   ]
  },
  {
   "cell_type": "markdown",
   "id": "414f1831-c39a-4852-94c1-9c83c9aedb79",
   "metadata": {},
   "source": [
    "Hence, we can now compute the $\\kdv_n$ sequence:"
   ]
  },
  {
   "cell_type": "code",
   "execution_count": 4,
   "id": "df68e8f8-ce55-454d-9654-1d0f3ed728ee",
   "metadata": {},
   "outputs": [],
   "source": [
    "@lru_cache(maxsize=None)\n",
    "def Rs(p,a,times=1):\n",
    "    if times == 1:\n",
    "        return apply_Rs(p,a)\n",
    "    return Rs(*Rs(p,a,times=times-1))\n",
    "\n",
    "@lru_cache(maxsize=None)\n",
    "def v(n):\n",
    "    return Rs(u._parent.one(), u[0], n)[0]\n",
    "\n",
    "@lru_cache(maxsize=None)\n",
    "def kdv(n):\n",
    "    vn1 = v(n+1)\n",
    "    return 2*vn1.derivative()"
   ]
  },
  {
   "cell_type": "code",
   "execution_count": 5,
   "id": "03873856-2df6-4d70-af7b-1cc049e180cc",
   "metadata": {},
   "outputs": [
    {
     "data": {
      "text/html": [
       "<html>\\(\\displaystyle kdv(0) \\longrightarrow 1 u_{1}\\)</html>"
      ],
      "text/latex": [
       "$\\displaystyle kdv(0) \\longrightarrow 1 u_{1}$"
      ],
      "text/plain": [
       "kdv(0) \\longrightarrow 1 u_{1}"
      ]
     },
     "metadata": {},
     "output_type": "display_data"
    },
    {
     "data": {
      "text/html": [
       "<html>\\(\\displaystyle kdv(1) \\longrightarrow \\frac{3}{2} u_{1} u_{0} + \\left(-\\frac{1}{4}\\right) u_{3}\\)</html>"
      ],
      "text/latex": [
       "$\\displaystyle kdv(1) \\longrightarrow \\frac{3}{2} u_{1} u_{0} + \\left(-\\frac{1}{4}\\right) u_{3}$"
      ],
      "text/plain": [
       "kdv(1) \\longrightarrow \\frac{3}{2} u_{1} u_{0} + \\left(-\\frac{1}{4}\\right) u_{3}"
      ]
     },
     "metadata": {},
     "output_type": "display_data"
    },
    {
     "data": {
      "text/html": [
       "<html>\\(\\displaystyle kdv(2) \\longrightarrow \\frac{15}{8} u_{1} u_{0}^{2} + \\left(-\\frac{5}{8}\\right) u_{3} u_{0} + \\left(-\\frac{5}{4}\\right) u_{2} u_{1} + \\frac{1}{16} u_{5}\\)</html>"
      ],
      "text/latex": [
       "$\\displaystyle kdv(2) \\longrightarrow \\frac{15}{8} u_{1} u_{0}^{2} + \\left(-\\frac{5}{8}\\right) u_{3} u_{0} + \\left(-\\frac{5}{4}\\right) u_{2} u_{1} + \\frac{1}{16} u_{5}$"
      ],
      "text/plain": [
       "kdv(2) \\longrightarrow \\frac{15}{8} u_{1} u_{0}^{2} + \\left(-\\frac{5}{8}\\right) u_{3} u_{0} + \\left(-\\frac{5}{4}\\right) u_{2} u_{1} + \\frac{1}{16} u_{5}"
      ]
     },
     "metadata": {},
     "output_type": "display_data"
    },
    {
     "data": {
      "text/html": [
       "<html>\\(\\displaystyle kdv(3) \\longrightarrow \\frac{35}{16} u_{1} u_{0}^{3} + \\left(-\\frac{35}{32}\\right) u_{3} u_{0}^{2} + \\left(-\\frac{35}{8}\\right) u_{2} u_{1} u_{0} + \\left(-\\frac{35}{32}\\right) u_{1}^{3} + \\frac{7}{32} u_{5} u_{0} + \\frac{21}{32} u_{4} u_{1} + \\frac{35}{32} u_{3} u_{2} + \\left(-\\frac{1}{64}\\right) u_{7}\\)</html>"
      ],
      "text/latex": [
       "$\\displaystyle kdv(3) \\longrightarrow \\frac{35}{16} u_{1} u_{0}^{3} + \\left(-\\frac{35}{32}\\right) u_{3} u_{0}^{2} + \\left(-\\frac{35}{8}\\right) u_{2} u_{1} u_{0} + \\left(-\\frac{35}{32}\\right) u_{1}^{3} + \\frac{7}{32} u_{5} u_{0} + \\frac{21}{32} u_{4} u_{1} + \\frac{35}{32} u_{3} u_{2} + \\left(-\\frac{1}{64}\\right) u_{7}$"
      ],
      "text/plain": [
       "kdv(3) \\longrightarrow \\frac{35}{16} u_{1} u_{0}^{3} + \\left(-\\frac{35}{32}\\right) u_{3} u_{0}^{2} + \\left(-\\frac{35}{8}\\right) u_{2} u_{1} u_{0} + \\left(-\\frac{35}{32}\\right) u_{1}^{3} + \\frac{7}{32} u_{5} u_{0} + \\frac{21}{32} u_{4} u_{1} + \\frac{35}{32} u_{3} u_{2} + \\left(-\\frac{1}{64}\\right) u_{7}"
      ]
     },
     "metadata": {},
     "output_type": "display_data"
    }
   ],
   "source": [
    "show(r\"kdv(0) \\longrightarrow \" + latex(kdv(0)))\n",
    "show(r\"kdv(1) \\longrightarrow \" + latex(kdv(1)))\n",
    "show(r\"kdv(2) \\longrightarrow \" + latex(kdv(2)))\n",
    "show(r\"kdv(3) \\longrightarrow \" + latex(kdv(3)))"
   ]
  },
  {
   "cell_type": "markdown",
   "id": "9f50d650-6a87-47e5-8e27-ce8ecdb12c6d",
   "metadata": {
    "tags": []
   },
   "source": [
    "### The Schrödinger operators\n",
    "\n",
    "The $\\kdv_n$ and $v_n$ sequences are useful to define some differential operators that will be related with the Schrödinger operator $L_u = L = -\\partial^2 + u$. We see that to define this operator, we need two differential variables: $y$ will denote the solution to the operator and $u$ will be an arbitrary differential variable."
   ]
  },
  {
   "cell_type": "code",
   "execution_count": 6,
   "id": "48f0fa88-f85b-4a0d-b128-f9e90024590f",
   "metadata": {},
   "outputs": [
    {
     "data": {
      "text/html": [
       "<html>\\(\\displaystyle \\newcommand{\\Bold}[1]{\\mathbf{#1}}\\left(\\Bold{Q}, 0\\right) \\{ u, y \\}\\)</html>"
      ],
      "text/latex": [
       "$\\displaystyle \\newcommand{\\Bold}[1]{\\mathbf{#1}}\\left(\\Bold{Q}, 0\\right) \\{ u, y \\}$"
      ],
      "text/plain": [
       "Ring of operator polynomials in (u, y) over Differential Ring [[Rational Field], (0,)]"
      ]
     },
     "metadata": {},
     "output_type": "display_data"
    },
    {
     "data": {
      "text/html": [
       "<html>\\(\\displaystyle L \\mapsto 1 u_{0} y_{0} - y_{2}\\)</html>"
      ],
      "text/latex": [
       "$\\displaystyle L \\mapsto 1 u_{0} y_{0} - y_{2}$"
      ],
      "text/plain": [
       "L \\mapsto 1 u_{0} y_{0} - y_{2}"
      ]
     },
     "metadata": {},
     "output_type": "display_data"
    }
   ],
   "source": [
    "SchR.<u,y> = DifferentialPolynomialRing(QQ); show(SchR)\n",
    "L = -y[2] + u[0]*y[0]; show(r\"L \\mapsto \" + latex(L))"
   ]
  },
  {
   "cell_type": "markdown",
   "id": "436b2f8a-6f3e-4919-97b1-f1a072c622b4",
   "metadata": {},
   "source": [
    "For the operator $L_u$, we will define a sequence of odd order operators $P_{2n+1}$ that will commute with $L$. This sequence of operators are defined recursively using also the sequence $v_n$ and the operator $L$:"
   ]
  },
  {
   "cell_type": "code",
   "execution_count": 7,
   "id": "e2d02c26-31be-4ec6-a593-8882f0f3f664",
   "metadata": {},
   "outputs": [],
   "source": [
    "@lru_cache(maxsize=None)\n",
    "def P_odd(n):\n",
    "    r'''Computes P_{2n+1}'''\n",
    "    if n == 0: # return $P_1$\n",
    "        return y[1]\n",
    "    else:\n",
    "        vn = v(n)\n",
    "        return vn*y[1] - (1/2)*vn.derivative()*y[0] + P_odd(n-1)(y=L)"
   ]
  },
  {
   "cell_type": "code",
   "execution_count": 8,
   "id": "f7a6f721-0372-4411-bc86-0f7169e980cb",
   "metadata": {},
   "outputs": [
    {
     "data": {
      "text/html": [
       "<html>\\(\\displaystyle P_1 \\mapsto 1 y_{1}\\)</html>"
      ],
      "text/latex": [
       "$\\displaystyle P_1 \\mapsto 1 y_{1}$"
      ],
      "text/plain": [
       "P_1 \\mapsto 1 y_{1}"
      ]
     },
     "metadata": {},
     "output_type": "display_data"
    },
    {
     "data": {
      "text/html": [
       "<html>\\(\\displaystyle P_3 \\mapsto \\frac{3}{4} u_{1} y_{0} + \\frac{3}{2} u_{0} y_{1} - y_{3}\\)</html>"
      ],
      "text/latex": [
       "$\\displaystyle P_3 \\mapsto \\frac{3}{4} u_{1} y_{0} + \\frac{3}{2} u_{0} y_{1} - y_{3}$"
      ],
      "text/plain": [
       "P_3 \\mapsto \\frac{3}{4} u_{1} y_{0} + \\frac{3}{2} u_{0} y_{1} - y_{3}"
      ]
     },
     "metadata": {},
     "output_type": "display_data"
    },
    {
     "data": {
      "text/html": [
       "<html>\\(\\displaystyle P_5 \\mapsto \\frac{15}{8} u_{1} u_{0} y_{0} + \\frac{15}{8} u_{0}^{2} y_{1} + \\left(-\\frac{15}{16}\\right) u_{3} y_{0} + \\left(-\\frac{25}{8}\\right) u_{2} y_{1} + \\left(-\\frac{15}{4}\\right) u_{1} y_{2} + \\left(-\\frac{5}{2}\\right) u_{0} y_{3} + 1 y_{5}\\)</html>"
      ],
      "text/latex": [
       "$\\displaystyle P_5 \\mapsto \\frac{15}{8} u_{1} u_{0} y_{0} + \\frac{15}{8} u_{0}^{2} y_{1} + \\left(-\\frac{15}{16}\\right) u_{3} y_{0} + \\left(-\\frac{25}{8}\\right) u_{2} y_{1} + \\left(-\\frac{15}{4}\\right) u_{1} y_{2} + \\left(-\\frac{5}{2}\\right) u_{0} y_{3} + 1 y_{5}$"
      ],
      "text/plain": [
       "P_5 \\mapsto \\frac{15}{8} u_{1} u_{0} y_{0} + \\frac{15}{8} u_{0}^{2} y_{1} + \\left(-\\frac{15}{16}\\right) u_{3} y_{0} + \\left(-\\frac{25}{8}\\right) u_{2} y_{1} + \\left(-\\frac{15}{4}\\right) u_{1} y_{2} + \\left(-\\frac{5}{2}\\right) u_{0} y_{3} + 1 y_{5}"
      ]
     },
     "metadata": {},
     "output_type": "display_data"
    },
    {
     "data": {
      "text/html": [
       "<html>\\(\\displaystyle P_7 \\mapsto \\frac{105}{32} u_{1} u_{0}^{2} y_{0} + \\frac{35}{16} u_{0}^{3} y_{1} + \\left(-\\frac{105}{32}\\right) u_{3} u_{0} y_{0} + \\left(-\\frac{105}{16}\\right) u_{2} u_{1} y_{0} + \\left(-\\frac{175}{16}\\right) u_{2} u_{0} y_{1} + \\left(-\\frac{245}{32}\\right) u_{1}^{2} y_{1} + \\left(-\\frac{105}{8}\\right) u_{1} u_{0} y_{2} + \\left(-\\frac{35}{8}\\right) u_{0}^{2} y_{3} + \\frac{63}{64} u_{5} y_{0} + \\frac{161}{32} u_{4} y_{1} + \\frac{175}{16} u_{3} y_{2} + \\frac{105}{8} u_{2} y_{3} + \\frac{35}{4} u_{1} y_{4} + \\frac{7}{2} u_{0} y_{5} - y_{7}\\)</html>"
      ],
      "text/latex": [
       "$\\displaystyle P_7 \\mapsto \\frac{105}{32} u_{1} u_{0}^{2} y_{0} + \\frac{35}{16} u_{0}^{3} y_{1} + \\left(-\\frac{105}{32}\\right) u_{3} u_{0} y_{0} + \\left(-\\frac{105}{16}\\right) u_{2} u_{1} y_{0} + \\left(-\\frac{175}{16}\\right) u_{2} u_{0} y_{1} + \\left(-\\frac{245}{32}\\right) u_{1}^{2} y_{1} + \\left(-\\frac{105}{8}\\right) u_{1} u_{0} y_{2} + \\left(-\\frac{35}{8}\\right) u_{0}^{2} y_{3} + \\frac{63}{64} u_{5} y_{0} + \\frac{161}{32} u_{4} y_{1} + \\frac{175}{16} u_{3} y_{2} + \\frac{105}{8} u_{2} y_{3} + \\frac{35}{4} u_{1} y_{4} + \\frac{7}{2} u_{0} y_{5} - y_{7}$"
      ],
      "text/plain": [
       "P_7 \\mapsto \\frac{105}{32} u_{1} u_{0}^{2} y_{0} + \\frac{35}{16} u_{0}^{3} y_{1} + \\left(-\\frac{105}{32}\\right) u_{3} u_{0} y_{0} + \\left(-\\frac{105}{16}\\right) u_{2} u_{1} y_{0} + \\left(-\\frac{175}{16}\\right) u_{2} u_{0} y_{1} + \\left(-\\frac{245}{32}\\right) u_{1}^{2} y_{1} + \\left(-\\frac{105}{8}\\right) u_{1} u_{0} y_{2} + \\left(-\\frac{35}{8}\\right) u_{0}^{2} y_{3} + \\frac{63}{64} u_{5} y_{0} + \\frac{161}{32} u_{4} y_{1} + \\frac{175}{16} u_{3} y_{2} + \\frac{105}{8} u_{2} y_{3} + \\frac{35}{4} u_{1} y_{4} + \\frac{7}{2} u_{0} y_{5} - y_{7}"
      ]
     },
     "metadata": {},
     "output_type": "display_data"
    }
   ],
   "source": [
    "show(r\"P_1 \\mapsto \" + latex(P_odd(0)))\n",
    "show(r\"P_3 \\mapsto \" + latex(P_odd(1)))\n",
    "show(r\"P_5 \\mapsto \" + latex(P_odd(2)))\n",
    "show(r\"P_7 \\mapsto \" + latex(P_odd(3)))"
   ]
  },
  {
   "cell_type": "markdown",
   "id": "2d68e3d3-1a59-45a5-9af7-4cc857106c6a",
   "metadata": {},
   "source": [
    "It is here when the key property between the Schrödinger operator $L_u$ and the operators $P_{2n+1}$ comes into place (written in Lemma 3.2):\n",
    "$$[P_{2n+1}, L] = \\kdv_n$$"
   ]
  },
  {
   "cell_type": "code",
   "execution_count": 9,
   "id": "5876d4c5-55fd-431d-907f-3d10c7199a51",
   "metadata": {},
   "outputs": [
    {
     "name": "stdout",
     "output_type": "stream",
     "text": [
      "CPU times: user 1min 33s, sys: 184 ms, total: 1min 34s\n",
      "Wall time: 1min 34s\n"
     ]
    },
    {
     "data": {
      "text/html": [
       "<html>\\(\\displaystyle \\left[\\left(1, \\mathrm{True}\\right), \\left(3, \\mathrm{True}\\right), \\left(5, \\mathrm{True}\\right), \\left(7, \\mathrm{True}\\right), \\left(9, \\mathrm{True}\\right), \\left(11, \\mathrm{True}\\right), \\left(13, \\mathrm{True}\\right), \\left(15, \\mathrm{True}\\right), \\left(17, \\mathrm{True}\\right), \\left(19, \\mathrm{True}\\right)\\right]\\)</html>"
      ],
      "text/latex": [
       "$\\displaystyle \\left[\\left(1, \\mathrm{True}\\right), \\left(3, \\mathrm{True}\\right), \\left(5, \\mathrm{True}\\right), \\left(7, \\mathrm{True}\\right), \\left(9, \\mathrm{True}\\right), \\left(11, \\mathrm{True}\\right), \\left(13, \\mathrm{True}\\right), \\left(15, \\mathrm{True}\\right), \\left(17, \\mathrm{True}\\right), \\left(19, \\mathrm{True}\\right)\\right]$"
      ],
      "text/plain": [
       "[(1, True),\n",
       " (3, True),\n",
       " (5, True),\n",
       " (7, True),\n",
       " (9, True),\n",
       " (11, True),\n",
       " (13, True),\n",
       " (15, True),\n",
       " (17, True),\n",
       " (19, True)]"
      ]
     },
     "execution_count": 9,
     "metadata": {},
     "output_type": "execute_result"
    }
   ],
   "source": [
    "%%time\n",
    "[\n",
    "    (2*i+1,(P_odd(i)(y=L) - L(y=P_odd(i))) == kdv(i)*y[0]) # we divide by y_0 to see clearly the kdv formula from before.\n",
    "    for i in range(10)\n",
    "]"
   ]
  },
  {
   "cell_type": "markdown",
   "id": "8d67e379-16dc-449d-8a62-7ca7b5f63fac",
   "metadata": {},
   "source": [
    "TODO: Continue after Lemma 3.2"
   ]
  },
  {
   "cell_type": "markdown",
   "id": "d3abbb2d-21b0-4f66-9371-91868e86625a",
   "metadata": {},
   "source": [
    "### Example 3.3: Differential Sylvester resultant\n",
    "\n",
    "In Example 3.3 of the article, a generic resultant is computed for two differential polynomials. We can reproduce that computation with this software:"
   ]
  },
  {
   "cell_type": "code",
   "execution_count": 24,
   "id": "f5057566-8f17-4e1e-bf44-49aec47050ce",
   "metadata": {},
   "outputs": [],
   "source": [
    "T.<a0,a1,a2,b0,b1,b2,b3,d> = DifferentialPolynomialRing(QQ)\n",
    "P1 = a2[0]*d[2] + a1[0]*d[1] + a0[0]*d[0]; P2 = b3[0]*d[3] + b2[0]*d[2] + b1[0]*d[1] + b0[0]*d[0]"
   ]
  },
  {
   "cell_type": "code",
   "execution_count": 26,
   "id": "df5a6bf5-9586-4f26-9cb4-e97e25ef93b8",
   "metadata": {},
   "outputs": [],
   "source": [
    "P1_syl_P2 = P1.sylvester_resultant(P2, d)"
   ]
  },
  {
   "cell_type": "code",
   "execution_count": 31,
   "id": "bf4695f1-16dc-42c0-a15e-77bc93837a6a",
   "metadata": {},
   "outputs": [
    {
     "name": "stdout",
     "output_type": "stream",
     "text": [
      "a0_2*a0_0*a2_0*b3_0^2 --> -1\n",
      "a0_2*a1_1*a2_0*b3_0^2 --> -1\n",
      "a0_2*a1_0^2*b3_0^2 --> 1\n",
      "a0_2*a1_0*a2_1*b3_0^2 --> 1\n",
      "a0_2*a1_0*a2_0*b2_0*b3_0 --> -1\n",
      "a0_2*a2_0^2*b1_0*b3_0 --> 1\n",
      "a0_1^2*a2_0*b3_0^2 --> 2\n",
      "a0_1*a0_0*a1_0*b3_0^2 --> -3\n",
      "a0_1*a0_0*a2_1*b3_0^2 --> -2\n",
      "a0_1*a0_0*a2_0*b2_0*b3_0 --> 2\n",
      "a0_1*a1_2*a2_0*b3_0^2 --> 1\n",
      "a0_1*a1_1*a1_0*b3_0^2 --> -2\n",
      "a0_1*a1_0^2*b2_0*b3_0 --> 1\n",
      "a0_1*a1_0*a2_2*b3_0^2 --> -1\n",
      "a0_1*a1_0*a2_1*b2_0*b3_0 --> 2\n",
      "a0_1*a1_0*a2_0*b2_1*b3_0 --> 1\n",
      "a0_1*a1_0*a2_0*b2_0^2 --> -1\n",
      "a0_1*a1_0*a2_0*b2_0*b3_1 --> -1\n",
      "a0_1*a2_1*a2_0*b1_0*b3_0 --> -2\n",
      "a0_1*a2_0^2*b0_0*b3_0 --> -3\n",
      "a0_1*a2_0^2*b1_1*b3_0 --> -1\n",
      "a0_1*a2_0^2*b1_0*b2_0 --> 1\n",
      "a0_1*a2_0^2*b1_0*b3_1 --> 1\n",
      "a0_0^3*b3_0^2 --> 1\n",
      "a0_0^2*a1_1*b3_0^2 --> 3\n",
      "a0_0^2*a1_0*b2_0*b3_0 --> -1\n",
      "a0_0^2*a2_2*b3_0^2 --> 1\n",
      "a0_0^2*a2_1*b2_0*b3_0 --> -2\n",
      "a0_0^2*a2_0*b1_0*b3_0 --> -2\n",
      "a0_0^2*a2_0*b2_1*b3_0 --> -1\n",
      "a0_0^2*a2_0*b2_0^2 --> 1\n",
      "a0_0^2*a2_0*b2_0*b3_1 --> 1\n",
      "a0_0*a1_2*a1_0*b3_0^2 --> -1\n",
      "a0_0*a1_2*a2_1*b3_0^2 --> -1\n",
      "a0_0*a1_2*a2_0*b2_0*b3_0 --> 1\n",
      "a0_0*a1_1^2*b3_0^2 --> 2\n",
      "a0_0*a1_1*a1_0*b2_0*b3_0 --> -1\n",
      "a0_0*a1_1*a2_2*b3_0^2 --> 1\n",
      "a0_0*a1_1*a2_1*b2_0*b3_0 --> -2\n",
      "a0_0*a1_1*a2_0*b1_0*b3_0 --> -3\n",
      "a0_0*a1_1*a2_0*b2_1*b3_0 --> -1\n",
      "a0_0*a1_1*a2_0*b2_0^2 --> 1\n",
      "a0_0*a1_1*a2_0*b2_0*b3_1 --> 1\n",
      "a0_0*a1_0^2*b1_0*b3_0 --> 1\n",
      "a0_0*a1_0*a2_1*b1_0*b3_0 --> 3\n",
      "a0_0*a1_0*a2_0*b0_0*b3_0 --> 3\n",
      "a0_0*a1_0*a2_0*b1_1*b3_0 --> 1\n",
      "a0_0*a1_0*a2_0*b1_0*b2_0 --> -1\n",
      "a0_0*a1_0*a2_0*b1_0*b3_1 --> -1\n",
      "a0_0*a2_2*a2_0*b1_0*b3_0 --> -1\n",
      "a0_0*a2_1^2*b1_0*b3_0 --> 2\n",
      "a0_0*a2_1*a2_0*b0_0*b3_0 --> 3\n",
      "a0_0*a2_1*a2_0*b1_1*b3_0 --> 1\n",
      "a0_0*a2_1*a2_0*b1_0*b2_0 --> -1\n",
      "a0_0*a2_1*a2_0*b1_0*b3_1 --> -1\n",
      "a0_0*a2_0^2*b0_1*b3_0 --> 1\n",
      "a0_0*a2_0^2*b0_0*b2_0 --> -2\n",
      "a0_0*a2_0^2*b0_0*b3_1 --> -1\n",
      "a0_0*a2_0^2*b1_1*b2_0 --> -1\n",
      "a0_0*a2_0^2*b1_0^2 --> 1\n",
      "a0_0*a2_0^2*b1_0*b2_1 --> 1\n",
      "a1_2*a2_0^2*b0_0*b3_0 --> -1\n",
      "a1_1*a1_0*a2_0*b0_0*b3_0 --> 3\n",
      "a1_1*a2_1*a2_0*b0_0*b3_0 --> 2\n",
      "a1_1*a2_0^2*b0_1*b3_0 --> 1\n",
      "a1_1*a2_0^2*b0_0*b2_0 --> -1\n",
      "a1_1*a2_0^2*b0_0*b3_1 --> -1\n",
      "a1_0^3*b0_0*b3_0 --> -1\n",
      "a1_0^2*a2_1*b0_0*b3_0 --> -3\n",
      "a1_0^2*a2_0*b0_1*b3_0 --> -1\n",
      "a1_0^2*a2_0*b0_0*b2_0 --> 1\n",
      "a1_0^2*a2_0*b0_0*b3_1 --> 1\n",
      "a1_0*a2_2*a2_0*b0_0*b3_0 --> 1\n",
      "a1_0*a2_1^2*b0_0*b3_0 --> -2\n",
      "a1_0*a2_1*a2_0*b0_1*b3_0 --> -1\n",
      "a1_0*a2_1*a2_0*b0_0*b2_0 --> 1\n",
      "a1_0*a2_1*a2_0*b0_0*b3_1 --> 1\n",
      "a1_0*a2_0^2*b0_1*b2_0 --> 1\n",
      "a1_0*a2_0^2*b0_0*b1_0 --> -1\n",
      "a1_0*a2_0^2*b0_0*b2_1 --> -1\n",
      "a2_0^3*b0_1*b1_0 --> -1\n",
      "a2_0^3*b0_0^2 --> 1\n",
      "a2_0^3*b0_0*b1_1 --> 1\n"
     ]
    }
   ],
   "source": [
    "for c,m in zip(P1_syl_P2.coefficients(), P1_syl_P2.monomials()):\n",
    "    print(f\"{m} --> {c}\")"
   ]
  },
  {
   "cell_type": "code",
   "execution_count": null,
   "id": "f69a803c-992b-4c0f-baf1-d37eeff99310",
   "metadata": {},
   "outputs": [],
   "source": []
  }
 ],
 "metadata": {
  "kernelspec": {
   "display_name": "SageMath 9.7",
   "language": "sage",
   "name": "sagemath"
  },
  "language_info": {
   "codemirror_mode": {
    "name": "ipython",
    "version": 3
   },
   "file_extension": ".py",
   "mimetype": "text/x-python",
   "name": "python",
   "nbconvert_exporter": "python",
   "pygments_lexer": "ipython3",
   "version": "3.10.5"
  }
 },
 "nbformat": 4,
 "nbformat_minor": 5
}
