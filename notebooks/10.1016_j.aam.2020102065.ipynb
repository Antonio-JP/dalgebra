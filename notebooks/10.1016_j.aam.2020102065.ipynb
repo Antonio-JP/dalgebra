{
 "cells": [
  {
   "attachments": {},
   "cell_type": "markdown",
   "id": "009091c1-f3c4-4e4f-b215-48a2fdc72f90",
   "metadata": {},
   "source": [
    "# **Examples from https://doi.org/10.1016/j.aam.2020.102065** \n",
    "$\\newcommand{\\kdv}{\\text{kdv}}\\newcommand{\\KdV}{\\mathbf{\\text{KdV}}}$\n",
    "In this notebook we will simulate the computations within the article https://doi.org/10.1016/j.aam.2020.102065 using the software `dalgebra`. This will be useful as a demonstration on how to use the software, a testing on the capabilities of the software and a chance to explore future features for the software.\n",
    "\n",
    "For each example we will include the following:\n",
    "* Small introduction to the problem.\n",
    "* A cell setting up the framework for the example.\n",
    "* A sequence of cells and texts developing the computations of the example.\n",
    "* A last sentence with the conclusion or how to interpret the result."
   ]
  },
  {
   "cell_type": "code",
   "execution_count": 1,
   "id": "21f17ab9-9a1a-420d-aa5f-3d3f6c2c3e9c",
   "metadata": {},
   "outputs": [],
   "source": [
    "import sys; sys.path.insert(0, \"..\") # dalgebra is here -- comment for installed version\n",
    "\n",
    "%display latex\n",
    "from functools import lru_cache\n",
    "from sage.categories.pushout import pushout\n",
    "from sage.rings.polynomial.polynomial_ring import is_PolynomialRing\n",
    "from sage.rings.polynomial.multi_polynomial_ring import is_MPolynomialRing\n",
    "\n",
    "from dalgebra import *\n",
    "from dalgebra.ring_w_operator import RingWithOperators_Wrapper, SkewMap\n",
    "from dalgebra.rwo_polynomial.rwo_polynomial_element import RWOPolynomialGen"
   ]
  },
  {
   "cell_type": "markdown",
   "id": "051980a3-7f79-477f-ba5c-f59952255380",
   "metadata": {},
   "source": [
    "## **0. General functions**"
   ]
  },
  {
   "cell_type": "markdown",
   "id": "d82ee0dc-9cd3-4706-9db9-8c730db9f614",
   "metadata": {},
   "source": [
    "In this section we include some cells with functionality that will be used later in the notebook.\n",
    "\n",
    "This part can be considered to be pushed into a more general framework and added into the main code of the software."
   ]
  },
  {
   "cell_type": "code",
   "execution_count": 2,
   "id": "500825b6-c8cc-440a-b89f-018695fdb67e",
   "metadata": {},
   "outputs": [],
   "source": [
    "def commutator(op1, op2, gen):\n",
    "    r'''Return the commutator ``[op1,op2]``'''\n",
    "    R = pushout(op1.parent(), op2.parent())\n",
    "    op1 = R(op1); op2 = R(op2)\n",
    "    if isinstance(gen, RWOPolynomialGen):\n",
    "        gen = gen.variable_name()\n",
    "    elif gen in ZZ:\n",
    "        gen = R.variable_names()[gen]\n",
    "    elif not isinstance(gen, str):\n",
    "        raise TypeError(\"Generator must be a RWOPolynomialGen, a integer or a string with the name\")\n",
    "\n",
    "    if not gen in R.variable_names():\n",
    "        raise ValueError(\"The given variable is not in the ring of the operators\")\n",
    "    \n",
    "    return op1(**{gen : op2}) - op2(**{gen : op1})    "
   ]
  },
  {
   "cell_type": "code",
   "execution_count": 3,
   "id": "9b36af0e-63e8-46c3-a94f-df03361d85ea",
   "metadata": {},
   "outputs": [],
   "source": [
    "def __create_constants_as_polys(B, names):\n",
    "    if not B in RingsWithOperators():\n",
    "        raise TypeError(\"We require a ring with operators\")\n",
    "    if B.noperators() > 1:\n",
    "        raise ValueError(\"We only allow one operator to be extended\")\n",
    "    if not isinstance(B, RingWithOperators_Wrapper):\n",
    "        raise NotImplementedError(\"Only extending wrappers of known rings\")\n",
    "    old_d = B.operators()[0]\n",
    "    ttype = B.operator_types()[0]\n",
    "    if ttype == \"none\": raise ValueError(\"The given operator is not recognized --> impossible to detect constants\")\n",
    "    \n",
    "    bB = B.wrapped\n",
    "    if is_PolynomialRing(bB) or is_MPolynomialRing(bB):\n",
    "        # We need to extend the variables and the derivation\n",
    "        old_gens = [str(g) for g in bB.gens()]\n",
    "        aux = PolynomialRing(bB, names); nB = aux.flattening_morphism().codomain()\n",
    "        if ttype == \"homomorphism\":\n",
    "            new_d = nB.Hom(nB)([nB(old_d.function(bB(str(g)))) if str(g) in old_gens else g for g in nB.gens()])\n",
    "        elif ttype == \"derivation\":\n",
    "            new_d = nB.derivation_module()(old_d.function.function.list() + [0 for _ in range(len(names))])\n",
    "        elif ttype == \"skew\":\n",
    "            new_d = nB.derivation_module(twist=old_d.function.twist)(old_d.function.function.list() + [0 for _ in range(len(names))])\n",
    "        else:\n",
    "            raise ValueError(f\"Weird operator type detected ({ttype})\")\n",
    "    else: # we simply create a polynomial ring\n",
    "        nB = PolynomialRing(bB, names)\n",
    "        if ttype == \"homomorphism\":\n",
    "            new_d = nB.Hom(nB).one()\n",
    "        elif ttype == \"derivation\":\n",
    "            new_d = nB.derivation_module().zero()\n",
    "        elif ttype == \"skew\":\n",
    "            new_d = nB.derivation_module(twist=old_d.function.twist).zero()\n",
    "        else:\n",
    "            raise ValueError(f\"Weird operator type detected ({ttype})\")\n",
    "    \n",
    "    return RingWithOperators(nB, new_d, types=[ttype])        "
   ]
  },
  {
   "cell_type": "markdown",
   "id": "1379a7c7-eb5c-40eb-ab05-d194431d5f50",
   "metadata": {},
   "source": [
    "## **1. Section 3**"
   ]
  },
  {
   "cell_type": "markdown",
   "id": "6bab9bdf-b6e5-4f59-94a1-425923c19ce8",
   "metadata": {
    "tags": []
   },
   "source": [
    "### The sequence $\\kdv_n$\n",
    "\n",
    "In the article, the $\\kdv_n$ sequence is defined recursively using two pseudo-differential operators:\n",
    "\n",
    "$$\\mathcal{R} = -\\frac{1}{4}\\partial^2 + u + \\frac{1}{2} u' \\partial^{-1},\\qquad \\mathcal{R}^* = -\\frac{1}{4}\\partial^2 + u - \\frac{1}{2}\\partial^{-1} u,$$\n",
    "\n",
    "where $u$ is a differential indeterminate from a differential field $(C,\\partial)$. The inverse operator $\\partial^{-1}$ returns an antiderivative of the input to the operator. This can pose a serious problem because each time we apply it, we obtain a new different constant. Let see if we can express this directly on the system:"
   ]
  },
  {
   "cell_type": "code",
   "execution_count": 4,
   "id": "99d112c1-4b6c-48ec-be75-04adbfd6a18b",
   "metadata": {
    "tags": []
   },
   "outputs": [],
   "source": [
    "#B = DifferentialRing(InfinitePolynomialRing(QQ, \"c\"), lambda p : 0)"
   ]
  },
  {
   "cell_type": "markdown",
   "id": "9833eae3-acfa-4ce4-a772-5c2bd0365d9f",
   "metadata": {},
   "source": [
    "Unfortunately, the ring of infinitely many variables polynomial ring do not have a derivation module implemented. We can consider to implement one ourselves at some point, or simply try and avoid this by creating explicit variables for the integration constants when needed."
   ]
  },
  {
   "cell_type": "code",
   "execution_count": 5,
   "id": "211bdacd-94c8-4f77-9981-7f6535fb34dc",
   "metadata": {},
   "outputs": [],
   "source": [
    "B = DifferentialRing(QQ, lambda p : 0) # change QQ to other polynomial ring with more constants if needed\n",
    "R.<u> = DifferentialPolynomialRing(B)"
   ]
  },
  {
   "cell_type": "markdown",
   "id": "17f64584-1ff4-488d-8435-add804b7a2b7",
   "metadata": {},
   "source": [
    "The $\\kdv_n$ operators are dfeined recursively:\n",
    "$$\\kdv_{n+1} = \\mathcal{R}(\\kdv_n),\\qquad \\kdv_0 = u'.$$\n",
    "On the other hand, we can also define another recurrence using the adjoint operator $\\mathcal{R}^*$:\n",
    "$$v_{n+1} = \\mathcal{R}^*(v_n),\\qquad v_0 = 1.$$\n",
    "\n",
    "It is shown in Equation (6) that these two sequences are related (due to the fact that $\\mathcal{R}$ and $\\mathcal{R}^*$ are adjoints):\n",
    "$$2v_{n+1}' = \\kdv_n.$$\n",
    "\n",
    "In the following cell, we include two methods: the first tries to check whether a polynomial in $C\\{u\\}$ is a total derivative using a recursive elimination approach. The second method computes the application of $\\mathcal{R}^*$ for any element $p(u) \\in C\\{u\\}$ for which we know $u'p(u)$ is a total derivative (i.e., we know of some $a(u) \\in C\\{u\\}$ such that $a'(u) = u'p(u)$."
   ]
  },
  {
   "cell_type": "code",
   "execution_count": 6,
   "id": "82e0cdbb-63e6-49e8-b3ed-8b45a7396772",
   "metadata": {},
   "outputs": [],
   "source": [
    "def is_total_derivative(p, gen = None):\n",
    "    # Getting variables from argument\n",
    "    original = p\n",
    "    R = p.parent(); B = R.base()\n",
    "    if R.noperators() > 1: raise ValueError(f\"Too many operators ({R.noperators()})\")\n",
    "    if not R.is_differential(): raise TypeError(\"Only differential fields are allowed\")\n",
    "    u = R.gen(gen if gen != None else 0)\n",
    "    \n",
    "    a = 0\n",
    "    while(p != 0):\n",
    "        #print(\"**********************************\")\n",
    "        #print(f\"** Remaining polynomial: {p}\\n-- Current antiderivative: {a}\")\n",
    "        order = p.order(u)\n",
    "        #print(f\"** Current order: {order}\")\n",
    "        if p.degree(u[order]) > 1: return False, f\"The degree of the highest derivative is too big ({p.degree(u[p.order(u)])})\"\n",
    "    \n",
    "        ## extracting parts\n",
    "        highest_order = p.coefficient(u[order]); deg_order_1 = highest_order.degree(u[order-1])\n",
    "        cs = [highest_order.coefficient(u[order-1]**i) for i in range(deg_order_1+1)]\n",
    "        order_1_part = sum(cs[i]*u[order-1]**i for i in range(deg_order_1+1))\n",
    "        q1 = highest_order - order_1_part # order q1 < d-1\n",
    "        \n",
    "        #print(f\"    Order = d-1: {order_1_part}\")\n",
    "        #print(f\"    Order < d-1: {q1}\")\n",
    "        new_a = sum(cs[i]*(1/(i+1)) * u[order-1]**(i+1) for i in range(deg_order_1+1)) + u[order-1]*q1\n",
    "        p -= new_a.derivative()\n",
    "        a += new_a\n",
    "        \n",
    "    assert a.derivative() == original\n",
    "    return True, a\n",
    "\n",
    "def apply_Rs(p, a, gen=0):\n",
    "    r'''a' = u'*p'''\n",
    "    R = p.parent(); u = R.gen(gen)\n",
    "    new_p = -(1/4)*p.derivative(times=2) + u[0]*p - (1/2)*a\n",
    "    is_total, new_a = is_total_derivative(u[1]*new_p, gen)\n",
    "    if is_total:\n",
    "        return new_p, new_a\n",
    "    else:\n",
    "        raise ValueError(f\"u'P is not a total derivative: {new_a}\")    \n",
    "    return new_p, new_a"
   ]
  },
  {
   "cell_type": "markdown",
   "id": "414f1831-c39a-4852-94c1-9c83c9aedb79",
   "metadata": {},
   "source": [
    "Hence, we can now compute the $\\kdv_n$ sequence:"
   ]
  },
  {
   "cell_type": "code",
   "execution_count": 7,
   "id": "df68e8f8-ce55-454d-9654-1d0f3ed728ee",
   "metadata": {},
   "outputs": [],
   "source": [
    "def Rs(p,a,gen=0,times=1):\n",
    "    if times == 1:\n",
    "        return apply_Rs(p,a,gen)\n",
    "    return Rs(*Rs(p,a,gen=gen,times=times-1),gen=gen)\n",
    "\n",
    "@lru_cache(maxsize=None)\n",
    "def v(n, u):\n",
    "    return Rs(u._parent.one(), u[0], u._parent.gens().index(u), n)[0]\n",
    "\n",
    "@lru_cache(maxsize=None)\n",
    "def kdv(n, u):\n",
    "    vn1 = v(n+1, u)\n",
    "    return 2*vn1.derivative()"
   ]
  },
  {
   "cell_type": "code",
   "execution_count": 8,
   "id": "03873856-2df6-4d70-af7b-1cc049e180cc",
   "metadata": {},
   "outputs": [
    {
     "data": {
      "text/html": [
       "<html>\\(\\displaystyle kdv(0) \\longrightarrow 1 u_{1}\\)</html>"
      ],
      "text/latex": [
       "$\\displaystyle kdv(0) \\longrightarrow 1 u_{1}$"
      ],
      "text/plain": [
       "kdv(0) \\longrightarrow 1 u_{1}"
      ]
     },
     "metadata": {},
     "output_type": "display_data"
    },
    {
     "data": {
      "text/html": [
       "<html>\\(\\displaystyle kdv(1) \\longrightarrow \\frac{3}{2} u_{1} u_{0} + \\left(-\\frac{1}{4}\\right) u_{3}\\)</html>"
      ],
      "text/latex": [
       "$\\displaystyle kdv(1) \\longrightarrow \\frac{3}{2} u_{1} u_{0} + \\left(-\\frac{1}{4}\\right) u_{3}$"
      ],
      "text/plain": [
       "kdv(1) \\longrightarrow \\frac{3}{2} u_{1} u_{0} + \\left(-\\frac{1}{4}\\right) u_{3}"
      ]
     },
     "metadata": {},
     "output_type": "display_data"
    },
    {
     "data": {
      "text/html": [
       "<html>\\(\\displaystyle kdv(2) \\longrightarrow \\frac{15}{8} u_{1} u_{0}^{2} + \\left(-\\frac{5}{8}\\right) u_{3} u_{0} + \\left(-\\frac{5}{4}\\right) u_{2} u_{1} + \\frac{1}{16} u_{5}\\)</html>"
      ],
      "text/latex": [
       "$\\displaystyle kdv(2) \\longrightarrow \\frac{15}{8} u_{1} u_{0}^{2} + \\left(-\\frac{5}{8}\\right) u_{3} u_{0} + \\left(-\\frac{5}{4}\\right) u_{2} u_{1} + \\frac{1}{16} u_{5}$"
      ],
      "text/plain": [
       "kdv(2) \\longrightarrow \\frac{15}{8} u_{1} u_{0}^{2} + \\left(-\\frac{5}{8}\\right) u_{3} u_{0} + \\left(-\\frac{5}{4}\\right) u_{2} u_{1} + \\frac{1}{16} u_{5}"
      ]
     },
     "metadata": {},
     "output_type": "display_data"
    },
    {
     "data": {
      "text/html": [
       "<html>\\(\\displaystyle kdv(3) \\longrightarrow \\frac{35}{16} u_{1} u_{0}^{3} + \\left(-\\frac{35}{32}\\right) u_{3} u_{0}^{2} + \\left(-\\frac{35}{8}\\right) u_{2} u_{1} u_{0} + \\left(-\\frac{35}{32}\\right) u_{1}^{3} + \\frac{7}{32} u_{5} u_{0} + \\frac{21}{32} u_{4} u_{1} + \\frac{35}{32} u_{3} u_{2} + \\left(-\\frac{1}{64}\\right) u_{7}\\)</html>"
      ],
      "text/latex": [
       "$\\displaystyle kdv(3) \\longrightarrow \\frac{35}{16} u_{1} u_{0}^{3} + \\left(-\\frac{35}{32}\\right) u_{3} u_{0}^{2} + \\left(-\\frac{35}{8}\\right) u_{2} u_{1} u_{0} + \\left(-\\frac{35}{32}\\right) u_{1}^{3} + \\frac{7}{32} u_{5} u_{0} + \\frac{21}{32} u_{4} u_{1} + \\frac{35}{32} u_{3} u_{2} + \\left(-\\frac{1}{64}\\right) u_{7}$"
      ],
      "text/plain": [
       "kdv(3) \\longrightarrow \\frac{35}{16} u_{1} u_{0}^{3} + \\left(-\\frac{35}{32}\\right) u_{3} u_{0}^{2} + \\left(-\\frac{35}{8}\\right) u_{2} u_{1} u_{0} + \\left(-\\frac{35}{32}\\right) u_{1}^{3} + \\frac{7}{32} u_{5} u_{0} + \\frac{21}{32} u_{4} u_{1} + \\frac{35}{32} u_{3} u_{2} + \\left(-\\frac{1}{64}\\right) u_{7}"
      ]
     },
     "metadata": {},
     "output_type": "display_data"
    }
   ],
   "source": [
    "show(r\"kdv(0) \\longrightarrow \" + latex(kdv(0,u)))\n",
    "show(r\"kdv(1) \\longrightarrow \" + latex(kdv(1,u)))\n",
    "show(r\"kdv(2) \\longrightarrow \" + latex(kdv(2,u)))\n",
    "show(r\"kdv(3) \\longrightarrow \" + latex(kdv(3,u)))"
   ]
  },
  {
   "cell_type": "markdown",
   "id": "9f50d650-6a87-47e5-8e27-ce8ecdb12c6d",
   "metadata": {
    "tags": []
   },
   "source": [
    "### The Schrödinger operators\n",
    "\n",
    "The $\\kdv_n$ and $v_n$ sequences are useful to define some differential operators that will be related with the Schrödinger operator $L_u = L = -\\partial^2 + u$. We see that to define this operator, we need two differential variables: $y$ will denote the solution to the operator and $u$ will be an arbitrary differential variable."
   ]
  },
  {
   "cell_type": "code",
   "execution_count": 9,
   "id": "48f0fa88-f85b-4a0d-b128-f9e90024590f",
   "metadata": {},
   "outputs": [
    {
     "data": {
      "text/html": [
       "<html>\\(\\displaystyle \\newcommand{\\Bold}[1]{\\mathbf{#1}}\\left(\\Bold{Q}, 0\\right) \\{ u, y \\}\\)</html>"
      ],
      "text/latex": [
       "$\\displaystyle \\newcommand{\\Bold}[1]{\\mathbf{#1}}\\left(\\Bold{Q}, 0\\right) \\{ u, y \\}$"
      ],
      "text/plain": [
       "Ring of operator polynomials in (u, y) over Differential Ring [[Rational Field], (0,)]"
      ]
     },
     "metadata": {},
     "output_type": "display_data"
    },
    {
     "data": {
      "text/html": [
       "<html>\\(\\displaystyle L \\mapsto 1 u_{0} y_{0} - y_{2}\\)</html>"
      ],
      "text/latex": [
       "$\\displaystyle L \\mapsto 1 u_{0} y_{0} - y_{2}$"
      ],
      "text/plain": [
       "L \\mapsto 1 u_{0} y_{0} - y_{2}"
      ]
     },
     "metadata": {},
     "output_type": "display_data"
    }
   ],
   "source": [
    "SchR.<u,y> = DifferentialPolynomialRing(QQ); show(SchR)\n",
    "L = -y[2] + u[0]*y[0]; show(r\"L \\mapsto \" + latex(L))"
   ]
  },
  {
   "cell_type": "markdown",
   "id": "436b2f8a-6f3e-4919-97b1-f1a072c622b4",
   "metadata": {},
   "source": [
    "For the operator $L_u$, we will define a sequence of odd order operators $P_{2n+1}$ that will commute with $L$. This sequence of operators are defined recursively using also the sequence $v_n$ and the operator $L$:"
   ]
  },
  {
   "cell_type": "code",
   "execution_count": 10,
   "id": "e2d02c26-31be-4ec6-a593-8882f0f3f664",
   "metadata": {},
   "outputs": [],
   "source": [
    "@lru_cache(maxsize=None)\n",
    "def P_odd(n,u,y,L):\n",
    "    r'''Computes P_{2n+1}'''\n",
    "    if n == 0: # return $P_1$\n",
    "        return y[1]\n",
    "    else:\n",
    "        vn = v(n,u)\n",
    "        return vn*y[1] - (1/2)*vn.derivative()*y[0] + P_odd(n-1, u, y, L)(y=L)"
   ]
  },
  {
   "cell_type": "code",
   "execution_count": 11,
   "id": "f7a6f721-0372-4411-bc86-0f7169e980cb",
   "metadata": {},
   "outputs": [
    {
     "data": {
      "text/html": [
       "<html>\\(\\displaystyle P_1 \\mapsto 1 y_{1}\\)</html>"
      ],
      "text/latex": [
       "$\\displaystyle P_1 \\mapsto 1 y_{1}$"
      ],
      "text/plain": [
       "P_1 \\mapsto 1 y_{1}"
      ]
     },
     "metadata": {},
     "output_type": "display_data"
    },
    {
     "data": {
      "text/html": [
       "<html>\\(\\displaystyle P_3 \\mapsto \\frac{3}{4} u_{1} y_{0} + \\frac{3}{2} u_{0} y_{1} - y_{3}\\)</html>"
      ],
      "text/latex": [
       "$\\displaystyle P_3 \\mapsto \\frac{3}{4} u_{1} y_{0} + \\frac{3}{2} u_{0} y_{1} - y_{3}$"
      ],
      "text/plain": [
       "P_3 \\mapsto \\frac{3}{4} u_{1} y_{0} + \\frac{3}{2} u_{0} y_{1} - y_{3}"
      ]
     },
     "metadata": {},
     "output_type": "display_data"
    },
    {
     "data": {
      "text/html": [
       "<html>\\(\\displaystyle P_5 \\mapsto \\frac{15}{8} u_{1} u_{0} y_{0} + \\frac{15}{8} u_{0}^{2} y_{1} + \\left(-\\frac{15}{16}\\right) u_{3} y_{0} + \\left(-\\frac{25}{8}\\right) u_{2} y_{1} + \\left(-\\frac{15}{4}\\right) u_{1} y_{2} + \\left(-\\frac{5}{2}\\right) u_{0} y_{3} + 1 y_{5}\\)</html>"
      ],
      "text/latex": [
       "$\\displaystyle P_5 \\mapsto \\frac{15}{8} u_{1} u_{0} y_{0} + \\frac{15}{8} u_{0}^{2} y_{1} + \\left(-\\frac{15}{16}\\right) u_{3} y_{0} + \\left(-\\frac{25}{8}\\right) u_{2} y_{1} + \\left(-\\frac{15}{4}\\right) u_{1} y_{2} + \\left(-\\frac{5}{2}\\right) u_{0} y_{3} + 1 y_{5}$"
      ],
      "text/plain": [
       "P_5 \\mapsto \\frac{15}{8} u_{1} u_{0} y_{0} + \\frac{15}{8} u_{0}^{2} y_{1} + \\left(-\\frac{15}{16}\\right) u_{3} y_{0} + \\left(-\\frac{25}{8}\\right) u_{2} y_{1} + \\left(-\\frac{15}{4}\\right) u_{1} y_{2} + \\left(-\\frac{5}{2}\\right) u_{0} y_{3} + 1 y_{5}"
      ]
     },
     "metadata": {},
     "output_type": "display_data"
    },
    {
     "data": {
      "text/html": [
       "<html>\\(\\displaystyle P_7 \\mapsto \\frac{105}{32} u_{1} u_{0}^{2} y_{0} + \\frac{35}{16} u_{0}^{3} y_{1} + \\left(-\\frac{105}{32}\\right) u_{3} u_{0} y_{0} + \\left(-\\frac{105}{16}\\right) u_{2} u_{1} y_{0} + \\left(-\\frac{175}{16}\\right) u_{2} u_{0} y_{1} + \\left(-\\frac{245}{32}\\right) u_{1}^{2} y_{1} + \\left(-\\frac{105}{8}\\right) u_{1} u_{0} y_{2} + \\left(-\\frac{35}{8}\\right) u_{0}^{2} y_{3} + \\frac{63}{64} u_{5} y_{0} + \\frac{161}{32} u_{4} y_{1} + \\frac{175}{16} u_{3} y_{2} + \\frac{105}{8} u_{2} y_{3} + \\frac{35}{4} u_{1} y_{4} + \\frac{7}{2} u_{0} y_{5} - y_{7}\\)</html>"
      ],
      "text/latex": [
       "$\\displaystyle P_7 \\mapsto \\frac{105}{32} u_{1} u_{0}^{2} y_{0} + \\frac{35}{16} u_{0}^{3} y_{1} + \\left(-\\frac{105}{32}\\right) u_{3} u_{0} y_{0} + \\left(-\\frac{105}{16}\\right) u_{2} u_{1} y_{0} + \\left(-\\frac{175}{16}\\right) u_{2} u_{0} y_{1} + \\left(-\\frac{245}{32}\\right) u_{1}^{2} y_{1} + \\left(-\\frac{105}{8}\\right) u_{1} u_{0} y_{2} + \\left(-\\frac{35}{8}\\right) u_{0}^{2} y_{3} + \\frac{63}{64} u_{5} y_{0} + \\frac{161}{32} u_{4} y_{1} + \\frac{175}{16} u_{3} y_{2} + \\frac{105}{8} u_{2} y_{3} + \\frac{35}{4} u_{1} y_{4} + \\frac{7}{2} u_{0} y_{5} - y_{7}$"
      ],
      "text/plain": [
       "P_7 \\mapsto \\frac{105}{32} u_{1} u_{0}^{2} y_{0} + \\frac{35}{16} u_{0}^{3} y_{1} + \\left(-\\frac{105}{32}\\right) u_{3} u_{0} y_{0} + \\left(-\\frac{105}{16}\\right) u_{2} u_{1} y_{0} + \\left(-\\frac{175}{16}\\right) u_{2} u_{0} y_{1} + \\left(-\\frac{245}{32}\\right) u_{1}^{2} y_{1} + \\left(-\\frac{105}{8}\\right) u_{1} u_{0} y_{2} + \\left(-\\frac{35}{8}\\right) u_{0}^{2} y_{3} + \\frac{63}{64} u_{5} y_{0} + \\frac{161}{32} u_{4} y_{1} + \\frac{175}{16} u_{3} y_{2} + \\frac{105}{8} u_{2} y_{3} + \\frac{35}{4} u_{1} y_{4} + \\frac{7}{2} u_{0} y_{5} - y_{7}"
      ]
     },
     "metadata": {},
     "output_type": "display_data"
    }
   ],
   "source": [
    "show(r\"P_1 \\mapsto \" + latex(P_odd(0,u,y,L)))\n",
    "show(r\"P_3 \\mapsto \" + latex(P_odd(1,u,y,L)))\n",
    "show(r\"P_5 \\mapsto \" + latex(P_odd(2,u,y,L)))\n",
    "show(r\"P_7 \\mapsto \" + latex(P_odd(3,u,y,L)))"
   ]
  },
  {
   "cell_type": "markdown",
   "id": "2d68e3d3-1a59-45a5-9af7-4cc857106c6a",
   "metadata": {},
   "source": [
    "It is here when the key property between the Schrödinger operator $L_u$ and the operators $P_{2n+1}$ comes into place (written in Lemma 3.2):\n",
    "$$[P_{2n+1}, L] = \\kdv_n$$"
   ]
  },
  {
   "cell_type": "code",
   "execution_count": 12,
   "id": "5876d4c5-55fd-431d-907f-3d10c7199a51",
   "metadata": {},
   "outputs": [
    {
     "name": "stdout",
     "output_type": "stream",
     "text": [
      "CPU times: user 19.9 s, sys: 129 ms, total: 20 s\n",
      "Wall time: 20 s\n"
     ]
    },
    {
     "data": {
      "text/html": [
       "<html>\\(\\displaystyle \\left[\\left(1, \\mathrm{True}\\right), \\left(3, \\mathrm{True}\\right), \\left(5, \\mathrm{True}\\right), \\left(7, \\mathrm{True}\\right), \\left(9, \\mathrm{True}\\right), \\left(11, \\mathrm{True}\\right), \\left(13, \\mathrm{True}\\right), \\left(15, \\mathrm{True}\\right), \\left(17, \\mathrm{True}\\right), \\left(19, \\mathrm{True}\\right)\\right]\\)</html>"
      ],
      "text/latex": [
       "$\\displaystyle \\left[\\left(1, \\mathrm{True}\\right), \\left(3, \\mathrm{True}\\right), \\left(5, \\mathrm{True}\\right), \\left(7, \\mathrm{True}\\right), \\left(9, \\mathrm{True}\\right), \\left(11, \\mathrm{True}\\right), \\left(13, \\mathrm{True}\\right), \\left(15, \\mathrm{True}\\right), \\left(17, \\mathrm{True}\\right), \\left(19, \\mathrm{True}\\right)\\right]$"
      ],
      "text/plain": [
       "[(1, True),\n",
       " (3, True),\n",
       " (5, True),\n",
       " (7, True),\n",
       " (9, True),\n",
       " (11, True),\n",
       " (13, True),\n",
       " (15, True),\n",
       " (17, True),\n",
       " (19, True)]"
      ]
     },
     "execution_count": 12,
     "metadata": {},
     "output_type": "execute_result"
    }
   ],
   "source": [
    "%%time\n",
    "[\n",
    "    (2*i+1,commutator(P_odd(i,u,y,L), L, y) == kdv(i,u)*y[0]) # we divide by y_0 to see clearly the kdv formula from before.\n",
    "    for i in range(10)\n",
    "]"
   ]
  },
  {
   "cell_type": "markdown",
   "id": "8d67e379-16dc-449d-8a62-7ca7b5f63fac",
   "metadata": {
    "tags": []
   },
   "source": [
    "### The $\\KdV_n$ differential polynomials"
   ]
  },
  {
   "cell_type": "markdown",
   "id": "3edf8521-5796-4600-9576-3f1edff37f64",
   "metadata": {},
   "source": [
    "Right after Lemma 3.2, a new (more complicated notion) is defined: the $\\KdV_n$ differential polynomials are linear combinations of the $\\kdv_n$ polynomials. Since the $\\kdv_n$ differential polynomials have order $n$, then they form a basis (as polynomials) of the space of differential operators. The $\\KdV_n$ sequence represents a recombination of this basis into a new one:\n",
    "$$\\KdV_0 = u',\\qquad \\KdV_n = \\kdv_n + \\sum_{l=0}^{n-1} c_{n-l}\\kdv_l.$$\n",
    "\n",
    "The constants $c_i$ are algebraically independent variables. We can see that, to produce these polynomials we need to know the value of $n$ in order to generate the constants $c_1,\\ldots,c_n$. This makes things slightly mroe complicated, but the following method will provide a solution using the softare in `dalgebra`:"
   ]
  },
  {
   "cell_type": "code",
   "execution_count": 12,
   "id": "1ac6ffb4-16d3-409f-abab-50cdf802ad39",
   "metadata": {},
   "outputs": [],
   "source": [
    "def KdV(n, u):\n",
    "    r'''Produces KdV_n(u,c^n)'''\n",
    "    R = u._parent # this is a ring of differential polynomials\n",
    "    B = R.base() # this is a differential ring (in our case, a Wrapper)\n",
    "    nB = __create_constants_as_polys(B, [f\"c_{i+1}\" for i in range(n)])\n",
    "    cs = [nB(f\"c_{i+1}\") for i in range(n)]\n",
    "    nR = R.change_ring(nB)\n",
    "    nu = nR.gens()[nR.variable_names().index(u.variable_name())]\n",
    "\n",
    "    return kdv(n, nu) + sum(cs[-(l+1)]*kdv(l,nu) for l in range(n))"
   ]
  },
  {
   "cell_type": "code",
   "execution_count": 13,
   "id": "60687c59-9026-4fe0-b6ca-22c18b0ef3bf",
   "metadata": {},
   "outputs": [
    {
     "data": {
      "text/html": [
       "<html>\\(\\displaystyle \\frac{35}{16} u_{1} u_{0}^{3} + \\left(-\\frac{35}{32}\\right) u_{3} u_{0}^{2} + \\left(-\\frac{35}{8}\\right) u_{2} u_{1} u_{0} + \\left(-\\frac{35}{32}\\right) u_{1}^{3} + \\left(\\frac{15}{8} c_{1}\\right) u_{1} u_{0}^{2} + \\frac{7}{32} u_{5} u_{0} + \\frac{21}{32} u_{4} u_{1} + \\frac{35}{32} u_{3} u_{2} + \\left(-\\frac{5}{8} c_{1}\\right) u_{3} u_{0} + \\left(-\\frac{5}{4} c_{1}\\right) u_{2} u_{1} + \\left(\\frac{3}{2} c_{2}\\right) u_{1} u_{0} + \\left(-\\frac{1}{64}\\right) u_{7} + \\left(\\frac{1}{16} c_{1}\\right) u_{5} + \\left(-\\frac{1}{4} c_{2}\\right) u_{3} + c_{3} u_{1}\\)</html>"
      ],
      "text/latex": [
       "$\\displaystyle \\frac{35}{16} u_{1} u_{0}^{3} + \\left(-\\frac{35}{32}\\right) u_{3} u_{0}^{2} + \\left(-\\frac{35}{8}\\right) u_{2} u_{1} u_{0} + \\left(-\\frac{35}{32}\\right) u_{1}^{3} + \\left(\\frac{15}{8} c_{1}\\right) u_{1} u_{0}^{2} + \\frac{7}{32} u_{5} u_{0} + \\frac{21}{32} u_{4} u_{1} + \\frac{35}{32} u_{3} u_{2} + \\left(-\\frac{5}{8} c_{1}\\right) u_{3} u_{0} + \\left(-\\frac{5}{4} c_{1}\\right) u_{2} u_{1} + \\left(\\frac{3}{2} c_{2}\\right) u_{1} u_{0} + \\left(-\\frac{1}{64}\\right) u_{7} + \\left(\\frac{1}{16} c_{1}\\right) u_{5} + \\left(-\\frac{1}{4} c_{2}\\right) u_{3} + c_{3} u_{1}$"
      ],
      "text/plain": [
       "35/16*u_1*u_0^3 + (-35/32)*u_3*u_0^2 + (-35/8)*u_2*u_1*u_0 + (-35/32)*u_1^3 + 15/8*c_1*u_1*u_0^2 + 7/32*u_5*u_0 + 21/32*u_4*u_1 + 35/32*u_3*u_2 + (-5/8*c_1)*u_3*u_0 + (-5/4*c_1)*u_2*u_1 + 3/2*c_2*u_1*u_0 + (-1/64)*u_7 + 1/16*c_1*u_5 + (-1/4*c_2)*u_3 + c_3*u_1"
      ]
     },
     "execution_count": 13,
     "metadata": {},
     "output_type": "execute_result"
    }
   ],
   "source": [
    "KdV(3, u)"
   ]
  },
  {
   "cell_type": "markdown",
   "id": "2067c679-8ea0-4c1d-bf8f-6bad157f4c2a",
   "metadata": {},
   "source": [
    "Then, similarly to the Schrödinger odd order differential operators $P_{2n+1}$ defined above, we can define a new odd order differential operator involving the constants $c_i$ that appear in the $\\KdV_n$ polynomials. A similar commutation with $L$ will happen again:"
   ]
  },
  {
   "cell_type": "code",
   "execution_count": 14,
   "id": "e561d9dc-c56f-4ce7-938d-a0862bbd4865",
   "metadata": {},
   "outputs": [],
   "source": [
    "@lru_cache(maxsize=None)\n",
    "def Phat_odd(n,u,y,L):\n",
    "    r'''Computes \\hat{P}_{2n+1}'''\n",
    "    if n == 0: # return $P_1$\n",
    "        return y[1]\n",
    "    else:\n",
    "        R = KdV(n,u).parent() # we create the corresponding constants\n",
    "        u = R.gen(u._parent.gens().index(u)); y = R.gen(y._parent.gens().index(y)) # we transform the generators to the new ring\n",
    "        L = R(L) # we transform the Schrodinger operator to the new ring\n",
    "        cs = [R.base()(f\"c_{i+1}\") for i in range(n)]\n",
    "        \n",
    "        return P_odd(n,u,y,L) + sum(cs[-(l+1)]*P_odd(l, u, y, L) for l in range(n))"
   ]
  },
  {
   "cell_type": "code",
   "execution_count": 16,
   "id": "b200d58f-aef2-4265-835f-fcd818c221f5",
   "metadata": {},
   "outputs": [
    {
     "name": "stdout",
     "output_type": "stream",
     "text": [
      "CPU times: user 25.8 s, sys: 570 ms, total: 26.4 s\n",
      "Wall time: 26.4 s\n"
     ]
    },
    {
     "data": {
      "text/html": [
       "<html>\\(\\displaystyle \\left[\\left(1, \\mathrm{True}\\right), \\left(3, \\mathrm{True}\\right), \\left(5, \\mathrm{True}\\right), \\left(7, \\mathrm{True}\\right), \\left(9, \\mathrm{True}\\right), \\left(11, \\mathrm{True}\\right), \\left(13, \\mathrm{False}\\right), \\left(15, \\mathrm{False}\\right), \\left(17, \\mathrm{False}\\right), \\left(19, \\mathrm{False}\\right)\\right]\\)</html>"
      ],
      "text/latex": [
       "$\\displaystyle \\left[\\left(1, \\mathrm{True}\\right), \\left(3, \\mathrm{True}\\right), \\left(5, \\mathrm{True}\\right), \\left(7, \\mathrm{True}\\right), \\left(9, \\mathrm{True}\\right), \\left(11, \\mathrm{True}\\right), \\left(13, \\mathrm{False}\\right), \\left(15, \\mathrm{False}\\right), \\left(17, \\mathrm{False}\\right), \\left(19, \\mathrm{False}\\right)\\right]$"
      ],
      "text/plain": [
       "[(1, True),\n",
       " (3, True),\n",
       " (5, True),\n",
       " (7, True),\n",
       " (9, True),\n",
       " (11, True),\n",
       " (13, False),\n",
       " (15, False),\n",
       " (17, False),\n",
       " (19, False)]"
      ]
     },
     "execution_count": 16,
     "metadata": {},
     "output_type": "execute_result"
    }
   ],
   "source": [
    "%%time\n",
    "[\n",
    "    (2*i+1,commutator(Phat_odd(i,u,y,L), L, y) == KdV(i, u)*y[0]) # we divide by y_0 to see clearly the kdv formula from before.\n",
    "    for i in range(10)\n",
    "]\n"
   ]
  },
  {
   "cell_type": "markdown",
   "id": "5c9e88e9-4d42-40df-b629-61fa88a99467",
   "metadata": {},
   "source": [
    "This <font color='red'>seems to be a problem</font> for cases over 13!!"
   ]
  },
  {
   "cell_type": "markdown",
   "id": "d3abbb2d-21b0-4f66-9371-91868e86625a",
   "metadata": {
    "jp-MarkdownHeadingCollapsed": true,
    "tags": []
   },
   "source": [
    "### Example 3.3: Differential Sylvester resultant"
   ]
  },
  {
   "cell_type": "markdown",
   "id": "095c342d-0351-4f91-ab83-f5b94c2ae837",
   "metadata": {},
   "source": [
    "In Example 3.3 of the article, a generic resultant is computed for two differential polynomials. We can reproduce that computation with this software. In fact, we can distinguish between four cases: \n",
    "1. The generic coefficients are constants\n",
    "2. The generic coefficients are elementary functions\n",
    "3. The generic coefficients are linked by the derivation\n",
    "4. The generic coefficients are fully independent"
   ]
  },
  {
   "cell_type": "markdown",
   "id": "58026f34-b8f0-4173-9086-e390e5e93a12",
   "metadata": {
    "jp-MarkdownHeadingCollapsed": true,
    "tags": []
   },
   "source": [
    "#### Case 1: coefficients are constants"
   ]
  },
  {
   "cell_type": "code",
   "execution_count": 4,
   "id": "f5057566-8f17-4e1e-bf44-49aec47050ce",
   "metadata": {},
   "outputs": [],
   "source": [
    "B = DifferentialRing(QQ[\"a_0,a_1,a_2,b_0,b_1,b_2,b_3\"], lambda p : 0)\n",
    "T.<d> = DifferentialPolynomialRing(B)\n",
    "a_0,a_1,a_2,b_0,b_1,b_2,b_3 = T.base().gens()\n",
    "\n",
    "P1 = a_2*d[2] + a_1*d[1] + a_0*d[0]; P2 = b_3*d[3] + b_2*d[2] + b_1*d[1] + b_0*d[0]"
   ]
  },
  {
   "cell_type": "code",
   "execution_count": 5,
   "id": "df5a6bf5-9586-4f26-9cb4-e97e25ef93b8",
   "metadata": {},
   "outputs": [
    {
     "name": "stdout",
     "output_type": "stream",
     "text": [
      "CPU times: user 92.1 ms, sys: 0 ns, total: 92.1 ms\n",
      "Wall time: 91.6 ms\n"
     ]
    },
    {
     "data": {
      "text/html": [
       "<html>\\(\\displaystyle a_{2}^{3} b_{0}^{2} - a_{1} a_{2}^{2} b_{0} b_{1} + a_{0} a_{2}^{2} b_{1}^{2} + a_{1}^{2} a_{2} b_{0} b_{2} - 2 a_{0} a_{2}^{2} b_{0} b_{2} - a_{0} a_{1} a_{2} b_{1} b_{2} + a_{0}^{2} a_{2} b_{2}^{2} - a_{1}^{3} b_{0} b_{3} + 3 a_{0} a_{1} a_{2} b_{0} b_{3} + a_{0} a_{1}^{2} b_{1} b_{3} - 2 a_{0}^{2} a_{2} b_{1} b_{3} - a_{0}^{2} a_{1} b_{2} b_{3} + a_{0}^{3} b_{3}^{2}\\)</html>"
      ],
      "text/latex": [
       "$\\displaystyle a_{2}^{3} b_{0}^{2} - a_{1} a_{2}^{2} b_{0} b_{1} + a_{0} a_{2}^{2} b_{1}^{2} + a_{1}^{2} a_{2} b_{0} b_{2} - 2 a_{0} a_{2}^{2} b_{0} b_{2} - a_{0} a_{1} a_{2} b_{1} b_{2} + a_{0}^{2} a_{2} b_{2}^{2} - a_{1}^{3} b_{0} b_{3} + 3 a_{0} a_{1} a_{2} b_{0} b_{3} + a_{0} a_{1}^{2} b_{1} b_{3} - 2 a_{0}^{2} a_{2} b_{1} b_{3} - a_{0}^{2} a_{1} b_{2} b_{3} + a_{0}^{3} b_{3}^{2}$"
      ],
      "text/plain": [
       "a_2^3*b_0^2 - a_1*a_2^2*b_0*b_1 + a_0*a_2^2*b_1^2 + a_1^2*a_2*b_0*b_2 - 2*a_0*a_2^2*b_0*b_2 - a_0*a_1*a_2*b_1*b_2 + a_0^2*a_2*b_2^2 - a_1^3*b_0*b_3 + 3*a_0*a_1*a_2*b_0*b_3 + a_0*a_1^2*b_1*b_3 - 2*a_0^2*a_2*b_1*b_3 - a_0^2*a_1*b_2*b_3 + a_0^3*b_3^2"
      ]
     },
     "execution_count": 5,
     "metadata": {},
     "output_type": "execute_result"
    }
   ],
   "source": [
    "%%time\n",
    "resultant_case1 = P1.sylvester_resultant(P2, d)\n",
    "resultant_case1"
   ]
  },
  {
   "cell_type": "markdown",
   "id": "a7afd810-fbd8-42e8-a20e-baa9265f9bf4",
   "metadata": {
    "jp-MarkdownHeadingCollapsed": true,
    "tags": []
   },
   "source": [
    "#### Case 2: coefficients are elementary functions"
   ]
  },
  {
   "cell_type": "markdown",
   "id": "4617e088-c81c-4498-aa38-7a6bd3ce5da7",
   "metadata": {},
   "source": [
    "Let assume that we know some differential behavior of the coefficients. Namely:\n",
    "$$\\left\\{\\begin{array}{rll}\n",
    "    a_0' = & 1,&\\longrightarrow a_0 = x\\\\\n",
    "    a_1' = & \\frac{1}{a_0+1}, &\\longrightarrow a_1 = \\log(x+1)\\\\\n",
    "    a_2' = & a_2, &\\longrightarrow a_2 = e^x\\\\\n",
    "    b_0' = & 2a_0b_0, &\\longrightarrow b_0 = e^{x^2}\\\\\n",
    "    b_1' = & \\frac{2a_0}{a_0^2 + 1}, &\\longrightarrow b_1 = \\log(x^2 + 1)\\\\\n",
    "    b_2' = & 0, &\\longrightarrow b_2 = c\\\\\n",
    "    b_3' = & a_2b_3 &\\longrightarrow b_3 = e^{e^{x}}\n",
    "\\end{array}\\right.$$\n",
    "\n",
    "To create this ring we need first to define the derivation on the ground field and then build the differential extension to build the operators:"
   ]
  },
  {
   "cell_type": "code",
   "execution_count": 6,
   "id": "793ca6ab-f4ad-46c9-b096-4ac29bce9388",
   "metadata": {},
   "outputs": [],
   "source": [
    "## Building the base differential field\n",
    "B.<a_0,a_1,a_2,b_0,b_1,b_2,b_3> = QQ[]\n",
    "F = B.fraction_field()\n",
    "da_0,da_1,da_2,db_0,db_1,db_2,db_3 = F.derivation_module().gens()\n",
    "D = da_0 + (1/(a_0+1))*da_1 + a_2*da_2 + 2*a_0*b_0*db_0 + 2*a_0/(a_0^2+1)*db_1 + a_2*b_3*db_3\n",
    "\n",
    "## Creating the ring for differential operators\n",
    "T.<d> = DifferentialPolynomialRing(DifferentialRing(F, D))\n",
    "\n",
    "## Creating the two differential operators\n",
    "P1 = a_2*d[2] + a_1*d[1] + a_0*d[0]; P2 = b_3*d[3] + b_2*d[2] + b_1*d[1] + b_0*d[0]"
   ]
  },
  {
   "cell_type": "code",
   "execution_count": 7,
   "id": "84ce9379-4515-42e6-8429-9b4ae7808483",
   "metadata": {},
   "outputs": [
    {
     "name": "stdout",
     "output_type": "stream",
     "text": [
      "CPU times: user 150 ms, sys: 9.98 ms, total: 160 ms\n",
      "Wall time: 159 ms\n"
     ]
    },
    {
     "data": {
      "text/html": [
       "<html>\\(\\displaystyle \\frac{-2 a_{0}^{5} a_{2}^{3} b_{0} b_{1} + 2 a_{0}^{5} a_{1} a_{2}^{2} b_{0} b_{2} - 2 a_{0}^{5} a_{1}^{2} a_{2} b_{0} b_{3} + 2 a_{0}^{6} a_{2}^{2} b_{0} b_{3} - 2 a_{0}^{5} a_{1} a_{2}^{2} b_{0} b_{3} + a_{0}^{4} a_{1}^{2} a_{2}^{2} b_{0} b_{3} - a_{0}^{5} a_{2}^{3} b_{0} b_{3} + a_{0}^{4} a_{1} a_{2}^{3} b_{0} b_{3} - a_{0}^{5} a_{1} a_{2}^{2} b_{1} b_{3} - a_{0}^{5} a_{2}^{3} b_{1} b_{3} + a_{0}^{6} a_{2}^{2} b_{2} b_{3} + a_{0}^{4} a_{2}^{3} b_{0}^{2} - a_{0}^{4} a_{1} a_{2}^{2} b_{0} b_{1} - 4 a_{0}^{4} a_{2}^{3} b_{0} b_{1} + a_{0}^{5} a_{2}^{2} b_{1}^{2} + a_{0}^{4} a_{1}^{2} a_{2} b_{0} b_{2} - 2 a_{0}^{5} a_{2}^{2} b_{0} b_{2} + 5 a_{0}^{4} a_{1} a_{2}^{2} b_{0} b_{2} - a_{0}^{5} a_{1} a_{2} b_{1} b_{2} - a_{0}^{5} a_{2}^{2} b_{1} b_{2} + a_{0}^{6} a_{2} b_{2}^{2} - a_{0}^{4} a_{1}^{3} b_{0} b_{3} + 3 a_{0}^{5} a_{1} a_{2} b_{0} b_{3} - 7 a_{0}^{4} a_{1}^{2} a_{2} b_{0} b_{3} + 7 a_{0}^{5} a_{2}^{2} b_{0} b_{3} - 5 a_{0}^{4} a_{1} a_{2}^{2} b_{0} b_{3} + 2 a_{0}^{3} a_{1}^{2} a_{2}^{2} b_{0} b_{3} - 2 a_{0}^{4} a_{2}^{3} b_{0} b_{3} + 2 a_{0}^{3} a_{1} a_{2}^{3} b_{0} b_{3} + a_{0}^{5} a_{1}^{2} b_{1} b_{3} - 2 a_{0}^{6} a_{2} b_{1} b_{3} + 3 a_{0}^{5} a_{1} a_{2} b_{1} b_{3} + a_{0}^{5} a_{2}^{2} b_{1} b_{3} - 2 a_{0}^{4} a_{1} a_{2}^{2} b_{1} b_{3} - a_{0}^{4} a_{2}^{3} b_{1} b_{3} - a_{0}^{6} a_{1} b_{2} b_{3} - 2 a_{0}^{6} a_{2} b_{2} b_{3} + 2 a_{0}^{5} a_{2}^{2} b_{2} b_{3} - a_{0}^{4} a_{1} a_{2}^{2} b_{2} b_{3} + a_{0}^{7} b_{3}^{2} + a_{0}^{6} a_{2} b_{3}^{2} + 2 a_{0}^{3} a_{2}^{3} b_{0}^{2} - 2 a_{0}^{3} a_{1} a_{2}^{2} b_{0} b_{1} - 4 a_{0}^{3} a_{2}^{3} b_{0} b_{1} + 2 a_{0}^{4} a_{2}^{2} b_{1}^{2} + 2 a_{0}^{3} a_{1}^{2} a_{2} b_{0} b_{2} - 4 a_{0}^{4} a_{2}^{2} b_{0} b_{2} + 6 a_{0}^{3} a_{1} a_{2}^{2} b_{0} b_{2} - 2 a_{0}^{4} a_{1} a_{2} b_{1} b_{2} - a_{0}^{4} a_{2}^{2} b_{1} b_{2} + 2 a_{0}^{5} a_{2} b_{2}^{2} - a_{0}^{4} a_{1} a_{2} b_{2}^{2} - 2 a_{0}^{3} a_{1}^{3} b_{0} b_{3} + 6 a_{0}^{4} a_{1} a_{2} b_{0} b_{3} - 10 a_{0}^{3} a_{1}^{2} a_{2} b_{0} b_{3} + 9 a_{0}^{4} a_{2}^{2} b_{0} b_{3} - 6 a_{0}^{3} a_{1} a_{2}^{2} b_{0} b_{3} + 2 a_{0}^{2} a_{1}^{2} a_{2}^{2} b_{0} b_{3} - 3 a_{0}^{3} a_{2}^{3} b_{0} b_{3} + 2 a_{0}^{2} a_{1} a_{2}^{3} b_{0} b_{3} + 2 a_{0}^{4} a_{1}^{2} b_{1} b_{3} - 4 a_{0}^{5} a_{2} b_{1} b_{3} + 6 a_{0}^{4} a_{1} a_{2} b_{1} b_{3} - 2 a_{0}^{3} a_{1} a_{2}^{2} b_{1} b_{3} - 2 a_{0}^{5} a_{1} b_{2} b_{3} + a_{0}^{4} a_{1}^{2} b_{2} b_{3} - 2 a_{0}^{5} a_{2} b_{2} b_{3} + 2 a_{0}^{4} a_{1} a_{2} b_{2} b_{3} + 3 a_{0}^{4} a_{2}^{2} b_{2} b_{3} - 2 a_{0}^{3} a_{1} a_{2}^{2} b_{2} b_{3} + 2 a_{0}^{6} b_{3}^{2} - 3 a_{0}^{5} a_{1} b_{3}^{2} - a_{0}^{4} a_{1} a_{2} b_{3}^{2} + 2 a_{0}^{3} a_{2}^{3} b_{0} + 2 a_{0}^{2} a_{2}^{3} b_{0}^{2} - 2 a_{0}^{2} a_{1} a_{2}^{2} b_{0} b_{1} - 4 a_{0}^{2} a_{2}^{3} b_{0} b_{1} + 2 a_{0}^{3} a_{2}^{2} b_{1}^{2} - 2 a_{0}^{4} a_{2}^{2} b_{2} + 2 a_{0}^{2} a_{1}^{2} a_{2} b_{0} b_{2} - 5 a_{0}^{3} a_{2}^{2} b_{0} b_{2} + 6 a_{0}^{2} a_{1} a_{2}^{2} b_{0} b_{2} - 2 a_{0}^{3} a_{1} a_{2} b_{1} b_{2} + 3 a_{0}^{4} a_{2} b_{2}^{2} - 2 a_{0}^{3} a_{1} a_{2} b_{2}^{2} + 2 a_{0}^{4} a_{1} a_{2} b_{3} + 2 a_{0}^{4} a_{2}^{2} b_{3} - 2 a_{0}^{2} a_{1}^{3} b_{0} b_{3} + 9 a_{0}^{3} a_{1} a_{2} b_{0} b_{3} - 10 a_{0}^{2} a_{1}^{2} a_{2} b_{0} b_{3} + 8 a_{0}^{3} a_{2}^{2} b_{0} b_{3} - 6 a_{0}^{2} a_{1} a_{2}^{2} b_{0} b_{3} + 2 a_{0} a_{1}^{2} a_{2}^{2} b_{0} b_{3} - 3 a_{0}^{2} a_{2}^{3} b_{0} b_{3} + 2 a_{0} a_{1} a_{2}^{3} b_{0} b_{3} + 2 a_{0}^{3} a_{1}^{2} b_{1} b_{3} - 7 a_{0}^{4} a_{2} b_{1} b_{3} + 6 a_{0}^{3} a_{1} a_{2} b_{1} b_{3} - 2 a_{0}^{3} a_{2}^{2} b_{1} b_{3} - 2 a_{0}^{2} a_{1} a_{2}^{2} b_{1} b_{3} - 3 a_{0}^{4} a_{1} b_{2} b_{3} + 2 a_{0}^{3} a_{1}^{2} b_{2} b_{3} - 2 a_{0}^{4} a_{2} b_{2} b_{3} + 4 a_{0}^{3} a_{1} a_{2} b_{2} b_{3} + 3 a_{0}^{3} a_{2}^{2} b_{2} b_{3} - 2 a_{0}^{2} a_{1} a_{2}^{2} b_{2} b_{3} + 5 a_{0}^{5} b_{3}^{2} - 6 a_{0}^{4} a_{1} b_{3}^{2} + a_{0}^{4} a_{2} b_{3}^{2} - 2 a_{0}^{3} a_{1} a_{2} b_{3}^{2} + 4 a_{0}^{2} a_{2}^{3} b_{0} + 2 a_{0} a_{2}^{3} b_{0}^{2} - 2 a_{0} a_{1} a_{2}^{2} b_{0} b_{1} - 2 a_{0} a_{2}^{3} b_{0} b_{1} + 2 a_{0}^{2} a_{2}^{2} b_{1}^{2} - 4 a_{0}^{3} a_{2}^{2} b_{2} + 2 a_{0} a_{1}^{2} a_{2} b_{0} b_{2} - 5 a_{0}^{2} a_{2}^{2} b_{0} b_{2} + 4 a_{0} a_{1} a_{2}^{2} b_{0} b_{2} - 2 a_{0}^{2} a_{1} a_{2} b_{1} b_{2} + 3 a_{0}^{3} a_{2} b_{2}^{2} - 2 a_{0}^{2} a_{1} a_{2} b_{2}^{2} + 4 a_{0}^{3} a_{1} a_{2} b_{3} + 2 a_{0}^{3} a_{2}^{2} b_{3} - 2 a_{0} a_{1}^{3} b_{0} b_{3} + 9 a_{0}^{2} a_{1} a_{2} b_{0} b_{3} - 8 a_{0} a_{1}^{2} a_{2} b_{0} b_{3} + 7 a_{0}^{2} a_{2}^{2} b_{0} b_{3} - 4 a_{0} a_{1} a_{2}^{2} b_{0} b_{3} + a_{1}^{2} a_{2}^{2} b_{0} b_{3} - 2 a_{0} a_{2}^{3} b_{0} b_{3} + a_{1} a_{2}^{3} b_{0} b_{3} + 2 a_{0}^{2} a_{1}^{2} b_{1} b_{3} - 7 a_{0}^{3} a_{2} b_{1} b_{3} + 6 a_{0}^{2} a_{1} a_{2} b_{1} b_{3} - 2 a_{0}^{2} a_{2}^{2} b_{1} b_{3} - a_{0} a_{1} a_{2}^{2} b_{1} b_{3} + a_{0} a_{2}^{3} b_{1} b_{3} - 3 a_{0}^{3} a_{1} b_{2} b_{3} + 2 a_{0}^{2} a_{1}^{2} b_{2} b_{3} - 3 a_{0}^{3} a_{2} b_{2} b_{3} + 4 a_{0}^{2} a_{1} a_{2} b_{2} b_{3} + 2 a_{0}^{2} a_{2}^{2} b_{2} b_{3} - 2 a_{0} a_{1} a_{2}^{2} b_{2} b_{3} + 5 a_{0}^{4} b_{3}^{2} - 7 a_{0}^{3} a_{1} b_{3}^{2} + 4 a_{0}^{3} a_{2} b_{3}^{2} - 2 a_{0}^{2} a_{1} a_{2} b_{3}^{2} + 2 a_{0} a_{2}^{3} b_{0} + a_{2}^{3} b_{0}^{2} - a_{1} a_{2}^{2} b_{0} b_{1} + a_{0} a_{2}^{2} b_{1}^{2} - 2 a_{0}^{2} a_{2}^{2} b_{2} + a_{1}^{2} a_{2} b_{0} b_{2} - 3 a_{0} a_{2}^{2} b_{0} b_{2} + a_{1} a_{2}^{2} b_{0} b_{2} - a_{0} a_{1} a_{2} b_{1} b_{2} + a_{0} a_{2}^{2} b_{1} b_{2} + 2 a_{0}^{2} a_{2} b_{2}^{2} - 2 a_{0} a_{1} a_{2} b_{2}^{2} + 2 a_{0}^{2} a_{1} a_{2} b_{3} - 2 a_{0}^{2} a_{2}^{2} b_{3} - a_{1}^{3} b_{0} b_{3} + 6 a_{0} a_{1} a_{2} b_{0} b_{3} - 3 a_{1}^{2} a_{2} b_{0} b_{3} + a_{0} a_{2}^{2} b_{0} b_{3} - a_{1} a_{2}^{2} b_{0} b_{3} - a_{2}^{3} b_{0} b_{3} + a_{0} a_{1}^{2} b_{1} b_{3} - 5 a_{0}^{2} a_{2} b_{1} b_{3} + 3 a_{0} a_{1} a_{2} b_{1} b_{3} - 3 a_{0} a_{2}^{2} b_{1} b_{3} + a_{2}^{3} b_{1} b_{3} - 2 a_{0}^{2} a_{1} b_{2} b_{3} + 2 a_{0} a_{1}^{2} b_{2} b_{3} + 4 a_{0} a_{1} a_{2} b_{2} b_{3} + a_{0} a_{2}^{2} b_{2} b_{3} - a_{1} a_{2}^{2} b_{2} b_{3} + 6 a_{0}^{3} b_{3}^{2} - 8 a_{0}^{2} a_{1} b_{3}^{2} + a_{0}^{2} a_{2} b_{3}^{2} - 2 a_{0} a_{1} a_{2} b_{3}^{2} - a_{2}^{2} b_{0} b_{2} + a_{2}^{2} b_{1} b_{2} + a_{0} a_{2} b_{2}^{2} - a_{1} a_{2} b_{2}^{2} - 2 a_{0} a_{2}^{2} b_{3} + 3 a_{1} a_{2} b_{0} b_{3} - 3 a_{0} a_{2} b_{1} b_{3} - 2 a_{2}^{2} b_{1} b_{3} - a_{0} a_{1} b_{2} b_{3} + a_{1}^{2} b_{2} b_{3} - a_{0} a_{2} b_{2} b_{3} + 2 a_{1} a_{2} b_{2} b_{3} + 3 a_{0}^{2} b_{3}^{2} - 4 a_{0} a_{1} b_{3}^{2} + 4 a_{0} a_{2} b_{3}^{2} - a_{1} a_{2} b_{3}^{2} + 2 a_{0} b_{3}^{2} - 2 a_{1} b_{3}^{2} + a_{2} b_{3}^{2}}{a_{0}^{4} + 2 a_{0}^{3} + 2 a_{0}^{2} + 2 a_{0} + 1}\\)</html>"
      ],
      "text/latex": [
       "$\\displaystyle \\frac{-2 a_{0}^{5} a_{2}^{3} b_{0} b_{1} + 2 a_{0}^{5} a_{1} a_{2}^{2} b_{0} b_{2} - 2 a_{0}^{5} a_{1}^{2} a_{2} b_{0} b_{3} + 2 a_{0}^{6} a_{2}^{2} b_{0} b_{3} - 2 a_{0}^{5} a_{1} a_{2}^{2} b_{0} b_{3} + a_{0}^{4} a_{1}^{2} a_{2}^{2} b_{0} b_{3} - a_{0}^{5} a_{2}^{3} b_{0} b_{3} + a_{0}^{4} a_{1} a_{2}^{3} b_{0} b_{3} - a_{0}^{5} a_{1} a_{2}^{2} b_{1} b_{3} - a_{0}^{5} a_{2}^{3} b_{1} b_{3} + a_{0}^{6} a_{2}^{2} b_{2} b_{3} + a_{0}^{4} a_{2}^{3} b_{0}^{2} - a_{0}^{4} a_{1} a_{2}^{2} b_{0} b_{1} - 4 a_{0}^{4} a_{2}^{3} b_{0} b_{1} + a_{0}^{5} a_{2}^{2} b_{1}^{2} + a_{0}^{4} a_{1}^{2} a_{2} b_{0} b_{2} - 2 a_{0}^{5} a_{2}^{2} b_{0} b_{2} + 5 a_{0}^{4} a_{1} a_{2}^{2} b_{0} b_{2} - a_{0}^{5} a_{1} a_{2} b_{1} b_{2} - a_{0}^{5} a_{2}^{2} b_{1} b_{2} + a_{0}^{6} a_{2} b_{2}^{2} - a_{0}^{4} a_{1}^{3} b_{0} b_{3} + 3 a_{0}^{5} a_{1} a_{2} b_{0} b_{3} - 7 a_{0}^{4} a_{1}^{2} a_{2} b_{0} b_{3} + 7 a_{0}^{5} a_{2}^{2} b_{0} b_{3} - 5 a_{0}^{4} a_{1} a_{2}^{2} b_{0} b_{3} + 2 a_{0}^{3} a_{1}^{2} a_{2}^{2} b_{0} b_{3} - 2 a_{0}^{4} a_{2}^{3} b_{0} b_{3} + 2 a_{0}^{3} a_{1} a_{2}^{3} b_{0} b_{3} + a_{0}^{5} a_{1}^{2} b_{1} b_{3} - 2 a_{0}^{6} a_{2} b_{1} b_{3} + 3 a_{0}^{5} a_{1} a_{2} b_{1} b_{3} + a_{0}^{5} a_{2}^{2} b_{1} b_{3} - 2 a_{0}^{4} a_{1} a_{2}^{2} b_{1} b_{3} - a_{0}^{4} a_{2}^{3} b_{1} b_{3} - a_{0}^{6} a_{1} b_{2} b_{3} - 2 a_{0}^{6} a_{2} b_{2} b_{3} + 2 a_{0}^{5} a_{2}^{2} b_{2} b_{3} - a_{0}^{4} a_{1} a_{2}^{2} b_{2} b_{3} + a_{0}^{7} b_{3}^{2} + a_{0}^{6} a_{2} b_{3}^{2} + 2 a_{0}^{3} a_{2}^{3} b_{0}^{2} - 2 a_{0}^{3} a_{1} a_{2}^{2} b_{0} b_{1} - 4 a_{0}^{3} a_{2}^{3} b_{0} b_{1} + 2 a_{0}^{4} a_{2}^{2} b_{1}^{2} + 2 a_{0}^{3} a_{1}^{2} a_{2} b_{0} b_{2} - 4 a_{0}^{4} a_{2}^{2} b_{0} b_{2} + 6 a_{0}^{3} a_{1} a_{2}^{2} b_{0} b_{2} - 2 a_{0}^{4} a_{1} a_{2} b_{1} b_{2} - a_{0}^{4} a_{2}^{2} b_{1} b_{2} + 2 a_{0}^{5} a_{2} b_{2}^{2} - a_{0}^{4} a_{1} a_{2} b_{2}^{2} - 2 a_{0}^{3} a_{1}^{3} b_{0} b_{3} + 6 a_{0}^{4} a_{1} a_{2} b_{0} b_{3} - 10 a_{0}^{3} a_{1}^{2} a_{2} b_{0} b_{3} + 9 a_{0}^{4} a_{2}^{2} b_{0} b_{3} - 6 a_{0}^{3} a_{1} a_{2}^{2} b_{0} b_{3} + 2 a_{0}^{2} a_{1}^{2} a_{2}^{2} b_{0} b_{3} - 3 a_{0}^{3} a_{2}^{3} b_{0} b_{3} + 2 a_{0}^{2} a_{1} a_{2}^{3} b_{0} b_{3} + 2 a_{0}^{4} a_{1}^{2} b_{1} b_{3} - 4 a_{0}^{5} a_{2} b_{1} b_{3} + 6 a_{0}^{4} a_{1} a_{2} b_{1} b_{3} - 2 a_{0}^{3} a_{1} a_{2}^{2} b_{1} b_{3} - 2 a_{0}^{5} a_{1} b_{2} b_{3} + a_{0}^{4} a_{1}^{2} b_{2} b_{3} - 2 a_{0}^{5} a_{2} b_{2} b_{3} + 2 a_{0}^{4} a_{1} a_{2} b_{2} b_{3} + 3 a_{0}^{4} a_{2}^{2} b_{2} b_{3} - 2 a_{0}^{3} a_{1} a_{2}^{2} b_{2} b_{3} + 2 a_{0}^{6} b_{3}^{2} - 3 a_{0}^{5} a_{1} b_{3}^{2} - a_{0}^{4} a_{1} a_{2} b_{3}^{2} + 2 a_{0}^{3} a_{2}^{3} b_{0} + 2 a_{0}^{2} a_{2}^{3} b_{0}^{2} - 2 a_{0}^{2} a_{1} a_{2}^{2} b_{0} b_{1} - 4 a_{0}^{2} a_{2}^{3} b_{0} b_{1} + 2 a_{0}^{3} a_{2}^{2} b_{1}^{2} - 2 a_{0}^{4} a_{2}^{2} b_{2} + 2 a_{0}^{2} a_{1}^{2} a_{2} b_{0} b_{2} - 5 a_{0}^{3} a_{2}^{2} b_{0} b_{2} + 6 a_{0}^{2} a_{1} a_{2}^{2} b_{0} b_{2} - 2 a_{0}^{3} a_{1} a_{2} b_{1} b_{2} + 3 a_{0}^{4} a_{2} b_{2}^{2} - 2 a_{0}^{3} a_{1} a_{2} b_{2}^{2} + 2 a_{0}^{4} a_{1} a_{2} b_{3} + 2 a_{0}^{4} a_{2}^{2} b_{3} - 2 a_{0}^{2} a_{1}^{3} b_{0} b_{3} + 9 a_{0}^{3} a_{1} a_{2} b_{0} b_{3} - 10 a_{0}^{2} a_{1}^{2} a_{2} b_{0} b_{3} + 8 a_{0}^{3} a_{2}^{2} b_{0} b_{3} - 6 a_{0}^{2} a_{1} a_{2}^{2} b_{0} b_{3} + 2 a_{0} a_{1}^{2} a_{2}^{2} b_{0} b_{3} - 3 a_{0}^{2} a_{2}^{3} b_{0} b_{3} + 2 a_{0} a_{1} a_{2}^{3} b_{0} b_{3} + 2 a_{0}^{3} a_{1}^{2} b_{1} b_{3} - 7 a_{0}^{4} a_{2} b_{1} b_{3} + 6 a_{0}^{3} a_{1} a_{2} b_{1} b_{3} - 2 a_{0}^{3} a_{2}^{2} b_{1} b_{3} - 2 a_{0}^{2} a_{1} a_{2}^{2} b_{1} b_{3} - 3 a_{0}^{4} a_{1} b_{2} b_{3} + 2 a_{0}^{3} a_{1}^{2} b_{2} b_{3} - 2 a_{0}^{4} a_{2} b_{2} b_{3} + 4 a_{0}^{3} a_{1} a_{2} b_{2} b_{3} + 3 a_{0}^{3} a_{2}^{2} b_{2} b_{3} - 2 a_{0}^{2} a_{1} a_{2}^{2} b_{2} b_{3} + 5 a_{0}^{5} b_{3}^{2} - 6 a_{0}^{4} a_{1} b_{3}^{2} + a_{0}^{4} a_{2} b_{3}^{2} - 2 a_{0}^{3} a_{1} a_{2} b_{3}^{2} + 4 a_{0}^{2} a_{2}^{3} b_{0} + 2 a_{0} a_{2}^{3} b_{0}^{2} - 2 a_{0} a_{1} a_{2}^{2} b_{0} b_{1} - 2 a_{0} a_{2}^{3} b_{0} b_{1} + 2 a_{0}^{2} a_{2}^{2} b_{1}^{2} - 4 a_{0}^{3} a_{2}^{2} b_{2} + 2 a_{0} a_{1}^{2} a_{2} b_{0} b_{2} - 5 a_{0}^{2} a_{2}^{2} b_{0} b_{2} + 4 a_{0} a_{1} a_{2}^{2} b_{0} b_{2} - 2 a_{0}^{2} a_{1} a_{2} b_{1} b_{2} + 3 a_{0}^{3} a_{2} b_{2}^{2} - 2 a_{0}^{2} a_{1} a_{2} b_{2}^{2} + 4 a_{0}^{3} a_{1} a_{2} b_{3} + 2 a_{0}^{3} a_{2}^{2} b_{3} - 2 a_{0} a_{1}^{3} b_{0} b_{3} + 9 a_{0}^{2} a_{1} a_{2} b_{0} b_{3} - 8 a_{0} a_{1}^{2} a_{2} b_{0} b_{3} + 7 a_{0}^{2} a_{2}^{2} b_{0} b_{3} - 4 a_{0} a_{1} a_{2}^{2} b_{0} b_{3} + a_{1}^{2} a_{2}^{2} b_{0} b_{3} - 2 a_{0} a_{2}^{3} b_{0} b_{3} + a_{1} a_{2}^{3} b_{0} b_{3} + 2 a_{0}^{2} a_{1}^{2} b_{1} b_{3} - 7 a_{0}^{3} a_{2} b_{1} b_{3} + 6 a_{0}^{2} a_{1} a_{2} b_{1} b_{3} - 2 a_{0}^{2} a_{2}^{2} b_{1} b_{3} - a_{0} a_{1} a_{2}^{2} b_{1} b_{3} + a_{0} a_{2}^{3} b_{1} b_{3} - 3 a_{0}^{3} a_{1} b_{2} b_{3} + 2 a_{0}^{2} a_{1}^{2} b_{2} b_{3} - 3 a_{0}^{3} a_{2} b_{2} b_{3} + 4 a_{0}^{2} a_{1} a_{2} b_{2} b_{3} + 2 a_{0}^{2} a_{2}^{2} b_{2} b_{3} - 2 a_{0} a_{1} a_{2}^{2} b_{2} b_{3} + 5 a_{0}^{4} b_{3}^{2} - 7 a_{0}^{3} a_{1} b_{3}^{2} + 4 a_{0}^{3} a_{2} b_{3}^{2} - 2 a_{0}^{2} a_{1} a_{2} b_{3}^{2} + 2 a_{0} a_{2}^{3} b_{0} + a_{2}^{3} b_{0}^{2} - a_{1} a_{2}^{2} b_{0} b_{1} + a_{0} a_{2}^{2} b_{1}^{2} - 2 a_{0}^{2} a_{2}^{2} b_{2} + a_{1}^{2} a_{2} b_{0} b_{2} - 3 a_{0} a_{2}^{2} b_{0} b_{2} + a_{1} a_{2}^{2} b_{0} b_{2} - a_{0} a_{1} a_{2} b_{1} b_{2} + a_{0} a_{2}^{2} b_{1} b_{2} + 2 a_{0}^{2} a_{2} b_{2}^{2} - 2 a_{0} a_{1} a_{2} b_{2}^{2} + 2 a_{0}^{2} a_{1} a_{2} b_{3} - 2 a_{0}^{2} a_{2}^{2} b_{3} - a_{1}^{3} b_{0} b_{3} + 6 a_{0} a_{1} a_{2} b_{0} b_{3} - 3 a_{1}^{2} a_{2} b_{0} b_{3} + a_{0} a_{2}^{2} b_{0} b_{3} - a_{1} a_{2}^{2} b_{0} b_{3} - a_{2}^{3} b_{0} b_{3} + a_{0} a_{1}^{2} b_{1} b_{3} - 5 a_{0}^{2} a_{2} b_{1} b_{3} + 3 a_{0} a_{1} a_{2} b_{1} b_{3} - 3 a_{0} a_{2}^{2} b_{1} b_{3} + a_{2}^{3} b_{1} b_{3} - 2 a_{0}^{2} a_{1} b_{2} b_{3} + 2 a_{0} a_{1}^{2} b_{2} b_{3} + 4 a_{0} a_{1} a_{2} b_{2} b_{3} + a_{0} a_{2}^{2} b_{2} b_{3} - a_{1} a_{2}^{2} b_{2} b_{3} + 6 a_{0}^{3} b_{3}^{2} - 8 a_{0}^{2} a_{1} b_{3}^{2} + a_{0}^{2} a_{2} b_{3}^{2} - 2 a_{0} a_{1} a_{2} b_{3}^{2} - a_{2}^{2} b_{0} b_{2} + a_{2}^{2} b_{1} b_{2} + a_{0} a_{2} b_{2}^{2} - a_{1} a_{2} b_{2}^{2} - 2 a_{0} a_{2}^{2} b_{3} + 3 a_{1} a_{2} b_{0} b_{3} - 3 a_{0} a_{2} b_{1} b_{3} - 2 a_{2}^{2} b_{1} b_{3} - a_{0} a_{1} b_{2} b_{3} + a_{1}^{2} b_{2} b_{3} - a_{0} a_{2} b_{2} b_{3} + 2 a_{1} a_{2} b_{2} b_{3} + 3 a_{0}^{2} b_{3}^{2} - 4 a_{0} a_{1} b_{3}^{2} + 4 a_{0} a_{2} b_{3}^{2} - a_{1} a_{2} b_{3}^{2} + 2 a_{0} b_{3}^{2} - 2 a_{1} b_{3}^{2} + a_{2} b_{3}^{2}}{a_{0}^{4} + 2 a_{0}^{3} + 2 a_{0}^{2} + 2 a_{0} + 1}$"
      ],
      "text/plain": [
       "(-2*a_0^5*a_2^3*b_0*b_1 + 2*a_0^5*a_1*a_2^2*b_0*b_2 - 2*a_0^5*a_1^2*a_2*b_0*b_3 + 2*a_0^6*a_2^2*b_0*b_3 - 2*a_0^5*a_1*a_2^2*b_0*b_3 + a_0^4*a_1^2*a_2^2*b_0*b_3 - a_0^5*a_2^3*b_0*b_3 + a_0^4*a_1*a_2^3*b_0*b_3 - a_0^5*a_1*a_2^2*b_1*b_3 - a_0^5*a_2^3*b_1*b_3 + a_0^6*a_2^2*b_2*b_3 + a_0^4*a_2^3*b_0^2 - a_0^4*a_1*a_2^2*b_0*b_1 - 4*a_0^4*a_2^3*b_0*b_1 + a_0^5*a_2^2*b_1^2 + a_0^4*a_1^2*a_2*b_0*b_2 - 2*a_0^5*a_2^2*b_0*b_2 + 5*a_0^4*a_1*a_2^2*b_0*b_2 - a_0^5*a_1*a_2*b_1*b_2 - a_0^5*a_2^2*b_1*b_2 + a_0^6*a_2*b_2^2 - a_0^4*a_1^3*b_0*b_3 + 3*a_0^5*a_1*a_2*b_0*b_3 - 7*a_0^4*a_1^2*a_2*b_0*b_3 + 7*a_0^5*a_2^2*b_0*b_3 - 5*a_0^4*a_1*a_2^2*b_0*b_3 + 2*a_0^3*a_1^2*a_2^2*b_0*b_3 - 2*a_0^4*a_2^3*b_0*b_3 + 2*a_0^3*a_1*a_2^3*b_0*b_3 + a_0^5*a_1^2*b_1*b_3 - 2*a_0^6*a_2*b_1*b_3 + 3*a_0^5*a_1*a_2*b_1*b_3 + a_0^5*a_2^2*b_1*b_3 - 2*a_0^4*a_1*a_2^2*b_1*b_3 - a_0^4*a_2^3*b_1*b_3 - a_0^6*a_1*b_2*b_3 - 2*a_0^6*a_2*b_2*b_3 + 2*a_0^5*a_2^2*b_2*b_3 - a_0^4*a_1*a_2^2*b_2*b_3 + a_0^7*b_3^2 + a_0^6*a_2*b_3^2 + 2*a_0^3*a_2^3*b_0^2 - 2*a_0^3*a_1*a_2^2*b_0*b_1 - 4*a_0^3*a_2^3*b_0*b_1 + 2*a_0^4*a_2^2*b_1^2 + 2*a_0^3*a_1^2*a_2*b_0*b_2 - 4*a_0^4*a_2^2*b_0*b_2 + 6*a_0^3*a_1*a_2^2*b_0*b_2 - 2*a_0^4*a_1*a_2*b_1*b_2 - a_0^4*a_2^2*b_1*b_2 + 2*a_0^5*a_2*b_2^2 - a_0^4*a_1*a_2*b_2^2 - 2*a_0^3*a_1^3*b_0*b_3 + 6*a_0^4*a_1*a_2*b_0*b_3 - 10*a_0^3*a_1^2*a_2*b_0*b_3 + 9*a_0^4*a_2^2*b_0*b_3 - 6*a_0^3*a_1*a_2^2*b_0*b_3 + 2*a_0^2*a_1^2*a_2^2*b_0*b_3 - 3*a_0^3*a_2^3*b_0*b_3 + 2*a_0^2*a_1*a_2^3*b_0*b_3 + 2*a_0^4*a_1^2*b_1*b_3 - 4*a_0^5*a_2*b_1*b_3 + 6*a_0^4*a_1*a_2*b_1*b_3 - 2*a_0^3*a_1*a_2^2*b_1*b_3 - 2*a_0^5*a_1*b_2*b_3 + a_0^4*a_1^2*b_2*b_3 - 2*a_0^5*a_2*b_2*b_3 + 2*a_0^4*a_1*a_2*b_2*b_3 + 3*a_0^4*a_2^2*b_2*b_3 - 2*a_0^3*a_1*a_2^2*b_2*b_3 + 2*a_0^6*b_3^2 - 3*a_0^5*a_1*b_3^2 - a_0^4*a_1*a_2*b_3^2 + 2*a_0^3*a_2^3*b_0 + 2*a_0^2*a_2^3*b_0^2 - 2*a_0^2*a_1*a_2^2*b_0*b_1 - 4*a_0^2*a_2^3*b_0*b_1 + 2*a_0^3*a_2^2*b_1^2 - 2*a_0^4*a_2^2*b_2 + 2*a_0^2*a_1^2*a_2*b_0*b_2 - 5*a_0^3*a_2^2*b_0*b_2 + 6*a_0^2*a_1*a_2^2*b_0*b_2 - 2*a_0^3*a_1*a_2*b_1*b_2 + 3*a_0^4*a_2*b_2^2 - 2*a_0^3*a_1*a_2*b_2^2 + 2*a_0^4*a_1*a_2*b_3 + 2*a_0^4*a_2^2*b_3 - 2*a_0^2*a_1^3*b_0*b_3 + 9*a_0^3*a_1*a_2*b_0*b_3 - 10*a_0^2*a_1^2*a_2*b_0*b_3 + 8*a_0^3*a_2^2*b_0*b_3 - 6*a_0^2*a_1*a_2^2*b_0*b_3 + 2*a_0*a_1^2*a_2^2*b_0*b_3 - 3*a_0^2*a_2^3*b_0*b_3 + 2*a_0*a_1*a_2^3*b_0*b_3 + 2*a_0^3*a_1^2*b_1*b_3 - 7*a_0^4*a_2*b_1*b_3 + 6*a_0^3*a_1*a_2*b_1*b_3 - 2*a_0^3*a_2^2*b_1*b_3 - 2*a_0^2*a_1*a_2^2*b_1*b_3 - 3*a_0^4*a_1*b_2*b_3 + 2*a_0^3*a_1^2*b_2*b_3 - 2*a_0^4*a_2*b_2*b_3 + 4*a_0^3*a_1*a_2*b_2*b_3 + 3*a_0^3*a_2^2*b_2*b_3 - 2*a_0^2*a_1*a_2^2*b_2*b_3 + 5*a_0^5*b_3^2 - 6*a_0^4*a_1*b_3^2 + a_0^4*a_2*b_3^2 - 2*a_0^3*a_1*a_2*b_3^2 + 4*a_0^2*a_2^3*b_0 + 2*a_0*a_2^3*b_0^2 - 2*a_0*a_1*a_2^2*b_0*b_1 - 2*a_0*a_2^3*b_0*b_1 + 2*a_0^2*a_2^2*b_1^2 - 4*a_0^3*a_2^2*b_2 + 2*a_0*a_1^2*a_2*b_0*b_2 - 5*a_0^2*a_2^2*b_0*b_2 + 4*a_0*a_1*a_2^2*b_0*b_2 - 2*a_0^2*a_1*a_2*b_1*b_2 + 3*a_0^3*a_2*b_2^2 - 2*a_0^2*a_1*a_2*b_2^2 + 4*a_0^3*a_1*a_2*b_3 + 2*a_0^3*a_2^2*b_3 - 2*a_0*a_1^3*b_0*b_3 + 9*a_0^2*a_1*a_2*b_0*b_3 - 8*a_0*a_1^2*a_2*b_0*b_3 + 7*a_0^2*a_2^2*b_0*b_3 - 4*a_0*a_1*a_2^2*b_0*b_3 + a_1^2*a_2^2*b_0*b_3 - 2*a_0*a_2^3*b_0*b_3 + a_1*a_2^3*b_0*b_3 + 2*a_0^2*a_1^2*b_1*b_3 - 7*a_0^3*a_2*b_1*b_3 + 6*a_0^2*a_1*a_2*b_1*b_3 - 2*a_0^2*a_2^2*b_1*b_3 - a_0*a_1*a_2^2*b_1*b_3 + a_0*a_2^3*b_1*b_3 - 3*a_0^3*a_1*b_2*b_3 + 2*a_0^2*a_1^2*b_2*b_3 - 3*a_0^3*a_2*b_2*b_3 + 4*a_0^2*a_1*a_2*b_2*b_3 + 2*a_0^2*a_2^2*b_2*b_3 - 2*a_0*a_1*a_2^2*b_2*b_3 + 5*a_0^4*b_3^2 - 7*a_0^3*a_1*b_3^2 + 4*a_0^3*a_2*b_3^2 - 2*a_0^2*a_1*a_2*b_3^2 + 2*a_0*a_2^3*b_0 + a_2^3*b_0^2 - a_1*a_2^2*b_0*b_1 + a_0*a_2^2*b_1^2 - 2*a_0^2*a_2^2*b_2 + a_1^2*a_2*b_0*b_2 - 3*a_0*a_2^2*b_0*b_2 + a_1*a_2^2*b_0*b_2 - a_0*a_1*a_2*b_1*b_2 + a_0*a_2^2*b_1*b_2 + 2*a_0^2*a_2*b_2^2 - 2*a_0*a_1*a_2*b_2^2 + 2*a_0^2*a_1*a_2*b_3 - 2*a_0^2*a_2^2*b_3 - a_1^3*b_0*b_3 + 6*a_0*a_1*a_2*b_0*b_3 - 3*a_1^2*a_2*b_0*b_3 + a_0*a_2^2*b_0*b_3 - a_1*a_2^2*b_0*b_3 - a_2^3*b_0*b_3 + a_0*a_1^2*b_1*b_3 - 5*a_0^2*a_2*b_1*b_3 + 3*a_0*a_1*a_2*b_1*b_3 - 3*a_0*a_2^2*b_1*b_3 + a_2^3*b_1*b_3 - 2*a_0^2*a_1*b_2*b_3 + 2*a_0*a_1^2*b_2*b_3 + 4*a_0*a_1*a_2*b_2*b_3 + a_0*a_2^2*b_2*b_3 - a_1*a_2^2*b_2*b_3 + 6*a_0^3*b_3^2 - 8*a_0^2*a_1*b_3^2 + a_0^2*a_2*b_3^2 - 2*a_0*a_1*a_2*b_3^2 - a_2^2*b_0*b_2 + a_2^2*b_1*b_2 + a_0*a_2*b_2^2 - a_1*a_2*b_2^2 - 2*a_0*a_2^2*b_3 + 3*a_1*a_2*b_0*b_3 - 3*a_0*a_2*b_1*b_3 - 2*a_2^2*b_1*b_3 - a_0*a_1*b_2*b_3 + a_1^2*b_2*b_3 - a_0*a_2*b_2*b_3 + 2*a_1*a_2*b_2*b_3 + 3*a_0^2*b_3^2 - 4*a_0*a_1*b_3^2 + 4*a_0*a_2*b_3^2 - a_1*a_2*b_3^2 + 2*a_0*b_3^2 - 2*a_1*b_3^2 + a_2*b_3^2)/(a_0^4 + 2*a_0^3 + 2*a_0^2 + 2*a_0 + 1)"
      ]
     },
     "execution_count": 7,
     "metadata": {},
     "output_type": "execute_result"
    }
   ],
   "source": [
    "%%time\n",
    "resultant_case2 = P1.sylvester_resultant(P2, d)\n",
    "resultant_case2"
   ]
  },
  {
   "cell_type": "markdown",
   "id": "bc85cbe3-e739-4bbf-a786-345d43cae453",
   "metadata": {
    "jp-MarkdownHeadingCollapsed": true,
    "tags": []
   },
   "source": [
    "#### Case 3: coefficients are linked by the derivation"
   ]
  },
  {
   "cell_type": "markdown",
   "id": "bb454f67-b060-4b68-a3f9-c70476348551",
   "metadata": {},
   "source": [
    "In this case, we are going to build the following differential ring:\n",
    "\n",
    "$$a_0' = a_1,\\quad a_1' = a_2,\\quad a_2' = a_0.$$\n",
    "$$b_0' = b_1,\\quad b_1' = b_2,\\quad b_2' = b_3,\\quad b_3' = b_0.$$"
   ]
  },
  {
   "cell_type": "code",
   "execution_count": 8,
   "id": "10a412f9-8f58-43ab-a8c8-c46730d251b6",
   "metadata": {},
   "outputs": [],
   "source": [
    "## Building the base differential field\n",
    "B.<a_0,a_1,a_2,b_0,b_1,b_2,b_3> = QQ[]\n",
    "da_0,da_1,da_2,db_0,db_1,db_2,db_3 = B.derivation_module().gens()\n",
    "D = a_1*da_0 + a_2*da_1 + a_0*da_2 + b_1*db_0 + b_2*db_1 + b_3*db_2 + b_0*db_3\n",
    "\n",
    "## Creating the ring for differential operators\n",
    "T.<d> = DifferentialPolynomialRing(DifferentialRing(F, D))\n",
    "\n",
    "## Creating the two differential operators\n",
    "P1 = a_2*d[2] + a_1*d[1] + a_0*d[0]; P2 = b_3*d[3] + b_2*d[2] + b_1*d[1] + b_0*d[0]"
   ]
  },
  {
   "cell_type": "code",
   "execution_count": 9,
   "id": "070405b2-5b75-4811-9ba4-40b7f6e4fd21",
   "metadata": {},
   "outputs": [
    {
     "name": "stdout",
     "output_type": "stream",
     "text": [
      "CPU times: user 113 ms, sys: 184 µs, total: 113 ms\n",
      "Wall time: 113 ms\n"
     ]
    },
    {
     "data": {
      "text/html": [
       "<html>\\(\\displaystyle a_{0} a_{1} a_{2} b_{0}^{2} + a_{1}^{2} a_{2} b_{0}^{2} - a_{0} a_{2}^{2} b_{0}^{2} - a_{0}^{2} a_{2} b_{0} b_{1} - a_{0} a_{1} a_{2} b_{0} b_{1} + a_{0} a_{2}^{2} b_{1}^{2} - a_{2}^{3} b_{1}^{2} + a_{0}^{2} a_{2} b_{0} b_{2} + a_{0} a_{1} a_{2} b_{0} b_{2} - a_{0} a_{2}^{2} b_{0} b_{2} - a_{0}^{2} a_{2} b_{1} b_{2} - a_{0} a_{1} a_{2} b_{1} b_{2} + 2 a_{1} a_{2}^{2} b_{1} b_{2} + a_{0}^{2} a_{2} b_{2}^{2} - a_{1}^{2} a_{2} b_{2}^{2} - 2 a_{0}^{2} a_{1} b_{0} b_{3} - 3 a_{0} a_{1}^{2} b_{0} b_{3} - a_{1}^{3} b_{0} b_{3} + 3 a_{0}^{2} a_{2} b_{0} b_{3} + 3 a_{0} a_{1} a_{2} b_{0} b_{3} + a_{1}^{2} a_{2} b_{0} b_{3} + a_{0} a_{2}^{2} b_{0} b_{3} - a_{1} a_{2}^{2} b_{0} b_{3} + 2 a_{0}^{3} b_{1} b_{3} + 3 a_{0}^{2} a_{1} b_{1} b_{3} + a_{0} a_{1}^{2} b_{1} b_{3} - 2 a_{0}^{2} a_{2} b_{1} b_{3} - 4 a_{0} a_{1} a_{2} b_{1} b_{3} - a_{1}^{2} a_{2} b_{1} b_{3} - a_{0} a_{2}^{2} b_{1} b_{3} + 2 a_{2}^{3} b_{1} b_{3} - 2 a_{0}^{3} b_{2} b_{3} - a_{0}^{2} a_{1} b_{2} b_{3} + 2 a_{0} a_{1}^{2} b_{2} b_{3} + a_{1}^{3} b_{2} b_{3} + 2 a_{0} a_{1} a_{2} b_{2} b_{3} - 2 a_{1} a_{2}^{2} b_{2} b_{3} - 2 a_{0}^{2} a_{1} b_{3}^{2} - 3 a_{0} a_{1}^{2} b_{3}^{2} - a_{1}^{3} b_{3}^{2} + 2 a_{0}^{2} a_{2} b_{3}^{2} + 3 a_{0} a_{1} a_{2} b_{3}^{2} + 2 a_{1}^{2} a_{2} b_{3}^{2} - a_{2}^{3} b_{3}^{2}\\)</html>"
      ],
      "text/latex": [
       "$\\displaystyle a_{0} a_{1} a_{2} b_{0}^{2} + a_{1}^{2} a_{2} b_{0}^{2} - a_{0} a_{2}^{2} b_{0}^{2} - a_{0}^{2} a_{2} b_{0} b_{1} - a_{0} a_{1} a_{2} b_{0} b_{1} + a_{0} a_{2}^{2} b_{1}^{2} - a_{2}^{3} b_{1}^{2} + a_{0}^{2} a_{2} b_{0} b_{2} + a_{0} a_{1} a_{2} b_{0} b_{2} - a_{0} a_{2}^{2} b_{0} b_{2} - a_{0}^{2} a_{2} b_{1} b_{2} - a_{0} a_{1} a_{2} b_{1} b_{2} + 2 a_{1} a_{2}^{2} b_{1} b_{2} + a_{0}^{2} a_{2} b_{2}^{2} - a_{1}^{2} a_{2} b_{2}^{2} - 2 a_{0}^{2} a_{1} b_{0} b_{3} - 3 a_{0} a_{1}^{2} b_{0} b_{3} - a_{1}^{3} b_{0} b_{3} + 3 a_{0}^{2} a_{2} b_{0} b_{3} + 3 a_{0} a_{1} a_{2} b_{0} b_{3} + a_{1}^{2} a_{2} b_{0} b_{3} + a_{0} a_{2}^{2} b_{0} b_{3} - a_{1} a_{2}^{2} b_{0} b_{3} + 2 a_{0}^{3} b_{1} b_{3} + 3 a_{0}^{2} a_{1} b_{1} b_{3} + a_{0} a_{1}^{2} b_{1} b_{3} - 2 a_{0}^{2} a_{2} b_{1} b_{3} - 4 a_{0} a_{1} a_{2} b_{1} b_{3} - a_{1}^{2} a_{2} b_{1} b_{3} - a_{0} a_{2}^{2} b_{1} b_{3} + 2 a_{2}^{3} b_{1} b_{3} - 2 a_{0}^{3} b_{2} b_{3} - a_{0}^{2} a_{1} b_{2} b_{3} + 2 a_{0} a_{1}^{2} b_{2} b_{3} + a_{1}^{3} b_{2} b_{3} + 2 a_{0} a_{1} a_{2} b_{2} b_{3} - 2 a_{1} a_{2}^{2} b_{2} b_{3} - 2 a_{0}^{2} a_{1} b_{3}^{2} - 3 a_{0} a_{1}^{2} b_{3}^{2} - a_{1}^{3} b_{3}^{2} + 2 a_{0}^{2} a_{2} b_{3}^{2} + 3 a_{0} a_{1} a_{2} b_{3}^{2} + 2 a_{1}^{2} a_{2} b_{3}^{2} - a_{2}^{3} b_{3}^{2}$"
      ],
      "text/plain": [
       "a_0*a_1*a_2*b_0^2 + a_1^2*a_2*b_0^2 - a_0*a_2^2*b_0^2 - a_0^2*a_2*b_0*b_1 - a_0*a_1*a_2*b_0*b_1 + a_0*a_2^2*b_1^2 - a_2^3*b_1^2 + a_0^2*a_2*b_0*b_2 + a_0*a_1*a_2*b_0*b_2 - a_0*a_2^2*b_0*b_2 - a_0^2*a_2*b_1*b_2 - a_0*a_1*a_2*b_1*b_2 + 2*a_1*a_2^2*b_1*b_2 + a_0^2*a_2*b_2^2 - a_1^2*a_2*b_2^2 - 2*a_0^2*a_1*b_0*b_3 - 3*a_0*a_1^2*b_0*b_3 - a_1^3*b_0*b_3 + 3*a_0^2*a_2*b_0*b_3 + 3*a_0*a_1*a_2*b_0*b_3 + a_1^2*a_2*b_0*b_3 + a_0*a_2^2*b_0*b_3 - a_1*a_2^2*b_0*b_3 + 2*a_0^3*b_1*b_3 + 3*a_0^2*a_1*b_1*b_3 + a_0*a_1^2*b_1*b_3 - 2*a_0^2*a_2*b_1*b_3 - 4*a_0*a_1*a_2*b_1*b_3 - a_1^2*a_2*b_1*b_3 - a_0*a_2^2*b_1*b_3 + 2*a_2^3*b_1*b_3 - 2*a_0^3*b_2*b_3 - a_0^2*a_1*b_2*b_3 + 2*a_0*a_1^2*b_2*b_3 + a_1^3*b_2*b_3 + 2*a_0*a_1*a_2*b_2*b_3 - 2*a_1*a_2^2*b_2*b_3 - 2*a_0^2*a_1*b_3^2 - 3*a_0*a_1^2*b_3^2 - a_1^3*b_3^2 + 2*a_0^2*a_2*b_3^2 + 3*a_0*a_1*a_2*b_3^2 + 2*a_1^2*a_2*b_3^2 - a_2^3*b_3^2"
      ]
     },
     "execution_count": 9,
     "metadata": {},
     "output_type": "execute_result"
    }
   ],
   "source": [
    "%%time\n",
    "resultant_case3 = P1.sylvester_resultant(P2, d)\n",
    "resultant_case3"
   ]
  },
  {
   "cell_type": "markdown",
   "id": "ff1925b5-514a-4dac-ab86-d04938fb2a28",
   "metadata": {
    "jp-MarkdownHeadingCollapsed": true,
    "tags": []
   },
   "source": [
    "#### Case 4: coefficients are fully independent"
   ]
  },
  {
   "cell_type": "markdown",
   "id": "fd83e4b2-7c35-498a-b4f8-6d0031d16621",
   "metadata": {},
   "source": [
    "In this case, since we do not have any information about the derivations of the coefficients, they have to be included in the final ring of differential polynomials."
   ]
  },
  {
   "cell_type": "code",
   "execution_count": 10,
   "id": "23ad420b-c909-49ce-b41d-d160ef0e21a2",
   "metadata": {},
   "outputs": [],
   "source": [
    "T.<a0,a1,a2,b0,b1,b2,b3,d> = DifferentialPolynomialRing(QQ)\n",
    "\n",
    "## Creating the two differential operators\n",
    "P1 = a2[0]*d[2] + a1[0]*d[1] + a0[0]*d[0]; P2 = b3[0]*d[3] + b2[0]*d[2] + b1[0]*d[1] + b0[0]*d[0]"
   ]
  },
  {
   "cell_type": "code",
   "execution_count": 11,
   "id": "9e6cd767-b6ee-4d96-9f82-830d3f198014",
   "metadata": {},
   "outputs": [
    {
     "name": "stdout",
     "output_type": "stream",
     "text": [
      "-a0_2*a0_0*a2_0*b3_0^2 - a0_2*a1_1*a2_0*b3_0^2 + a0_2*a1_0^2*b3_0^2 + a0_2*a1_0*a2_1*b3_0^2 - a0_2*a1_0*a2_0*b2_0*b3_0 + a0_2*a2_0^2*b1_0*b3_0 + 2*a0_1^2*a2_0*b3_0^2 + (-3)*a0_1*a0_0*a1_0*b3_0^2 + (-2)*a0_1*a0_0*a2_1*b3_0^2 + 2*a0_1*a0_0*a2_0*b2_0*b3_0 + a0_1*a1_2*a2_0*b3_0^2 + (-2)*a0_1*a1_1*a1_0*b3_0^2 + a0_1*a1_0^2*b2_0*b3_0 - a0_1*a1_0*a2_2*b3_0^2 + 2*a0_1*a1_0*a2_1*b2_0*b3_0 + a0_1*a1_0*a2_0*b2_1*b3_0 - a0_1*a1_0*a2_0*b2_0^2 - a0_1*a1_0*a2_0*b2_0*b3_1 + (-2)*a0_1*a2_1*a2_0*b1_0*b3_0 + (-3)*a0_1*a2_0^2*b0_0*b3_0 - a0_1*a2_0^2*b1_1*b3_0 + a0_1*a2_0^2*b1_0*b2_0 + a0_1*a2_0^2*b1_0*b3_1 + a0_0^3*b3_0^2 + 3*a0_0^2*a1_1*b3_0^2 - a0_0^2*a1_0*b2_0*b3_0 + a0_0^2*a2_2*b3_0^2 + (-2)*a0_0^2*a2_1*b2_0*b3_0 + (-2)*a0_0^2*a2_0*b1_0*b3_0 - a0_0^2*a2_0*b2_1*b3_0 + a0_0^2*a2_0*b2_0^2 + a0_0^2*a2_0*b2_0*b3_1 - a0_0*a1_2*a1_0*b3_0^2 - a0_0*a1_2*a2_1*b3_0^2 + a0_0*a1_2*a2_0*b2_0*b3_0 + 2*a0_0*a1_1^2*b3_0^2 - a0_0*a1_1*a1_0*b2_0*b3_0 + a0_0*a1_1*a2_2*b3_0^2 + (-2)*a0_0*a1_1*a2_1*b2_0*b3_0 + (-3)*a0_0*a1_1*a2_0*b1_0*b3_0 - a0_0*a1_1*a2_0*b2_1*b3_0 + a0_0*a1_1*a2_0*b2_0^2 + a0_0*a1_1*a2_0*b2_0*b3_1 + a0_0*a1_0^2*b1_0*b3_0 + 3*a0_0*a1_0*a2_1*b1_0*b3_0 + 3*a0_0*a1_0*a2_0*b0_0*b3_0 + a0_0*a1_0*a2_0*b1_1*b3_0 - a0_0*a1_0*a2_0*b1_0*b2_0 - a0_0*a1_0*a2_0*b1_0*b3_1 - a0_0*a2_2*a2_0*b1_0*b3_0 + 2*a0_0*a2_1^2*b1_0*b3_0 + 3*a0_0*a2_1*a2_0*b0_0*b3_0 + a0_0*a2_1*a2_0*b1_1*b3_0 - a0_0*a2_1*a2_0*b1_0*b2_0 - a0_0*a2_1*a2_0*b1_0*b3_1 + a0_0*a2_0^2*b0_1*b3_0 + (-2)*a0_0*a2_0^2*b0_0*b2_0 - a0_0*a2_0^2*b0_0*b3_1 - a0_0*a2_0^2*b1_1*b2_0 + a0_0*a2_0^2*b1_0^2 + a0_0*a2_0^2*b1_0*b2_1 - a1_2*a2_0^2*b0_0*b3_0 + 3*a1_1*a1_0*a2_0*b0_0*b3_0 + 2*a1_1*a2_1*a2_0*b0_0*b3_0 + a1_1*a2_0^2*b0_1*b3_0 - a1_1*a2_0^2*b0_0*b2_0 - a1_1*a2_0^2*b0_0*b3_1 - a1_0^3*b0_0*b3_0 + (-3)*a1_0^2*a2_1*b0_0*b3_0 - a1_0^2*a2_0*b0_1*b3_0 + a1_0^2*a2_0*b0_0*b2_0 + a1_0^2*a2_0*b0_0*b3_1 + a1_0*a2_2*a2_0*b0_0*b3_0 + (-2)*a1_0*a2_1^2*b0_0*b3_0 - a1_0*a2_1*a2_0*b0_1*b3_0 + a1_0*a2_1*a2_0*b0_0*b2_0 + a1_0*a2_1*a2_0*b0_0*b3_1 + a1_0*a2_0^2*b0_1*b2_0 - a1_0*a2_0^2*b0_0*b1_0 - a1_0*a2_0^2*b0_0*b2_1 - a2_0^3*b0_1*b1_0 + a2_0^3*b0_0^2 + a2_0^3*b0_0*b1_1\n",
      "CPU times: user 451 ms, sys: 100 ms, total: 551 ms\n",
      "Wall time: 551 ms\n"
     ]
    }
   ],
   "source": [
    "%%time\n",
    "resultant_case4 = P1.sylvester_resultant(P2, d)\n",
    "print(resultant_case4) # too long for MathJax to process"
   ]
  },
  {
   "cell_type": "code",
   "execution_count": 12,
   "id": "21d830f1-2cdc-47fc-ba3e-e4d2847a40c4",
   "metadata": {},
   "outputs": [
    {
     "name": "stdout",
     "output_type": "stream",
     "text": [
      "a0_2*a0_0*a2_0*b3_0^2      --> -1\n",
      "a0_2*a1_1*a2_0*b3_0^2      --> -1\n",
      "a0_2*a1_0^2*b3_0^2         --> 1\n",
      "a0_2*a1_0*a2_1*b3_0^2      --> 1\n",
      "a0_2*a1_0*a2_0*b2_0*b3_0   --> -1\n",
      "a0_2*a2_0^2*b1_0*b3_0      --> 1\n",
      "a0_1^2*a2_0*b3_0^2         --> 2\n",
      "a0_1*a0_0*a1_0*b3_0^2      --> -3\n",
      "a0_1*a0_0*a2_1*b3_0^2      --> -2\n",
      "a0_1*a0_0*a2_0*b2_0*b3_0   --> 2\n",
      "a0_1*a1_2*a2_0*b3_0^2      --> 1\n",
      "a0_1*a1_1*a1_0*b3_0^2      --> -2\n",
      "a0_1*a1_0^2*b2_0*b3_0      --> 1\n",
      "a0_1*a1_0*a2_2*b3_0^2      --> -1\n",
      "a0_1*a1_0*a2_1*b2_0*b3_0   --> 2\n",
      "a0_1*a1_0*a2_0*b2_1*b3_0   --> 1\n",
      "a0_1*a1_0*a2_0*b2_0^2      --> -1\n",
      "a0_1*a1_0*a2_0*b2_0*b3_1   --> -1\n",
      "a0_1*a2_1*a2_0*b1_0*b3_0   --> -2\n",
      "a0_1*a2_0^2*b0_0*b3_0      --> -3\n",
      "a0_1*a2_0^2*b1_1*b3_0      --> -1\n",
      "a0_1*a2_0^2*b1_0*b2_0      --> 1\n",
      "a0_1*a2_0^2*b1_0*b3_1      --> 1\n",
      "a0_0^3*b3_0^2              --> 1\n",
      "a0_0^2*a1_1*b3_0^2         --> 3\n",
      "a0_0^2*a1_0*b2_0*b3_0      --> -1\n",
      "a0_0^2*a2_2*b3_0^2         --> 1\n",
      "a0_0^2*a2_1*b2_0*b3_0      --> -2\n",
      "a0_0^2*a2_0*b1_0*b3_0      --> -2\n",
      "a0_0^2*a2_0*b2_1*b3_0      --> -1\n",
      "a0_0^2*a2_0*b2_0^2         --> 1\n",
      "a0_0^2*a2_0*b2_0*b3_1      --> 1\n",
      "a0_0*a1_2*a1_0*b3_0^2      --> -1\n",
      "a0_0*a1_2*a2_1*b3_0^2      --> -1\n",
      "a0_0*a1_2*a2_0*b2_0*b3_0   --> 1\n",
      "a0_0*a1_1^2*b3_0^2         --> 2\n",
      "a0_0*a1_1*a1_0*b2_0*b3_0   --> -1\n",
      "a0_0*a1_1*a2_2*b3_0^2      --> 1\n",
      "a0_0*a1_1*a2_1*b2_0*b3_0   --> -2\n",
      "a0_0*a1_1*a2_0*b1_0*b3_0   --> -3\n",
      "a0_0*a1_1*a2_0*b2_1*b3_0   --> -1\n",
      "a0_0*a1_1*a2_0*b2_0^2      --> 1\n",
      "a0_0*a1_1*a2_0*b2_0*b3_1   --> 1\n",
      "a0_0*a1_0^2*b1_0*b3_0      --> 1\n",
      "a0_0*a1_0*a2_1*b1_0*b3_0   --> 3\n",
      "a0_0*a1_0*a2_0*b0_0*b3_0   --> 3\n",
      "a0_0*a1_0*a2_0*b1_1*b3_0   --> 1\n",
      "a0_0*a1_0*a2_0*b1_0*b2_0   --> -1\n",
      "a0_0*a1_0*a2_0*b1_0*b3_1   --> -1\n",
      "a0_0*a2_2*a2_0*b1_0*b3_0   --> -1\n",
      "a0_0*a2_1^2*b1_0*b3_0      --> 2\n",
      "a0_0*a2_1*a2_0*b0_0*b3_0   --> 3\n",
      "a0_0*a2_1*a2_0*b1_1*b3_0   --> 1\n",
      "a0_0*a2_1*a2_0*b1_0*b2_0   --> -1\n",
      "a0_0*a2_1*a2_0*b1_0*b3_1   --> -1\n",
      "a0_0*a2_0^2*b0_1*b3_0      --> 1\n",
      "a0_0*a2_0^2*b0_0*b2_0      --> -2\n",
      "a0_0*a2_0^2*b0_0*b3_1      --> -1\n",
      "a0_0*a2_0^2*b1_1*b2_0      --> -1\n",
      "a0_0*a2_0^2*b1_0^2         --> 1\n",
      "a0_0*a2_0^2*b1_0*b2_1      --> 1\n",
      "a1_2*a2_0^2*b0_0*b3_0      --> -1\n",
      "a1_1*a1_0*a2_0*b0_0*b3_0   --> 3\n",
      "a1_1*a2_1*a2_0*b0_0*b3_0   --> 2\n",
      "a1_1*a2_0^2*b0_1*b3_0      --> 1\n",
      "a1_1*a2_0^2*b0_0*b2_0      --> -1\n",
      "a1_1*a2_0^2*b0_0*b3_1      --> -1\n",
      "a1_0^3*b0_0*b3_0           --> -1\n",
      "a1_0^2*a2_1*b0_0*b3_0      --> -3\n",
      "a1_0^2*a2_0*b0_1*b3_0      --> -1\n",
      "a1_0^2*a2_0*b0_0*b2_0      --> 1\n",
      "a1_0^2*a2_0*b0_0*b3_1      --> 1\n",
      "a1_0*a2_2*a2_0*b0_0*b3_0   --> 1\n",
      "a1_0*a2_1^2*b0_0*b3_0      --> -2\n",
      "a1_0*a2_1*a2_0*b0_1*b3_0   --> -1\n",
      "a1_0*a2_1*a2_0*b0_0*b2_0   --> 1\n",
      "a1_0*a2_1*a2_0*b0_0*b3_1   --> 1\n",
      "a1_0*a2_0^2*b0_1*b2_0      --> 1\n",
      "a1_0*a2_0^2*b0_0*b1_0      --> -1\n",
      "a1_0*a2_0^2*b0_0*b2_1      --> -1\n",
      "a2_0^3*b0_1*b1_0           --> -1\n",
      "a2_0^3*b0_0^2              --> 1\n",
      "a2_0^3*b0_0*b1_1           --> 1\n"
     ]
    }
   ],
   "source": [
    "l = max(len(str(m)) for m in resultant_case4.monomials())\n",
    "for c,m in zip(resultant_case4.coefficients(), resultant_case4.monomials()):\n",
    "    print(f\"{m}\".ljust(l+2, \" \") + f\" --> {c}\")"
   ]
  },
  {
   "cell_type": "markdown",
   "id": "ab290dab-0631-4ff7-a729-76eb5d08215d",
   "metadata": {},
   "source": [
    "### Subresultant sequences"
   ]
  },
  {
   "cell_type": "markdown",
   "id": "38bcb9fa-3005-4cef-ab8c-b42b7995d9f8",
   "metadata": {
    "tags": []
   },
   "source": [
    "### Subresultant sequences"
   ]
  },
  {
   "cell_type": "markdown",
   "id": "7aa92aa5-78fd-4778-9dee-47a88e2c825e",
   "metadata": {},
   "source": [
    "Following the notation in subsection 3.2.2 of the paper, we will define the subresultant sequence for two linear operators: let $P, Q$ be two linear operators with orders $n$ and $m$ respectively. For $k \\in \\{0,\\ldots,N\\}$ where $N = \\min(n,m)-1$, we define the matrix $S_k(P,Q)$ as the coefficient matrix (w.r.t. the main operator) of the operators \n",
    "$$\\Xi_k(P,Q) = \\{P,\\partial P\\ldots, \\partial^{m-1-k} Q, Q, \\partial Q,\\ldots, \\partial^{n-1-k} Q\\}.$$\n",
    "\n",
    "The matrix $S_k(P,Q)$ has always $n+m-2k$ rows and $n+m-k$ columns. In particular, when $k = 0$, we have the Sylvester matrix leading the the Sylvester resultant. Hence, we can see the matrices $S_k(P,Q)$ as specific submatrices of $S(P,Q) = S_0(P,Q)$ where we have removed the higher order rows and the columns that are fully zero.\n",
    "\n",
    "**The computation of this matrix is included in the method `sylvester_matrix` by providing an extra argument for $k$.**\n",
    "\n",
    "As remarked before, the matrices $S_k(P,Q)$ have $k$ more columns than rows. In order to obtain a square matrix, we need to remove $k$ columns. We can do that by removing $k$ out of the $k+1$ columns of $S_k(P,Q)$, or equivalently, $k$ columns from those indexed by ${1,\\ldots,\\partial^k}$. The matrix that keeps the partix for $\\partial^i$ is denoted with $S_k^i(P,Q)$. \n",
    "\n",
    "**The determinants of these matrices can be obtained with the method `sylvester_subresultant` by givin both $k$ and $i$.**\n",
    "\n",
    "Then, observe that these subresultants do not have the operator $\\partial$. Hence, we can build new linear operators using these subresultants:\n",
    "$$\\mathcal{L}_k = \\sum_{i=0}^k \\det(S_k^i(P,Q))\\partial^i.$$\n",
    "The sequence $[\\mathcal{L}_0,\\ldots, \\mathcal{L}_N]$ is called *subresultant sequence* and, as shown in the paper, it has nice properties related with the *gcd* of the operators $P$ and $Q$.\n",
    "\n",
    "**The subresultant sequence can be computed using the method `sylvester_subresultant_sequence`.**"
   ]
  },
  {
   "cell_type": "markdown",
   "id": "8a36b3e5-ee1f-461e-bdbb-4f4d2964461b",
   "metadata": {},
   "source": [
    "### Subsection 3.3 with formal examples"
   ]
  },
  {
   "cell_type": "markdown",
   "id": "02f84797-2fae-49dd-9bc3-33d63f844e8c",
   "metadata": {},
   "source": [
    "In this section we use all the previous described pieces to compute with the *spectral* operators:\n",
    "$$L_u - \\lambda\\qquad\\qquad\\hat{P}_{2s+1} - \\mu$$\n",
    "where $\\lambda, \\mu$ are constants. We will then prepare the corresponding set up here and compute the objects described in Remark 3.8 and subsection 3.3."
   ]
  },
  {
   "cell_type": "code",
   "execution_count": 16,
   "id": "a595fde6-e6d6-45fe-8b72-731424c78fdd",
   "metadata": {},
   "outputs": [],
   "source": [
    "SchR.<u,y> = RWOPolynomialRing(DifferentialRing(QQ[\"l\",\"m\"], lambda p : 0))\n",
    "l,m = SchR.base().gens()\n",
    "L = -y[2] + u[0]*y[0]"
   ]
  },
  {
   "cell_type": "code",
   "execution_count": null,
   "id": "93a603ab-28de-4b29-a16d-6d73cbb57e19",
   "metadata": {},
   "outputs": [],
   "source": [
    "%%time \n",
    "Phat = [Phat_odd(i,u,y,L) for i in range(10)] # computing the first Phat polynomials"
   ]
  },
  {
   "cell_type": "markdown",
   "id": "48cb3703-4f30-4cc6-a2c2-1f6e3ad3be81",
   "metadata": {},
   "source": [
    "##### **Some values for $\\kdv$ and $v$**\n",
    "\n",
    "At the beginning of subsection 3.3, the first values for $\\kdv_2,\\kdv_3$ and $v_2, v_3$ are written: "
   ]
  },
  {
   "cell_type": "code",
   "execution_count": 17,
   "id": "141ef147-5b6b-451d-8913-6de727757c2e",
   "metadata": {},
   "outputs": [
    {
     "data": {
      "text/html": [
       "<html>\\(\\displaystyle \\text{kdv}(2) \\mapsto \\frac{15}{8} u_{1} u_{0}^{2} + \\left(-\\frac{5}{8}\\right) u_{3} u_{0} + \\left(-\\frac{5}{4}\\right) u_{2} u_{1} + \\frac{1}{16} u_{5}\\)</html>"
      ],
      "text/latex": [
       "$\\displaystyle \\text{kdv}(2) \\mapsto \\frac{15}{8} u_{1} u_{0}^{2} + \\left(-\\frac{5}{8}\\right) u_{3} u_{0} + \\left(-\\frac{5}{4}\\right) u_{2} u_{1} + \\frac{1}{16} u_{5}$"
      ],
      "text/plain": [
       "\\text{kdv}(2) \\mapsto \\frac{15}{8} u_{1} u_{0}^{2} + \\left(-\\frac{5}{8}\\right) u_{3} u_{0} + \\left(-\\frac{5}{4}\\right) u_{2} u_{1} + \\frac{1}{16} u_{5}"
      ]
     },
     "metadata": {},
     "output_type": "display_data"
    },
    {
     "data": {
      "text/html": [
       "<html>\\(\\displaystyle \\text{kdv}(3) \\mapsto \\frac{35}{16} u_{1} u_{0}^{3} + \\left(-\\frac{35}{32}\\right) u_{3} u_{0}^{2} + \\left(-\\frac{35}{8}\\right) u_{2} u_{1} u_{0} + \\left(-\\frac{35}{32}\\right) u_{1}^{3} + \\frac{7}{32} u_{5} u_{0} + \\frac{21}{32} u_{4} u_{1} + \\frac{35}{32} u_{3} u_{2} + \\left(-\\frac{1}{64}\\right) u_{7}\\)</html>"
      ],
      "text/latex": [
       "$\\displaystyle \\text{kdv}(3) \\mapsto \\frac{35}{16} u_{1} u_{0}^{3} + \\left(-\\frac{35}{32}\\right) u_{3} u_{0}^{2} + \\left(-\\frac{35}{8}\\right) u_{2} u_{1} u_{0} + \\left(-\\frac{35}{32}\\right) u_{1}^{3} + \\frac{7}{32} u_{5} u_{0} + \\frac{21}{32} u_{4} u_{1} + \\frac{35}{32} u_{3} u_{2} + \\left(-\\frac{1}{64}\\right) u_{7}$"
      ],
      "text/plain": [
       "\\text{kdv}(3) \\mapsto \\frac{35}{16} u_{1} u_{0}^{3} + \\left(-\\frac{35}{32}\\right) u_{3} u_{0}^{2} + \\left(-\\frac{35}{8}\\right) u_{2} u_{1} u_{0} + \\left(-\\frac{35}{32}\\right) u_{1}^{3} + \\frac{7}{32} u_{5} u_{0} + \\frac{21}{32} u_{4} u_{1} + \\frac{35}{32} u_{3} u_{2} + \\left(-\\frac{1}{64}\\right) u_{7}"
      ]
     },
     "metadata": {},
     "output_type": "display_data"
    },
    {
     "data": {
      "text/html": [
       "<html>\\(\\displaystyle v(2) \\mapsto \\frac{3}{8} u_{0}^{2} + \\left(-\\frac{1}{8}\\right) u_{2}\\)</html>"
      ],
      "text/latex": [
       "$\\displaystyle v(2) \\mapsto \\frac{3}{8} u_{0}^{2} + \\left(-\\frac{1}{8}\\right) u_{2}$"
      ],
      "text/plain": [
       "v(2) \\mapsto \\frac{3}{8} u_{0}^{2} + \\left(-\\frac{1}{8}\\right) u_{2}"
      ]
     },
     "metadata": {},
     "output_type": "display_data"
    },
    {
     "data": {
      "text/html": [
       "<html>\\(\\displaystyle v(3) \\mapsto \\frac{5}{16} u_{0}^{3} + \\left(-\\frac{5}{16}\\right) u_{2} u_{0} + \\left(-\\frac{5}{32}\\right) u_{1}^{2} + \\frac{1}{32} u_{4}\\)</html>"
      ],
      "text/latex": [
       "$\\displaystyle v(3) \\mapsto \\frac{5}{16} u_{0}^{3} + \\left(-\\frac{5}{16}\\right) u_{2} u_{0} + \\left(-\\frac{5}{32}\\right) u_{1}^{2} + \\frac{1}{32} u_{4}$"
      ],
      "text/plain": [
       "v(3) \\mapsto \\frac{5}{16} u_{0}^{3} + \\left(-\\frac{5}{16}\\right) u_{2} u_{0} + \\left(-\\frac{5}{32}\\right) u_{1}^{2} + \\frac{1}{32} u_{4}"
      ]
     },
     "metadata": {},
     "output_type": "display_data"
    }
   ],
   "source": [
    "show(r\"\\text{kdv}(2) \\mapsto\" + latex(kdv(2, u)))\n",
    "show(r\"\\text{kdv}(3) \\mapsto\" + latex(kdv(3, u)))\n",
    "show(r\"v(2) \\mapsto\" + latex(v(2, u)))\n",
    "show(r\"v(3) \\mapsto\" + latex(v(3, u)))"
   ]
  },
  {
   "cell_type": "markdown",
   "id": "e9f1c3fd-0562-4775-81ad-33c73cfa5905",
   "metadata": {},
   "source": [
    "##### **Some values for $P$**\n",
    "\n",
    "Then, values for $P_3,P_5$ and $P_7$ are given:"
   ]
  },
  {
   "cell_type": "code",
   "execution_count": 18,
   "id": "726bdd03-d24f-49e0-9f19-132e1bc0d260",
   "metadata": {},
   "outputs": [
    {
     "data": {
      "text/html": [
       "<html>\\(\\displaystyle P_3 \\mapsto \\frac{3}{4} u_{1} y_{0} + \\frac{3}{2} u_{0} y_{1} - y_{3}\\)</html>"
      ],
      "text/latex": [
       "$\\displaystyle P_3 \\mapsto \\frac{3}{4} u_{1} y_{0} + \\frac{3}{2} u_{0} y_{1} - y_{3}$"
      ],
      "text/plain": [
       "P_3 \\mapsto \\frac{3}{4} u_{1} y_{0} + \\frac{3}{2} u_{0} y_{1} - y_{3}"
      ]
     },
     "metadata": {},
     "output_type": "display_data"
    },
    {
     "data": {
      "text/html": [
       "<html>\\(\\displaystyle P_5 \\mapsto \\frac{15}{8} u_{1} u_{0} y_{0} + \\frac{15}{8} u_{0}^{2} y_{1} + \\left(-\\frac{15}{16}\\right) u_{3} y_{0} + \\left(-\\frac{25}{8}\\right) u_{2} y_{1} + \\left(-\\frac{15}{4}\\right) u_{1} y_{2} + \\left(-\\frac{5}{2}\\right) u_{0} y_{3} + 1 y_{5}\\)</html>"
      ],
      "text/latex": [
       "$\\displaystyle P_5 \\mapsto \\frac{15}{8} u_{1} u_{0} y_{0} + \\frac{15}{8} u_{0}^{2} y_{1} + \\left(-\\frac{15}{16}\\right) u_{3} y_{0} + \\left(-\\frac{25}{8}\\right) u_{2} y_{1} + \\left(-\\frac{15}{4}\\right) u_{1} y_{2} + \\left(-\\frac{5}{2}\\right) u_{0} y_{3} + 1 y_{5}$"
      ],
      "text/plain": [
       "P_5 \\mapsto \\frac{15}{8} u_{1} u_{0} y_{0} + \\frac{15}{8} u_{0}^{2} y_{1} + \\left(-\\frac{15}{16}\\right) u_{3} y_{0} + \\left(-\\frac{25}{8}\\right) u_{2} y_{1} + \\left(-\\frac{15}{4}\\right) u_{1} y_{2} + \\left(-\\frac{5}{2}\\right) u_{0} y_{3} + 1 y_{5}"
      ]
     },
     "metadata": {},
     "output_type": "display_data"
    },
    {
     "data": {
      "text/html": [
       "<html>\\(\\displaystyle P_7 \\mapsto \\frac{105}{32} u_{1} u_{0}^{2} y_{0} + \\frac{35}{16} u_{0}^{3} y_{1} + \\left(-\\frac{105}{32}\\right) u_{3} u_{0} y_{0} + \\left(-\\frac{105}{16}\\right) u_{2} u_{1} y_{0} + \\left(-\\frac{175}{16}\\right) u_{2} u_{0} y_{1} + \\left(-\\frac{245}{32}\\right) u_{1}^{2} y_{1} + \\left(-\\frac{105}{8}\\right) u_{1} u_{0} y_{2} + \\left(-\\frac{35}{8}\\right) u_{0}^{2} y_{3} + \\frac{63}{64} u_{5} y_{0} + \\frac{161}{32} u_{4} y_{1} + \\frac{175}{16} u_{3} y_{2} + \\frac{105}{8} u_{2} y_{3} + \\frac{35}{4} u_{1} y_{4} + \\frac{7}{2} u_{0} y_{5} - y_{7}\\)</html>"
      ],
      "text/latex": [
       "$\\displaystyle P_7 \\mapsto \\frac{105}{32} u_{1} u_{0}^{2} y_{0} + \\frac{35}{16} u_{0}^{3} y_{1} + \\left(-\\frac{105}{32}\\right) u_{3} u_{0} y_{0} + \\left(-\\frac{105}{16}\\right) u_{2} u_{1} y_{0} + \\left(-\\frac{175}{16}\\right) u_{2} u_{0} y_{1} + \\left(-\\frac{245}{32}\\right) u_{1}^{2} y_{1} + \\left(-\\frac{105}{8}\\right) u_{1} u_{0} y_{2} + \\left(-\\frac{35}{8}\\right) u_{0}^{2} y_{3} + \\frac{63}{64} u_{5} y_{0} + \\frac{161}{32} u_{4} y_{1} + \\frac{175}{16} u_{3} y_{2} + \\frac{105}{8} u_{2} y_{3} + \\frac{35}{4} u_{1} y_{4} + \\frac{7}{2} u_{0} y_{5} - y_{7}$"
      ],
      "text/plain": [
       "P_7 \\mapsto \\frac{105}{32} u_{1} u_{0}^{2} y_{0} + \\frac{35}{16} u_{0}^{3} y_{1} + \\left(-\\frac{105}{32}\\right) u_{3} u_{0} y_{0} + \\left(-\\frac{105}{16}\\right) u_{2} u_{1} y_{0} + \\left(-\\frac{175}{16}\\right) u_{2} u_{0} y_{1} + \\left(-\\frac{245}{32}\\right) u_{1}^{2} y_{1} + \\left(-\\frac{105}{8}\\right) u_{1} u_{0} y_{2} + \\left(-\\frac{35}{8}\\right) u_{0}^{2} y_{3} + \\frac{63}{64} u_{5} y_{0} + \\frac{161}{32} u_{4} y_{1} + \\frac{175}{16} u_{3} y_{2} + \\frac{105}{8} u_{2} y_{3} + \\frac{35}{4} u_{1} y_{4} + \\frac{7}{2} u_{0} y_{5} - y_{7}"
      ]
     },
     "metadata": {},
     "output_type": "display_data"
    }
   ],
   "source": [
    "show(r\"P_3 \\mapsto\" + latex(P_odd(1,u,y,L)))\n",
    "show(r\"P_5 \\mapsto\" + latex(P_odd(2,u,y,L)))\n",
    "show(r\"P_7 \\mapsto\" + latex(P_odd(3,u,y,L)))"
   ]
  },
  {
   "cell_type": "markdown",
   "id": "268483ec-28b2-44e2-ad52-0c6272f4eb38",
   "metadata": {},
   "source": [
    "##### **Differential resultant of $L$ and $\\hat{P}_3$**\n",
    "\n",
    "Now we consider the Schrödinger operator $L_u = -\\partial^2 + u$ and the related $\\hat{P}_3(u,c^1)$ operator. We can observe that \n",
    "$$\\hat{P}_3(u,c^1) = P_3 + c_1P_1.$$"
   ]
  },
  {
   "cell_type": "code",
   "execution_count": 19,
   "id": "bb98f7d3-d497-4dcc-b317-1e886eddf8ec",
   "metadata": {},
   "outputs": [
    {
     "data": {
      "text/html": [
       "<html>\\(\\displaystyle \\frac{3}{4} u_{1} y_{0} + \\frac{3}{2} u_{0} y_{1} - y_{3} + c_{1} y_{1}\\)</html>"
      ],
      "text/latex": [
       "$\\displaystyle \\frac{3}{4} u_{1} y_{0} + \\frac{3}{2} u_{0} y_{1} - y_{3} + c_{1} y_{1}$"
      ],
      "text/plain": [
       "3/4*u_1*y_0 + 3/2*u_0*y_1 - y_3 + c_1*y_1"
      ]
     },
     "metadata": {},
     "output_type": "display_data"
    }
   ],
   "source": [
    "Phat3 = Phat[1]; show(Phat3)"
   ]
  },
  {
   "cell_type": "code",
   "execution_count": 20,
   "id": "571f9620-2abe-4870-8078-e6eb1638f479",
   "metadata": {},
   "outputs": [
    {
     "data": {
      "text/html": [
       "<html>\\(\\displaystyle 1 y_{1}\\)</html>"
      ],
      "text/latex": [
       "$\\displaystyle 1 y_{1}$"
      ],
      "text/plain": [
       "y_1"
      ]
     },
     "metadata": {},
     "output_type": "display_data"
    },
    {
     "data": {
      "text/html": [
       "<html>\\(\\displaystyle \\frac{3}{4} u_{1} y_{0} + \\frac{3}{2} u_{0} y_{1} - y_{3}\\)</html>"
      ],
      "text/latex": [
       "$\\displaystyle \\frac{3}{4} u_{1} y_{0} + \\frac{3}{2} u_{0} y_{1} - y_{3}$"
      ],
      "text/plain": [
       "3/4*u_1*y_0 + 3/2*u_0*y_1 - y_3"
      ]
     },
     "metadata": {},
     "output_type": "display_data"
    }
   ],
   "source": [
    "show(P_odd(0,u,y,L)); show(P_odd(1,u,y,L))"
   ]
  },
  {
   "cell_type": "markdown",
   "id": "e64c3edd-18f5-47a4-b188-743e6b668c08",
   "metadata": {},
   "source": [
    "We then proceed to compute the differential resultant of $L - \\lambda$ and $\\hat{P}_3 - \\mu$:"
   ]
  },
  {
   "cell_type": "code",
   "execution_count": 21,
   "id": "32f812a6-6946-49c5-9f38-2b20cc927a03",
   "metadata": {},
   "outputs": [
    {
     "name": "stdout",
     "output_type": "stream",
     "text": [
      "CPU times: user 103 ms, sys: 90 µs, total: 104 ms\n",
      "Wall time: 103 ms\n"
     ]
    },
    {
     "data": {
      "text/html": [
       "<html>\\(\\displaystyle \\frac{1}{4} u_{0}^{3} + \\left(-\\frac{1}{8}\\right) u_{2} u_{0} + \\frac{1}{16} u_{1}^{2} + \\left(\\frac{3}{4} l + c_{1}\\right) u_{0}^{2} + \\left(-\\frac{1}{4} l - \\frac{1}{4} c_{1}\\right) u_{2} + \\left(l c_{1} + c_{1}^{2}\\right) u_{0} - l^{3} - 2 l^{2} c_{1} - l c_{1}^{2} - m^{2}\\)</html>"
      ],
      "text/latex": [
       "$\\displaystyle \\frac{1}{4} u_{0}^{3} + \\left(-\\frac{1}{8}\\right) u_{2} u_{0} + \\frac{1}{16} u_{1}^{2} + \\left(\\frac{3}{4} l + c_{1}\\right) u_{0}^{2} + \\left(-\\frac{1}{4} l - \\frac{1}{4} c_{1}\\right) u_{2} + \\left(l c_{1} + c_{1}^{2}\\right) u_{0} - l^{3} - 2 l^{2} c_{1} - l c_{1}^{2} - m^{2}$"
      ],
      "text/plain": [
       "1/4*u_0^3 + (-1/8)*u_2*u_0 + 1/16*u_1^2 + (3/4*l + c_1)*u_0^2 + (-1/4*l - 1/4*c_1)*u_2 + (l*c_1 + c_1^2)*u_0 - l^3 - 2*l^2*c_1 - l*c_1^2 - m^2"
      ]
     },
     "execution_count": 21,
     "metadata": {},
     "output_type": "execute_result"
    }
   ],
   "source": [
    "%%time\n",
    "R = Phat3.parent(); uR, yR = R.gens(); mR = R.base()(\"m\"); lR = R.base()(\"l\")\n",
    "diff_res_L_Phat3 = R.sylvester_resultant(L - lR*yR[0], Phat3 - mR*yR[0], yR)\n",
    "diff_res_L_Phat3"
   ]
  },
  {
   "cell_type": "markdown",
   "id": "3f9392a7-0bdd-49c7-bb64-fb825b1e8cfd",
   "metadata": {},
   "source": [
    "In Remark 3.8, it was pointed out that this resultant can be written always as:\n",
    "$$-\\mu^2 + R_{2s+1}(u,c^s, \\lambda),$$\n",
    "where the $R_{2s+1}(u,c^s,\\lambda)$ is a polynomial in $C\\{u\\}[c^s,\\lambda]$. Let us showcase this:"
   ]
  },
  {
   "cell_type": "code",
   "execution_count": 22,
   "id": "a6f1f785-5155-40e4-b716-dbc60323de6d",
   "metadata": {},
   "outputs": [
    {
     "data": {
      "text/html": [
       "<html>\\(\\displaystyle \\left(2, \\left[\\frac{1}{4} u_{0}^{3} + \\frac{3}{4} u_{0}^{2} l - l^{3} + u_{0}^{2} c_{1} + u_{0} l c_{1} - 2 l^{2} c_{1} + u_{0} c_{1}^{2} - l c_{1}^{2} + \\frac{1}{16} u_{1}^{2} - \\frac{1}{8} u_{2} u_{0} - \\frac{1}{4} u_{2} l - \\frac{1}{4} u_{2} c_{1}, 0, -1\\right]\\right)\\)</html>"
      ],
      "text/latex": [
       "$\\displaystyle \\left(2, \\left[\\frac{1}{4} u_{0}^{3} + \\frac{3}{4} u_{0}^{2} l - l^{3} + u_{0}^{2} c_{1} + u_{0} l c_{1} - 2 l^{2} c_{1} + u_{0} c_{1}^{2} - l c_{1}^{2} + \\frac{1}{16} u_{1}^{2} - \\frac{1}{8} u_{2} u_{0} - \\frac{1}{4} u_{2} l - \\frac{1}{4} u_{2} c_{1}, 0, -1\\right]\\right)$"
      ],
      "text/plain": [
       "(2,\n",
       " [1/4*u_0^3 + 3/4*u_0^2*l - l^3 + u_0^2*c_1 + u_0*l*c_1 - 2*l^2*c_1 + u_0*c_1^2 - l*c_1^2 + 1/16*u_1^2 - 1/8*u_2*u_0 - 1/4*u_2*l - 1/4*u_2*c_1,\n",
       "  0,\n",
       "  -1])"
      ]
     },
     "metadata": {},
     "output_type": "display_data"
    },
    {
     "data": {
      "text/html": [
       "<html>\\(\\displaystyle \\frac{1}{4} u_{0}^{3} + \\left(-\\frac{1}{8}\\right) u_{2} u_{0} + \\frac{1}{16} u_{1}^{2} + \\left(\\frac{3}{4} l + c_{1}\\right) u_{0}^{2} + \\left(-\\frac{1}{4} l - \\frac{1}{4} c_{1}\\right) u_{2} + \\left(l c_{1} + c_{1}^{2}\\right) u_{0} - l^{3} - 2 l^{2} c_{1} - l c_{1}^{2}\\)</html>"
      ],
      "text/latex": [
       "$\\displaystyle \\frac{1}{4} u_{0}^{3} + \\left(-\\frac{1}{8}\\right) u_{2} u_{0} + \\frac{1}{16} u_{1}^{2} + \\left(\\frac{3}{4} l + c_{1}\\right) u_{0}^{2} + \\left(-\\frac{1}{4} l - \\frac{1}{4} c_{1}\\right) u_{2} + \\left(l c_{1} + c_{1}^{2}\\right) u_{0} - l^{3} - 2 l^{2} c_{1} - l c_{1}^{2}$"
      ],
      "text/plain": [
       "1/4*u_0^3 + (-1/8)*u_2*u_0 + 1/16*u_1^2 + (3/4*l + c_1)*u_0^2 + (-1/4*l - 1/4*c_1)*u_2 + (l*c_1 + c_1^2)*u_0 - l^3 - 2*l^2*c_1 - l*c_1^2"
      ]
     },
     "metadata": {},
     "output_type": "display_data"
    }
   ],
   "source": [
    "flatten = diff_res_L_Phat3.flatten(); fR = flatten.parent(); fm = fR(\"m\"); fl = fR(\"l\")\n",
    "show((flatten.degree(fm), [flatten.coefficient({fm:i}) for i in range(flatten.degree(fm)+1)]))\n",
    "R3 = diff_res_L_Phat3.parent()(flatten.coefficient({fm:0}))\n",
    "show(R3)"
   ]
  },
  {
   "cell_type": "markdown",
   "id": "a847bef4-a036-48a6-a62e-94b9bdbff7fd",
   "metadata": {},
   "source": [
    "This polynomial $R_3(u,c^1,\\lambda)$ can be further splitted w.r.t. $\\lambda$ with \n",
    "$$R_3(u,c^1, \\lambda) = -\\lambda^3 - 2c_1\\lambda^2 + p_1(u,c^1)\\lambda + p_0(u,c^1)$$"
   ]
  },
  {
   "cell_type": "code",
   "execution_count": 23,
   "id": "1e69ede0-0333-4971-81a1-6c38b6210f97",
   "metadata": {},
   "outputs": [
    {
     "data": {
      "text/html": [
       "<html>\\(\\displaystyle \\left(3, \\left[\\frac{1}{4} u_{0}^{3} + u_{0}^{2} c_{1} + u_{0} c_{1}^{2} + \\frac{1}{16} u_{1}^{2} - \\frac{1}{8} u_{2} u_{0} - \\frac{1}{4} u_{2} c_{1}, \\frac{3}{4} u_{0}^{2} + u_{0} c_{1} - c_{1}^{2} - \\frac{1}{4} u_{2}, -2 c_{1}, -1\\right]\\right)\\)</html>"
      ],
      "text/latex": [
       "$\\displaystyle \\left(3, \\left[\\frac{1}{4} u_{0}^{3} + u_{0}^{2} c_{1} + u_{0} c_{1}^{2} + \\frac{1}{16} u_{1}^{2} - \\frac{1}{8} u_{2} u_{0} - \\frac{1}{4} u_{2} c_{1}, \\frac{3}{4} u_{0}^{2} + u_{0} c_{1} - c_{1}^{2} - \\frac{1}{4} u_{2}, -2 c_{1}, -1\\right]\\right)$"
      ],
      "text/plain": [
       "(3,\n",
       " [1/4*u_0^3 + u_0^2*c_1 + u_0*c_1^2 + 1/16*u_1^2 - 1/8*u_2*u_0 - 1/4*u_2*c_1,\n",
       "  3/4*u_0^2 + u_0*c_1 - c_1^2 - 1/4*u_2,\n",
       "  -2*c_1,\n",
       "  -1])"
      ]
     },
     "metadata": {},
     "output_type": "display_data"
    },
    {
     "data": {
      "text/html": [
       "<html>\\(\\displaystyle p_0(u,c^1) = \\frac{1}{4} u_{0}^{3} + \\left(-\\frac{1}{8}\\right) u_{2} u_{0} + \\frac{1}{16} u_{1}^{2} + c_{1} u_{0}^{2} + \\left(-\\frac{1}{4} c_{1}\\right) u_{2} + c_{1}^{2} u_{0}\\)</html>"
      ],
      "text/latex": [
       "$\\displaystyle p_0(u,c^1) = \\frac{1}{4} u_{0}^{3} + \\left(-\\frac{1}{8}\\right) u_{2} u_{0} + \\frac{1}{16} u_{1}^{2} + c_{1} u_{0}^{2} + \\left(-\\frac{1}{4} c_{1}\\right) u_{2} + c_{1}^{2} u_{0}$"
      ],
      "text/plain": [
       "p_0(u,c^1) = \\frac{1}{4} u_{0}^{3} + \\left(-\\frac{1}{8}\\right) u_{2} u_{0} + \\frac{1}{16} u_{1}^{2} + c_{1} u_{0}^{2} + \\left(-\\frac{1}{4} c_{1}\\right) u_{2} + c_{1}^{2} u_{0}"
      ]
     },
     "metadata": {},
     "output_type": "display_data"
    },
    {
     "data": {
      "text/html": [
       "<html>\\(\\displaystyle p_1(u,c^1) = \\frac{3}{4} u_{0}^{2} + \\left(-\\frac{1}{4}\\right) u_{2} + c_{1} u_{0} - c_{1}^{2}\\)</html>"
      ],
      "text/latex": [
       "$\\displaystyle p_1(u,c^1) = \\frac{3}{4} u_{0}^{2} + \\left(-\\frac{1}{4}\\right) u_{2} + c_{1} u_{0} - c_{1}^{2}$"
      ],
      "text/plain": [
       "p_1(u,c^1) = \\frac{3}{4} u_{0}^{2} + \\left(-\\frac{1}{4}\\right) u_{2} + c_{1} u_{0} - c_{1}^{2}"
      ]
     },
     "metadata": {},
     "output_type": "display_data"
    }
   ],
   "source": [
    "flatten_R3 = R3.flatten()\n",
    "show((flatten_R3.degree(fl), [flatten_R3.coefficient({fl:i}) for i in range(flatten.degree(fl)+1)]))\n",
    "p1 = diff_res_L_Phat3.parent()(flatten_R3.coefficient({fl:1}))\n",
    "p0 = diff_res_L_Phat3.parent()(flatten_R3.coefficient({fl:0}))\n",
    "show(r\"p_0(u,c^1) = \" + latex(p0))\n",
    "show(r\"p_1(u,c^1) = \" + latex(p1))"
   ]
  },
  {
   "cell_type": "markdown",
   "id": "20e2c624-6b70-454f-a06c-7dcabeaba1c7",
   "metadata": {},
   "source": [
    "These two polynomials $p_0(u,c^1)$ and $p_1(u,c^1)$ are related with $\\KdV_1(u,c^1)$:"
   ]
  },
  {
   "cell_type": "code",
   "execution_count": 24,
   "id": "c36a61d0-5a13-46bb-ab61-b956e05e91f9",
   "metadata": {},
   "outputs": [
    {
     "data": {
      "text/html": [
       "<html>\\(\\displaystyle \\mathrm{True}\\)</html>"
      ],
      "text/latex": [
       "$\\displaystyle \\mathrm{True}$"
      ],
      "text/plain": [
       "True"
      ]
     },
     "execution_count": 24,
     "metadata": {},
     "output_type": "execute_result"
    }
   ],
   "source": [
    "p1.derivative() == KdV(1,u)"
   ]
  },
  {
   "cell_type": "code",
   "execution_count": 25,
   "id": "eabe9f86-fa70-461f-ac25-01566f465c2f",
   "metadata": {},
   "outputs": [
    {
     "data": {
      "text/html": [
       "<html>\\(\\displaystyle \\mathrm{True}\\)</html>"
      ],
      "text/latex": [
       "$\\displaystyle \\mathrm{True}$"
      ],
      "text/plain": [
       "True"
      ]
     },
     "execution_count": 25,
     "metadata": {},
     "output_type": "execute_result"
    }
   ],
   "source": [
    "c_1 = KdV(1,u).parent()(\"c_1\")\n",
    "p0.derivative() == (u[0]*(1/2) + c_1)*KdV(1,u)"
   ]
  },
  {
   "cell_type": "markdown",
   "id": "d6262f1b-8746-4ae3-9c17-1fc206d32c9e",
   "metadata": {},
   "source": [
    "##### **Subresultant sequence of $L$ and $\\hat{P}_3$**\n",
    "\n",
    "Finally, the section 3.3 shows the formulas for the subresultant sequence between $L-\\lambda$ and $\\hat{P}_3 - \\mu$:"
   ]
  },
  {
   "cell_type": "code",
   "execution_count": 28,
   "id": "9a2444f4-f108-493c-9d0a-02ffdd4d6b2f",
   "metadata": {},
   "outputs": [
    {
     "name": "stdout",
     "output_type": "stream",
     "text": [
      "CPU times: user 9.96 ms, sys: 0 ns, total: 9.96 ms\n",
      "Wall time: 9.71 ms\n"
     ]
    }
   ],
   "source": [
    "%%time\n",
    "diff_subresultant_seq = R.sylvester_subresultant_sequence(L - lR*yR[0], Phat3 - mR*yR[0], yR)\n",
    "Lcal_0, Lcal_1 = diff_subresultant_seq"
   ]
  },
  {
   "cell_type": "code",
   "execution_count": 45,
   "id": "c0920ae8-d628-456d-9173-287dad308dd9",
   "metadata": {},
   "outputs": [
    {
     "data": {
      "text/html": [
       "<html>\\(\\displaystyle \\mathrm{True}\\)</html>"
      ],
      "text/latex": [
       "$\\displaystyle \\mathrm{True}$"
      ],
      "text/plain": [
       "True"
      ]
     },
     "execution_count": 45,
     "metadata": {},
     "output_type": "execute_result"
    }
   ],
   "source": [
    "Lcal_0.coefficient(y[0]) == diff_res_L_Phat3"
   ]
  },
  {
   "cell_type": "code",
   "execution_count": 35,
   "id": "f4e6d4b5-3026-429d-8c57-f42bd25b6f20",
   "metadata": {},
   "outputs": [
    {
     "data": {
      "text/html": [
       "<html>\\(\\displaystyle \\left(-\\frac{1}{4}\\right) u_{1} y_{0} + \\frac{1}{2} u_{0} y_{1} + \\left(l + c_{1}\\right) y_{1} + \\left(-m\\right) y_{0}\\)</html>"
      ],
      "text/latex": [
       "$\\displaystyle \\left(-\\frac{1}{4}\\right) u_{1} y_{0} + \\frac{1}{2} u_{0} y_{1} + \\left(l + c_{1}\\right) y_{1} + \\left(-m\\right) y_{0}$"
      ],
      "text/plain": [
       "(-1/4)*u_1*y_0 + 1/2*u_0*y_1 + (l + c_1)*y_1 + (-m)*y_0"
      ]
     },
     "execution_count": 35,
     "metadata": {},
     "output_type": "execute_result"
    }
   ],
   "source": [
    "Lcal_1"
   ]
  },
  {
   "cell_type": "code",
   "execution_count": 37,
   "id": "0eacf638-0792-4d80-95c0-ae178f6992d3",
   "metadata": {},
   "outputs": [
    {
     "data": {
      "text/html": [
       "<html>\\(\\displaystyle \\mathcal{L}_1[\\partial] = \\frac{1}{2} u_{0} + l + c_{1}\\)</html>"
      ],
      "text/latex": [
       "$\\displaystyle \\mathcal{L}_1[\\partial] = \\frac{1}{2} u_{0} + l + c_{1}$"
      ],
      "text/plain": [
       "\\mathcal{L}_1[\\partial] = \\frac{1}{2} u_{0} + l + c_{1}"
      ]
     },
     "metadata": {},
     "output_type": "display_data"
    },
    {
     "data": {
      "text/html": [
       "<html>\\(\\displaystyle \\mathcal{L}_1[1] = \\left(-\\frac{1}{4}\\right) u_{1} - m\\)</html>"
      ],
      "text/latex": [
       "$\\displaystyle \\mathcal{L}_1[1] = \\left(-\\frac{1}{4}\\right) u_{1} - m$"
      ],
      "text/plain": [
       "\\mathcal{L}_1[1] = \\left(-\\frac{1}{4}\\right) u_{1} - m"
      ]
     },
     "metadata": {},
     "output_type": "display_data"
    }
   ],
   "source": [
    "show(r\"\\mathcal{L}_1[\\partial] = \" + latex(Lcal_1.coefficient(yR[1])))\n",
    "show(r\"\\mathcal{L}_1[1] = \" + latex(Lcal_1.coefficient(yR[0])))"
   ]
  },
  {
   "cell_type": "code",
   "execution_count": 38,
   "id": "106a8889-9234-4ae0-95ae-6ed428c32cbb",
   "metadata": {},
   "outputs": [
    {
     "data": {
      "text/html": [
       "<html>\\(\\displaystyle \\left(\\begin{array}{rrrr}\n",
       "1 u_{0} - l & 0 & -1 & 0 \\\\\n",
       "1 u_{1} & 1 u_{0} - l & 0 & -1 \\\\\n",
       "\\frac{3}{4} u_{1} - m & \\frac{3}{2} u_{0} + c_{1} & 0 & -1\n",
       "\\end{array}\\right)\\)</html>"
      ],
      "text/latex": [
       "$\\displaystyle \\left(\\begin{array}{rrrr}\n",
       "1 u_{0} - l & 0 & -1 & 0 \\\\\n",
       "1 u_{1} & 1 u_{0} - l & 0 & -1 \\\\\n",
       "\\frac{3}{4} u_{1} - m & \\frac{3}{2} u_{0} + c_{1} & 0 & -1\n",
       "\\end{array}\\right)$"
      ],
      "text/plain": [
       "[      u_0 - l             0            -1             0]\n",
       "[          u_1       u_0 - l             0            -1]\n",
       "[  3/4*u_1 - m 3/2*u_0 + c_1             0            -1]"
      ]
     },
     "execution_count": 38,
     "metadata": {},
     "output_type": "execute_result"
    }
   ],
   "source": [
    "R.sylvester_matrix(L - lR*yR[0], Phat3 - mR*yR[0], yR, 1)"
   ]
  }
 ],
 "metadata": {
  "kernelspec": {
   "display_name": "SageMath 9.7",
   "language": "sage",
   "name": "sagemath"
  },
  "language_info": {
   "codemirror_mode": {
    "name": "ipython",
    "version": 3
   },
   "file_extension": ".py",
   "mimetype": "text/x-python",
   "name": "python",
   "nbconvert_exporter": "python",
   "pygments_lexer": "ipython3",
   "version": "3.10.5"
  }
 },
 "nbformat": 4,
 "nbformat_minor": 5
}
