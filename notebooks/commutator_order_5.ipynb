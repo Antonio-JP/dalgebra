{
 "cells": [
  {
   "cell_type": "markdown",
   "id": "f04638d0-273c-43c8-b622-3f0f77fb4303",
   "metadata": {},
   "source": [
    "# **Looking for a non-trivial commutator of order 5**"
   ]
  },
  {
   "cell_type": "markdown",
   "id": "02b2e04b-2899-4b3b-a44f-7e3241f134b1",
   "metadata": {},
   "source": [
    "In [this work](https://www.mdpi.com/2075-1680/13/4/274), the authors studied the spectral curve for a non-trivial commutator of operators of order 3. Here, intending to develop a similar theory for order 5 (or generically for order prime $p$), we will look for a non-trivial example of order 5 with a commutator."
   ]
  },
  {
   "cell_type": "markdown",
   "id": "579d8e49-618d-4c42-979e-635b944c16ed",
   "metadata": {},
   "source": [
    "More precisely, let $U = \\{u_2,\\ldots, u_5\\}$ be a set of differential values with weights $2,3,4,5$ respectively, and consider the differential operator\n",
    "$$L_5 = L = \\partial^5 + u_2\\partial^3 + u_3 \\partial^2 + u_4\\partial + u_5.$$\n",
    "We would like to find a set of functions $z_2(x),\\ldots,z_5(x)$ such that we can find a non-trivial commutator for the specialized operator $L_5(Z) = L_5(u=z)$."
   ]
  },
  {
   "cell_type": "code",
   "execution_count": 1,
   "id": "a00c1f1a-ce7f-4fda-a54b-7f6ff5fd3748",
   "metadata": {},
   "outputs": [],
   "source": [
    "import sys\n",
    "sys.path.insert(0, \"..\") # dalgebra is here\n",
    "\n",
    "from dalgebra import *\n",
    "from dalgebra.commutators import *\n",
    "\n",
    "import logging\n",
    "from functools import lru_cache\n",
    "import pickle\n",
    "%display latex"
   ]
  },
  {
   "cell_type": "code",
   "execution_count": 2,
   "id": "18a6af70-c7e8-40d0-a103-b5bd769ca66d",
   "metadata": {},
   "outputs": [
    {
     "data": {
      "text/html": [
       "<html>\\(\\displaystyle {u_2}_{(0)}{z}_{(3)} + {u_3}_{(0)}{z}_{(2)} + {u_4}_{(0)}{z}_{(1)} + {u_5}_{(0)}{z}_{(0)} + {z}_{(5)}\\)</html>"
      ],
      "text/latex": [
       "$\\displaystyle {u_2}_{(0)}{z}_{(3)} + {u_3}_{(0)}{z}_{(2)} + {u_4}_{(0)}{z}_{(1)} + {u_5}_{(0)}{z}_{(0)} + {z}_{(5)}$"
      ],
      "text/plain": [
       "u_2_0*z_3 + u_3_0*z_2 + u_4_0*z_1 + u_5_0*z_0 + z_5"
      ]
     },
     "execution_count": 2,
     "metadata": {},
     "output_type": "execute_result"
    }
   ],
   "source": [
    "L_5 = generic_normal(5, \"u\"); L = L_5; z = L.parent().gen(\"z\"); u = (0, 0) + L.parent().gens()[:-1]\n",
    "L_5"
   ]
  },
  {
   "cell_type": "markdown",
   "id": "35686e0a-804a-4115-8c55-77d58be7ddaa",
   "metadata": {},
   "source": [
    "## Some ideas"
   ]
  },
  {
   "cell_type": "markdown",
   "id": "6018fc3c-e7c2-46f6-9aa0-c6af01a042ba",
   "metadata": {},
   "source": [
    "### **The almost commuting basis**"
   ]
  },
  {
   "cell_type": "markdown",
   "id": "5e09f0ca-5aa8-4ccb-8f5e-03d52bc16900",
   "metadata": {},
   "source": [
    "In [this paper](https://arxiv.org/abs/2405.05421), the authors show a method to compute a basis of differential operators $W(L_n) = \\{P_m(U) : m \\in \\mathbb{N}\\}$ such that all operators $P_m(U)$ almost commute with $L_n$, i.e., the order of $[L_n, P_m]\\leq n-2$ and such that $P_m(U)$ is homogeneous of weight $m$ when considering $\\partial$ with weight 1."
   ]
  },
  {
   "cell_type": "markdown",
   "id": "ea373cc0-4af5-4247-867e-f148722a179e",
   "metadata": {},
   "source": [
    "In this notebook, we are focusing on $n=5$, hence the order for almost commutation is $3$. This means that in this example, we have for all $m\\in \\mathbb{N}$:\n",
    "$$[L, P_m(U)] = H_{m,0}(U) + H_{m,1}(U)\\partial + H_{m,2}(U)\\partial^2 + H_{m,3}(U)\\partial^3,$$\n",
    "where $H_{m,i}(U)$ are differential polynomials in the differential variables $U$, homogeneous of weight $n+m-i$."
   ]
  },
  {
   "cell_type": "markdown",
   "id": "88c4024a-4131-4d15-a56e-288000ea2813",
   "metadata": {},
   "source": [
    "For any given value of $m$, the value for $P_m(U)$ and $H_{m,i}(U)$ can be computed using the method `almost_commuting_wilson`:"
   ]
  },
  {
   "cell_type": "code",
   "execution_count": 3,
   "id": "5227f096-d7fb-450f-8330-379d11f28c6b",
   "metadata": {},
   "outputs": [
    {
     "ename": "ValueError",
     "evalue": "[inverse_derivation] Element -12/25*u_2_0*u_2_2 + 8/25*u_2_1^2 + 4/5*u_2_3 - 4*u_2_4 + 16/5*u_2_5 + 6/5*u_3_2 - 8/5*u_3_3 + 4/5*u_4_1 not integrable -> non-zero non-integrable part in decomposition: 4/5*u_2_1^2",
     "output_type": "error",
     "traceback": [
      "\u001b[0;31m---------------------------------------------------------------------------\u001b[0m",
      "\u001b[0;31mValueError\u001b[0m                                Traceback (most recent call last)",
      "Cell \u001b[0;32mIn[3], line 3\u001b[0m\n\u001b[1;32m      1\u001b[0m P, H \u001b[38;5;241m=\u001b[39m [z[Integer(\u001b[38;5;241m0\u001b[39m)]], [[Integer(\u001b[38;5;241m0\u001b[39m),Integer(\u001b[38;5;241m0\u001b[39m),Integer(\u001b[38;5;241m0\u001b[39m),Integer(\u001b[38;5;241m0\u001b[39m)]]\n\u001b[1;32m      2\u001b[0m \u001b[38;5;28;01mfor\u001b[39;00m i \u001b[38;5;129;01min\u001b[39;00m \u001b[38;5;28mrange\u001b[39m(Integer(\u001b[38;5;241m1\u001b[39m), Integer(\u001b[38;5;241m10\u001b[39m)):\n\u001b[0;32m----> 3\u001b[0m     np, nh \u001b[38;5;241m=\u001b[39m \u001b[43malmost_commuting_wilson\u001b[49m\u001b[43m(\u001b[49m\u001b[43mInteger\u001b[49m\u001b[43m(\u001b[49m\u001b[38;5;241;43m5\u001b[39;49m\u001b[43m)\u001b[49m\u001b[43m,\u001b[49m\u001b[43mi\u001b[49m\u001b[43m)\u001b[49m\n\u001b[1;32m      4\u001b[0m     P\u001b[38;5;241m.\u001b[39mappend(np)\n\u001b[1;32m      5\u001b[0m     H\u001b[38;5;241m.\u001b[39mappend(nh)\n",
      "File \u001b[0;32m~/git/dalgebra/notebooks/../dalgebra/logging/logging.py:157\u001b[0m, in \u001b[0;36mcache_in_file.<locals>.wrapped\u001b[0;34m(to_cache, path_to_folder, extension, *args, **kwds)\u001b[0m\n\u001b[1;32m    154\u001b[0m         \u001b[38;5;28;01mpass\u001b[39;00m\n\u001b[1;32m    156\u001b[0m \u001b[38;5;66;03m## Calling the function\u001b[39;00m\n\u001b[0;32m--> 157\u001b[0m output \u001b[38;5;241m=\u001b[39m \u001b[43mfunc\u001b[49m\u001b[43m(\u001b[49m\u001b[38;5;241;43m*\u001b[39;49m\u001b[43margs\u001b[49m\u001b[43m,\u001b[49m\u001b[43m \u001b[49m\u001b[38;5;241;43m*\u001b[39;49m\u001b[38;5;241;43m*\u001b[39;49m\u001b[43mkwds\u001b[49m\u001b[43m)\u001b[49m\n\u001b[1;32m    159\u001b[0m \u001b[38;5;66;03m## Caching the output\u001b[39;00m\n\u001b[1;32m    160\u001b[0m \u001b[38;5;28;01mtry\u001b[39;00m:\n",
      "File \u001b[0;32m~/git/dalgebra/notebooks/../dalgebra/commutators/almost_commuting.py:409\u001b[0m, in \u001b[0;36malmost_commuting_wilson\u001b[0;34m(n, m, name_u, name_z)\u001b[0m\n\u001b[1;32m    405\u001b[0m \u001b[38;5;28;01mfrom\u001b[39;00m \u001b[38;5;21;01m.\u001b[39;00m\u001b[38;5;21;01m.\u001b[39;00m \u001b[38;5;28;01mimport\u001b[39;00m dalgebra_folder\n\u001b[1;32m    407\u001b[0m \u001b[38;5;66;03m#################################################################################################################################\u001b[39;00m\n\u001b[1;32m    408\u001b[0m \u001b[38;5;66;03m## We first call the base code that only cares about \"n\" and \"m\" with default names for \"u\" and \"z\".\u001b[39;00m\n\u001b[0;32m--> 409\u001b[0m (Pm, T) \u001b[38;5;241m=\u001b[39m \u001b[43mbase_almost_commuting_wilson\u001b[49m\u001b[43m(\u001b[49m\n\u001b[1;32m    410\u001b[0m \u001b[43m    \u001b[49m\u001b[43mn\u001b[49m\u001b[43m,\u001b[49m\u001b[43mm\u001b[49m\u001b[43m,\u001b[49m\u001b[43m \u001b[49m\u001b[38;5;66;43;03m## Default values for the call on the base_commuting_wilson\u001b[39;49;00m\n\u001b[1;32m    411\u001b[0m \u001b[43m    \u001b[49m\u001b[43mpath_to_folder\u001b[49m\u001b[38;5;241;43m=\u001b[39;49m\u001b[43mos\u001b[49m\u001b[38;5;241;43m.\u001b[39;49m\u001b[43mpath\u001b[49m\u001b[38;5;241;43m.\u001b[39;49m\u001b[43mjoin\u001b[49m\u001b[43m(\u001b[49m\u001b[43mdalgebra_folder\u001b[49m\u001b[43m(\u001b[49m\u001b[43m)\u001b[49m\u001b[43m,\u001b[49m\u001b[43m \u001b[49m\u001b[38;5;124;43m\"\u001b[39;49m\u001b[38;5;124;43mresults\u001b[39;49m\u001b[38;5;124;43m\"\u001b[39;49m\u001b[43m,\u001b[49m\u001b[43m \u001b[49m\u001b[38;5;124;43m\"\u001b[39;49m\u001b[38;5;124;43malmost_commuting\u001b[39;49m\u001b[38;5;124;43m\"\u001b[39;49m\u001b[43m)\u001b[49m\u001b[43m,\u001b[49m\u001b[43m \u001b[49m\u001b[38;5;66;43;03m## Folder for caching results in repository\u001b[39;49;00m\n\u001b[1;32m    412\u001b[0m \u001b[43m    \u001b[49m\u001b[43mextension\u001b[49m\u001b[38;5;241;43m=\u001b[39;49m\u001b[38;5;124;43m\"\u001b[39;49m\u001b[38;5;124;43mout\u001b[39;49m\u001b[38;5;124;43m\"\u001b[39;49m\u001b[43m \u001b[49m\u001b[38;5;66;43;03m## Extension of the cached results\u001b[39;49;00m\n\u001b[1;32m    413\u001b[0m \u001b[43m\u001b[49m\u001b[43m)\u001b[49m\n\u001b[1;32m    415\u001b[0m \u001b[38;5;66;03m## Fixing a possible problem with pickling\u001b[39;00m\n\u001b[1;32m    416\u001b[0m F,b \u001b[38;5;241m=\u001b[39m Pm\u001b[38;5;241m.\u001b[39mparent()\u001b[38;5;241m.\u001b[39mconstruction()\n",
      "File \u001b[0;32m~/git/dalgebra/notebooks/../dalgebra/logging/logging.py:157\u001b[0m, in \u001b[0;36mcache_in_file.<locals>.wrapped\u001b[0;34m(to_cache, path_to_folder, extension, *args, **kwds)\u001b[0m\n\u001b[1;32m    154\u001b[0m         \u001b[38;5;28;01mpass\u001b[39;00m\n\u001b[1;32m    156\u001b[0m \u001b[38;5;66;03m## Calling the function\u001b[39;00m\n\u001b[0;32m--> 157\u001b[0m output \u001b[38;5;241m=\u001b[39m \u001b[43mfunc\u001b[49m\u001b[43m(\u001b[49m\u001b[38;5;241;43m*\u001b[39;49m\u001b[43margs\u001b[49m\u001b[43m,\u001b[49m\u001b[43m \u001b[49m\u001b[38;5;241;43m*\u001b[39;49m\u001b[38;5;241;43m*\u001b[39;49m\u001b[43mkwds\u001b[49m\u001b[43m)\u001b[49m\n\u001b[1;32m    159\u001b[0m \u001b[38;5;66;03m## Caching the output\u001b[39;00m\n\u001b[1;32m    160\u001b[0m \u001b[38;5;28;01mtry\u001b[39;00m:\n",
      "File \u001b[0;32m~/git/dalgebra/notebooks/../dalgebra/commutators/almost_commuting.py:394\u001b[0m, in \u001b[0;36mbase_almost_commuting_wilson\u001b[0;34m(n, m, equation_gens, solver)\u001b[0m\n\u001b[1;32m    391\u001b[0m simplifier \u001b[38;5;241m=\u001b[39m DPolynomialSimpleMorphism(R, output_ring)\n\u001b[1;32m    393\u001b[0m \u001b[38;5;66;03m## Solving the system with the corresponding method\u001b[39;00m\n\u001b[0;32m--> 394\u001b[0m solve_p \u001b[38;5;241m=\u001b[39m \u001b[43msolver\u001b[49m\u001b[43m(\u001b[49m\u001b[43mR\u001b[49m\u001b[43m,\u001b[49m\u001b[43m \u001b[49m\u001b[43mequations\u001b[49m\u001b[43m,\u001b[49m\u001b[43m \u001b[49m\u001b[43mu\u001b[49m\u001b[43m,\u001b[49m\u001b[43m \u001b[49m\u001b[43mp\u001b[49m\u001b[43m)\u001b[49m\n\u001b[1;32m    395\u001b[0m solve_p \u001b[38;5;241m=\u001b[39m {v : simplifier(solve_p[v]) \u001b[38;5;28;01mfor\u001b[39;00m v \u001b[38;5;129;01min\u001b[39;00m p}\n\u001b[1;32m    396\u001b[0m Pm \u001b[38;5;241m=\u001b[39m output_z[m] \u001b[38;5;241m+\u001b[39m \u001b[38;5;28msum\u001b[39m(solve_p[v] \u001b[38;5;241m*\u001b[39m output_z[m\u001b[38;5;241m-\u001b[39mi\u001b[38;5;241m-\u001b[39m\u001b[38;5;241m2\u001b[39m] \u001b[38;5;28;01mfor\u001b[39;00m i, v \u001b[38;5;129;01min\u001b[39;00m \u001b[38;5;28menumerate\u001b[39m(p))\n",
      "File \u001b[0;32m~/git/dalgebra/notebooks/../dalgebra/commutators/almost_commuting.py:622\u001b[0m, in \u001b[0;36m__almost_commuting_integral\u001b[0;34m(parent, equations, _, p)\u001b[0m\n\u001b[1;32m    604\u001b[0m \u001b[38;5;250m\u001b[39m\u001b[38;5;124mr\u001b[39m\u001b[38;5;124;03m'''\u001b[39;00m\n\u001b[1;32m    605\u001b[0m \u001b[38;5;124;03m    Integration method to solve the equations for obtaining Wilson's almost commuting basis.\u001b[39;00m\n\u001b[1;32m    606\u001b[0m \n\u001b[0;32m   (...)\u001b[0m\n\u001b[1;32m    619\u001b[0m \u001b[38;5;124;03m    the variables given in ``p`` and `A` are the values such that, plugged into ``equations``, make them all vanish.\u001b[39;00m\n\u001b[1;32m    620\u001b[0m \u001b[38;5;124;03m'''\u001b[39;00m\n\u001b[1;32m    621\u001b[0m S \u001b[38;5;241m=\u001b[39m DSystem(equations, parent\u001b[38;5;241m=\u001b[39mparent, variables\u001b[38;5;241m=\u001b[39mp)\n\u001b[0;32m--> 622\u001b[0m \u001b[38;5;28;01mreturn\u001b[39;00m \u001b[43mS\u001b[49m\u001b[38;5;241;43m.\u001b[39;49m\u001b[43msolve_linear\u001b[49m\u001b[43m(\u001b[49m\u001b[43m)\u001b[49m\n",
      "File \u001b[0;32m~/git/dalgebra/notebooks/../dalgebra/dpolynomial/dsystems.py:1122\u001b[0m, in \u001b[0;36mDSystem.solve_linear\u001b[0;34m(self)\u001b[0m\n\u001b[1;32m   1119\u001b[0m     \u001b[38;5;28;01mraise\u001b[39;00m \u001b[38;5;167;01mNotImplementedError\u001b[39;00m(\u001b[38;5;124m\"\u001b[39m\u001b[38;5;124m[solve_linear] System is not triangular: no equation found with only one variable\u001b[39m\u001b[38;5;124m\"\u001b[39m)\n\u001b[1;32m   1121\u001b[0m \u001b[38;5;28;01mfor\u001b[39;00m v, equs \u001b[38;5;129;01min\u001b[39;00m to_solve\u001b[38;5;241m.\u001b[39mitems():\n\u001b[0;32m-> 1122\u001b[0m     solution[v] \u001b[38;5;241m=\u001b[39m \u001b[43mequs\u001b[49m\u001b[43m[\u001b[49m\u001b[38;5;241;43m0\u001b[39;49m\u001b[43m]\u001b[49m\u001b[38;5;241;43m.\u001b[39;49m\u001b[43msolve\u001b[49m\u001b[43m(\u001b[49m\u001b[43mv\u001b[49m\u001b[43m)\u001b[49m\n\u001b[1;32m   1123\u001b[0m     \u001b[38;5;28;01mif\u001b[39;00m \u001b[38;5;28many\u001b[39m(equ(\u001b[38;5;241m*\u001b[39m\u001b[38;5;241m*\u001b[39m{v\u001b[38;5;241m.\u001b[39mvariable_name(): solution[v]}) \u001b[38;5;241m!=\u001b[39m \u001b[38;5;241m0\u001b[39m \u001b[38;5;28;01mfor\u001b[39;00m equ \u001b[38;5;129;01min\u001b[39;00m equs[\u001b[38;5;241m1\u001b[39m:]):\n\u001b[1;32m   1124\u001b[0m         \u001b[38;5;28;01mraise\u001b[39;00m \u001b[38;5;167;01mValueError\u001b[39;00m(\u001b[38;5;124mf\u001b[39m\u001b[38;5;124m\"\u001b[39m\u001b[38;5;124m[solve_linear] The current solution \u001b[39m\u001b[38;5;132;01m{\u001b[39;00mv\u001b[38;5;241m.\u001b[39mvariable_name()\u001b[38;5;132;01m}\u001b[39;00m\u001b[38;5;124m = \u001b[39m\u001b[38;5;132;01m{\u001b[39;00msolution[v]\u001b[38;5;132;01m}\u001b[39;00m\u001b[38;5;124m does not solve all the equations\u001b[39m\u001b[38;5;130;01m\\n\u001b[39;00m\u001b[38;5;130;01m\\t\u001b[39;00m\u001b[38;5;132;01m{\u001b[39;00mequs\u001b[38;5;132;01m}\u001b[39;00m\u001b[38;5;124m\"\u001b[39m)\n",
      "File \u001b[0;32m~/git/dalgebra/notebooks/../dalgebra/dpolynomial/dpolynomial.py:868\u001b[0m, in \u001b[0;36mDPolynomial.solve\u001b[0;34m(self, gen)\u001b[0m\n\u001b[1;32m    866\u001b[0m coeff \u001b[38;5;241m=\u001b[39m \u001b[38;5;28mself\u001b[39m\u001b[38;5;241m.\u001b[39mcoefficient(gen[\u001b[38;5;28mself\u001b[39m\u001b[38;5;241m.\u001b[39morder(gen)])\n\u001b[1;32m    867\u001b[0m rem \u001b[38;5;241m=\u001b[39m \u001b[38;5;241m-\u001b[39m\u001b[38;5;28mself\u001b[39m \u001b[38;5;241m+\u001b[39m coeff\u001b[38;5;241m*\u001b[39mgen[\u001b[38;5;28mself\u001b[39m\u001b[38;5;241m.\u001b[39morder(gen)] \u001b[38;5;66;03m# we know ``gen`` do not show up in rem\u001b[39;00m\n\u001b[0;32m--> 868\u001b[0m \u001b[38;5;28;01mreturn\u001b[39;00m \u001b[43m(\u001b[49m\u001b[43mrem\u001b[49m\u001b[38;5;241;43m/\u001b[39;49m\u001b[43mcoeff\u001b[49m\u001b[43m)\u001b[49m\u001b[38;5;241;43m.\u001b[39;49m\u001b[43minverse_operation\u001b[49m\u001b[43m(\u001b[49m\u001b[38;5;241;43m0\u001b[39;49m\u001b[43m,\u001b[49m\u001b[43m \u001b[49m\u001b[43mtimes\u001b[49m\u001b[38;5;241;43m=\u001b[39;49m\u001b[38;5;28;43mself\u001b[39;49m\u001b[38;5;241;43m.\u001b[39;49m\u001b[43morder\u001b[49m\u001b[43m(\u001b[49m\u001b[43mgen\u001b[49m\u001b[43m)\u001b[49m\u001b[43m)\u001b[49m\n",
      "File \u001b[0;32m~/git/dalgebra/notebooks/../dalgebra/dring.py:649\u001b[0m, in \u001b[0;36mDRings.ElementMethods.inverse_operation\u001b[0;34m(self, operation, times)\u001b[0m\n\u001b[1;32m    647\u001b[0m     \u001b[38;5;28;01mreturn\u001b[39;00m \u001b[38;5;28mself\u001b[39m\n\u001b[1;32m    648\u001b[0m \u001b[38;5;28;01melif\u001b[39;00m(times \u001b[38;5;241m==\u001b[39m \u001b[38;5;241m1\u001b[39m):\n\u001b[0;32m--> 649\u001b[0m     \u001b[38;5;28;01mreturn\u001b[39;00m \u001b[38;5;28;43mself\u001b[39;49m\u001b[38;5;241;43m.\u001b[39;49m\u001b[43mparent\u001b[49m\u001b[43m(\u001b[49m\u001b[43m)\u001b[49m\u001b[38;5;241;43m.\u001b[39;49m\u001b[43minverse_operation\u001b[49m\u001b[43m(\u001b[49m\u001b[38;5;28;43mself\u001b[39;49m\u001b[43m,\u001b[49m\u001b[43m \u001b[49m\u001b[43moperation\u001b[49m\u001b[43m)\u001b[49m\n\u001b[1;32m    650\u001b[0m \u001b[38;5;28;01melse\u001b[39;00m:\n\u001b[1;32m    651\u001b[0m     \u001b[38;5;28;01mreturn\u001b[39;00m \u001b[38;5;28mself\u001b[39m\u001b[38;5;241m.\u001b[39mparent()\u001b[38;5;241m.\u001b[39minverse_operation(\u001b[38;5;28mself\u001b[39m\u001b[38;5;241m.\u001b[39minverse_operation(operation\u001b[38;5;241m=\u001b[39moperation, times\u001b[38;5;241m=\u001b[39mtimes\u001b[38;5;241m-\u001b[39m\u001b[38;5;241m1\u001b[39m), operation)\n",
      "File \u001b[0;32m~/git/dalgebra/notebooks/../dalgebra/dpolynomial/dpolynomial.py:1921\u001b[0m, in \u001b[0;36mDPolynomialRing_Monoid.inverse_operation\u001b[0;34m(self, element, operation)\u001b[0m\n\u001b[1;32m   1919\u001b[0m     \u001b[38;5;28;01mreturn\u001b[39;00m \u001b[38;5;28mself\u001b[39m\u001b[38;5;241m.\u001b[39m__inverse_homomorphism(element, operation)\n\u001b[1;32m   1920\u001b[0m \u001b[38;5;28;01melif\u001b[39;00m \u001b[38;5;28mself\u001b[39m\u001b[38;5;241m.\u001b[39moperator_types()[operation] \u001b[38;5;241m==\u001b[39m \u001b[38;5;124m\"\u001b[39m\u001b[38;5;124mderivation\u001b[39m\u001b[38;5;124m\"\u001b[39m:\n\u001b[0;32m-> 1921\u001b[0m     \u001b[38;5;28;01mreturn\u001b[39;00m \u001b[38;5;28;43mself\u001b[39;49m\u001b[38;5;241;43m.\u001b[39;49m\u001b[43m__inverse_derivation\u001b[49m\u001b[43m(\u001b[49m\u001b[43melement\u001b[49m\u001b[43m,\u001b[49m\u001b[43m \u001b[49m\u001b[43moperation\u001b[49m\u001b[43m)\u001b[49m\n\u001b[1;32m   1922\u001b[0m \u001b[38;5;28;01melif\u001b[39;00m \u001b[38;5;28mself\u001b[39m\u001b[38;5;241m.\u001b[39moperator_types()[operation] \u001b[38;5;241m==\u001b[39m \u001b[38;5;124m\"\u001b[39m\u001b[38;5;124mskew\u001b[39m\u001b[38;5;124m\"\u001b[39m:\n\u001b[1;32m   1923\u001b[0m     \u001b[38;5;28;01mreturn\u001b[39;00m \u001b[38;5;28mself\u001b[39m\u001b[38;5;241m.\u001b[39m__inverse_skew(element, operation)\n",
      "File \u001b[0;32m~/git/dalgebra/notebooks/../dalgebra/dpolynomial/dpolynomial.py:1956\u001b[0m, in \u001b[0;36mDPolynomialRing_Monoid.__inverse_derivation\u001b[0;34m(self, element, operation)\u001b[0m\n\u001b[1;32m   1954\u001b[0m A,B \u001b[38;5;241m=\u001b[39m \u001b[38;5;28mself\u001b[39m\u001b[38;5;241m.\u001b[39mintegral_decomposition(element, operation)\n\u001b[1;32m   1955\u001b[0m \u001b[38;5;28;01mif\u001b[39;00m B \u001b[38;5;241m!=\u001b[39m \u001b[38;5;241m0\u001b[39m:\n\u001b[0;32m-> 1956\u001b[0m     \u001b[38;5;28;01mraise\u001b[39;00m \u001b[38;5;167;01mValueError\u001b[39;00m(\u001b[38;5;124mf\u001b[39m\u001b[38;5;124m\"\u001b[39m\u001b[38;5;124m[inverse_derivation] Element \u001b[39m\u001b[38;5;132;01m{\u001b[39;00melement\u001b[38;5;132;01m}\u001b[39;00m\u001b[38;5;124m not integrable -> non-zero non-integrable part in decomposition: \u001b[39m\u001b[38;5;132;01m{\u001b[39;00mB\u001b[38;5;132;01m}\u001b[39;00m\u001b[38;5;124m\"\u001b[39m)\n\u001b[1;32m   1958\u001b[0m \u001b[38;5;28;01mreturn\u001b[39;00m A\n",
      "\u001b[0;31mValueError\u001b[0m: [inverse_derivation] Element -12/25*u_2_0*u_2_2 + 8/25*u_2_1^2 + 4/5*u_2_3 - 4*u_2_4 + 16/5*u_2_5 + 6/5*u_3_2 - 8/5*u_3_3 + 4/5*u_4_1 not integrable -> non-zero non-integrable part in decomposition: 4/5*u_2_1^2"
     ]
    }
   ],
   "source": [
    "P, H = [z[0]], [[0,0,0,0]]\n",
    "for i in range(1, 10):\n",
    "    np, nh = almost_commuting_wilson(5,i)\n",
    "    P.append(np)\n",
    "    H.append(nh)"
   ]
  },
  {
   "cell_type": "code",
   "execution_count": null,
   "id": "941784fe-e9f5-4847-8766-b67bd0df3f59",
   "metadata": {},
   "outputs": [
    {
     "name": "stdout",
     "output_type": "stream",
     "text": [
      "> \u001b[0;32m/home/jimenezp/git/dalgebra/dalgebra/dpolynomial/dpolynomial.py\u001b[0m(1956)\u001b[0;36m__inverse_derivation\u001b[0;34m()\u001b[0m\n",
      "\u001b[0;32m   1954 \u001b[0;31m        \u001b[0mA\u001b[0m\u001b[0;34m,\u001b[0m\u001b[0mB\u001b[0m \u001b[0;34m=\u001b[0m \u001b[0mself\u001b[0m\u001b[0;34m.\u001b[0m\u001b[0mintegral_decomposition\u001b[0m\u001b[0;34m(\u001b[0m\u001b[0melement\u001b[0m\u001b[0;34m,\u001b[0m \u001b[0moperation\u001b[0m\u001b[0;34m)\u001b[0m\u001b[0;34m\u001b[0m\u001b[0;34m\u001b[0m\u001b[0m\n",
      "\u001b[0m\u001b[0;32m   1955 \u001b[0;31m        \u001b[0;32mif\u001b[0m \u001b[0mB\u001b[0m \u001b[0;34m!=\u001b[0m \u001b[0;36m0\u001b[0m\u001b[0;34m:\u001b[0m\u001b[0;34m\u001b[0m\u001b[0;34m\u001b[0m\u001b[0m\n",
      "\u001b[0m\u001b[0;32m-> 1956 \u001b[0;31m            \u001b[0;32mraise\u001b[0m \u001b[0mValueError\u001b[0m\u001b[0;34m(\u001b[0m\u001b[0;34mf\"[inverse_derivation] Element {element} not integrable -> non-zero non-integrable part in decomposition: {B}\"\u001b[0m\u001b[0;34m)\u001b[0m\u001b[0;34m\u001b[0m\u001b[0;34m\u001b[0m\u001b[0m\n",
      "\u001b[0m\u001b[0;32m   1957 \u001b[0;31m\u001b[0;34m\u001b[0m\u001b[0m\n",
      "\u001b[0m\u001b[0;32m   1958 \u001b[0;31m        \u001b[0;32mreturn\u001b[0m \u001b[0mA\u001b[0m\u001b[0;34m\u001b[0m\u001b[0;34m\u001b[0m\u001b[0m\n",
      "\u001b[0m\n"
     ]
    },
    {
     "name": "stdin",
     "output_type": "stream",
     "text": [
      "ipdb>  A.derivative() + B == element\n"
     ]
    },
    {
     "name": "stdout",
     "output_type": "stream",
     "text": [
      "True\n"
     ]
    },
    {
     "name": "stdin",
     "output_type": "stream",
     "text": [
      "ipdb>  B\n"
     ]
    },
    {
     "name": "stdout",
     "output_type": "stream",
     "text": [
      "4/5*u_2_1^2\n"
     ]
    },
    {
     "name": "stdin",
     "output_type": "stream",
     "text": [
      "ipdb>  A\n"
     ]
    },
    {
     "name": "stdout",
     "output_type": "stream",
     "text": [
      "-12/25*u_2_0*u_2_1 + 4/5*u_2_2 - 4*u_2_3 + 16/5*u_2_4 + 6/5*u_3_1 - 8/5*u_3_2 + 4/5*u_4_0\n"
     ]
    },
    {
     "name": "stdin",
     "output_type": "stream",
     "text": [
      "ipdb>  element\n"
     ]
    },
    {
     "name": "stdout",
     "output_type": "stream",
     "text": [
      "-12/25*u_2_0*u_2_2 + 8/25*u_2_1^2 + 4/5*u_2_3 - 4*u_2_4 + 16/5*u_2_5 + 6/5*u_3_2 - 8/5*u_3_3 + 4/5*u_4_1\n"
     ]
    }
   ],
   "source": [
    "%debug"
   ]
  },
  {
   "cell_type": "markdown",
   "id": "a3d5e6c5-fb17-4881-9325-b14f89cec87c",
   "metadata": {},
   "source": [
    "##### Some examples of the $P_m(U)$"
   ]
  },
  {
   "cell_type": "code",
   "execution_count": null,
   "id": "856a7f08-77c8-49fc-9dab-62fd9ac4664f",
   "metadata": {},
   "outputs": [],
   "source": [
    "P[1]"
   ]
  },
  {
   "cell_type": "code",
   "execution_count": null,
   "id": "a1abcab5-138f-49d9-a6f6-8cbf9d1f1d30",
   "metadata": {},
   "outputs": [],
   "source": [
    "P[2]"
   ]
  },
  {
   "cell_type": "code",
   "execution_count": null,
   "id": "c859f9cd-8f16-43d5-80b2-caecc73dae70",
   "metadata": {},
   "outputs": [],
   "source": [
    "P[3]"
   ]
  },
  {
   "cell_type": "code",
   "execution_count": 4,
   "id": "6c19383c-6477-4095-a20d-9a7928a95c22",
   "metadata": {},
   "outputs": [
    {
     "ename": "IndexError",
     "evalue": "list index out of range",
     "output_type": "error",
     "traceback": [
      "\u001b[0;31m---------------------------------------------------------------------------\u001b[0m",
      "\u001b[0;31mIndexError\u001b[0m                                Traceback (most recent call last)",
      "Cell \u001b[0;32mIn[4], line 1\u001b[0m\n\u001b[0;32m----> 1\u001b[0m \u001b[43mP\u001b[49m\u001b[43m[\u001b[49m\u001b[43mInteger\u001b[49m\u001b[43m(\u001b[49m\u001b[38;5;241;43m4\u001b[39;49m\u001b[43m)\u001b[49m\u001b[43m]\u001b[49m\n",
      "\u001b[0;31mIndexError\u001b[0m: list index out of range"
     ]
    }
   ],
   "source": [
    "P[4]"
   ]
  },
  {
   "cell_type": "code",
   "execution_count": null,
   "id": "fc9d2f5d-90c2-4a89-aaa2-20a8ea97aa19",
   "metadata": {},
   "outputs": [],
   "source": [
    "P[5]"
   ]
  },
  {
   "cell_type": "markdown",
   "id": "d475dcf3-36bc-4cf9-be68-459330b9ece3",
   "metadata": {},
   "source": [
    "### **The search for a non-trivial commutator**"
   ]
  },
  {
   "cell_type": "markdown",
   "id": "9d442416-df5e-4515-883e-469b32188edf",
   "metadata": {},
   "source": [
    "As mentioned above, $W(L)$ is a $\\mathbb{C}$-basis of all the almost commuting differential operators with the generic operator $L$. Let $\\mathcal{W}(L)$ denote such space. Hence, for any operator $Q(U) \\in \\mathcal{W}(L)$, we have\n",
    "$$[L, Q] = K_0(U) + K_1(U)\\partial + K_2(U)\\partial^2 + K_3(U)\\partial^3.$$"
   ]
  },
  {
   "cell_type": "markdown",
   "id": "8ba9185d-8368-45ac-82fc-db3b8cb76425",
   "metadata": {},
   "source": [
    "We can be more precise. If $Q(U)$ has order $M$, then there is a linear combination of $P_m(U)$ for $m=0,\\ldots,M$ leading to:\n",
    "$$Q(U) = c_0 + c_1P_1(U) + \\ldots + c_{M-1}P_{M-1}(U) + c_{M}P_M(U).$$\n",
    "\n",
    "Due to the bilinear nature of $[\\cdot,\\cdot]$ it is easy to see that\n",
    "$$K_i(U) = \\sum_{m=0}^M c_m H_{m,i}(U).$$"
   ]
  },
  {
   "cell_type": "markdown",
   "id": "35b317df-f3dc-4a6c-b183-a3105b0d8858",
   "metadata": {},
   "source": [
    "Let us denote $H_m(U) = (H_{m,0}(U),H_{m,1}(U),H_{m,2}(U),H_{m,3}(U))^T$, and similarly with $K = (K_0(U), K_1(U), K_2(U), K_3(U))^T$ and $\\mathbf{c} = (c_0,\\ldots,c_M)^T$. Then, we can write the previous identity with:\n",
    "$$K = (H_0 | H_1 | \\ldots | H_M) \\mathbf{c}.$$"
   ]
  },
  {
   "cell_type": "markdown",
   "id": "2b10cd15-6c40-4a40-93a6-9758d30d11c4",
   "metadata": {},
   "source": [
    "It is *clear* from this point thet if we find a set of functions $Z=(z_2(x),z_3(x),z_4(x),z_5(x))$ and a list of constants $\\mathbf{c}$ such that $K(Z) = 0$, then we would have found an operator $L(Z)$ or order 5 with a commutator $Q(Z)$."
   ]
  },
  {
   "cell_type": "code",
   "execution_count": null,
   "id": "1eb3c092-35b4-456f-ad1c-849807e16643",
   "metadata": {},
   "outputs": [],
   "source": [
    "_,_,K6 = GetEquationsForSolution(6, 5, extract=None)"
   ]
  },
  {
   "cell_type": "markdown",
   "id": "5299f881-43af-44bd-9561-54db75134722",
   "metadata": {},
   "source": [
    "##### The equations for the order 6 commutator"
   ]
  },
  {
   "cell_type": "code",
   "execution_count": null,
   "id": "56d92b1b-c946-4334-a4a1-0497c1ccd3c8",
   "metadata": {},
   "outputs": [],
   "source": [
    "K6[0]"
   ]
  },
  {
   "cell_type": "code",
   "execution_count": null,
   "id": "d3e1be18-0d68-4cf3-93a4-fe0a5347346f",
   "metadata": {},
   "outputs": [],
   "source": [
    "K6[1]"
   ]
  },
  {
   "cell_type": "code",
   "execution_count": null,
   "id": "cb7e1a67-d680-4c40-b3a2-0ce2cc43e002",
   "metadata": {},
   "outputs": [],
   "source": [
    "K6[2]"
   ]
  },
  {
   "cell_type": "code",
   "execution_count": null,
   "id": "f65fb06e-8f5a-4d07-80a6-facdefd0e99f",
   "metadata": {},
   "outputs": [],
   "source": [
    "K6[3]"
   ]
  },
  {
   "cell_type": "markdown",
   "id": "a36959ff-e00a-4731-94ac-7b5642ca16c6",
   "metadata": {
    "jp-MarkdownHeadingCollapsed": true
   },
   "source": [
    "##### Coming back to argument"
   ]
  },
  {
   "cell_type": "markdown",
   "id": "321c5990-50c0-4ec8-a611-3ad4f56483d1",
   "metadata": {},
   "source": [
    "These differential systems are tremendously difficult to solve. A first remark: the constants for $m\\equiv 0\\ (mod\\ 5)$ never appear. This is clear since the influence of $L^{(m/5)}$ is not relevant for the commutation of the obtained operator $Q(U)$. "
   ]
  },
  {
   "cell_type": "code",
   "execution_count": null,
   "id": "428f9327-80fb-4c19-8bb1-e6970ac7aba1",
   "metadata": {},
   "outputs": [],
   "source": [
    "print(\n",
    "    {\n",
    "        g : \n",
    "        (\n",
    "            tuple(el.order(g) for el in K6), \n",
    "            [\n",
    "                [\n",
    "                    el.degree(g[i]) for i in range(el.order(g)+1)\n",
    "                ] for el in K6\n",
    "            ]\n",
    "        ) for g in K6[0].parent().remove_variables(\"z\").gens()\n",
    "    }\n",
    ")"
   ]
  },
  {
   "cell_type": "code",
   "execution_count": null,
   "id": "0379b7ce-9d93-422f-9256-86bbb5a23dc0",
   "metadata": {},
   "outputs": [],
   "source": [
    "RR = K6[0].parent().remove_variables(\"z\")\n",
    "DS = DSystem([RR(el) for el in K6], variables=RR.gens()[1:])"
   ]
  },
  {
   "cell_type": "code",
   "execution_count": null,
   "id": "a3e1785b-04da-4edf-b60d-a7ab6b6eab91",
   "metadata": {},
   "outputs": [],
   "source": [
    "eq = DS.equation(-1)\n",
    "eq2 = DS.equation(-2)\n",
    "U = eq.parent().gen(\"u_5\")\n",
    "rnk = RR.elimination_ranking()"
   ]
  },
  {
   "cell_type": "code",
   "execution_count": null,
   "id": "93135854-56eb-450f-b7a2-56f836abaad3",
   "metadata": {},
   "outputs": [],
   "source": [
    "red1 = eq.derivative().coefficient_full(U[eq.order(U)+1])*eq2 - eq.derivative()*eq2.coefficient_full(U[eq2.order(U)])"
   ]
  },
  {
   "cell_type": "code",
   "execution_count": null,
   "id": "bd89e9cb-3e73-48e1-a921-f1970264879e",
   "metadata": {},
   "outputs": [],
   "source": [
    "red2 = red1.derivative(times=2) * eq.coefficient_full(U[3]) - red1.derivative(times=2).coefficient_full(U[3]) * eq"
   ]
  },
  {
   "cell_type": "code",
   "execution_count": null,
   "id": "11a4c05d-ef41-4deb-a724-80b6af41b30c",
   "metadata": {},
   "outputs": [],
   "source": [
    "red3 = red1.derivative() * red2.coefficient_full(U[2]) - red1.derivative().coefficient_full(U[2]) * red2"
   ]
  },
  {
   "cell_type": "code",
   "execution_count": null,
   "id": "3d5a14fa-a975-4801-8bab-517508ef9416",
   "metadata": {},
   "outputs": [],
   "source": [
    "red4 = red1 * red3.coefficient_full(U[1]) - red1.coefficient_full(U[1]) * red3"
   ]
  },
  {
   "cell_type": "code",
   "execution_count": null,
   "id": "aece12c3-4059-4459-991a-b4ccaf8875d9",
   "metadata": {},
   "outputs": [],
   "source": [
    "rnk.leader(red4)"
   ]
  },
  {
   "cell_type": "code",
   "execution_count": null,
   "id": "2051f0a4-2882-4ef6-a6db-a64450de3e83",
   "metadata": {},
   "outputs": [],
   "source": [
    "val_u_5 = (-red4.constant_coefficient(U),red4.coefficient_full(U[0]))"
   ]
  },
  {
   "cell_type": "code",
   "execution_count": null,
   "id": "41f004c1-6333-4466-84b3-c6a3f80a365d",
   "metadata": {},
   "outputs": [],
   "source": [
    "poly_u_5 = RR.as_polynomials(*val_u_5)"
   ]
  },
  {
   "cell_type": "code",
   "execution_count": null,
   "id": "5f87280b-a19e-4163-8fa1-65684ca5334c",
   "metadata": {},
   "outputs": [],
   "source": [
    "H = rnk.remainder(eq2, eq)"
   ]
  },
  {
   "cell_type": "markdown",
   "id": "5d6b5bca-5620-401f-855b-a7a51a874816",
   "metadata": {
    "jp-MarkdownHeadingCollapsed": true
   },
   "source": [
    "### **Exploring the differential system**"
   ]
  },
  {
   "cell_type": "code",
   "execution_count": null,
   "id": "3334b80a-3dfc-48f9-9609-a9ae82852acd",
   "metadata": {},
   "outputs": [],
   "source": [
    "C = K6[0].parent().base().gens()\n",
    "n = 5\n",
    "R = DifferentialRing(QQ[x,*C], [1] + len(C)*[0]).fraction_field()\n",
    "x = R.gens()[0]"
   ]
  },
  {
   "cell_type": "markdown",
   "id": "69f1f879-fbcb-4d9c-b5b3-527485f6df5d",
   "metadata": {
    "jp-MarkdownHeadingCollapsed": true
   },
   "source": [
    "##### Case with $u_2 = 0$, $u_3 = 0$, $u_4 = 0$ ## **It leads to u_5 being a constant**"
   ]
  },
  {
   "cell_type": "code",
   "execution_count": null,
   "id": "73948d33-f9b2-4b4f-99b4-361f05aff00b",
   "metadata": {},
   "outputs": [],
   "source": [
    "rS = DSystem([el(u_2=0, u_3=0, u_4 = 0) for el in K6]); rS"
   ]
  },
  {
   "cell_type": "code",
   "execution_count": null,
   "id": "f31fa719-ed03-4817-8eda-957c8016eb89",
   "metadata": {},
   "outputs": [],
   "source": [
    "eq1 = rS.equation(-1); eq2 = rS.equation(-2)"
   ]
  },
  {
   "cell_type": "code",
   "execution_count": null,
   "id": "046dfc0d-4d0b-4499-8c08-51e4e4750fd1",
   "metadata": {},
   "outputs": [],
   "source": [
    "eq2 * 2/3 - eq1.derivative() # So either c_3 = 0 or u_5_1 = 0"
   ]
  },
  {
   "cell_type": "code",
   "execution_count": null,
   "id": "1514f328-65fd-4cb5-bd0a-5f28353b3f3c",
   "metadata": {},
   "outputs": [],
   "source": [
    "## Case with u_5_1 = 0\n",
    "## Then this make all other equations to hold and we have u_5_0 a constant, getting the operator\n",
    "##   L = D^5 + C.\n",
    "## Which clearly have commutators since [D^m + C, D^n + E] = 0 for any n,m, C, E."
   ]
  },
  {
   "cell_type": "code",
   "execution_count": null,
   "id": "51b88097-1acc-45c2-8758-bb755fb8048e",
   "metadata": {},
   "outputs": [],
   "source": [
    "## Case with c_3 = 0\n",
    "rS = DSystem([el(u_2=0, u_3=0, u_4 = 0,c_3 = 0) for el in K6]); rS"
   ]
  },
  {
   "cell_type": "code",
   "execution_count": null,
   "id": "6d5be98c-6cf4-4c09-b4db-da932752b0b9",
   "metadata": {},
   "outputs": [],
   "source": [
    "## Reducing equation 2 with equation 4 until we reach something fully reduced\n",
    "9/8*((-2*C[6])*(rS.equation(-1).derivative(times=2) - 10/9 * rS.equation(-3)) - (4/9*C[4])*rS.equation(-1))\n",
    "# So either (2*c_4^2 - 5*c_2*c_6) = 0 or u_5_1 = 0"
   ]
  },
  {
   "cell_type": "code",
   "execution_count": null,
   "id": "dd230568-be3c-4d86-a96e-bfe3afc388ac",
   "metadata": {},
   "outputs": [],
   "source": [
    "## Reducing equation 1 with equation 4 until we reach something fully reduced\n",
    "## We assume that (2*c_4^2 - 5*c_2*c_6) = 0\n",
    "E = (-2*C[6])*(rS.equation(-1).derivative(times=3) - 5*rS.equation(0)) - (C[4]*rS.equation(-1).derivative(times=1))\n",
    "E"
   ]
  },
  {
   "cell_type": "code",
   "execution_count": null,
   "id": "f00625d2-cc29-4aca-8531-1e0feabb0eab",
   "metadata": {},
   "outputs": [],
   "source": [
    "## We remove manually the last term due to our condition on constants\n",
    "E - E.coefficient(E.parent().0[2]) * E.parent().0[2]\n",
    "# So we conclude that:\n",
    "### Either u_5_1 = 0 (we saw that already and it was boring)\n",
    "### Or (12*c_6^2)*u_5_0 + (10*c_1*c_6) = 0 and u_5_0 is a constant. So, again, boring."
   ]
  },
  {
   "cell_type": "markdown",
   "id": "c686396e-5565-4b16-a5ca-34a28b7f485a",
   "metadata": {},
   "source": [
    "##### Case with $u_j = 0$ except for a fixed $j_0 \\neq 5$ ## **The operator $L$ already factors, so not interesting**"
   ]
  },
  {
   "cell_type": "markdown",
   "id": "17826f39-e7c1-4678-8f14-084d68aa9b95",
   "metadata": {
    "jp-MarkdownHeadingCollapsed": true
   },
   "source": [
    "##### Case with $u_2 = 0, u_3 = 0$"
   ]
  },
  {
   "cell_type": "code",
   "execution_count": null,
   "id": "60552d1d-eb87-4481-aa20-4aa2e32204cc",
   "metadata": {},
   "outputs": [],
   "source": [
    "rS = DSystem([el(u_2=0, u_3=0,c_6=1) for el in K6]); U = rS.parent().gens()[1]; u = rS.parent().gens()[0]; rS"
   ]
  },
  {
   "cell_type": "code",
   "execution_count": null,
   "id": "b7b261a8-530f-44f5-bd69-7b64ccd162f2",
   "metadata": {},
   "outputs": [],
   "source": [
    "## We eliminate u_5 using the last 2 equations\n",
    "seq11 = (rS.equation(-1).derivative() - (2/3)*rS.equation(-2)); print(seq11)\n",
    "seq12 = (-2*seq11.derivative(times=2)) - (2*C[3])*rS.equation(-1); print(seq12)\n",
    "seq13 = seq12 - seq11*4*C[4]; seq13"
   ]
  },
  {
   "cell_type": "code",
   "execution_count": null,
   "id": "0e92e1fe-67b0-4a8c-9f7d-29158ed16d64",
   "metadata": {},
   "outputs": [],
   "source": [
    "## We eliminate u_5 using the last equation and the second equation\n",
    "seq21 = (rS.equation(-1).derivative(times=2) - 10/9*rS.equation(-3)); print(seq21) # order 3\n",
    "seq22 = (-2)*seq21 - (4/9*C[4])*rS.equation(-1); print(seq22) # order 2\n",
    "seq23 = rS.equation(-1).coefficient_full(U[3]) * seq22.derivative() - seq22.derivative().coefficient_full(U[3]) * rS.equation(-1); print(seq23) # order 2\n",
    "seq24 = seq22 * seq23.coefficient_full(U[2]) - seq23 * seq22.coefficient_full(U[2]); print(seq24) # order 1\n",
    "seq25 = seq24.derivative() * seq22.coefficient_full(U[2]) - seq22 * seq24.derivative().coefficient_full(U[2]); # order 1\n",
    "seq26 = seq24 * seq25.coefficient_full(U[1]) - seq25 * seq24.coefficient_full(U[1]); print(seq26.order(U))\n",
    "seq27 = seq26.derivative() * seq24.coefficient_full(U[1]) - seq26.derivative().coefficient_full(U[1]) * seq24\n",
    "seq28 = seq26 * seq27.coefficient_full(U[0]) - seq27 * seq26.coefficient_full(U[0]); print(seq28.order(U))"
   ]
  },
  {
   "cell_type": "code",
   "execution_count": null,
   "id": "8dedb292-e688-4158-8763-1cda25b454ff",
   "metadata": {},
   "outputs": [],
   "source": [
    "seq28.monomials()"
   ]
  },
  {
   "cell_type": "code",
   "execution_count": null,
   "id": "5410965f-6008-44c0-b675-a53c6c5eaa43",
   "metadata": {},
   "outputs": [],
   "source": [
    "## We eliminate u_5 using the last equation and the first equation"
   ]
  },
  {
   "cell_type": "markdown",
   "id": "11e6c299-9d96-4b8e-bdf5-56e892b94de5",
   "metadata": {
    "jp-MarkdownHeadingCollapsed": true
   },
   "source": [
    "##### Case with $u_2 = -1/x^2, u_3=u_4=0$ **NO SOLUTION**"
   ]
  },
  {
   "cell_type": "code",
   "execution_count": null,
   "id": "135215f5-7ca5-41e6-8b6f-27d20704648a",
   "metadata": {},
   "outputs": [],
   "source": [
    "K6_eval = [el(u_2=(-1/x^2),u_3=0,u_4=0,c_6=25) for el in K6]\n",
    "FR = K6_eval[0].parent().remove_variables(\"z\")\n",
    "K6_eval = [FR(el) for el in K6_eval]"
   ]
  },
  {
   "cell_type": "code",
   "execution_count": null,
   "id": "e30a2cef-ea55-4062-bdb6-df37974e6f10",
   "metadata": {},
   "outputs": [],
   "source": [
    "simplified_system = DSystem(K6_eval)"
   ]
  },
  {
   "cell_type": "code",
   "execution_count": null,
   "id": "66ee4b1e-7d8a-4dfc-a466-f415d8ead69e",
   "metadata": {},
   "outputs": [],
   "source": [
    "A = simplified_system.equation(-1)\n",
    "B = simplified_system.equation(-2)"
   ]
  },
  {
   "cell_type": "code",
   "execution_count": null,
   "id": "de0f709d-8619-4cca-9add-aa3414a8f88a",
   "metadata": {},
   "outputs": [],
   "source": [
    "S = A.sylvester_resultant(B).coefficients()[0]"
   ]
  },
  {
   "cell_type": "code",
   "execution_count": null,
   "id": "e4c02dc4-b2a1-4e0e-ad17-1c6ca045cc5e",
   "metadata": {},
   "outputs": [],
   "source": [
    "print(S.numerator().polynomial(x.numerator().wrapped).coefficients())"
   ]
  },
  {
   "cell_type": "markdown",
   "id": "14aaba95-37e3-40d4-9556-f2a54d61c5e1",
   "metadata": {
    "jp-MarkdownHeadingCollapsed": true
   },
   "source": [
    "##### Case $u_2 = -1/x^2$"
   ]
  },
  {
   "cell_type": "code",
   "execution_count": null,
   "id": "7bb8ec8e-21f8-4ae6-b7fc-75fc2e0b4e9c",
   "metadata": {},
   "outputs": [],
   "source": [
    "val_u_5_eval = [el(u_2=(-1/x^2)) for el in val_u_5]"
   ]
  },
  {
   "cell_type": "code",
   "execution_count": null,
   "id": "1911e318-6541-4a33-8b69-5c25da5540a7",
   "metadata": {},
   "outputs": [],
   "source": [
    "val_u_5_eval[0]"
   ]
  },
  {
   "cell_type": "code",
   "execution_count": null,
   "id": "430bed42-b340-451d-ad2d-bb92dce2f3e3",
   "metadata": {},
   "outputs": [],
   "source": [
    "K6_eval = [el(u_2=(-1/x^2)) for el in K6]\n",
    "FR = K6_eval[0].parent().remove_variables(\"z\")\n",
    "K6_eval = [FR(el) for el in K6_eval]"
   ]
  },
  {
   "cell_type": "code",
   "execution_count": null,
   "id": "232378f5-1984-4788-9dfe-5d070ef4e74b",
   "metadata": {},
   "outputs": [],
   "source": [
    "simplified_system = DSystem(K6_eval, variables=[FR.2])"
   ]
  },
  {
   "cell_type": "code",
   "execution_count": null,
   "id": "1e4e7ceb-5861-4a9c-9a0f-f14bce2a4755",
   "metadata": {},
   "outputs": [],
   "source": [
    "### Some statistics\n",
    "[len(el.monomials()) for el in K6_eval]"
   ]
  },
  {
   "cell_type": "code",
   "execution_count": null,
   "id": "f2c20b89-1e6f-436d-aa0f-00ad6e9d4d52",
   "metadata": {},
   "outputs": [],
   "source": [
    "print({g : (tuple(el.order(g) for el in K6_eval), [[el.degree(g[i]) for i in range(el.order(g)+1)] for el in K6_eval]) for g in FR.gens()})"
   ]
  },
  {
   "cell_type": "code",
   "execution_count": null,
   "id": "5067b3e9-a03f-42f1-a596-f226196de1f2",
   "metadata": {},
   "outputs": [],
   "source": [
    "S = A.sylvester_resultant(B, FR.2)"
   ]
  },
  {
   "cell_type": "markdown",
   "id": "462fb4ae-bc82-4c7c-93bd-55aaa4b63115",
   "metadata": {},
   "source": [
    "### **Looking for specific solutions**"
   ]
  },
  {
   "cell_type": "markdown",
   "id": "2cbd8be2-c242-45b9-bbeb-a9710bcebc6b",
   "metadata": {},
   "source": [
    "##### Generic case"
   ]
  },
  {
   "cell_type": "markdown",
   "id": "98a3ebc2-4c08-47b9-bee3-033c73de980b",
   "metadata": {},
   "source": [
    "The first attemp here is to look for solutions of a specific shape. For example, let $x$ be a transcendental element such that $\\partial(x) = 1$ and assume the weight of $x$ is $-1$ (so it satisfies that the derivative increases the weight by 1). Then we will see that, for $u_2$ to have weight equal to 2, we need that\n",
    "$$u_2 = \\frac{c+xp(x)}{x^2 (d + xq(x))},$$\n",
    "where $c,d \\in \\mathbb{C}^*$ and $p(x), q(x) \\in \\mathbb{C}[x]$."
   ]
  },
  {
   "cell_type": "code",
   "execution_count": null,
   "id": "0e8ff2e3-0897-4fdc-9775-679951f1fbda",
   "metadata": {},
   "outputs": [],
   "source": [
    "C = K6[0].parent().base().gens()\n",
    "d = 2; n = 5\n",
    "A = [f\"a_{i}_{j}\" for i in range(2,n+1) for j in range(d+1)]\n",
    "R = DifferentialRing(QQ[x,*A,*C], [1] + len(A)*[0] + len(C)*[0]).fraction_field()\n",
    "A = [R(a) for a in A]\n",
    "A = [A[i:i + d+1] for i in range(0, len(A), d+1)]\n",
    "x = R.gens()[0]"
   ]
  },
  {
   "cell_type": "code",
   "execution_count": null,
   "id": "f39b03a1-9e9f-4ef7-a2cc-98231cef9478",
   "metadata": {},
   "outputs": [],
   "source": [
    "A"
   ]
  },
  {
   "cell_type": "code",
   "execution_count": null,
   "id": "36a249cc-3d07-4904-88af-860df3ca1941",
   "metadata": {},
   "outputs": [],
   "source": [
    "u = L.parent().gens()[:4]\n",
    "U = {u[i]: (-1)^(i+1)*(sum(a*x^j for (j,a) in enumerate(A[i]))/x^(i+2)) for i in range(len(u))}\n",
    "U"
   ]
  },
  {
   "cell_type": "code",
   "execution_count": null,
   "id": "4ee8de11-5be5-458d-9edf-cd00cf120aed",
   "metadata": {},
   "outputs": [],
   "source": [
    "numerators = [(k(dic=U).coefficients()[0]).numerator().wrapped for k in K6]\n",
    "B = numerators[0].parent()\n",
    "X = B.0"
   ]
  },
  {
   "cell_type": "code",
   "execution_count": null,
   "id": "3e54e45f-599f-4bec-a491-2d24aad6122f",
   "metadata": {},
   "outputs": [],
   "source": [
    "equations = sum((numerator.polynomial(X).coefficients() for numerator in numerators), [])\n",
    "equations.sort(key=lambda k: len(k.coefficients()))"
   ]
  },
  {
   "cell_type": "code",
   "execution_count": null,
   "id": "141ad151-7736-483d-99b1-7e2bb9faa9dd",
   "metadata": {},
   "outputs": [],
   "source": [
    "I = ideal(equations)\n",
    "solution = {\"c_6\": 1, \"c_5\": 0, \"c_0\": 0} # basic solution to start\n",
    "# solution.update({\"a_2_0\": 1, \"a_2_1\": 0, \"a_2_2\": 0}) # solutions with u_2 = -1/x^2 # NO SOLUTION\n",
    "# solution.update({\"a_2_0\": 1, \"a_2_1\": 0}) # solutions with u_2 = (-1+c*x^2)/x^2 # NO SOLUTION\n",
    "# solution.update({\"a_2_0\": 1, \"a_2_2\": 0}) # solutions with u_2 = (-1+c*x)/x^2 # NO SOLUTION\n",
    "# solution.update({\"a_2_0\": 0}) # "
   ]
  },
  {
   "cell_type": "code",
   "execution_count": null,
   "id": "cc63aea9-13f1-46db-99d0-58ac70855110",
   "metadata": {},
   "outputs": [],
   "source": [
    "A"
   ]
  },
  {
   "cell_type": "code",
   "execution_count": null,
   "id": "1f7f3b60-e277-4f34-8177-52e1ad47d7f6",
   "metadata": {},
   "outputs": [],
   "source": [
    "I.elimination_ideal(A[0][0])"
   ]
  },
  {
   "cell_type": "code",
   "execution_count": null,
   "id": "0e6cd491-970e-4eee-836a-96e5d0f77e72",
   "metadata": {},
   "outputs": [],
   "source": [
    "I = ideal(el(**solution) for el in equations)"
   ]
  },
  {
   "cell_type": "code",
   "execution_count": null,
   "id": "53b4f236-3e23-4532-a713-00f55e3ba5ea",
   "metadata": {},
   "outputs": [],
   "source": [
    "ideal(el(**solution) for el in equations).groebner_basis()"
   ]
  },
  {
   "cell_type": "code",
   "execution_count": null,
   "id": "16cd4bd8-3eef-4e1e-8d58-911bfba862aa",
   "metadata": {},
   "outputs": [],
   "source": [
    "i = 0\n",
    "for el in equations:\n",
    "    rem = el(**solution)\n",
    "    if rem != 0:\n",
    "        show(latex(i) + r\"\\longrightarrow\" + latex(rem.factor()))\n",
    "        i+= 1"
   ]
  },
  {
   "cell_type": "code",
   "execution_count": null,
   "id": "6b3b0a1d-67aa-44f3-91e9-ce687b6a54c5",
   "metadata": {},
   "outputs": [],
   "source": [
    "#solutions = analyze_ideal(I, {\"c_6\": 1, \"c_5\": 0, \"c_0\": 0}, loglevel=logging.INFO)"
   ]
  },
  {
   "cell_type": "markdown",
   "id": "3d0c259a-cb5b-4eb8-ba35-b81aaa2564d7",
   "metadata": {},
   "source": [
    "## Examples"
   ]
  },
  {
   "cell_type": "markdown",
   "id": "2937e590-73b8-4787-8f0a-affeed2b57dc",
   "metadata": {},
   "source": [
    "### **Cases with $u_i = a_i/x^i$**"
   ]
  },
  {
   "cell_type": "markdown",
   "id": "47056f01-b6ec-41ca-bac3-038ee7acb52f",
   "metadata": {
    "jp-MarkdownHeadingCollapsed": true
   },
   "source": [
    "##### The order 3"
   ]
  },
  {
   "cell_type": "code",
   "execution_count": null,
   "id": "da9200af-13a9-491c-ad05-1b336483ddd9",
   "metadata": {},
   "outputs": [],
   "source": [
    "n = 3\n",
    "A = [f\"a_{i}\" for i in range(2,n+1)]\n",
    "R = DifferentialRing(PolynomialRing(QQ, [x,*A]), [1] + len(A)*[0]).fraction_field()\n",
    "A = [0,0] + [R(a) for a in A]\n",
    "x = R.gens()[0]\n",
    "U = {1: A[2]/x^2, 0: A[3]/x^3}"
   ]
  },
  {
   "cell_type": "code",
   "execution_count": null,
   "id": "d3dfcd54-246d-48a8-ae8a-119e4321a595",
   "metadata": {},
   "outputs": [],
   "source": [
    "L3, P5, I = GetEquationsForSolution(5, 3, U, extract=generate_polynomial_equations)\n",
    "I_gb = I.groebner_basis()"
   ]
  },
  {
   "cell_type": "code",
   "execution_count": null,
   "id": "480baf41-c074-484a-adf6-f1d6a2fb114a",
   "metadata": {},
   "outputs": [],
   "source": [
    "SOLS = analyze_ideal(\n",
    "    ideal(I), \n",
    "    {\"c_0\": 0, \"c_3\": 0}, \n",
    "    [\n",
    "        {f\"c_{i}\": None for i in range(2, 6)},\n",
    "        {f\"c_{i}\": 0 for i in range(4, 6)},\n",
    "        {f\"a_{i}\": 0 for i in range(2, 6)}\n",
    "    ])"
   ]
  },
  {
   "cell_type": "markdown",
   "id": "ac87282a-2ea8-43de-ab80-a73f4080c181",
   "metadata": {},
   "source": [
    "###### One example"
   ]
  },
  {
   "cell_type": "code",
   "execution_count": null,
   "id": "ac64b572-2932-43c4-9ce8-e3668daa557e",
   "metadata": {},
   "outputs": [],
   "source": [
    "solution = {\"a_2\" : -12, \"a_3\" : 0, \"c_3\": 0, \"c_0\": 0, \"c_1\": 0, \"c_2\": 0, \"c_4\": 0}"
   ]
  },
  {
   "cell_type": "code",
   "execution_count": null,
   "id": "3861b2f8-b5fc-462e-bb78-c2dc7ed7066c",
   "metadata": {},
   "outputs": [],
   "source": [
    "I_red = [eq(**solution) for eq in I.basis]; I_red = [el for el in I_red if el != 0]\n",
    "I_red"
   ]
  },
  {
   "cell_type": "code",
   "execution_count": null,
   "id": "cb197a52-41c2-4ac4-b889-31d26363467b",
   "metadata": {
    "scrolled": true
   },
   "outputs": [],
   "source": [
    "L3(**solution)"
   ]
  },
  {
   "cell_type": "code",
   "execution_count": null,
   "id": "0a5a06ba-3588-41c2-8836-02b2c758a3df",
   "metadata": {},
   "outputs": [],
   "source": [
    "P5(**solution)"
   ]
  },
  {
   "cell_type": "code",
   "execution_count": null,
   "id": "d064b783-0a9a-4b50-b9a4-6c056f57e726",
   "metadata": {},
   "outputs": [],
   "source": [
    "L3_eval = L3(**solution)\n",
    "P = dict()\n",
    "for i in [5]:\n",
    "    full_sol = {**solution}; full_sol[f\"c_{i}\"] = 1; full_sol.update({f\"c_{j}\": 0 for j in  [5] if i != j})\n",
    "    P5_eval = P5(**full_sol)\n",
    "    I_red = [eq(**full_sol) for eq in I.basis]; I_red = [el for el in I_red if el != 0]\n",
    "    P[i] = P5_eval\n",
    "    print(i, \"->\", P5_eval, \"\\n Does it commute (0 is yes): \", L3_eval.lie_bracket(P5_eval, \"z\"))"
   ]
  },
  {
   "cell_type": "code",
   "execution_count": null,
   "id": "21f2b85a-c9e5-44b3-8c6a-573a9f9a9b84",
   "metadata": {},
   "outputs": [],
   "source": [
    "[3*i+1 for i in range(9)]"
   ]
  },
  {
   "cell_type": "code",
   "execution_count": null,
   "id": "7457f67c-bea7-4227-89c3-7602203c934c",
   "metadata": {},
   "outputs": [],
   "source": [
    "L3_7, P7, I_7 = GetEquationsForSolution(7, 3, U, extract=generate_polynomial_equations)"
   ]
  },
  {
   "cell_type": "code",
   "execution_count": null,
   "id": "10127d09-c65c-4419-84fa-9fcbc7dbf647",
   "metadata": {},
   "outputs": [],
   "source": [
    "solution_7 = {\"a_2\" : -12, \"a_3\" : 0, \"c_3\": 0, \"c_0\": 0, \"c_6\": 0, \"c_1\": 0, \"c_2\": 0, \"c_4\": 0}\n",
    "I_red7 = [eq(**solution_7) for eq in I_7.basis]; I_red7 = [el for el in I_red7 if el != 0]\n",
    "I_red7"
   ]
  },
  {
   "cell_type": "code",
   "execution_count": null,
   "id": "fd292387-c0be-4ac4-b2fe-611fdfa222bd",
   "metadata": {},
   "outputs": [],
   "source": [
    "P7(**solution_7)"
   ]
  },
  {
   "cell_type": "code",
   "execution_count": null,
   "id": "756cd948-6070-40c7-97a0-17bf286732ce",
   "metadata": {},
   "outputs": [],
   "source": [
    "L3_eval_7 = L3_7(**solution_7)\n",
    "P_7 = dict()\n",
    "for i in [5,7]:\n",
    "    full_sol = {**solution_7}; full_sol[f\"c_{i}\"] = 1; full_sol.update({f\"c_{j}\": 0 for j in [5,7] if i != j})\n",
    "    P7_eval = P7(**full_sol)\n",
    "    I_red_7 = [eq(**full_sol) for eq in I_7.basis]; I_red_7 = [el for el in I_red_7 if el != 0]\n",
    "    P_7[i] = P7_eval\n",
    "    print(i, \"->\", P7_eval, \"\\n Does it commute (0 is yes): \", L3_eval_7.lie_bracket(P7_eval, \"z\"))"
   ]
  },
  {
   "cell_type": "markdown",
   "id": "158e92a4-1254-4446-a4e2-d0f93cb93607",
   "metadata": {},
   "source": [
    "##### The order 5 "
   ]
  },
  {
   "cell_type": "code",
   "execution_count": 77,
   "id": "3282fc6a-8667-45a9-866a-5eaf64f7f7d9",
   "metadata": {},
   "outputs": [],
   "source": [
    "n = 5\n",
    "A = [f\"a_{i}\" for i in range(2,n+1)]\n",
    "B = DifferentialRing(QQ[x], [1])\n",
    "R = DifferentialRing(PolynomialRing(QQ, [x,*A]), [1] + len(A)*[0]).fraction_field()\n",
    "A = [0,0] + [R(a) for a in A]\n",
    "x = R.gens()[0]\n",
    "U = {3: A[2]/x^2, 2: A[3]/x^3, 1: A[4]/x^4, 0: A[5]/x^5}"
   ]
  },
  {
   "cell_type": "markdown",
   "id": "3bb21bd3-1444-4323-a425-80b9b2af721e",
   "metadata": {
    "jp-MarkdownHeadingCollapsed": true
   },
   "source": [
    "###### Getting the system"
   ]
  },
  {
   "cell_type": "code",
   "execution_count": null,
   "id": "e8d7fd57-397b-4fa6-97a8-be19b5eb143c",
   "metadata": {},
   "outputs": [],
   "source": [
    "Le, P9, I = GetEquationsForSolution(9, 5, U, extract=generate_polynomial_equations)\n",
    "I_gb = I.groebner_basis()"
   ]
  },
  {
   "cell_type": "code",
   "execution_count": null,
   "id": "149ca003-2158-4c58-b018-d33710120a93",
   "metadata": {},
   "outputs": [],
   "source": [
    "SOLS = analyze_ideal(\n",
    "    ideal(I), \n",
    "    {\"c_0\": 0, \"c_5\": 0}, \n",
    "    [\n",
    "        {f\"c_{i}\": None for i in range(2, 10)},\n",
    "        {f\"c_{i}\": 0 for i in range(6, 10)},\n",
    "        {f\"a_{i}\": 0 for i in range(2, 6)}\n",
    "    ], groebner=False)"
   ]
  },
  {
   "cell_type": "code",
   "execution_count": null,
   "id": "ad355b10-9ea3-41ba-9761-022f07f1b7ce",
   "metadata": {},
   "outputs": [],
   "source": [
    "with open(\"gb.txt\", \"w\") as f:\n",
    "    f.write(\"eqns_gb:={\")\n",
    "    for equ in I_gb:\n",
    "        f.write(f\"{equ},\\n\")\n",
    "    f.write(\"};\")"
   ]
  },
  {
   "cell_type": "code",
   "execution_count": null,
   "id": "93de1d4d-e304-4726-90b7-28d8e2b26bcc",
   "metadata": {},
   "outputs": [],
   "source": [
    "with open(\"id.txt\", \"w\") as f:\n",
    "    f.write(\"eqns_id:={\")\n",
    "    for equ in I.basis:\n",
    "        f.write(f\"{equ},\\n\")\n",
    "    f.write(\"};\")"
   ]
  },
  {
   "cell_type": "markdown",
   "id": "52c83052-009a-4347-b43d-26a4735c4b1c",
   "metadata": {},
   "source": [
    "At this stage, we used Maple to solve the system in \"id.txt\". After some filtering we found a candidate that may be useful:"
   ]
  },
  {
   "cell_type": "markdown",
   "id": "79a40ca8-91f7-4d18-ad39-483f8a51a411",
   "metadata": {
    "jp-MarkdownHeadingCollapsed": true
   },
   "source": [
    "###### One example"
   ]
  },
  {
   "cell_type": "code",
   "execution_count": null,
   "id": "8e537842-2cac-4d77-bd6c-01f346569112",
   "metadata": {},
   "outputs": [],
   "source": [
    "solution = {\"a_2\" : -20, \"a_3\" : 60, \"a_4\": 0, \"a_5\": -120, \"c_1\": 0, \"c_2\": 0, \"c_3\": 0, \"c_5\": 0, \"c_0\": 0}"
   ]
  },
  {
   "cell_type": "code",
   "execution_count": null,
   "id": "48357042-2ab1-4241-8f6b-cb4f5463d0e9",
   "metadata": {},
   "outputs": [],
   "source": [
    "I_red = [eq(**solution) for eq in I.basis]; I_red = [el for el in I_red if el != 0]\n",
    "I_red"
   ]
  },
  {
   "cell_type": "code",
   "execution_count": null,
   "id": "effbfb38-4534-402d-9a14-ae66819dd0f1",
   "metadata": {
    "scrolled": true
   },
   "outputs": [],
   "source": [
    "Le(**solution)"
   ]
  },
  {
   "cell_type": "code",
   "execution_count": null,
   "id": "973b88f0-a2aa-4be0-9381-77ea1a5e61cf",
   "metadata": {},
   "outputs": [],
   "source": [
    "P9(**solution)"
   ]
  },
  {
   "cell_type": "code",
   "execution_count": null,
   "id": "e69f6c21-bb7f-4833-89c1-244e4d8f5876",
   "metadata": {},
   "outputs": [],
   "source": [
    "Le(**solution).lie_bracket(P9(**solution), \"z\")"
   ]
  },
  {
   "cell_type": "code",
   "execution_count": null,
   "id": "8a9f6a41-4689-4f44-970e-fc688e1b8bc9",
   "metadata": {},
   "outputs": [],
   "source": [
    "Le_eval = Le(**solution)\n",
    "P = dict()\n",
    "for i in [4,6,7,8,9]:\n",
    "    full_sol = {**solution}; full_sol[f\"c_{i}\"] = 1; full_sol.update({f\"c_{j}\": 0 for j in [4,6,7,8,9] if i != j})\n",
    "    P9_eval = P9(**full_sol)\n",
    "    I_red = [eq(**full_sol) for eq in I.basis]; I_red = [el for el in I_red if el != 0]\n",
    "    P[i] = P9_eval\n",
    "    print(i, \"->\", P9_eval, \"\\n Does it commute (0 is yes): \", Le_eval.lie_bracket(P9_eval, \"z\"))"
   ]
  },
  {
   "cell_type": "markdown",
   "id": "c4114692-4a25-4d58-933c-bf822e6496bb",
   "metadata": {},
   "source": [
    "This looks like a $L_4$ more than a $L_5$. In fact:"
   ]
  },
  {
   "cell_type": "code",
   "execution_count": null,
   "id": "39b1dd98-269f-41aa-bdc0-d5b1276eb2ea",
   "metadata": {},
   "outputs": [],
   "source": [
    "P[4](z=P[4]) - P[8]"
   ]
  },
  {
   "cell_type": "code",
   "execution_count": null,
   "id": "fa971afd-5414-41eb-b8d3-6603f3240889",
   "metadata": {},
   "outputs": [],
   "source": [
    "Le_eval(z=P[4]) - P[9]"
   ]
  },
  {
   "cell_type": "code",
   "execution_count": null,
   "id": "d0fc25fd-ef9b-4368-a983-e33ac4dade9b",
   "metadata": {},
   "outputs": [],
   "source": [
    "8/x^2 * P[4]"
   ]
  },
  {
   "cell_type": "code",
   "execution_count": null,
   "id": "5115773e-20f0-492f-a86d-b1deac10cc22",
   "metadata": {},
   "outputs": [],
   "source": [
    "z[2](z=P[4]) - P[4](z=z[2])"
   ]
  },
  {
   "cell_type": "code",
   "execution_count": null,
   "id": "e06117b0-baf7-410b-b656-a9d56eb2c527",
   "metadata": {},
   "outputs": [],
   "source": [
    "P[4]"
   ]
  },
  {
   "cell_type": "code",
   "execution_count": null,
   "id": "35005ea7-4787-4bc0-9cc1-560d55897964",
   "metadata": {},
   "outputs": [],
   "source": [
    "Le_eval"
   ]
  },
  {
   "cell_type": "code",
   "execution_count": null,
   "id": "2b0128ef-786d-4165-aa15-38dc2b2d9090",
   "metadata": {},
   "outputs": [],
   "source": [
    "4,5,6,7,8,9\n",
    "L_5\n",
    "A_1 = P_6\n",
    "A_2 = P_7\n",
    "A_3 = P_8\n",
    "A_4 = P_4"
   ]
  },
  {
   "cell_type": "code",
   "execution_count": null,
   "id": "80996f8f-d26c-42f7-a028-b34416c164b6",
   "metadata": {},
   "outputs": [],
   "source": [
    "C[L_5, P_4, P_6, P_7]"
   ]
  },
  {
   "cell_type": "code",
   "execution_count": null,
   "id": "e1a27066-a8d5-4b80-8dd5-5088ecce6f62",
   "metadata": {},
   "outputs": [],
   "source": [
    "xgcd(5, 9)"
   ]
  },
  {
   "cell_type": "code",
   "execution_count": null,
   "id": "f2ce8223-f1c4-4883-adef-0de034f67725",
   "metadata": {},
   "outputs": [],
   "source": [
    "P[4](z=P[4](z=P[4])) - Le_eval(z=P[7])"
   ]
  },
  {
   "cell_type": "markdown",
   "id": "b9c50b9a-52f4-42a4-9942-d5a3ee8ff7ad",
   "metadata": {
    "jp-MarkdownHeadingCollapsed": true
   },
   "source": [
    "###### Studying a solution"
   ]
  },
  {
   "cell_type": "code",
   "execution_count": null,
   "id": "16e9d914-fac0-49d0-a7f5-e39c868d9ac2",
   "metadata": {},
   "outputs": [],
   "source": [
    "def bounds(n, m):\n",
    "    r'''\n",
    "        For an operator L of order `n`, bound order of commutators for each congruence \n",
    "        class when a commutator of order `m` is known.\n",
    "    '''\n",
    "    if m%n == 0: raise ValueError(\"Error in `m`\")\n",
    "    output = {0: n, m%n : m}\n",
    "    c = m\n",
    "    while len(output) != n:\n",
    "        c += m\n",
    "        if (c%n) in output:\n",
    "            pass\n",
    "        else:\n",
    "            output[c%n] = c - n\n",
    "    return output\n",
    "def flag_for_order(order, n, m, knowledge):\n",
    "    result = knowledge.copy()\n",
    "    result[f\"c_{order}\"] = 1\n",
    "    for i in range(order+1, m+1): # everything beyond order to zero\n",
    "        result[f\"c_{i}\"] = 0\n",
    "    for i in range(0, order+1, n): # easy commutator -> we get a zero\n",
    "        result[f\"c_{i}\"] = 0\n",
    "    return result"
   ]
  },
  {
   "cell_type": "code",
   "execution_count": null,
   "id": "a2656445-87fc-401c-8727-5fcd3795b1fa",
   "metadata": {},
   "outputs": [],
   "source": [
    "bounds(5,8)"
   ]
  },
  {
   "cell_type": "code",
   "execution_count": null,
   "id": "c5871915-5185-4b93-a944-bb9a2c9f8e60",
   "metadata": {},
   "outputs": [],
   "source": [
    "__CACHED_EQUATIONS = dict()\n",
    "def _get_equations(m, n, solution, B, U):\n",
    "    key = (m,n, tuple(sorted(solution.items())))\n",
    "    if not key in __CACHED_EQUATIONS:\n",
    "        print(\"Actually computing\")\n",
    "        nU = {k: B.fraction_field()(str(v(**solution))) for (k,v) in U.items()}\n",
    "        __CACHED_EQUATIONS[key] = GetEquationsForSolution(m, n, nU, extract=generate_polynomial_equations)\n",
    "    return __CACHED_EQUATIONS[key]"
   ]
  },
  {
   "cell_type": "code",
   "execution_count": null,
   "id": "f6c4d80c-5633-40e8-84f1-1de2d224990e",
   "metadata": {},
   "outputs": [],
   "source": [
    "def analyze_centralizer(n, solution, m, U, B):\n",
    "    r'''\n",
    "        Analyze the centralizer of L_n for a specific solution assuming there is a commutator of order `m`\n",
    "    '''\n",
    "    M = max(bounds(n,m).values())\n",
    "    print(\"Getting the equations up to the computed bound\")\n",
    "    nL, nP, nI = _get_equations(M, n, solution, B, U)\n",
    "    print(\"Starting analysis of centralizer...\")\n",
    "    A = {0: nL}\n",
    "    i = 2; parts = [n]\n",
    "    while i <= M and len(A) < n:\n",
    "        if len(Partitions(i, parts_in=parts)) == 0:\n",
    "            starting = flag_for_order(i, n, M, dict())\n",
    "            nLe = nL(**starting)\n",
    "            nPe = nP(**starting)\n",
    "            nI_polys = sorted([nLe.parent().base().base().wrapped(p(**starting) if p.parent() != ZZ else p) for p in nI.gens()], key=lambda t: len(t.monomials()))\n",
    "            nIe = ideal(p for p in nI_polys if p != 0) if nI != ideal([ZZ(0)]) else nI\n",
    "            if nIe != ideal(1):\n",
    "                print(f\"Added a new commutator: {i}\")\n",
    "                S = analyze_ideal(nIe.groebner_basis(), starting, [])\n",
    "                if len(S) > 1:\n",
    "                    print(f\"Multiple solutions in the case {i}\")\n",
    "                    A[i%n] = (starting, nLe, nPe, S)\n",
    "                    parts.append(i)\n",
    "                elif len(S) == 0:\n",
    "                    print(f\"No solutions in the case {i}\")\n",
    "                else:\n",
    "                    A[i%n] = S[0].eval(nPe)\n",
    "                    parts.append(i)\n",
    "            else:\n",
    "                print(f\"Case {i} has no solution\")\n",
    "        else:\n",
    "            print(f\"Skipping case {i}: we already have it ready\")\n",
    "        i += 1\n",
    "    return A"
   ]
  },
  {
   "cell_type": "code",
   "execution_count": null,
   "id": "4582355d-a94a-4a32-acfa-0ee47f466e6b",
   "metadata": {},
   "outputs": [],
   "source": [
    "A1 = analyze_centralizer(n, {\"a_2\" : -50, \"a_3\" : 40, \"a_4\": 240, \"a_5\": -240}, 6, U, B)\n",
    "A1"
   ]
  },
  {
   "cell_type": "code",
   "execution_count": null,
   "id": "b2c4cb4a-8c85-4dab-933e-3ba8a81904a8",
   "metadata": {},
   "outputs": [],
   "source": [
    "A2 = analyze_centralizer(n, {\"a_2\" : -50, \"a_3\" : 260, \"a_4\": -420, \"a_5\": 0}, 6, U, B)\n",
    "A2"
   ]
  },
  {
   "cell_type": "code",
   "execution_count": null,
   "id": "b2b85335-d293-463d-b38a-cae1f0ed4b93",
   "metadata": {},
   "outputs": [],
   "source": [
    "A3 = analyze_centralizer(n, {\"a_2\" : -60, \"a_3\" : 240, \"a_4\": 0, \"a_5\": 0}, 6, U, B)\n",
    "A3"
   ]
  },
  {
   "cell_type": "code",
   "execution_count": null,
   "id": "d9a64e5b-cbe3-48cf-a0aa-3ced0518ea01",
   "metadata": {},
   "outputs": [],
   "source": [
    "cases_only_6 = [[-50, 40, 240, -240],\n",
    "[-50, 260, -420, 0],\n",
    "[-80, 240, 1200, -2880], \n",
    "[-175, 525, 3955, -8960], \n",
    "[-20, 0, 0, 0],\n",
    "[-25, 95, -50, -270], \n",
    "[-25, 55, 70, -70],\n",
    "[-15, 75, -180, 180],\n",
    "[-35, 35, 0, 0], \n",
    "[-55, 85, 235, -640],\n",
    "[-60, 240, 0, 0], \n",
    "[-55, 245, -245, 0], \n",
    "[-125, 575, 1530, -7290], \n",
    "[-100, 200, 880, 0], \n",
    "[-55, 155, 340, -1620], \n",
    "[-40, 160, -320, 320], \n",
    "[-95, 445, 195, -3840], \n",
    "[-100, 400, 280, -3520], \n",
    "[-95, 125, 1155, 0], \n",
    "[-65, 375, -450, -1470], \n",
    "[-20, 80, -120, 0]]\n",
    "cases_only_6 = [{f\"a_{2+i}\": v for (i,v) in enumerate(el)} for el in cases_only_6]"
   ]
  },
  {
   "cell_type": "code",
   "execution_count": null,
   "id": "f9542b7a-dac1-4e2a-a12b-0dbdbc6500ce",
   "metadata": {},
   "outputs": [],
   "source": [
    "As = []\n",
    "for i, solution in enumerate(cases_only_6):\n",
    "    print(\"##############################################################\")\n",
    "    print(f\"Starting case {i+1}/{len(cases_only_6)}...\")\n",
    "    As.append(analyze_centralizer(n, solution, 6, U, B))\n",
    "    print(f\"Finished case {i+1}/{len(cases_only_6)}\")"
   ]
  },
  {
   "cell_type": "code",
   "execution_count": null,
   "id": "3d4341cd-757a-4f3b-baa7-3945ac9f0d28",
   "metadata": {},
   "outputs": [],
   "source": [
    "A1 = {i: (cases_only_6[i], a) for (i,a) in enumerate(As) if len(a) == 1}\n",
    "A2 = {i: (cases_only_6[i], a) for (i,a) in enumerate(As) if len(a) == 2}\n",
    "A3 = {i: (cases_only_6[i], a) for (i,a) in enumerate(As) if len(a) == 3}\n",
    "A4 = {i: (cases_only_6[i], a) for (i,a) in enumerate(As) if len(a) == 4}\n",
    "A5 = {i: (cases_only_6[i], a) for (i,a) in enumerate(As) if len(a) == 5}"
   ]
  },
  {
   "cell_type": "code",
   "execution_count": null,
   "id": "c4842a6d-9115-4da1-983d-062c696e5966",
   "metadata": {},
   "outputs": [],
   "source": [
    "A2.values()"
   ]
  },
  {
   "cell_type": "code",
   "execution_count": null,
   "id": "10fe7851-1d02-43b7-85a2-d5df46dc7969",
   "metadata": {},
   "outputs": [],
   "source": [
    "cases_only_6[2]"
   ]
  },
  {
   "cell_type": "code",
   "execution_count": null,
   "id": "3f88237f-4dd0-492f-9edb-62b301eeb613",
   "metadata": {},
   "outputs": [],
   "source": [
    "A5"
   ]
  },
  {
   "cell_type": "code",
   "execution_count": null,
   "id": "0d7d931a-70c4-435a-8fa1-090b9f6d18fb",
   "metadata": {},
   "outputs": [],
   "source": [
    "with open(\"./result_commutator_A2.dmp\", \"wb\") as file:\n",
    "    pickle.dump(A2, file)\n",
    "with open(\"./result_commutator_A3.dmp\", \"wb\") as file:\n",
    "    pickle.dump(A3, file)\n",
    "with open(\"./result_commutator_A4.dmp\", \"wb\") as file:\n",
    "    pickle.dump(A4, file)\n",
    "with open(\"./result_commutator_A5.dmp\", \"wb\") as file:\n",
    "    pickle.dump(A5, file)"
   ]
  },
  {
   "cell_type": "markdown",
   "id": "abd2f4d8-b1c5-44ff-9d76-82d79be092c1",
   "metadata": {},
   "source": [
    "###### Loading previous computations"
   ]
  },
  {
   "cell_type": "code",
   "execution_count": 78,
   "id": "36aaa806-ed76-4dda-8910-4946f40b4db8",
   "metadata": {},
   "outputs": [],
   "source": [
    "with open(\"./result_commutator_A2.dmp\", \"rb\") as file:\n",
    "    A2 = pickle.load(file)\n",
    "with open(\"./result_commutator_A3.dmp\", \"rb\") as file:\n",
    "    A3 = pickle.load(file)\n",
    "with open(\"./result_commutator_A5.dmp\", \"rb\") as file:\n",
    "    A5 = pickle.load(file)"
   ]
  },
  {
   "cell_type": "markdown",
   "id": "8e74407a-6ddd-4a31-82d3-f276d8692260",
   "metadata": {},
   "source": [
    "###### **Planar curve case**"
   ]
  },
  {
   "cell_type": "code",
   "execution_count": 79,
   "id": "521b4425-3ab0-4b1d-a16b-b6888dbc04d1",
   "metadata": {},
   "outputs": [],
   "source": [
    "L5 = A2[3][1][0]\n",
    "P6 = A2[3][1][1]\n",
    "fR = L5.parent().change_ring(B.fraction_field())\n",
    "L5, P6 = fR(L5), fR(P6)\n",
    "z = L5.parent().gen(\"z\")"
   ]
  },
  {
   "cell_type": "code",
   "execution_count": 80,
   "id": "16677b77-77e7-454b-8fe2-9a52ded1aa48",
   "metadata": {},
   "outputs": [
    {
     "data": {
      "text/html": [
       "<html>\\(\\displaystyle \\left(\\frac{-8960}{x^{5}}\\right){z}_{(0)} + \\left(\\frac{3955}{x^{4}}\\right){z}_{(1)} + \\left(\\frac{525}{x^{3}}\\right){z}_{(2)} + \\left(\\frac{-175}{x^{2}}\\right){z}_{(3)} + {z}_{(5)}\\)</html>"
      ],
      "text/latex": [
       "$\\displaystyle \\left(\\frac{-8960}{x^{5}}\\right){z}_{(0)} + \\left(\\frac{3955}{x^{4}}\\right){z}_{(1)} + \\left(\\frac{525}{x^{3}}\\right){z}_{(2)} + \\left(\\frac{-175}{x^{2}}\\right){z}_{(3)} + {z}_{(5)}$"
      ],
      "text/plain": [
       "((-8960)/x^5)*z_0 + 3955/x^4*z_1 + 525/x^3*z_2 + ((-175)/x^2)*z_3 + z_5"
      ]
     },
     "execution_count": 80,
     "metadata": {},
     "output_type": "execute_result"
    }
   ],
   "source": [
    "L5"
   ]
  },
  {
   "cell_type": "code",
   "execution_count": 81,
   "id": "23787fdc-0d49-496c-af83-ea684f51d684",
   "metadata": {},
   "outputs": [
    {
     "data": {
      "text/html": [
       "<html>\\(\\displaystyle \\left(\\frac{-33264}{x^{5}}\\right){z}_{(1)} + \\left(\\frac{7056}{x^{4}}\\right){z}_{(2)} + \\left(\\frac{840}{x^{3}}\\right){z}_{(3)} + \\left(\\frac{-210}{x^{2}}\\right){z}_{(4)} + {z}_{(6)}\\)</html>"
      ],
      "text/latex": [
       "$\\displaystyle \\left(\\frac{-33264}{x^{5}}\\right){z}_{(1)} + \\left(\\frac{7056}{x^{4}}\\right){z}_{(2)} + \\left(\\frac{840}{x^{3}}\\right){z}_{(3)} + \\left(\\frac{-210}{x^{2}}\\right){z}_{(4)} + {z}_{(6)}$"
      ],
      "text/plain": [
       "((-33264)/x^5)*z_1 + 7056/x^4*z_2 + 840/x^3*z_3 + ((-210)/x^2)*z_4 + z_6"
      ]
     },
     "execution_count": 81,
     "metadata": {},
     "output_type": "execute_result"
    }
   ],
   "source": [
    "P6"
   ]
  },
  {
   "cell_type": "code",
   "execution_count": 82,
   "id": "54ba5772-fa5c-4ca8-b43e-6ac96eb216b6",
   "metadata": {},
   "outputs": [],
   "source": [
    "L5_l, P6_m = spectral_operators(L5, P6)"
   ]
  },
  {
   "cell_type": "code",
   "execution_count": 83,
   "id": "6a99eb98-61ff-4a48-981e-f688f8b0fb92",
   "metadata": {},
   "outputs": [],
   "source": [
    "l,m = L5_l.parent().base().base().gens()[1:]"
   ]
  },
  {
   "cell_type": "code",
   "execution_count": 84,
   "id": "b8a76fe6-a762-4592-bfbd-8a64600710f5",
   "metadata": {},
   "outputs": [
    {
     "data": {
      "text/html": [
       "<html>\\(\\displaystyle \\left(\\lambda^{6} - \\mu^{5}\\right)\\)</html>"
      ],
      "text/latex": [
       "$\\displaystyle \\left(\\lambda^{6} - \\mu^{5}\\right)$"
      ],
      "text/plain": [
       "(lambda_^6 - mu^5)"
      ]
     },
     "execution_count": 84,
     "metadata": {},
     "output_type": "execute_result"
    }
   ],
   "source": [
    "L5_l.sylvester_resultant(P6_m)"
   ]
  },
  {
   "cell_type": "code",
   "execution_count": 85,
   "id": "5027839e-88f5-4021-babb-568bd1fed676",
   "metadata": {},
   "outputs": [],
   "source": [
    "SS = L5_l.parent().sylvester_subresultant_sequence(L5_l, P6_m)"
   ]
  },
  {
   "cell_type": "code",
   "execution_count": 86,
   "id": "2be314b9-87aa-4b5c-8287-452a7d469c3c",
   "metadata": {},
   "outputs": [
    {
     "data": {
      "text/html": [
       "<html>\\(\\displaystyle \\left(\\lambda^{6} - \\mu^{5}\\right){z}_{(0)}\\)</html>"
      ],
      "text/latex": [
       "$\\displaystyle \\left(\\lambda^{6} - \\mu^{5}\\right){z}_{(0)}$"
      ],
      "text/plain": [
       "(lambda_^6 - mu^5)*z_0"
      ]
     },
     "execution_count": 86,
     "metadata": {},
     "output_type": "execute_result"
    }
   ],
   "source": [
    "SS[0]"
   ]
  },
  {
   "cell_type": "code",
   "execution_count": 87,
   "id": "cca33ac0-e86a-4352-82ee-00fcf411b88e",
   "metadata": {},
   "outputs": [],
   "source": [
    "quot = -SS[1].coefficient(SS[1].parent().gen('z')[0]) / SS[1].coefficient(SS[1].parent().gen('z')[1])"
   ]
  },
  {
   "cell_type": "code",
   "execution_count": 89,
   "id": "7b14c3b4-f75c-41a3-b652-ecea7a7e262e",
   "metadata": {},
   "outputs": [
    {
     "data": {
      "text/html": [
       "<html>\\(\\displaystyle \\newcommand{\\Bold}[1]{\\mathbf{#1}}\\Bold{Q}[r_{5}]/(r_{5}^{4} + r_{5}^{3} + r_{5}^{2} + r_{5} + 1)[x, a_{2}, a_{3}, a_{4}, a_{5}]\\)</html>"
      ],
      "text/latex": [
       "$\\displaystyle \\newcommand{\\Bold}[1]{\\mathbf{#1}}\\Bold{Q}[r_{5}]/(r_{5}^{4} + r_{5}^{3} + r_{5}^{2} + r_{5} + 1)[x, a_{2}, a_{3}, a_{4}, a_{5}]$"
      ],
      "text/plain": [
       "Multivariate Polynomial Ring in x, a_2, a_3, a_4, a_5 over Number Field in r_5 with defining polynomial r_5^4 + r_5^3 + r_5^2 + r_5 + 1"
      ]
     },
     "execution_count": 89,
     "metadata": {},
     "output_type": "execute_result"
    }
   ],
   "source": [
    "BB.change_ring(BB.base().extension(QQ['r_5'](\"r_5^4 + r_5^3 + r_5^2 + r_5 + 1\"), \"r_5\"))"
   ]
  },
  {
   "cell_type": "code",
   "execution_count": 90,
   "id": "6031e55f-ba77-4ae1-843a-72ab25639360",
   "metadata": {},
   "outputs": [],
   "source": [
    "RR = quot.parent()\n",
    "BB = RR.base().wrapped\n",
    "EE = FractionField(DifferentialRing(BB.change_ring(BB.base().extension(QQ['r_5'](\"r_5^4 + r_5^3 + r_5^2 + r_5 + 1\"), \"r_5\")), [1,0,0]))\n",
    "lambda_ = EE(\"lambda_\"); mu = EE(\"mu\"); r_5 = EE(\"r_5\")"
   ]
  },
  {
   "cell_type": "code",
   "execution_count": 94,
   "id": "a020bed4-91b8-4b5f-a17e-a1cc3e6db1a0",
   "metadata": {},
   "outputs": [
    {
     "data": {
      "text/html": [
       "<html>\\(\\displaystyle \\frac{r_{5} x^{21} \\lambda^{3} \\mu + 35 r_{5}^{3} x^{18} \\mu^{3} - 1568 r_{5}^{2} x^{17} \\lambda \\mu^{2} + 1134 r_{5} x^{16} \\lambda^{2} \\mu - 17920 x^{15} \\lambda^{3} + 2527616 r_{5}^{2} x^{12} \\mu^{2} - 70447104 r_{5} x^{11} \\lambda \\mu + 342921600 x^{10} \\lambda^{2} - 426310649856 r_{5} x^{6} \\mu + 1011902201856 x^{5} \\lambda - 17495789070090240}{x^{21} \\lambda^{4} - 35 r_{5}^{3} x^{19} \\mu^{3} - 567 r_{5} x^{17} \\lambda^{2} \\mu - 631904 r_{5}^{2} x^{13} \\mu^{2} - 68584320 x^{11} \\lambda^{2} + 60901521408 r_{5} x^{7} \\mu + 1749578907009024 x}\\)</html>"
      ],
      "text/latex": [
       "$\\displaystyle \\frac{r_{5} x^{21} \\lambda^{3} \\mu + 35 r_{5}^{3} x^{18} \\mu^{3} - 1568 r_{5}^{2} x^{17} \\lambda \\mu^{2} + 1134 r_{5} x^{16} \\lambda^{2} \\mu - 17920 x^{15} \\lambda^{3} + 2527616 r_{5}^{2} x^{12} \\mu^{2} - 70447104 r_{5} x^{11} \\lambda \\mu + 342921600 x^{10} \\lambda^{2} - 426310649856 r_{5} x^{6} \\mu + 1011902201856 x^{5} \\lambda - 17495789070090240}{x^{21} \\lambda^{4} - 35 r_{5}^{3} x^{19} \\mu^{3} - 567 r_{5} x^{17} \\lambda^{2} \\mu - 631904 r_{5}^{2} x^{13} \\mu^{2} - 68584320 x^{11} \\lambda^{2} + 60901521408 r_{5} x^{7} \\mu + 1749578907009024 x}$"
      ],
      "text/plain": [
       "((r_5)*x^21*lambda_^3*mu + (35*r_5^3)*x^18*mu^3 + (-1568*r_5^2)*x^17*lambda_*mu^2 + (1134*r_5)*x^16*lambda_^2*mu - 17920*x^15*lambda_^3 + (2527616*r_5^2)*x^12*mu^2 + (-70447104*r_5)*x^11*lambda_*mu + 342921600*x^10*lambda_^2 + (-426310649856*r_5)*x^6*mu + 1011902201856*x^5*lambda_ - 17495789070090240)/(x^21*lambda_^4 + (-35*r_5^3)*x^19*mu^3 + (-567*r_5)*x^17*lambda_^2*mu + (-631904*r_5^2)*x^13*mu^2 - 68584320*x^11*lambda_^2 + (60901521408*r_5)*x^7*mu + 1749578907009024*x)"
      ]
     },
     "execution_count": 94,
     "metadata": {},
     "output_type": "execute_result"
    }
   ],
   "source": [
    "Q = quot(mu=mu*r_5); Q # this are generic solutions for a generic pair lambda_, mu with lambda_^6 - mu^5 = 0"
   ]
  },
  {
   "cell_type": "markdown",
   "id": "0f30e3a4-a804-44fb-a8f9-9ee2a15f6ba6",
   "metadata": {},
   "source": [
    "###### **Spacial curve case**"
   ]
  },
  {
   "cell_type": "code",
   "execution_count": 95,
   "id": "0f1ca228-bc17-4a03-bdda-28449010f95c",
   "metadata": {},
   "outputs": [],
   "source": [
    "L5 = A3[9][1][0]\n",
    "P6 = A3[9][1][1]\n",
    "P8 = A3[9][1][3](c_6=0)\n",
    "fR = L5.parent().change_ring(B.fraction_field())\n",
    "L5, P6, P8 = fR(L5), fR(P6), fR(P8)"
   ]
  },
  {
   "cell_type": "code",
   "execution_count": 96,
   "id": "14d108f2-fdb2-49a7-9674-c8fa933b14f7",
   "metadata": {},
   "outputs": [],
   "source": [
    "L5_l, P6_m, P8_n = spectral_operators(L5, P6, P8)"
   ]
  },
  {
   "cell_type": "code",
   "execution_count": 97,
   "id": "df52437e-d172-4533-af9d-100a27f24471",
   "metadata": {},
   "outputs": [
    {
     "data": {
      "text/html": [
       "<html>\\(\\displaystyle \\left(\\lambda^{6} - \\mu^{5}\\right)\\)</html>"
      ],
      "text/latex": [
       "$\\displaystyle \\left(\\lambda^{6} - \\mu^{5}\\right)$"
      ],
      "text/plain": [
       "(lambda_^6 - mu^5)"
      ]
     },
     "execution_count": 97,
     "metadata": {},
     "output_type": "execute_result"
    }
   ],
   "source": [
    "p1 = L5_l.sylvester_resultant(P6_m); p1"
   ]
  },
  {
   "cell_type": "code",
   "execution_count": 98,
   "id": "bd4de8f8-2301-4680-bac4-3f3fb91e54b5",
   "metadata": {},
   "outputs": [
    {
     "data": {
      "text/html": [
       "<html>\\(\\displaystyle \\left(\\lambda^{8} - \\nu^{5}\\right)\\)</html>"
      ],
      "text/latex": [
       "$\\displaystyle \\left(\\lambda^{8} - \\nu^{5}\\right)$"
      ],
      "text/plain": [
       "(lambda_^8 - nu^5)"
      ]
     },
     "execution_count": 98,
     "metadata": {},
     "output_type": "execute_result"
    }
   ],
   "source": [
    "p2 = L5_l.sylvester_resultant(P8_n); p2"
   ]
  },
  {
   "cell_type": "code",
   "execution_count": 99,
   "id": "7e8964e0-c285-4b0e-b6e6-169a7909c3b8",
   "metadata": {},
   "outputs": [
    {
     "data": {
      "text/html": [
       "<html>\\(\\displaystyle \\left(\\mu^{8} - 2 \\mu^{4} \\nu^{3} + \\nu^{6}\\right)\\)</html>"
      ],
      "text/latex": [
       "$\\displaystyle \\left(\\mu^{8} - 2 \\mu^{4} \\nu^{3} + \\nu^{6}\\right)$"
      ],
      "text/plain": [
       "(mu^8 - 2*mu^4*nu^3 + nu^6)"
      ]
     },
     "execution_count": 99,
     "metadata": {},
     "output_type": "execute_result"
    }
   ],
   "source": [
    "p3 = P6_m.sylvester_resultant(P8_n); p3"
   ]
  },
  {
   "cell_type": "code",
   "execution_count": 100,
   "id": "6a9114d4-d070-44b6-8206-1dfcfe1daffe",
   "metadata": {},
   "outputs": [
    {
     "data": {
      "text/html": [
       "<html>\\(\\displaystyle \\left(\\frac{-x^{11} \\lambda^{3} \\mu + 5 x^{8} \\mu^{3} + 152 x^{7} \\lambda \\mu^{2} + 594 x^{6} \\lambda^{2} \\mu - 288 x^{5} \\lambda^{3} - 21168 x^{2} \\mu^{2} + 653184 \\lambda^{2}}{x^{11}}\\right){z}_{(0)} + \\left(\\frac{x^{10} \\lambda^{4} - 11 x^{8} \\mu^{3} - 32 x^{7} \\lambda \\mu^{2} - 135 x^{6} \\lambda^{2} \\mu - 576 x^{5} \\lambda^{3} - 10584 x^{2} \\mu^{2} + 163296 \\lambda^{2}}{x^{10}}\\right){z}_{(1)}\\)</html>"
      ],
      "text/latex": [
       "$\\displaystyle \\left(\\frac{-x^{11} \\lambda^{3} \\mu + 5 x^{8} \\mu^{3} + 152 x^{7} \\lambda \\mu^{2} + 594 x^{6} \\lambda^{2} \\mu - 288 x^{5} \\lambda^{3} - 21168 x^{2} \\mu^{2} + 653184 \\lambda^{2}}{x^{11}}\\right){z}_{(0)} + \\left(\\frac{x^{10} \\lambda^{4} - 11 x^{8} \\mu^{3} - 32 x^{7} \\lambda \\mu^{2} - 135 x^{6} \\lambda^{2} \\mu - 576 x^{5} \\lambda^{3} - 10584 x^{2} \\mu^{2} + 163296 \\lambda^{2}}{x^{10}}\\right){z}_{(1)}$"
      ],
      "text/plain": [
       "((-x^11*lambda_^3*mu + 5*x^8*mu^3 + 152*x^7*lambda_*mu^2 + 594*x^6*lambda_^2*mu - 288*x^5*lambda_^3 - 21168*x^2*mu^2 + 653184*lambda_^2)/x^11)*z_0 + ((x^10*lambda_^4 - 11*x^8*mu^3 - 32*x^7*lambda_*mu^2 - 135*x^6*lambda_^2*mu - 576*x^5*lambda_^3 - 10584*x^2*mu^2 + 163296*lambda_^2)/x^10)*z_1"
      ]
     },
     "execution_count": 100,
     "metadata": {},
     "output_type": "execute_result"
    }
   ],
   "source": [
    "SS_5_6 = L5_l.parent().sylvester_subresultant_sequence(L5_l, P6_m)\n",
    "SS_5_6[1]"
   ]
  },
  {
   "cell_type": "code",
   "execution_count": 102,
   "id": "c4f4a23c-a963-4261-90d6-b93720a1ba39",
   "metadata": {},
   "outputs": [
    {
     "data": {
      "text/html": [
       "<html>\\(\\displaystyle \\left(\\frac{-x^{11} \\lambda \\nu^{3} + 152 x^{7} \\lambda^{5} + 5 x^{8} \\lambda^{2} \\nu^{2} - 288 x^{5} \\lambda^{3} \\nu + 594 x^{6} \\nu^{3} - 21168 x^{2} \\lambda^{4} + 653184 \\lambda^{2} \\nu}{x^{11}}\\right){z}_{(0)} + \\left(\\frac{x^{10} \\lambda^{4} \\nu - 32 x^{7} \\lambda^{5} - 11 x^{8} \\lambda^{2} \\nu^{2} - 576 x^{5} \\lambda^{3} \\nu - 135 x^{6} \\nu^{3} - 10584 x^{2} \\lambda^{4} + 163296 \\lambda^{2} \\nu}{x^{10}}\\right){z}_{(1)}\\)</html>"
      ],
      "text/latex": [
       "$\\displaystyle \\left(\\frac{-x^{11} \\lambda \\nu^{3} + 152 x^{7} \\lambda^{5} + 5 x^{8} \\lambda^{2} \\nu^{2} - 288 x^{5} \\lambda^{3} \\nu + 594 x^{6} \\nu^{3} - 21168 x^{2} \\lambda^{4} + 653184 \\lambda^{2} \\nu}{x^{11}}\\right){z}_{(0)} + \\left(\\frac{x^{10} \\lambda^{4} \\nu - 32 x^{7} \\lambda^{5} - 11 x^{8} \\lambda^{2} \\nu^{2} - 576 x^{5} \\lambda^{3} \\nu - 135 x^{6} \\nu^{3} - 10584 x^{2} \\lambda^{4} + 163296 \\lambda^{2} \\nu}{x^{10}}\\right){z}_{(1)}$"
      ],
      "text/plain": [
       "((-x^11*lambda_*nu^3 + 152*x^7*lambda_^5 + 5*x^8*lambda_^2*nu^2 - 288*x^5*lambda_^3*nu + 594*x^6*nu^3 - 21168*x^2*lambda_^4 + 653184*lambda_^2*nu)/x^11)*z_0 + ((x^10*lambda_^4*nu - 32*x^7*lambda_^5 - 11*x^8*lambda_^2*nu^2 - 576*x^5*lambda_^3*nu - 135*x^6*nu^3 - 10584*x^2*lambda_^4 + 163296*lambda_^2*nu)/x^10)*z_1"
      ]
     },
     "execution_count": 102,
     "metadata": {},
     "output_type": "execute_result"
    }
   ],
   "source": [
    "SS_5_8 = L5_l.parent().sylvester_subresultant_sequence(L5_l, P8_n)\n",
    "SS_5_8[1]"
   ]
  },
  {
   "cell_type": "code",
   "execution_count": 111,
   "id": "0a179d2e-0071-48ec-8bfd-6de75b482ebc",
   "metadata": {},
   "outputs": [
    {
     "data": {
      "text/html": [
       "<html>\\(\\displaystyle \\newcommand{\\Bold}[1]{\\mathbf{#1}}\\left(\\lambda^{6} - \\mu^{5}, \\lambda^{8} - \\nu^{5}, \\mu^{8} - 2 \\mu^{4} \\nu^{3} + \\nu^{6}\\right)\\Bold{Q}[x, \\lambda, \\mu, \\nu]\\)</html>"
      ],
      "text/latex": [
       "$\\displaystyle \\newcommand{\\Bold}[1]{\\mathbf{#1}}\\left(\\lambda^{6} - \\mu^{5}, \\lambda^{8} - \\nu^{5}, \\mu^{8} - 2 \\mu^{4} \\nu^{3} + \\nu^{6}\\right)\\Bold{Q}[x, \\lambda, \\mu, \\nu]$"
      ],
      "text/plain": [
       "Ideal (lambda_^6 - mu^5, lambda_^8 - nu^5, mu^8 - 2*mu^4*nu^3 + nu^6) of Multivariate Polynomial Ring in x, lambda_, mu, nu over Rational Field"
      ]
     },
     "execution_count": 111,
     "metadata": {},
     "output_type": "execute_result"
    }
   ],
   "source": [
    "ideal([p.coefficients()[0].numerator().wrapped for p in [p1, p2, p3]])"
   ]
  },
  {
   "cell_type": "markdown",
   "id": "d42e4d10-1ef8-40a4-a9a2-0ef4b3bab794",
   "metadata": {},
   "source": [
    "###### **All possible generators case**"
   ]
  },
  {
   "cell_type": "code",
   "execution_count": 25,
   "id": "2d9110dc-80be-40a1-8896-334d14813323",
   "metadata": {},
   "outputs": [],
   "source": [
    "L5 = A5[5][1][0]\n",
    "P6 = A5[5][1][1]\n",
    "P7 = A5[5][1][2]\n",
    "P8 = A5[5][1][3]\n",
    "P9 = A5[5][1][4]"
   ]
  },
  {
   "cell_type": "code",
   "execution_count": 26,
   "id": "039249ca-87aa-47c6-bd47-b90201ff24ec",
   "metadata": {},
   "outputs": [],
   "source": [
    "L5_l, P6_m, P7_n, P8_p, P9_z = spectral_operators(L5, P6, P7, P8, P9)"
   ]
  },
  {
   "cell_type": "code",
   "execution_count": 27,
   "id": "ce4f072f-f67b-47d4-bf2d-af45104784e2",
   "metadata": {},
   "outputs": [
    {
     "name": "stdout",
     "output_type": "stream",
     "text": [
      "0 -> lambda_^6 - mu^5\n",
      "1 -> -c_6^5*lambda_^6 - 5*c_6^3*lambda_^5*nu - lambda_^7 - 5*c_6*lambda_^4*nu^2 + nu^5\n",
      "2 -> c_7^5*lambda_^7 + c_6^5*lambda_^6 - 5*c_6*c_7^3*lambda_^7 + 5*c_6^2*c_7*lambda_^7 + 5*c_6^3*c_7*lambda_^5*psi - 5*c_7^2*lambda_^6*psi + 5*c_6*c_7^2*lambda_^4*psi^2 + lambda_^8 + 5*c_6*lambda_^6*psi + 5*c_6^2*lambda_^4*psi^2 + 5*c_7*lambda_^3*psi^3 - psi^5\n",
      "3 -> -c_8^5*lambda_^8 - c_7^5*lambda_^7 + 5*c_6*c_7^3*c_8*lambda_^7 - 5*c_6^2*c_7*c_8^2*lambda_^7 + 5*c_7*c_8^3*lambda_^8 - c_6^5*lambda_^6 - 5*c_6^2*c_7^2*lambda_^7 + 5*c_6^3*c_8*lambda_^7 - 5*c_7^2*c_8*lambda_^8 - 5*c_6*c_8^2*lambda_^8 + 5*c_7^2*c_8^2*lambda_^6*zeta - 5*c_6*c_8^3*lambda_^6*zeta + 5*c_6*c_7*lambda_^8 - 5*c_6^3*c_7*lambda_^5*zeta - 5*c_7^3*lambda_^6*zeta - 5*c_6*c_7*c_8*lambda_^6*zeta - lambda_^9 + 5*c_6^2*lambda_^6*zeta - 5*c_8*lambda_^7*zeta - 5*c_6*c_7^2*lambda_^4*zeta^2 - 5*c_6^2*c_8*lambda_^4*zeta^2 - 5*c_8^2*lambda_^5*zeta^2 - 5*c_7*lambda_^5*zeta^2 - 5*c_7*c_8*lambda_^3*zeta^3 - 5*c_6*lambda_^3*zeta^3 + zeta^5\n"
     ]
    }
   ],
   "source": [
    "## We compute the equations from L, P_i and convert to algebraic setting\n",
    "equs = [L5_l.sylvester_resultant(p) for p in [P6_m, P7_n, P8_p, P9_z]]\n",
    "fR = equs[0].parent().base().base().wrapped\n",
    "equs = [fR(p) for p in equs]\n",
    "used_vars = list(set(sum((p.variables() for p in equs), tuple())))\n",
    "fR = fR.remove_var(*[v for v in fR.gens() if v not in used_vars])\n",
    "equs = [fR(p) for p in equs]\n",
    "for i,p in enumerate(equs):\n",
    "    print(i, \"->\", p)"
   ]
  },
  {
   "cell_type": "code",
   "execution_count": null,
   "id": "5d7cded1-5ff2-4fab-84c5-e232c8b72f0c",
   "metadata": {},
   "outputs": [],
   "source": [
    "fR.remove_var?"
   ]
  },
  {
   "cell_type": "code",
   "execution_count": null,
   "id": "1b8d4ae5-3df3-41a0-a0b0-f148cd206ffb",
   "metadata": {},
   "outputs": [],
   "source": []
  }
 ],
 "metadata": {
  "kernelspec": {
   "display_name": "SageMath 10.4.rc1",
   "language": "sage",
   "name": "sagemath"
  },
  "language_info": {
   "codemirror_mode": {
    "name": "ipython",
    "version": 3
   },
   "file_extension": ".py",
   "mimetype": "text/x-python",
   "name": "python",
   "nbconvert_exporter": "python",
   "pygments_lexer": "ipython3",
   "version": "3.10.12"
  }
 },
 "nbformat": 4,
 "nbformat_minor": 5
}
