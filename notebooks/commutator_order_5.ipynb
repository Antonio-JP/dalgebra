{
 "cells": [
  {
   "cell_type": "markdown",
   "id": "f04638d0-273c-43c8-b622-3f0f77fb4303",
   "metadata": {},
   "source": [
    "# **Looking for a non-trivial commutator of order 5**"
   ]
  },
  {
   "cell_type": "markdown",
   "id": "02b2e04b-2899-4b3b-a44f-7e3241f134b1",
   "metadata": {},
   "source": [
    "In [this work](https://www.mdpi.com/2075-1680/13/4/274), the authors studied the spectral curve for a non-trivial commutator of operators of order 3. Here, intending to develop a similar theory for order 5 (or generically for order prime $p$), we will look for a non-trivial example of order 5 with a commutator."
   ]
  },
  {
   "cell_type": "markdown",
   "id": "579d8e49-618d-4c42-979e-635b944c16ed",
   "metadata": {},
   "source": [
    "More precisely, let $U = \\{u_2,\\ldots, u_5\\}$ be a set of differential values with weights $2,3,4,5$ respectively, and consider the differential operator\n",
    "$$L_5 = L = \\partial^5 + u_2\\partial^3 + u_3 \\partial^2 + u_4\\partial + u_5.$$\n",
    "We would like to find a set of functions $z_2(x),\\ldots,z_5(x)$ such that we can find a non-trivial commutator for the specialized operator $L_5(Z) = L_5(u=z)$."
   ]
  },
  {
   "cell_type": "code",
   "execution_count": 1,
   "id": "a00c1f1a-ce7f-4fda-a54b-7f6ff5fd3748",
   "metadata": {},
   "outputs": [],
   "source": [
    "import sys\n",
    "sys.path.insert(0, \"..\") # dalgebra is here\n",
    "\n",
    "from dalgebra import *\n",
    "from dalgebra.commutators import *\n",
    "\n",
    "import logging\n",
    "from functools import lru_cache\n",
    "import pickle\n",
    "#%display latex"
   ]
  },
  {
   "cell_type": "code",
   "execution_count": 2,
   "id": "18a6af70-c7e8-40d0-a103-b5bd769ca66d",
   "metadata": {},
   "outputs": [
    {
     "data": {
      "text/plain": [
       "u_2_0*z_3 + u_3_0*z_2 + u_4_0*z_1 + u_5_0*z_0 + z_5"
      ]
     },
     "execution_count": 2,
     "metadata": {},
     "output_type": "execute_result"
    }
   ],
   "source": [
    "L_5 = generic_normal(5, \"u\"); L = L_5; z = L.parent().gen(\"z\"); u = (0, 0) + L.parent().gens()[:-1]\n",
    "L_5"
   ]
  },
  {
   "cell_type": "markdown",
   "id": "35686e0a-804a-4115-8c55-77d58be7ddaa",
   "metadata": {
    "jp-MarkdownHeadingCollapsed": true
   },
   "source": [
    "## Some ideas"
   ]
  },
  {
   "cell_type": "markdown",
   "id": "6018fc3c-e7c2-46f6-9aa0-c6af01a042ba",
   "metadata": {
    "jp-MarkdownHeadingCollapsed": true
   },
   "source": [
    "### **The almost commuting basis**"
   ]
  },
  {
   "cell_type": "markdown",
   "id": "5e09f0ca-5aa8-4ccb-8f5e-03d52bc16900",
   "metadata": {},
   "source": [
    "In [this paper](https://arxiv.org/abs/2405.05421), the authors show a method to compute a basis of differential operators $W(L_n) = \\{P_m(U) : m \\in \\mathbb{N}\\}$ such that all operators $P_m(U)$ almost commute with $L_n$, i.e., the order of $[L_n, P_m]\\leq n-2$ and such that $P_m(U)$ is homogeneous of weight $m$ when considering $\\partial$ with weight 1."
   ]
  },
  {
   "cell_type": "markdown",
   "id": "ea373cc0-4af5-4247-867e-f148722a179e",
   "metadata": {},
   "source": [
    "In this notebook, we are focusing on $n=5$, hence the order for almost commutation is $3$. This means that in this example, we have for all $m\\in \\mathbb{N}$:\n",
    "$$[L, P_m(U)] = H_{m,0}(U) + H_{m,1}(U)\\partial + H_{m,2}(U)\\partial^2 + H_{m,3}(U)\\partial^3,$$\n",
    "where $H_{m,i}(U)$ are differential polynomials in the differential variables $U$, homogeneous of weight $n+m-i$."
   ]
  },
  {
   "cell_type": "markdown",
   "id": "88c4024a-4131-4d15-a56e-288000ea2813",
   "metadata": {},
   "source": [
    "For any given value of $m$, the value for $P_m(U)$ and $H_{m,i}(U)$ can be computed using the method `almost_commuting_wilson`:"
   ]
  },
  {
   "cell_type": "code",
   "execution_count": 3,
   "id": "5227f096-d7fb-450f-8330-379d11f28c6b",
   "metadata": {},
   "outputs": [],
   "source": [
    "P, H = [z[0]], [[0,0,0,0]]\n",
    "for i in range(1, 10):\n",
    "    np, nh = almost_commuting_wilson(5,i)\n",
    "    P.append(np)\n",
    "    H.append(nh)"
   ]
  },
  {
   "cell_type": "markdown",
   "id": "a3d5e6c5-fb17-4881-9325-b14f89cec87c",
   "metadata": {},
   "source": [
    "##### Some examples of the $P_m(U)$"
   ]
  },
  {
   "cell_type": "code",
   "execution_count": 4,
   "id": "856a7f08-77c8-49fc-9dab-62fd9ac4664f",
   "metadata": {},
   "outputs": [
    {
     "data": {
      "text/plain": [
       "z_1"
      ]
     },
     "execution_count": 4,
     "metadata": {},
     "output_type": "execute_result"
    }
   ],
   "source": [
    "P[1]"
   ]
  },
  {
   "cell_type": "code",
   "execution_count": 5,
   "id": "a1abcab5-138f-49d9-a6f6-8cbf9d1f1d30",
   "metadata": {},
   "outputs": [
    {
     "data": {
      "text/plain": [
       "2/5*u_2_0*z_0 + z_2"
      ]
     },
     "execution_count": 5,
     "metadata": {},
     "output_type": "execute_result"
    }
   ],
   "source": [
    "P[2]"
   ]
  },
  {
   "cell_type": "code",
   "execution_count": 6,
   "id": "c859f9cd-8f16-43d5-80b2-caecc73dae70",
   "metadata": {},
   "outputs": [
    {
     "data": {
      "text/plain": [
       "3/5*u_2_0*z_1 - 3/5*u_2_1*z_0 + 3/5*u_3_0*z_0 + z_3"
      ]
     },
     "execution_count": 6,
     "metadata": {},
     "output_type": "execute_result"
    }
   ],
   "source": [
    "P[3]"
   ]
  },
  {
   "cell_type": "code",
   "execution_count": 7,
   "id": "6c19383c-6477-4095-a20d-9a7928a95c22",
   "metadata": {},
   "outputs": [
    {
     "data": {
      "text/plain": [
       "4/5*u_2_0*z_2 - 2/25*u_2_0^2*z_0 - 2/5*u_2_1*z_1 + 4/5*u_3_0*z_1 - 2/5*u_3_1*z_0 + 4/5*u_4_0*z_0 + z_4"
      ]
     },
     "execution_count": 7,
     "metadata": {},
     "output_type": "execute_result"
    }
   ],
   "source": [
    "P[4]"
   ]
  },
  {
   "cell_type": "code",
   "execution_count": 8,
   "id": "fc9d2f5d-90c2-4a89-aaa2-20a8ea97aa19",
   "metadata": {},
   "outputs": [
    {
     "data": {
      "text/plain": [
       "u_2_0*z_3 + u_3_0*z_2 + u_4_0*z_1 + u_5_0*z_0 + z_5"
      ]
     },
     "execution_count": 8,
     "metadata": {},
     "output_type": "execute_result"
    }
   ],
   "source": [
    "P[5]"
   ]
  },
  {
   "cell_type": "markdown",
   "id": "d475dcf3-36bc-4cf9-be68-459330b9ece3",
   "metadata": {
    "jp-MarkdownHeadingCollapsed": true
   },
   "source": [
    "### **The search for a non-trivial commutator**"
   ]
  },
  {
   "cell_type": "markdown",
   "id": "9d442416-df5e-4515-883e-469b32188edf",
   "metadata": {},
   "source": [
    "As mentioned above, $W(L)$ is a $\\mathbb{C}$-basis of all the almost commuting differential operators with the generic operator $L$. Let $\\mathcal{W}(L)$ denote such space. Hence, for any operator $Q(U) \\in \\mathcal{W}(L)$, we have\n",
    "$$[L, Q] = K_0(U) + K_1(U)\\partial + K_2(U)\\partial^2 + K_3(U)\\partial^3.$$"
   ]
  },
  {
   "cell_type": "markdown",
   "id": "8ba9185d-8368-45ac-82fc-db3b8cb76425",
   "metadata": {},
   "source": [
    "We can be more precise. If $Q(U)$ has order $M$, then there is a linear combination of $P_m(U)$ for $m=0,\\ldots,M$ leading to:\n",
    "$$Q(U) = c_0 + c_1P_1(U) + \\ldots + c_{M-1}P_{M-1}(U) + c_{M}P_M(U).$$\n",
    "\n",
    "Due to the bilinear nature of $[\\cdot,\\cdot]$ it is easy to see that\n",
    "$$K_i(U) = \\sum_{m=0}^M c_m H_{m,i}(U).$$"
   ]
  },
  {
   "cell_type": "markdown",
   "id": "35b317df-f3dc-4a6c-b183-a3105b0d8858",
   "metadata": {},
   "source": [
    "Let us denote $H_m(U) = (H_{m,0}(U),H_{m,1}(U),H_{m,2}(U),H_{m,3}(U))^T$, and similarly with $K = (K_0(U), K_1(U), K_2(U), K_3(U))^T$ and $\\mathbf{c} = (c_0,\\ldots,c_M)^T$. Then, we can write the previous identity with:\n",
    "$$K = (H_0 | H_1 | \\ldots | H_M) \\mathbf{c}.$$"
   ]
  },
  {
   "cell_type": "markdown",
   "id": "2b10cd15-6c40-4a40-93a6-9758d30d11c4",
   "metadata": {},
   "source": [
    "It is *clear* from this point thet if we find a set of functions $Z=(z_2(x),z_3(x),z_4(x),z_5(x))$ and a list of constants $\\mathbf{c}$ such that $K(Z) = 0$, then we would have found an operator $L(Z)$ or order 5 with a commutator $Q(Z)$."
   ]
  },
  {
   "cell_type": "code",
   "execution_count": 9,
   "id": "1eb3c092-35b4-456f-ad1c-849807e16643",
   "metadata": {},
   "outputs": [],
   "source": [
    "_,_,K6 = GetEquationsForSolution(6, 5, extract=None)"
   ]
  },
  {
   "cell_type": "markdown",
   "id": "5299f881-43af-44bd-9561-54db75134722",
   "metadata": {
    "jp-MarkdownHeadingCollapsed": true
   },
   "source": [
    "##### The equations for the order 6 commutator"
   ]
  },
  {
   "cell_type": "code",
   "execution_count": 10,
   "id": "56d92b1b-c946-4334-a4a1-0497c1ccd3c8",
   "metadata": {},
   "outputs": [
    {
     "data": {
      "text/plain": [
       "-(12/25*c_4)*u_2_0*u_2_1*u_2_2 - (7/5*c_6)*u_2_0*u_2_1*u_2_4 - (3/5*c_6)*u_2_0*u_2_1*u_3_3 - (4/25*c_4)*u_2_0*u_2_1*u_4_0 + (18/25*c_6)*u_2_0*u_2_1*u_4_2 + (3/25*c_6)*u_2_0*u_2_1*u_5_1 - (24/125*c_6)*u_2_0*u_2_1^2*u_3_0 - (24/125*c_6)*u_2_0*u_2_1^3 - (66/25*c_6)*u_2_0*u_2_2*u_2_3 - (4/25*c_4)*u_2_0*u_2_2*u_3_0 - (27/25*c_6)*u_2_0*u_2_2*u_3_2 + (18/25*c_6)*u_2_0*u_2_2*u_4_1 + (2/5*c_2)*u_2_0*u_2_3 - (21/25*c_6)*u_2_0*u_2_3*u_3_1 + (3/25*c_6)*u_2_0*u_2_3*u_4_0 - (3/5*c_3)*u_2_0*u_2_4 - (9/25*c_6)*u_2_0*u_2_4*u_3_0 - (4/25*c_4)*u_2_0*u_2_5 - (4/25*c_6)*u_2_0*u_2_7 + (3/25*c_6)*u_2_0*u_3_0*u_3_3 + (6/25*c_6)*u_2_0*u_3_0*u_4_2 - (6/25*c_6)*u_2_0*u_3_0*u_5_1 + (18/25*c_6)*u_2_0*u_3_1*u_3_2 - (3/25*c_6)*u_2_0*u_3_2*u_4_0 + (3/5*c_3)*u_2_0*u_3_3 - (2/5*c_4)*u_2_0*u_3_4 - (8/25*c_6)*u_2_0*u_3_6 + (6/25*c_6)*u_2_0*u_4_0*u_4_1 + (4/5*c_4)*u_2_0*u_4_3 + (16/25*c_6)*u_2_0*u_4_5 - (3/5*c_3)*u_2_0*u_5_1 - (4/5*c_4)*u_2_0*u_5_2 - (3/5*c_6)*u_2_0*u_5_4 - (72/125*c_6)*u_2_0^2*u_2_1*u_2_2 - (12/125*c_6)*u_2_0^2*u_2_1*u_4_0 - (12/125*c_6)*u_2_0^2*u_2_2*u_3_0 - (4/25*c_4)*u_2_0^2*u_2_3 - (27/125*c_6)*u_2_0^2*u_2_5 - (3/25*c_6)*u_2_0^2*u_3_4 + (6/25*c_6)*u_2_0^2*u_4_3 - (3/25*c_6)*u_2_0^2*u_5_2 - (12/125*c_6)*u_2_0^3*u_2_3 - (1/5*c_6)*u_2_1*u_2_2*u_4_0 - (72/25*c_6)*u_2_1*u_2_2^2 - (8/25*c_6)*u_2_1*u_2_3*u_3_0 - (4/5*c_4)*u_2_1*u_2_4 - (17/25*c_6)*u_2_1*u_2_6 - (12/25*c_6)*u_2_1*u_3_0*u_3_2 + (12/25*c_6)*u_2_1*u_3_0*u_4_1 - (9/25*c_6)*u_2_1*u_3_1*u_4_0 - (21/25*c_6)*u_2_1*u_3_5 + (2/5*c_2)*u_2_1*u_4_0 + (6/25*c_6)*u_2_1*u_4_0^2 + (6/5*c_6)*u_2_1*u_4_4 + (2/5*c_4)*u_2_1*u_5_1 - (3/5*c_6)*u_2_1*u_5_3 - (48/25*c_6)*u_2_1^2*u_2_3 - (4/25*c_4)*u_2_1^2*u_3_0 - (8/5*c_4)*u_2_2*u_2_3 - (43/25*c_6)*u_2_2*u_2_5 + (2/5*c_2)*u_2_2*u_3_0 - (3/5*c_6)*u_2_2*u_3_0*u_3_1 - (12/5*c_6)*u_2_2*u_3_4 - (3/5*c_3)*u_2_2*u_4_0 + (12/5*c_6)*u_2_2*u_4_3 - (2/5*c_6)*u_2_2*u_5_2 - (1/5*c_6)*u_2_2^2*u_3_0 - (13/5*c_6)*u_2_3*u_2_4 - (3/5*c_3)*u_2_3*u_3_0 - (6/25*c_6)*u_2_3*u_3_0^2 - (18/5*c_6)*u_2_3*u_3_3 + (12/5*c_6)*u_2_3*u_4_2 + (1/5*c_6)*u_2_3*u_5_1 - (3*c_6)*u_2_4*u_3_2 + (6/5*c_6)*u_2_4*u_4_1 + (2/5*c_2)*u_2_5 - (33/25*c_6)*u_2_5*u_3_1 + (1/5*c_6)*u_2_5*u_4_0 - (3/5*c_3)*u_2_6 - (7/25*c_6)*u_2_6*u_3_0 - (1/25*c_6)*u_2_9 + (6/25*c_6)*u_3_0*u_3_1*u_4_0 + (6/25*c_6)*u_3_0*u_3_1^2 + (3/5*c_3)*u_3_0*u_3_2 - (2/5*c_4)*u_3_0*u_3_3 + (1/25*c_6)*u_3_0*u_3_5 + (4/5*c_4)*u_3_0*u_4_2 + (2/5*c_6)*u_3_0*u_4_4 - (4/5*c_4)*u_3_0*u_5_1 - (3/5*c_6)*u_3_0*u_5_3 + (6/25*c_6)*u_3_0^2*u_3_2 + (6/5*c_6)*u_3_1*u_3_4 + (3/5*c_3)*u_3_1*u_4_0 - (3/5*c_6)*u_3_1*u_5_2 + (12/5*c_6)*u_3_2*u_3_3 - (2/5*c_4)*u_3_2*u_4_0 - (2/5*c_6)*u_3_2*u_5_1 - (1/5*c_6)*u_3_4*u_4_0 + (3/5*c_3)*u_3_5 - (2/5*c_4)*u_3_6 - (1/5*c_6)*u_3_8 + (4/5*c_4)*u_4_0*u_4_1 + (2/5*c_6)*u_4_0*u_4_3 - (3/5*c_6)*u_4_0*u_5_2 - (3/5*c_6)*u_4_1*u_5_1 + (4/5*c_4)*u_4_5 + (2/5*c_6)*u_4_7 - (6/5*c_6)*u_5_0*u_5_1 - c_1*u_5_1 - c_2*u_5_2 - c_3*u_5_3 - c_4*u_5_4 - (2/5*c_6)*u_5_6"
      ]
     },
     "execution_count": 10,
     "metadata": {},
     "output_type": "execute_result"
    }
   ],
   "source": [
    "K6[0]"
   ]
  },
  {
   "cell_type": "code",
   "execution_count": 11,
   "id": "d3e1be18-0d68-4cf3-93a4-fe0a5347346f",
   "metadata": {},
   "outputs": [
    {
     "data": {
      "text/plain": [
       "-(132/25*c_6)*u_2_0*u_2_1*u_2_3 - (8/25*c_4)*u_2_0*u_2_1*u_3_0 - (18/25*c_6)*u_2_0*u_2_1*u_3_2 + (39/25*c_6)*u_2_0*u_2_1*u_4_1 - (12/25*c_4)*u_2_0*u_2_1^2 + (6/5*c_2)*u_2_0*u_2_2 - (27/25*c_6)*u_2_0*u_2_2*u_3_1 + (3/5*c_6)*u_2_0*u_2_2*u_4_0 - (96/25*c_6)*u_2_0*u_2_2^2 - (6/5*c_3)*u_2_0*u_2_3 - (21/25*c_6)*u_2_0*u_2_3*u_3_0 - (6/5*c_4)*u_2_0*u_2_4 - (26/25*c_6)*u_2_0*u_2_6 + (18/25*c_6)*u_2_0*u_3_0*u_3_2 + (6/25*c_6)*u_2_0*u_3_0*u_4_1 + (6/25*c_6)*u_2_0*u_3_1*u_4_0 + (18/25*c_6)*u_2_0*u_3_1^2 + (9/5*c_3)*u_2_0*u_3_2 - (2/5*c_4)*u_2_0*u_3_3 - (14/25*c_6)*u_2_0*u_3_5 - (3/5*c_3)*u_2_0*u_4_1 + (8/5*c_4)*u_2_0*u_4_2 + (9/5*c_6)*u_2_0*u_4_4 - (8/5*c_4)*u_2_0*u_5_1 - (9/5*c_6)*u_2_0*u_5_3 - (24/125*c_6)*u_2_0^2*u_2_1*u_3_0 - (72/125*c_6)*u_2_0^2*u_2_1^2 - (12/25*c_4)*u_2_0^2*u_2_2 - (24/25*c_6)*u_2_0^2*u_2_4 - (3/25*c_6)*u_2_0^2*u_3_3 + (3/5*c_6)*u_2_0^2*u_4_2 - (6/25*c_6)*u_2_0^2*u_5_1 - (36/125*c_6)*u_2_0^3*u_2_2 - (19/25*c_6)*u_2_1*u_2_2*u_3_0 - (16/5*c_4)*u_2_1*u_2_3 - (88/25*c_6)*u_2_1*u_2_5 + (4/5*c_2)*u_2_1*u_3_0 - (6/25*c_6)*u_2_1*u_3_0*u_3_1 + (18/25*c_6)*u_2_1*u_3_0*u_4_0 - (12/5*c_6)*u_2_1*u_3_4 + (3/5*c_3)*u_2_1*u_4_0 + (2/5*c_4)*u_2_1*u_4_1 + (21/5*c_6)*u_2_1*u_4_3 - (9/5*c_6)*u_2_1*u_5_2 - (144/25*c_6)*u_2_1^2*u_2_2 - (3/25*c_6)*u_2_1^2*u_4_0 - (38/5*c_6)*u_2_2*u_2_4 - (3/5*c_3)*u_2_2*u_3_0 - (6/25*c_6)*u_2_2*u_3_0^2 - (6*c_6)*u_2_2*u_3_3 - (2/5*c_4)*u_2_2*u_4_0 + (34/5*c_6)*u_2_2*u_4_2 - (4/5*c_6)*u_2_2*u_5_1 - (12/5*c_4)*u_2_2^2 - (2/5*c_4)*u_2_3*u_3_0 - (36/5*c_6)*u_2_3*u_3_2 + (5*c_6)*u_2_3*u_4_1 - (24/5*c_6)*u_2_3^2 + (2*c_2)*u_2_4 - (21/5*c_6)*u_2_4*u_3_1 + c_6*u_2_4*u_4_0 - (12/5*c_3)*u_2_5 - (31/25*c_6)*u_2_5*u_3_0 - (2/5*c_4)*u_2_6 - (2/5*c_6)*u_2_8 + (6/5*c_3)*u_3_0*u_3_1 + (6/5*c_6)*u_3_0*u_3_4 + (4/5*c_4)*u_3_0*u_4_1 + (1/5*c_6)*u_3_0*u_4_3 - (6/5*c_6)*u_3_0*u_5_2 + (12/25*c_6)*u_3_0^2*u_3_1 + (24/5*c_6)*u_3_1*u_3_3 + (4/5*c_4)*u_3_1*u_4_0 - (3/5*c_6)*u_3_1*u_4_2 - (6/5*c_6)*u_3_1*u_5_1 - (2/5*c_6)*u_3_2*u_4_1 + (18/5*c_6)*u_3_2^2 + (2/5*c_6)*u_3_3*u_4_0 + (3*c_3)*u_3_4 - (6/5*c_4)*u_3_5 - (3/5*c_6)*u_3_7 - (3/5*c_6)*u_4_0*u_4_2 - (6/5*c_6)*u_4_0*u_5_1 - c_1*u_4_1 - (6/5*c_6)*u_4_1*u_5_0 - (3/5*c_6)*u_4_1^2 - c_2*u_4_2 - c_3*u_4_3 + (3*c_4)*u_4_4 + (8/5*c_6)*u_4_6 - (2*c_2)*u_5_1 - (3*c_3)*u_5_2 - (4*c_4)*u_5_3 - (9/5*c_6)*u_5_5"
      ]
     },
     "execution_count": 11,
     "metadata": {},
     "output_type": "execute_result"
    }
   ],
   "source": [
    "K6[1]"
   ]
  },
  {
   "cell_type": "code",
   "execution_count": 12,
   "id": "cb7e1a67-d680-4c40-b3a2-0ce2cc43e002",
   "metadata": {},
   "outputs": [
    {
     "data": {
      "text/plain": [
       "(6/5*c_2)*u_2_0*u_2_1 - (168/25*c_6)*u_2_0*u_2_1*u_2_2 + (12/25*c_6)*u_2_0*u_2_1*u_3_1 + (24/25*c_6)*u_2_0*u_2_1*u_4_0 - (2*c_4)*u_2_0*u_2_3 - (47/25*c_6)*u_2_0*u_2_5 + (24/25*c_6)*u_2_0*u_3_0*u_3_1 + (6/5*c_3)*u_2_0*u_3_1 + (2/5*c_4)*u_2_0*u_3_2 + (4/5*c_4)*u_2_0*u_4_1 + (9/5*c_6)*u_2_0*u_4_3 - (9/5*c_6)*u_2_0*u_5_2 - (12/25*c_4)*u_2_0^2*u_2_1 - (36/25*c_6)*u_2_0^2*u_2_3 + (6/25*c_6)*u_2_0^2*u_3_2 + (12/25*c_6)*u_2_0^2*u_4_1 - (36/125*c_6)*u_2_0^3*u_2_1 - (24/5*c_4)*u_2_1*u_2_2 - (31/5*c_6)*u_2_1*u_2_4 + (6/5*c_3)*u_2_1*u_3_0 + (12/25*c_6)*u_2_1*u_3_0^2 + (2/5*c_4)*u_2_1*u_3_1 - (9/5*c_6)*u_2_1*u_3_3 + (4/5*c_4)*u_2_1*u_4_0 + (27/5*c_6)*u_2_1*u_4_2 - (9/5*c_6)*u_2_1*u_5_1 - (48/25*c_6)*u_2_1^3 - (54/5*c_6)*u_2_2*u_2_3 - (4*c_6)*u_2_2*u_3_2 + (32/5*c_6)*u_2_2*u_4_1 + (4*c_2)*u_2_3 - (17/5*c_6)*u_2_3*u_3_1 + (14/5*c_6)*u_2_3*u_4_0 - (3*c_3)*u_2_4 - (6/5*c_6)*u_2_4*u_3_0 - (6/5*c_4)*u_2_5 - c_6*u_2_7 + (4/5*c_4)*u_3_0*u_3_1 + (13/5*c_6)*u_3_0*u_3_3 - (6/5*c_6)*u_3_0*u_4_2 - (6/5*c_6)*u_3_0*u_5_1 - c_1*u_3_1 + (31/5*c_6)*u_3_1*u_3_2 - (9/5*c_6)*u_3_1*u_4_1 - (6/5*c_6)*u_3_1*u_5_0 - c_2*u_3_2 - (3/5*c_6)*u_3_2*u_4_0 + (5*c_3)*u_3_3 - c_4*u_3_4 - (2/5*c_6)*u_3_6 - (6/5*c_6)*u_4_0*u_4_1 - (2*c_2)*u_4_1 - (3*c_3)*u_4_2 + (4*c_4)*u_4_3 + (11/5*c_6)*u_4_5 - (3*c_3)*u_5_1 - (6*c_4)*u_5_2 - (3*c_6)*u_5_4"
      ]
     },
     "execution_count": 12,
     "metadata": {},
     "output_type": "execute_result"
    }
   ],
   "source": [
    "K6[2]"
   ]
  },
  {
   "cell_type": "code",
   "execution_count": 13,
   "id": "f65fb06e-8f5a-4d07-80a6-facdefd0e99f",
   "metadata": {},
   "outputs": [
    {
     "data": {
      "text/plain": [
       "(6/5*c_3)*u_2_0*u_2_1 + (24/25*c_6)*u_2_0*u_2_1*u_3_0 - (36/25*c_6)*u_2_0*u_2_1^2 - (6/5*c_4)*u_2_0*u_2_2 - (6/5*c_6)*u_2_0*u_2_4 + (4/5*c_4)*u_2_0*u_3_1 + (3/5*c_6)*u_2_0*u_3_3 + (3/5*c_6)*u_2_0*u_4_2 - (6/5*c_6)*u_2_0*u_5_1 - (18/25*c_6)*u_2_0^2*u_2_2 + (12/25*c_6)*u_2_0^2*u_3_1 - c_1*u_2_1 - (18/5*c_6)*u_2_1*u_2_3 + (4/5*c_4)*u_2_1*u_3_0 + (1/5*c_6)*u_2_1*u_3_2 + (12/5*c_6)*u_2_1*u_4_1 - (6/5*c_6)*u_2_1*u_5_0 - (6/5*c_4)*u_2_1^2 + (3*c_2)*u_2_2 - (1/5*c_6)*u_2_2*u_3_1 + (9/5*c_6)*u_2_2*u_4_0 - (12/5*c_6)*u_2_2^2 - c_3*u_2_3 + (1/5*c_6)*u_2_3*u_3_0 - c_4*u_2_4 - (4/5*c_6)*u_2_6 + (6/5*c_6)*u_3_0*u_3_2 - (6/5*c_6)*u_3_0*u_4_1 - (2*c_2)*u_3_1 - (6/5*c_6)*u_3_1*u_4_0 + (6/5*c_6)*u_3_1^2 + (3*c_3)*u_3_2 + (1/5*c_6)*u_3_5 - (3*c_3)*u_4_1 + (2*c_4)*u_4_2 + c_6*u_4_4 - (4*c_4)*u_5_1 - (2*c_6)*u_5_3"
      ]
     },
     "execution_count": 13,
     "metadata": {},
     "output_type": "execute_result"
    }
   ],
   "source": [
    "K6[3]"
   ]
  },
  {
   "cell_type": "markdown",
   "id": "a36959ff-e00a-4731-94ac-7b5642ca16c6",
   "metadata": {},
   "source": [
    "##### Coming back to argument"
   ]
  },
  {
   "cell_type": "markdown",
   "id": "321c5990-50c0-4ec8-a611-3ad4f56483d1",
   "metadata": {},
   "source": [
    "These differential systems are tremendously difficult to solve. A first remark: the constants for $m\\equiv 0\\ (mod\\ 5)$ never appear. This is clear since the influence of $L^{(m/5)}$ is not relevant for the commutation of the obtained operator $Q(U)$. "
   ]
  },
  {
   "cell_type": "code",
   "execution_count": 10,
   "id": "428f9327-80fb-4c19-8bb1-e6970ac7aba1",
   "metadata": {},
   "outputs": [
    {
     "name": "stdout",
     "output_type": "stream",
     "text": [
      "{u_2_*: ((9, 8, 7, 6), [[3, 3, 2, 1, 1, 1, 1, 1, 0, 1], [3, 2, 2, 2, 1, 1, 1, 0, 1], [3, 3, 1, 1, 1, 1, 0, 1], [2, 2, 2, 1, 1, 0, 1]]), u_3_*: ((8, 7, 6, 5), [[2, 2, 1, 1, 1, 1, 1, 0, 1], [2, 2, 2, 1, 1, 1, 0, 1], [2, 1, 1, 1, 1, 0, 1], [1, 2, 1, 1, 0, 1]]), u_4_*: ((7, 6, 5, 4), [[2, 1, 1, 1, 1, 1, 0, 1], [1, 2, 1, 1, 1, 0, 1], [1, 1, 1, 1, 0, 1], [1, 1, 1, 0, 1]]), u_5_*: ((6, 5, 4, 3), [[1, 1, 1, 1, 1, 0, 1], [1, 1, 1, 1, 0, 1], [1, 1, 1, 0, 1], [1, 1, 0, 1]])}\n"
     ]
    }
   ],
   "source": [
    "print(\n",
    "    {\n",
    "        g : \n",
    "        (\n",
    "            tuple(el.order(g) for el in K6), \n",
    "            [\n",
    "                [\n",
    "                    el.degree(g[i]) for i in range(el.order(g)+1)\n",
    "                ] for el in K6\n",
    "            ]\n",
    "        ) for g in K6[0].parent().remove_variables(\"z\").gens()\n",
    "    }\n",
    ")"
   ]
  },
  {
   "cell_type": "code",
   "execution_count": 11,
   "id": "0379b7ce-9d93-422f-9256-86bbb5a23dc0",
   "metadata": {},
   "outputs": [],
   "source": [
    "RR = K6[0].parent().remove_variables(\"z\")\n",
    "DS = DSystem([RR(el) for el in K6], variables=RR.gens()[1:])"
   ]
  },
  {
   "cell_type": "code",
   "execution_count": 12,
   "id": "a3e1785b-04da-4edf-b60d-a7ab6b6eab91",
   "metadata": {},
   "outputs": [],
   "source": [
    "eq = DS.equation(-1)\n",
    "eq2 = DS.equation(-2)\n",
    "U = eq.parent().gen(\"u_5\")\n",
    "rnk = RR.elimination_ranking()"
   ]
  },
  {
   "cell_type": "code",
   "execution_count": 14,
   "id": "93135854-56eb-450f-b7a2-56f836abaad3",
   "metadata": {},
   "outputs": [],
   "source": [
    "red1 = eq.derivative().coefficient_full(U[eq.order(U)+1])*eq2 - eq.derivative()*eq2.coefficient_full(U[eq2.order(U)])"
   ]
  },
  {
   "cell_type": "code",
   "execution_count": 15,
   "id": "bd89e9cb-3e73-48e1-a921-f1970264879e",
   "metadata": {},
   "outputs": [],
   "source": [
    "red2 = red1.derivative(times=2) * eq.coefficient_full(U[3]) - red1.derivative(times=2).coefficient_full(U[3]) * eq"
   ]
  },
  {
   "cell_type": "code",
   "execution_count": 16,
   "id": "11a4c05d-ef41-4deb-a724-80b6af41b30c",
   "metadata": {},
   "outputs": [],
   "source": [
    "red3 = red1.derivative() * red2.coefficient_full(U[2]) - red1.derivative().coefficient_full(U[2]) * red2"
   ]
  },
  {
   "cell_type": "code",
   "execution_count": 17,
   "id": "3d5a14fa-a975-4801-8bab-517508ef9416",
   "metadata": {},
   "outputs": [],
   "source": [
    "red4 = red1 * red3.coefficient_full(U[1]) - red1.coefficient_full(U[1]) * red3"
   ]
  },
  {
   "cell_type": "code",
   "execution_count": 18,
   "id": "aece12c3-4059-4459-991a-b4ccaf8875d9",
   "metadata": {},
   "outputs": [
    {
     "data": {
      "text/plain": [
       "u_5_0"
      ]
     },
     "execution_count": 18,
     "metadata": {},
     "output_type": "execute_result"
    }
   ],
   "source": [
    "rnk.leader(red4)"
   ]
  },
  {
   "cell_type": "code",
   "execution_count": 19,
   "id": "2051f0a4-2882-4ef6-a6db-a64450de3e83",
   "metadata": {},
   "outputs": [],
   "source": [
    "val_u_5 = (-red4.constant_coefficient(U),red4.coefficient_full(U[0]))"
   ]
  },
  {
   "cell_type": "code",
   "execution_count": 20,
   "id": "41f004c1-6333-4466-84b3-c6a3f80a365d",
   "metadata": {},
   "outputs": [],
   "source": [
    "poly_u_5 = RR.as_polynomials(*val_u_5)"
   ]
  },
  {
   "cell_type": "code",
   "execution_count": 21,
   "id": "5f87280b-a19e-4163-8fa1-65684ca5334c",
   "metadata": {},
   "outputs": [],
   "source": [
    "H = rnk.remainder(eq2, eq)"
   ]
  },
  {
   "cell_type": "markdown",
   "id": "5d6b5bca-5620-401f-855b-a7a51a874816",
   "metadata": {
    "jp-MarkdownHeadingCollapsed": true
   },
   "source": [
    "### **Exploring the differential system**"
   ]
  },
  {
   "cell_type": "code",
   "execution_count": 19,
   "id": "3334b80a-3dfc-48f9-9609-a9ae82852acd",
   "metadata": {},
   "outputs": [],
   "source": [
    "C = K6[0].parent().base().gens()\n",
    "n = 5\n",
    "R = DifferentialRing(QQ[x,*C], [1] + len(C)*[0]).fraction_field()\n",
    "x = R.gens()[0]"
   ]
  },
  {
   "cell_type": "markdown",
   "id": "69f1f879-fbcb-4d9c-b5b3-527485f6df5d",
   "metadata": {
    "jp-MarkdownHeadingCollapsed": true
   },
   "source": [
    "##### Case with $u_2 = 0$, $u_3 = 0$, $u_4 = 0$ ## **It leads to u_5 being a constant**"
   ]
  },
  {
   "cell_type": "code",
   "execution_count": 31,
   "id": "73948d33-f9b2-4b4f-99b4-361f05aff00b",
   "metadata": {},
   "outputs": [
    {
     "data": {
      "text/plain": [
       "System over [Ring of operator polynomials in (u_5, z) over Differential Ring [[Multivariate Polynomial Ring in c_0, c_1, c_2, c_3, c_4, c_5, c_6 over Rational Field], (0,)]] with variables [(u_5_*, z_*)]:\n",
       "{\n",
       "\t-(6/5*c_6)*u_5_0*u_5_1 - c_1*u_5_1 - c_2*u_5_2 - c_3*u_5_3 - c_4*u_5_4 - (2/5*c_6)*u_5_6 == 0\n",
       "\t-(2*c_2)*u_5_1 - (3*c_3)*u_5_2 - (4*c_4)*u_5_3 - (9/5*c_6)*u_5_5 == 0\n",
       "\t-(3*c_3)*u_5_1 - (6*c_4)*u_5_2 - (3*c_6)*u_5_4 == 0\n",
       "\t-(4*c_4)*u_5_1 - (2*c_6)*u_5_3 == 0\n",
       "}"
      ]
     },
     "execution_count": 31,
     "metadata": {},
     "output_type": "execute_result"
    }
   ],
   "source": [
    "rS = DSystem([el(u_2=0, u_3=0, u_4 = 0) for el in K6]); rS"
   ]
  },
  {
   "cell_type": "code",
   "execution_count": 32,
   "id": "f31fa719-ed03-4817-8eda-957c8016eb89",
   "metadata": {},
   "outputs": [],
   "source": [
    "eq1 = rS.equation(-1); eq2 = rS.equation(-2)"
   ]
  },
  {
   "cell_type": "code",
   "execution_count": 37,
   "id": "046dfc0d-4d0b-4499-8c08-51e4e4750fd1",
   "metadata": {},
   "outputs": [
    {
     "data": {
      "text/plain": [
       "-(2*c_3)*u_5_1"
      ]
     },
     "execution_count": 37,
     "metadata": {},
     "output_type": "execute_result"
    }
   ],
   "source": [
    "eq2 * 2/3 - eq1.derivative() # So either c_3 = 0 or u_5_1 = 0"
   ]
  },
  {
   "cell_type": "code",
   "execution_count": 52,
   "id": "1514f328-65fd-4cb5-bd0a-5f28353b3f3c",
   "metadata": {},
   "outputs": [],
   "source": [
    "## Case with u_5_1 = 0\n",
    "## Then this make all other equations to hold and we have u_5_0 a constant, getting the operator\n",
    "##   L = D^5 + C.\n",
    "## Which clearly have commutators since [D^m + C, D^n + E] = 0 for any n,m, C, E."
   ]
  },
  {
   "cell_type": "code",
   "execution_count": 38,
   "id": "51b88097-1acc-45c2-8758-bb755fb8048e",
   "metadata": {},
   "outputs": [
    {
     "data": {
      "text/plain": [
       "System over [Ring of operator polynomials in (u_5, z) over Differential Ring [[Multivariate Polynomial Ring in c_0, c_1, c_2, c_3, c_4, c_5, c_6 over Rational Field], (0,)]] with variables [(u_5_*, z_*)]:\n",
       "{\n",
       "\t-(6/5*c_6)*u_5_0*u_5_1 - c_1*u_5_1 - c_2*u_5_2 - c_4*u_5_4 - (2/5*c_6)*u_5_6 == 0\n",
       "\t-(2*c_2)*u_5_1 - (4*c_4)*u_5_3 - (9/5*c_6)*u_5_5 == 0\n",
       "\t-(6*c_4)*u_5_2 - (3*c_6)*u_5_4 == 0\n",
       "\t-(4*c_4)*u_5_1 - (2*c_6)*u_5_3 == 0\n",
       "}"
      ]
     },
     "execution_count": 38,
     "metadata": {},
     "output_type": "execute_result"
    }
   ],
   "source": [
    "## Case with c_3 = 0\n",
    "rS = DSystem([el(u_2=0, u_3=0, u_4 = 0,c_3 = 0) for el in K6]); rS"
   ]
  },
  {
   "cell_type": "code",
   "execution_count": 62,
   "id": "6d5be98c-6cf4-4c09-b4db-da932752b0b9",
   "metadata": {},
   "outputs": [
    {
     "data": {
      "text/plain": [
       "(2*c_4^2 - 5*c_2*c_6)*u_5_1"
      ]
     },
     "execution_count": 62,
     "metadata": {},
     "output_type": "execute_result"
    }
   ],
   "source": [
    "## Reducing equation 2 with equation 4 until we reach something fully reduced\n",
    "9/8*((-2*C[6])*(rS.equation(-1).derivative(times=2) - 10/9 * rS.equation(-3)) - (4/9*C[4])*rS.equation(-1))\n",
    "# So either (2*c_4^2 - 5*c_2*c_6) = 0 or u_5_1 = 0"
   ]
  },
  {
   "cell_type": "code",
   "execution_count": 87,
   "id": "dd230568-be3c-4d86-a96e-bfe3afc388ac",
   "metadata": {},
   "outputs": [
    {
     "data": {
      "text/plain": [
       "-(12*c_6^2)*u_5_0*u_5_1 - (10*c_1*c_6)*u_5_1 + (4*c_4^2 - 10*c_2*c_6)*u_5_2"
      ]
     },
     "execution_count": 87,
     "metadata": {},
     "output_type": "execute_result"
    }
   ],
   "source": [
    "## Reducing equation 1 with equation 4 until we reach something fully reduced\n",
    "## We assume that (2*c_4^2 - 5*c_2*c_6) = 0\n",
    "E = (-2*C[6])*(rS.equation(-1).derivative(times=3) - 5*rS.equation(0)) - (C[4]*rS.equation(-1).derivative(times=1))\n",
    "E"
   ]
  },
  {
   "cell_type": "code",
   "execution_count": 88,
   "id": "f00625d2-cc29-4aca-8531-1e0feabb0eab",
   "metadata": {},
   "outputs": [
    {
     "data": {
      "text/plain": [
       "-(12*c_6^2)*u_5_0*u_5_1 - (10*c_1*c_6)*u_5_1"
      ]
     },
     "execution_count": 88,
     "metadata": {},
     "output_type": "execute_result"
    }
   ],
   "source": [
    "## We remove manually the last term due to our condition on constants\n",
    "E - E.coefficient(E.parent().0[2]) * E.parent().0[2]\n",
    "# So we conclude that:\n",
    "### Either u_5_1 = 0 (we saw that already and it was boring)\n",
    "### Or (12*c_6^2)*u_5_0 + (10*c_1*c_6) = 0 and u_5_0 is a constant. So, again, boring."
   ]
  },
  {
   "cell_type": "markdown",
   "id": "c686396e-5565-4b16-a5ca-34a28b7f485a",
   "metadata": {},
   "source": [
    "##### Case with $u_j = 0$ except for a fixed $j_0 \\neq 5$ ## **The operator $L$ already factors, so not interesting**"
   ]
  },
  {
   "cell_type": "markdown",
   "id": "17826f39-e7c1-4678-8f14-084d68aa9b95",
   "metadata": {
    "jp-MarkdownHeadingCollapsed": true
   },
   "source": [
    "##### Case with $u_2 = 0, u_3 = 0$"
   ]
  },
  {
   "cell_type": "code",
   "execution_count": 140,
   "id": "60552d1d-eb87-4481-aa20-4aa2e32204cc",
   "metadata": {},
   "outputs": [
    {
     "data": {
      "text/plain": [
       "System over [Ring of operator polynomials in (u_4, u_5, z) over Differential Ring [[Multivariate Polynomial Ring in c_0, c_1, c_2, c_3, c_4, c_5, c_6 over Rational Field], (0,)]] with variables [(u_4_*, u_5_*, z_*)]:\n",
       "{\n",
       "\t(4/5*c_4)*u_4_0*u_4_1 + 2/5*u_4_0*u_4_3 - 3/5*u_4_0*u_5_2 - 3/5*u_4_1*u_5_1 + (4/5*c_4)*u_4_5 + 2/5*u_4_7 - 6/5*u_5_0*u_5_1 - c_1*u_5_1 - c_2*u_5_2 - c_3*u_5_3 - c_4*u_5_4 - 2/5*u_5_6 == 0\n",
       "\t-3/5*u_4_0*u_4_2 - 6/5*u_4_0*u_5_1 - c_1*u_4_1 - 6/5*u_4_1*u_5_0 - 3/5*u_4_1^2 - c_2*u_4_2 - c_3*u_4_3 + (3*c_4)*u_4_4 + 8/5*u_4_6 - (2*c_2)*u_5_1 - (3*c_3)*u_5_2 - (4*c_4)*u_5_3 - 9/5*u_5_5 == 0\n",
       "\t-6/5*u_4_0*u_4_1 - (2*c_2)*u_4_1 - (3*c_3)*u_4_2 + (4*c_4)*u_4_3 + 11/5*u_4_5 - (3*c_3)*u_5_1 - (6*c_4)*u_5_2 - 3*u_5_4 == 0\n",
       "\t-(3*c_3)*u_4_1 + (2*c_4)*u_4_2 + u_4_4 - (4*c_4)*u_5_1 - 2*u_5_3 == 0\n",
       "}"
      ]
     },
     "execution_count": 140,
     "metadata": {},
     "output_type": "execute_result"
    }
   ],
   "source": [
    "rS = DSystem([el(u_2=0, u_3=0,c_6=1) for el in K6]); U = rS.parent().gens()[1]; u = rS.parent().gens()[0]; rS"
   ]
  },
  {
   "cell_type": "code",
   "execution_count": 132,
   "id": "b7b261a8-530f-44f5-bd69-7b64ccd162f2",
   "metadata": {},
   "outputs": [
    {
     "name": "stdout",
     "output_type": "stream",
     "text": [
      "4/5*u_4_0*u_4_1 + (4/3*c_2)*u_4_1 - c_3*u_4_2 - (2/3*c_4)*u_4_3 - 7/15*u_4_5 + (2*c_3)*u_5_1\n",
      "-8/5*u_4_0*u_4_3 + (6*c_3^2)*u_4_1 - 24/5*u_4_1*u_4_2 - (4*c_3*c_4)*u_4_2 - (8/3*c_2)*u_4_3 + (4/3*c_4)*u_4_5 + 14/15*u_4_7 + (8*c_3*c_4)*u_5_1\n"
     ]
    },
    {
     "data": {
      "text/plain": [
       "-(16/5*c_4)*u_4_0*u_4_1 - 8/5*u_4_0*u_4_3 + (6*c_3^2 - 16/3*c_2*c_4)*u_4_1 - 24/5*u_4_1*u_4_2 + (8/3*c_4^2 - 8/3*c_2)*u_4_3 + (16/5*c_4)*u_4_5 + 14/15*u_4_7"
      ]
     },
     "execution_count": 132,
     "metadata": {},
     "output_type": "execute_result"
    }
   ],
   "source": [
    "## We eliminate u_5 using the last 2 equations\n",
    "seq11 = (rS.equation(-1).derivative() - (2/3)*rS.equation(-2)); print(seq11)\n",
    "seq12 = (-2*seq11.derivative(times=2)) - (2*C[3])*rS.equation(-1); print(seq12)\n",
    "seq13 = seq12 - seq11*4*C[4]; seq13"
   ]
  },
  {
   "cell_type": "code",
   "execution_count": 157,
   "id": "0e92e1fe-67b0-4a8c-9f7d-29158ed16d64",
   "metadata": {},
   "outputs": [
    {
     "name": "stdout",
     "output_type": "stream",
     "text": [
      "2/3*u_4_0*u_4_2 + 4/3*u_4_0*u_5_1 + (10/9*c_1)*u_4_1 + 4/3*u_4_1*u_5_0 + 2/3*u_4_1^2 + (10/9*c_2)*u_4_2 - (17/9*c_3)*u_4_3 - (4/3*c_4)*u_4_4 - 7/9*u_4_6 + (20/9*c_2)*u_5_1 + (10/3*c_3)*u_5_2 + (4/9*c_4)*u_5_3\n",
      "-4/3*u_4_0*u_4_2 - 8/3*u_4_0*u_5_1 + (4/3*c_3*c_4 - 20/9*c_1)*u_4_1 - 8/3*u_4_1*u_5_0 - 4/3*u_4_1^2 - (8/9*c_4^2 + 20/9*c_2)*u_4_2 + (34/9*c_3)*u_4_3 + (20/9*c_4)*u_4_4 + 14/9*u_4_6 + (16/9*c_4^2 - 40/9*c_2)*u_5_1 - (20/3*c_3)*u_5_2\n",
      "8/3*u_4_0*u_4_3 + 16/3*u_4_0*u_5_2 - (20*c_3^2)*u_4_1 + 8*u_4_1*u_4_2 + 32/3*u_4_1*u_5_1 + (32/3*c_3*c_4 + 40/9*c_1)*u_4_2 + 16/3*u_4_2*u_5_0 + (16/9*c_4^2 + 40/9*c_2)*u_4_3 - (8/9*c_3)*u_4_4 - (40/9*c_4)*u_4_5 - 28/9*u_4_7 - (80/3*c_3*c_4)*u_5_1 - (32/9*c_4^2 - 80/9*c_2)*u_5_2\n",
      "(64/9*c_3*c_4 - 320/27*c_1)*u_4_0*u_4_1 - 128/9*u_4_0*u_4_1*u_5_0 - 64/9*u_4_0*u_4_1^2 - (640/27*c_2)*u_4_0*u_4_2 + (1024/27*c_3)*u_4_0*u_4_3 + (320/27*c_4)*u_4_0*u_4_4 + 224/27*u_4_0*u_4_6 + (512/27*c_4^2 - 1280/27*c_2)*u_4_0*u_5_1 - 64/9*u_4_0^2*u_4_2 - 128/9*u_4_0^2*u_5_1 - (128/27*c_3*c_4^3 + 400/3*c_3^3 - 320/27*c_2*c_3*c_4 - 640/81*c_1*c_4^2 + 1600/81*c_1*c_2)*u_4_1 + (160/3*c_3)*u_4_1*u_4_2 + (256/27*c_4^2 - 640/27*c_2)*u_4_1*u_5_0 + (640/9*c_3)*u_4_1*u_5_1 + (128/27*c_4^2 - 320/27*c_2)*u_4_1^2 + (256/81*c_4^4 + 640/9*c_3^2*c_4 - 1600/81*c_2^2 + 800/27*c_1*c_3)*u_4_2 + (320/9*c_3)*u_4_2*u_5_0 - (128/81*c_3*c_4^2 - 5120/81*c_2*c_3)*u_4_3 - (640/81*c_4^3 + 160/27*c_3^2 - 1600/81*c_2*c_4)*u_4_4 - (800/27*c_3*c_4)*u_4_5 - (448/81*c_4^2 - 1120/81*c_2)*u_4_6 - (560/27*c_3)*u_4_7 - (512/81*c_4^4 + 1600/9*c_3^2*c_4 - 2560/81*c_2*c_4^2 + 3200/81*c_2^2)*u_5_1\n",
      "0\n",
      "-1\n"
     ]
    }
   ],
   "source": [
    "## We eliminate u_5 using the last equation and the second equation\n",
    "seq21 = (rS.equation(-1).derivative(times=2) - 10/9*rS.equation(-3)); print(seq21) # order 3\n",
    "seq22 = (-2)*seq21 - (4/9*C[4])*rS.equation(-1); print(seq22) # order 2\n",
    "seq23 = rS.equation(-1).coefficient_full(U[3]) * seq22.derivative() - seq22.derivative().coefficient_full(U[3]) * rS.equation(-1); print(seq23) # order 2\n",
    "seq24 = seq22 * seq23.coefficient_full(U[2]) - seq23 * seq22.coefficient_full(U[2]); print(seq24) # order 1\n",
    "seq25 = seq24.derivative() * seq22.coefficient_full(U[2]) - seq22 * seq24.derivative().coefficient_full(U[2]); # order 1\n",
    "seq26 = seq24 * seq25.coefficient_full(U[1]) - seq25 * seq24.coefficient_full(U[1]); print(seq26.order(U))\n",
    "seq27 = seq26.derivative() * seq24.coefficient_full(U[1]) - seq26.derivative().coefficient_full(U[1]) * seq24\n",
    "seq28 = seq26 * seq27.coefficient_full(U[0]) - seq27 * seq26.coefficient_full(U[0]); print(seq28.order(U))"
   ]
  },
  {
   "cell_type": "code",
   "execution_count": 159,
   "id": "8dedb292-e688-4158-8763-1cda25b454ff",
   "metadata": {},
   "outputs": [
    {
     "data": {
      "text/plain": [
       "(u_4_0^2*u_4_2^3,\n",
       " u_4_0^5*u_4_2*u_4_3,\n",
       " u_4_1^3*u_4_6,\n",
       " u_4_0^3*u_4_2^3*u_4_3,\n",
       " u_4_0^2*u_4_3^2*u_4_6,\n",
       " u_4_0*u_4_2*u_4_5,\n",
       " u_4_0*u_4_3^3,\n",
       " u_4_0^5*u_4_2*u_4_4*u_4_6,\n",
       " u_4_0^4*u_4_2^2*u_4_9,\n",
       " u_4_0*u_4_1^2*u_4_3*u_4_4,\n",
       " u_4_0^3*u_4_1^2*u_4_5,\n",
       " u_4_1^3*u_4_2*u_4_8,\n",
       " u_4_0^2*u_4_1^4*u_4_3,\n",
       " u_4_1^3*u_4_7,\n",
       " u_4_0^2*u_4_3^2*u_4_7,\n",
       " u_4_0*u_4_3*u_4_6,\n",
       " u_4_0^5*u_4_1*u_4_3*u_4_4,\n",
       " u_4_0^5*u_4_2^2*u_4_3,\n",
       " u_4_0^4*u_4_1*u_4_4^2,\n",
       " u_4_0^6*u_4_2*u_4_6,\n",
       " u_4_1^3*u_4_2*u_4_9,\n",
       " u_4_1^4*u_4_6,\n",
       " u_4_0^2*u_4_1^3*u_4_3,\n",
       " u_4_1^2*u_4_3^2*u_4_7,\n",
       " u_4_0*u_4_2^2*u_4_5,\n",
       " u_4_0^2*u_4_1*u_4_2*u_4_3*u_4_5,\n",
       " u_4_0*u_4_3*u_4_7,\n",
       " u_4_1^2*u_4_3^2*u_4_4,\n",
       " u_4_1^4*u_4_7,\n",
       " u_4_0^3*u_4_1^3*u_4_2^2,\n",
       " u_4_1^4*u_4_2*u_4_3,\n",
       " u_4_0*u_4_2^3,\n",
       " u_4_0*u_4_1^2*u_4_2*u_4_4*u_4_6,\n",
       " u_4_1*u_4_2^2*u_4_6,\n",
       " u_4_1*u_4_2*u_4_3,\n",
       " u_4_0^4*u_4_1*u_4_5,\n",
       " u_4_0^5*u_4_2*u_4_4^2,\n",
       " u_4_0^5*u_4_4*u_4_8,\n",
       " u_4_0^3*u_4_1*u_4_2*u_4_8,\n",
       " u_4_1*u_4_2^2*u_4_7,\n",
       " u_4_3^2*u_4_4,\n",
       " u_4_0^3*u_4_1^2*u_4_9,\n",
       " u_4_1*u_4_4*u_4_5,\n",
       " u_4_0^3*u_4_1*u_4_2*u_4_9,\n",
       " u_4_0^2*u_4_2*u_4_4*u_4_5,\n",
       " u_4_0^2*u_4_1^2*u_4_3*u_4_5,\n",
       " u_4_0^5*u_4_1^2*u_4_2*u_4_4,\n",
       " u_4_0*u_4_1^5*u_4_2,\n",
       " u_4_0^3*u_4_1*u_4_2^2*u_4_8,\n",
       " u_4_0^4*u_4_1^2*u_4_2^2,\n",
       " u_4_0^5*u_4_1*u_4_2*u_4_9,\n",
       " u_4_0^2*u_4_1^3*u_4_4^2,\n",
       " u_4_0^5*u_4_2*u_4_5,\n",
       " u_4_1^2*u_4_2*u_4_3*u_4_6,\n",
       " u_4_0*u_4_2^3*u_4_3,\n",
       " u_4_0*u_4_1*u_4_2^3*u_4_3,\n",
       " u_4_0^4*u_4_1^3*u_4_2,\n",
       " u_4_0^2*u_4_1*u_4_2*u_4_4,\n",
       " u_4_1^2*u_4_2*u_4_3*u_4_7,\n",
       " u_4_0^2*u_4_1^4*u_4_5,\n",
       " u_4_0^4*u_4_1^2*u_4_8,\n",
       " u_4_0^2*u_4_1*u_4_2^3*u_4_6,\n",
       " u_4_1*u_4_3,\n",
       " u_4_0^5*u_4_3*u_4_6,\n",
       " u_4_0^2*u_4_1*u_4_3,\n",
       " u_4_0*u_4_1*u_4_2*u_4_4*u_4_6,\n",
       " u_4_1^2*u_4_2*u_4_3*u_4_4,\n",
       " u_4_0^6*u_4_4*u_4_8,\n",
       " u_4_0^3*u_4_2*u_4_4*u_4_5,\n",
       " u_4_0*u_4_1^2*u_4_2*u_4_3,\n",
       " u_4_0^4*u_4_1*u_4_2*u_4_8,\n",
       " u_4_0^2*u_4_2*u_4_8,\n",
       " u_4_0^5*u_4_2^2*u_4_5,\n",
       " u_4_1*u_4_2*u_4_4^2,\n",
       " u_4_1*u_4_4*u_4_8,\n",
       " u_4_0^4*u_4_1^2*u_4_9,\n",
       " u_4_0^4*u_4_2^3*u_4_4,\n",
       " u_4_0^4*u_4_1^4*u_4_2,\n",
       " u_4_0^4*u_4_3*u_4_9,\n",
       " u_4_0^5*u_4_3*u_4_7,\n",
       " u_4_0^2*u_4_1^3*u_4_5,\n",
       " u_4_0*u_4_1*u_4_2*u_4_4*u_4_7,\n",
       " u_4_0*u_4_1^2*u_4_2^2,\n",
       " u_4_0^2*u_4_1*u_4_2^2*u_4_4,\n",
       " u_4_0^3*u_4_2*u_4_4,\n",
       " u_4_0^4*u_4_1^2*u_4_2*u_4_4,\n",
       " u_4_0^3*u_4_1^2*u_4_2,\n",
       " u_4_0^4*u_4_1*u_4_2*u_4_9,\n",
       " u_4_0^2*u_4_1^2*u_4_4*u_4_5,\n",
       " u_4_0^2*u_4_1^2*u_4_2*u_4_6,\n",
       " u_4_0^3*u_4_2*u_4_3^2,\n",
       " u_4_1^4*u_4_2*u_4_5,\n",
       " u_4_0^5*u_4_1^2*u_4_3,\n",
       " u_4_0*u_4_1^2*u_4_2^2*u_4_3,\n",
       " u_4_0^3*u_4_1^4*u_4_3,\n",
       " u_4_0^2*u_4_2^2*u_4_8,\n",
       " u_4_0^2*u_4_1^2*u_4_2*u_4_7,\n",
       " u_4_1^2*u_4_2*u_4_4*u_4_6,\n",
       " u_4_1^2*u_4_2*u_4_3,\n",
       " u_4_0^3*u_4_4^2,\n",
       " u_4_1^3*u_4_2^3,\n",
       " u_4_0^3*u_4_2^2*u_4_7,\n",
       " u_4_0*u_4_1^2*u_4_8,\n",
       " u_4_1*u_4_2*u_4_5,\n",
       " u_4_0^2*u_4_1^2*u_4_2*u_4_4,\n",
       " u_4_1^3*u_4_3*u_4_8,\n",
       " u_4_1^4,\n",
       " u_4_0^3*u_4_2^2*u_4_4,\n",
       " u_4_0^2*u_4_2^2*u_4_9,\n",
       " u_4_0^2*u_4_1^2*u_4_2*u_4_3^2,\n",
       " u_4_1^2*u_4_2*u_4_4*u_4_7,\n",
       " u_4_0^4*u_4_1^4,\n",
       " u_4_0*u_4_1^2*u_4_9,\n",
       " u_4_2*u_4_8,\n",
       " u_4_0^4*u_4_2^2,\n",
       " u_4_0^2*u_4_1^2*u_4_2*u_4_3*u_4_6,\n",
       " u_4_1^3*u_4_3*u_4_9,\n",
       " u_4_1^4*u_4_3*u_4_7,\n",
       " u_4_0^3*u_4_1^5,\n",
       " u_4_0^2*u_4_1^2*u_4_2^2*u_4_7,\n",
       " u_4_1^2*u_4_2^2*u_4_3,\n",
       " u_4_1*u_4_3*u_4_6,\n",
       " u_4_1*u_4_4^2,\n",
       " u_4_0^2*u_4_1*u_4_4^2,\n",
       " u_4_0^6*u_4_1*u_4_7,\n",
       " u_4_0*u_4_1^2*u_4_2*u_4_4^2,\n",
       " u_4_0^6*u_4_1*u_4_4,\n",
       " u_4_1*u_4_3*u_4_7,\n",
       " u_4_0^5*u_4_2^2,\n",
       " u_4_0^4*u_4_1^3*u_4_4,\n",
       " u_4_0^3*u_4_1^2*u_4_2*u_4_4,\n",
       " u_4_0*u_4_2*u_4_6,\n",
       " u_4_0^3*u_4_1^2*u_4_6,\n",
       " u_4_1*u_4_5,\n",
       " u_4_0^4*u_4_4*u_4_8,\n",
       " u_4_1^2*u_4_2*u_4_4^2,\n",
       " u_4_0^5*u_4_4*u_4_6,\n",
       " u_4_0^2*u_4_1*u_4_5,\n",
       " u_4_0*u_4_1^2*u_4_2*u_4_5,\n",
       " u_4_0^3*u_4_3^2*u_4_5,\n",
       " u_4_0^3*u_4_1^2*u_4_7,\n",
       " u_4_0^4*u_4_1^4*u_4_4,\n",
       " u_4_0^3*u_4_1*u_4_2*u_4_3*u_4_5,\n",
       " u_4_0^7*u_4_2*u_4_4,\n",
       " u_4_0*u_4_2^2*u_4_6,\n",
       " u_4_0^2*u_4_2^3*u_4_4,\n",
       " u_4_0^2*u_4_1*u_4_2*u_4_3*u_4_6,\n",
       " u_4_0^2*u_4_1^4*u_4_2,\n",
       " u_4_0^5*u_4_1^2*u_4_5,\n",
       " u_4_1^2*u_4_2^2,\n",
       " u_4_0^6*u_4_1*u_4_3*u_4_4,\n",
       " u_4_0*u_4_2^2*u_4_7,\n",
       " u_4_0*u_4_1^2*u_4_2^2*u_4_5,\n",
       " u_4_0^3*u_4_1^4*u_4_5,\n",
       " u_4_0^2*u_4_1*u_4_2*u_4_3*u_4_7,\n",
       " u_4_1^2*u_4_2*u_4_5,\n",
       " u_4_0^2*u_4_1^4,\n",
       " u_4_2^2*u_4_3,\n",
       " u_4_0*u_4_4*u_4_8,\n",
       " u_4_0^2*u_4_1^3*u_4_2,\n",
       " u_4_1^3*u_4_4*u_4_8,\n",
       " u_4_0^4*u_4_1*u_4_6,\n",
       " u_4_1^2*u_4_8,\n",
       " u_4_0^4*u_4_3*u_4_6,\n",
       " u_4_0^4*u_4_1*u_4_3*u_4_8,\n",
       " u_4_0^6*u_4_3^2,\n",
       " u_4_0^6*u_4_4*u_4_6,\n",
       " u_4_0^4*u_4_1*u_4_7,\n",
       " u_4_0^3*u_4_1*u_4_4,\n",
       " u_4_1^2*u_4_2^2*u_4_5,\n",
       " u_4_1*u_4_4*u_4_6,\n",
       " u_4_0^2*u_4_1*u_4_9,\n",
       " u_4_1^2*u_4_9,\n",
       " u_4_0^2*u_4_2*u_4_4*u_4_6,\n",
       " u_4_0^4*u_4_1^2*u_4_3*u_4_4,\n",
       " u_4_0^4*u_4_1*u_4_3*u_4_9,\n",
       " u_4_1*u_4_4*u_4_7,\n",
       " u_4_0^2*u_4_2*u_4_4*u_4_7,\n",
       " u_4_0^2*u_4_1^2*u_4_3*u_4_7,\n",
       " u_4_0^7*u_4_3^2,\n",
       " u_4_0^3*u_4_2^3*u_4_6,\n",
       " u_4_0*u_4_1^2*u_4_6,\n",
       " u_4_0^2*u_4_1^2*u_4_3*u_4_4,\n",
       " u_4_0^3*u_4_1^3,\n",
       " u_4_0^5*u_4_1^3*u_4_3,\n",
       " u_4_1^3*u_4_3*u_4_6,\n",
       " u_4_0^3*u_4_1*u_4_4*u_4_8,\n",
       " u_4_0^2*u_4_1^4*u_4_6,\n",
       " u_4_0*u_4_3^2*u_4_5,\n",
       " u_4_0*u_4_1^2*u_4_7,\n",
       " u_4_0^5*u_4_2*u_4_4,\n",
       " u_4_2*u_4_6,\n",
       " u_4_0^5*u_4_2*u_4_3^2,\n",
       " u_4_0^2*u_4_1^4*u_4_7,\n",
       " u_4_0^2*u_4_1^3*u_4_6,\n",
       " u_4_0^2*u_4_1^2*u_4_4*u_4_6,\n",
       " u_4_2*u_4_3*u_4_5,\n",
       " u_4_0^2*u_4_1^3*u_4_7,\n",
       " u_4_0^5*u_4_2^2*u_4_4,\n",
       " u_4_0^3*u_4_1^2*u_4_3*u_4_4,\n",
       " u_4_0^4*u_4_2*u_4_3*u_4_4,\n",
       " u_4_0^2*u_4_1^2*u_4_4*u_4_7,\n",
       " u_4_0^2*u_4_1^3*u_4_4,\n",
       " u_4_0^2*u_4_1^3*u_4_3^2,\n",
       " u_4_1^4*u_4_2*u_4_4,\n",
       " u_4_0^2*u_4_1*u_4_2*u_4_3,\n",
       " u_4_0^5*u_4_1^2*u_4_2,\n",
       " u_4_0*u_4_1^2*u_4_3*u_4_5,\n",
       " u_4_0^4*u_4_1*u_4_4*u_4_8,\n",
       " u_4_0*u_4_1^4*u_4_2^2,\n",
       " u_4_0^3*u_4_2*u_4_3*u_4_8,\n",
       " u_4_0*u_4_1*u_4_4,\n",
       " u_4_0^3*u_4_1*u_4_3*u_4_5,\n",
       " u_4_0^3*u_4_1^4*u_4_2,\n",
       " u_4_0*u_4_1*u_4_3^2,\n",
       " u_4_1*u_4_2*u_4_4,\n",
       " u_4_1*u_4_2*u_4_3^2,\n",
       " u_4_0^5*u_4_1*u_4_3*u_4_5,\n",
       " u_4_0^4*u_4_2^3*u_4_3,\n",
       " u_4_0*u_4_1*u_4_2*u_4_4,\n",
       " u_4_0*u_4_1^4*u_4_8,\n",
       " u_4_2^4,\n",
       " u_4_0^2*u_4_1*u_4_2^2*u_4_3,\n",
       " u_4_2*u_4_4*u_4_5,\n",
       " u_4_0*u_4_1*u_4_2*u_4_3^2,\n",
       " u_4_1^2*u_4_3*u_4_5,\n",
       " u_4_0^4*u_4_2^4,\n",
       " u_4_0*u_4_2^3*u_4_6,\n",
       " u_4_0*u_4_1*u_4_2^3*u_4_6,\n",
       " u_4_0*u_4_1^4*u_4_9,\n",
       " u_4_0^5*u_4_1^3*u_4_5,\n",
       " u_4_0*u_4_4*u_4_6,\n",
       " u_4_1^3*u_4_2^2,\n",
       " u_4_0^3*u_4_3^2,\n",
       " u_4_0^4*u_4_1*u_4_2^3,\n",
       " u_4_0*u_4_1*u_4_4*u_4_5,\n",
       " u_4_1*u_4_6,\n",
       " u_4_0^2*u_4_1*u_4_6,\n",
       " u_4_0*u_4_1*u_4_2^2*u_4_4,\n",
       " u_4_0^4*u_4_1*u_4_3*u_4_6,\n",
       " u_4_0*u_4_1^2*u_4_2*u_4_6,\n",
       " u_4_1*u_4_7,\n",
       " u_4_0^2*u_4_3*u_4_5,\n",
       " u_4_0^2*u_4_1*u_4_7,\n",
       " u_4_0^2*u_4_1*u_4_2*u_4_4^2,\n",
       " u_4_1^3*u_4_8,\n",
       " u_4_0*u_4_1^2*u_4_2*u_4_7,\n",
       " u_4_1^4*u_4_2^2,\n",
       " u_4_0^3*u_4_3^2*u_4_7,\n",
       " u_4_0^5*u_4_1^2*u_4_6,\n",
       " u_4_3^3,\n",
       " u_4_0^3*u_4_3^2*u_4_4,\n",
       " u_4_0^3*u_4_1*u_4_2*u_4_3*u_4_4,\n",
       " u_4_0^4*u_4_3^3,\n",
       " u_4_0*u_4_1^2*u_4_2^2*u_4_6,\n",
       " u_4_0*u_4_1^2*u_4_2^3,\n",
       " u_4_1^4*u_4_8,\n",
       " u_4_0^5*u_4_1*u_4_4,\n",
       " u_4_0^3*u_4_1^2*u_4_2*u_4_3,\n",
       " u_4_0*u_4_1^2*u_4_2^2*u_4_7,\n",
       " u_4_1^2*u_4_2*u_4_7,\n",
       " u_4_0^2*u_4_1*u_4_2*u_4_4*u_4_5,\n",
       " u_4_0^2*u_4_1*u_4_2*u_4_5,\n",
       " u_4_0*u_4_1^2*u_4_4*u_4_8,\n",
       " u_4_1^2*u_4_2*u_4_4,\n",
       " u_4_1^2*u_4_2^4,\n",
       " u_4_0^5*u_4_3^3,\n",
       " u_4_1^2*u_4_2*u_4_3^2,\n",
       " u_4_1*u_4_2*u_4_3*u_4_5,\n",
       " u_4_0^4*u_4_3^2*u_4_6,\n",
       " u_4_0^2*u_4_2^4,\n",
       " u_4_0^5*u_4_1*u_4_4*u_4_5,\n",
       " u_4_0^7*u_4_2*u_4_3,\n",
       " u_4_1*u_4_2^2*u_4_8,\n",
       " u_4_1^2*u_4_2^2*u_4_7,\n",
       " u_4_0^4*u_4_3^2*u_4_7,\n",
       " u_4_0^2*u_4_1*u_4_2^2*u_4_5,\n",
       " u_4_1^2*u_4_4*u_4_5,\n",
       " u_4_1^2*u_4_2^2*u_4_4,\n",
       " u_4_1*u_4_2^2*u_4_9,\n",
       " u_4_1^5*u_4_4,\n",
       " u_4_2^3*u_4_6,\n",
       " u_4_0*u_4_3^2*u_4_6,\n",
       " u_4_1^2*u_4_3^3,\n",
       " u_4_0^3*u_4_1*u_4_2*u_4_4*u_4_6,\n",
       " u_4_4*u_4_5,\n",
       " u_4_1^2*u_4_2*u_4_3*u_4_8,\n",
       " u_4_1*u_4_2*u_4_4*u_4_5,\n",
       " u_4_0*u_4_3^2*u_4_7,\n",
       " u_4_0^5*u_4_1^3*u_4_2,\n",
       " u_4_0^2*u_4_3^3,\n",
       " u_4_1^6*u_4_4,\n",
       " u_4_0*u_4_2^4,\n",
       " u_4_0^3*u_4_1*u_4_3,\n",
       " u_4_0*u_4_1*u_4_3*u_4_4,\n",
       " u_4_0*u_4_1^2*u_4_2*u_4_3*u_4_5,\n",
       " u_4_0*u_4_1^3*u_4_2*u_4_3,\n",
       " u_4_0*u_4_1^4*u_4_6,\n",
       " u_4_0^4*u_4_1^2*u_4_2*u_4_8,\n",
       " u_4_0^3*u_4_2*u_4_8,\n",
       " u_4_0*u_4_1^3*u_4_3,\n",
       " u_4_0*u_4_1^4*u_4_7,\n",
       " u_4_0^3*u_4_1^2*u_4_2*u_4_5,\n",
       " u_4_2*u_4_3*u_4_4,\n",
       " u_4_0*u_4_2*u_4_4*u_4_6,\n",
       " u_4_1*u_4_2^3,\n",
       " u_4_0^2*u_4_1^2*u_4_2*u_4_8,\n",
       " u_4_0^2*u_4_1*u_4_2^3,\n",
       " u_4_0*u_4_1^2*u_4_3*u_4_6,\n",
       " u_4_0^3*u_4_2^2*u_4_8,\n",
       " u_4_2^2*u_4_4,\n",
       " u_4_0*u_4_2*u_4_4*u_4_7,\n",
       " u_4_0^2*u_4_1^3*u_4_2*u_4_4,\n",
       " u_4_0^2*u_4_1^2*u_4_2*u_4_9,\n",
       " u_4_0*u_4_1^2*u_4_3*u_4_7,\n",
       " u_4_0^3*u_4_2^2*u_4_9,\n",
       " u_4_0^5*u_4_1*u_4_3*u_4_6,\n",
       " u_4_1^4*u_4_4*u_4_6,\n",
       " u_4_0^3*u_4_1*u_4_3*u_4_4,\n",
       " u_4_0^6*u_4_4^2,\n",
       " u_4_2*u_4_4*u_4_6,\n",
       " u_4_0^3*u_4_1*u_4_4^2,\n",
       " u_4_1^2*u_4_3^2*u_4_6,\n",
       " u_4_2*u_4_4*u_4_7,\n",
       " u_4_1*u_4_3*u_4_8,\n",
       " u_4_0*u_4_1*u_4_2*u_4_3*u_4_5,\n",
       " u_4_0*u_4_1^3*u_4_4^2,\n",
       " u_4_0^2*u_4_1^2*u_4_3,\n",
       " u_4_0^6*u_4_1*u_4_9,\n",
       " u_4_0^2*u_4_1*u_4_3*u_4_5,\n",
       " u_4_1*u_4_2^3*u_4_4,\n",
       " u_4_1^2*u_4_3*u_4_4,\n",
       " u_4_0^3*u_4_1^2*u_4_2^2,\n",
       " u_4_0^7*u_4_4^2,\n",
       " u_4_1*u_4_3*u_4_9,\n",
       " u_4_0^4*u_4_1^3*u_4_9,\n",
       " u_4_0*u_4_1^2*u_4_4*u_4_6,\n",
       " u_4_0^7*u_4_1*u_4_3,\n",
       " u_4_0*u_4_1*u_4_3,\n",
       " u_4_3^2*u_4_6,\n",
       " u_4_0*u_4_1^2*u_4_4*u_4_7,\n",
       " u_4_0^3*u_4_1*u_4_5,\n",
       " u_4_0*u_4_2*u_4_8,\n",
       " u_4_1^3*u_4_2*u_4_3*u_4_4,\n",
       " u_4_4^2,\n",
       " u_4_0^3*u_4_1^2*u_4_8,\n",
       " u_4_0*u_4_1^3*u_4_2*u_4_5,\n",
       " u_4_0^4*u_4_1^2*u_4_3*u_4_5,\n",
       " u_4_0^2*u_4_3*u_4_7,\n",
       " u_4_3^2*u_4_7,\n",
       " u_4_0*u_4_1^3*u_4_5,\n",
       " u_4_0*u_4_1*u_4_2*u_4_3,\n",
       " u_4_1^5,\n",
       " u_4_0*u_4_2^2*u_4_8,\n",
       " u_4_0^2*u_4_1*u_4_2*u_4_3*u_4_8,\n",
       " u_4_0^2*u_4_1*u_4_2*u_4_6,\n",
       " u_4_0^4*u_4_1^5,\n",
       " u_4_0^4*u_4_1*u_4_2^2,\n",
       " u_4_0^2*u_4_1^2*u_4_4^2,\n",
       " u_4_0*u_4_2^2*u_4_9,\n",
       " u_4_0*u_4_1*u_4_2^2*u_4_3,\n",
       " u_4_0^5*u_4_3^2*u_4_4,\n",
       " u_4_0^4*u_4_2*u_4_4,\n",
       " u_4_1*u_4_2*u_4_3*u_4_6,\n",
       " u_4_0^2*u_4_1*u_4_2*u_4_7,\n",
       " u_4_0^4*u_4_2^3*u_4_6,\n",
       " u_4_0^2*u_4_1*u_4_2*u_4_3^2,\n",
       " u_4_1*u_4_2*u_4_3*u_4_7,\n",
       " u_4_0^2*u_4_1*u_4_2^2*u_4_6,\n",
       " u_4_0*u_4_1*u_4_4^2,\n",
       " u_4_0^3*u_4_2*u_4_6,\n",
       " u_4_0^4*u_4_1^2*u_4_2*u_4_6,\n",
       " u_4_0*u_4_2*u_4_3*u_4_4,\n",
       " u_4_1^2*u_4_4*u_4_6,\n",
       " u_4_0^5*u_4_1*u_4_4*u_4_7,\n",
       " u_4_1*u_4_2*u_4_3*u_4_4,\n",
       " u_4_0^4*u_4_1*u_4_9,\n",
       " u_4_0^4*u_4_2^2*u_4_4,\n",
       " u_4_0^2*u_4_1*u_4_2^2*u_4_7,\n",
       " u_4_0^3*u_4_1^2*u_4_3*u_4_5,\n",
       " u_4_0^4*u_4_2*u_4_3*u_4_5,\n",
       " u_4_0^2*u_4_1^2*u_4_5,\n",
       " u_4_1^2*u_4_4*u_4_7,\n",
       " u_4_0^2*u_4_1*u_4_4*u_4_5,\n",
       " u_4_0^2*u_4_1^2*u_4_3*u_4_8,\n",
       " u_4_0*u_4_1*u_4_2*u_4_4^2,\n",
       " u_4_0^3*u_4_2^2*u_4_6,\n",
       " u_4_0^5*u_4_1*u_4_3,\n",
       " u_4_0^2*u_4_1^3*u_4_3*u_4_4,\n",
       " u_4_0^7*u_4_1*u_4_5,\n",
       " u_4_0^2*u_4_1^2*u_4_3*u_4_9,\n",
       " u_4_0^5*u_4_2*u_4_8,\n",
       " u_4_0^2*u_4_4^2,\n",
       " u_4_0^6*u_4_1^2*u_4_4,\n",
       " u_4_0*u_4_1*u_4_5,\n",
       " u_4_1*u_4_2*u_4_4*u_4_6,\n",
       " u_4_1*u_4_3^2*u_4_4,\n",
       " u_4_0^2*u_4_1^3*u_4_2^2,\n",
       " u_4_1*u_4_2*u_4_4*u_4_7,\n",
       " u_4_0*u_4_1*u_4_3^2*u_4_4,\n",
       " u_4_1^3*u_4_2^2*u_4_4,\n",
       " u_4_0^6*u_4_1^3,\n",
       " u_4_0^6*u_4_1*u_4_6,\n",
       " u_4_0*u_4_1*u_4_2*u_4_5,\n",
       " u_4_0^2*u_4_1^5,\n",
       " u_4_0^5*u_4_2^2*u_4_8,\n",
       " u_4_0^2*u_4_1^4*u_4_9,\n",
       " u_4_0*u_4_1^2*u_4_2*u_4_3*u_4_7,\n",
       " u_4_0^2*u_4_1^3*u_4_4*u_4_6,\n",
       " u_4_0^4*u_4_1^3*u_4_6,\n",
       " u_4_0^3*u_4_1^2*u_4_2*u_4_6,\n",
       " u_4_0^2*u_4_1^3*u_4_8,\n",
       " u_4_0^6*u_4_3*u_4_5,\n",
       " u_4_0*u_4_1^2*u_4_2*u_4_3*u_4_4,\n",
       " u_4_0^2*u_4_1^2*u_4_4*u_4_8,\n",
       " u_4_1^5*u_4_3,\n",
       " u_4_0*u_4_1^3*u_4_2,\n",
       " u_4_0^2*u_4_2*u_4_3*u_4_5,\n",
       " u_4_1^4*u_4_2*u_4_8,\n",
       " u_4_0^4*u_4_1^3*u_4_7,\n",
       " u_4_0^3*u_4_1^3*u_4_4,\n",
       " u_4_0^3*u_4_1^2*u_4_2*u_4_7,\n",
       " u_4_0^2*u_4_1^3*u_4_9,\n",
       " u_4_0^3*u_4_1*u_4_2*u_4_4,\n",
       " u_4_0*u_4_1*u_4_2^2*u_4_5,\n",
       " u_4_0^3*u_4_1*u_4_2*u_4_3^2,\n",
       " u_4_0*u_4_4^2,\n",
       " u_4_0^5*u_4_1*u_4_4^2,\n",
       " u_4_0*u_4_1^3*u_4_3*u_4_5,\n",
       " u_4_0^5*u_4_1*u_4_2*u_4_4,\n",
       " u_4_1*u_4_2*u_4_8,\n",
       " u_4_0^3*u_4_1^4,\n",
       " u_4_0^2*u_4_1^5*u_4_4,\n",
       " u_4_0^3*u_4_2^2,\n",
       " u_4_0^2*u_4_2^3*u_4_6,\n",
       " u_4_0^3*u_4_1*u_4_2^2*u_4_4,\n",
       " u_4_1*u_4_2*u_4_9,\n",
       " u_4_0^3*u_4_1^2*u_4_4*u_4_5,\n",
       " u_4_0*u_4_1^5,\n",
       " u_4_0^4*u_4_2*u_4_4*u_4_5,\n",
       " u_4_0^2*u_4_4*u_4_5,\n",
       " u_4_0^5*u_4_1*u_4_5,\n",
       " u_4_0^4*u_4_1^2*u_4_4,\n",
       " u_4_1*u_4_2^2,\n",
       " u_4_0^2*u_4_1*u_4_3^2*u_4_5,\n",
       " u_4_0^2*u_4_1*u_4_2^2,\n",
       " u_4_0^2*u_4_1*u_4_3*u_4_7,\n",
       " u_4_0^4*u_4_1^2*u_4_3^2,\n",
       " u_4_0*u_4_1*u_4_2*u_4_3*u_4_4,\n",
       " u_4_0^2*u_4_2*u_4_4,\n",
       " u_4_0^4*u_4_1*u_4_2*u_4_4,\n",
       " u_4_0^2*u_4_1*u_4_3*u_4_4,\n",
       " u_4_0^2*u_4_1^2*u_4_2,\n",
       " u_4_0^3*u_4_1*u_4_6,\n",
       " u_4_0^2*u_4_2*u_4_3^2,\n",
       " u_4_0*u_4_1*u_4_2^2*u_4_9,\n",
       " u_4_0^2*u_4_1^3*u_4_2*u_4_3,\n",
       " u_4_0*u_4_1^3*u_4_4*u_4_5,\n",
       " u_4_0^6*u_4_2*u_4_3,\n",
       " u_4_0^3*u_4_1*u_4_7,\n",
       " u_4_0^5*u_4_1^2*u_4_2^2,\n",
       " u_4_0*u_4_1^2*u_4_2*u_4_8,\n",
       " u_4_0^4*u_4_1^2*u_4_3*u_4_7,\n",
       " u_4_0*u_4_1^3*u_4_2*u_4_7,\n",
       " u_4_1*u_4_9,\n",
       " u_4_0^2*u_4_2^2*u_4_4,\n",
       " u_4_0^4*u_4_1*u_4_2^2*u_4_4,\n",
       " u_4_0^3*u_4_1*u_4_3^2,\n",
       " u_4_0*u_4_1^3*u_4_2*u_4_4,\n",
       " u_4_0*u_4_1^2*u_4_2*u_4_9,\n",
       " u_4_0^2*u_4_1^2*u_4_3*u_4_6,\n",
       " u_4_0*u_4_1^3*u_4_4,\n",
       " u_4_1^5*u_4_5,\n",
       " u_4_0*u_4_1^3*u_4_3^2,\n",
       " u_4_0^5*u_4_1^2*u_4_8,\n",
       " u_4_1*u_4_2^3*u_4_3,\n",
       " u_4_0*u_4_1^2*u_4_2^2*u_4_8,\n",
       " u_4_0^5*u_4_2*u_4_6,\n",
       " u_4_1^2*u_4_2*u_4_8,\n",
       " u_4_0^2*u_4_1^3,\n",
       " u_4_1^2*u_4_2*u_4_9,\n",
       " u_4_0*u_4_1*u_4_3*u_4_5,\n",
       " u_4_3^2,\n",
       " u_4_0^3*u_4_4*u_4_5,\n",
       " u_4_0^3*u_4_2*u_4_4*u_4_6,\n",
       " u_4_0^4*u_4_3^2,\n",
       " u_4_0^5*u_4_2^2*u_4_6,\n",
       " u_4_1^2*u_4_2^2*u_4_8,\n",
       " u_4_0^3*u_4_1^2*u_4_3*u_4_6,\n",
       " u_4_0^4*u_4_2*u_4_3*u_4_6,\n",
       " u_4_0^2*u_4_1*u_4_4*u_4_6,\n",
       " u_4_0^3*u_4_2*u_4_4*u_4_7,\n",
       " u_4_1^2*u_4_2^2*u_4_9,\n",
       " u_4_0^3*u_4_1^2*u_4_3*u_4_7,\n",
       " u_4_0^4*u_4_2*u_4_3*u_4_7,\n",
       " u_4_0^2*u_4_1^2*u_4_7,\n",
       " u_4_1^4*u_4_2*u_4_6,\n",
       " u_4_0^2*u_4_1*u_4_4*u_4_7,\n",
       " u_4_1^5*u_4_9,\n",
       " u_4_0*u_4_1*u_4_6,\n",
       " u_4_0^2*u_4_1^2*u_4_4,\n",
       " u_4_0^5*u_4_3^2,\n",
       " u_4_2^2*u_4_5,\n",
       " u_4_0^2*u_4_1^2*u_4_3^2,\n",
       " u_4_0^2*u_4_1^3*u_4_2*u_4_5,\n",
       " u_4_0*u_4_1^3,\n",
       " u_4_0^4*u_4_2*u_4_3,\n",
       " u_4_0^4*u_4_1^2*u_4_4*u_4_6,\n",
       " u_4_1*u_4_2*u_4_6,\n",
       " u_4_0*u_4_3*u_4_5,\n",
       " u_4_0*u_4_1*u_4_7,\n",
       " u_4_0^6*u_4_2*u_4_5,\n",
       " u_4_0^7*u_4_1*u_4_4,\n",
       " u_4_0*u_4_1*u_4_2*u_4_6,\n",
       " u_4_1*u_4_2*u_4_7,\n",
       " u_4_0^6*u_4_3*u_4_6,\n",
       " u_4_0*u_4_1*u_4_2*u_4_7,\n",
       " u_4_0^4*u_4_2^2*u_4_3,\n",
       " u_4_2*u_4_3*u_4_8,\n",
       " u_4_0^6*u_4_3*u_4_7,\n",
       " u_4_1^2*u_4_4,\n",
       " u_4_0*u_4_1*u_4_2^2*u_4_6,\n",
       " u_4_1^2*u_4_3^2,\n",
       " u_4_0^6*u_4_2^3,\n",
       " u_4_1^3*u_4_2*u_4_3,\n",
       " u_4_2^2*u_4_8,\n",
       " u_4_0^2*u_4_2*u_4_3*u_4_7,\n",
       " u_4_0^2*u_4_1^3*u_4_2*u_4_8,\n",
       " u_4_0*u_4_1*u_4_2^2*u_4_7,\n",
       " u_4_0^6*u_4_1^2*u_4_3,\n",
       " u_4_0^2*u_4_3^2,\n",
       " u_4_0^2*u_4_2*u_4_3*u_4_4,\n",
       " u_4_1^5*u_4_2,\n",
       " u_4_0*u_4_1^2*u_4_3^3,\n",
       " u_4_2^2*u_4_9,\n",
       " u_4_0*u_4_1^2*u_4_3*u_4_8,\n",
       " u_4_0^3*u_4_1*u_4_3*u_4_8,\n",
       " u_4_0^4*u_4_2*u_4_4^2,\n",
       " u_4_0^3*u_4_3^2*u_4_6,\n",
       " u_4_0^3*u_4_1*u_4_2*u_4_3*u_4_6,\n",
       " u_4_0^3*u_4_1^2*u_4_4*u_4_6,\n",
       " u_4_0^4*u_4_2*u_4_4*u_4_6,\n",
       " u_4_1^3*u_4_2^2*u_4_3,\n",
       " u_4_0*u_4_1^3*u_4_3*u_4_4,\n",
       " u_4_0*u_4_1^2*u_4_3*u_4_9,\n",
       " u_4_0^3*u_4_1*u_4_3*u_4_9,\n",
       " u_4_0^5*u_4_1*u_4_3*u_4_8,\n",
       " u_4_1^6*u_4_2,\n",
       " u_4_0^3*u_4_1*u_4_2*u_4_3*u_4_7,\n",
       " u_4_0^3*u_4_1^2*u_4_4*u_4_7,\n",
       " u_4_0^4*u_4_2*u_4_4*u_4_7,\n",
       " u_4_0^5*u_4_1*u_4_6,\n",
       " u_4_1^2*u_4_3*u_4_8,\n",
       " u_4_1^2*u_4_2*u_4_6,\n",
       " u_4_0^3*u_4_1^3*u_4_3,\n",
       " u_4_0^5*u_4_1*u_4_7,\n",
       " u_4_0^3*u_4_1*u_4_2*u_4_3,\n",
       " u_4_1^2*u_4_2^3*u_4_4,\n",
       " u_4_0^4*u_4_2*u_4_5,\n",
       " u_4_1^2*u_4_3*u_4_9,\n",
       " u_4_0*u_4_1^3*u_4_4*u_4_6,\n",
       " u_4_0*u_4_3^2,\n",
       " u_4_0*u_4_1*u_4_4*u_4_8,\n",
       " u_4_0^2*u_4_1*u_4_3^2*u_4_4,\n",
       " u_4_0^5*u_4_1*u_4_3^2,\n",
       " u_4_0^5*u_4_1*u_4_2*u_4_3,\n",
       " u_4_0^2*u_4_1*u_4_2^4,\n",
       " u_4_0*u_4_2*u_4_3*u_4_5,\n",
       " u_4_0*u_4_1^3*u_4_4*u_4_7,\n",
       " u_4_3*u_4_5,\n",
       " u_4_1^2*u_4_2^2*u_4_6,\n",
       " u_4_0^3*u_4_1*u_4_2^2*u_4_3,\n",
       " u_4_0^4*u_4_2^2*u_4_5,\n",
       " u_4_1^5*u_4_6,\n",
       " u_4_0^2*u_4_3*u_4_9,\n",
       " u_4_0^3*u_4_3^3,\n",
       " u_4_1^5*u_4_7,\n",
       " u_4_1^3*u_4_2*u_4_5,\n",
       " u_4_0*u_4_1*u_4_2^3,\n",
       " u_4_0^4*u_4_1^2*u_4_3,\n",
       " u_4_0*u_4_1^2*u_4_3^2*u_4_4,\n",
       " u_4_0^2*u_4_1^3*u_4_3*u_4_5,\n",
       " u_4_0^3*u_4_1*u_4_3^2*u_4_4,\n",
       " u_4_0^2*u_4_2*u_4_3,\n",
       " u_4_0^4*u_4_1*u_4_2*u_4_3,\n",
       " u_4_0^5*u_4_2*u_4_3*u_4_4,\n",
       " u_4_0^2*u_4_1*u_4_2*u_4_8,\n",
       " u_4_0*u_4_1*u_4_3*u_4_6,\n",
       " u_4_1*u_4_3^2*u_4_5,\n",
       " u_4_0^3*u_4_1*u_4_2*u_4_4^2,\n",
       " u_4_1*u_4_3^3,\n",
       " u_4_0^3*u_4_4*u_4_6,\n",
       " u_4_0^4*u_4_1*u_4_2*u_4_3*u_4_4,\n",
       " u_4_0^2*u_4_1*u_4_3^3,\n",
       " u_4_0*u_4_1*u_4_3^2*u_4_5,\n",
       " u_4_1^3*u_4_2^2*u_4_5,\n",
       " u_4_1*u_4_2*u_4_3*u_4_8,\n",
       " u_4_0^2*u_4_1*u_4_2*u_4_9,\n",
       " u_4_0*u_4_1*u_4_3*u_4_7,\n",
       " u_4_3*u_4_9,\n",
       " u_4_0^3*u_4_2^3,\n",
       " u_4_0^2*u_4_2^2*u_4_3,\n",
       " u_4_0^4*u_4_1*u_4_2^2*u_4_3,\n",
       " u_4_0^2*u_4_1*u_4_2^2*u_4_8,\n",
       " u_4_2*u_4_3*u_4_6,\n",
       " u_4_0*u_4_1^2*u_4_3,\n",
       " u_4_1^2*u_4_4*u_4_8,\n",
       " u_4_0^3*u_4_1^3*u_4_5,\n",
       " u_4_0^5*u_4_4*u_4_5,\n",
       " u_4_0^3*u_4_1*u_4_2*u_4_5,\n",
       " u_4_0^2*u_4_1*u_4_2^2*u_4_9,\n",
       " u_4_2^2*u_4_6,\n",
       " u_4_2*u_4_3*u_4_7,\n",
       " u_4_2*u_4_3,\n",
       " u_4_0^2*u_4_1^3*u_4_2*u_4_6,\n",
       " u_4_1^3*u_4_4,\n",
       " u_4_1^3*u_4_3^2,\n",
       " u_4_0^2*u_4_3^2*u_4_4,\n",
       " u_4_1^6,\n",
       " u_4_0^4*u_4_1^2*u_4_4^2,\n",
       " u_4_2^2*u_4_7,\n",
       " u_4_0^5*u_4_1*u_4_2*u_4_5,\n",
       " u_4_0^3*u_4_1*u_4_3*u_4_6,\n",
       " u_4_4*u_4_8,\n",
       " u_4_0^2*u_4_2*u_4_4^2,\n",
       " u_4_0^3*u_4_1*u_4_2^2*u_4_5,\n",
       " u_4_0^6*u_4_2*u_4_4,\n",
       " u_4_0^3*u_4_1*u_4_3*u_4_7,\n",
       " u_4_1^4*u_4_4,\n",
       " u_4_1^4*u_4_3^2,\n",
       " u_4_1*u_4_2^3*u_4_6,\n",
       " u_4_1^2*u_4_3*u_4_6,\n",
       " u_4_0^3*u_4_1^3*u_4_8,\n",
       " u_4_0^4*u_4_1^2*u_4_5,\n",
       " u_4_0^4*u_4_3*u_4_5,\n",
       " u_4_0*u_4_1^2*u_4_4^2,\n",
       " u_4_0^6*u_4_4*u_4_5,\n",
       " u_4_0^3*u_4_1^2*u_4_2*u_4_8,\n",
       " u_4_1^2*u_4_3*u_4_7,\n",
       " u_4_0^2*u_4_2*u_4_5,\n",
       " u_4_0^4*u_4_1*u_4_2*u_4_5,\n",
       " u_4_0^6*u_4_2^2*u_4_4,\n",
       " u_4_0^3*u_4_1^3*u_4_9,\n",
       " u_4_0*u_4_1*u_4_4*u_4_6,\n",
       " u_4_1*u_4_2^2*u_4_4,\n",
       " u_4_1^3*u_4_2*u_4_3*u_4_6,\n",
       " u_4_0^3*u_4_1^3*u_4_2*u_4_4,\n",
       " u_4_2*u_4_4^2,\n",
       " u_4_0^3*u_4_1^2*u_4_2*u_4_9,\n",
       " u_4_0*u_4_1*u_4_4*u_4_7,\n",
       " u_4_0^2*u_4_3*u_4_6,\n",
       " u_4_0^6*u_4_1^2*u_4_2,\n",
       " u_4_0^2*u_4_2^2*u_4_5,\n",
       " u_4_0^4*u_4_1*u_4_2^2*u_4_5,\n",
       " u_4_0*u_4_1^2*u_4_5,\n",
       " u_4_0^4*u_4_4^2,\n",
       " u_4_1^3*u_4_3*u_4_5,\n",
       " u_4_0^2*u_4_1^6,\n",
       " u_4_1^2*u_4_3,\n",
       " u_4_2*u_4_5,\n",
       " u_4_0*u_4_1*u_4_2*u_4_3*u_4_8,\n",
       " u_4_0^6*u_4_2^2,\n",
       " u_4_0^4*u_4_2*u_4_6,\n",
       " u_4_0^5*u_4_3^2*u_4_6,\n",
       " u_4_0^2*u_4_1*u_4_3*u_4_8,\n",
       " u_4_0^3*u_4_1*u_4_2^2,\n",
       " u_4_0^2*u_4_1*u_4_2*u_4_4*u_4_6,\n",
       " u_4_0^5*u_4_4^2,\n",
       " u_4_0*u_4_1^3*u_4_2^2,\n",
       " u_4_0^2*u_4_1*u_4_2^3*u_4_4,\n",
       " u_4_0^2*u_4_1*u_4_3*u_4_9,\n",
       " u_4_0*u_4_2*u_4_3*u_4_6,\n",
       " u_4_3*u_4_6,\n",
       " u_4_0^3*u_4_1^3*u_4_2,\n",
       " u_4_0^2*u_4_1*u_4_2*u_4_4*u_4_7,\n",
       " u_4_0^4*u_4_2*u_4_3^2,\n",
       " u_4_0^7*u_4_2^2,\n",
       " u_4_0^4*u_4_2^2*u_4_6,\n",
       " u_4_3*u_4_7,\n",
       " u_4_0*u_4_2*u_4_3*u_4_7,\n",
       " u_4_0*u_4_1^3*u_4_2*u_4_8,\n",
       " u_4_0*u_4_1^3*u_4_8,\n",
       " u_4_0^2*u_4_1^5*u_4_2,\n",
       " u_4_0^4*u_4_2^2*u_4_7,\n",
       " u_4_0^3*u_4_1*u_4_9,\n",
       " u_4_1^3*u_4_2*u_4_6,\n",
       " u_4_2^2,\n",
       " u_4_0^4*u_4_4*u_4_5,\n",
       " u_4_0*u_4_1^3*u_4_2*u_4_9,\n",
       " u_4_0*u_4_1^3*u_4_9,\n",
       " u_4_0*u_4_1^6,\n",
       " u_4_1^3*u_4_2*u_4_7,\n",
       " u_4_1^2*u_4_2^3*u_4_3,\n",
       " u_4_1^4*u_4_3*u_4_4,\n",
       " u_4_0^2*u_4_1^3*u_4_3*u_4_7,\n",
       " u_4_1^2*u_4_4^2,\n",
       " u_4_1*u_4_3^2*u_4_6,\n",
       " u_4_1^3*u_4_2*u_4_4,\n",
       " u_4_0^2*u_4_1^2*u_4_2^2*u_4_4,\n",
       " u_4_0*u_4_1^5*u_4_4,\n",
       " u_4_1^3*u_4_2*u_4_3^2,\n",
       " u_4_0^4*u_4_1^2*u_4_2,\n",
       " u_4_0*u_4_1*u_4_3^2*u_4_6,\n",
       " u_4_4*u_4_6,\n",
       " u_4_0^2*u_4_1^2*u_4_2*u_4_3*u_4_4,\n",
       " u_4_1*u_4_3^2*u_4_7,\n",
       " u_4_1*u_4_3*u_4_4,\n",
       " u_4_0^2*u_4_1^2*u_4_2^2,\n",
       " u_4_0*u_4_1*u_4_3^2*u_4_7,\n",
       " u_4_1^3*u_4_2^2*u_4_7,\n",
       " u_4_0*u_4_1^2*u_4_2*u_4_3*u_4_6,\n",
       " u_4_0*u_4_4*u_4_5,\n",
       " u_4_1^3*u_4_4*u_4_5,\n",
       " u_4_0*u_4_1^4*u_4_2*u_4_4,\n",
       " u_4_2^3*u_4_3,\n",
       " u_4_0^3*u_4_1^3*u_4_6,\n",
       " u_4_0^3*u_4_1*u_4_2*u_4_6,\n",
       " u_4_1^2*u_4_5,\n",
       " u_4_0^3*u_4_1^2*u_4_3*u_4_8,\n",
       " u_4_0*u_4_1*u_4_2^2,\n",
       " u_4_0^4*u_4_2*u_4_3*u_4_8,\n",
       " u_4_0^2*u_4_1^2*u_4_8,\n",
       " u_4_0^4*u_4_1*u_4_3*u_4_5,\n",
       " u_4_0^2*u_4_1*u_4_4*u_4_8,\n",
       " u_4_0^3*u_4_1^3*u_4_7,\n",
       " u_4_0*u_4_2*u_4_4,\n",
       " u_4_0^3*u_4_1*u_4_2*u_4_7,\n",
       " u_4_0*u_4_1^2*u_4_2,\n",
       " u_4_0*u_4_2*u_4_3^2,\n",
       " u_4_0^5*u_4_1*u_4_2*u_4_6,\n",
       " u_4_0^3*u_4_1^2*u_4_4,\n",
       " u_4_0^2*u_4_1^2*u_4_9,\n",
       " u_4_0^3*u_4_1^2*u_4_3^2,\n",
       " u_4_0*u_4_1^4*u_4_3,\n",
       " u_4_0^3*u_4_1*u_4_2^2*u_4_6,\n",
       " u_4_0^5*u_4_1*u_4_2*u_4_7,\n",
       " u_4_0*u_4_1*u_4_9,\n",
       " u_4_0*u_4_2^2*u_4_4,\n",
       " u_4_0^2*u_4_2^2,\n",
       " u_4_0^3*u_4_1*u_4_2^2*u_4_7,\n",
       " u_4_0^2*u_4_1*u_4_2*u_4_3*u_4_4,\n",
       " u_4_1^3,\n",
       " u_4_0*u_4_1*u_4_2*u_4_8,\n",
       " u_4_0^3*u_4_1*u_4_4*u_4_5,\n",
       " u_4_0^4*u_4_1^3,\n",
       " u_4_0^4*u_4_1^2*u_4_6,\n",
       " u_4_0*u_4_1*u_4_2*u_4_3*u_4_6,\n",
       " u_4_0^2*u_4_2*u_4_6,\n",
       " u_4_0^4*u_4_1*u_4_2*u_4_6,\n",
       " u_4_0*u_4_1*u_4_2*u_4_9,\n",
       " u_4_0^2*u_4_1*u_4_3*u_4_6,\n",
       " u_4_0^4*u_4_3^2*u_4_5,\n",
       " u_4_0^4*u_4_1^2*u_4_7,\n",
       " u_4_0^4*u_4_3*u_4_7,\n",
       " u_4_0^2*u_4_2*u_4_3*u_4_8,\n",
       " u_4_1^3*u_4_3,\n",
       " u_4_0^4*u_4_1*u_4_4,\n",
       " u_4_0*u_4_1*u_4_2*u_4_3*u_4_7,\n",
       " u_4_0^4*u_4_1*u_4_3^2,\n",
       " u_4_0^6*u_4_3*u_4_9,\n",
       " u_4_0^4*u_4_1*u_4_2*u_4_7,\n",
       " u_4_0*u_4_1*u_4_2^2*u_4_8,\n",
       " u_4_0^5*u_4_1^3,\n",
       " u_4_0^4*u_4_1*u_4_2*u_4_3^2,\n",
       " u_4_0*u_4_1^3*u_4_3*u_4_8,\n",
       " u_4_0^2*u_4_2^2*u_4_6,\n",
       " u_4_0*u_4_1^4,\n",
       " u_4_0*u_4_1^3*u_4_2*u_4_6,\n",
       " u_4_0*u_4_1^3*u_4_6,\n",
       " u_4_0*u_4_2^2,\n",
       " u_4_1^4*u_4_3,\n",
       " u_4_0^5*u_4_1*u_4_2^2,\n",
       " u_4_0^3*u_4_3*u_4_5,\n",
       " u_4_0^2*u_4_2^2*u_4_7,\n",
       " u_4_0^4*u_4_1*u_4_2^2*u_4_7,\n",
       " u_4_0^4*u_4_1*u_4_4*u_4_5,\n",
       " u_4_0*u_4_1^3*u_4_7,\n",
       " u_4_0^3*u_4_2*u_4_3*u_4_5,\n",
       " u_4_0^2*u_4_4*u_4_8,\n",
       " u_4_1^3*u_4_3*u_4_7,\n",
       " u_4_0^3*u_4_2^3*u_4_4,\n",
       " u_4_0*u_4_1^2*u_4_4,\n",
       " u_4_0*u_4_1^2*u_4_3^2,\n",
       " u_4_1^3*u_4_3*u_4_4,\n",
       " u_4_0^2*u_4_1^4*u_4_4,\n",
       " u_4_0^5*u_4_2*u_4_3*u_4_5,\n",
       " u_4_1*u_4_2^2*u_4_3,\n",
       " u_4_2*u_4_4,\n",
       " u_4_0*u_4_1^4*u_4_5,\n",
       " u_4_1^2*u_4_2,\n",
       " u_4_2*u_4_3^2,\n",
       " u_4_0^5*u_4_1*u_4_9,\n",
       " u_4_1^3*u_4_4^2,\n",
       " u_4_1^7,\n",
       " u_4_0^6*u_4_1*u_4_2*u_4_3,\n",
       " u_4_0*u_4_2*u_4_4*u_4_5,\n",
       " u_4_0^4*u_4_4*u_4_6,\n",
       " u_4_0^2*u_4_1^2*u_4_6,\n",
       " u_4_1^4*u_4_4^2,\n",
       " u_4_0^3*u_4_3*u_4_9,\n",
       " u_4_1^3*u_4_5,\n",
       " u_4_0^2*u_4_3^2*u_4_5,\n",
       " u_4_0^3*u_4_2*u_4_3,\n",
       " u_4_0^4*u_4_1^2*u_4_2*u_4_3,\n",
       " u_4_0^2*u_4_1*u_4_2^3*u_4_3,\n",
       " u_4_1^2*u_4_3^2*u_4_5,\n",
       " u_4_0^7*u_4_3*u_4_5,\n",
       " u_4_0^3*u_4_1*u_4_3^3,\n",
       " u_4_1^4*u_4_5,\n",
       " u_4_0*u_4_1*u_4_3*u_4_8,\n",
       " u_4_1^3*u_4_4*u_4_6,\n",
       " u_4_0^3*u_4_4*u_4_8,\n",
       " u_4_1^2*u_4_6,\n",
       " u_4_0^2*u_4_1^2*u_4_2*u_4_3,\n",
       " u_4_0*u_4_1*u_4_2^3*u_4_4,\n",
       " u_4_0*u_4_2^3*u_4_4,\n",
       " u_4_0*u_4_1^2*u_4_4*u_4_5,\n",
       " u_4_0^3*u_4_2^2*u_4_3,\n",
       " u_4_0*u_4_1*u_4_3*u_4_9,\n",
       " u_4_1^3*u_4_4*u_4_7,\n",
       " u_4_1^2*u_4_7,\n",
       " u_4_3^2*u_4_5,\n",
       " u_4_0^2*u_4_2*u_4_3*u_4_6,\n",
       " u_4_0^4*u_4_1*u_4_3*u_4_7,\n",
       " u_4_1*u_4_4,\n",
       " u_4_1*u_4_2^2*u_4_5,\n",
       " u_4_0^2*u_4_1*u_4_4,\n",
       " u_4_1*u_4_3^2,\n",
       " u_4_0^2*u_4_1*u_4_3^2,\n",
       " u_4_0^4*u_4_1*u_4_3*u_4_4,\n",
       " u_4_0*u_4_1^2*u_4_2*u_4_4,\n",
       " u_4_1^3*u_4_9,\n",
       " u_4_0^2*u_4_1^2*u_4_2^2*u_4_3,\n",
       " u_4_0*u_4_1*u_4_2^4,\n",
       " u_4_0*u_4_1^2*u_4_2*u_4_3^2,\n",
       " u_4_0*u_4_1^5*u_4_3,\n",
       " u_4_0^6*u_4_1*u_4_3,\n",
       " u_4_0^3*u_4_1*u_4_2^3,\n",
       " u_4_0*u_4_1^3*u_4_3*u_4_6,\n",
       " u_4_0^6*u_4_2*u_4_8,\n",
       " u_4_0^4*u_4_1^3*u_4_3,\n",
       " u_4_0^3*u_4_2*u_4_4^2,\n",
       " u_4_0^6*u_4_1*u_4_2*u_4_5,\n",
       " u_4_0^3*u_4_1*u_4_4*u_4_6,\n",
       " u_4_0^5*u_4_1^2*u_4_4,\n",
       " u_4_0*u_4_1^3*u_4_3*u_4_7,\n",
       " u_4_0*u_4_1^4*u_4_2,\n",
       " u_4_0*u_4_3*u_4_9,\n",
       " u_4_0^3*u_4_1^4*u_4_4,\n",
       " u_4_0*u_4_1^2*u_4_2^2*u_4_4,\n",
       " u_4_1^4*u_4_9,\n",
       " u_4_0^2*u_4_4*u_4_6,\n",
       " u_4_0^3*u_4_1*u_4_4*u_4_7,\n",
       " u_4_1^2*u_4_2*u_4_3*u_4_5,\n",
       " u_4_1^2*u_4_2^3*u_4_6,\n",
       " u_4_0^3*u_4_2^4,\n",
       " u_4_0^2*u_4_1*u_4_3^2*u_4_6,\n",
       " u_4_0*u_4_2*u_4_3,\n",
       " u_4_2^3,\n",
       " u_4_0^3*u_4_1^2*u_4_3,\n",
       " u_4_0^3*u_4_2*u_4_5,\n",
       " u_4_0^4*u_4_1^2*u_4_2*u_4_5,\n",
       " u_4_0^4*u_4_2^3,\n",
       " u_4_0^2*u_4_2^3*u_4_3,\n",
       " u_4_0^5*u_4_3*u_4_5,\n",
       " u_4_0*u_4_1*u_4_3^3,\n",
       " u_4_0*u_4_1*u_4_2*u_4_4*u_4_5,\n",
       " u_4_0^4*u_4_3^2*u_4_4,\n",
       " u_4_0^2*u_4_1*u_4_3^2*u_4_7,\n",
       " u_4_1^3*u_4_2,\n",
       " u_4_0^3*u_4_3*u_4_6,\n",
       " u_4_1*u_4_2^4,\n",
       " u_4_0*u_4_2^2*u_4_3,\n",
       " u_4_0^2*u_4_1^2*u_4_2*u_4_5,\n",
       " u_4_0^3*u_4_2^2*u_4_5,\n",
       " u_4_0^5*u_4_2^3,\n",
       " u_4_0^4*u_4_1*u_4_4*u_4_6,\n",
       " u_4_0^3*u_4_2*u_4_3*u_4_6,\n",
       " u_4_0^2*u_4_1^2*u_4_2^3,\n",
       " u_4_0^3*u_4_3*u_4_7,\n",
       " u_4_0*u_4_1^2*u_4_3^2*u_4_6,\n",
       " u_4_0^3*u_4_1*u_4_3^2*u_4_6,\n",
       " u_4_2^3*u_4_4,\n",
       " u_4_1^2*u_4_2*u_4_4*u_4_5,\n",
       " u_4_1^4*u_4_2,\n",
       " u_4_0^4*u_4_1*u_4_4*u_4_7,\n",
       " u_4_0^3*u_4_2*u_4_3*u_4_7,\n",
       " u_4_0*u_4_3^2*u_4_4,\n",
       " u_4_1^4*u_4_3*u_4_5,\n",
       " u_4_0^3*u_4_2*u_4_3*u_4_4,\n",
       " u_4_0^4*u_4_1*u_4_3,\n",
       " u_4_0^4*u_4_1*u_4_2*u_4_3*u_4_6,\n",
       " u_4_0^2*u_4_1^2*u_4_2^2*u_4_5,\n",
       " u_4_0*u_4_1^5*u_4_5,\n",
       " u_4_0^6*u_4_1*u_4_5,\n",
       " u_4_0^5*u_4_2*u_4_3*u_4_7,\n",
       " u_4_0^4*u_4_2*u_4_8,\n",
       " u_4_0*u_4_2*u_4_4^2,\n",
       " u_4_0^3*u_4_1^2*u_4_4^2,\n",
       " u_4_0^4*u_4_1^3*u_4_5,\n",
       " u_4_1*u_4_3*u_4_5,\n",
       " u_4_0^5*u_4_3*u_4_9,\n",
       " u_4_0*u_4_1^4*u_4_4,\n",
       " u_4_0*u_4_2*u_4_3*u_4_8,\n",
       " u_4_1^2*u_4_2^3,\n",
       " u_4_0^4*u_4_2^2*u_4_8)"
      ]
     },
     "execution_count": 159,
     "metadata": {},
     "output_type": "execute_result"
    }
   ],
   "source": [
    "seq28.monomials()"
   ]
  },
  {
   "cell_type": "code",
   "execution_count": 128,
   "id": "5410965f-6008-44c0-b675-a53c6c5eaa43",
   "metadata": {},
   "outputs": [],
   "source": [
    "## We eliminate u_5 using the last equation and the first equation"
   ]
  },
  {
   "cell_type": "markdown",
   "id": "11e6c299-9d96-4b8e-bdf5-56e892b94de5",
   "metadata": {
    "jp-MarkdownHeadingCollapsed": true
   },
   "source": [
    "##### Case with $u_2 = -1/x^2, u_3=u_4=0$ **NO SOLUTION**"
   ]
  },
  {
   "cell_type": "code",
   "execution_count": 89,
   "id": "135215f5-7ca5-41e6-8b6f-27d20704648a",
   "metadata": {},
   "outputs": [],
   "source": [
    "K6_eval = [el(u_2=(-1/x^2),u_3=0,u_4=0,c_6=25) for el in K6]\n",
    "FR = K6_eval[0].parent().remove_variables(\"z\")\n",
    "K6_eval = [FR(el) for el in K6_eval]"
   ]
  },
  {
   "cell_type": "code",
   "execution_count": 91,
   "id": "e30a2cef-ea55-4062-bdb6-df37974e6f10",
   "metadata": {},
   "outputs": [],
   "source": [
    "simplified_system = DSystem(K6_eval)"
   ]
  },
  {
   "cell_type": "code",
   "execution_count": 92,
   "id": "66ee4b1e-7d8a-4dfc-a466-f415d8ead69e",
   "metadata": {},
   "outputs": [],
   "source": [
    "A = simplified_system.equation(-1)\n",
    "B = simplified_system.equation(-2)"
   ]
  },
  {
   "cell_type": "code",
   "execution_count": 98,
   "id": "de0f709d-8619-4cca-9add-aa3414a8f88a",
   "metadata": {},
   "outputs": [],
   "source": [
    "S = A.sylvester_resultant(B).coefficients()[0]"
   ]
  },
  {
   "cell_type": "code",
   "execution_count": 105,
   "id": "e4c02dc4-b2a1-4e0e-ad17-1c6ca045cc5e",
   "metadata": {},
   "outputs": [
    {
     "name": "stdout",
     "output_type": "stream",
     "text": [
      "[49798994226660000000000, 2853200243970000000000*c_4, 41516320025286000000000*c_3, 5173080811200000000*c_4^2 - 233834040000000000*c_2, -134186175612000000000*c_3*c_4, 2790262080000000*c_4^3 + 1339912564376400000000*c_3^2 - 16297524000000000*c_2*c_4, -302929593120000000*c_3*c_4^2 - 258083496000000000*c_2*c_3, 8720548994700000000*c_3^2*c_4 - 62985600000000*c_2*c_4^2, -186017472000000*c_3*c_4^3 - 1400895607500000000*c_3^3 - 152215200000000*c_2*c_3*c_4, 8532227664000000*c_3^2*c_4^2 - 13780068300000000*c_2*c_3^2, -1378407780000000*c_3^3*c_4 + 4199040000000*c_2*c_3*c_4^2, 3100291200000*c_3^2*c_4^3 - 79278750000000*c_3^4 - 71996040000000*c_2*c_3^2*c_4, 98366400000*c_3^3*c_4^2 - 12553380000000*c_2*c_3^3, -100602000000*c_3^4*c_4 - 69984000000*c_2*c_3^2*c_4^2, -32076000000*c_3^5 + 23328000000*c_2*c_3^3*c_4, -10935000000*c_2*c_3^4]\n"
     ]
    }
   ],
   "source": [
    "print(S.numerator().polynomial(x.numerator().wrapped).coefficients())"
   ]
  },
  {
   "cell_type": "markdown",
   "id": "14aaba95-37e3-40d4-9556-f2a54d61c5e1",
   "metadata": {
    "jp-MarkdownHeadingCollapsed": true
   },
   "source": [
    "##### Case $u_2 = -1/x^2$"
   ]
  },
  {
   "cell_type": "code",
   "execution_count": 46,
   "id": "7bb8ec8e-21f8-4ae6-b7fc-75fc2e0b4e9c",
   "metadata": {},
   "outputs": [],
   "source": [
    "val_u_5_eval = [el(u_2=(-1/x^2)) for el in val_u_5]"
   ]
  },
  {
   "cell_type": "code",
   "execution_count": 50,
   "id": "1911e318-6541-4a33-8b69-5c25da5540a7",
   "metadata": {},
   "outputs": [
    {
     "data": {
      "text/plain": [
       "((-432*x^14*c_1*c_3^3*c_6^3 - 3888*x^13*c_2*c_3^3*c_6^3 + 2592*x^13*c_1*c_3^2*c_4*c_6^3 - 28512/5*x^12*c_3^4*c_6^3 + 20736/5*x^12*c_2*c_3^2*c_4*c_6^3 - 23328*x^11*c_3^3*c_4*c_6^3 + 133488/5*x^11*c_1*c_3^2*c_6^4 - 1531008/25*x^10*c_3^2*c_4^2*c_6^3 + 1874016/25*x^10*c_2*c_3^2*c_6^4 - 31104/5*x^10*c_1*c_3*c_4*c_6^4 - 3981312/25*x^9*c_3^3*c_6^4 - 248832/25*x^9*c_2*c_3*c_4*c_6^4 - 482626944/125*x^8*c_3^2*c_4*c_6^4 + 248832/5*x^8*c_1*c_3*c_6^5 + 18372096/125*x^7*c_3*c_4^2*c_6^4 + 4805568/125*x^7*c_2*c_3*c_6^5 + 93312/25*x^7*c_1*c_4*c_6^5 - 63167086656/625*x^6*c_3^2*c_6^5 + 746496/125*x^6*c_2*c_4*c_6^5 + 3580962048/625*x^5*c_3*c_4*c_6^5 + 419904/125*x^5*c_1*c_6^6 - 55116288/625*x^4*c_4^2*c_6^5 + 8678016/625*x^4*c_2*c_6^6 + 264148480512/3125*x^3*c_3*c_6^6 - 11425929984/3125*x^2*c_4*c_6^6 - 672439677696/15625*c_6^7)/x^17) + ((-1728/5*x^11*c_3^3*c_4*c_6^3 - 2592/5*x^11*c_1*c_3^2*c_6^4 - 10368/5*x^10*c_3^2*c_4^2*c_6^3 - 23328/5*x^10*c_2*c_3^2*c_6^4 + 10368/5*x^10*c_1*c_3*c_4*c_6^4 - 254016/25*x^9*c_3^3*c_6^4 + 82944/25*x^9*c_2*c_3*c_4*c_6^4 - 383616/5*x^8*c_3^2*c_4*c_6^4 + 533952/25*x^8*c_1*c_3*c_6^5 - 5501952/125*x^7*c_3*c_4^2*c_6^4 + 7496064/125*x^7*c_2*c_3*c_6^5 - 62208/25*x^7*c_1*c_4*c_6^5 - 102394368/125*x^6*c_3^2*c_6^5 - 497664/125*x^6*c_2*c_4*c_6^5 - 1912467456/625*x^5*c_3*c_4*c_6^5 + 497664/25*x^5*c_1*c_6^6 + 34877952/625*x^4*c_4^2*c_6^5 + 9611136/625*x^4*c_2*c_6^6 - 253024798464/3125*x^3*c_3*c_6^6 + 7022889216/3125*x^2*c_4*c_6^6 + 526454982144/15625*c_6^7)/x^14)*u_3_0 + ((-1152/5*x^10*c_3^2*c_4^2*c_6^3 - 2592/5*x^10*c_2*c_3^2*c_6^4 + 1152/5*x^10*c_1*c_3*c_4*c_6^4 + 10368/25*x^8*c_3^2*c_4*c_6^4 - 1728/25*x^8*c_1*c_3*c_6^5 + 36864/25*x^7*c_3*c_4^2*c_6^4 + 31104/25*x^7*c_2*c_3*c_6^5 - 6912/25*x^7*c_1*c_4*c_6^5 + 500256/125*x^6*c_3^2*c_6^5 + 2370816/125*x^5*c_3*c_4*c_6^5 + 632448/125*x^5*c_1*c_6^6 - 179712/125*x^4*c_4^2*c_6^5 + 528768/125*x^4*c_2*c_6^6 + 31736448/125*x^3*c_3*c_6^6 - 16402176/125*x^2*c_4*c_6^6 - 3122188416/625*c_6^7)/x^10)*u_3_0*u_3_1 + ((-4608/25*x^5*c_3*c_4*c_6^5 - 3456/25*x^5*c_1*c_6^6 - 13824/125*x^3*c_3*c_6^6 - 55296/125*x^2*c_4*c_6^6 - 11985408/625*c_6^7)/x^5)*u_3_0*u_3_1*u_3_2 + (41472/125*c_6^7)*u_3_0*u_3_1*u_3_2*u_4_1 + (13824/125*c_6^7)*u_3_0*u_3_1*u_3_2^2 + ((3456/25*x^4*c_2*c_6^6 + 6912/125*x^2*c_4*c_6^6 + 1171584/625*c_6^7)/x^4)*u_3_0*u_3_1*u_3_3 + (10368/125*c_6^7)*u_3_0*u_3_1*u_3_3*u_4_0 + ((-2592/25*x^3*c_3*c_6^6 - 46656/125*c_6^7)/x^3)*u_3_0*u_3_1*u_3_4 + ((-1728/25*x^2*c_4*c_6^6 + 7776/125*c_6^7)/x^2)*u_3_0*u_3_1*u_3_5 - (6048/125*c_6^7)*u_3_0*u_3_1*u_3_7 + ((-7776/25*x^6*c_3^2*c_6^5 + 93312/125*x^3*c_3*c_6^6 - 41472/125*x^2*c_4*c_6^6 - 383616/625*c_6^7)/x^6)*u_3_0*u_3_1*u_4_0 - (10368/125*c_6^7)*u_3_0*u_3_1*u_4_0*u_4_2 + ((-10368/25*x^5*c_3*c_4*c_6^5 + 15552/125*x^3*c_3*c_6^6 + 89856/125*x^2*c_4*c_6^6 - 114048/25*c_6^7)/x^5)*u_3_0*u_3_1*u_4_1 - (10368/125*c_6^7)*u_3_0*u_3_1*u_4_1^2 + ((-3456/25*x^4*c_2*c_6^6 - 6912/125*x^2*c_4*c_6^6 - 238464/625*c_6^7)/x^4)*u_3_0*u_3_1*u_4_2 + ((-3456/25*x^3*c_3*c_6^6 + 67392/125*c_6^7)/x^3)*u_3_0*u_3_1*u_4_3 + ((1728/25*x^2*c_4*c_6^6 - 7776/125*c_6^7)/x^2)*u_3_0*u_3_1*u_4_4 + (6048/125*c_6^7)*u_3_0*u_3_1*u_4_6 + ((7776/25*x^6*c_3^2*c_6^5 - 93312/125*x^3*c_3*c_6^6 - 145152/125*x^2*c_4*c_6^6 + 2166912/125*c_6^7)/x^6)*u_3_0*u_3_1^2 + (10368/125*c_6^7)*u_3_0*u_3_1^2*u_4_2 + ((-6912/125*x^2*c_4*c_6^6 + 41472/625*c_6^7)/x^2)*u_3_0*u_3_1^3 + ((5184/5*x^9*c_3^3*c_6^4 - 2304/5*x^9*c_2*c_3*c_4*c_6^4 - 4608/25*x^7*c_3*c_4^2*c_6^4 + 3456/25*x^7*c_2*c_3*c_6^5 - 98496/25*x^6*c_3^2*c_6^5 + 13824/25*x^6*c_2*c_4*c_6^5 - 877824/125*x^5*c_3*c_4*c_6^5 - 31104/25*x^5*c_1*c_6^6 + 27648/125*x^4*c_4^2*c_6^5 - 767232/125*x^4*c_2*c_6^6 - 73789056/625*x^3*c_3*c_6^6 + 11031552/625*x^2*c_4*c_6^6 + 1623462912/3125*c_6^7)/x^9)*u_3_0*u_3_2 + ((-4896/25*x^3*c_3*c_6^6 - 3456/25*c_6^7)/x^3)*u_3_0*u_3_2*u_3_3 + ((-1728/25*x^2*c_4*c_6^6 + 7776/125*c_6^7)/x^2)*u_3_0*u_3_2*u_3_4 - (6048/125*c_6^7)*u_3_0*u_3_2*u_3_6 + ((-6912/25*x^5*c_3*c_4*c_6^5 + 10368/125*x^3*c_3*c_6^6 + 55296/125*x^2*c_4*c_6^6 - 1907712/625*c_6^7)/x^5)*u_3_0*u_3_2*u_4_0 - (10368/125*c_6^7)*u_3_0*u_3_2*u_4_0*u_4_1 + ((-3456/25*x^4*c_2*c_6^6 - 6912/125*x^2*c_4*c_6^6 + 1161216/625*c_6^7)/x^4)*u_3_0*u_3_2*u_4_1 + ((-10368/25*x^3*c_3*c_6^6 + 93312/125*c_6^7)/x^3)*u_3_0*u_3_2*u_4_2 + ((1728/25*x^2*c_4*c_6^6 - 7776/125*c_6^7)/x^2)*u_3_0*u_3_2*u_4_3 + (6048/125*c_6^7)*u_3_0*u_3_2*u_4_5 + ((3456/25*x^4*c_2*c_6^6 + 6912/125*x^2*c_4*c_6^6 + 1327104/625*c_6^7)/x^4)*u_3_0*u_3_2^2 + (10368/125*c_6^7)*u_3_0*u_3_2^2*u_4_0 + ((-2304/5*x^8*c_3^2*c_4*c_6^4 + 576/5*x^8*c_1*c_3*c_6^5 + 5616/25*x^6*c_3^2*c_6^5 + 79488/25*x^5*c_3*c_4*c_6^5 - 3456/25*x^5*c_1*c_6^6 + 31104/25*x^4*c_2*c_6^6 + 3981312/125*x^3*c_3*c_6^6 - 331776/125*x^2*c_4*c_6^6 - 5147712/625*c_6^7)/x^8)*u_3_0*u_3_3 + (93312/125*c_6^7/x^4)*u_3_0*u_3_3*u_4_0 + ((-12096/25*x^3*c_3*c_6^6 + 72576/125*c_6^7)/x^3)*u_3_0*u_3_3*u_4_1 + ((1152/5*x^7*c_3*c_4^2*c_6^4 - 1152/5*x^7*c_2*c_3*c_6^5 - 9216/25*x^5*c_3*c_4*c_6^5 - 6912/25*x^4*c_4^2*c_6^5 + 6912/25*x^4*c_2*c_6^6 - 732672/125*x^3*c_3*c_6^6 + 366336/125*x^2*c_4*c_6^6 + 196992/625*c_6^7)/x^7)*u_3_0*u_3_4 + ((-3456/25*x^3*c_3*c_6^6 + 20736/125*c_6^7)/x^3)*u_3_0*u_3_4*u_4_0 + ((-3024/25*x^6*c_3^2*c_6^5 + 165888/125*x^3*c_3*c_6^6 - 15552/25*x^2*c_4*c_6^6 - 536544/625*c_6^7)/x^6)*u_3_0*u_3_5 + ((6912/25*x^5*c_3*c_4*c_6^5 - 19008/125*x^3*c_3*c_6^6 - 41472/125*x^2*c_4*c_6^6 + 1202688/625*c_6^7)/x^5)*u_3_0*u_3_6 + ((-54432/125*c_6^7)/x^4)*u_3_0*u_3_7 + ((2016/25*x^3*c_3*c_6^6 - 12096/125*c_6^7)/x^3)*u_3_0*u_3_8 + ((-9216/25*x^7*c_3*c_4^2*c_6^4 - 69984/25*x^6*c_3^2*c_6^5 - 55296/25*x^5*c_3*c_4*c_6^5 + 55296/125*x^4*c_4^2*c_6^5 + 3182976/625*x^3*c_3*c_6^6 - 539136/125*x^2*c_4*c_6^6 - 14898816/3125*c_6^7)/x^10)*u_3_0*u_4_0 + ((6912/25*x^5*c_3*c_4*c_6^5 - 10368/125*x^3*c_3*c_6^6 - 41472/125*x^2*c_4*c_6^6 + 1928448/625*c_6^7)/x^5)*u_3_0*u_4_0*u_4_1 + ((-93312/125*c_6^7)/x^4)*u_3_0*u_4_0*u_4_2 + ((3456/25*x^3*c_3*c_6^6 - 20736/125*c_6^7)/x^3)*u_3_0*u_4_0*u_4_3 + ((-5184/5*x^9*c_3^3*c_6^4 + 2304/5*x^9*c_2*c_3*c_4*c_6^4 + 4608/25*x^7*c_3*c_4^2*c_6^4 - 3456/25*x^7*c_2*c_3*c_6^5 + 101088/25*x^6*c_3^2*c_6^5 - 13824/25*x^6*c_2*c_4*c_6^5 + 203904/125*x^5*c_3*c_4*c_6^5 - 27648/125*x^4*c_4^2*c_6^5 + 642816/125*x^4*c_2*c_6^6 - 2752704/625*x^3*c_3*c_6^6 + 1264896/625*x^2*c_4*c_6^6 + 6718464/3125*c_6^7)/x^9)*u_3_0*u_4_1 + ((10368/25*x^3*c_3*c_6^6 - 62208/125*c_6^7)/x^3)*u_3_0*u_4_1*u_4_2 + ((-93312/125*c_6^7)/x^4)*u_3_0*u_4_1^2 + ((-6912/5*x^5*c_3*c_4*c_6^5 - 31104/25*x^4*c_2*c_6^6 - 1233792/125*x^3*c_3*c_6^6 + 145152/125*x^2*c_4*c_6^6 - 4541184/625*c_6^7)/x^8)*u_3_0*u_4_2 + ((-1152/5*x^7*c_3*c_4^2*c_6^4 + 1152/5*x^7*c_2*c_3*c_6^5 + 9216/25*x^5*c_3*c_4*c_6^5 + 6912/25*x^4*c_4^2*c_6^5 - 6912/25*x^4*c_2*c_6^6 + 460512/125*x^3*c_3*c_6^6 - 366336/125*x^2*c_4*c_6^6 + 736128/625*c_6^7)/x^7)*u_3_0*u_4_3 + ((-20736/25*x^3*c_3*c_6^6 + 15552/25*x^2*c_4*c_6^6 + 54432/125*c_6^7)/x^6)*u_3_0*u_4_4 + ((-6912/25*x^5*c_3*c_4*c_6^5 + 19008/125*x^3*c_3*c_6^6 + 41472/125*x^2*c_4*c_6^6 - 1202688/625*c_6^7)/x^5)*u_3_0*u_4_5 + (54432/125*c_6^7/x^4)*u_3_0*u_4_6 + ((-2016/25*x^3*c_3*c_6^6 + 12096/125*c_6^7)/x^3)*u_3_0*u_4_7 + ((-10368/25*x^8*c_3^2*c_4*c_6^4 - 5184/25*x^8*c_1*c_3*c_6^5 - 41472/25*x^7*c_3*c_4^2*c_6^4 - 46656/25*x^7*c_2*c_3*c_6^5 + 10368/25*x^7*c_1*c_4*c_6^5 - 839808/125*x^6*c_3^2*c_6^5 + 82944/125*x^6*c_2*c_4*c_6^5 - 1254528/25*x^5*c_3*c_4*c_6^5 + 533952/125*x^5*c_1*c_6^6 - 4879872/625*x^4*c_4^2*c_6^5 + 7496064/625*x^4*c_2*c_6^6 - 361801728/625*x^3*c_3*c_6^6 - 1894427136/3125*x^2*c_4*c_6^6 - 253381250304/15625*c_6^7)/x^11)*u_3_0^2 + ((-4608/25*x^7*c_3*c_4^2*c_6^4 - 5184/25*x^7*c_2*c_3*c_6^5 + 1152/25*x^7*c_1*c_4*c_6^5 + 31104/125*x^5*c_3*c_4*c_6^5 - 1728/125*x^5*c_1*c_6^6 + 50688/125*x^4*c_4^2*c_6^5 + 31104/125*x^4*c_2*c_6^6 + 990144/625*x^3*c_3*c_6^6 + 1064448/625*x^2*c_4*c_6^6 + 92492928/3125*c_6^7)/x^7)*u_3_0^2*u_3_1 + ((2304/125*x^2*c_4*c_6^6 - 6912/125*c_6^7)/x^2)*u_3_0^2*u_3_1*u_3_2 + ((-15552/125*x^3*c_3*c_6^6 + 93312/625*c_6^7)/x^3)*u_3_0^2*u_3_1*u_4_0 + ((-10368/125*x^2*c_4*c_6^6 + 15552/625*c_6^7)/x^2)*u_3_0^2*u_3_1*u_4_1 - (3456/125*c_6^7)*u_3_0^2*u_3_1*u_4_3 + ((15552/125*x^3*c_3*c_6^6 - 93312/625*c_6^7)/x^3)*u_3_0^2*u_3_1^2 + ((15552/25*x^6*c_3^2*c_6^5 - 2304/25*x^6*c_2*c_4*c_6^5 - 4608/125*x^4*c_4^2*c_6^5 + 3456/125*x^4*c_2*c_6^6 - 196992/125*x^3*c_3*c_6^6 - 566784/625*x^2*c_4*c_6^6 - 63058176/3125*c_6^7)/x^6)*u_3_0^2*u_3_2 - (2304/125*c_6^7)*u_3_0^2*u_3_2*u_3_3 + ((-6912/125*x^2*c_4*c_6^6 + 10368/625*c_6^7)/x^2)*u_3_0^2*u_3_2*u_4_0 - (10368/125*c_6^7)*u_3_0^2*u_3_2*u_4_2 + ((-7488/25*x^5*c_3*c_4*c_6^5 + 576/25*x^5*c_1*c_6^6 + 3456/25*x^3*c_3*c_6^6 + 96768/125*x^2*c_4*c_6^6 + 3478464/625*c_6^7)/x^5)*u_3_0^2*u_3_3 - (12096/125*c_6^7)*u_3_0^2*u_3_3*u_4_1 + ((1152/25*x^4*c_4^2*c_6^5 - 1152/25*x^4*c_2*c_6^6 - 9216/125*x^2*c_4*c_6^6 - 616032/625*c_6^7)/x^4)*u_3_0^2*u_3_4 - (3456/125*c_6^7)*u_3_0^2*u_3_4*u_4_0 + ((-10368/125*x^3*c_3*c_6^6 + 191808/625*c_6^7)/x^3)*u_3_0^2*u_3_5 + ((6912/125*x^2*c_4*c_6^6 - 19008/625*c_6^7)/x^2)*u_3_0^2*u_3_6 + (2016/125*c_6^7)*u_3_0^2*u_3_8 + ((-9216/125*x^4*c_4^2*c_6^5 - 139968/125*x^3*c_3*c_6^6 - 55296/125*x^2*c_4*c_6^6 + 3182976/3125*c_6^7)/x^7)*u_3_0^2*u_4_0 + ((6912/125*x^2*c_4*c_6^6 - 10368/625*c_6^7)/x^2)*u_3_0^2*u_4_0*u_4_1 + (3456/125*c_6^7)*u_3_0^2*u_4_0*u_4_3 + ((-15552/25*x^6*c_3^2*c_6^5 + 2304/25*x^6*c_2*c_4*c_6^5 + 4608/125*x^4*c_4^2*c_6^5 - 3456/125*x^4*c_2*c_6^6 + 202176/125*x^3*c_3*c_6^6 + 203904/625*x^2*c_4*c_6^6 - 2752704/3125*c_6^7)/x^6)*u_3_0^2*u_4_1 + (10368/125*c_6^7)*u_3_0^2*u_4_1*u_4_2 + ((-6912/25*x^2*c_4*c_6^6 - 1233792/625*c_6^7)/x^5)*u_3_0^2*u_4_2 + ((-1152/25*x^4*c_4^2*c_6^5 + 1152/25*x^4*c_2*c_6^6 + 9216/125*x^2*c_4*c_6^6 + 460512/625*c_6^7)/x^4)*u_3_0^2*u_4_3 + ((-20736/125*c_6^7)/x^3)*u_3_0^2*u_4_4 + ((-6912/125*x^2*c_4*c_6^6 + 19008/625*c_6^7)/x^2)*u_3_0^2*u_4_5 - (2016/125*c_6^7)*u_3_0^2*u_4_7 + ((-20736/125*x^5*c_3*c_4*c_6^5 - 3456/125*x^5*c_1*c_6^6 - 41472/125*x^4*c_4^2*c_6^5 - 31104/125*x^4*c_2*c_6^6 - 1223424/625*x^3*c_3*c_6^6 - 1161216/125*x^2*c_4*c_6^6 - 69175296/625*c_6^7)/x^8)*u_3_0^3 + ((-4608/125*x^4*c_4^2*c_6^5 - 3456/125*x^4*c_2*c_6^6 + 27648/625*x^2*c_4*c_6^6 + 653184/3125*c_6^7)/x^4)*u_3_0^3*u_3_1 - (10368/625*c_6^7)*u_3_0^3*u_3_1*u_4_0 + (10368/625*c_6^7)*u_3_0^3*u_3_1^2 + ((20736/125*x^3*c_3*c_6^6 - 131328/625*c_6^7)/x^3)*u_3_0^3*u_3_2 + ((-6912/125*x^2*c_4*c_6^6 + 15552/625*c_6^7)/x^2)*u_3_0^3*u_3_3 - (9792/625*c_6^7)*u_3_0^3*u_3_5 + ((-93312/625*c_6^7)/x^4)*u_3_0^3*u_4_0 + ((-20736/125*x^3*c_3*c_6^6 + 134784/625*c_6^7)/x^3)*u_3_0^3*u_4_1 + ((-13824/625*x^2*c_4*c_6^6 - 663552/3125*c_6^7)/x^5)*u_3_0^4 + (10368/625*c_6^7)*u_3_0^4*u_3_2 - (10368/625*c_6^7)*u_3_0^4*u_4_1 + ((-432*x^13*c_2*c_3^3*c_6^3 + 288*x^13*c_1*c_3^2*c_4*c_6^3 + 864/5*x^11*c_3^3*c_4*c_6^3 - 432/5*x^11*c_1*c_3^2*c_6^4 + 1152*x^10*c_3^2*c_4^2*c_6^3 + 7776/5*x^10*c_2*c_3^2*c_6^4 - 3456/5*x^10*c_1*c_3*c_4*c_6^4 + 16848/5*x^9*c_3^3*c_6^4 + 919296/25*x^8*c_3^2*c_4*c_6^4 + 316224/25*x^8*c_1*c_3*c_6^5 - 13824/5*x^7*c_3*c_4^2*c_6^4 + 264384/25*x^7*c_2*c_3*c_6^5 + 10368/25*x^7*c_1*c_4*c_6^5 + 56217888/125*x^6*c_3^2*c_6^5 - 36433152/125*x^5*c_3*c_4*c_6^5 + 2317248/125*x^5*c_1*c_6^6 + 41472/25*x^4*c_4^2*c_6^5 + 2706048/125*x^4*c_2*c_6^6 - 7609422528/625*x^3*c_3*c_6^6 - 117386496/625*x^2*c_4*c_6^6 - 14360996736/3125*c_6^7)/x^13)*u_3_1 + ((-576*x^8*c_3^2*c_4*c_6^4 - 1728/5*x^8*c_1*c_3*c_6^5 + 1728/25*x^6*c_3^2*c_6^5 - 6912/25*x^5*c_3*c_4*c_6^5 + 10368/25*x^5*c_1*c_6^6 - 124416/25*x^4*c_2*c_6^6 - 6054912/125*x^3*c_3*c_6^6 - 20736/25*x^2*c_4*c_6^6 - 1181952/125*c_6^7)/x^8)*u_3_1*u_3_2 + ((-373248/125*c_6^7)/x^4)*u_3_1*u_3_2*u_4_0 + ((20736/25*x^3*c_3*c_6^6 - 124416/125*c_6^7)/x^3)*u_3_1*u_3_2*u_4_1 + ((6912/25*x^3*c_3*c_6^6 - 41472/125*c_6^7)/x^3)*u_3_1*u_3_2^2 + ((1728/5*x^7*c_2*c_3*c_6^5 + 3456/25*x^5*c_3*c_4*c_6^5 - 10368/25*x^4*c_2*c_6^6 + 1052352/125*x^3*c_3*c_6^6 - 20736/125*x^2*c_4*c_6^6 + 2083968/625*c_6^7)/x^7)*u_3_1*u_3_3 + ((5184/25*x^3*c_3*c_6^6 - 31104/125*c_6^7)/x^3)*u_3_1*u_3_3*u_4_0 + ((-1296/5*x^6*c_3^2*c_6^5 - 15552/25*x^3*c_3*c_6^6 + 62208/25*x^2*c_4*c_6^6 - 139968/125*c_6^7)/x^6)*u_3_1*u_3_4 + ((-864/5*x^5*c_3*c_4*c_6^5 + 3888/25*x^3*c_3*c_6^6 + 5184/25*x^2*c_4*c_6^6 - 23328/125*c_6^7)/x^5)*u_3_1*u_3_5 + (217728/125*c_6^7/x^4)*u_3_1*u_3_6 + ((-3024/25*x^3*c_3*c_6^6 + 18144/125*c_6^7)/x^3)*u_3_1*u_3_7 + ((-1296/5*x^9*c_3^3*c_6^4 + 23328/25*x^6*c_3^2*c_6^5 - 20736/25*x^5*c_3*c_4*c_6^5 - 191808/125*x^3*c_3*c_6^6 - 373248/125*x^2*c_4*c_6^6 - 31104/125*c_6^7)/x^9)*u_3_1*u_4_0 + (373248/125*c_6^7/x^4)*u_3_1*u_4_0*u_4_1 + ((-5184/25*x^3*c_3*c_6^6 + 31104/125*c_6^7)/x^3)*u_3_1*u_4_0*u_4_2 + ((-2592/5*x^8*c_3^2*c_4*c_6^4 + 3888/25*x^6*c_3^2*c_6^5 + 44928/25*x^5*c_3*c_4*c_6^5 + 124416/25*x^4*c_2*c_6^6 - 57024/5*x^3*c_3*c_6^6 + 72576/125*x^2*c_4*c_6^6 - 3996864/625*c_6^7)/x^8)*u_3_1*u_4_1 + ((-5184/25*x^3*c_3*c_6^6 + 31104/125*c_6^7)/x^3)*u_3_1*u_4_1^2 + ((-1728/5*x^7*c_2*c_3*c_6^5 - 3456/25*x^5*c_3*c_4*c_6^5 + 10368/25*x^4*c_2*c_6^6 - 119232/125*x^3*c_3*c_6^6 + 20736/125*x^2*c_4*c_6^6 - 4883328/625*c_6^7)/x^7)*u_3_1*u_4_2 + ((-864/5*x^6*c_3^2*c_6^5 + 33696/25*x^3*c_3*c_6^6 - 62208/25*x^2*c_4*c_6^6 + 108864/125*c_6^7)/x^6)*u_3_1*u_4_3 + ((864/5*x^5*c_3*c_4*c_6^5 - 3888/25*x^3*c_3*c_6^6 - 5184/25*x^2*c_4*c_6^6 + 23328/125*c_6^7)/x^5)*u_3_1*u_4_4 + ((-217728/125*c_6^7)/x^4)*u_3_1*u_4_5 + ((3024/25*x^3*c_3*c_6^6 - 18144/125*c_6^7)/x^3)*u_3_1*u_4_6 + ((1296/5*x^9*c_3^3*c_6^4 - 23328/25*x^6*c_3^2*c_6^5 + 114048/25*x^5*c_3*c_4*c_6^5 + 93312/25*x^5*c_1*c_6^6 + 248832/125*x^4*c_2*c_6^6 + 9523008/125*x^3*c_3*c_6^6 - 15572736/625*x^2*c_4*c_6^6 - 3047455872/3125*c_6^7)/x^9)*u_3_1^2 + ((-6912/25*x^4*c_2*c_6^6 - 13824/125*x^2*c_4*c_6^6 - 3276288/625*c_6^7)/x^4)*u_3_1^2*u_3_2 - (20736/125*c_6^7)*u_3_1^2*u_3_2*u_4_0 + ((5184/25*x^3*c_3*c_6^6 + 62208/125*c_6^7)/x^3)*u_3_1^2*u_3_3 + ((3456/25*x^2*c_4*c_6^6 - 15552/125*c_6^7)/x^2)*u_3_1^2*u_3_4 + (12096/125*c_6^7)*u_3_1^2*u_3_6 + ((-27648/125*x^2*c_4*c_6^6 - 41472/625*c_6^7)/x^5)*u_3_1^2*u_4_0 + (20736/125*c_6^7)*u_3_1^2*u_4_0*u_4_1 + ((6912/25*x^4*c_2*c_6^6 + 13824/125*x^2*c_4*c_6^6 - 2788992/625*c_6^7)/x^4)*u_3_1^2*u_4_1 + ((5184/25*x^3*c_3*c_6^6 - 93312/125*c_6^7)/x^3)*u_3_1^2*u_4_2 + ((-3456/25*x^2*c_4*c_6^6 + 15552/125*c_6^7)/x^2)*u_3_1^2*u_4_3 - (12096/125*c_6^7)*u_3_1^2*u_4_5 + ((3456/25*x^5*c_3*c_4*c_6^5 + 3456/25*x^5*c_1*c_6^6 + 48384/125*x^2*c_4*c_6^6 + 6759936/625*c_6^7)/x^5)*u_3_1^3 - (13824/125*c_6^7)*u_3_1^3*u_3_2 - (31104/125*c_6^7)*u_3_1^3*u_4_1 + ((648*x^12*c_3^4*c_6^3 - 576*x^12*c_2*c_3^2*c_4*c_6^3 - 1152/5*x^10*c_3^2*c_4^2*c_6^3 + 864/5*x^10*c_2*c_3^2*c_6^4 - 16416/5*x^9*c_3^3*c_6^4 + 6912/5*x^9*c_2*c_3*c_4*c_6^4 - 297216/25*x^8*c_3^2*c_4*c_6^4 - 15552/5*x^8*c_1*c_3*c_6^5 + 13824/25*x^7*c_3*c_4^2*c_6^4 - 383616/25*x^7*c_2*c_3*c_6^5 - 21129984/125*x^6*c_3^2*c_6^5 - 20736/25*x^6*c_2*c_4*c_6^5 + 6448896/125*x^5*c_3*c_4*c_6^5 + 93312/25*x^5*c_1*c_6^6 - 41472/125*x^4*c_4^2*c_6^5 - 528768/125*x^4*c_2*c_6^6 + 843924096/625*x^3*c_3*c_6^6 - 6718464/125*x^2*c_4*c_6^6 - 5112346752/3125*c_6^7)/x^12)*u_3_2 + ((-1872/5*x^6*c_3^2*c_6^5 - 864/25*x^3*c_3*c_6^6 + 72576/125*c_6^7)/x^6)*u_3_2*u_3_3 + ((-864/5*x^5*c_3*c_4*c_6^5 + 3888/25*x^3*c_3*c_6^6 + 5184/25*x^2*c_4*c_6^6 - 23328/125*c_6^7)/x^5)*u_3_2*u_3_4 + ((-3024/25*x^3*c_3*c_6^6 + 18144/125*c_6^7)/x^3)*u_3_2*u_3_6 + ((-1728/5*x^8*c_3^2*c_4*c_6^4 + 2592/25*x^6*c_3^2*c_6^5 + 27648/25*x^5*c_3*c_4*c_6^5 - 953856/125*x^3*c_3*c_6^6 - 20736/25*x^2*c_4*c_6^6 - 2768256/625*c_6^7)/x^8)*u_3_2*u_4_0 + ((-5184/25*x^3*c_3*c_6^6 + 31104/125*c_6^7)/x^3)*u_3_2*u_4_0*u_4_1 + ((-1728/5*x^7*c_2*c_3*c_6^5 - 3456/25*x^5*c_3*c_4*c_6^5 + 10368/25*x^4*c_2*c_6^6 + 580608/125*x^3*c_3*c_6^6 + 20736/125*x^2*c_4*c_6^6 - 3483648/625*c_6^7)/x^7)*u_3_2*u_4_1 + ((-2592/5*x^6*c_3^2*c_6^5 + 46656/25*x^3*c_3*c_6^6 - 186624/125*c_6^7)/x^6)*u_3_2*u_4_2 + ((864/5*x^5*c_3*c_4*c_6^5 - 3888/25*x^3*c_3*c_6^6 - 5184/25*x^2*c_4*c_6^6 + 23328/125*c_6^7)/x^5)*u_3_2*u_4_3 + ((3024/25*x^3*c_3*c_6^6 - 18144/125*c_6^7)/x^3)*u_3_2*u_4_5 + ((1728/5*x^7*c_2*c_3*c_6^5 + 3456/25*x^5*c_3*c_4*c_6^5 - 10368/25*x^4*c_2*c_6^6 + 663552/125*x^3*c_3*c_6^6 - 20736/125*x^2*c_4*c_6^6 - 3981312/625*c_6^7)/x^7)*u_3_2^2 + ((5184/25*x^3*c_3*c_6^6 - 31104/125*c_6^7)/x^3)*u_3_2^2*u_4_0 + ((-144*x^11*c_3^3*c_4*c_6^3 + 144*x^11*c_1*c_3^2*c_6^4 + 432/5*x^9*c_3^3*c_6^4 + 15552/5*x^8*c_3^2*c_4*c_6^4 - 1728/5*x^8*c_1*c_3*c_6^5 + 15552/5*x^7*c_2*c_3*c_6^5 + 224208/5*x^6*c_3^2*c_6^5 - 139968/25*x^5*c_3*c_4*c_6^5 + 5184/25*x^5*c_1*c_6^6 - 93312/25*x^4*c_2*c_6^6 - 1928448/125*x^3*c_3*c_6^6 + 62208/25*x^2*c_4*c_6^6 + 8911296/625*c_6^7)/x^11)*u_3_3 + ((46656/25*x^3*c_3*c_6^6 - 279936/125*c_6^7)/x^7)*u_3_3*u_4_0 + ((-3024/5*x^6*c_3^2*c_6^5 + 36288/25*x^3*c_3*c_6^6 - 108864/125*c_6^7)/x^6)*u_3_3*u_4_1 + ((288*x^10*c_3^2*c_4^2*c_6^3 - 288*x^10*c_2*c_3^2*c_6^4 - 2304/5*x^8*c_3^2*c_4*c_6^4 - 3456/5*x^7*c_3*c_4^2*c_6^4 + 3456/5*x^7*c_2*c_3*c_6^5 - 212328/25*x^6*c_3^2*c_6^5 + 183168/25*x^5*c_3*c_4*c_6^5 + 10368/25*x^4*c_4^2*c_6^5 - 10368/25*x^4*c_2*c_6^6 + 448416/125*x^3*c_3*c_6^6 + 383616/125*x^2*c_4*c_6^6 - 1345248/625*c_6^7)/x^10)*u_3_4 + ((-864/5*x^6*c_3^2*c_6^5 + 10368/25*x^3*c_3*c_6^6 - 31104/125*c_6^7)/x^6)*u_3_4*u_4_0 + ((-144/5*x^9*c_3^3*c_6^4 + 34992/25*x^6*c_3^2*c_6^5 - 7776/5*x^5*c_3*c_4*c_6^5 - 229392/125*x^3*c_3*c_6^6 + 46656/25*x^2*c_4*c_6^6 + 147744/625*c_6^7)/x^9)*u_3_5 + ((1728/5*x^8*c_3^2*c_4*c_6^4 - 4752/25*x^6*c_3^2*c_6^5 - 20736/25*x^5*c_3*c_4*c_6^5 + 601344/125*x^3*c_3*c_6^6 + 62208/125*x^2*c_4*c_6^6 + 1461888/625*c_6^7)/x^8)*u_3_6 + ((-27216/25*x^3*c_3*c_6^6 + 163296/125*c_6^7)/x^7)*u_3_7 + ((504/5*x^6*c_3^2*c_6^5 - 6048/25*x^3*c_3*c_6^6 + 18144/125*c_6^7)/x^6)*u_3_8 + ((-2304/5*x^10*c_3^2*c_4^2*c_6^3 - 11664/5*x^9*c_3^3*c_6^4 - 13824/5*x^8*c_3^2*c_4*c_6^4 + 27648/25*x^7*c_3*c_4^2*c_6^4 + 795744/125*x^6*c_3^2*c_6^5 - 269568/25*x^5*c_3*c_4*c_6^5 - 82944/125*x^4*c_4^2*c_6^5 - 7449408/625*x^3*c_3*c_6^6 - 124416/125*x^2*c_4*c_6^6 + 11850624/3125*c_6^7)/x^13)*u_4_0 + ((1728/5*x^8*c_3^2*c_4*c_6^4 - 2592/25*x^6*c_3^2*c_6^5 - 20736/25*x^5*c_3*c_4*c_6^5 + 964224/125*x^3*c_3*c_6^6 + 62208/125*x^2*c_4*c_6^6 + 2706048/625*c_6^7)/x^8)*u_4_0*u_4_1 + ((-46656/25*x^3*c_3*c_6^6 + 279936/125*c_6^7)/x^7)*u_4_0*u_4_2 + ((864/5*x^6*c_3^2*c_6^5 - 10368/25*x^3*c_3*c_6^6 + 31104/125*c_6^7)/x^6)*u_4_0*u_4_3 + ((-648*x^12*c_3^4*c_6^3 + 576*x^12*c_2*c_3^2*c_4*c_6^3 + 1152/5*x^10*c_3^2*c_4^2*c_6^3 - 864/5*x^10*c_2*c_3^2*c_6^4 + 16848/5*x^9*c_3^3*c_6^4 - 6912/5*x^9*c_2*c_3*c_4*c_6^4 + 50976/25*x^8*c_3^2*c_4*c_6^4 - 13824/25*x^7*c_3*c_4^2*c_6^4 + 321408/25*x^7*c_2*c_3*c_6^5 - 688176/125*x^6*c_3^2*c_6^5 + 20736/25*x^6*c_2*c_4*c_6^5 + 632448/125*x^5*c_3*c_4*c_6^5 + 41472/125*x^4*c_4^2*c_6^5 + 902016/125*x^4*c_2*c_6^6 + 3359232/625*x^3*c_3*c_6^6 - 31104/625*x^2*c_4*c_6^6 - 5178816/3125*c_6^7)/x^12)*u_4_1 + ((2592/5*x^6*c_3^2*c_6^5 - 31104/25*x^3*c_3*c_6^6 + 93312/125*c_6^7)/x^6)*u_4_1*u_4_2 + ((-46656/25*x^3*c_3*c_6^6 + 279936/125*c_6^7)/x^7)*u_4_1^2 + ((-1728*x^8*c_3^2*c_4*c_6^4 - 15552/5*x^7*c_2*c_3*c_6^5 - 308448/25*x^6*c_3^2*c_6^5 + 72576/25*x^5*c_3*c_4*c_6^5 + 93312/25*x^4*c_2*c_6^6 - 2270592/125*x^3*c_3*c_6^6 - 124416/125*x^2*c_4*c_6^6 - 93312/125*c_6^7)/x^11)*u_4_2 + ((-288*x^10*c_3^2*c_4^2*c_6^3 + 288*x^10*c_2*c_3^2*c_6^4 + 2304/5*x^8*c_3^2*c_4*c_6^4 + 3456/5*x^7*c_3*c_4^2*c_6^4 - 3456/5*x^7*c_2*c_3*c_6^5 + 115128/25*x^6*c_3^2*c_6^5 - 183168/25*x^5*c_3*c_4*c_6^5 - 10368/25*x^4*c_4^2*c_6^5 + 10368/25*x^4*c_2*c_6^6 + 368064/125*x^3*c_3*c_6^6 - 383616/125*x^2*c_4*c_6^6 - 54432/625*c_6^7)/x^10)*u_4_3 + ((-5184/5*x^6*c_3^2*c_6^5 + 7776/5*x^5*c_3*c_4*c_6^5 + 27216/25*x^3*c_3*c_6^6 - 46656/25*x^2*c_4*c_6^6 + 23328/125*c_6^7)/x^9)*u_4_4 + ((-1728/5*x^8*c_3^2*c_4*c_6^4 + 4752/25*x^6*c_3^2*c_6^5 + 20736/25*x^5*c_3*c_4*c_6^5 - 601344/125*x^3*c_3*c_6^6 - 62208/125*x^2*c_4*c_6^6 - 1461888/625*c_6^7)/x^8)*u_4_5 + ((27216/25*x^3*c_3*c_6^6 - 163296/125*c_6^7)/x^7)*u_4_6 + ((-504/5*x^6*c_3^2*c_6^5 + 6048/25*x^3*c_3*c_6^6 - 18144/125*c_6^7)/x^6)*u_4_7"
      ]
     },
     "execution_count": 50,
     "metadata": {},
     "output_type": "execute_result"
    }
   ],
   "source": [
    "val_u_5_eval[0]"
   ]
  },
  {
   "cell_type": "code",
   "execution_count": 115,
   "id": "430bed42-b340-451d-ad2d-bb92dce2f3e3",
   "metadata": {},
   "outputs": [],
   "source": [
    "K6_eval = [el(u_2=(-1/x^2)) for el in K6]\n",
    "FR = K6_eval[0].parent().remove_variables(\"z\")\n",
    "K6_eval = [FR(el) for el in K6_eval]"
   ]
  },
  {
   "cell_type": "code",
   "execution_count": 116,
   "id": "232378f5-1984-4788-9dfe-5d070ef4e74b",
   "metadata": {},
   "outputs": [],
   "source": [
    "simplified_system = DSystem(K6_eval, variables=[FR.2])"
   ]
  },
  {
   "cell_type": "code",
   "execution_count": 117,
   "id": "1e4e7ceb-5861-4a9c-9a0f-f14bce2a4755",
   "metadata": {},
   "outputs": [
    {
     "data": {
      "text/html": [
       "<html>\\(\\displaystyle \\left[48, 39, 25, 17\\right]\\)</html>"
      ],
      "text/latex": [
       "$\\displaystyle \\left[48, 39, 25, 17\\right]$"
      ],
      "text/plain": [
       "[48, 39, 25, 17]"
      ]
     },
     "execution_count": 117,
     "metadata": {},
     "output_type": "execute_result"
    }
   ],
   "source": [
    "### Some statistics\n",
    "[len(el.monomials()) for el in K6_eval]"
   ]
  },
  {
   "cell_type": "code",
   "execution_count": 119,
   "id": "f2c20b89-1e6f-436d-aa0f-00ad6e9d4d52",
   "metadata": {},
   "outputs": [
    {
     "name": "stdout",
     "output_type": "stream",
     "text": [
      "{u_3_*: ((8, 7, 6, 5), [[2, 2, 1, 1, 1, 1, 1, 0, 1], [2, 2, 2, 1, 1, 1, 0, 1], [2, 1, 1, 1, 1, 0, 1], [1, 2, 1, 1, 0, 1]]), u_4_*: ((7, 6, 5, 4), [[2, 1, 1, 1, 1, 1, 0, 1], [1, 2, 1, 1, 1, 0, 1], [1, 1, 1, 1, 0, 1], [1, 1, 1, 0, 1]]), u_5_*: ((6, 5, 4, 3), [[1, 1, 1, 1, 1, 0, 1], [1, 1, 1, 1, 0, 1], [1, 1, 1, 0, 1], [1, 1, 0, 1]])}\n"
     ]
    }
   ],
   "source": [
    "print({g : (tuple(el.order(g) for el in K6_eval), [[el.degree(g[i]) for i in range(el.order(g)+1)] for el in K6_eval]) for g in FR.gens()})"
   ]
  },
  {
   "cell_type": "code",
   "execution_count": 114,
   "id": "5067b3e9-a03f-42f1-a596-f226196de1f2",
   "metadata": {},
   "outputs": [
    {
     "ename": "KeyboardInterrupt",
     "evalue": "",
     "output_type": "error",
     "traceback": [
      "\u001b[0;31m---------------------------------------------------------------------------\u001b[0m",
      "\u001b[0;31mKeyboardInterrupt\u001b[0m                         Traceback (most recent call last)",
      "Cell \u001b[0;32mIn[114], line 1\u001b[0m\n\u001b[0;32m----> 1\u001b[0m S \u001b[38;5;241m=\u001b[39m \u001b[43mA\u001b[49m\u001b[38;5;241;43m.\u001b[39;49m\u001b[43msylvester_resultant\u001b[49m\u001b[43m(\u001b[49m\u001b[43mB\u001b[49m\u001b[43m,\u001b[49m\u001b[43m \u001b[49m\u001b[43mFR\u001b[49m\u001b[38;5;241;43m.\u001b[39;49m\u001b[43mgen\u001b[49m\u001b[43m(\u001b[49m\u001b[38;5;241;43m2\u001b[39;49m\u001b[43m)\u001b[49m\u001b[43m)\u001b[49m\n",
      "File \u001b[0;32m~/sage/local/var/lib/sage/venv-python3.11.1/lib/python3.11/site-packages/dalgebra/dpolynomial/dpolynomial.py:688\u001b[0m, in \u001b[0;36mDPolynomial.sylvester_resultant\u001b[0;34m(self, other, gen)\u001b[0m\n\u001b[1;32m    682\u001b[0m \u001b[38;5;28;01mdef\u001b[39;00m \u001b[38;5;21msylvester_resultant\u001b[39m(\u001b[38;5;28mself\u001b[39m, other : DPolynomial, gen: DMonomialGen \u001b[38;5;241m=\u001b[39m \u001b[38;5;28;01mNone\u001b[39;00m) \u001b[38;5;241m-\u001b[39m\u001b[38;5;241m>\u001b[39m DPolynomial:\n\u001b[1;32m    683\u001b[0m \u001b[38;5;250m    \u001b[39m\u001b[38;5;124mr\u001b[39m\u001b[38;5;124;03m'''\u001b[39;00m\n\u001b[1;32m    684\u001b[0m \u001b[38;5;124;03m        Method on an element to compute (if possible) the Sylvester resultant.\u001b[39;00m\n\u001b[1;32m    685\u001b[0m \n\u001b[1;32m    686\u001b[0m \u001b[38;5;124;03m        See :func:`~.dpolynomial.DPolynomialRing_Monoid.sylvester_resultant` for further information.\u001b[39;00m\n\u001b[1;32m    687\u001b[0m \u001b[38;5;124;03m    '''\u001b[39;00m\n\u001b[0;32m--> 688\u001b[0m     \u001b[38;5;28;01mreturn\u001b[39;00m \u001b[38;5;28;43mself\u001b[39;49m\u001b[38;5;241;43m.\u001b[39;49m\u001b[43mparent\u001b[49m\u001b[43m(\u001b[49m\u001b[43m)\u001b[49m\u001b[38;5;241;43m.\u001b[39;49m\u001b[43msylvester_resultant\u001b[49m\u001b[43m(\u001b[49m\u001b[38;5;28;43mself\u001b[39;49m\u001b[43m,\u001b[49m\u001b[43m \u001b[49m\u001b[43mother\u001b[49m\u001b[43m,\u001b[49m\u001b[43m \u001b[49m\u001b[43mgen\u001b[49m\u001b[43m)\u001b[49m\n",
      "File \u001b[0;32m~/sage/local/var/lib/sage/venv-python3.11.1/lib/python3.11/site-packages/dalgebra/dpolynomial/dpolynomial.py:1970\u001b[0m, in \u001b[0;36mDPolynomialRing_Monoid.sylvester_resultant\u001b[0;34m(self, P, Q, gen)\u001b[0m\n\u001b[1;32m   1899\u001b[0m \u001b[38;5;28;01mdef\u001b[39;00m \u001b[38;5;21msylvester_resultant\u001b[39m(\u001b[38;5;28mself\u001b[39m, P: DPolynomial, Q: DPolynomial, gen: DMonomialGen \u001b[38;5;241m=\u001b[39m \u001b[38;5;28;01mNone\u001b[39;00m) \u001b[38;5;241m-\u001b[39m\u001b[38;5;241m>\u001b[39m DPolynomial:\n\u001b[1;32m   1900\u001b[0m \u001b[38;5;250m    \u001b[39m\u001b[38;5;124mr\u001b[39m\u001b[38;5;124;03m'''\u001b[39;00m\n\u001b[1;32m   1901\u001b[0m \u001b[38;5;124;03m        Method to compute the Sylvester resultant of two operator polynomials.\u001b[39;00m\n\u001b[1;32m   1902\u001b[0m \n\u001b[0;32m   (...)\u001b[0m\n\u001b[1;32m   1968\u001b[0m \u001b[38;5;124;03m            IndexError: [sylvester_checking] Requested generator -1 but only 2 exist.\u001b[39;00m\n\u001b[1;32m   1969\u001b[0m \u001b[38;5;124;03m    '''\u001b[39;00m\n\u001b[0;32m-> 1970\u001b[0m     \u001b[38;5;28;01mreturn\u001b[39;00m \u001b[38;5;28mself\u001b[39m\u001b[38;5;241m.\u001b[39msylvester_matrix(P,Q,gen)\u001b[38;5;241m.\u001b[39mdeterminant()\n",
      "File \u001b[0;32m~/sage/src/sage/matrix/matrix2.pyx:2207\u001b[0m, in \u001b[0;36msage.matrix.matrix2.Matrix.determinant\u001b[0;34m()\u001b[0m\n\u001b[1;32m   2205\u001b[0m var = 'A0123456789' if isinstance(R, sage.rings.abc.SymbolicRing) else 'x'\n\u001b[1;32m   2206\u001b[0m try:\n\u001b[0;32m-> 2207\u001b[0m     charp = self.charpoly(var, algorithm=\"df\")\n\u001b[1;32m   2208\u001b[0m except ValueError:\n\u001b[1;32m   2209\u001b[0m     # Division free algorithm not supported, so we use whatever the default algorithm is.\n",
      "File \u001b[0;32m~/sage/src/sage/matrix/matrix2.pyx:3113\u001b[0m, in \u001b[0;36msage.matrix.matrix2.Matrix.charpoly\u001b[0;34m()\u001b[0m\n\u001b[1;32m   3111\u001b[0m     f = self._charpoly_hessenberg(var)\n\u001b[1;32m   3112\u001b[0m elif algorithm == \"df\":\n\u001b[0;32m-> 3113\u001b[0m     f = self._charpoly_df(var)\n\u001b[1;32m   3114\u001b[0m else:\n\u001b[1;32m   3115\u001b[0m     raise ValueError('algorithm must be \"hessenberg\" or \"df\"')\n",
      "File \u001b[0;32m~/sage/src/sage/matrix/matrix2.pyx:3252\u001b[0m, in \u001b[0;36msage.matrix.matrix2.Matrix._charpoly_df\u001b[0;34m()\u001b[0m\n\u001b[1;32m   3250\u001b[0m s = R.zero()\n\u001b[1;32m   3251\u001b[0m for j in range(t+1):\n\u001b[0;32m-> 3252\u001b[0m     s = s + M.get_unsafe(i, j) * a.get_unsafe(p-1, j)\n\u001b[1;32m   3253\u001b[0m a.set_unsafe(p, i, s)\n\u001b[1;32m   3254\u001b[0m \n",
      "File \u001b[0;32m~/sage/src/sage/structure/element.pyx:1218\u001b[0m, in \u001b[0;36msage.structure.element.Element.__add__\u001b[0;34m()\u001b[0m\n\u001b[1;32m   1216\u001b[0m cdef int cl = classify_elements(left, right)\n\u001b[1;32m   1217\u001b[0m if HAVE_SAME_PARENT(cl):\n\u001b[0;32m-> 1218\u001b[0m     return (<Element>left)._add_(right)\n\u001b[1;32m   1219\u001b[0m # Left and right are Sage elements => use coercion model\n\u001b[1;32m   1220\u001b[0m if BOTH_ARE_ELEMENT(cl):\n",
      "File \u001b[0;32m~/sage/src/sage/structure/element.pyx:1270\u001b[0m, in \u001b[0;36msage.structure.element.Element._add_\u001b[0;34m()\u001b[0m\n\u001b[1;32m   1268\u001b[0m         raise bin_op_exception('+', self, other)\n\u001b[1;32m   1269\u001b[0m     else:\n\u001b[0;32m-> 1270\u001b[0m         return python_op(other)\n\u001b[1;32m   1271\u001b[0m \n\u001b[1;32m   1272\u001b[0m cdef _add_long(self, long n):\n",
      "File \u001b[0;32m~/sage/local/var/lib/sage/venv-python3.11.1/lib/python3.11/site-packages/dalgebra/dpolynomial/dpolynomial.py:486\u001b[0m, in \u001b[0;36mDPolynomial._add_\u001b[0;34m(self, other)\u001b[0m\n\u001b[1;32m    484\u001b[0m \u001b[38;5;28;01mdef\u001b[39;00m \u001b[38;5;21m_add_\u001b[39m(\u001b[38;5;28mself\u001b[39m, other: DPolynomial) \u001b[38;5;241m-\u001b[39m\u001b[38;5;241m>\u001b[39m DPolynomial:\n\u001b[1;32m    485\u001b[0m     keys \u001b[38;5;241m=\u001b[39m \u001b[38;5;28mset\u001b[39m(\u001b[38;5;28mself\u001b[39m\u001b[38;5;241m.\u001b[39m_content\u001b[38;5;241m.\u001b[39mkeys())\u001b[38;5;241m.\u001b[39munion(other\u001b[38;5;241m.\u001b[39m_content\u001b[38;5;241m.\u001b[39mkeys())\n\u001b[0;32m--> 486\u001b[0m     \u001b[38;5;28;01mreturn\u001b[39;00m \u001b[38;5;28mself\u001b[39m\u001b[38;5;241m.\u001b[39mparent()\u001b[38;5;241m.\u001b[39melement_class(\u001b[38;5;28mself\u001b[39m\u001b[38;5;241m.\u001b[39mparent(), \u001b[43m{\u001b[49m\u001b[43mm\u001b[49m\u001b[43m \u001b[49m\u001b[43m:\u001b[49m\u001b[43m \u001b[49m\u001b[38;5;28;43mself\u001b[39;49m\u001b[38;5;241;43m.\u001b[39;49m\u001b[43m_content\u001b[49m\u001b[38;5;241;43m.\u001b[39;49m\u001b[43mget\u001b[49m\u001b[43m(\u001b[49m\u001b[43mm\u001b[49m\u001b[43m,\u001b[49m\u001b[38;5;28;43mself\u001b[39;49m\u001b[38;5;241;43m.\u001b[39;49m\u001b[43mparent\u001b[49m\u001b[43m(\u001b[49m\u001b[43m)\u001b[49m\u001b[38;5;241;43m.\u001b[39;49m\u001b[43mbase\u001b[49m\u001b[43m(\u001b[49m\u001b[43m)\u001b[49m\u001b[38;5;241;43m.\u001b[39;49m\u001b[43mzero\u001b[49m\u001b[43m(\u001b[49m\u001b[43m)\u001b[49m\u001b[43m)\u001b[49m\u001b[43m \u001b[49m\u001b[38;5;241;43m+\u001b[39;49m\u001b[43m \u001b[49m\u001b[43mother\u001b[49m\u001b[38;5;241;43m.\u001b[39;49m\u001b[43m_content\u001b[49m\u001b[38;5;241;43m.\u001b[39;49m\u001b[43mget\u001b[49m\u001b[43m(\u001b[49m\u001b[43mm\u001b[49m\u001b[43m,\u001b[49m\u001b[38;5;28;43mself\u001b[39;49m\u001b[38;5;241;43m.\u001b[39;49m\u001b[43mparent\u001b[49m\u001b[43m(\u001b[49m\u001b[43m)\u001b[49m\u001b[38;5;241;43m.\u001b[39;49m\u001b[43mbase\u001b[49m\u001b[43m(\u001b[49m\u001b[43m)\u001b[49m\u001b[38;5;241;43m.\u001b[39;49m\u001b[43mzero\u001b[49m\u001b[43m(\u001b[49m\u001b[43m)\u001b[49m\u001b[43m)\u001b[49m\u001b[43m \u001b[49m\u001b[38;5;28;43;01mfor\u001b[39;49;00m\u001b[43m \u001b[49m\u001b[43mm\u001b[49m\u001b[43m \u001b[49m\u001b[38;5;129;43;01min\u001b[39;49;00m\u001b[43m \u001b[49m\u001b[43mkeys\u001b[49m\u001b[43m}\u001b[49m)\n",
      "File \u001b[0;32m~/sage/local/var/lib/sage/venv-python3.11.1/lib/python3.11/site-packages/dalgebra/dpolynomial/dpolynomial.py:486\u001b[0m, in \u001b[0;36m<dictcomp>\u001b[0;34m(.0)\u001b[0m\n\u001b[1;32m    484\u001b[0m \u001b[38;5;28;01mdef\u001b[39;00m \u001b[38;5;21m_add_\u001b[39m(\u001b[38;5;28mself\u001b[39m, other: DPolynomial) \u001b[38;5;241m-\u001b[39m\u001b[38;5;241m>\u001b[39m DPolynomial:\n\u001b[1;32m    485\u001b[0m     keys \u001b[38;5;241m=\u001b[39m \u001b[38;5;28mset\u001b[39m(\u001b[38;5;28mself\u001b[39m\u001b[38;5;241m.\u001b[39m_content\u001b[38;5;241m.\u001b[39mkeys())\u001b[38;5;241m.\u001b[39munion(other\u001b[38;5;241m.\u001b[39m_content\u001b[38;5;241m.\u001b[39mkeys())\n\u001b[0;32m--> 486\u001b[0m     \u001b[38;5;28;01mreturn\u001b[39;00m \u001b[38;5;28mself\u001b[39m\u001b[38;5;241m.\u001b[39mparent()\u001b[38;5;241m.\u001b[39melement_class(\u001b[38;5;28mself\u001b[39m\u001b[38;5;241m.\u001b[39mparent(), {m : \u001b[38;5;28;43mself\u001b[39;49m\u001b[38;5;241;43m.\u001b[39;49m\u001b[43m_content\u001b[49m\u001b[38;5;241;43m.\u001b[39;49m\u001b[43mget\u001b[49m\u001b[43m(\u001b[49m\u001b[43mm\u001b[49m\u001b[43m,\u001b[49m\u001b[38;5;28;43mself\u001b[39;49m\u001b[38;5;241;43m.\u001b[39;49m\u001b[43mparent\u001b[49m\u001b[43m(\u001b[49m\u001b[43m)\u001b[49m\u001b[38;5;241;43m.\u001b[39;49m\u001b[43mbase\u001b[49m\u001b[43m(\u001b[49m\u001b[43m)\u001b[49m\u001b[38;5;241;43m.\u001b[39;49m\u001b[43mzero\u001b[49m\u001b[43m(\u001b[49m\u001b[43m)\u001b[49m\u001b[43m)\u001b[49m\u001b[43m \u001b[49m\u001b[38;5;241;43m+\u001b[39;49m\u001b[43m \u001b[49m\u001b[43mother\u001b[49m\u001b[38;5;241;43m.\u001b[39;49m\u001b[43m_content\u001b[49m\u001b[38;5;241;43m.\u001b[39;49m\u001b[43mget\u001b[49m\u001b[43m(\u001b[49m\u001b[43mm\u001b[49m\u001b[43m,\u001b[49m\u001b[38;5;28;43mself\u001b[39;49m\u001b[38;5;241;43m.\u001b[39;49m\u001b[43mparent\u001b[49m\u001b[43m(\u001b[49m\u001b[43m)\u001b[49m\u001b[38;5;241;43m.\u001b[39;49m\u001b[43mbase\u001b[49m\u001b[43m(\u001b[49m\u001b[43m)\u001b[49m\u001b[38;5;241;43m.\u001b[39;49m\u001b[43mzero\u001b[49m\u001b[43m(\u001b[49m\u001b[43m)\u001b[49m\u001b[43m)\u001b[49m \u001b[38;5;28;01mfor\u001b[39;00m m \u001b[38;5;129;01min\u001b[39;00m keys})\n",
      "File \u001b[0;32m~/sage/src/sage/structure/element.pyx:1218\u001b[0m, in \u001b[0;36msage.structure.element.Element.__add__\u001b[0;34m()\u001b[0m\n\u001b[1;32m   1216\u001b[0m cdef int cl = classify_elements(left, right)\n\u001b[1;32m   1217\u001b[0m if HAVE_SAME_PARENT(cl):\n\u001b[0;32m-> 1218\u001b[0m     return (<Element>left)._add_(right)\n\u001b[1;32m   1219\u001b[0m # Left and right are Sage elements => use coercion model\n\u001b[1;32m   1220\u001b[0m if BOTH_ARE_ELEMENT(cl):\n",
      "File \u001b[0;32m~/sage/src/sage/rings/fraction_field_element.pyx:643\u001b[0m, in \u001b[0;36msage.rings.fraction_field_element.FractionFieldElement._add_\u001b[0;34m()\u001b[0m\n\u001b[1;32m    641\u001b[0m else:\n\u001b[1;32m    642\u001b[0m     tden = self._denominator * sden\n\u001b[0;32m--> 643\u001b[0m     e    = tnum.gcd(d)\n\u001b[1;32m    644\u001b[0m     if not e.is_unit():\n\u001b[1;32m    645\u001b[0m         tnum = tnum // e\n",
      "File \u001b[0;32m~/sage/local/var/lib/sage/venv-python3.11.1/lib/python3.11/site-packages/dalgebra/dring.py:1061\u001b[0m, in \u001b[0;36mDRing_WrapperElement.gcd\u001b[0;34m(self, other)\u001b[0m\n\u001b[1;32m   1059\u001b[0m     other \u001b[38;5;241m=\u001b[39m \u001b[38;5;28mself\u001b[39m\u001b[38;5;241m.\u001b[39mparent()(other) \u001b[38;5;66;03m# trying to cast other to be in ``self.parent()``\u001b[39;00m\n\u001b[1;32m   1060\u001b[0m     g \u001b[38;5;241m=\u001b[39m \u001b[38;5;28mself\u001b[39m\u001b[38;5;241m.\u001b[39mwrapped\u001b[38;5;241m.\u001b[39mgcd(other\u001b[38;5;241m.\u001b[39mwrapped) \u001b[38;5;66;03m# computing gcd in the wrapped level\u001b[39;00m\n\u001b[0;32m-> 1061\u001b[0m     \u001b[38;5;28;01mreturn\u001b[39;00m \u001b[38;5;28mself\u001b[39m\u001b[38;5;241m.\u001b[39mparent()\u001b[38;5;241m.\u001b[39melement_class(\u001b[38;5;28mself\u001b[39m\u001b[38;5;241m.\u001b[39mparent(), g)\n\u001b[1;32m   1062\u001b[0m \u001b[38;5;28;01mexcept\u001b[39;00m \u001b[38;5;167;01mAttributeError\u001b[39;00m:\n\u001b[1;32m   1063\u001b[0m     \u001b[38;5;28;01mraise\u001b[39;00m \u001b[38;5;167;01mAttributeError\u001b[39;00m(\u001b[38;5;124mf\u001b[39m\u001b[38;5;124m\"\u001b[39m\u001b[38;5;124m[DRing] Wrapped element \u001b[39m\u001b[38;5;132;01m{\u001b[39;00m\u001b[38;5;28mself\u001b[39m\u001b[38;5;241m.\u001b[39mwrapped\u001b[38;5;132;01m}\u001b[39;00m\u001b[38;5;124m do no have method `gcd`\u001b[39m\u001b[38;5;124m\"\u001b[39m)\n",
      "File \u001b[0;32msrc/cysignals/signals.pyx:341\u001b[0m, in \u001b[0;36mcysignals.signals.python_check_interrupt\u001b[0;34m()\u001b[0m\n",
      "\u001b[0;31mKeyboardInterrupt\u001b[0m: "
     ]
    }
   ],
   "source": [
    "S = A.sylvester_resultant(B, FR.2)"
   ]
  },
  {
   "cell_type": "markdown",
   "id": "462fb4ae-bc82-4c7c-93bd-55aaa4b63115",
   "metadata": {},
   "source": [
    "### **Looking for specific solutions**"
   ]
  },
  {
   "cell_type": "markdown",
   "id": "2cbd8be2-c242-45b9-bbeb-a9710bcebc6b",
   "metadata": {},
   "source": [
    "##### Generic case"
   ]
  },
  {
   "cell_type": "markdown",
   "id": "98a3ebc2-4c08-47b9-bee3-033c73de980b",
   "metadata": {},
   "source": [
    "The first attemp here is to look for solutions of a specific shape. For example, let $x$ be a transcendental element such that $\\partial(x) = 1$ and assume the weight of $x$ is $-1$ (so it satisfies that the derivative increases the weight by 1). Then we will see that, for $u_2$ to have weight equal to 2, we need that\n",
    "$$u_2 = \\frac{c+xp(x)}{x^2 (d + xq(x))},$$\n",
    "where $c,d \\in \\mathbb{C}^*$ and $p(x), q(x) \\in \\mathbb{C}[x]$."
   ]
  },
  {
   "cell_type": "code",
   "execution_count": 30,
   "id": "0e8ff2e3-0897-4fdc-9775-679951f1fbda",
   "metadata": {},
   "outputs": [],
   "source": [
    "C = K6[0].parent().base().gens()\n",
    "d = 2; n = 5\n",
    "A = [f\"a_{i}_{j}\" for i in range(2,n+1) for j in range(d+1)]\n",
    "R = DifferentialRing(QQ[x,*A,*C], [1] + len(A)*[0] + len(C)*[0]).fraction_field()\n",
    "A = [R(a) for a in A]\n",
    "A = [A[i:i + d+1] for i in range(0, len(A), d+1)]\n",
    "x = R.gens()[0]"
   ]
  },
  {
   "cell_type": "code",
   "execution_count": 31,
   "id": "f39b03a1-9e9f-4ef7-a2cc-98231cef9478",
   "metadata": {},
   "outputs": [
    {
     "data": {
      "text/html": [
       "<html>\\(\\displaystyle \\left[\\left[a_{2_{0}}, a_{2_{1}}, a_{2_{2}}\\right], \\left[a_{3_{0}}, a_{3_{1}}, a_{3_{2}}\\right], \\left[a_{4_{0}}, a_{4_{1}}, a_{4_{2}}\\right], \\left[a_{5_{0}}, a_{5_{1}}, a_{5_{2}}\\right]\\right]\\)</html>"
      ],
      "text/latex": [
       "$\\displaystyle \\left[\\left[a_{2_{0}}, a_{2_{1}}, a_{2_{2}}\\right], \\left[a_{3_{0}}, a_{3_{1}}, a_{3_{2}}\\right], \\left[a_{4_{0}}, a_{4_{1}}, a_{4_{2}}\\right], \\left[a_{5_{0}}, a_{5_{1}}, a_{5_{2}}\\right]\\right]$"
      ],
      "text/plain": [
       "[[a_2_0, a_2_1, a_2_2],\n",
       " [a_3_0, a_3_1, a_3_2],\n",
       " [a_4_0, a_4_1, a_4_2],\n",
       " [a_5_0, a_5_1, a_5_2]]"
      ]
     },
     "execution_count": 31,
     "metadata": {},
     "output_type": "execute_result"
    }
   ],
   "source": [
    "A"
   ]
  },
  {
   "cell_type": "code",
   "execution_count": 23,
   "id": "36a249cc-3d07-4904-88af-860df3ca1941",
   "metadata": {},
   "outputs": [
    {
     "data": {
      "text/html": [
       "<html>\\(\\displaystyle \\left\\{{u_2}_{(*)} : \\frac{-x^{2} a_{2_{2}} - x a_{2_{1}} - a_{2_{0}}}{x^{2}}, {u_3}_{(*)} : \\frac{x^{2} a_{3_{2}} + x a_{3_{1}} + a_{3_{0}}}{x^{3}}, {u_4}_{(*)} : \\frac{-x^{2} a_{4_{2}} - x a_{4_{1}} - a_{4_{0}}}{x^{4}}, {u_5}_{(*)} : \\frac{x^{2} a_{5_{2}} + x a_{5_{1}} + a_{5_{0}}}{x^{5}}\\right\\}\\)</html>"
      ],
      "text/latex": [
       "$\\displaystyle \\left\\{{u_2}_{(*)} : \\frac{-x^{2} a_{2_{2}} - x a_{2_{1}} - a_{2_{0}}}{x^{2}}, {u_3}_{(*)} : \\frac{x^{2} a_{3_{2}} + x a_{3_{1}} + a_{3_{0}}}{x^{3}}, {u_4}_{(*)} : \\frac{-x^{2} a_{4_{2}} - x a_{4_{1}} - a_{4_{0}}}{x^{4}}, {u_5}_{(*)} : \\frac{x^{2} a_{5_{2}} + x a_{5_{1}} + a_{5_{0}}}{x^{5}}\\right\\}$"
      ],
      "text/plain": [
       "{u_2_*: (-x^2*a_2_2 - x*a_2_1 - a_2_0)/x^2,\n",
       " u_3_*: (x^2*a_3_2 + x*a_3_1 + a_3_0)/x^3,\n",
       " u_4_*: (-x^2*a_4_2 - x*a_4_1 - a_4_0)/x^4,\n",
       " u_5_*: (x^2*a_5_2 + x*a_5_1 + a_5_0)/x^5}"
      ]
     },
     "execution_count": 23,
     "metadata": {},
     "output_type": "execute_result"
    }
   ],
   "source": [
    "u = L.parent().gens()[:4]\n",
    "U = {u[i]: (-1)^(i+1)*(sum(a*x^j for (j,a) in enumerate(A[i]))/x^(i+2)) for i in range(len(u))}\n",
    "U"
   ]
  },
  {
   "cell_type": "code",
   "execution_count": 24,
   "id": "4ee8de11-5be5-458d-9edf-cd00cf120aed",
   "metadata": {},
   "outputs": [],
   "source": [
    "numerators = [(k(dic=U).coefficients()[0]).numerator().wrapped for k in K6]\n",
    "B = numerators[0].parent()\n",
    "X = B.0"
   ]
  },
  {
   "cell_type": "code",
   "execution_count": 31,
   "id": "3e54e45f-599f-4bec-a491-2d24aad6122f",
   "metadata": {},
   "outputs": [],
   "source": [
    "equations = sum((numerator.polynomial(X).coefficients() for numerator in numerators), [])\n",
    "equations.sort(key=lambda k: len(k.coefficients()))"
   ]
  },
  {
   "cell_type": "code",
   "execution_count": 164,
   "id": "141ad151-7736-483d-99b1-7e2bb9faa9dd",
   "metadata": {},
   "outputs": [],
   "source": [
    "I = ideal(equations)\n",
    "solution = {\"c_6\": 1, \"c_5\": 0, \"c_0\": 0} # basic solution to start\n",
    "# solution.update({\"a_2_0\": 1, \"a_2_1\": 0, \"a_2_2\": 0}) # solutions with u_2 = -1/x^2 # NO SOLUTION\n",
    "# solution.update({\"a_2_0\": 1, \"a_2_1\": 0}) # solutions with u_2 = (-1+c*x^2)/x^2 # NO SOLUTION\n",
    "# solution.update({\"a_2_0\": 1, \"a_2_2\": 0}) # solutions with u_2 = (-1+c*x)/x^2 # NO SOLUTION\n",
    "# solution.update({\"a_2_0\": 0}) # "
   ]
  },
  {
   "cell_type": "code",
   "execution_count": 165,
   "id": "cc63aea9-13f1-46db-99d0-58ac70855110",
   "metadata": {},
   "outputs": [
    {
     "data": {
      "text/html": [
       "<html>\\(\\displaystyle \\left[\\left[a_{2_{0}}, a_{2_{1}}, a_{2_{2}}\\right], \\left[a_{3_{0}}, a_{3_{1}}, a_{3_{2}}\\right], \\left[a_{4_{0}}, a_{4_{1}}, a_{4_{2}}\\right], \\left[a_{5_{0}}, a_{5_{1}}, a_{5_{2}}\\right]\\right]\\)</html>"
      ],
      "text/latex": [
       "$\\displaystyle \\left[\\left[a_{2_{0}}, a_{2_{1}}, a_{2_{2}}\\right], \\left[a_{3_{0}}, a_{3_{1}}, a_{3_{2}}\\right], \\left[a_{4_{0}}, a_{4_{1}}, a_{4_{2}}\\right], \\left[a_{5_{0}}, a_{5_{1}}, a_{5_{2}}\\right]\\right]$"
      ],
      "text/plain": [
       "[[a_2_0, a_2_1, a_2_2],\n",
       " [a_3_0, a_3_1, a_3_2],\n",
       " [a_4_0, a_4_1, a_4_2],\n",
       " [a_5_0, a_5_1, a_5_2]]"
      ]
     },
     "execution_count": 165,
     "metadata": {},
     "output_type": "execute_result"
    }
   ],
   "source": [
    "A"
   ]
  },
  {
   "cell_type": "code",
   "execution_count": null,
   "id": "1f7f3b60-e277-4f34-8177-52e1ad47d7f6",
   "metadata": {},
   "outputs": [],
   "source": [
    "I.elimination_ideal(A[0][0])"
   ]
  },
  {
   "cell_type": "code",
   "execution_count": 166,
   "id": "0e6cd491-970e-4eee-836a-96e5d0f77e72",
   "metadata": {},
   "outputs": [],
   "source": [
    "I = ideal(el(**solution) for el in equations)"
   ]
  },
  {
   "cell_type": "code",
   "execution_count": 158,
   "id": "53b4f236-3e23-4532-a713-00f55e3ba5ea",
   "metadata": {},
   "outputs": [
    {
     "data": {
      "text/html": [
       "<html>\\(\\displaystyle \\left[a_{2_{1}}, a_{3_{0}}, a_{3_{1}}, a_{3_{2}}, a_{4_{0}}, a_{4_{1}}, a_{4_{2}}, a_{5_{0}}, a_{5_{1}}, a_{5_{2}}\\right]\\)</html>"
      ],
      "text/latex": [
       "$\\displaystyle \\left[a_{2_{1}}, a_{3_{0}}, a_{3_{1}}, a_{3_{2}}, a_{4_{0}}, a_{4_{1}}, a_{4_{2}}, a_{5_{0}}, a_{5_{1}}, a_{5_{2}}\\right]$"
      ],
      "text/plain": [
       "[a_2_1, a_3_0, a_3_1, a_3_2, a_4_0, a_4_1, a_4_2, a_5_0, a_5_1, a_5_2]"
      ]
     },
     "execution_count": 158,
     "metadata": {},
     "output_type": "execute_result"
    }
   ],
   "source": [
    "ideal(el(**solution) for el in equations).groebner_basis()"
   ]
  },
  {
   "cell_type": "code",
   "execution_count": 153,
   "id": "16cd4bd8-3eef-4e1e-8d58-911bfba862aa",
   "metadata": {},
   "outputs": [
    {
     "data": {
      "text/html": [
       "<html>\\(\\displaystyle 0 \\longrightarrow \\left(-\\frac{1}{125}\\right) \\cdot (-36 a_{2_{1}} a_{2_{2}}^{3} + 60 a_{2_{1}} a_{2_{2}}^{2} c_{4} + 150 a_{2_{1}} a_{2_{2}} c_{2} - 150 a_{2_{2}} a_{3_{2}} c_{3} - 125 a_{3_{2}} c_{1})\\)</html>"
      ],
      "text/latex": [
       "$\\displaystyle 0 \\longrightarrow \\left(-\\frac{1}{125}\\right) \\cdot (-36 a_{2_{1}} a_{2_{2}}^{3} + 60 a_{2_{1}} a_{2_{2}}^{2} c_{4} + 150 a_{2_{1}} a_{2_{2}} c_{2} - 150 a_{2_{2}} a_{3_{2}} c_{3} - 125 a_{3_{2}} c_{1})$"
      ],
      "text/plain": [
       "0 \\longrightarrow \\left(-\\frac{1}{125}\\right) \\cdot (-36 a_{2_{1}} a_{2_{2}}^{3} + 60 a_{2_{1}} a_{2_{2}}^{2} c_{4} + 150 a_{2_{1}} a_{2_{2}} c_{2} - 150 a_{2_{2}} a_{3_{2}} c_{3} - 125 a_{3_{2}} c_{1})"
      ]
     },
     "metadata": {},
     "output_type": "display_data"
    },
    {
     "data": {
      "text/html": [
       "<html>\\(\\displaystyle 1 \\longrightarrow \\left(\\frac{1}{25}\\right) \\cdot (-12 a_{2_{2}}^{2} a_{3_{2}} - 30 a_{2_{1}} a_{2_{2}} c_{3} + 20 a_{2_{2}} a_{3_{2}} c_{4} - 25 a_{2_{1}} c_{1} + 50 a_{3_{2}} c_{2})\\)</html>"
      ],
      "text/latex": [
       "$\\displaystyle 1 \\longrightarrow \\left(\\frac{1}{25}\\right) \\cdot (-12 a_{2_{2}}^{2} a_{3_{2}} - 30 a_{2_{1}} a_{2_{2}} c_{3} + 20 a_{2_{2}} a_{3_{2}} c_{4} - 25 a_{2_{1}} c_{1} + 50 a_{3_{2}} c_{2})$"
      ],
      "text/plain": [
       "1 \\longrightarrow \\left(\\frac{1}{25}\\right) \\cdot (-12 a_{2_{2}}^{2} a_{3_{2}} - 30 a_{2_{1}} a_{2_{2}} c_{3} + 20 a_{2_{2}} a_{3_{2}} c_{4} - 25 a_{2_{1}} c_{1} + 50 a_{3_{2}} c_{2})"
      ]
     },
     "metadata": {},
     "output_type": "display_data"
    },
    {
     "data": {
      "text/html": [
       "<html>\\(\\displaystyle 2 \\longrightarrow \\left(\\frac{2}{125}\\right) \\cdot (-36 a_{2_{1}} a_{2_{2}}^{3} - 12 a_{2_{1}} a_{2_{2}}^{2} a_{3_{2}} + 60 a_{2_{1}} a_{2_{2}}^{2} c_{4} + 20 a_{2_{1}} a_{2_{2}} a_{3_{2}} c_{4} + 150 a_{2_{1}} a_{2_{2}} c_{2} + 50 a_{2_{1}} a_{3_{2}} c_{2} - 225 a_{2_{2}} a_{3_{2}} c_{3} - 75 a_{3_{2}}^{2} c_{3} + 75 a_{2_{2}} a_{4_{2}} c_{3} - 125 a_{4_{2}} c_{1})\\)</html>"
      ],
      "text/latex": [
       "$\\displaystyle 2 \\longrightarrow \\left(\\frac{2}{125}\\right) \\cdot (-36 a_{2_{1}} a_{2_{2}}^{3} - 12 a_{2_{1}} a_{2_{2}}^{2} a_{3_{2}} + 60 a_{2_{1}} a_{2_{2}}^{2} c_{4} + 20 a_{2_{1}} a_{2_{2}} a_{3_{2}} c_{4} + 150 a_{2_{1}} a_{2_{2}} c_{2} + 50 a_{2_{1}} a_{3_{2}} c_{2} - 225 a_{2_{2}} a_{3_{2}} c_{3} - 75 a_{3_{2}}^{2} c_{3} + 75 a_{2_{2}} a_{4_{2}} c_{3} - 125 a_{4_{2}} c_{1})$"
      ],
      "text/plain": [
       "2 \\longrightarrow \\left(\\frac{2}{125}\\right) \\cdot (-36 a_{2_{1}} a_{2_{2}}^{3} - 12 a_{2_{1}} a_{2_{2}}^{2} a_{3_{2}} + 60 a_{2_{1}} a_{2_{2}}^{2} c_{4} + 20 a_{2_{1}} a_{2_{2}} a_{3_{2}} c_{4} + 150 a_{2_{1}} a_{2_{2}} c_{2} + 50 a_{2_{1}} a_{3_{2}} c_{2} - 225 a_{2_{2}} a_{3_{2}} c_{3} - 75 a_{3_{2}}^{2} c_{3} + 75 a_{2_{2}} a_{4_{2}} c_{3} - 125 a_{4_{2}} c_{1})"
      ]
     },
     "metadata": {},
     "output_type": "display_data"
    },
    {
     "data": {
      "text/html": [
       "<html>\\(\\displaystyle 3 \\longrightarrow \\left(-\\frac{42}{25}\\right) \\cdot (-6 a_{2_{0}}^{3} + 2 a_{2_{0}}^{2} a_{3_{0}} + 240 a_{2_{0}}^{2} - 25 a_{2_{0}} a_{3_{0}} - 15 a_{3_{0}}^{2} - 25 a_{2_{0}} a_{4_{0}} + 5 a_{3_{0}} a_{4_{0}} + 5 a_{2_{0}} a_{5_{0}} - 2400 a_{2_{0}} + 300 a_{3_{0}} + 500 a_{4_{0}} - 250 a_{5_{0}})\\)</html>"
      ],
      "text/latex": [
       "$\\displaystyle 3 \\longrightarrow \\left(-\\frac{42}{25}\\right) \\cdot (-6 a_{2_{0}}^{3} + 2 a_{2_{0}}^{2} a_{3_{0}} + 240 a_{2_{0}}^{2} - 25 a_{2_{0}} a_{3_{0}} - 15 a_{3_{0}}^{2} - 25 a_{2_{0}} a_{4_{0}} + 5 a_{3_{0}} a_{4_{0}} + 5 a_{2_{0}} a_{5_{0}} - 2400 a_{2_{0}} + 300 a_{3_{0}} + 500 a_{4_{0}} - 250 a_{5_{0}})$"
      ],
      "text/plain": [
       "3 \\longrightarrow \\left(-\\frac{42}{25}\\right) \\cdot (-6 a_{2_{0}}^{3} + 2 a_{2_{0}}^{2} a_{3_{0}} + 240 a_{2_{0}}^{2} - 25 a_{2_{0}} a_{3_{0}} - 15 a_{3_{0}}^{2} - 25 a_{2_{0}} a_{4_{0}} + 5 a_{3_{0}} a_{4_{0}} + 5 a_{2_{0}} a_{5_{0}} - 2400 a_{2_{0}} + 300 a_{3_{0}} + 500 a_{4_{0}} - 250 a_{5_{0}})"
      ]
     },
     "metadata": {},
     "output_type": "display_data"
    },
    {
     "data": {
      "text/html": [
       "<html>\\(\\displaystyle 4 \\longrightarrow \\left(\\frac{2}{25}\\right) \\cdot (18 a_{2_{1}} a_{2_{2}}^{2} - 12 a_{2_{2}}^{2} a_{3_{1}} - 24 a_{2_{1}} a_{2_{2}} a_{3_{2}} - 15 a_{2_{1}}^{2} c_{3} - 30 a_{2_{0}} a_{2_{2}} c_{3} - 30 a_{2_{1}} a_{2_{2}} c_{4} + 20 a_{2_{2}} a_{3_{1}} c_{4} + 20 a_{2_{1}} a_{3_{2}} c_{4} - 25 a_{2_{0}} c_{1} - 75 a_{2_{1}} c_{2} + 50 a_{3_{1}} c_{2} + 75 a_{3_{2}} c_{3} - 75 a_{4_{2}} c_{3})\\)</html>"
      ],
      "text/latex": [
       "$\\displaystyle 4 \\longrightarrow \\left(\\frac{2}{25}\\right) \\cdot (18 a_{2_{1}} a_{2_{2}}^{2} - 12 a_{2_{2}}^{2} a_{3_{1}} - 24 a_{2_{1}} a_{2_{2}} a_{3_{2}} - 15 a_{2_{1}}^{2} c_{3} - 30 a_{2_{0}} a_{2_{2}} c_{3} - 30 a_{2_{1}} a_{2_{2}} c_{4} + 20 a_{2_{2}} a_{3_{1}} c_{4} + 20 a_{2_{1}} a_{3_{2}} c_{4} - 25 a_{2_{0}} c_{1} - 75 a_{2_{1}} c_{2} + 50 a_{3_{1}} c_{2} + 75 a_{3_{2}} c_{3} - 75 a_{4_{2}} c_{3})$"
      ],
      "text/plain": [
       "4 \\longrightarrow \\left(\\frac{2}{25}\\right) \\cdot (18 a_{2_{1}} a_{2_{2}}^{2} - 12 a_{2_{2}}^{2} a_{3_{1}} - 24 a_{2_{1}} a_{2_{2}} a_{3_{2}} - 15 a_{2_{1}}^{2} c_{3} - 30 a_{2_{0}} a_{2_{2}} c_{3} - 30 a_{2_{1}} a_{2_{2}} c_{4} + 20 a_{2_{2}} a_{3_{1}} c_{4} + 20 a_{2_{1}} a_{3_{2}} c_{4} - 25 a_{2_{0}} c_{1} - 75 a_{2_{1}} c_{2} + 50 a_{3_{1}} c_{2} + 75 a_{3_{2}} c_{3} - 75 a_{4_{2}} c_{3})"
      ]
     },
     "metadata": {},
     "output_type": "display_data"
    },
    {
     "data": {
      "text/html": [
       "<html>\\(\\displaystyle 5 \\longrightarrow \\left(-\\frac{1}{125}\\right) \\cdot (-72 a_{2_{1}} a_{2_{2}}^{3} - 24 a_{2_{1}} a_{2_{2}}^{2} a_{3_{2}} - 12 a_{2_{1}} a_{2_{2}}^{2} a_{4_{2}} + 120 a_{2_{1}} a_{2_{2}}^{2} c_{4} + 40 a_{2_{1}} a_{2_{2}} a_{3_{2}} c_{4} + 20 a_{2_{1}} a_{2_{2}} a_{4_{2}} c_{4} + 300 a_{2_{1}} a_{2_{2}} c_{2} + 100 a_{2_{1}} a_{3_{2}} c_{2} + 50 a_{2_{1}} a_{4_{2}} c_{2} - 450 a_{2_{2}} a_{3_{2}} c_{3} - 150 a_{3_{2}}^{2} c_{3} - 75 a_{3_{2}} a_{4_{2}} c_{3} + 225 a_{2_{2}} a_{5_{2}} c_{3} - 375 a_{5_{2}} c_{1})\\)</html>"
      ],
      "text/latex": [
       "$\\displaystyle 5 \\longrightarrow \\left(-\\frac{1}{125}\\right) \\cdot (-72 a_{2_{1}} a_{2_{2}}^{3} - 24 a_{2_{1}} a_{2_{2}}^{2} a_{3_{2}} - 12 a_{2_{1}} a_{2_{2}}^{2} a_{4_{2}} + 120 a_{2_{1}} a_{2_{2}}^{2} c_{4} + 40 a_{2_{1}} a_{2_{2}} a_{3_{2}} c_{4} + 20 a_{2_{1}} a_{2_{2}} a_{4_{2}} c_{4} + 300 a_{2_{1}} a_{2_{2}} c_{2} + 100 a_{2_{1}} a_{3_{2}} c_{2} + 50 a_{2_{1}} a_{4_{2}} c_{2} - 450 a_{2_{2}} a_{3_{2}} c_{3} - 150 a_{3_{2}}^{2} c_{3} - 75 a_{3_{2}} a_{4_{2}} c_{3} + 225 a_{2_{2}} a_{5_{2}} c_{3} - 375 a_{5_{2}} c_{1})$"
      ],
      "text/plain": [
       "5 \\longrightarrow \\left(-\\frac{1}{125}\\right) \\cdot (-72 a_{2_{1}} a_{2_{2}}^{3} - 24 a_{2_{1}} a_{2_{2}}^{2} a_{3_{2}} - 12 a_{2_{1}} a_{2_{2}}^{2} a_{4_{2}} + 120 a_{2_{1}} a_{2_{2}}^{2} c_{4} + 40 a_{2_{1}} a_{2_{2}} a_{3_{2}} c_{4} + 20 a_{2_{1}} a_{2_{2}} a_{4_{2}} c_{4} + 300 a_{2_{1}} a_{2_{2}} c_{2} + 100 a_{2_{1}} a_{3_{2}} c_{2} + 50 a_{2_{1}} a_{4_{2}} c_{2} - 450 a_{2_{2}} a_{3_{2}} c_{3} - 150 a_{3_{2}}^{2} c_{3} - 75 a_{3_{2}} a_{4_{2}} c_{3} + 225 a_{2_{2}} a_{5_{2}} c_{3} - 375 a_{5_{2}} c_{1})"
      ]
     },
     "metadata": {},
     "output_type": "display_data"
    },
    {
     "data": {
      "text/html": [
       "<html>\\(\\displaystyle 6 \\longrightarrow \\left(\\frac{24}{125}\\right) \\cdot (3 a_{2_{0}}^{4} - 680 a_{2_{0}}^{3} + 30 a_{2_{0}}^{2} a_{3_{0}} + 20 a_{2_{0}} a_{3_{0}}^{2} + 20 a_{2_{0}}^{2} a_{4_{0}} + 22900 a_{2_{0}}^{2} + 4650 a_{2_{0}} a_{3_{0}} - 1975 a_{3_{0}}^{2} - 3400 a_{2_{0}} a_{4_{0}} + 275 a_{3_{0}} a_{4_{0}} + 25 a_{4_{0}}^{2} + 375 a_{2_{0}} a_{5_{0}} + 50 a_{3_{0}} a_{5_{0}} - 210000 a_{2_{0}} - 42000 a_{3_{0}} + 77000 a_{4_{0}} - 26250 a_{5_{0}})\\)</html>"
      ],
      "text/latex": [
       "$\\displaystyle 6 \\longrightarrow \\left(\\frac{24}{125}\\right) \\cdot (3 a_{2_{0}}^{4} - 680 a_{2_{0}}^{3} + 30 a_{2_{0}}^{2} a_{3_{0}} + 20 a_{2_{0}} a_{3_{0}}^{2} + 20 a_{2_{0}}^{2} a_{4_{0}} + 22900 a_{2_{0}}^{2} + 4650 a_{2_{0}} a_{3_{0}} - 1975 a_{3_{0}}^{2} - 3400 a_{2_{0}} a_{4_{0}} + 275 a_{3_{0}} a_{4_{0}} + 25 a_{4_{0}}^{2} + 375 a_{2_{0}} a_{5_{0}} + 50 a_{3_{0}} a_{5_{0}} - 210000 a_{2_{0}} - 42000 a_{3_{0}} + 77000 a_{4_{0}} - 26250 a_{5_{0}})$"
      ],
      "text/plain": [
       "6 \\longrightarrow \\left(\\frac{24}{125}\\right) \\cdot (3 a_{2_{0}}^{4} - 680 a_{2_{0}}^{3} + 30 a_{2_{0}}^{2} a_{3_{0}} + 20 a_{2_{0}} a_{3_{0}}^{2} + 20 a_{2_{0}}^{2} a_{4_{0}} + 22900 a_{2_{0}}^{2} + 4650 a_{2_{0}} a_{3_{0}} - 1975 a_{3_{0}}^{2} - 3400 a_{2_{0}} a_{4_{0}} + 275 a_{3_{0}} a_{4_{0}} + 25 a_{4_{0}}^{2} + 375 a_{2_{0}} a_{5_{0}} + 50 a_{3_{0}} a_{5_{0}} - 210000 a_{2_{0}} - 42000 a_{3_{0}} + 77000 a_{4_{0}} - 26250 a_{5_{0}})"
      ]
     },
     "metadata": {},
     "output_type": "display_data"
    },
    {
     "data": {
      "text/html": [
       "<html>\\(\\displaystyle 7 \\longrightarrow \\left(-\\frac{2}{125}\\right) \\cdot (-54 a_{2_{1}}^{2} a_{2_{2}}^{2} - 36 a_{2_{0}} a_{2_{2}}^{3} + 60 a_{2_{1}}^{2} a_{2_{2}} c_{4} + 60 a_{2_{0}} a_{2_{2}}^{2} c_{4} - 30 a_{2_{2}}^{2} a_{3_{2}} - 60 a_{2_{2}} a_{3_{2}}^{2} - 60 a_{2_{2}}^{2} a_{4_{2}} + 75 a_{2_{1}}^{2} c_{2} + 150 a_{2_{0}} a_{2_{2}} c_{2} - 150 a_{2_{2}} a_{3_{1}} c_{3} - 150 a_{2_{1}} a_{3_{2}} c_{3} + 50 a_{2_{2}} a_{3_{2}} c_{4} + 50 a_{3_{2}}^{2} c_{4} + 100 a_{2_{2}} a_{4_{2}} c_{4} - 125 a_{3_{1}} c_{1} + 125 a_{3_{2}} c_{2} + 250 a_{4_{2}} c_{2})\\)</html>"
      ],
      "text/latex": [
       "$\\displaystyle 7 \\longrightarrow \\left(-\\frac{2}{125}\\right) \\cdot (-54 a_{2_{1}}^{2} a_{2_{2}}^{2} - 36 a_{2_{0}} a_{2_{2}}^{3} + 60 a_{2_{1}}^{2} a_{2_{2}} c_{4} + 60 a_{2_{0}} a_{2_{2}}^{2} c_{4} - 30 a_{2_{2}}^{2} a_{3_{2}} - 60 a_{2_{2}} a_{3_{2}}^{2} - 60 a_{2_{2}}^{2} a_{4_{2}} + 75 a_{2_{1}}^{2} c_{2} + 150 a_{2_{0}} a_{2_{2}} c_{2} - 150 a_{2_{2}} a_{3_{1}} c_{3} - 150 a_{2_{1}} a_{3_{2}} c_{3} + 50 a_{2_{2}} a_{3_{2}} c_{4} + 50 a_{3_{2}}^{2} c_{4} + 100 a_{2_{2}} a_{4_{2}} c_{4} - 125 a_{3_{1}} c_{1} + 125 a_{3_{2}} c_{2} + 250 a_{4_{2}} c_{2})$"
      ],
      "text/plain": [
       "7 \\longrightarrow \\left(-\\frac{2}{125}\\right) \\cdot (-54 a_{2_{1}}^{2} a_{2_{2}}^{2} - 36 a_{2_{0}} a_{2_{2}}^{3} + 60 a_{2_{1}}^{2} a_{2_{2}} c_{4} + 60 a_{2_{0}} a_{2_{2}}^{2} c_{4} - 30 a_{2_{2}}^{2} a_{3_{2}} - 60 a_{2_{2}} a_{3_{2}}^{2} - 60 a_{2_{2}}^{2} a_{4_{2}} + 75 a_{2_{1}}^{2} c_{2} + 150 a_{2_{0}} a_{2_{2}} c_{2} - 150 a_{2_{2}} a_{3_{1}} c_{3} - 150 a_{2_{1}} a_{3_{2}} c_{3} + 50 a_{2_{2}} a_{3_{2}} c_{4} + 50 a_{3_{2}}^{2} c_{4} + 100 a_{2_{2}} a_{4_{2}} c_{4} - 125 a_{3_{1}} c_{1} + 125 a_{3_{2}} c_{2} + 250 a_{4_{2}} c_{2})"
      ]
     },
     "metadata": {},
     "output_type": "display_data"
    },
    {
     "data": {
      "text/html": [
       "<html>\\(\\displaystyle 8 \\longrightarrow \\left(-\\frac{6}{25}\\right) \\cdot (-90 a_{2_{0}}^{2} a_{2_{1}} + 24 a_{2_{0}} a_{2_{1}} a_{3_{0}} + 12 a_{2_{0}}^{2} a_{3_{1}} + 1500 a_{2_{0}} a_{2_{1}} - 160 a_{2_{1}} a_{3_{0}} - 80 a_{2_{0}} a_{3_{1}} - 150 a_{3_{0}} a_{3_{1}} - 105 a_{2_{1}} a_{4_{0}} + 30 a_{3_{1}} a_{4_{0}} - 135 a_{2_{0}} a_{4_{1}} + 30 a_{3_{0}} a_{4_{1}} + 30 a_{2_{1}} a_{5_{0}} + 30 a_{2_{0}} a_{5_{1}} - 2400 a_{2_{1}} + 600 a_{3_{1}} + 1500 a_{4_{1}} - 1000 a_{5_{1}})\\)</html>"
      ],
      "text/latex": [
       "$\\displaystyle 8 \\longrightarrow \\left(-\\frac{6}{25}\\right) \\cdot (-90 a_{2_{0}}^{2} a_{2_{1}} + 24 a_{2_{0}} a_{2_{1}} a_{3_{0}} + 12 a_{2_{0}}^{2} a_{3_{1}} + 1500 a_{2_{0}} a_{2_{1}} - 160 a_{2_{1}} a_{3_{0}} - 80 a_{2_{0}} a_{3_{1}} - 150 a_{3_{0}} a_{3_{1}} - 105 a_{2_{1}} a_{4_{0}} + 30 a_{3_{1}} a_{4_{0}} - 135 a_{2_{0}} a_{4_{1}} + 30 a_{3_{0}} a_{4_{1}} + 30 a_{2_{1}} a_{5_{0}} + 30 a_{2_{0}} a_{5_{1}} - 2400 a_{2_{1}} + 600 a_{3_{1}} + 1500 a_{4_{1}} - 1000 a_{5_{1}})$"
      ],
      "text/plain": [
       "8 \\longrightarrow \\left(-\\frac{6}{25}\\right) \\cdot (-90 a_{2_{0}}^{2} a_{2_{1}} + 24 a_{2_{0}} a_{2_{1}} a_{3_{0}} + 12 a_{2_{0}}^{2} a_{3_{1}} + 1500 a_{2_{0}} a_{2_{1}} - 160 a_{2_{1}} a_{3_{0}} - 80 a_{2_{0}} a_{3_{1}} - 150 a_{3_{0}} a_{3_{1}} - 105 a_{2_{1}} a_{4_{0}} + 30 a_{3_{1}} a_{4_{0}} - 135 a_{2_{0}} a_{4_{1}} + 30 a_{3_{0}} a_{4_{1}} + 30 a_{2_{1}} a_{5_{0}} + 30 a_{2_{0}} a_{5_{1}} - 2400 a_{2_{1}} + 600 a_{3_{1}} + 1500 a_{4_{1}} - 1000 a_{5_{1}})"
      ]
     },
     "metadata": {},
     "output_type": "display_data"
    },
    {
     "data": {
      "text/html": [
       "<html>\\(\\displaystyle 9 \\longrightarrow \\left(-\\frac{6}{125}\\right) \\cdot (84 a_{2_{0}}^{4} + 8 a_{2_{0}}^{3} a_{3_{0}} - 13440 a_{2_{0}}^{3} - 1525 a_{2_{0}}^{2} a_{3_{0}} + 255 a_{2_{0}} a_{3_{0}}^{2} + 30 a_{3_{0}}^{3} + 575 a_{2_{0}}^{2} a_{4_{0}} + 65 a_{2_{0}} a_{3_{0}} a_{4_{0}} - 25 a_{2_{0}}^{2} a_{5_{0}} + 386400 a_{2_{0}}^{2} + 203700 a_{2_{0}} a_{3_{0}} - 37800 a_{3_{0}}^{2} - 82000 a_{2_{0}} a_{4_{0}} + 150 a_{3_{0}} a_{4_{0}} + 450 a_{4_{0}}^{2} + 10625 a_{2_{0}} a_{5_{0}} + 1125 a_{3_{0}} a_{5_{0}} + 225 a_{4_{0}} a_{5_{0}} - 3024000 a_{2_{0}} - 2268000 a_{3_{0}} + 2016000 a_{4_{0}} - 567000 a_{5_{0}})\\)</html>"
      ],
      "text/latex": [
       "$\\displaystyle 9 \\longrightarrow \\left(-\\frac{6}{125}\\right) \\cdot (84 a_{2_{0}}^{4} + 8 a_{2_{0}}^{3} a_{3_{0}} - 13440 a_{2_{0}}^{3} - 1525 a_{2_{0}}^{2} a_{3_{0}} + 255 a_{2_{0}} a_{3_{0}}^{2} + 30 a_{3_{0}}^{3} + 575 a_{2_{0}}^{2} a_{4_{0}} + 65 a_{2_{0}} a_{3_{0}} a_{4_{0}} - 25 a_{2_{0}}^{2} a_{5_{0}} + 386400 a_{2_{0}}^{2} + 203700 a_{2_{0}} a_{3_{0}} - 37800 a_{3_{0}}^{2} - 82000 a_{2_{0}} a_{4_{0}} + 150 a_{3_{0}} a_{4_{0}} + 450 a_{4_{0}}^{2} + 10625 a_{2_{0}} a_{5_{0}} + 1125 a_{3_{0}} a_{5_{0}} + 225 a_{4_{0}} a_{5_{0}} - 3024000 a_{2_{0}} - 2268000 a_{3_{0}} + 2016000 a_{4_{0}} - 567000 a_{5_{0}})$"
      ],
      "text/plain": [
       "9 \\longrightarrow \\left(-\\frac{6}{125}\\right) \\cdot (84 a_{2_{0}}^{4} + 8 a_{2_{0}}^{3} a_{3_{0}} - 13440 a_{2_{0}}^{3} - 1525 a_{2_{0}}^{2} a_{3_{0}} + 255 a_{2_{0}} a_{3_{0}}^{2} + 30 a_{3_{0}}^{3} + 575 a_{2_{0}}^{2} a_{4_{0}} + 65 a_{2_{0}} a_{3_{0}} a_{4_{0}} - 25 a_{2_{0}}^{2} a_{5_{0}} + 386400 a_{2_{0}}^{2} + 203700 a_{2_{0}} a_{3_{0}} - 37800 a_{3_{0}}^{2} - 82000 a_{2_{0}} a_{4_{0}} + 150 a_{3_{0}} a_{4_{0}} + 450 a_{4_{0}}^{2} + 10625 a_{2_{0}} a_{5_{0}} + 1125 a_{3_{0}} a_{5_{0}} + 225 a_{4_{0}} a_{5_{0}} - 3024000 a_{2_{0}} - 2268000 a_{3_{0}} + 2016000 a_{4_{0}} - 567000 a_{5_{0}})"
      ]
     },
     "metadata": {},
     "output_type": "display_data"
    },
    {
     "data": {
      "text/html": [
       "<html>\\(\\displaystyle 10 \\longrightarrow \\left(\\frac{3}{25}\\right) \\cdot (36 a_{2_{1}}^{2} a_{2_{2}} + 36 a_{2_{0}} a_{2_{2}}^{2} - 12 a_{2_{2}}^{2} a_{3_{0}} - 24 a_{2_{1}} a_{2_{2}} a_{3_{1}} - 12 a_{2_{1}}^{2} a_{3_{2}} - 24 a_{2_{0}} a_{2_{2}} a_{3_{2}} - 30 a_{2_{0}} a_{2_{1}} c_{3} - 30 a_{2_{1}}^{2} c_{4} - 60 a_{2_{0}} a_{2_{2}} c_{4} + 20 a_{2_{2}} a_{3_{0}} c_{4} + 20 a_{2_{1}} a_{3_{1}} c_{4} + 20 a_{2_{0}} a_{3_{2}} c_{4} + 30 a_{2_{2}} a_{3_{2}} + 30 a_{3_{2}}^{2} + 30 a_{2_{2}} a_{4_{2}} - 30 a_{3_{2}} a_{4_{2}} - 30 a_{2_{2}} a_{5_{2}} - 150 a_{2_{0}} c_{2} + 50 a_{3_{0}} c_{2} - 50 a_{2_{1}} c_{3} + 150 a_{3_{1}} c_{3} - 75 a_{4_{1}} c_{3} - 100 a_{4_{2}} c_{4} + 100 a_{5_{2}} c_{4})\\)</html>"
      ],
      "text/latex": [
       "$\\displaystyle 10 \\longrightarrow \\left(\\frac{3}{25}\\right) \\cdot (36 a_{2_{1}}^{2} a_{2_{2}} + 36 a_{2_{0}} a_{2_{2}}^{2} - 12 a_{2_{2}}^{2} a_{3_{0}} - 24 a_{2_{1}} a_{2_{2}} a_{3_{1}} - 12 a_{2_{1}}^{2} a_{3_{2}} - 24 a_{2_{0}} a_{2_{2}} a_{3_{2}} - 30 a_{2_{0}} a_{2_{1}} c_{3} - 30 a_{2_{1}}^{2} c_{4} - 60 a_{2_{0}} a_{2_{2}} c_{4} + 20 a_{2_{2}} a_{3_{0}} c_{4} + 20 a_{2_{1}} a_{3_{1}} c_{4} + 20 a_{2_{0}} a_{3_{2}} c_{4} + 30 a_{2_{2}} a_{3_{2}} + 30 a_{3_{2}}^{2} + 30 a_{2_{2}} a_{4_{2}} - 30 a_{3_{2}} a_{4_{2}} - 30 a_{2_{2}} a_{5_{2}} - 150 a_{2_{0}} c_{2} + 50 a_{3_{0}} c_{2} - 50 a_{2_{1}} c_{3} + 150 a_{3_{1}} c_{3} - 75 a_{4_{1}} c_{3} - 100 a_{4_{2}} c_{4} + 100 a_{5_{2}} c_{4})$"
      ],
      "text/plain": [
       "10 \\longrightarrow \\left(\\frac{3}{25}\\right) \\cdot (36 a_{2_{1}}^{2} a_{2_{2}} + 36 a_{2_{0}} a_{2_{2}}^{2} - 12 a_{2_{2}}^{2} a_{3_{0}} - 24 a_{2_{1}} a_{2_{2}} a_{3_{1}} - 12 a_{2_{1}}^{2} a_{3_{2}} - 24 a_{2_{0}} a_{2_{2}} a_{3_{2}} - 30 a_{2_{0}} a_{2_{1}} c_{3} - 30 a_{2_{1}}^{2} c_{4} - 60 a_{2_{0}} a_{2_{2}} c_{4} + 20 a_{2_{2}} a_{3_{0}} c_{4} + 20 a_{2_{1}} a_{3_{1}} c_{4} + 20 a_{2_{0}} a_{3_{2}} c_{4} + 30 a_{2_{2}} a_{3_{2}} + 30 a_{3_{2}}^{2} + 30 a_{2_{2}} a_{4_{2}} - 30 a_{3_{2}} a_{4_{2}} - 30 a_{2_{2}} a_{5_{2}} - 150 a_{2_{0}} c_{2} + 50 a_{3_{0}} c_{2} - 50 a_{2_{1}} c_{3} + 150 a_{3_{1}} c_{3} - 75 a_{4_{1}} c_{3} - 100 a_{4_{2}} c_{4} + 100 a_{5_{2}} c_{4})"
      ]
     },
     "metadata": {},
     "output_type": "display_data"
    },
    {
     "data": {
      "text/html": [
       "<html>\\(\\displaystyle 11 \\longrightarrow \\left(\\frac{7}{125}\\right) \\cdot (36 a_{2_{0}}^{3} a_{2_{1}} - 4440 a_{2_{0}}^{2} a_{2_{1}} + 180 a_{2_{0}} a_{2_{1}} a_{3_{0}} + 60 a_{2_{1}} a_{3_{0}}^{2} + 60 a_{2_{0}}^{2} a_{3_{1}} + 120 a_{2_{0}} a_{3_{0}} a_{3_{1}} + 120 a_{2_{0}} a_{2_{1}} a_{4_{0}} + 60 a_{2_{0}}^{2} a_{4_{1}} + 63000 a_{2_{0}} a_{2_{1}} + 5250 a_{2_{1}} a_{3_{0}} + 9600 a_{2_{0}} a_{3_{1}} - 8550 a_{3_{0}} a_{3_{1}} - 7000 a_{2_{1}} a_{4_{0}} + 750 a_{3_{1}} a_{4_{0}} - 7500 a_{2_{0}} a_{4_{1}} + 675 a_{3_{0}} a_{4_{1}} + 150 a_{4_{0}} a_{4_{1}} + 1125 a_{2_{1}} a_{5_{0}} + 150 a_{3_{1}} a_{5_{0}} + 900 a_{2_{0}} a_{5_{1}} + 150 a_{3_{0}} a_{5_{1}} - 90000 a_{2_{1}} - 36000 a_{3_{1}} + 99000 a_{4_{1}} - 45000 a_{5_{1}})\\)</html>"
      ],
      "text/latex": [
       "$\\displaystyle 11 \\longrightarrow \\left(\\frac{7}{125}\\right) \\cdot (36 a_{2_{0}}^{3} a_{2_{1}} - 4440 a_{2_{0}}^{2} a_{2_{1}} + 180 a_{2_{0}} a_{2_{1}} a_{3_{0}} + 60 a_{2_{1}} a_{3_{0}}^{2} + 60 a_{2_{0}}^{2} a_{3_{1}} + 120 a_{2_{0}} a_{3_{0}} a_{3_{1}} + 120 a_{2_{0}} a_{2_{1}} a_{4_{0}} + 60 a_{2_{0}}^{2} a_{4_{1}} + 63000 a_{2_{0}} a_{2_{1}} + 5250 a_{2_{1}} a_{3_{0}} + 9600 a_{2_{0}} a_{3_{1}} - 8550 a_{3_{0}} a_{3_{1}} - 7000 a_{2_{1}} a_{4_{0}} + 750 a_{3_{1}} a_{4_{0}} - 7500 a_{2_{0}} a_{4_{1}} + 675 a_{3_{0}} a_{4_{1}} + 150 a_{4_{0}} a_{4_{1}} + 1125 a_{2_{1}} a_{5_{0}} + 150 a_{3_{1}} a_{5_{0}} + 900 a_{2_{0}} a_{5_{1}} + 150 a_{3_{0}} a_{5_{1}} - 90000 a_{2_{1}} - 36000 a_{3_{1}} + 99000 a_{4_{1}} - 45000 a_{5_{1}})$"
      ],
      "text/plain": [
       "11 \\longrightarrow \\left(\\frac{7}{125}\\right) \\cdot (36 a_{2_{0}}^{3} a_{2_{1}} - 4440 a_{2_{0}}^{2} a_{2_{1}} + 180 a_{2_{0}} a_{2_{1}} a_{3_{0}} + 60 a_{2_{1}} a_{3_{0}}^{2} + 60 a_{2_{0}}^{2} a_{3_{1}} + 120 a_{2_{0}} a_{3_{0}} a_{3_{1}} + 120 a_{2_{0}} a_{2_{1}} a_{4_{0}} + 60 a_{2_{0}}^{2} a_{4_{1}} + 63000 a_{2_{0}} a_{2_{1}} + 5250 a_{2_{1}} a_{3_{0}} + 9600 a_{2_{0}} a_{3_{1}} - 8550 a_{3_{0}} a_{3_{1}} - 7000 a_{2_{1}} a_{4_{0}} + 750 a_{3_{1}} a_{4_{0}} - 7500 a_{2_{0}} a_{4_{1}} + 675 a_{3_{0}} a_{4_{1}} + 150 a_{4_{0}} a_{4_{1}} + 1125 a_{2_{1}} a_{5_{0}} + 150 a_{3_{1}} a_{5_{0}} + 900 a_{2_{0}} a_{5_{1}} + 150 a_{3_{0}} a_{5_{1}} - 90000 a_{2_{1}} - 36000 a_{3_{1}} + 99000 a_{4_{1}} - 45000 a_{5_{1}})"
      ]
     },
     "metadata": {},
     "output_type": "display_data"
    },
    {
     "data": {
      "text/html": [
       "<html>\\(\\displaystyle 12 \\longrightarrow \\left(\\frac{4}{25}\\right) \\cdot (18 a_{2_{1}}^{3} + 108 a_{2_{0}} a_{2_{1}} a_{2_{2}} - 24 a_{2_{1}} a_{2_{2}} a_{3_{0}} - 12 a_{2_{1}}^{2} a_{3_{1}} - 24 a_{2_{0}} a_{2_{2}} a_{3_{1}} - 24 a_{2_{0}} a_{2_{1}} a_{3_{2}} - 15 a_{2_{0}}^{2} c_{3} - 90 a_{2_{0}} a_{2_{1}} c_{4} + 20 a_{2_{1}} a_{3_{0}} c_{4} + 20 a_{2_{0}} a_{3_{1}} c_{4} - 180 a_{2_{1}} a_{2_{2}} + 90 a_{2_{2}} a_{3_{1}} + 30 a_{2_{1}} a_{3_{2}} + 90 a_{3_{1}} a_{3_{2}} + 45 a_{2_{2}} a_{4_{1}} - 30 a_{3_{2}} a_{4_{1}} + 75 a_{2_{1}} a_{4_{2}} - 30 a_{3_{1}} a_{4_{2}} - 30 a_{2_{2}} a_{5_{1}} - 30 a_{2_{1}} a_{5_{2}} - 150 a_{2_{0}} c_{3} + 225 a_{3_{0}} c_{3} - 75 a_{4_{0}} c_{3} + 150 a_{2_{1}} c_{4} - 150 a_{4_{1}} c_{4} + 100 a_{5_{1}} c_{4})\\)</html>"
      ],
      "text/latex": [
       "$\\displaystyle 12 \\longrightarrow \\left(\\frac{4}{25}\\right) \\cdot (18 a_{2_{1}}^{3} + 108 a_{2_{0}} a_{2_{1}} a_{2_{2}} - 24 a_{2_{1}} a_{2_{2}} a_{3_{0}} - 12 a_{2_{1}}^{2} a_{3_{1}} - 24 a_{2_{0}} a_{2_{2}} a_{3_{1}} - 24 a_{2_{0}} a_{2_{1}} a_{3_{2}} - 15 a_{2_{0}}^{2} c_{3} - 90 a_{2_{0}} a_{2_{1}} c_{4} + 20 a_{2_{1}} a_{3_{0}} c_{4} + 20 a_{2_{0}} a_{3_{1}} c_{4} - 180 a_{2_{1}} a_{2_{2}} + 90 a_{2_{2}} a_{3_{1}} + 30 a_{2_{1}} a_{3_{2}} + 90 a_{3_{1}} a_{3_{2}} + 45 a_{2_{2}} a_{4_{1}} - 30 a_{3_{2}} a_{4_{1}} + 75 a_{2_{1}} a_{4_{2}} - 30 a_{3_{1}} a_{4_{2}} - 30 a_{2_{2}} a_{5_{1}} - 30 a_{2_{1}} a_{5_{2}} - 150 a_{2_{0}} c_{3} + 225 a_{3_{0}} c_{3} - 75 a_{4_{0}} c_{3} + 150 a_{2_{1}} c_{4} - 150 a_{4_{1}} c_{4} + 100 a_{5_{1}} c_{4})$"
      ],
      "text/plain": [
       "12 \\longrightarrow \\left(\\frac{4}{25}\\right) \\cdot (18 a_{2_{1}}^{3} + 108 a_{2_{0}} a_{2_{1}} a_{2_{2}} - 24 a_{2_{1}} a_{2_{2}} a_{3_{0}} - 12 a_{2_{1}}^{2} a_{3_{1}} - 24 a_{2_{0}} a_{2_{2}} a_{3_{1}} - 24 a_{2_{0}} a_{2_{1}} a_{3_{2}} - 15 a_{2_{0}}^{2} c_{3} - 90 a_{2_{0}} a_{2_{1}} c_{4} + 20 a_{2_{1}} a_{3_{0}} c_{4} + 20 a_{2_{0}} a_{3_{1}} c_{4} - 180 a_{2_{1}} a_{2_{2}} + 90 a_{2_{2}} a_{3_{1}} + 30 a_{2_{1}} a_{3_{2}} + 90 a_{3_{1}} a_{3_{2}} + 45 a_{2_{2}} a_{4_{1}} - 30 a_{3_{2}} a_{4_{1}} + 75 a_{2_{1}} a_{4_{2}} - 30 a_{3_{1}} a_{4_{2}} - 30 a_{2_{2}} a_{5_{1}} - 30 a_{2_{1}} a_{5_{2}} - 150 a_{2_{0}} c_{3} + 225 a_{3_{0}} c_{3} - 75 a_{4_{0}} c_{3} + 150 a_{2_{1}} c_{4} - 150 a_{4_{1}} c_{4} + 100 a_{5_{1}} c_{4})"
      ]
     },
     "metadata": {},
     "output_type": "display_data"
    },
    {
     "data": {
      "text/html": [
       "<html>\\(\\displaystyle 13 \\longrightarrow \\left(\\frac{6}{125}\\right) \\cdot (224 a_{2_{0}}^{4} + 28 a_{2_{0}}^{3} a_{3_{0}} + 4 a_{2_{0}}^{3} a_{4_{0}} - 26320 a_{2_{0}}^{3} - 6650 a_{2_{0}}^{2} a_{3_{0}} + 105 a_{2_{0}} a_{3_{0}}^{2} + 105 a_{3_{0}}^{3} + 1570 a_{2_{0}}^{2} a_{4_{0}} + 105 a_{2_{0}} a_{3_{0}} a_{4_{0}} + 15 a_{3_{0}}^{2} a_{4_{0}} + 30 a_{2_{0}} a_{4_{0}}^{2} - 50 a_{2_{0}}^{2} a_{5_{0}} - 25 a_{2_{0}} a_{3_{0}} a_{5_{0}} + 588000 a_{2_{0}}^{2} + 617400 a_{2_{0}} a_{3_{0}} - 65100 a_{3_{0}}^{2} - 206600 a_{2_{0}} a_{4_{0}} - 5500 a_{3_{0}} a_{4_{0}} - 1000 a_{4_{0}}^{2} + 27250 a_{2_{0}} a_{5_{0}} + 4250 a_{3_{0}} a_{5_{0}} + 625 a_{4_{0}} a_{5_{0}} + 125 a_{5_{0}}^{2} - 3024000 a_{2_{0}} - 7560000 a_{3_{0}} + 5040000 a_{4_{0}} - 1260000 a_{5_{0}})\\)</html>"
      ],
      "text/latex": [
       "$\\displaystyle 13 \\longrightarrow \\left(\\frac{6}{125}\\right) \\cdot (224 a_{2_{0}}^{4} + 28 a_{2_{0}}^{3} a_{3_{0}} + 4 a_{2_{0}}^{3} a_{4_{0}} - 26320 a_{2_{0}}^{3} - 6650 a_{2_{0}}^{2} a_{3_{0}} + 105 a_{2_{0}} a_{3_{0}}^{2} + 105 a_{3_{0}}^{3} + 1570 a_{2_{0}}^{2} a_{4_{0}} + 105 a_{2_{0}} a_{3_{0}} a_{4_{0}} + 15 a_{3_{0}}^{2} a_{4_{0}} + 30 a_{2_{0}} a_{4_{0}}^{2} - 50 a_{2_{0}}^{2} a_{5_{0}} - 25 a_{2_{0}} a_{3_{0}} a_{5_{0}} + 588000 a_{2_{0}}^{2} + 617400 a_{2_{0}} a_{3_{0}} - 65100 a_{3_{0}}^{2} - 206600 a_{2_{0}} a_{4_{0}} - 5500 a_{3_{0}} a_{4_{0}} - 1000 a_{4_{0}}^{2} + 27250 a_{2_{0}} a_{5_{0}} + 4250 a_{3_{0}} a_{5_{0}} + 625 a_{4_{0}} a_{5_{0}} + 125 a_{5_{0}}^{2} - 3024000 a_{2_{0}} - 7560000 a_{3_{0}} + 5040000 a_{4_{0}} - 1260000 a_{5_{0}})$"
      ],
      "text/plain": [
       "13 \\longrightarrow \\left(\\frac{6}{125}\\right) \\cdot (224 a_{2_{0}}^{4} + 28 a_{2_{0}}^{3} a_{3_{0}} + 4 a_{2_{0}}^{3} a_{4_{0}} - 26320 a_{2_{0}}^{3} - 6650 a_{2_{0}}^{2} a_{3_{0}} + 105 a_{2_{0}} a_{3_{0}}^{2} + 105 a_{3_{0}}^{3} + 1570 a_{2_{0}}^{2} a_{4_{0}} + 105 a_{2_{0}} a_{3_{0}} a_{4_{0}} + 15 a_{3_{0}}^{2} a_{4_{0}} + 30 a_{2_{0}} a_{4_{0}}^{2} - 50 a_{2_{0}}^{2} a_{5_{0}} - 25 a_{2_{0}} a_{3_{0}} a_{5_{0}} + 588000 a_{2_{0}}^{2} + 617400 a_{2_{0}} a_{3_{0}} - 65100 a_{3_{0}}^{2} - 206600 a_{2_{0}} a_{4_{0}} - 5500 a_{3_{0}} a_{4_{0}} - 1000 a_{4_{0}}^{2} + 27250 a_{2_{0}} a_{5_{0}} + 4250 a_{3_{0}} a_{5_{0}} + 625 a_{4_{0}} a_{5_{0}} + 125 a_{5_{0}}^{2} - 3024000 a_{2_{0}} - 7560000 a_{3_{0}} + 5040000 a_{4_{0}} - 1260000 a_{5_{0}})"
      ]
     },
     "metadata": {},
     "output_type": "display_data"
    },
    {
     "data": {
      "text/html": [
       "<html>\\(\\displaystyle 14 \\longrightarrow \\left(-\\frac{3}{125}\\right) \\cdot (-36 a_{2_{1}}^{3} a_{2_{2}} - 108 a_{2_{0}} a_{2_{1}} a_{2_{2}}^{2} + 20 a_{2_{1}}^{3} c_{4} + 120 a_{2_{0}} a_{2_{1}} a_{2_{2}} c_{4} + 360 a_{2_{1}} a_{2_{2}}^{2} - 60 a_{2_{2}}^{2} a_{3_{1}} - 60 a_{2_{1}} a_{2_{2}} a_{3_{2}} - 120 a_{2_{2}} a_{3_{1}} a_{3_{2}} - 60 a_{2_{1}} a_{3_{2}}^{2} - 60 a_{2_{2}}^{2} a_{4_{1}} - 120 a_{2_{1}} a_{2_{2}} a_{4_{2}} + 150 a_{2_{0}} a_{2_{1}} c_{2} - 150 a_{2_{2}} a_{3_{0}} c_{3} - 150 a_{2_{1}} a_{3_{1}} c_{3} - 150 a_{2_{0}} a_{3_{2}} c_{3} - 500 a_{2_{1}} a_{2_{2}} c_{4} + 100 a_{2_{2}} a_{3_{1}} c_{4} + 50 a_{2_{1}} a_{3_{2}} c_{4} + 100 a_{3_{1}} a_{3_{2}} c_{4} + 100 a_{2_{2}} a_{4_{1}} c_{4} + 100 a_{2_{1}} a_{4_{2}} c_{4} - 125 a_{3_{0}} c_{1} - 1000 a_{2_{1}} c_{2} + 250 a_{3_{1}} c_{2} + 250 a_{4_{1}} c_{2} + 1250 a_{3_{2}} c_{3} - 750 a_{4_{2}} c_{3} - 375 a_{5_{2}} c_{3})\\)</html>"
      ],
      "text/latex": [
       "$\\displaystyle 14 \\longrightarrow \\left(-\\frac{3}{125}\\right) \\cdot (-36 a_{2_{1}}^{3} a_{2_{2}} - 108 a_{2_{0}} a_{2_{1}} a_{2_{2}}^{2} + 20 a_{2_{1}}^{3} c_{4} + 120 a_{2_{0}} a_{2_{1}} a_{2_{2}} c_{4} + 360 a_{2_{1}} a_{2_{2}}^{2} - 60 a_{2_{2}}^{2} a_{3_{1}} - 60 a_{2_{1}} a_{2_{2}} a_{3_{2}} - 120 a_{2_{2}} a_{3_{1}} a_{3_{2}} - 60 a_{2_{1}} a_{3_{2}}^{2} - 60 a_{2_{2}}^{2} a_{4_{1}} - 120 a_{2_{1}} a_{2_{2}} a_{4_{2}} + 150 a_{2_{0}} a_{2_{1}} c_{2} - 150 a_{2_{2}} a_{3_{0}} c_{3} - 150 a_{2_{1}} a_{3_{1}} c_{3} - 150 a_{2_{0}} a_{3_{2}} c_{3} - 500 a_{2_{1}} a_{2_{2}} c_{4} + 100 a_{2_{2}} a_{3_{1}} c_{4} + 50 a_{2_{1}} a_{3_{2}} c_{4} + 100 a_{3_{1}} a_{3_{2}} c_{4} + 100 a_{2_{2}} a_{4_{1}} c_{4} + 100 a_{2_{1}} a_{4_{2}} c_{4} - 125 a_{3_{0}} c_{1} - 1000 a_{2_{1}} c_{2} + 250 a_{3_{1}} c_{2} + 250 a_{4_{1}} c_{2} + 1250 a_{3_{2}} c_{3} - 750 a_{4_{2}} c_{3} - 375 a_{5_{2}} c_{3})$"
      ],
      "text/plain": [
       "14 \\longrightarrow \\left(-\\frac{3}{125}\\right) \\cdot (-36 a_{2_{1}}^{3} a_{2_{2}} - 108 a_{2_{0}} a_{2_{1}} a_{2_{2}}^{2} + 20 a_{2_{1}}^{3} c_{4} + 120 a_{2_{0}} a_{2_{1}} a_{2_{2}} c_{4} + 360 a_{2_{1}} a_{2_{2}}^{2} - 60 a_{2_{2}}^{2} a_{3_{1}} - 60 a_{2_{1}} a_{2_{2}} a_{3_{2}} - 120 a_{2_{2}} a_{3_{1}} a_{3_{2}} - 60 a_{2_{1}} a_{3_{2}}^{2} - 60 a_{2_{2}}^{2} a_{4_{1}} - 120 a_{2_{1}} a_{2_{2}} a_{4_{2}} + 150 a_{2_{0}} a_{2_{1}} c_{2} - 150 a_{2_{2}} a_{3_{0}} c_{3} - 150 a_{2_{1}} a_{3_{1}} c_{3} - 150 a_{2_{0}} a_{3_{2}} c_{3} - 500 a_{2_{1}} a_{2_{2}} c_{4} + 100 a_{2_{2}} a_{3_{1}} c_{4} + 50 a_{2_{1}} a_{3_{2}} c_{4} + 100 a_{3_{1}} a_{3_{2}} c_{4} + 100 a_{2_{2}} a_{4_{1}} c_{4} + 100 a_{2_{1}} a_{4_{2}} c_{4} - 125 a_{3_{0}} c_{1} - 1000 a_{2_{1}} c_{2} + 250 a_{3_{1}} c_{2} + 250 a_{4_{1}} c_{2} + 1250 a_{3_{2}} c_{3} - 750 a_{4_{2}} c_{3} - 375 a_{5_{2}} c_{3})"
      ]
     },
     "metadata": {},
     "output_type": "display_data"
    },
    {
     "data": {
      "text/html": [
       "<html>\\(\\displaystyle 15 \\longrightarrow \\left(\\frac{2}{5}\\right) \\cdot (36 a_{2_{0}} a_{2_{1}}^{2} + 36 a_{2_{0}}^{2} a_{2_{2}} - 6 a_{2_{1}}^{2} a_{3_{0}} - 12 a_{2_{0}} a_{2_{2}} a_{3_{0}} - 12 a_{2_{0}} a_{2_{1}} a_{3_{1}} - 6 a_{2_{0}}^{2} a_{3_{2}} - 30 a_{2_{0}}^{2} c_{4} + 10 a_{2_{0}} a_{3_{0}} c_{4} - 150 a_{2_{1}}^{2} - 360 a_{2_{0}} a_{2_{2}} + 90 a_{2_{2}} a_{3_{0}} + 40 a_{2_{1}} a_{3_{1}} + 30 a_{3_{1}}^{2} + 20 a_{2_{0}} a_{3_{2}} + 60 a_{3_{0}} a_{3_{2}} + 30 a_{2_{2}} a_{4_{0}} - 15 a_{3_{2}} a_{4_{0}} + 45 a_{2_{1}} a_{4_{1}} - 15 a_{3_{1}} a_{4_{1}} + 60 a_{2_{0}} a_{4_{2}} - 15 a_{3_{0}} a_{4_{2}} - 15 a_{2_{2}} a_{5_{0}} - 15 a_{2_{1}} a_{5_{1}} - 15 a_{2_{0}} a_{5_{2}} + 300 a_{2_{0}} c_{4} - 100 a_{4_{0}} c_{4} + 50 a_{5_{0}} c_{4} - 60 a_{3_{2}} - 300 a_{4_{2}} + 300 a_{5_{2}})\\)</html>"
      ],
      "text/latex": [
       "$\\displaystyle 15 \\longrightarrow \\left(\\frac{2}{5}\\right) \\cdot (36 a_{2_{0}} a_{2_{1}}^{2} + 36 a_{2_{0}}^{2} a_{2_{2}} - 6 a_{2_{1}}^{2} a_{3_{0}} - 12 a_{2_{0}} a_{2_{2}} a_{3_{0}} - 12 a_{2_{0}} a_{2_{1}} a_{3_{1}} - 6 a_{2_{0}}^{2} a_{3_{2}} - 30 a_{2_{0}}^{2} c_{4} + 10 a_{2_{0}} a_{3_{0}} c_{4} - 150 a_{2_{1}}^{2} - 360 a_{2_{0}} a_{2_{2}} + 90 a_{2_{2}} a_{3_{0}} + 40 a_{2_{1}} a_{3_{1}} + 30 a_{3_{1}}^{2} + 20 a_{2_{0}} a_{3_{2}} + 60 a_{3_{0}} a_{3_{2}} + 30 a_{2_{2}} a_{4_{0}} - 15 a_{3_{2}} a_{4_{0}} + 45 a_{2_{1}} a_{4_{1}} - 15 a_{3_{1}} a_{4_{1}} + 60 a_{2_{0}} a_{4_{2}} - 15 a_{3_{0}} a_{4_{2}} - 15 a_{2_{2}} a_{5_{0}} - 15 a_{2_{1}} a_{5_{1}} - 15 a_{2_{0}} a_{5_{2}} + 300 a_{2_{0}} c_{4} - 100 a_{4_{0}} c_{4} + 50 a_{5_{0}} c_{4} - 60 a_{3_{2}} - 300 a_{4_{2}} + 300 a_{5_{2}})$"
      ],
      "text/plain": [
       "15 \\longrightarrow \\left(\\frac{2}{5}\\right) \\cdot (36 a_{2_{0}} a_{2_{1}}^{2} + 36 a_{2_{0}}^{2} a_{2_{2}} - 6 a_{2_{1}}^{2} a_{3_{0}} - 12 a_{2_{0}} a_{2_{2}} a_{3_{0}} - 12 a_{2_{0}} a_{2_{1}} a_{3_{1}} - 6 a_{2_{0}}^{2} a_{3_{2}} - 30 a_{2_{0}}^{2} c_{4} + 10 a_{2_{0}} a_{3_{0}} c_{4} - 150 a_{2_{1}}^{2} - 360 a_{2_{0}} a_{2_{2}} + 90 a_{2_{2}} a_{3_{0}} + 40 a_{2_{1}} a_{3_{1}} + 30 a_{3_{1}}^{2} + 20 a_{2_{0}} a_{3_{2}} + 60 a_{3_{0}} a_{3_{2}} + 30 a_{2_{2}} a_{4_{0}} - 15 a_{3_{2}} a_{4_{0}} + 45 a_{2_{1}} a_{4_{1}} - 15 a_{3_{1}} a_{4_{1}} + 60 a_{2_{0}} a_{4_{2}} - 15 a_{3_{0}} a_{4_{2}} - 15 a_{2_{2}} a_{5_{0}} - 15 a_{2_{1}} a_{5_{1}} - 15 a_{2_{0}} a_{5_{2}} + 300 a_{2_{0}} c_{4} - 100 a_{4_{0}} c_{4} + 50 a_{5_{0}} c_{4} - 60 a_{3_{2}} - 300 a_{4_{2}} + 300 a_{5_{2}})"
      ]
     },
     "metadata": {},
     "output_type": "display_data"
    },
    {
     "data": {
      "text/html": [
       "<html>\\(\\displaystyle 16 \\longrightarrow \\left(-\\frac{4}{125}\\right) \\cdot (396 a_{2_{0}}^{3} a_{2_{1}} + 30 a_{2_{0}}^{2} a_{2_{1}} a_{3_{0}} + 12 a_{2_{0}}^{3} a_{3_{1}} - 34740 a_{2_{0}}^{2} a_{2_{1}} - 3095 a_{2_{0}} a_{2_{1}} a_{3_{0}} + 435 a_{2_{1}} a_{3_{0}}^{2} - 1680 a_{2_{0}}^{2} a_{3_{1}} + 510 a_{2_{0}} a_{3_{0}} a_{3_{1}} + 120 a_{3_{0}}^{2} a_{3_{1}} + 1470 a_{2_{0}} a_{2_{1}} a_{4_{0}} + 75 a_{2_{1}} a_{3_{0}} a_{4_{0}} + 90 a_{2_{0}} a_{3_{1}} a_{4_{0}} + 615 a_{2_{0}}^{2} a_{4_{1}} + 90 a_{2_{0}} a_{3_{0}} a_{4_{1}} - 75 a_{2_{0}} a_{2_{1}} a_{5_{0}} - 30 a_{2_{0}}^{2} a_{5_{1}} + 427200 a_{2_{0}} a_{2_{1}} + 123900 a_{2_{1}} a_{3_{0}} + 149400 a_{2_{0}} a_{3_{1}} - 63000 a_{3_{0}} a_{3_{1}} - 76000 a_{2_{1}} a_{4_{0}} - 66300 a_{2_{0}} a_{4_{1}} + 1050 a_{4_{0}} a_{4_{1}} + 13750 a_{2_{1}} a_{5_{0}} + 1500 a_{3_{1}} a_{5_{0}} + 300 a_{4_{1}} a_{5_{0}} + 9600 a_{2_{0}} a_{5_{1}} + 1200 a_{3_{0}} a_{5_{1}} + 300 a_{4_{0}} a_{5_{1}} - 504000 a_{2_{1}} - 756000 a_{3_{1}} + 1008000 a_{4_{1}} - 378000 a_{5_{1}})\\)</html>"
      ],
      "text/latex": [
       "$\\displaystyle 16 \\longrightarrow \\left(-\\frac{4}{125}\\right) \\cdot (396 a_{2_{0}}^{3} a_{2_{1}} + 30 a_{2_{0}}^{2} a_{2_{1}} a_{3_{0}} + 12 a_{2_{0}}^{3} a_{3_{1}} - 34740 a_{2_{0}}^{2} a_{2_{1}} - 3095 a_{2_{0}} a_{2_{1}} a_{3_{0}} + 435 a_{2_{1}} a_{3_{0}}^{2} - 1680 a_{2_{0}}^{2} a_{3_{1}} + 510 a_{2_{0}} a_{3_{0}} a_{3_{1}} + 120 a_{3_{0}}^{2} a_{3_{1}} + 1470 a_{2_{0}} a_{2_{1}} a_{4_{0}} + 75 a_{2_{1}} a_{3_{0}} a_{4_{0}} + 90 a_{2_{0}} a_{3_{1}} a_{4_{0}} + 615 a_{2_{0}}^{2} a_{4_{1}} + 90 a_{2_{0}} a_{3_{0}} a_{4_{1}} - 75 a_{2_{0}} a_{2_{1}} a_{5_{0}} - 30 a_{2_{0}}^{2} a_{5_{1}} + 427200 a_{2_{0}} a_{2_{1}} + 123900 a_{2_{1}} a_{3_{0}} + 149400 a_{2_{0}} a_{3_{1}} - 63000 a_{3_{0}} a_{3_{1}} - 76000 a_{2_{1}} a_{4_{0}} - 66300 a_{2_{0}} a_{4_{1}} + 1050 a_{4_{0}} a_{4_{1}} + 13750 a_{2_{1}} a_{5_{0}} + 1500 a_{3_{1}} a_{5_{0}} + 300 a_{4_{1}} a_{5_{0}} + 9600 a_{2_{0}} a_{5_{1}} + 1200 a_{3_{0}} a_{5_{1}} + 300 a_{4_{0}} a_{5_{1}} - 504000 a_{2_{1}} - 756000 a_{3_{1}} + 1008000 a_{4_{1}} - 378000 a_{5_{1}})$"
      ],
      "text/plain": [
       "16 \\longrightarrow \\left(-\\frac{4}{125}\\right) \\cdot (396 a_{2_{0}}^{3} a_{2_{1}} + 30 a_{2_{0}}^{2} a_{2_{1}} a_{3_{0}} + 12 a_{2_{0}}^{3} a_{3_{1}} - 34740 a_{2_{0}}^{2} a_{2_{1}} - 3095 a_{2_{0}} a_{2_{1}} a_{3_{0}} + 435 a_{2_{1}} a_{3_{0}}^{2} - 1680 a_{2_{0}}^{2} a_{3_{1}} + 510 a_{2_{0}} a_{3_{0}} a_{3_{1}} + 120 a_{3_{0}}^{2} a_{3_{1}} + 1470 a_{2_{0}} a_{2_{1}} a_{4_{0}} + 75 a_{2_{1}} a_{3_{0}} a_{4_{0}} + 90 a_{2_{0}} a_{3_{1}} a_{4_{0}} + 615 a_{2_{0}}^{2} a_{4_{1}} + 90 a_{2_{0}} a_{3_{0}} a_{4_{1}} - 75 a_{2_{0}} a_{2_{1}} a_{5_{0}} - 30 a_{2_{0}}^{2} a_{5_{1}} + 427200 a_{2_{0}} a_{2_{1}} + 123900 a_{2_{1}} a_{3_{0}} + 149400 a_{2_{0}} a_{3_{1}} - 63000 a_{3_{0}} a_{3_{1}} - 76000 a_{2_{1}} a_{4_{0}} - 66300 a_{2_{0}} a_{4_{1}} + 1050 a_{4_{0}} a_{4_{1}} + 13750 a_{2_{1}} a_{5_{0}} + 1500 a_{3_{1}} a_{5_{0}} + 300 a_{4_{1}} a_{5_{0}} + 9600 a_{2_{0}} a_{5_{1}} + 1200 a_{3_{0}} a_{5_{1}} + 300 a_{4_{0}} a_{5_{1}} - 504000 a_{2_{1}} - 756000 a_{3_{1}} + 1008000 a_{4_{1}} - 378000 a_{5_{1}})"
      ]
     },
     "metadata": {},
     "output_type": "display_data"
    },
    {
     "data": {
      "text/html": [
       "<html>\\(\\displaystyle 17 \\longrightarrow \\left(-\\frac{1}{125}\\right) \\cdot (288 a_{2_{1}}^{2} a_{2_{2}}^{2} + 216 a_{2_{0}} a_{2_{2}}^{3} + 24 a_{2_{1}} a_{2_{2}}^{2} a_{3_{1}} + 48 a_{2_{1}}^{2} a_{2_{2}} a_{3_{2}} + 48 a_{2_{0}} a_{2_{2}}^{2} a_{3_{2}} - 300 a_{2_{1}}^{2} a_{2_{2}} c_{4} - 360 a_{2_{0}} a_{2_{2}}^{2} c_{4} - 40 a_{2_{1}} a_{2_{2}} a_{3_{1}} c_{4} - 40 a_{2_{1}}^{2} a_{3_{2}} c_{4} - 80 a_{2_{0}} a_{2_{2}} a_{3_{2}} c_{4} - 90 a_{2_{2}}^{2} a_{3_{2}} + 270 a_{2_{2}} a_{3_{2}}^{2} + 60 a_{3_{2}}^{3} + 450 a_{2_{2}}^{2} a_{4_{2}} + 90 a_{2_{2}} a_{3_{2}} a_{4_{2}} - 90 a_{2_{2}}^{2} a_{5_{2}} - 300 a_{2_{1}}^{2} c_{2} - 900 a_{2_{0}} a_{2_{2}} c_{2} - 100 a_{2_{1}} a_{3_{1}} c_{2} - 200 a_{2_{0}} a_{3_{2}} c_{2} - 900 a_{2_{1}} a_{2_{2}} c_{3} + 1350 a_{2_{2}} a_{3_{1}} c_{3} + 300 a_{2_{1}} a_{3_{2}} c_{3} + 450 a_{3_{1}} a_{3_{2}} c_{3} - 225 a_{2_{2}} a_{4_{1}} c_{3} - 75 a_{2_{1}} a_{4_{2}} c_{3} + 300 a_{2_{2}} a_{3_{2}} c_{4} - 1200 a_{2_{2}} a_{4_{2}} c_{4} - 300 a_{3_{2}} a_{4_{2}} c_{4} + 600 a_{2_{2}} a_{5_{2}} c_{4} + 375 a_{4_{1}} c_{1} - 750 a_{4_{2}} c_{2} - 750 a_{5_{2}} c_{2})\\)</html>"
      ],
      "text/latex": [
       "$\\displaystyle 17 \\longrightarrow \\left(-\\frac{1}{125}\\right) \\cdot (288 a_{2_{1}}^{2} a_{2_{2}}^{2} + 216 a_{2_{0}} a_{2_{2}}^{3} + 24 a_{2_{1}} a_{2_{2}}^{2} a_{3_{1}} + 48 a_{2_{1}}^{2} a_{2_{2}} a_{3_{2}} + 48 a_{2_{0}} a_{2_{2}}^{2} a_{3_{2}} - 300 a_{2_{1}}^{2} a_{2_{2}} c_{4} - 360 a_{2_{0}} a_{2_{2}}^{2} c_{4} - 40 a_{2_{1}} a_{2_{2}} a_{3_{1}} c_{4} - 40 a_{2_{1}}^{2} a_{3_{2}} c_{4} - 80 a_{2_{0}} a_{2_{2}} a_{3_{2}} c_{4} - 90 a_{2_{2}}^{2} a_{3_{2}} + 270 a_{2_{2}} a_{3_{2}}^{2} + 60 a_{3_{2}}^{3} + 450 a_{2_{2}}^{2} a_{4_{2}} + 90 a_{2_{2}} a_{3_{2}} a_{4_{2}} - 90 a_{2_{2}}^{2} a_{5_{2}} - 300 a_{2_{1}}^{2} c_{2} - 900 a_{2_{0}} a_{2_{2}} c_{2} - 100 a_{2_{1}} a_{3_{1}} c_{2} - 200 a_{2_{0}} a_{3_{2}} c_{2} - 900 a_{2_{1}} a_{2_{2}} c_{3} + 1350 a_{2_{2}} a_{3_{1}} c_{3} + 300 a_{2_{1}} a_{3_{2}} c_{3} + 450 a_{3_{1}} a_{3_{2}} c_{3} - 225 a_{2_{2}} a_{4_{1}} c_{3} - 75 a_{2_{1}} a_{4_{2}} c_{3} + 300 a_{2_{2}} a_{3_{2}} c_{4} - 1200 a_{2_{2}} a_{4_{2}} c_{4} - 300 a_{3_{2}} a_{4_{2}} c_{4} + 600 a_{2_{2}} a_{5_{2}} c_{4} + 375 a_{4_{1}} c_{1} - 750 a_{4_{2}} c_{2} - 750 a_{5_{2}} c_{2})$"
      ],
      "text/plain": [
       "17 \\longrightarrow \\left(-\\frac{1}{125}\\right) \\cdot (288 a_{2_{1}}^{2} a_{2_{2}}^{2} + 216 a_{2_{0}} a_{2_{2}}^{3} + 24 a_{2_{1}} a_{2_{2}}^{2} a_{3_{1}} + 48 a_{2_{1}}^{2} a_{2_{2}} a_{3_{2}} + 48 a_{2_{0}} a_{2_{2}}^{2} a_{3_{2}} - 300 a_{2_{1}}^{2} a_{2_{2}} c_{4} - 360 a_{2_{0}} a_{2_{2}}^{2} c_{4} - 40 a_{2_{1}} a_{2_{2}} a_{3_{1}} c_{4} - 40 a_{2_{1}}^{2} a_{3_{2}} c_{4} - 80 a_{2_{0}} a_{2_{2}} a_{3_{2}} c_{4} - 90 a_{2_{2}}^{2} a_{3_{2}} + 270 a_{2_{2}} a_{3_{2}}^{2} + 60 a_{3_{2}}^{3} + 450 a_{2_{2}}^{2} a_{4_{2}} + 90 a_{2_{2}} a_{3_{2}} a_{4_{2}} - 90 a_{2_{2}}^{2} a_{5_{2}} - 300 a_{2_{1}}^{2} c_{2} - 900 a_{2_{0}} a_{2_{2}} c_{2} - 100 a_{2_{1}} a_{3_{1}} c_{2} - 200 a_{2_{0}} a_{3_{2}} c_{2} - 900 a_{2_{1}} a_{2_{2}} c_{3} + 1350 a_{2_{2}} a_{3_{1}} c_{3} + 300 a_{2_{1}} a_{3_{2}} c_{3} + 450 a_{3_{1}} a_{3_{2}} c_{3} - 225 a_{2_{2}} a_{4_{1}} c_{3} - 75 a_{2_{1}} a_{4_{2}} c_{3} + 300 a_{2_{2}} a_{3_{2}} c_{4} - 1200 a_{2_{2}} a_{4_{2}} c_{4} - 300 a_{3_{2}} a_{4_{2}} c_{4} + 600 a_{2_{2}} a_{5_{2}} c_{4} + 375 a_{4_{1}} c_{1} - 750 a_{4_{2}} c_{2} - 750 a_{5_{2}} c_{2})"
      ]
     },
     "metadata": {},
     "output_type": "display_data"
    },
    {
     "data": {
      "text/html": [
       "<html>\\(\\displaystyle 18 \\longrightarrow \\left(-\\frac{1}{25}\\right) \\cdot (-36 a_{2_{0}} a_{2_{1}}^{3} - 108 a_{2_{0}}^{2} a_{2_{1}} a_{2_{2}} + 60 a_{2_{0}}^{2} a_{2_{1}} c_{4} + 600 a_{2_{1}}^{3} + 3840 a_{2_{0}} a_{2_{1}} a_{2_{2}} - 180 a_{2_{1}} a_{2_{2}} a_{3_{0}} - 60 a_{2_{1}}^{2} a_{3_{1}} - 120 a_{2_{0}} a_{2_{2}} a_{3_{1}} - 120 a_{2_{2}} a_{3_{0}} a_{3_{1}} - 60 a_{2_{1}} a_{3_{1}}^{2} - 60 a_{2_{0}} a_{2_{1}} a_{3_{2}} - 120 a_{2_{1}} a_{3_{0}} a_{3_{2}} - 120 a_{2_{0}} a_{3_{1}} a_{3_{2}} - 120 a_{2_{1}} a_{2_{2}} a_{4_{0}} - 60 a_{2_{1}}^{2} a_{4_{1}} - 120 a_{2_{0}} a_{2_{2}} a_{4_{1}} - 120 a_{2_{0}} a_{2_{1}} a_{4_{2}} - 150 a_{2_{0}} a_{3_{0}} c_{3} - 2700 a_{2_{0}} a_{2_{1}} c_{4} + 150 a_{2_{1}} a_{3_{0}} c_{4} + 100 a_{2_{0}} a_{3_{1}} c_{4} + 100 a_{3_{0}} a_{3_{1}} c_{4} + 100 a_{2_{1}} a_{4_{0}} c_{4} + 100 a_{2_{0}} a_{4_{1}} c_{4} - 5640 a_{2_{1}} a_{2_{2}} - 1900 a_{2_{1}} a_{3_{2}} + 3500 a_{3_{1}} a_{3_{2}} + 2700 a_{2_{2}} a_{4_{1}} - 525 a_{3_{2}} a_{4_{1}} + 2950 a_{2_{1}} a_{4_{2}} - 450 a_{3_{1}} a_{4_{2}} - 150 a_{4_{1}} a_{4_{2}} - 900 a_{2_{2}} a_{5_{1}} - 150 a_{3_{2}} a_{5_{1}} - 675 a_{2_{1}} a_{5_{2}} - 150 a_{3_{1}} a_{5_{2}} - 9000 a_{2_{0}} c_{3} + 7500 a_{3_{0}} c_{3} - 1500 a_{4_{0}} c_{3} - 375 a_{5_{0}} c_{3} + 3600 a_{2_{1}} c_{4} + 3000 a_{3_{1}} c_{4} - 6000 a_{4_{1}} c_{4} + 3000 a_{5_{1}} c_{4})\\)</html>"
      ],
      "text/latex": [
       "$\\displaystyle 18 \\longrightarrow \\left(-\\frac{1}{25}\\right) \\cdot (-36 a_{2_{0}} a_{2_{1}}^{3} - 108 a_{2_{0}}^{2} a_{2_{1}} a_{2_{2}} + 60 a_{2_{0}}^{2} a_{2_{1}} c_{4} + 600 a_{2_{1}}^{3} + 3840 a_{2_{0}} a_{2_{1}} a_{2_{2}} - 180 a_{2_{1}} a_{2_{2}} a_{3_{0}} - 60 a_{2_{1}}^{2} a_{3_{1}} - 120 a_{2_{0}} a_{2_{2}} a_{3_{1}} - 120 a_{2_{2}} a_{3_{0}} a_{3_{1}} - 60 a_{2_{1}} a_{3_{1}}^{2} - 60 a_{2_{0}} a_{2_{1}} a_{3_{2}} - 120 a_{2_{1}} a_{3_{0}} a_{3_{2}} - 120 a_{2_{0}} a_{3_{1}} a_{3_{2}} - 120 a_{2_{1}} a_{2_{2}} a_{4_{0}} - 60 a_{2_{1}}^{2} a_{4_{1}} - 120 a_{2_{0}} a_{2_{2}} a_{4_{1}} - 120 a_{2_{0}} a_{2_{1}} a_{4_{2}} - 150 a_{2_{0}} a_{3_{0}} c_{3} - 2700 a_{2_{0}} a_{2_{1}} c_{4} + 150 a_{2_{1}} a_{3_{0}} c_{4} + 100 a_{2_{0}} a_{3_{1}} c_{4} + 100 a_{3_{0}} a_{3_{1}} c_{4} + 100 a_{2_{1}} a_{4_{0}} c_{4} + 100 a_{2_{0}} a_{4_{1}} c_{4} - 5640 a_{2_{1}} a_{2_{2}} - 1900 a_{2_{1}} a_{3_{2}} + 3500 a_{3_{1}} a_{3_{2}} + 2700 a_{2_{2}} a_{4_{1}} - 525 a_{3_{2}} a_{4_{1}} + 2950 a_{2_{1}} a_{4_{2}} - 450 a_{3_{1}} a_{4_{2}} - 150 a_{4_{1}} a_{4_{2}} - 900 a_{2_{2}} a_{5_{1}} - 150 a_{3_{2}} a_{5_{1}} - 675 a_{2_{1}} a_{5_{2}} - 150 a_{3_{1}} a_{5_{2}} - 9000 a_{2_{0}} c_{3} + 7500 a_{3_{0}} c_{3} - 1500 a_{4_{0}} c_{3} - 375 a_{5_{0}} c_{3} + 3600 a_{2_{1}} c_{4} + 3000 a_{3_{1}} c_{4} - 6000 a_{4_{1}} c_{4} + 3000 a_{5_{1}} c_{4})$"
      ],
      "text/plain": [
       "18 \\longrightarrow \\left(-\\frac{1}{25}\\right) \\cdot (-36 a_{2_{0}} a_{2_{1}}^{3} - 108 a_{2_{0}}^{2} a_{2_{1}} a_{2_{2}} + 60 a_{2_{0}}^{2} a_{2_{1}} c_{4} + 600 a_{2_{1}}^{3} + 3840 a_{2_{0}} a_{2_{1}} a_{2_{2}} - 180 a_{2_{1}} a_{2_{2}} a_{3_{0}} - 60 a_{2_{1}}^{2} a_{3_{1}} - 120 a_{2_{0}} a_{2_{2}} a_{3_{1}} - 120 a_{2_{2}} a_{3_{0}} a_{3_{1}} - 60 a_{2_{1}} a_{3_{1}}^{2} - 60 a_{2_{0}} a_{2_{1}} a_{3_{2}} - 120 a_{2_{1}} a_{3_{0}} a_{3_{2}} - 120 a_{2_{0}} a_{3_{1}} a_{3_{2}} - 120 a_{2_{1}} a_{2_{2}} a_{4_{0}} - 60 a_{2_{1}}^{2} a_{4_{1}} - 120 a_{2_{0}} a_{2_{2}} a_{4_{1}} - 120 a_{2_{0}} a_{2_{1}} a_{4_{2}} - 150 a_{2_{0}} a_{3_{0}} c_{3} - 2700 a_{2_{0}} a_{2_{1}} c_{4} + 150 a_{2_{1}} a_{3_{0}} c_{4} + 100 a_{2_{0}} a_{3_{1}} c_{4} + 100 a_{3_{0}} a_{3_{1}} c_{4} + 100 a_{2_{1}} a_{4_{0}} c_{4} + 100 a_{2_{0}} a_{4_{1}} c_{4} - 5640 a_{2_{1}} a_{2_{2}} - 1900 a_{2_{1}} a_{3_{2}} + 3500 a_{3_{1}} a_{3_{2}} + 2700 a_{2_{2}} a_{4_{1}} - 525 a_{3_{2}} a_{4_{1}} + 2950 a_{2_{1}} a_{4_{2}} - 450 a_{3_{1}} a_{4_{2}} - 150 a_{4_{1}} a_{4_{2}} - 900 a_{2_{2}} a_{5_{1}} - 150 a_{3_{2}} a_{5_{1}} - 675 a_{2_{1}} a_{5_{2}} - 150 a_{3_{1}} a_{5_{2}} - 9000 a_{2_{0}} c_{3} + 7500 a_{3_{0}} c_{3} - 1500 a_{4_{0}} c_{3} - 375 a_{5_{0}} c_{3} + 3600 a_{2_{1}} c_{4} + 3000 a_{3_{1}} c_{4} - 6000 a_{4_{1}} c_{4} + 3000 a_{5_{1}} c_{4})"
      ]
     },
     "metadata": {},
     "output_type": "display_data"
    },
    {
     "data": {
      "text/html": [
       "<html>\\(\\displaystyle 19 \\longrightarrow \\left(\\frac{1}{125}\\right) \\cdot (3864 a_{2_{0}}^{3} a_{2_{1}} + 360 a_{2_{0}}^{2} a_{2_{1}} a_{3_{0}} + 168 a_{2_{0}}^{3} a_{3_{1}} + 60 a_{2_{0}}^{2} a_{2_{1}} a_{4_{0}} + 24 a_{2_{0}}^{3} a_{4_{1}} - 247800 a_{2_{0}}^{2} a_{2_{1}} - 55230 a_{2_{0}} a_{2_{1}} a_{3_{0}} + 2790 a_{2_{1}} a_{3_{0}}^{2} - 23520 a_{2_{0}}^{2} a_{3_{1}} - 810 a_{2_{0}} a_{3_{0}} a_{3_{1}} + 1530 a_{3_{0}}^{2} a_{3_{1}} + 15680 a_{2_{0}} a_{2_{1}} a_{4_{0}} + 525 a_{2_{1}} a_{3_{0}} a_{4_{0}} + 810 a_{2_{0}} a_{3_{1}} a_{4_{0}} + 150 a_{3_{0}} a_{3_{1}} a_{4_{0}} + 150 a_{2_{1}} a_{4_{0}}^{2} + 5640 a_{2_{0}}^{2} a_{4_{1}} + 270 a_{2_{0}} a_{3_{0}} a_{4_{1}} + 90 a_{3_{0}}^{2} a_{4_{1}} + 330 a_{2_{0}} a_{4_{0}} a_{4_{1}} - 675 a_{2_{0}} a_{2_{1}} a_{5_{0}} - 150 a_{2_{1}} a_{3_{0}} a_{5_{0}} - 150 a_{2_{0}} a_{3_{1}} a_{5_{0}} - 180 a_{2_{0}}^{2} a_{5_{1}} - 120 a_{2_{0}} a_{3_{0}} a_{5_{1}} + 2343600 a_{2_{0}} a_{2_{1}} + 1641600 a_{2_{1}} a_{3_{0}} + 1512000 a_{2_{0}} a_{3_{1}} - 372600 a_{3_{0}} a_{3_{1}} - 789000 a_{2_{1}} a_{4_{0}} - 39000 a_{3_{1}} a_{4_{0}} - 576000 a_{2_{0}} a_{4_{1}} - 9000 a_{3_{0}} a_{4_{1}} - 9000 a_{4_{0}} a_{4_{1}} + 144000 a_{2_{1}} a_{5_{0}} + 21750 a_{3_{1}} a_{5_{0}} + 3375 a_{4_{1}} a_{5_{0}} + 84600 a_{2_{0}} a_{5_{1}} + 15900 a_{3_{0}} a_{5_{1}} + 2700 a_{4_{0}} a_{5_{1}} + 1350 a_{5_{0}} a_{5_{1}} - 1814400 a_{2_{1}} - 9072000 a_{3_{1}} + 9072000 a_{4_{1}} - 3024000 a_{5_{1}})\\)</html>"
      ],
      "text/latex": [
       "$\\displaystyle 19 \\longrightarrow \\left(\\frac{1}{125}\\right) \\cdot (3864 a_{2_{0}}^{3} a_{2_{1}} + 360 a_{2_{0}}^{2} a_{2_{1}} a_{3_{0}} + 168 a_{2_{0}}^{3} a_{3_{1}} + 60 a_{2_{0}}^{2} a_{2_{1}} a_{4_{0}} + 24 a_{2_{0}}^{3} a_{4_{1}} - 247800 a_{2_{0}}^{2} a_{2_{1}} - 55230 a_{2_{0}} a_{2_{1}} a_{3_{0}} + 2790 a_{2_{1}} a_{3_{0}}^{2} - 23520 a_{2_{0}}^{2} a_{3_{1}} - 810 a_{2_{0}} a_{3_{0}} a_{3_{1}} + 1530 a_{3_{0}}^{2} a_{3_{1}} + 15680 a_{2_{0}} a_{2_{1}} a_{4_{0}} + 525 a_{2_{1}} a_{3_{0}} a_{4_{0}} + 810 a_{2_{0}} a_{3_{1}} a_{4_{0}} + 150 a_{3_{0}} a_{3_{1}} a_{4_{0}} + 150 a_{2_{1}} a_{4_{0}}^{2} + 5640 a_{2_{0}}^{2} a_{4_{1}} + 270 a_{2_{0}} a_{3_{0}} a_{4_{1}} + 90 a_{3_{0}}^{2} a_{4_{1}} + 330 a_{2_{0}} a_{4_{0}} a_{4_{1}} - 675 a_{2_{0}} a_{2_{1}} a_{5_{0}} - 150 a_{2_{1}} a_{3_{0}} a_{5_{0}} - 150 a_{2_{0}} a_{3_{1}} a_{5_{0}} - 180 a_{2_{0}}^{2} a_{5_{1}} - 120 a_{2_{0}} a_{3_{0}} a_{5_{1}} + 2343600 a_{2_{0}} a_{2_{1}} + 1641600 a_{2_{1}} a_{3_{0}} + 1512000 a_{2_{0}} a_{3_{1}} - 372600 a_{3_{0}} a_{3_{1}} - 789000 a_{2_{1}} a_{4_{0}} - 39000 a_{3_{1}} a_{4_{0}} - 576000 a_{2_{0}} a_{4_{1}} - 9000 a_{3_{0}} a_{4_{1}} - 9000 a_{4_{0}} a_{4_{1}} + 144000 a_{2_{1}} a_{5_{0}} + 21750 a_{3_{1}} a_{5_{0}} + 3375 a_{4_{1}} a_{5_{0}} + 84600 a_{2_{0}} a_{5_{1}} + 15900 a_{3_{0}} a_{5_{1}} + 2700 a_{4_{0}} a_{5_{1}} + 1350 a_{5_{0}} a_{5_{1}} - 1814400 a_{2_{1}} - 9072000 a_{3_{1}} + 9072000 a_{4_{1}} - 3024000 a_{5_{1}})$"
      ],
      "text/plain": [
       "19 \\longrightarrow \\left(\\frac{1}{125}\\right) \\cdot (3864 a_{2_{0}}^{3} a_{2_{1}} + 360 a_{2_{0}}^{2} a_{2_{1}} a_{3_{0}} + 168 a_{2_{0}}^{3} a_{3_{1}} + 60 a_{2_{0}}^{2} a_{2_{1}} a_{4_{0}} + 24 a_{2_{0}}^{3} a_{4_{1}} - 247800 a_{2_{0}}^{2} a_{2_{1}} - 55230 a_{2_{0}} a_{2_{1}} a_{3_{0}} + 2790 a_{2_{1}} a_{3_{0}}^{2} - 23520 a_{2_{0}}^{2} a_{3_{1}} - 810 a_{2_{0}} a_{3_{0}} a_{3_{1}} + 1530 a_{3_{0}}^{2} a_{3_{1}} + 15680 a_{2_{0}} a_{2_{1}} a_{4_{0}} + 525 a_{2_{1}} a_{3_{0}} a_{4_{0}} + 810 a_{2_{0}} a_{3_{1}} a_{4_{0}} + 150 a_{3_{0}} a_{3_{1}} a_{4_{0}} + 150 a_{2_{1}} a_{4_{0}}^{2} + 5640 a_{2_{0}}^{2} a_{4_{1}} + 270 a_{2_{0}} a_{3_{0}} a_{4_{1}} + 90 a_{3_{0}}^{2} a_{4_{1}} + 330 a_{2_{0}} a_{4_{0}} a_{4_{1}} - 675 a_{2_{0}} a_{2_{1}} a_{5_{0}} - 150 a_{2_{1}} a_{3_{0}} a_{5_{0}} - 150 a_{2_{0}} a_{3_{1}} a_{5_{0}} - 180 a_{2_{0}}^{2} a_{5_{1}} - 120 a_{2_{0}} a_{3_{0}} a_{5_{1}} + 2343600 a_{2_{0}} a_{2_{1}} + 1641600 a_{2_{1}} a_{3_{0}} + 1512000 a_{2_{0}} a_{3_{1}} - 372600 a_{3_{0}} a_{3_{1}} - 789000 a_{2_{1}} a_{4_{0}} - 39000 a_{3_{1}} a_{4_{0}} - 576000 a_{2_{0}} a_{4_{1}} - 9000 a_{3_{0}} a_{4_{1}} - 9000 a_{4_{0}} a_{4_{1}} + 144000 a_{2_{1}} a_{5_{0}} + 21750 a_{3_{1}} a_{5_{0}} + 3375 a_{4_{1}} a_{5_{0}} + 84600 a_{2_{0}} a_{5_{1}} + 15900 a_{3_{0}} a_{5_{1}} + 2700 a_{4_{0}} a_{5_{1}} + 1350 a_{5_{0}} a_{5_{1}} - 1814400 a_{2_{1}} - 9072000 a_{3_{1}} + 9072000 a_{4_{1}} - 3024000 a_{5_{1}})"
      ]
     },
     "metadata": {},
     "output_type": "display_data"
    },
    {
     "data": {
      "text/html": [
       "<html>\\(\\displaystyle 20 \\longrightarrow \\left(\\frac{1}{125}\\right) \\cdot (360 a_{2_{1}}^{2} a_{2_{2}}^{2} + 288 a_{2_{0}} a_{2_{2}}^{3} + 24 a_{2_{1}} a_{2_{2}}^{2} a_{3_{1}} + 72 a_{2_{1}}^{2} a_{2_{2}} a_{3_{2}} + 72 a_{2_{0}} a_{2_{2}}^{2} a_{3_{2}} + 12 a_{2_{1}} a_{2_{2}}^{2} a_{4_{1}} + 24 a_{2_{1}}^{2} a_{2_{2}} a_{4_{2}} + 24 a_{2_{0}} a_{2_{2}}^{2} a_{4_{2}} - 360 a_{2_{1}}^{2} a_{2_{2}} c_{4} - 480 a_{2_{0}} a_{2_{2}}^{2} c_{4} - 40 a_{2_{1}} a_{2_{2}} a_{3_{1}} c_{4} - 60 a_{2_{1}}^{2} a_{3_{2}} c_{4} - 120 a_{2_{0}} a_{2_{2}} a_{3_{2}} c_{4} - 20 a_{2_{1}} a_{2_{2}} a_{4_{1}} c_{4} - 20 a_{2_{1}}^{2} a_{4_{2}} c_{4} - 40 a_{2_{0}} a_{2_{2}} a_{4_{2}} c_{4} - 360 a_{2_{2}}^{2} a_{3_{2}} + 270 a_{2_{2}} a_{3_{2}}^{2} + 90 a_{3_{2}}^{3} + 720 a_{2_{2}}^{2} a_{4_{2}} + 150 a_{2_{2}} a_{3_{2}} a_{4_{2}} + 30 a_{3_{2}}^{2} a_{4_{2}} + 60 a_{2_{2}} a_{4_{2}}^{2} - 180 a_{2_{2}}^{2} a_{5_{2}} - 90 a_{2_{2}} a_{3_{2}} a_{5_{2}} - 300 a_{2_{1}}^{2} c_{2} - 1200 a_{2_{0}} a_{2_{2}} c_{2} - 100 a_{2_{1}} a_{3_{1}} c_{2} - 300 a_{2_{0}} a_{3_{2}} c_{2} - 50 a_{2_{1}} a_{4_{1}} c_{2} - 100 a_{2_{0}} a_{4_{2}} c_{2} - 1800 a_{2_{1}} a_{2_{2}} c_{3} + 1800 a_{2_{2}} a_{3_{1}} c_{3} + 600 a_{3_{1}} a_{3_{2}} c_{3} + 75 a_{3_{2}} a_{4_{1}} c_{3} - 150 a_{2_{1}} a_{4_{2}} c_{3} + 150 a_{3_{1}} a_{4_{2}} c_{3} - 300 a_{2_{2}} a_{5_{1}} c_{3} - 225 a_{2_{1}} a_{5_{2}} c_{3} + 1200 a_{2_{2}} a_{3_{2}} c_{4} + 300 a_{3_{2}}^{2} c_{4} - 2400 a_{2_{2}} a_{4_{2}} c_{4} - 500 a_{3_{2}} a_{4_{2}} c_{4} - 200 a_{4_{2}}^{2} c_{4} + 1200 a_{2_{2}} a_{5_{2}} c_{4} + 300 a_{3_{2}} a_{5_{2}} c_{4} + 500 a_{5_{1}} c_{1} - 1500 a_{5_{2}} c_{2})\\)</html>"
      ],
      "text/latex": [
       "$\\displaystyle 20 \\longrightarrow \\left(\\frac{1}{125}\\right) \\cdot (360 a_{2_{1}}^{2} a_{2_{2}}^{2} + 288 a_{2_{0}} a_{2_{2}}^{3} + 24 a_{2_{1}} a_{2_{2}}^{2} a_{3_{1}} + 72 a_{2_{1}}^{2} a_{2_{2}} a_{3_{2}} + 72 a_{2_{0}} a_{2_{2}}^{2} a_{3_{2}} + 12 a_{2_{1}} a_{2_{2}}^{2} a_{4_{1}} + 24 a_{2_{1}}^{2} a_{2_{2}} a_{4_{2}} + 24 a_{2_{0}} a_{2_{2}}^{2} a_{4_{2}} - 360 a_{2_{1}}^{2} a_{2_{2}} c_{4} - 480 a_{2_{0}} a_{2_{2}}^{2} c_{4} - 40 a_{2_{1}} a_{2_{2}} a_{3_{1}} c_{4} - 60 a_{2_{1}}^{2} a_{3_{2}} c_{4} - 120 a_{2_{0}} a_{2_{2}} a_{3_{2}} c_{4} - 20 a_{2_{1}} a_{2_{2}} a_{4_{1}} c_{4} - 20 a_{2_{1}}^{2} a_{4_{2}} c_{4} - 40 a_{2_{0}} a_{2_{2}} a_{4_{2}} c_{4} - 360 a_{2_{2}}^{2} a_{3_{2}} + 270 a_{2_{2}} a_{3_{2}}^{2} + 90 a_{3_{2}}^{3} + 720 a_{2_{2}}^{2} a_{4_{2}} + 150 a_{2_{2}} a_{3_{2}} a_{4_{2}} + 30 a_{3_{2}}^{2} a_{4_{2}} + 60 a_{2_{2}} a_{4_{2}}^{2} - 180 a_{2_{2}}^{2} a_{5_{2}} - 90 a_{2_{2}} a_{3_{2}} a_{5_{2}} - 300 a_{2_{1}}^{2} c_{2} - 1200 a_{2_{0}} a_{2_{2}} c_{2} - 100 a_{2_{1}} a_{3_{1}} c_{2} - 300 a_{2_{0}} a_{3_{2}} c_{2} - 50 a_{2_{1}} a_{4_{1}} c_{2} - 100 a_{2_{0}} a_{4_{2}} c_{2} - 1800 a_{2_{1}} a_{2_{2}} c_{3} + 1800 a_{2_{2}} a_{3_{1}} c_{3} + 600 a_{3_{1}} a_{3_{2}} c_{3} + 75 a_{3_{2}} a_{4_{1}} c_{3} - 150 a_{2_{1}} a_{4_{2}} c_{3} + 150 a_{3_{1}} a_{4_{2}} c_{3} - 300 a_{2_{2}} a_{5_{1}} c_{3} - 225 a_{2_{1}} a_{5_{2}} c_{3} + 1200 a_{2_{2}} a_{3_{2}} c_{4} + 300 a_{3_{2}}^{2} c_{4} - 2400 a_{2_{2}} a_{4_{2}} c_{4} - 500 a_{3_{2}} a_{4_{2}} c_{4} - 200 a_{4_{2}}^{2} c_{4} + 1200 a_{2_{2}} a_{5_{2}} c_{4} + 300 a_{3_{2}} a_{5_{2}} c_{4} + 500 a_{5_{1}} c_{1} - 1500 a_{5_{2}} c_{2})$"
      ],
      "text/plain": [
       "20 \\longrightarrow \\left(\\frac{1}{125}\\right) \\cdot (360 a_{2_{1}}^{2} a_{2_{2}}^{2} + 288 a_{2_{0}} a_{2_{2}}^{3} + 24 a_{2_{1}} a_{2_{2}}^{2} a_{3_{1}} + 72 a_{2_{1}}^{2} a_{2_{2}} a_{3_{2}} + 72 a_{2_{0}} a_{2_{2}}^{2} a_{3_{2}} + 12 a_{2_{1}} a_{2_{2}}^{2} a_{4_{1}} + 24 a_{2_{1}}^{2} a_{2_{2}} a_{4_{2}} + 24 a_{2_{0}} a_{2_{2}}^{2} a_{4_{2}} - 360 a_{2_{1}}^{2} a_{2_{2}} c_{4} - 480 a_{2_{0}} a_{2_{2}}^{2} c_{4} - 40 a_{2_{1}} a_{2_{2}} a_{3_{1}} c_{4} - 60 a_{2_{1}}^{2} a_{3_{2}} c_{4} - 120 a_{2_{0}} a_{2_{2}} a_{3_{2}} c_{4} - 20 a_{2_{1}} a_{2_{2}} a_{4_{1}} c_{4} - 20 a_{2_{1}}^{2} a_{4_{2}} c_{4} - 40 a_{2_{0}} a_{2_{2}} a_{4_{2}} c_{4} - 360 a_{2_{2}}^{2} a_{3_{2}} + 270 a_{2_{2}} a_{3_{2}}^{2} + 90 a_{3_{2}}^{3} + 720 a_{2_{2}}^{2} a_{4_{2}} + 150 a_{2_{2}} a_{3_{2}} a_{4_{2}} + 30 a_{3_{2}}^{2} a_{4_{2}} + 60 a_{2_{2}} a_{4_{2}}^{2} - 180 a_{2_{2}}^{2} a_{5_{2}} - 90 a_{2_{2}} a_{3_{2}} a_{5_{2}} - 300 a_{2_{1}}^{2} c_{2} - 1200 a_{2_{0}} a_{2_{2}} c_{2} - 100 a_{2_{1}} a_{3_{1}} c_{2} - 300 a_{2_{0}} a_{3_{2}} c_{2} - 50 a_{2_{1}} a_{4_{1}} c_{2} - 100 a_{2_{0}} a_{4_{2}} c_{2} - 1800 a_{2_{1}} a_{2_{2}} c_{3} + 1800 a_{2_{2}} a_{3_{1}} c_{3} + 600 a_{3_{1}} a_{3_{2}} c_{3} + 75 a_{3_{2}} a_{4_{1}} c_{3} - 150 a_{2_{1}} a_{4_{2}} c_{3} + 150 a_{3_{1}} a_{4_{2}} c_{3} - 300 a_{2_{2}} a_{5_{1}} c_{3} - 225 a_{2_{1}} a_{5_{2}} c_{3} + 1200 a_{2_{2}} a_{3_{2}} c_{4} + 300 a_{3_{2}}^{2} c_{4} - 2400 a_{2_{2}} a_{4_{2}} c_{4} - 500 a_{3_{2}} a_{4_{2}} c_{4} - 200 a_{4_{2}}^{2} c_{4} + 1200 a_{2_{2}} a_{5_{2}} c_{4} + 300 a_{3_{2}} a_{5_{2}} c_{4} + 500 a_{5_{1}} c_{1} - 1500 a_{5_{2}} c_{2})"
      ]
     },
     "metadata": {},
     "output_type": "display_data"
    },
    {
     "data": {
      "text/html": [
       "<html>\\(\\displaystyle 21 \\longrightarrow \\left(-\\frac{6}{125}\\right) \\cdot (-54 a_{2_{0}}^{2} a_{2_{1}}^{2} - 36 a_{2_{0}}^{3} a_{2_{2}} + 20 a_{2_{0}}^{3} c_{4} + 3000 a_{2_{0}} a_{2_{1}}^{2} + 3120 a_{2_{0}}^{2} a_{2_{2}} - 90 a_{2_{1}}^{2} a_{3_{0}} - 180 a_{2_{0}} a_{2_{2}} a_{3_{0}} - 60 a_{2_{2}} a_{3_{0}}^{2} - 120 a_{2_{0}} a_{2_{1}} a_{3_{1}} - 120 a_{2_{1}} a_{3_{0}} a_{3_{1}} - 60 a_{2_{0}} a_{3_{1}}^{2} - 30 a_{2_{0}}^{2} a_{3_{2}} - 120 a_{2_{0}} a_{3_{0}} a_{3_{2}} - 60 a_{2_{1}}^{2} a_{4_{0}} - 120 a_{2_{0}} a_{2_{2}} a_{4_{0}} - 120 a_{2_{0}} a_{2_{1}} a_{4_{1}} - 60 a_{2_{0}}^{2} a_{4_{2}} - 2200 a_{2_{0}}^{2} c_{4} + 150 a_{2_{0}} a_{3_{0}} c_{4} + 50 a_{3_{0}}^{2} c_{4} + 100 a_{2_{0}} a_{4_{0}} c_{4} - 10500 a_{2_{1}}^{2} - 28200 a_{2_{0}} a_{2_{2}} - 3350 a_{2_{1}} a_{3_{1}} + 2850 a_{3_{1}}^{2} - 6150 a_{2_{0}} a_{3_{2}} + 5900 a_{3_{0}} a_{3_{2}} + 4500 a_{2_{2}} a_{4_{0}} - 675 a_{3_{2}} a_{4_{0}} + 4750 a_{2_{1}} a_{4_{1}} - 600 a_{3_{1}} a_{4_{1}} - 75 a_{4_{1}}^{2} + 5250 a_{2_{0}} a_{4_{2}} - 525 a_{3_{0}} a_{4_{2}} - 150 a_{4_{0}} a_{4_{2}} - 1125 a_{2_{2}} a_{5_{0}} - 150 a_{3_{2}} a_{5_{0}} - 900 a_{2_{1}} a_{5_{1}} - 150 a_{3_{1}} a_{5_{1}} - 675 a_{2_{0}} a_{5_{2}} - 150 a_{3_{0}} a_{5_{2}} + 18000 a_{2_{0}} c_{4} + 7500 a_{3_{0}} c_{4} - 10000 a_{4_{0}} c_{4} + 3750 a_{5_{0}} c_{4} + 6000 a_{3_{2}} - 33000 a_{4_{2}} + 22500 a_{5_{2}})\\)</html>"
      ],
      "text/latex": [
       "$\\displaystyle 21 \\longrightarrow \\left(-\\frac{6}{125}\\right) \\cdot (-54 a_{2_{0}}^{2} a_{2_{1}}^{2} - 36 a_{2_{0}}^{3} a_{2_{2}} + 20 a_{2_{0}}^{3} c_{4} + 3000 a_{2_{0}} a_{2_{1}}^{2} + 3120 a_{2_{0}}^{2} a_{2_{2}} - 90 a_{2_{1}}^{2} a_{3_{0}} - 180 a_{2_{0}} a_{2_{2}} a_{3_{0}} - 60 a_{2_{2}} a_{3_{0}}^{2} - 120 a_{2_{0}} a_{2_{1}} a_{3_{1}} - 120 a_{2_{1}} a_{3_{0}} a_{3_{1}} - 60 a_{2_{0}} a_{3_{1}}^{2} - 30 a_{2_{0}}^{2} a_{3_{2}} - 120 a_{2_{0}} a_{3_{0}} a_{3_{2}} - 60 a_{2_{1}}^{2} a_{4_{0}} - 120 a_{2_{0}} a_{2_{2}} a_{4_{0}} - 120 a_{2_{0}} a_{2_{1}} a_{4_{1}} - 60 a_{2_{0}}^{2} a_{4_{2}} - 2200 a_{2_{0}}^{2} c_{4} + 150 a_{2_{0}} a_{3_{0}} c_{4} + 50 a_{3_{0}}^{2} c_{4} + 100 a_{2_{0}} a_{4_{0}} c_{4} - 10500 a_{2_{1}}^{2} - 28200 a_{2_{0}} a_{2_{2}} - 3350 a_{2_{1}} a_{3_{1}} + 2850 a_{3_{1}}^{2} - 6150 a_{2_{0}} a_{3_{2}} + 5900 a_{3_{0}} a_{3_{2}} + 4500 a_{2_{2}} a_{4_{0}} - 675 a_{3_{2}} a_{4_{0}} + 4750 a_{2_{1}} a_{4_{1}} - 600 a_{3_{1}} a_{4_{1}} - 75 a_{4_{1}}^{2} + 5250 a_{2_{0}} a_{4_{2}} - 525 a_{3_{0}} a_{4_{2}} - 150 a_{4_{0}} a_{4_{2}} - 1125 a_{2_{2}} a_{5_{0}} - 150 a_{3_{2}} a_{5_{0}} - 900 a_{2_{1}} a_{5_{1}} - 150 a_{3_{1}} a_{5_{1}} - 675 a_{2_{0}} a_{5_{2}} - 150 a_{3_{0}} a_{5_{2}} + 18000 a_{2_{0}} c_{4} + 7500 a_{3_{0}} c_{4} - 10000 a_{4_{0}} c_{4} + 3750 a_{5_{0}} c_{4} + 6000 a_{3_{2}} - 33000 a_{4_{2}} + 22500 a_{5_{2}})$"
      ],
      "text/plain": [
       "21 \\longrightarrow \\left(-\\frac{6}{125}\\right) \\cdot (-54 a_{2_{0}}^{2} a_{2_{1}}^{2} - 36 a_{2_{0}}^{3} a_{2_{2}} + 20 a_{2_{0}}^{3} c_{4} + 3000 a_{2_{0}} a_{2_{1}}^{2} + 3120 a_{2_{0}}^{2} a_{2_{2}} - 90 a_{2_{1}}^{2} a_{3_{0}} - 180 a_{2_{0}} a_{2_{2}} a_{3_{0}} - 60 a_{2_{2}} a_{3_{0}}^{2} - 120 a_{2_{0}} a_{2_{1}} a_{3_{1}} - 120 a_{2_{1}} a_{3_{0}} a_{3_{1}} - 60 a_{2_{0}} a_{3_{1}}^{2} - 30 a_{2_{0}}^{2} a_{3_{2}} - 120 a_{2_{0}} a_{3_{0}} a_{3_{2}} - 60 a_{2_{1}}^{2} a_{4_{0}} - 120 a_{2_{0}} a_{2_{2}} a_{4_{0}} - 120 a_{2_{0}} a_{2_{1}} a_{4_{1}} - 60 a_{2_{0}}^{2} a_{4_{2}} - 2200 a_{2_{0}}^{2} c_{4} + 150 a_{2_{0}} a_{3_{0}} c_{4} + 50 a_{3_{0}}^{2} c_{4} + 100 a_{2_{0}} a_{4_{0}} c_{4} - 10500 a_{2_{1}}^{2} - 28200 a_{2_{0}} a_{2_{2}} - 3350 a_{2_{1}} a_{3_{1}} + 2850 a_{3_{1}}^{2} - 6150 a_{2_{0}} a_{3_{2}} + 5900 a_{3_{0}} a_{3_{2}} + 4500 a_{2_{2}} a_{4_{0}} - 675 a_{3_{2}} a_{4_{0}} + 4750 a_{2_{1}} a_{4_{1}} - 600 a_{3_{1}} a_{4_{1}} - 75 a_{4_{1}}^{2} + 5250 a_{2_{0}} a_{4_{2}} - 525 a_{3_{0}} a_{4_{2}} - 150 a_{4_{0}} a_{4_{2}} - 1125 a_{2_{2}} a_{5_{0}} - 150 a_{3_{2}} a_{5_{0}} - 900 a_{2_{1}} a_{5_{1}} - 150 a_{3_{1}} a_{5_{1}} - 675 a_{2_{0}} a_{5_{2}} - 150 a_{3_{0}} a_{5_{2}} + 18000 a_{2_{0}} c_{4} + 7500 a_{3_{0}} c_{4} - 10000 a_{4_{0}} c_{4} + 3750 a_{5_{0}} c_{4} + 6000 a_{3_{2}} - 33000 a_{4_{2}} + 22500 a_{5_{2}})"
      ]
     },
     "metadata": {},
     "output_type": "display_data"
    },
    {
     "data": {
      "text/html": [
       "<html>\\(\\displaystyle 22 \\longrightarrow \\left(-\\frac{4}{125}\\right) \\cdot (-9 a_{2_{1}}^{4} - 108 a_{2_{0}} a_{2_{1}}^{2} a_{2_{2}} - 54 a_{2_{0}}^{2} a_{2_{2}}^{2} + 60 a_{2_{0}} a_{2_{1}}^{2} c_{4} + 60 a_{2_{0}}^{2} a_{2_{2}} c_{4} + 960 a_{2_{1}}^{2} a_{2_{2}} + 1080 a_{2_{0}} a_{2_{2}}^{2} - 90 a_{2_{2}}^{2} a_{3_{0}} - 120 a_{2_{1}} a_{2_{2}} a_{3_{1}} - 60 a_{2_{2}} a_{3_{1}}^{2} - 30 a_{2_{1}}^{2} a_{3_{2}} - 60 a_{2_{0}} a_{2_{2}} a_{3_{2}} - 120 a_{2_{2}} a_{3_{0}} a_{3_{2}} - 120 a_{2_{1}} a_{3_{1}} a_{3_{2}} - 60 a_{2_{0}} a_{3_{2}}^{2} - 60 a_{2_{2}}^{2} a_{4_{0}} - 120 a_{2_{1}} a_{2_{2}} a_{4_{1}} - 60 a_{2_{1}}^{2} a_{4_{2}} - 120 a_{2_{0}} a_{2_{2}} a_{4_{2}} + 75 a_{2_{0}}^{2} c_{2} - 150 a_{2_{1}} a_{3_{0}} c_{3} - 150 a_{2_{0}} a_{3_{1}} c_{3} - 675 a_{2_{1}}^{2} c_{4} - 1500 a_{2_{0}} a_{2_{2}} c_{4} + 150 a_{2_{2}} a_{3_{0}} c_{4} + 100 a_{2_{1}} a_{3_{1}} c_{4} + 50 a_{3_{1}}^{2} c_{4} + 50 a_{2_{0}} a_{3_{2}} c_{4} + 100 a_{3_{0}} a_{3_{2}} c_{4} + 100 a_{2_{2}} a_{4_{0}} c_{4} + 100 a_{2_{1}} a_{4_{1}} c_{4} + 100 a_{2_{0}} a_{4_{2}} c_{4} + 875 a_{3_{2}}^{2} + 1350 a_{2_{2}} a_{4_{2}} - 375 a_{3_{2}} a_{4_{2}} - 75 a_{4_{2}}^{2} - 675 a_{2_{2}} a_{5_{2}} - 150 a_{3_{2}} a_{5_{2}} - 3000 a_{2_{0}} c_{2} + 375 a_{3_{0}} c_{2} + 250 a_{4_{0}} c_{2} - 2250 a_{2_{1}} c_{3} + 3750 a_{3_{1}} c_{3} - 1125 a_{4_{1}} c_{3} - 375 a_{5_{1}} c_{3} + 750 a_{3_{2}} c_{4} - 3000 a_{4_{2}} c_{4} + 2250 a_{5_{2}} c_{4})\\)</html>"
      ],
      "text/latex": [
       "$\\displaystyle 22 \\longrightarrow \\left(-\\frac{4}{125}\\right) \\cdot (-9 a_{2_{1}}^{4} - 108 a_{2_{0}} a_{2_{1}}^{2} a_{2_{2}} - 54 a_{2_{0}}^{2} a_{2_{2}}^{2} + 60 a_{2_{0}} a_{2_{1}}^{2} c_{4} + 60 a_{2_{0}}^{2} a_{2_{2}} c_{4} + 960 a_{2_{1}}^{2} a_{2_{2}} + 1080 a_{2_{0}} a_{2_{2}}^{2} - 90 a_{2_{2}}^{2} a_{3_{0}} - 120 a_{2_{1}} a_{2_{2}} a_{3_{1}} - 60 a_{2_{2}} a_{3_{1}}^{2} - 30 a_{2_{1}}^{2} a_{3_{2}} - 60 a_{2_{0}} a_{2_{2}} a_{3_{2}} - 120 a_{2_{2}} a_{3_{0}} a_{3_{2}} - 120 a_{2_{1}} a_{3_{1}} a_{3_{2}} - 60 a_{2_{0}} a_{3_{2}}^{2} - 60 a_{2_{2}}^{2} a_{4_{0}} - 120 a_{2_{1}} a_{2_{2}} a_{4_{1}} - 60 a_{2_{1}}^{2} a_{4_{2}} - 120 a_{2_{0}} a_{2_{2}} a_{4_{2}} + 75 a_{2_{0}}^{2} c_{2} - 150 a_{2_{1}} a_{3_{0}} c_{3} - 150 a_{2_{0}} a_{3_{1}} c_{3} - 675 a_{2_{1}}^{2} c_{4} - 1500 a_{2_{0}} a_{2_{2}} c_{4} + 150 a_{2_{2}} a_{3_{0}} c_{4} + 100 a_{2_{1}} a_{3_{1}} c_{4} + 50 a_{3_{1}}^{2} c_{4} + 50 a_{2_{0}} a_{3_{2}} c_{4} + 100 a_{3_{0}} a_{3_{2}} c_{4} + 100 a_{2_{2}} a_{4_{0}} c_{4} + 100 a_{2_{1}} a_{4_{1}} c_{4} + 100 a_{2_{0}} a_{4_{2}} c_{4} + 875 a_{3_{2}}^{2} + 1350 a_{2_{2}} a_{4_{2}} - 375 a_{3_{2}} a_{4_{2}} - 75 a_{4_{2}}^{2} - 675 a_{2_{2}} a_{5_{2}} - 150 a_{3_{2}} a_{5_{2}} - 3000 a_{2_{0}} c_{2} + 375 a_{3_{0}} c_{2} + 250 a_{4_{0}} c_{2} - 2250 a_{2_{1}} c_{3} + 3750 a_{3_{1}} c_{3} - 1125 a_{4_{1}} c_{3} - 375 a_{5_{1}} c_{3} + 750 a_{3_{2}} c_{4} - 3000 a_{4_{2}} c_{4} + 2250 a_{5_{2}} c_{4})$"
      ],
      "text/plain": [
       "22 \\longrightarrow \\left(-\\frac{4}{125}\\right) \\cdot (-9 a_{2_{1}}^{4} - 108 a_{2_{0}} a_{2_{1}}^{2} a_{2_{2}} - 54 a_{2_{0}}^{2} a_{2_{2}}^{2} + 60 a_{2_{0}} a_{2_{1}}^{2} c_{4} + 60 a_{2_{0}}^{2} a_{2_{2}} c_{4} + 960 a_{2_{1}}^{2} a_{2_{2}} + 1080 a_{2_{0}} a_{2_{2}}^{2} - 90 a_{2_{2}}^{2} a_{3_{0}} - 120 a_{2_{1}} a_{2_{2}} a_{3_{1}} - 60 a_{2_{2}} a_{3_{1}}^{2} - 30 a_{2_{1}}^{2} a_{3_{2}} - 60 a_{2_{0}} a_{2_{2}} a_{3_{2}} - 120 a_{2_{2}} a_{3_{0}} a_{3_{2}} - 120 a_{2_{1}} a_{3_{1}} a_{3_{2}} - 60 a_{2_{0}} a_{3_{2}}^{2} - 60 a_{2_{2}}^{2} a_{4_{0}} - 120 a_{2_{1}} a_{2_{2}} a_{4_{1}} - 60 a_{2_{1}}^{2} a_{4_{2}} - 120 a_{2_{0}} a_{2_{2}} a_{4_{2}} + 75 a_{2_{0}}^{2} c_{2} - 150 a_{2_{1}} a_{3_{0}} c_{3} - 150 a_{2_{0}} a_{3_{1}} c_{3} - 675 a_{2_{1}}^{2} c_{4} - 1500 a_{2_{0}} a_{2_{2}} c_{4} + 150 a_{2_{2}} a_{3_{0}} c_{4} + 100 a_{2_{1}} a_{3_{1}} c_{4} + 50 a_{3_{1}}^{2} c_{4} + 50 a_{2_{0}} a_{3_{2}} c_{4} + 100 a_{3_{0}} a_{3_{2}} c_{4} + 100 a_{2_{2}} a_{4_{0}} c_{4} + 100 a_{2_{1}} a_{4_{1}} c_{4} + 100 a_{2_{0}} a_{4_{2}} c_{4} + 875 a_{3_{2}}^{2} + 1350 a_{2_{2}} a_{4_{2}} - 375 a_{3_{2}} a_{4_{2}} - 75 a_{4_{2}}^{2} - 675 a_{2_{2}} a_{5_{2}} - 150 a_{3_{2}} a_{5_{2}} - 3000 a_{2_{0}} c_{2} + 375 a_{3_{0}} c_{2} + 250 a_{4_{0}} c_{2} - 2250 a_{2_{1}} c_{3} + 3750 a_{3_{1}} c_{3} - 1125 a_{4_{1}} c_{3} - 375 a_{5_{1}} c_{3} + 750 a_{3_{2}} c_{4} - 3000 a_{4_{2}} c_{4} + 2250 a_{5_{2}} c_{4})"
      ]
     },
     "metadata": {},
     "output_type": "display_data"
    },
    {
     "data": {
      "text/html": [
       "<html>\\(\\displaystyle 23 \\longrightarrow \\left(-\\frac{2}{125}\\right) \\cdot (180 a_{2_{1}}^{3} a_{2_{2}} + 576 a_{2_{0}} a_{2_{1}} a_{2_{2}}^{2} + 12 a_{2_{1}} a_{2_{2}}^{2} a_{3_{0}} + 24 a_{2_{1}}^{2} a_{2_{2}} a_{3_{1}} + 24 a_{2_{0}} a_{2_{2}}^{2} a_{3_{1}} + 12 a_{2_{1}}^{3} a_{3_{2}} + 72 a_{2_{0}} a_{2_{1}} a_{2_{2}} a_{3_{2}} - 90 a_{2_{1}}^{3} c_{4} - 600 a_{2_{0}} a_{2_{1}} a_{2_{2}} c_{4} - 20 a_{2_{1}} a_{2_{2}} a_{3_{0}} c_{4} - 20 a_{2_{1}}^{2} a_{3_{1}} c_{4} - 40 a_{2_{0}} a_{2_{2}} a_{3_{1}} c_{4} - 60 a_{2_{0}} a_{2_{1}} a_{3_{2}} c_{4} - 1440 a_{2_{1}} a_{2_{2}}^{2} - 180 a_{2_{2}}^{2} a_{3_{1}} - 630 a_{2_{1}} a_{2_{2}} a_{3_{2}} + 540 a_{2_{2}} a_{3_{1}} a_{3_{2}} + 90 a_{2_{1}} a_{3_{2}}^{2} + 120 a_{3_{1}} a_{3_{2}}^{2} + 450 a_{2_{2}}^{2} a_{4_{1}} + 60 a_{2_{2}} a_{3_{2}} a_{4_{1}} + 720 a_{2_{1}} a_{2_{2}} a_{4_{2}} + 60 a_{2_{2}} a_{3_{1}} a_{4_{2}} + 90 a_{2_{1}} a_{3_{2}} a_{4_{2}} - 60 a_{2_{2}}^{2} a_{5_{1}} - 90 a_{2_{1}} a_{2_{2}} a_{5_{2}} - 600 a_{2_{0}} a_{2_{1}} c_{2} - 50 a_{2_{1}} a_{3_{0}} c_{2} - 100 a_{2_{0}} a_{3_{1}} c_{2} - 450 a_{2_{1}}^{2} c_{3} - 1800 a_{2_{0}} a_{2_{2}} c_{3} + 1350 a_{2_{2}} a_{3_{0}} c_{3} + 600 a_{2_{1}} a_{3_{1}} c_{3} + 150 a_{3_{1}}^{2} c_{3} + 300 a_{3_{0}} a_{3_{2}} c_{3} - 150 a_{2_{2}} a_{4_{0}} c_{3} - 75 a_{2_{1}} a_{4_{1}} c_{3} + 1800 a_{2_{1}} a_{2_{2}} c_{4} + 600 a_{2_{2}} a_{3_{1}} c_{4} + 300 a_{2_{1}} a_{3_{2}} c_{4} - 1200 a_{2_{2}} a_{4_{1}} c_{4} - 200 a_{3_{2}} a_{4_{1}} c_{4} - 600 a_{2_{1}} a_{4_{2}} c_{4} - 200 a_{3_{1}} a_{4_{2}} c_{4} + 400 a_{2_{2}} a_{5_{1}} c_{4} + 300 a_{2_{1}} a_{5_{2}} c_{4} + 250 a_{4_{0}} c_{1} + 3000 a_{2_{1}} c_{2} - 750 a_{4_{1}} c_{2} - 500 a_{5_{1}} c_{2} - 4500 a_{3_{2}} c_{3} + 1500 a_{4_{2}} c_{3} + 2250 a_{5_{2}} c_{3})\\)</html>"
      ],
      "text/latex": [
       "$\\displaystyle 23 \\longrightarrow \\left(-\\frac{2}{125}\\right) \\cdot (180 a_{2_{1}}^{3} a_{2_{2}} + 576 a_{2_{0}} a_{2_{1}} a_{2_{2}}^{2} + 12 a_{2_{1}} a_{2_{2}}^{2} a_{3_{0}} + 24 a_{2_{1}}^{2} a_{2_{2}} a_{3_{1}} + 24 a_{2_{0}} a_{2_{2}}^{2} a_{3_{1}} + 12 a_{2_{1}}^{3} a_{3_{2}} + 72 a_{2_{0}} a_{2_{1}} a_{2_{2}} a_{3_{2}} - 90 a_{2_{1}}^{3} c_{4} - 600 a_{2_{0}} a_{2_{1}} a_{2_{2}} c_{4} - 20 a_{2_{1}} a_{2_{2}} a_{3_{0}} c_{4} - 20 a_{2_{1}}^{2} a_{3_{1}} c_{4} - 40 a_{2_{0}} a_{2_{2}} a_{3_{1}} c_{4} - 60 a_{2_{0}} a_{2_{1}} a_{3_{2}} c_{4} - 1440 a_{2_{1}} a_{2_{2}}^{2} - 180 a_{2_{2}}^{2} a_{3_{1}} - 630 a_{2_{1}} a_{2_{2}} a_{3_{2}} + 540 a_{2_{2}} a_{3_{1}} a_{3_{2}} + 90 a_{2_{1}} a_{3_{2}}^{2} + 120 a_{3_{1}} a_{3_{2}}^{2} + 450 a_{2_{2}}^{2} a_{4_{1}} + 60 a_{2_{2}} a_{3_{2}} a_{4_{1}} + 720 a_{2_{1}} a_{2_{2}} a_{4_{2}} + 60 a_{2_{2}} a_{3_{1}} a_{4_{2}} + 90 a_{2_{1}} a_{3_{2}} a_{4_{2}} - 60 a_{2_{2}}^{2} a_{5_{1}} - 90 a_{2_{1}} a_{2_{2}} a_{5_{2}} - 600 a_{2_{0}} a_{2_{1}} c_{2} - 50 a_{2_{1}} a_{3_{0}} c_{2} - 100 a_{2_{0}} a_{3_{1}} c_{2} - 450 a_{2_{1}}^{2} c_{3} - 1800 a_{2_{0}} a_{2_{2}} c_{3} + 1350 a_{2_{2}} a_{3_{0}} c_{3} + 600 a_{2_{1}} a_{3_{1}} c_{3} + 150 a_{3_{1}}^{2} c_{3} + 300 a_{3_{0}} a_{3_{2}} c_{3} - 150 a_{2_{2}} a_{4_{0}} c_{3} - 75 a_{2_{1}} a_{4_{1}} c_{3} + 1800 a_{2_{1}} a_{2_{2}} c_{4} + 600 a_{2_{2}} a_{3_{1}} c_{4} + 300 a_{2_{1}} a_{3_{2}} c_{4} - 1200 a_{2_{2}} a_{4_{1}} c_{4} - 200 a_{3_{2}} a_{4_{1}} c_{4} - 600 a_{2_{1}} a_{4_{2}} c_{4} - 200 a_{3_{1}} a_{4_{2}} c_{4} + 400 a_{2_{2}} a_{5_{1}} c_{4} + 300 a_{2_{1}} a_{5_{2}} c_{4} + 250 a_{4_{0}} c_{1} + 3000 a_{2_{1}} c_{2} - 750 a_{4_{1}} c_{2} - 500 a_{5_{1}} c_{2} - 4500 a_{3_{2}} c_{3} + 1500 a_{4_{2}} c_{3} + 2250 a_{5_{2}} c_{3})$"
      ],
      "text/plain": [
       "23 \\longrightarrow \\left(-\\frac{2}{125}\\right) \\cdot (180 a_{2_{1}}^{3} a_{2_{2}} + 576 a_{2_{0}} a_{2_{1}} a_{2_{2}}^{2} + 12 a_{2_{1}} a_{2_{2}}^{2} a_{3_{0}} + 24 a_{2_{1}}^{2} a_{2_{2}} a_{3_{1}} + 24 a_{2_{0}} a_{2_{2}}^{2} a_{3_{1}} + 12 a_{2_{1}}^{3} a_{3_{2}} + 72 a_{2_{0}} a_{2_{1}} a_{2_{2}} a_{3_{2}} - 90 a_{2_{1}}^{3} c_{4} - 600 a_{2_{0}} a_{2_{1}} a_{2_{2}} c_{4} - 20 a_{2_{1}} a_{2_{2}} a_{3_{0}} c_{4} - 20 a_{2_{1}}^{2} a_{3_{1}} c_{4} - 40 a_{2_{0}} a_{2_{2}} a_{3_{1}} c_{4} - 60 a_{2_{0}} a_{2_{1}} a_{3_{2}} c_{4} - 1440 a_{2_{1}} a_{2_{2}}^{2} - 180 a_{2_{2}}^{2} a_{3_{1}} - 630 a_{2_{1}} a_{2_{2}} a_{3_{2}} + 540 a_{2_{2}} a_{3_{1}} a_{3_{2}} + 90 a_{2_{1}} a_{3_{2}}^{2} + 120 a_{3_{1}} a_{3_{2}}^{2} + 450 a_{2_{2}}^{2} a_{4_{1}} + 60 a_{2_{2}} a_{3_{2}} a_{4_{1}} + 720 a_{2_{1}} a_{2_{2}} a_{4_{2}} + 60 a_{2_{2}} a_{3_{1}} a_{4_{2}} + 90 a_{2_{1}} a_{3_{2}} a_{4_{2}} - 60 a_{2_{2}}^{2} a_{5_{1}} - 90 a_{2_{1}} a_{2_{2}} a_{5_{2}} - 600 a_{2_{0}} a_{2_{1}} c_{2} - 50 a_{2_{1}} a_{3_{0}} c_{2} - 100 a_{2_{0}} a_{3_{1}} c_{2} - 450 a_{2_{1}}^{2} c_{3} - 1800 a_{2_{0}} a_{2_{2}} c_{3} + 1350 a_{2_{2}} a_{3_{0}} c_{3} + 600 a_{2_{1}} a_{3_{1}} c_{3} + 150 a_{3_{1}}^{2} c_{3} + 300 a_{3_{0}} a_{3_{2}} c_{3} - 150 a_{2_{2}} a_{4_{0}} c_{3} - 75 a_{2_{1}} a_{4_{1}} c_{3} + 1800 a_{2_{1}} a_{2_{2}} c_{4} + 600 a_{2_{2}} a_{3_{1}} c_{4} + 300 a_{2_{1}} a_{3_{2}} c_{4} - 1200 a_{2_{2}} a_{4_{1}} c_{4} - 200 a_{3_{2}} a_{4_{1}} c_{4} - 600 a_{2_{1}} a_{4_{2}} c_{4} - 200 a_{3_{1}} a_{4_{2}} c_{4} + 400 a_{2_{2}} a_{5_{1}} c_{4} + 300 a_{2_{1}} a_{5_{2}} c_{4} + 250 a_{4_{0}} c_{1} + 3000 a_{2_{1}} c_{2} - 750 a_{4_{1}} c_{2} - 500 a_{5_{1}} c_{2} - 4500 a_{3_{2}} c_{3} + 1500 a_{4_{2}} c_{3} + 2250 a_{5_{2}} c_{3})"
      ]
     },
     "metadata": {},
     "output_type": "display_data"
    },
    {
     "data": {
      "text/html": [
       "<html>\\(\\displaystyle 24 \\longrightarrow \\left(-\\frac{1}{125}\\right) \\cdot (1800 a_{2_{0}}^{2} a_{2_{1}}^{2} + 1224 a_{2_{0}}^{3} a_{2_{2}} + 96 a_{2_{0}} a_{2_{1}}^{2} a_{3_{0}} + 96 a_{2_{0}}^{2} a_{2_{2}} a_{3_{0}} + 120 a_{2_{0}}^{2} a_{2_{1}} a_{3_{1}} + 48 a_{2_{0}}^{3} a_{3_{2}} - 600 a_{2_{0}}^{3} c_{4} - 80 a_{2_{0}}^{2} a_{3_{0}} c_{4} - 71400 a_{2_{0}} a_{2_{1}}^{2} - 77760 a_{2_{0}}^{2} a_{2_{2}} - 3610 a_{2_{1}}^{2} a_{3_{0}} - 8910 a_{2_{0}} a_{2_{2}} a_{3_{0}} + 1890 a_{2_{2}} a_{3_{0}}^{2} - 8600 a_{2_{0}} a_{2_{1}} a_{3_{1}} + 2430 a_{2_{1}} a_{3_{0}} a_{3_{1}} + 600 a_{2_{0}} a_{3_{1}}^{2} + 420 a_{3_{0}} a_{3_{1}}^{2} - 4920 a_{2_{0}}^{2} a_{3_{2}} + 1200 a_{2_{0}} a_{3_{0}} a_{3_{2}} + 420 a_{3_{0}}^{2} a_{3_{2}} + 2415 a_{2_{1}}^{2} a_{4_{0}} + 5010 a_{2_{0}} a_{2_{2}} a_{4_{0}} + 210 a_{2_{2}} a_{3_{0}} a_{4_{0}} + 270 a_{2_{1}} a_{3_{1}} a_{4_{0}} + 330 a_{2_{0}} a_{3_{2}} a_{4_{0}} + 4095 a_{2_{0}} a_{2_{1}} a_{4_{1}} + 270 a_{2_{1}} a_{3_{0}} a_{4_{1}} + 330 a_{2_{0}} a_{3_{1}} a_{4_{1}} + 1620 a_{2_{0}}^{2} a_{4_{2}} + 330 a_{2_{0}} a_{3_{0}} a_{4_{2}} - 150 a_{2_{1}}^{2} a_{5_{0}} - 300 a_{2_{0}} a_{2_{2}} a_{5_{0}} - 240 a_{2_{0}} a_{2_{1}} a_{5_{1}} - 90 a_{2_{0}}^{2} a_{5_{2}} + 48000 a_{2_{0}}^{2} c_{4} + 4200 a_{2_{0}} a_{3_{0}} c_{4} - 4100 a_{2_{0}} a_{4_{0}} c_{4} - 700 a_{3_{0}} a_{4_{0}} c_{4} + 1000 a_{2_{0}} a_{5_{0}} c_{4} + 213600 a_{2_{1}}^{2} + 655200 a_{2_{0}} a_{2_{2}} + 176400 a_{2_{2}} a_{3_{0}} + 198600 a_{2_{1}} a_{3_{1}} - 63000 a_{3_{1}}^{2} + 267600 a_{2_{0}} a_{3_{2}} - 126000 a_{3_{0}} a_{3_{2}} - 189000 a_{2_{2}} a_{4_{0}} - 1400 a_{3_{2}} a_{4_{0}} - 147150 a_{2_{1}} a_{4_{1}} + 1575 a_{4_{1}}^{2} - 127800 a_{2_{0}} a_{4_{2}} - 1050 a_{3_{0}} a_{4_{2}} + 3150 a_{4_{0}} a_{4_{2}} + 47250 a_{2_{2}} a_{5_{0}} + 5250 a_{3_{2}} a_{5_{0}} + 1050 a_{4_{2}} a_{5_{0}} + 32300 a_{2_{1}} a_{5_{1}} + 4200 a_{3_{1}} a_{5_{1}} + 1050 a_{4_{1}} a_{5_{1}} + 20700 a_{2_{0}} a_{5_{2}} + 3150 a_{3_{0}} a_{5_{2}} + 1050 a_{4_{0}} a_{5_{2}} - 252000 a_{2_{0}} c_{4} - 378000 a_{3_{0}} c_{4} + 315000 a_{4_{0}} c_{4} - 105000 a_{5_{0}} c_{4} - 378000 a_{3_{2}} + 1008000 a_{4_{2}} - 567000 a_{5_{2}})\\)</html>"
      ],
      "text/latex": [
       "$\\displaystyle 24 \\longrightarrow \\left(-\\frac{1}{125}\\right) \\cdot (1800 a_{2_{0}}^{2} a_{2_{1}}^{2} + 1224 a_{2_{0}}^{3} a_{2_{2}} + 96 a_{2_{0}} a_{2_{1}}^{2} a_{3_{0}} + 96 a_{2_{0}}^{2} a_{2_{2}} a_{3_{0}} + 120 a_{2_{0}}^{2} a_{2_{1}} a_{3_{1}} + 48 a_{2_{0}}^{3} a_{3_{2}} - 600 a_{2_{0}}^{3} c_{4} - 80 a_{2_{0}}^{2} a_{3_{0}} c_{4} - 71400 a_{2_{0}} a_{2_{1}}^{2} - 77760 a_{2_{0}}^{2} a_{2_{2}} - 3610 a_{2_{1}}^{2} a_{3_{0}} - 8910 a_{2_{0}} a_{2_{2}} a_{3_{0}} + 1890 a_{2_{2}} a_{3_{0}}^{2} - 8600 a_{2_{0}} a_{2_{1}} a_{3_{1}} + 2430 a_{2_{1}} a_{3_{0}} a_{3_{1}} + 600 a_{2_{0}} a_{3_{1}}^{2} + 420 a_{3_{0}} a_{3_{1}}^{2} - 4920 a_{2_{0}}^{2} a_{3_{2}} + 1200 a_{2_{0}} a_{3_{0}} a_{3_{2}} + 420 a_{3_{0}}^{2} a_{3_{2}} + 2415 a_{2_{1}}^{2} a_{4_{0}} + 5010 a_{2_{0}} a_{2_{2}} a_{4_{0}} + 210 a_{2_{2}} a_{3_{0}} a_{4_{0}} + 270 a_{2_{1}} a_{3_{1}} a_{4_{0}} + 330 a_{2_{0}} a_{3_{2}} a_{4_{0}} + 4095 a_{2_{0}} a_{2_{1}} a_{4_{1}} + 270 a_{2_{1}} a_{3_{0}} a_{4_{1}} + 330 a_{2_{0}} a_{3_{1}} a_{4_{1}} + 1620 a_{2_{0}}^{2} a_{4_{2}} + 330 a_{2_{0}} a_{3_{0}} a_{4_{2}} - 150 a_{2_{1}}^{2} a_{5_{0}} - 300 a_{2_{0}} a_{2_{2}} a_{5_{0}} - 240 a_{2_{0}} a_{2_{1}} a_{5_{1}} - 90 a_{2_{0}}^{2} a_{5_{2}} + 48000 a_{2_{0}}^{2} c_{4} + 4200 a_{2_{0}} a_{3_{0}} c_{4} - 4100 a_{2_{0}} a_{4_{0}} c_{4} - 700 a_{3_{0}} a_{4_{0}} c_{4} + 1000 a_{2_{0}} a_{5_{0}} c_{4} + 213600 a_{2_{1}}^{2} + 655200 a_{2_{0}} a_{2_{2}} + 176400 a_{2_{2}} a_{3_{0}} + 198600 a_{2_{1}} a_{3_{1}} - 63000 a_{3_{1}}^{2} + 267600 a_{2_{0}} a_{3_{2}} - 126000 a_{3_{0}} a_{3_{2}} - 189000 a_{2_{2}} a_{4_{0}} - 1400 a_{3_{2}} a_{4_{0}} - 147150 a_{2_{1}} a_{4_{1}} + 1575 a_{4_{1}}^{2} - 127800 a_{2_{0}} a_{4_{2}} - 1050 a_{3_{0}} a_{4_{2}} + 3150 a_{4_{0}} a_{4_{2}} + 47250 a_{2_{2}} a_{5_{0}} + 5250 a_{3_{2}} a_{5_{0}} + 1050 a_{4_{2}} a_{5_{0}} + 32300 a_{2_{1}} a_{5_{1}} + 4200 a_{3_{1}} a_{5_{1}} + 1050 a_{4_{1}} a_{5_{1}} + 20700 a_{2_{0}} a_{5_{2}} + 3150 a_{3_{0}} a_{5_{2}} + 1050 a_{4_{0}} a_{5_{2}} - 252000 a_{2_{0}} c_{4} - 378000 a_{3_{0}} c_{4} + 315000 a_{4_{0}} c_{4} - 105000 a_{5_{0}} c_{4} - 378000 a_{3_{2}} + 1008000 a_{4_{2}} - 567000 a_{5_{2}})$"
      ],
      "text/plain": [
       "24 \\longrightarrow \\left(-\\frac{1}{125}\\right) \\cdot (1800 a_{2_{0}}^{2} a_{2_{1}}^{2} + 1224 a_{2_{0}}^{3} a_{2_{2}} + 96 a_{2_{0}} a_{2_{1}}^{2} a_{3_{0}} + 96 a_{2_{0}}^{2} a_{2_{2}} a_{3_{0}} + 120 a_{2_{0}}^{2} a_{2_{1}} a_{3_{1}} + 48 a_{2_{0}}^{3} a_{3_{2}} - 600 a_{2_{0}}^{3} c_{4} - 80 a_{2_{0}}^{2} a_{3_{0}} c_{4} - 71400 a_{2_{0}} a_{2_{1}}^{2} - 77760 a_{2_{0}}^{2} a_{2_{2}} - 3610 a_{2_{1}}^{2} a_{3_{0}} - 8910 a_{2_{0}} a_{2_{2}} a_{3_{0}} + 1890 a_{2_{2}} a_{3_{0}}^{2} - 8600 a_{2_{0}} a_{2_{1}} a_{3_{1}} + 2430 a_{2_{1}} a_{3_{0}} a_{3_{1}} + 600 a_{2_{0}} a_{3_{1}}^{2} + 420 a_{3_{0}} a_{3_{1}}^{2} - 4920 a_{2_{0}}^{2} a_{3_{2}} + 1200 a_{2_{0}} a_{3_{0}} a_{3_{2}} + 420 a_{3_{0}}^{2} a_{3_{2}} + 2415 a_{2_{1}}^{2} a_{4_{0}} + 5010 a_{2_{0}} a_{2_{2}} a_{4_{0}} + 210 a_{2_{2}} a_{3_{0}} a_{4_{0}} + 270 a_{2_{1}} a_{3_{1}} a_{4_{0}} + 330 a_{2_{0}} a_{3_{2}} a_{4_{0}} + 4095 a_{2_{0}} a_{2_{1}} a_{4_{1}} + 270 a_{2_{1}} a_{3_{0}} a_{4_{1}} + 330 a_{2_{0}} a_{3_{1}} a_{4_{1}} + 1620 a_{2_{0}}^{2} a_{4_{2}} + 330 a_{2_{0}} a_{3_{0}} a_{4_{2}} - 150 a_{2_{1}}^{2} a_{5_{0}} - 300 a_{2_{0}} a_{2_{2}} a_{5_{0}} - 240 a_{2_{0}} a_{2_{1}} a_{5_{1}} - 90 a_{2_{0}}^{2} a_{5_{2}} + 48000 a_{2_{0}}^{2} c_{4} + 4200 a_{2_{0}} a_{3_{0}} c_{4} - 4100 a_{2_{0}} a_{4_{0}} c_{4} - 700 a_{3_{0}} a_{4_{0}} c_{4} + 1000 a_{2_{0}} a_{5_{0}} c_{4} + 213600 a_{2_{1}}^{2} + 655200 a_{2_{0}} a_{2_{2}} + 176400 a_{2_{2}} a_{3_{0}} + 198600 a_{2_{1}} a_{3_{1}} - 63000 a_{3_{1}}^{2} + 267600 a_{2_{0}} a_{3_{2}} - 126000 a_{3_{0}} a_{3_{2}} - 189000 a_{2_{2}} a_{4_{0}} - 1400 a_{3_{2}} a_{4_{0}} - 147150 a_{2_{1}} a_{4_{1}} + 1575 a_{4_{1}}^{2} - 127800 a_{2_{0}} a_{4_{2}} - 1050 a_{3_{0}} a_{4_{2}} + 3150 a_{4_{0}} a_{4_{2}} + 47250 a_{2_{2}} a_{5_{0}} + 5250 a_{3_{2}} a_{5_{0}} + 1050 a_{4_{2}} a_{5_{0}} + 32300 a_{2_{1}} a_{5_{1}} + 4200 a_{3_{1}} a_{5_{1}} + 1050 a_{4_{1}} a_{5_{1}} + 20700 a_{2_{0}} a_{5_{2}} + 3150 a_{3_{0}} a_{5_{2}} + 1050 a_{4_{0}} a_{5_{2}} - 252000 a_{2_{0}} c_{4} - 378000 a_{3_{0}} c_{4} + 315000 a_{4_{0}} c_{4} - 105000 a_{5_{0}} c_{4} - 378000 a_{3_{2}} + 1008000 a_{4_{2}} - 567000 a_{5_{2}})"
      ]
     },
     "metadata": {},
     "output_type": "display_data"
    },
    {
     "data": {
      "text/html": [
       "<html>\\(\\displaystyle 25 \\longrightarrow \\left(-\\frac{2}{125}\\right) \\cdot (432 a_{2_{0}} a_{2_{1}}^{3} + 1332 a_{2_{0}}^{2} a_{2_{1}} a_{2_{2}} + 12 a_{2_{1}}^{3} a_{3_{0}} + 72 a_{2_{0}} a_{2_{1}} a_{2_{2}} a_{3_{0}} + 48 a_{2_{0}} a_{2_{1}}^{2} a_{3_{1}} + 48 a_{2_{0}}^{2} a_{2_{2}} a_{3_{1}} + 60 a_{2_{0}}^{2} a_{2_{1}} a_{3_{2}} - 660 a_{2_{0}}^{2} a_{2_{1}} c_{4} - 60 a_{2_{0}} a_{2_{1}} a_{3_{0}} c_{4} - 40 a_{2_{0}}^{2} a_{3_{1}} c_{4} - 5100 a_{2_{1}}^{3} - 34920 a_{2_{0}} a_{2_{1}} a_{2_{2}} - 2160 a_{2_{1}} a_{2_{2}} a_{3_{0}} - 1130 a_{2_{1}}^{2} a_{3_{1}} - 2970 a_{2_{0}} a_{2_{2}} a_{3_{1}} + 1350 a_{2_{2}} a_{3_{0}} a_{3_{1}} + 390 a_{2_{1}} a_{3_{1}}^{2} + 60 a_{3_{1}}^{3} - 2950 a_{2_{0}} a_{2_{1}} a_{3_{2}} + 780 a_{2_{1}} a_{3_{0}} a_{3_{2}} + 270 a_{2_{0}} a_{3_{1}} a_{3_{2}} + 360 a_{3_{0}} a_{3_{1}} a_{3_{2}} + 1965 a_{2_{1}} a_{2_{2}} a_{4_{0}} + 90 a_{2_{2}} a_{3_{1}} a_{4_{0}} + 120 a_{2_{1}} a_{3_{2}} a_{4_{0}} + 810 a_{2_{1}}^{2} a_{4_{1}} + 1710 a_{2_{0}} a_{2_{2}} a_{4_{1}} + 90 a_{2_{2}} a_{3_{0}} a_{4_{1}} + 120 a_{2_{1}} a_{3_{1}} a_{4_{1}} + 150 a_{2_{0}} a_{3_{2}} a_{4_{1}} + 1305 a_{2_{0}} a_{2_{1}} a_{4_{2}} + 120 a_{2_{1}} a_{3_{0}} a_{4_{2}} + 150 a_{2_{0}} a_{3_{1}} a_{4_{2}} - 150 a_{2_{1}} a_{2_{2}} a_{5_{0}} - 60 a_{2_{1}}^{2} a_{5_{1}} - 120 a_{2_{0}} a_{2_{2}} a_{5_{1}} - 90 a_{2_{0}} a_{2_{1}} a_{5_{2}} - 1800 a_{2_{0}}^{2} c_{3} + 1125 a_{2_{0}} a_{3_{0}} c_{3} + 225 a_{3_{0}}^{2} c_{3} - 75 a_{2_{0}} a_{4_{0}} c_{3} + 21600 a_{2_{0}} a_{2_{1}} c_{4} + 1650 a_{2_{1}} a_{3_{0}} c_{4} + 1200 a_{2_{0}} a_{3_{1}} c_{4} - 2050 a_{2_{1}} a_{4_{0}} c_{4} - 300 a_{3_{1}} a_{4_{0}} c_{4} - 1200 a_{2_{0}} a_{4_{1}} c_{4} - 300 a_{3_{0}} a_{4_{1}} c_{4} + 500 a_{2_{1}} a_{5_{0}} c_{4} + 400 a_{2_{0}} a_{5_{1}} c_{4} + 46800 a_{2_{1}} a_{2_{2}} + 25200 a_{2_{2}} a_{3_{1}} + 33300 a_{2_{1}} a_{3_{2}} - 27000 a_{3_{1}} a_{3_{2}} - 40500 a_{2_{2}} a_{4_{1}} - 300 a_{3_{2}} a_{4_{1}} - 30150 a_{2_{1}} a_{4_{2}} - 150 a_{3_{1}} a_{4_{2}} + 1125 a_{4_{1}} a_{4_{2}} + 13500 a_{2_{2}} a_{5_{1}} + 1800 a_{3_{2}} a_{5_{1}} + 450 a_{4_{2}} a_{5_{1}} + 8400 a_{2_{1}} a_{5_{2}} + 1350 a_{3_{1}} a_{5_{2}} + 450 a_{4_{1}} a_{5_{2}} + 108000 a_{2_{0}} c_{3} - 67500 a_{3_{0}} c_{3} + 7500 a_{4_{0}} c_{3} + 5625 a_{5_{0}} c_{3} - 18000 a_{2_{1}} c_{4} - 54000 a_{3_{1}} c_{4} + 67500 a_{4_{1}} c_{4} - 30000 a_{5_{1}} c_{4})\\)</html>"
      ],
      "text/latex": [
       "$\\displaystyle 25 \\longrightarrow \\left(-\\frac{2}{125}\\right) \\cdot (432 a_{2_{0}} a_{2_{1}}^{3} + 1332 a_{2_{0}}^{2} a_{2_{1}} a_{2_{2}} + 12 a_{2_{1}}^{3} a_{3_{0}} + 72 a_{2_{0}} a_{2_{1}} a_{2_{2}} a_{3_{0}} + 48 a_{2_{0}} a_{2_{1}}^{2} a_{3_{1}} + 48 a_{2_{0}}^{2} a_{2_{2}} a_{3_{1}} + 60 a_{2_{0}}^{2} a_{2_{1}} a_{3_{2}} - 660 a_{2_{0}}^{2} a_{2_{1}} c_{4} - 60 a_{2_{0}} a_{2_{1}} a_{3_{0}} c_{4} - 40 a_{2_{0}}^{2} a_{3_{1}} c_{4} - 5100 a_{2_{1}}^{3} - 34920 a_{2_{0}} a_{2_{1}} a_{2_{2}} - 2160 a_{2_{1}} a_{2_{2}} a_{3_{0}} - 1130 a_{2_{1}}^{2} a_{3_{1}} - 2970 a_{2_{0}} a_{2_{2}} a_{3_{1}} + 1350 a_{2_{2}} a_{3_{0}} a_{3_{1}} + 390 a_{2_{1}} a_{3_{1}}^{2} + 60 a_{3_{1}}^{3} - 2950 a_{2_{0}} a_{2_{1}} a_{3_{2}} + 780 a_{2_{1}} a_{3_{0}} a_{3_{2}} + 270 a_{2_{0}} a_{3_{1}} a_{3_{2}} + 360 a_{3_{0}} a_{3_{1}} a_{3_{2}} + 1965 a_{2_{1}} a_{2_{2}} a_{4_{0}} + 90 a_{2_{2}} a_{3_{1}} a_{4_{0}} + 120 a_{2_{1}} a_{3_{2}} a_{4_{0}} + 810 a_{2_{1}}^{2} a_{4_{1}} + 1710 a_{2_{0}} a_{2_{2}} a_{4_{1}} + 90 a_{2_{2}} a_{3_{0}} a_{4_{1}} + 120 a_{2_{1}} a_{3_{1}} a_{4_{1}} + 150 a_{2_{0}} a_{3_{2}} a_{4_{1}} + 1305 a_{2_{0}} a_{2_{1}} a_{4_{2}} + 120 a_{2_{1}} a_{3_{0}} a_{4_{2}} + 150 a_{2_{0}} a_{3_{1}} a_{4_{2}} - 150 a_{2_{1}} a_{2_{2}} a_{5_{0}} - 60 a_{2_{1}}^{2} a_{5_{1}} - 120 a_{2_{0}} a_{2_{2}} a_{5_{1}} - 90 a_{2_{0}} a_{2_{1}} a_{5_{2}} - 1800 a_{2_{0}}^{2} c_{3} + 1125 a_{2_{0}} a_{3_{0}} c_{3} + 225 a_{3_{0}}^{2} c_{3} - 75 a_{2_{0}} a_{4_{0}} c_{3} + 21600 a_{2_{0}} a_{2_{1}} c_{4} + 1650 a_{2_{1}} a_{3_{0}} c_{4} + 1200 a_{2_{0}} a_{3_{1}} c_{4} - 2050 a_{2_{1}} a_{4_{0}} c_{4} - 300 a_{3_{1}} a_{4_{0}} c_{4} - 1200 a_{2_{0}} a_{4_{1}} c_{4} - 300 a_{3_{0}} a_{4_{1}} c_{4} + 500 a_{2_{1}} a_{5_{0}} c_{4} + 400 a_{2_{0}} a_{5_{1}} c_{4} + 46800 a_{2_{1}} a_{2_{2}} + 25200 a_{2_{2}} a_{3_{1}} + 33300 a_{2_{1}} a_{3_{2}} - 27000 a_{3_{1}} a_{3_{2}} - 40500 a_{2_{2}} a_{4_{1}} - 300 a_{3_{2}} a_{4_{1}} - 30150 a_{2_{1}} a_{4_{2}} - 150 a_{3_{1}} a_{4_{2}} + 1125 a_{4_{1}} a_{4_{2}} + 13500 a_{2_{2}} a_{5_{1}} + 1800 a_{3_{2}} a_{5_{1}} + 450 a_{4_{2}} a_{5_{1}} + 8400 a_{2_{1}} a_{5_{2}} + 1350 a_{3_{1}} a_{5_{2}} + 450 a_{4_{1}} a_{5_{2}} + 108000 a_{2_{0}} c_{3} - 67500 a_{3_{0}} c_{3} + 7500 a_{4_{0}} c_{3} + 5625 a_{5_{0}} c_{3} - 18000 a_{2_{1}} c_{4} - 54000 a_{3_{1}} c_{4} + 67500 a_{4_{1}} c_{4} - 30000 a_{5_{1}} c_{4})$"
      ],
      "text/plain": [
       "25 \\longrightarrow \\left(-\\frac{2}{125}\\right) \\cdot (432 a_{2_{0}} a_{2_{1}}^{3} + 1332 a_{2_{0}}^{2} a_{2_{1}} a_{2_{2}} + 12 a_{2_{1}}^{3} a_{3_{0}} + 72 a_{2_{0}} a_{2_{1}} a_{2_{2}} a_{3_{0}} + 48 a_{2_{0}} a_{2_{1}}^{2} a_{3_{1}} + 48 a_{2_{0}}^{2} a_{2_{2}} a_{3_{1}} + 60 a_{2_{0}}^{2} a_{2_{1}} a_{3_{2}} - 660 a_{2_{0}}^{2} a_{2_{1}} c_{4} - 60 a_{2_{0}} a_{2_{1}} a_{3_{0}} c_{4} - 40 a_{2_{0}}^{2} a_{3_{1}} c_{4} - 5100 a_{2_{1}}^{3} - 34920 a_{2_{0}} a_{2_{1}} a_{2_{2}} - 2160 a_{2_{1}} a_{2_{2}} a_{3_{0}} - 1130 a_{2_{1}}^{2} a_{3_{1}} - 2970 a_{2_{0}} a_{2_{2}} a_{3_{1}} + 1350 a_{2_{2}} a_{3_{0}} a_{3_{1}} + 390 a_{2_{1}} a_{3_{1}}^{2} + 60 a_{3_{1}}^{3} - 2950 a_{2_{0}} a_{2_{1}} a_{3_{2}} + 780 a_{2_{1}} a_{3_{0}} a_{3_{2}} + 270 a_{2_{0}} a_{3_{1}} a_{3_{2}} + 360 a_{3_{0}} a_{3_{1}} a_{3_{2}} + 1965 a_{2_{1}} a_{2_{2}} a_{4_{0}} + 90 a_{2_{2}} a_{3_{1}} a_{4_{0}} + 120 a_{2_{1}} a_{3_{2}} a_{4_{0}} + 810 a_{2_{1}}^{2} a_{4_{1}} + 1710 a_{2_{0}} a_{2_{2}} a_{4_{1}} + 90 a_{2_{2}} a_{3_{0}} a_{4_{1}} + 120 a_{2_{1}} a_{3_{1}} a_{4_{1}} + 150 a_{2_{0}} a_{3_{2}} a_{4_{1}} + 1305 a_{2_{0}} a_{2_{1}} a_{4_{2}} + 120 a_{2_{1}} a_{3_{0}} a_{4_{2}} + 150 a_{2_{0}} a_{3_{1}} a_{4_{2}} - 150 a_{2_{1}} a_{2_{2}} a_{5_{0}} - 60 a_{2_{1}}^{2} a_{5_{1}} - 120 a_{2_{0}} a_{2_{2}} a_{5_{1}} - 90 a_{2_{0}} a_{2_{1}} a_{5_{2}} - 1800 a_{2_{0}}^{2} c_{3} + 1125 a_{2_{0}} a_{3_{0}} c_{3} + 225 a_{3_{0}}^{2} c_{3} - 75 a_{2_{0}} a_{4_{0}} c_{3} + 21600 a_{2_{0}} a_{2_{1}} c_{4} + 1650 a_{2_{1}} a_{3_{0}} c_{4} + 1200 a_{2_{0}} a_{3_{1}} c_{4} - 2050 a_{2_{1}} a_{4_{0}} c_{4} - 300 a_{3_{1}} a_{4_{0}} c_{4} - 1200 a_{2_{0}} a_{4_{1}} c_{4} - 300 a_{3_{0}} a_{4_{1}} c_{4} + 500 a_{2_{1}} a_{5_{0}} c_{4} + 400 a_{2_{0}} a_{5_{1}} c_{4} + 46800 a_{2_{1}} a_{2_{2}} + 25200 a_{2_{2}} a_{3_{1}} + 33300 a_{2_{1}} a_{3_{2}} - 27000 a_{3_{1}} a_{3_{2}} - 40500 a_{2_{2}} a_{4_{1}} - 300 a_{3_{2}} a_{4_{1}} - 30150 a_{2_{1}} a_{4_{2}} - 150 a_{3_{1}} a_{4_{2}} + 1125 a_{4_{1}} a_{4_{2}} + 13500 a_{2_{2}} a_{5_{1}} + 1800 a_{3_{2}} a_{5_{1}} + 450 a_{4_{2}} a_{5_{1}} + 8400 a_{2_{1}} a_{5_{2}} + 1350 a_{3_{1}} a_{5_{2}} + 450 a_{4_{1}} a_{5_{2}} + 108000 a_{2_{0}} c_{3} - 67500 a_{3_{0}} c_{3} + 7500 a_{4_{0}} c_{3} + 5625 a_{5_{0}} c_{3} - 18000 a_{2_{1}} c_{4} - 54000 a_{3_{1}} c_{4} + 67500 a_{4_{1}} c_{4} - 30000 a_{5_{1}} c_{4})"
      ]
     },
     "metadata": {},
     "output_type": "display_data"
    },
    {
     "data": {
      "text/html": [
       "<html>\\(\\displaystyle 26 \\longrightarrow \\left(\\frac{1}{125}\\right) \\cdot (528 a_{2_{1}}^{3} a_{2_{2}} + 1800 a_{2_{0}} a_{2_{1}} a_{2_{2}}^{2} + 24 a_{2_{1}} a_{2_{2}}^{2} a_{3_{0}} + 72 a_{2_{1}}^{2} a_{2_{2}} a_{3_{1}} + 72 a_{2_{0}} a_{2_{2}}^{2} a_{3_{1}} + 48 a_{2_{1}}^{3} a_{3_{2}} + 288 a_{2_{0}} a_{2_{1}} a_{2_{2}} a_{3_{2}} + 12 a_{2_{1}} a_{2_{2}}^{2} a_{4_{0}} + 24 a_{2_{1}}^{2} a_{2_{2}} a_{4_{1}} + 24 a_{2_{0}} a_{2_{2}}^{2} a_{4_{1}} + 12 a_{2_{1}}^{3} a_{4_{2}} + 72 a_{2_{0}} a_{2_{1}} a_{2_{2}} a_{4_{2}} - 240 a_{2_{1}}^{3} c_{4} - 1800 a_{2_{0}} a_{2_{1}} a_{2_{2}} c_{4} - 40 a_{2_{1}} a_{2_{2}} a_{3_{0}} c_{4} - 60 a_{2_{1}}^{2} a_{3_{1}} c_{4} - 120 a_{2_{0}} a_{2_{2}} a_{3_{1}} c_{4} - 240 a_{2_{0}} a_{2_{1}} a_{3_{2}} c_{4} - 20 a_{2_{1}} a_{2_{2}} a_{4_{0}} c_{4} - 20 a_{2_{1}}^{2} a_{4_{1}} c_{4} - 40 a_{2_{0}} a_{2_{2}} a_{4_{1}} c_{4} - 60 a_{2_{0}} a_{2_{1}} a_{4_{2}} c_{4} - 3240 a_{2_{1}} a_{2_{2}}^{2} - 1800 a_{2_{2}}^{2} a_{3_{1}} - 3420 a_{2_{1}} a_{2_{2}} a_{3_{2}} + 1350 a_{2_{2}} a_{3_{1}} a_{3_{2}} - 180 a_{2_{1}} a_{3_{2}}^{2} + 450 a_{3_{1}} a_{3_{2}}^{2} + 1800 a_{2_{2}}^{2} a_{4_{1}} + 330 a_{2_{2}} a_{3_{2}} a_{4_{1}} + 30 a_{3_{2}}^{2} a_{4_{1}} + 2430 a_{2_{1}} a_{2_{2}} a_{4_{2}} + 90 a_{2_{2}} a_{3_{1}} a_{4_{2}} + 225 a_{2_{1}} a_{3_{2}} a_{4_{2}} + 90 a_{3_{1}} a_{3_{2}} a_{4_{2}} + 150 a_{2_{2}} a_{4_{1}} a_{4_{2}} + 90 a_{2_{1}} a_{4_{2}}^{2} - 300 a_{2_{2}}^{2} a_{5_{1}} - 120 a_{2_{2}} a_{3_{2}} a_{5_{1}} - 315 a_{2_{1}} a_{2_{2}} a_{5_{2}} - 90 a_{2_{2}} a_{3_{1}} a_{5_{2}} - 90 a_{2_{1}} a_{3_{2}} a_{5_{2}} - 1500 a_{2_{0}} a_{2_{1}} c_{2} - 100 a_{2_{1}} a_{3_{0}} c_{2} - 300 a_{2_{0}} a_{3_{1}} c_{2} - 50 a_{2_{1}} a_{4_{0}} c_{2} - 100 a_{2_{0}} a_{4_{1}} c_{2} - 1800 a_{2_{1}}^{2} c_{3} - 9000 a_{2_{0}} a_{2_{2}} c_{3} + 4500 a_{2_{2}} a_{3_{0}} c_{3} + 1350 a_{2_{1}} a_{3_{1}} c_{3} + 450 a_{3_{1}}^{2} c_{3} - 1350 a_{2_{0}} a_{3_{2}} c_{3} + 1050 a_{3_{0}} a_{3_{2}} c_{3} + 75 a_{3_{2}} a_{4_{0}} c_{3} - 150 a_{2_{1}} a_{4_{1}} c_{3} + 150 a_{3_{1}} a_{4_{1}} c_{3} - 450 a_{2_{0}} a_{4_{2}} c_{3} + 225 a_{3_{0}} a_{4_{2}} c_{3} - 375 a_{2_{2}} a_{5_{0}} c_{3} - 300 a_{2_{1}} a_{5_{1}} c_{3} - 225 a_{2_{0}} a_{5_{2}} c_{3} + 2400 a_{2_{1}} a_{2_{2}} c_{4} + 6000 a_{2_{2}} a_{3_{1}} c_{4} + 1200 a_{2_{1}} a_{3_{2}} c_{4} + 1500 a_{3_{1}} a_{3_{2}} c_{4} - 6000 a_{2_{2}} a_{4_{1}} c_{4} - 1100 a_{3_{2}} a_{4_{1}} c_{4} - 2400 a_{2_{1}} a_{4_{2}} c_{4} - 300 a_{3_{1}} a_{4_{2}} c_{4} - 500 a_{4_{1}} a_{4_{2}} c_{4} + 2000 a_{2_{2}} a_{5_{1}} c_{4} + 400 a_{3_{2}} a_{5_{1}} c_{4} + 1050 a_{2_{1}} a_{5_{2}} c_{4} + 300 a_{3_{1}} a_{5_{2}} c_{4} + 625 a_{5_{0}} c_{1} + 6000 a_{2_{1}} c_{2} - 2500 a_{5_{1}} c_{2} - 9000 a_{3_{2}} c_{3} + 7500 a_{5_{2}} c_{3})\\)</html>"
      ],
      "text/latex": [
       "$\\displaystyle 26 \\longrightarrow \\left(\\frac{1}{125}\\right) \\cdot (528 a_{2_{1}}^{3} a_{2_{2}} + 1800 a_{2_{0}} a_{2_{1}} a_{2_{2}}^{2} + 24 a_{2_{1}} a_{2_{2}}^{2} a_{3_{0}} + 72 a_{2_{1}}^{2} a_{2_{2}} a_{3_{1}} + 72 a_{2_{0}} a_{2_{2}}^{2} a_{3_{1}} + 48 a_{2_{1}}^{3} a_{3_{2}} + 288 a_{2_{0}} a_{2_{1}} a_{2_{2}} a_{3_{2}} + 12 a_{2_{1}} a_{2_{2}}^{2} a_{4_{0}} + 24 a_{2_{1}}^{2} a_{2_{2}} a_{4_{1}} + 24 a_{2_{0}} a_{2_{2}}^{2} a_{4_{1}} + 12 a_{2_{1}}^{3} a_{4_{2}} + 72 a_{2_{0}} a_{2_{1}} a_{2_{2}} a_{4_{2}} - 240 a_{2_{1}}^{3} c_{4} - 1800 a_{2_{0}} a_{2_{1}} a_{2_{2}} c_{4} - 40 a_{2_{1}} a_{2_{2}} a_{3_{0}} c_{4} - 60 a_{2_{1}}^{2} a_{3_{1}} c_{4} - 120 a_{2_{0}} a_{2_{2}} a_{3_{1}} c_{4} - 240 a_{2_{0}} a_{2_{1}} a_{3_{2}} c_{4} - 20 a_{2_{1}} a_{2_{2}} a_{4_{0}} c_{4} - 20 a_{2_{1}}^{2} a_{4_{1}} c_{4} - 40 a_{2_{0}} a_{2_{2}} a_{4_{1}} c_{4} - 60 a_{2_{0}} a_{2_{1}} a_{4_{2}} c_{4} - 3240 a_{2_{1}} a_{2_{2}}^{2} - 1800 a_{2_{2}}^{2} a_{3_{1}} - 3420 a_{2_{1}} a_{2_{2}} a_{3_{2}} + 1350 a_{2_{2}} a_{3_{1}} a_{3_{2}} - 180 a_{2_{1}} a_{3_{2}}^{2} + 450 a_{3_{1}} a_{3_{2}}^{2} + 1800 a_{2_{2}}^{2} a_{4_{1}} + 330 a_{2_{2}} a_{3_{2}} a_{4_{1}} + 30 a_{3_{2}}^{2} a_{4_{1}} + 2430 a_{2_{1}} a_{2_{2}} a_{4_{2}} + 90 a_{2_{2}} a_{3_{1}} a_{4_{2}} + 225 a_{2_{1}} a_{3_{2}} a_{4_{2}} + 90 a_{3_{1}} a_{3_{2}} a_{4_{2}} + 150 a_{2_{2}} a_{4_{1}} a_{4_{2}} + 90 a_{2_{1}} a_{4_{2}}^{2} - 300 a_{2_{2}}^{2} a_{5_{1}} - 120 a_{2_{2}} a_{3_{2}} a_{5_{1}} - 315 a_{2_{1}} a_{2_{2}} a_{5_{2}} - 90 a_{2_{2}} a_{3_{1}} a_{5_{2}} - 90 a_{2_{1}} a_{3_{2}} a_{5_{2}} - 1500 a_{2_{0}} a_{2_{1}} c_{2} - 100 a_{2_{1}} a_{3_{0}} c_{2} - 300 a_{2_{0}} a_{3_{1}} c_{2} - 50 a_{2_{1}} a_{4_{0}} c_{2} - 100 a_{2_{0}} a_{4_{1}} c_{2} - 1800 a_{2_{1}}^{2} c_{3} - 9000 a_{2_{0}} a_{2_{2}} c_{3} + 4500 a_{2_{2}} a_{3_{0}} c_{3} + 1350 a_{2_{1}} a_{3_{1}} c_{3} + 450 a_{3_{1}}^{2} c_{3} - 1350 a_{2_{0}} a_{3_{2}} c_{3} + 1050 a_{3_{0}} a_{3_{2}} c_{3} + 75 a_{3_{2}} a_{4_{0}} c_{3} - 150 a_{2_{1}} a_{4_{1}} c_{3} + 150 a_{3_{1}} a_{4_{1}} c_{3} - 450 a_{2_{0}} a_{4_{2}} c_{3} + 225 a_{3_{0}} a_{4_{2}} c_{3} - 375 a_{2_{2}} a_{5_{0}} c_{3} - 300 a_{2_{1}} a_{5_{1}} c_{3} - 225 a_{2_{0}} a_{5_{2}} c_{3} + 2400 a_{2_{1}} a_{2_{2}} c_{4} + 6000 a_{2_{2}} a_{3_{1}} c_{4} + 1200 a_{2_{1}} a_{3_{2}} c_{4} + 1500 a_{3_{1}} a_{3_{2}} c_{4} - 6000 a_{2_{2}} a_{4_{1}} c_{4} - 1100 a_{3_{2}} a_{4_{1}} c_{4} - 2400 a_{2_{1}} a_{4_{2}} c_{4} - 300 a_{3_{1}} a_{4_{2}} c_{4} - 500 a_{4_{1}} a_{4_{2}} c_{4} + 2000 a_{2_{2}} a_{5_{1}} c_{4} + 400 a_{3_{2}} a_{5_{1}} c_{4} + 1050 a_{2_{1}} a_{5_{2}} c_{4} + 300 a_{3_{1}} a_{5_{2}} c_{4} + 625 a_{5_{0}} c_{1} + 6000 a_{2_{1}} c_{2} - 2500 a_{5_{1}} c_{2} - 9000 a_{3_{2}} c_{3} + 7500 a_{5_{2}} c_{3})$"
      ],
      "text/plain": [
       "26 \\longrightarrow \\left(\\frac{1}{125}\\right) \\cdot (528 a_{2_{1}}^{3} a_{2_{2}} + 1800 a_{2_{0}} a_{2_{1}} a_{2_{2}}^{2} + 24 a_{2_{1}} a_{2_{2}}^{2} a_{3_{0}} + 72 a_{2_{1}}^{2} a_{2_{2}} a_{3_{1}} + 72 a_{2_{0}} a_{2_{2}}^{2} a_{3_{1}} + 48 a_{2_{1}}^{3} a_{3_{2}} + 288 a_{2_{0}} a_{2_{1}} a_{2_{2}} a_{3_{2}} + 12 a_{2_{1}} a_{2_{2}}^{2} a_{4_{0}} + 24 a_{2_{1}}^{2} a_{2_{2}} a_{4_{1}} + 24 a_{2_{0}} a_{2_{2}}^{2} a_{4_{1}} + 12 a_{2_{1}}^{3} a_{4_{2}} + 72 a_{2_{0}} a_{2_{1}} a_{2_{2}} a_{4_{2}} - 240 a_{2_{1}}^{3} c_{4} - 1800 a_{2_{0}} a_{2_{1}} a_{2_{2}} c_{4} - 40 a_{2_{1}} a_{2_{2}} a_{3_{0}} c_{4} - 60 a_{2_{1}}^{2} a_{3_{1}} c_{4} - 120 a_{2_{0}} a_{2_{2}} a_{3_{1}} c_{4} - 240 a_{2_{0}} a_{2_{1}} a_{3_{2}} c_{4} - 20 a_{2_{1}} a_{2_{2}} a_{4_{0}} c_{4} - 20 a_{2_{1}}^{2} a_{4_{1}} c_{4} - 40 a_{2_{0}} a_{2_{2}} a_{4_{1}} c_{4} - 60 a_{2_{0}} a_{2_{1}} a_{4_{2}} c_{4} - 3240 a_{2_{1}} a_{2_{2}}^{2} - 1800 a_{2_{2}}^{2} a_{3_{1}} - 3420 a_{2_{1}} a_{2_{2}} a_{3_{2}} + 1350 a_{2_{2}} a_{3_{1}} a_{3_{2}} - 180 a_{2_{1}} a_{3_{2}}^{2} + 450 a_{3_{1}} a_{3_{2}}^{2} + 1800 a_{2_{2}}^{2} a_{4_{1}} + 330 a_{2_{2}} a_{3_{2}} a_{4_{1}} + 30 a_{3_{2}}^{2} a_{4_{1}} + 2430 a_{2_{1}} a_{2_{2}} a_{4_{2}} + 90 a_{2_{2}} a_{3_{1}} a_{4_{2}} + 225 a_{2_{1}} a_{3_{2}} a_{4_{2}} + 90 a_{3_{1}} a_{3_{2}} a_{4_{2}} + 150 a_{2_{2}} a_{4_{1}} a_{4_{2}} + 90 a_{2_{1}} a_{4_{2}}^{2} - 300 a_{2_{2}}^{2} a_{5_{1}} - 120 a_{2_{2}} a_{3_{2}} a_{5_{1}} - 315 a_{2_{1}} a_{2_{2}} a_{5_{2}} - 90 a_{2_{2}} a_{3_{1}} a_{5_{2}} - 90 a_{2_{1}} a_{3_{2}} a_{5_{2}} - 1500 a_{2_{0}} a_{2_{1}} c_{2} - 100 a_{2_{1}} a_{3_{0}} c_{2} - 300 a_{2_{0}} a_{3_{1}} c_{2} - 50 a_{2_{1}} a_{4_{0}} c_{2} - 100 a_{2_{0}} a_{4_{1}} c_{2} - 1800 a_{2_{1}}^{2} c_{3} - 9000 a_{2_{0}} a_{2_{2}} c_{3} + 4500 a_{2_{2}} a_{3_{0}} c_{3} + 1350 a_{2_{1}} a_{3_{1}} c_{3} + 450 a_{3_{1}}^{2} c_{3} - 1350 a_{2_{0}} a_{3_{2}} c_{3} + 1050 a_{3_{0}} a_{3_{2}} c_{3} + 75 a_{3_{2}} a_{4_{0}} c_{3} - 150 a_{2_{1}} a_{4_{1}} c_{3} + 150 a_{3_{1}} a_{4_{1}} c_{3} - 450 a_{2_{0}} a_{4_{2}} c_{3} + 225 a_{3_{0}} a_{4_{2}} c_{3} - 375 a_{2_{2}} a_{5_{0}} c_{3} - 300 a_{2_{1}} a_{5_{1}} c_{3} - 225 a_{2_{0}} a_{5_{2}} c_{3} + 2400 a_{2_{1}} a_{2_{2}} c_{4} + 6000 a_{2_{2}} a_{3_{1}} c_{4} + 1200 a_{2_{1}} a_{3_{2}} c_{4} + 1500 a_{3_{1}} a_{3_{2}} c_{4} - 6000 a_{2_{2}} a_{4_{1}} c_{4} - 1100 a_{3_{2}} a_{4_{1}} c_{4} - 2400 a_{2_{1}} a_{4_{2}} c_{4} - 300 a_{3_{1}} a_{4_{2}} c_{4} - 500 a_{4_{1}} a_{4_{2}} c_{4} + 2000 a_{2_{2}} a_{5_{1}} c_{4} + 400 a_{3_{2}} a_{5_{1}} c_{4} + 1050 a_{2_{1}} a_{5_{2}} c_{4} + 300 a_{3_{1}} a_{5_{2}} c_{4} + 625 a_{5_{0}} c_{1} + 6000 a_{2_{1}} c_{2} - 2500 a_{5_{1}} c_{2} - 9000 a_{3_{2}} c_{3} + 7500 a_{5_{2}} c_{3})"
      ]
     },
     "metadata": {},
     "output_type": "display_data"
    },
    {
     "data": {
      "text/html": [
       "<html>\\(\\displaystyle 27 \\longrightarrow \\left(-\\frac{1}{125}\\right) \\cdot (144 a_{2_{1}}^{4} + 1800 a_{2_{0}} a_{2_{1}}^{2} a_{2_{2}} + 936 a_{2_{0}}^{2} a_{2_{2}}^{2} + 48 a_{2_{1}}^{2} a_{2_{2}} a_{3_{0}} + 48 a_{2_{0}} a_{2_{2}}^{2} a_{3_{0}} + 24 a_{2_{1}}^{3} a_{3_{1}} + 144 a_{2_{0}} a_{2_{1}} a_{2_{2}} a_{3_{1}} + 96 a_{2_{0}} a_{2_{1}}^{2} a_{3_{2}} + 96 a_{2_{0}}^{2} a_{2_{2}} a_{3_{2}} - 900 a_{2_{0}} a_{2_{1}}^{2} c_{4} - 960 a_{2_{0}}^{2} a_{2_{2}} c_{4} - 40 a_{2_{1}}^{2} a_{3_{0}} c_{4} - 80 a_{2_{0}} a_{2_{2}} a_{3_{0}} c_{4} - 120 a_{2_{0}} a_{2_{1}} a_{3_{1}} c_{4} - 80 a_{2_{0}}^{2} a_{3_{2}} c_{4} - 11640 a_{2_{1}}^{2} a_{2_{2}} - 14400 a_{2_{0}} a_{2_{2}}^{2} - 900 a_{2_{2}}^{2} a_{3_{0}} - 2430 a_{2_{1}} a_{2_{2}} a_{3_{1}} + 900 a_{2_{2}} a_{3_{1}}^{2} - 1360 a_{2_{1}}^{2} a_{3_{2}} - 3870 a_{2_{0}} a_{2_{2}} a_{3_{2}} + 1800 a_{2_{2}} a_{3_{0}} a_{3_{2}} + 870 a_{2_{1}} a_{3_{1}} a_{3_{2}} + 300 a_{3_{1}}^{2} a_{3_{2}} + 30 a_{2_{0}} a_{3_{2}}^{2} + 300 a_{3_{0}} a_{3_{2}}^{2} + 1500 a_{2_{2}}^{2} a_{4_{0}} + 150 a_{2_{2}} a_{3_{2}} a_{4_{0}} + 2535 a_{2_{1}} a_{2_{2}} a_{4_{1}} + 150 a_{2_{2}} a_{3_{1}} a_{4_{1}} + 210 a_{2_{1}} a_{3_{2}} a_{4_{1}} + 975 a_{2_{1}}^{2} a_{4_{2}} + 2130 a_{2_{0}} a_{2_{2}} a_{4_{2}} + 150 a_{2_{2}} a_{3_{0}} a_{4_{2}} + 210 a_{2_{1}} a_{3_{1}} a_{4_{2}} + 270 a_{2_{0}} a_{3_{2}} a_{4_{2}} - 150 a_{2_{2}}^{2} a_{5_{0}} - 240 a_{2_{1}} a_{2_{2}} a_{5_{1}} - 90 a_{2_{1}}^{2} a_{5_{2}} - 180 a_{2_{0}} a_{2_{2}} a_{5_{2}} - 900 a_{2_{0}}^{2} c_{2} - 200 a_{2_{0}} a_{3_{0}} c_{2} - 4500 a_{2_{0}} a_{2_{1}} c_{3} + 2550 a_{2_{1}} a_{3_{0}} c_{3} + 900 a_{2_{0}} a_{3_{1}} c_{3} + 750 a_{3_{0}} a_{3_{1}} c_{3} - 225 a_{2_{1}} a_{4_{0}} c_{3} - 75 a_{2_{0}} a_{4_{1}} c_{3} + 7200 a_{2_{1}}^{2} c_{4} + 18000 a_{2_{0}} a_{2_{2}} c_{4} + 3000 a_{2_{2}} a_{3_{0}} c_{4} + 1500 a_{2_{1}} a_{3_{1}} c_{4} + 1500 a_{2_{0}} a_{3_{2}} c_{4} - 4000 a_{2_{2}} a_{4_{0}} c_{4} - 500 a_{3_{2}} a_{4_{0}} c_{4} - 2450 a_{2_{1}} a_{4_{1}} c_{4} - 500 a_{3_{1}} a_{4_{1}} c_{4} - 1100 a_{2_{0}} a_{4_{2}} c_{4} - 500 a_{3_{0}} a_{4_{2}} c_{4} + 1000 a_{2_{2}} a_{5_{0}} c_{4} + 800 a_{2_{1}} a_{5_{1}} c_{4} + 600 a_{2_{0}} a_{5_{2}} c_{4} + 8400 a_{2_{2}} a_{3_{2}} - 9000 a_{3_{2}}^{2} - 27000 a_{2_{2}} a_{4_{2}} - 250 a_{3_{2}} a_{4_{2}} + 750 a_{4_{2}}^{2} + 13500 a_{2_{2}} a_{5_{2}} + 2250 a_{3_{2}} a_{5_{2}} + 750 a_{4_{2}} a_{5_{2}} + 30000 a_{2_{0}} c_{2} - 2500 a_{4_{0}} c_{2} - 1250 a_{5_{0}} c_{2} + 36000 a_{2_{1}} c_{3} - 45000 a_{3_{1}} c_{3} + 7500 a_{4_{1}} c_{3} + 7500 a_{5_{1}} c_{3} - 18000 a_{3_{2}} c_{4} + 45000 a_{4_{2}} c_{4} - 30000 a_{5_{2}} c_{4})\\)</html>"
      ],
      "text/latex": [
       "$\\displaystyle 27 \\longrightarrow \\left(-\\frac{1}{125}\\right) \\cdot (144 a_{2_{1}}^{4} + 1800 a_{2_{0}} a_{2_{1}}^{2} a_{2_{2}} + 936 a_{2_{0}}^{2} a_{2_{2}}^{2} + 48 a_{2_{1}}^{2} a_{2_{2}} a_{3_{0}} + 48 a_{2_{0}} a_{2_{2}}^{2} a_{3_{0}} + 24 a_{2_{1}}^{3} a_{3_{1}} + 144 a_{2_{0}} a_{2_{1}} a_{2_{2}} a_{3_{1}} + 96 a_{2_{0}} a_{2_{1}}^{2} a_{3_{2}} + 96 a_{2_{0}}^{2} a_{2_{2}} a_{3_{2}} - 900 a_{2_{0}} a_{2_{1}}^{2} c_{4} - 960 a_{2_{0}}^{2} a_{2_{2}} c_{4} - 40 a_{2_{1}}^{2} a_{3_{0}} c_{4} - 80 a_{2_{0}} a_{2_{2}} a_{3_{0}} c_{4} - 120 a_{2_{0}} a_{2_{1}} a_{3_{1}} c_{4} - 80 a_{2_{0}}^{2} a_{3_{2}} c_{4} - 11640 a_{2_{1}}^{2} a_{2_{2}} - 14400 a_{2_{0}} a_{2_{2}}^{2} - 900 a_{2_{2}}^{2} a_{3_{0}} - 2430 a_{2_{1}} a_{2_{2}} a_{3_{1}} + 900 a_{2_{2}} a_{3_{1}}^{2} - 1360 a_{2_{1}}^{2} a_{3_{2}} - 3870 a_{2_{0}} a_{2_{2}} a_{3_{2}} + 1800 a_{2_{2}} a_{3_{0}} a_{3_{2}} + 870 a_{2_{1}} a_{3_{1}} a_{3_{2}} + 300 a_{3_{1}}^{2} a_{3_{2}} + 30 a_{2_{0}} a_{3_{2}}^{2} + 300 a_{3_{0}} a_{3_{2}}^{2} + 1500 a_{2_{2}}^{2} a_{4_{0}} + 150 a_{2_{2}} a_{3_{2}} a_{4_{0}} + 2535 a_{2_{1}} a_{2_{2}} a_{4_{1}} + 150 a_{2_{2}} a_{3_{1}} a_{4_{1}} + 210 a_{2_{1}} a_{3_{2}} a_{4_{1}} + 975 a_{2_{1}}^{2} a_{4_{2}} + 2130 a_{2_{0}} a_{2_{2}} a_{4_{2}} + 150 a_{2_{2}} a_{3_{0}} a_{4_{2}} + 210 a_{2_{1}} a_{3_{1}} a_{4_{2}} + 270 a_{2_{0}} a_{3_{2}} a_{4_{2}} - 150 a_{2_{2}}^{2} a_{5_{0}} - 240 a_{2_{1}} a_{2_{2}} a_{5_{1}} - 90 a_{2_{1}}^{2} a_{5_{2}} - 180 a_{2_{0}} a_{2_{2}} a_{5_{2}} - 900 a_{2_{0}}^{2} c_{2} - 200 a_{2_{0}} a_{3_{0}} c_{2} - 4500 a_{2_{0}} a_{2_{1}} c_{3} + 2550 a_{2_{1}} a_{3_{0}} c_{3} + 900 a_{2_{0}} a_{3_{1}} c_{3} + 750 a_{3_{0}} a_{3_{1}} c_{3} - 225 a_{2_{1}} a_{4_{0}} c_{3} - 75 a_{2_{0}} a_{4_{1}} c_{3} + 7200 a_{2_{1}}^{2} c_{4} + 18000 a_{2_{0}} a_{2_{2}} c_{4} + 3000 a_{2_{2}} a_{3_{0}} c_{4} + 1500 a_{2_{1}} a_{3_{1}} c_{4} + 1500 a_{2_{0}} a_{3_{2}} c_{4} - 4000 a_{2_{2}} a_{4_{0}} c_{4} - 500 a_{3_{2}} a_{4_{0}} c_{4} - 2450 a_{2_{1}} a_{4_{1}} c_{4} - 500 a_{3_{1}} a_{4_{1}} c_{4} - 1100 a_{2_{0}} a_{4_{2}} c_{4} - 500 a_{3_{0}} a_{4_{2}} c_{4} + 1000 a_{2_{2}} a_{5_{0}} c_{4} + 800 a_{2_{1}} a_{5_{1}} c_{4} + 600 a_{2_{0}} a_{5_{2}} c_{4} + 8400 a_{2_{2}} a_{3_{2}} - 9000 a_{3_{2}}^{2} - 27000 a_{2_{2}} a_{4_{2}} - 250 a_{3_{2}} a_{4_{2}} + 750 a_{4_{2}}^{2} + 13500 a_{2_{2}} a_{5_{2}} + 2250 a_{3_{2}} a_{5_{2}} + 750 a_{4_{2}} a_{5_{2}} + 30000 a_{2_{0}} c_{2} - 2500 a_{4_{0}} c_{2} - 1250 a_{5_{0}} c_{2} + 36000 a_{2_{1}} c_{3} - 45000 a_{3_{1}} c_{3} + 7500 a_{4_{1}} c_{3} + 7500 a_{5_{1}} c_{3} - 18000 a_{3_{2}} c_{4} + 45000 a_{4_{2}} c_{4} - 30000 a_{5_{2}} c_{4})$"
      ],
      "text/plain": [
       "27 \\longrightarrow \\left(-\\frac{1}{125}\\right) \\cdot (144 a_{2_{1}}^{4} + 1800 a_{2_{0}} a_{2_{1}}^{2} a_{2_{2}} + 936 a_{2_{0}}^{2} a_{2_{2}}^{2} + 48 a_{2_{1}}^{2} a_{2_{2}} a_{3_{0}} + 48 a_{2_{0}} a_{2_{2}}^{2} a_{3_{0}} + 24 a_{2_{1}}^{3} a_{3_{1}} + 144 a_{2_{0}} a_{2_{1}} a_{2_{2}} a_{3_{1}} + 96 a_{2_{0}} a_{2_{1}}^{2} a_{3_{2}} + 96 a_{2_{0}}^{2} a_{2_{2}} a_{3_{2}} - 900 a_{2_{0}} a_{2_{1}}^{2} c_{4} - 960 a_{2_{0}}^{2} a_{2_{2}} c_{4} - 40 a_{2_{1}}^{2} a_{3_{0}} c_{4} - 80 a_{2_{0}} a_{2_{2}} a_{3_{0}} c_{4} - 120 a_{2_{0}} a_{2_{1}} a_{3_{1}} c_{4} - 80 a_{2_{0}}^{2} a_{3_{2}} c_{4} - 11640 a_{2_{1}}^{2} a_{2_{2}} - 14400 a_{2_{0}} a_{2_{2}}^{2} - 900 a_{2_{2}}^{2} a_{3_{0}} - 2430 a_{2_{1}} a_{2_{2}} a_{3_{1}} + 900 a_{2_{2}} a_{3_{1}}^{2} - 1360 a_{2_{1}}^{2} a_{3_{2}} - 3870 a_{2_{0}} a_{2_{2}} a_{3_{2}} + 1800 a_{2_{2}} a_{3_{0}} a_{3_{2}} + 870 a_{2_{1}} a_{3_{1}} a_{3_{2}} + 300 a_{3_{1}}^{2} a_{3_{2}} + 30 a_{2_{0}} a_{3_{2}}^{2} + 300 a_{3_{0}} a_{3_{2}}^{2} + 1500 a_{2_{2}}^{2} a_{4_{0}} + 150 a_{2_{2}} a_{3_{2}} a_{4_{0}} + 2535 a_{2_{1}} a_{2_{2}} a_{4_{1}} + 150 a_{2_{2}} a_{3_{1}} a_{4_{1}} + 210 a_{2_{1}} a_{3_{2}} a_{4_{1}} + 975 a_{2_{1}}^{2} a_{4_{2}} + 2130 a_{2_{0}} a_{2_{2}} a_{4_{2}} + 150 a_{2_{2}} a_{3_{0}} a_{4_{2}} + 210 a_{2_{1}} a_{3_{1}} a_{4_{2}} + 270 a_{2_{0}} a_{3_{2}} a_{4_{2}} - 150 a_{2_{2}}^{2} a_{5_{0}} - 240 a_{2_{1}} a_{2_{2}} a_{5_{1}} - 90 a_{2_{1}}^{2} a_{5_{2}} - 180 a_{2_{0}} a_{2_{2}} a_{5_{2}} - 900 a_{2_{0}}^{2} c_{2} - 200 a_{2_{0}} a_{3_{0}} c_{2} - 4500 a_{2_{0}} a_{2_{1}} c_{3} + 2550 a_{2_{1}} a_{3_{0}} c_{3} + 900 a_{2_{0}} a_{3_{1}} c_{3} + 750 a_{3_{0}} a_{3_{1}} c_{3} - 225 a_{2_{1}} a_{4_{0}} c_{3} - 75 a_{2_{0}} a_{4_{1}} c_{3} + 7200 a_{2_{1}}^{2} c_{4} + 18000 a_{2_{0}} a_{2_{2}} c_{4} + 3000 a_{2_{2}} a_{3_{0}} c_{4} + 1500 a_{2_{1}} a_{3_{1}} c_{4} + 1500 a_{2_{0}} a_{3_{2}} c_{4} - 4000 a_{2_{2}} a_{4_{0}} c_{4} - 500 a_{3_{2}} a_{4_{0}} c_{4} - 2450 a_{2_{1}} a_{4_{1}} c_{4} - 500 a_{3_{1}} a_{4_{1}} c_{4} - 1100 a_{2_{0}} a_{4_{2}} c_{4} - 500 a_{3_{0}} a_{4_{2}} c_{4} + 1000 a_{2_{2}} a_{5_{0}} c_{4} + 800 a_{2_{1}} a_{5_{1}} c_{4} + 600 a_{2_{0}} a_{5_{2}} c_{4} + 8400 a_{2_{2}} a_{3_{2}} - 9000 a_{3_{2}}^{2} - 27000 a_{2_{2}} a_{4_{2}} - 250 a_{3_{2}} a_{4_{2}} + 750 a_{4_{2}}^{2} + 13500 a_{2_{2}} a_{5_{2}} + 2250 a_{3_{2}} a_{5_{2}} + 750 a_{4_{2}} a_{5_{2}} + 30000 a_{2_{0}} c_{2} - 2500 a_{4_{0}} c_{2} - 1250 a_{5_{0}} c_{2} + 36000 a_{2_{1}} c_{3} - 45000 a_{3_{1}} c_{3} + 7500 a_{4_{1}} c_{3} + 7500 a_{5_{1}} c_{3} - 18000 a_{3_{2}} c_{4} + 45000 a_{4_{2}} c_{4} - 30000 a_{5_{2}} c_{4})"
      ]
     },
     "metadata": {},
     "output_type": "display_data"
    },
    {
     "data": {
      "text/html": [
       "<html>\\(\\displaystyle 28 \\longrightarrow \\left(\\frac{1}{125}\\right) \\cdot (3960 a_{2_{0}}^{2} a_{2_{1}}^{2} + 2784 a_{2_{0}}^{3} a_{2_{2}} + 240 a_{2_{0}} a_{2_{1}}^{2} a_{3_{0}} + 240 a_{2_{0}}^{2} a_{2_{2}} a_{3_{0}} + 360 a_{2_{0}}^{2} a_{2_{1}} a_{3_{1}} + 168 a_{2_{0}}^{3} a_{3_{2}} + 48 a_{2_{0}} a_{2_{1}}^{2} a_{4_{0}} + 48 a_{2_{0}}^{2} a_{2_{2}} a_{4_{0}} + 60 a_{2_{0}}^{2} a_{2_{1}} a_{4_{1}} + 24 a_{2_{0}}^{3} a_{4_{2}} - 1200 a_{2_{0}}^{3} c_{4} - 200 a_{2_{0}}^{2} a_{3_{0}} c_{4} - 40 a_{2_{0}}^{2} a_{4_{0}} c_{4} - 114240 a_{2_{0}} a_{2_{1}}^{2} - 128400 a_{2_{0}}^{2} a_{2_{2}} - 16450 a_{2_{1}}^{2} a_{3_{0}} - 42480 a_{2_{0}} a_{2_{2}} a_{3_{0}} + 4140 a_{2_{2}} a_{3_{0}}^{2} - 30300 a_{2_{0}} a_{2_{1}} a_{3_{1}} + 2850 a_{2_{1}} a_{3_{0}} a_{3_{1}} - 900 a_{2_{0}} a_{3_{1}}^{2} + 1200 a_{3_{0}} a_{3_{1}}^{2} - 13620 a_{2_{0}}^{2} a_{3_{2}} - 2310 a_{2_{0}} a_{3_{0}} a_{3_{2}} + 1230 a_{3_{0}}^{2} a_{3_{2}} + 6160 a_{2_{1}}^{2} a_{4_{0}} + 13320 a_{2_{0}} a_{2_{2}} a_{4_{0}} + 420 a_{2_{2}} a_{3_{0}} a_{4_{0}} + 660 a_{2_{1}} a_{3_{1}} a_{4_{0}} + 60 a_{3_{1}}^{2} a_{4_{0}} + 960 a_{2_{0}} a_{3_{2}} a_{4_{0}} + 120 a_{3_{0}} a_{3_{2}} a_{4_{0}} + 120 a_{2_{2}} a_{4_{0}}^{2} + 9200 a_{2_{0}} a_{2_{1}} a_{4_{1}} + 225 a_{2_{1}} a_{3_{0}} a_{4_{1}} + 450 a_{2_{0}} a_{3_{1}} a_{4_{1}} + 150 a_{3_{0}} a_{3_{1}} a_{4_{1}} + 270 a_{2_{1}} a_{4_{0}} a_{4_{1}} + 150 a_{2_{0}} a_{4_{1}}^{2} + 2940 a_{2_{0}}^{2} a_{4_{2}} - 30 a_{2_{0}} a_{3_{0}} a_{4_{2}} + 90 a_{3_{0}}^{2} a_{4_{2}} + 300 a_{2_{0}} a_{4_{0}} a_{4_{2}} - 375 a_{2_{1}}^{2} a_{5_{0}} - 750 a_{2_{0}} a_{2_{2}} a_{5_{0}} - 150 a_{2_{2}} a_{3_{0}} a_{5_{0}} - 150 a_{2_{1}} a_{3_{1}} a_{5_{0}} - 150 a_{2_{0}} a_{3_{2}} a_{5_{0}} - 420 a_{2_{0}} a_{2_{1}} a_{5_{1}} - 120 a_{2_{1}} a_{3_{0}} a_{5_{1}} - 120 a_{2_{0}} a_{3_{1}} a_{5_{1}} - 90 a_{2_{0}}^{2} a_{5_{2}} - 90 a_{2_{0}} a_{3_{0}} a_{5_{2}} + 67200 a_{2_{0}}^{2} c_{4} + 18000 a_{2_{0}} a_{3_{0}} c_{4} + 3000 a_{3_{0}}^{2} c_{4} - 12000 a_{2_{0}} a_{4_{0}} c_{4} - 1400 a_{3_{0}} a_{4_{0}} c_{4} - 400 a_{4_{0}}^{2} c_{4} + 2500 a_{2_{0}} a_{5_{0}} c_{4} + 500 a_{3_{0}} a_{5_{0}} c_{4} + 260400 a_{2_{1}}^{2} + 806400 a_{2_{0}} a_{2_{2}} + 806400 a_{2_{2}} a_{3_{0}} + 532800 a_{2_{1}} a_{3_{1}} - 82800 a_{3_{1}}^{2} + 547200 a_{2_{0}} a_{3_{2}} - 135600 a_{3_{0}} a_{3_{2}} - 537600 a_{2_{2}} a_{4_{0}} - 41400 a_{3_{2}} a_{4_{0}} - 327000 a_{2_{1}} a_{4_{1}} - 15000 a_{3_{1}} a_{4_{1}} - 3000 a_{4_{1}}^{2} - 234000 a_{2_{0}} a_{4_{2}} + 3000 a_{3_{0}} a_{4_{2}} - 7200 a_{4_{0}} a_{4_{2}} + 126000 a_{2_{2}} a_{5_{0}} + 18500 a_{3_{2}} a_{5_{0}} + 3000 a_{4_{2}} a_{5_{0}} + 73400 a_{2_{1}} a_{5_{1}} + 13200 a_{3_{1}} a_{5_{1}} + 2400 a_{4_{1}} a_{5_{1}} + 600 a_{5_{1}}^{2} + 37800 a_{2_{0}} a_{5_{2}} + 9000 a_{3_{0}} a_{5_{2}} + 1800 a_{4_{0}} a_{5_{2}} + 1200 a_{5_{0}} a_{5_{2}} - 1008000 a_{3_{0}} c_{4} + 672000 a_{4_{0}} c_{4} - 210000 a_{5_{0}} c_{4} - 1008000 a_{3_{2}} + 2016000 a_{4_{2}} - 1008000 a_{5_{2}})\\)</html>"
      ],
      "text/latex": [
       "$\\displaystyle 28 \\longrightarrow \\left(\\frac{1}{125}\\right) \\cdot (3960 a_{2_{0}}^{2} a_{2_{1}}^{2} + 2784 a_{2_{0}}^{3} a_{2_{2}} + 240 a_{2_{0}} a_{2_{1}}^{2} a_{3_{0}} + 240 a_{2_{0}}^{2} a_{2_{2}} a_{3_{0}} + 360 a_{2_{0}}^{2} a_{2_{1}} a_{3_{1}} + 168 a_{2_{0}}^{3} a_{3_{2}} + 48 a_{2_{0}} a_{2_{1}}^{2} a_{4_{0}} + 48 a_{2_{0}}^{2} a_{2_{2}} a_{4_{0}} + 60 a_{2_{0}}^{2} a_{2_{1}} a_{4_{1}} + 24 a_{2_{0}}^{3} a_{4_{2}} - 1200 a_{2_{0}}^{3} c_{4} - 200 a_{2_{0}}^{2} a_{3_{0}} c_{4} - 40 a_{2_{0}}^{2} a_{4_{0}} c_{4} - 114240 a_{2_{0}} a_{2_{1}}^{2} - 128400 a_{2_{0}}^{2} a_{2_{2}} - 16450 a_{2_{1}}^{2} a_{3_{0}} - 42480 a_{2_{0}} a_{2_{2}} a_{3_{0}} + 4140 a_{2_{2}} a_{3_{0}}^{2} - 30300 a_{2_{0}} a_{2_{1}} a_{3_{1}} + 2850 a_{2_{1}} a_{3_{0}} a_{3_{1}} - 900 a_{2_{0}} a_{3_{1}}^{2} + 1200 a_{3_{0}} a_{3_{1}}^{2} - 13620 a_{2_{0}}^{2} a_{3_{2}} - 2310 a_{2_{0}} a_{3_{0}} a_{3_{2}} + 1230 a_{3_{0}}^{2} a_{3_{2}} + 6160 a_{2_{1}}^{2} a_{4_{0}} + 13320 a_{2_{0}} a_{2_{2}} a_{4_{0}} + 420 a_{2_{2}} a_{3_{0}} a_{4_{0}} + 660 a_{2_{1}} a_{3_{1}} a_{4_{0}} + 60 a_{3_{1}}^{2} a_{4_{0}} + 960 a_{2_{0}} a_{3_{2}} a_{4_{0}} + 120 a_{3_{0}} a_{3_{2}} a_{4_{0}} + 120 a_{2_{2}} a_{4_{0}}^{2} + 9200 a_{2_{0}} a_{2_{1}} a_{4_{1}} + 225 a_{2_{1}} a_{3_{0}} a_{4_{1}} + 450 a_{2_{0}} a_{3_{1}} a_{4_{1}} + 150 a_{3_{0}} a_{3_{1}} a_{4_{1}} + 270 a_{2_{1}} a_{4_{0}} a_{4_{1}} + 150 a_{2_{0}} a_{4_{1}}^{2} + 2940 a_{2_{0}}^{2} a_{4_{2}} - 30 a_{2_{0}} a_{3_{0}} a_{4_{2}} + 90 a_{3_{0}}^{2} a_{4_{2}} + 300 a_{2_{0}} a_{4_{0}} a_{4_{2}} - 375 a_{2_{1}}^{2} a_{5_{0}} - 750 a_{2_{0}} a_{2_{2}} a_{5_{0}} - 150 a_{2_{2}} a_{3_{0}} a_{5_{0}} - 150 a_{2_{1}} a_{3_{1}} a_{5_{0}} - 150 a_{2_{0}} a_{3_{2}} a_{5_{0}} - 420 a_{2_{0}} a_{2_{1}} a_{5_{1}} - 120 a_{2_{1}} a_{3_{0}} a_{5_{1}} - 120 a_{2_{0}} a_{3_{1}} a_{5_{1}} - 90 a_{2_{0}}^{2} a_{5_{2}} - 90 a_{2_{0}} a_{3_{0}} a_{5_{2}} + 67200 a_{2_{0}}^{2} c_{4} + 18000 a_{2_{0}} a_{3_{0}} c_{4} + 3000 a_{3_{0}}^{2} c_{4} - 12000 a_{2_{0}} a_{4_{0}} c_{4} - 1400 a_{3_{0}} a_{4_{0}} c_{4} - 400 a_{4_{0}}^{2} c_{4} + 2500 a_{2_{0}} a_{5_{0}} c_{4} + 500 a_{3_{0}} a_{5_{0}} c_{4} + 260400 a_{2_{1}}^{2} + 806400 a_{2_{0}} a_{2_{2}} + 806400 a_{2_{2}} a_{3_{0}} + 532800 a_{2_{1}} a_{3_{1}} - 82800 a_{3_{1}}^{2} + 547200 a_{2_{0}} a_{3_{2}} - 135600 a_{3_{0}} a_{3_{2}} - 537600 a_{2_{2}} a_{4_{0}} - 41400 a_{3_{2}} a_{4_{0}} - 327000 a_{2_{1}} a_{4_{1}} - 15000 a_{3_{1}} a_{4_{1}} - 3000 a_{4_{1}}^{2} - 234000 a_{2_{0}} a_{4_{2}} + 3000 a_{3_{0}} a_{4_{2}} - 7200 a_{4_{0}} a_{4_{2}} + 126000 a_{2_{2}} a_{5_{0}} + 18500 a_{3_{2}} a_{5_{0}} + 3000 a_{4_{2}} a_{5_{0}} + 73400 a_{2_{1}} a_{5_{1}} + 13200 a_{3_{1}} a_{5_{1}} + 2400 a_{4_{1}} a_{5_{1}} + 600 a_{5_{1}}^{2} + 37800 a_{2_{0}} a_{5_{2}} + 9000 a_{3_{0}} a_{5_{2}} + 1800 a_{4_{0}} a_{5_{2}} + 1200 a_{5_{0}} a_{5_{2}} - 1008000 a_{3_{0}} c_{4} + 672000 a_{4_{0}} c_{4} - 210000 a_{5_{0}} c_{4} - 1008000 a_{3_{2}} + 2016000 a_{4_{2}} - 1008000 a_{5_{2}})$"
      ],
      "text/plain": [
       "28 \\longrightarrow \\left(\\frac{1}{125}\\right) \\cdot (3960 a_{2_{0}}^{2} a_{2_{1}}^{2} + 2784 a_{2_{0}}^{3} a_{2_{2}} + 240 a_{2_{0}} a_{2_{1}}^{2} a_{3_{0}} + 240 a_{2_{0}}^{2} a_{2_{2}} a_{3_{0}} + 360 a_{2_{0}}^{2} a_{2_{1}} a_{3_{1}} + 168 a_{2_{0}}^{3} a_{3_{2}} + 48 a_{2_{0}} a_{2_{1}}^{2} a_{4_{0}} + 48 a_{2_{0}}^{2} a_{2_{2}} a_{4_{0}} + 60 a_{2_{0}}^{2} a_{2_{1}} a_{4_{1}} + 24 a_{2_{0}}^{3} a_{4_{2}} - 1200 a_{2_{0}}^{3} c_{4} - 200 a_{2_{0}}^{2} a_{3_{0}} c_{4} - 40 a_{2_{0}}^{2} a_{4_{0}} c_{4} - 114240 a_{2_{0}} a_{2_{1}}^{2} - 128400 a_{2_{0}}^{2} a_{2_{2}} - 16450 a_{2_{1}}^{2} a_{3_{0}} - 42480 a_{2_{0}} a_{2_{2}} a_{3_{0}} + 4140 a_{2_{2}} a_{3_{0}}^{2} - 30300 a_{2_{0}} a_{2_{1}} a_{3_{1}} + 2850 a_{2_{1}} a_{3_{0}} a_{3_{1}} - 900 a_{2_{0}} a_{3_{1}}^{2} + 1200 a_{3_{0}} a_{3_{1}}^{2} - 13620 a_{2_{0}}^{2} a_{3_{2}} - 2310 a_{2_{0}} a_{3_{0}} a_{3_{2}} + 1230 a_{3_{0}}^{2} a_{3_{2}} + 6160 a_{2_{1}}^{2} a_{4_{0}} + 13320 a_{2_{0}} a_{2_{2}} a_{4_{0}} + 420 a_{2_{2}} a_{3_{0}} a_{4_{0}} + 660 a_{2_{1}} a_{3_{1}} a_{4_{0}} + 60 a_{3_{1}}^{2} a_{4_{0}} + 960 a_{2_{0}} a_{3_{2}} a_{4_{0}} + 120 a_{3_{0}} a_{3_{2}} a_{4_{0}} + 120 a_{2_{2}} a_{4_{0}}^{2} + 9200 a_{2_{0}} a_{2_{1}} a_{4_{1}} + 225 a_{2_{1}} a_{3_{0}} a_{4_{1}} + 450 a_{2_{0}} a_{3_{1}} a_{4_{1}} + 150 a_{3_{0}} a_{3_{1}} a_{4_{1}} + 270 a_{2_{1}} a_{4_{0}} a_{4_{1}} + 150 a_{2_{0}} a_{4_{1}}^{2} + 2940 a_{2_{0}}^{2} a_{4_{2}} - 30 a_{2_{0}} a_{3_{0}} a_{4_{2}} + 90 a_{3_{0}}^{2} a_{4_{2}} + 300 a_{2_{0}} a_{4_{0}} a_{4_{2}} - 375 a_{2_{1}}^{2} a_{5_{0}} - 750 a_{2_{0}} a_{2_{2}} a_{5_{0}} - 150 a_{2_{2}} a_{3_{0}} a_{5_{0}} - 150 a_{2_{1}} a_{3_{1}} a_{5_{0}} - 150 a_{2_{0}} a_{3_{2}} a_{5_{0}} - 420 a_{2_{0}} a_{2_{1}} a_{5_{1}} - 120 a_{2_{1}} a_{3_{0}} a_{5_{1}} - 120 a_{2_{0}} a_{3_{1}} a_{5_{1}} - 90 a_{2_{0}}^{2} a_{5_{2}} - 90 a_{2_{0}} a_{3_{0}} a_{5_{2}} + 67200 a_{2_{0}}^{2} c_{4} + 18000 a_{2_{0}} a_{3_{0}} c_{4} + 3000 a_{3_{0}}^{2} c_{4} - 12000 a_{2_{0}} a_{4_{0}} c_{4} - 1400 a_{3_{0}} a_{4_{0}} c_{4} - 400 a_{4_{0}}^{2} c_{4} + 2500 a_{2_{0}} a_{5_{0}} c_{4} + 500 a_{3_{0}} a_{5_{0}} c_{4} + 260400 a_{2_{1}}^{2} + 806400 a_{2_{0}} a_{2_{2}} + 806400 a_{2_{2}} a_{3_{0}} + 532800 a_{2_{1}} a_{3_{1}} - 82800 a_{3_{1}}^{2} + 547200 a_{2_{0}} a_{3_{2}} - 135600 a_{3_{0}} a_{3_{2}} - 537600 a_{2_{2}} a_{4_{0}} - 41400 a_{3_{2}} a_{4_{0}} - 327000 a_{2_{1}} a_{4_{1}} - 15000 a_{3_{1}} a_{4_{1}} - 3000 a_{4_{1}}^{2} - 234000 a_{2_{0}} a_{4_{2}} + 3000 a_{3_{0}} a_{4_{2}} - 7200 a_{4_{0}} a_{4_{2}} + 126000 a_{2_{2}} a_{5_{0}} + 18500 a_{3_{2}} a_{5_{0}} + 3000 a_{4_{2}} a_{5_{0}} + 73400 a_{2_{1}} a_{5_{1}} + 13200 a_{3_{1}} a_{5_{1}} + 2400 a_{4_{1}} a_{5_{1}} + 600 a_{5_{1}}^{2} + 37800 a_{2_{0}} a_{5_{2}} + 9000 a_{3_{0}} a_{5_{2}} + 1800 a_{4_{0}} a_{5_{2}} + 1200 a_{5_{0}} a_{5_{2}} - 1008000 a_{3_{0}} c_{4} + 672000 a_{4_{0}} c_{4} - 210000 a_{5_{0}} c_{4} - 1008000 a_{3_{2}} + 2016000 a_{4_{2}} - 1008000 a_{5_{2}})"
      ]
     },
     "metadata": {},
     "output_type": "display_data"
    },
    {
     "data": {
      "text/html": [
       "<html>\\(\\displaystyle 29 \\longrightarrow \\left(\\frac{1}{125}\\right) \\cdot (1680 a_{2_{0}} a_{2_{1}}^{3} + 5400 a_{2_{0}}^{2} a_{2_{1}} a_{2_{2}} + 48 a_{2_{1}}^{3} a_{3_{0}} + 288 a_{2_{0}} a_{2_{1}} a_{2_{2}} a_{3_{0}} + 240 a_{2_{0}} a_{2_{1}}^{2} a_{3_{1}} + 240 a_{2_{0}}^{2} a_{2_{2}} a_{3_{1}} + 360 a_{2_{0}}^{2} a_{2_{1}} a_{3_{2}} + 12 a_{2_{1}}^{3} a_{4_{0}} + 72 a_{2_{0}} a_{2_{1}} a_{2_{2}} a_{4_{0}} + 48 a_{2_{0}} a_{2_{1}}^{2} a_{4_{1}} + 48 a_{2_{0}}^{2} a_{2_{2}} a_{4_{1}} + 60 a_{2_{0}}^{2} a_{2_{1}} a_{4_{2}} - 2400 a_{2_{0}}^{2} a_{2_{1}} c_{4} - 240 a_{2_{0}} a_{2_{1}} a_{3_{0}} c_{4} - 200 a_{2_{0}}^{2} a_{3_{1}} c_{4} - 60 a_{2_{0}} a_{2_{1}} a_{4_{0}} c_{4} - 40 a_{2_{0}}^{2} a_{4_{1}} c_{4} - 14280 a_{2_{1}}^{3} - 102480 a_{2_{0}} a_{2_{1}} a_{2_{2}} - 21510 a_{2_{1}} a_{2_{2}} a_{3_{0}} - 7900 a_{2_{1}}^{2} a_{3_{1}} - 22500 a_{2_{0}} a_{2_{2}} a_{3_{1}} + 5040 a_{2_{2}} a_{3_{0}} a_{3_{1}} + 600 a_{2_{1}} a_{3_{1}}^{2} + 300 a_{3_{1}}^{3} - 15900 a_{2_{0}} a_{2_{1}} a_{3_{2}} + 810 a_{2_{1}} a_{3_{0}} a_{3_{2}} - 2400 a_{2_{0}} a_{3_{1}} a_{3_{2}} + 1860 a_{3_{0}} a_{3_{1}} a_{3_{2}} + 9810 a_{2_{1}} a_{2_{2}} a_{4_{0}} + 510 a_{2_{2}} a_{3_{1}} a_{4_{0}} + 765 a_{2_{1}} a_{3_{2}} a_{4_{0}} + 90 a_{3_{1}} a_{3_{2}} a_{4_{0}} + 3460 a_{2_{1}}^{2} a_{4_{1}} + 7740 a_{2_{0}} a_{2_{2}} a_{4_{1}} + 180 a_{2_{2}} a_{3_{0}} a_{4_{1}} + 360 a_{2_{1}} a_{3_{1}} a_{4_{1}} + 60 a_{3_{1}}^{2} a_{4_{1}} + 600 a_{2_{0}} a_{3_{2}} a_{4_{1}} + 120 a_{3_{0}} a_{3_{2}} a_{4_{1}} + 210 a_{2_{2}} a_{4_{0}} a_{4_{1}} + 120 a_{2_{1}} a_{4_{1}}^{2} + 4700 a_{2_{0}} a_{2_{1}} a_{4_{2}} - 15 a_{2_{1}} a_{3_{0}} a_{4_{2}} + 150 a_{2_{0}} a_{3_{1}} a_{4_{2}} + 150 a_{3_{0}} a_{3_{1}} a_{4_{2}} + 240 a_{2_{1}} a_{4_{0}} a_{4_{2}} + 270 a_{2_{0}} a_{4_{1}} a_{4_{2}} - 825 a_{2_{1}} a_{2_{2}} a_{5_{0}} - 150 a_{2_{2}} a_{3_{1}} a_{5_{0}} - 150 a_{2_{1}} a_{3_{2}} a_{5_{0}} - 240 a_{2_{1}}^{2} a_{5_{1}} - 480 a_{2_{0}} a_{2_{2}} a_{5_{1}} - 120 a_{2_{2}} a_{3_{0}} a_{5_{1}} - 120 a_{2_{1}} a_{3_{1}} a_{5_{1}} - 120 a_{2_{0}} a_{3_{2}} a_{5_{1}} - 225 a_{2_{0}} a_{2_{1}} a_{5_{2}} - 90 a_{2_{1}} a_{3_{0}} a_{5_{2}} - 90 a_{2_{0}} a_{3_{1}} a_{5_{2}} - 9000 a_{2_{0}}^{2} c_{3} + 2700 a_{2_{0}} a_{3_{0}} c_{3} + 900 a_{3_{0}}^{2} c_{3} - 450 a_{2_{0}} a_{4_{0}} c_{3} + 225 a_{3_{0}} a_{4_{0}} c_{3} - 375 a_{2_{0}} a_{5_{0}} c_{3} + 50400 a_{2_{0}} a_{2_{1}} c_{4} + 18000 a_{2_{1}} a_{3_{0}} c_{4} + 6000 a_{2_{0}} a_{3_{1}} c_{4} + 4200 a_{3_{0}} a_{3_{1}} c_{4} - 12000 a_{2_{1}} a_{4_{0}} c_{4} - 1700 a_{3_{1}} a_{4_{0}} c_{4} - 6000 a_{2_{0}} a_{4_{1}} c_{4} - 600 a_{3_{0}} a_{4_{1}} c_{4} - 700 a_{4_{0}} a_{4_{1}} c_{4} + 2750 a_{2_{1}} a_{5_{0}} c_{4} + 500 a_{3_{1}} a_{5_{0}} c_{4} + 1600 a_{2_{0}} a_{5_{1}} c_{4} + 400 a_{3_{0}} a_{5_{1}} c_{4} + 100800 a_{2_{1}} a_{2_{2}} + 201600 a_{2_{2}} a_{3_{1}} + 135000 a_{2_{1}} a_{3_{2}} - 54600 a_{3_{1}} a_{3_{2}} - 201600 a_{2_{2}} a_{4_{1}} - 17400 a_{3_{2}} a_{4_{1}} - 111000 a_{2_{1}} a_{4_{2}} - 3000 a_{3_{1}} a_{4_{2}} - 4200 a_{4_{1}} a_{4_{2}} + 63000 a_{2_{2}} a_{5_{1}} + 10900 a_{3_{2}} a_{5_{1}} + 2100 a_{4_{2}} a_{5_{1}} + 32250 a_{2_{1}} a_{5_{2}} + 7200 a_{3_{1}} a_{5_{2}} + 1575 a_{4_{1}} a_{5_{2}} + 1050 a_{5_{1}} a_{5_{2}} + 378000 a_{2_{0}} c_{3} - 189000 a_{3_{0}} c_{3} + 26250 a_{5_{0}} c_{3} - 252000 a_{3_{1}} c_{4} + 252000 a_{4_{1}} c_{4} - 105000 a_{5_{1}} c_{4})\\)</html>"
      ],
      "text/latex": [
       "$\\displaystyle 29 \\longrightarrow \\left(\\frac{1}{125}\\right) \\cdot (1680 a_{2_{0}} a_{2_{1}}^{3} + 5400 a_{2_{0}}^{2} a_{2_{1}} a_{2_{2}} + 48 a_{2_{1}}^{3} a_{3_{0}} + 288 a_{2_{0}} a_{2_{1}} a_{2_{2}} a_{3_{0}} + 240 a_{2_{0}} a_{2_{1}}^{2} a_{3_{1}} + 240 a_{2_{0}}^{2} a_{2_{2}} a_{3_{1}} + 360 a_{2_{0}}^{2} a_{2_{1}} a_{3_{2}} + 12 a_{2_{1}}^{3} a_{4_{0}} + 72 a_{2_{0}} a_{2_{1}} a_{2_{2}} a_{4_{0}} + 48 a_{2_{0}} a_{2_{1}}^{2} a_{4_{1}} + 48 a_{2_{0}}^{2} a_{2_{2}} a_{4_{1}} + 60 a_{2_{0}}^{2} a_{2_{1}} a_{4_{2}} - 2400 a_{2_{0}}^{2} a_{2_{1}} c_{4} - 240 a_{2_{0}} a_{2_{1}} a_{3_{0}} c_{4} - 200 a_{2_{0}}^{2} a_{3_{1}} c_{4} - 60 a_{2_{0}} a_{2_{1}} a_{4_{0}} c_{4} - 40 a_{2_{0}}^{2} a_{4_{1}} c_{4} - 14280 a_{2_{1}}^{3} - 102480 a_{2_{0}} a_{2_{1}} a_{2_{2}} - 21510 a_{2_{1}} a_{2_{2}} a_{3_{0}} - 7900 a_{2_{1}}^{2} a_{3_{1}} - 22500 a_{2_{0}} a_{2_{2}} a_{3_{1}} + 5040 a_{2_{2}} a_{3_{0}} a_{3_{1}} + 600 a_{2_{1}} a_{3_{1}}^{2} + 300 a_{3_{1}}^{3} - 15900 a_{2_{0}} a_{2_{1}} a_{3_{2}} + 810 a_{2_{1}} a_{3_{0}} a_{3_{2}} - 2400 a_{2_{0}} a_{3_{1}} a_{3_{2}} + 1860 a_{3_{0}} a_{3_{1}} a_{3_{2}} + 9810 a_{2_{1}} a_{2_{2}} a_{4_{0}} + 510 a_{2_{2}} a_{3_{1}} a_{4_{0}} + 765 a_{2_{1}} a_{3_{2}} a_{4_{0}} + 90 a_{3_{1}} a_{3_{2}} a_{4_{0}} + 3460 a_{2_{1}}^{2} a_{4_{1}} + 7740 a_{2_{0}} a_{2_{2}} a_{4_{1}} + 180 a_{2_{2}} a_{3_{0}} a_{4_{1}} + 360 a_{2_{1}} a_{3_{1}} a_{4_{1}} + 60 a_{3_{1}}^{2} a_{4_{1}} + 600 a_{2_{0}} a_{3_{2}} a_{4_{1}} + 120 a_{3_{0}} a_{3_{2}} a_{4_{1}} + 210 a_{2_{2}} a_{4_{0}} a_{4_{1}} + 120 a_{2_{1}} a_{4_{1}}^{2} + 4700 a_{2_{0}} a_{2_{1}} a_{4_{2}} - 15 a_{2_{1}} a_{3_{0}} a_{4_{2}} + 150 a_{2_{0}} a_{3_{1}} a_{4_{2}} + 150 a_{3_{0}} a_{3_{1}} a_{4_{2}} + 240 a_{2_{1}} a_{4_{0}} a_{4_{2}} + 270 a_{2_{0}} a_{4_{1}} a_{4_{2}} - 825 a_{2_{1}} a_{2_{2}} a_{5_{0}} - 150 a_{2_{2}} a_{3_{1}} a_{5_{0}} - 150 a_{2_{1}} a_{3_{2}} a_{5_{0}} - 240 a_{2_{1}}^{2} a_{5_{1}} - 480 a_{2_{0}} a_{2_{2}} a_{5_{1}} - 120 a_{2_{2}} a_{3_{0}} a_{5_{1}} - 120 a_{2_{1}} a_{3_{1}} a_{5_{1}} - 120 a_{2_{0}} a_{3_{2}} a_{5_{1}} - 225 a_{2_{0}} a_{2_{1}} a_{5_{2}} - 90 a_{2_{1}} a_{3_{0}} a_{5_{2}} - 90 a_{2_{0}} a_{3_{1}} a_{5_{2}} - 9000 a_{2_{0}}^{2} c_{3} + 2700 a_{2_{0}} a_{3_{0}} c_{3} + 900 a_{3_{0}}^{2} c_{3} - 450 a_{2_{0}} a_{4_{0}} c_{3} + 225 a_{3_{0}} a_{4_{0}} c_{3} - 375 a_{2_{0}} a_{5_{0}} c_{3} + 50400 a_{2_{0}} a_{2_{1}} c_{4} + 18000 a_{2_{1}} a_{3_{0}} c_{4} + 6000 a_{2_{0}} a_{3_{1}} c_{4} + 4200 a_{3_{0}} a_{3_{1}} c_{4} - 12000 a_{2_{1}} a_{4_{0}} c_{4} - 1700 a_{3_{1}} a_{4_{0}} c_{4} - 6000 a_{2_{0}} a_{4_{1}} c_{4} - 600 a_{3_{0}} a_{4_{1}} c_{4} - 700 a_{4_{0}} a_{4_{1}} c_{4} + 2750 a_{2_{1}} a_{5_{0}} c_{4} + 500 a_{3_{1}} a_{5_{0}} c_{4} + 1600 a_{2_{0}} a_{5_{1}} c_{4} + 400 a_{3_{0}} a_{5_{1}} c_{4} + 100800 a_{2_{1}} a_{2_{2}} + 201600 a_{2_{2}} a_{3_{1}} + 135000 a_{2_{1}} a_{3_{2}} - 54600 a_{3_{1}} a_{3_{2}} - 201600 a_{2_{2}} a_{4_{1}} - 17400 a_{3_{2}} a_{4_{1}} - 111000 a_{2_{1}} a_{4_{2}} - 3000 a_{3_{1}} a_{4_{2}} - 4200 a_{4_{1}} a_{4_{2}} + 63000 a_{2_{2}} a_{5_{1}} + 10900 a_{3_{2}} a_{5_{1}} + 2100 a_{4_{2}} a_{5_{1}} + 32250 a_{2_{1}} a_{5_{2}} + 7200 a_{3_{1}} a_{5_{2}} + 1575 a_{4_{1}} a_{5_{2}} + 1050 a_{5_{1}} a_{5_{2}} + 378000 a_{2_{0}} c_{3} - 189000 a_{3_{0}} c_{3} + 26250 a_{5_{0}} c_{3} - 252000 a_{3_{1}} c_{4} + 252000 a_{4_{1}} c_{4} - 105000 a_{5_{1}} c_{4})$"
      ],
      "text/plain": [
       "29 \\longrightarrow \\left(\\frac{1}{125}\\right) \\cdot (1680 a_{2_{0}} a_{2_{1}}^{3} + 5400 a_{2_{0}}^{2} a_{2_{1}} a_{2_{2}} + 48 a_{2_{1}}^{3} a_{3_{0}} + 288 a_{2_{0}} a_{2_{1}} a_{2_{2}} a_{3_{0}} + 240 a_{2_{0}} a_{2_{1}}^{2} a_{3_{1}} + 240 a_{2_{0}}^{2} a_{2_{2}} a_{3_{1}} + 360 a_{2_{0}}^{2} a_{2_{1}} a_{3_{2}} + 12 a_{2_{1}}^{3} a_{4_{0}} + 72 a_{2_{0}} a_{2_{1}} a_{2_{2}} a_{4_{0}} + 48 a_{2_{0}} a_{2_{1}}^{2} a_{4_{1}} + 48 a_{2_{0}}^{2} a_{2_{2}} a_{4_{1}} + 60 a_{2_{0}}^{2} a_{2_{1}} a_{4_{2}} - 2400 a_{2_{0}}^{2} a_{2_{1}} c_{4} - 240 a_{2_{0}} a_{2_{1}} a_{3_{0}} c_{4} - 200 a_{2_{0}}^{2} a_{3_{1}} c_{4} - 60 a_{2_{0}} a_{2_{1}} a_{4_{0}} c_{4} - 40 a_{2_{0}}^{2} a_{4_{1}} c_{4} - 14280 a_{2_{1}}^{3} - 102480 a_{2_{0}} a_{2_{1}} a_{2_{2}} - 21510 a_{2_{1}} a_{2_{2}} a_{3_{0}} - 7900 a_{2_{1}}^{2} a_{3_{1}} - 22500 a_{2_{0}} a_{2_{2}} a_{3_{1}} + 5040 a_{2_{2}} a_{3_{0}} a_{3_{1}} + 600 a_{2_{1}} a_{3_{1}}^{2} + 300 a_{3_{1}}^{3} - 15900 a_{2_{0}} a_{2_{1}} a_{3_{2}} + 810 a_{2_{1}} a_{3_{0}} a_{3_{2}} - 2400 a_{2_{0}} a_{3_{1}} a_{3_{2}} + 1860 a_{3_{0}} a_{3_{1}} a_{3_{2}} + 9810 a_{2_{1}} a_{2_{2}} a_{4_{0}} + 510 a_{2_{2}} a_{3_{1}} a_{4_{0}} + 765 a_{2_{1}} a_{3_{2}} a_{4_{0}} + 90 a_{3_{1}} a_{3_{2}} a_{4_{0}} + 3460 a_{2_{1}}^{2} a_{4_{1}} + 7740 a_{2_{0}} a_{2_{2}} a_{4_{1}} + 180 a_{2_{2}} a_{3_{0}} a_{4_{1}} + 360 a_{2_{1}} a_{3_{1}} a_{4_{1}} + 60 a_{3_{1}}^{2} a_{4_{1}} + 600 a_{2_{0}} a_{3_{2}} a_{4_{1}} + 120 a_{3_{0}} a_{3_{2}} a_{4_{1}} + 210 a_{2_{2}} a_{4_{0}} a_{4_{1}} + 120 a_{2_{1}} a_{4_{1}}^{2} + 4700 a_{2_{0}} a_{2_{1}} a_{4_{2}} - 15 a_{2_{1}} a_{3_{0}} a_{4_{2}} + 150 a_{2_{0}} a_{3_{1}} a_{4_{2}} + 150 a_{3_{0}} a_{3_{1}} a_{4_{2}} + 240 a_{2_{1}} a_{4_{0}} a_{4_{2}} + 270 a_{2_{0}} a_{4_{1}} a_{4_{2}} - 825 a_{2_{1}} a_{2_{2}} a_{5_{0}} - 150 a_{2_{2}} a_{3_{1}} a_{5_{0}} - 150 a_{2_{1}} a_{3_{2}} a_{5_{0}} - 240 a_{2_{1}}^{2} a_{5_{1}} - 480 a_{2_{0}} a_{2_{2}} a_{5_{1}} - 120 a_{2_{2}} a_{3_{0}} a_{5_{1}} - 120 a_{2_{1}} a_{3_{1}} a_{5_{1}} - 120 a_{2_{0}} a_{3_{2}} a_{5_{1}} - 225 a_{2_{0}} a_{2_{1}} a_{5_{2}} - 90 a_{2_{1}} a_{3_{0}} a_{5_{2}} - 90 a_{2_{0}} a_{3_{1}} a_{5_{2}} - 9000 a_{2_{0}}^{2} c_{3} + 2700 a_{2_{0}} a_{3_{0}} c_{3} + 900 a_{3_{0}}^{2} c_{3} - 450 a_{2_{0}} a_{4_{0}} c_{3} + 225 a_{3_{0}} a_{4_{0}} c_{3} - 375 a_{2_{0}} a_{5_{0}} c_{3} + 50400 a_{2_{0}} a_{2_{1}} c_{4} + 18000 a_{2_{1}} a_{3_{0}} c_{4} + 6000 a_{2_{0}} a_{3_{1}} c_{4} + 4200 a_{3_{0}} a_{3_{1}} c_{4} - 12000 a_{2_{1}} a_{4_{0}} c_{4} - 1700 a_{3_{1}} a_{4_{0}} c_{4} - 6000 a_{2_{0}} a_{4_{1}} c_{4} - 600 a_{3_{0}} a_{4_{1}} c_{4} - 700 a_{4_{0}} a_{4_{1}} c_{4} + 2750 a_{2_{1}} a_{5_{0}} c_{4} + 500 a_{3_{1}} a_{5_{0}} c_{4} + 1600 a_{2_{0}} a_{5_{1}} c_{4} + 400 a_{3_{0}} a_{5_{1}} c_{4} + 100800 a_{2_{1}} a_{2_{2}} + 201600 a_{2_{2}} a_{3_{1}} + 135000 a_{2_{1}} a_{3_{2}} - 54600 a_{3_{1}} a_{3_{2}} - 201600 a_{2_{2}} a_{4_{1}} - 17400 a_{3_{2}} a_{4_{1}} - 111000 a_{2_{1}} a_{4_{2}} - 3000 a_{3_{1}} a_{4_{2}} - 4200 a_{4_{1}} a_{4_{2}} + 63000 a_{2_{2}} a_{5_{1}} + 10900 a_{3_{2}} a_{5_{1}} + 2100 a_{4_{2}} a_{5_{1}} + 32250 a_{2_{1}} a_{5_{2}} + 7200 a_{3_{1}} a_{5_{2}} + 1575 a_{4_{1}} a_{5_{2}} + 1050 a_{5_{1}} a_{5_{2}} + 378000 a_{2_{0}} c_{3} - 189000 a_{3_{0}} c_{3} + 26250 a_{5_{0}} c_{3} - 252000 a_{3_{1}} c_{4} + 252000 a_{4_{1}} c_{4} - 105000 a_{5_{1}} c_{4})"
      ]
     },
     "metadata": {},
     "output_type": "display_data"
    },
    {
     "data": {
      "text/html": [
       "<html>\\(\\displaystyle 30 \\longrightarrow \\left(\\frac{1}{125}\\right) \\cdot (240 a_{2_{1}}^{4} + 3168 a_{2_{0}} a_{2_{1}}^{2} a_{2_{2}} + 1728 a_{2_{0}}^{2} a_{2_{2}}^{2} + 72 a_{2_{1}}^{2} a_{2_{2}} a_{3_{0}} + 72 a_{2_{0}} a_{2_{2}}^{2} a_{3_{0}} + 48 a_{2_{1}}^{3} a_{3_{1}} + 288 a_{2_{0}} a_{2_{1}} a_{2_{2}} a_{3_{1}} + 240 a_{2_{0}} a_{2_{1}}^{2} a_{3_{2}} + 240 a_{2_{0}}^{2} a_{2_{2}} a_{3_{2}} + 24 a_{2_{1}}^{2} a_{2_{2}} a_{4_{0}} + 24 a_{2_{0}} a_{2_{2}}^{2} a_{4_{0}} + 12 a_{2_{1}}^{3} a_{4_{1}} + 72 a_{2_{0}} a_{2_{1}} a_{2_{2}} a_{4_{1}} + 48 a_{2_{0}} a_{2_{1}}^{2} a_{4_{2}} + 48 a_{2_{0}}^{2} a_{2_{2}} a_{4_{2}} - 1440 a_{2_{0}} a_{2_{1}}^{2} c_{4} - 1680 a_{2_{0}}^{2} a_{2_{2}} c_{4} - 60 a_{2_{1}}^{2} a_{3_{0}} c_{4} - 120 a_{2_{0}} a_{2_{2}} a_{3_{0}} c_{4} - 240 a_{2_{0}} a_{2_{1}} a_{3_{1}} c_{4} - 200 a_{2_{0}}^{2} a_{3_{2}} c_{4} - 20 a_{2_{1}}^{2} a_{4_{0}} c_{4} - 40 a_{2_{0}} a_{2_{2}} a_{4_{0}} c_{4} - 60 a_{2_{0}} a_{2_{1}} a_{4_{1}} c_{4} - 40 a_{2_{0}}^{2} a_{4_{2}} c_{4} - 14640 a_{2_{1}}^{2} a_{2_{2}} - 19440 a_{2_{0}} a_{2_{2}}^{2} - 5400 a_{2_{2}}^{2} a_{3_{0}} - 9360 a_{2_{1}} a_{2_{2}} a_{3_{1}} + 1440 a_{2_{2}} a_{3_{1}}^{2} - 3400 a_{2_{1}}^{2} a_{3_{2}} - 11160 a_{2_{0}} a_{2_{2}} a_{3_{2}} + 2610 a_{2_{2}} a_{3_{0}} a_{3_{2}} + 60 a_{2_{1}} a_{3_{1}} a_{3_{2}} + 660 a_{3_{1}}^{2} a_{3_{2}} - 1140 a_{2_{0}} a_{3_{2}}^{2} + 690 a_{3_{0}} a_{3_{2}}^{2} + 3600 a_{2_{2}}^{2} a_{4_{0}} + 570 a_{2_{2}} a_{3_{2}} a_{4_{0}} + 30 a_{3_{2}}^{2} a_{4_{0}} + 5310 a_{2_{1}} a_{2_{2}} a_{4_{1}} + 270 a_{2_{2}} a_{3_{1}} a_{4_{1}} + 465 a_{2_{1}} a_{3_{2}} a_{4_{1}} + 90 a_{3_{1}} a_{3_{2}} a_{4_{1}} + 90 a_{2_{2}} a_{4_{1}}^{2} + 1660 a_{2_{1}}^{2} a_{4_{2}} + 3960 a_{2_{0}} a_{2_{2}} a_{4_{2}} + 120 a_{2_{1}} a_{3_{1}} a_{4_{2}} + 60 a_{3_{1}}^{2} a_{4_{2}} + 300 a_{2_{0}} a_{3_{2}} a_{4_{2}} + 120 a_{3_{0}} a_{3_{2}} a_{4_{2}} + 180 a_{2_{2}} a_{4_{0}} a_{4_{2}} + 210 a_{2_{1}} a_{4_{1}} a_{4_{2}} + 120 a_{2_{0}} a_{4_{2}}^{2} - 450 a_{2_{2}}^{2} a_{5_{0}} - 150 a_{2_{2}} a_{3_{2}} a_{5_{0}} - 540 a_{2_{1}} a_{2_{2}} a_{5_{1}} - 120 a_{2_{2}} a_{3_{1}} a_{5_{1}} - 120 a_{2_{1}} a_{3_{2}} a_{5_{1}} - 135 a_{2_{1}}^{2} a_{5_{2}} - 270 a_{2_{0}} a_{2_{2}} a_{5_{2}} - 90 a_{2_{2}} a_{3_{0}} a_{5_{2}} - 90 a_{2_{1}} a_{3_{1}} a_{5_{2}} - 90 a_{2_{0}} a_{3_{2}} a_{5_{2}} - 1200 a_{2_{0}}^{2} c_{2} - 300 a_{2_{0}} a_{3_{0}} c_{2} - 100 a_{2_{0}} a_{4_{0}} c_{2} - 10800 a_{2_{0}} a_{2_{1}} c_{3} + 4050 a_{2_{1}} a_{3_{0}} c_{3} + 1350 a_{3_{0}} a_{3_{1}} c_{3} - 150 a_{2_{1}} a_{4_{0}} c_{3} + 150 a_{3_{1}} a_{4_{0}} c_{3} - 450 a_{2_{0}} a_{4_{1}} c_{3} + 225 a_{3_{0}} a_{4_{1}} c_{3} - 375 a_{2_{1}} a_{5_{0}} c_{3} - 300 a_{2_{0}} a_{5_{1}} c_{3} + 7200 a_{2_{1}}^{2} c_{4} + 14400 a_{2_{0}} a_{2_{2}} c_{4} + 18000 a_{2_{2}} a_{3_{0}} c_{4} + 6000 a_{2_{1}} a_{3_{1}} c_{4} + 1200 a_{3_{1}}^{2} c_{4} + 1200 a_{2_{0}} a_{3_{2}} c_{4} + 3300 a_{3_{0}} a_{3_{2}} c_{4} - 12000 a_{2_{2}} a_{4_{0}} c_{4} - 1900 a_{3_{2}} a_{4_{0}} c_{4} - 6000 a_{2_{1}} a_{4_{1}} c_{4} - 900 a_{3_{1}} a_{4_{1}} c_{4} - 300 a_{4_{1}}^{2} c_{4} - 2400 a_{2_{0}} a_{4_{2}} c_{4} - 600 a_{4_{0}} a_{4_{2}} c_{4} + 3000 a_{2_{2}} a_{5_{0}} c_{4} + 500 a_{3_{2}} a_{5_{0}} c_{4} + 1800 a_{2_{1}} a_{5_{1}} c_{4} + 400 a_{3_{1}} a_{5_{1}} c_{4} + 900 a_{2_{0}} a_{5_{2}} c_{4} + 300 a_{3_{0}} a_{5_{2}} c_{4} + 28800 a_{2_{2}} a_{3_{2}} - 7800 a_{3_{2}}^{2} - 57600 a_{2_{2}} a_{4_{2}} - 5400 a_{3_{2}} a_{4_{2}} - 1200 a_{4_{2}}^{2} + 27000 a_{2_{2}} a_{5_{2}} + 5700 a_{3_{2}} a_{5_{2}} + 1350 a_{4_{2}} a_{5_{2}} + 450 a_{5_{2}}^{2} + 36000 a_{2_{0}} c_{2} - 3750 a_{5_{0}} c_{2} + 54000 a_{2_{1}} c_{3} - 54000 a_{3_{1}} c_{3} + 15000 a_{5_{1}} c_{3} - 36000 a_{3_{2}} c_{4} + 72000 a_{4_{2}} c_{4} - 45000 a_{5_{2}} c_{4})\\)</html>"
      ],
      "text/latex": [
       "$\\displaystyle 30 \\longrightarrow \\left(\\frac{1}{125}\\right) \\cdot (240 a_{2_{1}}^{4} + 3168 a_{2_{0}} a_{2_{1}}^{2} a_{2_{2}} + 1728 a_{2_{0}}^{2} a_{2_{2}}^{2} + 72 a_{2_{1}}^{2} a_{2_{2}} a_{3_{0}} + 72 a_{2_{0}} a_{2_{2}}^{2} a_{3_{0}} + 48 a_{2_{1}}^{3} a_{3_{1}} + 288 a_{2_{0}} a_{2_{1}} a_{2_{2}} a_{3_{1}} + 240 a_{2_{0}} a_{2_{1}}^{2} a_{3_{2}} + 240 a_{2_{0}}^{2} a_{2_{2}} a_{3_{2}} + 24 a_{2_{1}}^{2} a_{2_{2}} a_{4_{0}} + 24 a_{2_{0}} a_{2_{2}}^{2} a_{4_{0}} + 12 a_{2_{1}}^{3} a_{4_{1}} + 72 a_{2_{0}} a_{2_{1}} a_{2_{2}} a_{4_{1}} + 48 a_{2_{0}} a_{2_{1}}^{2} a_{4_{2}} + 48 a_{2_{0}}^{2} a_{2_{2}} a_{4_{2}} - 1440 a_{2_{0}} a_{2_{1}}^{2} c_{4} - 1680 a_{2_{0}}^{2} a_{2_{2}} c_{4} - 60 a_{2_{1}}^{2} a_{3_{0}} c_{4} - 120 a_{2_{0}} a_{2_{2}} a_{3_{0}} c_{4} - 240 a_{2_{0}} a_{2_{1}} a_{3_{1}} c_{4} - 200 a_{2_{0}}^{2} a_{3_{2}} c_{4} - 20 a_{2_{1}}^{2} a_{4_{0}} c_{4} - 40 a_{2_{0}} a_{2_{2}} a_{4_{0}} c_{4} - 60 a_{2_{0}} a_{2_{1}} a_{4_{1}} c_{4} - 40 a_{2_{0}}^{2} a_{4_{2}} c_{4} - 14640 a_{2_{1}}^{2} a_{2_{2}} - 19440 a_{2_{0}} a_{2_{2}}^{2} - 5400 a_{2_{2}}^{2} a_{3_{0}} - 9360 a_{2_{1}} a_{2_{2}} a_{3_{1}} + 1440 a_{2_{2}} a_{3_{1}}^{2} - 3400 a_{2_{1}}^{2} a_{3_{2}} - 11160 a_{2_{0}} a_{2_{2}} a_{3_{2}} + 2610 a_{2_{2}} a_{3_{0}} a_{3_{2}} + 60 a_{2_{1}} a_{3_{1}} a_{3_{2}} + 660 a_{3_{1}}^{2} a_{3_{2}} - 1140 a_{2_{0}} a_{3_{2}}^{2} + 690 a_{3_{0}} a_{3_{2}}^{2} + 3600 a_{2_{2}}^{2} a_{4_{0}} + 570 a_{2_{2}} a_{3_{2}} a_{4_{0}} + 30 a_{3_{2}}^{2} a_{4_{0}} + 5310 a_{2_{1}} a_{2_{2}} a_{4_{1}} + 270 a_{2_{2}} a_{3_{1}} a_{4_{1}} + 465 a_{2_{1}} a_{3_{2}} a_{4_{1}} + 90 a_{3_{1}} a_{3_{2}} a_{4_{1}} + 90 a_{2_{2}} a_{4_{1}}^{2} + 1660 a_{2_{1}}^{2} a_{4_{2}} + 3960 a_{2_{0}} a_{2_{2}} a_{4_{2}} + 120 a_{2_{1}} a_{3_{1}} a_{4_{2}} + 60 a_{3_{1}}^{2} a_{4_{2}} + 300 a_{2_{0}} a_{3_{2}} a_{4_{2}} + 120 a_{3_{0}} a_{3_{2}} a_{4_{2}} + 180 a_{2_{2}} a_{4_{0}} a_{4_{2}} + 210 a_{2_{1}} a_{4_{1}} a_{4_{2}} + 120 a_{2_{0}} a_{4_{2}}^{2} - 450 a_{2_{2}}^{2} a_{5_{0}} - 150 a_{2_{2}} a_{3_{2}} a_{5_{0}} - 540 a_{2_{1}} a_{2_{2}} a_{5_{1}} - 120 a_{2_{2}} a_{3_{1}} a_{5_{1}} - 120 a_{2_{1}} a_{3_{2}} a_{5_{1}} - 135 a_{2_{1}}^{2} a_{5_{2}} - 270 a_{2_{0}} a_{2_{2}} a_{5_{2}} - 90 a_{2_{2}} a_{3_{0}} a_{5_{2}} - 90 a_{2_{1}} a_{3_{1}} a_{5_{2}} - 90 a_{2_{0}} a_{3_{2}} a_{5_{2}} - 1200 a_{2_{0}}^{2} c_{2} - 300 a_{2_{0}} a_{3_{0}} c_{2} - 100 a_{2_{0}} a_{4_{0}} c_{2} - 10800 a_{2_{0}} a_{2_{1}} c_{3} + 4050 a_{2_{1}} a_{3_{0}} c_{3} + 1350 a_{3_{0}} a_{3_{1}} c_{3} - 150 a_{2_{1}} a_{4_{0}} c_{3} + 150 a_{3_{1}} a_{4_{0}} c_{3} - 450 a_{2_{0}} a_{4_{1}} c_{3} + 225 a_{3_{0}} a_{4_{1}} c_{3} - 375 a_{2_{1}} a_{5_{0}} c_{3} - 300 a_{2_{0}} a_{5_{1}} c_{3} + 7200 a_{2_{1}}^{2} c_{4} + 14400 a_{2_{0}} a_{2_{2}} c_{4} + 18000 a_{2_{2}} a_{3_{0}} c_{4} + 6000 a_{2_{1}} a_{3_{1}} c_{4} + 1200 a_{3_{1}}^{2} c_{4} + 1200 a_{2_{0}} a_{3_{2}} c_{4} + 3300 a_{3_{0}} a_{3_{2}} c_{4} - 12000 a_{2_{2}} a_{4_{0}} c_{4} - 1900 a_{3_{2}} a_{4_{0}} c_{4} - 6000 a_{2_{1}} a_{4_{1}} c_{4} - 900 a_{3_{1}} a_{4_{1}} c_{4} - 300 a_{4_{1}}^{2} c_{4} - 2400 a_{2_{0}} a_{4_{2}} c_{4} - 600 a_{4_{0}} a_{4_{2}} c_{4} + 3000 a_{2_{2}} a_{5_{0}} c_{4} + 500 a_{3_{2}} a_{5_{0}} c_{4} + 1800 a_{2_{1}} a_{5_{1}} c_{4} + 400 a_{3_{1}} a_{5_{1}} c_{4} + 900 a_{2_{0}} a_{5_{2}} c_{4} + 300 a_{3_{0}} a_{5_{2}} c_{4} + 28800 a_{2_{2}} a_{3_{2}} - 7800 a_{3_{2}}^{2} - 57600 a_{2_{2}} a_{4_{2}} - 5400 a_{3_{2}} a_{4_{2}} - 1200 a_{4_{2}}^{2} + 27000 a_{2_{2}} a_{5_{2}} + 5700 a_{3_{2}} a_{5_{2}} + 1350 a_{4_{2}} a_{5_{2}} + 450 a_{5_{2}}^{2} + 36000 a_{2_{0}} c_{2} - 3750 a_{5_{0}} c_{2} + 54000 a_{2_{1}} c_{3} - 54000 a_{3_{1}} c_{3} + 15000 a_{5_{1}} c_{3} - 36000 a_{3_{2}} c_{4} + 72000 a_{4_{2}} c_{4} - 45000 a_{5_{2}} c_{4})$"
      ],
      "text/plain": [
       "30 \\longrightarrow \\left(\\frac{1}{125}\\right) \\cdot (240 a_{2_{1}}^{4} + 3168 a_{2_{0}} a_{2_{1}}^{2} a_{2_{2}} + 1728 a_{2_{0}}^{2} a_{2_{2}}^{2} + 72 a_{2_{1}}^{2} a_{2_{2}} a_{3_{0}} + 72 a_{2_{0}} a_{2_{2}}^{2} a_{3_{0}} + 48 a_{2_{1}}^{3} a_{3_{1}} + 288 a_{2_{0}} a_{2_{1}} a_{2_{2}} a_{3_{1}} + 240 a_{2_{0}} a_{2_{1}}^{2} a_{3_{2}} + 240 a_{2_{0}}^{2} a_{2_{2}} a_{3_{2}} + 24 a_{2_{1}}^{2} a_{2_{2}} a_{4_{0}} + 24 a_{2_{0}} a_{2_{2}}^{2} a_{4_{0}} + 12 a_{2_{1}}^{3} a_{4_{1}} + 72 a_{2_{0}} a_{2_{1}} a_{2_{2}} a_{4_{1}} + 48 a_{2_{0}} a_{2_{1}}^{2} a_{4_{2}} + 48 a_{2_{0}}^{2} a_{2_{2}} a_{4_{2}} - 1440 a_{2_{0}} a_{2_{1}}^{2} c_{4} - 1680 a_{2_{0}}^{2} a_{2_{2}} c_{4} - 60 a_{2_{1}}^{2} a_{3_{0}} c_{4} - 120 a_{2_{0}} a_{2_{2}} a_{3_{0}} c_{4} - 240 a_{2_{0}} a_{2_{1}} a_{3_{1}} c_{4} - 200 a_{2_{0}}^{2} a_{3_{2}} c_{4} - 20 a_{2_{1}}^{2} a_{4_{0}} c_{4} - 40 a_{2_{0}} a_{2_{2}} a_{4_{0}} c_{4} - 60 a_{2_{0}} a_{2_{1}} a_{4_{1}} c_{4} - 40 a_{2_{0}}^{2} a_{4_{2}} c_{4} - 14640 a_{2_{1}}^{2} a_{2_{2}} - 19440 a_{2_{0}} a_{2_{2}}^{2} - 5400 a_{2_{2}}^{2} a_{3_{0}} - 9360 a_{2_{1}} a_{2_{2}} a_{3_{1}} + 1440 a_{2_{2}} a_{3_{1}}^{2} - 3400 a_{2_{1}}^{2} a_{3_{2}} - 11160 a_{2_{0}} a_{2_{2}} a_{3_{2}} + 2610 a_{2_{2}} a_{3_{0}} a_{3_{2}} + 60 a_{2_{1}} a_{3_{1}} a_{3_{2}} + 660 a_{3_{1}}^{2} a_{3_{2}} - 1140 a_{2_{0}} a_{3_{2}}^{2} + 690 a_{3_{0}} a_{3_{2}}^{2} + 3600 a_{2_{2}}^{2} a_{4_{0}} + 570 a_{2_{2}} a_{3_{2}} a_{4_{0}} + 30 a_{3_{2}}^{2} a_{4_{0}} + 5310 a_{2_{1}} a_{2_{2}} a_{4_{1}} + 270 a_{2_{2}} a_{3_{1}} a_{4_{1}} + 465 a_{2_{1}} a_{3_{2}} a_{4_{1}} + 90 a_{3_{1}} a_{3_{2}} a_{4_{1}} + 90 a_{2_{2}} a_{4_{1}}^{2} + 1660 a_{2_{1}}^{2} a_{4_{2}} + 3960 a_{2_{0}} a_{2_{2}} a_{4_{2}} + 120 a_{2_{1}} a_{3_{1}} a_{4_{2}} + 60 a_{3_{1}}^{2} a_{4_{2}} + 300 a_{2_{0}} a_{3_{2}} a_{4_{2}} + 120 a_{3_{0}} a_{3_{2}} a_{4_{2}} + 180 a_{2_{2}} a_{4_{0}} a_{4_{2}} + 210 a_{2_{1}} a_{4_{1}} a_{4_{2}} + 120 a_{2_{0}} a_{4_{2}}^{2} - 450 a_{2_{2}}^{2} a_{5_{0}} - 150 a_{2_{2}} a_{3_{2}} a_{5_{0}} - 540 a_{2_{1}} a_{2_{2}} a_{5_{1}} - 120 a_{2_{2}} a_{3_{1}} a_{5_{1}} - 120 a_{2_{1}} a_{3_{2}} a_{5_{1}} - 135 a_{2_{1}}^{2} a_{5_{2}} - 270 a_{2_{0}} a_{2_{2}} a_{5_{2}} - 90 a_{2_{2}} a_{3_{0}} a_{5_{2}} - 90 a_{2_{1}} a_{3_{1}} a_{5_{2}} - 90 a_{2_{0}} a_{3_{2}} a_{5_{2}} - 1200 a_{2_{0}}^{2} c_{2} - 300 a_{2_{0}} a_{3_{0}} c_{2} - 100 a_{2_{0}} a_{4_{0}} c_{2} - 10800 a_{2_{0}} a_{2_{1}} c_{3} + 4050 a_{2_{1}} a_{3_{0}} c_{3} + 1350 a_{3_{0}} a_{3_{1}} c_{3} - 150 a_{2_{1}} a_{4_{0}} c_{3} + 150 a_{3_{1}} a_{4_{0}} c_{3} - 450 a_{2_{0}} a_{4_{1}} c_{3} + 225 a_{3_{0}} a_{4_{1}} c_{3} - 375 a_{2_{1}} a_{5_{0}} c_{3} - 300 a_{2_{0}} a_{5_{1}} c_{3} + 7200 a_{2_{1}}^{2} c_{4} + 14400 a_{2_{0}} a_{2_{2}} c_{4} + 18000 a_{2_{2}} a_{3_{0}} c_{4} + 6000 a_{2_{1}} a_{3_{1}} c_{4} + 1200 a_{3_{1}}^{2} c_{4} + 1200 a_{2_{0}} a_{3_{2}} c_{4} + 3300 a_{3_{0}} a_{3_{2}} c_{4} - 12000 a_{2_{2}} a_{4_{0}} c_{4} - 1900 a_{3_{2}} a_{4_{0}} c_{4} - 6000 a_{2_{1}} a_{4_{1}} c_{4} - 900 a_{3_{1}} a_{4_{1}} c_{4} - 300 a_{4_{1}}^{2} c_{4} - 2400 a_{2_{0}} a_{4_{2}} c_{4} - 600 a_{4_{0}} a_{4_{2}} c_{4} + 3000 a_{2_{2}} a_{5_{0}} c_{4} + 500 a_{3_{2}} a_{5_{0}} c_{4} + 1800 a_{2_{1}} a_{5_{1}} c_{4} + 400 a_{3_{1}} a_{5_{1}} c_{4} + 900 a_{2_{0}} a_{5_{2}} c_{4} + 300 a_{3_{0}} a_{5_{2}} c_{4} + 28800 a_{2_{2}} a_{3_{2}} - 7800 a_{3_{2}}^{2} - 57600 a_{2_{2}} a_{4_{2}} - 5400 a_{3_{2}} a_{4_{2}} - 1200 a_{4_{2}}^{2} + 27000 a_{2_{2}} a_{5_{2}} + 5700 a_{3_{2}} a_{5_{2}} + 1350 a_{4_{2}} a_{5_{2}} + 450 a_{5_{2}}^{2} + 36000 a_{2_{0}} c_{2} - 3750 a_{5_{0}} c_{2} + 54000 a_{2_{1}} c_{3} - 54000 a_{3_{1}} c_{3} + 15000 a_{5_{1}} c_{3} - 36000 a_{3_{2}} c_{4} + 72000 a_{4_{2}} c_{4} - 45000 a_{5_{2}} c_{4})"
      ]
     },
     "metadata": {},
     "output_type": "display_data"
    }
   ],
   "source": [
    "i = 0\n",
    "for el in equations:\n",
    "    rem = el(**solution)\n",
    "    if rem != 0:\n",
    "        show(latex(i) + r\"\\longrightarrow\" + latex(rem.factor()))\n",
    "        i+= 1"
   ]
  },
  {
   "cell_type": "code",
   "execution_count": 22,
   "id": "6b3b0a1d-67aa-44f3-91e9-ce687b6a54c5",
   "metadata": {},
   "outputs": [],
   "source": [
    "#solutions = analyze_ideal(I, {\"c_6\": 1, \"c_5\": 0, \"c_0\": 0}, loglevel=logging.INFO)"
   ]
  },
  {
   "cell_type": "markdown",
   "id": "3d0c259a-cb5b-4eb8-ba35-b81aaa2564d7",
   "metadata": {},
   "source": [
    "## Examples"
   ]
  },
  {
   "cell_type": "markdown",
   "id": "2937e590-73b8-4787-8f0a-affeed2b57dc",
   "metadata": {},
   "source": [
    "### **Cases with $u_i = a_i/x^i$**"
   ]
  },
  {
   "cell_type": "markdown",
   "id": "47056f01-b6ec-41ca-bac3-038ee7acb52f",
   "metadata": {
    "jp-MarkdownHeadingCollapsed": true
   },
   "source": [
    "##### The order 3"
   ]
  },
  {
   "cell_type": "code",
   "execution_count": 124,
   "id": "da9200af-13a9-491c-ad05-1b336483ddd9",
   "metadata": {},
   "outputs": [],
   "source": [
    "n = 3\n",
    "A = [f\"a_{i}\" for i in range(2,n+1)]\n",
    "R = DifferentialRing(PolynomialRing(QQ, [x,*A]), [1] + len(A)*[0]).fraction_field()\n",
    "A = [0,0] + [R(a) for a in A]\n",
    "x = R.gens()[0]\n",
    "U = {1: A[2]/x^2, 0: A[3]/x^3}"
   ]
  },
  {
   "cell_type": "code",
   "execution_count": 125,
   "id": "d3dfcd54-246d-48a8-ae8a-119e4321a595",
   "metadata": {},
   "outputs": [],
   "source": [
    "L3, P5, I = GetEquationsForSolution(5, 3, U, extract=generate_polynomial_equations)\n",
    "I_gb = I.groebner_basis()"
   ]
  },
  {
   "cell_type": "code",
   "execution_count": 5,
   "id": "480baf41-c074-484a-adf6-f1d6a2fb114a",
   "metadata": {},
   "outputs": [
    {
     "name": "stdout",
     "output_type": "stream",
     "text": [
      "[_analyze_ideal] Remaining 0 calls                \r"
     ]
    }
   ],
   "source": [
    "SOLS = analyze_ideal(\n",
    "    ideal(I), \n",
    "    {\"c_0\": 0, \"c_3\": 0}, \n",
    "    [\n",
    "        {f\"c_{i}\": None for i in range(2, 6)},\n",
    "        {f\"c_{i}\": 0 for i in range(4, 6)},\n",
    "        {f\"a_{i}\": 0 for i in range(2, 6)}\n",
    "    ])"
   ]
  },
  {
   "cell_type": "markdown",
   "id": "ac87282a-2ea8-43de-ab80-a73f4080c181",
   "metadata": {},
   "source": [
    "###### One example"
   ]
  },
  {
   "cell_type": "code",
   "execution_count": 128,
   "id": "ac64b572-2932-43c4-9ce8-e3668daa557e",
   "metadata": {},
   "outputs": [],
   "source": [
    "solution = {\"a_2\" : -12, \"a_3\" : 0, \"c_3\": 0, \"c_0\": 0, \"c_1\": 0, \"c_2\": 0, \"c_4\": 0}"
   ]
  },
  {
   "cell_type": "code",
   "execution_count": 129,
   "id": "3861b2f8-b5fc-462e-bb78-c2dc7ed7066c",
   "metadata": {},
   "outputs": [
    {
     "data": {
      "text/plain": [
       "[]"
      ]
     },
     "execution_count": 129,
     "metadata": {},
     "output_type": "execute_result"
    }
   ],
   "source": [
    "I_red = [eq(**solution) for eq in I.basis]; I_red = [el for el in I_red if el != 0]\n",
    "I_red"
   ]
  },
  {
   "cell_type": "code",
   "execution_count": 130,
   "id": "cb197a52-41c2-4ac4-b889-31d26363467b",
   "metadata": {
    "scrolled": true
   },
   "outputs": [
    {
     "data": {
      "text/plain": [
       "((-12)/x^2)*z_1 + z_3"
      ]
     },
     "execution_count": 130,
     "metadata": {},
     "output_type": "execute_result"
    }
   ],
   "source": [
    "L3(**solution)"
   ]
  },
  {
   "cell_type": "code",
   "execution_count": 132,
   "id": "0a5a06ba-3588-41c2-8836-02b2c758a3df",
   "metadata": {},
   "outputs": [
    {
     "data": {
      "text/plain": [
       "(40*c_5/x^3)*z_2 + ((-20*c_5)/x^2)*z_3 + c_5*z_5"
      ]
     },
     "execution_count": 132,
     "metadata": {},
     "output_type": "execute_result"
    }
   ],
   "source": [
    "P5(**solution)"
   ]
  },
  {
   "cell_type": "code",
   "execution_count": 133,
   "id": "d064b783-0a9a-4b50-b9a4-6c056f57e726",
   "metadata": {},
   "outputs": [
    {
     "name": "stdout",
     "output_type": "stream",
     "text": [
      "5 -> 40/x^3*z_2 + ((-20)/x^2)*z_3 + z_5 \n",
      " Does it commute (0 is yes):  0\n"
     ]
    }
   ],
   "source": [
    "L3_eval = L3(**solution)\n",
    "P = dict()\n",
    "for i in [5]:\n",
    "    full_sol = {**solution}; full_sol[f\"c_{i}\"] = 1; full_sol.update({f\"c_{j}\": 0 for j in  [5] if i != j})\n",
    "    P5_eval = P5(**full_sol)\n",
    "    I_red = [eq(**full_sol) for eq in I.basis]; I_red = [el for el in I_red if el != 0]\n",
    "    P[i] = P5_eval\n",
    "    print(i, \"->\", P5_eval, \"\\n Does it commute (0 is yes): \", L3_eval.lie_bracket(P5_eval, \"z\"))"
   ]
  },
  {
   "cell_type": "code",
   "execution_count": 108,
   "id": "21f2b85a-c9e5-44b3-8c6a-573a9f9a9b84",
   "metadata": {},
   "outputs": [
    {
     "data": {
      "text/plain": [
       "[1, 4, 7, 10, 13, 16, 19, 22, 25]"
      ]
     },
     "execution_count": 108,
     "metadata": {},
     "output_type": "execute_result"
    }
   ],
   "source": [
    "[3*i+1 for i in range(9)]"
   ]
  },
  {
   "cell_type": "code",
   "execution_count": 135,
   "id": "7457f67c-bea7-4227-89c3-7602203c934c",
   "metadata": {},
   "outputs": [],
   "source": [
    "L3_7, P7, I_7 = GetEquationsForSolution(7, 3, U, extract=generate_polynomial_equations)"
   ]
  },
  {
   "cell_type": "code",
   "execution_count": 137,
   "id": "10127d09-c65c-4419-84fa-9fcbc7dbf647",
   "metadata": {},
   "outputs": [
    {
     "data": {
      "text/plain": [
       "[]"
      ]
     },
     "execution_count": 137,
     "metadata": {},
     "output_type": "execute_result"
    }
   ],
   "source": [
    "solution_7 = {\"a_2\" : -12, \"a_3\" : 0, \"c_3\": 0, \"c_0\": 0, \"c_6\": 0, \"c_1\": 0, \"c_2\": 0, \"c_4\": 0}\n",
    "I_red7 = [eq(**solution_7) for eq in I_7.basis]; I_red7 = [el for el in I_red7 if el != 0]\n",
    "I_red7"
   ]
  },
  {
   "cell_type": "code",
   "execution_count": 138,
   "id": "fd292387-c0be-4ac4-b2fe-611fdfa222bd",
   "metadata": {},
   "outputs": [
    {
     "data": {
      "text/plain": [
       "((40*x^2*c_5 + 224*c_7)/x^5)*z_2 + ((-20*x^2*c_5 - 224*c_7)/x^4)*z_3 + (112*c_7/x^3)*z_4 + ((x^2*c_5 - 28*c_7)/x^2)*z_5 + c_7*z_7"
      ]
     },
     "execution_count": 138,
     "metadata": {},
     "output_type": "execute_result"
    }
   ],
   "source": [
    "P7(**solution_7)"
   ]
  },
  {
   "cell_type": "code",
   "execution_count": 139,
   "id": "756cd948-6070-40c7-97a0-17bf286732ce",
   "metadata": {},
   "outputs": [
    {
     "name": "stdout",
     "output_type": "stream",
     "text": [
      "5 -> 40/x^3*z_2 + ((-20)/x^2)*z_3 + z_5 \n",
      " Does it commute (0 is yes):  0\n",
      "7 -> 224/x^5*z_2 + ((-224)/x^4)*z_3 + 112/x^3*z_4 + ((-28)/x^2)*z_5 + z_7 \n",
      " Does it commute (0 is yes):  0\n"
     ]
    }
   ],
   "source": [
    "L3_eval_7 = L3_7(**solution_7)\n",
    "P_7 = dict()\n",
    "for i in [5,7]:\n",
    "    full_sol = {**solution_7}; full_sol[f\"c_{i}\"] = 1; full_sol.update({f\"c_{j}\": 0 for j in [5,7] if i != j})\n",
    "    P7_eval = P7(**full_sol)\n",
    "    I_red_7 = [eq(**full_sol) for eq in I_7.basis]; I_red_7 = [el for el in I_red_7 if el != 0]\n",
    "    P_7[i] = P7_eval\n",
    "    print(i, \"->\", P7_eval, \"\\n Does it commute (0 is yes): \", L3_eval_7.lie_bracket(P7_eval, \"z\"))"
   ]
  },
  {
   "cell_type": "markdown",
   "id": "158e92a4-1254-4446-a4e2-d0f93cb93607",
   "metadata": {},
   "source": [
    "##### The order 5 "
   ]
  },
  {
   "cell_type": "code",
   "execution_count": 2,
   "id": "3282fc6a-8667-45a9-866a-5eaf64f7f7d9",
   "metadata": {},
   "outputs": [],
   "source": [
    "n = 5\n",
    "A = [f\"a_{i}\" for i in range(2,n+1)]\n",
    "B = DifferentialRing(QQ[x], [1])\n",
    "R = DifferentialRing(PolynomialRing(QQ, [x,*A]), [1] + len(A)*[0]).fraction_field()\n",
    "A = [0,0] + [R(a) for a in A]\n",
    "x = R.gens()[0]\n",
    "U = {3: A[2]/x^2, 2: A[3]/x^3, 1: A[4]/x^4, 0: A[5]/x^5}"
   ]
  },
  {
   "cell_type": "markdown",
   "id": "3bb21bd3-1444-4323-a425-80b9b2af721e",
   "metadata": {
    "jp-MarkdownHeadingCollapsed": true
   },
   "source": [
    "###### Getting the system"
   ]
  },
  {
   "cell_type": "code",
   "execution_count": 12,
   "id": "e8d7fd57-397b-4fa6-97a8-be19b5eb143c",
   "metadata": {},
   "outputs": [],
   "source": [
    "Le, P9, I = GetEquationsForSolution(9, 5, U, extract=generate_polynomial_equations)\n",
    "I_gb = I.groebner_basis()"
   ]
  },
  {
   "cell_type": "code",
   "execution_count": null,
   "id": "149ca003-2158-4c58-b018-d33710120a93",
   "metadata": {},
   "outputs": [
    {
     "name": "stdout",
     "output_type": "stream",
     "text": [
      "// ** redefining i (ideal i=i_par; ) standard.lib::groebner:873\n",
      "[_analyze_ideal] Remaining 29 calls               \r"
     ]
    }
   ],
   "source": [
    "SOLS = analyze_ideal(\n",
    "    ideal(I), \n",
    "    {\"c_0\": 0, \"c_5\": 0}, \n",
    "    [\n",
    "        {f\"c_{i}\": None for i in range(2, 10)},\n",
    "        {f\"c_{i}\": 0 for i in range(6, 10)},\n",
    "        {f\"a_{i}\": 0 for i in range(2, 6)}\n",
    "    ], groebner=False)"
   ]
  },
  {
   "cell_type": "code",
   "execution_count": 4,
   "id": "ad355b10-9ea3-41ba-9761-022f07f1b7ce",
   "metadata": {},
   "outputs": [],
   "source": [
    "with open(\"gb.txt\", \"w\") as f:\n",
    "    f.write(\"eqns_gb:={\")\n",
    "    for equ in I_gb:\n",
    "        f.write(f\"{equ},\\n\")\n",
    "    f.write(\"};\")"
   ]
  },
  {
   "cell_type": "code",
   "execution_count": 5,
   "id": "93de1d4d-e304-4726-90b7-28d8e2b26bcc",
   "metadata": {},
   "outputs": [],
   "source": [
    "with open(\"id.txt\", \"w\") as f:\n",
    "    f.write(\"eqns_id:={\")\n",
    "    for equ in I.basis:\n",
    "        f.write(f\"{equ},\\n\")\n",
    "    f.write(\"};\")"
   ]
  },
  {
   "cell_type": "markdown",
   "id": "52c83052-009a-4347-b43d-26a4735c4b1c",
   "metadata": {},
   "source": [
    "At this stage, we used Maple to solve the system in \"id.txt\". After some filtering we found a candidate that may be useful:"
   ]
  },
  {
   "cell_type": "markdown",
   "id": "79a40ca8-91f7-4d18-ad39-483f8a51a411",
   "metadata": {
    "jp-MarkdownHeadingCollapsed": true
   },
   "source": [
    "###### One example"
   ]
  },
  {
   "cell_type": "code",
   "execution_count": 6,
   "id": "8e537842-2cac-4d77-bd6c-01f346569112",
   "metadata": {},
   "outputs": [],
   "source": [
    "solution = {\"a_2\" : -20, \"a_3\" : 60, \"a_4\": 0, \"a_5\": -120, \"c_1\": 0, \"c_2\": 0, \"c_3\": 0, \"c_5\": 0, \"c_0\": 0}"
   ]
  },
  {
   "cell_type": "code",
   "execution_count": 7,
   "id": "48357042-2ab1-4241-8f6b-cb4f5463d0e9",
   "metadata": {},
   "outputs": [
    {
     "data": {
      "text/plain": [
       "[]"
      ]
     },
     "execution_count": 7,
     "metadata": {},
     "output_type": "execute_result"
    }
   ],
   "source": [
    "I_red = [eq(**solution) for eq in I.basis]; I_red = [el for el in I_red if el != 0]\n",
    "I_red"
   ]
  },
  {
   "cell_type": "code",
   "execution_count": 8,
   "id": "effbfb38-4534-402d-9a14-ae66819dd0f1",
   "metadata": {
    "scrolled": true
   },
   "outputs": [
    {
     "data": {
      "text/plain": [
       "((-120)/x^5)*z_0 + 60/x^3*z_2 + ((-20)/x^2)*z_3 + z_5"
      ]
     },
     "execution_count": 8,
     "metadata": {},
     "output_type": "execute_result"
    }
   ],
   "source": [
    "Le(**solution)"
   ]
  },
  {
   "cell_type": "code",
   "execution_count": 76,
   "id": "973b88f0-a2aa-4be0-9381-77ea1a5e61cf",
   "metadata": {},
   "outputs": [
    {
     "data": {
      "text/plain": [
       "((40*x^5*c_4 + 504*x^3*c_6 - 2688*x^2*c_7 + 17280*x*c_8 - 129600*c_9)/x^9)*z_0 + ((32*x^5*c_4 - 144*x^3*c_6 + 1176*x^2*c_7 - 9216*x*c_8 + 77760*c_9)/x^8)*z_1 + ((-16*x^5*c_4 - 108*x^3*c_6 + 168*x^2*c_7 + 576*x*c_8 - 12960*c_9)/x^7)*z_2 + ((96*x^3*c_6 - 308*x^2*c_7 + 1152*x*c_8 - 4320*c_9)/x^6)*z_3 + ((x^5*c_4 - 24*x^3*c_6 + 140*x^2*c_7 - 624*x*c_8 + 3240*c_9)/x^5)*z_4 + ((-28*x^2*c_7 + 192*x*c_8 - 1080*c_9)/x^4)*z_5 + ((x^3*c_6 - 32*x*c_8 + 252*c_9)/x^3)*z_6 + ((x^2*c_7 - 36*c_9)/x^2)*z_7 + c_8*z_8 + c_9*z_9"
      ]
     },
     "execution_count": 76,
     "metadata": {},
     "output_type": "execute_result"
    }
   ],
   "source": [
    "P9(**solution)"
   ]
  },
  {
   "cell_type": "code",
   "execution_count": 78,
   "id": "e69f6c21-bb7f-4833-89c1-244e4d8f5876",
   "metadata": {},
   "outputs": [
    {
     "data": {
      "text/plain": [
       "0"
      ]
     },
     "execution_count": 78,
     "metadata": {},
     "output_type": "execute_result"
    }
   ],
   "source": [
    "Le(**solution).lie_bracket(P9(**solution), \"z\")"
   ]
  },
  {
   "cell_type": "code",
   "execution_count": 46,
   "id": "8a9f6a41-4689-4f44-970e-fc688e1b8bc9",
   "metadata": {},
   "outputs": [
    {
     "name": "stdout",
     "output_type": "stream",
     "text": [
      "4 -> 40/x^4*z_0 + 32/x^3*z_1 + ((-16)/x^2)*z_2 + z_4 \n",
      " Does it commute (0 is yes):  0\n",
      "6 -> 504/x^6*z_0 + ((-144)/x^5)*z_1 + ((-108)/x^4)*z_2 + 96/x^3*z_3 + ((-24)/x^2)*z_4 + z_6 \n",
      " Does it commute (0 is yes):  0\n",
      "7 -> ((-2688)/x^7)*z_0 + 1176/x^6*z_1 + 168/x^5*z_2 + ((-308)/x^4)*z_3 + 140/x^3*z_4 + ((-28)/x^2)*z_5 + z_7 \n",
      " Does it commute (0 is yes):  0\n",
      "8 -> 17280/x^8*z_0 + ((-9216)/x^7)*z_1 + 576/x^6*z_2 + 1152/x^5*z_3 + ((-624)/x^4)*z_4 + 192/x^3*z_5 + ((-32)/x^2)*z_6 + z_8 \n",
      " Does it commute (0 is yes):  0\n",
      "9 -> ((-129600)/x^9)*z_0 + 77760/x^8*z_1 + ((-12960)/x^7)*z_2 + ((-4320)/x^6)*z_3 + 3240/x^5*z_4 + ((-1080)/x^4)*z_5 + 252/x^3*z_6 + ((-36)/x^2)*z_7 + z_9 \n",
      " Does it commute (0 is yes):  0\n"
     ]
    }
   ],
   "source": [
    "Le_eval = Le(**solution)\n",
    "P = dict()\n",
    "for i in [4,6,7,8,9]:\n",
    "    full_sol = {**solution}; full_sol[f\"c_{i}\"] = 1; full_sol.update({f\"c_{j}\": 0 for j in [4,6,7,8,9] if i != j})\n",
    "    P9_eval = P9(**full_sol)\n",
    "    I_red = [eq(**full_sol) for eq in I.basis]; I_red = [el for el in I_red if el != 0]\n",
    "    P[i] = P9_eval\n",
    "    print(i, \"->\", P9_eval, \"\\n Does it commute (0 is yes): \", Le_eval.lie_bracket(P9_eval, \"z\"))"
   ]
  },
  {
   "cell_type": "markdown",
   "id": "c4114692-4a25-4d58-933c-bf822e6496bb",
   "metadata": {},
   "source": [
    "This looks like a $L_4$ more than a $L_5$. In fact:"
   ]
  },
  {
   "cell_type": "code",
   "execution_count": 52,
   "id": "39b1dd98-269f-41aa-bdc0-d5b1276eb2ea",
   "metadata": {},
   "outputs": [
    {
     "data": {
      "text/plain": [
       "0"
      ]
     },
     "execution_count": 52,
     "metadata": {},
     "output_type": "execute_result"
    }
   ],
   "source": [
    "P[4](z=P[4]) - P[8]"
   ]
  },
  {
   "cell_type": "code",
   "execution_count": 53,
   "id": "fa971afd-5414-41eb-b8d3-6603f3240889",
   "metadata": {},
   "outputs": [
    {
     "data": {
      "text/plain": [
       "0"
      ]
     },
     "execution_count": 53,
     "metadata": {},
     "output_type": "execute_result"
    }
   ],
   "source": [
    "Le_eval(z=P[4]) - P[9]"
   ]
  },
  {
   "cell_type": "code",
   "execution_count": 60,
   "id": "d0fc25fd-ef9b-4368-a983-e33ac4dade9b",
   "metadata": {},
   "outputs": [
    {
     "data": {
      "text/plain": [
       "320/x^6*z_0 + 256/x^5*z_1 + ((-128)/x^4)*z_2 + 8/x^2*z_4"
      ]
     },
     "execution_count": 60,
     "metadata": {},
     "output_type": "execute_result"
    }
   ],
   "source": [
    "8/x^2 * P[4]"
   ]
  },
  {
   "cell_type": "code",
   "execution_count": 63,
   "id": "5115773e-20f0-492f-a86d-b1deac10cc22",
   "metadata": {},
   "outputs": [
    {
     "data": {
      "text/plain": [
       "800/x^6*z_0 + 64/x^5*z_1 + ((-288)/x^4)*z_2 + 64/x^3*z_3"
      ]
     },
     "execution_count": 63,
     "metadata": {},
     "output_type": "execute_result"
    }
   ],
   "source": [
    "z[2](z=P[4]) - P[4](z=z[2])"
   ]
  },
  {
   "cell_type": "code",
   "execution_count": 69,
   "id": "e06117b0-baf7-410b-b656-a9d56eb2c527",
   "metadata": {},
   "outputs": [
    {
     "data": {
      "text/plain": [
       "40/x^4*z_0 + 32/x^3*z_1 + ((-16)/x^2)*z_2 + z_4"
      ]
     },
     "execution_count": 69,
     "metadata": {},
     "output_type": "execute_result"
    }
   ],
   "source": [
    "P[4]"
   ]
  },
  {
   "cell_type": "code",
   "execution_count": 70,
   "id": "35005ea7-4787-4bc0-9cc1-560d55897964",
   "metadata": {},
   "outputs": [
    {
     "data": {
      "text/plain": [
       "((-120)/x^5)*z_0 + 60/x^3*z_2 + ((-20)/x^2)*z_3 + z_5"
      ]
     },
     "execution_count": 70,
     "metadata": {},
     "output_type": "execute_result"
    }
   ],
   "source": [
    "Le_eval"
   ]
  },
  {
   "cell_type": "code",
   "execution_count": null,
   "id": "2b0128ef-786d-4165-aa15-38dc2b2d9090",
   "metadata": {},
   "outputs": [],
   "source": [
    "4,5,6,7,8,9\n",
    "L_5\n",
    "A_1 = P_6\n",
    "A_2 = P_7\n",
    "A_3 = P_8\n",
    "A_4 = P_4"
   ]
  },
  {
   "cell_type": "code",
   "execution_count": null,
   "id": "80996f8f-d26c-42f7-a028-b34416c164b6",
   "metadata": {},
   "outputs": [],
   "source": [
    "C[L_5, P_4, P_6, P_7]"
   ]
  },
  {
   "cell_type": "code",
   "execution_count": 82,
   "id": "e1a27066-a8d5-4b80-8dd5-5088ecce6f62",
   "metadata": {},
   "outputs": [
    {
     "data": {
      "text/plain": [
       "(1, 2, -1)"
      ]
     },
     "execution_count": 82,
     "metadata": {},
     "output_type": "execute_result"
    }
   ],
   "source": [
    "xgcd(5, 9)"
   ]
  },
  {
   "cell_type": "code",
   "execution_count": 90,
   "id": "f2ce8223-f1c4-4883-adef-0de034f67725",
   "metadata": {},
   "outputs": [
    {
     "data": {
      "text/plain": [
       "0"
      ]
     },
     "execution_count": 90,
     "metadata": {},
     "output_type": "execute_result"
    }
   ],
   "source": [
    "P[4](z=P[4](z=P[4])) - Le_eval(z=P[7])"
   ]
  },
  {
   "cell_type": "markdown",
   "id": "b9c50b9a-52f4-42a4-9942-d5a3ee8ff7ad",
   "metadata": {
    "jp-MarkdownHeadingCollapsed": true
   },
   "source": [
    "###### Studying a solution"
   ]
  },
  {
   "cell_type": "code",
   "execution_count": 4,
   "id": "16e9d914-fac0-49d0-a7f5-e39c868d9ac2",
   "metadata": {},
   "outputs": [],
   "source": [
    "def bounds(n, m):\n",
    "    r'''\n",
    "        For an operator L of order `n`, bound order of commutators for each congruence \n",
    "        class when a commutator of order `m` is known.\n",
    "    '''\n",
    "    if m%n == 0: raise ValueError(\"Error in `m`\")\n",
    "    output = {0: n, m%n : m}\n",
    "    c = m\n",
    "    while len(output) != n:\n",
    "        c += m\n",
    "        if (c%n) in output:\n",
    "            pass\n",
    "        else:\n",
    "            output[c%n] = c - n\n",
    "    return output\n",
    "def flag_for_order(order, n, m, knowledge):\n",
    "    result = knowledge.copy()\n",
    "    result[f\"c_{order}\"] = 1\n",
    "    for i in range(order+1, m+1): # everything beyond order to zero\n",
    "        result[f\"c_{i}\"] = 0\n",
    "    for i in range(0, order+1, n): # easy commutator -> we get a zero\n",
    "        result[f\"c_{i}\"] = 0\n",
    "    return result"
   ]
  },
  {
   "cell_type": "code",
   "execution_count": 19,
   "id": "a2656445-87fc-401c-8727-5fcd3795b1fa",
   "metadata": {},
   "outputs": [
    {
     "data": {
      "text/plain": [
       "{0: 5, 3: 8, 1: 11, 4: 19, 2: 27}"
      ]
     },
     "execution_count": 19,
     "metadata": {},
     "output_type": "execute_result"
    }
   ],
   "source": [
    "bounds(5,8)"
   ]
  },
  {
   "cell_type": "code",
   "execution_count": null,
   "id": "c5871915-5185-4b93-a944-bb9a2c9f8e60",
   "metadata": {},
   "outputs": [],
   "source": [
    "__CACHED_EQUATIONS = dict()\n",
    "def _get_equations(m, n, solution, B, U):\n",
    "    key = (m,n, tuple(sorted(solution.items())))\n",
    "    if not key in __CACHED_EQUATIONS:\n",
    "        print(\"Actually computing\")\n",
    "        nU = {k: B.fraction_field()(str(v(**solution))) for (k,v) in U.items()}\n",
    "        __CACHED_EQUATIONS[key] = GetEquationsForSolution(m, n, nU, extract=generate_polynomial_equations)\n",
    "    return __CACHED_EQUATIONS[key]"
   ]
  },
  {
   "cell_type": "code",
   "execution_count": 13,
   "id": "f6c4d80c-5633-40e8-84f1-1de2d224990e",
   "metadata": {},
   "outputs": [],
   "source": [
    "def analyze_centralizer(n, solution, m, U, B):\n",
    "    r'''\n",
    "        Analyze the centralizer of L_n for a specific solution assuming there is a commutator of order `m`\n",
    "    '''\n",
    "    M = max(bounds(n,m).values())\n",
    "    print(\"Getting the equations up to the computed bound\")\n",
    "    nL, nP, nI = _get_equations(M, n, solution, B, U)\n",
    "    print(\"Starting analysis of centralizer...\")\n",
    "    A = {0: nL}\n",
    "    i = 2; parts = [n]\n",
    "    while i <= M and len(A) < n:\n",
    "        if len(Partitions(i, parts_in=parts)) == 0:\n",
    "            starting = flag_for_order(i, n, M, dict())\n",
    "            nLe = nL(**starting)\n",
    "            nPe = nP(**starting)\n",
    "            nI_polys = sorted([nLe.parent().base().base().wrapped(p(**starting) if p.parent() != ZZ else p) for p in nI.gens()], key=lambda t: len(t.monomials()))\n",
    "            nIe = ideal(p for p in nI_polys if p != 0) if nI != ideal([ZZ(0)]) else nI\n",
    "            if nIe != ideal(1):\n",
    "                print(f\"Added a new commutator: {i}\")\n",
    "                S = analyze_ideal(nIe.groebner_basis(), starting, [])\n",
    "                if len(S) > 1:\n",
    "                    print(f\"Multiple solutions in the case {i}\")\n",
    "                    A[i%n] = (starting, nLe, nPe, S)\n",
    "                    parts.append(i)\n",
    "                elif len(S) == 0:\n",
    "                    print(f\"No solutions in the case {i}\")\n",
    "                else:\n",
    "                    A[i%n] = S[0].eval(nPe)\n",
    "                    parts.append(i)\n",
    "            else:\n",
    "                print(f\"Case {i} has no solution\")\n",
    "        else:\n",
    "            print(f\"Skipping case {i}: we already have it ready\")\n",
    "        i += 1\n",
    "    return A"
   ]
  },
  {
   "cell_type": "code",
   "execution_count": 17,
   "id": "4582355d-a94a-4a32-acfa-0ee47f466e6b",
   "metadata": {},
   "outputs": [
    {
     "name": "stdout",
     "output_type": "stream",
     "text": [
      "Getting the equations up to the computed bound\n",
      "Starting analysis of centralizer...\n",
      "Case 2 has no solution\n",
      "Case 3 has no solution\n",
      "Case 4 has no solution\n",
      "Skipping case 5: we already have it ready\n",
      "Added a new commutator: 6\n",
      "Case 7 has no solution\n",
      "Case 8 has no solution\n",
      "Added a new commutator: 9\n",
      "Skipping case 10: we already have it ready\n",
      "Skipping case 11: we already have it ready\n",
      "Skipping case 12: we already have it ready\n",
      "Added a new commutator: 13\n",
      "Skipping case 14: we already have it ready\n",
      "Skipping case 15: we already have it ready\n",
      "Skipping case 16: we already have it ready\n",
      "Skipping case 17: we already have it ready\n",
      "Skipping case 18: we already have it ready\n",
      "Skipping case 19: we already have it ready\n"
     ]
    },
    {
     "data": {
      "text/plain": [
       "{0: ((-240)/x^5)*z_0 + 240/x^4*z_1 + 40/x^3*z_2 + ((-50)/x^2)*z_3 + z_5,\n",
       " 1: 792/x^6*z_0 + ((-792)/x^5)*z_1 + 396/x^4*z_2 + 108/x^3*z_3 + ((-60)/x^2)*z_4 + z_6,\n",
       " 4: ((792*x^3*c_6 - 145152)/x^9)*z_0 + ((-792*x^3*c_6 + 145152)/x^8)*z_1 + ((396*x^3*c_6 - 72576)/x^7)*z_2 + ((108*x^3*c_6 + 24192)/x^6)*z_3 + ((-60*x^3*c_6 - 6048)/x^5)*z_4 + ((x^3*c_6 + 432)/x^3)*z_6 + ((-90)/x^2)*z_7 + z_9,\n",
       " 3: ((792*x^7*c_6 - 145152*x^4*c_9 - 10644480*x^2*c_11 + 108573696*x*c_12 - 1222760448)/x^13)*z_0 + ((-792*x^7*c_6 + 145152*x^4*c_9 + 10644480*x^2*c_11 - 108573696*x*c_12 + 1222760448)/x^12)*z_1 + ((396*x^7*c_6 - 72576*x^4*c_9 - 5322240*x^2*c_11 + 54286848*x*c_12 - 611380224)/x^11)*z_2 + ((108*x^7*c_6 + 24192*x^4*c_9 + 1774080*x^2*c_11 - 18095616*x*c_12 + 203793408)/x^10)*z_3 + ((-60*x^7*c_6 - 6048*x^4*c_9 - 443520*x^2*c_11 + 4523904*x*c_12 - 50948352)/x^9)*z_4 + ((81312*x^2*c_11 - 870912*x*c_12 + 9993984)/x^8)*z_5 + ((x^7*c_6 + 432*x^4*c_9 - 7392*x^2*c_11 + 116928*x*c_12 - 1502592)/x^7)*z_6 + ((-90*x^4*c_9 - 1584*x^2*c_11 - 4608*x*c_12 + 144768)/x^6)*z_7 + ((748*x^2*c_11 - 2952*x*c_12 + 2288)/x^5)*z_8 + ((x^4*c_9 - 110*x^2*c_11 + 936*x*c_12 - 4784)/x^4)*z_9 + ((-120*x*c_12 + 1144)/x^3)*z_10 + ((x^2*c_11 - 130)/x^2)*z_11 + c_12*z_12 + z_13}"
      ]
     },
     "execution_count": 17,
     "metadata": {},
     "output_type": "execute_result"
    }
   ],
   "source": [
    "A1 = analyze_centralizer(n, {\"a_2\" : -50, \"a_3\" : 40, \"a_4\": 240, \"a_5\": -240}, 6, U, B)\n",
    "A1"
   ]
  },
  {
   "cell_type": "code",
   "execution_count": 18,
   "id": "b2c4cb4a-8c85-4dab-933e-3ba8a81904a8",
   "metadata": {},
   "outputs": [
    {
     "name": "stdout",
     "output_type": "stream",
     "text": [
      "Getting the equations up to the computed bound\n",
      "Actually computing\n",
      "Starting analysis of centralizer...\n",
      "Case 2 has no solution\n",
      "Case 3 has no solution\n",
      "Case 4 has no solution\n",
      "Skipping case 5: we already have it ready\n",
      "Added a new commutator: 6\n",
      "Case 7 has no solution\n",
      "Case 8 has no solution\n",
      "Added a new commutator: 9\n",
      "Skipping case 10: we already have it ready\n",
      "Skipping case 11: we already have it ready\n",
      "Skipping case 12: we already have it ready\n",
      "Added a new commutator: 13\n",
      "Skipping case 14: we already have it ready\n",
      "Skipping case 15: we already have it ready\n",
      "Skipping case 16: we already have it ready\n",
      "Skipping case 17: we already have it ready\n",
      "Skipping case 18: we already have it ready\n",
      "Skipping case 19: we already have it ready\n"
     ]
    },
    {
     "data": {
      "text/plain": [
       "{0: ((-420)/x^4)*z_1 + 260/x^3*z_2 + ((-50)/x^2)*z_3 + z_5,\n",
       " 1: 4032/x^6*z_0 + ((-504)/x^5)*z_1 + ((-792)/x^4)*z_2 + 372/x^3*z_3 + ((-60)/x^2)*z_4 + z_6,\n",
       " 4: (4032*c_6/x^6)*z_0 + ((-504*x^3*c_6 + 453600)/x^8)*z_1 + ((-792*x^3*c_6 - 246240)/x^7)*z_2 + ((372*x^3*c_6 + 43632)/x^6)*z_3 + ((-60*x^3*c_6 + 3888)/x^5)*z_4 + ((-3564)/x^4)*z_5 + ((x^3*c_6 + 828)/x^3)*z_6 + ((-90)/x^2)*z_7 + z_9,\n",
       " 3: (4032*c_6/x^6)*z_0 + ((-504*x^7*c_6 + 453600*x^4*c_9 + 18627840*x^2*c_11 - 158505984*x*c_12 + 1541030400)/x^12)*z_1 + ((-792*x^7*c_6 - 246240*x^4*c_9 - 14192640*x^2*c_11 + 126572544*x*c_12 - 1269305856)/x^11)*z_2 + ((372*x^7*c_6 + 43632*x^4*c_9 + 4878720*x^2*c_11 - 47319552*x*c_12 + 498790656)/x^10)*z_3 + ((-60*x^7*c_6 + 3888*x^4*c_9 - 887040*x^2*c_11 + 10450944*x*c_12 - 120976128)/x^9)*z_4 + ((-3564*x^4*c_9 + 44352*x^2*c_11 - 1282176*x*c_12 + 18922176)/x^8)*z_5 + ((x^7*c_6 + 828*x^4*c_9 + 22176*x^2*c_11 - 4032*x*c_12 - 1520064)/x^7)*z_6 + ((-90*x^4*c_9 - 7392*x^2*c_11 + 40320*x*c_12 - 119392)/x^6)*z_7 + ((1232*x^2*c_11 - 10080*x*c_12 + 66976)/x^5)*z_8 + ((x^4*c_9 - 110*x^2*c_11 + 1464*x*c_12 - 13364)/x^4)*z_9 + ((-120*x*c_12 + 1716)/x^3)*z_10 + ((x^2*c_11 - 130)/x^2)*z_11 + c_12*z_12 + z_13}"
      ]
     },
     "execution_count": 18,
     "metadata": {},
     "output_type": "execute_result"
    }
   ],
   "source": [
    "A2 = analyze_centralizer(n, {\"a_2\" : -50, \"a_3\" : 260, \"a_4\": -420, \"a_5\": 0}, 6, U, B)\n",
    "A2"
   ]
  },
  {
   "cell_type": "code",
   "execution_count": 20,
   "id": "b2b85335-d293-463d-b38a-cae1f0ed4b93",
   "metadata": {},
   "outputs": [
    {
     "name": "stdout",
     "output_type": "stream",
     "text": [
      "Getting the equations up to the computed bound\n",
      "Actually computing\n",
      "Starting analysis of centralizer...\n",
      "Case 2 has no solution\n",
      "Case 3 has no solution\n",
      "Case 4 has no solution\n",
      "Skipping case 5: we already have it ready\n",
      "Added a new commutator: 6\n",
      "Added a new commutator: 7\n",
      "Case 8 has no solution\n",
      "Case 9 has no solution\n",
      "Skipping case 10: we already have it ready\n",
      "Skipping case 11: we already have it ready\n",
      "Skipping case 12: we already have it ready\n",
      "Skipping case 13: we already have it ready\n",
      "Skipping case 14: we already have it ready\n",
      "Skipping case 15: we already have it ready\n",
      "Skipping case 16: we already have it ready\n",
      "Skipping case 17: we already have it ready\n",
      "Skipping case 18: we already have it ready\n",
      "Skipping case 19: we already have it ready\n"
     ]
    },
    {
     "data": {
      "text/plain": [
       "{0: 240/x^3*z_2 + ((-60)/x^2)*z_3 + z_5,\n",
       " 1: 1728/x^6*z_0 + ((-1728)/x^5)*z_1 + ((-144)/x^4)*z_2 + 360/x^3*z_3 + ((-72)/x^2)*z_4 + z_6,\n",
       " 2: (1728*c_6/x^6)*z_0 + ((-1728*x*c_6 + 12096)/x^6)*z_1 + ((-144*x*c_6 - 4032)/x^5)*z_2 + ((360*x*c_6 - 504)/x^4)*z_3 + ((-72*x*c_6 + 504)/x^3)*z_4 + ((-84)/x^2)*z_5 + c_6*z_6 + z_7}"
      ]
     },
     "execution_count": 20,
     "metadata": {},
     "output_type": "execute_result"
    }
   ],
   "source": [
    "A3 = analyze_centralizer(n, {\"a_2\" : -60, \"a_3\" : 240, \"a_4\": 0, \"a_5\": 0}, 6, U, B)\n",
    "A3"
   ]
  },
  {
   "cell_type": "code",
   "execution_count": 22,
   "id": "d9a64e5b-cbe3-48cf-a0aa-3ced0518ea01",
   "metadata": {},
   "outputs": [],
   "source": [
    "cases_only_6 = [[-50, 40, 240, -240],\n",
    "[-50, 260, -420, 0],\n",
    "[-80, 240, 1200, -2880], \n",
    "[-175, 525, 3955, -8960], \n",
    "[-20, 0, 0, 0],\n",
    "[-25, 95, -50, -270], \n",
    "[-25, 55, 70, -70],\n",
    "[-15, 75, -180, 180],\n",
    "[-35, 35, 0, 0], \n",
    "[-55, 85, 235, -640],\n",
    "[-60, 240, 0, 0], \n",
    "[-55, 245, -245, 0], \n",
    "[-125, 575, 1530, -7290], \n",
    "[-100, 200, 880, 0], \n",
    "[-55, 155, 340, -1620], \n",
    "[-40, 160, -320, 320], \n",
    "[-95, 445, 195, -3840], \n",
    "[-100, 400, 280, -3520], \n",
    "[-95, 125, 1155, 0], \n",
    "[-65, 375, -450, -1470], \n",
    "[-20, 80, -120, 0]]\n",
    "cases_only_6 = [{f\"a_{2+i}\": v for (i,v) in enumerate(el)} for el in cases_only_6]"
   ]
  },
  {
   "cell_type": "code",
   "execution_count": 27,
   "id": "f9542b7a-dac1-4e2a-a12b-0dbdbc6500ce",
   "metadata": {
    "collapsed": true,
    "jupyter": {
     "outputs_hidden": true
    }
   },
   "outputs": [
    {
     "name": "stdout",
     "output_type": "stream",
     "text": [
      "##############################################################\n",
      "Starting case 1/21...\n",
      "Getting the equations up to the computed bound\n",
      "Starting analysis of centralizer...\n",
      "Case 2 has no solution\n",
      "Case 3 has no solution\n",
      "Case 4 has no solution\n",
      "Skipping case 5: we already have it ready\n",
      "Added a new commutator: 6\n",
      "Case 7 has no solution\n",
      "Case 8 has no solution\n",
      "Added a new commutator: 9\n",
      "Skipping case 10: we already have it ready\n",
      "Skipping case 11: we already have it ready\n",
      "Skipping case 12: we already have it ready\n",
      "Added a new commutator: 13\n",
      "Skipping case 14: we already have it ready\n",
      "Skipping case 15: we already have it ready\n",
      "Skipping case 16: we already have it ready\n",
      "Skipping case 17: we already have it ready\n",
      "Skipping case 18: we already have it ready\n",
      "Skipping case 19: we already have it ready\n",
      "Finished case 1/21\n",
      "##############################################################\n",
      "Starting case 2/21...\n",
      "Getting the equations up to the computed bound\n",
      "Starting analysis of centralizer...\n",
      "Case 2 has no solution\n",
      "Case 3 has no solution\n",
      "Case 4 has no solution\n",
      "Skipping case 5: we already have it ready\n",
      "Added a new commutator: 6\n",
      "Case 7 has no solution\n",
      "Case 8 has no solution\n",
      "Added a new commutator: 9\n",
      "Skipping case 10: we already have it ready\n",
      "Skipping case 11: we already have it ready\n",
      "Skipping case 12: we already have it ready\n",
      "Added a new commutator: 13\n",
      "Skipping case 14: we already have it ready\n",
      "Skipping case 15: we already have it ready\n",
      "Skipping case 16: we already have it ready\n",
      "Skipping case 17: we already have it ready\n",
      "Skipping case 18: we already have it ready\n",
      "Skipping case 19: we already have it ready\n",
      "Finished case 2/21\n",
      "##############################################################\n",
      "Starting case 3/21...\n",
      "Getting the equations up to the computed bound\n",
      "Actually computing\n",
      "Starting analysis of centralizer...\n",
      "Case 2 has no solution\n",
      "Case 3 has no solution\n",
      "Case 4 has no solution\n",
      "Skipping case 5: we already have it ready\n",
      "Added a new commutator: 6\n",
      "Case 7 has no solution\n",
      "Case 8 has no solution\n",
      "Case 9 has no solution\n",
      "Skipping case 10: we already have it ready\n",
      "Skipping case 11: we already have it ready\n",
      "Skipping case 12: we already have it ready\n",
      "Added a new commutator: 13\n",
      "Added a new commutator: 14\n",
      "Skipping case 15: we already have it ready\n",
      "Skipping case 16: we already have it ready\n",
      "Skipping case 17: we already have it ready\n",
      "Skipping case 18: we already have it ready\n",
      "Skipping case 19: we already have it ready\n",
      "Finished case 3/21\n",
      "##############################################################\n",
      "Starting case 4/21...\n",
      "Getting the equations up to the computed bound\n",
      "Actually computing\n",
      "Starting analysis of centralizer...\n",
      "Case 2 has no solution\n",
      "Case 3 has no solution\n",
      "Case 4 has no solution\n",
      "Skipping case 5: we already have it ready\n",
      "Added a new commutator: 6\n",
      "Case 7 has no solution\n",
      "Case 8 has no solution\n",
      "Case 9 has no solution\n",
      "Skipping case 10: we already have it ready\n",
      "Skipping case 11: we already have it ready\n",
      "Skipping case 12: we already have it ready\n",
      "Case 13 has no solution\n",
      "Case 14 has no solution\n",
      "Skipping case 15: we already have it ready\n",
      "Skipping case 16: we already have it ready\n",
      "Skipping case 17: we already have it ready\n",
      "Skipping case 18: we already have it ready\n",
      "Case 19 has no solution\n",
      "Finished case 4/21\n",
      "##############################################################\n",
      "Starting case 5/21...\n",
      "Getting the equations up to the computed bound\n",
      "Actually computing\n",
      "Starting analysis of centralizer...\n",
      "Case 2 has no solution\n",
      "Case 3 has no solution\n",
      "Case 4 has no solution\n",
      "Skipping case 5: we already have it ready\n",
      "Added a new commutator: 6\n",
      "Added a new commutator: 7\n",
      "Added a new commutator: 8\n",
      "Added a new commutator: 9\n",
      "Finished case 5/21\n",
      "##############################################################\n",
      "Starting case 6/21...\n",
      "Getting the equations up to the computed bound\n",
      "Actually computing\n",
      "Starting analysis of centralizer...\n",
      "Case 2 has no solution\n",
      "Case 3 has no solution\n",
      "Case 4 has no solution\n",
      "Skipping case 5: we already have it ready\n",
      "Added a new commutator: 6\n",
      "Added a new commutator: 7\n",
      "Added a new commutator: 8\n",
      "Added a new commutator: 9\n",
      "Finished case 6/21\n",
      "##############################################################\n",
      "Starting case 7/21...\n",
      "Getting the equations up to the computed bound\n",
      "Actually computing\n",
      "Starting analysis of centralizer...\n",
      "Case 2 has no solution\n",
      "Case 3 has no solution\n",
      "Case 4 has no solution\n",
      "Skipping case 5: we already have it ready\n",
      "Added a new commutator: 6\n",
      "Added a new commutator: 7\n",
      "Added a new commutator: 8\n",
      "Added a new commutator: 9\n",
      "Finished case 7/21\n",
      "##############################################################\n",
      "Starting case 8/21...\n",
      "Getting the equations up to the computed bound\n",
      "Actually computing\n",
      "Starting analysis of centralizer...\n",
      "Case 2 has no solution\n",
      "Case 3 has no solution\n",
      "Added a new commutator: 4\n",
      "Skipping case 5: we already have it ready\n",
      "Added a new commutator: 6\n",
      "Added a new commutator: 7\n",
      "Skipping case 8: we already have it ready\n",
      "Skipping case 9: we already have it ready\n",
      "Skipping case 10: we already have it ready\n",
      "Skipping case 11: we already have it ready\n",
      "Skipping case 12: we already have it ready\n",
      "Skipping case 13: we already have it ready\n",
      "Skipping case 14: we already have it ready\n",
      "Skipping case 15: we already have it ready\n",
      "Skipping case 16: we already have it ready\n",
      "Skipping case 17: we already have it ready\n",
      "Skipping case 18: we already have it ready\n",
      "Skipping case 19: we already have it ready\n",
      "Finished case 8/21\n",
      "##############################################################\n",
      "Starting case 9/21...\n",
      "Getting the equations up to the computed bound\n",
      "Actually computing\n",
      "Starting analysis of centralizer...\n",
      "Case 2 has no solution\n",
      "Case 3 has no solution\n",
      "Case 4 has no solution\n",
      "Skipping case 5: we already have it ready\n",
      "Added a new commutator: 6\n",
      "Case 7 has no solution\n",
      "Added a new commutator: 8\n",
      "Added a new commutator: 9\n",
      "Skipping case 10: we already have it ready\n",
      "Skipping case 11: we already have it ready\n",
      "Skipping case 12: we already have it ready\n",
      "Skipping case 13: we already have it ready\n",
      "Skipping case 14: we already have it ready\n",
      "Skipping case 15: we already have it ready\n",
      "Skipping case 16: we already have it ready\n",
      "Skipping case 17: we already have it ready\n",
      "Skipping case 18: we already have it ready\n",
      "Skipping case 19: we already have it ready\n",
      "Finished case 9/21\n",
      "##############################################################\n",
      "Starting case 10/21...\n",
      "Getting the equations up to the computed bound\n",
      "Actually computing\n",
      "Starting analysis of centralizer...\n",
      "Case 2 has no solution\n",
      "Case 3 has no solution\n",
      "Case 4 has no solution\n",
      "Skipping case 5: we already have it ready\n",
      "Added a new commutator: 6\n",
      "Case 7 has no solution\n",
      "Added a new commutator: 8\n",
      "Case 9 has no solution\n",
      "Skipping case 10: we already have it ready\n",
      "Skipping case 11: we already have it ready\n",
      "Skipping case 12: we already have it ready\n",
      "Skipping case 13: we already have it ready\n",
      "Skipping case 14: we already have it ready\n",
      "Skipping case 15: we already have it ready\n",
      "Skipping case 16: we already have it ready\n",
      "Skipping case 17: we already have it ready\n",
      "Skipping case 18: we already have it ready\n",
      "Skipping case 19: we already have it ready\n",
      "Finished case 10/21\n",
      "##############################################################\n",
      "Starting case 11/21...\n",
      "Getting the equations up to the computed bound\n",
      "Starting analysis of centralizer...\n",
      "Case 2 has no solution\n",
      "Case 3 has no solution\n",
      "Case 4 has no solution\n",
      "Skipping case 5: we already have it ready\n",
      "Added a new commutator: 6\n",
      "Added a new commutator: 7\n",
      "Case 8 has no solution\n",
      "Case 9 has no solution\n",
      "Skipping case 10: we already have it ready\n",
      "Skipping case 11: we already have it ready\n",
      "Skipping case 12: we already have it ready\n",
      "Skipping case 13: we already have it ready\n",
      "Skipping case 14: we already have it ready\n",
      "Skipping case 15: we already have it ready\n",
      "Skipping case 16: we already have it ready\n",
      "Skipping case 17: we already have it ready\n",
      "Skipping case 18: we already have it ready\n",
      "Skipping case 19: we already have it ready\n",
      "Finished case 11/21\n",
      "##############################################################\n",
      "Starting case 12/21...\n",
      "Getting the equations up to the computed bound\n",
      "Actually computing\n",
      "Starting analysis of centralizer...\n",
      "Case 2 has no solution\n",
      "Case 3 has no solution\n",
      "Case 4 has no solution\n",
      "Skipping case 5: we already have it ready\n",
      "Added a new commutator: 6\n",
      "Case 7 has no solution\n",
      "Added a new commutator: 8\n",
      "Case 9 has no solution\n",
      "Skipping case 10: we already have it ready\n",
      "Skipping case 11: we already have it ready\n",
      "Skipping case 12: we already have it ready\n",
      "Skipping case 13: we already have it ready\n",
      "Skipping case 14: we already have it ready\n",
      "Skipping case 15: we already have it ready\n",
      "Skipping case 16: we already have it ready\n",
      "Skipping case 17: we already have it ready\n",
      "Skipping case 18: we already have it ready\n",
      "Skipping case 19: we already have it ready\n",
      "Finished case 12/21\n",
      "##############################################################\n",
      "Starting case 13/21...\n",
      "Getting the equations up to the computed bound\n",
      "Actually computing\n",
      "Starting analysis of centralizer...\n",
      "Case 2 has no solution\n",
      "Case 3 has no solution\n",
      "Case 4 has no solution\n",
      "Skipping case 5: we already have it ready\n",
      "Added a new commutator: 6\n",
      "Case 7 has no solution\n",
      "Case 8 has no solution\n",
      "Case 9 has no solution\n",
      "Skipping case 10: we already have it ready\n",
      "Skipping case 11: we already have it ready\n",
      "Skipping case 12: we already have it ready\n",
      "Case 13 has no solution\n",
      "Case 14 has no solution\n",
      "Skipping case 15: we already have it ready\n",
      "Skipping case 16: we already have it ready\n",
      "Skipping case 17: we already have it ready\n",
      "Skipping case 18: we already have it ready\n",
      "Added a new commutator: 19\n",
      "Finished case 13/21\n",
      "##############################################################\n",
      "Starting case 14/21...\n",
      "Getting the equations up to the computed bound\n",
      "Actually computing\n",
      "Starting analysis of centralizer...\n",
      "Case 2 has no solution\n",
      "Case 3 has no solution\n",
      "Case 4 has no solution\n",
      "Skipping case 5: we already have it ready\n",
      "Added a new commutator: 6\n",
      "Case 7 has no solution\n",
      "Case 8 has no solution\n",
      "Case 9 has no solution\n",
      "Skipping case 10: we already have it ready\n",
      "Skipping case 11: we already have it ready\n",
      "Skipping case 12: we already have it ready\n",
      "Added a new commutator: 13\n",
      "Case 14 has no solution\n",
      "Skipping case 15: we already have it ready\n",
      "Skipping case 16: we already have it ready\n",
      "Skipping case 17: we already have it ready\n",
      "Skipping case 18: we already have it ready\n",
      "Skipping case 19: we already have it ready\n",
      "Finished case 14/21\n",
      "##############################################################\n",
      "Starting case 15/21...\n",
      "Getting the equations up to the computed bound\n",
      "Actually computing\n",
      "Starting analysis of centralizer...\n",
      "Case 2 has no solution\n",
      "Case 3 has no solution\n",
      "Case 4 has no solution\n",
      "Skipping case 5: we already have it ready\n",
      "Added a new commutator: 6\n",
      "Case 7 has no solution\n",
      "Case 8 has no solution\n",
      "Added a new commutator: 9\n",
      "Skipping case 10: we already have it ready\n",
      "Skipping case 11: we already have it ready\n",
      "Skipping case 12: we already have it ready\n",
      "Added a new commutator: 13\n",
      "Skipping case 14: we already have it ready\n",
      "Skipping case 15: we already have it ready\n",
      "Skipping case 16: we already have it ready\n",
      "Skipping case 17: we already have it ready\n",
      "Skipping case 18: we already have it ready\n",
      "Skipping case 19: we already have it ready\n",
      "Finished case 15/21\n",
      "##############################################################\n",
      "Starting case 16/21...\n",
      "Getting the equations up to the computed bound\n",
      "Actually computing\n",
      "Starting analysis of centralizer...\n",
      "Case 2 has no solution\n",
      "Case 3 has no solution\n",
      "Case 4 has no solution\n",
      "Skipping case 5: we already have it ready\n",
      "Added a new commutator: 6\n",
      "Added a new commutator: 7\n",
      "Case 8 has no solution\n",
      "Added a new commutator: 9\n",
      "Skipping case 10: we already have it ready\n",
      "Skipping case 11: we already have it ready\n",
      "Skipping case 12: we already have it ready\n",
      "Skipping case 13: we already have it ready\n",
      "Skipping case 14: we already have it ready\n",
      "Skipping case 15: we already have it ready\n",
      "Skipping case 16: we already have it ready\n",
      "Skipping case 17: we already have it ready\n",
      "Skipping case 18: we already have it ready\n",
      "Skipping case 19: we already have it ready\n",
      "Finished case 16/21\n",
      "##############################################################\n",
      "Starting case 17/21...\n",
      "Getting the equations up to the computed bound\n",
      "Actually computing\n",
      "Starting analysis of centralizer...\n",
      "Case 2 has no solution\n",
      "Case 3 has no solution\n",
      "Case 4 has no solution\n",
      "Skipping case 5: we already have it ready\n",
      "Added a new commutator: 6\n",
      "Case 7 has no solution\n",
      "Case 8 has no solution\n",
      "Case 9 has no solution\n",
      "Skipping case 10: we already have it ready\n",
      "Skipping case 11: we already have it ready\n",
      "Skipping case 12: we already have it ready\n",
      "Case 13 has no solution\n",
      "Added a new commutator: 14\n",
      "Skipping case 15: we already have it ready\n",
      "Skipping case 16: we already have it ready\n",
      "Skipping case 17: we already have it ready\n",
      "Skipping case 18: we already have it ready\n",
      "Skipping case 19: we already have it ready\n",
      "Finished case 17/21\n",
      "##############################################################\n",
      "Starting case 18/21...\n",
      "Getting the equations up to the computed bound\n",
      "Actually computing\n",
      "Starting analysis of centralizer...\n",
      "Case 2 has no solution\n",
      "Case 3 has no solution\n",
      "Case 4 has no solution\n",
      "Skipping case 5: we already have it ready\n",
      "Added a new commutator: 6\n",
      "Case 7 has no solution\n",
      "Case 8 has no solution\n",
      "Case 9 has no solution\n",
      "Skipping case 10: we already have it ready\n",
      "Skipping case 11: we already have it ready\n",
      "Skipping case 12: we already have it ready\n",
      "Added a new commutator: 13\n",
      "Case 14 has no solution\n",
      "Skipping case 15: we already have it ready\n",
      "Skipping case 16: we already have it ready\n",
      "Skipping case 17: we already have it ready\n",
      "Skipping case 18: we already have it ready\n",
      "Skipping case 19: we already have it ready\n",
      "Finished case 18/21\n",
      "##############################################################\n",
      "Starting case 19/21...\n",
      "Getting the equations up to the computed bound\n",
      "Actually computing\n",
      "Starting analysis of centralizer...\n",
      "Case 2 has no solution\n",
      "Case 3 has no solution\n",
      "Case 4 has no solution\n",
      "Skipping case 5: we already have it ready\n",
      "Added a new commutator: 6\n",
      "Case 7 has no solution\n",
      "Case 8 has no solution\n",
      "Case 9 has no solution\n",
      "Skipping case 10: we already have it ready\n",
      "Skipping case 11: we already have it ready\n",
      "Skipping case 12: we already have it ready\n",
      "Case 13 has no solution\n",
      "Added a new commutator: 14\n",
      "Skipping case 15: we already have it ready\n",
      "Skipping case 16: we already have it ready\n",
      "Skipping case 17: we already have it ready\n",
      "Skipping case 18: we already have it ready\n",
      "Skipping case 19: we already have it ready\n",
      "Finished case 19/21\n",
      "##############################################################\n",
      "Starting case 20/21...\n",
      "Getting the equations up to the computed bound\n",
      "Actually computing\n",
      "Starting analysis of centralizer...\n",
      "Case 2 has no solution\n",
      "Case 3 has no solution\n",
      "Case 4 has no solution\n",
      "Skipping case 5: we already have it ready\n",
      "Added a new commutator: 6\n",
      "Case 7 has no solution\n",
      "Case 8 has no solution\n",
      "Case 9 has no solution\n",
      "Skipping case 10: we already have it ready\n",
      "Skipping case 11: we already have it ready\n",
      "Skipping case 12: we already have it ready\n",
      "Added a new commutator: 13\n",
      "Added a new commutator: 14\n",
      "Skipping case 15: we already have it ready\n",
      "Skipping case 16: we already have it ready\n",
      "Skipping case 17: we already have it ready\n",
      "Skipping case 18: we already have it ready\n",
      "Skipping case 19: we already have it ready\n",
      "Finished case 20/21\n",
      "##############################################################\n",
      "Starting case 21/21...\n",
      "Getting the equations up to the computed bound\n",
      "Actually computing\n",
      "Starting analysis of centralizer...\n",
      "Case 2 has no solution\n",
      "Added a new commutator: 3\n",
      "Case 4 has no solution\n",
      "Skipping case 5: we already have it ready\n",
      "Skipping case 6: we already have it ready\n",
      "Added a new commutator: 7\n",
      "Skipping case 8: we already have it ready\n",
      "Skipping case 9: we already have it ready\n",
      "Skipping case 10: we already have it ready\n",
      "Skipping case 11: we already have it ready\n",
      "Skipping case 12: we already have it ready\n",
      "Skipping case 13: we already have it ready\n",
      "Skipping case 14: we already have it ready\n",
      "Skipping case 15: we already have it ready\n",
      "Skipping case 16: we already have it ready\n",
      "Skipping case 17: we already have it ready\n",
      "Skipping case 18: we already have it ready\n",
      "Skipping case 19: we already have it ready\n",
      "Finished case 21/21\n"
     ]
    }
   ],
   "source": [
    "As = []\n",
    "for i, solution in enumerate(cases_only_6):\n",
    "    print(\"##############################################################\")\n",
    "    print(f\"Starting case {i+1}/{len(cases_only_6)}...\")\n",
    "    As.append(analyze_centralizer(n, solution, 6, U, B))\n",
    "    print(f\"Finished case {i+1}/{len(cases_only_6)}\")"
   ]
  },
  {
   "cell_type": "code",
   "execution_count": 39,
   "id": "3d4341cd-757a-4f3b-baa7-3945ac9f0d28",
   "metadata": {},
   "outputs": [],
   "source": [
    "A1 = {i: (cases_only_6[i], a) for (i,a) in enumerate(As) if len(a) == 1}\n",
    "A2 = {i: (cases_only_6[i], a) for (i,a) in enumerate(As) if len(a) == 2}\n",
    "A3 = {i: (cases_only_6[i], a) for (i,a) in enumerate(As) if len(a) == 3}\n",
    "A4 = {i: (cases_only_6[i], a) for (i,a) in enumerate(As) if len(a) == 4}\n",
    "A5 = {i: (cases_only_6[i], a) for (i,a) in enumerate(As) if len(a) == 5}"
   ]
  },
  {
   "cell_type": "code",
   "execution_count": 40,
   "id": "c4842a6d-9115-4da1-983d-062c696e5966",
   "metadata": {},
   "outputs": [
    {
     "data": {
      "text/plain": [
       "dict_values([({'a_2': -175, 'a_3': 525, 'a_4': 3955, 'a_5': -8960}, {0: ((-8960)/x^5)*z_0 + 3955/x^4*z_1 + 525/x^3*z_2 + ((-175)/x^2)*z_3 + z_5, 1: ((-33264)/x^5)*z_1 + 7056/x^4*z_2 + 840/x^3*z_3 + ((-210)/x^2)*z_4 + z_6})])"
      ]
     },
     "execution_count": 40,
     "metadata": {},
     "output_type": "execute_result"
    }
   ],
   "source": [
    "A2.values()"
   ]
  },
  {
   "cell_type": "code",
   "execution_count": 33,
   "id": "10fe7851-1d02-43b7-85a2-d5df46dc7969",
   "metadata": {},
   "outputs": [
    {
     "data": {
      "text/plain": [
       "{'a_2': -80, 'a_3': 240, 'a_4': 1200, 'a_5': -2880}"
      ]
     },
     "execution_count": 33,
     "metadata": {},
     "output_type": "execute_result"
    }
   ],
   "source": [
    "cases_only_6[2]"
   ]
  },
  {
   "cell_type": "code",
   "execution_count": 44,
   "id": "3f88237f-4dd0-492f-9edb-62b301eeb613",
   "metadata": {},
   "outputs": [
    {
     "data": {
      "text/plain": [
       "{4: ({'a_2': -20, 'a_3': 0, 'a_4': 0, 'a_5': 0},\n",
       "  {0: ((-20)/x^2)*z_3 + z_5,\n",
       "   1: 24/x^3*z_3 + ((-24)/x^2)*z_4 + z_6,\n",
       "   2: ((24*x*c_6 - 56)/x^4)*z_3 + ((-24*x*c_6 + 56)/x^3)*z_4 + ((-28)/x^2)*z_5 + c_6*z_6 + z_7,\n",
       "   3: ((24*x^2*c_6 - 56*x*c_7 + 192)/x^5)*z_3 + ((-24*x^2*c_6 + 56*x*c_7 - 192)/x^4)*z_4 + ((-28*x*c_7 + 96)/x^3)*z_5 + ((x^2*c_6 - 32)/x^2)*z_6 + c_7*z_7 + z_8,\n",
       "   4: ((24*x^3*c_6 - 56*x^2*c_7 + 192*x*c_8 - 864)/x^6)*z_3 + ((-24*x^3*c_6 + 56*x^2*c_7 - 192*x*c_8 + 864)/x^5)*z_4 + ((-28*x^2*c_7 + 96*x*c_8 - 432)/x^4)*z_5 + ((x^3*c_6 - 32*x*c_8 + 144)/x^3)*z_6 + ((x^2*c_7 - 36)/x^2)*z_7 + c_8*z_8 + z_9}),\n",
       " 5: ({'a_2': -25, 'a_3': 95, 'a_4': -50, 'a_5': -270},\n",
       "  {0: ((-270)/x^5)*z_0 + ((-50)/x^4)*z_1 + 95/x^3*z_2 + ((-25)/x^2)*z_3 + z_5,\n",
       "   1: 1008/x^6*z_0 + ((-288)/x^5)*z_1 + ((-216)/x^4)*z_2 + 144/x^3*z_3 + ((-30)/x^2)*z_4 + z_6,\n",
       "   2: ((1008*x*c_6 - 5040)/x^7)*z_0 + ((-288*x*c_6 + 2352)/x^6)*z_1 + ((-216*x*c_6 + 168)/x^5)*z_2 + ((144*x*c_6 - 504)/x^4)*z_3 + ((-30*x*c_6 + 203)/x^3)*z_4 + ((-35)/x^2)*z_5 + c_6*z_6 + z_7,\n",
       "   3: ((1008*x^2*c_6 - 5040*x*c_7 + 31104)/x^8)*z_0 + ((-288*x^2*c_6 + 2352*x*c_7 - 17664)/x^7)*z_1 + ((-216*x^2*c_6 + 168*x*c_7 + 2112)/x^6)*z_2 + ((144*x^2*c_6 - 504*x*c_7 + 1536)/x^5)*z_3 + ((-30*x^2*c_6 + 203*x*c_7 - 944)/x^4)*z_4 + ((-35*x*c_7 + 272)/x^3)*z_5 + ((x^2*c_6 - 40)/x^2)*z_6 + c_7*z_7 + z_8,\n",
       "   4: ((1008*x^3*c_6 - 5040*x^2*c_7 + 31104*x*c_8 - 226800)/x^9)*z_0 + ((-288*x^3*c_6 + 2352*x^2*c_7 - 17664*x*c_8 + 143856)/x^8)*z_1 + ((-216*x^3*c_6 + 168*x^2*c_7 + 2112*x*c_8 - 30456)/x^7)*z_2 + ((144*x^3*c_6 - 504*x^2*c_7 + 1536*x*c_8 - 3672)/x^6)*z_3 + ((-30*x^3*c_6 + 203*x^2*c_7 - 944*x*c_8 + 4374)/x^5)*z_4 + ((-35*x^2*c_7 + 272*x*c_8 - 1566)/x^4)*z_5 + ((x^3*c_6 - 40*x*c_8 + 351)/x^3)*z_6 + ((x^2*c_7 - 45)/x^2)*z_7 + c_8*z_8 + z_9}),\n",
       " 6: ({'a_2': -25, 'a_3': 55, 'a_4': 70, 'a_5': -70},\n",
       "  {0: ((-70)/x^5)*z_0 + 70/x^4*z_1 + 55/x^3*z_2 + ((-25)/x^2)*z_3 + z_5,\n",
       "   1: 288/x^6*z_0 + ((-288)/x^5)*z_1 + 96/x^3*z_3 + ((-30)/x^2)*z_4 + z_6,\n",
       "   2: ((288*x*c_6 - 1512)/x^7)*z_0 + ((-288*x*c_6 + 1512)/x^6)*z_1 + ((-336)/x^5)*z_2 + ((96*x*c_6 - 168)/x^4)*z_3 + ((-30*x*c_6 + 147)/x^3)*z_4 + ((-35)/x^2)*z_5 + c_6*z_6 + z_7,\n",
       "   3: ((288*x^2*c_6 - 1512*x*c_7 + 9600)/x^8)*z_0 + ((-288*x^2*c_6 + 1512*x*c_7 - 9600)/x^7)*z_1 + ((-336*x*c_7 + 3072)/x^6)*z_2 + ((96*x^2*c_6 - 168*x*c_7 + 128)/x^5)*z_3 + ((-30*x^2*c_6 + 147*x*c_7 - 464)/x^4)*z_4 + ((-35*x*c_7 + 208)/x^3)*z_5 + ((x^2*c_6 - 40)/x^2)*z_6 + c_7*z_7 + z_8,\n",
       "   4: ((288*x^3*c_6 - 1512*x^2*c_7 + 9600*x*c_8 - 71280)/x^9)*z_0 + ((-288*x^3*c_6 + 1512*x^2*c_7 - 9600*x*c_8 + 71280)/x^8)*z_1 + ((-336*x^2*c_7 + 3072*x*c_8 - 26568)/x^7)*z_2 + ((96*x^3*c_6 - 168*x^2*c_7 + 128*x*c_8 + 2808)/x^6)*z_3 + ((-30*x^3*c_6 + 147*x^2*c_7 - 464*x*c_8 + 1566)/x^5)*z_4 + ((-35*x^2*c_7 + 208*x*c_8 - 918)/x^4)*z_5 + ((x^3*c_6 - 40*x*c_8 + 279)/x^3)*z_6 + ((x^2*c_7 - 45)/x^2)*z_7 + c_8*z_8 + z_9})}"
      ]
     },
     "execution_count": 44,
     "metadata": {},
     "output_type": "execute_result"
    }
   ],
   "source": [
    "A5"
   ]
  },
  {
   "cell_type": "code",
   "execution_count": 47,
   "id": "0d7d931a-70c4-435a-8fa1-090b9f6d18fb",
   "metadata": {},
   "outputs": [],
   "source": [
    "with open(\"./result_commutator_A2.dmp\", \"wb\") as file:\n",
    "    pickle.dump(A2, file)\n",
    "with open(\"./result_commutator_A3.dmp\", \"wb\") as file:\n",
    "    pickle.dump(A3, file)\n",
    "with open(\"./result_commutator_A4.dmp\", \"wb\") as file:\n",
    "    pickle.dump(A4, file)\n",
    "with open(\"./result_commutator_A5.dmp\", \"wb\") as file:\n",
    "    pickle.dump(A5, file)"
   ]
  },
  {
   "cell_type": "code",
   "execution_count": 60,
   "id": "36aaa806-ed76-4dda-8910-4946f40b4db8",
   "metadata": {},
   "outputs": [],
   "source": [
    "with open(\"./result_commutator_A2.dmp\", \"rb\") as file:\n",
    "    A2 = pickle.load(file)\n",
    "with open(\"./result_commutator_A3.dmp\", \"rb\") as file:\n",
    "    A3 = pickle.load(file)\n",
    "with open(\"./result_commutator_A5.dmp\", \"rb\") as file:\n",
    "    A5 = pickle.load(file)"
   ]
  },
  {
   "cell_type": "markdown",
   "id": "8e74407a-6ddd-4a31-82d3-f276d8692260",
   "metadata": {
    "jp-MarkdownHeadingCollapsed": true
   },
   "source": [
    "###### **Planar curve case**"
   ]
  },
  {
   "cell_type": "code",
   "execution_count": 4,
   "id": "521b4425-3ab0-4b1d-a16b-b6888dbc04d1",
   "metadata": {},
   "outputs": [],
   "source": [
    "L5 = A2[3][1][0]\n",
    "P6 = A2[3][1][1]\n",
    "fR = L5.parent().change_ring(B.fraction_field())\n",
    "L5, P6 = fR(L5), fR(P6)"
   ]
  },
  {
   "cell_type": "code",
   "execution_count": 5,
   "id": "54ba5772-fa5c-4ca8-b43e-6ac96eb216b6",
   "metadata": {},
   "outputs": [],
   "source": [
    "L5_l, P6_m = spectral_operators(L5, P6)"
   ]
  },
  {
   "cell_type": "code",
   "execution_count": 6,
   "id": "6a99eb98-61ff-4a48-981e-f688f8b0fb92",
   "metadata": {},
   "outputs": [],
   "source": [
    "l,m = L5_l.parent().base().base().gens()[1:]"
   ]
  },
  {
   "cell_type": "code",
   "execution_count": 7,
   "id": "b8a76fe6-a762-4592-bfbd-8a64600710f5",
   "metadata": {},
   "outputs": [
    {
     "data": {
      "text/plain": [
       "(lambda_^6 - mu^5)"
      ]
     },
     "execution_count": 7,
     "metadata": {},
     "output_type": "execute_result"
    }
   ],
   "source": [
    "L5_l.sylvester_resultant(P6_m)"
   ]
  },
  {
   "cell_type": "code",
   "execution_count": 8,
   "id": "9a39b5cd-55e3-4403-9c90-954cac7e2520",
   "metadata": {},
   "outputs": [
    {
     "data": {
      "image/png": "[encoded data removed]",
      "text/plain": [
       "Graphics object consisting of 1 graphics primitive"
      ]
     },
     "execution_count": 8,
     "metadata": {},
     "output_type": "execute_result"
    }
   ],
   "source": [
    "t1,t2 = var(\"t1,t2\")\n",
    "implicit_plot(t1^6 - t2^5, (t1,-1,1), (t2,0,1))"
   ]
  },
  {
   "cell_type": "markdown",
   "id": "34a146b6-f52b-4d6a-a8d0-06c008b43cf7",
   "metadata": {},
   "source": [
    "With this spectral curve, we can see that $(\\zeta_6^i, 1)$ with $i=0,\\ldots,5$ and $(1, \\zeta_5^j)$ for $j=0,\\ldots4$ are different points of the curve (getting a total of 10 different points)"
   ]
  },
  {
   "cell_type": "markdown",
   "id": "0f30e3a4-a804-44fb-a8f9-9ee2a15f6ba6",
   "metadata": {
    "jp-MarkdownHeadingCollapsed": true
   },
   "source": [
    "###### **Spacial curve case**"
   ]
  },
  {
   "cell_type": "code",
   "execution_count": 9,
   "id": "0f1ca228-bc17-4a03-bdda-28449010f95c",
   "metadata": {},
   "outputs": [],
   "source": [
    "L5 = A3[9][1][0]\n",
    "P6 = A3[9][1][1]\n",
    "P8 = A3[9][1][3](c_6=0)\n",
    "fR = L5.parent().change_ring(B.fraction_field())\n",
    "L5, P6, P8 = fR(L5), fR(P6), fR(P8)"
   ]
  },
  {
   "cell_type": "code",
   "execution_count": 10,
   "id": "14d108f2-fdb2-49a7-9674-c8fa933b14f7",
   "metadata": {},
   "outputs": [],
   "source": [
    "L5_l, P6_m, P8_n = spectral_operators(L5, P6, P8)"
   ]
  },
  {
   "cell_type": "code",
   "execution_count": 55,
   "id": "df52437e-d172-4533-af9d-100a27f24471",
   "metadata": {},
   "outputs": [
    {
     "data": {
      "text/plain": [
       "(lambda_^6 - mu^5)"
      ]
     },
     "execution_count": 55,
     "metadata": {},
     "output_type": "execute_result"
    }
   ],
   "source": [
    "p1 = L5_l.sylvester_resultant(P6_m); p1"
   ]
  },
  {
   "cell_type": "code",
   "execution_count": 56,
   "id": "bd4de8f8-2301-4680-bac4-3f3fb91e54b5",
   "metadata": {},
   "outputs": [
    {
     "data": {
      "text/plain": [
       "(lambda_^8 - nu^5)"
      ]
     },
     "execution_count": 56,
     "metadata": {},
     "output_type": "execute_result"
    }
   ],
   "source": [
    "p2 = L5_l.sylvester_resultant(P8_n); p2"
   ]
  },
  {
   "cell_type": "code",
   "execution_count": 57,
   "id": "7e8964e0-c285-4b0e-b6e6-169a7909c3b8",
   "metadata": {},
   "outputs": [
    {
     "data": {
      "text/plain": [
       "(mu^8 - 2*mu^4*nu^3 + nu^6)"
      ]
     },
     "execution_count": 57,
     "metadata": {},
     "output_type": "execute_result"
    }
   ],
   "source": [
    "p3 = P6_m.sylvester_resultant(P8_n); p3"
   ]
  },
  {
   "cell_type": "code",
   "execution_count": 58,
   "id": "afb0f249-e93a-4af1-bf7b-1ec8bb032c21",
   "metadata": {},
   "outputs": [
    {
     "name": "stdout",
     "output_type": "stream",
     "text": [
      "mu^8 - 2*mu^4*nu^3 + nu^6\n"
     ]
    },
    {
     "data": {
      "text/plain": [
       "Ideal (lambda_^6 - mu^5, lambda_^8 - nu^5, -mu^4 + nu^3) of Multivariate Polynomial Ring in x, lambda_, mu, nu over Rational Field"
      ]
     },
     "execution_count": 58,
     "metadata": {},
     "output_type": "execute_result"
    }
   ],
   "source": [
    "## Converting equations to algebraic\n",
    "p1 = p1.parent().base().base().wrapped(p1)\n",
    "p2 = p2.parent().base().base().wrapped(p2)\n",
    "p3 = p3.parent().base().base().wrapped(p3); print(p3)\n",
    "p3 = p3.factor()[0][0]\n",
    "I = ideal(p1,p2,p3); I"
   ]
  },
  {
   "cell_type": "code",
   "execution_count": 59,
   "id": "fe30d685-0158-41c7-a4e2-d1316de710da",
   "metadata": {},
   "outputs": [
    {
     "data": {
      "text/plain": [
       "[lambda_^4*nu^5 - mu^2*nu^6, mu^3*nu^5 - lambda_^2*nu^6, lambda_^6 - mu*nu^3, lambda_^2*mu*nu^3 - nu^5, mu^4 - nu^3]"
      ]
     },
     "execution_count": 59,
     "metadata": {},
     "output_type": "execute_result"
    }
   ],
   "source": [
    "I.groebner_basis()"
   ]
  },
  {
   "cell_type": "markdown",
   "id": "d42e4d10-1ef8-40a4-a9a2-0ef4b3bab794",
   "metadata": {
    "jp-MarkdownHeadingCollapsed": true
   },
   "source": [
    "###### **All possible generators case**"
   ]
  },
  {
   "cell_type": "code",
   "execution_count": 67,
   "id": "2d9110dc-80be-40a1-8896-334d14813323",
   "metadata": {},
   "outputs": [],
   "source": [
    "L5 = A5[5][1][0]\n",
    "P6 = A5[5][1][1]\n",
    "P7 = A5[5][1][2]\n",
    "P8 = A5[5][1][3]\n",
    "P9 = A5[5][1][4]"
   ]
  },
  {
   "cell_type": "code",
   "execution_count": 73,
   "id": "039249ca-87aa-47c6-bd47-b90201ff24ec",
   "metadata": {},
   "outputs": [],
   "source": [
    "L5_l, P6_m, P7_n, P8_p, P9_z = spectral_operators(L5, P6, P7, P8, P9)"
   ]
  },
  {
   "cell_type": "code",
   "execution_count": 104,
   "id": "ce4f072f-f67b-47d4-bf2d-af45104784e2",
   "metadata": {},
   "outputs": [
    {
     "name": "stdout",
     "output_type": "stream",
     "text": [
      "0 -> lambda_^6 - mu^5\n",
      "1 -> -c_6^5*lambda_^6 - 5*c_6^3*lambda_^5*nu - lambda_^7 - 5*c_6*lambda_^4*nu^2 + nu^5\n",
      "2 -> c_7^5*lambda_^7 + c_6^5*lambda_^6 - 5*c_6*c_7^3*lambda_^7 + 5*c_6^2*c_7*lambda_^7 + 5*c_6^3*c_7*lambda_^5*psi - 5*c_7^2*lambda_^6*psi + 5*c_6*c_7^2*lambda_^4*psi^2 + lambda_^8 + 5*c_6*lambda_^6*psi + 5*c_6^2*lambda_^4*psi^2 + 5*c_7*lambda_^3*psi^3 - psi^5\n",
      "3 -> -c_8^5*lambda_^8 - c_7^5*lambda_^7 + 5*c_6*c_7^3*c_8*lambda_^7 - 5*c_6^2*c_7*c_8^2*lambda_^7 + 5*c_7*c_8^3*lambda_^8 - c_6^5*lambda_^6 - 5*c_6^2*c_7^2*lambda_^7 + 5*c_6^3*c_8*lambda_^7 - 5*c_7^2*c_8*lambda_^8 - 5*c_6*c_8^2*lambda_^8 + 5*c_7^2*c_8^2*lambda_^6*zeta - 5*c_6*c_8^3*lambda_^6*zeta + 5*c_6*c_7*lambda_^8 - 5*c_6^3*c_7*lambda_^5*zeta - 5*c_7^3*lambda_^6*zeta - 5*c_6*c_7*c_8*lambda_^6*zeta - lambda_^9 + 5*c_6^2*lambda_^6*zeta - 5*c_8*lambda_^7*zeta - 5*c_6*c_7^2*lambda_^4*zeta^2 - 5*c_6^2*c_8*lambda_^4*zeta^2 - 5*c_8^2*lambda_^5*zeta^2 - 5*c_7*lambda_^5*zeta^2 - 5*c_7*c_8*lambda_^3*zeta^3 - 5*c_6*lambda_^3*zeta^3 + zeta^5\n"
     ]
    }
   ],
   "source": [
    "## We compute the equations from L, P_i and convert to algebraic setting\n",
    "equs = [L5_l.sylvester_resultant(p) for p in [P6_m, P7_n, P8_p, P9_z]]\n",
    "fR = equs[0].parent().base().base().wrapped\n",
    "equs = [fR(p) for p in equs]\n",
    "used_vars = list(set(sum((p.variables() for p in equs), tuple())))\n",
    "fR = fR.remove_var(*[v for v in fR.gens() if v not in used_vars])\n",
    "equs = [fR(p) for p in equs]\n",
    "for i,p in enumerate(equs):\n",
    "    print(i, \"->\", p)"
   ]
  },
  {
   "cell_type": "code",
   "execution_count": 92,
   "id": "5d7cded1-5ff2-4fab-84c5-e232c8b72f0c",
   "metadata": {},
   "outputs": [
    {
     "data": {
      "text/plain": [
       "\u001b[0;31mDocstring:\u001b[0m     \n",
       "   Remove a variable or sequence of variables from \"self\".\n",
       "\n",
       "   If \"order\" is not specified, then the subring inherits the term\n",
       "   order of the original ring, if possible.\n",
       "\n",
       "   EXAMPLES:\n",
       "\n",
       "      sage: P.<x,y,z,w> = PolynomialRing(ZZ)\n",
       "      sage: P.remove_var(z)\n",
       "      Multivariate Polynomial Ring in x, y, w over Integer Ring\n",
       "      sage: P.remove_var(z, x)\n",
       "      Multivariate Polynomial Ring in y, w over Integer Ring\n",
       "      sage: P.remove_var(y, z, x)\n",
       "      Univariate Polynomial Ring in w over Integer Ring\n",
       "\n",
       "   Removing all variables results in the base ring:\n",
       "\n",
       "      sage: P.remove_var(y, z, x, w)\n",
       "      Integer Ring\n",
       "\n",
       "   If possible, the term order is kept:\n",
       "\n",
       "      sage: R.<x,y,z,w> = PolynomialRing(ZZ, order='deglex')\n",
       "      sage: R.remove_var(y).term_order()\n",
       "      Degree lexicographic term order\n",
       "\n",
       "      sage: R.<x,y,z,w> = PolynomialRing(ZZ, order='lex')\n",
       "      sage: R.remove_var(y).term_order()\n",
       "      Lexicographic term order\n",
       "\n",
       "   Be careful with block orders when removing variables:\n",
       "\n",
       "      sage: R.<x,y,z,u,v> = PolynomialRing(ZZ, order='deglex(2),lex(3)')\n",
       "      sage: R.remove_var(x, y, z)\n",
       "      Traceback (most recent call last):\n",
       "      ...\n",
       "      ValueError: impossible to use the original term order (most\n",
       "      likely because it was a block order). Please specify the term\n",
       "      order for the subring\n",
       "      sage: R.remove_var(x,y,z, order='degrevlex')\n",
       "      Multivariate Polynomial Ring in u, v over Integer Ring\n",
       "\u001b[0;31mInit docstring:\u001b[0m Initialize self.  See help(type(self)) for accurate signature.\n",
       "\u001b[0;31mFile:\u001b[0m           ~/sage/sage/src/sage/rings/polynomial/multi_polynomial_ring_base.pyx\n",
       "\u001b[0;31mType:\u001b[0m           builtin_function_or_method"
      ]
     },
     "metadata": {},
     "output_type": "display_data"
    }
   ],
   "source": [
    "fR.remove_var?"
   ]
  },
  {
   "cell_type": "code",
   "execution_count": null,
   "id": "1b8d4ae5-3df3-41a0-a0b0-f148cd206ffb",
   "metadata": {},
   "outputs": [],
   "source": []
  }
 ],
 "metadata": {
  "kernelspec": {
   "display_name": "SageMath 10.4.rc1",
   "language": "sage",
   "name": "sagemath"
  },
  "language_info": {
   "codemirror_mode": {
    "name": "ipython",
    "version": 3
   },
   "file_extension": ".py",
   "mimetype": "text/x-python",
   "name": "python",
   "nbconvert_exporter": "python",
   "pygments_lexer": "ipython3",
   "version": "3.10.12"
  }
 },
 "nbformat": 4,
 "nbformat_minor": 5
}
