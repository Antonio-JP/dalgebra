{
 "cells": [
  {
   "cell_type": "code",
   "execution_count": 1,
   "metadata": {},
   "outputs": [],
   "source": [
    "%display latex\n",
    "from dalgebra import *"
   ]
  },
  {
   "cell_type": "markdown",
   "metadata": {},
   "source": [
    "### Small example on how to use `dalgebra`\n",
    "\n",
    "In this notebook I portrait how to use the package `dalgebra` to compute differential resultants and, as we will see, sometimes solve some differential systems.\n",
    "\n",
    "The system we are goind to study in this notebook is the following:\n",
    "$$\\left\\{\\begin{array}{ll}\n",
    "    xu+x2u′′−(1−x)v & =0,\\\\\n",
    "    v′−v′′+u′ & =0\n",
    "\\end{array}\\right.$$\n",
    "where $x$ is the standard variable (i.e., $x′=1$) and the variables $u$ and $v$ are differential variables that can be considered as functions on $x$ (i.e., $u=u(x)$ and $v=v(x)$).\n",
    "\n",
    "##### 1. Building the main ring for representing the system\n",
    "\n",
    "Using `dalgebra` we can easily create the ring of differential polynomials required to represent the system with the following syntax:"
   ]
  },
  {
   "cell_type": "code",
   "execution_count": 2,
   "metadata": {},
   "outputs": [
    {
     "data": {
      "text/html": [
       "<html>\\(\\displaystyle \\newcommand{\\Bold}[1]{\\mathbf{#1}}\\left(\\Bold{Q}[x], \\frac{d}{dx}\\right) \\{ u, v \\}\\)</html>"
      ],
      "text/latex": [
       "$\\displaystyle \\newcommand{\\Bold}[1]{\\mathbf{#1}}\\left(\\Bold{Q}[x], \\frac{d}{dx}\\right) \\{ u, v \\}$"
      ],
      "text/plain": [
       "Ring of operator polynomials in (u, v) over Differential Ring [[Univariate Polynomial Ring in x over Rational Field], (d/dx,)]"
      ]
     },
     "execution_count": 2,
     "metadata": {},
     "output_type": "execute_result"
    }
   ],
   "source": [
    "R.<u,v> = DifferentialPolynomialRing(QQ[x])\n",
    "x = R.base().gens()[0]\n",
    "R"
   ]
  },
  {
   "cell_type": "markdown",
   "metadata": {},
   "source": [
    "Where now the variable `R` represent the ring of differential polynomials on the variables $u$ and $v$ with coefficients in the polynomial ring $Q[x]$.\n",
    "\n",
    "#### 2. Building the differential system\n",
    "\n",
    "We can now use the variables `u` and `v` to create the variables $u(x)$\n",
    "and $v(x)$ and all its derivatives. For doing so, we use the syntax `u[i]` to create the $i$-th derivative of the function $u(x)$."
   ]
  },
  {
   "cell_type": "code",
   "execution_count": 3,
   "metadata": {},
   "outputs": [
    {
     "data": {
      "text/html": [
       "<html>\\(\\displaystyle x^{2} u_{2} + x u_{0} + \\left(x - 1\\right) v_{0}\\)</html>"
      ],
      "text/latex": [
       "$\\displaystyle x^{2} u_{2} + x u_{0} + \\left(x - 1\\right) v_{0}$"
      ],
      "text/plain": [
       "x^2*u_2 + x*u_0 + (x - 1)*v_0"
      ]
     },
     "execution_count": 3,
     "metadata": {},
     "output_type": "execute_result"
    }
   ],
   "source": [
    "f1 = x*u[0] + x^2*u[2] - (1-x)*v[0]\n",
    "f1"
   ]
  },
  {
   "cell_type": "code",
   "execution_count": 4,
   "metadata": {},
   "outputs": [
    {
     "data": {
      "text/html": [
       "<html>\\(\\displaystyle 1 u_{1} - v_{2} + 1 v_{1}\\)</html>"
      ],
      "text/latex": [
       "$\\displaystyle 1 u_{1} - v_{2} + 1 v_{1}$"
      ],
      "text/plain": [
       "u_1 - v_2 + v_1"
      ]
     },
     "execution_count": 4,
     "metadata": {},
     "output_type": "execute_result"
    }
   ],
   "source": [
    "f2 = v[1]-v[2]+u[1]\n",
    "f2"
   ]
  },
  {
   "cell_type": "markdown",
   "metadata": {},
   "source": [
    "Now we need to create the system itself. This is done with the class `DifferentialSystem`:"
   ]
  },
  {
   "cell_type": "code",
   "execution_count": 5,
   "metadata": {},
   "outputs": [
    {
     "data": {
      "text/html": [
       "<html>\\(\\displaystyle \\newcommand{\\Bold}[1]{\\mathbf{#1}}\\text{System over } \\left(\\Bold{Q}[x], \\frac{d}{dx}\\right) \\{ u, v \\} \\text{ with variables } u_{\\ast}, v_{\\ast} :\n",
       "\n",
       " \\left\\{\\begin{array}{ll} x^{2} u_{2} + x u_{0} + \\left(x - 1\\right) v_{0} & = 0 \\\\\n",
       "1 u_{1} - v_{2} + 1 v_{1} & = 0 \\\\ \n",
       "\\end{array}\\right.\\)</html>"
      ],
      "text/latex": [
       "$\\displaystyle \\newcommand{\\Bold}[1]{\\mathbf{#1}}\\text{System over } \\left(\\Bold{Q}[x], \\frac{d}{dx}\\right) \\{ u, v \\} \\text{ with variables } u_{\\ast}, v_{\\ast} :\n",
       "\n",
       " \\left\\{\\begin{array}{ll} x^{2} u_{2} + x u_{0} + \\left(x - 1\\right) v_{0} & = 0 \\\\\n",
       "1 u_{1} - v_{2} + 1 v_{1} & = 0 \\\\ \n",
       "\\end{array}\\right.$"
      ],
      "text/plain": [
       "System over [Ring of operator polynomials in (u, v) over Differential Ring [[Univariate Polynomial Ring in x over Rational Field], (d/dx,)]] with variables [(u_*, v_*)]:\n",
       "{\n",
       "\tx^2*u_2 + x*u_0 + (x - 1)*v_0 == 0\n",
       "\tu_1 - v_2 + v_1 == 0\n",
       "}"
      ]
     },
     "execution_count": 5,
     "metadata": {},
     "output_type": "execute_result"
    }
   ],
   "source": [
    "DifferentialSystem([f1,f2])"
   ]
  },
  {
   "cell_type": "markdown",
   "metadata": {},
   "source": [
    "However, this is not the most useful for solving the system, since the elimination by resultant requires to fix one of the variables as main variables. This is done with the optional parameter variables of the constructor of `DifferentialSystem`:"
   ]
  },
  {
   "cell_type": "code",
   "execution_count": 6,
   "metadata": {},
   "outputs": [
    {
     "data": {
      "text/html": [
       "<html>\\(\\displaystyle \\newcommand{\\Bold}[1]{\\mathbf{#1}}\\text{System over } \\left(\\Bold{Q}[x], \\frac{d}{dx}\\right) \\{ u, v \\} \\text{ with variables } u_{\\ast} :\n",
       "\n",
       " \\left\\{\\begin{array}{ll} x^{2} u_{2} + x u_{0} + \\left(x - 1\\right) v_{0} & = 0 \\\\\n",
       "1 u_{1} - v_{2} + 1 v_{1} & = 0 \\\\ \n",
       "\\end{array}\\right.\\)</html>"
      ],
      "text/latex": [
       "$\\displaystyle \\newcommand{\\Bold}[1]{\\mathbf{#1}}\\text{System over } \\left(\\Bold{Q}[x], \\frac{d}{dx}\\right) \\{ u, v \\} \\text{ with variables } u_{\\ast} :\n",
       "\n",
       " \\left\\{\\begin{array}{ll} x^{2} u_{2} + x u_{0} + \\left(x - 1\\right) v_{0} & = 0 \\\\\n",
       "1 u_{1} - v_{2} + 1 v_{1} & = 0 \\\\ \n",
       "\\end{array}\\right.$"
      ],
      "text/plain": [
       "System over [Ring of operator polynomials in (u, v) over Differential Ring [[Univariate Polynomial Ring in x over Rational Field], (d/dx,)]] with variables [(u_*,)]:\n",
       "{\n",
       "\tx^2*u_2 + x*u_0 + (x - 1)*v_0 == 0\n",
       "\tu_1 - v_2 + v_1 == 0\n",
       "}"
      ]
     },
     "execution_count": 6,
     "metadata": {},
     "output_type": "execute_result"
    }
   ],
   "source": [
    "system = DifferentialSystem([f1,f2], variables=[u])\n",
    "system"
   ]
  },
  {
   "cell_type": "markdown",
   "metadata": {},
   "source": [
    "#### 3. Extending the system by derivation\n",
    "\n",
    "The key to apply algebraic techniques to a differential system is to extend the system by derivations. In terms of differential ideals, we are taking other elements in the differential ideal to have extra information for solving the system.\n",
    "\n",
    "In the package `dalgebra` we offer the methods `extend_by_derivation` or `build_sp1` to do so. We need to provide a list of integers saying the extension for each equation of the system.\n",
    "\n",
    "The output for these methods is a new `DifferentialSystem` with more equations."
   ]
  },
  {
   "cell_type": "code",
   "execution_count": 7,
   "metadata": {},
   "outputs": [
    {
     "data": {
      "text/html": [
       "<html>\\(\\displaystyle \\newcommand{\\Bold}[1]{\\mathbf{#1}}\\text{System over } \\left(\\Bold{Q}[x], \\frac{d}{dx}\\right) \\{ u, v \\} \\text{ with variables } u_{\\ast} :\n",
       "\n",
       " \\left\\{\\begin{array}{ll} x^{2} u_{2} + x u_{0} + \\left(x - 1\\right) v_{0} & = 0 \\\\\n",
       "x^{2} u_{3} + \\left(2 x\\right) u_{2} + x u_{1} + 1 u_{0} + \\left(x - 1\\right) v_{1} + 1 v_{0} & = 0 \\\\\n",
       "1 u_{1} - v_{2} + 1 v_{1} & = 0 \\\\\n",
       "1 u_{2} - v_{3} + 1 v_{2} & = 0 \\\\\n",
       "1 u_{3} - v_{4} + 1 v_{3} & = 0 \\\\\n",
       "1 u_{4} - v_{5} + 1 v_{4} & = 0 \\\\ \n",
       "\\end{array}\\right.\\)</html>"
      ],
      "text/latex": [
       "$\\displaystyle \\newcommand{\\Bold}[1]{\\mathbf{#1}}\\text{System over } \\left(\\Bold{Q}[x], \\frac{d}{dx}\\right) \\{ u, v \\} \\text{ with variables } u_{\\ast} :\n",
       "\n",
       " \\left\\{\\begin{array}{ll} x^{2} u_{2} + x u_{0} + \\left(x - 1\\right) v_{0} & = 0 \\\\\n",
       "x^{2} u_{3} + \\left(2 x\\right) u_{2} + x u_{1} + 1 u_{0} + \\left(x - 1\\right) v_{1} + 1 v_{0} & = 0 \\\\\n",
       "1 u_{1} - v_{2} + 1 v_{1} & = 0 \\\\\n",
       "1 u_{2} - v_{3} + 1 v_{2} & = 0 \\\\\n",
       "1 u_{3} - v_{4} + 1 v_{3} & = 0 \\\\\n",
       "1 u_{4} - v_{5} + 1 v_{4} & = 0 \\\\ \n",
       "\\end{array}\\right.$"
      ],
      "text/plain": [
       "System over [Ring of operator polynomials in (u, v) over Differential Ring [[Univariate Polynomial Ring in x over Rational Field], (d/dx,)]] with variables [(u_*,)]:\n",
       "{\n",
       "\tx^2*u_2 + x*u_0 + (x - 1)*v_0 == 0\n",
       "\tx^2*u_3 + 2*x*u_2 + x*u_1 + u_0 + (x - 1)*v_1 + v_0 == 0\n",
       "\tu_1 - v_2 + v_1 == 0\n",
       "\tu_2 - v_3 + v_2 == 0\n",
       "\tu_3 - v_4 + v_3 == 0\n",
       "\tu_4 - v_5 + v_4 == 0\n",
       "}"
      ]
     },
     "execution_count": 7,
     "metadata": {},
     "output_type": "execute_result"
    }
   ],
   "source": [
    "system.extend_by_derivation([1,3])"
   ]
  },
  {
   "cell_type": "markdown",
   "metadata": {},
   "source": [
    "#### 4. Checking the amount of algebraic elements\n",
    "\n",
    "Once we have an extended system, we need to get the condition **SP2** from the paper in order to compute an algebraic resultant to the system. This condition requires to look each of the derivatives of $u(x)$ and $v(x)$\n",
    "as independent algebraic variables, count them and check we have the appropriate number of variables.\n",
    "\n",
    "This can be checked in the code with the methods:\n",
    "\n",
    "* `algebraic_equations`: return the equations of the system but considered as simply polynomials (with no differential structured attached). The polynomials are organized with the main variables (given when creating the system) in the top level, and all other variables in a lower level.\n",
    "* `algebraic_variables`: return the variables of the system (given when we created the system) that show up in the equations of the system.\n",
    "* `is_sp2`: check that the number of equations is the number of algebraic variables plus one."
   ]
  },
  {
   "cell_type": "code",
   "execution_count": 8,
   "metadata": {},
   "outputs": [
    {
     "data": {
      "text/html": [
       "<html>\\(\\displaystyle \\newcommand{\\Bold}[1]{\\mathbf{#1}}\\text{System over } \\left(\\Bold{Q}[x], \\frac{d}{dx}\\right) \\{ u, v \\} \\text{ with variables } u_{\\ast} :\n",
       "\n",
       " \\left\\{\\begin{array}{ll} x^{2} u_{2} + x u_{0} + \\left(x - 1\\right) v_{0} & = 0 \\\\\n",
       "1 u_{1} - v_{2} + 1 v_{1} & = 0 \\\\ \n",
       "\\end{array}\\right.\\)</html>"
      ],
      "text/latex": [
       "$\\displaystyle \\newcommand{\\Bold}[1]{\\mathbf{#1}}\\text{System over } \\left(\\Bold{Q}[x], \\frac{d}{dx}\\right) \\{ u, v \\} \\text{ with variables } u_{\\ast} :\n",
       "\n",
       " \\left\\{\\begin{array}{ll} x^{2} u_{2} + x u_{0} + \\left(x - 1\\right) v_{0} & = 0 \\\\\n",
       "1 u_{1} - v_{2} + 1 v_{1} & = 0 \\\\ \n",
       "\\end{array}\\right.$"
      ],
      "text/plain": [
       "System over [Ring of operator polynomials in (u, v) over Differential Ring [[Univariate Polynomial Ring in x over Rational Field], (d/dx,)]] with variables [(u_*,)]:\n",
       "{\n",
       "\tx^2*u_2 + x*u_0 + (x - 1)*v_0 == 0\n",
       "\tu_1 - v_2 + v_1 == 0\n",
       "}"
      ]
     },
     "execution_count": 8,
     "metadata": {},
     "output_type": "execute_result"
    }
   ],
   "source": [
    "system"
   ]
  },
  {
   "cell_type": "code",
   "execution_count": 9,
   "metadata": {},
   "outputs": [
    {
     "data": {
      "text/html": [
       "<html>\\(\\displaystyle \\left(1 u_{0}, 1 u_{1}, 1 u_{2}\\right)\\)</html>"
      ],
      "text/latex": [
       "$\\displaystyle \\left(1 u_{0}, 1 u_{1}, 1 u_{2}\\right)$"
      ],
      "text/plain": [
       "(u_0, u_1, u_2)"
      ]
     },
     "execution_count": 9,
     "metadata": {},
     "output_type": "execute_result"
    }
   ],
   "source": [
    "system.algebraic_variables()"
   ]
  },
  {
   "cell_type": "code",
   "execution_count": 10,
   "metadata": {},
   "outputs": [
    {
     "data": {
      "text/html": [
       "<html>\\(\\displaystyle \\left(1 u_{0}, 1 u_{1}, 1 u_{2}, 1 u_{3}\\right)\\)</html>"
      ],
      "text/latex": [
       "$\\displaystyle \\left(1 u_{0}, 1 u_{1}, 1 u_{2}, 1 u_{3}\\right)$"
      ],
      "text/plain": [
       "(u_0, u_1, u_2, u_3)"
      ]
     },
     "execution_count": 10,
     "metadata": {},
     "output_type": "execute_result"
    }
   ],
   "source": [
    "system.extend_by_derivation([1,2]).algebraic_variables()"
   ]
  },
  {
   "cell_type": "code",
   "execution_count": 11,
   "metadata": {},
   "outputs": [
    {
     "data": {
      "text/html": [
       "<html>\\(\\displaystyle 5\\)</html>"
      ],
      "text/latex": [
       "$\\displaystyle 5$"
      ],
      "text/plain": [
       "5"
      ]
     },
     "execution_count": 11,
     "metadata": {},
     "output_type": "execute_result"
    }
   ],
   "source": [
    "system.extend_by_derivation([1,2]).size()"
   ]
  },
  {
   "cell_type": "code",
   "execution_count": 12,
   "metadata": {},
   "outputs": [
    {
     "data": {
      "text/html": [
       "<html>\\(\\displaystyle \\mathrm{True}\\)</html>"
      ],
      "text/latex": [
       "$\\displaystyle \\mathrm{True}$"
      ],
      "text/plain": [
       "True"
      ]
     },
     "execution_count": 12,
     "metadata": {},
     "output_type": "execute_result"
    }
   ],
   "source": [
    "system.extend_by_derivation([1,2]).is_sp2()"
   ]
  },
  {
   "cell_type": "markdown",
   "metadata": {},
   "source": [
    "#### 5. Computing the differential resultant\n",
    "\n",
    "Putting all the previous methods together, we can then use a resultant formula to obtain the differential resultant of the system. The method differential_resultant work as follows:\n",
    "\n",
    "1. Tries to extend the system to satisfy condition **SP2**. The limit for extension is given by a bound in the algorithm ($10$ by default).\n",
    "2. Computes the algebraic resultant of the extended system. This can be done right now using the code for *Macaulay resultant* from Sage."
   ]
  },
  {
   "cell_type": "code",
   "execution_count": 13,
   "metadata": {},
   "outputs": [
    {
     "data": {
      "text/html": [
       "<html>\\(\\displaystyle \\left(-x^{3}\\right) v_{4} + \\left(x^{3} - x^{2}\\right) v_{3} + x v_{1} - v_{0}\\)</html>"
      ],
      "text/latex": [
       "$\\displaystyle \\left(-x^{3}\\right) v_{4} + \\left(x^{3} - x^{2}\\right) v_{3} + x v_{1} - v_{0}$"
      ],
      "text/plain": [
       "(-x^3)*v_4 + (x^3 - x^2)*v_3 + x*v_1 - v_0"
      ]
     },
     "execution_count": 13,
     "metadata": {},
     "output_type": "execute_result"
    }
   ],
   "source": [
    "system.diff_resultant(alg_res=\"macaulay\")"
   ]
  },
  {
   "cell_type": "markdown",
   "metadata": {},
   "source": [
    "#### 6. Solving the system\n",
    "\n",
    "Once we have the differential resultant, we had eliminated the variable $u$ and obtained a linear differential equation for $v(x)$ in the same differential ideal. We can solve this equation with any tool and then plug it to the original system to obtain a differential equation for $u(x)$ and solve it too.\n",
    "\n",
    "To illustrate how we could do this, I use the package `dd_functions` to represent the solutions to linear differential equations."
   ]
  },
  {
   "cell_type": "code",
   "execution_count": 14,
   "metadata": {},
   "outputs": [
    {
     "data": {
      "text/html": [
       "<html>\\(\\displaystyle \\left\\{\\begin{array}{c}\n",
       "\\left( -x^{3} \\right) f^{(4)}(x) + \\left( x^{3} - x^{2} \\right) f^{(3)}(x) + \\left( x \\right) f'(x) - f(x) = 0,\\\\\n",
       "\\hdashline\n",
       "f(0) = 0, f'(0) = a, f''(0) = b, f^{(3)}(0) = \\frac{1}{2} b, f^{(4)}(0) = \\frac{1}{3} b\\end{array}\\right.\\)</html>"
      ],
      "text/latex": [
       "$\\displaystyle \\left\\{\\begin{array}{c}\n",
       "\\left( -x^{3} \\right) f^{(4)}(x) + \\left( x^{3} - x^{2} \\right) f^{(3)}(x) + \\left( x \\right) f'(x) - f(x) = 0,\\\\\n",
       "\\hdashline\n",
       "f(0) = 0, f'(0) = a, f''(0) = b, f^{(3)}(0) = \\frac{1}{2} b, f^{(4)}(0) = \\frac{1}{3} b\\end{array}\\right.$"
      ],
      "text/plain": [
       "(4:4:15)DD-Function in (DD-Ring over (Univariate Polynomial Ring in x over Rational Field) with parameters (b, a))"
      ]
     },
     "execution_count": 14,
     "metadata": {},
     "output_type": "execute_result"
    }
   ],
   "source": [
    "from ajpastor.dd_functions import *\n",
    "DFiniteAB = ParametrizedDDRing(DFinite, ['a','b'])\n",
    "a = DFiniteAB.parameter('a'); b = DFiniteAB.parameter('b')\n",
    "sol_v = DFiniteAB.element([-1, x, 0, x^3-x^2, -x^3],[0,a,b])\n",
    "sol_v"
   ]
  },
  {
   "cell_type": "markdown",
   "metadata": {},
   "source": [
    "And now we use the second equation from our original system to create the element $u(x)$:"
   ]
  },
  {
   "cell_type": "code",
   "execution_count": 15,
   "metadata": {},
   "outputs": [
    {
     "data": {
      "text/html": [
       "<html>\\(\\displaystyle \\left\\{\\begin{array}{c}\n",
       "\\left( x^{4} \\right) f^{(8)}(x) + \\left( -2 x^{4} + 16 x^{3} \\right) f^{(7)}(x) + \\left( x^{4} - 28 x^{3} + 72 x^{2} \\right) f^{(6)}(x) + \\left( 12 x^{3} - 108 x^{2} + 96 x \\right) f^{(5)}(x) + \\left( 38 x^{2} - 120 x + 24 \\right) f^{(4)}(x) + \\left( 32 x - 24 \\right) f^{(3)}(x) + \\left( 4 \\right) f''(x) = 0,\\\\\n",
       "\\hdashline\n",
       "f(0) = 0, f'(0) = b - a, f''(0) = -\\frac{1}{2} b, f^{(3)}(0) = -\\frac{1}{6} b, f^{(4)}(0) = -\\frac{1}{12} b, f^{(5)}(0) = -\\frac{1}{20} b, f^{(6)}(0) = -\\frac{1}{30} b, f^{(7)}(0) = -\\frac{1}{42} b, f^{(8)}(0) = -\\frac{1}{56} b\\end{array}\\right.\\)</html>"
      ],
      "text/latex": [
       "$\\displaystyle \\left\\{\\begin{array}{c}\n",
       "\\left( x^{4} \\right) f^{(8)}(x) + \\left( -2 x^{4} + 16 x^{3} \\right) f^{(7)}(x) + \\left( x^{4} - 28 x^{3} + 72 x^{2} \\right) f^{(6)}(x) + \\left( 12 x^{3} - 108 x^{2} + 96 x \\right) f^{(5)}(x) + \\left( 38 x^{2} - 120 x + 24 \\right) f^{(4)}(x) + \\left( 32 x - 24 \\right) f^{(3)}(x) + \\left( 4 \\right) f''(x) = 0,\\\\\n",
       "\\hdashline\n",
       "f(0) = 0, f'(0) = b - a, f''(0) = -\\frac{1}{2} b, f^{(3)}(0) = -\\frac{1}{6} b, f^{(4)}(0) = -\\frac{1}{12} b, f^{(5)}(0) = -\\frac{1}{20} b, f^{(6)}(0) = -\\frac{1}{30} b, f^{(7)}(0) = -\\frac{1}{42} b, f^{(8)}(0) = -\\frac{1}{56} b\\end{array}\\right.$"
      ],
      "text/plain": [
       "(8:8:33)DD-Function in (DD-Ring over (Univariate Polynomial Ring in x over Rational Field) with parameters (b, a))"
      ]
     },
     "execution_count": 15,
     "metadata": {},
     "output_type": "execute_result"
    }
   ],
   "source": [
    "sol_u = DFiniteAB.element([0,1], inhomogeneous=sol_v.derivative(times=2) - sol_v.derivative())\n",
    "sol_u"
   ]
  },
  {
   "cell_type": "markdown",
   "metadata": {},
   "source": [
    "We can see the conditions on the parameters $a$ and $b$ to these two be also solutions of the first equation of the system:"
   ]
  },
  {
   "cell_type": "code",
   "execution_count": 16,
   "metadata": {},
   "outputs": [
    {
     "ename": "TypeError",
     "evalue": "Impossible to compute a pushout: generators not recognized found.\n\t- [x]",
     "output_type": "error",
     "traceback": [
      "\u001b[0;31m---------------------------------------------------------------------------\u001b[0m",
      "\u001b[0;31mTypeError\u001b[0m                                 Traceback (most recent call last)",
      "Input \u001b[0;32mIn [16]\u001b[0m, in \u001b[0;36m<cell line: 1>\u001b[0;34m()\u001b[0m\n\u001b[0;32m----> 1\u001b[0m \u001b[43msystem\u001b[49m\u001b[38;5;241;43m.\u001b[39;49m\u001b[43mequation\u001b[49m\u001b[43m(\u001b[49m\u001b[43mInteger\u001b[49m\u001b[43m(\u001b[49m\u001b[38;5;241;43m0\u001b[39;49m\u001b[43m)\u001b[49m\u001b[43m)\u001b[49m\u001b[43m(\u001b[49m\u001b[43mu\u001b[49m\u001b[38;5;241;43m=\u001b[39;49m\u001b[43msol_u\u001b[49m\u001b[43m,\u001b[49m\u001b[43m \u001b[49m\u001b[43mv\u001b[49m\u001b[38;5;241;43m=\u001b[39;49m\u001b[43msol_v\u001b[49m\u001b[43m)\u001b[49m\n",
      "File \u001b[0;32m~/sage/local/lib/python3.10/site-packages/dalgebra/rwo_polynomial/rwo_polynomial_element.py:680\u001b[0m, in \u001b[0;36mRWOPolynomial.__call__\u001b[0;34m(self, *args, **kwargs)\u001b[0m\n\u001b[1;32m    637\u001b[0m \u001b[38;5;28;01mdef\u001b[39;00m \u001b[38;5;21m__call__\u001b[39m(\u001b[38;5;28mself\u001b[39m, \u001b[38;5;241m*\u001b[39margs, \u001b[38;5;241m*\u001b[39m\u001b[38;5;241m*\u001b[39mkwargs) \u001b[38;5;241m-\u001b[39m\u001b[38;5;241m>\u001b[39m RWOPolynomial:\n\u001b[1;32m    638\u001b[0m     \u001b[38;5;124mr\u001b[39m\u001b[38;5;124;03m'''\u001b[39;00m\n\u001b[1;32m    639\u001b[0m \u001b[38;5;124;03m        Override of the __call__ method. \u001b[39;00m\n\u001b[1;32m    640\u001b[0m \n\u001b[0;32m   (...)\u001b[0m\n\u001b[1;32m    678\u001b[0m \u001b[38;5;124;03m            Ring of operator polynomials in (a) over Differential Ring [[Univariate Polynomial Ring in x over Rational Field], (d/dx,)]\u001b[39;00m\n\u001b[1;32m    679\u001b[0m \u001b[38;5;124;03m    '''\u001b[39;00m\n\u001b[0;32m--> 680\u001b[0m     \u001b[38;5;28;01mreturn\u001b[39;00m \u001b[38;5;28;43mself\u001b[39;49m\u001b[38;5;241;43m.\u001b[39;49m\u001b[43mparent\u001b[49m\u001b[43m(\u001b[49m\u001b[43m)\u001b[49m\u001b[38;5;241;43m.\u001b[39;49m\u001b[43meval\u001b[49m\u001b[43m(\u001b[49m\u001b[38;5;28;43mself\u001b[39;49m\u001b[43m,\u001b[49m\u001b[43m \u001b[49m\u001b[38;5;241;43m*\u001b[39;49m\u001b[43margs\u001b[49m\u001b[43m,\u001b[49m\u001b[43m \u001b[49m\u001b[38;5;241;43m*\u001b[39;49m\u001b[38;5;241;43m*\u001b[39;49m\u001b[43mkwargs\u001b[49m\u001b[43m)\u001b[49m\n",
      "File \u001b[0;32m~/sage/local/lib/python3.10/site-packages/dalgebra/rwo_polynomial/rwo_polynomial_ring.py:537\u001b[0m, in \u001b[0;36mRWOPolynomialRing_dense.eval\u001b[0;34m(self, element, *args, **kwds)\u001b[0m\n\u001b[1;32m    535\u001b[0m R \u001b[38;5;241m=\u001b[39m RWOPolynomialRing(\u001b[38;5;28mself\u001b[39m\u001b[38;5;241m.\u001b[39mbase(), rem_names) \u001b[38;5;28;01mif\u001b[39;00m \u001b[38;5;28mlen\u001b[39m(rem_names) \u001b[38;5;241m>\u001b[39m \u001b[38;5;241m0\u001b[39m \u001b[38;5;28;01melse\u001b[39;00m \u001b[38;5;28mself\u001b[39m\u001b[38;5;241m.\u001b[39mbase()\n\u001b[1;32m    536\u001b[0m \u001b[38;5;28;01mfor\u001b[39;00m value \u001b[38;5;129;01min\u001b[39;00m final_input\u001b[38;5;241m.\u001b[39mvalues():\n\u001b[0;32m--> 537\u001b[0m     R \u001b[38;5;241m=\u001b[39m \u001b[43mpushout\u001b[49m\u001b[43m(\u001b[49m\u001b[43mR\u001b[49m\u001b[43m,\u001b[49m\u001b[43m \u001b[49m\u001b[43mparent\u001b[49m\u001b[43m(\u001b[49m\u001b[43mvalue\u001b[49m\u001b[43m)\u001b[49m\u001b[43m)\u001b[49m\n\u001b[1;32m    539\u001b[0m final_input \u001b[38;5;241m=\u001b[39m {key : R(value) \u001b[38;5;28;01mfor\u001b[39;00m key,value \u001b[38;5;129;01min\u001b[39;00m final_input\u001b[38;5;241m.\u001b[39mitems()} \u001b[38;5;66;03m# updating input to the output ring\u001b[39;00m\n\u001b[1;32m    541\u001b[0m \u001b[38;5;66;03m### Building the elements to be used in evaluation\u001b[39;00m\n",
      "File \u001b[0;32m~/sage/src/sage/categories/pushout.py:4156\u001b[0m, in \u001b[0;36mpushout\u001b[0;34m(R, S)\u001b[0m\n\u001b[1;32m   4153\u001b[0m         \u001b[38;5;28;01mreturn\u001b[39;00m P\n\u001b[1;32m   4155\u001b[0m \u001b[38;5;28;01mif\u001b[39;00m \u001b[38;5;28mhasattr\u001b[39m(S, \u001b[38;5;124m'\u001b[39m\u001b[38;5;124m_pushout_\u001b[39m\u001b[38;5;124m'\u001b[39m):\n\u001b[0;32m-> 4156\u001b[0m     P \u001b[38;5;241m=\u001b[39m \u001b[43mS\u001b[49m\u001b[38;5;241;43m.\u001b[39;49m\u001b[43m_pushout_\u001b[49m\u001b[43m(\u001b[49m\u001b[43mR\u001b[49m\u001b[43m)\u001b[49m\n\u001b[1;32m   4157\u001b[0m     \u001b[38;5;28;01mif\u001b[39;00m P \u001b[38;5;129;01mis\u001b[39;00m \u001b[38;5;129;01mnot\u001b[39;00m \u001b[38;5;28;01mNone\u001b[39;00m:\n\u001b[1;32m   4158\u001b[0m         \u001b[38;5;28;01mreturn\u001b[39;00m P\n",
      "File \u001b[0;32m~/sage/local/lib/python3.10/site-packages/ajpastor/dd_functions/ddFunction.py:550\u001b[0m, in \u001b[0;36mDDRing._pushout_\u001b[0;34m(self, S)\u001b[0m\n\u001b[1;32m    547\u001b[0m     \u001b[38;5;28;01mreturn\u001b[39;00m \u001b[38;5;28;01mNone\u001b[39;00m\n\u001b[1;32m    549\u001b[0m \u001b[38;5;28;01mif\u001b[39;00m(\u001b[38;5;28mlen\u001b[39m(gens_S[\u001b[38;5;124m'\u001b[39m\u001b[38;5;124mother\u001b[39m\u001b[38;5;124m'\u001b[39m]) \u001b[38;5;241m>\u001b[39m \u001b[38;5;241m0\u001b[39m  \u001b[38;5;129;01mor\u001b[39;00m \u001b[38;5;28mlen\u001b[39m(gens_self[\u001b[38;5;124m'\u001b[39m\u001b[38;5;124mother\u001b[39m\u001b[38;5;124m'\u001b[39m]) \u001b[38;5;241m>\u001b[39m \u001b[38;5;241m0\u001b[39m ):\n\u001b[0;32m--> 550\u001b[0m     \u001b[38;5;28;01mraise\u001b[39;00m \u001b[38;5;167;01mTypeError\u001b[39;00m(\u001b[38;5;124m\"\u001b[39m\u001b[38;5;124mImpossible to compute a pushout: generators not recognized found.\u001b[39m\u001b[38;5;130;01m\\n\u001b[39;00m\u001b[38;5;130;01m\\t\u001b[39;00m\u001b[38;5;124m- \u001b[39m\u001b[38;5;132;01m%s\u001b[39;00m\u001b[38;5;124m\"\u001b[39m \u001b[38;5;241m%\u001b[39m(\u001b[38;5;28mlist\u001b[39m(gens_S[\u001b[38;5;124m'\u001b[39m\u001b[38;5;124mother\u001b[39m\u001b[38;5;124m'\u001b[39m]) \u001b[38;5;241m+\u001b[39m \u001b[38;5;28mlist\u001b[39m(gens_self[\u001b[38;5;124m'\u001b[39m\u001b[38;5;124mother\u001b[39m\u001b[38;5;124m'\u001b[39m])))\n\u001b[1;32m    552\u001b[0m \u001b[38;5;66;03m##########################################\u001b[39;00m\n\u001b[1;32m    553\u001b[0m \u001b[38;5;66;03m## Compute the basic field F\u001b[39;00m\n\u001b[1;32m    554\u001b[0m \u001b[38;5;66;03m##########################################\u001b[39;00m\n\u001b[1;32m    555\u001b[0m \u001b[38;5;66;03m## Computing the original field\u001b[39;00m\n\u001b[1;32m    556\u001b[0m F \u001b[38;5;241m=\u001b[39m \u001b[38;5;28;01mNone\u001b[39;00m\n",
      "\u001b[0;31mTypeError\u001b[0m: Impossible to compute a pushout: generators not recognized found.\n\t- [x]"
     ]
    }
   ],
   "source": [
    "system.equation(0)(u=sol_u, v=sol_v)"
   ]
  },
  {
   "cell_type": "markdown",
   "metadata": {},
   "source": [
    "Any solution with $a=0$ is a solution of the whole differential system:"
   ]
  },
  {
   "cell_type": "code",
   "execution_count": 17,
   "metadata": {},
   "outputs": [
    {
     "ename": "TypeError",
     "evalue": "Impossible to compute a pushout: generators not recognized found.\n\t- [x]",
     "output_type": "error",
     "traceback": [
      "\u001b[0;31m---------------------------------------------------------------------------\u001b[0m",
      "\u001b[0;31mTypeError\u001b[0m                                 Traceback (most recent call last)",
      "Input \u001b[0;32mIn [17]\u001b[0m, in \u001b[0;36m<cell line: 4>\u001b[0;34m()\u001b[0m\n\u001b[1;32m      1\u001b[0m final_v \u001b[38;5;241m=\u001b[39m DFiniteAB\u001b[38;5;241m.\u001b[39melement([\u001b[38;5;241m-\u001b[39mInteger(\u001b[38;5;241m1\u001b[39m), x, Integer(\u001b[38;5;241m0\u001b[39m), x\u001b[38;5;241m*\u001b[39m\u001b[38;5;241m*\u001b[39mInteger(\u001b[38;5;241m3\u001b[39m)\u001b[38;5;241m-\u001b[39mx\u001b[38;5;241m*\u001b[39m\u001b[38;5;241m*\u001b[39mInteger(\u001b[38;5;241m2\u001b[39m), \u001b[38;5;241m-\u001b[39mx\u001b[38;5;241m*\u001b[39m\u001b[38;5;241m*\u001b[39mInteger(\u001b[38;5;241m3\u001b[39m)],[Integer(\u001b[38;5;241m0\u001b[39m),Integer(\u001b[38;5;241m0\u001b[39m),b])\n\u001b[1;32m      2\u001b[0m final_u \u001b[38;5;241m=\u001b[39m DFiniteAB\u001b[38;5;241m.\u001b[39melement([Integer(\u001b[38;5;241m0\u001b[39m),Integer(\u001b[38;5;241m1\u001b[39m)], inhomogeneous\u001b[38;5;241m=\u001b[39mfinal_v\u001b[38;5;241m.\u001b[39mderivative(times\u001b[38;5;241m=\u001b[39mInteger(\u001b[38;5;241m2\u001b[39m)) \u001b[38;5;241m-\u001b[39m final_v\u001b[38;5;241m.\u001b[39mderivative())\n\u001b[0;32m----> 4\u001b[0m \u001b[38;5;28;43mall\u001b[39;49m\u001b[43m(\u001b[49m\u001b[43mequation\u001b[49m\u001b[43m(\u001b[49m\u001b[43mu\u001b[49m\u001b[38;5;241;43m=\u001b[39;49m\u001b[43mfinal_u\u001b[49m\u001b[43m,\u001b[49m\u001b[43m \u001b[49m\u001b[43mv\u001b[49m\u001b[38;5;241;43m=\u001b[39;49m\u001b[43mfinal_v\u001b[49m\u001b[43m)\u001b[49m\u001b[43m \u001b[49m\u001b[38;5;241;43m==\u001b[39;49m\u001b[43m \u001b[49m\u001b[43mInteger\u001b[49m\u001b[43m(\u001b[49m\u001b[38;5;241;43m0\u001b[39;49m\u001b[43m)\u001b[49m\u001b[43m \u001b[49m\u001b[38;5;28;43;01mfor\u001b[39;49;00m\u001b[43m \u001b[49m\u001b[43mequation\u001b[49m\u001b[43m \u001b[49m\u001b[38;5;129;43;01min\u001b[39;49;00m\u001b[43m \u001b[49m\u001b[43msystem\u001b[49m\u001b[38;5;241;43m.\u001b[39;49m\u001b[43mequations\u001b[49m\u001b[43m(\u001b[49m\u001b[43m)\u001b[49m\u001b[43m)\u001b[49m\n",
      "Input \u001b[0;32mIn [17]\u001b[0m, in \u001b[0;36m<genexpr>\u001b[0;34m(.0)\u001b[0m\n\u001b[1;32m      1\u001b[0m final_v \u001b[38;5;241m=\u001b[39m DFiniteAB\u001b[38;5;241m.\u001b[39melement([\u001b[38;5;241m-\u001b[39mInteger(\u001b[38;5;241m1\u001b[39m), x, Integer(\u001b[38;5;241m0\u001b[39m), x\u001b[38;5;241m*\u001b[39m\u001b[38;5;241m*\u001b[39mInteger(\u001b[38;5;241m3\u001b[39m)\u001b[38;5;241m-\u001b[39mx\u001b[38;5;241m*\u001b[39m\u001b[38;5;241m*\u001b[39mInteger(\u001b[38;5;241m2\u001b[39m), \u001b[38;5;241m-\u001b[39mx\u001b[38;5;241m*\u001b[39m\u001b[38;5;241m*\u001b[39mInteger(\u001b[38;5;241m3\u001b[39m)],[Integer(\u001b[38;5;241m0\u001b[39m),Integer(\u001b[38;5;241m0\u001b[39m),b])\n\u001b[1;32m      2\u001b[0m final_u \u001b[38;5;241m=\u001b[39m DFiniteAB\u001b[38;5;241m.\u001b[39melement([Integer(\u001b[38;5;241m0\u001b[39m),Integer(\u001b[38;5;241m1\u001b[39m)], inhomogeneous\u001b[38;5;241m=\u001b[39mfinal_v\u001b[38;5;241m.\u001b[39mderivative(times\u001b[38;5;241m=\u001b[39mInteger(\u001b[38;5;241m2\u001b[39m)) \u001b[38;5;241m-\u001b[39m final_v\u001b[38;5;241m.\u001b[39mderivative())\n\u001b[0;32m----> 4\u001b[0m \u001b[38;5;28mall\u001b[39m(\u001b[43mequation\u001b[49m\u001b[43m(\u001b[49m\u001b[43mu\u001b[49m\u001b[38;5;241;43m=\u001b[39;49m\u001b[43mfinal_u\u001b[49m\u001b[43m,\u001b[49m\u001b[43m \u001b[49m\u001b[43mv\u001b[49m\u001b[38;5;241;43m=\u001b[39;49m\u001b[43mfinal_v\u001b[49m\u001b[43m)\u001b[49m \u001b[38;5;241m==\u001b[39m Integer(\u001b[38;5;241m0\u001b[39m) \u001b[38;5;28;01mfor\u001b[39;00m equation \u001b[38;5;129;01min\u001b[39;00m system\u001b[38;5;241m.\u001b[39mequations())\n",
      "File \u001b[0;32m~/sage/local/lib/python3.10/site-packages/dalgebra/rwo_polynomial/rwo_polynomial_element.py:680\u001b[0m, in \u001b[0;36mRWOPolynomial.__call__\u001b[0;34m(self, *args, **kwargs)\u001b[0m\n\u001b[1;32m    637\u001b[0m \u001b[38;5;28;01mdef\u001b[39;00m \u001b[38;5;21m__call__\u001b[39m(\u001b[38;5;28mself\u001b[39m, \u001b[38;5;241m*\u001b[39margs, \u001b[38;5;241m*\u001b[39m\u001b[38;5;241m*\u001b[39mkwargs) \u001b[38;5;241m-\u001b[39m\u001b[38;5;241m>\u001b[39m RWOPolynomial:\n\u001b[1;32m    638\u001b[0m     \u001b[38;5;124mr\u001b[39m\u001b[38;5;124;03m'''\u001b[39;00m\n\u001b[1;32m    639\u001b[0m \u001b[38;5;124;03m        Override of the __call__ method. \u001b[39;00m\n\u001b[1;32m    640\u001b[0m \n\u001b[0;32m   (...)\u001b[0m\n\u001b[1;32m    678\u001b[0m \u001b[38;5;124;03m            Ring of operator polynomials in (a) over Differential Ring [[Univariate Polynomial Ring in x over Rational Field], (d/dx,)]\u001b[39;00m\n\u001b[1;32m    679\u001b[0m \u001b[38;5;124;03m    '''\u001b[39;00m\n\u001b[0;32m--> 680\u001b[0m     \u001b[38;5;28;01mreturn\u001b[39;00m \u001b[38;5;28;43mself\u001b[39;49m\u001b[38;5;241;43m.\u001b[39;49m\u001b[43mparent\u001b[49m\u001b[43m(\u001b[49m\u001b[43m)\u001b[49m\u001b[38;5;241;43m.\u001b[39;49m\u001b[43meval\u001b[49m\u001b[43m(\u001b[49m\u001b[38;5;28;43mself\u001b[39;49m\u001b[43m,\u001b[49m\u001b[43m \u001b[49m\u001b[38;5;241;43m*\u001b[39;49m\u001b[43margs\u001b[49m\u001b[43m,\u001b[49m\u001b[43m \u001b[49m\u001b[38;5;241;43m*\u001b[39;49m\u001b[38;5;241;43m*\u001b[39;49m\u001b[43mkwargs\u001b[49m\u001b[43m)\u001b[49m\n",
      "File \u001b[0;32m~/sage/local/lib/python3.10/site-packages/dalgebra/rwo_polynomial/rwo_polynomial_ring.py:537\u001b[0m, in \u001b[0;36mRWOPolynomialRing_dense.eval\u001b[0;34m(self, element, *args, **kwds)\u001b[0m\n\u001b[1;32m    535\u001b[0m R \u001b[38;5;241m=\u001b[39m RWOPolynomialRing(\u001b[38;5;28mself\u001b[39m\u001b[38;5;241m.\u001b[39mbase(), rem_names) \u001b[38;5;28;01mif\u001b[39;00m \u001b[38;5;28mlen\u001b[39m(rem_names) \u001b[38;5;241m>\u001b[39m \u001b[38;5;241m0\u001b[39m \u001b[38;5;28;01melse\u001b[39;00m \u001b[38;5;28mself\u001b[39m\u001b[38;5;241m.\u001b[39mbase()\n\u001b[1;32m    536\u001b[0m \u001b[38;5;28;01mfor\u001b[39;00m value \u001b[38;5;129;01min\u001b[39;00m final_input\u001b[38;5;241m.\u001b[39mvalues():\n\u001b[0;32m--> 537\u001b[0m     R \u001b[38;5;241m=\u001b[39m \u001b[43mpushout\u001b[49m\u001b[43m(\u001b[49m\u001b[43mR\u001b[49m\u001b[43m,\u001b[49m\u001b[43m \u001b[49m\u001b[43mparent\u001b[49m\u001b[43m(\u001b[49m\u001b[43mvalue\u001b[49m\u001b[43m)\u001b[49m\u001b[43m)\u001b[49m\n\u001b[1;32m    539\u001b[0m final_input \u001b[38;5;241m=\u001b[39m {key : R(value) \u001b[38;5;28;01mfor\u001b[39;00m key,value \u001b[38;5;129;01min\u001b[39;00m final_input\u001b[38;5;241m.\u001b[39mitems()} \u001b[38;5;66;03m# updating input to the output ring\u001b[39;00m\n\u001b[1;32m    541\u001b[0m \u001b[38;5;66;03m### Building the elements to be used in evaluation\u001b[39;00m\n",
      "File \u001b[0;32m~/sage/src/sage/categories/pushout.py:4156\u001b[0m, in \u001b[0;36mpushout\u001b[0;34m(R, S)\u001b[0m\n\u001b[1;32m   4153\u001b[0m         \u001b[38;5;28;01mreturn\u001b[39;00m P\n\u001b[1;32m   4155\u001b[0m \u001b[38;5;28;01mif\u001b[39;00m \u001b[38;5;28mhasattr\u001b[39m(S, \u001b[38;5;124m'\u001b[39m\u001b[38;5;124m_pushout_\u001b[39m\u001b[38;5;124m'\u001b[39m):\n\u001b[0;32m-> 4156\u001b[0m     P \u001b[38;5;241m=\u001b[39m \u001b[43mS\u001b[49m\u001b[38;5;241;43m.\u001b[39;49m\u001b[43m_pushout_\u001b[49m\u001b[43m(\u001b[49m\u001b[43mR\u001b[49m\u001b[43m)\u001b[49m\n\u001b[1;32m   4157\u001b[0m     \u001b[38;5;28;01mif\u001b[39;00m P \u001b[38;5;129;01mis\u001b[39;00m \u001b[38;5;129;01mnot\u001b[39;00m \u001b[38;5;28;01mNone\u001b[39;00m:\n\u001b[1;32m   4158\u001b[0m         \u001b[38;5;28;01mreturn\u001b[39;00m P\n",
      "File \u001b[0;32m~/sage/local/lib/python3.10/site-packages/ajpastor/dd_functions/ddFunction.py:550\u001b[0m, in \u001b[0;36mDDRing._pushout_\u001b[0;34m(self, S)\u001b[0m\n\u001b[1;32m    547\u001b[0m     \u001b[38;5;28;01mreturn\u001b[39;00m \u001b[38;5;28;01mNone\u001b[39;00m\n\u001b[1;32m    549\u001b[0m \u001b[38;5;28;01mif\u001b[39;00m(\u001b[38;5;28mlen\u001b[39m(gens_S[\u001b[38;5;124m'\u001b[39m\u001b[38;5;124mother\u001b[39m\u001b[38;5;124m'\u001b[39m]) \u001b[38;5;241m>\u001b[39m \u001b[38;5;241m0\u001b[39m  \u001b[38;5;129;01mor\u001b[39;00m \u001b[38;5;28mlen\u001b[39m(gens_self[\u001b[38;5;124m'\u001b[39m\u001b[38;5;124mother\u001b[39m\u001b[38;5;124m'\u001b[39m]) \u001b[38;5;241m>\u001b[39m \u001b[38;5;241m0\u001b[39m ):\n\u001b[0;32m--> 550\u001b[0m     \u001b[38;5;28;01mraise\u001b[39;00m \u001b[38;5;167;01mTypeError\u001b[39;00m(\u001b[38;5;124m\"\u001b[39m\u001b[38;5;124mImpossible to compute a pushout: generators not recognized found.\u001b[39m\u001b[38;5;130;01m\\n\u001b[39;00m\u001b[38;5;130;01m\\t\u001b[39;00m\u001b[38;5;124m- \u001b[39m\u001b[38;5;132;01m%s\u001b[39;00m\u001b[38;5;124m\"\u001b[39m \u001b[38;5;241m%\u001b[39m(\u001b[38;5;28mlist\u001b[39m(gens_S[\u001b[38;5;124m'\u001b[39m\u001b[38;5;124mother\u001b[39m\u001b[38;5;124m'\u001b[39m]) \u001b[38;5;241m+\u001b[39m \u001b[38;5;28mlist\u001b[39m(gens_self[\u001b[38;5;124m'\u001b[39m\u001b[38;5;124mother\u001b[39m\u001b[38;5;124m'\u001b[39m])))\n\u001b[1;32m    552\u001b[0m \u001b[38;5;66;03m##########################################\u001b[39;00m\n\u001b[1;32m    553\u001b[0m \u001b[38;5;66;03m## Compute the basic field F\u001b[39;00m\n\u001b[1;32m    554\u001b[0m \u001b[38;5;66;03m##########################################\u001b[39;00m\n\u001b[1;32m    555\u001b[0m \u001b[38;5;66;03m## Computing the original field\u001b[39;00m\n\u001b[1;32m    556\u001b[0m F \u001b[38;5;241m=\u001b[39m \u001b[38;5;28;01mNone\u001b[39;00m\n",
      "\u001b[0;31mTypeError\u001b[0m: Impossible to compute a pushout: generators not recognized found.\n\t- [x]"
     ]
    }
   ],
   "source": [
    "final_v = DFiniteAB.element([-1, x, 0, x^3-x^2, -x^3],[0,0,b])\n",
    "final_u = DFiniteAB.element([0,1], inhomogeneous=final_v.derivative(times=2) - final_v.derivative())\n",
    "\n",
    "all(equation(u=final_u, v=final_v) == 0 for equation in system.equations())"
   ]
  },
  {
   "cell_type": "code",
   "execution_count": null,
   "metadata": {},
   "outputs": [],
   "source": []
  }
 ],
 "metadata": {
  "kernelspec": {
   "display_name": "SageMath 9.7",
   "language": "sage",
   "name": "sagemath"
  },
  "language_info": {
   "codemirror_mode": {
    "name": "ipython",
    "version": 3
   },
   "file_extension": ".py",
   "mimetype": "text/x-python",
   "name": "python",
   "nbconvert_exporter": "python",
   "pygments_lexer": "ipython3",
   "version": "3.10.5"
  }
 },
 "nbformat": 4,
 "nbformat_minor": 4
}
