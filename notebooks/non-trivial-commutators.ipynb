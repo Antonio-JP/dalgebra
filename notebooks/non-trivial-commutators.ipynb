{
 "cells": [
  {
   "cell_type": "code",
   "execution_count": 1,
   "metadata": {},
   "outputs": [],
   "source": [
    "import sys\n",
    "\n",
    "sys.path.insert(0, \"..\") # dalgebra is here\n",
    "from dalgebra import *\n",
    "from dalgebra.hierarchies import *\n",
    "from sage.categories.pushout import pushout\n",
    "%display latex"
   ]
  },
  {
   "cell_type": "markdown",
   "metadata": {},
   "source": [
    "# **Non-trivial centralizers and the spectral curve** $\\def\\ord{\\text{ord}}\\def\\nn{\\mathbb{N}}$"
   ]
  },
  {
   "cell_type": "markdown",
   "metadata": {},
   "source": [
    "In this notebook we are going to explain and provide code on how we can get some non-trivial centralizers in differential algebra and, once a couple of commuting operators are found, we will compute the spectral curve for both.\n",
    "\n",
    "This notebook will serve as a checking on the state on the repository and will push also the theory we have been developing further.\n",
    "\n",
    "*Notation*: we will use the notation $(R,\\partial)$ to described a differential ring and $R\\{u\\}$ as the ring of differential polynomials in $u$ (meaning, $R\\{u\\} = R[u,u',u'',\\ldots]$ and all the derivations of $u$ are algebraically independent). A differential operator with coefficients over a differential ring $(R,\\partial)$ is an element of the first Weyl algebra $R[\\partial]$. This is a non-commutative ring where $\\partial r = r' + r\\partial$."
   ]
  },
  {
   "cell_type": "markdown",
   "metadata": {},
   "source": [
    "#### References\n",
    "\n",
    "This work is based on the following references (will increase when needed):\n",
    "\n",
    "1. *Computing Almost-commuting Basis of Ordinary Differential Operators*, A. Jiménez-Pastor, S. Rueda, M.A. Zurro, in the 48th International Symposium on Symbolic and Algebraic Computation (**short communication**), 2023. [(Extended notebook version)](https://github.com/Antonio-JP/dalgebra/blob/ISSAC-2023/notebooks/ISSAC23_Poster.ipynb)\n",
    "2. *A *REDUCE* program for the integration of diferential polynomials*, A.H. Bilge in **Computer Physics Communications** (73-3), pp. 263-268, 1992. [doi:10.1016/0010-4655(92)90013-o](https://doi.org/10.1016/0010-4655(92)90013-o)\n",
    "3. *Towards the classification of scalar nonpolynomial evolution equations: Quasilinearity*, A.H. Bilge in **Computers and Mathematics with Applications** (49-11,12), pp. 1837-1848, 2005. [doi:10.1016/j.camwa.2004.09.014](https://doi.org/10.1016/j.camwa.2004.09.014)\n",
    "4. *Additive normal forms and integration of differential fractions*, F. Boulier, F. Lemaire, J. Lallemand, G. Regensburger, M. Rosenkranz, in **Journal of Symbolic Computation** (77), pp. 16-38, 2016. [doi:10.1016/j.jsc.2016.01.002](https://doi.org/10.1016/j.jsc.2016.01.002)\n",
    "5. *Factorization of KdV Schrödinger operators using differential subresultants*, J.J. Morales-Ruíz, S. Rueda, M.A. Zurro in **Advances in Applied Mathematics** (120), pp. 102065, 2020. [doi:10.1016/j.aam.2020.102065](https://doi.org/10.1016/j.aam.2020.102065)\n",
    "6. *Factoring Third Order Ordinary Differential Operators over Spectral Curves*, S. Rueda, M.A. Zurro in **ArXiV** [arXiv:2102.04733v1](https://www.arxiv.org/abs/2102.04733v1)\n",
    "7. *Algebraic curves and soliton equations*, G. Wilson in **Geometry Today**, pp. 303-329, 1985.\n",
    "8. *Commuting Ordinary Differential Operators and the Dixmier Test*, E. Previato, S. Rueda, M.A. Zurro in **Symmetry, Integrability and Geometry: Methods and Applications (SIGMA)**, 2019. [doi:10.3842/sigma.2019.101](https://doi.org/10.3842/sigma.2019.101)"
   ]
  },
  {
   "cell_type": "markdown",
   "metadata": {
    "jp-MarkdownHeadingCollapsed": true,
    "tags": []
   },
   "source": [
    "## 1. Conditions for commutation"
   ]
  },
  {
   "cell_type": "markdown",
   "metadata": {},
   "source": [
    "Following the work on [1], given a generic linear differential operator $L$ of order $n$ in normal form (i.e., without a term of order $n-1$) there is a set of almost-commuting differential operators $Q(L) \\subset C\\{u\\}[\\partial]$ that form a $C$-vector space. An operator $P \\in C\\{u\\}[\\partial]$ is said to *almost-commute* with $L$ if $\\ord([L,P]) \\leq n-2$. It is interesting to remark that this is not a symmetric property, meaning that if $P$ almost-commute with $L$, it does not imply $L$ almost-commute with $P$.\n",
    "\n",
    "Let $L = \\partial^n + u_{n-2}\\partial^{n-2} + \\ldots u_1\\partial + u_0$ be defined in $C\\{u_0,\\ldots,u_{n-2}\\} = C\\{u\\}$.\n",
    "\n",
    "It was shown in by Wilson [7] that the set $Q(L)$ enjoys a basis of the form $\\{P_m(u)\\}_{m\\in \\nn}$, where\n",
    "* $P_m(u) = \\partial^m + p_{m,2}(u)\\partial^{m-2} + \\ldots + p_{m,m-1}(u)\\partial + p_{m,m}(u)$ for some $p_{m,i}(u) \\in C\\{u\\}$.\n",
    "* If $u_i^{(k)}$ is set to have weight $n - i + k$, then $p_{m,j}(u)$ is homogeneous of weight $j$.\n",
    "\n",
    "Wilson also proved that this basis is unique and that $P_m$ could be computed using $(L^{m/n})_+$, where $L^{1/n} \\in C\\{u\\}((\\partial^{-1}))$ and $(\\cdot)_+$ just keep the differential part of pseudodifferential operators in $C\\{u\\}((\\partial^{-1}))$. The computation of $P_m(u)$ using Wilson's formula was not efficient for higher values of $n$. We provided in [1] a simpler ansatz approach based only in linear algebra to compute the elements $P_m(u)$ of the basis.\n",
    "\n",
    "This computation of $P_m(u)$ can also be done using integration of differential polynomials in several differential variables. This would relate with [2] and [4]. See [Section 1.1](#1.1.-The-differential-system-of-almost-commuting).\n",
    "\n",
    "The computation of $P_m(u)$ provides two output simultaneously:\n",
    "* The actual element $P_m(u)$ described by Wilson. This can be used to generate candidates for computing commutators once we have fixed a specific value for $L$.\n",
    "* A set of $(n-1)$ non-linear differential equations in $u = (u_0, \\ldots, u_{n-2})$. If the values for $u$ are given such that all equations vanish, then the given $\\tilde{P}_m = P_m(\\tilde{u})$ will commute with $\\tilde{L} = L(\\tilde{u})$. We denote these equations with $H_i^{(n,m)}$ with $i = 0,\\ldots,n-2$. Namely:\n",
    "$$[L,P_m] = \\sum_{j=0}^{n-2} H_j^{(n,m)}(u) \\partial^j.$$\n",
    "  (We omit $(n,m)$ when it is clear from context, writing simply $H_i(u)$).\n",
    "\n",
    "This is implemented in `dalgebra.hierarchies`:"
   ]
  },
  {
   "cell_type": "code",
   "execution_count": 2,
   "metadata": {},
   "outputs": [],
   "source": [
    "P_4, eqs = almost_commuting_schr(3, 4)"
   ]
  },
  {
   "cell_type": "code",
   "execution_count": 3,
   "metadata": {},
   "outputs": [
    {
     "data": {
      "text/html": [
       "<html>\\(\\displaystyle \\newcommand{\\Bold}[1]{\\mathbf{#1}}\\left(\\Bold{Q}, 0\\right) \\{ u0, u1, z \\}\\)</html>"
      ],
      "text/latex": [
       "$\\displaystyle \\newcommand{\\Bold}[1]{\\mathbf{#1}}\\left(\\Bold{Q}, 0\\right) \\{ u0, u1, z \\}$"
      ],
      "text/plain": [
       "Ring of operator polynomials in (u0, u1, z) over Differential Ring [[Rational Field], (0,)]"
      ]
     },
     "metadata": {},
     "output_type": "display_data"
    },
    {
     "data": {
      "text/html": [
       "<html>\\(\\displaystyle \\frac{2}{9} \\mathit{u1}_{0}^{2} z_{0} + \\frac{2}{3} \\mathit{u0}_{1} z_{0} + \\frac{4}{3} \\mathit{u0}_{0} z_{1} + \\frac{2}{9} \\mathit{u1}_{2} z_{0} + \\frac{2}{3} \\mathit{u1}_{1} z_{1} + \\frac{4}{3} \\mathit{u1}_{0} z_{2} + 1 z_{4}\\)</html>"
      ],
      "text/latex": [
       "$\\displaystyle \\frac{2}{9} \\mathit{u1}_{0}^{2} z_{0} + \\frac{2}{3} \\mathit{u0}_{1} z_{0} + \\frac{4}{3} \\mathit{u0}_{0} z_{1} + \\frac{2}{9} \\mathit{u1}_{2} z_{0} + \\frac{2}{3} \\mathit{u1}_{1} z_{1} + \\frac{4}{3} \\mathit{u1}_{0} z_{2} + 1 z_{4}$"
      ],
      "text/plain": [
       "2/9*u1_0^2*z_0 + 2/3*u0_1*z_0 + 4/3*u0_0*z_1 + 2/9*u1_2*z_0 + 2/3*u1_1*z_1 + 4/3*u1_0*z_2 + z_4"
      ]
     },
     "execution_count": 3,
     "metadata": {},
     "output_type": "execute_result"
    }
   ],
   "source": [
    "show(P_4.parent()) # `z` is the representation of \\partial\n",
    "P_4"
   ]
  },
  {
   "cell_type": "code",
   "execution_count": 4,
   "metadata": {},
   "outputs": [
    {
     "data": {
      "text/html": [
       "<html>\\(\\displaystyle 1 \\mathit{u1}_{0} z_{1} + 1 \\mathit{u0}_{0} + 1 z_{3}\\)</html>"
      ],
      "text/latex": [
       "$\\displaystyle 1 \\mathit{u1}_{0} z_{1} + 1 \\mathit{u0}_{0} + 1 z_{3}$"
      ],
      "text/plain": [
       "u1_0*z_1 + u0_0 + z_3"
      ]
     },
     "execution_count": 4,
     "metadata": {},
     "output_type": "execute_result"
    }
   ],
   "source": [
    "# Building the corresponding L or order 3\n",
    "u0,u1,z = P_4.parent().gens()\n",
    "L = z[3] + u1*z[1] + u0; L"
   ]
  },
  {
   "cell_type": "code",
   "execution_count": 5,
   "metadata": {},
   "outputs": [
    {
     "data": {
      "text/html": [
       "<html>\\(\\displaystyle \\frac{4}{9} \\mathit{u1}_{1} \\mathit{u1}_{0}^{2} + \\left(-\\frac{2}{3}\\right) \\mathit{u0}_{2} \\mathit{u1}_{0} + \\left(-\\frac{4}{3}\\right) \\mathit{u0}_{1} \\mathit{u0}_{0} + \\left(-\\frac{2}{3}\\right) \\mathit{u0}_{1} \\mathit{u1}_{1} + \\frac{2}{3} \\mathit{u1}_{3} \\mathit{u1}_{0} + \\frac{4}{3} \\mathit{u1}_{2} \\mathit{u1}_{1} + \\left(-\\frac{1}{3}\\right) \\mathit{u0}_{4} + \\frac{2}{9} \\mathit{u1}_{5}\\)</html>"
      ],
      "text/latex": [
       "$\\displaystyle \\frac{4}{9} \\mathit{u1}_{1} \\mathit{u1}_{0}^{2} + \\left(-\\frac{2}{3}\\right) \\mathit{u0}_{2} \\mathit{u1}_{0} + \\left(-\\frac{4}{3}\\right) \\mathit{u0}_{1} \\mathit{u0}_{0} + \\left(-\\frac{2}{3}\\right) \\mathit{u0}_{1} \\mathit{u1}_{1} + \\frac{2}{3} \\mathit{u1}_{3} \\mathit{u1}_{0} + \\frac{4}{3} \\mathit{u1}_{2} \\mathit{u1}_{1} + \\left(-\\frac{1}{3}\\right) \\mathit{u0}_{4} + \\frac{2}{9} \\mathit{u1}_{5}$"
      ],
      "text/plain": [
       "4/9*u1_1*u1_0^2 + (-2/3)*u0_2*u1_0 + (-4/3)*u0_1*u0_0 + (-2/3)*u0_1*u1_1 + 2/3*u1_3*u1_0 + 4/3*u1_2*u1_1 + (-1/3)*u0_4 + 2/9*u1_5"
      ]
     },
     "metadata": {},
     "output_type": "display_data"
    },
    {
     "data": {
      "text/html": [
       "<html>\\(\\displaystyle \\left(-\\frac{4}{3}\\right) \\mathit{u0}_{1} \\mathit{u1}_{0} + \\left(-\\frac{4}{3}\\right) \\mathit{u0}_{0} \\mathit{u1}_{1} + \\frac{2}{3} \\mathit{u1}_{2} \\mathit{u1}_{0} + \\frac{2}{3} \\mathit{u1}_{1}^{2} + \\left(-\\frac{2}{3}\\right) \\mathit{u0}_{3} + \\frac{1}{3} \\mathit{u1}_{4}\\)</html>"
      ],
      "text/latex": [
       "$\\displaystyle \\left(-\\frac{4}{3}\\right) \\mathit{u0}_{1} \\mathit{u1}_{0} + \\left(-\\frac{4}{3}\\right) \\mathit{u0}_{0} \\mathit{u1}_{1} + \\frac{2}{3} \\mathit{u1}_{2} \\mathit{u1}_{0} + \\frac{2}{3} \\mathit{u1}_{1}^{2} + \\left(-\\frac{2}{3}\\right) \\mathit{u0}_{3} + \\frac{1}{3} \\mathit{u1}_{4}$"
      ],
      "text/plain": [
       "(-4/3)*u0_1*u1_0 + (-4/3)*u0_0*u1_1 + 2/3*u1_2*u1_0 + 2/3*u1_1^2 + (-2/3)*u0_3 + 1/3*u1_4"
      ]
     },
     "metadata": {},
     "output_type": "display_data"
    }
   ],
   "source": [
    "# equations on u1 and u0 for P_4 to commute with L\n",
    "show(eqs[0]) # H_0^(3,4)\n",
    "show(eqs[1]) # H_1^(3,4)"
   ]
  },
  {
   "cell_type": "markdown",
   "metadata": {},
   "source": [
    "### 1.1. The differential system of almost-commuting\n",
    "\n",
    "* Check the structure of the system to compute $P_m(u)$.\n",
    "* State the differential integration approach: try and use either [2] or [4] explicitly to solve it.\n",
    "* State the ansatz approach by linear algebra. This has solution unique due to Wilson's theorem.\n",
    "* Compare both methods explicitly."
   ]
  },
  {
   "cell_type": "markdown",
   "metadata": {
    "tags": []
   },
   "source": [
    "## 2. Looking for specific solutions"
   ]
  },
  {
   "cell_type": "markdown",
   "metadata": {},
   "source": [
    "Once we have the conditions the differential variables $u = (u_0,\\ldots,u_{n-2})$ has to satisfy in order to obtain an $L$ with a non-trivial commutator $P_m(u)$ we can start looking for specific types of solutions. But first of all, we need to see that we may need all the basis of almost-commuting operators:\n",
    "\n",
    "* If $[L,P] = 0$, then $P$ almost-commutes with $L$.\n",
    "* Then, if $\\ord(P) = m$, then we have $P = \\sum_{i=0}^m c_i P_i(u)$ where $c_i\\in C$ and $P_i(u)$ are the elements in Wilson's basis.\n",
    "\n",
    "Hence, in order to look for solutions we need to consider the *complete* set of equations that involve the possible constant coefficients $c_i$ in the previous expression. In order to do so, just remark that $[L,\\cdot]$ is a $C$-linear functional, hence:\n",
    "$$[L,P] = \\sum_{i=0}^m c_i[L(u),P_i(u)] = \\sum_{i=0}^m \\sum_{j=0}^{n-2} c_iH_j^{(n,i)}(u) \\partial^j = \\sum_{j=0}^{n-2} \\left(\\sum_{i=0}^m c_iH_j^{(n,i)}(u)\\right)\\partial^j = \\sum_{j=0}^{n-2} H_j^{(P)}(c, u)\\partial^j.$$\n",
    "\n",
    "So for any almost-commuting operator $P$ we obtain a set of $n-1$ equations that can be computed from the equations for Wilson's basis elements. In a matrix-vector multiplication format, it would read as follows:\n",
    "$$H^{(P)} = \\left(H^{(n,0)}|H^{(n,1)}|\\cdots|H^{(n,m)}\\right)\\mathbf{c},$$\n",
    "where $H^{*} = \\left(H_0^{*},\\ldots,H_{n-2}^*\\right)^T$ and $\\mathbf{c} = (c_0,\\ldots,c_{m})^T$ is called the flag of constants of $P$."
   ]
  },
  {
   "cell_type": "markdown",
   "metadata": {},
   "source": [
    "#### **Some simplifications**"
   ]
  },
  {
   "cell_type": "markdown",
   "metadata": {},
   "source": [
    "Since we are looking for non-trivial commutators of a given differential operator $L$, we do not need to consider either $L$ or powers of $L$. This can be easily reflected into the previous computation by setting $c_{kn} = 0$, since $P_{kn} = L^k$. "
   ]
  },
  {
   "cell_type": "markdown",
   "metadata": {
    "jp-MarkdownHeadingCollapsed": true,
    "tags": []
   },
   "source": [
    "### 2.1 Looking for specific types of solutions\n",
    "\n",
    "Assume the differential variables $u = (u_0, \\ldots, u_{n-2})$ are of specific shape. This means, each $u_i = U_i(\\mathbf{b})$ where $\\mathbf{b}$ is a set of constants and $U_i$ is a function describing the shape of $u_i$. \n",
    "\n",
    "For example, if we look to polynomial solutions of degree at most $p$, we would have $\\mathbf{b} = (b_{i,j}\\ :\\ i=0,\\ldots,n-2; j=0,\\ldots,p)$ and then we obtain\n",
    "$$U_i(\\mathbf{b}) = \\sum_{j=0}^p b_{i,j}x^j,$$\n",
    "where $x$ will be a transcendental element with $\\partial(x) = 1$.\n",
    "\n",
    "Plugging these guesses for $u_i = U_i(\\mathbf{b})$ into the equations $H^{(P)}$ for a generic flag of constants, we will get then a system of equations on $\\mathbf{b}$ and $\\mathbf{c}$ that, for each solution, we would have a non-trivial solution to our problem."
   ]
  },
  {
   "cell_type": "markdown",
   "metadata": {},
   "source": [
    "#### Example: polynomial solutions fixed $n=3$, $m=4$ and $p=2$"
   ]
  },
  {
   "cell_type": "code",
   "execution_count": 2,
   "metadata": {},
   "outputs": [
    {
     "name": "stdout",
     "output_type": "stream",
     "text": [
      "CPU times: user 6.57 s, sys: 851 µs, total: 6.58 s\n",
      "Wall time: 6.58 s\n"
     ]
    }
   ],
   "source": [
    "%%time\n",
    "L, P, H = PolynomialCommutator(3,4,2)"
   ]
  },
  {
   "cell_type": "code",
   "execution_count": 7,
   "metadata": {},
   "outputs": [
    {
     "data": {
      "text/html": [
       "<html>\\(\\displaystyle c_{4} z_{4} + c_{3} z_{3} + \\left(\\frac{4}{3} b_{1_{2}} x^{2} c_{4} + \\frac{4}{3} b_{1_{1}} x c_{4} + \\frac{4}{3} b_{1_{0}} c_{4} + c_{2}\\right) z_{2} + \\left(b_{1_{2}} x^{2} c_{3} + \\frac{4}{3} b_{0_{2}} x^{2} c_{4} + b_{1_{1}} x c_{3} + \\frac{4}{3} b_{0_{1}} x c_{4} + \\frac{4}{3} b_{1_{2}} x c_{4} + b_{1_{0}} c_{3} + \\frac{4}{3} b_{0_{0}} c_{4} + \\frac{2}{3} b_{1_{1}} c_{4} + c_{1}\\right) z_{1} + \\left(\\frac{2}{9} b_{1_{2}}^{2} x^{4} c_{4} + \\frac{4}{9} b_{1_{1}} b_{1_{2}} x^{3} c_{4} + \\frac{2}{9} b_{1_{1}}^{2} x^{2} c_{4} + \\frac{4}{9} b_{1_{0}} b_{1_{2}} x^{2} c_{4} + \\frac{2}{3} b_{1_{2}} x^{2} c_{2} + b_{0_{2}} x^{2} c_{3} + \\frac{4}{9} b_{1_{0}} b_{1_{1}} x c_{4} + \\frac{2}{3} b_{1_{1}} x c_{2} + b_{0_{1}} x c_{3} + \\frac{2}{9} b_{1_{0}}^{2} c_{4} + \\frac{4}{3} b_{0_{2}} x c_{4} + \\frac{2}{3} b_{1_{0}} c_{2} + b_{0_{0}} c_{3} + \\frac{2}{3} b_{0_{1}} c_{4} + \\frac{4}{9} b_{1_{2}} c_{4}\\right) z_{0} + c_{0}\\)</html>"
      ],
      "text/latex": [
       "$\\displaystyle c_{4} z_{4} + c_{3} z_{3} + \\left(\\frac{4}{3} b_{1_{2}} x^{2} c_{4} + \\frac{4}{3} b_{1_{1}} x c_{4} + \\frac{4}{3} b_{1_{0}} c_{4} + c_{2}\\right) z_{2} + \\left(b_{1_{2}} x^{2} c_{3} + \\frac{4}{3} b_{0_{2}} x^{2} c_{4} + b_{1_{1}} x c_{3} + \\frac{4}{3} b_{0_{1}} x c_{4} + \\frac{4}{3} b_{1_{2}} x c_{4} + b_{1_{0}} c_{3} + \\frac{4}{3} b_{0_{0}} c_{4} + \\frac{2}{3} b_{1_{1}} c_{4} + c_{1}\\right) z_{1} + \\left(\\frac{2}{9} b_{1_{2}}^{2} x^{4} c_{4} + \\frac{4}{9} b_{1_{1}} b_{1_{2}} x^{3} c_{4} + \\frac{2}{9} b_{1_{1}}^{2} x^{2} c_{4} + \\frac{4}{9} b_{1_{0}} b_{1_{2}} x^{2} c_{4} + \\frac{2}{3} b_{1_{2}} x^{2} c_{2} + b_{0_{2}} x^{2} c_{3} + \\frac{4}{9} b_{1_{0}} b_{1_{1}} x c_{4} + \\frac{2}{3} b_{1_{1}} x c_{2} + b_{0_{1}} x c_{3} + \\frac{2}{9} b_{1_{0}}^{2} c_{4} + \\frac{4}{3} b_{0_{2}} x c_{4} + \\frac{2}{3} b_{1_{0}} c_{2} + b_{0_{0}} c_{3} + \\frac{2}{3} b_{0_{1}} c_{4} + \\frac{4}{9} b_{1_{2}} c_{4}\\right) z_{0} + c_{0}$"
      ],
      "text/plain": [
       "c_4*z_4 + c_3*z_3 + (4/3*b_1_2*x^2*c_4 + 4/3*b_1_1*x*c_4 + 4/3*b_1_0*c_4 + c_2)*z_2 + (b_1_2*x^2*c_3 + 4/3*b_0_2*x^2*c_4 + b_1_1*x*c_3 + 4/3*b_0_1*x*c_4 + 4/3*b_1_2*x*c_4 + b_1_0*c_3 + 4/3*b_0_0*c_4 + 2/3*b_1_1*c_4 + c_1)*z_1 + (2/9*b_1_2^2*x^4*c_4 + 4/9*b_1_1*b_1_2*x^3*c_4 + 2/9*b_1_1^2*x^2*c_4 + 4/9*b_1_0*b_1_2*x^2*c_4 + 2/3*b_1_2*x^2*c_2 + b_0_2*x^2*c_3 + 4/9*b_1_0*b_1_1*x*c_4 + 2/3*b_1_1*x*c_2 + b_0_1*x*c_3 + 2/9*b_1_0^2*c_4 + 4/3*b_0_2*x*c_4 + 2/3*b_1_0*c_2 + b_0_0*c_3 + 2/3*b_0_1*c_4 + 4/9*b_1_2*c_4)*z_0 + c_0"
      ]
     },
     "execution_count": 7,
     "metadata": {},
     "output_type": "execute_result"
    }
   ],
   "source": [
    "P"
   ]
  },
  {
   "cell_type": "code",
   "execution_count": 4,
   "metadata": {},
   "outputs": [
    {
     "data": {
      "text/html": [
       "<html>\\(\\displaystyle 0\\)</html>"
      ],
      "text/latex": [
       "$\\displaystyle 0$"
      ],
      "text/plain": [
       "0"
      ]
     },
     "metadata": {},
     "output_type": "display_data"
    },
    {
     "data": {
      "text/html": [
       "<html>\\(\\displaystyle 0\\)</html>"
      ],
      "text/latex": [
       "$\\displaystyle 0$"
      ],
      "text/plain": [
       "0"
      ]
     },
     "metadata": {},
     "output_type": "display_data"
    },
    {
     "data": {
      "text/html": [
       "<html>\\(\\displaystyle 0\\)</html>"
      ],
      "text/latex": [
       "$\\displaystyle 0$"
      ],
      "text/plain": [
       "0"
      ]
     },
     "metadata": {},
     "output_type": "display_data"
    },
    {
     "data": {
      "text/html": [
       "<html>\\(\\displaystyle 0\\)</html>"
      ],
      "text/latex": [
       "$\\displaystyle 0$"
      ],
      "text/plain": [
       "0"
      ]
     },
     "metadata": {},
     "output_type": "display_data"
    },
    {
     "data": {
      "text/html": [
       "<html>\\(\\displaystyle 0\\)</html>"
      ],
      "text/latex": [
       "$\\displaystyle 0$"
      ],
      "text/plain": [
       "0"
      ]
     },
     "metadata": {},
     "output_type": "display_data"
    },
    {
     "data": {
      "text/html": [
       "<html>\\(\\displaystyle 0\\)</html>"
      ],
      "text/latex": [
       "$\\displaystyle 0$"
      ],
      "text/plain": [
       "0"
      ]
     },
     "metadata": {},
     "output_type": "display_data"
    },
    {
     "data": {
      "text/html": [
       "<html>\\(\\displaystyle 0\\)</html>"
      ],
      "text/latex": [
       "$\\displaystyle 0$"
      ],
      "text/plain": [
       "0"
      ]
     },
     "metadata": {},
     "output_type": "display_data"
    },
    {
     "data": {
      "text/html": [
       "<html>\\(\\displaystyle 0\\)</html>"
      ],
      "text/latex": [
       "$\\displaystyle 0$"
      ],
      "text/plain": [
       "0"
      ]
     },
     "metadata": {},
     "output_type": "display_data"
    },
    {
     "data": {
      "text/html": [
       "<html>\\(\\displaystyle 0\\)</html>"
      ],
      "text/latex": [
       "$\\displaystyle 0$"
      ],
      "text/plain": [
       "0"
      ]
     },
     "metadata": {},
     "output_type": "display_data"
    },
    {
     "data": {
      "text/html": [
       "<html>\\(\\displaystyle 0\\)</html>"
      ],
      "text/latex": [
       "$\\displaystyle 0$"
      ],
      "text/plain": [
       "0"
      ]
     },
     "metadata": {},
     "output_type": "display_data"
    }
   ],
   "source": [
    "for el in H.basis:\n",
    "    show(el(**{\"c_4\": 1, \"b_0_1\": 0, \"b_1_1\": 0, \"b_0_2\": 0, \"b_1_2\": 0}))"
   ]
  },
  {
   "cell_type": "code",
   "execution_count": 9,
   "metadata": {},
   "outputs": [
    {
     "data": {
      "text/html": [
       "<html>\\(\\displaystyle 1 z_{3} + b_{1_{0}} z_{1} + b_{0_{0}} z_{0}\\)</html>"
      ],
      "text/latex": [
       "$\\displaystyle 1 z_{3} + b_{1_{0}} z_{1} + b_{0_{0}} z_{0}$"
      ],
      "text/plain": [
       "z_3 + b_1_0*z_1 + b_0_0*z_0"
      ]
     },
     "execution_count": 9,
     "metadata": {},
     "output_type": "execute_result"
    }
   ],
   "source": [
    "L_eval = L.parent()(sum([m*el.wrapped(**{\"c_4\": 1, \"b_0_1\": 0, \"b_1_1\": 0, \"b_0_2\": 0, \"b_1_2\": 0}) for m,el in zip(L.polynomial().monomials(), L.coefficients())]))\n",
    "L_eval"
   ]
  },
  {
   "cell_type": "code",
   "execution_count": 10,
   "metadata": {},
   "outputs": [
    {
     "data": {
      "text/html": [
       "<html>\\(\\displaystyle 1 z_{4} + c_{3} z_{3} + \\left(\\frac{4}{3} b_{1_{0}} + c_{2}\\right) z_{2} + \\left(b_{1_{0}} c_{3} + \\frac{4}{3} b_{0_{0}} + c_{1}\\right) z_{1} + \\left(\\frac{2}{9} b_{1_{0}}^{2} + \\frac{2}{3} b_{1_{0}} c_{2} + b_{0_{0}} c_{3}\\right) z_{0} + c_{0}\\)</html>"
      ],
      "text/latex": [
       "$\\displaystyle 1 z_{4} + c_{3} z_{3} + \\left(\\frac{4}{3} b_{1_{0}} + c_{2}\\right) z_{2} + \\left(b_{1_{0}} c_{3} + \\frac{4}{3} b_{0_{0}} + c_{1}\\right) z_{1} + \\left(\\frac{2}{9} b_{1_{0}}^{2} + \\frac{2}{3} b_{1_{0}} c_{2} + b_{0_{0}} c_{3}\\right) z_{0} + c_{0}$"
      ],
      "text/plain": [
       "z_4 + c_3*z_3 + (4/3*b_1_0 + c_2)*z_2 + (b_1_0*c_3 + 4/3*b_0_0 + c_1)*z_1 + (2/9*b_1_0^2 + 2/3*b_1_0*c_2 + b_0_0*c_3)*z_0 + c_0"
      ]
     },
     "execution_count": 10,
     "metadata": {},
     "output_type": "execute_result"
    }
   ],
   "source": [
    "P_eval = P.parent()(sum([m*el.wrapped(**{\"c_4\": 1, \"b_0_1\": 0, \"b_1_1\": 0, \"b_0_2\": 0, \"b_1_2\": 0}) for m,el in zip(P.polynomial().monomials(), P.coefficients())]))\n",
    "P_eval"
   ]
  },
  {
   "cell_type": "markdown",
   "metadata": {},
   "source": [
    "### 2.2 Example 3.2 from [8]"
   ]
  },
  {
   "cell_type": "markdown",
   "metadata": {},
   "source": [
    "In order to apply the method in `dalgebra.hierarchies`, we need to set up the values for the generic differential variables $u_*$. In [8], Example 3.2, the authors looked for a non-trivial commutator of order 10 for the differential operator:\n",
    "$$L_4 = (\\partial^2 + (x^4+1))^2 + U(x)\\partial + W(x),$$\n",
    "where $\\partial(x) = 1$ and $V(x),W(x)$ contains the ansatz variables and have the generic form:\n",
    "$$V(x) = v_3x^3+v_2x^2+v_1x+v_0,\\qquad W(x) = w_2x^2+w_1x+w_0.$$\n",
    "\n",
    "In our code, the 4-th order Schrödinger operator has the shape:\n",
    "$$L_4 = \\partial^4 + u_2\\partial^2 + u_1\\partial + u_0,$$\n",
    "hence, in order to apply the code, we need to find the formulas for the $u_2,u_1,u_0$:"
   ]
  },
  {
   "cell_type": "code",
   "execution_count": 2,
   "metadata": {},
   "outputs": [
    {
     "data": {
      "text/html": [
       "<html>\\(\\displaystyle \\left\\{0 : x^{8} + 2 x^{4} + w_{2} x^{2} + w_{1} x + 12 x^{2} + w_{0} + 1, 1 : v_{3} x^{3} + v_{2} x^{2} + 8 x^{3} + v_{1} x + v_{0}, 2 : 2 x^{4} + 2\\right\\}\\)</html>"
      ],
      "text/latex": [
       "$\\displaystyle \\left\\{0 : x^{8} + 2 x^{4} + w_{2} x^{2} + w_{1} x + 12 x^{2} + w_{0} + 1, 1 : v_{3} x^{3} + v_{2} x^{2} + 8 x^{3} + v_{1} x + v_{0}, 2 : 2 x^{4} + 2\\right\\}$"
      ],
      "text/plain": [
       "{0: x^8 + 2*x^4 + w_2*x^2 + w_1*x + 12*x^2 + w_0 + 1,\n",
       " 1: v_3*x^3 + v_2*x^2 + 8*x^3 + v_1*x + v_0,\n",
       " 2: 2*x^4 + 2}"
      ]
     },
     "execution_count": 2,
     "metadata": {},
     "output_type": "execute_result"
    }
   ],
   "source": [
    "B.<v_0,v_1,v_2,v_3,w_0,w_1,w_2,x> = QQ[]\n",
    "BD = DifferentialRing(B, lambda p : diff(p, x))\n",
    "R.<z> = DifferentialPolynomialRing(BD)\n",
    "\n",
    "V = BD(v_0+v_1*x+v_2*x^2+v_3*x^3)\n",
    "W = BD(w_0+w_1*x+w_2*x^2)\n",
    "\n",
    "FP = z[2] + (x^4+1)*z[0]\n",
    "L = FP(z=FP) + V*z[1] + W*z[0]\n",
    "U = [L.coefficient(z[i]).coefficients()[0] for i in range(3)]; dict(enumerate(U))"
   ]
  },
  {
   "cell_type": "markdown",
   "metadata": {},
   "source": [
    "Now that we have the functions for the generic U, we can use the method `GetEquationsForSolution`:"
   ]
  },
  {
   "cell_type": "code",
   "execution_count": 8,
   "metadata": {},
   "outputs": [],
   "source": [
    "from dalgebra.hierarchies.hierarchies import generate_polynomial_equations\n",
    "import logging\n",
    "GetEquationsForSolution(4, 10, U, generate_polynomial_equations, method=\"linear\", logger=logging.DEBUG)"
   ]
  },
  {
   "cell_type": "code",
   "execution_count": 4,
   "metadata": {},
   "outputs": [],
   "source": [
    "L,P,H = _"
   ]
  },
  {
   "cell_type": "code",
   "execution_count": 9,
   "metadata": {},
   "outputs": [
    {
     "data": {
      "text/html": [
       "<html>\\(\\displaystyle \\newcommand{\\Bold}[1]{\\mathbf{#1}}\\Bold{Q}[v_{0}, v_{1}, v_{2}, v_{3}, w_{0}, w_{1}, w_{2}, c_{0}, c_{1}, c_{2}, c_{3}, c_{4}, c_{5}, c_{6}, c_{7}, c_{8}, c_{9}, c_{10}]\\)</html>"
      ],
      "text/latex": [
       "$\\displaystyle \\newcommand{\\Bold}[1]{\\mathbf{#1}}\\Bold{Q}[v_{0}, v_{1}, v_{2}, v_{3}, w_{0}, w_{1}, w_{2}, c_{0}, c_{1}, c_{2}, c_{3}, c_{4}, c_{5}, c_{6}, c_{7}, c_{8}, c_{9}, c_{10}]$"
      ],
      "text/plain": [
       "Multivariate Polynomial Ring in v_0, v_1, v_2, v_3, w_0, w_1, w_2, c_0, c_1, c_2, c_3, c_4, c_5, c_6, c_7, c_8, c_9, c_10 over Rational Field"
      ]
     },
     "execution_count": 9,
     "metadata": {},
     "output_type": "execute_result"
    }
   ],
   "source": [
    "H.basis[0].parent()"
   ]
  },
  {
   "cell_type": "code",
   "execution_count": 52,
   "metadata": {},
   "outputs": [
    {
     "data": {
      "text/html": [
       "<html>\\(\\displaystyle \\newcommand{\\Bold}[1]{\\mathbf{#1}}\\Bold{Q}[v_{0}, v_{1}, v_{2}, v_{3}, w_{0}, w_{1}, w_{2}, c_{0}, c_{1}, c_{2}, c_{3}, c_{4}, c_{5}, c_{6}, c_{7}, c_{8}, c_{9}, c_{10}]\\)</html>"
      ],
      "text/latex": [
       "$\\displaystyle \\newcommand{\\Bold}[1]{\\mathbf{#1}}\\Bold{Q}[v_{0}, v_{1}, v_{2}, v_{3}, w_{0}, w_{1}, w_{2}, c_{0}, c_{1}, c_{2}, c_{3}, c_{4}, c_{5}, c_{6}, c_{7}, c_{8}, c_{9}, c_{10}]$"
      ],
      "text/plain": [
       "Multivariate Polynomial Ring in v_0, v_1, v_2, v_3, w_0, w_1, w_2, c_0, c_1, c_2, c_3, c_4, c_5, c_6, c_7, c_8, c_9, c_10 over Rational Field"
      ]
     },
     "execution_count": 52,
     "metadata": {},
     "output_type": "execute_result"
    }
   ],
   "source": [
    "H.ring()"
   ]
  },
  {
   "cell_type": "code",
   "execution_count": 89,
   "metadata": {},
   "outputs": [
    {
     "data": {
      "text/html": [
       "<html>\\(\\displaystyle 0 \\mapsto \\left(-\\frac{1}{4}\\right) \\cdot (-15 v_{0}^{2} w_{2} + 15 w_{0}^{2} w_{2} + 12 w_{0} w_{2} c_{6} + 120 v_{0}^{2} - 80 w_{2}^{2} + 8 w_{2} c_{2} + 576 w_{2})\\)</html>"
      ],
      "text/latex": [
       "$\\displaystyle 0 \\mapsto \\left(-\\frac{1}{4}\\right) \\cdot (-15 v_{0}^{2} w_{2} + 15 w_{0}^{2} w_{2} + 12 w_{0} w_{2} c_{6} + 120 v_{0}^{2} - 80 w_{2}^{2} + 8 w_{2} c_{2} + 576 w_{2})$"
      ],
      "text/plain": [
       "0 \\mapsto \\left(-\\frac{1}{4}\\right) \\cdot (-15 v_{0}^{2} w_{2} + 15 w_{0}^{2} w_{2} + 12 w_{0} w_{2} c_{6} + 120 v_{0}^{2} - 80 w_{2}^{2} + 8 w_{2} c_{2} + 576 w_{2})"
      ]
     },
     "metadata": {},
     "output_type": "display_data"
    },
    {
     "data": {
      "text/html": [
       "<html>\\(\\displaystyle 1 \\mapsto \\left(-\\frac{5}{4}\\right) \\cdot v_{0} \\cdot (-v_{0}^{2} w_{2} + 6 v_{0}^{2} + 14 w_{2}^{2} - 336 w_{2} + 1152)\\)</html>"
      ],
      "text/latex": [
       "$\\displaystyle 1 \\mapsto \\left(-\\frac{5}{4}\\right) \\cdot v_{0} \\cdot (-v_{0}^{2} w_{2} + 6 v_{0}^{2} + 14 w_{2}^{2} - 336 w_{2} + 1152)$"
      ],
      "text/plain": [
       "1 \\mapsto \\left(-\\frac{5}{4}\\right) \\cdot v_{0} \\cdot (-v_{0}^{2} w_{2} + 6 v_{0}^{2} + 14 w_{2}^{2} - 336 w_{2} + 1152)"
      ]
     },
     "metadata": {},
     "output_type": "display_data"
    },
    {
     "data": {
      "text/html": [
       "<html>\\(\\displaystyle 2 \\mapsto \\left(-\\frac{9}{2}\\right) \\cdot (5 w_{0} + 2 c_{6}) \\cdot (-v_{0}^{2} + w_{2}^{2} - 8 w_{2})\\)</html>"
      ],
      "text/latex": [
       "$\\displaystyle 2 \\mapsto \\left(-\\frac{9}{2}\\right) \\cdot (5 w_{0} + 2 c_{6}) \\cdot (-v_{0}^{2} + w_{2}^{2} - 8 w_{2})$"
      ],
      "text/plain": [
       "2 \\mapsto \\left(-\\frac{9}{2}\\right) \\cdot (5 w_{0} + 2 c_{6}) \\cdot (-v_{0}^{2} + w_{2}^{2} - 8 w_{2})"
      ]
     },
     "metadata": {},
     "output_type": "display_data"
    },
    {
     "data": {
      "text/html": [
       "<html>\\(\\displaystyle 3 \\mapsto \\left(\\frac{1}{2}\\right) \\cdot v_{0} \\cdot (-5 v_{0}^{2} + 15 w_{0}^{2} + 12 w_{0} c_{6} - 40 w_{2} + 8 c_{2} + 96)\\)</html>"
      ],
      "text/latex": [
       "$\\displaystyle 3 \\mapsto \\left(\\frac{1}{2}\\right) \\cdot v_{0} \\cdot (-5 v_{0}^{2} + 15 w_{0}^{2} + 12 w_{0} c_{6} - 40 w_{2} + 8 c_{2} + 96)$"
      ],
      "text/plain": [
       "3 \\mapsto \\left(\\frac{1}{2}\\right) \\cdot v_{0} \\cdot (-5 v_{0}^{2} + 15 w_{0}^{2} + 12 w_{0} c_{6} - 40 w_{2} + 8 c_{2} + 96)"
      ]
     },
     "metadata": {},
     "output_type": "display_data"
    },
    {
     "data": {
      "text/html": [
       "<html>\\(\\displaystyle 4 \\mapsto \\left(-\\frac{75}{4}\\right) \\cdot (-3 v_{0}^{2} w_{2} + w_{2}^{3} + 32 v_{0}^{2} - 32 w_{2}^{2} + 192 w_{2})\\)</html>"
      ],
      "text/latex": [
       "$\\displaystyle 4 \\mapsto \\left(-\\frac{75}{4}\\right) \\cdot (-3 v_{0}^{2} w_{2} + w_{2}^{3} + 32 v_{0}^{2} - 32 w_{2}^{2} + 192 w_{2})$"
      ],
      "text/plain": [
       "4 \\mapsto \\left(-\\frac{75}{4}\\right) \\cdot (-3 v_{0}^{2} w_{2} + w_{2}^{3} + 32 v_{0}^{2} - 32 w_{2}^{2} + 192 w_{2})"
      ]
     },
     "metadata": {},
     "output_type": "display_data"
    },
    {
     "data": {
      "text/html": [
       "<html>\\(\\displaystyle 5 \\mapsto \\left(3\\right) \\cdot (w_{2} - 4) \\cdot (5 w_{0} + 2 c_{6}) \\cdot v_{0}\\)</html>"
      ],
      "text/latex": [
       "$\\displaystyle 5 \\mapsto \\left(3\\right) \\cdot (w_{2} - 4) \\cdot (5 w_{0} + 2 c_{6}) \\cdot v_{0}$"
      ],
      "text/plain": [
       "5 \\mapsto \\left(3\\right) \\cdot (w_{2} - 4) \\cdot (5 w_{0} + 2 c_{6}) \\cdot v_{0}"
      ]
     },
     "metadata": {},
     "output_type": "display_data"
    },
    {
     "data": {
      "text/html": [
       "<html>\\(\\displaystyle 7 \\mapsto \\left(\\frac{5}{2}\\right) \\cdot v_{0} \\cdot (-v_{0}^{2} + 3 w_{2}^{2} - 64 w_{2} + 192)\\)</html>"
      ],
      "text/latex": [
       "$\\displaystyle 7 \\mapsto \\left(\\frac{5}{2}\\right) \\cdot v_{0} \\cdot (-v_{0}^{2} + 3 w_{2}^{2} - 64 w_{2} + 192)$"
      ],
      "text/plain": [
       "7 \\mapsto \\left(\\frac{5}{2}\\right) \\cdot v_{0} \\cdot (-v_{0}^{2} + 3 w_{2}^{2} - 64 w_{2} + 192)"
      ]
     },
     "metadata": {},
     "output_type": "display_data"
    },
    {
     "data": {
      "text/html": [
       "<html>\\(\\displaystyle 20 \\mapsto \\left(-3\\right) \\cdot (w_{2} - 4) \\cdot (5 w_{0} + 2 c_{6}) \\cdot v_{0}\\)</html>"
      ],
      "text/latex": [
       "$\\displaystyle 20 \\mapsto \\left(-3\\right) \\cdot (w_{2} - 4) \\cdot (5 w_{0} + 2 c_{6}) \\cdot v_{0}$"
      ],
      "text/plain": [
       "20 \\mapsto \\left(-3\\right) \\cdot (w_{2} - 4) \\cdot (5 w_{0} + 2 c_{6}) \\cdot v_{0}"
      ]
     },
     "metadata": {},
     "output_type": "display_data"
    },
    {
     "data": {
      "text/html": [
       "<html>\\(\\displaystyle 21 \\mapsto \\left(-\\frac{1}{2}\\right) \\cdot (-15 v_{0}^{2} w_{2} + 15 w_{0}^{2} w_{2} + 12 w_{0} w_{2} c_{6} + 120 v_{0}^{2} - 80 w_{2}^{2} + 8 w_{2} c_{2} + 576 w_{2})\\)</html>"
      ],
      "text/latex": [
       "$\\displaystyle 21 \\mapsto \\left(-\\frac{1}{2}\\right) \\cdot (-15 v_{0}^{2} w_{2} + 15 w_{0}^{2} w_{2} + 12 w_{0} w_{2} c_{6} + 120 v_{0}^{2} - 80 w_{2}^{2} + 8 w_{2} c_{2} + 576 w_{2})$"
      ],
      "text/plain": [
       "21 \\mapsto \\left(-\\frac{1}{2}\\right) \\cdot (-15 v_{0}^{2} w_{2} + 15 w_{0}^{2} w_{2} + 12 w_{0} w_{2} c_{6} + 120 v_{0}^{2} - 80 w_{2}^{2} + 8 w_{2} c_{2} + 576 w_{2})"
      ]
     },
     "metadata": {},
     "output_type": "display_data"
    },
    {
     "data": {
      "text/html": [
       "<html>\\(\\displaystyle 22 \\mapsto \\left(-15\\right) \\cdot v_{0} \\cdot (-v_{0}^{2} + 3 w_{2}^{2} - 64 w_{2} + 192)\\)</html>"
      ],
      "text/latex": [
       "$\\displaystyle 22 \\mapsto \\left(-15\\right) \\cdot v_{0} \\cdot (-v_{0}^{2} + 3 w_{2}^{2} - 64 w_{2} + 192)$"
      ],
      "text/plain": [
       "22 \\mapsto \\left(-15\\right) \\cdot v_{0} \\cdot (-v_{0}^{2} + 3 w_{2}^{2} - 64 w_{2} + 192)"
      ]
     },
     "metadata": {},
     "output_type": "display_data"
    },
    {
     "data": {
      "text/html": [
       "<html>\\(\\displaystyle 23 \\mapsto \\left(-3\\right) \\cdot (5 w_{0} + 2 c_{6}) \\cdot (-v_{0}^{2} + w_{2}^{2} - 8 w_{2})\\)</html>"
      ],
      "text/latex": [
       "$\\displaystyle 23 \\mapsto \\left(-3\\right) \\cdot (5 w_{0} + 2 c_{6}) \\cdot (-v_{0}^{2} + w_{2}^{2} - 8 w_{2})$"
      ],
      "text/plain": [
       "23 \\mapsto \\left(-3\\right) \\cdot (5 w_{0} + 2 c_{6}) \\cdot (-v_{0}^{2} + w_{2}^{2} - 8 w_{2})"
      ]
     },
     "metadata": {},
     "output_type": "display_data"
    },
    {
     "data": {
      "text/html": [
       "<html>\\(\\displaystyle 25 \\mapsto \\left(-\\frac{15}{2}\\right) \\cdot (-3 v_{0}^{2} w_{2} + w_{2}^{3} + 32 v_{0}^{2} - 32 w_{2}^{2} + 192 w_{2})\\)</html>"
      ],
      "text/latex": [
       "$\\displaystyle 25 \\mapsto \\left(-\\frac{15}{2}\\right) \\cdot (-3 v_{0}^{2} w_{2} + w_{2}^{3} + 32 v_{0}^{2} - 32 w_{2}^{2} + 192 w_{2})$"
      ],
      "text/plain": [
       "25 \\mapsto \\left(-\\frac{15}{2}\\right) \\cdot (-3 v_{0}^{2} w_{2} + w_{2}^{3} + 32 v_{0}^{2} - 32 w_{2}^{2} + 192 w_{2})"
      ]
     },
     "metadata": {},
     "output_type": "display_data"
    },
    {
     "data": {
      "text/html": [
       "<html>\\(\\displaystyle 40 \\mapsto \\left(-3\\right) \\cdot (w_{2} - 4) \\cdot (5 w_{0} + 2 c_{6}) \\cdot v_{0}\\)</html>"
      ],
      "text/latex": [
       "$\\displaystyle 40 \\mapsto \\left(-3\\right) \\cdot (w_{2} - 4) \\cdot (5 w_{0} + 2 c_{6}) \\cdot v_{0}$"
      ],
      "text/plain": [
       "40 \\mapsto \\left(-3\\right) \\cdot (w_{2} - 4) \\cdot (5 w_{0} + 2 c_{6}) \\cdot v_{0}"
      ]
     },
     "metadata": {},
     "output_type": "display_data"
    },
    {
     "data": {
      "text/html": [
       "<html>\\(\\displaystyle 42 \\mapsto \\left(-5\\right) \\cdot v_{0} \\cdot (-v_{0}^{2} + 3 w_{2}^{2} - 64 w_{2} + 192)\\)</html>"
      ],
      "text/latex": [
       "$\\displaystyle 42 \\mapsto \\left(-5\\right) \\cdot v_{0} \\cdot (-v_{0}^{2} + 3 w_{2}^{2} - 64 w_{2} + 192)$"
      ],
      "text/plain": [
       "42 \\mapsto \\left(-5\\right) \\cdot v_{0} \\cdot (-v_{0}^{2} + 3 w_{2}^{2} - 64 w_{2} + 192)"
      ]
     },
     "metadata": {},
     "output_type": "display_data"
    },
    {
     "data": {
      "text/html": [
       "<html>\\(\\displaystyle \\left(55, 14\\right)\\)</html>"
      ],
      "text/latex": [
       "$\\displaystyle \\left(55, 14\\right)$"
      ],
      "text/plain": [
       "(55, 14)"
      ]
     },
     "execution_count": 89,
     "metadata": {},
     "output_type": "execute_result"
    }
   ],
   "source": [
    "sols = {\"c_10\": 1, \"c_9\": 0, \"c_7\": 0, \"v_3\": 0, \"c_5\":0, \"v_2\":0, \"c_3\": 0, \"v_1\": 0}\n",
    "#sols.update({\"v_0\": 0, \"c_1\": 0, \"w_1\": 0}) # path (a)\n",
    "#sols.update({\"w_2\": 0}) # path (a.1)\n",
    "#sols.update({\"w_2\": 24, \"c_6\": H.ring()(-5*w_0)/2, \"c_2\": 168 + 15*H.ring()(w_0)^2/8}) # path (a.2)\n",
    "#sols.update({\"w_2\": 8, \"c_2\": 8 - 15*H.ring()(w_0)^2/8 - 3*H.ring()(\"w_0*c_6\")/2}) # path (a.3)\n",
    "sols.update({\"w_1\": 0, \"c_1\": 0}) # path (b)\n",
    "out = []\n",
    "for i,el in enumerate(H.basis):\n",
    "    val = el(**sols)\n",
    "    if val != 0:\n",
    "        out.append(val)\n",
    "        show(LatexExpr(f\"{i} \\\\mapsto {latex(val.factor())}\"))\n",
    "len(H.basis), len(out)"
   ]
  },
  {
   "cell_type": "code",
   "execution_count": 95,
   "metadata": {},
   "outputs": [
    {
     "data": {
      "text/html": [
       "<html>\\(\\displaystyle 0 \\mapsto \\left(\\frac{1}{9}\\right) \\cdot (9 w_{2}^{5} - 480 w_{2}^{4} + 8560 w_{2}^{3} + 1280 v_{0}^{2} - 58880 w_{2}^{2} + 132096 w_{2})\\)</html>"
      ],
      "text/latex": [
       "$\\displaystyle 0 \\mapsto \\left(\\frac{1}{9}\\right) \\cdot (9 w_{2}^{5} - 480 w_{2}^{4} + 8560 w_{2}^{3} + 1280 v_{0}^{2} - 58880 w_{2}^{2} + 132096 w_{2})$"
      ],
      "text/plain": [
       "0 \\mapsto \\left(\\frac{1}{9}\\right) \\cdot (9 w_{2}^{5} - 480 w_{2}^{4} + 8560 w_{2}^{3} + 1280 v_{0}^{2} - 58880 w_{2}^{2} + 132096 w_{2})"
      ]
     },
     "metadata": {},
     "output_type": "display_data"
    },
    {
     "data": {
      "text/html": [
       "<html>\\(\\displaystyle 1 \\mapsto \\left(\\frac{1}{3}\\right) \\cdot w_{2} \\cdot (w_{2} - 8) \\cdot (w_{2} - 4) \\cdot (3 c_{6}^{2} + 175 w_{2} - 10 c_{2} - 2520)\\)</html>"
      ],
      "text/latex": [
       "$\\displaystyle 1 \\mapsto \\left(\\frac{1}{3}\\right) \\cdot w_{2} \\cdot (w_{2} - 8) \\cdot (w_{2} - 4) \\cdot (3 c_{6}^{2} + 175 w_{2} - 10 c_{2} - 2520)$"
      ],
      "text/plain": [
       "1 \\mapsto \\left(\\frac{1}{3}\\right) \\cdot w_{2} \\cdot (w_{2} - 8) \\cdot (w_{2} - 4) \\cdot (3 c_{6}^{2} + 175 w_{2} - 10 c_{2} - 2520)"
      ]
     },
     "metadata": {},
     "output_type": "display_data"
    },
    {
     "data": {
      "text/html": [
       "<html>\\(\\displaystyle 2 \\mapsto (w_{2} - 16) \\cdot (w_{2} - 12) \\cdot (w_{2} - 4) \\cdot v_{0}\\)</html>"
      ],
      "text/latex": [
       "$\\displaystyle 2 \\mapsto (w_{2} - 16) \\cdot (w_{2} - 12) \\cdot (w_{2} - 4) \\cdot v_{0}$"
      ],
      "text/plain": [
       "2 \\mapsto (w_{2} - 16) \\cdot (w_{2} - 12) \\cdot (w_{2} - 4) \\cdot v_{0}"
      ]
     },
     "metadata": {},
     "output_type": "display_data"
    },
    {
     "data": {
      "text/html": [
       "<html>\\(\\displaystyle 3 \\mapsto \\left(\\frac{1}{5}\\right) \\cdot w_{2} \\cdot (w_{2} - 8) \\cdot (w_{2} - 4) \\cdot (5 w_{0} + 2 c_{6})\\)</html>"
      ],
      "text/latex": [
       "$\\displaystyle 3 \\mapsto \\left(\\frac{1}{5}\\right) \\cdot w_{2} \\cdot (w_{2} - 8) \\cdot (w_{2} - 4) \\cdot (5 w_{0} + 2 c_{6})$"
      ],
      "text/plain": [
       "3 \\mapsto \\left(\\frac{1}{5}\\right) \\cdot w_{2} \\cdot (w_{2} - 8) \\cdot (w_{2} - 4) \\cdot (5 w_{0} + 2 c_{6})"
      ]
     },
     "metadata": {},
     "output_type": "display_data"
    },
    {
     "data": {
      "text/html": [
       "<html>\\(\\displaystyle 4 \\mapsto \\left(-\\frac{1}{9}\\right) \\cdot (-9 v_{0}^{2} c_{6}^{2} + 9 w_{2}^{2} c_{6}^{2} + 350 w_{2}^{3} + 30 v_{0}^{2} c_{2} - 30 w_{2}^{2} c_{2} - 72 w_{2} c_{6}^{2} + 1960 v_{0}^{2} - 6160 w_{2}^{2} + 240 w_{2} c_{2} + 26880 w_{2})\\)</html>"
      ],
      "text/latex": [
       "$\\displaystyle 4 \\mapsto \\left(-\\frac{1}{9}\\right) \\cdot (-9 v_{0}^{2} c_{6}^{2} + 9 w_{2}^{2} c_{6}^{2} + 350 w_{2}^{3} + 30 v_{0}^{2} c_{2} - 30 w_{2}^{2} c_{2} - 72 w_{2} c_{6}^{2} + 1960 v_{0}^{2} - 6160 w_{2}^{2} + 240 w_{2} c_{2} + 26880 w_{2})$"
      ],
      "text/plain": [
       "4 \\mapsto \\left(-\\frac{1}{9}\\right) \\cdot (-9 v_{0}^{2} c_{6}^{2} + 9 w_{2}^{2} c_{6}^{2} + 350 w_{2}^{3} + 30 v_{0}^{2} c_{2} - 30 w_{2}^{2} c_{2} - 72 w_{2} c_{6}^{2} + 1960 v_{0}^{2} - 6160 w_{2}^{2} + 240 w_{2} c_{2} + 26880 w_{2})"
      ]
     },
     "metadata": {},
     "output_type": "display_data"
    },
    {
     "data": {
      "text/html": [
       "<html>\\(\\displaystyle 5 \\mapsto \\left(\\frac{1}{3}\\right) \\cdot (w_{2} - 4) \\cdot v_{0} \\cdot (3 c_{6}^{2} + 175 w_{2} - 10 c_{2} - 2520)\\)</html>"
      ],
      "text/latex": [
       "$\\displaystyle 5 \\mapsto \\left(\\frac{1}{3}\\right) \\cdot (w_{2} - 4) \\cdot v_{0} \\cdot (3 c_{6}^{2} + 175 w_{2} - 10 c_{2} - 2520)$"
      ],
      "text/plain": [
       "5 \\mapsto \\left(\\frac{1}{3}\\right) \\cdot (w_{2} - 4) \\cdot v_{0} \\cdot (3 c_{6}^{2} + 175 w_{2} - 10 c_{2} - 2520)"
      ]
     },
     "metadata": {},
     "output_type": "display_data"
    },
    {
     "data": {
      "text/html": [
       "<html>\\(\\displaystyle 6 \\mapsto \\left(-1\\right) \\cdot v_{0} \\cdot (-v_{0}^{2} + 3 w_{2}^{2} - 64 w_{2} + 192)\\)</html>"
      ],
      "text/latex": [
       "$\\displaystyle 6 \\mapsto \\left(-1\\right) \\cdot v_{0} \\cdot (-v_{0}^{2} + 3 w_{2}^{2} - 64 w_{2} + 192)$"
      ],
      "text/plain": [
       "6 \\mapsto \\left(-1\\right) \\cdot v_{0} \\cdot (-v_{0}^{2} + 3 w_{2}^{2} - 64 w_{2} + 192)"
      ]
     },
     "metadata": {},
     "output_type": "display_data"
    },
    {
     "data": {
      "text/html": [
       "<html>\\(\\displaystyle 7 \\mapsto \\left(-\\frac{1}{5}\\right) \\cdot (5 w_{0} + 2 c_{6}) \\cdot (-v_{0}^{2} + w_{2}^{2} - 8 w_{2})\\)</html>"
      ],
      "text/latex": [
       "$\\displaystyle 7 \\mapsto \\left(-\\frac{1}{5}\\right) \\cdot (5 w_{0} + 2 c_{6}) \\cdot (-v_{0}^{2} + w_{2}^{2} - 8 w_{2})$"
      ],
      "text/plain": [
       "7 \\mapsto \\left(-\\frac{1}{5}\\right) \\cdot (5 w_{0} + 2 c_{6}) \\cdot (-v_{0}^{2} + w_{2}^{2} - 8 w_{2})"
      ]
     },
     "metadata": {},
     "output_type": "display_data"
    },
    {
     "data": {
      "text/html": [
       "<html>\\(\\displaystyle 8 \\mapsto \\left(\\frac{1}{15}\\right) \\cdot v_{0} \\cdot (15 w_{0}^{2} - 15 w_{2}^{2} + 12 w_{0} c_{6} + 280 w_{2} + 8 c_{2} - 864)\\)</html>"
      ],
      "text/latex": [
       "$\\displaystyle 8 \\mapsto \\left(\\frac{1}{15}\\right) \\cdot v_{0} \\cdot (15 w_{0}^{2} - 15 w_{2}^{2} + 12 w_{0} c_{6} + 280 w_{2} + 8 c_{2} - 864)$"
      ],
      "text/plain": [
       "8 \\mapsto \\left(\\frac{1}{15}\\right) \\cdot v_{0} \\cdot (15 w_{0}^{2} - 15 w_{2}^{2} + 12 w_{0} c_{6} + 280 w_{2} + 8 c_{2} - 864)"
      ]
     },
     "metadata": {},
     "output_type": "display_data"
    },
    {
     "data": {
      "text/html": [
       "<html>\\(\\displaystyle 9 \\mapsto \\left(-\\frac{1}{3}\\right) \\cdot (-3 v_{0}^{2} w_{2} + w_{2}^{3} + 32 v_{0}^{2} - 32 w_{2}^{2} + 192 w_{2})\\)</html>"
      ],
      "text/latex": [
       "$\\displaystyle 9 \\mapsto \\left(-\\frac{1}{3}\\right) \\cdot (-3 v_{0}^{2} w_{2} + w_{2}^{3} + 32 v_{0}^{2} - 32 w_{2}^{2} + 192 w_{2})$"
      ],
      "text/plain": [
       "9 \\mapsto \\left(-\\frac{1}{3}\\right) \\cdot (-3 v_{0}^{2} w_{2} + w_{2}^{3} + 32 v_{0}^{2} - 32 w_{2}^{2} + 192 w_{2})"
      ]
     },
     "metadata": {},
     "output_type": "display_data"
    },
    {
     "data": {
      "text/html": [
       "<html>\\(\\displaystyle 10 \\mapsto \\left(\\frac{1}{5}\\right) \\cdot (w_{2} - 4) \\cdot (5 w_{0} + 2 c_{6}) \\cdot v_{0}\\)</html>"
      ],
      "text/latex": [
       "$\\displaystyle 10 \\mapsto \\left(\\frac{1}{5}\\right) \\cdot (w_{2} - 4) \\cdot (5 w_{0} + 2 c_{6}) \\cdot v_{0}$"
      ],
      "text/plain": [
       "10 \\mapsto \\left(\\frac{1}{5}\\right) \\cdot (w_{2} - 4) \\cdot (5 w_{0} + 2 c_{6}) \\cdot v_{0}"
      ]
     },
     "metadata": {},
     "output_type": "display_data"
    },
    {
     "data": {
      "text/html": [
       "<html>\\(\\displaystyle 11 \\mapsto \\left(\\frac{1}{15}\\right) \\cdot (15 w_{0}^{2} w_{2} - 5 w_{2}^{3} + 12 w_{0} w_{2} c_{6} - 40 v_{0}^{2} + 80 w_{2}^{2} + 8 w_{2} c_{2} - 384 w_{2})\\)</html>"
      ],
      "text/latex": [
       "$\\displaystyle 11 \\mapsto \\left(\\frac{1}{15}\\right) \\cdot (15 w_{0}^{2} w_{2} - 5 w_{2}^{3} + 12 w_{0} w_{2} c_{6} - 40 v_{0}^{2} + 80 w_{2}^{2} + 8 w_{2} c_{2} - 384 w_{2})$"
      ],
      "text/plain": [
       "11 \\mapsto \\left(\\frac{1}{15}\\right) \\cdot (15 w_{0}^{2} w_{2} - 5 w_{2}^{3} + 12 w_{0} w_{2} c_{6} - 40 v_{0}^{2} + 80 w_{2}^{2} + 8 w_{2} c_{2} - 384 w_{2})"
      ]
     },
     "metadata": {},
     "output_type": "display_data"
    }
   ],
   "source": [
    "for i, el in enumerate(ideal(out).radical().groebner_basis()):\n",
    "    show(LatexExpr(f\"{i} \\\\mapsto {latex(el.factor())}\"))"
   ]
  },
  {
   "cell_type": "code",
   "execution_count": 69,
   "metadata": {},
   "outputs": [],
   "source": [
    "## Solution (v_0 = 0) and (w_2 = 0) || PATH (A.1)\n",
    "LA1 = sum(m*c.wrapped(**sols) for (m,c) in zip(L.monomials(), L.coefficients()))\n",
    "PA1 = sum(m*c.wrapped(**sols) for (m,c) in zip(P.monomials(), P.coefficients()))"
   ]
  },
  {
   "cell_type": "code",
   "execution_count": 70,
   "metadata": {},
   "outputs": [],
   "source": [
    "## Solution (v_0 = 0) and (w_2 = 24) || PATH (A.2)\n",
    "LA2 = sum(m*c.wrapped(**sols) for (m,c) in zip(L.monomials(), L.coefficients()))\n",
    "PA2 = sum(m*c.wrapped(**sols) for (m,c) in zip(P.monomials(), P.coefficients()))"
   ]
  },
  {
   "cell_type": "code",
   "execution_count": 75,
   "metadata": {},
   "outputs": [],
   "source": [
    "## Solution (v_0 = 0) and (w_2 = 8) || PATH (A.3)\n",
    "LA3 = sum(m*c.wrapped(**sols) for (m,c) in zip(L.monomials(), L.coefficients()))\n",
    "PA3 = sum(m*c.wrapped(**sols) for (m,c) in zip(P.monomials(), P.coefficients()))"
   ]
  },
  {
   "cell_type": "markdown",
   "metadata": {
    "jp-MarkdownHeadingCollapsed": true,
    "tags": []
   },
   "source": [
    "## Differential resultant of two ordinary differential operators"
   ]
  },
  {
   "cell_type": "markdown",
   "metadata": {
    "jp-MarkdownHeadingCollapsed": true,
    "tags": []
   },
   "source": [
    "Let $(\\mathbb{K}, \\partial)$ be a differential field of characterisfic zero and consider two differential operators\n",
    "$\\mathcal{A}, \\mathcal{B} \\in \\mathbb{K}[D]$, where for any $\\alpha in \\mathbb{K}$:\n",
    "\n",
    "$$D \\alpha = \\alpha D + \\partial(\\alpha).$$\n",
    "\n",
    "We want to compute the differential resultant of these two operators. This can be done algebraically, since these operators are basically polynomials in the non-commutative variable $D$, using Sylvester resultant.\n",
    "\n",
    "Currently this structure is not available on the package `dalgebra` and the package `ore_algebra` may not work in all cases to handle these type of operators. \n",
    "\n",
    "Anyway, we can reinterpret differential operators as homogeneous differential polynomials in one variable (let call this variable $w(x)$). Then the differential resultant of the two differential operators is the differential resultant of the two differential polynomials eliminating the variable $w(x)$.\n",
    "\n",
    "\n",
    "#### 1. Setting up the example\n",
    "\n",
    "In the paper *Algebro-geometric solitonic solutions and Differential Galois Theory*, the authors studied some spectral curves. They considered the Schr\\\"odinger operator\n",
    "$$L = -\\partial^2  + u,$$\n",
    "where $u(x)$ is a differential indeterminate that is calle a *potential*. \n",
    "\n",
    "Then, they consider some other operators (coming from the KdV hierarchy?):\n",
    "$$\\begin{array}{l}\n",
    "    \\tilde{P_1} = P_1,\\\\\n",
    "    \\tilde{P_3} = P_3 + c_1P_1,\\\\\n",
    "    \\tilde{P_5} = P_5 + c_2P_3 + c_1P_1,\n",
    "\\end{array}$$\n",
    "where the operators $P_1$, $P_3$ and $P_5$ are defined as follows:\n",
    "$$\\begin{array}{l}\n",
    "    P_1 = \\partial,\\\\\n",
    "    P_3 = -\\partial^3+\\frac{3}{2} u \\partial +\\frac{3}{4}u',\\\\\n",
    "    P_5 = \\partial^5-\\frac{5}{2}u \\partial^3-\\frac{15}{4}u'\\partial^2+\\frac{15}{8}u^2\\partial-\\frac{25}{8}u''\\partial -\\frac{15}{16}u'''+\\frac{15}{8}u u'.\n",
    "\\end{array}$$\n",
    "\n",
    "The differential resultants they computed were:\n",
    "$$dres(L - \\lambda, \\tilde{P}_3 - \\mu),\\qquad dres(L - \\lambda, \\tilde{P}_5 - \\mu).$$\n",
    "\n",
    "Hence we have to work on the differential ring: $\\mathbb{C}\\{u\\}[c_i][\\lambda, \\mu]$ and consider those operators in that ring. We are going to create several variables for each step of the process:\n",
    "\n",
    "* `B` will represent the ring with the potential: $\\mathbb{C}\\{u\\}$.\n",
    "* `R` will represent the addition of the constants: $\\mathbb{C}\\{u\\}[c_i]$.\n",
    "* `S` will represent the addition of the two spectral parameters: $\\mathbb{C}\\{u\\}[c_i][\\lambda,\\mu]$.\n",
    "* Finally, `F` will represent the ring with the extra differential variable $w(x)$ that allow us to represent the differential operators as differential polynomials: $\\mathbb{C}\\{u\\}[c_i][\\lambda, \\mu]\\{w\\}$."
   ]
  },
  {
   "cell_type": "markdown",
   "metadata": {},
   "source": [
    "We are going to rearrange the creation of the ring so the differential computations are performed properly.\n",
    "\n",
    "For doing so, we are going to compute the ring $\\mathbb{C}[c_1,c_2,\\lambda,\\mu]\\{u,w\\}$. Then we can set the derivation on the base polynomial ring to be the constant zero (since all the variables there are constant w.r.t. the derivation) and the differential behavior of $u$ and $w$ is preserved properly."
   ]
  },
  {
   "cell_type": "code",
   "execution_count": 6,
   "metadata": {},
   "outputs": [
    {
     "data": {
      "text/html": [
       "<html>\\(\\displaystyle \\newcommand{\\Bold}[1]{\\mathbf{#1}}\\left(\\Bold{Q}[c_{1}, c_{2}, l, m], 0\\right) \\{ u, w \\}\\)</html>"
      ],
      "text/latex": [
       "$\\displaystyle \\newcommand{\\Bold}[1]{\\mathbf{#1}}\\left(\\Bold{Q}[c_{1}, c_{2}, l, m], 0\\right) \\{ u, w \\}$"
      ],
      "text/plain": [
       "Ring of operator polynomials in (u, w) over Differential Ring [[Multivariate Polynomial Ring in c_1, c_2, l, m over Rational Field], (0,)]"
      ]
     },
     "execution_count": 6,
     "metadata": {},
     "output_type": "execute_result"
    }
   ],
   "source": [
    "B.<c_1,c_2,l,m> = QQ[]\n",
    "dB = DifferentialRing(B, lambda p : 0)\n",
    "F.<u,w> = DifferentialPolynomialRing(dB); F"
   ]
  },
  {
   "cell_type": "markdown",
   "metadata": {},
   "source": [
    "At this point we can create the differential operators as differential polynomials:"
   ]
  },
  {
   "cell_type": "code",
   "execution_count": 7,
   "metadata": {},
   "outputs": [],
   "source": [
    "L = -w[2] + u[0]*w[0]"
   ]
  },
  {
   "cell_type": "code",
   "execution_count": 8,
   "metadata": {},
   "outputs": [],
   "source": [
    "P1 = w[1]\n",
    "P3 = -w[3] + (3/2)*u[0]*w[1] + (3/4)*u[1]*w[0]\n",
    "P5 = w[5] - (5/2)*u[0]*w[3] - (15/4)*u[1]*w[2] + (15/8)*u[0]^2*w[1] - (25/8)*u[2]*w[1] - (15/16)*u[3]*w[0] + (15/8)*u[0]*u[1]*w[0]"
   ]
  },
  {
   "cell_type": "code",
   "execution_count": 9,
   "metadata": {},
   "outputs": [],
   "source": [
    "tP3 = P3 + c_1*P1\n",
    "tP5 = P5 + c_2*P3 + c_1*P1"
   ]
  },
  {
   "cell_type": "code",
   "execution_count": 10,
   "metadata": {},
   "outputs": [],
   "source": [
    "op1 = L-l*w[0]; op2 = tP3 - m*w[0]; op3 = tP5 - m*w[0]"
   ]
  },
  {
   "cell_type": "markdown",
   "metadata": {},
   "source": [
    "#### 2. The first differential resultant\n",
    "\n",
    "We are going to look now to the differential resultant of `op1` and `op2`, i.e.:\n",
    "$$dres(L-\\lambda, \\tilde{P}_3-\\mu)$$\n",
    "eliminating the variable $w$.\n",
    "\n",
    "For doing so, we need to use the class `DifferentialSystem` indicating the two differential polynomials involved and the variables we will eliminate:"
   ]
  },
  {
   "cell_type": "code",
   "execution_count": 11,
   "metadata": {},
   "outputs": [
    {
     "data": {
      "text/html": [
       "<html>\\(\\displaystyle \\newcommand{\\Bold}[1]{\\mathbf{#1}}\\text{System over } \\left(\\Bold{Q}[c_{1}, c_{2}, l, m], 0\\right) \\{ u, w \\} \\text{ with variables } w_{\\ast} :\n",
       "\n",
       " \\left\\{\\begin{array}{ll} 1 u_{0} w_{0} - w_{2} + \\left(-l\\right) w_{0} & = 0 \\\\\n",
       "\\frac{3}{4} u_{1} w_{0} + \\frac{3}{2} u_{0} w_{1} - w_{3} + c_{1} w_{1} + \\left(-m\\right) w_{0} & = 0 \\\\ \n",
       "\\end{array}\\right.\\)</html>"
      ],
      "text/latex": [
       "$\\displaystyle \\newcommand{\\Bold}[1]{\\mathbf{#1}}\\text{System over } \\left(\\Bold{Q}[c_{1}, c_{2}, l, m], 0\\right) \\{ u, w \\} \\text{ with variables } w_{\\ast} :\n",
       "\n",
       " \\left\\{\\begin{array}{ll} 1 u_{0} w_{0} - w_{2} + \\left(-l\\right) w_{0} & = 0 \\\\\n",
       "\\frac{3}{4} u_{1} w_{0} + \\frac{3}{2} u_{0} w_{1} - w_{3} + c_{1} w_{1} + \\left(-m\\right) w_{0} & = 0 \\\\ \n",
       "\\end{array}\\right.$"
      ],
      "text/plain": [
       "System over [Ring of operator polynomials in (u, w) over Differential Ring [[Multivariate Polynomial Ring in c_1, c_2, l, m over Rational Field], (0,)]] with variables [(w_*,)]:\n",
       "{\n",
       "\tu_0*w_0 - w_2 + (-l)*w_0 == 0\n",
       "\t3/4*u_1*w_0 + 3/2*u_0*w_1 - w_3 + c_1*w_1 + (-m)*w_0 == 0\n",
       "}"
      ]
     },
     "execution_count": 11,
     "metadata": {},
     "output_type": "execute_result"
    }
   ],
   "source": [
    "system1 = DifferentialSystem([op1, op2], variables=[w])\n",
    "system1"
   ]
  },
  {
   "cell_type": "code",
   "execution_count": 13,
   "metadata": {},
   "outputs": [
    {
     "data": {
      "text/html": [
       "<html>\\(\\displaystyle \\frac{1}{4} u_{0}^{3} + \\left(-\\frac{1}{8}\\right) u_{2} u_{0} + \\frac{1}{16} u_{1}^{2} + \\left(c_{1} + \\frac{3}{4} l\\right) u_{0}^{2} + \\left(-\\frac{1}{4} c_{1} - \\frac{1}{4} l\\right) u_{2} + \\left(c_{1}^{2} + c_{1} l\\right) u_{0} - c_{1}^{2} l - 2 c_{1} l^{2} - l^{3} - m^{2}\\)</html>"
      ],
      "text/latex": [
       "$\\displaystyle \\frac{1}{4} u_{0}^{3} + \\left(-\\frac{1}{8}\\right) u_{2} u_{0} + \\frac{1}{16} u_{1}^{2} + \\left(c_{1} + \\frac{3}{4} l\\right) u_{0}^{2} + \\left(-\\frac{1}{4} c_{1} - \\frac{1}{4} l\\right) u_{2} + \\left(c_{1}^{2} + c_{1} l\\right) u_{0} - c_{1}^{2} l - 2 c_{1} l^{2} - l^{3} - m^{2}$"
      ],
      "text/plain": [
       "1/4*u_0^3 + (-1/8)*u_2*u_0 + 1/16*u_1^2 + (c_1 + 3/4*l)*u_0^2 + (-1/4*c_1 - 1/4*l)*u_2 + (c_1^2 + c_1*l)*u_0 - c_1^2*l - 2*c_1*l^2 - l^3 - m^2"
      ]
     },
     "execution_count": 13,
     "metadata": {},
     "output_type": "execute_result"
    }
   ],
   "source": [
    "dres_system1 = system1.diff_resultant(alg_res=\"macaulay\")\n",
    "dres_system1"
   ]
  },
  {
   "cell_type": "markdown",
   "metadata": {},
   "source": [
    "At this point, to extrac the coefficients we will need to change the order of the variables appearing in this polynomial:\n",
    "\n",
    "**WARNING: Maybe this is something we can do automatically... however this comes from the fact that the original structure we wanted to create failed cuurently in `dalgebra`**"
   ]
  },
  {
   "cell_type": "markdown",
   "metadata": {},
   "source": [
    "#### 3. The second differential resultant\n",
    "\n",
    "We are going to look now to the differential resultant of `op1` and `op3`, i.e.:\n",
    "$$dres(L-\\lambda, \\tilde{P}_5-\\mu)$$\n",
    "eliminating the variable $w$.\n",
    "\n",
    "For doing so, we need to use the class `DifferentialSystem` indicating the two differential polynomials involved and the variables we will eliminate:"
   ]
  },
  {
   "cell_type": "code",
   "execution_count": 14,
   "metadata": {},
   "outputs": [
    {
     "data": {
      "text/html": [
       "<html>\\(\\displaystyle \\newcommand{\\Bold}[1]{\\mathbf{#1}}\\text{System over } \\left(\\Bold{Q}[c_{1}, c_{2}, l, m], 0\\right) \\{ u, w \\} \\text{ with variables } w_{\\ast} :\n",
       "\n",
       " \\left\\{\\begin{array}{ll} 1 u_{0} w_{0} - w_{2} + \\left(-l\\right) w_{0} & = 0 \\\\\n",
       "\\frac{15}{8} u_{1} u_{0} w_{0} + \\frac{15}{8} u_{0}^{2} w_{1} + \\left(-\\frac{15}{16}\\right) u_{3} w_{0} + \\left(-\\frac{25}{8}\\right) u_{2} w_{1} + \\left(-\\frac{15}{4}\\right) u_{1} w_{2} + \\left(\\frac{3}{4} c_{2}\\right) u_{1} w_{0} + \\left(-\\frac{5}{2}\\right) u_{0} w_{3} + \\left(\\frac{3}{2} c_{2}\\right) u_{0} w_{1} + 1 w_{5} + \\left(-c_{2}\\right) w_{3} + c_{1} w_{1} + \\left(-m\\right) w_{0} & = 0 \\\\ \n",
       "\\end{array}\\right.\\)</html>"
      ],
      "text/latex": [
       "$\\displaystyle \\newcommand{\\Bold}[1]{\\mathbf{#1}}\\text{System over } \\left(\\Bold{Q}[c_{1}, c_{2}, l, m], 0\\right) \\{ u, w \\} \\text{ with variables } w_{\\ast} :\n",
       "\n",
       " \\left\\{\\begin{array}{ll} 1 u_{0} w_{0} - w_{2} + \\left(-l\\right) w_{0} & = 0 \\\\\n",
       "\\frac{15}{8} u_{1} u_{0} w_{0} + \\frac{15}{8} u_{0}^{2} w_{1} + \\left(-\\frac{15}{16}\\right) u_{3} w_{0} + \\left(-\\frac{25}{8}\\right) u_{2} w_{1} + \\left(-\\frac{15}{4}\\right) u_{1} w_{2} + \\left(\\frac{3}{4} c_{2}\\right) u_{1} w_{0} + \\left(-\\frac{5}{2}\\right) u_{0} w_{3} + \\left(\\frac{3}{2} c_{2}\\right) u_{0} w_{1} + 1 w_{5} + \\left(-c_{2}\\right) w_{3} + c_{1} w_{1} + \\left(-m\\right) w_{0} & = 0 \\\\ \n",
       "\\end{array}\\right.$"
      ],
      "text/plain": [
       "System over [Ring of operator polynomials in (u, w) over Differential Ring [[Multivariate Polynomial Ring in c_1, c_2, l, m over Rational Field], (0,)]] with variables [(w_*,)]:\n",
       "{\n",
       "\tu_0*w_0 - w_2 + (-l)*w_0 == 0\n",
       "\t15/8*u_1*u_0*w_0 + 15/8*u_0^2*w_1 + (-15/16)*u_3*w_0 + (-25/8)*u_2*w_1 + (-15/4)*u_1*w_2 + 3/4*c_2*u_1*w_0 + (-5/2)*u_0*w_3 + 3/2*c_2*u_0*w_1 + w_5 + (-c_2)*w_3 + c_1*w_1 + (-m)*w_0 == 0\n",
       "}"
      ]
     },
     "execution_count": 14,
     "metadata": {},
     "output_type": "execute_result"
    }
   ],
   "source": [
    "system2 = DifferentialSystem([op1, op3], variables=[w])\n",
    "system2"
   ]
  },
  {
   "cell_type": "code",
   "execution_count": 16,
   "metadata": {},
   "outputs": [
    {
     "data": {
      "text/html": [
       "<html>\\(\\displaystyle \\frac{9}{64} u_{0}^{5} + \\left(-\\frac{15}{64}\\right) u_{2} u_{0}^{3} + \\left(\\frac{3}{8} c_{2} + \\frac{15}{64} l\\right) u_{0}^{4} + \\frac{3}{128} u_{4} u_{0}^{2} + \\left(-\\frac{3}{64}\\right) u_{3} u_{1} u_{0} + \\frac{1}{16} u_{2}^{2} u_{0} + \\frac{3}{64} u_{2} u_{1}^{2} + \\left(-\\frac{13}{32} c_{2} - \\frac{5}{16} l\\right) u_{2} u_{0}^{2} + \\left(\\frac{1}{4} c_{2}^{2} + \\frac{7}{8} c_{2} l + \\frac{5}{8} l^{2} + \\frac{3}{4} c_{1}\\right) u_{0}^{3} + \\left(-\\frac{1}{128}\\right) u_{4} u_{2} + \\left(\\frac{1}{32} c_{2} + \\frac{1}{32} l\\right) u_{4} u_{0} + \\frac{1}{256} u_{3}^{2} + \\left(-\\frac{1}{32} c_{2} - \\frac{1}{32} l\\right) u_{3} u_{1} + \\left(\\frac{1}{32} c_{2} + \\frac{1}{64} l\\right) u_{2}^{2} + \\left(-\\frac{1}{8} c_{2}^{2} - \\frac{3}{4} c_{2} l - \\frac{5}{8} l^{2} - \\frac{5}{8} c_{1}\\right) u_{2} u_{0} + \\left(\\frac{1}{16} c_{2}^{2} - \\frac{1}{4} c_{2} l - \\frac{5}{16} l^{2} - \\frac{3}{8} c_{1}\\right) u_{1}^{2} + \\left(\\frac{3}{4} c_{2}^{2} l + \\frac{3}{4} c_{2} l^{2} + c_{1} c_{2} + \\frac{1}{4} c_{1} l\\right) u_{0}^{2} + \\left(\\frac{1}{16} c_{2} l + \\frac{1}{16} l^{2} + \\frac{1}{16} c_{1}\\right) u_{4} + \\left(-\\frac{1}{4} c_{2}^{2} l - \\frac{1}{4} c_{2} l^{2} - \\frac{1}{4} c_{1} c_{2}\\right) u_{2} + \\left(c_{1} c_{2} l + c_{1} l^{2} + c_{1}^{2}\\right) u_{0} - c_{2}^{2} l^{3} - 2 c_{2} l^{4} - l^{5} - 2 c_{1} c_{2} l^{2} - 2 c_{1} l^{3} - c_{1}^{2} l - m^{2}\\)</html>"
      ],
      "text/latex": [
       "$\\displaystyle \\frac{9}{64} u_{0}^{5} + \\left(-\\frac{15}{64}\\right) u_{2} u_{0}^{3} + \\left(\\frac{3}{8} c_{2} + \\frac{15}{64} l\\right) u_{0}^{4} + \\frac{3}{128} u_{4} u_{0}^{2} + \\left(-\\frac{3}{64}\\right) u_{3} u_{1} u_{0} + \\frac{1}{16} u_{2}^{2} u_{0} + \\frac{3}{64} u_{2} u_{1}^{2} + \\left(-\\frac{13}{32} c_{2} - \\frac{5}{16} l\\right) u_{2} u_{0}^{2} + \\left(\\frac{1}{4} c_{2}^{2} + \\frac{7}{8} c_{2} l + \\frac{5}{8} l^{2} + \\frac{3}{4} c_{1}\\right) u_{0}^{3} + \\left(-\\frac{1}{128}\\right) u_{4} u_{2} + \\left(\\frac{1}{32} c_{2} + \\frac{1}{32} l\\right) u_{4} u_{0} + \\frac{1}{256} u_{3}^{2} + \\left(-\\frac{1}{32} c_{2} - \\frac{1}{32} l\\right) u_{3} u_{1} + \\left(\\frac{1}{32} c_{2} + \\frac{1}{64} l\\right) u_{2}^{2} + \\left(-\\frac{1}{8} c_{2}^{2} - \\frac{3}{4} c_{2} l - \\frac{5}{8} l^{2} - \\frac{5}{8} c_{1}\\right) u_{2} u_{0} + \\left(\\frac{1}{16} c_{2}^{2} - \\frac{1}{4} c_{2} l - \\frac{5}{16} l^{2} - \\frac{3}{8} c_{1}\\right) u_{1}^{2} + \\left(\\frac{3}{4} c_{2}^{2} l + \\frac{3}{4} c_{2} l^{2} + c_{1} c_{2} + \\frac{1}{4} c_{1} l\\right) u_{0}^{2} + \\left(\\frac{1}{16} c_{2} l + \\frac{1}{16} l^{2} + \\frac{1}{16} c_{1}\\right) u_{4} + \\left(-\\frac{1}{4} c_{2}^{2} l - \\frac{1}{4} c_{2} l^{2} - \\frac{1}{4} c_{1} c_{2}\\right) u_{2} + \\left(c_{1} c_{2} l + c_{1} l^{2} + c_{1}^{2}\\right) u_{0} - c_{2}^{2} l^{3} - 2 c_{2} l^{4} - l^{5} - 2 c_{1} c_{2} l^{2} - 2 c_{1} l^{3} - c_{1}^{2} l - m^{2}$"
      ],
      "text/plain": [
       "9/64*u_0^5 + (-15/64)*u_2*u_0^3 + (3/8*c_2 + 15/64*l)*u_0^4 + 3/128*u_4*u_0^2 + (-3/64)*u_3*u_1*u_0 + 1/16*u_2^2*u_0 + 3/64*u_2*u_1^2 + (-13/32*c_2 - 5/16*l)*u_2*u_0^2 + (1/4*c_2^2 + 7/8*c_2*l + 5/8*l^2 + 3/4*c_1)*u_0^3 + (-1/128)*u_4*u_2 + (1/32*c_2 + 1/32*l)*u_4*u_0 + 1/256*u_3^2 + (-1/32*c_2 - 1/32*l)*u_3*u_1 + (1/32*c_2 + 1/64*l)*u_2^2 + (-1/8*c_2^2 - 3/4*c_2*l - 5/8*l^2 - 5/8*c_1)*u_2*u_0 + (1/16*c_2^2 - 1/4*c_2*l - 5/16*l^2 - 3/8*c_1)*u_1^2 + (3/4*c_2^2*l + 3/4*c_2*l^2 + c_1*c_2 + 1/4*c_1*l)*u_0^2 + (1/16*c_2*l + 1/16*l^2 + 1/16*c_1)*u_4 + (-1/4*c_2^2*l - 1/4*c_2*l^2 - 1/4*c_1*c_2)*u_2 + (c_1*c_2*l + c_1*l^2 + c_1^2)*u_0 - c_2^2*l^3 - 2*c_2*l^4 - l^5 - 2*c_1*c_2*l^2 - 2*c_1*l^3 - c_1^2*l - m^2"
      ]
     },
     "execution_count": 16,
     "metadata": {},
     "output_type": "execute_result"
    }
   ],
   "source": [
    "dres_system2 = system2.diff_resultant(alg_res=\"macaulay\")\n",
    "dres_system2"
   ]
  },
  {
   "cell_type": "markdown",
   "metadata": {},
   "source": [
    "Once again, we reorganize the variable to be more readable with respect to the variables $\\lambda$ and $\\mu$:"
   ]
  }
 ],
 "metadata": {
  "kernelspec": {
   "display_name": "SageMath 9.7",
   "language": "sage",
   "name": "sagemath"
  },
  "language_info": {
   "codemirror_mode": {
    "name": "ipython",
    "version": 3
   },
   "file_extension": ".py",
   "mimetype": "text/x-python",
   "name": "python",
   "nbconvert_exporter": "python",
   "pygments_lexer": "ipython3",
   "version": "3.10.5"
  }
 },
 "nbformat": 4,
 "nbformat_minor": 4
}
