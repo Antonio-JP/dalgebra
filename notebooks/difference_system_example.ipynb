{
 "cells": [
  {
   "cell_type": "markdown",
   "metadata": {},
   "source": [
    "# Example with a linear difference system\n",
    "\n",
    "Using the last update (dalgebra-0.0.20220428.1815) we can treat now difference rings too. Let's see how to work with them with a very simple linear system:"
   ]
  },
  {
   "cell_type": "code",
   "execution_count": 1,
   "metadata": {},
   "outputs": [],
   "source": [
    "%display latex\n",
    "from dalgebra import *"
   ]
  },
  {
   "cell_type": "markdown",
   "metadata": {},
   "source": [
    "The system has 2 state variables $C(n)$ and $S(n)$ and the difference system can be written using the parameters $K_{se}, I_0, K_{cp}$ and $K_{rb}$. We need to create these variables and set the difference ring such that everything is a constant:\n",
    "\n",
    "$$\\begin{array}{rcl}\n",
    "    I_0 & \\mapsto & \\texttt{I_0}\\\\\n",
    "    K_{se} & \\mapsto & \\texttt{K_se}\\\\\n",
    "    K_{cp} & \\mapsto & \\texttt{K_cp}\\\\\n",
    "    K_{rb} & \\mapsto & \\texttt{K_rb}\n",
    "\\end{array}$$"
   ]
  },
  {
   "cell_type": "code",
   "execution_count": 2,
   "metadata": {},
   "outputs": [
    {
     "name": "stdout",
     "output_type": "stream",
     "text": [
      "All are constants ->  True\n"
     ]
    },
    {
     "data": {
      "text/html": [
       "<html>\\[\\newcommand{\\Bold}[1]{\\mathbf{#1}}\\left( \\Bold{Q}[I_{0}, K_{\\mathit{se}}, K_{\\mathit{cp}}, K_{\\mathit{rb}}, K_{\\mathit{sc}}] , \\begin{array}{rcl}I_{0} \\mapsto I_{0}\\\\K_{\\mathit{se}} \\mapsto K_{\\mathit{se}}\\\\K_{\\mathit{cp}} \\mapsto K_{\\mathit{cp}}\\\\K_{\\mathit{rb}} \\mapsto K_{\\mathit{rb}}\\\\K_{\\mathit{sc}} \\mapsto K_{\\mathit{sc}}\\end{array} \\right)\\]</html>"
      ],
      "text/latex": [
       "$$\\newcommand{\\Bold}[1]{\\mathbf{#1}}\\left( \\Bold{Q}[I_{0}, K_{\\mathit{se}}, K_{\\mathit{cp}}, K_{\\mathit{rb}}, K_{\\mathit{sc}}] , \\begin{array}{rcl}I_{0} \\mapsto I_{0}\\\\K_{\\mathit{se}} \\mapsto K_{\\mathit{se}}\\\\K_{\\mathit{cp}} \\mapsto K_{\\mathit{cp}}\\\\K_{\\mathit{rb}} \\mapsto K_{\\mathit{rb}}\\\\K_{\\mathit{sc}} \\mapsto K_{\\mathit{sc}}\\end{array} \\right)$$"
      ],
      "text/plain": [
       "Difference Ring [Multivariate Polynomial Ring in I_0, K_se, K_cp, K_rb, K_sc over Rational Field] with difference [Map from callable <lambda>]"
      ]
     },
     "execution_count": 2,
     "metadata": {},
     "output_type": "execute_result"
    }
   ],
   "source": [
    "R.<I_0, K_se, K_cp, K_rb, K_sc> = QQ[]\n",
    "DR = DifferenceRing(R)\n",
    "## We update the variables\n",
    "I_0, K_se, K_cp, K_rb, K_sc = DR.gens()\n",
    "## We check that all these are constants\n",
    "print(\"All are constants -> \", all(el.difference() == el for el in DR.gens()))\n",
    "\n",
    "DR"
   ]
  },
  {
   "cell_type": "markdown",
   "metadata": {},
   "source": [
    "In order to build the system, we need to create the two difference variables $C(n)$ and $S(n)$. In the code, these will be represented by $\\texttt{C}$ and $\\texttt{S}$ such that $\\texttt{C[k]} = C(n+k)$ and $\\texttt{S[k]} = S(n+k)$. We do that with the class `DifferencePolynomialRing`:"
   ]
  },
  {
   "cell_type": "code",
   "execution_count": 4,
   "metadata": {},
   "outputs": [
    {
     "data": {
      "text/html": [
       "<html>\\[\\newcommand{\\Bold}[1]{\\mathbf{#1}}\\left( \\Bold{Q}[I_{0}, K_{\\mathit{se}}, K_{\\mathit{cp}}, K_{\\mathit{rb}}, K_{\\mathit{sc}}] , \\begin{array}{rcl}I_{0} \\mapsto I_{0}\\\\K_{\\mathit{se}} \\mapsto K_{\\mathit{se}}\\\\K_{\\mathit{cp}} \\mapsto K_{\\mathit{cp}}\\\\K_{\\mathit{rb}} \\mapsto K_{\\mathit{rb}}\\\\K_{\\mathit{sc}} \\mapsto K_{\\mathit{sc}}\\end{array} \\right) \\{ C, S \\}\\]</html>"
      ],
      "text/latex": [
       "$$\\newcommand{\\Bold}[1]{\\mathbf{#1}}\\left( \\Bold{Q}[I_{0}, K_{\\mathit{se}}, K_{\\mathit{cp}}, K_{\\mathit{rb}}, K_{\\mathit{sc}}] , \\begin{array}{rcl}I_{0} \\mapsto I_{0}\\\\K_{\\mathit{se}} \\mapsto K_{\\mathit{se}}\\\\K_{\\mathit{cp}} \\mapsto K_{\\mathit{cp}}\\\\K_{\\mathit{rb}} \\mapsto K_{\\mathit{rb}}\\\\K_{\\mathit{sc}} \\mapsto K_{\\mathit{sc}}\\end{array} \\right) \\{ C, S \\}$$"
      ],
      "text/plain": [
       "Ring of difference polynomials in (C, S) over Difference Ring [Multivariate Polynomial Ring in I_0, K_se, K_cp, K_rb, K_sc over Rational Field] with difference [Map from callable <lambda>]"
      ]
     },
     "execution_count": 4,
     "metadata": {},
     "output_type": "execute_result"
    }
   ],
   "source": [
    "DPR.<C,S> = DifferencePolynomialRing(DR)\n",
    "DPR"
   ]
  },
  {
   "cell_type": "code",
   "execution_count": 5,
   "metadata": {},
   "outputs": [
    {
     "data": {
      "text/html": [
       "<html>\\[\\newcommand{\\Bold}[1]{\\mathbf{#1}}\\left(C_{\\ast}, S_{\\ast}\\right)\\]</html>"
      ],
      "text/latex": [
       "$$\\newcommand{\\Bold}[1]{\\mathbf{#1}}\\left(C_{\\ast}, S_{\\ast}\\right)$$"
      ],
      "text/plain": [
       "(C_*, S_*)"
      ]
     },
     "execution_count": 5,
     "metadata": {},
     "output_type": "execute_result"
    }
   ],
   "source": [
    "C, S"
   ]
  },
  {
   "cell_type": "markdown",
   "metadata": {},
   "source": [
    "At this point we can create a Difference system with the appropiate equations:"
   ]
  },
  {
   "cell_type": "code",
   "execution_count": 6,
   "metadata": {},
   "outputs": [
    {
     "data": {
      "text/html": [
       "<html>\\[\\newcommand{\\Bold}[1]{\\mathbf{#1}}\\text{System over } \\left( \\Bold{Q}[I_{0}, K_{\\mathit{se}}, K_{\\mathit{cp}}, K_{\\mathit{rb}}, K_{\\mathit{sc}}] , \\begin{array}{rcl}I_{0} \\mapsto I_{0}\\\\K_{\\mathit{se}} \\mapsto K_{\\mathit{se}}\\\\K_{\\mathit{cp}} \\mapsto K_{\\mathit{cp}}\\\\K_{\\mathit{rb}} \\mapsto K_{\\mathit{rb}}\\\\K_{\\mathit{sc}} \\mapsto K_{\\mathit{sc}}\\end{array} \\right) \\{ C, S \\} \\text{ with variables } C_{\\ast}, S_{\\ast} :\n",
       "\n",
       " \\left\\{\\begin{array}{ll} K_{\\mathit{se}} C_{0} S_{0} + 1 C_{1} + \\left(K_{\\mathit{cp}} + K_{\\mathit{rb}} - 1\\right) C_{0} + \\left(-I_{0} K_{\\mathit{se}}\\right) S_{0} & = 0 \\\\\n",
       "\\left(-K_{\\mathit{sc}}\\right) C_{0} S_{0} + \\left(-K_{\\mathit{rb}}\\right) C_{0} + 1 S_{1} + \\left(I_{0} K_{\\mathit{se}} - 1\\right) S_{0} & = 0 \\\\ \n",
       "\\end{array}\\right.\\]</html>"
      ],
      "text/latex": [
       "$$\\newcommand{\\Bold}[1]{\\mathbf{#1}}\\text{System over } \\left( \\Bold{Q}[I_{0}, K_{\\mathit{se}}, K_{\\mathit{cp}}, K_{\\mathit{rb}}, K_{\\mathit{sc}}] , \\begin{array}{rcl}I_{0} \\mapsto I_{0}\\\\K_{\\mathit{se}} \\mapsto K_{\\mathit{se}}\\\\K_{\\mathit{cp}} \\mapsto K_{\\mathit{cp}}\\\\K_{\\mathit{rb}} \\mapsto K_{\\mathit{rb}}\\\\K_{\\mathit{sc}} \\mapsto K_{\\mathit{sc}}\\end{array} \\right) \\{ C, S \\} \\text{ with variables } C_{\\ast}, S_{\\ast} :\n",
       "\n",
       " \\left\\{\\begin{array}{ll} K_{\\mathit{se}} C_{0} S_{0} + 1 C_{1} + \\left(K_{\\mathit{cp}} + K_{\\mathit{rb}} - 1\\right) C_{0} + \\left(-I_{0} K_{\\mathit{se}}\\right) S_{0} & = 0 \\\\\n",
       "\\left(-K_{\\mathit{sc}}\\right) C_{0} S_{0} + \\left(-K_{\\mathit{rb}}\\right) C_{0} + 1 S_{1} + \\left(I_{0} K_{\\mathit{se}} - 1\\right) S_{0} & = 0 \\\\ \n",
       "\\end{array}\\right.$$"
      ],
      "text/plain": [
       "System over [Ring of difference polynomials in (C, S) over Difference Ring [Multivariate Polynomial Ring in I_0, K_se, K_cp, K_rb, K_sc over Rational Field] with difference [Map from callable <lambda>]] with variables [(C_*, S_*)]:\n",
       "{\n",
       "\tK_se*C_0*S_0 + C_1 + (K_cp + K_rb - 1)*C_0 + (-I_0*K_se)*S_0 == 0\n",
       "\t(-K_sc)*C_0*S_0 + (-K_rb)*C_0 + S_1 + (I_0*K_se - 1)*S_0 == 0\n",
       "}"
      ]
     },
     "execution_count": 6,
     "metadata": {},
     "output_type": "execute_result"
    }
   ],
   "source": [
    "from dalgebra.diff_polynomial.diff_polynomial_system import DifferenceSystem\n",
    "\n",
    "system = DifferenceSystem([\n",
    "    C[1] - K_se*I_0 * S[0] - (1 - K_cp - K_rb) * C[0] + K_se*S[0]*C[0],\n",
    "    S[1] - (1 - K_se * I_0) * S[0] - K_rb * C[0] - K_sc * C[0] * S[0]\n",
    "], variables = [C,S])\n",
    "system"
   ]
  },
  {
   "cell_type": "markdown",
   "metadata": {},
   "source": [
    "Let us consider now the output variables, that will be another system only focused on $S(n)$, so it will have coefficients using some shifts of $C(n)$:"
   ]
  },
  {
   "cell_type": "code",
   "execution_count": 7,
   "metadata": {},
   "outputs": [],
   "source": [
    "A = [\n",
    "    -C[1] + (1 - K_cp  - K_rb) * C[0],\n",
    "    K_se * I_0 - K_se * C[0]\n",
    "]\n",
    "B = [\n",
    "    K_rb * C[0],\n",
    "    1 - K_se * I_0 + K_sc * C[0],\n",
    "    -1\n",
    "]"
   ]
  },
  {
   "cell_type": "code",
   "execution_count": 8,
   "metadata": {},
   "outputs": [
    {
     "data": {
      "text/html": [
       "<html>\\[\\newcommand{\\Bold}[1]{\\mathbf{#1}}\\text{System over } \\left( \\Bold{Q}[I_{0}, K_{\\mathit{se}}, K_{\\mathit{cp}}, K_{\\mathit{rb}}, K_{\\mathit{sc}}] , \\begin{array}{rcl}I_{0} \\mapsto I_{0}\\\\K_{\\mathit{se}} \\mapsto K_{\\mathit{se}}\\\\K_{\\mathit{cp}} \\mapsto K_{\\mathit{cp}}\\\\K_{\\mathit{rb}} \\mapsto K_{\\mathit{rb}}\\\\K_{\\mathit{sc}} \\mapsto K_{\\mathit{sc}}\\end{array} \\right) \\{ C, S \\} \\text{ with variables } S_{\\ast} :\n",
       "\n",
       " \\left\\{\\begin{array}{ll} \\left(-K_{\\mathit{se}}\\right) C_{0} S_{0} - C_{1} + \\left(-K_{\\mathit{cp}} - K_{\\mathit{rb}} + 1\\right) C_{0} + \\left(I_{0} K_{\\mathit{se}}\\right) S_{0} & = 0 \\\\\n",
       "K_{\\mathit{sc}} C_{0} S_{0} + K_{\\mathit{rb}} C_{0} - S_{1} + \\left(-I_{0} K_{\\mathit{se}} + 1\\right) S_{0} & = 0 \\\\ \n",
       "\\end{array}\\right.\\]</html>"
      ],
      "text/latex": [
       "$$\\newcommand{\\Bold}[1]{\\mathbf{#1}}\\text{System over } \\left( \\Bold{Q}[I_{0}, K_{\\mathit{se}}, K_{\\mathit{cp}}, K_{\\mathit{rb}}, K_{\\mathit{sc}}] , \\begin{array}{rcl}I_{0} \\mapsto I_{0}\\\\K_{\\mathit{se}} \\mapsto K_{\\mathit{se}}\\\\K_{\\mathit{cp}} \\mapsto K_{\\mathit{cp}}\\\\K_{\\mathit{rb}} \\mapsto K_{\\mathit{rb}}\\\\K_{\\mathit{sc}} \\mapsto K_{\\mathit{sc}}\\end{array} \\right) \\{ C, S \\} \\text{ with variables } S_{\\ast} :\n",
       "\n",
       " \\left\\{\\begin{array}{ll} \\left(-K_{\\mathit{se}}\\right) C_{0} S_{0} - C_{1} + \\left(-K_{\\mathit{cp}} - K_{\\mathit{rb}} + 1\\right) C_{0} + \\left(I_{0} K_{\\mathit{se}}\\right) S_{0} & = 0 \\\\\n",
       "K_{\\mathit{sc}} C_{0} S_{0} + K_{\\mathit{rb}} C_{0} - S_{1} + \\left(-I_{0} K_{\\mathit{se}} + 1\\right) S_{0} & = 0 \\\\ \n",
       "\\end{array}\\right.$$"
      ],
      "text/plain": [
       "System over [Ring of difference polynomials in (C, S) over Difference Ring [Multivariate Polynomial Ring in I_0, K_se, K_cp, K_rb, K_sc over Rational Field] with difference [Map from callable <lambda>]] with variables [(S_*,)]:\n",
       "{\n",
       "\t(-K_se)*C_0*S_0 - C_1 + (-K_cp - K_rb + 1)*C_0 + I_0*K_se*S_0 == 0\n",
       "\tK_sc*C_0*S_0 + K_rb*C_0 - S_1 + (-I_0*K_se + 1)*S_0 == 0\n",
       "}"
      ]
     },
     "execution_count": 8,
     "metadata": {},
     "output_type": "execute_result"
    }
   ],
   "source": [
    "system_output = DifferenceSystem([\n",
    "    A[0] + A[1] * S[0],\n",
    "    B[0] + B[1] * S[0] + B[2] * S[1]\n",
    "], variables = [S])\n",
    "system_output"
   ]
  },
  {
   "cell_type": "markdown",
   "metadata": {},
   "source": [
    "And what we have done by hand is that the system formed by $(f_1, \\sigma f_1, f_2)$ is a nice system to delete $S(n)$:"
   ]
  },
  {
   "cell_type": "code",
   "execution_count": 9,
   "metadata": {},
   "outputs": [
    {
     "data": {
      "text/html": [
       "<html>\\[\\newcommand{\\Bold}[1]{\\mathbf{#1}}\\text{System over } \\left( \\Bold{Q}[I_{0}, K_{\\mathit{se}}, K_{\\mathit{cp}}, K_{\\mathit{rb}}, K_{\\mathit{sc}}] , \\begin{array}{rcl}I_{0} \\mapsto I_{0}\\\\K_{\\mathit{se}} \\mapsto K_{\\mathit{se}}\\\\K_{\\mathit{cp}} \\mapsto K_{\\mathit{cp}}\\\\K_{\\mathit{rb}} \\mapsto K_{\\mathit{rb}}\\\\K_{\\mathit{sc}} \\mapsto K_{\\mathit{sc}}\\end{array} \\right) \\{ C, S \\} \\text{ with variables } S_{\\ast} :\n",
       "\n",
       " \\left\\{\\begin{array}{ll} \\left(-K_{\\mathit{se}}\\right) C_{0} S_{0} - C_{1} + \\left(-K_{\\mathit{cp}} - K_{\\mathit{rb}} + 1\\right) C_{0} + \\left(I_{0} K_{\\mathit{se}}\\right) S_{0} & = 0 \\\\\n",
       "\\left(-K_{\\mathit{se}}\\right) C_{1} S_{1} - C_{2} + \\left(-K_{\\mathit{cp}} - K_{\\mathit{rb}} + 1\\right) C_{1} + \\left(I_{0} K_{\\mathit{se}}\\right) S_{1} & = 0 \\\\\n",
       "K_{\\mathit{sc}} C_{0} S_{0} + K_{\\mathit{rb}} C_{0} - S_{1} + \\left(-I_{0} K_{\\mathit{se}} + 1\\right) S_{0} & = 0 \\\\ \n",
       "\\end{array}\\right.\\]</html>"
      ],
      "text/latex": [
       "$$\\newcommand{\\Bold}[1]{\\mathbf{#1}}\\text{System over } \\left( \\Bold{Q}[I_{0}, K_{\\mathit{se}}, K_{\\mathit{cp}}, K_{\\mathit{rb}}, K_{\\mathit{sc}}] , \\begin{array}{rcl}I_{0} \\mapsto I_{0}\\\\K_{\\mathit{se}} \\mapsto K_{\\mathit{se}}\\\\K_{\\mathit{cp}} \\mapsto K_{\\mathit{cp}}\\\\K_{\\mathit{rb}} \\mapsto K_{\\mathit{rb}}\\\\K_{\\mathit{sc}} \\mapsto K_{\\mathit{sc}}\\end{array} \\right) \\{ C, S \\} \\text{ with variables } S_{\\ast} :\n",
       "\n",
       " \\left\\{\\begin{array}{ll} \\left(-K_{\\mathit{se}}\\right) C_{0} S_{0} - C_{1} + \\left(-K_{\\mathit{cp}} - K_{\\mathit{rb}} + 1\\right) C_{0} + \\left(I_{0} K_{\\mathit{se}}\\right) S_{0} & = 0 \\\\\n",
       "\\left(-K_{\\mathit{se}}\\right) C_{1} S_{1} - C_{2} + \\left(-K_{\\mathit{cp}} - K_{\\mathit{rb}} + 1\\right) C_{1} + \\left(I_{0} K_{\\mathit{se}}\\right) S_{1} & = 0 \\\\\n",
       "K_{\\mathit{sc}} C_{0} S_{0} + K_{\\mathit{rb}} C_{0} - S_{1} + \\left(-I_{0} K_{\\mathit{se}} + 1\\right) S_{0} & = 0 \\\\ \n",
       "\\end{array}\\right.$$"
      ],
      "text/plain": [
       "System over [Ring of difference polynomials in (C, S) over Difference Ring [Multivariate Polynomial Ring in I_0, K_se, K_cp, K_rb, K_sc over Rational Field] with difference [Map from callable <lambda>]] with variables [(S_*,)]:\n",
       "{\n",
       "\t(-K_se)*C_0*S_0 - C_1 + (-K_cp - K_rb + 1)*C_0 + I_0*K_se*S_0 == 0\n",
       "\t(-K_se)*C_1*S_1 - C_2 + (-K_cp - K_rb + 1)*C_1 + I_0*K_se*S_1 == 0\n",
       "\tK_sc*C_0*S_0 + K_rb*C_0 - S_1 + (-I_0*K_se + 1)*S_0 == 0\n",
       "}"
      ]
     },
     "execution_count": 9,
     "metadata": {},
     "output_type": "execute_result"
    }
   ],
   "source": [
    "extended_system = system_output.extend_by_difference([1,0])\n",
    "extended_system.is_sp2()\n",
    "extended_system"
   ]
  },
  {
   "cell_type": "code",
   "execution_count": 10,
   "metadata": {},
   "outputs": [
    {
     "data": {
      "text/html": [
       "<html>\\[\\newcommand{\\Bold}[1]{\\mathbf{#1}}\\left(K_{\\mathit{se}}^{2} K_{\\mathit{rb}} - K_{\\mathit{se}} K_{\\mathit{cp}} K_{\\mathit{sc}} - K_{\\mathit{se}} K_{\\mathit{rb}} K_{\\mathit{sc}} + K_{\\mathit{se}} K_{\\mathit{sc}}\\right) C_{0}^{2} C_{1} + \\left(-K_{\\mathit{se}} K_{\\mathit{sc}}\\right) C_{0} C_{1}^{2} + \\left(-I_{0} K_{\\mathit{se}}^{2} K_{\\mathit{rb}} + I_{0} K_{\\mathit{se}} K_{\\mathit{cp}} K_{\\mathit{sc}} + I_{0} K_{\\mathit{se}} K_{\\mathit{rb}} K_{\\mathit{sc}} - I_{0} K_{\\mathit{se}} K_{\\mathit{sc}}\\right) C_{0}^{2} + \\left(I_{0} K_{\\mathit{se}}^{2} K_{\\mathit{cp}} - I_{0} K_{\\mathit{se}}^{2} + I_{0} K_{\\mathit{se}} K_{\\mathit{sc}}\\right) C_{0} C_{1} + \\left(I_{0} K_{\\mathit{se}}^{2} - K_{\\mathit{se}}\\right) C_{1}^{2} + K_{\\mathit{se}} C_{0} C_{2} + \\left(-I_{0}^{2} K_{\\mathit{se}}^{2} K_{\\mathit{cp}} + I_{0}^{2} K_{\\mathit{se}}^{2} + I_{0} K_{\\mathit{se}} K_{\\mathit{cp}} + I_{0} K_{\\mathit{se}} K_{\\mathit{rb}} - I_{0} K_{\\mathit{se}}\\right) C_{0} + \\left(-I_{0}^{2} K_{\\mathit{se}}^{2} - I_{0} K_{\\mathit{se}} K_{\\mathit{cp}} - I_{0} K_{\\mathit{se}} K_{\\mathit{rb}} + 2 I_{0} K_{\\mathit{se}}\\right) C_{1} + \\left(-I_{0} K_{\\mathit{se}}\\right) C_{2}\\]</html>"
      ],
      "text/latex": [
       "$$\\newcommand{\\Bold}[1]{\\mathbf{#1}}\\left(K_{\\mathit{se}}^{2} K_{\\mathit{rb}} - K_{\\mathit{se}} K_{\\mathit{cp}} K_{\\mathit{sc}} - K_{\\mathit{se}} K_{\\mathit{rb}} K_{\\mathit{sc}} + K_{\\mathit{se}} K_{\\mathit{sc}}\\right) C_{0}^{2} C_{1} + \\left(-K_{\\mathit{se}} K_{\\mathit{sc}}\\right) C_{0} C_{1}^{2} + \\left(-I_{0} K_{\\mathit{se}}^{2} K_{\\mathit{rb}} + I_{0} K_{\\mathit{se}} K_{\\mathit{cp}} K_{\\mathit{sc}} + I_{0} K_{\\mathit{se}} K_{\\mathit{rb}} K_{\\mathit{sc}} - I_{0} K_{\\mathit{se}} K_{\\mathit{sc}}\\right) C_{0}^{2} + \\left(I_{0} K_{\\mathit{se}}^{2} K_{\\mathit{cp}} - I_{0} K_{\\mathit{se}}^{2} + I_{0} K_{\\mathit{se}} K_{\\mathit{sc}}\\right) C_{0} C_{1} + \\left(I_{0} K_{\\mathit{se}}^{2} - K_{\\mathit{se}}\\right) C_{1}^{2} + K_{\\mathit{se}} C_{0} C_{2} + \\left(-I_{0}^{2} K_{\\mathit{se}}^{2} K_{\\mathit{cp}} + I_{0}^{2} K_{\\mathit{se}}^{2} + I_{0} K_{\\mathit{se}} K_{\\mathit{cp}} + I_{0} K_{\\mathit{se}} K_{\\mathit{rb}} - I_{0} K_{\\mathit{se}}\\right) C_{0} + \\left(-I_{0}^{2} K_{\\mathit{se}}^{2} - I_{0} K_{\\mathit{se}} K_{\\mathit{cp}} - I_{0} K_{\\mathit{se}} K_{\\mathit{rb}} + 2 I_{0} K_{\\mathit{se}}\\right) C_{1} + \\left(-I_{0} K_{\\mathit{se}}\\right) C_{2}$$"
      ],
      "text/plain": [
       "(K_se^2*K_rb - K_se*K_cp*K_sc - K_se*K_rb*K_sc + K_se*K_sc)*C_0^2*C_1 + (-K_se*K_sc)*C_0*C_1^2 + (-I_0*K_se^2*K_rb + I_0*K_se*K_cp*K_sc + I_0*K_se*K_rb*K_sc - I_0*K_se*K_sc)*C_0^2 + (I_0*K_se^2*K_cp - I_0*K_se^2 + I_0*K_se*K_sc)*C_0*C_1 + (I_0*K_se^2 - K_se)*C_1^2 + K_se*C_0*C_2 + (-I_0^2*K_se^2*K_cp + I_0^2*K_se^2 + I_0*K_se*K_cp + I_0*K_se*K_rb - I_0*K_se)*C_0 + (-I_0^2*K_se^2 - I_0*K_se*K_cp - I_0*K_se*K_rb + 2*I_0*K_se)*C_1 + (-I_0*K_se)*C_2"
      ]
     },
     "execution_count": 10,
     "metadata": {},
     "output_type": "execute_result"
    }
   ],
   "source": [
    "extended_system.diff_resultant(alg_res=\"macaulay\")"
   ]
  },
  {
   "cell_type": "markdown",
   "metadata": {},
   "source": [
    "We can also try to compute this resultant from the original system (since `diff_resultant` extends the system):"
   ]
  },
  {
   "cell_type": "code",
   "execution_count": 11,
   "metadata": {},
   "outputs": [
    {
     "data": {
      "text/html": [
       "<html>\\[\\newcommand{\\Bold}[1]{\\mathbf{#1}}\\left(K_{\\mathit{se}}^{2} K_{\\mathit{rb}} - K_{\\mathit{se}} K_{\\mathit{cp}} K_{\\mathit{sc}} - K_{\\mathit{se}} K_{\\mathit{rb}} K_{\\mathit{sc}} + K_{\\mathit{se}} K_{\\mathit{sc}}\\right) C_{0}^{2} C_{1} + \\left(-K_{\\mathit{se}} K_{\\mathit{sc}}\\right) C_{0} C_{1}^{2} + \\left(-I_{0} K_{\\mathit{se}}^{2} K_{\\mathit{rb}} + I_{0} K_{\\mathit{se}} K_{\\mathit{cp}} K_{\\mathit{sc}} + I_{0} K_{\\mathit{se}} K_{\\mathit{rb}} K_{\\mathit{sc}} - I_{0} K_{\\mathit{se}} K_{\\mathit{sc}}\\right) C_{0}^{2} + \\left(I_{0} K_{\\mathit{se}}^{2} K_{\\mathit{cp}} - I_{0} K_{\\mathit{se}}^{2} + I_{0} K_{\\mathit{se}} K_{\\mathit{sc}}\\right) C_{0} C_{1} + \\left(I_{0} K_{\\mathit{se}}^{2} - K_{\\mathit{se}}\\right) C_{1}^{2} + K_{\\mathit{se}} C_{0} C_{2} + \\left(-I_{0}^{2} K_{\\mathit{se}}^{2} K_{\\mathit{cp}} + I_{0}^{2} K_{\\mathit{se}}^{2} + I_{0} K_{\\mathit{se}} K_{\\mathit{cp}} + I_{0} K_{\\mathit{se}} K_{\\mathit{rb}} - I_{0} K_{\\mathit{se}}\\right) C_{0} + \\left(-I_{0}^{2} K_{\\mathit{se}}^{2} - I_{0} K_{\\mathit{se}} K_{\\mathit{cp}} - I_{0} K_{\\mathit{se}} K_{\\mathit{rb}} + 2 I_{0} K_{\\mathit{se}}\\right) C_{1} + \\left(-I_{0} K_{\\mathit{se}}\\right) C_{2}\\]</html>"
      ],
      "text/latex": [
       "$$\\newcommand{\\Bold}[1]{\\mathbf{#1}}\\left(K_{\\mathit{se}}^{2} K_{\\mathit{rb}} - K_{\\mathit{se}} K_{\\mathit{cp}} K_{\\mathit{sc}} - K_{\\mathit{se}} K_{\\mathit{rb}} K_{\\mathit{sc}} + K_{\\mathit{se}} K_{\\mathit{sc}}\\right) C_{0}^{2} C_{1} + \\left(-K_{\\mathit{se}} K_{\\mathit{sc}}\\right) C_{0} C_{1}^{2} + \\left(-I_{0} K_{\\mathit{se}}^{2} K_{\\mathit{rb}} + I_{0} K_{\\mathit{se}} K_{\\mathit{cp}} K_{\\mathit{sc}} + I_{0} K_{\\mathit{se}} K_{\\mathit{rb}} K_{\\mathit{sc}} - I_{0} K_{\\mathit{se}} K_{\\mathit{sc}}\\right) C_{0}^{2} + \\left(I_{0} K_{\\mathit{se}}^{2} K_{\\mathit{cp}} - I_{0} K_{\\mathit{se}}^{2} + I_{0} K_{\\mathit{se}} K_{\\mathit{sc}}\\right) C_{0} C_{1} + \\left(I_{0} K_{\\mathit{se}}^{2} - K_{\\mathit{se}}\\right) C_{1}^{2} + K_{\\mathit{se}} C_{0} C_{2} + \\left(-I_{0}^{2} K_{\\mathit{se}}^{2} K_{\\mathit{cp}} + I_{0}^{2} K_{\\mathit{se}}^{2} + I_{0} K_{\\mathit{se}} K_{\\mathit{cp}} + I_{0} K_{\\mathit{se}} K_{\\mathit{rb}} - I_{0} K_{\\mathit{se}}\\right) C_{0} + \\left(-I_{0}^{2} K_{\\mathit{se}}^{2} - I_{0} K_{\\mathit{se}} K_{\\mathit{cp}} - I_{0} K_{\\mathit{se}} K_{\\mathit{rb}} + 2 I_{0} K_{\\mathit{se}}\\right) C_{1} + \\left(-I_{0} K_{\\mathit{se}}\\right) C_{2}$$"
      ],
      "text/plain": [
       "(K_se^2*K_rb - K_se*K_cp*K_sc - K_se*K_rb*K_sc + K_se*K_sc)*C_0^2*C_1 + (-K_se*K_sc)*C_0*C_1^2 + (-I_0*K_se^2*K_rb + I_0*K_se*K_cp*K_sc + I_0*K_se*K_rb*K_sc - I_0*K_se*K_sc)*C_0^2 + (I_0*K_se^2*K_cp - I_0*K_se^2 + I_0*K_se*K_sc)*C_0*C_1 + (I_0*K_se^2 - K_se)*C_1^2 + K_se*C_0*C_2 + (-I_0^2*K_se^2*K_cp + I_0^2*K_se^2 + I_0*K_se*K_cp + I_0*K_se*K_rb - I_0*K_se)*C_0 + (-I_0^2*K_se^2 - I_0*K_se*K_cp - I_0*K_se*K_rb + 2*I_0*K_se)*C_1 + (-I_0*K_se)*C_2"
      ]
     },
     "execution_count": 11,
     "metadata": {},
     "output_type": "execute_result"
    }
   ],
   "source": [
    "system_output.diff_resultant(alg_res=\"macaulay\")"
   ]
  },
  {
   "cell_type": "code",
   "execution_count": null,
   "metadata": {},
   "outputs": [],
   "source": []
  }
 ],
 "metadata": {
  "kernelspec": {
   "display_name": "SageMath 9.5.beta0",
   "language": "sage",
   "name": "sagemath"
  },
  "language_info": {
   "codemirror_mode": {
    "name": "ipython",
    "version": 3
   },
   "file_extension": ".py",
   "mimetype": "text/x-python",
   "name": "python",
   "nbconvert_exporter": "python",
   "pygments_lexer": "ipython3",
   "version": "3.8.10"
  }
 },
 "nbformat": 4,
 "nbformat_minor": 4
}
