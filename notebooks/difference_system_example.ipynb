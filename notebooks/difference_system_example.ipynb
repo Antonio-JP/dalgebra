{
 "cells": [
  {
   "cell_type": "markdown",
   "metadata": {},
   "source": [
    "# Example with a linear difference system\n",
    "\n",
    "From the update (``dalgebra-0.0.3.18``) we can treat now difference rings too. Let's see how to work with them with a very simple linear system:"
   ]
  },
  {
   "cell_type": "code",
   "execution_count": 1,
   "metadata": {},
   "outputs": [],
   "source": [
    "%display latex\n",
    "from dalgebra import *"
   ]
  },
  {
   "cell_type": "markdown",
   "metadata": {},
   "source": [
    "The system has 2 state variables $C(n)$ and $S(n)$ and the difference system can be written using the parameters $K_{se}, I_0, K_{cp}$ and $K_{rb}$. We need to create these variables and set the difference ring such that everything is a constant:\n",
    "\n",
    "$$\\begin{array}{rcl}\n",
    "    I_0 & \\mapsto & \\texttt{I_0}\\\\\n",
    "    K_{se} & \\mapsto & \\texttt{K_se}\\\\\n",
    "    K_{cp} & \\mapsto & \\texttt{K_cp}\\\\\n",
    "    K_{rb} & \\mapsto & \\texttt{K_rb}\n",
    "\\end{array}$$"
   ]
  },
  {
   "cell_type": "code",
   "execution_count": 2,
   "metadata": {},
   "outputs": [
    {
     "name": "stdout",
     "output_type": "stream",
     "text": [
      "All are constants ->  True\n"
     ]
    },
    {
     "data": {
      "text/html": [
       "<html>\\(\\displaystyle \\newcommand{\\Bold}[1]{\\mathbf{#1}}\\left(\\Bold{Q}[I_{0}, K_{\\mathit{se}}, K_{\\mathit{cp}}, K_{\\mathit{rb}}, K_{\\mathit{sc}}], \\text{id}\\right)\\)</html>"
      ],
      "text/latex": [
       "$\\displaystyle \\newcommand{\\Bold}[1]{\\mathbf{#1}}\\left(\\Bold{Q}[I_{0}, K_{\\mathit{se}}, K_{\\mathit{cp}}, K_{\\mathit{rb}}, K_{\\mathit{sc}}], \\text{id}\\right)$"
      ],
      "text/plain": [
       "Difference Ring [[Multivariate Polynomial Ring in I_0, K_se, K_cp, K_rb, K_sc over Rational Field], (Id,)]"
      ]
     },
     "execution_count": 2,
     "metadata": {},
     "output_type": "execute_result"
    }
   ],
   "source": [
    "R.<I_0, K_se, K_cp, K_rb, K_sc> = QQ[]\n",
    "DR = DifferenceRing(R, R.Hom(R).one())\n",
    "## We update the variables\n",
    "I_0, K_se, K_cp, K_rb, K_sc = DR.gens()\n",
    "## We check that all these are constants\n",
    "print(\"All are constants -> \", all(el.difference() == el for el in DR.gens()))\n",
    "\n",
    "DR"
   ]
  },
  {
   "cell_type": "markdown",
   "metadata": {},
   "source": [
    "In order to build the system, we need to create the two difference variables $C(n)$ and $S(n)$. In the code, these will be represented by $\\texttt{C}$ and $\\texttt{S}$ such that $\\texttt{C[k]} = C(n+k)$ and $\\texttt{S[k]} = S(n+k)$. We do that with the class `DifferencePolynomialRing`:"
   ]
  },
  {
   "cell_type": "code",
   "execution_count": 3,
   "metadata": {},
   "outputs": [
    {
     "data": {
      "text/html": [
       "<html>\\(\\displaystyle \\newcommand{\\Bold}[1]{\\mathbf{#1}}\\left(\\Bold{Q}[I_{0}, K_{\\mathit{se}}, K_{\\mathit{cp}}, K_{\\mathit{rb}}, K_{\\mathit{sc}}], \\text{id}\\right) \\{ C, S \\}\\)</html>"
      ],
      "text/latex": [
       "$\\displaystyle \\newcommand{\\Bold}[1]{\\mathbf{#1}}\\left(\\Bold{Q}[I_{0}, K_{\\mathit{se}}, K_{\\mathit{cp}}, K_{\\mathit{rb}}, K_{\\mathit{sc}}], \\text{id}\\right) \\{ C, S \\}$"
      ],
      "text/plain": [
       "Ring of operator polynomials in (C, S) over Difference Ring [[Multivariate Polynomial Ring in I_0, K_se, K_cp, K_rb, K_sc over Rational Field], (Id,)]"
      ]
     },
     "execution_count": 3,
     "metadata": {},
     "output_type": "execute_result"
    }
   ],
   "source": [
    "DPR.<C,S> = DifferencePolynomialRing(DR)\n",
    "DPR"
   ]
  },
  {
   "cell_type": "code",
   "execution_count": 4,
   "metadata": {},
   "outputs": [
    {
     "data": {
      "text/html": [
       "<html>\\(\\displaystyle \\left(C_{\\ast}, S_{\\ast}\\right)\\)</html>"
      ],
      "text/latex": [
       "$\\displaystyle \\left(C_{\\ast}, S_{\\ast}\\right)$"
      ],
      "text/plain": [
       "(C_*, S_*)"
      ]
     },
     "execution_count": 4,
     "metadata": {},
     "output_type": "execute_result"
    }
   ],
   "source": [
    "C, S"
   ]
  },
  {
   "cell_type": "markdown",
   "metadata": {},
   "source": [
    "At this point we can create a Difference system with the appropiate equations:"
   ]
  },
  {
   "cell_type": "code",
   "execution_count": 5,
   "metadata": {},
   "outputs": [
    {
     "data": {
      "text/html": [
       "<html>\\(\\displaystyle \\newcommand{\\Bold}[1]{\\mathbf{#1}}\\text{System over } \\left(\\Bold{Q}[I_{0}, K_{\\mathit{se}}, K_{\\mathit{cp}}, K_{\\mathit{rb}}, K_{\\mathit{sc}}], \\text{id}\\right) \\{ C, S \\} \\text{ with variables } C_{\\ast}, S_{\\ast} :\n",
       "\n",
       " \\left\\{\\begin{array}{ll} K_{\\mathit{se}} C_{0} S_{0} + 1 C_{1} + \\left(K_{\\mathit{cp}} + K_{\\mathit{rb}} - 1\\right) C_{0} + \\left(-I_{0} K_{\\mathit{se}}\\right) S_{0} & = 0 \\\\\n",
       "\\left(-K_{\\mathit{sc}}\\right) C_{0} S_{0} + \\left(-K_{\\mathit{rb}}\\right) C_{0} + 1 S_{1} + \\left(I_{0} K_{\\mathit{se}} - 1\\right) S_{0} & = 0 \\\\ \n",
       "\\end{array}\\right.\\)</html>"
      ],
      "text/latex": [
       "$\\displaystyle \\newcommand{\\Bold}[1]{\\mathbf{#1}}\\text{System over } \\left(\\Bold{Q}[I_{0}, K_{\\mathit{se}}, K_{\\mathit{cp}}, K_{\\mathit{rb}}, K_{\\mathit{sc}}], \\text{id}\\right) \\{ C, S \\} \\text{ with variables } C_{\\ast}, S_{\\ast} :\n",
       "\n",
       " \\left\\{\\begin{array}{ll} K_{\\mathit{se}} C_{0} S_{0} + 1 C_{1} + \\left(K_{\\mathit{cp}} + K_{\\mathit{rb}} - 1\\right) C_{0} + \\left(-I_{0} K_{\\mathit{se}}\\right) S_{0} & = 0 \\\\\n",
       "\\left(-K_{\\mathit{sc}}\\right) C_{0} S_{0} + \\left(-K_{\\mathit{rb}}\\right) C_{0} + 1 S_{1} + \\left(I_{0} K_{\\mathit{se}} - 1\\right) S_{0} & = 0 \\\\ \n",
       "\\end{array}\\right.$"
      ],
      "text/plain": [
       "System over [Ring of operator polynomials in (C, S) over Difference Ring [[Multivariate Polynomial Ring in I_0, K_se, K_cp, K_rb, K_sc over Rational Field], (Id,)]] with variables [(C_*, S_*)]:\n",
       "{\n",
       "\tK_se*C_0*S_0 + C_1 + (K_cp + K_rb - 1)*C_0 + (-I_0*K_se)*S_0 == 0\n",
       "\t(-K_sc)*C_0*S_0 + (-K_rb)*C_0 + S_1 + (I_0*K_se - 1)*S_0 == 0\n",
       "}"
      ]
     },
     "execution_count": 5,
     "metadata": {},
     "output_type": "execute_result"
    }
   ],
   "source": [
    "system = DifferenceSystem([\n",
    "    C[1] - K_se*I_0 * S[0] - (1 - K_cp - K_rb) * C[0] + K_se*S[0]*C[0],\n",
    "    S[1] - (1 - K_se * I_0) * S[0] - K_rb * C[0] - K_sc * C[0] * S[0]\n",
    "], variables = [C,S])\n",
    "system"
   ]
  },
  {
   "cell_type": "markdown",
   "metadata": {},
   "source": [
    "Let us consider now the output variables, that will be another system only focused on $S(n)$, so it will have coefficients using some shifts of $C(n)$:"
   ]
  },
  {
   "cell_type": "code",
   "execution_count": 6,
   "metadata": {},
   "outputs": [
    {
     "data": {
      "text/html": [
       "<html>\\(\\displaystyle \\newcommand{\\Bold}[1]{\\mathbf{#1}}\\text{System over } \\left(\\Bold{Q}[I_{0}, K_{\\mathit{se}}, K_{\\mathit{cp}}, K_{\\mathit{rb}}, K_{\\mathit{sc}}], \\text{id}\\right) \\{ C, S \\} \\text{ with variables } S_{\\ast} :\n",
       "\n",
       " \\left\\{\\begin{array}{ll} K_{\\mathit{se}} C_{0} S_{0} + 1 C_{1} + \\left(K_{\\mathit{cp}} + K_{\\mathit{rb}} - 1\\right) C_{0} + \\left(-I_{0} K_{\\mathit{se}}\\right) S_{0} & = 0 \\\\\n",
       "\\left(-K_{\\mathit{sc}}\\right) C_{0} S_{0} + \\left(-K_{\\mathit{rb}}\\right) C_{0} + 1 S_{1} + \\left(I_{0} K_{\\mathit{se}} - 1\\right) S_{0} & = 0 \\\\ \n",
       "\\end{array}\\right.\\)</html>"
      ],
      "text/latex": [
       "$\\displaystyle \\newcommand{\\Bold}[1]{\\mathbf{#1}}\\text{System over } \\left(\\Bold{Q}[I_{0}, K_{\\mathit{se}}, K_{\\mathit{cp}}, K_{\\mathit{rb}}, K_{\\mathit{sc}}], \\text{id}\\right) \\{ C, S \\} \\text{ with variables } S_{\\ast} :\n",
       "\n",
       " \\left\\{\\begin{array}{ll} K_{\\mathit{se}} C_{0} S_{0} + 1 C_{1} + \\left(K_{\\mathit{cp}} + K_{\\mathit{rb}} - 1\\right) C_{0} + \\left(-I_{0} K_{\\mathit{se}}\\right) S_{0} & = 0 \\\\\n",
       "\\left(-K_{\\mathit{sc}}\\right) C_{0} S_{0} + \\left(-K_{\\mathit{rb}}\\right) C_{0} + 1 S_{1} + \\left(I_{0} K_{\\mathit{se}} - 1\\right) S_{0} & = 0 \\\\ \n",
       "\\end{array}\\right.$"
      ],
      "text/plain": [
       "System over [Ring of operator polynomials in (C, S) over Difference Ring [[Multivariate Polynomial Ring in I_0, K_se, K_cp, K_rb, K_sc over Rational Field], (Id,)]] with variables [(S_*,)]:\n",
       "{\n",
       "\tK_se*C_0*S_0 + C_1 + (K_cp + K_rb - 1)*C_0 + (-I_0*K_se)*S_0 == 0\n",
       "\t(-K_sc)*C_0*S_0 + (-K_rb)*C_0 + S_1 + (I_0*K_se - 1)*S_0 == 0\n",
       "}"
      ]
     },
     "execution_count": 6,
     "metadata": {},
     "output_type": "execute_result"
    }
   ],
   "source": [
    "system_on_S = system.change_variables([S])\n",
    "system_on_S"
   ]
  },
  {
   "cell_type": "markdown",
   "metadata": {},
   "source": [
    "And what Sonia checked by hand is that the system formed by $(f_1, \\sigma f_1, f_2)$ is a nice system to delete $S(n)$:"
   ]
  },
  {
   "cell_type": "code",
   "execution_count": 7,
   "metadata": {},
   "outputs": [
    {
     "name": "stdout",
     "output_type": "stream",
     "text": [
      "Can we eliminate (S_*,)? --> True\n"
     ]
    },
    {
     "data": {
      "text/html": [
       "<html>\\(\\displaystyle \\newcommand{\\Bold}[1]{\\mathbf{#1}}\\text{System over } \\left(\\Bold{Q}[I_{0}, K_{\\mathit{se}}, K_{\\mathit{cp}}, K_{\\mathit{rb}}, K_{\\mathit{sc}}], \\text{id}\\right) \\{ C, S \\} \\text{ with variables } S_{\\ast} :\n",
       "\n",
       " \\left\\{\\begin{array}{ll} K_{\\mathit{se}} C_{0} S_{0} + 1 C_{1} + \\left(K_{\\mathit{cp}} + K_{\\mathit{rb}} - 1\\right) C_{0} + \\left(-I_{0} K_{\\mathit{se}}\\right) S_{0} & = 0 \\\\\n",
       "K_{\\mathit{se}} C_{1} S_{1} + 1 C_{2} + \\left(K_{\\mathit{cp}} + K_{\\mathit{rb}} - 1\\right) C_{1} + \\left(-I_{0} K_{\\mathit{se}}\\right) S_{1} & = 0 \\\\\n",
       "\\left(-K_{\\mathit{sc}}\\right) C_{0} S_{0} + \\left(-K_{\\mathit{rb}}\\right) C_{0} + 1 S_{1} + \\left(I_{0} K_{\\mathit{se}} - 1\\right) S_{0} & = 0 \\\\ \n",
       "\\end{array}\\right.\\)</html>"
      ],
      "text/latex": [
       "$\\displaystyle \\newcommand{\\Bold}[1]{\\mathbf{#1}}\\text{System over } \\left(\\Bold{Q}[I_{0}, K_{\\mathit{se}}, K_{\\mathit{cp}}, K_{\\mathit{rb}}, K_{\\mathit{sc}}], \\text{id}\\right) \\{ C, S \\} \\text{ with variables } S_{\\ast} :\n",
       "\n",
       " \\left\\{\\begin{array}{ll} K_{\\mathit{se}} C_{0} S_{0} + 1 C_{1} + \\left(K_{\\mathit{cp}} + K_{\\mathit{rb}} - 1\\right) C_{0} + \\left(-I_{0} K_{\\mathit{se}}\\right) S_{0} & = 0 \\\\\n",
       "K_{\\mathit{se}} C_{1} S_{1} + 1 C_{2} + \\left(K_{\\mathit{cp}} + K_{\\mathit{rb}} - 1\\right) C_{1} + \\left(-I_{0} K_{\\mathit{se}}\\right) S_{1} & = 0 \\\\\n",
       "\\left(-K_{\\mathit{sc}}\\right) C_{0} S_{0} + \\left(-K_{\\mathit{rb}}\\right) C_{0} + 1 S_{1} + \\left(I_{0} K_{\\mathit{se}} - 1\\right) S_{0} & = 0 \\\\ \n",
       "\\end{array}\\right.$"
      ],
      "text/plain": [
       "System over [Ring of operator polynomials in (C, S) over Difference Ring [[Multivariate Polynomial Ring in I_0, K_se, K_cp, K_rb, K_sc over Rational Field], (Id,)]] with variables [(S_*,)]:\n",
       "{\n",
       "\tK_se*C_0*S_0 + C_1 + (K_cp + K_rb - 1)*C_0 + (-I_0*K_se)*S_0 == 0\n",
       "\tK_se*C_1*S_1 + C_2 + (K_cp + K_rb - 1)*C_1 + (-I_0*K_se)*S_1 == 0\n",
       "\t(-K_sc)*C_0*S_0 + (-K_rb)*C_0 + S_1 + (I_0*K_se - 1)*S_0 == 0\n",
       "}"
      ]
     },
     "execution_count": 7,
     "metadata": {},
     "output_type": "execute_result"
    }
   ],
   "source": [
    "extended_system = system_on_S.extend_by_difference([1,0])\n",
    "print(f\"Can we eliminate {extended_system.variables}? --> {extended_system.is_sp2()}\")\n",
    "extended_system"
   ]
  },
  {
   "cell_type": "code",
   "execution_count": 8,
   "metadata": {},
   "outputs": [
    {
     "data": {
      "text/html": [
       "<html>\\(\\displaystyle \\left(K_{\\mathit{se}} K_{\\mathit{sc}}\\right) C_{1}^{2} C_{0} + \\left(-K_{\\mathit{se}}^{2} K_{\\mathit{rb}} + K_{\\mathit{se}} K_{\\mathit{cp}} K_{\\mathit{sc}} + K_{\\mathit{se}} K_{\\mathit{rb}} K_{\\mathit{sc}} - K_{\\mathit{se}} K_{\\mathit{sc}}\\right) C_{1} C_{0}^{2} + \\left(-K_{\\mathit{se}}\\right) C_{2} C_{0} + \\left(-I_{0} K_{\\mathit{se}}^{2} + K_{\\mathit{se}}\\right) C_{1}^{2} + \\left(-I_{0} K_{\\mathit{se}}^{2} K_{\\mathit{cp}} + I_{0} K_{\\mathit{se}}^{2} - I_{0} K_{\\mathit{se}} K_{\\mathit{sc}}\\right) C_{1} C_{0} + \\left(I_{0} K_{\\mathit{se}}^{2} K_{\\mathit{rb}} - I_{0} K_{\\mathit{se}} K_{\\mathit{cp}} K_{\\mathit{sc}} - I_{0} K_{\\mathit{se}} K_{\\mathit{rb}} K_{\\mathit{sc}} + I_{0} K_{\\mathit{se}} K_{\\mathit{sc}}\\right) C_{0}^{2} + \\left(I_{0} K_{\\mathit{se}}\\right) C_{2} + \\left(I_{0}^{2} K_{\\mathit{se}}^{2} + I_{0} K_{\\mathit{se}} K_{\\mathit{cp}} + I_{0} K_{\\mathit{se}} K_{\\mathit{rb}} - 2 I_{0} K_{\\mathit{se}}\\right) C_{1} + \\left(I_{0}^{2} K_{\\mathit{se}}^{2} K_{\\mathit{cp}} - I_{0}^{2} K_{\\mathit{se}}^{2} - I_{0} K_{\\mathit{se}} K_{\\mathit{cp}} - I_{0} K_{\\mathit{se}} K_{\\mathit{rb}} + I_{0} K_{\\mathit{se}}\\right) C_{0}\\)</html>"
      ],
      "text/latex": [
       "$\\displaystyle \\left(K_{\\mathit{se}} K_{\\mathit{sc}}\\right) C_{1}^{2} C_{0} + \\left(-K_{\\mathit{se}}^{2} K_{\\mathit{rb}} + K_{\\mathit{se}} K_{\\mathit{cp}} K_{\\mathit{sc}} + K_{\\mathit{se}} K_{\\mathit{rb}} K_{\\mathit{sc}} - K_{\\mathit{se}} K_{\\mathit{sc}}\\right) C_{1} C_{0}^{2} + \\left(-K_{\\mathit{se}}\\right) C_{2} C_{0} + \\left(-I_{0} K_{\\mathit{se}}^{2} + K_{\\mathit{se}}\\right) C_{1}^{2} + \\left(-I_{0} K_{\\mathit{se}}^{2} K_{\\mathit{cp}} + I_{0} K_{\\mathit{se}}^{2} - I_{0} K_{\\mathit{se}} K_{\\mathit{sc}}\\right) C_{1} C_{0} + \\left(I_{0} K_{\\mathit{se}}^{2} K_{\\mathit{rb}} - I_{0} K_{\\mathit{se}} K_{\\mathit{cp}} K_{\\mathit{sc}} - I_{0} K_{\\mathit{se}} K_{\\mathit{rb}} K_{\\mathit{sc}} + I_{0} K_{\\mathit{se}} K_{\\mathit{sc}}\\right) C_{0}^{2} + \\left(I_{0} K_{\\mathit{se}}\\right) C_{2} + \\left(I_{0}^{2} K_{\\mathit{se}}^{2} + I_{0} K_{\\mathit{se}} K_{\\mathit{cp}} + I_{0} K_{\\mathit{se}} K_{\\mathit{rb}} - 2 I_{0} K_{\\mathit{se}}\\right) C_{1} + \\left(I_{0}^{2} K_{\\mathit{se}}^{2} K_{\\mathit{cp}} - I_{0}^{2} K_{\\mathit{se}}^{2} - I_{0} K_{\\mathit{se}} K_{\\mathit{cp}} - I_{0} K_{\\mathit{se}} K_{\\mathit{rb}} + I_{0} K_{\\mathit{se}}\\right) C_{0}$"
      ],
      "text/plain": [
       "K_se*K_sc*C_1^2*C_0 + (-K_se^2*K_rb + K_se*K_cp*K_sc + K_se*K_rb*K_sc - K_se*K_sc)*C_1*C_0^2 + (-K_se)*C_2*C_0 + (-I_0*K_se^2 + K_se)*C_1^2 + (-I_0*K_se^2*K_cp + I_0*K_se^2 - I_0*K_se*K_sc)*C_1*C_0 + (I_0*K_se^2*K_rb - I_0*K_se*K_cp*K_sc - I_0*K_se*K_rb*K_sc + I_0*K_se*K_sc)*C_0^2 + I_0*K_se*C_2 + (I_0^2*K_se^2 + I_0*K_se*K_cp + I_0*K_se*K_rb - 2*I_0*K_se)*C_1 + (I_0^2*K_se^2*K_cp - I_0^2*K_se^2 - I_0*K_se*K_cp - I_0*K_se*K_rb + I_0*K_se)*C_0"
      ]
     },
     "execution_count": 8,
     "metadata": {},
     "output_type": "execute_result"
    }
   ],
   "source": [
    "extended_system.diff_resultant(alg_res=\"macaulay\")"
   ]
  },
  {
   "cell_type": "markdown",
   "metadata": {},
   "source": [
    "We can also try to compute this resultant from the original system (since `diff_resultant` extends the system):"
   ]
  },
  {
   "cell_type": "code",
   "execution_count": 9,
   "metadata": {},
   "outputs": [
    {
     "name": "stdout",
     "output_type": "stream",
     "text": [
      "Getting the appropriate extension for having a SP2 system...\n",
      "Trying the extension (0, 0)\n",
      "Trying the extension (1, 0)\n",
      "Found the valid extension (1, 0)\n",
      "Getting the homogenize version of the equations...\n",
      "Computing the Macaulay resultant...\n"
     ]
    },
    {
     "data": {
      "text/html": [
       "<html>\\(\\displaystyle \\left(K_{\\mathit{se}} K_{\\mathit{sc}}\\right) C_{1}^{2} C_{0} + \\left(-K_{\\mathit{se}}^{2} K_{\\mathit{rb}} + K_{\\mathit{se}} K_{\\mathit{cp}} K_{\\mathit{sc}} + K_{\\mathit{se}} K_{\\mathit{rb}} K_{\\mathit{sc}} - K_{\\mathit{se}} K_{\\mathit{sc}}\\right) C_{1} C_{0}^{2} + \\left(-K_{\\mathit{se}}\\right) C_{2} C_{0} + \\left(-I_{0} K_{\\mathit{se}}^{2} + K_{\\mathit{se}}\\right) C_{1}^{2} + \\left(-I_{0} K_{\\mathit{se}}^{2} K_{\\mathit{cp}} + I_{0} K_{\\mathit{se}}^{2} - I_{0} K_{\\mathit{se}} K_{\\mathit{sc}}\\right) C_{1} C_{0} + \\left(I_{0} K_{\\mathit{se}}^{2} K_{\\mathit{rb}} - I_{0} K_{\\mathit{se}} K_{\\mathit{cp}} K_{\\mathit{sc}} - I_{0} K_{\\mathit{se}} K_{\\mathit{rb}} K_{\\mathit{sc}} + I_{0} K_{\\mathit{se}} K_{\\mathit{sc}}\\right) C_{0}^{2} + \\left(I_{0} K_{\\mathit{se}}\\right) C_{2} + \\left(I_{0}^{2} K_{\\mathit{se}}^{2} + I_{0} K_{\\mathit{se}} K_{\\mathit{cp}} + I_{0} K_{\\mathit{se}} K_{\\mathit{rb}} - 2 I_{0} K_{\\mathit{se}}\\right) C_{1} + \\left(I_{0}^{2} K_{\\mathit{se}}^{2} K_{\\mathit{cp}} - I_{0}^{2} K_{\\mathit{se}}^{2} - I_{0} K_{\\mathit{se}} K_{\\mathit{cp}} - I_{0} K_{\\mathit{se}} K_{\\mathit{rb}} + I_{0} K_{\\mathit{se}}\\right) C_{0}\\)</html>"
      ],
      "text/latex": [
       "$\\displaystyle \\left(K_{\\mathit{se}} K_{\\mathit{sc}}\\right) C_{1}^{2} C_{0} + \\left(-K_{\\mathit{se}}^{2} K_{\\mathit{rb}} + K_{\\mathit{se}} K_{\\mathit{cp}} K_{\\mathit{sc}} + K_{\\mathit{se}} K_{\\mathit{rb}} K_{\\mathit{sc}} - K_{\\mathit{se}} K_{\\mathit{sc}}\\right) C_{1} C_{0}^{2} + \\left(-K_{\\mathit{se}}\\right) C_{2} C_{0} + \\left(-I_{0} K_{\\mathit{se}}^{2} + K_{\\mathit{se}}\\right) C_{1}^{2} + \\left(-I_{0} K_{\\mathit{se}}^{2} K_{\\mathit{cp}} + I_{0} K_{\\mathit{se}}^{2} - I_{0} K_{\\mathit{se}} K_{\\mathit{sc}}\\right) C_{1} C_{0} + \\left(I_{0} K_{\\mathit{se}}^{2} K_{\\mathit{rb}} - I_{0} K_{\\mathit{se}} K_{\\mathit{cp}} K_{\\mathit{sc}} - I_{0} K_{\\mathit{se}} K_{\\mathit{rb}} K_{\\mathit{sc}} + I_{0} K_{\\mathit{se}} K_{\\mathit{sc}}\\right) C_{0}^{2} + \\left(I_{0} K_{\\mathit{se}}\\right) C_{2} + \\left(I_{0}^{2} K_{\\mathit{se}}^{2} + I_{0} K_{\\mathit{se}} K_{\\mathit{cp}} + I_{0} K_{\\mathit{se}} K_{\\mathit{rb}} - 2 I_{0} K_{\\mathit{se}}\\right) C_{1} + \\left(I_{0}^{2} K_{\\mathit{se}}^{2} K_{\\mathit{cp}} - I_{0}^{2} K_{\\mathit{se}}^{2} - I_{0} K_{\\mathit{se}} K_{\\mathit{cp}} - I_{0} K_{\\mathit{se}} K_{\\mathit{rb}} + I_{0} K_{\\mathit{se}}\\right) C_{0}$"
      ],
      "text/plain": [
       "K_se*K_sc*C_1^2*C_0 + (-K_se^2*K_rb + K_se*K_cp*K_sc + K_se*K_rb*K_sc - K_se*K_sc)*C_1*C_0^2 + (-K_se)*C_2*C_0 + (-I_0*K_se^2 + K_se)*C_1^2 + (-I_0*K_se^2*K_cp + I_0*K_se^2 - I_0*K_se*K_sc)*C_1*C_0 + (I_0*K_se^2*K_rb - I_0*K_se*K_cp*K_sc - I_0*K_se*K_rb*K_sc + I_0*K_se*K_sc)*C_0^2 + I_0*K_se*C_2 + (I_0^2*K_se^2 + I_0*K_se*K_cp + I_0*K_se*K_rb - 2*I_0*K_se)*C_1 + (I_0^2*K_se^2*K_cp - I_0^2*K_se^2 - I_0*K_se*K_cp - I_0*K_se*K_rb + I_0*K_se)*C_0"
      ]
     },
     "execution_count": 9,
     "metadata": {},
     "output_type": "execute_result"
    }
   ],
   "source": [
    "system_on_S.diff_resultant(alg_res=\"macaulay\", verbose=True)"
   ]
  },
  {
   "cell_type": "code",
   "execution_count": 10,
   "metadata": {},
   "outputs": [],
   "source": [
    "res_y_is_c = system_on_S.diff_resultant(alg_res=\"macaulay\")\n",
    "coefficients_y_is_c = [el.wrapped for el in res_y_is_c.coefficients()]"
   ]
  },
  {
   "cell_type": "code",
   "execution_count": 19,
   "metadata": {},
   "outputs": [],
   "source": [
    "from os.path import realpath, join\n",
    "with open(join(realpath(\".\"), \"results\", \"coefficients_y=c.txt\"), \"w\") as f:\n",
    "    for coeff in coefficients_y_is_c:\n",
    "        f.write(str(coeff) + \"\\n\")\n",
    "with open(join(realpath(\".\"), \"results\", \"resultant_y=c.txt\"), \"w\") as f:\n",
    "    f.write(str(res_y_is_c))"
   ]
  },
  {
   "cell_type": "markdown",
   "metadata": {},
   "source": [
    "### Approach with output variables\n",
    "\n",
    "In the previous example, we kind of cheated, since we took ans an output variable one of the variables that were already in the system. More generically, we will take a new function $Y(n)$ as an output and this will be the function we need to preserve throughout the elimination.\n",
    "\n",
    "For example, consider te previous system with output variable $Y(n) = S(n) + C(n)$. This will be represented as follows:"
   ]
  },
  {
   "cell_type": "code",
   "execution_count": 20,
   "metadata": {},
   "outputs": [
    {
     "data": {
      "text/html": [
       "<html>\\(\\displaystyle \\newcommand{\\Bold}[1]{\\mathbf{#1}}\\left(\\Bold{Q}[I_{0}, K_{\\mathit{se}}, K_{\\mathit{cp}}, K_{\\mathit{rb}}, K_{\\mathit{sc}}], \\text{id}\\right) \\{ C, S, Y \\}\\)</html>"
      ],
      "text/latex": [
       "$\\displaystyle \\newcommand{\\Bold}[1]{\\mathbf{#1}}\\left(\\Bold{Q}[I_{0}, K_{\\mathit{se}}, K_{\\mathit{cp}}, K_{\\mathit{rb}}, K_{\\mathit{sc}}], \\text{id}\\right) \\{ C, S, Y \\}$"
      ],
      "text/plain": [
       "Ring of operator polynomials in (C, S, Y) over Difference Ring [[Multivariate Polynomial Ring in I_0, K_se, K_cp, K_rb, K_sc over Rational Field], (Id,)]"
      ]
     },
     "execution_count": 20,
     "metadata": {},
     "output_type": "execute_result"
    }
   ],
   "source": [
    "DPR.<C,S,Y> = DifferencePolynomialRing(DR)\n",
    "DPR"
   ]
  },
  {
   "cell_type": "code",
   "execution_count": 21,
   "metadata": {},
   "outputs": [
    {
     "data": {
      "text/html": [
       "<html>\\(\\displaystyle \\newcommand{\\Bold}[1]{\\mathbf{#1}}\\text{System over } \\left(\\Bold{Q}[I_{0}, K_{\\mathit{se}}, K_{\\mathit{cp}}, K_{\\mathit{rb}}, K_{\\mathit{sc}}], \\text{id}\\right) \\{ C, S, Y \\} \\text{ with variables } C_{\\ast}, S_{\\ast} :\n",
       "\n",
       " \\left\\{\\begin{array}{ll} K_{\\mathit{se}} C_{0} S_{0} + 1 C_{1} + \\left(K_{\\mathit{cp}} + K_{\\mathit{rb}} - 1\\right) C_{0} + \\left(-I_{0} K_{\\mathit{se}}\\right) S_{0} & = 0 \\\\\n",
       "\\left(-K_{\\mathit{sc}}\\right) C_{0} S_{0} + \\left(-K_{\\mathit{rb}}\\right) C_{0} + 1 S_{1} + \\left(I_{0} K_{\\mathit{se}} - 1\\right) S_{0} & = 0 \\\\\n",
       "-C_{0} - S_{0} + 1 Y_{0} & = 0 \\\\ \n",
       "\\end{array}\\right.\\)</html>"
      ],
      "text/latex": [
       "$\\displaystyle \\newcommand{\\Bold}[1]{\\mathbf{#1}}\\text{System over } \\left(\\Bold{Q}[I_{0}, K_{\\mathit{se}}, K_{\\mathit{cp}}, K_{\\mathit{rb}}, K_{\\mathit{sc}}], \\text{id}\\right) \\{ C, S, Y \\} \\text{ with variables } C_{\\ast}, S_{\\ast} :\n",
       "\n",
       " \\left\\{\\begin{array}{ll} K_{\\mathit{se}} C_{0} S_{0} + 1 C_{1} + \\left(K_{\\mathit{cp}} + K_{\\mathit{rb}} - 1\\right) C_{0} + \\left(-I_{0} K_{\\mathit{se}}\\right) S_{0} & = 0 \\\\\n",
       "\\left(-K_{\\mathit{sc}}\\right) C_{0} S_{0} + \\left(-K_{\\mathit{rb}}\\right) C_{0} + 1 S_{1} + \\left(I_{0} K_{\\mathit{se}} - 1\\right) S_{0} & = 0 \\\\\n",
       "-C_{0} - S_{0} + 1 Y_{0} & = 0 \\\\ \n",
       "\\end{array}\\right.$"
      ],
      "text/plain": [
       "System over [Ring of operator polynomials in (C, S, Y) over Difference Ring [[Multivariate Polynomial Ring in I_0, K_se, K_cp, K_rb, K_sc over Rational Field], (Id,)]] with variables [(C_*, S_*)]:\n",
       "{\n",
       "\tK_se*C_0*S_0 + C_1 + (K_cp + K_rb - 1)*C_0 + (-I_0*K_se)*S_0 == 0\n",
       "\t(-K_sc)*C_0*S_0 + (-K_rb)*C_0 + S_1 + (I_0*K_se - 1)*S_0 == 0\n",
       "\t-C_0 - S_0 + Y_0 == 0\n",
       "}"
      ]
     },
     "execution_count": 21,
     "metadata": {},
     "output_type": "execute_result"
    }
   ],
   "source": [
    "system = DifferenceSystem([\n",
    "    C[1] - K_se*I_0 * S[0] - (1 - K_cp - K_rb) * C[0] + K_se*S[0]*C[0],\n",
    "    S[1] - (1 - K_se * I_0) * S[0] - K_rb * C[0] - K_sc * C[0] * S[0],\n",
    "    Y[0] - C[0] - S[0]\n",
    "], variables = [C,S])\n",
    "system"
   ]
  },
  {
   "cell_type": "markdown",
   "metadata": {},
   "source": [
    "From [enhancement #14](https://github.com/Antonio-JP/dalgebra/issues/14), the method `diff_resultant` computes automatically the best algorithms. For linear cases it will use Macaulay resultant, while for non-linear variables it uses and iterative approach to remove variables:"
   ]
  },
  {
   "cell_type": "code",
   "execution_count": 22,
   "metadata": {},
   "outputs": [
    {
     "name": "stdout",
     "output_type": "stream",
     "text": [
      "CPU times: user 643 ms, sys: 9.74 ms, total: 653 ms\n",
      "Wall time: 658 ms\n"
     ]
    }
   ],
   "source": [
    "%%time\n",
    "res = system.diff_resultant()"
   ]
  },
  {
   "cell_type": "code",
   "execution_count": 23,
   "metadata": {},
   "outputs": [
    {
     "data": {
      "text/html": [
       "<html>\\(\\displaystyle \\left(2, 4, 21\\right)\\)</html>"
      ],
      "text/latex": [
       "$\\displaystyle \\left(2, 4, 21\\right)$"
      ],
      "text/plain": [
       "(2, 4, 21)"
      ]
     },
     "execution_count": 23,
     "metadata": {},
     "output_type": "execute_result"
    }
   ],
   "source": [
    "res.order(Y), res.degree(), len(res.monomials())"
   ]
  },
  {
   "cell_type": "code",
   "execution_count": 24,
   "metadata": {},
   "outputs": [
    {
     "name": "stdout",
     "output_type": "stream",
     "text": [
      "(deg: 6,\tn_mons: 3)\n",
      "(deg: 8,\tn_mons: 15)\n",
      "(deg: 10,\tn_mons: 47)\n",
      "(deg: 11,\tn_mons: 79)\n",
      "(deg: 12,\tn_mons: 84)\n",
      "(deg: 5,\tn_mons: 4)\n",
      "(deg: 7,\tn_mons: 22)\n",
      "(deg: 9,\tn_mons: 41)\n",
      "(deg: 9,\tn_mons: 54)\n",
      "(deg: 11,\tn_mons: 104)\n",
      "(deg: 12,\tn_mons: 159)\n",
      "(deg: 13,\tn_mons: 173)\n",
      "(deg: 4,\tn_mons: 5)\n",
      "(deg: 8,\tn_mons: 49)\n",
      "(deg: 8,\tn_mons: 70)\n",
      "(deg: 12,\tn_mons: 161)\n",
      "(deg: 13,\tn_mons: 214)\n",
      "(deg: 14,\tn_mons: 241)\n",
      "(deg: 9,\tn_mons: 31)\n",
      "(deg: 11,\tn_mons: 70)\n",
      "(deg: 12,\tn_mons: 90)\n"
     ]
    }
   ],
   "source": [
    "for coeff in res.coefficients():\n",
    "    print(f\"(deg: {coeff.wrapped.degree()},\\tn_mons: {len(coeff.wrapped.monomials())})\")"
   ]
  },
  {
   "cell_type": "code",
   "execution_count": 25,
   "metadata": {},
   "outputs": [
    {
     "name": "stdout",
     "output_type": "stream",
     "text": [
      "Y_1^4\t--> (degree 6)\tK_se^4*K_sc^2 - 2*K_se^3*K_sc^)\n",
      "Y_1^3*Y_0\t--> (degree 8)\tI_0*K_se^6*K_sc - 2*I_0*K_se^5)\n",
      "Y_1^2*Y_0^2\t--> (degree 10)\tI_0^2*K_se^7*K_sc - 4*I_0^2*K_)\n",
      "Y_1*Y_0^3\t--> (degree 11)\t-I_0^2*K_se^8*K_rb + I_0^2*K_s)\n",
      "Y_0^4\t--> (degree 12)\tI_0^2*K_se^8*K_rb^2 - 2*I_0^2*)\n",
      "Y_2*Y_1^2\t--> (degree 5)\t-2*K_se^4*K_sc + 6*K_se^3*K_sc)\n",
      "Y_2*Y_1*Y_0\t--> (degree 7)\t-I_0*K_se^6 + 3*I_0*K_se^5*K_s)\n",
      "Y_2*Y_0^2\t--> (degree 9)\t-I_0^2*K_se^7 + 5*I_0^2*K_se^6)\n",
      "Y_1^3\t--> (degree 9)\t-I_0^2*K_se^7 + 3*I_0^2*K_se^6)\n",
      "Y_1^2*Y_0\t--> (degree 11)\t-I_0^3*K_se^8 + 3*I_0^3*K_se^7)\n",
      "Y_1*Y_0^2\t--> (degree 12)\t-I_0^3*K_se^8*K_cp + 2*I_0^3*K)\n",
      "Y_0^3\t--> (degree 13)\t2*I_0^3*K_se^8*K_cp*K_rb - 2*I)\n",
      "Y_2^2\t--> (degree 4)\tK_se^4 - 4*K_se^3*K_sc + 6*K_s)\n",
      "Y_2*Y_1\t--> (degree 8)\t-2*I_0^2*K_se^6 + 8*I_0^2*K_se)\n",
      "Y_2*Y_0\t--> (degree 8)\t2*I_0^2*K_se^6 - 2*I_0*K_se^5*)\n",
      "Y_1^2\t--> (degree 12)\tI_0^4*K_se^8 - 4*I_0^4*K_se^7*)\n",
      "Y_1*Y_0\t--> (degree 13)\t2*I_0^4*K_se^8*K_cp - 8*I_0^4*)\n",
      "Y_0^2\t--> (degree 14)\tI_0^4*K_se^8*K_cp^2 - 4*I_0^4*)\n",
      "Y_2\t--> (degree 9)\t-I_0^2*K_se^5*K_cp^2 + 3*I_0^2)\n",
      "Y_1\t--> (degree 11)\t-I_0^3*K_se^6*K_cp^2 + 3*I_0^3)\n",
      "Y_0\t--> (degree 12)\t-I_0^3*K_se^6*K_cp^3 + 3*I_0^3)\n"
     ]
    }
   ],
   "source": [
    "mons = res.monomials(); coeffs = res.coefficients()\n",
    "for i in range(len(mons)):\n",
    "    print(f\"{mons[i]}\\t--> (degree {coeffs[i].wrapped.degree()})\\t{str(coeffs[i])[:30]})\")"
   ]
  },
  {
   "cell_type": "code",
   "execution_count": 26,
   "metadata": {},
   "outputs": [],
   "source": [
    "with open(join(realpath(\".\"), \"results\", \"coefficients_c+s.txt\"), \"w\") as f:\n",
    "    for coeff in res.coefficients():\n",
    "        f.write(str(coeff) + \"\\n\")\n",
    "with open(join(realpath(\".\"), \"results\", \"resultant_c+s.txt\"), \"w\") as f:\n",
    "    f.write(str(res))"
   ]
  }
 ],
 "metadata": {
  "kernelspec": {
   "display_name": "SageMath 9.7",
   "language": "sage",
   "name": "sagemath"
  },
  "language_info": {
   "codemirror_mode": {
    "name": "ipython",
    "version": 3
   },
   "file_extension": ".py",
   "mimetype": "text/x-python",
   "name": "python",
   "nbconvert_exporter": "python",
   "pygments_lexer": "ipython3",
   "version": "3.10.5"
  }
 },
 "nbformat": 4,
 "nbformat_minor": 4
}
