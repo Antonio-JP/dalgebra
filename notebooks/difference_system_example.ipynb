{
 "cells": [
  {
   "cell_type": "markdown",
   "metadata": {},
   "source": [
    "# Example with a linear difference system\n",
    "\n",
    "From the update (dalgebra-0.0.20220428.1815) we can treat now difference rings too. Let's see how to work with them with a very simple linear system:"
   ]
  },
  {
   "cell_type": "code",
   "execution_count": 1,
   "metadata": {},
   "outputs": [],
   "source": [
    "%display latex\n",
    "from dalgebra import *"
   ]
  },
  {
   "cell_type": "markdown",
   "metadata": {},
   "source": [
    "The system has 2 state variables $C(n)$ and $S(n)$ and the difference system can be written using the parameters $K_{se}, I_0, K_{cp}$ and $K_{rb}$. We need to create these variables and set the difference ring such that everything is a constant:\n",
    "\n",
    "$$\\begin{array}{rcl}\n",
    "    I_0 & \\mapsto & \\texttt{I_0}\\\\\n",
    "    K_{se} & \\mapsto & \\texttt{K_se}\\\\\n",
    "    K_{cp} & \\mapsto & \\texttt{K_cp}\\\\\n",
    "    K_{rb} & \\mapsto & \\texttt{K_rb}\n",
    "\\end{array}$$"
   ]
  },
  {
   "cell_type": "code",
   "execution_count": 2,
   "metadata": {},
   "outputs": [
    {
     "name": "stdout",
     "output_type": "stream",
     "text": [
      "All are constants ->  True\n"
     ]
    },
    {
     "data": {
      "text/html": [
       "<html>\\[\\newcommand{\\Bold}[1]{\\mathbf{#1}}\\left( \\Bold{Q}[I_{0}, K_{\\mathit{se}}, K_{\\mathit{cp}}, K_{\\mathit{rb}}, K_{\\mathit{sc}}] , \\begin{array}{rcl}I_{0} \\mapsto I_{0}\\\\K_{\\mathit{se}} \\mapsto K_{\\mathit{se}}\\\\K_{\\mathit{cp}} \\mapsto K_{\\mathit{cp}}\\\\K_{\\mathit{rb}} \\mapsto K_{\\mathit{rb}}\\\\K_{\\mathit{sc}} \\mapsto K_{\\mathit{sc}}\\end{array} \\right)\\]</html>"
      ],
      "text/latex": [
       "$$\\newcommand{\\Bold}[1]{\\mathbf{#1}}\\left( \\Bold{Q}[I_{0}, K_{\\mathit{se}}, K_{\\mathit{cp}}, K_{\\mathit{rb}}, K_{\\mathit{sc}}] , \\begin{array}{rcl}I_{0} \\mapsto I_{0}\\\\K_{\\mathit{se}} \\mapsto K_{\\mathit{se}}\\\\K_{\\mathit{cp}} \\mapsto K_{\\mathit{cp}}\\\\K_{\\mathit{rb}} \\mapsto K_{\\mathit{rb}}\\\\K_{\\mathit{sc}} \\mapsto K_{\\mathit{sc}}\\end{array} \\right)$$"
      ],
      "text/plain": [
       "Difference Ring [Multivariate Polynomial Ring in I_0, K_se, K_cp, K_rb, K_sc over Rational Field] with difference [Map from callable <lambda>]"
      ]
     },
     "execution_count": 2,
     "metadata": {},
     "output_type": "execute_result"
    }
   ],
   "source": [
    "R.<I_0, K_se, K_cp, K_rb, K_sc> = QQ[]\n",
    "DR = DifferenceRing(R)\n",
    "## We update the variables\n",
    "I_0, K_se, K_cp, K_rb, K_sc = DR.gens()\n",
    "## We check that all these are constants\n",
    "print(\"All are constants -> \", all(el.difference() == el for el in DR.gens()))\n",
    "\n",
    "DR"
   ]
  },
  {
   "cell_type": "markdown",
   "metadata": {},
   "source": [
    "In order to build the system, we need to create the two difference variables $C(n)$ and $S(n)$. In the code, these will be represented by $\\texttt{C}$ and $\\texttt{S}$ such that $\\texttt{C[k]} = C(n+k)$ and $\\texttt{S[k]} = S(n+k)$. We do that with the class `DifferencePolynomialRing`:"
   ]
  },
  {
   "cell_type": "code",
   "execution_count": 3,
   "metadata": {},
   "outputs": [
    {
     "data": {
      "text/html": [
       "<html>\\[\\newcommand{\\Bold}[1]{\\mathbf{#1}}\\left( \\Bold{Q}[I_{0}, K_{\\mathit{se}}, K_{\\mathit{cp}}, K_{\\mathit{rb}}, K_{\\mathit{sc}}] , \\begin{array}{rcl}I_{0} \\mapsto I_{0}\\\\K_{\\mathit{se}} \\mapsto K_{\\mathit{se}}\\\\K_{\\mathit{cp}} \\mapsto K_{\\mathit{cp}}\\\\K_{\\mathit{rb}} \\mapsto K_{\\mathit{rb}}\\\\K_{\\mathit{sc}} \\mapsto K_{\\mathit{sc}}\\end{array} \\right) \\{ C, S \\}\\]</html>"
      ],
      "text/latex": [
       "$$\\newcommand{\\Bold}[1]{\\mathbf{#1}}\\left( \\Bold{Q}[I_{0}, K_{\\mathit{se}}, K_{\\mathit{cp}}, K_{\\mathit{rb}}, K_{\\mathit{sc}}] , \\begin{array}{rcl}I_{0} \\mapsto I_{0}\\\\K_{\\mathit{se}} \\mapsto K_{\\mathit{se}}\\\\K_{\\mathit{cp}} \\mapsto K_{\\mathit{cp}}\\\\K_{\\mathit{rb}} \\mapsto K_{\\mathit{rb}}\\\\K_{\\mathit{sc}} \\mapsto K_{\\mathit{sc}}\\end{array} \\right) \\{ C, S \\}$$"
      ],
      "text/plain": [
       "Ring of difference polynomials in (C, S) over Difference Ring [Multivariate Polynomial Ring in I_0, K_se, K_cp, K_rb, K_sc over Rational Field] with difference [Map from callable <lambda>]"
      ]
     },
     "execution_count": 3,
     "metadata": {},
     "output_type": "execute_result"
    }
   ],
   "source": [
    "DPR.<C,S> = DifferencePolynomialRing(DR)\n",
    "DPR"
   ]
  },
  {
   "cell_type": "code",
   "execution_count": 4,
   "metadata": {},
   "outputs": [
    {
     "data": {
      "text/html": [
       "<html>\\[\\newcommand{\\Bold}[1]{\\mathbf{#1}}\\left(C_{\\ast}, S_{\\ast}\\right)\\]</html>"
      ],
      "text/latex": [
       "$$\\newcommand{\\Bold}[1]{\\mathbf{#1}}\\left(C_{\\ast}, S_{\\ast}\\right)$$"
      ],
      "text/plain": [
       "(C_*, S_*)"
      ]
     },
     "execution_count": 4,
     "metadata": {},
     "output_type": "execute_result"
    }
   ],
   "source": [
    "C, S"
   ]
  },
  {
   "cell_type": "markdown",
   "metadata": {},
   "source": [
    "At this point we can create a Difference system with the appropiate equations:"
   ]
  },
  {
   "cell_type": "code",
   "execution_count": 5,
   "metadata": {},
   "outputs": [
    {
     "data": {
      "text/html": [
       "<html>\\[\\newcommand{\\Bold}[1]{\\mathbf{#1}}\\text{System over } \\left( \\Bold{Q}[I_{0}, K_{\\mathit{se}}, K_{\\mathit{cp}}, K_{\\mathit{rb}}, K_{\\mathit{sc}}] , \\begin{array}{rcl}I_{0} \\mapsto I_{0}\\\\K_{\\mathit{se}} \\mapsto K_{\\mathit{se}}\\\\K_{\\mathit{cp}} \\mapsto K_{\\mathit{cp}}\\\\K_{\\mathit{rb}} \\mapsto K_{\\mathit{rb}}\\\\K_{\\mathit{sc}} \\mapsto K_{\\mathit{sc}}\\end{array} \\right) \\{ C, S \\} \\text{ with variables } C_{\\ast}, S_{\\ast} :\n",
       "\n",
       " \\left\\{\\begin{array}{ll} K_{\\mathit{se}} C_{0} S_{0} + 1 C_{1} + \\left(K_{\\mathit{cp}} + K_{\\mathit{rb}} - 1\\right) C_{0} + \\left(-I_{0} K_{\\mathit{se}}\\right) S_{0} & = 0 \\\\\n",
       "\\left(-K_{\\mathit{sc}}\\right) C_{0} S_{0} + \\left(-K_{\\mathit{rb}}\\right) C_{0} + 1 S_{1} + \\left(I_{0} K_{\\mathit{se}} - 1\\right) S_{0} & = 0 \\\\ \n",
       "\\end{array}\\right.\\]</html>"
      ],
      "text/latex": [
       "$$\\newcommand{\\Bold}[1]{\\mathbf{#1}}\\text{System over } \\left( \\Bold{Q}[I_{0}, K_{\\mathit{se}}, K_{\\mathit{cp}}, K_{\\mathit{rb}}, K_{\\mathit{sc}}] , \\begin{array}{rcl}I_{0} \\mapsto I_{0}\\\\K_{\\mathit{se}} \\mapsto K_{\\mathit{se}}\\\\K_{\\mathit{cp}} \\mapsto K_{\\mathit{cp}}\\\\K_{\\mathit{rb}} \\mapsto K_{\\mathit{rb}}\\\\K_{\\mathit{sc}} \\mapsto K_{\\mathit{sc}}\\end{array} \\right) \\{ C, S \\} \\text{ with variables } C_{\\ast}, S_{\\ast} :\n",
       "\n",
       " \\left\\{\\begin{array}{ll} K_{\\mathit{se}} C_{0} S_{0} + 1 C_{1} + \\left(K_{\\mathit{cp}} + K_{\\mathit{rb}} - 1\\right) C_{0} + \\left(-I_{0} K_{\\mathit{se}}\\right) S_{0} & = 0 \\\\\n",
       "\\left(-K_{\\mathit{sc}}\\right) C_{0} S_{0} + \\left(-K_{\\mathit{rb}}\\right) C_{0} + 1 S_{1} + \\left(I_{0} K_{\\mathit{se}} - 1\\right) S_{0} & = 0 \\\\ \n",
       "\\end{array}\\right.$$"
      ],
      "text/plain": [
       "System over [Ring of difference polynomials in (C, S) over Difference Ring [Multivariate Polynomial Ring in I_0, K_se, K_cp, K_rb, K_sc over Rational Field] with difference [Map from callable <lambda>]] with variables [(C_*, S_*)]:\n",
       "{\n",
       "\tK_se*C_0*S_0 + C_1 + (K_cp + K_rb - 1)*C_0 + (-I_0*K_se)*S_0 == 0\n",
       "\t(-K_sc)*C_0*S_0 + (-K_rb)*C_0 + S_1 + (I_0*K_se - 1)*S_0 == 0\n",
       "}"
      ]
     },
     "execution_count": 5,
     "metadata": {},
     "output_type": "execute_result"
    }
   ],
   "source": [
    "system = DifferenceSystem([\n",
    "    C[1] - K_se*I_0 * S[0] - (1 - K_cp - K_rb) * C[0] + K_se*S[0]*C[0],\n",
    "    S[1] - (1 - K_se * I_0) * S[0] - K_rb * C[0] - K_sc * C[0] * S[0]\n",
    "], variables = [C,S])\n",
    "system"
   ]
  },
  {
   "cell_type": "markdown",
   "metadata": {},
   "source": [
    "Let us consider now the output variables, that will be another system only focused on $S(n)$, so it will have coefficients using some shifts of $C(n)$:"
   ]
  },
  {
   "cell_type": "code",
   "execution_count": 6,
   "metadata": {},
   "outputs": [
    {
     "data": {
      "text/html": [
       "<html>\\[\\newcommand{\\Bold}[1]{\\mathbf{#1}}\\text{System over } \\left( \\Bold{Q}[I_{0}, K_{\\mathit{se}}, K_{\\mathit{cp}}, K_{\\mathit{rb}}, K_{\\mathit{sc}}] , \\begin{array}{rcl}I_{0} \\mapsto I_{0}\\\\K_{\\mathit{se}} \\mapsto K_{\\mathit{se}}\\\\K_{\\mathit{cp}} \\mapsto K_{\\mathit{cp}}\\\\K_{\\mathit{rb}} \\mapsto K_{\\mathit{rb}}\\\\K_{\\mathit{sc}} \\mapsto K_{\\mathit{sc}}\\end{array} \\right) \\{ C, S \\} \\text{ with variables } S_{\\ast} :\n",
       "\n",
       " \\left\\{\\begin{array}{ll} K_{\\mathit{se}} C_{0} S_{0} + 1 C_{1} + \\left(K_{\\mathit{cp}} + K_{\\mathit{rb}} - 1\\right) C_{0} + \\left(-I_{0} K_{\\mathit{se}}\\right) S_{0} & = 0 \\\\\n",
       "\\left(-K_{\\mathit{sc}}\\right) C_{0} S_{0} + \\left(-K_{\\mathit{rb}}\\right) C_{0} + 1 S_{1} + \\left(I_{0} K_{\\mathit{se}} - 1\\right) S_{0} & = 0 \\\\ \n",
       "\\end{array}\\right.\\]</html>"
      ],
      "text/latex": [
       "$$\\newcommand{\\Bold}[1]{\\mathbf{#1}}\\text{System over } \\left( \\Bold{Q}[I_{0}, K_{\\mathit{se}}, K_{\\mathit{cp}}, K_{\\mathit{rb}}, K_{\\mathit{sc}}] , \\begin{array}{rcl}I_{0} \\mapsto I_{0}\\\\K_{\\mathit{se}} \\mapsto K_{\\mathit{se}}\\\\K_{\\mathit{cp}} \\mapsto K_{\\mathit{cp}}\\\\K_{\\mathit{rb}} \\mapsto K_{\\mathit{rb}}\\\\K_{\\mathit{sc}} \\mapsto K_{\\mathit{sc}}\\end{array} \\right) \\{ C, S \\} \\text{ with variables } S_{\\ast} :\n",
       "\n",
       " \\left\\{\\begin{array}{ll} K_{\\mathit{se}} C_{0} S_{0} + 1 C_{1} + \\left(K_{\\mathit{cp}} + K_{\\mathit{rb}} - 1\\right) C_{0} + \\left(-I_{0} K_{\\mathit{se}}\\right) S_{0} & = 0 \\\\\n",
       "\\left(-K_{\\mathit{sc}}\\right) C_{0} S_{0} + \\left(-K_{\\mathit{rb}}\\right) C_{0} + 1 S_{1} + \\left(I_{0} K_{\\mathit{se}} - 1\\right) S_{0} & = 0 \\\\ \n",
       "\\end{array}\\right.$$"
      ],
      "text/plain": [
       "System over [Ring of difference polynomials in (C, S) over Difference Ring [Multivariate Polynomial Ring in I_0, K_se, K_cp, K_rb, K_sc over Rational Field] with difference [Map from callable <lambda>]] with variables [(S_*,)]:\n",
       "{\n",
       "\tK_se*C_0*S_0 + C_1 + (K_cp + K_rb - 1)*C_0 + (-I_0*K_se)*S_0 == 0\n",
       "\t(-K_sc)*C_0*S_0 + (-K_rb)*C_0 + S_1 + (I_0*K_se - 1)*S_0 == 0\n",
       "}"
      ]
     },
     "execution_count": 6,
     "metadata": {},
     "output_type": "execute_result"
    }
   ],
   "source": [
    "system_on_S = system.change_variables([S])\n",
    "system_on_S"
   ]
  },
  {
   "cell_type": "markdown",
   "metadata": {},
   "source": [
    "And what Sonia checked by hand is that the system formed by $(f_1, \\sigma f_1, f_2)$ is a nice system to delete $S(n)$:"
   ]
  },
  {
   "cell_type": "code",
   "execution_count": 7,
   "metadata": {},
   "outputs": [
    {
     "name": "stdout",
     "output_type": "stream",
     "text": [
      "Can we eliminate (S_*,)? --> True\n"
     ]
    },
    {
     "data": {
      "text/html": [
       "<html>\\[\\newcommand{\\Bold}[1]{\\mathbf{#1}}\\text{System over } \\left( \\Bold{Q}[I_{0}, K_{\\mathit{se}}, K_{\\mathit{cp}}, K_{\\mathit{rb}}, K_{\\mathit{sc}}] , \\begin{array}{rcl}I_{0} \\mapsto I_{0}\\\\K_{\\mathit{se}} \\mapsto K_{\\mathit{se}}\\\\K_{\\mathit{cp}} \\mapsto K_{\\mathit{cp}}\\\\K_{\\mathit{rb}} \\mapsto K_{\\mathit{rb}}\\\\K_{\\mathit{sc}} \\mapsto K_{\\mathit{sc}}\\end{array} \\right) \\{ C, S \\} \\text{ with variables } S_{\\ast} :\n",
       "\n",
       " \\left\\{\\begin{array}{ll} K_{\\mathit{se}} C_{0} S_{0} + 1 C_{1} + \\left(K_{\\mathit{cp}} + K_{\\mathit{rb}} - 1\\right) C_{0} + \\left(-I_{0} K_{\\mathit{se}}\\right) S_{0} & = 0 \\\\\n",
       "K_{\\mathit{se}} C_{1} S_{1} + 1 C_{2} + \\left(K_{\\mathit{cp}} + K_{\\mathit{rb}} - 1\\right) C_{1} + \\left(-I_{0} K_{\\mathit{se}}\\right) S_{1} & = 0 \\\\\n",
       "\\left(-K_{\\mathit{sc}}\\right) C_{0} S_{0} + \\left(-K_{\\mathit{rb}}\\right) C_{0} + 1 S_{1} + \\left(I_{0} K_{\\mathit{se}} - 1\\right) S_{0} & = 0 \\\\ \n",
       "\\end{array}\\right.\\]</html>"
      ],
      "text/latex": [
       "$$\\newcommand{\\Bold}[1]{\\mathbf{#1}}\\text{System over } \\left( \\Bold{Q}[I_{0}, K_{\\mathit{se}}, K_{\\mathit{cp}}, K_{\\mathit{rb}}, K_{\\mathit{sc}}] , \\begin{array}{rcl}I_{0} \\mapsto I_{0}\\\\K_{\\mathit{se}} \\mapsto K_{\\mathit{se}}\\\\K_{\\mathit{cp}} \\mapsto K_{\\mathit{cp}}\\\\K_{\\mathit{rb}} \\mapsto K_{\\mathit{rb}}\\\\K_{\\mathit{sc}} \\mapsto K_{\\mathit{sc}}\\end{array} \\right) \\{ C, S \\} \\text{ with variables } S_{\\ast} :\n",
       "\n",
       " \\left\\{\\begin{array}{ll} K_{\\mathit{se}} C_{0} S_{0} + 1 C_{1} + \\left(K_{\\mathit{cp}} + K_{\\mathit{rb}} - 1\\right) C_{0} + \\left(-I_{0} K_{\\mathit{se}}\\right) S_{0} & = 0 \\\\\n",
       "K_{\\mathit{se}} C_{1} S_{1} + 1 C_{2} + \\left(K_{\\mathit{cp}} + K_{\\mathit{rb}} - 1\\right) C_{1} + \\left(-I_{0} K_{\\mathit{se}}\\right) S_{1} & = 0 \\\\\n",
       "\\left(-K_{\\mathit{sc}}\\right) C_{0} S_{0} + \\left(-K_{\\mathit{rb}}\\right) C_{0} + 1 S_{1} + \\left(I_{0} K_{\\mathit{se}} - 1\\right) S_{0} & = 0 \\\\ \n",
       "\\end{array}\\right.$$"
      ],
      "text/plain": [
       "System over [Ring of difference polynomials in (C, S) over Difference Ring [Multivariate Polynomial Ring in I_0, K_se, K_cp, K_rb, K_sc over Rational Field] with difference [Map from callable <lambda>]] with variables [(S_*,)]:\n",
       "{\n",
       "\tK_se*C_0*S_0 + C_1 + (K_cp + K_rb - 1)*C_0 + (-I_0*K_se)*S_0 == 0\n",
       "\tK_se*C_1*S_1 + C_2 + (K_cp + K_rb - 1)*C_1 + (-I_0*K_se)*S_1 == 0\n",
       "\t(-K_sc)*C_0*S_0 + (-K_rb)*C_0 + S_1 + (I_0*K_se - 1)*S_0 == 0\n",
       "}"
      ]
     },
     "execution_count": 7,
     "metadata": {},
     "output_type": "execute_result"
    }
   ],
   "source": [
    "extended_system = system_on_S.extend_by_difference([1,0])\n",
    "print(f\"Can we eliminate {extended_system.variables}? --> {extended_system.is_sp2()}\")\n",
    "extended_system"
   ]
  },
  {
   "cell_type": "code",
   "execution_count": 8,
   "metadata": {},
   "outputs": [
    {
     "data": {
      "text/html": [
       "<html>\\[\\newcommand{\\Bold}[1]{\\mathbf{#1}}\\left(-K_{\\mathit{se}}^{2} K_{\\mathit{rb}} + K_{\\mathit{se}} K_{\\mathit{cp}} K_{\\mathit{sc}} + K_{\\mathit{se}} K_{\\mathit{rb}} K_{\\mathit{sc}} - K_{\\mathit{se}} K_{\\mathit{sc}}\\right) C_{0}^{2} C_{1} + \\left(K_{\\mathit{se}} K_{\\mathit{sc}}\\right) C_{0} C_{1}^{2} + \\left(I_{0} K_{\\mathit{se}}^{2} K_{\\mathit{rb}} - I_{0} K_{\\mathit{se}} K_{\\mathit{cp}} K_{\\mathit{sc}} - I_{0} K_{\\mathit{se}} K_{\\mathit{rb}} K_{\\mathit{sc}} + I_{0} K_{\\mathit{se}} K_{\\mathit{sc}}\\right) C_{0}^{2} + \\left(-I_{0} K_{\\mathit{se}}^{2} K_{\\mathit{cp}} + I_{0} K_{\\mathit{se}}^{2} - I_{0} K_{\\mathit{se}} K_{\\mathit{sc}}\\right) C_{0} C_{1} + \\left(-I_{0} K_{\\mathit{se}}^{2} + K_{\\mathit{se}}\\right) C_{1}^{2} + \\left(-K_{\\mathit{se}}\\right) C_{0} C_{2} + \\left(I_{0}^{2} K_{\\mathit{se}}^{2} K_{\\mathit{cp}} - I_{0}^{2} K_{\\mathit{se}}^{2} - I_{0} K_{\\mathit{se}} K_{\\mathit{cp}} - I_{0} K_{\\mathit{se}} K_{\\mathit{rb}} + I_{0} K_{\\mathit{se}}\\right) C_{0} + \\left(I_{0}^{2} K_{\\mathit{se}}^{2} + I_{0} K_{\\mathit{se}} K_{\\mathit{cp}} + I_{0} K_{\\mathit{se}} K_{\\mathit{rb}} - 2 I_{0} K_{\\mathit{se}}\\right) C_{1} + \\left(I_{0} K_{\\mathit{se}}\\right) C_{2}\\]</html>"
      ],
      "text/latex": [
       "$$\\newcommand{\\Bold}[1]{\\mathbf{#1}}\\left(-K_{\\mathit{se}}^{2} K_{\\mathit{rb}} + K_{\\mathit{se}} K_{\\mathit{cp}} K_{\\mathit{sc}} + K_{\\mathit{se}} K_{\\mathit{rb}} K_{\\mathit{sc}} - K_{\\mathit{se}} K_{\\mathit{sc}}\\right) C_{0}^{2} C_{1} + \\left(K_{\\mathit{se}} K_{\\mathit{sc}}\\right) C_{0} C_{1}^{2} + \\left(I_{0} K_{\\mathit{se}}^{2} K_{\\mathit{rb}} - I_{0} K_{\\mathit{se}} K_{\\mathit{cp}} K_{\\mathit{sc}} - I_{0} K_{\\mathit{se}} K_{\\mathit{rb}} K_{\\mathit{sc}} + I_{0} K_{\\mathit{se}} K_{\\mathit{sc}}\\right) C_{0}^{2} + \\left(-I_{0} K_{\\mathit{se}}^{2} K_{\\mathit{cp}} + I_{0} K_{\\mathit{se}}^{2} - I_{0} K_{\\mathit{se}} K_{\\mathit{sc}}\\right) C_{0} C_{1} + \\left(-I_{0} K_{\\mathit{se}}^{2} + K_{\\mathit{se}}\\right) C_{1}^{2} + \\left(-K_{\\mathit{se}}\\right) C_{0} C_{2} + \\left(I_{0}^{2} K_{\\mathit{se}}^{2} K_{\\mathit{cp}} - I_{0}^{2} K_{\\mathit{se}}^{2} - I_{0} K_{\\mathit{se}} K_{\\mathit{cp}} - I_{0} K_{\\mathit{se}} K_{\\mathit{rb}} + I_{0} K_{\\mathit{se}}\\right) C_{0} + \\left(I_{0}^{2} K_{\\mathit{se}}^{2} + I_{0} K_{\\mathit{se}} K_{\\mathit{cp}} + I_{0} K_{\\mathit{se}} K_{\\mathit{rb}} - 2 I_{0} K_{\\mathit{se}}\\right) C_{1} + \\left(I_{0} K_{\\mathit{se}}\\right) C_{2}$$"
      ],
      "text/plain": [
       "(-K_se^2*K_rb + K_se*K_cp*K_sc + K_se*K_rb*K_sc - K_se*K_sc)*C_0^2*C_1 + K_se*K_sc*C_0*C_1^2 + (I_0*K_se^2*K_rb - I_0*K_se*K_cp*K_sc - I_0*K_se*K_rb*K_sc + I_0*K_se*K_sc)*C_0^2 + (-I_0*K_se^2*K_cp + I_0*K_se^2 - I_0*K_se*K_sc)*C_0*C_1 + (-I_0*K_se^2 + K_se)*C_1^2 + (-K_se)*C_0*C_2 + (I_0^2*K_se^2*K_cp - I_0^2*K_se^2 - I_0*K_se*K_cp - I_0*K_se*K_rb + I_0*K_se)*C_0 + (I_0^2*K_se^2 + I_0*K_se*K_cp + I_0*K_se*K_rb - 2*I_0*K_se)*C_1 + I_0*K_se*C_2"
      ]
     },
     "execution_count": 8,
     "metadata": {},
     "output_type": "execute_result"
    }
   ],
   "source": [
    "extended_system.diff_resultant(alg_res=\"macaulay\")"
   ]
  },
  {
   "cell_type": "markdown",
   "metadata": {},
   "source": [
    "We can also try to compute this resultant from the original system (since `diff_resultant` extends the system):"
   ]
  },
  {
   "cell_type": "code",
   "execution_count": 9,
   "metadata": {},
   "outputs": [
    {
     "name": "stdout",
     "output_type": "stream",
     "text": [
      "We start by extending the system up to bound 10\n",
      "Trying the extension (0, 0)\n",
      "Trying the extension (1, 0)\n",
      "Found the valid extension (1, 0)\n"
     ]
    },
    {
     "data": {
      "text/html": [
       "<html>\\[\\newcommand{\\Bold}[1]{\\mathbf{#1}}\\left(-K_{\\mathit{se}}^{2} K_{\\mathit{rb}} + K_{\\mathit{se}} K_{\\mathit{cp}} K_{\\mathit{sc}} + K_{\\mathit{se}} K_{\\mathit{rb}} K_{\\mathit{sc}} - K_{\\mathit{se}} K_{\\mathit{sc}}\\right) C_{0}^{2} C_{1} + \\left(K_{\\mathit{se}} K_{\\mathit{sc}}\\right) C_{0} C_{1}^{2} + \\left(I_{0} K_{\\mathit{se}}^{2} K_{\\mathit{rb}} - I_{0} K_{\\mathit{se}} K_{\\mathit{cp}} K_{\\mathit{sc}} - I_{0} K_{\\mathit{se}} K_{\\mathit{rb}} K_{\\mathit{sc}} + I_{0} K_{\\mathit{se}} K_{\\mathit{sc}}\\right) C_{0}^{2} + \\left(-I_{0} K_{\\mathit{se}}^{2} K_{\\mathit{cp}} + I_{0} K_{\\mathit{se}}^{2} - I_{0} K_{\\mathit{se}} K_{\\mathit{sc}}\\right) C_{0} C_{1} + \\left(-I_{0} K_{\\mathit{se}}^{2} + K_{\\mathit{se}}\\right) C_{1}^{2} + \\left(-K_{\\mathit{se}}\\right) C_{0} C_{2} + \\left(I_{0}^{2} K_{\\mathit{se}}^{2} K_{\\mathit{cp}} - I_{0}^{2} K_{\\mathit{se}}^{2} - I_{0} K_{\\mathit{se}} K_{\\mathit{cp}} - I_{0} K_{\\mathit{se}} K_{\\mathit{rb}} + I_{0} K_{\\mathit{se}}\\right) C_{0} + \\left(I_{0}^{2} K_{\\mathit{se}}^{2} + I_{0} K_{\\mathit{se}} K_{\\mathit{cp}} + I_{0} K_{\\mathit{se}} K_{\\mathit{rb}} - 2 I_{0} K_{\\mathit{se}}\\right) C_{1} + \\left(I_{0} K_{\\mathit{se}}\\right) C_{2}\\]</html>"
      ],
      "text/latex": [
       "$$\\newcommand{\\Bold}[1]{\\mathbf{#1}}\\left(-K_{\\mathit{se}}^{2} K_{\\mathit{rb}} + K_{\\mathit{se}} K_{\\mathit{cp}} K_{\\mathit{sc}} + K_{\\mathit{se}} K_{\\mathit{rb}} K_{\\mathit{sc}} - K_{\\mathit{se}} K_{\\mathit{sc}}\\right) C_{0}^{2} C_{1} + \\left(K_{\\mathit{se}} K_{\\mathit{sc}}\\right) C_{0} C_{1}^{2} + \\left(I_{0} K_{\\mathit{se}}^{2} K_{\\mathit{rb}} - I_{0} K_{\\mathit{se}} K_{\\mathit{cp}} K_{\\mathit{sc}} - I_{0} K_{\\mathit{se}} K_{\\mathit{rb}} K_{\\mathit{sc}} + I_{0} K_{\\mathit{se}} K_{\\mathit{sc}}\\right) C_{0}^{2} + \\left(-I_{0} K_{\\mathit{se}}^{2} K_{\\mathit{cp}} + I_{0} K_{\\mathit{se}}^{2} - I_{0} K_{\\mathit{se}} K_{\\mathit{sc}}\\right) C_{0} C_{1} + \\left(-I_{0} K_{\\mathit{se}}^{2} + K_{\\mathit{se}}\\right) C_{1}^{2} + \\left(-K_{\\mathit{se}}\\right) C_{0} C_{2} + \\left(I_{0}^{2} K_{\\mathit{se}}^{2} K_{\\mathit{cp}} - I_{0}^{2} K_{\\mathit{se}}^{2} - I_{0} K_{\\mathit{se}} K_{\\mathit{cp}} - I_{0} K_{\\mathit{se}} K_{\\mathit{rb}} + I_{0} K_{\\mathit{se}}\\right) C_{0} + \\left(I_{0}^{2} K_{\\mathit{se}}^{2} + I_{0} K_{\\mathit{se}} K_{\\mathit{cp}} + I_{0} K_{\\mathit{se}} K_{\\mathit{rb}} - 2 I_{0} K_{\\mathit{se}}\\right) C_{1} + \\left(I_{0} K_{\\mathit{se}}\\right) C_{2}$$"
      ],
      "text/plain": [
       "(-K_se^2*K_rb + K_se*K_cp*K_sc + K_se*K_rb*K_sc - K_se*K_sc)*C_0^2*C_1 + K_se*K_sc*C_0*C_1^2 + (I_0*K_se^2*K_rb - I_0*K_se*K_cp*K_sc - I_0*K_se*K_rb*K_sc + I_0*K_se*K_sc)*C_0^2 + (-I_0*K_se^2*K_cp + I_0*K_se^2 - I_0*K_se*K_sc)*C_0*C_1 + (-I_0*K_se^2 + K_se)*C_1^2 + (-K_se)*C_0*C_2 + (I_0^2*K_se^2*K_cp - I_0^2*K_se^2 - I_0*K_se*K_cp - I_0*K_se*K_rb + I_0*K_se)*C_0 + (I_0^2*K_se^2 + I_0*K_se*K_cp + I_0*K_se*K_rb - 2*I_0*K_se)*C_1 + I_0*K_se*C_2"
      ]
     },
     "execution_count": 9,
     "metadata": {},
     "output_type": "execute_result"
    }
   ],
   "source": [
    "system_on_S.diff_resultant(alg_res=\"macaulay\", verbose=True)"
   ]
  },
  {
   "cell_type": "code",
   "execution_count": 143,
   "metadata": {},
   "outputs": [],
   "source": [
    "res_y_is_c = system_on_S.diff_resultant(alg_res=\"macaulay\")\n",
    "coefficients_y_is_c = [el.wrapped for el in res_y_is_c.coefficients()]"
   ]
  },
  {
   "cell_type": "code",
   "execution_count": 145,
   "metadata": {},
   "outputs": [],
   "source": [
    "with open(\"/home/anton/results/coefficients_y=c.txt\", \"w\") as f:\n",
    "    for coeff in coefficients_y_is_c:\n",
    "        f.write(str(coeff) + \"\\n\")\n",
    "with open(\"/home/anton/results/resultant_y=c.txt\", \"w\") as f:\n",
    "    f.write(str(res_y_is_c))"
   ]
  },
  {
   "cell_type": "markdown",
   "metadata": {},
   "source": [
    "### Approach with output variables\n",
    "\n",
    "In the previous example, we kind of cheated, since we took ans an output variable one of the variables that were already in the system. More generically, we will take a new function $Y(n)$ as an output and this will be the function we need to preserve throughout the elimination.\n",
    "\n",
    "For example, consider te previous system with output variable $Y(n) = S(n) + C(n)$. This will be represented as follows:"
   ]
  },
  {
   "cell_type": "code",
   "execution_count": 10,
   "metadata": {},
   "outputs": [
    {
     "data": {
      "text/html": [
       "<html>\\[\\newcommand{\\Bold}[1]{\\mathbf{#1}}\\left( \\Bold{Q}[I_{0}, K_{\\mathit{se}}, K_{\\mathit{cp}}, K_{\\mathit{rb}}, K_{\\mathit{sc}}] , \\begin{array}{rcl}I_{0} \\mapsto I_{0}\\\\K_{\\mathit{se}} \\mapsto K_{\\mathit{se}}\\\\K_{\\mathit{cp}} \\mapsto K_{\\mathit{cp}}\\\\K_{\\mathit{rb}} \\mapsto K_{\\mathit{rb}}\\\\K_{\\mathit{sc}} \\mapsto K_{\\mathit{sc}}\\end{array} \\right) \\{ C, S, Y \\}\\]</html>"
      ],
      "text/latex": [
       "$$\\newcommand{\\Bold}[1]{\\mathbf{#1}}\\left( \\Bold{Q}[I_{0}, K_{\\mathit{se}}, K_{\\mathit{cp}}, K_{\\mathit{rb}}, K_{\\mathit{sc}}] , \\begin{array}{rcl}I_{0} \\mapsto I_{0}\\\\K_{\\mathit{se}} \\mapsto K_{\\mathit{se}}\\\\K_{\\mathit{cp}} \\mapsto K_{\\mathit{cp}}\\\\K_{\\mathit{rb}} \\mapsto K_{\\mathit{rb}}\\\\K_{\\mathit{sc}} \\mapsto K_{\\mathit{sc}}\\end{array} \\right) \\{ C, S, Y \\}$$"
      ],
      "text/plain": [
       "Ring of difference polynomials in (C, S, Y) over Difference Ring [Multivariate Polynomial Ring in I_0, K_se, K_cp, K_rb, K_sc over Rational Field] with difference [Map from callable <lambda>]"
      ]
     },
     "execution_count": 10,
     "metadata": {},
     "output_type": "execute_result"
    }
   ],
   "source": [
    "DPR.<C,S,Y> = DifferencePolynomialRing(DR)\n",
    "DPR"
   ]
  },
  {
   "cell_type": "code",
   "execution_count": 11,
   "metadata": {},
   "outputs": [
    {
     "data": {
      "text/html": [
       "<html>\\[\\newcommand{\\Bold}[1]{\\mathbf{#1}}\\text{System over } \\left( \\Bold{Q}[I_{0}, K_{\\mathit{se}}, K_{\\mathit{cp}}, K_{\\mathit{rb}}, K_{\\mathit{sc}}] , \\begin{array}{rcl}I_{0} \\mapsto I_{0}\\\\K_{\\mathit{se}} \\mapsto K_{\\mathit{se}}\\\\K_{\\mathit{cp}} \\mapsto K_{\\mathit{cp}}\\\\K_{\\mathit{rb}} \\mapsto K_{\\mathit{rb}}\\\\K_{\\mathit{sc}} \\mapsto K_{\\mathit{sc}}\\end{array} \\right) \\{ C, S, Y \\} \\text{ with variables } C_{\\ast}, S_{\\ast} :\n",
       "\n",
       " \\left\\{\\begin{array}{ll} K_{\\mathit{se}} C_{0} S_{0} + 1 C_{1} + \\left(K_{\\mathit{cp}} + K_{\\mathit{rb}} - 1\\right) C_{0} + \\left(-I_{0} K_{\\mathit{se}}\\right) S_{0} & = 0 \\\\\n",
       "\\left(-K_{\\mathit{sc}}\\right) C_{0} S_{0} + \\left(-K_{\\mathit{rb}}\\right) C_{0} + 1 S_{1} + \\left(I_{0} K_{\\mathit{se}} - 1\\right) S_{0} & = 0 \\\\\n",
       "-C_{0} - S_{0} + 1 Y_{0} & = 0 \\\\ \n",
       "\\end{array}\\right.\\]</html>"
      ],
      "text/latex": [
       "$$\\newcommand{\\Bold}[1]{\\mathbf{#1}}\\text{System over } \\left( \\Bold{Q}[I_{0}, K_{\\mathit{se}}, K_{\\mathit{cp}}, K_{\\mathit{rb}}, K_{\\mathit{sc}}] , \\begin{array}{rcl}I_{0} \\mapsto I_{0}\\\\K_{\\mathit{se}} \\mapsto K_{\\mathit{se}}\\\\K_{\\mathit{cp}} \\mapsto K_{\\mathit{cp}}\\\\K_{\\mathit{rb}} \\mapsto K_{\\mathit{rb}}\\\\K_{\\mathit{sc}} \\mapsto K_{\\mathit{sc}}\\end{array} \\right) \\{ C, S, Y \\} \\text{ with variables } C_{\\ast}, S_{\\ast} :\n",
       "\n",
       " \\left\\{\\begin{array}{ll} K_{\\mathit{se}} C_{0} S_{0} + 1 C_{1} + \\left(K_{\\mathit{cp}} + K_{\\mathit{rb}} - 1\\right) C_{0} + \\left(-I_{0} K_{\\mathit{se}}\\right) S_{0} & = 0 \\\\\n",
       "\\left(-K_{\\mathit{sc}}\\right) C_{0} S_{0} + \\left(-K_{\\mathit{rb}}\\right) C_{0} + 1 S_{1} + \\left(I_{0} K_{\\mathit{se}} - 1\\right) S_{0} & = 0 \\\\\n",
       "-C_{0} - S_{0} + 1 Y_{0} & = 0 \\\\ \n",
       "\\end{array}\\right.$$"
      ],
      "text/plain": [
       "System over [Ring of difference polynomials in (C, S, Y) over Difference Ring [Multivariate Polynomial Ring in I_0, K_se, K_cp, K_rb, K_sc over Rational Field] with difference [Map from callable <lambda>]] with variables [(C_*, S_*)]:\n",
       "{\n",
       "\tK_se*C_0*S_0 + C_1 + (K_cp + K_rb - 1)*C_0 + (-I_0*K_se)*S_0 == 0\n",
       "\t(-K_sc)*C_0*S_0 + (-K_rb)*C_0 + S_1 + (I_0*K_se - 1)*S_0 == 0\n",
       "\t-C_0 - S_0 + Y_0 == 0\n",
       "}"
      ]
     },
     "execution_count": 11,
     "metadata": {},
     "output_type": "execute_result"
    }
   ],
   "source": [
    "system = DifferenceSystem([\n",
    "    C[1] - K_se*I_0 * S[0] - (1 - K_cp - K_rb) * C[0] + K_se*S[0]*C[0],\n",
    "    S[1] - (1 - K_se * I_0) * S[0] - K_rb * C[0] - K_sc * C[0] * S[0],\n",
    "    Y[0] - C[0] - S[0]\n",
    "], variables = [C,S])\n",
    "system"
   ]
  },
  {
   "cell_type": "markdown",
   "metadata": {},
   "source": [
    "We can try to apply the elimnation here right away:"
   ]
  },
  {
   "cell_type": "code",
   "execution_count": 12,
   "metadata": {},
   "outputs": [],
   "source": [
    "#system.diff_resultant(alg_res=\"macaulay\", verbose = True) ## too long"
   ]
  },
  {
   "cell_type": "markdown",
   "metadata": {},
   "source": [
    "However, even though it founds a valid extension for the system in order to eliminate both $C(n)$ and $S(n)$ at the same time, the macaulay resultant we get is too elow to be computed. Let us see this valid system:"
   ]
  },
  {
   "cell_type": "code",
   "execution_count": 13,
   "metadata": {},
   "outputs": [
    {
     "data": {
      "text/html": [
       "<html>\\[\\newcommand{\\Bold}[1]{\\mathbf{#1}}\\text{System over } \\left( \\Bold{Q}[I_{0}, K_{\\mathit{se}}, K_{\\mathit{cp}}, K_{\\mathit{rb}}, K_{\\mathit{sc}}] , \\begin{array}{rcl}I_{0} \\mapsto I_{0}\\\\K_{\\mathit{se}} \\mapsto K_{\\mathit{se}}\\\\K_{\\mathit{cp}} \\mapsto K_{\\mathit{cp}}\\\\K_{\\mathit{rb}} \\mapsto K_{\\mathit{rb}}\\\\K_{\\mathit{sc}} \\mapsto K_{\\mathit{sc}}\\end{array} \\right) \\{ C, S, Y \\} \\text{ with variables } C_{\\ast}, S_{\\ast} :\n",
       "\n",
       " \\left\\{\\begin{array}{ll} K_{\\mathit{se}} C_{0} S_{0} + 1 C_{1} + \\left(K_{\\mathit{cp}} + K_{\\mathit{rb}} - 1\\right) C_{0} + \\left(-I_{0} K_{\\mathit{se}}\\right) S_{0} & = 0 \\\\\n",
       "K_{\\mathit{se}} C_{1} S_{1} + 1 C_{2} + \\left(K_{\\mathit{cp}} + K_{\\mathit{rb}} - 1\\right) C_{1} + \\left(-I_{0} K_{\\mathit{se}}\\right) S_{1} & = 0 \\\\\n",
       "\\left(-K_{\\mathit{sc}}\\right) C_{0} S_{0} + \\left(-K_{\\mathit{rb}}\\right) C_{0} + 1 S_{1} + \\left(I_{0} K_{\\mathit{se}} - 1\\right) S_{0} & = 0 \\\\\n",
       "\\left(-K_{\\mathit{sc}}\\right) C_{1} S_{1} + \\left(-K_{\\mathit{rb}}\\right) C_{1} + 1 S_{2} + \\left(I_{0} K_{\\mathit{se}} - 1\\right) S_{1} & = 0 \\\\\n",
       "-C_{0} - S_{0} + 1 Y_{0} & = 0 \\\\\n",
       "-C_{1} - S_{1} + 1 Y_{1} & = 0 \\\\\n",
       "-C_{2} - S_{2} + 1 Y_{2} & = 0 \\\\ \n",
       "\\end{array}\\right.\\]</html>"
      ],
      "text/latex": [
       "$$\\newcommand{\\Bold}[1]{\\mathbf{#1}}\\text{System over } \\left( \\Bold{Q}[I_{0}, K_{\\mathit{se}}, K_{\\mathit{cp}}, K_{\\mathit{rb}}, K_{\\mathit{sc}}] , \\begin{array}{rcl}I_{0} \\mapsto I_{0}\\\\K_{\\mathit{se}} \\mapsto K_{\\mathit{se}}\\\\K_{\\mathit{cp}} \\mapsto K_{\\mathit{cp}}\\\\K_{\\mathit{rb}} \\mapsto K_{\\mathit{rb}}\\\\K_{\\mathit{sc}} \\mapsto K_{\\mathit{sc}}\\end{array} \\right) \\{ C, S, Y \\} \\text{ with variables } C_{\\ast}, S_{\\ast} :\n",
       "\n",
       " \\left\\{\\begin{array}{ll} K_{\\mathit{se}} C_{0} S_{0} + 1 C_{1} + \\left(K_{\\mathit{cp}} + K_{\\mathit{rb}} - 1\\right) C_{0} + \\left(-I_{0} K_{\\mathit{se}}\\right) S_{0} & = 0 \\\\\n",
       "K_{\\mathit{se}} C_{1} S_{1} + 1 C_{2} + \\left(K_{\\mathit{cp}} + K_{\\mathit{rb}} - 1\\right) C_{1} + \\left(-I_{0} K_{\\mathit{se}}\\right) S_{1} & = 0 \\\\\n",
       "\\left(-K_{\\mathit{sc}}\\right) C_{0} S_{0} + \\left(-K_{\\mathit{rb}}\\right) C_{0} + 1 S_{1} + \\left(I_{0} K_{\\mathit{se}} - 1\\right) S_{0} & = 0 \\\\\n",
       "\\left(-K_{\\mathit{sc}}\\right) C_{1} S_{1} + \\left(-K_{\\mathit{rb}}\\right) C_{1} + 1 S_{2} + \\left(I_{0} K_{\\mathit{se}} - 1\\right) S_{1} & = 0 \\\\\n",
       "-C_{0} - S_{0} + 1 Y_{0} & = 0 \\\\\n",
       "-C_{1} - S_{1} + 1 Y_{1} & = 0 \\\\\n",
       "-C_{2} - S_{2} + 1 Y_{2} & = 0 \\\\ \n",
       "\\end{array}\\right.$$"
      ],
      "text/plain": [
       "System over [Ring of difference polynomials in (C, S, Y) over Difference Ring [Multivariate Polynomial Ring in I_0, K_se, K_cp, K_rb, K_sc over Rational Field] with difference [Map from callable <lambda>]] with variables [(C_*, S_*)]:\n",
       "{\n",
       "\tK_se*C_0*S_0 + C_1 + (K_cp + K_rb - 1)*C_0 + (-I_0*K_se)*S_0 == 0\n",
       "\tK_se*C_1*S_1 + C_2 + (K_cp + K_rb - 1)*C_1 + (-I_0*K_se)*S_1 == 0\n",
       "\t(-K_sc)*C_0*S_0 + (-K_rb)*C_0 + S_1 + (I_0*K_se - 1)*S_0 == 0\n",
       "\t(-K_sc)*C_1*S_1 + (-K_rb)*C_1 + S_2 + (I_0*K_se - 1)*S_1 == 0\n",
       "\t-C_0 - S_0 + Y_0 == 0\n",
       "\t-C_1 - S_1 + Y_1 == 0\n",
       "\t-C_2 - S_2 + Y_2 == 0\n",
       "}"
      ]
     },
     "execution_count": 13,
     "metadata": {},
     "output_type": "execute_result"
    }
   ],
   "source": [
    "system.extend_by_operation([1,1,2]) # the extension was taken from the verbose output of the previous cell"
   ]
  },
  {
   "cell_type": "code",
   "execution_count": 14,
   "metadata": {},
   "outputs": [
    {
     "data": {
      "text/html": [
       "<html>\\[\\newcommand{\\Bold}[1]{\\mathbf{#1}}\\mathrm{True}\\]</html>"
      ],
      "text/latex": [
       "$$\\newcommand{\\Bold}[1]{\\mathbf{#1}}\\mathrm{True}$$"
      ],
      "text/plain": [
       "True"
      ]
     },
     "execution_count": 14,
     "metadata": {},
     "output_type": "execute_result"
    }
   ],
   "source": [
    "system.extend_by_operation([1,1,2]).is_sp2()"
   ]
  },
  {
   "cell_type": "markdown",
   "metadata": {},
   "source": [
    "## An iterative approach\n",
    "\n",
    "Using the structure of the system maybe we can eliminate one of the variables first, and then the other:"
   ]
  },
  {
   "cell_type": "code",
   "execution_count": 15,
   "metadata": {},
   "outputs": [
    {
     "data": {
      "text/html": [
       "<html>\\[\\newcommand{\\Bold}[1]{\\mathbf{#1}}\\text{System over } \\left( \\Bold{Q}[I_{0}, K_{\\mathit{se}}, K_{\\mathit{cp}}, K_{\\mathit{rb}}, K_{\\mathit{sc}}] , \\begin{array}{rcl}I_{0} \\mapsto I_{0}\\\\K_{\\mathit{se}} \\mapsto K_{\\mathit{se}}\\\\K_{\\mathit{cp}} \\mapsto K_{\\mathit{cp}}\\\\K_{\\mathit{rb}} \\mapsto K_{\\mathit{rb}}\\\\K_{\\mathit{sc}} \\mapsto K_{\\mathit{sc}}\\end{array} \\right) \\{ C, S, Y \\} \\text{ with variables } C_{\\ast}, S_{\\ast} :\n",
       "\n",
       " \\left\\{\\begin{array}{ll} K_{\\mathit{se}} C_{0} S_{0} + 1 C_{1} + \\left(K_{\\mathit{cp}} + K_{\\mathit{rb}} - 1\\right) C_{0} + \\left(-I_{0} K_{\\mathit{se}}\\right) S_{0} & = 0 \\\\\n",
       "\\left(-K_{\\mathit{sc}}\\right) C_{0} S_{0} + \\left(-K_{\\mathit{rb}}\\right) C_{0} + 1 S_{1} + \\left(I_{0} K_{\\mathit{se}} - 1\\right) S_{0} & = 0 \\\\\n",
       "-C_{0} - S_{0} + 1 Y_{0} & = 0 \\\\ \n",
       "\\end{array}\\right.\\]</html>"
      ],
      "text/latex": [
       "$$\\newcommand{\\Bold}[1]{\\mathbf{#1}}\\text{System over } \\left( \\Bold{Q}[I_{0}, K_{\\mathit{se}}, K_{\\mathit{cp}}, K_{\\mathit{rb}}, K_{\\mathit{sc}}] , \\begin{array}{rcl}I_{0} \\mapsto I_{0}\\\\K_{\\mathit{se}} \\mapsto K_{\\mathit{se}}\\\\K_{\\mathit{cp}} \\mapsto K_{\\mathit{cp}}\\\\K_{\\mathit{rb}} \\mapsto K_{\\mathit{rb}}\\\\K_{\\mathit{sc}} \\mapsto K_{\\mathit{sc}}\\end{array} \\right) \\{ C, S, Y \\} \\text{ with variables } C_{\\ast}, S_{\\ast} :\n",
       "\n",
       " \\left\\{\\begin{array}{ll} K_{\\mathit{se}} C_{0} S_{0} + 1 C_{1} + \\left(K_{\\mathit{cp}} + K_{\\mathit{rb}} - 1\\right) C_{0} + \\left(-I_{0} K_{\\mathit{se}}\\right) S_{0} & = 0 \\\\\n",
       "\\left(-K_{\\mathit{sc}}\\right) C_{0} S_{0} + \\left(-K_{\\mathit{rb}}\\right) C_{0} + 1 S_{1} + \\left(I_{0} K_{\\mathit{se}} - 1\\right) S_{0} & = 0 \\\\\n",
       "-C_{0} - S_{0} + 1 Y_{0} & = 0 \\\\ \n",
       "\\end{array}\\right.$$"
      ],
      "text/plain": [
       "System over [Ring of difference polynomials in (C, S, Y) over Difference Ring [Multivariate Polynomial Ring in I_0, K_se, K_cp, K_rb, K_sc over Rational Field] with difference [Map from callable <lambda>]] with variables [(C_*, S_*)]:\n",
       "{\n",
       "\tK_se*C_0*S_0 + C_1 + (K_cp + K_rb - 1)*C_0 + (-I_0*K_se)*S_0 == 0\n",
       "\t(-K_sc)*C_0*S_0 + (-K_rb)*C_0 + S_1 + (I_0*K_se - 1)*S_0 == 0\n",
       "\t-C_0 - S_0 + Y_0 == 0\n",
       "}"
      ]
     },
     "execution_count": 15,
     "metadata": {},
     "output_type": "execute_result"
    }
   ],
   "source": [
    "system"
   ]
  },
  {
   "cell_type": "code",
   "execution_count": 16,
   "metadata": {},
   "outputs": [
    {
     "data": {
      "text/html": [
       "<html>\\[\\newcommand{\\Bold}[1]{\\mathbf{#1}}\\left(-K_{\\mathit{se}}\\right) S_{0}^{2} + K_{\\mathit{se}} S_{0} Y_{0} - S_{1} + \\left(-I_{0} K_{\\mathit{se}} - K_{\\mathit{cp}} - K_{\\mathit{rb}} + 1\\right) S_{0} + 1 Y_{1} + \\left(K_{\\mathit{cp}} + K_{\\mathit{rb}} - 1\\right) Y_{0}\\]</html>"
      ],
      "text/latex": [
       "$$\\newcommand{\\Bold}[1]{\\mathbf{#1}}\\left(-K_{\\mathit{se}}\\right) S_{0}^{2} + K_{\\mathit{se}} S_{0} Y_{0} - S_{1} + \\left(-I_{0} K_{\\mathit{se}} - K_{\\mathit{cp}} - K_{\\mathit{rb}} + 1\\right) S_{0} + 1 Y_{1} + \\left(K_{\\mathit{cp}} + K_{\\mathit{rb}} - 1\\right) Y_{0}$$"
      ],
      "text/plain": [
       "(-K_se)*S_0^2 + K_se*S_0*Y_0 - S_1 + (-I_0*K_se - K_cp - K_rb + 1)*S_0 + Y_1 + (K_cp + K_rb - 1)*Y_0"
      ]
     },
     "execution_count": 16,
     "metadata": {},
     "output_type": "execute_result"
    }
   ],
   "source": [
    "eq_wo_C1 = system.parent()(str(system.subsystem([0,2], variables=[C]).diff_resultant(alg_res=\"macaulay\"))); eq_wo_C1"
   ]
  },
  {
   "cell_type": "code",
   "execution_count": 17,
   "metadata": {},
   "outputs": [
    {
     "data": {
      "text/html": [
       "<html>\\[\\newcommand{\\Bold}[1]{\\mathbf{#1}}K_{\\mathit{sc}} S_{0}^{2} + \\left(-K_{\\mathit{sc}}\\right) S_{0} Y_{0} + 1 S_{1} + \\left(I_{0} K_{\\mathit{se}} + K_{\\mathit{rb}} - 1\\right) S_{0} + \\left(-K_{\\mathit{rb}}\\right) Y_{0}\\]</html>"
      ],
      "text/latex": [
       "$$\\newcommand{\\Bold}[1]{\\mathbf{#1}}K_{\\mathit{sc}} S_{0}^{2} + \\left(-K_{\\mathit{sc}}\\right) S_{0} Y_{0} + 1 S_{1} + \\left(I_{0} K_{\\mathit{se}} + K_{\\mathit{rb}} - 1\\right) S_{0} + \\left(-K_{\\mathit{rb}}\\right) Y_{0}$$"
      ],
      "text/plain": [
       "K_sc*S_0^2 + (-K_sc)*S_0*Y_0 + S_1 + (I_0*K_se + K_rb - 1)*S_0 + (-K_rb)*Y_0"
      ]
     },
     "execution_count": 17,
     "metadata": {},
     "output_type": "execute_result"
    }
   ],
   "source": [
    "eq_wo_C2 = system.parent()(str(system.subsystem([1,2], variables=[C]).diff_resultant(alg_res=\"macaulay\"))); eq_wo_C2"
   ]
  },
  {
   "cell_type": "code",
   "execution_count": 18,
   "metadata": {},
   "outputs": [
    {
     "data": {
      "text/html": [
       "<html>\\[\\newcommand{\\Bold}[1]{\\mathbf{#1}}\\text{System over } \\left( \\Bold{Q}[I_{0}, K_{\\mathit{se}}, K_{\\mathit{cp}}, K_{\\mathit{rb}}, K_{\\mathit{sc}}] , \\begin{array}{rcl}I_{0} \\mapsto I_{0}\\\\K_{\\mathit{se}} \\mapsto K_{\\mathit{se}}\\\\K_{\\mathit{cp}} \\mapsto K_{\\mathit{cp}}\\\\K_{\\mathit{rb}} \\mapsto K_{\\mathit{rb}}\\\\K_{\\mathit{sc}} \\mapsto K_{\\mathit{sc}}\\end{array} \\right) \\{ C, S, Y \\} \\text{ with variables } S_{\\ast} :\n",
       "\n",
       " \\left\\{\\begin{array}{ll} \\left(-K_{\\mathit{se}}\\right) S_{0}^{2} + K_{\\mathit{se}} S_{0} Y_{0} - S_{1} + \\left(-I_{0} K_{\\mathit{se}} - K_{\\mathit{cp}} - K_{\\mathit{rb}} + 1\\right) S_{0} + 1 Y_{1} + \\left(K_{\\mathit{cp}} + K_{\\mathit{rb}} - 1\\right) Y_{0} & = 0 \\\\\n",
       "K_{\\mathit{sc}} S_{0}^{2} + \\left(-K_{\\mathit{sc}}\\right) S_{0} Y_{0} + 1 S_{1} + \\left(I_{0} K_{\\mathit{se}} + K_{\\mathit{rb}} - 1\\right) S_{0} + \\left(-K_{\\mathit{rb}}\\right) Y_{0} & = 0 \\\\ \n",
       "\\end{array}\\right.\\]</html>"
      ],
      "text/latex": [
       "$$\\newcommand{\\Bold}[1]{\\mathbf{#1}}\\text{System over } \\left( \\Bold{Q}[I_{0}, K_{\\mathit{se}}, K_{\\mathit{cp}}, K_{\\mathit{rb}}, K_{\\mathit{sc}}] , \\begin{array}{rcl}I_{0} \\mapsto I_{0}\\\\K_{\\mathit{se}} \\mapsto K_{\\mathit{se}}\\\\K_{\\mathit{cp}} \\mapsto K_{\\mathit{cp}}\\\\K_{\\mathit{rb}} \\mapsto K_{\\mathit{rb}}\\\\K_{\\mathit{sc}} \\mapsto K_{\\mathit{sc}}\\end{array} \\right) \\{ C, S, Y \\} \\text{ with variables } S_{\\ast} :\n",
       "\n",
       " \\left\\{\\begin{array}{ll} \\left(-K_{\\mathit{se}}\\right) S_{0}^{2} + K_{\\mathit{se}} S_{0} Y_{0} - S_{1} + \\left(-I_{0} K_{\\mathit{se}} - K_{\\mathit{cp}} - K_{\\mathit{rb}} + 1\\right) S_{0} + 1 Y_{1} + \\left(K_{\\mathit{cp}} + K_{\\mathit{rb}} - 1\\right) Y_{0} & = 0 \\\\\n",
       "K_{\\mathit{sc}} S_{0}^{2} + \\left(-K_{\\mathit{sc}}\\right) S_{0} Y_{0} + 1 S_{1} + \\left(I_{0} K_{\\mathit{se}} + K_{\\mathit{rb}} - 1\\right) S_{0} + \\left(-K_{\\mathit{rb}}\\right) Y_{0} & = 0 \\\\ \n",
       "\\end{array}\\right.$$"
      ],
      "text/plain": [
       "System over [Ring of difference polynomials in (C, S, Y) over Difference Ring [Multivariate Polynomial Ring in I_0, K_se, K_cp, K_rb, K_sc over Rational Field] with difference [Map from callable <lambda>]] with variables [(S_*,)]:\n",
       "{\n",
       "\t(-K_se)*S_0^2 + K_se*S_0*Y_0 - S_1 + (-I_0*K_se - K_cp - K_rb + 1)*S_0 + Y_1 + (K_cp + K_rb - 1)*Y_0 == 0\n",
       "\tK_sc*S_0^2 + (-K_sc)*S_0*Y_0 + S_1 + (I_0*K_se + K_rb - 1)*S_0 + (-K_rb)*Y_0 == 0\n",
       "}"
      ]
     },
     "execution_count": 18,
     "metadata": {},
     "output_type": "execute_result"
    }
   ],
   "source": [
    "system_wo_C = DifferenceSystem([eq_wo_C1, eq_wo_C2], system.parent(), variables=[S]); system_wo_C"
   ]
  },
  {
   "cell_type": "code",
   "execution_count": 113,
   "metadata": {},
   "outputs": [],
   "source": [
    "equations = list(system_wo_C.extend_by_operation([1,1]).equations())\n",
    "variables = system_wo_C.extend_by_operation([1,1]).algebraic_variables()"
   ]
  },
  {
   "cell_type": "code",
   "execution_count": 114,
   "metadata": {},
   "outputs": [
    {
     "data": {
      "text/html": [
       "<html>\\[\\newcommand{\\Bold}[1]{\\mathbf{#1}}\\left(\\begin{array}{rrr}\n",
       "\\left(-K_{\\mathit{se}}\\right) S_{0}^{2} + K_{\\mathit{se}} S_{0} Y_{0} + \\left(-I_{0} K_{\\mathit{se}} - K_{\\mathit{cp}} - K_{\\mathit{rb}} + 1\\right) S_{0} & -S_{1} & 0 \\\\\n",
       "0 & \\left(-K_{\\mathit{se}}\\right) S_{1}^{2} + K_{\\mathit{se}} S_{1} Y_{1} + \\left(-I_{0} K_{\\mathit{se}} - K_{\\mathit{cp}} - K_{\\mathit{rb}} + 1\\right) S_{1} & -S_{2} \\\\\n",
       "K_{\\mathit{sc}} S_{0}^{2} + \\left(-K_{\\mathit{sc}}\\right) S_{0} Y_{0} + \\left(I_{0} K_{\\mathit{se}} + K_{\\mathit{rb}} - 1\\right) S_{0} & 1 S_{1} & 0 \\\\\n",
       "0 & K_{\\mathit{sc}} S_{1}^{2} + \\left(-K_{\\mathit{sc}}\\right) S_{1} Y_{1} + \\left(I_{0} K_{\\mathit{se}} + K_{\\mathit{rb}} - 1\\right) S_{1} & 1 S_{2}\n",
       "\\end{array}\\right)\\]</html>"
      ],
      "text/latex": [
       "$$\\newcommand{\\Bold}[1]{\\mathbf{#1}}\\left(\\begin{array}{rrr}\n",
       "\\left(-K_{\\mathit{se}}\\right) S_{0}^{2} + K_{\\mathit{se}} S_{0} Y_{0} + \\left(-I_{0} K_{\\mathit{se}} - K_{\\mathit{cp}} - K_{\\mathit{rb}} + 1\\right) S_{0} & -S_{1} & 0 \\\\\n",
       "0 & \\left(-K_{\\mathit{se}}\\right) S_{1}^{2} + K_{\\mathit{se}} S_{1} Y_{1} + \\left(-I_{0} K_{\\mathit{se}} - K_{\\mathit{cp}} - K_{\\mathit{rb}} + 1\\right) S_{1} & -S_{2} \\\\\n",
       "K_{\\mathit{sc}} S_{0}^{2} + \\left(-K_{\\mathit{sc}}\\right) S_{0} Y_{0} + \\left(I_{0} K_{\\mathit{se}} + K_{\\mathit{rb}} - 1\\right) S_{0} & 1 S_{1} & 0 \\\\\n",
       "0 & K_{\\mathit{sc}} S_{1}^{2} + \\left(-K_{\\mathit{sc}}\\right) S_{1} Y_{1} + \\left(I_{0} K_{\\mathit{se}} + K_{\\mathit{rb}} - 1\\right) S_{1} & 1 S_{2}\n",
       "\\end{array}\\right)$$"
      ],
      "text/plain": [
       "[(-K_se)*S_0^2 + K_se*S_0*Y_0 + (-I_0*K_se - K_cp - K_rb + 1)*S_0                                                             -S_1                                                                0]\n",
       "[                                                               0 (-K_se)*S_1^2 + K_se*S_1*Y_1 + (-I_0*K_se - K_cp - K_rb + 1)*S_1                                                             -S_2]\n",
       "[        K_sc*S_0^2 + (-K_sc)*S_0*Y_0 + (I_0*K_se + K_rb - 1)*S_0                                                              S_1                                                                0]\n",
       "[                                                               0         K_sc*S_1^2 + (-K_sc)*S_1*Y_1 + (I_0*K_se + K_rb - 1)*S_1                                                              S_2]"
      ]
     },
     "execution_count": 114,
     "metadata": {},
     "output_type": "execute_result"
    }
   ],
   "source": [
    "def is_variable_in_equation(variable, equation):\n",
    "    return equation.polynomial().degree(variable.polynomial()) > 0\n",
    "\n",
    "def build_matrix_variables(equations, variables):\n",
    "    M = []\n",
    "    for equation in equations:\n",
    "        row = []\n",
    "        for variable in variables:\n",
    "            poly = equation.polynomial().polynomial(variable.polynomial())\n",
    "            ct = poly.constant_coefficient()\n",
    "            row.append(poly-ct)\n",
    "        M.append(row)\n",
    "    return Matrix(variables[0].parent(), M)\n",
    "\n",
    "def eliminate_variable_2eqs(variable, equation1, equation2):\n",
    "    poly1 = equation1.polynomial().polynomial(variable.polynomial())\n",
    "    poly2 = equation2.polynomial().polynomial(variable.polynomial())\n",
    "    \n",
    "    syl_matr = poly1.sylvester_matrix(poly2)\n",
    "    det = syl_matr.determinant()\n",
    "    if det == 0: raise ZeroDivisionError()\n",
    "        \n",
    "    return variable.parent()(det)\n",
    "\n",
    "def eliminate_variable_gen(variable, equations):\n",
    "    indices = [i for i in range(len(equations)) if is_variable_in_equation(variable, equations[i])]\n",
    "    sorted(indices, key=lambda p : equations[0].polynomial().degree(variables[-1].polynomial()))\n",
    "    new_eqs = [equations[i] for i in range(len(equations)) if (not i in indices)]\n",
    "    for i in range(1, len(indices)):\n",
    "        new_eqs.append(eliminate_variable_2eqs(variable, equations[indices[0]], equations[indices[i]]))\n",
    "        \n",
    "    return new_eqs\n",
    "\n",
    "M = build_matrix_variables(equations, variables); M"
   ]
  },
  {
   "cell_type": "code",
   "execution_count": 115,
   "metadata": {},
   "outputs": [
    {
     "name": "stdout",
     "output_type": "stream",
     "text": [
      "Remaining equations: 1\n"
     ]
    }
   ],
   "source": [
    "# eliminating all variables of S(n)\n",
    "for var in variables[::-1]:\n",
    "    equations = eliminate_variable_gen(var, equations)\n",
    "    \n",
    "print(f\"Remaining equations: {len(equations)}\")"
   ]
  },
  {
   "cell_type": "code",
   "execution_count": 116,
   "metadata": {},
   "outputs": [
    {
     "data": {
      "text/html": [
       "<html>\\[\\newcommand{\\Bold}[1]{\\mathbf{#1}}\\left(2, 4, 21\\right)\\]</html>"
      ],
      "text/latex": [
       "$$\\newcommand{\\Bold}[1]{\\mathbf{#1}}\\left(2, 4, 21\\right)$$"
      ],
      "text/plain": [
       "(2, 4, 21)"
      ]
     },
     "execution_count": 116,
     "metadata": {},
     "output_type": "execute_result"
    }
   ],
   "source": [
    "equations[0].order(Y), equations[0].degree(), len(equations[0].monomials())"
   ]
  },
  {
   "cell_type": "code",
   "execution_count": 117,
   "metadata": {
    "scrolled": false
   },
   "outputs": [
    {
     "name": "stdout",
     "output_type": "stream",
     "text": [
      "(deg: 6,\tn_mons: 3)\n",
      "(deg: 8,\tn_mons: 15)\n",
      "(deg: 10,\tn_mons: 47)\n",
      "(deg: 11,\tn_mons: 79)\n",
      "(deg: 12,\tn_mons: 84)\n",
      "(deg: 5,\tn_mons: 4)\n",
      "(deg: 7,\tn_mons: 22)\n",
      "(deg: 9,\tn_mons: 41)\n",
      "(deg: 9,\tn_mons: 54)\n",
      "(deg: 11,\tn_mons: 104)\n",
      "(deg: 12,\tn_mons: 159)\n",
      "(deg: 13,\tn_mons: 173)\n",
      "(deg: 4,\tn_mons: 5)\n",
      "(deg: 8,\tn_mons: 49)\n",
      "(deg: 8,\tn_mons: 70)\n",
      "(deg: 12,\tn_mons: 161)\n",
      "(deg: 13,\tn_mons: 214)\n",
      "(deg: 14,\tn_mons: 241)\n",
      "(deg: 9,\tn_mons: 31)\n",
      "(deg: 11,\tn_mons: 70)\n",
      "(deg: 12,\tn_mons: 90)\n"
     ]
    }
   ],
   "source": [
    "for coeff in equations[0].coefficients():\n",
    "    print(f\"(deg: {coeff.wrapped.degree()},\\tn_mons: {len(coeff.wrapped.monomials())})\")"
   ]
  },
  {
   "cell_type": "code",
   "execution_count": 129,
   "metadata": {},
   "outputs": [],
   "source": [
    "coefficients = [coeff.wrapped for coeff in equations[0].coefficients()]"
   ]
  },
  {
   "cell_type": "code",
   "execution_count": 131,
   "metadata": {},
   "outputs": [],
   "source": [
    "g = gcd(coefficients)"
   ]
  },
  {
   "cell_type": "code",
   "execution_count": 132,
   "metadata": {},
   "outputs": [],
   "source": [
    "coefficients = [el/g for el in coefficients]"
   ]
  },
  {
   "cell_type": "code",
   "execution_count": 133,
   "metadata": {},
   "outputs": [
    {
     "name": "stdout",
     "output_type": "stream",
     "text": [
      "K_se^3*K_sc^2 - K_se^2*K_sc^3\n"
     ]
    }
   ],
   "source": [
    "print(coefficients[0])"
   ]
  },
  {
   "cell_type": "code",
   "execution_count": 141,
   "metadata": {},
   "outputs": [],
   "source": [
    "with open(\"/home/anton/results/coefficients_c+s.txt\", \"w\") as f:\n",
    "    for coeff in coefficients:\n",
    "        f.write(str(coeff) + \"\\n\")\n",
    "with open(\"/home/anton/results/resultant_c+s.txt\", \"w\") as f:\n",
    "    f.write(str(equations[0]))"
   ]
  },
  {
   "cell_type": "code",
   "execution_count": null,
   "metadata": {},
   "outputs": [],
   "source": []
  }
 ],
 "metadata": {
  "kernelspec": {
   "display_name": "SageMath 9.5.beta0",
   "language": "sage",
   "name": "sagemath"
  },
  "language_info": {
   "codemirror_mode": {
    "name": "ipython",
    "version": 3
   },
   "file_extension": ".py",
   "mimetype": "text/x-python",
   "name": "python",
   "nbconvert_exporter": "python",
   "pygments_lexer": "ipython3",
   "version": "3.8.10"
  }
 },
 "nbformat": 4,
 "nbformat_minor": 4
}
