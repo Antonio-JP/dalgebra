{
 "cells": [
  {
   "cell_type": "markdown",
   "id": "cd1fbf24-da82-4bac-8ab9-81a444e1fbba",
   "metadata": {},
   "source": [
    "# **ACA** - **AADIOS**"
   ]
  },
  {
   "cell_type": "markdown",
   "id": "44a01cd2-7d08-4e04-950e-2871b9ae7139",
   "metadata": {},
   "source": [
    "This is a notebook containing examples for the talk *\"Difference-differential polynomials in SageMath\"* in the session **Algebraic and Algorithmic Aspects of Differential and Integral Operators** (AADIOS) within the context of the *28th International Conference on Applications of Computer Algebra* (ACA'2023), July 17--21, 2023, Warsaw."
   ]
  },
  {
   "cell_type": "code",
   "execution_count": 1,
   "id": "e0de2eb8-2bfe-49ad-a96f-50dbda1d119b",
   "metadata": {},
   "outputs": [],
   "source": [
    "import sys; sys.path.insert(0, \"..\") # dalgebra is here\n",
    "%display latex\n",
    "from dalgebra import *"
   ]
  },
  {
   "cell_type": "markdown",
   "id": "521a9187-4e29-4a42-86c6-082176a1b7a8",
   "metadata": {
    "tags": []
   },
   "source": [
    "## **1. Creation of Difference-Differential Polynomials**"
   ]
  },
  {
   "cell_type": "markdown",
   "id": "e992c80f-5130-40e3-a81f-cdc2ab94712f",
   "metadata": {
    "tags": []
   },
   "source": [
    "### 1.1 Creation of base rings"
   ]
  },
  {
   "cell_type": "markdown",
   "id": "4157a26f-923e-4759-9d83-df1fb9f84f80",
   "metadata": {},
   "source": [
    "Differential rings:"
   ]
  },
  {
   "cell_type": "code",
   "execution_count": 2,
   "id": "c5374cf9-2ff3-4ab2-ac64-af17f5e70b2a",
   "metadata": {},
   "outputs": [
    {
     "data": {
      "text/html": [
       "<html>\\(\\displaystyle \\newcommand{\\Bold}[1]{\\mathbf{#1}}\\left(\\left(\\Bold{Q}[x], \\frac{d}{dx}\\right), \\left(\\Bold{Q}[e_{x}], e_x \\frac{d}{de_{x}}\\right)\\right)\\)</html>"
      ],
      "text/latex": [
       "$\\displaystyle \\newcommand{\\Bold}[1]{\\mathbf{#1}}\\left(\\left(\\Bold{Q}[x], \\frac{d}{dx}\\right), \\left(\\Bold{Q}[e_{x}], e_x \\frac{d}{de_{x}}\\right)\\right)$"
      ],
      "text/plain": [
       "(Differential Ring [[Univariate Polynomial Ring in x over Rational Field], (d/dx,)],\n",
       " Differential Ring [[Univariate Polynomial Ring in e_x over Rational Field], (e_x*d/de_x,)])"
      ]
     },
     "execution_count": 2,
     "metadata": {},
     "output_type": "execute_result"
    }
   ],
   "source": [
    "DQ_x = DifferentialRing(QQ[x], [1]) # DQ_x = (Q[x], dx)\n",
    "DQ_ex = DifferentialRing(QQ['e_x'], ['e_x']) # DQ_ex = (Q[e^x], e^xde^x)\n",
    "\n",
    "DQ_x, DQ_ex"
   ]
  },
  {
   "cell_type": "markdown",
   "id": "251b0e74-3d2e-4462-8532-e720970246cf",
   "metadata": {},
   "source": [
    "Difference rings:"
   ]
  },
  {
   "cell_type": "code",
   "execution_count": 3,
   "id": "ac7382bd-3020-4255-bc74-452de9013155",
   "metadata": {},
   "outputs": [
    {
     "data": {
      "text/html": [
       "<html>\\(\\displaystyle \\newcommand{\\Bold}[1]{\\mathbf{#1}}\\left(\\left(\\Bold{Q}[x], \\sigma\\left(x \\mapsto x + 1\\right)\\right), \\left(\\Bold{Q}[e, e_{x}], \\sigma\\left(e \\mapsto e, e_{x} \\mapsto e e_{x}\\right)\\right)\\right)\\)</html>"
      ],
      "text/latex": [
       "$\\displaystyle \\newcommand{\\Bold}[1]{\\mathbf{#1}}\\left(\\left(\\Bold{Q}[x], \\sigma\\left(x \\mapsto x + 1\\right)\\right), \\left(\\Bold{Q}[e, e_{x}], \\sigma\\left(e \\mapsto e, e_{x} \\mapsto e e_{x}\\right)\\right)\\right)$"
      ],
      "text/plain": [
       "(Difference Ring [[Univariate Polynomial Ring in x over Rational Field], (Hom({x: x + 1}),)],\n",
       " Difference Ring [[Multivariate Polynomial Ring in e, e_x over Rational Field], (Hom({e: e, e_x: e*e_x}),)])"
      ]
     },
     "execution_count": 3,
     "metadata": {},
     "output_type": "execute_result"
    }
   ],
   "source": [
    "SQ_x = DifferenceRing(QQ[x], [x+1]) # SQ_x = (Q[x], s: x -> x+1)\n",
    "SQ_ex = DifferenceRing(QQ['e', 'e_x'], ['e', 'e*e_x'])# QQ['e', 'e_x'].Hom(QQ['e', 'e_x'])(['e','e*e_x']))\n",
    "SQ_x, SQ_ex"
   ]
  },
  {
   "cell_type": "markdown",
   "id": "51d4988d-5661-4204-bda0-459d285b7567",
   "metadata": {},
   "source": [
    "Mixed:"
   ]
  },
  {
   "cell_type": "code",
   "execution_count": 4,
   "id": "3e9cbdb0-995c-4238-8c4c-d83f53d57cd0",
   "metadata": {},
   "outputs": [
    {
     "data": {
      "text/html": [
       "<html>\\(\\displaystyle \\newcommand{\\Bold}[1]{\\mathbf{#1}}\\left(\\left(\\Bold{Q}[x], \\left(\\frac{d}{dx}, \\sigma\\left(x \\mapsto x + 1\\right)\\right)\\right), \\left(\\Bold{Q}[x, e, e_{x}], \\left(\\frac{d}{dx} + e_x \\frac{d}{de_{x}}, \\sigma\\left(x \\mapsto x + 1, e \\mapsto e, e_{x} \\mapsto e e_{x}\\right)\\right)\\right)\\right)\\)</html>"
      ],
      "text/latex": [
       "$\\displaystyle \\newcommand{\\Bold}[1]{\\mathbf{#1}}\\left(\\left(\\Bold{Q}[x], \\left(\\frac{d}{dx}, \\sigma\\left(x \\mapsto x + 1\\right)\\right)\\right), \\left(\\Bold{Q}[x, e, e_{x}], \\left(\\frac{d}{dx} + e_x \\frac{d}{de_{x}}, \\sigma\\left(x \\mapsto x + 1, e \\mapsto e, e_{x} \\mapsto e e_{x}\\right)\\right)\\right)\\right)$"
      ],
      "text/plain": [
       "(Ring [[Univariate Polynomial Ring in x over Rational Field], (d/dx, Hom({x: x + 1}))],\n",
       " Ring [[Multivariate Polynomial Ring in x, e, e_x over Rational Field], (d/dx + e_x*d/de_x, Hom({x: x + 1, e: e, e_x: e*e_x}))])"
      ]
     },
     "execution_count": 4,
     "metadata": {},
     "output_type": "execute_result"
    }
   ],
   "source": [
    "SDQ_x = DifferenceRing(DQ_x, [x+1]); # SDQ_x = (Q[x], (dx, s: x -> x+1))\n",
    "SDQ_ex = DRing(QQ['x','e','e_x'], [1, 0, 'e_x'], ['x+1', 'e', 'e*e_x'], types=[\"derivation\", \"homomorphism\"])\n",
    "SDQ_x, SDQ_ex"
   ]
  },
  {
   "cell_type": "code",
   "execution_count": 5,
   "id": "70485c8d-43b1-413e-ac23-feea91b0da85",
   "metadata": {},
   "outputs": [
    {
     "data": {
      "text/html": [
       "<html>\\(\\displaystyle \\verb|element:| \\frac{x^{2} - e^{2}}{e_{x}}\\)</html>"
      ],
      "text/latex": [
       "$\\displaystyle \\verb|element:| \\frac{x^{2} - e^{2}}{e_{x}}$"
      ],
      "text/plain": [
       "'element: ' (x^2 - e^2)/e_x"
      ]
     },
     "metadata": {},
     "output_type": "display_data"
    },
    {
     "data": {
      "text/html": [
       "<html>\\(\\displaystyle \\verb|derivative:| \\frac{-x^{2} e + e^{3} + x^{2} - e^{2} + 2 x + 1}{e_{x}}\\)</html>"
      ],
      "text/latex": [
       "$\\displaystyle \\verb|derivative:| \\frac{-x^{2} e + e^{3} + x^{2} - e^{2} + 2 x + 1}{e_{x}}$"
      ],
      "text/plain": [
       "'derivative: ' (-x^2*e + e^3 + x^2 - e^2 + 2*x + 1)/e_x"
      ]
     },
     "metadata": {},
     "output_type": "display_data"
    },
    {
     "data": {
      "text/html": [
       "<html>\\(\\displaystyle \\verb|shift:| \\frac{x^{2} - e^{2} + 2 x + 1}{e e_{x}}\\)</html>"
      ],
      "text/latex": [
       "$\\displaystyle \\verb|shift:| \\frac{x^{2} - e^{2} + 2 x + 1}{e e_{x}}$"
      ],
      "text/plain": [
       "'shift: ' (x^2 - e^2 + 2*x + 1)/(e*e_x)"
      ]
     },
     "metadata": {},
     "output_type": "display_data"
    }
   ],
   "source": [
    "x, e, e_x = SDQ_ex.gens()\n",
    "el = (x^2 - e^2)/e_x\n",
    "show(\"element: \", el)\n",
    "show(\"derivative: \", el.derivative())\n",
    "show(\"shift: \", el.shift())"
   ]
  },
  {
   "cell_type": "markdown",
   "id": "5213798c-691e-445b-b47e-945b7757c541",
   "metadata": {
    "tags": []
   },
   "source": [
    "### 1.2 Creation of difference-differential polynomials"
   ]
  },
  {
   "cell_type": "markdown",
   "id": "14e1fcfe-9f01-47fa-99c6-021d29b65f34",
   "metadata": {},
   "source": [
    "#### Differential ring of polynomials"
   ]
  },
  {
   "cell_type": "code",
   "execution_count": 6,
   "id": "92ea3a8a-ac61-4b98-892d-248af06ec80f",
   "metadata": {},
   "outputs": [
    {
     "data": {
      "text/html": [
       "<html>\\(\\displaystyle \\newcommand{\\Bold}[1]{\\mathbf{#1}}\\left(\\Bold{Q}[x], \\frac{d}{dx}\\right) \\{ u, v \\}\\)</html>"
      ],
      "text/latex": [
       "$\\displaystyle \\newcommand{\\Bold}[1]{\\mathbf{#1}}\\left(\\Bold{Q}[x], \\frac{d}{dx}\\right) \\{ u, v \\}$"
      ],
      "text/plain": [
       "Ring of operator polynomials in (u, v) over Differential Ring [[Univariate Polynomial Ring in x over Rational Field], (d/dx,)]"
      ]
     },
     "execution_count": 6,
     "metadata": {},
     "output_type": "execute_result"
    }
   ],
   "source": [
    "DQ_x_uv.<u,v> = DPolynomialRing(DQ_x); x = DQ_x('x')\n",
    "DQ_x_uv"
   ]
  },
  {
   "cell_type": "code",
   "execution_count": 7,
   "id": "2cb89a98-bd68-414d-b660-834576e5e6d0",
   "metadata": {},
   "outputs": [
    {
     "data": {
      "text/html": [
       "<html>\\(\\displaystyle x u_{2} + 2 u_{1}\\)</html>"
      ],
      "text/latex": [
       "$\\displaystyle x u_{2} + 2 u_{1}$"
      ],
      "text/plain": [
       "x*u_2 + 2*u_1"
      ]
     },
     "execution_count": 7,
     "metadata": {},
     "output_type": "execute_result"
    }
   ],
   "source": [
    "## It inherits the derivative over DQ_x\n",
    "(u + x*u[1]).derivative()"
   ]
  },
  {
   "cell_type": "code",
   "execution_count": 8,
   "id": "df9c737c-e21a-4969-b26e-973286757747",
   "metadata": {},
   "outputs": [
    {
     "data": {
      "text/html": [
       "<html>\\(\\displaystyle 1 u_{20}\\)</html>"
      ],
      "text/latex": [
       "$\\displaystyle 1 u_{20}$"
      ],
      "text/plain": [
       "u_20"
      ]
     },
     "execution_count": 8,
     "metadata": {},
     "output_type": "execute_result"
    }
   ],
   "source": [
    "## Derivating simply increases the index\n",
    "u[0].derivative(times=20)"
   ]
  },
  {
   "cell_type": "code",
   "execution_count": 9,
   "id": "a8470981-ee24-42ac-87a8-4bd3717f8392",
   "metadata": {},
   "outputs": [
    {
     "data": {
      "text/html": [
       "<html>\\(\\displaystyle \\mathrm{True}\\)</html>"
      ],
      "text/latex": [
       "$\\displaystyle \\mathrm{True}$"
      ],
      "text/plain": [
       "True"
      ]
     },
     "execution_count": 9,
     "metadata": {},
     "output_type": "execute_result"
    }
   ],
   "source": [
    "## Leibniz rule\n",
    "(u*v).derivative() == (u*v[1] + v*u[1])"
   ]
  },
  {
   "cell_type": "markdown",
   "id": "6084334c-66b8-4f5d-9377-0a67cdfc8e72",
   "metadata": {},
   "source": [
    "#### Difference ring of polynomials"
   ]
  },
  {
   "cell_type": "code",
   "execution_count": 10,
   "id": "2eda5c1b-ff97-4b33-adae-01d1b35d43b4",
   "metadata": {},
   "outputs": [
    {
     "data": {
      "text/html": [
       "<html>\\(\\displaystyle \\newcommand{\\Bold}[1]{\\mathbf{#1}}\\left(\\Bold{Q}[e, e_{x}], \\sigma\\left(e \\mapsto e, e_{x} \\mapsto e e_{x}\\right)\\right) \\{ y, z \\}\\)</html>"
      ],
      "text/latex": [
       "$\\displaystyle \\newcommand{\\Bold}[1]{\\mathbf{#1}}\\left(\\Bold{Q}[e, e_{x}], \\sigma\\left(e \\mapsto e, e_{x} \\mapsto e e_{x}\\right)\\right) \\{ y, z \\}$"
      ],
      "text/plain": [
       "Ring of operator polynomials in (y, z) over Difference Ring [[Multivariate Polynomial Ring in e, e_x over Rational Field], (Hom({e: e, e_x: e*e_x}),)]"
      ]
     },
     "execution_count": 10,
     "metadata": {},
     "output_type": "execute_result"
    }
   ],
   "source": [
    "SQ_ex_yz.<y,z> = DPolynomialRing(SQ_ex); e, e_x = SQ_ex.gens()\n",
    "SQ_ex_yz"
   ]
  },
  {
   "cell_type": "code",
   "execution_count": 11,
   "id": "4ef5499c-365f-471e-b40c-e733d54fb75f",
   "metadata": {},
   "outputs": [
    {
     "data": {
      "text/html": [
       "<html>\\(\\displaystyle e y_{1} + \\left(e e_{x}\\right) z_{2}\\)</html>"
      ],
      "text/latex": [
       "$\\displaystyle e y_{1} + \\left(e e_{x}\\right) z_{2}$"
      ],
      "text/plain": [
       "e*y_1 + e*e_x*z_2"
      ]
     },
     "execution_count": 11,
     "metadata": {},
     "output_type": "execute_result"
    }
   ],
   "source": [
    "## It inherits the shift over DQ_x\n",
    "(e*y[0] + z[1]*e_x).shift()"
   ]
  },
  {
   "cell_type": "code",
   "execution_count": 12,
   "id": "6892e0aa-afab-4f8d-ba6e-ca00443d61a3",
   "metadata": {},
   "outputs": [
    {
     "data": {
      "text/html": [
       "<html>\\(\\displaystyle 1 z_{20}\\)</html>"
      ],
      "text/latex": [
       "$\\displaystyle 1 z_{20}$"
      ],
      "text/plain": [
       "z_20"
      ]
     },
     "execution_count": 12,
     "metadata": {},
     "output_type": "execute_result"
    }
   ],
   "source": [
    "## Computing the shift simply increases the index\n",
    "z[0].shift(times=20)"
   ]
  },
  {
   "cell_type": "code",
   "execution_count": 13,
   "id": "ccf7d522-9f83-4e31-af67-c0855d3c8e79",
   "metadata": {},
   "outputs": [
    {
     "data": {
      "text/html": [
       "<html>\\(\\displaystyle \\mathrm{True}\\)</html>"
      ],
      "text/latex": [
       "$\\displaystyle \\mathrm{True}$"
      ],
      "text/plain": [
       "True"
      ]
     },
     "execution_count": 13,
     "metadata": {},
     "output_type": "execute_result"
    }
   ],
   "source": [
    "## The shift is a ring homomorphism\n",
    "(y*z).shift() == y[1]*z[1]"
   ]
  },
  {
   "cell_type": "markdown",
   "id": "3f4d2a06-5de1-47df-8f48-409170ae2bc5",
   "metadata": {},
   "source": [
    "#### Difference-Differential polynomials"
   ]
  },
  {
   "cell_type": "code",
   "execution_count": 14,
   "id": "a7082195-0cf8-4e1c-9b16-cd4fae0194f6",
   "metadata": {},
   "outputs": [
    {
     "data": {
      "text/html": [
       "<html>\\(\\displaystyle \\newcommand{\\Bold}[1]{\\mathbf{#1}}\\left(\\Bold{Q}[x, e, e_{x}], \\left(\\frac{d}{dx} + e_x \\frac{d}{de_{x}}, \\sigma\\left(x \\mapsto x + 1, e \\mapsto e, e_{x} \\mapsto e e_{x}\\right)\\right)\\right) \\{ u, v \\}\\)</html>"
      ],
      "text/latex": [
       "$\\displaystyle \\newcommand{\\Bold}[1]{\\mathbf{#1}}\\left(\\Bold{Q}[x, e, e_{x}], \\left(\\frac{d}{dx} + e_x \\frac{d}{de_{x}}, \\sigma\\left(x \\mapsto x + 1, e \\mapsto e, e_{x} \\mapsto e e_{x}\\right)\\right)\\right) \\{ u, v \\}$"
      ],
      "text/plain": [
       "Ring of operator polynomials in (u, v) over Ring [[Multivariate Polynomial Ring in x, e, e_x over Rational Field], (d/dx + e_x*d/de_x, Hom({x: x + 1, e: e, e_x: e*e_x}))]"
      ]
     },
     "execution_count": 14,
     "metadata": {},
     "output_type": "execute_result"
    }
   ],
   "source": [
    "SDQ_ex_uv.<u,v> = DPolynomialRing(SDQ_ex); x, e, e_x = SDQ_ex.gens()\n",
    "SDQ_ex_uv"
   ]
  },
  {
   "cell_type": "code",
   "execution_count": 15,
   "id": "edadd05e-897b-4e1e-841e-d7c37814ed00",
   "metadata": {},
   "outputs": [
    {
     "data": {
      "text/html": [
       "<html>\\(\\displaystyle 1 u_{(0, 0)}\\)</html>"
      ],
      "text/latex": [
       "$\\displaystyle 1 u_{(0, 0)}$"
      ],
      "text/plain": [
       "u_0_0"
      ]
     },
     "execution_count": 15,
     "metadata": {},
     "output_type": "execute_result"
    }
   ],
   "source": [
    "# Now we have 2 indices: one for each operator\n",
    "u[0,0]"
   ]
  },
  {
   "cell_type": "code",
   "execution_count": 16,
   "id": "5237d013-8760-4114-a4b9-2d269953373a",
   "metadata": {},
   "outputs": [
    {
     "data": {
      "text/html": [
       "<html>\\(\\displaystyle \\left(1 u_{(1, 0)}, 1 u_{(0, 1)}\\right)\\)</html>"
      ],
      "text/latex": [
       "$\\displaystyle \\left(1 u_{(1, 0)}, 1 u_{(0, 1)}\\right)$"
      ],
      "text/plain": [
       "(u_1_0, u_0_1)"
      ]
     },
     "execution_count": 16,
     "metadata": {},
     "output_type": "execute_result"
    }
   ],
   "source": [
    "# Applying each operation in any order just increase the indices accordingly\n",
    "u[0,0].derivative(), u[0,0].shift()"
   ]
  },
  {
   "cell_type": "code",
   "execution_count": 17,
   "id": "3ff59fab-0e65-44dc-ac27-98f49198d0de",
   "metadata": {},
   "outputs": [
    {
     "data": {
      "text/html": [
       "<html>\\(\\displaystyle 1 u_{(7, 5)}\\)</html>"
      ],
      "text/latex": [
       "$\\displaystyle 1 u_{(7, 5)}$"
      ],
      "text/plain": [
       "u_7_5"
      ]
     },
     "execution_count": 17,
     "metadata": {},
     "output_type": "execute_result"
    }
   ],
   "source": [
    "u[0,0].derivative(times=5).shift(times=5).derivative(times=2)"
   ]
  },
  {
   "cell_type": "code",
   "execution_count": 18,
   "id": "acd16537-e37f-4ed5-88a9-c66ec5d7f8b6",
   "metadata": {},
   "outputs": [
    {
     "data": {
      "text/html": [
       "<html>\\(\\displaystyle \\verb|element:| e_{x} u_{(0, 0)} + \\left(x e\\right) v_{(0, 0)}\\)</html>"
      ],
      "text/latex": [
       "$\\displaystyle \\verb|element:| e_{x} u_{(0, 0)} + \\left(x e\\right) v_{(0, 0)}$"
      ],
      "text/plain": [
       "'element: ' e_x*u_0_0 + x*e*v_0_0"
      ]
     },
     "metadata": {},
     "output_type": "display_data"
    },
    {
     "data": {
      "text/html": [
       "<html>\\(\\displaystyle \\verb|derivative:| e_{x} u_{(1, 0)} + e_{x} u_{(0, 0)} + \\left(x e\\right) v_{(1, 0)} + e v_{(0, 0)}\\)</html>"
      ],
      "text/latex": [
       "$\\displaystyle \\verb|derivative:| e_{x} u_{(1, 0)} + e_{x} u_{(0, 0)} + \\left(x e\\right) v_{(1, 0)} + e v_{(0, 0)}$"
      ],
      "text/plain": [
       "'derivative: ' e_x*u_1_0 + e_x*u_0_0 + x*e*v_1_0 + e*v_0_0"
      ]
     },
     "metadata": {},
     "output_type": "display_data"
    },
    {
     "data": {
      "text/html": [
       "<html>\\(\\displaystyle \\verb|shift:| \\left(e e_{x}\\right) u_{(0, 1)} + \\left(x e + e\\right) v_{(0, 1)}\\)</html>"
      ],
      "text/latex": [
       "$\\displaystyle \\verb|shift:| \\left(e e_{x}\\right) u_{(0, 1)} + \\left(x e + e\\right) v_{(0, 1)}$"
      ],
      "text/plain": [
       "'shift: ' e*e_x*u_0_1 + (x*e + e)*v_0_1"
      ]
     },
     "metadata": {},
     "output_type": "display_data"
    },
    {
     "data": {
      "text/html": [
       "<html>\\(\\displaystyle \\verb|der-shift:| \\left(e e_{x}\\right) u_{(1, 1)} + \\left(e e_{x}\\right) u_{(0, 1)} + \\left(x e + e\\right) v_{(1, 1)} + e v_{(0, 1)}\\)</html>"
      ],
      "text/latex": [
       "$\\displaystyle \\verb|der-shift:| \\left(e e_{x}\\right) u_{(1, 1)} + \\left(e e_{x}\\right) u_{(0, 1)} + \\left(x e + e\\right) v_{(1, 1)} + e v_{(0, 1)}$"
      ],
      "text/plain": [
       "'der-shift: ' e*e_x*u_1_1 + e*e_x*u_0_1 + (x*e + e)*v_1_1 + e*v_0_1"
      ]
     },
     "metadata": {},
     "output_type": "display_data"
    }
   ],
   "source": [
    "## Now, all properties are inherited\n",
    "element = u*e_x + v*e*x\n",
    "show(\"element: \", element)\n",
    "show(\"derivative: \", element.derivative())\n",
    "show(\"shift: \", element.shift())\n",
    "show(\"der-shift: \", element.derivative().shift())"
   ]
  },
  {
   "cell_type": "markdown",
   "id": "80764b65-e7f1-4cd8-9396-58adf5a9efe0",
   "metadata": {
    "tags": []
   },
   "source": [
    "## **2. Systems of difference/differential polynomials.**"
   ]
  },
  {
   "cell_type": "markdown",
   "id": "4214cfd7-5bf1-4a71-9695-46c969a9b842",
   "metadata": {
    "tags": []
   },
   "source": [
    "### 2.1 Creation of the systems: determining important variables"
   ]
  },
  {
   "cell_type": "code",
   "execution_count": 10,
   "id": "2faec74f-1399-4585-a71b-7cf482bfabd8",
   "metadata": {},
   "outputs": [
    {
     "data": {
      "text/html": [
       "<html>\\(\\displaystyle \\left[-t_{0}^{2} + 1 t_{1} - 1, -y_{2} y_{0} + 1 y_{1}^{2} + 1 y_{1} y_{0}, -t_{0} - y_{0} + 1 z_{0}\\right]\\)</html>"
      ],
      "text/latex": [
       "$\\displaystyle \\left[-t_{0}^{2} + 1 t_{1} - 1, -y_{2} y_{0} + 1 y_{1}^{2} + 1 y_{1} y_{0}, -t_{0} - y_{0} + 1 z_{0}\\right]$"
      ],
      "text/plain": [
       "[-t_0^2 + t_1 - 1, -y_2*y_0 + y_1^2 + y_1*y_0, -t_0 - y_0 + z_0]"
      ]
     },
     "execution_count": 10,
     "metadata": {},
     "output_type": "execute_result"
    }
   ],
   "source": [
    "# Creating ring of differential polynomials\n",
    "R.<t,y,z> = DifferentialPolynomialRing(QQ) \n",
    "equations = [\n",
    "    t[1] - t^2 - 1, # t(x) = tan(x)\n",
    "    -y[2]*y[0] + y[1]^2 + y[1]*y[0], # y(x) = e^(e^x -1)\n",
    "    z[0] - t[0] - y[0]\n",
    "]\n",
    "equations"
   ]
  },
  {
   "cell_type": "code",
   "execution_count": 12,
   "id": "498b5b06-0d45-45e3-bdaa-a9438ef25bf8",
   "metadata": {},
   "outputs": [
    {
     "data": {
      "text/html": [
       "<html>\\(\\displaystyle \\newcommand{\\Bold}[1]{\\mathbf{#1}}\\text{System over } \\left(\\Bold{Q}, 0\\right) \\{ t, y, z \\} \\text{ with variables } t_{\\ast}, y_{\\ast} :\n",
       "\n",
       " \\left\\{\\begin{array}{ll} -t_{0}^{2} + 1 t_{1} - 1 & = 0 \\\\\n",
       "-y_{2} y_{0} + 1 y_{1}^{2} + 1 y_{1} y_{0} & = 0 \\\\\n",
       "-t_{0} - y_{0} + 1 z_{0} & = 0 \\\\ \n",
       "\\end{array}\\right.\\)</html>"
      ],
      "text/latex": [
       "$\\displaystyle \\newcommand{\\Bold}[1]{\\mathbf{#1}}\\text{System over } \\left(\\Bold{Q}, 0\\right) \\{ t, y, z \\} \\text{ with variables } t_{\\ast}, y_{\\ast} :\n",
       "\n",
       " \\left\\{\\begin{array}{ll} -t_{0}^{2} + 1 t_{1} - 1 & = 0 \\\\\n",
       "-y_{2} y_{0} + 1 y_{1}^{2} + 1 y_{1} y_{0} & = 0 \\\\\n",
       "-t_{0} - y_{0} + 1 z_{0} & = 0 \\\\ \n",
       "\\end{array}\\right.$"
      ],
      "text/plain": [
       "System over [Ring of operator polynomials in (t, y, z) over Differential Ring [[Rational Field], (0,)]] with variables [(t_*, y_*)]:\n",
       "{\n",
       "\t-t_0^2 + t_1 - 1 == 0\n",
       "\t-y_2*y_0 + y_1^2 + y_1*y_0 == 0\n",
       "\t-t_0 - y_0 + z_0 == 0\n",
       "}"
      ]
     },
     "execution_count": 12,
     "metadata": {},
     "output_type": "execute_result"
    }
   ],
   "source": [
    "system = DSystem(equations, variables=[t,y]); system"
   ]
  },
  {
   "cell_type": "markdown",
   "id": "53a75521-55be-4b29-8792-9990eb767c1c",
   "metadata": {
    "jp-MarkdownHeadingCollapsed": true,
    "tags": []
   },
   "source": [
    "### 2.1 Eliminating variables: Difference resultants and Differential resultants"
   ]
  },
  {
   "cell_type": "code",
   "execution_count": 14,
   "id": "9ba9de0d-3183-4f27-b595-4f2c34e04afe",
   "metadata": {},
   "outputs": [
    {
     "name": "stderr",
     "output_type": "stream",
     "text": [
      "2023-07-17 22:00:05 INFO     We could not decide a better algorithm: using iterative elimination\n",
      "2023-07-17 22:00:05 INFO     Checking if there is any linear variable...\n",
      "2023-07-17 22:00:05 INFO     No linear variable remain in the system. We proceed by univariate eliminations\n",
      "2023-07-17 22:00:05 INFO     Several eliminations are needed --> we use recursion\n",
      "2023-07-17 22:00:05 INFO     Picking the best variable to start with...\n",
      "2023-07-17 22:00:05 INFO     Picked differential variable t_*\n",
      "2023-07-17 22:00:05 INFO     Picked the pivot [-t_0 - y_0 + z_0...] for differential elimination\n",
      "2023-07-17 22:00:05 INFO     Computing the elimination for all pair of equations...\n",
      "2023-07-17 22:00:05 INFO     We could not decide a better algorithm: using iterative elimination\n",
      "2023-07-17 22:00:05 INFO     Checking if there is any linear variable...\n",
      "2023-07-17 22:00:05 INFO     No linear variable remain in the system. We proceed by univariate eliminations\n",
      "2023-07-17 22:00:05 INFO     Only one variable remains. We proceed to eliminate it in an algebraic fashion\n",
      "2023-07-17 22:00:05 INFO     Extending the system to eliminate t_*...\n",
      "2023-07-17 22:00:05 INFO     Trying the extension (0, 0)\n",
      "2023-07-17 22:00:05 INFO     Trying the extension (1, 0)\n",
      "2023-07-17 22:00:05 INFO     Found the valid extension (1, 0)\n",
      "2023-07-17 22:00:05 INFO     Iterating to remove all the algebraic variables...\n",
      "2023-07-17 22:00:05 INFO     --------------------------------------------------\n",
      "2023-07-17 22:00:05 INFO     \tRemaining variables: [t_0, t_1]\n",
      "2023-07-17 22:00:05 INFO     \tPicking best algebraic variable to eliminate...\n",
      "2023-07-17 22:00:05 INFO     \tNumber of appearance for each variable: [2, 2]. Number of equations: 3\n",
      "2023-07-17 22:00:05 INFO     \tPicked t_1\n",
      "2023-07-17 22:00:05 INFO     \tPicking the best 'pivot' to eliminate t_1...\n",
      "2023-07-17 22:00:05 INFO     \t-t_0 + z_0 - y_0\n",
      "2023-07-17 22:00:05 INFO     \t-t_1 + z_1 - y_1\n",
      "2023-07-17 22:00:05 INFO     \t-t_0^2 + t_1 - 1\n",
      "2023-07-17 22:00:05 INFO     \t- Pivot --> -t_1 + z_1 - y_1... [with 2 monomials and coefficients 9 long]\n",
      "2023-07-17 22:00:05 INFO     \tEliminating the variable t_1 in each pair of equations...\n",
      "2023-07-17 22:00:05 INFO     \tEliminating with t_1 - t_0^2 - 1... [with 2 monomials and coefficients 10 long]\n",
      "2023-07-17 22:00:05 INFO     \tComputing Sylvester matrix...\n",
      "2023-07-17 22:00:06 INFO     \tComputing Sylvester determinant...\n",
      "2023-07-17 22:00:06 INFO     \tRemaining variables: [t_0]\n",
      "2023-07-17 22:00:06 INFO     \tPicking best algebraic variable to eliminate...\n",
      "2023-07-17 22:00:06 INFO     \tNumber of appearance for each variable: [2]. Number of equations: 2\n",
      "2023-07-17 22:00:06 INFO     \tPicked t_0\n",
      "2023-07-17 22:00:06 INFO     \tPicking the best 'pivot' to eliminate t_0...\n",
      "2023-07-17 22:00:06 INFO     \t-t_0 + z_0 - y_0\n",
      "2023-07-17 22:00:06 INFO     \tt_0^2 - z_1 + y_1 + 1\n",
      "2023-07-17 22:00:06 INFO     \t- Pivot --> -t_0 + z_0 - y_0... [with 2 monomials and coefficients 9 long]\n",
      "2023-07-17 22:00:06 INFO     \tEliminating the variable t_0 in each pair of equations...\n",
      "2023-07-17 22:00:06 INFO     \tEliminating with t_0^2 - z_1 + y_1 + 1... [with 2 monomials and coefficients 14 long]\n",
      "2023-07-17 22:00:06 INFO     \tComputing Sylvester matrix...\n",
      "2023-07-17 22:00:06 INFO     \tStoring Sylvester matrix...\n",
      "2023-07-17 22:00:06 INFO     \tComputing Sylvester determinant...\n",
      "2023-07-17 22:00:06 INFO     --------------------------------------------------\n",
      "2023-07-17 22:00:06 INFO     Elimination procedure finished. Checking that we have a result...\n",
      "2023-07-17 22:00:06 INFO     Return the smallest result obtained\n",
      "2023-07-17 22:00:06 INFO     Adding equations without t_*...\n",
      "2023-07-17 22:00:06 INFO     Variable t_* eliminated. Proceeding with the remaining variables [y_*]...\n",
      "2023-07-17 22:00:06 INFO     We could not decide a better algorithm: using iterative elimination\n",
      "2023-07-17 22:00:06 INFO     Checking if there is any linear variable...\n",
      "2023-07-17 22:00:06 INFO     No linear variable remain in the system. We proceed by univariate eliminations\n",
      "2023-07-17 22:00:06 INFO     Only one variable remains. We proceed to eliminate it in an algebraic fashion\n",
      "2023-07-17 22:00:06 INFO     Extending the system to eliminate y_*...\n",
      "2023-07-17 22:00:06 INFO     Trying the extension (0, 0)\n",
      "2023-07-17 22:00:06 INFO     Trying the extension (1, 0)\n",
      "2023-07-17 22:00:06 INFO     Trying the extension (0, 1)\n",
      "2023-07-17 22:00:06 INFO     Trying the extension (2, 0)\n",
      "2023-07-17 22:00:06 INFO     Trying the extension (1, 1)\n",
      "2023-07-17 22:00:06 INFO     Trying the extension (0, 2)\n",
      "2023-07-17 22:00:06 INFO     Trying the extension (3, 0)\n",
      "2023-07-17 22:00:06 INFO     Trying the extension (2, 1)\n",
      "2023-07-17 22:00:06 INFO     Found the valid extension (2, 1)\n",
      "2023-07-17 22:00:06 INFO     Iterating to remove all the algebraic variables...\n",
      "2023-07-17 22:00:06 INFO     --------------------------------------------------\n",
      "2023-07-17 22:00:06 INFO     \tRemaining variables: [y_0, y_1, y_2, y_3]\n",
      "2023-07-17 22:00:06 INFO     \tPicking best algebraic variable to eliminate...\n",
      "2023-07-17 22:00:06 INFO     \tNumber of appearance for each variable: [5, 5, 4, 2]. Number of equations: 5\n",
      "2023-07-17 22:00:06 INFO     \tPicked y_3\n",
      "2023-07-17 22:00:06 INFO     \tPicking the best 'pivot' to eliminate y_3...\n",
      "2023-07-17 22:00:06 INFO     \ty_0^2 + ((-2)*z_0)*y_0 + y_1 + z_0^2 - z_1 + 1\n",
      "2023-07-17 22:00:06 INFO     \t2*y_0*y_1 + ((-2)*z_1)*y_0 + ((-2)*z_0)*y_1 + y_2 + 2*z_0*z_1 - z_2\n",
      "2023-07-17 22:00:06 INFO     \t2*y_1^2 + 2*y_0*y_2 + ((-2)*z_2)*y_0 + ((-4)*z_1)*y_1 + ((-2)*z_0)*y_2 + y_3 + 2*z_1^2 + 2*z_0*z_2 - z_3\n",
      "2023-07-17 22:00:06 INFO     \ty_0*y_1 + y_1^2 - y_0*y_2\n",
      "2023-07-17 22:00:06 INFO     \ty_1^2 + y_0*y_2 + y_1*y_2 - y_0*y_3\n",
      "2023-07-17 22:00:06 INFO     \t- Pivot --> y_3 + 2*y_1^2 + 2*y_0*y_2 + ((... [with 2 monomials and coefficients 98 long]\n",
      "2023-07-17 22:00:06 INFO     \tEliminating the variable y_3 in each pair of equations...\n",
      "2023-07-17 22:00:06 INFO     \tEliminating with -y_0*y_3 + y_1^2 + y_0*y_2 + y... [with 2 monomials and coefficients 25 long]\n",
      "2023-07-17 22:00:06 INFO     \tComputing Sylvester matrix...\n",
      "2023-07-17 22:00:06 INFO     \tComputing Sylvester determinant...\n",
      "2023-07-17 22:00:06 INFO     \tRemaining variables: [y_0, y_1, y_2]\n",
      "2023-07-17 22:00:06 INFO     \tPicking best algebraic variable to eliminate...\n",
      "2023-07-17 22:00:06 INFO     \tNumber of appearance for each variable: [4, 4, 3]. Number of equations: 4\n",
      "2023-07-17 22:00:06 INFO     \tPicked y_2\n",
      "2023-07-17 22:00:06 INFO     \tPicking the best 'pivot' to eliminate y_2...\n",
      "2023-07-17 22:00:06 INFO     \ty_0^2 + ((-2)*z_0)*y_0 + y_1 + z_0^2 - z_1 + 1\n",
      "2023-07-17 22:00:06 INFO     \t2*y_0*y_1 + ((-2)*z_1)*y_0 + ((-2)*z_0)*y_1 + y_2 + 2*z_0*z_1 - z_2\n",
      "2023-07-17 22:00:06 INFO     \ty_0*y_1 + y_1^2 - y_0*y_2\n",
      "2023-07-17 22:00:06 INFO     \t2*y_0*y_1^2 + 2*y_0^2*y_2 + ((-2)*z_2)*y_0^2 + ((-4)*z_1)*y_0*y_1 + y_1^2 + ((-2)*z_0 + 1)*y_0*y_2 + y_1*y_2 + (2*z_1^2 + 2*z_0*z_2 - z_3)*y_0\n",
      "2023-07-17 22:00:06 INFO     \t- Pivot --> y_2 + 2*y_0*y_1 + ((-2)*z_1)*y... [with 2 monomials and coefficients 61 long]\n",
      "2023-07-17 22:00:06 INFO     \tEliminating the variable y_2 in each pair of equations...\n",
      "2023-07-17 22:00:06 INFO     \tEliminating with -y_0*y_2 + y_0*y_1 + y_1^2... [with 2 monomials and coefficients 15 long]\n",
      "2023-07-17 22:00:06 INFO     \tComputing Sylvester matrix...\n",
      "2023-07-17 22:00:06 INFO     \tComputing Sylvester determinant...\n",
      "2023-07-17 22:00:06 INFO     \tEliminating with (2*y_0^2 + ((-2)*z_0 + 1)*y_0 ... [with 2 monomials and coefficients 93 long]\n",
      "2023-07-17 22:00:06 INFO     \tComputing Sylvester matrix...\n",
      "2023-07-17 22:00:06 INFO     \tComputing Sylvester determinant...\n",
      "2023-07-17 22:00:06 INFO     \tRemaining variables: [y_0, y_1]\n",
      "2023-07-17 22:00:06 INFO     \tPicking best algebraic variable to eliminate...\n",
      "2023-07-17 22:00:06 INFO     \tNumber of appearance for each variable: [3, 3]. Number of equations: 3\n",
      "2023-07-17 22:00:06 INFO     \tPicked y_1\n",
      "2023-07-17 22:00:06 INFO     \tPicking the best 'pivot' to eliminate y_1...\n",
      "2023-07-17 22:00:06 INFO     \ty_0^2 + ((-2)*z_0)*y_0 + y_1 + z_0^2 - z_1 + 1\n",
      "2023-07-17 22:00:06 INFO     \t2*y_0^2*y_1 + ((-2)*z_1)*y_0^2 + ((-2)*z_0 + 1)*y_0*y_1 + y_1^2 + (2*z_0*z_1 - z_2)*y_0\n",
      "2023-07-17 22:00:06 INFO     \t(-4)*y_0^3*y_1 + 4*z_1*y_0^3 + (8*z_0 - 2)*y_0^2*y_1 + ((-8)*z_0*z_1 + 2*z_1)*y_0^2 + ((-4)*z_0^2 + 2*z_0 + (-2)*z_1)*y_0*y_1 + (2*z_0 + 1)*y_1^2 + (4*z_0^2*z_1 + (-2)*z_0*z_1 + 2*z_1^2 + z_2 - z_3)*y_0 + ((-2)*z_0*z_1 + z_2)*y_1\n",
      "2023-07-17 22:00:06 INFO     \t- Pivot --> y_1 + y_0^2 + ((-2)*z_0)*y_0 +... [with 2 monomials and coefficients 40 long]\n",
      "2023-07-17 22:00:06 INFO     \tEliminating the variable y_1 in each pair of equations...\n",
      "2023-07-17 22:00:06 INFO     \tEliminating with y_1^2 + (2*y_0^2 + ((-2)*z_0 +... [with 3 monomials and coefficients 40 long]\n",
      "2023-07-17 22:00:06 INFO     \tComputing Sylvester matrix...\n",
      "2023-07-17 22:00:06 INFO     \tComputing Sylvester determinant...\n",
      "2023-07-17 22:00:06 INFO     \tEliminating with (2*z_0 + 1)*y_1^2 + ((-4)*y_0^... [with 3 monomials and coefficients 99 long]\n",
      "2023-07-17 22:00:06 INFO     \tComputing Sylvester matrix...\n",
      "2023-07-17 22:00:06 INFO     \tComputing Sylvester determinant...\n",
      "2023-07-17 22:00:06 INFO     \tRemaining variables: [y_0]\n",
      "2023-07-17 22:00:06 INFO     \tPicking best algebraic variable to eliminate...\n",
      "2023-07-17 22:00:06 INFO     \tNumber of appearance for each variable: [2]. Number of equations: 2\n",
      "2023-07-17 22:00:06 INFO     \tPicked y_0\n",
      "2023-07-17 22:00:06 INFO     \tPicking the best 'pivot' to eliminate y_0...\n",
      "2023-07-17 22:00:06 INFO     \t-y_0^4 + (2*z_0 - 1)*y_0^3 + (2*z_0 + (-2)*z_1)*y_0^2 + ((-2)*z_0^3 - z_0^2 + 4*z_0*z_1 + (-2)*z_0 + z_1 - z_2 - 1)*y_0 + z_0^4 + (-2)*z_0^2*z_1 + 2*z_0^2 + z_1^2 + (-2)*z_1 + 1\n",
      "2023-07-17 22:00:06 INFO     \t4*y_0^5 + ((-14)*z_0 + 3)*y_0^4 + (16*z_0^2 + (-10)*z_0 + 2*z_1 + 4)*y_0^3 + ((-4)*z_0^3 + 12*z_0^2 + (-6)*z_0*z_1 + (-4)*z_0 + (-2)*z_1 - z_2 + 4)*y_0^2 + ((-4)*z_0^4 + (-6)*z_0^3 + 6*z_0^2*z_1 + (-4)*z_0^2 + 4*z_0*z_1 + 2*z_0*z_2 + (-6)*z_0 + 2*z_1 + z_2 - z_3)*y_0 + 2*z_0^5 + z_0^4 + (-2)*z_0^3*z_1 + 4*z_0^3 + (-2)*z_0^2*z_1 - z_0^2*z_2 + 2*z_0^2 + (-2)*z_0*z_1 + z_1^2 + z_1*z_2 + 2*z_0 + (-2)*z_1 - z_2 + 1\n",
      "2023-07-17 22:00:06 INFO     \t- Pivot --> -y_0^4 + (2*z_0 - 1)*y_0^3 + (... [with 5 monomials and coefficients 57 long]\n",
      "2023-07-17 22:00:06 INFO     \tEliminating the variable y_0 in each pair of equations...\n",
      "2023-07-17 22:00:06 INFO     \tEliminating with 4*y_0^5 + ((-14)*z_0 + 3)*y_0^... [with 6 monomials and coefficients 143 long]\n",
      "2023-07-17 22:00:06 INFO     \tComputing Sylvester matrix...\n",
      "2023-07-17 22:00:06 INFO     \tStoring Sylvester matrix...\n",
      "2023-07-17 22:00:06 INFO     \tComputing Sylvester determinant...\n",
      "2023-07-17 22:01:00 INFO     --------------------------------------------------\n",
      "2023-07-17 22:01:00 INFO     Elimination procedure finished. Checking that we have a result...\n",
      "2023-07-17 22:01:00 INFO     Return the smallest result obtained\n"
     ]
    }
   ],
   "source": [
    "import logging\n",
    "logger.setLevel(logging.INFO)\n",
    "res = system.diff_resultant()"
   ]
  },
  {
   "cell_type": "code",
   "execution_count": 17,
   "id": "0638c516-fc63-45ff-88ae-9102f9656f76",
   "metadata": {},
   "outputs": [
    {
     "data": {
      "text/html": [
       "<html>\\(\\displaystyle 499\\)</html>"
      ],
      "text/latex": [
       "$\\displaystyle 499$"
      ],
      "text/plain": [
       "499"
      ]
     },
     "execution_count": 17,
     "metadata": {},
     "output_type": "execute_result"
    }
   ],
   "source": [
    "len(res.monomials())"
   ]
  },
  {
   "cell_type": "code",
   "execution_count": 21,
   "id": "d94f2bd5-c696-4bb4-af02-3d49e980f253",
   "metadata": {},
   "outputs": [
    {
     "data": {
      "text/html": [
       "<html>\\(\\displaystyle (z_{0}^{2} - z_{1} + 1) \\cdot (432 z_{1}^{8} z_{0}^{2} - 1728 z_{2} z_{1}^{6} z_{0}^{3} + 1728 z_{1}^{7} z_{0}^{3} + 2592 z_{2}^{2} z_{1}^{4} z_{0}^{4} - 5184 z_{2} z_{1}^{5} z_{0}^{4} + 2592 z_{1}^{6} z_{0}^{4} - 1728 z_{2}^{3} z_{1}^{2} z_{0}^{5} + 5184 z_{2}^{2} z_{1}^{3} z_{0}^{5} - 5184 z_{2} z_{1}^{4} z_{0}^{5} + 1728 z_{1}^{5} z_{0}^{5} + 432 z_{2}^{4} z_{0}^{6} - 1728 z_{2}^{3} z_{1} z_{0}^{6} + 2592 z_{2}^{2} z_{1}^{2} z_{0}^{6} - 1728 z_{2} z_{1}^{3} z_{0}^{6} + 432 z_{1}^{4} z_{0}^{6} - 784 z_{1}^{9} + 3264 z_{2} z_{1}^{7} z_{0} - 3168 z_{1}^{8} z_{0} - 4464 z_{2}^{2} z_{1}^{5} z_{0}^{2} - 624 z_{3} z_{1}^{6} z_{0}^{2} + 10272 z_{2} z_{1}^{6} z_{0}^{2} - 6624 z_{1}^{7} z_{0}^{2} + 2016 z_{2}^{3} z_{1}^{3} z_{0}^{3} + 1536 z_{3} z_{2} z_{1}^{4} z_{0}^{3} - 10224 z_{2}^{2} z_{1}^{4} z_{0}^{3} - 864 z_{3} z_{1}^{5} z_{0}^{3} + 15168 z_{2} z_{1}^{5} z_{0}^{3} - 8352 z_{1}^{6} z_{0}^{3} - 720 z_{3} z_{2}^{2} z_{1}^{2} z_{0}^{4} + 2592 z_{2}^{3} z_{1}^{2} z_{0}^{4} - 288 z_{3}^{2} z_{1}^{3} z_{0}^{4} + 1632 z_{3} z_{2} z_{1}^{3} z_{0}^{4} - 9360 z_{2}^{2} z_{1}^{3} z_{0}^{4} - 336 z_{3} z_{1}^{4} z_{0}^{4} + 12912 z_{2} z_{1}^{4} z_{0}^{4} - 6432 z_{1}^{5} z_{0}^{4} - 288 z_{3} z_{2}^{3} z_{0}^{5} + 432 z_{2}^{4} z_{0}^{5} + 384 z_{3}^{2} z_{2} z_{1} z_{0}^{5} - 576 z_{3} z_{2}^{2} z_{1} z_{0}^{5} + 864 z_{2}^{3} z_{1} z_{0}^{5} - 288 z_{3}^{2} z_{1}^{2} z_{0}^{5} + 672 z_{3} z_{2} z_{1}^{2} z_{0}^{5} - 5040 z_{2}^{2} z_{1}^{2} z_{0}^{5} + 6720 z_{2} z_{1}^{3} z_{0}^{5} - 2880 z_{1}^{4} z_{0}^{5} - 32 z_{3}^{3} z_{0}^{6} + 192 z_{3}^{2} z_{2} z_{0}^{6} - 288 z_{3} z_{2}^{2} z_{0}^{6} + 720 z_{2}^{3} z_{0}^{6} - 96 z_{3}^{2} z_{1} z_{0}^{6} + 192 z_{3} z_{2} z_{1} z_{0}^{6} - 1872 z_{2}^{2} z_{1} z_{0}^{6} + 1776 z_{2} z_{1}^{2} z_{0}^{6} - 592 z_{1}^{3} z_{0}^{6} - 1320 z_{2}^{2} z_{1}^{6} + 1120 z_{3} z_{1}^{7} - 432 z_{2} z_{1}^{7} + 3792 z_{1}^{8} + 3480 z_{2}^{3} z_{1}^{4} z_{0} - 2928 z_{3} z_{2} z_{1}^{5} z_{0} - 1368 z_{2}^{2} z_{1}^{5} z_{0} + 1568 z_{3} z_{1}^{6} z_{0} - 11104 z_{2} z_{1}^{6} z_{0} + 11392 z_{1}^{7} z_{0} - 2232 z_{2}^{4} z_{1}^{2} z_{0}^{2} + 1008 z_{3} z_{2}^{2} z_{1}^{3} z_{0}^{2} + 3792 z_{2}^{3} z_{1}^{3} z_{0}^{2} + 784 z_{3}^{2} z_{1}^{4} z_{0}^{2} - 3120 z_{3} z_{2} z_{1}^{4} z_{0}^{2} + 8172 z_{2}^{2} z_{1}^{4} z_{0}^{2} + 2312 z_{3} z_{1}^{5} z_{0}^{2} - 25632 z_{2} z_{1}^{5} z_{0}^{2} + 17256 z_{1}^{6} z_{0}^{2} - 72 z_{2}^{5} z_{0}^{3} + 1200 z_{3} z_{2}^{3} z_{1} z_{0}^{3} - 1656 z_{2}^{4} z_{1} z_{0}^{3} - 1104 z_{3}^{2} z_{2} z_{1}^{2} z_{0}^{3} + 864 z_{3} z_{2}^{2} z_{1}^{2} z_{0}^{3} - 1488 z_{2}^{3} z_{1}^{2} z_{0}^{3} + 752 z_{3}^{2} z_{1}^{3} z_{0}^{3} - 3808 z_{3} z_{2} z_{1}^{3} z_{0}^{3} + 18288 z_{2}^{2} z_{1}^{3} z_{0}^{3} + 1568 z_{3} z_{1}^{4} z_{0}^{3} - 28504 z_{2} z_{1}^{4} z_{0}^{3} + 14360 z_{1}^{5} z_{0}^{3} - 48 z_{3}^{2} z_{2}^{2} z_{0}^{4} + 96 z_{3} z_{2}^{3} z_{0}^{4} + 972 z_{2}^{4} z_{0}^{4} + 112 z_{3}^{3} z_{1} z_{0}^{4} - 480 z_{3}^{2} z_{2} z_{1} z_{0}^{4} + 648 z_{3} z_{2}^{2} z_{1} z_{0}^{4} - 5064 z_{2}^{3} z_{1} z_{0}^{4} + 712 z_{3}^{2} z_{1}^{2} z_{0}^{4} - 2112 z_{3} z_{2} z_{1}^{2} z_{0}^{4} + 13152 z_{2}^{2} z_{1}^{2} z_{0}^{4} + 624 z_{3} z_{1}^{3} z_{0}^{4} - 14176 z_{2} z_{1}^{3} z_{0}^{4} + 6364 z_{1}^{4} z_{0}^{4} - 16 z_{3}^{3} z_{0}^{5} - 64 z_{3}^{2} z_{2} z_{0}^{5} + 96 z_{3} z_{2}^{2} z_{0}^{5} - 240 z_{2}^{3} z_{0}^{5} + 192 z_{3}^{2} z_{1} z_{0}^{5} - 704 z_{3} z_{2} z_{1} z_{0}^{5} + 1824 z_{2}^{2} z_{1} z_{0}^{5} - 2752 z_{2} z_{1}^{2} z_{0}^{5} + 1664 z_{1}^{3} z_{0}^{5} + 100 z_{3}^{2} z_{0}^{6} - 200 z_{3} z_{2} z_{0}^{6} + 500 z_{2}^{2} z_{0}^{6} - 800 z_{2} z_{1} z_{0}^{6} + 400 z_{1}^{2} z_{0}^{6} - 732 z_{2}^{4} z_{1}^{3} + 1180 z_{3} z_{2}^{2} z_{1}^{4} - 36 z_{2}^{3} z_{1}^{4} - 456 z_{3}^{2} z_{1}^{5} - 144 z_{3} z_{2} z_{1}^{5} + 3708 z_{2}^{2} z_{1}^{5} - 3816 z_{3} z_{1}^{6} + 2912 z_{2} z_{1}^{6} - 8936 z_{1}^{7} + 960 z_{2}^{5} z_{1} z_{0} - 1584 z_{3} z_{2}^{3} z_{1}^{2} z_{0} - 468 z_{2}^{4} z_{1}^{2} z_{0} + 624 z_{3}^{2} z_{2} z_{1}^{3} z_{0} + 1040 z_{3} z_{2}^{2} z_{1}^{3} z_{0} - 5344 z_{2}^{3} z_{1}^{3} z_{0} - 376 z_{3}^{2} z_{1}^{4} z_{0} + 6720 z_{3} z_{2} z_{1}^{4} z_{0} - 2600 z_{2}^{2} z_{1}^{4} z_{0} - 3920 z_{3} z_{1}^{5} z_{0} + 22376 z_{2} z_{1}^{5} z_{0} - 18648 z_{1}^{6} z_{0} - 168 z_{3} z_{2}^{4} z_{0}^{2} + 156 z_{2}^{5} z_{0}^{2} + 308 z_{3}^{2} z_{2}^{2} z_{1} z_{0}^{2} - 312 z_{3} z_{2}^{3} z_{1} z_{0}^{2} + 504 z_{2}^{4} z_{1} z_{0}^{2} - 116 z_{3}^{3} z_{1}^{2} z_{0}^{2} + 24 z_{3}^{2} z_{2} z_{1}^{2} z_{0}^{2} - 152 z_{3} z_{2}^{2} z_{1}^{2} z_{0}^{2} - 660 z_{2}^{3} z_{1}^{2} z_{0}^{2} - 1928 z_{3}^{2} z_{1}^{3} z_{0}^{2} + 5856 z_{3} z_{2} z_{1}^{3} z_{0}^{2} - 14072 z_{2}^{2} z_{1}^{3} z_{0}^{2} - 3724 z_{3} z_{1}^{4} z_{0}^{2} + 30524 z_{2} z_{1}^{4} z_{0}^{2} - 19840 z_{1}^{5} z_{0}^{2} - 16 z_{3}^{3} z_{2} z_{0}^{3} + 76 z_{3}^{2} z_{2}^{2} z_{0}^{3} - 896 z_{3} z_{2}^{3} z_{0}^{3} + 1152 z_{2}^{4} z_{0}^{3} + 56 z_{3}^{3} z_{1} z_{0}^{3} + 976 z_{3}^{2} z_{2} z_{1} z_{0}^{3} - 872 z_{3} z_{2}^{2} z_{1} z_{0}^{3} + 712 z_{2}^{3} z_{1} z_{0}^{3} - 1136 z_{3}^{2} z_{1}^{2} z_{0}^{3} + 4088 z_{3} z_{2} z_{1}^{2} z_{0}^{3} - 13460 z_{2}^{2} z_{1}^{2} z_{0}^{3} - 672 z_{3} z_{1}^{3} z_{0}^{3} + 21808 z_{2} z_{1}^{3} z_{0}^{3} - 11816 z_{1}^{4} z_{0}^{3} - 92 z_{3}^{3} z_{0}^{4} + 492 z_{3}^{2} z_{2} z_{0}^{4} - 548 z_{3} z_{2}^{2} z_{0}^{4} + 1720 z_{2}^{3} z_{0}^{4} - 776 z_{3}^{2} z_{1} z_{0}^{4} + 1392 z_{3} z_{2} z_{1} z_{0}^{4} - 6612 z_{2}^{2} z_{1} z_{0}^{4} - 400 z_{3} z_{1}^{2} z_{0}^{4} + 8476 z_{2} z_{1}^{2} z_{0}^{4} - 3652 z_{1}^{3} z_{0}^{4} - 125 z_{2}^{6} + 280 z_{3} z_{2}^{4} z_{1} + 90 z_{2}^{5} z_{1} - 194 z_{3}^{2} z_{2}^{2} z_{1}^{2} - 240 z_{3} z_{2}^{3} z_{1}^{2} + 1074 z_{2}^{4} z_{1}^{2} + 40 z_{3}^{3} z_{1}^{3} + 132 z_{3}^{2} z_{2} z_{1}^{3} - 2656 z_{3} z_{2}^{2} z_{1}^{3} + 1280 z_{2}^{3} z_{1}^{3} + 1408 z_{3}^{2} z_{1}^{4} - 616 z_{3} z_{2} z_{1}^{4} - 4424 z_{2}^{2} z_{1}^{4} + 5988 z_{3} z_{1}^{5} - 7468 z_{2} z_{1}^{5} + 12396 z_{1}^{6} - 14 z_{3}^{2} z_{2}^{3} z_{0} + 56 z_{3} z_{2}^{4} z_{0} - 286 z_{2}^{5} z_{0} + 12 z_{3}^{3} z_{2} z_{1} z_{0} - 10 z_{3}^{2} z_{2}^{2} z_{1} z_{0} + 1688 z_{3} z_{2}^{3} z_{1} z_{0} - 1106 z_{2}^{4} z_{1} z_{0} - 40 z_{3}^{3} z_{1}^{2} z_{0} - 1120 z_{3}^{2} z_{2} z_{1}^{2} z_{0} - 692 z_{3} z_{2}^{2} z_{1}^{2} z_{0} + 3872 z_{2}^{3} z_{1}^{2} z_{0} + 1016 z_{3}^{2} z_{1}^{3} z_{0} - 6824 z_{3} z_{2} z_{1}^{3} z_{0} + 9236 z_{2}^{2} z_{1}^{3} z_{0} + 3152 z_{3} z_{1}^{4} z_{0} - 26264 z_{2} z_{1}^{4} z_{0} + 17824 z_{1}^{5} z_{0} + z_{3}^{4} z_{0}^{2} - 12 z_{3}^{3} z_{2} z_{0}^{2} - 123 z_{3}^{2} z_{2}^{2} z_{0}^{2} + 174 z_{3} z_{2}^{3} z_{0}^{2} + 620 z_{2}^{4} z_{0}^{2} + 198 z_{3}^{3} z_{1} z_{0}^{2} - 552 z_{3}^{2} z_{2} z_{1} z_{0}^{2} - 364 z_{3} z_{2}^{2} z_{1} z_{0}^{2} - 2714 z_{2}^{3} z_{1} z_{0}^{2} + 2166 z_{3}^{2} z_{1}^{2} z_{0}^{2} - 4392 z_{3} z_{2} z_{1}^{2} z_{0}^{2} + 14342 z_{2}^{2} z_{1}^{2} z_{0}^{2} + 2948 z_{3} z_{1}^{3} z_{0}^{2} - 23444 z_{2} z_{1}^{3} z_{0}^{2} + 12952 z_{1}^{4} z_{0}^{2} - 36 z_{3}^{3} z_{0}^{3} - 134 z_{3}^{2} z_{2} z_{0}^{3} + 196 z_{3} z_{2}^{2} z_{0}^{3} - 490 z_{2}^{3} z_{0}^{3} + 422 z_{3}^{2} z_{1} z_{0}^{3} - 1564 z_{3} z_{2} z_{1} z_{0}^{3} + 3974 z_{2}^{2} z_{1} z_{0}^{3} - 6072 z_{2} z_{1}^{2} z_{0}^{3} + 3704 z_{1}^{3} z_{0}^{3} + 325 z_{3}^{2} z_{0}^{4} - 650 z_{3} z_{2} z_{0}^{4} + 1625 z_{2}^{2} z_{0}^{4} - 2600 z_{2} z_{1} z_{0}^{4} + 1300 z_{1}^{2} z_{0}^{4} + z_{3}^{3} z_{2}^{2} - 11 z_{3}^{2} z_{2}^{3} - 183 z_{3} z_{2}^{4} + 77 z_{2}^{5} - z_{3}^{4} z_{1} + 12 z_{3}^{3} z_{2} z_{1} + 261 z_{3}^{2} z_{2}^{2} z_{1} + 120 z_{3} z_{2}^{3} z_{1} - 748 z_{2}^{4} z_{1} - 98 z_{3}^{3} z_{1}^{2} - 152 z_{3}^{2} z_{2} z_{1}^{2} + 2552 z_{3} z_{2}^{2} z_{1}^{2} - 1726 z_{2}^{3} z_{1}^{2} - 1910 z_{3}^{2} z_{1}^{3} + 2016 z_{3} z_{2} z_{1}^{3} + 738 z_{2}^{2} z_{1}^{3} - 5312 z_{3} z_{1}^{4} + 11380 z_{2} z_{1}^{4} - 11116 z_{1}^{5} - 16 z_{3}^{3} z_{2} z_{0} + 72 z_{3}^{2} z_{2}^{2} z_{0} - 612 z_{3} z_{2}^{3} z_{0} + 680 z_{2}^{4} z_{0} + 60 z_{3}^{3} z_{1} z_{0} + 586 z_{3}^{2} z_{2} z_{1} z_{0} - 180 z_{3} z_{2}^{2} z_{1} z_{0} - 378 z_{2}^{3} z_{1} z_{0} - 870 z_{3}^{2} z_{1}^{2} z_{0} + 3684 z_{3} z_{2} z_{1}^{2} z_{0} - 8202 z_{2}^{2} z_{1}^{2} z_{0} - 800 z_{3} z_{1}^{3} z_{0} + 15416 z_{2} z_{1}^{3} z_{0} - 9440 z_{1}^{4} z_{0} - 85 z_{3}^{3} z_{0}^{2} + 375 z_{3}^{2} z_{2} z_{0}^{2} - 135 z_{3} z_{2}^{2} z_{0}^{2} + 1125 z_{2}^{3} z_{0}^{2} - 1330 z_{3}^{2} z_{1} z_{0}^{2} + 2300 z_{3} z_{2} z_{1} z_{0}^{2} - 7490 z_{2}^{2} z_{1} z_{0}^{2} - 900 z_{3} z_{1}^{2} z_{0}^{2} + 11900 z_{2} z_{1}^{2} z_{0}^{2} - 5760 z_{1}^{3} z_{0}^{2} + z_{3}^{4} - 12 z_{3}^{3} z_{2} - 72 z_{3}^{2} z_{2}^{2} + 56 z_{3} z_{2}^{3} + 135 z_{2}^{4} + 83 z_{3}^{3} z_{1} - 55 z_{3}^{2} z_{2} z_{1} - 1149 z_{3} z_{2}^{2} z_{1} + 529 z_{2}^{3} z_{1} + 1483 z_{3}^{2} z_{1}^{2} - 2106 z_{3} z_{2} z_{1}^{2} + 3331 z_{2}^{2} z_{1}^{2} + 2520 z_{3} z_{1}^{3} - 10592 z_{2} z_{1}^{3} + 6848 z_{1}^{4} - 20 z_{3}^{3} z_{0} - 70 z_{3}^{2} z_{2} z_{0} + 100 z_{3} z_{2}^{2} z_{0} - 250 z_{2}^{3} z_{0} + 230 z_{3}^{2} z_{1} z_{0} - 860 z_{3} z_{2} z_{1} z_{0} + 2150 z_{2}^{2} z_{1} z_{0} - 3320 z_{2} z_{1}^{2} z_{0} + 2040 z_{1}^{3} z_{0} + 350 z_{3}^{2} z_{0}^{2} - 700 z_{3} z_{2} z_{0}^{2} + 1750 z_{2}^{2} z_{0}^{2} - 2800 z_{2} z_{1} z_{0}^{2} + 1400 z_{1}^{2} z_{0}^{2} - 25 z_{3}^{3} + 75 z_{3}^{2} z_{2} + 125 z_{3} z_{2}^{2} + 125 z_{2}^{3} - 650 z_{3}^{2} z_{1} + 1100 z_{3} z_{2} z_{1} - 2750 z_{2}^{2} z_{1} - 500 z_{3} z_{1}^{2} + 5200 z_{2} z_{1}^{2} - 2700 z_{1}^{3} + 125 z_{3}^{2} - 250 z_{3} z_{2} + 625 z_{2}^{2} - 1000 z_{2} z_{1} + 500 z_{1}^{2})\\)</html>"
      ],
      "text/latex": [
       "$\\displaystyle (z_{0}^{2} - z_{1} + 1) \\cdot (432 z_{1}^{8} z_{0}^{2} - 1728 z_{2} z_{1}^{6} z_{0}^{3} + 1728 z_{1}^{7} z_{0}^{3} + 2592 z_{2}^{2} z_{1}^{4} z_{0}^{4} - 5184 z_{2} z_{1}^{5} z_{0}^{4} + 2592 z_{1}^{6} z_{0}^{4} - 1728 z_{2}^{3} z_{1}^{2} z_{0}^{5} + 5184 z_{2}^{2} z_{1}^{3} z_{0}^{5} - 5184 z_{2} z_{1}^{4} z_{0}^{5} + 1728 z_{1}^{5} z_{0}^{5} + 432 z_{2}^{4} z_{0}^{6} - 1728 z_{2}^{3} z_{1} z_{0}^{6} + 2592 z_{2}^{2} z_{1}^{2} z_{0}^{6} - 1728 z_{2} z_{1}^{3} z_{0}^{6} + 432 z_{1}^{4} z_{0}^{6} - 784 z_{1}^{9} + 3264 z_{2} z_{1}^{7} z_{0} - 3168 z_{1}^{8} z_{0} - 4464 z_{2}^{2} z_{1}^{5} z_{0}^{2} - 624 z_{3} z_{1}^{6} z_{0}^{2} + 10272 z_{2} z_{1}^{6} z_{0}^{2} - 6624 z_{1}^{7} z_{0}^{2} + 2016 z_{2}^{3} z_{1}^{3} z_{0}^{3} + 1536 z_{3} z_{2} z_{1}^{4} z_{0}^{3} - 10224 z_{2}^{2} z_{1}^{4} z_{0}^{3} - 864 z_{3} z_{1}^{5} z_{0}^{3} + 15168 z_{2} z_{1}^{5} z_{0}^{3} - 8352 z_{1}^{6} z_{0}^{3} - 720 z_{3} z_{2}^{2} z_{1}^{2} z_{0}^{4} + 2592 z_{2}^{3} z_{1}^{2} z_{0}^{4} - 288 z_{3}^{2} z_{1}^{3} z_{0}^{4} + 1632 z_{3} z_{2} z_{1}^{3} z_{0}^{4} - 9360 z_{2}^{2} z_{1}^{3} z_{0}^{4} - 336 z_{3} z_{1}^{4} z_{0}^{4} + 12912 z_{2} z_{1}^{4} z_{0}^{4} - 6432 z_{1}^{5} z_{0}^{4} - 288 z_{3} z_{2}^{3} z_{0}^{5} + 432 z_{2}^{4} z_{0}^{5} + 384 z_{3}^{2} z_{2} z_{1} z_{0}^{5} - 576 z_{3} z_{2}^{2} z_{1} z_{0}^{5} + 864 z_{2}^{3} z_{1} z_{0}^{5} - 288 z_{3}^{2} z_{1}^{2} z_{0}^{5} + 672 z_{3} z_{2} z_{1}^{2} z_{0}^{5} - 5040 z_{2}^{2} z_{1}^{2} z_{0}^{5} + 6720 z_{2} z_{1}^{3} z_{0}^{5} - 2880 z_{1}^{4} z_{0}^{5} - 32 z_{3}^{3} z_{0}^{6} + 192 z_{3}^{2} z_{2} z_{0}^{6} - 288 z_{3} z_{2}^{2} z_{0}^{6} + 720 z_{2}^{3} z_{0}^{6} - 96 z_{3}^{2} z_{1} z_{0}^{6} + 192 z_{3} z_{2} z_{1} z_{0}^{6} - 1872 z_{2}^{2} z_{1} z_{0}^{6} + 1776 z_{2} z_{1}^{2} z_{0}^{6} - 592 z_{1}^{3} z_{0}^{6} - 1320 z_{2}^{2} z_{1}^{6} + 1120 z_{3} z_{1}^{7} - 432 z_{2} z_{1}^{7} + 3792 z_{1}^{8} + 3480 z_{2}^{3} z_{1}^{4} z_{0} - 2928 z_{3} z_{2} z_{1}^{5} z_{0} - 1368 z_{2}^{2} z_{1}^{5} z_{0} + 1568 z_{3} z_{1}^{6} z_{0} - 11104 z_{2} z_{1}^{6} z_{0} + 11392 z_{1}^{7} z_{0} - 2232 z_{2}^{4} z_{1}^{2} z_{0}^{2} + 1008 z_{3} z_{2}^{2} z_{1}^{3} z_{0}^{2} + 3792 z_{2}^{3} z_{1}^{3} z_{0}^{2} + 784 z_{3}^{2} z_{1}^{4} z_{0}^{2} - 3120 z_{3} z_{2} z_{1}^{4} z_{0}^{2} + 8172 z_{2}^{2} z_{1}^{4} z_{0}^{2} + 2312 z_{3} z_{1}^{5} z_{0}^{2} - 25632 z_{2} z_{1}^{5} z_{0}^{2} + 17256 z_{1}^{6} z_{0}^{2} - 72 z_{2}^{5} z_{0}^{3} + 1200 z_{3} z_{2}^{3} z_{1} z_{0}^{3} - 1656 z_{2}^{4} z_{1} z_{0}^{3} - 1104 z_{3}^{2} z_{2} z_{1}^{2} z_{0}^{3} + 864 z_{3} z_{2}^{2} z_{1}^{2} z_{0}^{3} - 1488 z_{2}^{3} z_{1}^{2} z_{0}^{3} + 752 z_{3}^{2} z_{1}^{3} z_{0}^{3} - 3808 z_{3} z_{2} z_{1}^{3} z_{0}^{3} + 18288 z_{2}^{2} z_{1}^{3} z_{0}^{3} + 1568 z_{3} z_{1}^{4} z_{0}^{3} - 28504 z_{2} z_{1}^{4} z_{0}^{3} + 14360 z_{1}^{5} z_{0}^{3} - 48 z_{3}^{2} z_{2}^{2} z_{0}^{4} + 96 z_{3} z_{2}^{3} z_{0}^{4} + 972 z_{2}^{4} z_{0}^{4} + 112 z_{3}^{3} z_{1} z_{0}^{4} - 480 z_{3}^{2} z_{2} z_{1} z_{0}^{4} + 648 z_{3} z_{2}^{2} z_{1} z_{0}^{4} - 5064 z_{2}^{3} z_{1} z_{0}^{4} + 712 z_{3}^{2} z_{1}^{2} z_{0}^{4} - 2112 z_{3} z_{2} z_{1}^{2} z_{0}^{4} + 13152 z_{2}^{2} z_{1}^{2} z_{0}^{4} + 624 z_{3} z_{1}^{3} z_{0}^{4} - 14176 z_{2} z_{1}^{3} z_{0}^{4} + 6364 z_{1}^{4} z_{0}^{4} - 16 z_{3}^{3} z_{0}^{5} - 64 z_{3}^{2} z_{2} z_{0}^{5} + 96 z_{3} z_{2}^{2} z_{0}^{5} - 240 z_{2}^{3} z_{0}^{5} + 192 z_{3}^{2} z_{1} z_{0}^{5} - 704 z_{3} z_{2} z_{1} z_{0}^{5} + 1824 z_{2}^{2} z_{1} z_{0}^{5} - 2752 z_{2} z_{1}^{2} z_{0}^{5} + 1664 z_{1}^{3} z_{0}^{5} + 100 z_{3}^{2} z_{0}^{6} - 200 z_{3} z_{2} z_{0}^{6} + 500 z_{2}^{2} z_{0}^{6} - 800 z_{2} z_{1} z_{0}^{6} + 400 z_{1}^{2} z_{0}^{6} - 732 z_{2}^{4} z_{1}^{3} + 1180 z_{3} z_{2}^{2} z_{1}^{4} - 36 z_{2}^{3} z_{1}^{4} - 456 z_{3}^{2} z_{1}^{5} - 144 z_{3} z_{2} z_{1}^{5} + 3708 z_{2}^{2} z_{1}^{5} - 3816 z_{3} z_{1}^{6} + 2912 z_{2} z_{1}^{6} - 8936 z_{1}^{7} + 960 z_{2}^{5} z_{1} z_{0} - 1584 z_{3} z_{2}^{3} z_{1}^{2} z_{0} - 468 z_{2}^{4} z_{1}^{2} z_{0} + 624 z_{3}^{2} z_{2} z_{1}^{3} z_{0} + 1040 z_{3} z_{2}^{2} z_{1}^{3} z_{0} - 5344 z_{2}^{3} z_{1}^{3} z_{0} - 376 z_{3}^{2} z_{1}^{4} z_{0} + 6720 z_{3} z_{2} z_{1}^{4} z_{0} - 2600 z_{2}^{2} z_{1}^{4} z_{0} - 3920 z_{3} z_{1}^{5} z_{0} + 22376 z_{2} z_{1}^{5} z_{0} - 18648 z_{1}^{6} z_{0} - 168 z_{3} z_{2}^{4} z_{0}^{2} + 156 z_{2}^{5} z_{0}^{2} + 308 z_{3}^{2} z_{2}^{2} z_{1} z_{0}^{2} - 312 z_{3} z_{2}^{3} z_{1} z_{0}^{2} + 504 z_{2}^{4} z_{1} z_{0}^{2} - 116 z_{3}^{3} z_{1}^{2} z_{0}^{2} + 24 z_{3}^{2} z_{2} z_{1}^{2} z_{0}^{2} - 152 z_{3} z_{2}^{2} z_{1}^{2} z_{0}^{2} - 660 z_{2}^{3} z_{1}^{2} z_{0}^{2} - 1928 z_{3}^{2} z_{1}^{3} z_{0}^{2} + 5856 z_{3} z_{2} z_{1}^{3} z_{0}^{2} - 14072 z_{2}^{2} z_{1}^{3} z_{0}^{2} - 3724 z_{3} z_{1}^{4} z_{0}^{2} + 30524 z_{2} z_{1}^{4} z_{0}^{2} - 19840 z_{1}^{5} z_{0}^{2} - 16 z_{3}^{3} z_{2} z_{0}^{3} + 76 z_{3}^{2} z_{2}^{2} z_{0}^{3} - 896 z_{3} z_{2}^{3} z_{0}^{3} + 1152 z_{2}^{4} z_{0}^{3} + 56 z_{3}^{3} z_{1} z_{0}^{3} + 976 z_{3}^{2} z_{2} z_{1} z_{0}^{3} - 872 z_{3} z_{2}^{2} z_{1} z_{0}^{3} + 712 z_{2}^{3} z_{1} z_{0}^{3} - 1136 z_{3}^{2} z_{1}^{2} z_{0}^{3} + 4088 z_{3} z_{2} z_{1}^{2} z_{0}^{3} - 13460 z_{2}^{2} z_{1}^{2} z_{0}^{3} - 672 z_{3} z_{1}^{3} z_{0}^{3} + 21808 z_{2} z_{1}^{3} z_{0}^{3} - 11816 z_{1}^{4} z_{0}^{3} - 92 z_{3}^{3} z_{0}^{4} + 492 z_{3}^{2} z_{2} z_{0}^{4} - 548 z_{3} z_{2}^{2} z_{0}^{4} + 1720 z_{2}^{3} z_{0}^{4} - 776 z_{3}^{2} z_{1} z_{0}^{4} + 1392 z_{3} z_{2} z_{1} z_{0}^{4} - 6612 z_{2}^{2} z_{1} z_{0}^{4} - 400 z_{3} z_{1}^{2} z_{0}^{4} + 8476 z_{2} z_{1}^{2} z_{0}^{4} - 3652 z_{1}^{3} z_{0}^{4} - 125 z_{2}^{6} + 280 z_{3} z_{2}^{4} z_{1} + 90 z_{2}^{5} z_{1} - 194 z_{3}^{2} z_{2}^{2} z_{1}^{2} - 240 z_{3} z_{2}^{3} z_{1}^{2} + 1074 z_{2}^{4} z_{1}^{2} + 40 z_{3}^{3} z_{1}^{3} + 132 z_{3}^{2} z_{2} z_{1}^{3} - 2656 z_{3} z_{2}^{2} z_{1}^{3} + 1280 z_{2}^{3} z_{1}^{3} + 1408 z_{3}^{2} z_{1}^{4} - 616 z_{3} z_{2} z_{1}^{4} - 4424 z_{2}^{2} z_{1}^{4} + 5988 z_{3} z_{1}^{5} - 7468 z_{2} z_{1}^{5} + 12396 z_{1}^{6} - 14 z_{3}^{2} z_{2}^{3} z_{0} + 56 z_{3} z_{2}^{4} z_{0} - 286 z_{2}^{5} z_{0} + 12 z_{3}^{3} z_{2} z_{1} z_{0} - 10 z_{3}^{2} z_{2}^{2} z_{1} z_{0} + 1688 z_{3} z_{2}^{3} z_{1} z_{0} - 1106 z_{2}^{4} z_{1} z_{0} - 40 z_{3}^{3} z_{1}^{2} z_{0} - 1120 z_{3}^{2} z_{2} z_{1}^{2} z_{0} - 692 z_{3} z_{2}^{2} z_{1}^{2} z_{0} + 3872 z_{2}^{3} z_{1}^{2} z_{0} + 1016 z_{3}^{2} z_{1}^{3} z_{0} - 6824 z_{3} z_{2} z_{1}^{3} z_{0} + 9236 z_{2}^{2} z_{1}^{3} z_{0} + 3152 z_{3} z_{1}^{4} z_{0} - 26264 z_{2} z_{1}^{4} z_{0} + 17824 z_{1}^{5} z_{0} + z_{3}^{4} z_{0}^{2} - 12 z_{3}^{3} z_{2} z_{0}^{2} - 123 z_{3}^{2} z_{2}^{2} z_{0}^{2} + 174 z_{3} z_{2}^{3} z_{0}^{2} + 620 z_{2}^{4} z_{0}^{2} + 198 z_{3}^{3} z_{1} z_{0}^{2} - 552 z_{3}^{2} z_{2} z_{1} z_{0}^{2} - 364 z_{3} z_{2}^{2} z_{1} z_{0}^{2} - 2714 z_{2}^{3} z_{1} z_{0}^{2} + 2166 z_{3}^{2} z_{1}^{2} z_{0}^{2} - 4392 z_{3} z_{2} z_{1}^{2} z_{0}^{2} + 14342 z_{2}^{2} z_{1}^{2} z_{0}^{2} + 2948 z_{3} z_{1}^{3} z_{0}^{2} - 23444 z_{2} z_{1}^{3} z_{0}^{2} + 12952 z_{1}^{4} z_{0}^{2} - 36 z_{3}^{3} z_{0}^{3} - 134 z_{3}^{2} z_{2} z_{0}^{3} + 196 z_{3} z_{2}^{2} z_{0}^{3} - 490 z_{2}^{3} z_{0}^{3} + 422 z_{3}^{2} z_{1} z_{0}^{3} - 1564 z_{3} z_{2} z_{1} z_{0}^{3} + 3974 z_{2}^{2} z_{1} z_{0}^{3} - 6072 z_{2} z_{1}^{2} z_{0}^{3} + 3704 z_{1}^{3} z_{0}^{3} + 325 z_{3}^{2} z_{0}^{4} - 650 z_{3} z_{2} z_{0}^{4} + 1625 z_{2}^{2} z_{0}^{4} - 2600 z_{2} z_{1} z_{0}^{4} + 1300 z_{1}^{2} z_{0}^{4} + z_{3}^{3} z_{2}^{2} - 11 z_{3}^{2} z_{2}^{3} - 183 z_{3} z_{2}^{4} + 77 z_{2}^{5} - z_{3}^{4} z_{1} + 12 z_{3}^{3} z_{2} z_{1} + 261 z_{3}^{2} z_{2}^{2} z_{1} + 120 z_{3} z_{2}^{3} z_{1} - 748 z_{2}^{4} z_{1} - 98 z_{3}^{3} z_{1}^{2} - 152 z_{3}^{2} z_{2} z_{1}^{2} + 2552 z_{3} z_{2}^{2} z_{1}^{2} - 1726 z_{2}^{3} z_{1}^{2} - 1910 z_{3}^{2} z_{1}^{3} + 2016 z_{3} z_{2} z_{1}^{3} + 738 z_{2}^{2} z_{1}^{3} - 5312 z_{3} z_{1}^{4} + 11380 z_{2} z_{1}^{4} - 11116 z_{1}^{5} - 16 z_{3}^{3} z_{2} z_{0} + 72 z_{3}^{2} z_{2}^{2} z_{0} - 612 z_{3} z_{2}^{3} z_{0} + 680 z_{2}^{4} z_{0} + 60 z_{3}^{3} z_{1} z_{0} + 586 z_{3}^{2} z_{2} z_{1} z_{0} - 180 z_{3} z_{2}^{2} z_{1} z_{0} - 378 z_{2}^{3} z_{1} z_{0} - 870 z_{3}^{2} z_{1}^{2} z_{0} + 3684 z_{3} z_{2} z_{1}^{2} z_{0} - 8202 z_{2}^{2} z_{1}^{2} z_{0} - 800 z_{3} z_{1}^{3} z_{0} + 15416 z_{2} z_{1}^{3} z_{0} - 9440 z_{1}^{4} z_{0} - 85 z_{3}^{3} z_{0}^{2} + 375 z_{3}^{2} z_{2} z_{0}^{2} - 135 z_{3} z_{2}^{2} z_{0}^{2} + 1125 z_{2}^{3} z_{0}^{2} - 1330 z_{3}^{2} z_{1} z_{0}^{2} + 2300 z_{3} z_{2} z_{1} z_{0}^{2} - 7490 z_{2}^{2} z_{1} z_{0}^{2} - 900 z_{3} z_{1}^{2} z_{0}^{2} + 11900 z_{2} z_{1}^{2} z_{0}^{2} - 5760 z_{1}^{3} z_{0}^{2} + z_{3}^{4} - 12 z_{3}^{3} z_{2} - 72 z_{3}^{2} z_{2}^{2} + 56 z_{3} z_{2}^{3} + 135 z_{2}^{4} + 83 z_{3}^{3} z_{1} - 55 z_{3}^{2} z_{2} z_{1} - 1149 z_{3} z_{2}^{2} z_{1} + 529 z_{2}^{3} z_{1} + 1483 z_{3}^{2} z_{1}^{2} - 2106 z_{3} z_{2} z_{1}^{2} + 3331 z_{2}^{2} z_{1}^{2} + 2520 z_{3} z_{1}^{3} - 10592 z_{2} z_{1}^{3} + 6848 z_{1}^{4} - 20 z_{3}^{3} z_{0} - 70 z_{3}^{2} z_{2} z_{0} + 100 z_{3} z_{2}^{2} z_{0} - 250 z_{2}^{3} z_{0} + 230 z_{3}^{2} z_{1} z_{0} - 860 z_{3} z_{2} z_{1} z_{0} + 2150 z_{2}^{2} z_{1} z_{0} - 3320 z_{2} z_{1}^{2} z_{0} + 2040 z_{1}^{3} z_{0} + 350 z_{3}^{2} z_{0}^{2} - 700 z_{3} z_{2} z_{0}^{2} + 1750 z_{2}^{2} z_{0}^{2} - 2800 z_{2} z_{1} z_{0}^{2} + 1400 z_{1}^{2} z_{0}^{2} - 25 z_{3}^{3} + 75 z_{3}^{2} z_{2} + 125 z_{3} z_{2}^{2} + 125 z_{2}^{3} - 650 z_{3}^{2} z_{1} + 1100 z_{3} z_{2} z_{1} - 2750 z_{2}^{2} z_{1} - 500 z_{3} z_{1}^{2} + 5200 z_{2} z_{1}^{2} - 2700 z_{1}^{3} + 125 z_{3}^{2} - 250 z_{3} z_{2} + 625 z_{2}^{2} - 1000 z_{2} z_{1} + 500 z_{1}^{2})$"
      ],
      "text/plain": [
       "(z_0^2 - z_1 + 1) * (432*z_1^8*z_0^2 - 1728*z_2*z_1^6*z_0^3 + 1728*z_1^7*z_0^3 + 2592*z_2^2*z_1^4*z_0^4 - 5184*z_2*z_1^5*z_0^4 + 2592*z_1^6*z_0^4 - 1728*z_2^3*z_1^2*z_0^5 + 5184*z_2^2*z_1^3*z_0^5 - 5184*z_2*z_1^4*z_0^5 + 1728*z_1^5*z_0^5 + 432*z_2^4*z_0^6 - 1728*z_2^3*z_1*z_0^6 + 2592*z_2^2*z_1^2*z_0^6 - 1728*z_2*z_1^3*z_0^6 + 432*z_1^4*z_0^6 - 784*z_1^9 + 3264*z_2*z_1^7*z_0 - 3168*z_1^8*z_0 - 4464*z_2^2*z_1^5*z_0^2 - 624*z_3*z_1^6*z_0^2 + 10272*z_2*z_1^6*z_0^2 - 6624*z_1^7*z_0^2 + 2016*z_2^3*z_1^3*z_0^3 + 1536*z_3*z_2*z_1^4*z_0^3 - 10224*z_2^2*z_1^4*z_0^3 - 864*z_3*z_1^5*z_0^3 + 15168*z_2*z_1^5*z_0^3 - 8352*z_1^6*z_0^3 - 720*z_3*z_2^2*z_1^2*z_0^4 + 2592*z_2^3*z_1^2*z_0^4 - 288*z_3^2*z_1^3*z_0^4 + 1632*z_3*z_2*z_1^3*z_0^4 - 9360*z_2^2*z_1^3*z_0^4 - 336*z_3*z_1^4*z_0^4 + 12912*z_2*z_1^4*z_0^4 - 6432*z_1^5*z_0^4 - 288*z_3*z_2^3*z_0^5 + 432*z_2^4*z_0^5 + 384*z_3^2*z_2*z_1*z_0^5 - 576*z_3*z_2^2*z_1*z_0^5 + 864*z_2^3*z_1*z_0^5 - 288*z_3^2*z_1^2*z_0^5 + 672*z_3*z_2*z_1^2*z_0^5 - 5040*z_2^2*z_1^2*z_0^5 + 6720*z_2*z_1^3*z_0^5 - 2880*z_1^4*z_0^5 - 32*z_3^3*z_0^6 + 192*z_3^2*z_2*z_0^6 - 288*z_3*z_2^2*z_0^6 + 720*z_2^3*z_0^6 - 96*z_3^2*z_1*z_0^6 + 192*z_3*z_2*z_1*z_0^6 - 1872*z_2^2*z_1*z_0^6 + 1776*z_2*z_1^2*z_0^6 - 592*z_1^3*z_0^6 - 1320*z_2^2*z_1^6 + 1120*z_3*z_1^7 - 432*z_2*z_1^7 + 3792*z_1^8 + 3480*z_2^3*z_1^4*z_0 - 2928*z_3*z_2*z_1^5*z_0 - 1368*z_2^2*z_1^5*z_0 + 1568*z_3*z_1^6*z_0 - 11104*z_2*z_1^6*z_0 + 11392*z_1^7*z_0 - 2232*z_2^4*z_1^2*z_0^2 + 1008*z_3*z_2^2*z_1^3*z_0^2 + 3792*z_2^3*z_1^3*z_0^2 + 784*z_3^2*z_1^4*z_0^2 - 3120*z_3*z_2*z_1^4*z_0^2 + 8172*z_2^2*z_1^4*z_0^2 + 2312*z_3*z_1^5*z_0^2 - 25632*z_2*z_1^5*z_0^2 + 17256*z_1^6*z_0^2 - 72*z_2^5*z_0^3 + 1200*z_3*z_2^3*z_1*z_0^3 - 1656*z_2^4*z_1*z_0^3 - 1104*z_3^2*z_2*z_1^2*z_0^3 + 864*z_3*z_2^2*z_1^2*z_0^3 - 1488*z_2^3*z_1^2*z_0^3 + 752*z_3^2*z_1^3*z_0^3 - 3808*z_3*z_2*z_1^3*z_0^3 + 18288*z_2^2*z_1^3*z_0^3 + 1568*z_3*z_1^4*z_0^3 - 28504*z_2*z_1^4*z_0^3 + 14360*z_1^5*z_0^3 - 48*z_3^2*z_2^2*z_0^4 + 96*z_3*z_2^3*z_0^4 + 972*z_2^4*z_0^4 + 112*z_3^3*z_1*z_0^4 - 480*z_3^2*z_2*z_1*z_0^4 + 648*z_3*z_2^2*z_1*z_0^4 - 5064*z_2^3*z_1*z_0^4 + 712*z_3^2*z_1^2*z_0^4 - 2112*z_3*z_2*z_1^2*z_0^4 + 13152*z_2^2*z_1^2*z_0^4 + 624*z_3*z_1^3*z_0^4 - 14176*z_2*z_1^3*z_0^4 + 6364*z_1^4*z_0^4 - 16*z_3^3*z_0^5 - 64*z_3^2*z_2*z_0^5 + 96*z_3*z_2^2*z_0^5 - 240*z_2^3*z_0^5 + 192*z_3^2*z_1*z_0^5 - 704*z_3*z_2*z_1*z_0^5 + 1824*z_2^2*z_1*z_0^5 - 2752*z_2*z_1^2*z_0^5 + 1664*z_1^3*z_0^5 + 100*z_3^2*z_0^6 - 200*z_3*z_2*z_0^6 + 500*z_2^2*z_0^6 - 800*z_2*z_1*z_0^6 + 400*z_1^2*z_0^6 - 732*z_2^4*z_1^3 + 1180*z_3*z_2^2*z_1^4 - 36*z_2^3*z_1^4 - 456*z_3^2*z_1^5 - 144*z_3*z_2*z_1^5 + 3708*z_2^2*z_1^5 - 3816*z_3*z_1^6 + 2912*z_2*z_1^6 - 8936*z_1^7 + 960*z_2^5*z_1*z_0 - 1584*z_3*z_2^3*z_1^2*z_0 - 468*z_2^4*z_1^2*z_0 + 624*z_3^2*z_2*z_1^3*z_0 + 1040*z_3*z_2^2*z_1^3*z_0 - 5344*z_2^3*z_1^3*z_0 - 376*z_3^2*z_1^4*z_0 + 6720*z_3*z_2*z_1^4*z_0 - 2600*z_2^2*z_1^4*z_0 - 3920*z_3*z_1^5*z_0 + 22376*z_2*z_1^5*z_0 - 18648*z_1^6*z_0 - 168*z_3*z_2^4*z_0^2 + 156*z_2^5*z_0^2 + 308*z_3^2*z_2^2*z_1*z_0^2 - 312*z_3*z_2^3*z_1*z_0^2 + 504*z_2^4*z_1*z_0^2 - 116*z_3^3*z_1^2*z_0^2 + 24*z_3^2*z_2*z_1^2*z_0^2 - 152*z_3*z_2^2*z_1^2*z_0^2 - 660*z_2^3*z_1^2*z_0^2 - 1928*z_3^2*z_1^3*z_0^2 + 5856*z_3*z_2*z_1^3*z_0^2 - 14072*z_2^2*z_1^3*z_0^2 - 3724*z_3*z_1^4*z_0^2 + 30524*z_2*z_1^4*z_0^2 - 19840*z_1^5*z_0^2 - 16*z_3^3*z_2*z_0^3 + 76*z_3^2*z_2^2*z_0^3 - 896*z_3*z_2^3*z_0^3 + 1152*z_2^4*z_0^3 + 56*z_3^3*z_1*z_0^3 + 976*z_3^2*z_2*z_1*z_0^3 - 872*z_3*z_2^2*z_1*z_0^3 + 712*z_2^3*z_1*z_0^3 - 1136*z_3^2*z_1^2*z_0^3 + 4088*z_3*z_2*z_1^2*z_0^3 - 13460*z_2^2*z_1^2*z_0^3 - 672*z_3*z_1^3*z_0^3 + 21808*z_2*z_1^3*z_0^3 - 11816*z_1^4*z_0^3 - 92*z_3^3*z_0^4 + 492*z_3^2*z_2*z_0^4 - 548*z_3*z_2^2*z_0^4 + 1720*z_2^3*z_0^4 - 776*z_3^2*z_1*z_0^4 + 1392*z_3*z_2*z_1*z_0^4 - 6612*z_2^2*z_1*z_0^4 - 400*z_3*z_1^2*z_0^4 + 8476*z_2*z_1^2*z_0^4 - 3652*z_1^3*z_0^4 - 125*z_2^6 + 280*z_3*z_2^4*z_1 + 90*z_2^5*z_1 - 194*z_3^2*z_2^2*z_1^2 - 240*z_3*z_2^3*z_1^2 + 1074*z_2^4*z_1^2 + 40*z_3^3*z_1^3 + 132*z_3^2*z_2*z_1^3 - 2656*z_3*z_2^2*z_1^3 + 1280*z_2^3*z_1^3 + 1408*z_3^2*z_1^4 - 616*z_3*z_2*z_1^4 - 4424*z_2^2*z_1^4 + 5988*z_3*z_1^5 - 7468*z_2*z_1^5 + 12396*z_1^6 - 14*z_3^2*z_2^3*z_0 + 56*z_3*z_2^4*z_0 - 286*z_2^5*z_0 + 12*z_3^3*z_2*z_1*z_0 - 10*z_3^2*z_2^2*z_1*z_0 + 1688*z_3*z_2^3*z_1*z_0 - 1106*z_2^4*z_1*z_0 - 40*z_3^3*z_1^2*z_0 - 1120*z_3^2*z_2*z_1^2*z_0 - 692*z_3*z_2^2*z_1^2*z_0 + 3872*z_2^3*z_1^2*z_0 + 1016*z_3^2*z_1^3*z_0 - 6824*z_3*z_2*z_1^3*z_0 + 9236*z_2^2*z_1^3*z_0 + 3152*z_3*z_1^4*z_0 - 26264*z_2*z_1^4*z_0 + 17824*z_1^5*z_0 + z_3^4*z_0^2 - 12*z_3^3*z_2*z_0^2 - 123*z_3^2*z_2^2*z_0^2 + 174*z_3*z_2^3*z_0^2 + 620*z_2^4*z_0^2 + 198*z_3^3*z_1*z_0^2 - 552*z_3^2*z_2*z_1*z_0^2 - 364*z_3*z_2^2*z_1*z_0^2 - 2714*z_2^3*z_1*z_0^2 + 2166*z_3^2*z_1^2*z_0^2 - 4392*z_3*z_2*z_1^2*z_0^2 + 14342*z_2^2*z_1^2*z_0^2 + 2948*z_3*z_1^3*z_0^2 - 23444*z_2*z_1^3*z_0^2 + 12952*z_1^4*z_0^2 - 36*z_3^3*z_0^3 - 134*z_3^2*z_2*z_0^3 + 196*z_3*z_2^2*z_0^3 - 490*z_2^3*z_0^3 + 422*z_3^2*z_1*z_0^3 - 1564*z_3*z_2*z_1*z_0^3 + 3974*z_2^2*z_1*z_0^3 - 6072*z_2*z_1^2*z_0^3 + 3704*z_1^3*z_0^3 + 325*z_3^2*z_0^4 - 650*z_3*z_2*z_0^4 + 1625*z_2^2*z_0^4 - 2600*z_2*z_1*z_0^4 + 1300*z_1^2*z_0^4 + z_3^3*z_2^2 - 11*z_3^2*z_2^3 - 183*z_3*z_2^4 + 77*z_2^5 - z_3^4*z_1 + 12*z_3^3*z_2*z_1 + 261*z_3^2*z_2^2*z_1 + 120*z_3*z_2^3*z_1 - 748*z_2^4*z_1 - 98*z_3^3*z_1^2 - 152*z_3^2*z_2*z_1^2 + 2552*z_3*z_2^2*z_1^2 - 1726*z_2^3*z_1^2 - 1910*z_3^2*z_1^3 + 2016*z_3*z_2*z_1^3 + 738*z_2^2*z_1^3 - 5312*z_3*z_1^4 + 11380*z_2*z_1^4 - 11116*z_1^5 - 16*z_3^3*z_2*z_0 + 72*z_3^2*z_2^2*z_0 - 612*z_3*z_2^3*z_0 + 680*z_2^4*z_0 + 60*z_3^3*z_1*z_0 + 586*z_3^2*z_2*z_1*z_0 - 180*z_3*z_2^2*z_1*z_0 - 378*z_2^3*z_1*z_0 - 870*z_3^2*z_1^2*z_0 + 3684*z_3*z_2*z_1^2*z_0 - 8202*z_2^2*z_1^2*z_0 - 800*z_3*z_1^3*z_0 + 15416*z_2*z_1^3*z_0 - 9440*z_1^4*z_0 - 85*z_3^3*z_0^2 + 375*z_3^2*z_2*z_0^2 - 135*z_3*z_2^2*z_0^2 + 1125*z_2^3*z_0^2 - 1330*z_3^2*z_1*z_0^2 + 2300*z_3*z_2*z_1*z_0^2 - 7490*z_2^2*z_1*z_0^2 - 900*z_3*z_1^2*z_0^2 + 11900*z_2*z_1^2*z_0^2 - 5760*z_1^3*z_0^2 + z_3^4 - 12*z_3^3*z_2 - 72*z_3^2*z_2^2 + 56*z_3*z_2^3 + 135*z_2^4 + 83*z_3^3*z_1 - 55*z_3^2*z_2*z_1 - 1149*z_3*z_2^2*z_1 + 529*z_2^3*z_1 + 1483*z_3^2*z_1^2 - 2106*z_3*z_2*z_1^2 + 3331*z_2^2*z_1^2 + 2520*z_3*z_1^3 - 10592*z_2*z_1^3 + 6848*z_1^4 - 20*z_3^3*z_0 - 70*z_3^2*z_2*z_0 + 100*z_3*z_2^2*z_0 - 250*z_2^3*z_0 + 230*z_3^2*z_1*z_0 - 860*z_3*z_2*z_1*z_0 + 2150*z_2^2*z_1*z_0 - 3320*z_2*z_1^2*z_0 + 2040*z_1^3*z_0 + 350*z_3^2*z_0^2 - 700*z_3*z_2*z_0^2 + 1750*z_2^2*z_0^2 - 2800*z_2*z_1*z_0^2 + 1400*z_1^2*z_0^2 - 25*z_3^3 + 75*z_3^2*z_2 + 125*z_3*z_2^2 + 125*z_2^3 - 650*z_3^2*z_1 + 1100*z_3*z_2*z_1 - 2750*z_2^2*z_1 - 500*z_3*z_1^2 + 5200*z_2*z_1^2 - 2700*z_1^3 + 125*z_3^2 - 250*z_3*z_2 + 625*z_2^2 - 1000*z_2*z_1 + 500*z_1^2)"
      ]
     },
     "execution_count": 21,
     "metadata": {},
     "output_type": "execute_result"
    }
   ],
   "source": [
    "QQ[res.variables()](res).factor()"
   ]
  },
  {
   "cell_type": "markdown",
   "id": "2ad0ca44-b6c7-458a-9556-94d35eb6cd22",
   "metadata": {
    "tags": []
   },
   "source": [
    "## **3. Applications**"
   ]
  },
  {
   "cell_type": "markdown",
   "id": "1ec1d068-2cbd-488c-97c4-1f458733fd5a",
   "metadata": {
    "tags": []
   },
   "source": [
    "### 3.1 Equations for commuting operators"
   ]
  },
  {
   "cell_type": "markdown",
   "id": "3b850787-ce68-4064-a7a8-b029e2abdc30",
   "metadata": {},
   "source": [
    "In [AAM-2020 120, 102065](https://www.sciencedirect.com/science/article/abs/pii/S0196885820300683) the authors study how to compute commuting operators for a linear differential operator $L = \\partial^2 + u$ for an arbitrary differential function $u$. More precisely, given an operator\n",
    "$$P_m = \\partial^m + p_{m,2}\\partial^{m-2} + \\ldots + p_{m,m-1}\\partial + p_{m,m},$$\n",
    "what are the values for $u$ and $p_{m,*}$ to obtain an operator $P_m$ that commute with $L$, i.e., $[L,P] = LP_m - P_mL = 0$."
   ]
  },
  {
   "cell_type": "markdown",
   "id": "072aaa72-3d49-4ae9-a7fd-ab43516f61c5",
   "metadata": {},
   "source": [
    "This is a problem we can solve using this software. As a demonstration, let us fix $m = 5$. We can then create the operators $L$ and $P$ generically:"
   ]
  },
  {
   "cell_type": "code",
   "execution_count": 27,
   "id": "d3a39e68-4bb9-4382-bf82-4380c3b720f2",
   "metadata": {},
   "outputs": [
    {
     "data": {
      "text/html": [
       "<html>\\(\\displaystyle \\verb|L:| 1 u_{0} z_{0} + 1 z_{2}\\)</html>"
      ],
      "text/latex": [
       "$\\displaystyle \\verb|L:| 1 u_{0} z_{0} + 1 z_{2}$"
      ],
      "text/plain": [
       "'L:' u_0*z_0 + z_2"
      ]
     },
     "metadata": {},
     "output_type": "display_data"
    },
    {
     "data": {
      "text/html": [
       "<html>\\(\\displaystyle \\verb|P:| 1 \\mathit{p2}_{0} z_{3} + 1 \\mathit{p3}_{0} z_{2} + 1 \\mathit{p4}_{0} z_{1} + 1 \\mathit{p5}_{0} z_{0} + 1 z_{5}\\)</html>"
      ],
      "text/latex": [
       "$\\displaystyle \\verb|P:| 1 \\mathit{p2}_{0} z_{3} + 1 \\mathit{p3}_{0} z_{2} + 1 \\mathit{p4}_{0} z_{1} + 1 \\mathit{p5}_{0} z_{0} + 1 z_{5}$"
      ],
      "text/plain": [
       "'P:' p2_0*z_3 + p3_0*z_2 + p4_0*z_1 + p5_0*z_0 + z_5"
      ]
     },
     "metadata": {},
     "output_type": "display_data"
    }
   ],
   "source": [
    "B = DifferentialRing(QQ)\n",
    "R.<p2,p3,p4,p5,u,z> = DPolynomialRing(B)\n",
    "L = z[2] + u*z\n",
    "P = z[5] + p2*z[3] + p3*z[2] + p4*z[1] + p5*z\n",
    "show(\"L:\", L)\n",
    "show(\"P:\", P)"
   ]
  },
  {
   "cell_type": "markdown",
   "id": "4191a3ee-c337-464c-9d4f-051693848c63",
   "metadata": {},
   "source": [
    "The commutator $[L,P]$ can be computed by evaluating the polynomials:"
   ]
  },
  {
   "cell_type": "code",
   "execution_count": 29,
   "id": "6b38b735-da71-4bb5-9b1e-3e527bb7b6ce",
   "metadata": {},
   "outputs": [],
   "source": [
    "C = L(z=P) - P(z=L)"
   ]
  },
  {
   "cell_type": "markdown",
   "id": "ab334b8e-9a96-47d0-8e6b-1aa77337025a",
   "metadata": {},
   "source": [
    "The coefficients can be get for different orders of $z$:"
   ]
  },
  {
   "cell_type": "code",
   "execution_count": 31,
   "id": "a3c75d15-ddf4-43ca-ad3f-b0ace603516e",
   "metadata": {},
   "outputs": [
    {
     "data": {
      "text/html": [
       "<html>\\(\\displaystyle \\verb|coefficient|\\verb| |\\verb|of|\\verb| |\\verb|z^(0):| -\\mathit{p2}_{0} u_{3} - \\mathit{p3}_{0} u_{2} - \\mathit{p4}_{0} u_{1} + 1 \\mathit{p5}_{2} - u_{5}\\)</html>"
      ],
      "text/latex": [
       "$\\displaystyle \\verb|coefficient|\\verb| |\\verb|of|\\verb| |\\verb|z^(0):| -\\mathit{p2}_{0} u_{3} - \\mathit{p3}_{0} u_{2} - \\mathit{p4}_{0} u_{1} + 1 \\mathit{p5}_{2} - u_{5}$"
      ],
      "text/plain": [
       "'coefficient of z^(0):' -p2_0*u_3 - p3_0*u_2 - p4_0*u_1 + p5_2 - u_5"
      ]
     },
     "metadata": {},
     "output_type": "display_data"
    },
    {
     "data": {
      "text/html": [
       "<html>\\(\\displaystyle \\verb|coefficient|\\verb| |\\verb|of|\\verb| |\\verb|z^(1):| \\left(-3\\right) \\mathit{p2}_{0} u_{2} + \\left(-2\\right) \\mathit{p3}_{0} u_{1} + 1 \\mathit{p4}_{2} + 2 \\mathit{p5}_{1} + \\left(-5\\right) u_{4}\\)</html>"
      ],
      "text/latex": [
       "$\\displaystyle \\verb|coefficient|\\verb| |\\verb|of|\\verb| |\\verb|z^(1):| \\left(-3\\right) \\mathit{p2}_{0} u_{2} + \\left(-2\\right) \\mathit{p3}_{0} u_{1} + 1 \\mathit{p4}_{2} + 2 \\mathit{p5}_{1} + \\left(-5\\right) u_{4}$"
      ],
      "text/plain": [
       "'coefficient of z^(1):' (-3)*p2_0*u_2 + (-2)*p3_0*u_1 + p4_2 + 2*p5_1 + (-5)*u_4"
      ]
     },
     "metadata": {},
     "output_type": "display_data"
    },
    {
     "data": {
      "text/html": [
       "<html>\\(\\displaystyle \\verb|coefficient|\\verb| |\\verb|of|\\verb| |\\verb|z^(2):| \\left(-3\\right) \\mathit{p2}_{0} u_{1} + 1 \\mathit{p3}_{2} + 2 \\mathit{p4}_{1} + \\left(-10\\right) u_{3}\\)</html>"
      ],
      "text/latex": [
       "$\\displaystyle \\verb|coefficient|\\verb| |\\verb|of|\\verb| |\\verb|z^(2):| \\left(-3\\right) \\mathit{p2}_{0} u_{1} + 1 \\mathit{p3}_{2} + 2 \\mathit{p4}_{1} + \\left(-10\\right) u_{3}$"
      ],
      "text/plain": [
       "'coefficient of z^(2):' (-3)*p2_0*u_1 + p3_2 + 2*p4_1 + (-10)*u_3"
      ]
     },
     "metadata": {},
     "output_type": "display_data"
    },
    {
     "data": {
      "text/html": [
       "<html>\\(\\displaystyle \\verb|coefficient|\\verb| |\\verb|of|\\verb| |\\verb|z^(3):| 1 \\mathit{p2}_{2} + 2 \\mathit{p3}_{1} + \\left(-10\\right) u_{2}\\)</html>"
      ],
      "text/latex": [
       "$\\displaystyle \\verb|coefficient|\\verb| |\\verb|of|\\verb| |\\verb|z^(3):| 1 \\mathit{p2}_{2} + 2 \\mathit{p3}_{1} + \\left(-10\\right) u_{2}$"
      ],
      "text/plain": [
       "'coefficient of z^(3):' p2_2 + 2*p3_1 + (-10)*u_2"
      ]
     },
     "metadata": {},
     "output_type": "display_data"
    },
    {
     "data": {
      "text/html": [
       "<html>\\(\\displaystyle \\verb|coefficient|\\verb| |\\verb|of|\\verb| |\\verb|z^(4):| 2 \\mathit{p2}_{1} + \\left(-5\\right) u_{1}\\)</html>"
      ],
      "text/latex": [
       "$\\displaystyle \\verb|coefficient|\\verb| |\\verb|of|\\verb| |\\verb|z^(4):| 2 \\mathit{p2}_{1} + \\left(-5\\right) u_{1}$"
      ],
      "text/plain": [
       "'coefficient of z^(4):' 2*p2_1 + (-5)*u_1"
      ]
     },
     "metadata": {},
     "output_type": "display_data"
    }
   ],
   "source": [
    "for i in range(C.order(z)+1):\n",
    "    show(f\"coefficient of z^({i}):\", C.coefficient(z[i]))"
   ]
  },
  {
   "cell_type": "markdown",
   "id": "738d8fef-86d1-4fbb-901d-d8ad732832e4",
   "metadata": {},
   "source": [
    "We can observe from this set of coefficients that we can compute the values for $p_2,p_3,p_4,p_5$ from the for last coefficients. We can solve the system using the class `DSystem`:"
   ]
  },
  {
   "cell_type": "code",
   "execution_count": 33,
   "id": "bc79cc6a-9756-4783-bf30-8e45028d1d58",
   "metadata": {},
   "outputs": [
    {
     "data": {
      "text/html": [
       "<html>\\(\\displaystyle \\newcommand{\\Bold}[1]{\\mathbf{#1}}\\text{System over } \\left(\\Bold{Q}, 0\\right) \\{ p2, p3, p4, p5, u, z \\} \\text{ with variables } \\mathit{p2}_{\\ast}, \\mathit{p3}_{\\ast}, \\mathit{p4}_{\\ast}, \\mathit{p5}_{\\ast} :\n",
       "\n",
       " \\left\\{\\begin{array}{ll} \\left(-3\\right) \\mathit{p2}_{0} u_{2} + \\left(-2\\right) \\mathit{p3}_{0} u_{1} + 1 \\mathit{p4}_{2} + 2 \\mathit{p5}_{1} + \\left(-5\\right) u_{4} & = 0 \\\\\n",
       "\\left(-3\\right) \\mathit{p2}_{0} u_{1} + 1 \\mathit{p3}_{2} + 2 \\mathit{p4}_{1} + \\left(-10\\right) u_{3} & = 0 \\\\\n",
       "1 \\mathit{p2}_{2} + 2 \\mathit{p3}_{1} + \\left(-10\\right) u_{2} & = 0 \\\\\n",
       "2 \\mathit{p2}_{1} + \\left(-5\\right) u_{1} & = 0 \\\\ \n",
       "\\end{array}\\right.\\)</html>"
      ],
      "text/latex": [
       "$\\displaystyle \\newcommand{\\Bold}[1]{\\mathbf{#1}}\\text{System over } \\left(\\Bold{Q}, 0\\right) \\{ p2, p3, p4, p5, u, z \\} \\text{ with variables } \\mathit{p2}_{\\ast}, \\mathit{p3}_{\\ast}, \\mathit{p4}_{\\ast}, \\mathit{p5}_{\\ast} :\n",
       "\n",
       " \\left\\{\\begin{array}{ll} \\left(-3\\right) \\mathit{p2}_{0} u_{2} + \\left(-2\\right) \\mathit{p3}_{0} u_{1} + 1 \\mathit{p4}_{2} + 2 \\mathit{p5}_{1} + \\left(-5\\right) u_{4} & = 0 \\\\\n",
       "\\left(-3\\right) \\mathit{p2}_{0} u_{1} + 1 \\mathit{p3}_{2} + 2 \\mathit{p4}_{1} + \\left(-10\\right) u_{3} & = 0 \\\\\n",
       "1 \\mathit{p2}_{2} + 2 \\mathit{p3}_{1} + \\left(-10\\right) u_{2} & = 0 \\\\\n",
       "2 \\mathit{p2}_{1} + \\left(-5\\right) u_{1} & = 0 \\\\ \n",
       "\\end{array}\\right.$"
      ],
      "text/plain": [
       "System over [Ring of operator polynomials in (p2, p3, p4, p5, u, z) over Differential Ring [[Rational Field], (0,)]] with variables [(p2_*, p3_*, p4_*, p5_*)]:\n",
       "{\n",
       "\t(-3)*p2_0*u_2 + (-2)*p3_0*u_1 + p4_2 + 2*p5_1 + (-5)*u_4 == 0\n",
       "\t(-3)*p2_0*u_1 + p3_2 + 2*p4_1 + (-10)*u_3 == 0\n",
       "\tp2_2 + 2*p3_1 + (-10)*u_2 == 0\n",
       "\t2*p2_1 + (-5)*u_1 == 0\n",
       "}"
      ]
     },
     "execution_count": 33,
     "metadata": {},
     "output_type": "execute_result"
    }
   ],
   "source": [
    "system = DSystem([C.coefficient(z[i]) for i in range(1, C.order(z)+1)], variables=[p2,p3,p4,p5])\n",
    "system"
   ]
  },
  {
   "cell_type": "code",
   "execution_count": 35,
   "id": "e2335730-e4d1-48c9-981b-b90b7f727871",
   "metadata": {},
   "outputs": [
    {
     "data": {
      "text/html": [
       "<html>\\(\\displaystyle \\left\\{\\mathit{p2}_{\\ast} : \\frac{5}{2} u_{0}, \\mathit{p3}_{\\ast} : \\frac{15}{4} u_{1}, \\mathit{p4}_{\\ast} : \\frac{15}{8} u_{0}^{2} + \\frac{25}{8} u_{2}, \\mathit{p5}_{\\ast} : \\frac{15}{8} u_{1} u_{0} + \\frac{15}{16} u_{3}\\right\\}\\)</html>"
      ],
      "text/latex": [
       "$\\displaystyle \\left\\{\\mathit{p2}_{\\ast} : \\frac{5}{2} u_{0}, \\mathit{p3}_{\\ast} : \\frac{15}{4} u_{1}, \\mathit{p4}_{\\ast} : \\frac{15}{8} u_{0}^{2} + \\frac{25}{8} u_{2}, \\mathit{p5}_{\\ast} : \\frac{15}{8} u_{1} u_{0} + \\frac{15}{16} u_{3}\\right\\}$"
      ],
      "text/plain": [
       "{p2_*: 5/2*u_0,\n",
       " p3_*: 15/4*u_1,\n",
       " p4_*: 15/8*u_0^2 + 25/8*u_2,\n",
       " p5_*: 15/8*u_1*u_0 + 15/16*u_3}"
      ]
     },
     "execution_count": 35,
     "metadata": {},
     "output_type": "execute_result"
    }
   ],
   "source": [
    "sols = system.solve_linear()\n",
    "sols"
   ]
  },
  {
   "cell_type": "markdown",
   "id": "0ff70fd2-080f-49d1-a48e-8069307106a5",
   "metadata": {},
   "source": [
    "Hence, the value for $P$ is fixed when given the value of $u$. However, we have no guarantee that $L$ and $P$ commute. In fact, there is one remaining equation that provides a condition for $u$:"
   ]
  },
  {
   "cell_type": "code",
   "execution_count": 37,
   "id": "45216227-3f74-451c-a79b-d303a2ff7033",
   "metadata": {},
   "outputs": [
    {
     "data": {
      "text/html": [
       "<html>\\(\\displaystyle \\left(-\\frac{15}{8}\\right) u_{1} u_{0}^{2} + \\left(-\\frac{5}{8}\\right) u_{3} u_{0} + \\left(-\\frac{5}{4}\\right) u_{2} u_{1} + \\left(-\\frac{1}{16}\\right) u_{5}\\)</html>"
      ],
      "text/latex": [
       "$\\displaystyle \\left(-\\frac{15}{8}\\right) u_{1} u_{0}^{2} + \\left(-\\frac{5}{8}\\right) u_{3} u_{0} + \\left(-\\frac{5}{4}\\right) u_{2} u_{1} + \\left(-\\frac{1}{16}\\right) u_{5}$"
      ],
      "text/plain": [
       "(-15/8)*u_1*u_0^2 + (-5/8)*u_3*u_0 + (-5/4)*u_2*u_1 + (-1/16)*u_5"
      ]
     },
     "execution_count": 37,
     "metadata": {},
     "output_type": "execute_result"
    }
   ],
   "source": [
    "equation_for_u = C.coefficient(z[0])(dic=sols)\n",
    "equation_for_u"
   ]
  },
  {
   "cell_type": "markdown",
   "id": "714ec9f1-375a-4237-979d-97860e6c486c",
   "metadata": {},
   "source": [
    "Solving this equation is a **hard** problem (in general). But for this specific case, we can find a rational solution in $\\mathbb{Q}(x)$:"
   ]
  },
  {
   "cell_type": "code",
   "execution_count": 41,
   "id": "9ddc1bc2-cc01-4c83-92e5-af5118c9b8ec",
   "metadata": {},
   "outputs": [
    {
     "data": {
      "text/html": [
       "<html>\\(\\displaystyle \\verb|solution:| \\frac{-2}{x^{2}}\\)</html>"
      ],
      "text/latex": [
       "$\\displaystyle \\verb|solution:| \\frac{-2}{x^{2}}$"
      ],
      "text/plain": [
       "'solution: ' (-2)/x^2"
      ]
     },
     "metadata": {},
     "output_type": "display_data"
    },
    {
     "data": {
      "text/html": [
       "<html>\\(\\displaystyle 0\\)</html>"
      ],
      "text/latex": [
       "$\\displaystyle 0$"
      ],
      "text/plain": [
       "0"
      ]
     },
     "execution_count": 41,
     "metadata": {},
     "output_type": "execute_result"
    }
   ],
   "source": [
    "x = DQ_x('x')\n",
    "solution = -2/x^2\n",
    "show(\"solution: \", solution)\n",
    "equation_for_u(u=solution)"
   ]
  },
  {
   "cell_type": "markdown",
   "id": "68ad5865-a185-495a-b18d-b010d472a582",
   "metadata": {},
   "source": [
    "We could now build the corresponding specialized version of $L$ and $P$:"
   ]
  },
  {
   "cell_type": "code",
   "execution_count": 55,
   "id": "a96e33e3-312d-4796-b1db-6781d5af10e1",
   "metadata": {},
   "outputs": [
    {
     "data": {
      "text/html": [
       "<html>\\(\\displaystyle \\tilde{L} =  1 z_{2} + \\left(\\frac{-2}{x^{2}}\\right) z_{0}\\)</html>"
      ],
      "text/latex": [
       "$\\displaystyle \\tilde{L} =  1 z_{2} + \\left(\\frac{-2}{x^{2}}\\right) z_{0}$"
      ],
      "text/plain": [
       "\\tilde{L} =  z_2 + ((-2)/x^2)*z_0"
      ]
     },
     "metadata": {},
     "output_type": "display_data"
    },
    {
     "data": {
      "text/html": [
       "<html>\\(\\displaystyle \\tilde{P} =  1 z_{5} + \\left(\\frac{-5}{x^{2}}\\right) z_{3} + \\frac{15}{x^{3}} z_{2} + \\left(\\frac{-30}{x^{4}}\\right) z_{1} + \\frac{30}{x^{5}} z_{0}\\)</html>"
      ],
      "text/latex": [
       "$\\displaystyle \\tilde{P} =  1 z_{5} + \\left(\\frac{-5}{x^{2}}\\right) z_{3} + \\frac{15}{x^{3}} z_{2} + \\left(\\frac{-30}{x^{4}}\\right) z_{1} + \\frac{30}{x^{5}} z_{0}$"
      ],
      "text/plain": [
       "\\tilde{P} =  z_5 + ((-5)/x^2)*z_3 + 15/x^3*z_2 + ((-30)/x^4)*z_1 + 30/x^5*z_0"
      ]
     },
     "metadata": {},
     "output_type": "display_data"
    },
    {
     "data": {
      "text/html": [
       "<html>\\(\\displaystyle [\\tilde{L}, \\tilde{P}] =  0\\)</html>"
      ],
      "text/latex": [
       "$\\displaystyle [\\tilde{L}, \\tilde{P}] =  0$"
      ],
      "text/plain": [
       "[\\tilde{L}, \\tilde{P}] =  0"
      ]
     },
     "metadata": {},
     "output_type": "display_data"
    }
   ],
   "source": [
    "L_sub = L(u=solution)\n",
    "P_sub = P(dic=sols)(u=solution)\n",
    "show(LatexExpr(r\"\\tilde{L} = \"), L_sub)\n",
    "show(LatexExpr(r\"\\tilde{P} = \"), P_sub)\n",
    "show(LatexExpr(r\"[\\tilde{L}, \\tilde{P}] = \"), L_sub(z=P_sub) - P_sub(z=L_sub))"
   ]
  },
  {
   "cell_type": "markdown",
   "id": "71460575-0376-4351-ae96-f83437bbfc28",
   "metadata": {
    "tags": []
   },
   "source": [
    "#### Generic implementation\n",
    "\n",
    "A partial problem can be solved for arbitrary orders of $L$ and $P_m$ can be solved within the software using the method `almost_commuting_wilson` in `dalgebra.hierarchies`."
   ]
  },
  {
   "cell_type": "code",
   "execution_count": 22,
   "id": "ac939b8a-867c-4bdb-99c0-19aa9ac0ff84",
   "metadata": {},
   "outputs": [
    {
     "data": {
      "text/plain": [
       "\u001b[0;31mSignature:\u001b[0m     \n",
       "\u001b[0malmost_commuting_wilson\u001b[0m\u001b[0;34m(\u001b[0m\u001b[0;34m\u001b[0m\n",
       "\u001b[0;34m\u001b[0m    \u001b[0mn\u001b[0m\u001b[0;34m:\u001b[0m \u001b[0mint\u001b[0m\u001b[0;34m,\u001b[0m\u001b[0;34m\u001b[0m\n",
       "\u001b[0;34m\u001b[0m    \u001b[0mm\u001b[0m\u001b[0;34m:\u001b[0m \u001b[0mint\u001b[0m\u001b[0;34m,\u001b[0m\u001b[0;34m\u001b[0m\n",
       "\u001b[0;34m\u001b[0m    \u001b[0mname_u\u001b[0m\u001b[0;34m:\u001b[0m \u001b[0mstr\u001b[0m \u001b[0;34m=\u001b[0m \u001b[0;34m'u'\u001b[0m\u001b[0;34m,\u001b[0m\u001b[0;34m\u001b[0m\n",
       "\u001b[0;34m\u001b[0m    \u001b[0mname_z\u001b[0m\u001b[0;34m:\u001b[0m \u001b[0mstr\u001b[0m \u001b[0;34m=\u001b[0m \u001b[0;34m'z'\u001b[0m\u001b[0;34m,\u001b[0m\u001b[0;34m\u001b[0m\n",
       "\u001b[0;34m\u001b[0m    \u001b[0mmethod\u001b[0m\u001b[0;34m=\u001b[0m\u001b[0;34m'diff'\u001b[0m\u001b[0;34m,\u001b[0m\u001b[0;34m\u001b[0m\n",
       "\u001b[0;34m\u001b[0m\u001b[0;34m)\u001b[0m\u001b[0;34m\u001b[0m\u001b[0;34m\u001b[0m\u001b[0m\n",
       "\u001b[0;31mDocstring:\u001b[0m     \n",
       "   Method to compute an element on the almost-commuting basis.\n",
       "\n",
       "   Let L be a linear differential operator of order n. We say that A\n",
       "   *almost commute with `L`* if ord([L,A]) <= n-2. In general, the\n",
       "   commutator will have order n+m-1 where m is the order of A. Then,\n",
       "   if the commutator has such a low order, we say that it *almost\n",
       "   commute*.\n",
       "\n",
       "   It is easy to see that:\n",
       "\n",
       "   * A almost commuting with L does not imply that L almost commute\n",
       "     with A.\n",
       "\n",
       "   * Let AC(L) the set of almost commuting linear operators. Then\n",
       "     AC(L) is a C-vector space where C is the field of constants of\n",
       "     the differential ring R where L and A are built over.\n",
       "\n",
       "   It was shown by Wilson (TODO: add reference), that for a\n",
       "   Schrödinger type operator L of order n\n",
       "\n",
       "      L_n = \\partial^n + u_{n-2}\\partial^{n-2} + ... + u_1\\partial\n",
       "      + u_0,\n",
       "\n",
       "   there is a unique basis of AC(L_n) generated by a set of operators\n",
       "   \\{P_m\\ :\\ m\\in \\mathbb{N}\\} such that:\n",
       "\n",
       "   * ord(P_m) = m.\n",
       "\n",
       "   * P_m = \\partial^m + p_{m,m-2}\\partial^{m-2} + ... +\n",
       "     p_{m,1}\\partial + p_{m,0}, where p_{m,i} \\in C\\{u_*\\}.\n",
       "\n",
       "   * If we give weights u_i^{(k)} --> n-i+k, then p_{m,j} are\n",
       "     homogeneous of weight m-j.\n",
       "\n",
       "   This method computes, for a given pair or orders n and m the\n",
       "   Wilson's almost commuting base element of order m for the n-th\n",
       "   order Schrödinger operator L_n.\n",
       "\n",
       "   INPUT:\n",
       "\n",
       "   * \"n\": the order of the Schrödinger operator L_n.\n",
       "\n",
       "   * \"m\": the desired order for the almost-commutator.\n",
       "\n",
       "   * \"name_u\" (optional): base name for the u variables that will\n",
       "     appear in L_n and in the output P_m.\n",
       "\n",
       "   * \"name_z\" (optional): base name for the differential variable to\n",
       "     represent \\partial.\n",
       "\n",
       "   * \"method\" (optional): method to decide how to solve the arising\n",
       "     differential system. Currently the methods \"\"diff\"\" (see\n",
       "     \"__almost_commuting_integral()\") and \"\"linear\"\" (see\n",
       "     \"__almost__commuting_linear()\").\n",
       "\n",
       "   OUTPUT:\n",
       "\n",
       "   A pair (P_m, (T_0,...,T_{n-2})) such that P_m is the almost\n",
       "   commutator for the generic L_n and the T_i are such\n",
       "\n",
       "      [L_n, P_m] = T_0 + T_1\\partial + ... + T_{n-2}\\partial^{n-2}\n",
       "\u001b[0;31mInit docstring:\u001b[0m Initialize self.  See help(type(self)) for accurate signature.\n",
       "\u001b[0;31mFile:\u001b[0m           ~/git/dalgebra/dalgebra/hierarchies/hierarchies.py\n",
       "\u001b[0;31mType:\u001b[0m           function\n"
      ]
     },
     "metadata": {},
     "output_type": "display_data"
    }
   ],
   "source": [
    "from dalgebra.hierarchies import almost_commuting_wilson\n",
    "almost_commuting_wilson?"
   ]
  },
  {
   "cell_type": "markdown",
   "id": "b130a96f-c9fb-459e-8236-79c1cc06d762",
   "metadata": {
    "tags": []
   },
   "source": [
    "### 3.2 Parameter identifiability"
   ]
  },
  {
   "cell_type": "markdown",
   "id": "0bdcb0e7-4bb0-4879-a9a5-74a1431c738d",
   "metadata": {},
   "source": [
    "In Parameter Identifiability problems we need to consider when, given an output function of a dynamical system, we can identify the values (at least with finitely many possibilities) of the parameters of the system. This problem is in the end reduced to obtain an equation only involving parameters and the output variables and checking the coefficients of these equations."
   ]
  },
  {
   "cell_type": "markdown",
   "id": "729f838f-3104-455d-8a35-36f03c0ec43c",
   "metadata": {},
   "source": [
    "Let us consider the following dynamical system:\n",
    "$$\\left\\{\\begin{array}{rl}\n",
    "    C(n+1) + K_{se}C(n)S(n) + (K_{cp} + K_{rb} - 1)C(n) - I_0K_{se}S(n) & = 0\\\\\n",
    "    S(n+1) - K_{sc}C(n)S(n) - K_{rb}C(n) + (I_0K_{se} - 1)S(n) & = 0\n",
    "\\end{array}\\right.$$\n",
    "\n",
    "where we have two difference equations on the variables $C(n), S(n)$ and the parameters $K_{se}, K_{cp}, K_{rb}, I_0, K_{sc}$.\n",
    "\n",
    "Let us suppose that we can obtain the values for $Y(n) = C(n) + S(n)$, which parameters are identifiable?"
   ]
  },
  {
   "cell_type": "markdown",
   "id": "cde30cd0-5aba-4ebe-b0f4-ced60423ee7f",
   "metadata": {},
   "source": [
    "To solve this problem we first need to cthe the appropriate difference setting where we have to create the corresponding parameters and the the difference polynomial ring in the variables $C(n), S(n), Y(n)$:"
   ]
  },
  {
   "cell_type": "code",
   "execution_count": 2,
   "id": "09aa23bc-330e-42b3-875c-5bbffcdff9f9",
   "metadata": {},
   "outputs": [
    {
     "data": {
      "text/html": [
       "<html>\\(\\displaystyle \\newcommand{\\Bold}[1]{\\mathbf{#1}}\\verb|base|\\verb| |\\verb|difference|\\verb| |\\verb|ring:| \\left(\\Bold{Q}[I_{0}, K_{\\mathit{cp}}, K_{\\mathit{rb}}, K_{\\mathit{sc}}, K_{\\mathit{se}}], \\text{id}\\right)\\)</html>"
      ],
      "text/latex": [
       "$\\displaystyle \\newcommand{\\Bold}[1]{\\mathbf{#1}}\\verb|base|\\verb| |\\verb|difference|\\verb| |\\verb|ring:| \\left(\\Bold{Q}[I_{0}, K_{\\mathit{cp}}, K_{\\mathit{rb}}, K_{\\mathit{sc}}, K_{\\mathit{se}}], \\text{id}\\right)$"
      ],
      "text/plain": [
       "'base difference ring: ' Difference Ring [[Multivariate Polynomial Ring in I_0, K_cp, K_rb, K_sc, K_se over Rational Field], (Id,)]"
      ]
     },
     "metadata": {},
     "output_type": "display_data"
    },
    {
     "data": {
      "text/html": [
       "<html>\\(\\displaystyle \\newcommand{\\Bold}[1]{\\mathbf{#1}}\\verb|difference|\\verb| |\\verb|polynomial|\\verb| |\\verb|ring:| \\left(\\Bold{Q}[I_{0}, K_{\\mathit{cp}}, K_{\\mathit{rb}}, K_{\\mathit{sc}}, K_{\\mathit{se}}], \\text{id}\\right) \\{ C, S, Y \\}\\)</html>"
      ],
      "text/latex": [
       "$\\displaystyle \\newcommand{\\Bold}[1]{\\mathbf{#1}}\\verb|difference|\\verb| |\\verb|polynomial|\\verb| |\\verb|ring:| \\left(\\Bold{Q}[I_{0}, K_{\\mathit{cp}}, K_{\\mathit{rb}}, K_{\\mathit{sc}}, K_{\\mathit{se}}], \\text{id}\\right) \\{ C, S, Y \\}$"
      ],
      "text/plain": [
       "'difference polynomial ring:' Ring of operator polynomials in (C, S, Y) over Difference Ring [[Multivariate Polynomial Ring in I_0, K_cp, K_rb, K_sc, K_se over Rational Field], (Id,)]"
      ]
     },
     "metadata": {},
     "output_type": "display_data"
    }
   ],
   "source": [
    "B.<I_0, K_cp, K_rb, K_sc, K_se> = QQ[]\n",
    "SB = DifferenceRing(B)\n",
    "show(\"base difference ring: \", SB)\n",
    "R.<C,S,Y> = DPolynomialRing(SB)\n",
    "show(\"difference polynomial ring:\", R)"
   ]
  },
  {
   "cell_type": "markdown",
   "id": "026e4bcc-e846-4ab6-8645-6b0a55a56601",
   "metadata": {},
   "source": [
    "Then, we need to create the system described above that also sets the identity $Y(n) = C(n) + S(n)$. Since we want then to eliminate the variables $S(n)$ and $C(n)$, we set them as variables of the system:"
   ]
  },
  {
   "cell_type": "code",
   "execution_count": 3,
   "id": "c1326506-a85e-4136-886f-a5b51f8d6a8f",
   "metadata": {},
   "outputs": [
    {
     "data": {
      "text/html": [
       "<html>\\(\\displaystyle \\newcommand{\\Bold}[1]{\\mathbf{#1}}\\text{System over } \\left(\\Bold{Q}[I_{0}, K_{\\mathit{cp}}, K_{\\mathit{rb}}, K_{\\mathit{sc}}, K_{\\mathit{se}}], \\text{id}\\right) \\{ C, S, Y \\} \\text{ with variables } S_{\\ast}, C_{\\ast} :\n",
       "\n",
       " \\left\\{\\begin{array}{ll} K_{\\mathit{se}} C_{0} S_{0} + 1 C_{1} + \\left(K_{\\mathit{cp}} + K_{\\mathit{rb}} - 1\\right) C_{0} + \\left(-I_{0} K_{\\mathit{se}}\\right) S_{0} & = 0 \\\\\n",
       "\\left(-K_{\\mathit{sc}}\\right) C_{0} S_{0} + \\left(-K_{\\mathit{rb}}\\right) C_{0} + 1 S_{1} + \\left(I_{0} K_{\\mathit{se}} - 1\\right) S_{0} & = 0 \\\\\n",
       "-C_{0} - S_{0} + 1 Y_{0} & = 0 \\\\ \n",
       "\\end{array}\\right.\\)</html>"
      ],
      "text/latex": [
       "$\\displaystyle \\newcommand{\\Bold}[1]{\\mathbf{#1}}\\text{System over } \\left(\\Bold{Q}[I_{0}, K_{\\mathit{cp}}, K_{\\mathit{rb}}, K_{\\mathit{sc}}, K_{\\mathit{se}}], \\text{id}\\right) \\{ C, S, Y \\} \\text{ with variables } S_{\\ast}, C_{\\ast} :\n",
       "\n",
       " \\left\\{\\begin{array}{ll} K_{\\mathit{se}} C_{0} S_{0} + 1 C_{1} + \\left(K_{\\mathit{cp}} + K_{\\mathit{rb}} - 1\\right) C_{0} + \\left(-I_{0} K_{\\mathit{se}}\\right) S_{0} & = 0 \\\\\n",
       "\\left(-K_{\\mathit{sc}}\\right) C_{0} S_{0} + \\left(-K_{\\mathit{rb}}\\right) C_{0} + 1 S_{1} + \\left(I_{0} K_{\\mathit{se}} - 1\\right) S_{0} & = 0 \\\\\n",
       "-C_{0} - S_{0} + 1 Y_{0} & = 0 \\\\ \n",
       "\\end{array}\\right.$"
      ],
      "text/plain": [
       "System over [Ring of operator polynomials in (C, S, Y) over Difference Ring [[Multivariate Polynomial Ring in I_0, K_cp, K_rb, K_sc, K_se over Rational Field], (Id,)]] with variables [(S_*, C_*)]:\n",
       "{\n",
       "\tK_se*C_0*S_0 + C_1 + (K_cp + K_rb - 1)*C_0 + (-I_0*K_se)*S_0 == 0\n",
       "\t(-K_sc)*C_0*S_0 + (-K_rb)*C_0 + S_1 + (I_0*K_se - 1)*S_0 == 0\n",
       "\t-C_0 - S_0 + Y_0 == 0\n",
       "}"
      ]
     },
     "execution_count": 3,
     "metadata": {},
     "output_type": "execute_result"
    }
   ],
   "source": [
    "equation1 = C[1] + K_se*C*S + (K_cp + K_rb - 1)*C - I_0*K_se*S\n",
    "equation2 = S[1] - K_sc*C*S - K_rb*C + (I_0*K_se - 1)*S\n",
    "equation3 = Y - C - S\n",
    "system = DSystem([equation1, equation2, equation3], variables=[S,C])\n",
    "system"
   ]
  },
  {
   "cell_type": "markdown",
   "id": "4a45771d-4631-4dd3-a4b9-06861e6dcc70",
   "metadata": {},
   "source": [
    "The differential resultant allows to compute this elimination:"
   ]
  },
  {
   "cell_type": "code",
   "execution_count": 4,
   "id": "34549431-e408-454c-9ea5-8f98b95fa9f2",
   "metadata": {},
   "outputs": [
    {
     "name": "stdout",
     "output_type": "stream",
     "text": [
      "CPU times: user 2.6 s, sys: 927 µs, total: 2.6 s\n",
      "Wall time: 2.61 s\n"
     ]
    }
   ],
   "source": [
    "%%time\n",
    "res = system.diff_resultant()"
   ]
  },
  {
   "cell_type": "code",
   "execution_count": 6,
   "id": "9e9b2d47-887c-4a2b-90d2-4789be55d680",
   "metadata": {},
   "outputs": [
    {
     "data": {
      "text/html": [
       "<html>\\(\\displaystyle \\left(2, 4, 21\\right)\\)</html>"
      ],
      "text/latex": [
       "$\\displaystyle \\left(2, 4, 21\\right)$"
      ],
      "text/plain": [
       "(2, 4, 21)"
      ]
     },
     "execution_count": 6,
     "metadata": {},
     "output_type": "execute_result"
    }
   ],
   "source": [
    "res.order(Y), res.degree(), len(res.monomials())"
   ]
  },
  {
   "cell_type": "markdown",
   "id": "910a47b0-e2e3-4c14-a3ec-c5f7eca61699",
   "metadata": {},
   "source": [
    "And now we are ready to start analyzing the coefficients of this resultant."
   ]
  },
  {
   "cell_type": "code",
   "execution_count": 7,
   "id": "852afc54-43f5-48fe-b640-65aeebad0fd7",
   "metadata": {},
   "outputs": [
    {
     "name": "stdout",
     "output_type": "stream",
     "text": [
      "Y_1^4\t--> (degree 6)\tK_sc^4*K_se^2 - 2*K_sc^3*K_se^)\n",
      "Y_1^3*Y_0\t--> (degree 8)\t-I_0*K_sc^5*K_se^2 + 2*I_0*K_s)\n",
      "Y_1^2*Y_0^2\t--> (degree 10)\tI_0^2*K_sc^5*K_se^3 - 4*I_0^2*)\n",
      "Y_1*Y_0^3\t--> (degree 11)\tI_0^2*K_cp*K_sc^6*K_se^2 + I_0)\n",
      "Y_0^4\t--> (degree 12)\tI_0^2*K_cp^2*K_sc^6*K_se^2 + 2)\n",
      "Y_2*Y_1^2\t--> (degree 5)\t2*K_sc^4*K_se - 6*K_sc^3*K_se^)\n",
      "Y_2*Y_1*Y_0\t--> (degree 7)\t-I_0*K_sc^5*K_se + 3*I_0*K_sc^)\n",
      "Y_2*Y_0^2\t--> (degree 9)\tI_0^2*K_sc^5*K_se^2 - 5*I_0^2*)\n",
      "Y_1^3\t--> (degree 9)\tI_0^2*K_sc^5*K_se^2 - 3*I_0^2*)\n",
      "Y_1^2*Y_0\t--> (degree 11)\t-I_0^3*K_sc^5*K_se^3 + 3*I_0^3)\n",
      "Y_1*Y_0^2\t--> (degree 12)\t-3*I_0^3*K_cp*K_sc^5*K_se^3 - )\n",
      "Y_0^3\t--> (degree 13)\t-2*I_0^3*K_cp^2*K_sc^5*K_se^3 )\n",
      "Y_2^2\t--> (degree 4)\tK_sc^4 - 4*K_sc^3*K_se + 6*K_s)\n",
      "Y_2*Y_1\t--> (degree 8)\t-2*I_0^2*K_sc^4*K_se^2 + 8*I_0)\n",
      "Y_2*Y_0\t--> (degree 8)\t-2*I_0*K_cp^2*K_sc^4*K_se - 2*)\n",
      "Y_1^2\t--> (degree 12)\tI_0^4*K_sc^4*K_se^4 - 4*I_0^4*)\n",
      "Y_1*Y_0\t--> (degree 13)\t2*I_0^4*K_cp*K_sc^4*K_se^4 - 8)\n",
      "Y_0^2\t--> (degree 14)\tI_0^4*K_cp^2*K_sc^4*K_se^4 - 4)\n",
      "Y_2\t--> (degree 9)\tI_0^2*K_cp^2*K_sc^3*K_se^2 - 3)\n",
      "Y_1\t--> (degree 11)\tI_0^3*K_cp^2*K_sc^3*K_se^3 - 3)\n",
      "Y_0\t--> (degree 12)\tI_0^3*K_cp^3*K_sc^3*K_se^3 - 3)\n"
     ]
    }
   ],
   "source": [
    "mons = res.monomials(); coeffs = res.coefficients()\n",
    "for i in range(len(mons)):\n",
    "    print(f\"{mons[i]}\\t--> (degree {coeffs[i].wrapped.degree()})\\t{str(coeffs[i])[:30]})\")"
   ]
  },
  {
   "cell_type": "code",
   "execution_count": null,
   "id": "10424417-b80f-44e8-9d9f-dfdba6da7f09",
   "metadata": {},
   "outputs": [],
   "source": []
  }
 ],
 "metadata": {
  "kernelspec": {
   "display_name": "SageMath 9.7",
   "language": "sage",
   "name": "sagemath"
  },
  "language_info": {
   "codemirror_mode": {
    "name": "ipython",
    "version": 3
   },
   "file_extension": ".py",
   "mimetype": "text/x-python",
   "name": "python",
   "nbconvert_exporter": "python",
   "pygments_lexer": "ipython3",
   "version": "3.10.5"
  }
 },
 "nbformat": 4,
 "nbformat_minor": 5
}
