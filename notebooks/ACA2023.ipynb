{
 "cells": [
  {
   "cell_type": "markdown",
   "id": "cd1fbf24-da82-4bac-8ab9-81a444e1fbba",
   "metadata": {},
   "source": [
    "# **ACA** - **AADIOS**"
   ]
  },
  {
   "cell_type": "markdown",
   "id": "44a01cd2-7d08-4e04-950e-2871b9ae7139",
   "metadata": {},
   "source": [
    "This is a notebook containing examples for the talk *\"Difference-differential polynomials in SageMath\"* in the session **Algebraic and Algorithmic Aspects of Differential and Integral Operators** (AADIOS) within the context of the *28th International Conference on Applications of Computer Algebra* (ACA'2023), July 17--21, 2023, Warsaw."
   ]
  },
  {
   "cell_type": "code",
   "execution_count": 1,
   "id": "e0de2eb8-2bfe-49ad-a96f-50dbda1d119b",
   "metadata": {},
   "outputs": [],
   "source": [
    "import sys; sys.path.insert(0, \"..\") # dalgebra is here\n",
    "%display latex\n",
    "from dalgebra import *"
   ]
  },
  {
   "cell_type": "markdown",
   "id": "521a9187-4e29-4a42-86c6-082176a1b7a8",
   "metadata": {
    "tags": []
   },
   "source": [
    "## **1. Creation of Difference-Differential Polynomials**"
   ]
  },
  {
   "cell_type": "markdown",
   "id": "e992c80f-5130-40e3-a81f-cdc2ab94712f",
   "metadata": {},
   "source": [
    "### 1.1 Creation of base rings"
   ]
  },
  {
   "cell_type": "markdown",
   "id": "4157a26f-923e-4759-9d83-df1fb9f84f80",
   "metadata": {},
   "source": [
    "Differential rings:"
   ]
  },
  {
   "cell_type": "code",
   "execution_count": 2,
   "id": "c5374cf9-2ff3-4ab2-ac64-af17f5e70b2a",
   "metadata": {},
   "outputs": [
    {
     "data": {
      "text/html": [
       "<html>\\(\\displaystyle \\newcommand{\\Bold}[1]{\\mathbf{#1}}\\left(\\left(\\Bold{Q}[x], \\frac{d}{dx}\\right), \\left(\\Bold{Q}[e_{x}], e_x \\frac{d}{de_{x}}\\right)\\right)\\)</html>"
      ],
      "text/latex": [
       "$\\displaystyle \\newcommand{\\Bold}[1]{\\mathbf{#1}}\\left(\\left(\\Bold{Q}[x], \\frac{d}{dx}\\right), \\left(\\Bold{Q}[e_{x}], e_x \\frac{d}{de_{x}}\\right)\\right)$"
      ],
      "text/plain": [
       "(Differential Ring [[Univariate Polynomial Ring in x over Rational Field], (d/dx,)],\n",
       " Differential Ring [[Univariate Polynomial Ring in e_x over Rational Field], (e_x*d/de_x,)])"
      ]
     },
     "execution_count": 2,
     "metadata": {},
     "output_type": "execute_result"
    }
   ],
   "source": [
    "DQ_x = DifferentialRing(QQ[x], [1]) # DQ_x = (Q[x], dx)\n",
    "DQ_ex = DifferentialRing(QQ['e_x'], ['e_x']) # DQ_ex = (Q[e^x], e^xde^x)\n",
    "\n",
    "DQ_x, DQ_ex"
   ]
  },
  {
   "cell_type": "markdown",
   "id": "251b0e74-3d2e-4462-8532-e720970246cf",
   "metadata": {},
   "source": [
    "Difference rings:"
   ]
  },
  {
   "cell_type": "code",
   "execution_count": 3,
   "id": "ac7382bd-3020-4255-bc74-452de9013155",
   "metadata": {},
   "outputs": [
    {
     "data": {
      "text/html": [
       "<html>\\(\\displaystyle \\newcommand{\\Bold}[1]{\\mathbf{#1}}\\left(\\left(\\Bold{Q}[x], \\sigma\\left(x \\mapsto x + 1\\right)\\right), \\left(\\Bold{Q}[e, e_{x}], \\sigma\\left(e \\mapsto e, e_{x} \\mapsto e e_{x}\\right)\\right)\\right)\\)</html>"
      ],
      "text/latex": [
       "$\\displaystyle \\newcommand{\\Bold}[1]{\\mathbf{#1}}\\left(\\left(\\Bold{Q}[x], \\sigma\\left(x \\mapsto x + 1\\right)\\right), \\left(\\Bold{Q}[e, e_{x}], \\sigma\\left(e \\mapsto e, e_{x} \\mapsto e e_{x}\\right)\\right)\\right)$"
      ],
      "text/plain": [
       "(Difference Ring [[Univariate Polynomial Ring in x over Rational Field], (Hom({x: x + 1}),)],\n",
       " Difference Ring [[Multivariate Polynomial Ring in e, e_x over Rational Field], (Hom({e: e, e_x: e*e_x}),)])"
      ]
     },
     "execution_count": 3,
     "metadata": {},
     "output_type": "execute_result"
    }
   ],
   "source": [
    "SQ_x = DifferenceRing(QQ[x], [x+1]) # SQ_x = (Q[x], s: x -> x+1)\n",
    "SQ_ex = DifferenceRing(QQ['e', 'e_x'], ['e', 'e*e_x'])# QQ['e', 'e_x'].Hom(QQ['e', 'e_x'])(['e','e*e_x']))\n",
    "SQ_x, SQ_ex"
   ]
  },
  {
   "cell_type": "markdown",
   "id": "51d4988d-5661-4204-bda0-459d285b7567",
   "metadata": {},
   "source": [
    "Mixed:"
   ]
  },
  {
   "cell_type": "code",
   "execution_count": 4,
   "id": "3e9cbdb0-995c-4238-8c4c-d83f53d57cd0",
   "metadata": {},
   "outputs": [
    {
     "data": {
      "text/html": [
       "<html>\\(\\displaystyle \\newcommand{\\Bold}[1]{\\mathbf{#1}}\\left(\\left(\\Bold{Q}[x], \\left(\\frac{d}{dx}, \\sigma\\left(x \\mapsto x + 1\\right)\\right)\\right), \\left(\\Bold{Q}[x, e, e_{x}], \\left(\\frac{d}{dx} + e_x \\frac{d}{de_{x}}, \\sigma\\left(x \\mapsto x + 1, e \\mapsto e, e_{x} \\mapsto e e_{x}\\right)\\right)\\right)\\right)\\)</html>"
      ],
      "text/latex": [
       "$\\displaystyle \\newcommand{\\Bold}[1]{\\mathbf{#1}}\\left(\\left(\\Bold{Q}[x], \\left(\\frac{d}{dx}, \\sigma\\left(x \\mapsto x + 1\\right)\\right)\\right), \\left(\\Bold{Q}[x, e, e_{x}], \\left(\\frac{d}{dx} + e_x \\frac{d}{de_{x}}, \\sigma\\left(x \\mapsto x + 1, e \\mapsto e, e_{x} \\mapsto e e_{x}\\right)\\right)\\right)\\right)$"
      ],
      "text/plain": [
       "(Ring [[Univariate Polynomial Ring in x over Rational Field], (d/dx, Hom({x: x + 1}))],\n",
       " Ring [[Multivariate Polynomial Ring in x, e, e_x over Rational Field], (d/dx + e_x*d/de_x, Hom({x: x + 1, e: e, e_x: e*e_x}))])"
      ]
     },
     "execution_count": 4,
     "metadata": {},
     "output_type": "execute_result"
    }
   ],
   "source": [
    "SDQ_x = DifferenceRing(DQ_x, [x+1]); # SDQ_x = (Q[x], (dx, s: x -> x+1))\n",
    "SDQ_ex = DRing(QQ['x','e','e_x'], [1, 0, 'e_x'], ['x+1', 'e', 'e*e_x'], types=[\"derivation\", \"homomorphism\"])\n",
    "SDQ_x, SDQ_ex"
   ]
  },
  {
   "cell_type": "code",
   "execution_count": 5,
   "id": "70485c8d-43b1-413e-ac23-feea91b0da85",
   "metadata": {},
   "outputs": [
    {
     "data": {
      "text/html": [
       "<html>\\(\\displaystyle \\verb|element:| \\frac{x^{2} - e^{2}}{e_{x}}\\)</html>"
      ],
      "text/latex": [
       "$\\displaystyle \\verb|element:| \\frac{x^{2} - e^{2}}{e_{x}}$"
      ],
      "text/plain": [
       "'element: ' (x^2 - e^2)/e_x"
      ]
     },
     "metadata": {},
     "output_type": "display_data"
    },
    {
     "data": {
      "text/html": [
       "<html>\\(\\displaystyle \\verb|derivative:| \\frac{-x^{2} e + e^{3} + x^{2} - e^{2} + 2 x + 1}{e_{x}}\\)</html>"
      ],
      "text/latex": [
       "$\\displaystyle \\verb|derivative:| \\frac{-x^{2} e + e^{3} + x^{2} - e^{2} + 2 x + 1}{e_{x}}$"
      ],
      "text/plain": [
       "'derivative: ' (-x^2*e + e^3 + x^2 - e^2 + 2*x + 1)/e_x"
      ]
     },
     "metadata": {},
     "output_type": "display_data"
    },
    {
     "data": {
      "text/html": [
       "<html>\\(\\displaystyle \\verb|shift:| \\frac{x^{2} - e^{2} + 2 x + 1}{e e_{x}}\\)</html>"
      ],
      "text/latex": [
       "$\\displaystyle \\verb|shift:| \\frac{x^{2} - e^{2} + 2 x + 1}{e e_{x}}$"
      ],
      "text/plain": [
       "'shift: ' (x^2 - e^2 + 2*x + 1)/(e*e_x)"
      ]
     },
     "metadata": {},
     "output_type": "display_data"
    }
   ],
   "source": [
    "x, e, e_x = SDQ_ex.gens()\n",
    "el = (x^2 - e^2)/e_x\n",
    "show(\"element: \", el)\n",
    "show(\"derivative: \", el.derivative())\n",
    "show(\"shift: \", el.shift())"
   ]
  },
  {
   "cell_type": "markdown",
   "id": "5213798c-691e-445b-b47e-945b7757c541",
   "metadata": {},
   "source": [
    "### 1.2 Creation of difference-differential polynomials"
   ]
  },
  {
   "cell_type": "markdown",
   "id": "14e1fcfe-9f01-47fa-99c6-021d29b65f34",
   "metadata": {},
   "source": [
    "#### Differential ring of polynomials"
   ]
  },
  {
   "cell_type": "code",
   "execution_count": 6,
   "id": "92ea3a8a-ac61-4b98-892d-248af06ec80f",
   "metadata": {},
   "outputs": [
    {
     "data": {
      "text/html": [
       "<html>\\(\\displaystyle \\newcommand{\\Bold}[1]{\\mathbf{#1}}\\left(\\Bold{Q}[x], \\frac{d}{dx}\\right) \\{ u, v \\}\\)</html>"
      ],
      "text/latex": [
       "$\\displaystyle \\newcommand{\\Bold}[1]{\\mathbf{#1}}\\left(\\Bold{Q}[x], \\frac{d}{dx}\\right) \\{ u, v \\}$"
      ],
      "text/plain": [
       "Ring of operator polynomials in (u, v) over Differential Ring [[Univariate Polynomial Ring in x over Rational Field], (d/dx,)]"
      ]
     },
     "execution_count": 6,
     "metadata": {},
     "output_type": "execute_result"
    }
   ],
   "source": [
    "DQ_x_uv.<u,v> = DPolynomialRing(DQ_x); x = DQ_x('x')\n",
    "DQ_x_uv"
   ]
  },
  {
   "cell_type": "code",
   "execution_count": 7,
   "id": "2cb89a98-bd68-414d-b660-834576e5e6d0",
   "metadata": {},
   "outputs": [
    {
     "data": {
      "text/html": [
       "<html>\\(\\displaystyle x u_{2} + 2 u_{1}\\)</html>"
      ],
      "text/latex": [
       "$\\displaystyle x u_{2} + 2 u_{1}$"
      ],
      "text/plain": [
       "x*u_2 + 2*u_1"
      ]
     },
     "execution_count": 7,
     "metadata": {},
     "output_type": "execute_result"
    }
   ],
   "source": [
    "## It inherits the derivative over DQ_x\n",
    "(u + x*u[1]).derivative()"
   ]
  },
  {
   "cell_type": "code",
   "execution_count": 8,
   "id": "df9c737c-e21a-4969-b26e-973286757747",
   "metadata": {},
   "outputs": [
    {
     "data": {
      "text/html": [
       "<html>\\(\\displaystyle 1 u_{20}\\)</html>"
      ],
      "text/latex": [
       "$\\displaystyle 1 u_{20}$"
      ],
      "text/plain": [
       "u_20"
      ]
     },
     "execution_count": 8,
     "metadata": {},
     "output_type": "execute_result"
    }
   ],
   "source": [
    "## Derivating simply increases the index\n",
    "u[0].derivative(times=20)"
   ]
  },
  {
   "cell_type": "code",
   "execution_count": 9,
   "id": "a8470981-ee24-42ac-87a8-4bd3717f8392",
   "metadata": {},
   "outputs": [
    {
     "data": {
      "text/html": [
       "<html>\\(\\displaystyle \\mathrm{True}\\)</html>"
      ],
      "text/latex": [
       "$\\displaystyle \\mathrm{True}$"
      ],
      "text/plain": [
       "True"
      ]
     },
     "execution_count": 9,
     "metadata": {},
     "output_type": "execute_result"
    }
   ],
   "source": [
    "## Leibniz rule\n",
    "(u*v).derivative() == (u*v[1] + v*u[1])"
   ]
  },
  {
   "cell_type": "markdown",
   "id": "6084334c-66b8-4f5d-9377-0a67cdfc8e72",
   "metadata": {},
   "source": [
    "#### Difference ring of polynomials"
   ]
  },
  {
   "cell_type": "code",
   "execution_count": 10,
   "id": "2eda5c1b-ff97-4b33-adae-01d1b35d43b4",
   "metadata": {},
   "outputs": [
    {
     "data": {
      "text/html": [
       "<html>\\(\\displaystyle \\newcommand{\\Bold}[1]{\\mathbf{#1}}\\left(\\Bold{Q}[e, e_{x}], \\sigma\\left(e \\mapsto e, e_{x} \\mapsto e e_{x}\\right)\\right) \\{ y, z \\}\\)</html>"
      ],
      "text/latex": [
       "$\\displaystyle \\newcommand{\\Bold}[1]{\\mathbf{#1}}\\left(\\Bold{Q}[e, e_{x}], \\sigma\\left(e \\mapsto e, e_{x} \\mapsto e e_{x}\\right)\\right) \\{ y, z \\}$"
      ],
      "text/plain": [
       "Ring of operator polynomials in (y, z) over Difference Ring [[Multivariate Polynomial Ring in e, e_x over Rational Field], (Hom({e: e, e_x: e*e_x}),)]"
      ]
     },
     "execution_count": 10,
     "metadata": {},
     "output_type": "execute_result"
    }
   ],
   "source": [
    "SQ_ex_yz.<y,z> = DPolynomialRing(SQ_ex); e, e_x = SQ_ex.gens()\n",
    "SQ_ex_yz"
   ]
  },
  {
   "cell_type": "code",
   "execution_count": 11,
   "id": "4ef5499c-365f-471e-b40c-e733d54fb75f",
   "metadata": {},
   "outputs": [
    {
     "data": {
      "text/html": [
       "<html>\\(\\displaystyle e y_{1} + \\left(e e_{x}\\right) z_{2}\\)</html>"
      ],
      "text/latex": [
       "$\\displaystyle e y_{1} + \\left(e e_{x}\\right) z_{2}$"
      ],
      "text/plain": [
       "e*y_1 + e*e_x*z_2"
      ]
     },
     "execution_count": 11,
     "metadata": {},
     "output_type": "execute_result"
    }
   ],
   "source": [
    "## It inherits the shift over DQ_x\n",
    "(e*y[0] + z[1]*e_x).shift()"
   ]
  },
  {
   "cell_type": "code",
   "execution_count": 12,
   "id": "6892e0aa-afab-4f8d-ba6e-ca00443d61a3",
   "metadata": {},
   "outputs": [
    {
     "data": {
      "text/html": [
       "<html>\\(\\displaystyle 1 z_{20}\\)</html>"
      ],
      "text/latex": [
       "$\\displaystyle 1 z_{20}$"
      ],
      "text/plain": [
       "z_20"
      ]
     },
     "execution_count": 12,
     "metadata": {},
     "output_type": "execute_result"
    }
   ],
   "source": [
    "## Computing the shift simply increases the index\n",
    "z[0].shift(times=20)"
   ]
  },
  {
   "cell_type": "code",
   "execution_count": 13,
   "id": "ccf7d522-9f83-4e31-af67-c0855d3c8e79",
   "metadata": {},
   "outputs": [
    {
     "data": {
      "text/html": [
       "<html>\\(\\displaystyle \\mathrm{True}\\)</html>"
      ],
      "text/latex": [
       "$\\displaystyle \\mathrm{True}$"
      ],
      "text/plain": [
       "True"
      ]
     },
     "execution_count": 13,
     "metadata": {},
     "output_type": "execute_result"
    }
   ],
   "source": [
    "## The shift is a ring homomorphism\n",
    "(y*z).shift() == y[1]*z[1]"
   ]
  },
  {
   "cell_type": "markdown",
   "id": "3f4d2a06-5de1-47df-8f48-409170ae2bc5",
   "metadata": {},
   "source": [
    "#### Difference-Differential polynomials"
   ]
  },
  {
   "cell_type": "code",
   "execution_count": 14,
   "id": "a7082195-0cf8-4e1c-9b16-cd4fae0194f6",
   "metadata": {},
   "outputs": [
    {
     "data": {
      "text/html": [
       "<html>\\(\\displaystyle \\newcommand{\\Bold}[1]{\\mathbf{#1}}\\left(\\Bold{Q}[x, e, e_{x}], \\left(\\frac{d}{dx} + e_x \\frac{d}{de_{x}}, \\sigma\\left(x \\mapsto x + 1, e \\mapsto e, e_{x} \\mapsto e e_{x}\\right)\\right)\\right) \\{ u, v \\}\\)</html>"
      ],
      "text/latex": [
       "$\\displaystyle \\newcommand{\\Bold}[1]{\\mathbf{#1}}\\left(\\Bold{Q}[x, e, e_{x}], \\left(\\frac{d}{dx} + e_x \\frac{d}{de_{x}}, \\sigma\\left(x \\mapsto x + 1, e \\mapsto e, e_{x} \\mapsto e e_{x}\\right)\\right)\\right) \\{ u, v \\}$"
      ],
      "text/plain": [
       "Ring of operator polynomials in (u, v) over Ring [[Multivariate Polynomial Ring in x, e, e_x over Rational Field], (d/dx + e_x*d/de_x, Hom({x: x + 1, e: e, e_x: e*e_x}))]"
      ]
     },
     "execution_count": 14,
     "metadata": {},
     "output_type": "execute_result"
    }
   ],
   "source": [
    "SDQ_ex_uv.<u,v> = DPolynomialRing(SDQ_ex); x, e, e_x = SDQ_ex.gens()\n",
    "SDQ_ex_uv"
   ]
  },
  {
   "cell_type": "code",
   "execution_count": 15,
   "id": "edadd05e-897b-4e1e-841e-d7c37814ed00",
   "metadata": {},
   "outputs": [
    {
     "data": {
      "text/html": [
       "<html>\\(\\displaystyle 1 u_{(0, 0)}\\)</html>"
      ],
      "text/latex": [
       "$\\displaystyle 1 u_{(0, 0)}$"
      ],
      "text/plain": [
       "u_0_0"
      ]
     },
     "execution_count": 15,
     "metadata": {},
     "output_type": "execute_result"
    }
   ],
   "source": [
    "# Now we have 2 indices: one for each operator\n",
    "u[0,0]"
   ]
  },
  {
   "cell_type": "code",
   "execution_count": 16,
   "id": "5237d013-8760-4114-a4b9-2d269953373a",
   "metadata": {},
   "outputs": [
    {
     "data": {
      "text/html": [
       "<html>\\(\\displaystyle \\left(1 u_{(1, 0)}, 1 u_{(0, 1)}\\right)\\)</html>"
      ],
      "text/latex": [
       "$\\displaystyle \\left(1 u_{(1, 0)}, 1 u_{(0, 1)}\\right)$"
      ],
      "text/plain": [
       "(u_1_0, u_0_1)"
      ]
     },
     "execution_count": 16,
     "metadata": {},
     "output_type": "execute_result"
    }
   ],
   "source": [
    "# Applying each operation in any order just increase the indices accordingly\n",
    "u[0,0].derivative(), u[0,0].shift()"
   ]
  },
  {
   "cell_type": "code",
   "execution_count": 17,
   "id": "3ff59fab-0e65-44dc-ac27-98f49198d0de",
   "metadata": {},
   "outputs": [
    {
     "data": {
      "text/html": [
       "<html>\\(\\displaystyle 1 u_{(7, 5)}\\)</html>"
      ],
      "text/latex": [
       "$\\displaystyle 1 u_{(7, 5)}$"
      ],
      "text/plain": [
       "u_7_5"
      ]
     },
     "execution_count": 17,
     "metadata": {},
     "output_type": "execute_result"
    }
   ],
   "source": [
    "u[0,0].derivative(times=5).shift(times=5).derivative(times=2)"
   ]
  },
  {
   "cell_type": "code",
   "execution_count": 18,
   "id": "acd16537-e37f-4ed5-88a9-c66ec5d7f8b6",
   "metadata": {},
   "outputs": [
    {
     "data": {
      "text/html": [
       "<html>\\(\\displaystyle \\verb|element:| e_{x} u_{(0, 0)} + \\left(x e\\right) v_{(0, 0)}\\)</html>"
      ],
      "text/latex": [
       "$\\displaystyle \\verb|element:| e_{x} u_{(0, 0)} + \\left(x e\\right) v_{(0, 0)}$"
      ],
      "text/plain": [
       "'element: ' e_x*u_0_0 + x*e*v_0_0"
      ]
     },
     "metadata": {},
     "output_type": "display_data"
    },
    {
     "data": {
      "text/html": [
       "<html>\\(\\displaystyle \\verb|derivative:| e_{x} u_{(1, 0)} + e_{x} u_{(0, 0)} + \\left(x e\\right) v_{(1, 0)} + e v_{(0, 0)}\\)</html>"
      ],
      "text/latex": [
       "$\\displaystyle \\verb|derivative:| e_{x} u_{(1, 0)} + e_{x} u_{(0, 0)} + \\left(x e\\right) v_{(1, 0)} + e v_{(0, 0)}$"
      ],
      "text/plain": [
       "'derivative: ' e_x*u_1_0 + e_x*u_0_0 + x*e*v_1_0 + e*v_0_0"
      ]
     },
     "metadata": {},
     "output_type": "display_data"
    },
    {
     "data": {
      "text/html": [
       "<html>\\(\\displaystyle \\verb|shift:| \\left(e e_{x}\\right) u_{(0, 1)} + \\left(x e + e\\right) v_{(0, 1)}\\)</html>"
      ],
      "text/latex": [
       "$\\displaystyle \\verb|shift:| \\left(e e_{x}\\right) u_{(0, 1)} + \\left(x e + e\\right) v_{(0, 1)}$"
      ],
      "text/plain": [
       "'shift: ' e*e_x*u_0_1 + (x*e + e)*v_0_1"
      ]
     },
     "metadata": {},
     "output_type": "display_data"
    },
    {
     "data": {
      "text/html": [
       "<html>\\(\\displaystyle \\verb|der-shift:| \\left(e e_{x}\\right) u_{(1, 1)} + \\left(e e_{x}\\right) u_{(0, 1)} + \\left(x e + e\\right) v_{(1, 1)} + e v_{(0, 1)}\\)</html>"
      ],
      "text/latex": [
       "$\\displaystyle \\verb|der-shift:| \\left(e e_{x}\\right) u_{(1, 1)} + \\left(e e_{x}\\right) u_{(0, 1)} + \\left(x e + e\\right) v_{(1, 1)} + e v_{(0, 1)}$"
      ],
      "text/plain": [
       "'der-shift: ' e*e_x*u_1_1 + e*e_x*u_0_1 + (x*e + e)*v_1_1 + e*v_0_1"
      ]
     },
     "metadata": {},
     "output_type": "display_data"
    }
   ],
   "source": [
    "## Now, all properties are inherited\n",
    "element = u*e_x + v*e*x\n",
    "show(\"element: \", element)\n",
    "show(\"derivative: \", element.derivative())\n",
    "show(\"shift: \", element.shift())\n",
    "show(\"der-shift: \", element.derivative().shift())"
   ]
  },
  {
   "cell_type": "markdown",
   "id": "80764b65-e7f1-4cd8-9396-58adf5a9efe0",
   "metadata": {
    "tags": []
   },
   "source": [
    "## **2. Systems of difference/differential polynomials.**"
   ]
  },
  {
   "cell_type": "markdown",
   "id": "4214cfd7-5bf1-4a71-9695-46c969a9b842",
   "metadata": {},
   "source": [
    "### 2.1 Creation of the systems: determining important variables"
   ]
  },
  {
   "cell_type": "markdown",
   "id": "53a75521-55be-4b29-8792-9990eb767c1c",
   "metadata": {
    "tags": []
   },
   "source": [
    "### 2.1 Eliminating variables: Difference resultants and Differential resultants"
   ]
  },
  {
   "cell_type": "code",
   "execution_count": null,
   "id": "9ba9de0d-3183-4f27-b595-4f2c34e04afe",
   "metadata": {},
   "outputs": [],
   "source": []
  },
  {
   "cell_type": "markdown",
   "id": "2ad0ca44-b6c7-458a-9556-94d35eb6cd22",
   "metadata": {
    "tags": []
   },
   "source": [
    "## **3. Applications**"
   ]
  },
  {
   "cell_type": "markdown",
   "id": "1ec1d068-2cbd-488c-97c4-1f458733fd5a",
   "metadata": {
    "jp-MarkdownHeadingCollapsed": true,
    "tags": []
   },
   "source": [
    "### 3.1 Equations for commuting operators"
   ]
  },
  {
   "cell_type": "markdown",
   "id": "3b850787-ce68-4064-a7a8-b029e2abdc30",
   "metadata": {},
   "source": [
    "In (add references) the authors study how to compute commuting operators for a linear differential operator $L = \\partial^2 + u$ for an arbitrary differential function $u$. More precisely, given an operator\n",
    "$$P_m = \\partial^m + p_{m,2}\\partial^{m-2} + \\ldots + p_{m,m-1}\\partial + p_{m,m},$$\n",
    "what are the values for $u$ and $p_{m,*}$ to obtain an operator $P_m$ that commute with $L$, i.e., $[L,P] = LP_m - P_mL = 0$."
   ]
  },
  {
   "cell_type": "markdown",
   "id": "072aaa72-3d49-4ae9-a7fd-ab43516f61c5",
   "metadata": {},
   "source": [
    "This is a problem we can solve using this software. As a demonstration, let us fix $m = 5$. We can then create the operators $L$ and $P$ generically:"
   ]
  },
  {
   "cell_type": "code",
   "execution_count": 27,
   "id": "d3a39e68-4bb9-4382-bf82-4380c3b720f2",
   "metadata": {},
   "outputs": [
    {
     "data": {
      "text/html": [
       "<html>\\(\\displaystyle \\verb|L:| 1 u_{0} z_{0} + 1 z_{2}\\)</html>"
      ],
      "text/latex": [
       "$\\displaystyle \\verb|L:| 1 u_{0} z_{0} + 1 z_{2}$"
      ],
      "text/plain": [
       "'L:' u_0*z_0 + z_2"
      ]
     },
     "metadata": {},
     "output_type": "display_data"
    },
    {
     "data": {
      "text/html": [
       "<html>\\(\\displaystyle \\verb|P:| 1 \\mathit{p2}_{0} z_{3} + 1 \\mathit{p3}_{0} z_{2} + 1 \\mathit{p4}_{0} z_{1} + 1 \\mathit{p5}_{0} z_{0} + 1 z_{5}\\)</html>"
      ],
      "text/latex": [
       "$\\displaystyle \\verb|P:| 1 \\mathit{p2}_{0} z_{3} + 1 \\mathit{p3}_{0} z_{2} + 1 \\mathit{p4}_{0} z_{1} + 1 \\mathit{p5}_{0} z_{0} + 1 z_{5}$"
      ],
      "text/plain": [
       "'P:' p2_0*z_3 + p3_0*z_2 + p4_0*z_1 + p5_0*z_0 + z_5"
      ]
     },
     "metadata": {},
     "output_type": "display_data"
    }
   ],
   "source": [
    "B = DifferentialRing(QQ)\n",
    "R.<p2,p3,p4,p5,u,z> = DPolynomialRing(B)\n",
    "L = z[2] + u*z\n",
    "P = z[5] + p2*z[3] + p3*z[2] + p4*z[1] + p5*z\n",
    "show(\"L:\", L)\n",
    "show(\"P:\", P)"
   ]
  },
  {
   "cell_type": "markdown",
   "id": "4191a3ee-c337-464c-9d4f-051693848c63",
   "metadata": {},
   "source": [
    "The commutator $[L,P]$ can be computed by evaluating the polynomials:"
   ]
  },
  {
   "cell_type": "code",
   "execution_count": 29,
   "id": "6b38b735-da71-4bb5-9b1e-3e527bb7b6ce",
   "metadata": {},
   "outputs": [],
   "source": [
    "C = L(z=P) - P(z=L)"
   ]
  },
  {
   "cell_type": "markdown",
   "id": "ab334b8e-9a96-47d0-8e6b-1aa77337025a",
   "metadata": {},
   "source": [
    "The coefficients can be get for different orders of $z$:"
   ]
  },
  {
   "cell_type": "code",
   "execution_count": 31,
   "id": "a3c75d15-ddf4-43ca-ad3f-b0ace603516e",
   "metadata": {},
   "outputs": [
    {
     "data": {
      "text/html": [
       "<html>\\(\\displaystyle \\verb|coefficient|\\verb| |\\verb|of|\\verb| |\\verb|z^(0):| -\\mathit{p2}_{0} u_{3} - \\mathit{p3}_{0} u_{2} - \\mathit{p4}_{0} u_{1} + 1 \\mathit{p5}_{2} - u_{5}\\)</html>"
      ],
      "text/latex": [
       "$\\displaystyle \\verb|coefficient|\\verb| |\\verb|of|\\verb| |\\verb|z^(0):| -\\mathit{p2}_{0} u_{3} - \\mathit{p3}_{0} u_{2} - \\mathit{p4}_{0} u_{1} + 1 \\mathit{p5}_{2} - u_{5}$"
      ],
      "text/plain": [
       "'coefficient of z^(0):' -p2_0*u_3 - p3_0*u_2 - p4_0*u_1 + p5_2 - u_5"
      ]
     },
     "metadata": {},
     "output_type": "display_data"
    },
    {
     "data": {
      "text/html": [
       "<html>\\(\\displaystyle \\verb|coefficient|\\verb| |\\verb|of|\\verb| |\\verb|z^(1):| \\left(-3\\right) \\mathit{p2}_{0} u_{2} + \\left(-2\\right) \\mathit{p3}_{0} u_{1} + 1 \\mathit{p4}_{2} + 2 \\mathit{p5}_{1} + \\left(-5\\right) u_{4}\\)</html>"
      ],
      "text/latex": [
       "$\\displaystyle \\verb|coefficient|\\verb| |\\verb|of|\\verb| |\\verb|z^(1):| \\left(-3\\right) \\mathit{p2}_{0} u_{2} + \\left(-2\\right) \\mathit{p3}_{0} u_{1} + 1 \\mathit{p4}_{2} + 2 \\mathit{p5}_{1} + \\left(-5\\right) u_{4}$"
      ],
      "text/plain": [
       "'coefficient of z^(1):' (-3)*p2_0*u_2 + (-2)*p3_0*u_1 + p4_2 + 2*p5_1 + (-5)*u_4"
      ]
     },
     "metadata": {},
     "output_type": "display_data"
    },
    {
     "data": {
      "text/html": [
       "<html>\\(\\displaystyle \\verb|coefficient|\\verb| |\\verb|of|\\verb| |\\verb|z^(2):| \\left(-3\\right) \\mathit{p2}_{0} u_{1} + 1 \\mathit{p3}_{2} + 2 \\mathit{p4}_{1} + \\left(-10\\right) u_{3}\\)</html>"
      ],
      "text/latex": [
       "$\\displaystyle \\verb|coefficient|\\verb| |\\verb|of|\\verb| |\\verb|z^(2):| \\left(-3\\right) \\mathit{p2}_{0} u_{1} + 1 \\mathit{p3}_{2} + 2 \\mathit{p4}_{1} + \\left(-10\\right) u_{3}$"
      ],
      "text/plain": [
       "'coefficient of z^(2):' (-3)*p2_0*u_1 + p3_2 + 2*p4_1 + (-10)*u_3"
      ]
     },
     "metadata": {},
     "output_type": "display_data"
    },
    {
     "data": {
      "text/html": [
       "<html>\\(\\displaystyle \\verb|coefficient|\\verb| |\\verb|of|\\verb| |\\verb|z^(3):| 1 \\mathit{p2}_{2} + 2 \\mathit{p3}_{1} + \\left(-10\\right) u_{2}\\)</html>"
      ],
      "text/latex": [
       "$\\displaystyle \\verb|coefficient|\\verb| |\\verb|of|\\verb| |\\verb|z^(3):| 1 \\mathit{p2}_{2} + 2 \\mathit{p3}_{1} + \\left(-10\\right) u_{2}$"
      ],
      "text/plain": [
       "'coefficient of z^(3):' p2_2 + 2*p3_1 + (-10)*u_2"
      ]
     },
     "metadata": {},
     "output_type": "display_data"
    },
    {
     "data": {
      "text/html": [
       "<html>\\(\\displaystyle \\verb|coefficient|\\verb| |\\verb|of|\\verb| |\\verb|z^(4):| 2 \\mathit{p2}_{1} + \\left(-5\\right) u_{1}\\)</html>"
      ],
      "text/latex": [
       "$\\displaystyle \\verb|coefficient|\\verb| |\\verb|of|\\verb| |\\verb|z^(4):| 2 \\mathit{p2}_{1} + \\left(-5\\right) u_{1}$"
      ],
      "text/plain": [
       "'coefficient of z^(4):' 2*p2_1 + (-5)*u_1"
      ]
     },
     "metadata": {},
     "output_type": "display_data"
    }
   ],
   "source": [
    "for i in range(C.order(z)+1):\n",
    "    show(f\"coefficient of z^({i}):\", C.coefficient(z[i]))"
   ]
  },
  {
   "cell_type": "markdown",
   "id": "738d8fef-86d1-4fbb-901d-d8ad732832e4",
   "metadata": {},
   "source": [
    "We can observe from this set of coefficients that we can compute the values for $p_2,p_3,p_4,p_5$ from the for last coefficients. We can solve the system using the class `DSystem`:"
   ]
  },
  {
   "cell_type": "code",
   "execution_count": 33,
   "id": "bc79cc6a-9756-4783-bf30-8e45028d1d58",
   "metadata": {},
   "outputs": [
    {
     "data": {
      "text/html": [
       "<html>\\(\\displaystyle \\newcommand{\\Bold}[1]{\\mathbf{#1}}\\text{System over } \\left(\\Bold{Q}, 0\\right) \\{ p2, p3, p4, p5, u, z \\} \\text{ with variables } \\mathit{p2}_{\\ast}, \\mathit{p3}_{\\ast}, \\mathit{p4}_{\\ast}, \\mathit{p5}_{\\ast} :\n",
       "\n",
       " \\left\\{\\begin{array}{ll} \\left(-3\\right) \\mathit{p2}_{0} u_{2} + \\left(-2\\right) \\mathit{p3}_{0} u_{1} + 1 \\mathit{p4}_{2} + 2 \\mathit{p5}_{1} + \\left(-5\\right) u_{4} & = 0 \\\\\n",
       "\\left(-3\\right) \\mathit{p2}_{0} u_{1} + 1 \\mathit{p3}_{2} + 2 \\mathit{p4}_{1} + \\left(-10\\right) u_{3} & = 0 \\\\\n",
       "1 \\mathit{p2}_{2} + 2 \\mathit{p3}_{1} + \\left(-10\\right) u_{2} & = 0 \\\\\n",
       "2 \\mathit{p2}_{1} + \\left(-5\\right) u_{1} & = 0 \\\\ \n",
       "\\end{array}\\right.\\)</html>"
      ],
      "text/latex": [
       "$\\displaystyle \\newcommand{\\Bold}[1]{\\mathbf{#1}}\\text{System over } \\left(\\Bold{Q}, 0\\right) \\{ p2, p3, p4, p5, u, z \\} \\text{ with variables } \\mathit{p2}_{\\ast}, \\mathit{p3}_{\\ast}, \\mathit{p4}_{\\ast}, \\mathit{p5}_{\\ast} :\n",
       "\n",
       " \\left\\{\\begin{array}{ll} \\left(-3\\right) \\mathit{p2}_{0} u_{2} + \\left(-2\\right) \\mathit{p3}_{0} u_{1} + 1 \\mathit{p4}_{2} + 2 \\mathit{p5}_{1} + \\left(-5\\right) u_{4} & = 0 \\\\\n",
       "\\left(-3\\right) \\mathit{p2}_{0} u_{1} + 1 \\mathit{p3}_{2} + 2 \\mathit{p4}_{1} + \\left(-10\\right) u_{3} & = 0 \\\\\n",
       "1 \\mathit{p2}_{2} + 2 \\mathit{p3}_{1} + \\left(-10\\right) u_{2} & = 0 \\\\\n",
       "2 \\mathit{p2}_{1} + \\left(-5\\right) u_{1} & = 0 \\\\ \n",
       "\\end{array}\\right.$"
      ],
      "text/plain": [
       "System over [Ring of operator polynomials in (p2, p3, p4, p5, u, z) over Differential Ring [[Rational Field], (0,)]] with variables [(p2_*, p3_*, p4_*, p5_*)]:\n",
       "{\n",
       "\t(-3)*p2_0*u_2 + (-2)*p3_0*u_1 + p4_2 + 2*p5_1 + (-5)*u_4 == 0\n",
       "\t(-3)*p2_0*u_1 + p3_2 + 2*p4_1 + (-10)*u_3 == 0\n",
       "\tp2_2 + 2*p3_1 + (-10)*u_2 == 0\n",
       "\t2*p2_1 + (-5)*u_1 == 0\n",
       "}"
      ]
     },
     "execution_count": 33,
     "metadata": {},
     "output_type": "execute_result"
    }
   ],
   "source": [
    "system = DSystem([C.coefficient(z[i]) for i in range(1, C.order(z)+1)], variables=[p2,p3,p4,p5])\n",
    "system"
   ]
  },
  {
   "cell_type": "code",
   "execution_count": 35,
   "id": "e2335730-e4d1-48c9-981b-b90b7f727871",
   "metadata": {},
   "outputs": [
    {
     "data": {
      "text/html": [
       "<html>\\(\\displaystyle \\left\\{\\mathit{p2}_{\\ast} : \\frac{5}{2} u_{0}, \\mathit{p3}_{\\ast} : \\frac{15}{4} u_{1}, \\mathit{p4}_{\\ast} : \\frac{15}{8} u_{0}^{2} + \\frac{25}{8} u_{2}, \\mathit{p5}_{\\ast} : \\frac{15}{8} u_{1} u_{0} + \\frac{15}{16} u_{3}\\right\\}\\)</html>"
      ],
      "text/latex": [
       "$\\displaystyle \\left\\{\\mathit{p2}_{\\ast} : \\frac{5}{2} u_{0}, \\mathit{p3}_{\\ast} : \\frac{15}{4} u_{1}, \\mathit{p4}_{\\ast} : \\frac{15}{8} u_{0}^{2} + \\frac{25}{8} u_{2}, \\mathit{p5}_{\\ast} : \\frac{15}{8} u_{1} u_{0} + \\frac{15}{16} u_{3}\\right\\}$"
      ],
      "text/plain": [
       "{p2_*: 5/2*u_0,\n",
       " p3_*: 15/4*u_1,\n",
       " p4_*: 15/8*u_0^2 + 25/8*u_2,\n",
       " p5_*: 15/8*u_1*u_0 + 15/16*u_3}"
      ]
     },
     "execution_count": 35,
     "metadata": {},
     "output_type": "execute_result"
    }
   ],
   "source": [
    "sols = system.solve_linear()\n",
    "sols"
   ]
  },
  {
   "cell_type": "markdown",
   "id": "0ff70fd2-080f-49d1-a48e-8069307106a5",
   "metadata": {},
   "source": [
    "Hence, the value for $P$ is fixed when given the value of $u$. However, we have no guarantee that $L$ and $P$ commute. In fact, there is one remaining equation that provides a condition for $u$:"
   ]
  },
  {
   "cell_type": "code",
   "execution_count": 37,
   "id": "45216227-3f74-451c-a79b-d303a2ff7033",
   "metadata": {},
   "outputs": [
    {
     "data": {
      "text/html": [
       "<html>\\(\\displaystyle \\left(-\\frac{15}{8}\\right) u_{1} u_{0}^{2} + \\left(-\\frac{5}{8}\\right) u_{3} u_{0} + \\left(-\\frac{5}{4}\\right) u_{2} u_{1} + \\left(-\\frac{1}{16}\\right) u_{5}\\)</html>"
      ],
      "text/latex": [
       "$\\displaystyle \\left(-\\frac{15}{8}\\right) u_{1} u_{0}^{2} + \\left(-\\frac{5}{8}\\right) u_{3} u_{0} + \\left(-\\frac{5}{4}\\right) u_{2} u_{1} + \\left(-\\frac{1}{16}\\right) u_{5}$"
      ],
      "text/plain": [
       "(-15/8)*u_1*u_0^2 + (-5/8)*u_3*u_0 + (-5/4)*u_2*u_1 + (-1/16)*u_5"
      ]
     },
     "execution_count": 37,
     "metadata": {},
     "output_type": "execute_result"
    }
   ],
   "source": [
    "equation_for_u = C.coefficient(z[0])(dic=sols)\n",
    "equation_for_u"
   ]
  },
  {
   "cell_type": "markdown",
   "id": "714ec9f1-375a-4237-979d-97860e6c486c",
   "metadata": {},
   "source": [
    "Solving this equation is a **hard** problem (in general). But for this specific case, we can find a rational solution in $\\mathbb{Q}(x)$:"
   ]
  },
  {
   "cell_type": "code",
   "execution_count": 41,
   "id": "9ddc1bc2-cc01-4c83-92e5-af5118c9b8ec",
   "metadata": {},
   "outputs": [
    {
     "data": {
      "text/html": [
       "<html>\\(\\displaystyle \\verb|solution:| \\frac{-2}{x^{2}}\\)</html>"
      ],
      "text/latex": [
       "$\\displaystyle \\verb|solution:| \\frac{-2}{x^{2}}$"
      ],
      "text/plain": [
       "'solution: ' (-2)/x^2"
      ]
     },
     "metadata": {},
     "output_type": "display_data"
    },
    {
     "data": {
      "text/html": [
       "<html>\\(\\displaystyle 0\\)</html>"
      ],
      "text/latex": [
       "$\\displaystyle 0$"
      ],
      "text/plain": [
       "0"
      ]
     },
     "execution_count": 41,
     "metadata": {},
     "output_type": "execute_result"
    }
   ],
   "source": [
    "x = DQ_x('x')\n",
    "solution = -2/x^2\n",
    "show(\"solution: \", solution)\n",
    "equation_for_u(u=solution)"
   ]
  },
  {
   "cell_type": "markdown",
   "id": "68ad5865-a185-495a-b18d-b010d472a582",
   "metadata": {},
   "source": [
    "We could now build the corresponding specialized version of $L$ and $P$:"
   ]
  },
  {
   "cell_type": "code",
   "execution_count": 55,
   "id": "a96e33e3-312d-4796-b1db-6781d5af10e1",
   "metadata": {},
   "outputs": [
    {
     "data": {
      "text/html": [
       "<html>\\(\\displaystyle \\tilde{L} =  1 z_{2} + \\left(\\frac{-2}{x^{2}}\\right) z_{0}\\)</html>"
      ],
      "text/latex": [
       "$\\displaystyle \\tilde{L} =  1 z_{2} + \\left(\\frac{-2}{x^{2}}\\right) z_{0}$"
      ],
      "text/plain": [
       "\\tilde{L} =  z_2 + ((-2)/x^2)*z_0"
      ]
     },
     "metadata": {},
     "output_type": "display_data"
    },
    {
     "data": {
      "text/html": [
       "<html>\\(\\displaystyle \\tilde{P} =  1 z_{5} + \\left(\\frac{-5}{x^{2}}\\right) z_{3} + \\frac{15}{x^{3}} z_{2} + \\left(\\frac{-30}{x^{4}}\\right) z_{1} + \\frac{30}{x^{5}} z_{0}\\)</html>"
      ],
      "text/latex": [
       "$\\displaystyle \\tilde{P} =  1 z_{5} + \\left(\\frac{-5}{x^{2}}\\right) z_{3} + \\frac{15}{x^{3}} z_{2} + \\left(\\frac{-30}{x^{4}}\\right) z_{1} + \\frac{30}{x^{5}} z_{0}$"
      ],
      "text/plain": [
       "\\tilde{P} =  z_5 + ((-5)/x^2)*z_3 + 15/x^3*z_2 + ((-30)/x^4)*z_1 + 30/x^5*z_0"
      ]
     },
     "metadata": {},
     "output_type": "display_data"
    },
    {
     "data": {
      "text/html": [
       "<html>\\(\\displaystyle [\\tilde{L}, \\tilde{P}] =  0\\)</html>"
      ],
      "text/latex": [
       "$\\displaystyle [\\tilde{L}, \\tilde{P}] =  0$"
      ],
      "text/plain": [
       "[\\tilde{L}, \\tilde{P}] =  0"
      ]
     },
     "metadata": {},
     "output_type": "display_data"
    }
   ],
   "source": [
    "L_sub = L(u=solution)\n",
    "P_sub = P(dic=sols)(u=solution)\n",
    "show(LatexExpr(r\"\\tilde{L} = \"), L_sub)\n",
    "show(LatexExpr(r\"\\tilde{P} = \"), P_sub)\n",
    "show(LatexExpr(r\"[\\tilde{L}, \\tilde{P}] = \"), L_sub(z=P_sub) - P_sub(z=L_sub))"
   ]
  },
  {
   "cell_type": "markdown",
   "id": "71460575-0376-4351-ae96-f83437bbfc28",
   "metadata": {
    "jp-MarkdownHeadingCollapsed": true,
    "tags": []
   },
   "source": [
    "#### Generic implementation\n",
    "\n",
    "A partial problem can be solved for arbitrary orders of $L$ and $P_m$ can be solved within the software using the method `almost_commuting_schr` in `dalgebra.hierarchies`."
   ]
  },
  {
   "cell_type": "code",
   "execution_count": 22,
   "id": "ac939b8a-867c-4bdb-99c0-19aa9ac0ff84",
   "metadata": {},
   "outputs": [
    {
     "data": {
      "text/plain": [
       "\u001b[0;31mSignature:\u001b[0m     \n",
       "\u001b[0malmost_commuting_schr\u001b[0m\u001b[0;34m(\u001b[0m\u001b[0;34m\u001b[0m\n",
       "\u001b[0;34m\u001b[0m    \u001b[0mn\u001b[0m\u001b[0;34m:\u001b[0m \u001b[0mint\u001b[0m\u001b[0;34m,\u001b[0m\u001b[0;34m\u001b[0m\n",
       "\u001b[0;34m\u001b[0m    \u001b[0mm\u001b[0m\u001b[0;34m:\u001b[0m \u001b[0mint\u001b[0m\u001b[0;34m,\u001b[0m\u001b[0;34m\u001b[0m\n",
       "\u001b[0;34m\u001b[0m    \u001b[0mname_u\u001b[0m\u001b[0;34m:\u001b[0m \u001b[0mstr\u001b[0m \u001b[0;34m=\u001b[0m \u001b[0;34m'u'\u001b[0m\u001b[0;34m,\u001b[0m\u001b[0;34m\u001b[0m\n",
       "\u001b[0;34m\u001b[0m    \u001b[0mname_z\u001b[0m\u001b[0;34m:\u001b[0m \u001b[0mstr\u001b[0m \u001b[0;34m=\u001b[0m \u001b[0;34m'z'\u001b[0m\u001b[0;34m,\u001b[0m\u001b[0;34m\u001b[0m\n",
       "\u001b[0;34m\u001b[0m    \u001b[0mmethod\u001b[0m\u001b[0;34m=\u001b[0m\u001b[0;34m'diff'\u001b[0m\u001b[0;34m,\u001b[0m\u001b[0;34m\u001b[0m\n",
       "\u001b[0;34m\u001b[0m\u001b[0;34m)\u001b[0m\u001b[0;34m\u001b[0m\u001b[0;34m\u001b[0m\u001b[0m\n",
       "\u001b[0;31mDocstring:\u001b[0m     \n",
       "   Method to compute an element on the almost-commuting basis.\n",
       "\n",
       "   Let L be a linear differential operator of order n. We say that A\n",
       "   *almost commute with `L`* if ord([L,A]) <= n-2. In general, the\n",
       "   commutator will have order n+m-1 where m is the order of A. Then,\n",
       "   if the commutator has such a low order, we say that it *almost\n",
       "   commute*.\n",
       "\n",
       "   It is easy to see that:\n",
       "\n",
       "   * A almost commuting with L does not imply that L almost commute\n",
       "     with A.\n",
       "\n",
       "   * Let AC(L) the set of almost commuting linear operators. Then\n",
       "     AC(L) is a C-vector space where C is the field of constants of\n",
       "     the differential ring R where L and A are built over.\n",
       "\n",
       "   It was shown by Wilson (TODO: add reference), that for a\n",
       "   Schrödinger type operator L of order n\n",
       "\n",
       "      L_n = \\partial^n + u_{n-2}\\partial^{n-2} + ... + u_1\\partial\n",
       "      + u_0,\n",
       "\n",
       "   there is a unique basis of AC(L_n) generated by a set of operators\n",
       "   \\{P_m\\ :\\ m\\in \\mathbb{N}\\} such that:\n",
       "\n",
       "   * ord(P_m) = m.\n",
       "\n",
       "   * P_m = \\partial^m + p_{m,m-2}\\partial^{m-2} + ... +\n",
       "     p_{m,1}\\partial + p_{m,0}, where p_{m,i} \\in C\\{u_*\\}.\n",
       "\n",
       "   * If we give weights u_i^{(k)} --> n-i+k, then p_{m,j} are\n",
       "     homogeneous of weight m-j.\n",
       "\n",
       "   This method computes, for a given pair or orders n and m the\n",
       "   Wilson's almost commuting base element of order m for the n-th\n",
       "   order Schrödinger operator L_n.\n",
       "\n",
       "   INPUT:\n",
       "\n",
       "   * \"n\": the order of the Schrödinger operator L_n.\n",
       "\n",
       "   * \"m\": the desired order for the almost-commutator.\n",
       "\n",
       "   * \"name_u\" (optional): base name for the u variables that will\n",
       "     appear in L_n and in the output P_m.\n",
       "\n",
       "   * \"name_z\" (optional): base name for the differential variable to\n",
       "     represent \\partial.\n",
       "\n",
       "   * \"method\" (optional): method to decide how to solve the arising\n",
       "     differential system. Currently the methods \"\"diff\"\" (see\n",
       "     \"__almost_commuting_diff()\") and \"\"linear\"\" (see\n",
       "     \"__almost__commuting_linear()\").\n",
       "\n",
       "   OUTPUT:\n",
       "\n",
       "   A pair (P_m, (T_0,...,T_{n-2})) such that P_m is the almost\n",
       "   commutator for the generic L_n and the T_i are such\n",
       "\n",
       "      [L_n, P_m] = T_0 + T_1\\partial + ... + T_{n-2}\\partial^{n-2}\n",
       "\u001b[0;31mInit docstring:\u001b[0m Initialize self.  See help(type(self)) for accurate signature.\n",
       "\u001b[0;31mFile:\u001b[0m           ~/git/dalgebra/dalgebra/hierarchies/hierarchies.py\n",
       "\u001b[0;31mType:\u001b[0m           function\n"
      ]
     },
     "metadata": {},
     "output_type": "display_data"
    }
   ],
   "source": [
    "from dalgebra.hierarchies import almost_commuting_schr\n",
    "almost_commuting_schr?"
   ]
  },
  {
   "cell_type": "markdown",
   "id": "b130a96f-c9fb-459e-8236-79c1cc06d762",
   "metadata": {
    "jp-MarkdownHeadingCollapsed": true,
    "tags": []
   },
   "source": [
    "### 3.2 Parameter identifiability"
   ]
  },
  {
   "cell_type": "markdown",
   "id": "0bdcb0e7-4bb0-4879-a9a5-74a1431c738d",
   "metadata": {},
   "source": [
    "In (add references) the authors study how to solve the parameter identifiability problem, basically considering when, given an output function of a dynamical system, we can identify the values (at least with finitely many possibilities) of the parameters of the system. This problem is in the end reduced to obtain an equation only involving parameters and the output variables and checking the coefficients of these equations."
   ]
  },
  {
   "cell_type": "markdown",
   "id": "729f838f-3104-455d-8a35-36f03c0ec43c",
   "metadata": {},
   "source": [
    "Let us consider the following dynamical system (taken from (add reference)):\n",
    "$$\\left\\{\\begin{array}{rl}\n",
    "    C(n+1) + K_{se}C(n)S(n) + (K_{cp} + K_{rb} - 1)C(n) - I_0K_{se}S(n) & = 0\\\\\n",
    "    S(n+1) - K_{sc}C(n)S(n) - K_{rb}C(n) + (I_0K_{se} - 1)S(n) & = 0\n",
    "\\end{array}\\right.$$\n",
    "\n",
    "where we have two difference equations on the variables $C(n), S(n)$ and the parameters $K_{se}, K_{cp}, K_{rb}, I_0, K_{sc}$.\n",
    "\n",
    "Let us suppose that we can obtain the values for $Y(n) = C(n) + S(n)$, which parameters are still identifiable?"
   ]
  },
  {
   "cell_type": "markdown",
   "id": "cde30cd0-5aba-4ebe-b0f4-ced60423ee7f",
   "metadata": {},
   "source": [
    "To solve this problem we first need to cthe the appropriate difference setting where we have to create the corresponding parameters and the the difference polynomial ring in the variables $C(n), S(n), Y(n)$:"
   ]
  },
  {
   "cell_type": "code",
   "execution_count": 19,
   "id": "09aa23bc-330e-42b3-875c-5bbffcdff9f9",
   "metadata": {},
   "outputs": [
    {
     "data": {
      "text/html": [
       "<html>\\(\\displaystyle \\newcommand{\\Bold}[1]{\\mathbf{#1}}\\verb|base|\\verb| |\\verb|difference|\\verb| |\\verb|ring:| \\left(\\Bold{Q}[I_{0}, K_{\\mathit{cp}}, K_{\\mathit{rb}}, K_{\\mathit{sc}}, K_{\\mathit{se}}], \\text{id}\\right)\\)</html>"
      ],
      "text/latex": [
       "$\\displaystyle \\newcommand{\\Bold}[1]{\\mathbf{#1}}\\verb|base|\\verb| |\\verb|difference|\\verb| |\\verb|ring:| \\left(\\Bold{Q}[I_{0}, K_{\\mathit{cp}}, K_{\\mathit{rb}}, K_{\\mathit{sc}}, K_{\\mathit{se}}], \\text{id}\\right)$"
      ],
      "text/plain": [
       "'base difference ring: ' Difference Ring [[Multivariate Polynomial Ring in I_0, K_cp, K_rb, K_sc, K_se over Rational Field], (Id,)]"
      ]
     },
     "metadata": {},
     "output_type": "display_data"
    },
    {
     "data": {
      "text/html": [
       "<html>\\(\\displaystyle \\newcommand{\\Bold}[1]{\\mathbf{#1}}\\verb|difference|\\verb| |\\verb|polynomial|\\verb| |\\verb|ring:| \\left(\\Bold{Q}[I_{0}, K_{\\mathit{cp}}, K_{\\mathit{rb}}, K_{\\mathit{sc}}, K_{\\mathit{se}}], \\text{id}\\right) \\{ C, S, Y \\}\\)</html>"
      ],
      "text/latex": [
       "$\\displaystyle \\newcommand{\\Bold}[1]{\\mathbf{#1}}\\verb|difference|\\verb| |\\verb|polynomial|\\verb| |\\verb|ring:| \\left(\\Bold{Q}[I_{0}, K_{\\mathit{cp}}, K_{\\mathit{rb}}, K_{\\mathit{sc}}, K_{\\mathit{se}}], \\text{id}\\right) \\{ C, S, Y \\}$"
      ],
      "text/plain": [
       "'difference polynomial ring:' Ring of operator polynomials in (C, S, Y) over Difference Ring [[Multivariate Polynomial Ring in I_0, K_cp, K_rb, K_sc, K_se over Rational Field], (Id,)]"
      ]
     },
     "metadata": {},
     "output_type": "display_data"
    }
   ],
   "source": [
    "B.<I_0, K_cp, K_rb, K_sc, K_se> = QQ[]\n",
    "SB = DifferenceRing(B)\n",
    "show(\"base difference ring: \", SB)\n",
    "R.<C,S,Y> = DPolynomialRing(SB)\n",
    "show(\"difference polynomial ring:\", R)"
   ]
  },
  {
   "cell_type": "markdown",
   "id": "026e4bcc-e846-4ab6-8645-6b0a55a56601",
   "metadata": {},
   "source": [
    "Then, we need to create the system described above that also sets the identity $Y(n) = C(n) + S(n)$. Since we want then to eliminate the variables $S(n)$ and $C(n)$, we set them as variables of the system:"
   ]
  },
  {
   "cell_type": "code",
   "execution_count": 20,
   "id": "c1326506-a85e-4136-886f-a5b51f8d6a8f",
   "metadata": {},
   "outputs": [
    {
     "data": {
      "text/html": [
       "<html>\\(\\displaystyle \\newcommand{\\Bold}[1]{\\mathbf{#1}}\\text{System over } \\left(\\Bold{Q}[I_{0}, K_{\\mathit{cp}}, K_{\\mathit{rb}}, K_{\\mathit{sc}}, K_{\\mathit{se}}], \\text{id}\\right) \\{ C, S, Y \\} \\text{ with variables } S_{\\ast}, C_{\\ast} :\n",
       "\n",
       " \\left\\{\\begin{array}{ll} K_{\\mathit{se}} C_{0} S_{0} + 1 C_{1} + \\left(K_{\\mathit{cp}} + K_{\\mathit{rb}} - 1\\right) C_{0} + \\left(-I_{0} K_{\\mathit{se}}\\right) S_{0} & = 0 \\\\\n",
       "\\left(-K_{\\mathit{sc}}\\right) C_{0} S_{0} + \\left(-K_{\\mathit{rb}}\\right) C_{0} + 1 S_{1} + \\left(I_{0} K_{\\mathit{se}} - 1\\right) S_{0} & = 0 \\\\\n",
       "-C_{0} - S_{0} + 1 Y_{0} & = 0 \\\\ \n",
       "\\end{array}\\right.\\)</html>"
      ],
      "text/latex": [
       "$\\displaystyle \\newcommand{\\Bold}[1]{\\mathbf{#1}}\\text{System over } \\left(\\Bold{Q}[I_{0}, K_{\\mathit{cp}}, K_{\\mathit{rb}}, K_{\\mathit{sc}}, K_{\\mathit{se}}], \\text{id}\\right) \\{ C, S, Y \\} \\text{ with variables } S_{\\ast}, C_{\\ast} :\n",
       "\n",
       " \\left\\{\\begin{array}{ll} K_{\\mathit{se}} C_{0} S_{0} + 1 C_{1} + \\left(K_{\\mathit{cp}} + K_{\\mathit{rb}} - 1\\right) C_{0} + \\left(-I_{0} K_{\\mathit{se}}\\right) S_{0} & = 0 \\\\\n",
       "\\left(-K_{\\mathit{sc}}\\right) C_{0} S_{0} + \\left(-K_{\\mathit{rb}}\\right) C_{0} + 1 S_{1} + \\left(I_{0} K_{\\mathit{se}} - 1\\right) S_{0} & = 0 \\\\\n",
       "-C_{0} - S_{0} + 1 Y_{0} & = 0 \\\\ \n",
       "\\end{array}\\right.$"
      ],
      "text/plain": [
       "System over [Ring of operator polynomials in (C, S, Y) over Difference Ring [[Multivariate Polynomial Ring in I_0, K_cp, K_rb, K_sc, K_se over Rational Field], (Id,)]] with variables [(S_*, C_*)]:\n",
       "{\n",
       "\tK_se*C_0*S_0 + C_1 + (K_cp + K_rb - 1)*C_0 + (-I_0*K_se)*S_0 == 0\n",
       "\t(-K_sc)*C_0*S_0 + (-K_rb)*C_0 + S_1 + (I_0*K_se - 1)*S_0 == 0\n",
       "\t-C_0 - S_0 + Y_0 == 0\n",
       "}"
      ]
     },
     "execution_count": 20,
     "metadata": {},
     "output_type": "execute_result"
    }
   ],
   "source": [
    "equation1 = C[1] + K_se*C*S + (K_cp + K_rb - 1)*C - I_0*K_se*S\n",
    "equation2 = S[1] - K_sc*C*S - K_rb*C + (I_0*K_se - 1)*S\n",
    "equation3 = Y - C - S\n",
    "system = DSystem([equation1, equation2, equation3], variables=[S,C])\n",
    "system"
   ]
  },
  {
   "cell_type": "markdown",
   "id": "4a45771d-4631-4dd3-a4b9-06861e6dcc70",
   "metadata": {},
   "source": [
    "The differential resultant allows to compute this elimination:"
   ]
  },
  {
   "cell_type": "code",
   "execution_count": 21,
   "id": "34549431-e408-454c-9ea5-8f98b95fa9f2",
   "metadata": {},
   "outputs": [
    {
     "name": "stdout",
     "output_type": "stream",
     "text": [
      "CPU times: user 499 ms, sys: 127 µs, total: 499 ms\n",
      "Wall time: 498 ms\n"
     ]
    }
   ],
   "source": [
    "%%time\n",
    "res = system.diff_resultant()"
   ]
  },
  {
   "cell_type": "code",
   "execution_count": 66,
   "id": "fe4504b7-9066-444b-96c8-7e62a1eda7c2",
   "metadata": {},
   "outputs": [
    {
     "data": {
      "text/html": [
       "<html>\\(\\displaystyle -1\\)</html>"
      ],
      "text/latex": [
       "$\\displaystyle -1$"
      ],
      "text/plain": [
       "-1"
      ]
     },
     "execution_count": 66,
     "metadata": {},
     "output_type": "execute_result"
    }
   ],
   "source": [
    "res"
   ]
  },
  {
   "cell_type": "markdown",
   "id": "910a47b0-e2e3-4c14-a3ec-c5f7eca61699",
   "metadata": {},
   "source": [
    "And now we are ready to start analyzing the coefficients of this resultant."
   ]
  },
  {
   "cell_type": "markdown",
   "id": "cbbd1b5c-a12f-4771-bd1d-4b6416564a62",
   "metadata": {},
   "source": [
    "## **4. Future work**"
   ]
  },
  {
   "cell_type": "code",
   "execution_count": null,
   "id": "10424417-b80f-44e8-9d9f-dfdba6da7f09",
   "metadata": {},
   "outputs": [],
   "source": []
  }
 ],
 "metadata": {
  "kernelspec": {
   "display_name": "SageMath 9.7",
   "language": "sage",
   "name": "sagemath"
  },
  "language_info": {
   "codemirror_mode": {
    "name": "ipython",
    "version": 3
   },
   "file_extension": ".py",
   "mimetype": "text/x-python",
   "name": "python",
   "nbconvert_exporter": "python",
   "pygments_lexer": "ipython3",
   "version": "3.10.5"
  }
 },
 "nbformat": 4,
 "nbformat_minor": 5
}
