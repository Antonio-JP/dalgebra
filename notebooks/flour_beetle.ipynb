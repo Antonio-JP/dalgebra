{
 "cells": [
  {
   "cell_type": "markdown",
   "metadata": {},
   "source": [
    "# The flour-beetle model\n",
    "\n",
    "In this notebook we are going to work out the way of using the package `dalgebra` to the model depicted in [the Flour-Beetle model](https://www.math.arizona.edu/~cushing/Global%20Stability%20JDEA96.pdf). This model try to understand the evolution of a population of beetles inside the flour, were we count in a discrete way the number of larvae $L_t$, pupal $P_t$ and adult $A_t$ population with the following equations:\n",
    "\n",
    "$$\\left\\{\\begin{array}{ll}\n",
    "    L_{t+1} & = b A_{t} e^{-c_{ea}A_t - c_{el}L_t},\\\\\n",
    "    P_{t+1} & = (1 - \\mu_l)L_t,\\\\\n",
    "    A_{t+1} & = P_t e^{-c_{pa}A_t} + (1-\\mu_a)A_t.\n",
    "\\end{array}\\right.$$\n",
    "\n",
    "In this model we have two types of parameters: the $c$ family ($c_{ea}, c_{el}$ and $c_{pa}$), which appears in the exponents of the exponential functions involved; the parameter $b$ as a multiplier on how the adults put more eggs and the $\\mu$ parameters ($\\mu_l$ and $\\mu_a$), that appear in the $(1-\\mu)$ expressions throughout the linear relations between variables.\n",
    "\n",
    "In total, we get 6 parameters. The natural question of identifiability arises in this case for different output variables.\n",
    "\n",
    "However, we have a crucial issue in this model: the exponential functions. They appear in 2 out of 3 equations and involve 3 out of the 6 parameters. How we represent these exponential will be crucial to understand how to model this system into the `dalgebra` package."
   ]
  },
  {
   "cell_type": "code",
   "execution_count": 1,
   "metadata": {},
   "outputs": [
    {
     "data": {
      "text/html": [
       "<html>\\(\\displaystyle \\newcommand{\\Bold}[1]{\\mathbf{#1}}\\Bold{Q}[c_{\\mathit{ea}}, c_{\\mathit{el}}, c_{\\mathit{pa}}, b, \\mu_{l}, \\mu_{a}]\\)</html>"
      ],
      "text/latex": [
       "$\\displaystyle \\newcommand{\\Bold}[1]{\\mathbf{#1}}\\Bold{Q}[c_{\\mathit{ea}}, c_{\\mathit{el}}, c_{\\mathit{pa}}, b, \\mu_{l}, \\mu_{a}]$"
      ],
      "text/plain": [
       "Multivariate Polynomial Ring in c_ea, c_el, c_pa, b, mu_l, mu_a over Rational Field"
      ]
     },
     "execution_count": 1,
     "metadata": {},
     "output_type": "execute_result"
    }
   ],
   "source": [
    "%display latex\n",
    "from dalgebra import *\n",
    "\n",
    "## we add some lines to do some time control on executions\n",
    "import signal\n",
    "from contextlib import contextmanager\n",
    "\n",
    "\n",
    "@contextmanager\n",
    "def timeout(time):\n",
    "    # Register a function to raise a TimeoutError on the signal.\n",
    "    signal.signal(signal.SIGALRM, raise_timeout)\n",
    "    # Schedule the signal to be sent after ``time``.\n",
    "    signal.alarm(time)\n",
    "\n",
    "    try:\n",
    "        yield\n",
    "    except TimeoutError:\n",
    "        print(f\"Timeout of {time} seconds expired for execution\")\n",
    "    finally:\n",
    "        # Unregister the signal so it won't be triggered\n",
    "        # if the timeout is not reached.\n",
    "        signal.signal(signal.SIGALRM, signal.SIG_IGN)\n",
    "        \n",
    "def raise_timeout(signum, frame):\n",
    "    raise TimeoutError\n",
    "    \n",
    "R.<c_ea, c_el, c_pa, b, mu_l, mu_a> = QQ[]; R # ring for the parameters"
   ]
  },
  {
   "cell_type": "markdown",
   "metadata": {},
   "source": [
    "### 1. Removing the exponentials\n",
    "\n",
    "The first idea to remove the exponentials is to substitute them by a new variable and see how this variables behaves. Let do so by:\n",
    "$$X_t^{(1)} = \\exp\\left(-c_{ea}A_t - c_{el}L_t\\right),$$\n",
    "$$X_t^{(2)} = \\exp\\left(-c_{pa}A_t\\right).$$\n",
    "\n",
    "If we try to apply the shift operator $t \\mapsto t+1$ and use the equations for $A_t$ and $L_t$ we do not get anything good since some double exponentials start appearing. This is why we will (_formally_) consider a new operator: the derivative w.r.t. $t$. We will assume that this operators commutes with the shift we already have.\n",
    "\n",
    "Using this derivation, we obtain the following equations:\n",
    "\n",
    "$$X_t^{(1)'} = -(c_{ea}A_t' + c_{el}L_t') X_t^{(1)}.$$\n",
    "$$X_t^{(2)'} = -c_{pa}A_t'X_t^{(2)}.$$\n",
    "\n",
    "Thanks to this equations, we can eliminate the exponentials that appear in the original system but, at the same time, we will have to work on a difference-differential ring $(R, \\sigma, \\partial)$, which \"complicates\" the extension of the system we need to take to guarantee we can eliminate variables.\n",
    "\n",
    "If we compute the necessary derivatives of our original system we obtain the following system:\n",
    "$$\\left\\{\\begin{array}{ll}\n",
    "    L_{t+1}' & = \\left(b A_{t} X_t^{(1)}\\right)' = \\left(bA_t' - A_t(c_{ea}A_t' + c_{el}L_t')\\right)X_t^{(1)} = \n",
    "        \\displaystyle\\frac{bL_{t+1}A_t' - c_{ea}L_{t+1}A_tA_t' - c_{el}L_{t+1}L_t'A_t}{bA_t}\\\\\n",
    "    P_{t+1} & = (1 - \\mu_l)L_t,\\\\\n",
    "    A_{t+1}' & = \\left(P_t X_t^{(2)} + (1-\\mu_a)A_t\\right)' = \\left(P_t'-c_{pa}A_t'\\right)X_t^{(2)} + (1-\\mu_a)A_t' =\n",
    "    \\displaystyle\\frac{(P_t'- c_{pa}A_t')(A_{t+1} - (1-\\mu_a)A_t)}{P_t} + (1-\\mu_a)A_t'\n",
    "\\end{array}\\right.$$"
   ]
  },
  {
   "cell_type": "markdown",
   "metadata": {},
   "source": [
    "### 2. Removing the variable $L_t$\n",
    "\n",
    "The variable $P_t$ is the only variable we did not need to differentiate to remove exponentials. Moreover, its equation is so simple we can compute things like:\n",
    "\n",
    "$$P_{t+k+1}^{(n)} = (1-\\mu_l)L_{t+k}^{(n)}.$$\n",
    "\n",
    "This allows us to remove completely the variable $L_t$ in the system, since we can always represent it in terms of the $P_t$, obtaining the new system:\n",
    "\n",
    "$$\\left\\{\\begin{array}{ll}\n",
    "    P_{t+2}' & = \\displaystyle\\frac{(1-\\mu_l)(bP_{t+2}A_t' - c_{ea}P_{t+2}A_tA_t' - c_{el}P_{t+2}P_{t+1}'A_t)}{bA_t}\\\\\n",
    "    A_{t+1}' & = \\displaystyle\\frac{(P_t'- c_{pa}A_t')(A_{t+1} - (1-\\mu_a)A_t)}{P_t} + (1-\\mu_a)A_t'\n",
    "\\end{array}\\right.$$\n",
    "\n",
    "At this point we have 2 equations with 2 functions and 2 operators. We can then consider when, for example, is $A_t$ a nice output variable (i.e., whether $P_t$ can be eliminated from the system)."
   ]
  },
  {
   "cell_type": "markdown",
   "metadata": {},
   "source": [
    "### 3. Setting up the system in `dalgebra`\n",
    "\n",
    "Now it is a good moment for trying to put the system into the package `dalgebra`. In the current version of the code, we are not allow to have a difference-differential ring. So we will need to do it in two steps, defining more variables for the shifts of the $A_t$ and $P_t$ and then trying to get the differential structure behind. "
   ]
  },
  {
   "cell_type": "code",
   "execution_count": 2,
   "metadata": {},
   "outputs": [
    {
     "data": {
      "text/html": [
       "<html>\\(\\displaystyle \\newcommand{\\Bold}[1]{\\mathbf{#1}}\\left(\\Bold{Q}[c_{\\mathit{ea}}, c_{\\mathit{el}}, c_{\\mathit{pa}}, b, \\mu_{l}, \\mu_{a}], \\left(0, \\text{id}\\right)\\right) \\{ A, P \\}\\)</html>"
      ],
      "text/latex": [
       "$\\displaystyle \\newcommand{\\Bold}[1]{\\mathbf{#1}}\\left(\\Bold{Q}[c_{\\mathit{ea}}, c_{\\mathit{el}}, c_{\\mathit{pa}}, b, \\mu_{l}, \\mu_{a}], \\left(0, \\text{id}\\right)\\right) \\{ A, P \\}$"
      ],
      "text/plain": [
       "Ring of operator polynomials in (A, P) over Ring [[Multivariate Polynomial Ring in c_ea, c_el, c_pa, b, mu_l, mu_a over Rational Field], (0, Id)]"
      ]
     },
     "execution_count": 2,
     "metadata": {},
     "output_type": "execute_result"
    }
   ],
   "source": [
    "DSR = DifferenceRing(DifferentialRing(R, lambda p : 0),R.Hom(R).one()) # we create the differential structure around these parameters\n",
    "D.<A, P> = RWOPolynomialRing(DSR); D"
   ]
  },
  {
   "cell_type": "code",
   "execution_count": 3,
   "metadata": {},
   "outputs": [
    {
     "data": {
      "text/html": [
       "<html>\\(\\displaystyle \\newcommand{\\Bold}[1]{\\mathbf{#1}}\\text{System over } \\left(\\Bold{Q}[c_{\\mathit{ea}}, c_{\\mathit{el}}, c_{\\mathit{pa}}, b, \\mu_{l}, \\mu_{a}], \\left(0, \\text{id}\\right)\\right) \\{ A, P \\} \\text{ with variables } A_{\\ast} :\n",
       "\n",
       " \\left\\{\\begin{array}{ll} \\left(c_{\\mathit{ea}} \\mu_{l} - c_{\\mathit{ea}}\\right) A_{(1, 0)} A_{(0, 0)} P_{(0, 2)} + \\left(c_{\\mathit{el}} \\mu_{l} - c_{\\mathit{el}}\\right) A_{(0, 0)} P_{(1, 1)} P_{(0, 2)} + \\left(-b \\mu_{l} + b\\right) A_{(1, 0)} P_{(0, 2)} + \\left(-b\\right) A_{(0, 0)} P_{(1, 2)} & = 0 \\\\\n",
       "-A_{(1, 1)} P_{(0, 0)} + \\left(-c_{\\mathit{pa}}\\right) A_{(1, 0)}^{2} + \\left(-c_{\\mathit{pa}} \\mu_{a} + c_{\\mathit{pa}}\\right) A_{(1, 0)} A_{(0, 0)} + 1 A_{(1, 0)} P_{(1, 0)} + \\left(-\\mu_{a} + 1\\right) A_{(1, 0)} P_{(0, 0)} + \\left(\\mu_{a} - 1\\right) A_{(0, 0)} P_{(1, 0)} & = 0 \\\\ \n",
       "\\end{array}\\right.\\)</html>"
      ],
      "text/latex": [
       "$\\displaystyle \\newcommand{\\Bold}[1]{\\mathbf{#1}}\\text{System over } \\left(\\Bold{Q}[c_{\\mathit{ea}}, c_{\\mathit{el}}, c_{\\mathit{pa}}, b, \\mu_{l}, \\mu_{a}], \\left(0, \\text{id}\\right)\\right) \\{ A, P \\} \\text{ with variables } A_{\\ast} :\n",
       "\n",
       " \\left\\{\\begin{array}{ll} \\left(c_{\\mathit{ea}} \\mu_{l} - c_{\\mathit{ea}}\\right) A_{(1, 0)} A_{(0, 0)} P_{(0, 2)} + \\left(c_{\\mathit{el}} \\mu_{l} - c_{\\mathit{el}}\\right) A_{(0, 0)} P_{(1, 1)} P_{(0, 2)} + \\left(-b \\mu_{l} + b\\right) A_{(1, 0)} P_{(0, 2)} + \\left(-b\\right) A_{(0, 0)} P_{(1, 2)} & = 0 \\\\\n",
       "-A_{(1, 1)} P_{(0, 0)} + \\left(-c_{\\mathit{pa}}\\right) A_{(1, 0)}^{2} + \\left(-c_{\\mathit{pa}} \\mu_{a} + c_{\\mathit{pa}}\\right) A_{(1, 0)} A_{(0, 0)} + 1 A_{(1, 0)} P_{(1, 0)} + \\left(-\\mu_{a} + 1\\right) A_{(1, 0)} P_{(0, 0)} + \\left(\\mu_{a} - 1\\right) A_{(0, 0)} P_{(1, 0)} & = 0 \\\\ \n",
       "\\end{array}\\right.$"
      ],
      "text/plain": [
       "System over [Ring of operator polynomials in (A, P) over Ring [[Multivariate Polynomial Ring in c_ea, c_el, c_pa, b, mu_l, mu_a over Rational Field], (0, Id)]] with variables [(A_*,)]:\n",
       "{\n",
       "\t(c_ea*mu_l - c_ea)*A_(1, 0)*A_(0, 0)*P_(0, 2) + (c_el*mu_l - c_el)*A_(0, 0)*P_(1, 1)*P_(0, 2) + (-b*mu_l + b)*A_(1, 0)*P_(0, 2) + (-b)*A_(0, 0)*P_(1, 2) == 0\n",
       "\t-A_(1, 1)*P_(0, 0) + (-c_pa)*A_(1, 0)^2 + (-c_pa*mu_a + c_pa)*A_(1, 0)*A_(0, 0) + A_(1, 0)*P_(1, 0) + (-mu_a + 1)*A_(1, 0)*P_(0, 0) + (mu_a - 1)*A_(0, 0)*P_(1, 0) == 0\n",
       "}"
      ]
     },
     "execution_count": 3,
     "metadata": {},
     "output_type": "execute_result"
    }
   ],
   "source": [
    "system = RWOSystem([\n",
    "(1-mu_l)*(b*P[0,2]*A[1,0] - c_ea*P[0,2]*A[0,0]*A[1,0] - c_el*P[0,2]*P[1,1]*A[0,0]) - b*A[0,0]*P[1,2],\n",
    "(P[1,0]-c_pa*A[1,0])*(A[1,0]-(1-mu_a)*A[0,0]) + (1-mu_a)*A[1,0]*P[0,0] - P[0,0]*A[1,1]\n",
    "], variables=[A])\n",
    "system"
   ]
  },
  {
   "cell_type": "code",
   "execution_count": 10,
   "metadata": {},
   "outputs": [
    {
     "ename": "ValueError",
     "evalue": "variable name 'P_(0, 0)' is not alphanumeric",
     "output_type": "error",
     "traceback": [
      "\u001b[0;31m---------------------------------------------------------------------------\u001b[0m",
      "\u001b[0;31mValueError\u001b[0m                                Traceback (most recent call last)",
      "Input \u001b[0;32mIn [10]\u001b[0m, in \u001b[0;36m<cell line: 1>\u001b[0;34m()\u001b[0m\n\u001b[1;32m      1\u001b[0m \u001b[38;5;28;01mtry\u001b[39;00m:\n\u001b[0;32m----> 2\u001b[0m     \u001b[43msystem\u001b[49m\u001b[38;5;241;43m.\u001b[39;49m\u001b[43mdiff_resultant\u001b[49m\u001b[43m(\u001b[49m\u001b[43moperation\u001b[49m\u001b[43m \u001b[49m\u001b[38;5;241;43m=\u001b[39;49m\u001b[43m \u001b[49m\u001b[43mInteger\u001b[49m\u001b[43m(\u001b[49m\u001b[38;5;241;43m0\u001b[39;49m\u001b[43m)\u001b[49m\u001b[43m,\u001b[49m\u001b[43m \u001b[49m\u001b[43malg_res\u001b[49m\u001b[38;5;241;43m=\u001b[39;49m\u001b[38;5;124;43m\"\u001b[39;49m\u001b[38;5;124;43mmacaulay\u001b[39;49m\u001b[38;5;124;43m\"\u001b[39;49m\u001b[43m)\u001b[49m \u001b[38;5;66;03m# w.r.t. derivation\u001b[39;00m\n\u001b[1;32m      3\u001b[0m \u001b[38;5;28;01mexcept\u001b[39;00m \u001b[38;5;167;01mTypeError\u001b[39;00m:\n\u001b[1;32m      4\u001b[0m     \u001b[38;5;28mprint\u001b[39m(\u001b[38;5;124m\"\u001b[39m\u001b[38;5;124mWe couldn\u001b[39m\u001b[38;5;124m'\u001b[39m\u001b[38;5;124mt eliminate the As. Trying to eliminate the Ps...\u001b[39m\u001b[38;5;124m\"\u001b[39m)\n",
      "File \u001b[0;32m~/sage/local/lib/python3.10/site-packages/dalgebra/logging/logging.py:43\u001b[0m, in \u001b[0;36mverbose.<locals>.inner.<locals>.wrap\u001b[0;34m(verbose, *args, **kwds)\u001b[0m\n\u001b[1;32m     40\u001b[0m         old_level \u001b[38;5;241m=\u001b[39m logger\u001b[38;5;241m.\u001b[39mlevel\n\u001b[1;32m     41\u001b[0m         logger\u001b[38;5;241m.\u001b[39msetLevel(logging\u001b[38;5;241m.\u001b[39mINFO)\n\u001b[0;32m---> 43\u001b[0m out \u001b[38;5;241m=\u001b[39m \u001b[43mfunc\u001b[49m\u001b[43m(\u001b[49m\u001b[38;5;241;43m*\u001b[39;49m\u001b[43margs\u001b[49m\u001b[43m,\u001b[49m\u001b[43m \u001b[49m\u001b[38;5;241;43m*\u001b[39;49m\u001b[38;5;241;43m*\u001b[39;49m\u001b[43mkwds\u001b[49m\u001b[43m)\u001b[49m\n\u001b[1;32m     45\u001b[0m \u001b[38;5;28;01mif\u001b[39;00m verbose:\n\u001b[1;32m     46\u001b[0m     logger\u001b[38;5;241m.\u001b[39msetLevel(old_level)\n",
      "File \u001b[0;32m~/sage/local/lib/python3.10/site-packages/dalgebra/rwo_polynomial/rwo_polynomial_system.py:753\u001b[0m, in \u001b[0;36mRWOSystem.diff_resultant\u001b[0;34m(self, bound_L, operation, alg_res)\u001b[0m\n\u001b[1;32m    750\u001b[0m \u001b[38;5;28;01mif\u001b[39;00m \u001b[38;5;28mself\u001b[39m\u001b[38;5;241m.\u001b[39m__CACHED_RES \u001b[38;5;129;01mis\u001b[39;00m \u001b[38;5;28;01mNone\u001b[39;00m:\n\u001b[1;32m    751\u001b[0m     \u001b[38;5;66;03m## Checking arguments\u001b[39;00m\n\u001b[1;32m    752\u001b[0m     to_use_alg \u001b[38;5;241m=\u001b[39m \u001b[38;5;28mself\u001b[39m\u001b[38;5;241m.\u001b[39m__decide_resultant_algorithm(operation, alg_res)\n\u001b[0;32m--> 753\u001b[0m     output \u001b[38;5;241m=\u001b[39m \u001b[43mto_use_alg\u001b[49m\u001b[43m(\u001b[49m\u001b[43mbound_L\u001b[49m\u001b[43m,\u001b[49m\u001b[43m \u001b[49m\u001b[43moperation\u001b[49m\u001b[43m)\u001b[49m\n\u001b[1;32m    755\u001b[0m     \u001b[38;5;28;01mif\u001b[39;00m output \u001b[38;5;241m==\u001b[39m \u001b[38;5;241m0\u001b[39m: \u001b[38;5;66;03m# degenerate case\u001b[39;00m\n\u001b[1;32m    756\u001b[0m         \u001b[38;5;28;01mraise\u001b[39;00m \u001b[38;5;167;01mValueError\u001b[39;00m(\u001b[38;5;124mf\u001b[39m\u001b[38;5;124m\"\u001b[39m\u001b[38;5;124mWe obtained a zero resultant --> this is a degenerate case (used \u001b[39m\u001b[38;5;132;01m{\u001b[39;00mto_use_alg\u001b[38;5;132;01m}\u001b[39;00m\u001b[38;5;124m)\u001b[39m\u001b[38;5;124m\"\u001b[39m)\n",
      "File \u001b[0;32m~/sage/local/lib/python3.10/site-packages/dalgebra/rwo_polynomial/rwo_polynomial_system.py:825\u001b[0m, in \u001b[0;36mRWOSystem.__macaulay\u001b[0;34m(self, bound, operation)\u001b[0m\n\u001b[1;32m    817\u001b[0m \u001b[38;5;124mr\u001b[39m\u001b[38;5;124;03m'''\u001b[39;00m\n\u001b[1;32m    818\u001b[0m \u001b[38;5;124;03m    Method that computes the resultant of an extension of ``self` using Macaulay resultant.\u001b[39;00m\n\u001b[1;32m    819\u001b[0m \n\u001b[0;32m   (...)\u001b[0m\n\u001b[1;32m    822\u001b[0m \u001b[38;5;124;03m    * ``bound``: bound the the extension to look for a system to get a resultant.\u001b[39;00m\n\u001b[1;32m    823\u001b[0m \u001b[38;5;124;03m'''\u001b[39;00m\n\u001b[1;32m    824\u001b[0m logger\u001b[38;5;241m.\u001b[39minfo(\u001b[38;5;124m\"\u001b[39m\u001b[38;5;124mGetting the appropriate extension for having a SP2 system...\u001b[39m\u001b[38;5;124m\"\u001b[39m)\n\u001b[0;32m--> 825\u001b[0m L \u001b[38;5;241m=\u001b[39m \u001b[38;5;28;43mself\u001b[39;49m\u001b[38;5;241;43m.\u001b[39;49m\u001b[43m__get_extension\u001b[49m\u001b[43m(\u001b[49m\u001b[43mbound\u001b[49m\u001b[43m,\u001b[49m\u001b[43m \u001b[49m\u001b[43moperation\u001b[49m\u001b[43m)\u001b[49m\n\u001b[1;32m    827\u001b[0m logger\u001b[38;5;241m.\u001b[39minfo(\u001b[38;5;124m\"\u001b[39m\u001b[38;5;124mGetting the homogenize version of the equations...\u001b[39m\u001b[38;5;124m\"\u001b[39m)\n\u001b[1;32m    828\u001b[0m equs \u001b[38;5;241m=\u001b[39m [el\u001b[38;5;241m.\u001b[39mhomogenize() \u001b[38;5;28;01mfor\u001b[39;00m el \u001b[38;5;129;01min\u001b[39;00m \u001b[38;5;28mself\u001b[39m\u001b[38;5;241m.\u001b[39mextend_by_operation(L, operation)\u001b[38;5;241m.\u001b[39malgebraic_equations()]\n",
      "File \u001b[0;32m~/sage/local/lib/python3.10/site-packages/dalgebra/rwo_polynomial/rwo_polynomial_system.py:799\u001b[0m, in \u001b[0;36mRWOSystem.__get_extension\u001b[0;34m(self, bound, operation)\u001b[0m\n\u001b[1;32m    797\u001b[0m \u001b[38;5;28;01mfor\u001b[39;00m L \u001b[38;5;129;01min\u001b[39;00m gen_cartesian(\u001b[38;5;28mself\u001b[39m\u001b[38;5;241m.\u001b[39msize(), bound):\n\u001b[1;32m    798\u001b[0m     logger\u001b[38;5;241m.\u001b[39minfo(\u001b[38;5;124mf\u001b[39m\u001b[38;5;124m\"\u001b[39m\u001b[38;5;124mTrying the extension \u001b[39m\u001b[38;5;132;01m{\u001b[39;00mL\u001b[38;5;132;01m}\u001b[39;00m\u001b[38;5;124m\"\u001b[39m)\n\u001b[0;32m--> 799\u001b[0m     \u001b[38;5;28;01mif\u001b[39;00m(\u001b[38;5;28;43mself\u001b[39;49m\u001b[38;5;241;43m.\u001b[39;49m\u001b[43mextend_by_operation\u001b[49m\u001b[43m(\u001b[49m\u001b[43mL\u001b[49m\u001b[43m,\u001b[49m\u001b[43m \u001b[49m\u001b[43moperation\u001b[49m\u001b[43m)\u001b[49m\u001b[38;5;241;43m.\u001b[39;49m\u001b[43mis_sp2\u001b[49m\u001b[43m(\u001b[49m\u001b[43m)\u001b[49m):\n\u001b[1;32m    800\u001b[0m         logger\u001b[38;5;241m.\u001b[39minfo(\u001b[38;5;124mf\u001b[39m\u001b[38;5;124m\"\u001b[39m\u001b[38;5;124mFound the valid extension \u001b[39m\u001b[38;5;132;01m{\u001b[39;00mL\u001b[38;5;132;01m}\u001b[39;00m\u001b[38;5;124m\"\u001b[39m)\n\u001b[1;32m    801\u001b[0m         \u001b[38;5;28;01mbreak\u001b[39;00m\n",
      "File \u001b[0;32m~/sage/local/lib/python3.10/site-packages/dalgebra/rwo_polynomial/rwo_polynomial_system.py:721\u001b[0m, in \u001b[0;36mRWOSystem.is_sp2\u001b[0;34m(self)\u001b[0m\n\u001b[1;32m    680\u001b[0m \u001b[38;5;28;01mdef\u001b[39;00m \u001b[38;5;21mis_sp2\u001b[39m(\u001b[38;5;28mself\u001b[39m) \u001b[38;5;241m-\u001b[39m\u001b[38;5;241m>\u001b[39m \u001b[38;5;28mbool\u001b[39m:\n\u001b[1;32m    681\u001b[0m     \u001b[38;5;124mr\u001b[39m\u001b[38;5;124;03m'''\u001b[39;00m\n\u001b[1;32m    682\u001b[0m \u001b[38;5;124;03m        Method that checks the condition SP2.\u001b[39;00m\n\u001b[1;32m    683\u001b[0m \n\u001b[0;32m   (...)\u001b[0m\n\u001b[1;32m    719\u001b[0m \u001b[38;5;124;03m            True\u001b[39;00m\n\u001b[1;32m    720\u001b[0m \u001b[38;5;124;03m    '''\u001b[39;00m\n\u001b[0;32m--> 721\u001b[0m     \u001b[38;5;28;01mif\u001b[39;00m(\u001b[38;5;28;43mself\u001b[39;49m\u001b[38;5;241;43m.\u001b[39;49m\u001b[43mis_homogeneous\u001b[49m\u001b[43m(\u001b[49m\u001b[43m)\u001b[49m):\n\u001b[1;32m    722\u001b[0m         \u001b[38;5;28;01mreturn\u001b[39;00m \u001b[38;5;28mlen\u001b[39m(\u001b[38;5;28mself\u001b[39m\u001b[38;5;241m.\u001b[39malgebraic_variables()) \u001b[38;5;241m==\u001b[39m \u001b[38;5;28mself\u001b[39m\u001b[38;5;241m.\u001b[39msize()\n\u001b[1;32m    723\u001b[0m     \u001b[38;5;28;01mreturn\u001b[39;00m \u001b[38;5;28mlen\u001b[39m(\u001b[38;5;28mself\u001b[39m\u001b[38;5;241m.\u001b[39malgebraic_variables()) \u001b[38;5;241m==\u001b[39m \u001b[38;5;28mself\u001b[39m\u001b[38;5;241m.\u001b[39msize() \u001b[38;5;241m-\u001b[39m \u001b[38;5;241m1\u001b[39m\n",
      "File \u001b[0;32m~/sage/src/sage/misc/cachefunc.pyx:2299\u001b[0m, in \u001b[0;36msage.misc.cachefunc.CachedMethodCallerNoArgs.__call__\u001b[0;34m()\u001b[0m\n\u001b[1;32m   2297\u001b[0m if self.cache is None:\n\u001b[1;32m   2298\u001b[0m     f = self.f\n\u001b[0;32m-> 2299\u001b[0m     self.cache = f(self._instance)\n\u001b[1;32m   2300\u001b[0m return self.cache\n\u001b[1;32m   2301\u001b[0m \n",
      "File \u001b[0;32m~/sage/local/lib/python3.10/site-packages/dalgebra/rwo_polynomial/rwo_polynomial_system.py:646\u001b[0m, in \u001b[0;36mRWOSystem.is_homogeneous\u001b[0;34m(self)\u001b[0m\n\u001b[1;32m    638\u001b[0m \u001b[38;5;129m@cached_method\u001b[39m\n\u001b[1;32m    639\u001b[0m \u001b[38;5;28;01mdef\u001b[39;00m \u001b[38;5;21mis_homogeneous\u001b[39m(\u001b[38;5;28mself\u001b[39m) \u001b[38;5;241m-\u001b[39m\u001b[38;5;241m>\u001b[39m \u001b[38;5;28mbool\u001b[39m:\n\u001b[1;32m    640\u001b[0m     \u001b[38;5;124mr\u001b[39m\u001b[38;5;124;03m'''\u001b[39;00m\n\u001b[1;32m    641\u001b[0m \u001b[38;5;124;03m        This method checks whether the system is homogeneous in the indicated variables.\u001b[39;00m\n\u001b[1;32m    642\u001b[0m \n\u001b[1;32m    643\u001b[0m \u001b[38;5;124;03m        This method relies on the method :func:`algebraic_equations` and the method :func:`is_homogeneous`\u001b[39;00m\n\u001b[1;32m    644\u001b[0m \u001b[38;5;124;03m        from the polynomial class in Sage.\u001b[39;00m\n\u001b[1;32m    645\u001b[0m \u001b[38;5;124;03m    '''\u001b[39;00m\n\u001b[0;32m--> 646\u001b[0m     \u001b[38;5;28;01mreturn\u001b[39;00m \u001b[38;5;28mall\u001b[39m(equ\u001b[38;5;241m.\u001b[39mis_homogeneous() \u001b[38;5;28;01mfor\u001b[39;00m equ \u001b[38;5;129;01min\u001b[39;00m \u001b[38;5;28;43mself\u001b[39;49m\u001b[38;5;241;43m.\u001b[39;49m\u001b[43malgebraic_equations\u001b[49m\u001b[43m(\u001b[49m\u001b[43m)\u001b[49m)\n",
      "File \u001b[0;32m~/sage/src/sage/misc/cachefunc.pyx:2299\u001b[0m, in \u001b[0;36msage.misc.cachefunc.CachedMethodCallerNoArgs.__call__\u001b[0;34m()\u001b[0m\n\u001b[1;32m   2297\u001b[0m if self.cache is None:\n\u001b[1;32m   2298\u001b[0m     f = self.f\n\u001b[0;32m-> 2299\u001b[0m     self.cache = f(self._instance)\n\u001b[1;32m   2300\u001b[0m return self.cache\n\u001b[1;32m   2301\u001b[0m \n",
      "File \u001b[0;32m~/sage/local/lib/python3.10/site-packages/dalgebra/rwo_polynomial/rwo_polynomial_system.py:559\u001b[0m, in \u001b[0;36mRWOSystem.algebraic_equations\u001b[0;34m(self)\u001b[0m\n\u001b[1;32m    555\u001b[0m             subs_dict[\u001b[38;5;28mstr\u001b[39m(gens[i][j])] \u001b[38;5;241m=\u001b[39m gens[i][j]\n\u001b[1;32m    556\u001b[0m variables\u001b[38;5;241m.\u001b[39msort(); parameters\u001b[38;5;241m.\u001b[39msort()\n\u001b[0;32m--> 559\u001b[0m inner_ring \u001b[38;5;241m=\u001b[39m base_ring \u001b[38;5;28;01mif\u001b[39;00m \u001b[38;5;28mlen\u001b[39m(parameters) \u001b[38;5;241m==\u001b[39m \u001b[38;5;241m0\u001b[39m \u001b[38;5;28;01melse\u001b[39;00m \u001b[43mPolynomialRing\u001b[49m\u001b[43m(\u001b[49m\u001b[43mbase_ring\u001b[49m\u001b[43m,\u001b[49m\u001b[43m \u001b[49m\u001b[43mparameters\u001b[49m\u001b[43m)\u001b[49m\n\u001b[1;32m    561\u001b[0m final_parent \u001b[38;5;241m=\u001b[39m PolynomialRing(inner_ring, variables)\n\u001b[1;32m    562\u001b[0m \u001b[38;5;28;01mtry\u001b[39;00m:\n",
      "File \u001b[0;32m~/sage/src/sage/rings/polynomial/polynomial_ring_constructor.py:632\u001b[0m, in \u001b[0;36mPolynomialRing\u001b[0;34m(base_ring, *args, **kwds)\u001b[0m\n\u001b[1;32m    629\u001b[0m     \u001b[38;5;28;01mexcept\u001b[39;00m \u001b[38;5;167;01mKeyError\u001b[39;00m:\n\u001b[1;32m    630\u001b[0m         \u001b[38;5;28;01mraise\u001b[39;00m \u001b[38;5;167;01mTypeError\u001b[39;00m(\u001b[38;5;124m\"\u001b[39m\u001b[38;5;124myou must specify the names of the variables\u001b[39m\u001b[38;5;124m\"\u001b[39m)\n\u001b[0;32m--> 632\u001b[0m names \u001b[38;5;241m=\u001b[39m \u001b[43mnormalize_names\u001b[49m\u001b[43m(\u001b[49m\u001b[43mn\u001b[49m\u001b[43m,\u001b[49m\u001b[43m \u001b[49m\u001b[43mnames\u001b[49m\u001b[43m)\u001b[49m\n\u001b[1;32m    634\u001b[0m \u001b[38;5;66;03m# At this point, we have only handled the \"names\" keyword if it was\u001b[39;00m\n\u001b[1;32m    635\u001b[0m \u001b[38;5;66;03m# needed. Since we know the variable names, it would logically be\u001b[39;00m\n\u001b[1;32m    636\u001b[0m \u001b[38;5;66;03m# an error to specify an additional \"names\" keyword. However,\u001b[39;00m\n\u001b[0;32m   (...)\u001b[0m\n\u001b[1;32m    639\u001b[0m \u001b[38;5;66;03m# and we allow this for historical reasons. However, the names\u001b[39;00m\n\u001b[1;32m    640\u001b[0m \u001b[38;5;66;03m# must be consistent!\u001b[39;00m\n\u001b[1;32m    641\u001b[0m \u001b[38;5;28;01mif\u001b[39;00m \u001b[38;5;124m\"\u001b[39m\u001b[38;5;124mnames\u001b[39m\u001b[38;5;124m\"\u001b[39m \u001b[38;5;129;01min\u001b[39;00m kwds:\n",
      "File \u001b[0;32m~/sage/src/sage/structure/category_object.pyx:900\u001b[0m, in \u001b[0;36msage.structure.category_object.normalize_names\u001b[0;34m()\u001b[0m\n\u001b[1;32m    898\u001b[0m         return dir_with_other_class(self, self.category().parent_class)\n\u001b[1;32m    899\u001b[0m \n\u001b[0;32m--> 900\u001b[0m cpdef normalize_names(Py_ssize_t ngens, names):\n\u001b[1;32m    901\u001b[0m     r\"\"\"\n\u001b[1;32m    902\u001b[0m     Return a tuple of strings of variable names of length ngens given\n",
      "File \u001b[0;32m~/sage/src/sage/structure/category_object.pyx:1014\u001b[0m, in \u001b[0;36msage.structure.category_object.normalize_names\u001b[0;34m()\u001b[0m\n\u001b[1;32m   1012\u001b[0m             names = sage.misc.defaults.variable_names(ngens, names)\n\u001b[1;32m   1013\u001b[0m \n\u001b[0;32m-> 1014\u001b[0m certify_names(names)\n\u001b[1;32m   1015\u001b[0m if ngens >= 0 and len(names) != ngens:\n\u001b[1;32m   1016\u001b[0m     raise IndexError(\"the number of names must equal the number of generators\")\n",
      "File \u001b[0;32m~/sage/src/sage/structure/category_object.pyx:1064\u001b[0m, in \u001b[0;36msage.structure.category_object.certify_names\u001b[0;34m()\u001b[0m\n\u001b[1;32m   1062\u001b[0m if not N.replace(\"_\", \"\").isalnum():\n\u001b[1;32m   1063\u001b[0m     # We must be alphanumeric, but we make an exception for non-leading '_' characters.\n\u001b[0;32m-> 1064\u001b[0m     raise ValueError(\"variable name {!r} is not alphanumeric\".format(N))\n\u001b[1;32m   1065\u001b[0m if not N[0].isalpha():\n\u001b[1;32m   1066\u001b[0m     raise ValueError(\"variable name {!r} does not start with a letter\".format(N))\n",
      "\u001b[0;31mValueError\u001b[0m: variable name 'P_(0, 0)' is not alphanumeric"
     ]
    }
   ],
   "source": [
    "try:\n",
    "    system.diff_resultant(operation = 0, alg_res=\"macaulay\") # w.r.t. derivation\n",
    "except TypeError:\n",
    "    print(\"We couldn't eliminate the As. Trying to eliminate the Ps...\")\n",
    "    try:\n",
    "        system.change_variables([P]).diff_resultant(operation = 0, alg_res=\"macaulay\") # w.r.t. derivation\n",
    "    except TypeError:\n",
    "        print(\"We couldn't eliminate the Ps either.\")"
   ]
  },
  {
   "cell_type": "code",
   "execution_count": 6,
   "metadata": {},
   "outputs": [
    {
     "data": {
      "text/html": [
       "<html>\\(\\displaystyle 7\\)</html>"
      ],
      "text/latex": [
       "$\\displaystyle 7$"
      ],
      "text/plain": [
       "7"
      ]
     },
     "execution_count": 6,
     "metadata": {},
     "output_type": "execute_result"
    }
   ],
   "source": [
    "len(system.extend_by_operation([2,2,2], operation=0).algebraic_variables())"
   ]
  },
  {
   "cell_type": "code",
   "execution_count": 7,
   "metadata": {},
   "outputs": [
    {
     "data": {
      "text/html": [
       "<html>\\(\\displaystyle \\newcommand{\\Bold}[1]{\\mathbf{#1}}\\text{System over } \\left(\\Bold{Q}[c_{\\mathit{ea}}, c_{\\mathit{el}}, c_{\\mathit{pa}}, b, \\mu_{l}, \\mu_{a}], \\left(0, \\text{id}\\right)\\right) \\{ A, P \\} \\text{ with variables } A_{\\ast} :\n",
       "\n",
       " \\left\\{\\begin{array}{ll} \\left(c_{\\mathit{ea}} \\mu_{l} - c_{\\mathit{ea}}\\right) A_{(1, 0)} A_{(0, 0)} P_{(0, 2)} + \\left(c_{\\mathit{el}} \\mu_{l} - c_{\\mathit{el}}\\right) A_{(0, 0)} P_{(1, 1)} P_{(0, 2)} + \\left(-b \\mu_{l} + b\\right) A_{(1, 0)} P_{(0, 2)} + \\left(-b\\right) A_{(0, 0)} P_{(1, 2)} & = 0 \\\\\n",
       "\\left(c_{\\mathit{ea}} \\mu_{l} - c_{\\mathit{ea}}\\right) A_{(2, 0)} A_{(0, 0)} P_{(0, 2)} + \\left(c_{\\mathit{ea}} \\mu_{l} - c_{\\mathit{ea}}\\right) A_{(1, 0)}^{2} P_{(0, 2)} + \\left(c_{\\mathit{ea}} \\mu_{l} - c_{\\mathit{ea}}\\right) A_{(1, 0)} A_{(0, 0)} P_{(1, 2)} + \\left(c_{\\mathit{el}} \\mu_{l} - c_{\\mathit{el}}\\right) A_{(1, 0)} P_{(1, 1)} P_{(0, 2)} + \\left(c_{\\mathit{el}} \\mu_{l} - c_{\\mathit{el}}\\right) A_{(0, 0)} P_{(2, 1)} P_{(0, 2)} + \\left(c_{\\mathit{el}} \\mu_{l} - c_{\\mathit{el}}\\right) A_{(0, 0)} P_{(1, 2)} P_{(1, 1)} + \\left(-b \\mu_{l} + b\\right) A_{(2, 0)} P_{(0, 2)} + \\left(-b \\mu_{l}\\right) A_{(1, 0)} P_{(1, 2)} + \\left(-b\\right) A_{(0, 0)} P_{(2, 2)} & = 0 \\\\\n",
       "\\left(c_{\\mathit{ea}} \\mu_{l} - c_{\\mathit{ea}}\\right) A_{(3, 0)} A_{(0, 0)} P_{(0, 2)} + \\left(3 c_{\\mathit{ea}} \\mu_{l} - 3 c_{\\mathit{ea}}\\right) A_{(2, 0)} A_{(1, 0)} P_{(0, 2)} + \\left(2 c_{\\mathit{ea}} \\mu_{l} - 2 c_{\\mathit{ea}}\\right) A_{(2, 0)} A_{(0, 0)} P_{(1, 2)} + \\left(c_{\\mathit{el}} \\mu_{l} - c_{\\mathit{el}}\\right) A_{(2, 0)} P_{(1, 1)} P_{(0, 2)} + \\left(2 c_{\\mathit{ea}} \\mu_{l} - 2 c_{\\mathit{ea}}\\right) A_{(1, 0)}^{2} P_{(1, 2)} + \\left(c_{\\mathit{ea}} \\mu_{l} - c_{\\mathit{ea}}\\right) A_{(1, 0)} A_{(0, 0)} P_{(2, 2)} + \\left(2 c_{\\mathit{el}} \\mu_{l} - 2 c_{\\mathit{el}}\\right) A_{(1, 0)} P_{(2, 1)} P_{(0, 2)} + \\left(2 c_{\\mathit{el}} \\mu_{l} - 2 c_{\\mathit{el}}\\right) A_{(1, 0)} P_{(1, 2)} P_{(1, 1)} + \\left(c_{\\mathit{el}} \\mu_{l} - c_{\\mathit{el}}\\right) A_{(0, 0)} P_{(3, 1)} P_{(0, 2)} + \\left(c_{\\mathit{el}} \\mu_{l} - c_{\\mathit{el}}\\right) A_{(0, 0)} P_{(2, 2)} P_{(1, 1)} + \\left(2 c_{\\mathit{el}} \\mu_{l} - 2 c_{\\mathit{el}}\\right) A_{(0, 0)} P_{(2, 1)} P_{(1, 2)} + \\left(-b \\mu_{l} + b\\right) A_{(3, 0)} P_{(0, 2)} + \\left(-2 b \\mu_{l} + b\\right) A_{(2, 0)} P_{(1, 2)} + \\left(-b \\mu_{l} - b\\right) A_{(1, 0)} P_{(2, 2)} + \\left(-b\\right) A_{(0, 0)} P_{(3, 2)} & = 0 \\\\\n",
       "-A_{(1, 1)} P_{(0, 0)} + \\left(-c_{\\mathit{pa}}\\right) A_{(1, 0)}^{2} + \\left(-c_{\\mathit{pa}} \\mu_{a} + c_{\\mathit{pa}}\\right) A_{(1, 0)} A_{(0, 0)} + 1 A_{(1, 0)} P_{(1, 0)} + \\left(-\\mu_{a} + 1\\right) A_{(1, 0)} P_{(0, 0)} + \\left(\\mu_{a} - 1\\right) A_{(0, 0)} P_{(1, 0)} & = 0 \\\\\n",
       "-A_{(2, 1)} P_{(0, 0)} + \\left(-2 c_{\\mathit{pa}}\\right) A_{(2, 0)} A_{(1, 0)} + \\left(-c_{\\mathit{pa}} \\mu_{a} + c_{\\mathit{pa}}\\right) A_{(2, 0)} A_{(0, 0)} + 1 A_{(2, 0)} P_{(1, 0)} + \\left(-\\mu_{a} + 1\\right) A_{(2, 0)} P_{(0, 0)} - A_{(1, 1)} P_{(1, 0)} + \\left(-c_{\\mathit{pa}} \\mu_{a} + c_{\\mathit{pa}}\\right) A_{(1, 0)}^{2} + 1 A_{(1, 0)} P_{(2, 0)} + \\left(\\mu_{a} - 1\\right) A_{(0, 0)} P_{(2, 0)} & = 0 \\\\\n",
       "-A_{(3, 1)} P_{(0, 0)} + \\left(-2 c_{\\mathit{pa}}\\right) A_{(3, 0)} A_{(1, 0)} + \\left(-c_{\\mathit{pa}} \\mu_{a} + c_{\\mathit{pa}}\\right) A_{(3, 0)} A_{(0, 0)} + 1 A_{(3, 0)} P_{(1, 0)} + \\left(-\\mu_{a} + 1\\right) A_{(3, 0)} P_{(0, 0)} + \\left(-2\\right) A_{(2, 1)} P_{(1, 0)} + \\left(-2 c_{\\mathit{pa}}\\right) A_{(2, 0)}^{2} + \\left(-3 c_{\\mathit{pa}} \\mu_{a} + 3 c_{\\mathit{pa}}\\right) A_{(2, 0)} A_{(1, 0)} + 2 A_{(2, 0)} P_{(2, 0)} + \\left(-\\mu_{a} + 1\\right) A_{(2, 0)} P_{(1, 0)} - A_{(1, 1)} P_{(2, 0)} + 1 A_{(1, 0)} P_{(3, 0)} + \\left(\\mu_{a} - 1\\right) A_{(1, 0)} P_{(2, 0)} + \\left(\\mu_{a} - 1\\right) A_{(0, 0)} P_{(3, 0)} & = 0 \\\\ \n",
       "\\end{array}\\right.\\)</html>"
      ],
      "text/latex": [
       "$\\displaystyle \\newcommand{\\Bold}[1]{\\mathbf{#1}}\\text{System over } \\left(\\Bold{Q}[c_{\\mathit{ea}}, c_{\\mathit{el}}, c_{\\mathit{pa}}, b, \\mu_{l}, \\mu_{a}], \\left(0, \\text{id}\\right)\\right) \\{ A, P \\} \\text{ with variables } A_{\\ast} :\n",
       "\n",
       " \\left\\{\\begin{array}{ll} \\left(c_{\\mathit{ea}} \\mu_{l} - c_{\\mathit{ea}}\\right) A_{(1, 0)} A_{(0, 0)} P_{(0, 2)} + \\left(c_{\\mathit{el}} \\mu_{l} - c_{\\mathit{el}}\\right) A_{(0, 0)} P_{(1, 1)} P_{(0, 2)} + \\left(-b \\mu_{l} + b\\right) A_{(1, 0)} P_{(0, 2)} + \\left(-b\\right) A_{(0, 0)} P_{(1, 2)} & = 0 \\\\\n",
       "\\left(c_{\\mathit{ea}} \\mu_{l} - c_{\\mathit{ea}}\\right) A_{(2, 0)} A_{(0, 0)} P_{(0, 2)} + \\left(c_{\\mathit{ea}} \\mu_{l} - c_{\\mathit{ea}}\\right) A_{(1, 0)}^{2} P_{(0, 2)} + \\left(c_{\\mathit{ea}} \\mu_{l} - c_{\\mathit{ea}}\\right) A_{(1, 0)} A_{(0, 0)} P_{(1, 2)} + \\left(c_{\\mathit{el}} \\mu_{l} - c_{\\mathit{el}}\\right) A_{(1, 0)} P_{(1, 1)} P_{(0, 2)} + \\left(c_{\\mathit{el}} \\mu_{l} - c_{\\mathit{el}}\\right) A_{(0, 0)} P_{(2, 1)} P_{(0, 2)} + \\left(c_{\\mathit{el}} \\mu_{l} - c_{\\mathit{el}}\\right) A_{(0, 0)} P_{(1, 2)} P_{(1, 1)} + \\left(-b \\mu_{l} + b\\right) A_{(2, 0)} P_{(0, 2)} + \\left(-b \\mu_{l}\\right) A_{(1, 0)} P_{(1, 2)} + \\left(-b\\right) A_{(0, 0)} P_{(2, 2)} & = 0 \\\\\n",
       "\\left(c_{\\mathit{ea}} \\mu_{l} - c_{\\mathit{ea}}\\right) A_{(3, 0)} A_{(0, 0)} P_{(0, 2)} + \\left(3 c_{\\mathit{ea}} \\mu_{l} - 3 c_{\\mathit{ea}}\\right) A_{(2, 0)} A_{(1, 0)} P_{(0, 2)} + \\left(2 c_{\\mathit{ea}} \\mu_{l} - 2 c_{\\mathit{ea}}\\right) A_{(2, 0)} A_{(0, 0)} P_{(1, 2)} + \\left(c_{\\mathit{el}} \\mu_{l} - c_{\\mathit{el}}\\right) A_{(2, 0)} P_{(1, 1)} P_{(0, 2)} + \\left(2 c_{\\mathit{ea}} \\mu_{l} - 2 c_{\\mathit{ea}}\\right) A_{(1, 0)}^{2} P_{(1, 2)} + \\left(c_{\\mathit{ea}} \\mu_{l} - c_{\\mathit{ea}}\\right) A_{(1, 0)} A_{(0, 0)} P_{(2, 2)} + \\left(2 c_{\\mathit{el}} \\mu_{l} - 2 c_{\\mathit{el}}\\right) A_{(1, 0)} P_{(2, 1)} P_{(0, 2)} + \\left(2 c_{\\mathit{el}} \\mu_{l} - 2 c_{\\mathit{el}}\\right) A_{(1, 0)} P_{(1, 2)} P_{(1, 1)} + \\left(c_{\\mathit{el}} \\mu_{l} - c_{\\mathit{el}}\\right) A_{(0, 0)} P_{(3, 1)} P_{(0, 2)} + \\left(c_{\\mathit{el}} \\mu_{l} - c_{\\mathit{el}}\\right) A_{(0, 0)} P_{(2, 2)} P_{(1, 1)} + \\left(2 c_{\\mathit{el}} \\mu_{l} - 2 c_{\\mathit{el}}\\right) A_{(0, 0)} P_{(2, 1)} P_{(1, 2)} + \\left(-b \\mu_{l} + b\\right) A_{(3, 0)} P_{(0, 2)} + \\left(-2 b \\mu_{l} + b\\right) A_{(2, 0)} P_{(1, 2)} + \\left(-b \\mu_{l} - b\\right) A_{(1, 0)} P_{(2, 2)} + \\left(-b\\right) A_{(0, 0)} P_{(3, 2)} & = 0 \\\\\n",
       "-A_{(1, 1)} P_{(0, 0)} + \\left(-c_{\\mathit{pa}}\\right) A_{(1, 0)}^{2} + \\left(-c_{\\mathit{pa}} \\mu_{a} + c_{\\mathit{pa}}\\right) A_{(1, 0)} A_{(0, 0)} + 1 A_{(1, 0)} P_{(1, 0)} + \\left(-\\mu_{a} + 1\\right) A_{(1, 0)} P_{(0, 0)} + \\left(\\mu_{a} - 1\\right) A_{(0, 0)} P_{(1, 0)} & = 0 \\\\\n",
       "-A_{(2, 1)} P_{(0, 0)} + \\left(-2 c_{\\mathit{pa}}\\right) A_{(2, 0)} A_{(1, 0)} + \\left(-c_{\\mathit{pa}} \\mu_{a} + c_{\\mathit{pa}}\\right) A_{(2, 0)} A_{(0, 0)} + 1 A_{(2, 0)} P_{(1, 0)} + \\left(-\\mu_{a} + 1\\right) A_{(2, 0)} P_{(0, 0)} - A_{(1, 1)} P_{(1, 0)} + \\left(-c_{\\mathit{pa}} \\mu_{a} + c_{\\mathit{pa}}\\right) A_{(1, 0)}^{2} + 1 A_{(1, 0)} P_{(2, 0)} + \\left(\\mu_{a} - 1\\right) A_{(0, 0)} P_{(2, 0)} & = 0 \\\\\n",
       "-A_{(3, 1)} P_{(0, 0)} + \\left(-2 c_{\\mathit{pa}}\\right) A_{(3, 0)} A_{(1, 0)} + \\left(-c_{\\mathit{pa}} \\mu_{a} + c_{\\mathit{pa}}\\right) A_{(3, 0)} A_{(0, 0)} + 1 A_{(3, 0)} P_{(1, 0)} + \\left(-\\mu_{a} + 1\\right) A_{(3, 0)} P_{(0, 0)} + \\left(-2\\right) A_{(2, 1)} P_{(1, 0)} + \\left(-2 c_{\\mathit{pa}}\\right) A_{(2, 0)}^{2} + \\left(-3 c_{\\mathit{pa}} \\mu_{a} + 3 c_{\\mathit{pa}}\\right) A_{(2, 0)} A_{(1, 0)} + 2 A_{(2, 0)} P_{(2, 0)} + \\left(-\\mu_{a} + 1\\right) A_{(2, 0)} P_{(1, 0)} - A_{(1, 1)} P_{(2, 0)} + 1 A_{(1, 0)} P_{(3, 0)} + \\left(\\mu_{a} - 1\\right) A_{(1, 0)} P_{(2, 0)} + \\left(\\mu_{a} - 1\\right) A_{(0, 0)} P_{(3, 0)} & = 0 \\\\ \n",
       "\\end{array}\\right.$"
      ],
      "text/plain": [
       "System over [Ring of operator polynomials in (A, P) over Ring [[Multivariate Polynomial Ring in c_ea, c_el, c_pa, b, mu_l, mu_a over Rational Field], (0, Id)]] with variables [(A_*,)]:\n",
       "{\n",
       "\t(c_ea*mu_l - c_ea)*A_(1, 0)*A_(0, 0)*P_(0, 2) + (c_el*mu_l - c_el)*A_(0, 0)*P_(1, 1)*P_(0, 2) + (-b*mu_l + b)*A_(1, 0)*P_(0, 2) + (-b)*A_(0, 0)*P_(1, 2) == 0\n",
       "\t(c_ea*mu_l - c_ea)*A_(2, 0)*A_(0, 0)*P_(0, 2) + (c_ea*mu_l - c_ea)*A_(1, 0)^2*P_(0, 2) + (c_ea*mu_l - c_ea)*A_(1, 0)*A_(0, 0)*P_(1, 2) + (c_el*mu_l - c_el)*A_(1, 0)*P_(1, 1)*P_(0, 2) + (c_el*mu_l - c_el)*A_(0, 0)*P_(2, 1)*P_(0, 2) + (c_el*mu_l - c_el)*A_(0, 0)*P_(1, 2)*P_(1, 1) + (-b*mu_l + b)*A_(2, 0)*P_(0, 2) + (-b*mu_l)*A_(1, 0)*P_(1, 2) + (-b)*A_(0, 0)*P_(2, 2) == 0\n",
       "\t(c_ea*mu_l - c_ea)*A_(3, 0)*A_(0, 0)*P_(0, 2) + (3*c_ea*mu_l - 3*c_ea)*A_(2, 0)*A_(1, 0)*P_(0, 2) + (2*c_ea*mu_l - 2*c_ea)*A_(2, 0)*A_(0, 0)*P_(1, 2) + (c_el*mu_l - c_el)*A_(2, 0)*P_(1, 1)*P_(0, 2) + (2*c_ea*mu_l - 2*c_ea)*A_(1, 0)^2*P_(1, 2) + (c_ea*mu_l - c_ea)*A_(1, 0)*A_(0, 0)*P_(2, 2) + (2*c_el*mu_l - 2*c_el)*A_(1, 0)*P_(2, 1)*P_(0, 2) + (2*c_el*mu_l - 2*c_el)*A_(1, 0)*P_(1, 2)*P_(1, 1) + (c_el*mu_l - c_el)*A_(0, 0)*P_(3, 1)*P_(0, 2) + (c_el*mu_l - c_el)*A_(0, 0)*P_(2, 2)*P_(1, 1) + (2*c_el*mu_l - 2*c_el)*A_(0, 0)*P_(2, 1)*P_(1, 2) + (-b*mu_l + b)*A_(3, 0)*P_(0, 2) + (-2*b*mu_l + b)*A_(2, 0)*P_(1, 2) + (-b*mu_l - b)*A_(1, 0)*P_(2, 2) + (-b)*A_(0, 0)*P_(3, 2) == 0\n",
       "\t-A_(1, 1)*P_(0, 0) + (-c_pa)*A_(1, 0)^2 + (-c_pa*mu_a + c_pa)*A_(1, 0)*A_(0, 0) + A_(1, 0)*P_(1, 0) + (-mu_a + 1)*A_(1, 0)*P_(0, 0) + (mu_a - 1)*A_(0, 0)*P_(1, 0) == 0\n",
       "\t-A_(2, 1)*P_(0, 0) + (-2*c_pa)*A_(2, 0)*A_(1, 0) + (-c_pa*mu_a + c_pa)*A_(2, 0)*A_(0, 0) + A_(2, 0)*P_(1, 0) + (-mu_a + 1)*A_(2, 0)*P_(0, 0) - A_(1, 1)*P_(1, 0) + (-c_pa*mu_a + c_pa)*A_(1, 0)^2 + A_(1, 0)*P_(2, 0) + (mu_a - 1)*A_(0, 0)*P_(2, 0) == 0\n",
       "\t-A_(3, 1)*P_(0, 0) + (-2*c_pa)*A_(3, 0)*A_(1, 0) + (-c_pa*mu_a + c_pa)*A_(3, 0)*A_(0, 0) + A_(3, 0)*P_(1, 0) + (-mu_a + 1)*A_(3, 0)*P_(0, 0) + (-2)*A_(2, 1)*P_(1, 0) + (-2*c_pa)*A_(2, 0)^2 + (-3*c_pa*mu_a + 3*c_pa)*A_(2, 0)*A_(1, 0) + 2*A_(2, 0)*P_(2, 0) + (-mu_a + 1)*A_(2, 0)*P_(1, 0) - A_(1, 1)*P_(2, 0) + A_(1, 0)*P_(3, 0) + (mu_a - 1)*A_(1, 0)*P_(2, 0) + (mu_a - 1)*A_(0, 0)*P_(3, 0) == 0\n",
       "}"
      ]
     },
     "execution_count": 7,
     "metadata": {},
     "output_type": "execute_result"
    }
   ],
   "source": [
    "new_system = system.extend_by_operation([2,2,2], operation=0)\n",
    "new_system"
   ]
  },
  {
   "cell_type": "code",
   "execution_count": 11,
   "metadata": {},
   "outputs": [
    {
     "data": {
      "text/html": [
       "<html>\\(\\displaystyle \\newcommand{\\Bold}[1]{\\mathbf{#1}}\\text{System over } \\left(\\Bold{Q}[c_{\\mathit{ea}}, c_{\\mathit{el}}, c_{\\mathit{pa}}, b, \\mu_{l}, \\mu_{a}], \\left(0, \\text{id}\\right)\\right) \\{ A, P \\} \\text{ with variables } A_{\\ast} :\n",
       "\n",
       " \\left\\{\\begin{array}{ll} \\left(c_{\\mathit{ea}} \\mu_{l} - c_{\\mathit{ea}}\\right) A_{(1, 0)} A_{(0, 0)} P_{(0, 2)} + \\left(c_{\\mathit{el}} \\mu_{l} - c_{\\mathit{el}}\\right) A_{(0, 0)} P_{(1, 1)} P_{(0, 2)} + \\left(-b \\mu_{l} + b\\right) A_{(1, 0)} P_{(0, 2)} + \\left(-b\\right) A_{(0, 0)} P_{(1, 2)} & = 0 \\\\\n",
       "-A_{(1, 1)} P_{(0, 0)} + \\left(-c_{\\mathit{pa}}\\right) A_{(1, 0)}^{2} + \\left(-c_{\\mathit{pa}} \\mu_{a} + c_{\\mathit{pa}}\\right) A_{(1, 0)} A_{(0, 0)} + 1 A_{(1, 0)} P_{(1, 0)} + \\left(-\\mu_{a} + 1\\right) A_{(1, 0)} P_{(0, 0)} + \\left(\\mu_{a} - 1\\right) A_{(0, 0)} P_{(1, 0)} & = 0 \\\\ \n",
       "\\end{array}\\right.\\)</html>"
      ],
      "text/latex": [
       "$\\displaystyle \\newcommand{\\Bold}[1]{\\mathbf{#1}}\\text{System over } \\left(\\Bold{Q}[c_{\\mathit{ea}}, c_{\\mathit{el}}, c_{\\mathit{pa}}, b, \\mu_{l}, \\mu_{a}], \\left(0, \\text{id}\\right)\\right) \\{ A, P \\} \\text{ with variables } A_{\\ast} :\n",
       "\n",
       " \\left\\{\\begin{array}{ll} \\left(c_{\\mathit{ea}} \\mu_{l} - c_{\\mathit{ea}}\\right) A_{(1, 0)} A_{(0, 0)} P_{(0, 2)} + \\left(c_{\\mathit{el}} \\mu_{l} - c_{\\mathit{el}}\\right) A_{(0, 0)} P_{(1, 1)} P_{(0, 2)} + \\left(-b \\mu_{l} + b\\right) A_{(1, 0)} P_{(0, 2)} + \\left(-b\\right) A_{(0, 0)} P_{(1, 2)} & = 0 \\\\\n",
       "-A_{(1, 1)} P_{(0, 0)} + \\left(-c_{\\mathit{pa}}\\right) A_{(1, 0)}^{2} + \\left(-c_{\\mathit{pa}} \\mu_{a} + c_{\\mathit{pa}}\\right) A_{(1, 0)} A_{(0, 0)} + 1 A_{(1, 0)} P_{(1, 0)} + \\left(-\\mu_{a} + 1\\right) A_{(1, 0)} P_{(0, 0)} + \\left(\\mu_{a} - 1\\right) A_{(0, 0)} P_{(1, 0)} & = 0 \\\\ \n",
       "\\end{array}\\right.$"
      ],
      "text/plain": [
       "System over [Ring of operator polynomials in (A, P) over Ring [[Multivariate Polynomial Ring in c_ea, c_el, c_pa, b, mu_l, mu_a over Rational Field], (0, Id)]] with variables [(A_*,)]:\n",
       "{\n",
       "\t(c_ea*mu_l - c_ea)*A_(1, 0)*A_(0, 0)*P_(0, 2) + (c_el*mu_l - c_el)*A_(0, 0)*P_(1, 1)*P_(0, 2) + (-b*mu_l + b)*A_(1, 0)*P_(0, 2) + (-b)*A_(0, 0)*P_(1, 2) == 0\n",
       "\t-A_(1, 1)*P_(0, 0) + (-c_pa)*A_(1, 0)^2 + (-c_pa*mu_a + c_pa)*A_(1, 0)*A_(0, 0) + A_(1, 0)*P_(1, 0) + (-mu_a + 1)*A_(1, 0)*P_(0, 0) + (mu_a - 1)*A_(0, 0)*P_(1, 0) == 0\n",
       "}"
      ]
     },
     "execution_count": 11,
     "metadata": {},
     "output_type": "execute_result"
    }
   ],
   "source": [
    "system"
   ]
  },
  {
   "cell_type": "code",
   "execution_count": null,
   "metadata": {},
   "outputs": [],
   "source": []
  }
 ],
 "metadata": {
  "kernelspec": {
   "display_name": "SageMath 9.7",
   "language": "sage",
   "name": "sagemath"
  },
  "language_info": {
   "codemirror_mode": {
    "name": "ipython",
    "version": 3
   },
   "file_extension": ".py",
   "mimetype": "text/x-python",
   "name": "python",
   "nbconvert_exporter": "python",
   "pygments_lexer": "ipython3",
   "version": "3.10.5"
  }
 },
 "nbformat": 4,
 "nbformat_minor": 4
}
