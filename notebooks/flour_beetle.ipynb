{
 "cells": [
  {
   "cell_type": "markdown",
   "metadata": {},
   "source": [
    "const -> c1, c2, c3, c4, b\n",
    "\n",
    "vars -> L, A, P\n",
    "\n",
    "exponentials = e^{-c1A - c2L} := X1, e^{-c3A} := X2"
   ]
  },
  {
   "cell_type": "code",
   "execution_count": 15,
   "metadata": {},
   "outputs": [],
   "source": [
    "%display latex\n",
    "from dalgebra import *\n",
    "\n",
    "## we add some lines to do some time control on executions\n",
    "import signal\n",
    "from contextlib import contextmanager\n",
    "\n",
    "\n",
    "@contextmanager\n",
    "def timeout(time):\n",
    "    # Register a function to raise a TimeoutError on the signal.\n",
    "    signal.signal(signal.SIGALRM, raise_timeout)\n",
    "    # Schedule the signal to be sent after ``time``.\n",
    "    signal.alarm(time)\n",
    "\n",
    "    try:\n",
    "        yield\n",
    "    except TimeoutError:\n",
    "        print(f\"Timeout of {time} seconds expired for execution\")\n",
    "    finally:\n",
    "        # Unregister the signal so it won't be triggered\n",
    "        # if the timeout is not reached.\n",
    "        signal.signal(signal.SIGALRM, signal.SIG_IGN)\n",
    "        \n",
    "def raise_timeout(signum, frame):\n",
    "    raise TimeoutError"
   ]
  },
  {
   "cell_type": "code",
   "execution_count": 16,
   "metadata": {},
   "outputs": [
    {
     "data": {
      "text/html": [
       "<html><script type=\"math/tex; mode=display\">\\newcommand{\\Bold}[1]{\\mathbf{#1}}\\left( \\Bold{Q}[c_{1}, c_{2}, c_{3}, c_{4}, c_{5}, b] , \\begin{array}{rcl}c_{1} \\mapsto 0\\\\c_{2} \\mapsto 0\\\\c_{3} \\mapsto 0\\\\c_{4} \\mapsto 0\\\\c_{5} \\mapsto 0\\\\b \\mapsto 0\\end{array} \\right) \\{ A, A1, L, L1, L2, P \\}</script></html>"
      ],
      "text/latex": [
       "$$\\newcommand{\\Bold}[1]{\\mathbf{#1}}\\left( \\Bold{Q}[c_{1}, c_{2}, c_{3}, c_{4}, c_{5}, b] , \\begin{array}{rcl}c_{1} \\mapsto 0\\\\c_{2} \\mapsto 0\\\\c_{3} \\mapsto 0\\\\c_{4} \\mapsto 0\\\\c_{5} \\mapsto 0\\\\b \\mapsto 0\\end{array} \\right) \\{ A, A1, L, L1, L2, P \\}$$"
      ],
      "text/plain": [
       "Ring of differential polynomials in (A, A1, L, L1, L2, P) over Differential Ring [Multivariate Polynomial Ring in c_1, c_2, c_3, c_4, c_5, b over Rational Field] with derivation [Map from callable <lambda>]"
      ]
     },
     "execution_count": 16,
     "metadata": {},
     "output_type": "execute_result"
    }
   ],
   "source": [
    "R.<c_1,c_2,c_3,c_4,c_5, b> = QQ[]\n",
    "DR = DifferentialRing(R)\n",
    "\n",
    "D.<A, A1, L, L1, L2, P> = DifferentialPolynomialRing(DR); D"
   ]
  },
  {
   "cell_type": "code",
   "execution_count": 45,
   "metadata": {},
   "outputs": [
    {
     "data": {
      "text/html": [
       "<html><script type=\"math/tex; mode=display\">\\newcommand{\\Bold}[1]{\\mathbf{#1}}\\text{System over } \\left( \\Bold{Q}[c_{1}, c_{2}, c_{3}, c_{4}, c_{5}, b] , \\begin{array}{rcl}c_{1} \\mapsto 0\\\\c_{2} \\mapsto 0\\\\c_{3} \\mapsto 0\\\\c_{4} \\mapsto 0\\\\c_{5} \\mapsto 0\\\\b \\mapsto 0\\end{array} \\right) \\{ A, A1, L, L1, L2, P \\} \\text{ with variables } A_{\\ast}, \\mathit{A1}_{\\ast} :\n",
       "\n",
       " \\left\\{\\begin{array}{ll} \\left(-c_{1}\\right) A_{1} A_{0} \\mathit{L1}_{0} + \\left(-c_{2}\\right) A_{0} L_{1} \\mathit{L1}_{0} + 1 A_{1} \\mathit{L1}_{0} - A_{0} \\mathit{L1}_{1} & = 0 \\\\\n",
       "\\left(-c_{1}\\right) \\mathit{A1}_{1} \\mathit{A1}_{0} \\mathit{L2}_{0} + \\left(-c_{2}\\right) \\mathit{A1}_{0} \\mathit{L1}_{1} \\mathit{L2}_{0} + 1 A_{1} \\mathit{L1}_{0} - \\mathit{A1}_{0} \\mathit{L2}_{1} & = 0 \\\\\n",
       "\\left(-c_{3} c_{5}\\right) A_{1} A_{0} P_{0} + \\left(-c_{3}\\right) A_{1} \\mathit{A1}_{0} P_{0} + \\left(-c_{5}\\right) A_{1} P_{0} + c_{5} A_{0} P_{1} - \\mathit{A1}_{1} P_{0} + 1 \\mathit{A1}_{0} P_{1} & = 0 \\\\ \n",
       "\\end{array}\\right.</script></html>"
      ],
      "text/latex": [
       "$$\\newcommand{\\Bold}[1]{\\mathbf{#1}}\\text{System over } \\left( \\Bold{Q}[c_{1}, c_{2}, c_{3}, c_{4}, c_{5}, b] , \\begin{array}{rcl}c_{1} \\mapsto 0\\\\c_{2} \\mapsto 0\\\\c_{3} \\mapsto 0\\\\c_{4} \\mapsto 0\\\\c_{5} \\mapsto 0\\\\b \\mapsto 0\\end{array} \\right) \\{ A, A1, L, L1, L2, P \\} \\text{ with variables } A_{\\ast}, \\mathit{A1}_{\\ast} :\n",
       "\n",
       " \\left\\{\\begin{array}{ll} \\left(-c_{1}\\right) A_{1} A_{0} \\mathit{L1}_{0} + \\left(-c_{2}\\right) A_{0} L_{1} \\mathit{L1}_{0} + 1 A_{1} \\mathit{L1}_{0} - A_{0} \\mathit{L1}_{1} & = 0 \\\\\n",
       "\\left(-c_{1}\\right) \\mathit{A1}_{1} \\mathit{A1}_{0} \\mathit{L2}_{0} + \\left(-c_{2}\\right) \\mathit{A1}_{0} \\mathit{L1}_{1} \\mathit{L2}_{0} + 1 A_{1} \\mathit{L1}_{0} - \\mathit{A1}_{0} \\mathit{L2}_{1} & = 0 \\\\\n",
       "\\left(-c_{3} c_{5}\\right) A_{1} A_{0} P_{0} + \\left(-c_{3}\\right) A_{1} \\mathit{A1}_{0} P_{0} + \\left(-c_{5}\\right) A_{1} P_{0} + c_{5} A_{0} P_{1} - \\mathit{A1}_{1} P_{0} + 1 \\mathit{A1}_{0} P_{1} & = 0 \\\\ \n",
       "\\end{array}\\right.$$"
      ],
      "text/plain": [
       "System over [Ring of differential polynomials in (A, A1, L, L1, L2, P) over Differential Ring [Multivariate Polynomial Ring in c_1, c_2, c_3, c_4, c_5, b over Rational Field] with derivation [Map from callable <lambda>]] with variables [(A_*, A1_*)]:\n",
       "{\n",
       "\t(-c_1)*A_1*A_0*L1_0 + (-c_2)*A_0*L_1*L1_0 + A_1*L1_0 - A_0*L1_1 == 0\n",
       "\t(-c_1)*A1_1*A1_0*L2_0 + (-c_2)*A1_0*L1_1*L2_0 + A_1*L1_0 - A1_0*L2_1 == 0\n",
       "\t(-c_3*c_5)*A_1*A_0*P_0 + (-c_3)*A_1*A1_0*P_0 + (-c_5)*A_1*P_0 + c_5*A_0*P_1 - A1_1*P_0 + A1_0*P_1 == 0\n",
       "}"
      ]
     },
     "execution_count": 45,
     "metadata": {},
     "output_type": "execute_result"
    }
   ],
   "source": [
    "system = DifferentialSystem([\n",
    "-A[0]*A[1]*L1[0]*c_1-A[0]*L[1]*L1[0]*c_2-A[0]*L1[1]+A[1]*L1[0], \n",
    "-A1[0]*A1[1]*L2[0]*c_1-A1[0]*L1[1]*L2[0]*c_2-A1[0]*L2[1]+A[1]*L1[0],\n",
    "-P[0]*A[0]*A[1]*c_3*c_5-A1[0]*P[0]*A[1]*c_3-P[0]*A[1]*c_5+P[1]*A[0]*c_5-A1[1]*P[0]+A1[0]*P[1]\n",
    "], variables=[A, A1])\n",
    "system"
   ]
  },
  {
   "cell_type": "code",
   "execution_count": 46,
   "metadata": {},
   "outputs": [
    {
     "name": "stdout",
     "output_type": "stream",
     "text": [
      "Getting the appropriate extension for having a SP2 system...\n",
      "Trying the extension (0, 0, 0)\n",
      "Trying the extension (1, 0, 0)\n",
      "Trying the extension (0, 1, 0)\n",
      "Trying the extension (0, 0, 1)\n",
      "Trying the extension (2, 0, 0)\n",
      "Trying the extension (1, 1, 0)\n",
      "Trying the extension (1, 0, 1)\n",
      "Trying the extension (0, 2, 0)\n",
      "Trying the extension (0, 1, 1)\n",
      "Trying the extension (0, 0, 2)\n",
      "Trying the extension (3, 0, 0)\n",
      "Trying the extension (2, 1, 0)\n",
      "Trying the extension (2, 0, 1)\n",
      "Trying the extension (1, 2, 0)\n",
      "Trying the extension (1, 1, 1)\n",
      "Trying the extension (1, 0, 2)\n",
      "Trying the extension (0, 3, 0)\n",
      "Trying the extension (0, 2, 1)\n",
      "Trying the extension (0, 1, 2)\n",
      "Trying the extension (0, 0, 3)\n",
      "Trying the extension (4, 0, 0)\n",
      "Trying the extension (3, 1, 0)\n",
      "Trying the extension (3, 0, 1)\n",
      "Trying the extension (2, 2, 0)\n",
      "Trying the extension (2, 1, 1)\n",
      "Trying the extension (2, 0, 2)\n",
      "Trying the extension (1, 3, 0)\n",
      "Trying the extension (1, 2, 1)\n",
      "Trying the extension (1, 1, 2)\n",
      "Trying the extension (1, 0, 3)\n",
      "Trying the extension (0, 4, 0)\n",
      "Trying the extension (0, 3, 1)\n",
      "Trying the extension (0, 2, 2)\n",
      "Trying the extension (0, 1, 3)\n",
      "Trying the extension (0, 0, 4)\n",
      "Trying the extension (5, 0, 0)\n",
      "Trying the extension (4, 1, 0)\n",
      "Trying the extension (4, 0, 1)\n",
      "Trying the extension (3, 2, 0)\n",
      "Trying the extension (3, 1, 1)\n",
      "Trying the extension (3, 0, 2)\n",
      "Trying the extension (2, 3, 0)\n",
      "Trying the extension (2, 2, 1)\n",
      "Trying the extension (2, 1, 2)\n",
      "Trying the extension (2, 0, 3)\n",
      "Trying the extension (1, 4, 0)\n",
      "Trying the extension (1, 3, 1)\n",
      "Trying the extension (1, 2, 2)\n",
      "Trying the extension (1, 1, 3)\n",
      "Trying the extension (1, 0, 4)\n",
      "Trying the extension (0, 5, 0)\n",
      "Trying the extension (0, 4, 1)\n",
      "Trying the extension (0, 3, 2)\n",
      "Trying the extension (0, 2, 3)\n",
      "Trying the extension (0, 1, 4)\n",
      "Trying the extension (0, 0, 5)\n",
      "Trying the extension (6, 0, 0)\n",
      "Trying the extension (5, 1, 0)\n",
      "Trying the extension (5, 0, 1)\n",
      "Trying the extension (4, 2, 0)\n",
      "Trying the extension (4, 1, 1)\n",
      "Trying the extension (4, 0, 2)\n",
      "Trying the extension (3, 3, 0)\n",
      "Trying the extension (3, 2, 1)\n",
      "Trying the extension (3, 1, 2)\n",
      "Trying the extension (3, 0, 3)\n",
      "Trying the extension (2, 4, 0)\n",
      "Trying the extension (2, 3, 1)\n",
      "Trying the extension (2, 2, 2)\n",
      "Found the valid extension (2, 2, 2)\n",
      "Getting the homogenize version of the equations...\n",
      "Computing the Macaulay resultant...\n"
     ]
    },
    {
     "ename": "MemoryError",
     "evalue": "",
     "output_type": "error",
     "traceback": [
      "\u001b[0;31m---------------------------------------------------------------------------\u001b[0m",
      "\u001b[0;31mMemoryError\u001b[0m                               Traceback (most recent call last)",
      "\u001b[0;32m<ipython-input-46-e1adcbb249f2>\u001b[0m in \u001b[0;36m<module>\u001b[0;34m\u001b[0m\n\u001b[0;32m----> 1\u001b[0;31m \u001b[0msystem\u001b[0m\u001b[0;34m.\u001b[0m\u001b[0mdiff_resultant\u001b[0m\u001b[0;34m(\u001b[0m\u001b[0malg_res\u001b[0m\u001b[0;34m=\u001b[0m\u001b[0;34m\"macaulay\"\u001b[0m\u001b[0;34m)\u001b[0m\u001b[0;34m\u001b[0m\u001b[0;34m\u001b[0m\u001b[0m\n\u001b[0m",
      "\u001b[0;32m~/sage/local/lib/python3.9/site-packages/dalgebra/logging/logging.py\u001b[0m in \u001b[0;36mwrap\u001b[0;34m(verbose, *args, **kwds)\u001b[0m\n\u001b[1;32m     41\u001b[0m                     \u001b[0mlogger\u001b[0m\u001b[0;34m.\u001b[0m\u001b[0msetLevel\u001b[0m\u001b[0;34m(\u001b[0m\u001b[0mlogging\u001b[0m\u001b[0;34m.\u001b[0m\u001b[0mINFO\u001b[0m\u001b[0;34m)\u001b[0m\u001b[0;34m\u001b[0m\u001b[0;34m\u001b[0m\u001b[0m\n\u001b[1;32m     42\u001b[0m \u001b[0;34m\u001b[0m\u001b[0m\n\u001b[0;32m---> 43\u001b[0;31m             \u001b[0mout\u001b[0m \u001b[0;34m=\u001b[0m \u001b[0mfunc\u001b[0m\u001b[0;34m(\u001b[0m\u001b[0;34m*\u001b[0m\u001b[0margs\u001b[0m\u001b[0;34m,\u001b[0m \u001b[0;34m**\u001b[0m\u001b[0mkwds\u001b[0m\u001b[0;34m)\u001b[0m\u001b[0;34m\u001b[0m\u001b[0;34m\u001b[0m\u001b[0m\n\u001b[0m\u001b[1;32m     44\u001b[0m \u001b[0;34m\u001b[0m\u001b[0m\n\u001b[1;32m     45\u001b[0m             \u001b[0;32mif\u001b[0m \u001b[0mverbose\u001b[0m\u001b[0;34m:\u001b[0m\u001b[0;34m\u001b[0m\u001b[0;34m\u001b[0m\u001b[0m\n",
      "\u001b[0;32m~/sage/local/lib/python3.9/site-packages/dalgebra/diff_polynomial/diff_polynomial_system.py\u001b[0m in \u001b[0;36mdiff_resultant\u001b[0;34m(self, bound_L, alg_res)\u001b[0m\n\u001b[1;32m    704\u001b[0m                 \u001b[0moutput\u001b[0m \u001b[0;34m=\u001b[0m \u001b[0mself\u001b[0m\u001b[0;34m.\u001b[0m\u001b[0m__dixon\u001b[0m\u001b[0;34m(\u001b[0m\u001b[0mbound_L\u001b[0m\u001b[0;34m)\u001b[0m\u001b[0;34m\u001b[0m\u001b[0;34m\u001b[0m\u001b[0m\n\u001b[1;32m    705\u001b[0m             \u001b[0;32melif\u001b[0m\u001b[0;34m(\u001b[0m\u001b[0mto_use_alg\u001b[0m \u001b[0;34m==\u001b[0m \u001b[0;34m\"macaulay\"\u001b[0m\u001b[0;34m)\u001b[0m\u001b[0;34m:\u001b[0m\u001b[0;34m\u001b[0m\u001b[0;34m\u001b[0m\u001b[0m\n\u001b[0;32m--> 706\u001b[0;31m                 \u001b[0moutput\u001b[0m \u001b[0;34m=\u001b[0m \u001b[0mself\u001b[0m\u001b[0;34m.\u001b[0m\u001b[0m__macaulay\u001b[0m\u001b[0;34m(\u001b[0m\u001b[0mbound_L\u001b[0m\u001b[0;34m)\u001b[0m\u001b[0;34m\u001b[0m\u001b[0;34m\u001b[0m\u001b[0m\n\u001b[0m\u001b[1;32m    707\u001b[0m             \u001b[0;32melif\u001b[0m\u001b[0;34m(\u001b[0m\u001b[0mto_use_alg\u001b[0m \u001b[0;34m==\u001b[0m \u001b[0;34m\"iterative\"\u001b[0m\u001b[0;34m)\u001b[0m\u001b[0;34m:\u001b[0m\u001b[0;34m\u001b[0m\u001b[0;34m\u001b[0m\u001b[0m\n\u001b[1;32m    708\u001b[0m                 \u001b[0moutput\u001b[0m \u001b[0;34m=\u001b[0m \u001b[0mself\u001b[0m\u001b[0;34m.\u001b[0m\u001b[0m__iterative\u001b[0m\u001b[0;34m(\u001b[0m\u001b[0mbound_L\u001b[0m\u001b[0;34m,\u001b[0m \u001b[0malg_res\u001b[0m\u001b[0;34m)\u001b[0m\u001b[0;34m\u001b[0m\u001b[0;34m\u001b[0m\u001b[0m\n",
      "\u001b[0;32m~/sage/local/lib/python3.9/site-packages/dalgebra/diff_polynomial/diff_polynomial_system.py\u001b[0m in \u001b[0;36m__macaulay\u001b[0;34m(self, bound)\u001b[0m\n\u001b[1;32m    771\u001b[0m         \u001b[0mring\u001b[0m \u001b[0;34m=\u001b[0m \u001b[0mequs\u001b[0m\u001b[0;34m[\u001b[0m\u001b[0;36m0\u001b[0m\u001b[0;34m]\u001b[0m\u001b[0;34m.\u001b[0m\u001b[0mparent\u001b[0m\u001b[0;34m(\u001b[0m\u001b[0;34m)\u001b[0m\u001b[0;34m\u001b[0m\u001b[0;34m\u001b[0m\u001b[0m\n\u001b[1;32m    772\u001b[0m         \u001b[0mlogger\u001b[0m\u001b[0;34m.\u001b[0m\u001b[0minfo\u001b[0m\u001b[0;34m(\u001b[0m\u001b[0;34m\"Computing the Macaulay resultant...\"\u001b[0m\u001b[0;34m)\u001b[0m\u001b[0;34m\u001b[0m\u001b[0;34m\u001b[0m\u001b[0m\n\u001b[0;32m--> 773\u001b[0;31m         \u001b[0;32mreturn\u001b[0m \u001b[0mring\u001b[0m\u001b[0;34m.\u001b[0m\u001b[0mmacaulay_resultant\u001b[0m\u001b[0;34m(\u001b[0m\u001b[0mequs\u001b[0m\u001b[0;34m)\u001b[0m\u001b[0;34m\u001b[0m\u001b[0;34m\u001b[0m\u001b[0m\n\u001b[0m\u001b[1;32m    774\u001b[0m \u001b[0;34m\u001b[0m\u001b[0m\n\u001b[1;32m    775\u001b[0m     \u001b[0;32mdef\u001b[0m \u001b[0m__iterative\u001b[0m\u001b[0;34m(\u001b[0m\u001b[0mself\u001b[0m\u001b[0;34m,\u001b[0m \u001b[0mbound\u001b[0m\u001b[0;34m,\u001b[0m \u001b[0malg_res\u001b[0m \u001b[0;34m=\u001b[0m \u001b[0;34m\"auto\"\u001b[0m\u001b[0;34m)\u001b[0m\u001b[0;34m:\u001b[0m\u001b[0;34m\u001b[0m\u001b[0;34m\u001b[0m\u001b[0m\n",
      "\u001b[0;32m~/sage/local/lib/python3.9/site-packages/sage/rings/polynomial/multi_polynomial_ring_base.pyx\u001b[0m in \u001b[0;36msage.rings.polynomial.multi_polynomial_ring_base.MPolynomialRing_base.macaulay_resultant (build/cythonized/sage/rings/polynomial/multi_polynomial_ring_base.c:18214)\u001b[0;34m()\u001b[0m\n\u001b[1;32m   1427\u001b[0m         \u001b[0;31m# strip coefficients of the input polynomials:\u001b[0m\u001b[0;34m\u001b[0m\u001b[0;34m\u001b[0m\u001b[0;34m\u001b[0m\u001b[0m\n\u001b[1;32m   1428\u001b[0m         \u001b[0mflist\u001b[0m\u001b[0;34m=\u001b[0m\u001b[0;34m[\u001b[0m\u001b[0;34m[\u001b[0m\u001b[0mf\u001b[0m\u001b[0;34m.\u001b[0m\u001b[0mexponents\u001b[0m\u001b[0;34m(\u001b[0m\u001b[0;34m)\u001b[0m\u001b[0;34m,\u001b[0m\u001b[0mf\u001b[0m\u001b[0;34m.\u001b[0m\u001b[0mcoefficients\u001b[0m\u001b[0;34m(\u001b[0m\u001b[0;34m)\u001b[0m\u001b[0;34m]\u001b[0m \u001b[0;32mfor\u001b[0m \u001b[0mf\u001b[0m \u001b[0;32min\u001b[0m \u001b[0mflist\u001b[0m\u001b[0;34m]\u001b[0m\u001b[0;34m\u001b[0m\u001b[0;34m\u001b[0m\u001b[0m\n\u001b[0;32m-> 1429\u001b[0;31m         \u001b[0mnumer_matrix\u001b[0m \u001b[0;34m=\u001b[0m \u001b[0mzero_matrix\u001b[0m\u001b[0;34m(\u001b[0m\u001b[0mself\u001b[0m\u001b[0;34m.\u001b[0m\u001b[0mbase_ring\u001b[0m\u001b[0;34m(\u001b[0m\u001b[0;34m)\u001b[0m\u001b[0;34m,\u001b[0m\u001b[0mmons_num\u001b[0m\u001b[0;34m,\u001b[0m \u001b[0msparse\u001b[0m\u001b[0;34m=\u001b[0m\u001b[0msparse\u001b[0m\u001b[0;34m)\u001b[0m\u001b[0;34m\u001b[0m\u001b[0;34m\u001b[0m\u001b[0m\n\u001b[0m\u001b[1;32m   1430\u001b[0m \u001b[0;34m\u001b[0m\u001b[0m\n\u001b[1;32m   1431\u001b[0m         \u001b[0;32mfor\u001b[0m \u001b[0mj\u001b[0m\u001b[0;34m,\u001b[0m\u001b[0mmon\u001b[0m \u001b[0;32min\u001b[0m \u001b[0menumerate\u001b[0m\u001b[0;34m(\u001b[0m\u001b[0mmons\u001b[0m\u001b[0;34m)\u001b[0m\u001b[0;34m:\u001b[0m\u001b[0;34m\u001b[0m\u001b[0;34m\u001b[0m\u001b[0m\n",
      "\u001b[0;32m~/sage/local/lib/python3.9/site-packages/sage/matrix/special.py\u001b[0m in \u001b[0;36mzero_matrix\u001b[0;34m(ring, nrows, ncols, sparse)\u001b[0m\n\u001b[1;32m    947\u001b[0m         \u001b[0mnrows\u001b[0m\u001b[0;34m,\u001b[0m \u001b[0mncols\u001b[0m \u001b[0;34m=\u001b[0m \u001b[0;34m(\u001b[0m\u001b[0mring\u001b[0m\u001b[0;34m,\u001b[0m \u001b[0mnrows\u001b[0m\u001b[0;34m)\u001b[0m\u001b[0;34m\u001b[0m\u001b[0;34m\u001b[0m\u001b[0m\n\u001b[1;32m    948\u001b[0m         \u001b[0mring\u001b[0m \u001b[0;34m=\u001b[0m \u001b[0mZZ\u001b[0m\u001b[0;34m\u001b[0m\u001b[0;34m\u001b[0m\u001b[0m\n\u001b[0;32m--> 949\u001b[0;31m     \u001b[0;32mreturn\u001b[0m \u001b[0mmatrix_space\u001b[0m\u001b[0;34m.\u001b[0m\u001b[0mMatrixSpace\u001b[0m\u001b[0;34m(\u001b[0m\u001b[0mring\u001b[0m\u001b[0;34m,\u001b[0m \u001b[0mnrows\u001b[0m\u001b[0;34m,\u001b[0m \u001b[0mncols\u001b[0m\u001b[0;34m,\u001b[0m \u001b[0msparse\u001b[0m\u001b[0;34m)\u001b[0m\u001b[0;34m(\u001b[0m\u001b[0;36m0\u001b[0m\u001b[0;34m)\u001b[0m\u001b[0;34m\u001b[0m\u001b[0;34m\u001b[0m\u001b[0m\n\u001b[0m\u001b[1;32m    950\u001b[0m \u001b[0;34m\u001b[0m\u001b[0m\n\u001b[1;32m    951\u001b[0m \u001b[0;34m\u001b[0m\u001b[0m\n",
      "\u001b[0;32m~/sage/local/lib/python3.9/site-packages/sage/matrix/matrix_space.py\u001b[0m in \u001b[0;36m__call__\u001b[0;34m(self, entries, coerce, copy)\u001b[0m\n\u001b[1;32m    848\u001b[0m             \u001b[0;34m[\u001b[0m\u001b[0mt\u001b[0m\u001b[0;34m]\u001b[0m\u001b[0;34m\u001b[0m\u001b[0;34m\u001b[0m\u001b[0m\n\u001b[1;32m    849\u001b[0m         \"\"\"\n\u001b[0;32m--> 850\u001b[0;31m         \u001b[0;32mreturn\u001b[0m \u001b[0mself\u001b[0m\u001b[0;34m.\u001b[0m\u001b[0melement_class\u001b[0m\u001b[0;34m(\u001b[0m\u001b[0mself\u001b[0m\u001b[0;34m,\u001b[0m \u001b[0mentries\u001b[0m\u001b[0;34m,\u001b[0m \u001b[0mcopy\u001b[0m\u001b[0;34m,\u001b[0m \u001b[0mcoerce\u001b[0m\u001b[0;34m)\u001b[0m\u001b[0;34m\u001b[0m\u001b[0;34m\u001b[0m\u001b[0m\n\u001b[0m\u001b[1;32m    851\u001b[0m \u001b[0;34m\u001b[0m\u001b[0m\n\u001b[1;32m    852\u001b[0m     \u001b[0;32mdef\u001b[0m \u001b[0mchange_ring\u001b[0m\u001b[0;34m(\u001b[0m\u001b[0mself\u001b[0m\u001b[0;34m,\u001b[0m \u001b[0mR\u001b[0m\u001b[0;34m)\u001b[0m\u001b[0;34m:\u001b[0m\u001b[0;34m\u001b[0m\u001b[0;34m\u001b[0m\u001b[0m\n",
      "\u001b[0;32m~/sage/local/lib/python3.9/site-packages/sage/matrix/matrix_generic_dense.pyx\u001b[0m in \u001b[0;36msage.matrix.matrix_generic_dense.Matrix_generic_dense.__init__ (build/cythonized/sage/matrix/matrix_generic_dense.c:2856)\u001b[0;34m()\u001b[0m\n\u001b[1;32m     82\u001b[0m         \"\"\"\n\u001b[1;32m     83\u001b[0m         \u001b[0mma\u001b[0m \u001b[0;34m=\u001b[0m \u001b[0mMatrixArgs_init\u001b[0m\u001b[0;34m(\u001b[0m\u001b[0mparent\u001b[0m\u001b[0;34m,\u001b[0m \u001b[0mentries\u001b[0m\u001b[0;34m)\u001b[0m\u001b[0;34m\u001b[0m\u001b[0;34m\u001b[0m\u001b[0m\n\u001b[0;32m---> 84\u001b[0;31m         \u001b[0mself\u001b[0m\u001b[0;34m.\u001b[0m\u001b[0m_entries\u001b[0m \u001b[0;34m=\u001b[0m \u001b[0mma\u001b[0m\u001b[0;34m.\u001b[0m\u001b[0mlist\u001b[0m\u001b[0;34m(\u001b[0m\u001b[0mcoerce\u001b[0m\u001b[0;34m)\u001b[0m\u001b[0;34m\u001b[0m\u001b[0;34m\u001b[0m\u001b[0m\n\u001b[0m\u001b[1;32m     85\u001b[0m \u001b[0;34m\u001b[0m\u001b[0m\n\u001b[1;32m     86\u001b[0m     \u001b[0mcdef\u001b[0m \u001b[0mMatrix_generic_dense\u001b[0m \u001b[0m_new\u001b[0m\u001b[0;34m(\u001b[0m\u001b[0mself\u001b[0m\u001b[0;34m,\u001b[0m \u001b[0mPy_ssize_t\u001b[0m \u001b[0mnrows\u001b[0m\u001b[0;34m,\u001b[0m \u001b[0mPy_ssize_t\u001b[0m \u001b[0mncols\u001b[0m\u001b[0;34m)\u001b[0m\u001b[0;34m:\u001b[0m\u001b[0;34m\u001b[0m\u001b[0;34m\u001b[0m\u001b[0m\n",
      "\u001b[0;32m~/sage/local/lib/python3.9/site-packages/sage/matrix/args.pyx\u001b[0m in \u001b[0;36msage.matrix.args.MatrixArgs.list (build/cythonized/sage/matrix/args.c:8357)\u001b[0;34m()\u001b[0m\n\u001b[1;32m    727\u001b[0m                     \u001b[0mL\u001b[0m \u001b[0;34m=\u001b[0m \u001b[0mL\u001b[0m\u001b[0;34m[\u001b[0m\u001b[0;34m:\u001b[0m\u001b[0;34m]\u001b[0m\u001b[0;34m\u001b[0m\u001b[0;34m\u001b[0m\u001b[0m\n\u001b[1;32m    728\u001b[0m         \u001b[0;32melse\u001b[0m\u001b[0;34m:\u001b[0m\u001b[0;34m\u001b[0m\u001b[0;34m\u001b[0m\u001b[0m\n\u001b[0;32m--> 729\u001b[0;31m             \u001b[0mL\u001b[0m \u001b[0;34m=\u001b[0m \u001b[0mlist\u001b[0m\u001b[0;34m(\u001b[0m\u001b[0mself\u001b[0m\u001b[0;34m.\u001b[0m\u001b[0miter\u001b[0m\u001b[0;34m(\u001b[0m\u001b[0mconvert\u001b[0m\u001b[0;34m)\u001b[0m\u001b[0;34m)\u001b[0m\u001b[0;34m\u001b[0m\u001b[0;34m\u001b[0m\u001b[0m\n\u001b[0m\u001b[1;32m    730\u001b[0m \u001b[0;34m\u001b[0m\u001b[0m\n\u001b[1;32m    731\u001b[0m         \u001b[0mcdef\u001b[0m \u001b[0mlong\u001b[0m \u001b[0mN\u001b[0m \u001b[0;34m=\u001b[0m \u001b[0mself\u001b[0m\u001b[0;34m.\u001b[0m\u001b[0mnrows\u001b[0m \u001b[0;34m*\u001b[0m \u001b[0mself\u001b[0m\u001b[0;34m.\u001b[0m\u001b[0mncols\u001b[0m\u001b[0;34m\u001b[0m\u001b[0;34m\u001b[0m\u001b[0m\n",
      "\u001b[0;31mMemoryError\u001b[0m: "
     ]
    }
   ],
   "source": [
    "system.diff_resultant(alg_res=\"macaulay\")"
   ]
  },
  {
   "cell_type": "code",
   "execution_count": 23,
   "metadata": {
    "scrolled": false
   },
   "outputs": [
    {
     "data": {
      "text/html": [
       "<html><script type=\"math/tex; mode=display\">\\newcommand{\\Bold}[1]{\\mathbf{#1}}8</script></html>"
      ],
      "text/latex": [
       "$$\\newcommand{\\Bold}[1]{\\mathbf{#1}}8$$"
      ],
      "text/plain": [
       "8"
      ]
     },
     "execution_count": 23,
     "metadata": {},
     "output_type": "execute_result"
    }
   ],
   "source": [
    "len(system.extend_by_derivation([2,2,2]).algebraic_variables())"
   ]
  },
  {
   "cell_type": "code",
   "execution_count": 25,
   "metadata": {},
   "outputs": [
    {
     "data": {
      "text/html": [
       "<html><script type=\"math/tex; mode=display\">\\newcommand{\\Bold}[1]{\\mathbf{#1}}\\text{System over } \\left( \\Bold{Q}[c_{1}, c_{2}, c_{3}, c_{4}, c_{5}, b] , \\begin{array}{rcl}c_{1} \\mapsto 0\\\\c_{2} \\mapsto 0\\\\c_{3} \\mapsto 0\\\\c_{4} \\mapsto 0\\\\c_{5} \\mapsto 0\\\\b \\mapsto 0\\end{array} \\right) \\{ A, A1, L, L1, L2, P \\} \\text{ with variables } A_{\\ast}, \\mathit{A1}_{\\ast} :\n",
       "\n",
       " \\left\\{\\begin{array}{ll} \\left(-c_{1}\\right) A_{1} A_{0} \\mathit{L1}_{0} + \\left(-c_{2}\\right) A_{0} L_{1} \\mathit{L1}_{0} + 1 A_{1} \\mathit{L1}_{0} - A_{0} \\mathit{L1}_{1} & = 0 \\\\\n",
       "\\left(-c_{1}\\right) A_{2} A_{0} \\mathit{L1}_{0} + \\left(-c_{1}\\right) A_{1}^{2} \\mathit{L1}_{0} + \\left(-c_{1}\\right) A_{1} A_{0} \\mathit{L1}_{1} + \\left(-c_{2}\\right) A_{1} L_{1} \\mathit{L1}_{0} + \\left(-c_{2}\\right) A_{0} L_{2} \\mathit{L1}_{0} + \\left(-c_{2}\\right) A_{0} L_{1} \\mathit{L1}_{1} + 1 A_{2} \\mathit{L1}_{0} - A_{0} \\mathit{L1}_{2} & = 0 \\\\\n",
       "\\left(-c_{1}\\right) A_{3} A_{0} \\mathit{L1}_{0} + \\left(-3 c_{1}\\right) A_{2} A_{1} \\mathit{L1}_{0} + \\left(-2 c_{1}\\right) A_{2} A_{0} \\mathit{L1}_{1} + \\left(-c_{2}\\right) A_{2} L_{1} \\mathit{L1}_{0} + \\left(-2 c_{1}\\right) A_{1}^{2} \\mathit{L1}_{1} + \\left(-c_{1}\\right) A_{1} A_{0} \\mathit{L1}_{2} + \\left(-2 c_{2}\\right) A_{1} L_{2} \\mathit{L1}_{0} + \\left(-2 c_{2}\\right) A_{1} L_{1} \\mathit{L1}_{1} + \\left(-c_{2}\\right) A_{0} L_{3} \\mathit{L1}_{0} + \\left(-2 c_{2}\\right) A_{0} L_{2} \\mathit{L1}_{1} + \\left(-c_{2}\\right) A_{0} L_{1} \\mathit{L1}_{2} + 1 A_{3} \\mathit{L1}_{0} + 1 A_{2} \\mathit{L1}_{1} - A_{1} \\mathit{L1}_{2} - A_{0} \\mathit{L1}_{3} & = 0 \\\\\n",
       "\\left(-c_{1}\\right) \\mathit{A1}_{1} \\mathit{A1}_{0} \\mathit{L2}_{0} + \\left(-c_{2}\\right) \\mathit{A1}_{0} \\mathit{L1}_{1} \\mathit{L2}_{0} + 1 A_{1} \\mathit{L1}_{0} - \\mathit{A1}_{0} \\mathit{L2}_{1} & = 0 \\\\\n",
       "\\left(-c_{1}\\right) \\mathit{A1}_{2} \\mathit{A1}_{0} \\mathit{L2}_{0} + \\left(-c_{1}\\right) \\mathit{A1}_{1}^{2} \\mathit{L2}_{0} + \\left(-c_{1}\\right) \\mathit{A1}_{1} \\mathit{A1}_{0} \\mathit{L2}_{1} + \\left(-c_{2}\\right) \\mathit{A1}_{1} \\mathit{L1}_{1} \\mathit{L2}_{0} + \\left(-c_{2}\\right) \\mathit{A1}_{0} \\mathit{L1}_{2} \\mathit{L2}_{0} + \\left(-c_{2}\\right) \\mathit{A1}_{0} \\mathit{L1}_{1} \\mathit{L2}_{1} + 1 A_{2} \\mathit{L1}_{0} + 1 A_{1} \\mathit{L1}_{1} - \\mathit{A1}_{1} \\mathit{L2}_{1} - \\mathit{A1}_{0} \\mathit{L2}_{2} & = 0 \\\\\n",
       "\\left(-c_{1}\\right) \\mathit{A1}_{3} \\mathit{A1}_{0} \\mathit{L2}_{0} + \\left(-3 c_{1}\\right) \\mathit{A1}_{2} \\mathit{A1}_{1} \\mathit{L2}_{0} + \\left(-2 c_{1}\\right) \\mathit{A1}_{2} \\mathit{A1}_{0} \\mathit{L2}_{1} + \\left(-c_{2}\\right) \\mathit{A1}_{2} \\mathit{L1}_{1} \\mathit{L2}_{0} + \\left(-2 c_{1}\\right) \\mathit{A1}_{1}^{2} \\mathit{L2}_{1} + \\left(-c_{1}\\right) \\mathit{A1}_{1} \\mathit{A1}_{0} \\mathit{L2}_{2} + \\left(-2 c_{2}\\right) \\mathit{A1}_{1} \\mathit{L1}_{2} \\mathit{L2}_{0} + \\left(-2 c_{2}\\right) \\mathit{A1}_{1} \\mathit{L1}_{1} \\mathit{L2}_{1} + \\left(-c_{2}\\right) \\mathit{A1}_{0} \\mathit{L1}_{3} \\mathit{L2}_{0} + \\left(-2 c_{2}\\right) \\mathit{A1}_{0} \\mathit{L1}_{2} \\mathit{L2}_{1} + \\left(-c_{2}\\right) \\mathit{A1}_{0} \\mathit{L1}_{1} \\mathit{L2}_{2} + 1 A_{3} \\mathit{L1}_{0} + 2 A_{2} \\mathit{L1}_{1} + 1 A_{1} \\mathit{L1}_{2} - \\mathit{A1}_{2} \\mathit{L2}_{1} + \\left(-2\\right) \\mathit{A1}_{1} \\mathit{L2}_{2} - \\mathit{A1}_{0} \\mathit{L2}_{3} & = 0 \\\\\n",
       "\\left(-c_{3} c_{5}\\right) A_{1} A_{0} P_{0} + \\left(-c_{3}\\right) A_{1} \\mathit{A1}_{0} P_{0} + \\left(-c_{5}\\right) A_{1} P_{0} + c_{5} A_{0} P_{1} - \\mathit{A1}_{1} P_{0} + 1 \\mathit{A1}_{0} P_{1} & = 0 \\\\\n",
       "\\left(-c_{3} c_{5}\\right) A_{2} A_{0} P_{0} + \\left(-c_{3}\\right) A_{2} \\mathit{A1}_{0} P_{0} + \\left(-c_{3} c_{5}\\right) A_{1}^{2} P_{0} + \\left(-c_{3} c_{5}\\right) A_{1} A_{0} P_{1} + \\left(-c_{3}\\right) A_{1} \\mathit{A1}_{1} P_{0} + \\left(-c_{3}\\right) A_{1} \\mathit{A1}_{0} P_{1} + \\left(-c_{5}\\right) A_{2} P_{0} + c_{5} A_{0} P_{2} - \\mathit{A1}_{2} P_{0} + 1 \\mathit{A1}_{0} P_{2} & = 0 \\\\\n",
       "\\left(-c_{3} c_{5}\\right) A_{3} A_{0} P_{0} + \\left(-c_{3}\\right) A_{3} \\mathit{A1}_{0} P_{0} + \\left(-3 c_{3} c_{5}\\right) A_{2} A_{1} P_{0} + \\left(-2 c_{3} c_{5}\\right) A_{2} A_{0} P_{1} + \\left(-2 c_{3}\\right) A_{2} \\mathit{A1}_{1} P_{0} + \\left(-2 c_{3}\\right) A_{2} \\mathit{A1}_{0} P_{1} + \\left(-2 c_{3} c_{5}\\right) A_{1}^{2} P_{1} + \\left(-c_{3} c_{5}\\right) A_{1} A_{0} P_{2} + \\left(-c_{3}\\right) A_{1} \\mathit{A1}_{2} P_{0} + \\left(-2 c_{3}\\right) A_{1} \\mathit{A1}_{1} P_{1} + \\left(-c_{3}\\right) A_{1} \\mathit{A1}_{0} P_{2} + \\left(-c_{5}\\right) A_{3} P_{0} + \\left(-c_{5}\\right) A_{2} P_{1} + c_{5} A_{1} P_{2} + c_{5} A_{0} P_{3} - \\mathit{A1}_{3} P_{0} - \\mathit{A1}_{2} P_{1} + 1 \\mathit{A1}_{1} P_{2} + 1 \\mathit{A1}_{0} P_{3} & = 0 \\\\ \n",
       "\\end{array}\\right.</script></html>"
      ],
      "text/latex": [
       "$$\\newcommand{\\Bold}[1]{\\mathbf{#1}}\\text{System over } \\left( \\Bold{Q}[c_{1}, c_{2}, c_{3}, c_{4}, c_{5}, b] , \\begin{array}{rcl}c_{1} \\mapsto 0\\\\c_{2} \\mapsto 0\\\\c_{3} \\mapsto 0\\\\c_{4} \\mapsto 0\\\\c_{5} \\mapsto 0\\\\b \\mapsto 0\\end{array} \\right) \\{ A, A1, L, L1, L2, P \\} \\text{ with variables } A_{\\ast}, \\mathit{A1}_{\\ast} :\n",
       "\n",
       " \\left\\{\\begin{array}{ll} \\left(-c_{1}\\right) A_{1} A_{0} \\mathit{L1}_{0} + \\left(-c_{2}\\right) A_{0} L_{1} \\mathit{L1}_{0} + 1 A_{1} \\mathit{L1}_{0} - A_{0} \\mathit{L1}_{1} & = 0 \\\\\n",
       "\\left(-c_{1}\\right) A_{2} A_{0} \\mathit{L1}_{0} + \\left(-c_{1}\\right) A_{1}^{2} \\mathit{L1}_{0} + \\left(-c_{1}\\right) A_{1} A_{0} \\mathit{L1}_{1} + \\left(-c_{2}\\right) A_{1} L_{1} \\mathit{L1}_{0} + \\left(-c_{2}\\right) A_{0} L_{2} \\mathit{L1}_{0} + \\left(-c_{2}\\right) A_{0} L_{1} \\mathit{L1}_{1} + 1 A_{2} \\mathit{L1}_{0} - A_{0} \\mathit{L1}_{2} & = 0 \\\\\n",
       "\\left(-c_{1}\\right) A_{3} A_{0} \\mathit{L1}_{0} + \\left(-3 c_{1}\\right) A_{2} A_{1} \\mathit{L1}_{0} + \\left(-2 c_{1}\\right) A_{2} A_{0} \\mathit{L1}_{1} + \\left(-c_{2}\\right) A_{2} L_{1} \\mathit{L1}_{0} + \\left(-2 c_{1}\\right) A_{1}^{2} \\mathit{L1}_{1} + \\left(-c_{1}\\right) A_{1} A_{0} \\mathit{L1}_{2} + \\left(-2 c_{2}\\right) A_{1} L_{2} \\mathit{L1}_{0} + \\left(-2 c_{2}\\right) A_{1} L_{1} \\mathit{L1}_{1} + \\left(-c_{2}\\right) A_{0} L_{3} \\mathit{L1}_{0} + \\left(-2 c_{2}\\right) A_{0} L_{2} \\mathit{L1}_{1} + \\left(-c_{2}\\right) A_{0} L_{1} \\mathit{L1}_{2} + 1 A_{3} \\mathit{L1}_{0} + 1 A_{2} \\mathit{L1}_{1} - A_{1} \\mathit{L1}_{2} - A_{0} \\mathit{L1}_{3} & = 0 \\\\\n",
       "\\left(-c_{1}\\right) \\mathit{A1}_{1} \\mathit{A1}_{0} \\mathit{L2}_{0} + \\left(-c_{2}\\right) \\mathit{A1}_{0} \\mathit{L1}_{1} \\mathit{L2}_{0} + 1 A_{1} \\mathit{L1}_{0} - \\mathit{A1}_{0} \\mathit{L2}_{1} & = 0 \\\\\n",
       "\\left(-c_{1}\\right) \\mathit{A1}_{2} \\mathit{A1}_{0} \\mathit{L2}_{0} + \\left(-c_{1}\\right) \\mathit{A1}_{1}^{2} \\mathit{L2}_{0} + \\left(-c_{1}\\right) \\mathit{A1}_{1} \\mathit{A1}_{0} \\mathit{L2}_{1} + \\left(-c_{2}\\right) \\mathit{A1}_{1} \\mathit{L1}_{1} \\mathit{L2}_{0} + \\left(-c_{2}\\right) \\mathit{A1}_{0} \\mathit{L1}_{2} \\mathit{L2}_{0} + \\left(-c_{2}\\right) \\mathit{A1}_{0} \\mathit{L1}_{1} \\mathit{L2}_{1} + 1 A_{2} \\mathit{L1}_{0} + 1 A_{1} \\mathit{L1}_{1} - \\mathit{A1}_{1} \\mathit{L2}_{1} - \\mathit{A1}_{0} \\mathit{L2}_{2} & = 0 \\\\\n",
       "\\left(-c_{1}\\right) \\mathit{A1}_{3} \\mathit{A1}_{0} \\mathit{L2}_{0} + \\left(-3 c_{1}\\right) \\mathit{A1}_{2} \\mathit{A1}_{1} \\mathit{L2}_{0} + \\left(-2 c_{1}\\right) \\mathit{A1}_{2} \\mathit{A1}_{0} \\mathit{L2}_{1} + \\left(-c_{2}\\right) \\mathit{A1}_{2} \\mathit{L1}_{1} \\mathit{L2}_{0} + \\left(-2 c_{1}\\right) \\mathit{A1}_{1}^{2} \\mathit{L2}_{1} + \\left(-c_{1}\\right) \\mathit{A1}_{1} \\mathit{A1}_{0} \\mathit{L2}_{2} + \\left(-2 c_{2}\\right) \\mathit{A1}_{1} \\mathit{L1}_{2} \\mathit{L2}_{0} + \\left(-2 c_{2}\\right) \\mathit{A1}_{1} \\mathit{L1}_{1} \\mathit{L2}_{1} + \\left(-c_{2}\\right) \\mathit{A1}_{0} \\mathit{L1}_{3} \\mathit{L2}_{0} + \\left(-2 c_{2}\\right) \\mathit{A1}_{0} \\mathit{L1}_{2} \\mathit{L2}_{1} + \\left(-c_{2}\\right) \\mathit{A1}_{0} \\mathit{L1}_{1} \\mathit{L2}_{2} + 1 A_{3} \\mathit{L1}_{0} + 2 A_{2} \\mathit{L1}_{1} + 1 A_{1} \\mathit{L1}_{2} - \\mathit{A1}_{2} \\mathit{L2}_{1} + \\left(-2\\right) \\mathit{A1}_{1} \\mathit{L2}_{2} - \\mathit{A1}_{0} \\mathit{L2}_{3} & = 0 \\\\\n",
       "\\left(-c_{3} c_{5}\\right) A_{1} A_{0} P_{0} + \\left(-c_{3}\\right) A_{1} \\mathit{A1}_{0} P_{0} + \\left(-c_{5}\\right) A_{1} P_{0} + c_{5} A_{0} P_{1} - \\mathit{A1}_{1} P_{0} + 1 \\mathit{A1}_{0} P_{1} & = 0 \\\\\n",
       "\\left(-c_{3} c_{5}\\right) A_{2} A_{0} P_{0} + \\left(-c_{3}\\right) A_{2} \\mathit{A1}_{0} P_{0} + \\left(-c_{3} c_{5}\\right) A_{1}^{2} P_{0} + \\left(-c_{3} c_{5}\\right) A_{1} A_{0} P_{1} + \\left(-c_{3}\\right) A_{1} \\mathit{A1}_{1} P_{0} + \\left(-c_{3}\\right) A_{1} \\mathit{A1}_{0} P_{1} + \\left(-c_{5}\\right) A_{2} P_{0} + c_{5} A_{0} P_{2} - \\mathit{A1}_{2} P_{0} + 1 \\mathit{A1}_{0} P_{2} & = 0 \\\\\n",
       "\\left(-c_{3} c_{5}\\right) A_{3} A_{0} P_{0} + \\left(-c_{3}\\right) A_{3} \\mathit{A1}_{0} P_{0} + \\left(-3 c_{3} c_{5}\\right) A_{2} A_{1} P_{0} + \\left(-2 c_{3} c_{5}\\right) A_{2} A_{0} P_{1} + \\left(-2 c_{3}\\right) A_{2} \\mathit{A1}_{1} P_{0} + \\left(-2 c_{3}\\right) A_{2} \\mathit{A1}_{0} P_{1} + \\left(-2 c_{3} c_{5}\\right) A_{1}^{2} P_{1} + \\left(-c_{3} c_{5}\\right) A_{1} A_{0} P_{2} + \\left(-c_{3}\\right) A_{1} \\mathit{A1}_{2} P_{0} + \\left(-2 c_{3}\\right) A_{1} \\mathit{A1}_{1} P_{1} + \\left(-c_{3}\\right) A_{1} \\mathit{A1}_{0} P_{2} + \\left(-c_{5}\\right) A_{3} P_{0} + \\left(-c_{5}\\right) A_{2} P_{1} + c_{5} A_{1} P_{2} + c_{5} A_{0} P_{3} - \\mathit{A1}_{3} P_{0} - \\mathit{A1}_{2} P_{1} + 1 \\mathit{A1}_{1} P_{2} + 1 \\mathit{A1}_{0} P_{3} & = 0 \\\\ \n",
       "\\end{array}\\right.$$"
      ],
      "text/plain": [
       "System over [Ring of differential polynomials in (A, A1, L, L1, L2, P) over Differential Ring [Multivariate Polynomial Ring in c_1, c_2, c_3, c_4, c_5, b over Rational Field] with derivation [Map from callable <lambda>]] with variables [(A_*, A1_*)]:\n",
       "{\n",
       "\t(-c_1)*A_1*A_0*L1_0 + (-c_2)*A_0*L_1*L1_0 + A_1*L1_0 - A_0*L1_1 == 0\n",
       "\t(-c_1)*A_2*A_0*L1_0 + (-c_1)*A_1^2*L1_0 + (-c_1)*A_1*A_0*L1_1 + (-c_2)*A_1*L_1*L1_0 + (-c_2)*A_0*L_2*L1_0 + (-c_2)*A_0*L_1*L1_1 + A_2*L1_0 - A_0*L1_2 == 0\n",
       "\t(-c_1)*A_3*A_0*L1_0 + (-3*c_1)*A_2*A_1*L1_0 + (-2*c_1)*A_2*A_0*L1_1 + (-c_2)*A_2*L_1*L1_0 + (-2*c_1)*A_1^2*L1_1 + (-c_1)*A_1*A_0*L1_2 + (-2*c_2)*A_1*L_2*L1_0 + (-2*c_2)*A_1*L_1*L1_1 + (-c_2)*A_0*L_3*L1_0 + (-2*c_2)*A_0*L_2*L1_1 + (-c_2)*A_0*L_1*L1_2 + A_3*L1_0 + A_2*L1_1 - A_1*L1_2 - A_0*L1_3 == 0\n",
       "\t(-c_1)*A1_1*A1_0*L2_0 + (-c_2)*A1_0*L1_1*L2_0 + A_1*L1_0 - A1_0*L2_1 == 0\n",
       "\t(-c_1)*A1_2*A1_0*L2_0 + (-c_1)*A1_1^2*L2_0 + (-c_1)*A1_1*A1_0*L2_1 + (-c_2)*A1_1*L1_1*L2_0 + (-c_2)*A1_0*L1_2*L2_0 + (-c_2)*A1_0*L1_1*L2_1 + A_2*L1_0 + A_1*L1_1 - A1_1*L2_1 - A1_0*L2_2 == 0\n",
       "\t(-c_1)*A1_3*A1_0*L2_0 + (-3*c_1)*A1_2*A1_1*L2_0 + (-2*c_1)*A1_2*A1_0*L2_1 + (-c_2)*A1_2*L1_1*L2_0 + (-2*c_1)*A1_1^2*L2_1 + (-c_1)*A1_1*A1_0*L2_2 + (-2*c_2)*A1_1*L1_2*L2_0 + (-2*c_2)*A1_1*L1_1*L2_1 + (-c_2)*A1_0*L1_3*L2_0 + (-2*c_2)*A1_0*L1_2*L2_1 + (-c_2)*A1_0*L1_1*L2_2 + A_3*L1_0 + 2*A_2*L1_1 + A_1*L1_2 - A1_2*L2_1 + (-2)*A1_1*L2_2 - A1_0*L2_3 == 0\n",
       "\t(-c_3*c_5)*A_1*A_0*P_0 + (-c_3)*A_1*A1_0*P_0 + (-c_5)*A_1*P_0 + c_5*A_0*P_1 - A1_1*P_0 + A1_0*P_1 == 0\n",
       "\t(-c_3*c_5)*A_2*A_0*P_0 + (-c_3)*A_2*A1_0*P_0 + (-c_3*c_5)*A_1^2*P_0 + (-c_3*c_5)*A_1*A_0*P_1 + (-c_3)*A_1*A1_1*P_0 + (-c_3)*A_1*A1_0*P_1 + (-c_5)*A_2*P_0 + c_5*A_0*P_2 - A1_2*P_0 + A1_0*P_2 == 0\n",
       "\t(-c_3*c_5)*A_3*A_0*P_0 + (-c_3)*A_3*A1_0*P_0 + (-3*c_3*c_5)*A_2*A_1*P_0 + (-2*c_3*c_5)*A_2*A_0*P_1 + (-2*c_3)*A_2*A1_1*P_0 + (-2*c_3)*A_2*A1_0*P_1 + (-2*c_3*c_5)*A_1^2*P_1 + (-c_3*c_5)*A_1*A_0*P_2 + (-c_3)*A_1*A1_2*P_0 + (-2*c_3)*A_1*A1_1*P_1 + (-c_3)*A_1*A1_0*P_2 + (-c_5)*A_3*P_0 + (-c_5)*A_2*P_1 + c_5*A_1*P_2 + c_5*A_0*P_3 - A1_3*P_0 - A1_2*P_1 + A1_1*P_2 + A1_0*P_3 == 0\n",
       "}"
      ]
     },
     "execution_count": 25,
     "metadata": {},
     "output_type": "execute_result"
    }
   ],
   "source": [
    "new_system = system.extend_by_derivation([2,2,2])\n",
    "new_system"
   ]
  },
  {
   "cell_type": "code",
   "execution_count": 37,
   "metadata": {
    "scrolled": false
   },
   "outputs": [],
   "source": [
    "par = new_system.algebraic_equations()[0].parent()"
   ]
  },
  {
   "cell_type": "code",
   "execution_count": 42,
   "metadata": {},
   "outputs": [],
   "source": [
    "equs = [par.flattening_morphism()(equ) for equ in new_system.algebraic_equations()]\n",
    "eq_I = ideal(equs)"
   ]
  },
  {
   "cell_type": "code",
   "execution_count": 5,
   "metadata": {},
   "outputs": [],
   "source": [
    "res_wo_A1 = system.subsystem([1,2], variables = [A1]).diff_resultant()"
   ]
  },
  {
   "cell_type": "code",
   "execution_count": 44,
   "metadata": {},
   "outputs": [
    {
     "name": "stdout",
     "output_type": "stream",
     "text": [
      "c_1^8*c_3^5*c_5^4*A_1^8*A_0^3*L1_0^2*L2_0^8*P_0^6 + (-c_1^7*c_2*c_3^5*c_5^3)*A_1^7*A_0^3*L1_1*L1_0^2*L2_0^8*P_0^6 + c_1^7*c_2*c_3^4*c_5^3*A_2*A_1^5*A_0^3*L1_1*L1_0^2*L2_0^8*P_0^6 + (-c_1^7*c_3^5*c_5^2)*A_1^8*A_0^2*L1_0^3*L2_0^7*P_0^6 + 3*c_1^8*c_3^4*c_5^4*A_1^8*A_0^2*L1_0^2*L2_0^8*P_0^6 + (-c_1^7*c_3^5*c_5^3)*A_1^7*A_0^3*L1_0^2*L2_1*L2_0^7*P_0^6 + (-5*c_1^8*c_3^4*c_5^4)*A_1^7*A_0^3*L1_0^2*L2_0^8*P_1*P_0^5 + (-5*c_1^7*c_2*c_3^4*c_5^3)*A_1^7*A_0^2*L1_1*L1_0^2*L2_0^8*P_0^6 + (-c_1^7*c_2*c_3^4*c_5^3)*A_1^6*A_0^3*L1_2*L1_0^2*L2_0^8*P_0^6 + 5*c_1^7*c_2*c_3^4*c_5^3*A_1^6*A_0^3*L1_1*L1_0^2*L2_0^8*P_1*P_0^5 + 2*c_1^6*c_2^2*c_3^4*c_5^2*A_1^6*A_0^2*L1_1^2*L1_0^2*L2_0^8*P_0^6 + c_1^7*c_3^4*c_5^3*A_2*A_1^5*A_0^3*L1_0^2*L2_1*L2_0^7*P_0^6 + (-c_1^8*c_3^3*c_5^4)*A_2*A_1^5*A_0^3*L1_0^2*L2_0^8*P_1*P_0^5 + 3*c_1^7*c_2*c_3^3*c_5^3*A_2*A_1^5*A_0^2*L1_1*L1_0^2*L2_0^8*P_0^6 + (-3*c_1^7*c_2*c_3^3*c_5^3)*A_2*A_1^4*A_0^3*L1_1*L1_0^2*L2_0^8*P_1*P_0^5 + (-2*c_1^6*c_2^2*c_3^3*c_5^2)*A_2*A_1^4*A_0^2*L1_1^2*L1_0^2*L2_0^8*P_0^6 + (-6*c_1^7*c_3^4*c_5^2)*A_1^8*A_0*L1_0^3*L2_0^7*P_0^6 + 3*c_1^8*c_3^3*c_5^4*A_1^8*A_0*L1_0^2*L2_0^8*P_0^6 + (-c_1^7*c_3^4*c_5^2)*A_1^7*A_0^2*L1_1*L1_0^2*L2_0^7*P_0^6 + c_1^7*c_3^4*c_5^2*A_1^7*A_0^2*L1_0^3*L2_1*L2_0^6*P_0^6 + 5*c_1^7*c_3^4*c_5^2*A_1^7*A_0^2*L1_0^3*L2_0^7*P_1*P_0^5 + (-5*c_1^7*c_3^4*c_5^3)*A_1^7*A_0^2*L1_0^2*L2_1*L2_0^7*P_0^6 + (-12*c_1^8*c_3^3*c_5^4)*A_1^7*A_0^2*L1_0^2*L2_0^8*P_1*P_0^5 + 6*c_1^6*c_2*c_3^4*c_5*A_1^7*A_0*L1_1*L1_0^3*L2_0^7*P_0^6 + (-7*c_1^7*c_2*c_3^3*c_5^3)*A_1^7*A_0*L1_1*L1_0^2*L2_0^8*P_0^6 + (-c_1^7*c_3^4*c_5^3)*A_1^6*A_0^3*L1_0^2*L2_2*L2_0^7*P_0^6 + c_1^7*c_3^4*c_5^3*A_1^6*A_0^3*L1_0^2*L2_1^2*L2_0^6*P_0^6 + 5*c_1^7*c_3^4*c_5^3*A_1^6*A_0^3*L1_0^2*L2_1*L2_0^7*P_1*P_0^5 + c_1^8*c_3^3*c_5^4*A_1^6*A_0^3*L1_0^2*L2_0^8*P_2*P_0^5 + 9*c_1^8*c_3^3*c_5^4*A_1^6*A_0^3*L1_0^2*L2_0^8*P_1^2*P_0^4 + (-3*c_1^7*c_2*c_3^3*c_5^3)*A_1^6*A_0^2*L1_2*L1_0^2*L2_0^8*P_0^6 + 4*c_1^6*c_2*c_3^4*c_5^2*A_1^6*A_0^2*L1_1*L1_0^2*L2_1*L2_0^7*P_0^6 + 20*c_1^7*c_2*c_3^3*c_5^3*A_1^6*A_0^2*L1_1*L1_0^2*L2_0^8*P_1*P_0^5 + 5*c_1^6*c_2^2*c_3^3*c_5^2*A_1^6*A_0*L1_1^2*L1_0^2*L2_0^8*P_0^6 + 4*c_1^7*c_2*c_3^3*c_5^3*A_1^5*A_0^3*L1_2*L1_0^2*L2_0^8*P_1*P_0^5 + (-c_1^7*c_2*c_3^3*c_5^3)*A_1^5*A_0^3*L1_1*L1_0^2*L2_0^8*P_2*P_0^5 + (-9*c_1^7*c_2*c_3^3*c_5^3)*A_1^5*A_0^3*L1_1*L1_0^2*L2_0^8*P_1^2*P_0^4 + 2*c_1^6*c_2^2*c_3^3*c_5^2*A_1^5*A_0^2*L1_2*L1_1*L1_0^2*L2_0^8*P_0^6 + (-8*c_1^6*c_2^2*c_3^3*c_5^2)*A_1^5*A_0^2*L1_1^2*L1_0^2*L2_0^8*P_1*P_0^5 + (-c_1^5*c_2^3*c_3^3*c_5)*A_1^5*A_0*L1_1^3*L1_0^2*L2_0^8*P_0^6 + c_1^7*c_3^3*c_5^2*A_2*A_1^5*A_0^2*L1_0^3*L2_0^7*P_1*P_0^5 + 3*c_1^7*c_3^3*c_5^3*A_2*A_1^5*A_0^2*L1_0^2*L2_1*L2_0^7*P_0^6 + (-3*c_1^8*c_3^2*c_5^4)*A_2*A_1^5*A_0^2*L1_0^2*L2_0^8*P_1*P_0^5 + (-4*c_1^6*c_2*c_3^3*c_5)*A_2*A_1^5*A_0*L1_1*L1_0^3*L2_0^7*P_0^6 + 3*c_1^7*c_2*c_3^2*c_5^3*A_2*A_1^5*A_0*L1_1*L1_0^2*L2_0^8*P_0^6 + (-3*c_1^7*c_3^3*c_5^3)*A_2*A_1^4*A_0^3*L1_0^2*L2_1*L2_0^7*P_1*P_0^5 + 3*c_1^8*c_3^2*c_5^4*A_2*A_1^4*A_0^3*L1_0^2*L2_0^8*P_1^2*P_0^4 + (-4*c_1^6*c_2*c_3^3*c_5^2)*A_2*A_1^4*A_0^2*L1_1*L1_0^2*L2_1*L2_0^7*P_0^6 + (-4*c_1^7*c_2*c_3^2*c_5^3)*A_2*A_1^4*A_0^2*L1_1*L1_0^2*L2_0^8*P_1*P_0^5 + (-4*c_1^6*c_2^2*c_3^2*c_5^2)*A_2*A_1^4*A_0*L1_1^2*L1_0^2*L2_0^8*P_0^6 + 3*c_1^7*c_2*c_3^2*c_5^3*A_2*A_1^3*A_0^3*L1_1*L1_0^2*L2_0^8*P_1^2*P_0^4 + 4*c_1^6*c_2^2*c_3^2*c_5^2*A_2*A_1^3*A_0^2*L1_1^2*L1_0^2*L2_0^8*P_1*P_0^5 + c_1^5*c_2^3*c_3^2*c_5*A_2*A_1^3*A_0*L1_1^3*L1_0^2*L2_0^8*P_0^6 + 4*c_1^6*c_3^4*A_1^8*L1_0^4*L2_0^6*P_0^6 + (-4*c_1^7*c_3^3*c_5^2)*A_1^8*L1_0^3*L2_0^7*P_0^6 + c_1^8*c_3^2*c_5^4*A_1^8*L1_0^2*L2_0^8*P_0^6 + (-3*c_1^7*c_3^3*c_5^2)*A_1^7*A_0*L1_1*L1_0^2*L2_0^7*P_0^6 + (3*c_1^7*c_3^3*c_5^2 + 6*c_1^6*c_3^4*c_5)*A_1^7*A_0*L1_0^3*L2_1*L2_0^6*P_0^6 + 24*c_1^7*c_3^3*c_5^2*A_1^7*A_0*L1_0^3*L2_0^7*P_1*P_0^5 + (-7*c_1^7*c_3^3*c_5^3)*A_1^7*A_0*L1_0^2*L2_1*L2_0^7*P_0^6 + (-9*c_1^8*c_3^2*c_5^4)*A_1^7*A_0*L1_0^2*L2_0^8*P_1*P_0^5 + 6*c_1^6*c_2*c_3^3*c_5*A_1^7*L1_1*L1_0^3*L2_0^7*P_0^6 + (-3*c_1^7*c_2*c_3^2*c_5^3)*A_1^7*L1_1*L1_0^2*L2_0^8*P_0^6 + 4*c_1^7*c_3^3*c_5^2*A_1^6*A_0^2*L1_1*L1_0^2*L2_0^7*P_1*P_0^5 + (-4*c_1^7*c_3^3*c_5^2)*A_1^6*A_0^2*L1_0^3*L2_1*L2_0^6*P_1*P_0^5 + (-c_1^7*c_3^3*c_5^2)*A_1^6*A_0^2*L1_0^3*L2_0^7*P_2*P_0^5 + (-9*c_1^7*c_3^3*c_5^2)*A_1^6*A_0^2*L1_0^3*L2_0^7*P_1^2*P_0^4 + (-3*c_1^7*c_3^3*c_5^3)*A_1^6*A_0^2*L1_0^2*L2_2*L2_0^7*P_0^6 + (3*c_1^7*c_3^3*c_5^3 + 2*c_1^6*c_3^4*c_5^2)*A_1^6*A_0^2*L1_0^2*L2_1^2*L2_0^6*P_0^6 + 20*c_1^7*c_3^3*c_5^3*A_1^6*A_0^2*L1_0^2*L2_1*L2_0^7*P_1*P_0^5 + 3*c_1^8*c_3^2*c_5^4*A_1^6*A_0^2*L1_0^2*L2_0^8*P_2*P_0^5 + 15*c_1^8*c_3^2*c_5^4*A_1^6*A_0^2*L1_0^2*L2_0^8*P_1^2*P_0^4 + 4*c_1^6*c_2*c_3^3*c_5*A_1^6*A_0*L1_2*L1_0^3*L2_0^7*P_0^6 + (-3*c_1^7*c_2*c_3^2*c_5^3)*A_1^6*A_0*L1_2*L1_0^2*L2_0^8*P_0^6 + 2*c_1^6*c_2*c_3^3*c_5*A_1^6*A_0*L1_1^2*L1_0^2*L2_0^7*P_0^6 + (-2*c_1^6*c_2*c_3^3*c_5)*A_1^6*A_0*L1_1*L1_0^3*L2_1*L2_0^6*P_0^6 + (-24*c_1^6*c_2*c_3^3*c_5)*A_1^6*A_0*L1_1*L1_0^3*L2_0^7*P_1*P_0^5 + 10*c_1^6*c_2*c_3^3*c_5^2*A_1^6*A_0*L1_1*L1_0^2*L2_1*L2_0^7*P_0^6 + 21*c_1^7*c_2*c_3^2*c_5^3*A_1^6*A_0*L1_1*L1_0^2*L2_0^8*P_1*P_0^5 + (-c_1^5*c_2^2*c_3^3)*A_1^6*L1_1^2*L1_0^3*L2_0^7*P_0^6 + 3*c_1^6*c_2^2*c_3^2*c_5^2*A_1^6*L1_1^2*L1_0^2*L2_0^8*P_0^6 + 4*c_1^7*c_3^3*c_5^3*A_1^5*A_0^3*L1_0^2*L2_2*L2_0^7*P_1*P_0^5 + (-4*c_1^7*c_3^3*c_5^3)*A_1^5*A_0^3*L1_0^2*L2_1^2*L2_0^6*P_1*P_0^5 + (-c_1^7*c_3^3*c_5^3)*A_1^5*A_0^3*L1_0^2*L2_1*L2_0^7*P_2*P_0^5 + (-9*c_1^7*c_3^3*c_5^3)*A_1^5*A_0^3*L1_0^2*L2_1*L2_0^7*P_1^2*P_0^4 + (-3*c_1^8*c_3^2*c_5^4)*A_1^5*A_0^3*L1_0^2*L2_0^8*P_2*P_1*P_0^4 + (-7*c_1^8*c_3^2*c_5^4)*A_1^5*A_0^3*L1_0^2*L2_0^8*P_1^3*P_0^3 + 2*c_1^6*c_2*c_3^3*c_5^2*A_1^5*A_0^2*L1_2*L1_0^2*L2_1*L2_0^7*P_0^6 + 9*c_1^7*c_2*c_3^2*c_5^3*A_1^5*A_0^2*L1_2*L1_0^2*L2_0^8*P_1*P_0^5 + 2*c_1^6*c_2*c_3^3*c_5^2*A_1^5*A_0^2*L1_1*L1_0^2*L2_2*L2_0^7*P_0^6 + (-2*c_1^6*c_2*c_3^3*c_5^2)*A_1^5*A_0^2*L1_1*L1_0^2*L2_1^2*L2_0^6*P_0^6 + (-16*c_1^6*c_2*c_3^3*c_5^2)*A_1^5*A_0^2*L1_1*L1_0^2*L2_1*L2_0^7*P_1*P_0^5 + (-5*c_1^7*c_2*c_3^2*c_5^3)*A_1^5*A_0^2*L1_1*L1_0^2*L2_0^8*P_2*P_0^5 + (-25*c_1^7*c_2*c_3^2*c_5^3)*A_1^5*A_0^2*L1_1*L1_0^2*L2_0^8*P_1^2*P_0^4 + 4*c_1^6*c_2^2*c_3^2*c_5^2*A_1^5*A_0*L1_2*L1_1*L1_0^2*L2_0^8*P_0^6 + (-3*c_1^5*c_2^2*c_3^3*c_5)*A_1^5*A_0*L1_1^2*L1_0^2*L2_1*L2_0^7*P_0^6 + (-15*c_1^6*c_2^2*c_3^2*c_5^2)*A_1^5*A_0*L1_1^2*L1_0^2*L2_0^8*P_1*P_0^5 + (-c_1^5*c_2^3*c_3^2*c_5)*A_1^5*L1_1^3*L1_0^2*L2_0^8*P_0^6 + (-6*c_1^7*c_2*c_3^2*c_5^3)*A_1^4*A_0^3*L1_2*L1_0^2*L2_0^8*P_1^2*P_0^4 + 3*c_1^7*c_2*c_3^2*c_5^3*A_1^4*A_0^3*L1_1*L1_0^2*L2_0^8*P_2*P_1*P_0^4 + 7*c_1^7*c_2*c_3^2*c_5^3*A_1^4*A_0^3*L1_1*L1_0^2*L2_0^8*P_1^3*P_0^3 + (-6*c_1^6*c_2^2*c_3^2*c_5^2)*A_1^4*A_0^2*L1_2*L1_1*L1_0^2*L2_0^8*P_1*P_0^5 + 2*c_1^6*c_2^2*c_3^2*c_5^2*A_1^4*A_0^2*L1_1^2*L1_0^2*L2_0^8*P_2*P_0^5 + 10*c_1^6*c_2^2*c_3^2*c_5^2*A_1^4*A_0^2*L1_1^2*L1_0^2*L2_0^8*P_1^2*P_0^4 + (-c_1^5*c_2^3*c_3^2*c_5)*A_1^4*A_0*L1_2*L1_1^2*L1_0^2*L2_0^8*P_0^6 + 3*c_1^5*c_2^3*c_3^2*c_5*A_1^4*A_0*L1_1^3*L1_0^2*L2_0^8*P_1*P_0^5 + (-4*c_1^6*c_3^3*c_5)*A_2*A_1^5*A_0*L1_0^3*L2_1*L2_0^6*P_0^6 + 7*c_1^7*c_3^2*c_5^2*A_2*A_1^5*A_0*L1_0^3*L2_0^7*P_1*P_0^5 + 3*c_1^7*c_3^2*c_5^3*A_2*A_1^5*A_0*L1_0^2*L2_1*L2_0^7*P_0^6 + (-3*c_1^8*c_3*c_5^4)*A_2*A_1^5*A_0*L1_0^2*L2_0^8*P_1*P_0^5 + (-2*c_1^6*c_2*c_3^2*c_5)*A_2*A_1^5*L1_1*L1_0^3*L2_0^7*P_0^6 + c_1^7*c_2*c_3*c_5^3*A_2*A_1^5*L1_1*L1_0^2*L2_0^8*P_0^6 + (-3*c_1^7*c_3^2*c_5^2)*A_2*A_1^4*A_0^2*L1_0^3*L2_0^7*P_1^2*P_0^4 + (-2*c_1^6*c_3^3*c_5^2)*A_2*A_1^4*A_0^2*L1_0^2*L2_1^2*L2_0^6*P_0^6 + (-4*c_1^7*c_3^2*c_5^3)*A_2*A_1^4*A_0^2*L1_0^2*L2_1*L2_0^7*P_1*P_0^5 + 6*c_1^8*c_3*c_5^4*A_2*A_1^4*A_0^2*L1_0^2*L2_0^8*P_1^2*P_0^4 + (-c_1^6*c_2*c_3^2*c_5)*A_2*A_1^4*A_0*L1_1^2*L1_0^2*L2_0^7*P_0^6 + c_1^6*c_2*c_3^2*c_5*A_2*A_1^4*A_0*L1_1*L1_0^3*L2_1*L2_0^6*P_0^6 + 6*c_1^6*c_2*c_3^2*c_5*A_2*A_1^4*A_0*L1_1*L1_0^3*L2_0^7*P_1*P_0^5 + (-8*c_1^6*c_2*c_3^2*c_5^2)*A_2*A_1^4*A_0*L1_1*L1_0^2*L2_1*L2_0^7*P_0^6 + c_1^7*c_2*c_3*c_5^3*A_2*A_1^4*A_0*L1_1*L1_0^2*L2_0^8*P_1*P_0^5 + (-2*c_1^6*c_2^2*c_3*c_5^2)*A_2*A_1^4*L1_1^2*L1_0^2*L2_0^8*P_0^6 + 3*c_1^7*c_3^2*c_5^3*A_2*A_1^3*A_0^3*L1_0^2*L2_1*L2_0^7*P_1^2*P_0^4 + (-3*c_1^8*c_3*c_5^4)*A_2*A_1^3*A_0^3*L1_0^2*L2_0^8*P_1^3*P_0^3 + 8*c_1^6*c_2*c_3^2*c_5^2*A_2*A_1^3*A_0^2*L1_1*L1_0^2*L2_1*L2_0^7*P_1*P_0^5 + (-c_1^7*c_2*c_3*c_5^3)*A_2*A_1^3*A_0^2*L1_1*L1_0^2*L2_0^8*P_1^2*P_0^4 + 3*c_1^5*c_2^2*c_3^2*c_5*A_2*A_1^3*A_0*L1_1^2*L1_0^2*L2_1*L2_0^7*P_0^6 + 3*c_1^6*c_2^2*c_3*c_5^2*A_2*A_1^3*A_0*L1_1^2*L1_0^2*L2_0^8*P_1*P_0^5 + c_1^5*c_2^3*c_3*c_5*A_2*A_1^3*L1_1^3*L1_0^2*L2_0^8*P_0^6 + (-c_1^7*c_2*c_3*c_5^3)*A_2*A_1^2*A_0^3*L1_1*L1_0^2*L2_0^8*P_1^3*P_0^3 + (-2*c_1^6*c_2^2*c_3*c_5^2)*A_2*A_1^2*A_0^2*L1_1^2*L1_0^2*L2_0^8*P_1^2*P_0^4 + (-c_1^5*c_2^3*c_3*c_5)*A_2*A_1^2*A_0*L1_1^3*L1_0^2*L2_0^8*P_1*P_0^5 + 4*c_1^6*c_3^3*A_1^7*L1_1*L1_0^3*L2_0^6*P_0^6 + (-2*c_1^7*c_3^2*c_5^2)*A_1^7*L1_1*L1_0^2*L2_0^7*P_0^6 + (-4*c_1^6*c_3^3)*A_1^7*L1_0^4*L2_1*L2_0^5*P_0^6 + (-16*c_1^6*c_3^3)*A_1^7*L1_0^4*L2_0^6*P_1*P_0^5 + (2*c_1^7*c_3^2*c_5^2 + 6*c_1^6*c_3^3*c_5)*A_1^7*L1_0^3*L2_1*L2_0^6*P_0^6 + 12*c_1^7*c_3^2*c_5^2*A_1^7*L1_0^3*L2_0^7*P_1*P_0^5 + (-3*c_1^7*c_3^2*c_5^3)*A_1^7*L1_0^2*L2_1*L2_0^7*P_0^6 + (-2*c_1^8*c_3*c_5^4)*A_1^7*L1_0^2*L2_0^8*P_1*P_0^5 + 2*c_1^6*c_3^3*c_5*A_1^6*A_0*L1_1*L1_0^2*L2_1*L2_0^6*P_0^6 + 9*c_1^7*c_3^2*c_5^2*A_1^6*A_0*L1_1*L1_0^2*L2_0^7*P_1*P_0^5 + 4*c_1^6*c_3^3*c_5*A_1^6*A_0*L1_0^3*L2_2*L2_0^6*P_0^6 + (-6*c_1^6*c_3^3*c_5)*A_1^6*A_0*L1_0^3*L2_1^2*L2_0^5*P_0^6 + (-9*c_1^7*c_3^2*c_5^2 - 24*c_1^6*c_3^3*c_5)*A_1^6*A_0*L1_0^3*L2_1*L2_0^6*P_1*P_0^5 + (-7*c_1^7*c_3^2*c_5^2)*A_1^6*A_0*L1_0^3*L2_0^7*P_2*P_0^5 + (-29*c_1^7*c_3^2*c_5^2)*A_1^6*A_0*L1_0^3*L2_0^7*P_1^2*P_0^4 + (-3*c_1^7*c_3^2*c_5^3)*A_1^6*A_0*L1_0^2*L2_2*L2_0^7*P_0^6 + (3*c_1^7*c_3^2*c_5^3 + 5*c_1^6*c_3^3*c_5^2)*A_1^6*A_0*L1_0^2*L2_1^2*L2_0^6*P_0^6 + 21*c_1^7*c_3^2*c_5^3*A_1^6*A_0*L1_0^2*L2_1*L2_0^7*P_1*P_0^5 + 3*c_1^8*c_3*c_5^4*A_1^6*A_0*L1_0^2*L2_0^8*P_2*P_0^5 + 6*c_1^8*c_3*c_5^4*A_1^6*A_0*L1_0^2*L2_0^8*P_1^2*P_0^4 + 2*c_1^6*c_2*c_3^2*c_5*A_1^6*L1_2*L1_0^3*L2_0^7*P_0^6 + (-c_1^7*c_2*c_3*c_5^3)*A_1^6*L1_2*L1_0^2*L2_0^8*P_0^6 + 3*c_1^6*c_2*c_3^2*c_5*A_1^6*L1_1^2*L1_0^2*L2_0^7*P_0^6 + (-3*c_1^6*c_2*c_3^2*c_5 - 2*c_1^5*c_2*c_3^3)*A_1^6*L1_1*L1_0^3*L2_1*L2_0^6*P_0^6 + (-18*c_1^6*c_2*c_3^2*c_5)*A_1^6*L1_1*L1_0^3*L2_0^7*P_1*P_0^5 + 6*c_1^6*c_2*c_3^2*c_5^2*A_1^6*L1_1*L1_0^2*L2_1*L2_0^7*P_0^6 + 6*c_1^7*c_2*c_3*c_5^3*A_1^6*L1_1*L1_0^2*L2_0^8*P_1*P_0^5 + (-6*c_1^7*c_3^2*c_5^2)*A_1^5*A_0^2*L1_1*L1_0^2*L2_0^7*P_1^2*P_0^4 + 6*c_1^7*c_3^2*c_5^2*A_1^5*A_0^2*L1_0^3*L2_1*L2_0^6*P_1^2*P_0^4 + 3*c_1^7*c_3^2*c_5^2*A_1^5*A_0^2*L1_0^3*L2_0^7*P_2*P_1*P_0^4 + 7*c_1^7*c_3^2*c_5^2*A_1^5*A_0^2*L1_0^3*L2_0^7*P_1^3*P_0^3 + 2*c_1^6*c_3^3*c_5^2*A_1^5*A_0^2*L1_0^2*L2_2*L2_1*L2_0^6*P_0^6 + 9*c_1^7*c_3^2*c_5^3*A_1^5*A_0^2*L1_0^2*L2_2*L2_0^7*P_1*P_0^5 + (-2*c_1^6*c_3^3*c_5^2)*A_1^5*A_0^2*L1_0^2*L2_1^3*L2_0^5*P_0^6 + (-9*c_1^7*c_3^2*c_5^3 - 8*c_1^6*c_3^3*c_5^2)*A_1^5*A_0^2*L1_0^2*L2_1^2*L2_0^6*P_1*P_0^5 + (-5*c_1^7*c_3^2*c_5^3)*A_1^5*A_0^2*L1_0^2*L2_1*L2_0^7*P_2*P_0^5 + (-25*c_1^7*c_3^2*c_5^3)*A_1^5*A_0^2*L1_0^2*L2_1*L2_0^7*P_1^2*P_0^4 + (-6*c_1^8*c_3*c_5^4)*A_1^5*A_0^2*L1_0^2*L2_0^8*P_2*P_1*P_0^4 + (-6*c_1^8*c_3*c_5^4)*A_1^5*A_0^2*L1_0^2*L2_0^8*P_1^3*P_0^3 + c_1^6*c_2*c_3^2*c_5*A_1^5*A_0*L1_2*L1_1*L1_0^2*L2_0^7*P_0^6 + (-c_1^6*c_2*c_3^2*c_5)*A_1^5*A_0*L1_2*L1_0^3*L2_1*L2_0^6*P_0^6 + (-12*c_1^6*c_2*c_3^2*c_5)*A_1^5*A_0*L1_2*L1_0^3*L2_0^7*P_1*P_0^5 + 4*c_1^6*c_2*c_3^2*c_5^2*A_1^5*A_0*L1_2*L1_0^2*L2_1*L2_0^7*P_0^6 + 6*c_1^7*c_2*c_3*c_5^3*A_1^5*A_0*L1_2*L1_0^2*L2_0^8*P_1*P_0^5 + (-6*c_1^6*c_2*c_3^2*c_5)*A_1^5*A_0*L1_1^2*L1_0^2*L2_0^7*P_1*P_0^5 + 6*c_1^6*c_2*c_3^2*c_5*A_1^5*A_0*L1_1*L1_0^3*L2_1*L2_0^6*P_1*P_0^5 + 6*c_1^6*c_2*c_3^2*c_5*A_1^5*A_0*L1_1*L1_0^3*L2_0^7*P_2*P_0^5 + 30*c_1^6*c_2*c_3^2*c_5*A_1^5*A_0*L1_1*L1_0^3*L2_0^7*P_1^2*P_0^4 + 4*c_1^6*c_2*c_3^2*c_5^2*A_1^5*A_0*L1_1*L1_0^2*L2_2*L2_0^7*P_0^6 + (-4*c_1^6*c_2*c_3^2*c_5^2 - 3*c_1^5*c_2*c_3^3*c_5)*A_1^5*A_0*L1_1*L1_0^2*L2_1^2*L2_0^6*P_0^6 + (-30*c_1^6*c_2*c_3^2*c_5^2)*A_1^5*A_0*L1_1*L1_0^2*L2_1*L2_0^7*P_1*P_0^5 + (-7*c_1^7*c_2*c_3*c_5^3)*A_1^5*A_0*L1_1*L1_0^2*L2_0^8*P_2*P_0^5 + (-14*c_1^7*c_2*c_3*c_5^3)*A_1^5*A_0*L1_1*L1_0^2*L2_0^8*P_1^2*P_0^4 + 2*c_1^6*c_2^2*c_3*c_5^2*A_1^5*L1_2*L1_1*L1_0^2*L2_0^8*P_0^6 + (-c_1^5*c_2^2*c_3^2)*A_1^5*L1_1^3*L1_0^2*L2_0^7*P_0^6 + c_1^5*c_2^2*c_3^2*A_1^5*L1_1^2*L1_0^3*L2_1*L2_0^6*P_0^6 + 3*c_1^5*c_2^2*c_3^2*A_1^5*L1_1^2*L1_0^3*L2_0^7*P_1*P_0^5 + (-3*c_1^5*c_2^2*c_3^2*c_5)*A_1^5*L1_1^2*L1_0^2*L2_1*L2_0^7*P_0^6 + (-6*c_1^6*c_2^2*c_3*c_5^2)*A_1^5*L1_1^2*L1_0^2*L2_0^8*P_1*P_0^5 + (-6*c_1^7*c_3^2*c_5^3)*A_1^4*A_0^3*L1_0^2*L2_2*L2_0^7*P_1^2*P_0^4 + 6*c_1^7*c_3^2*c_5^3*A_1^4*A_0^3*L1_0^2*L2_1^2*L2_0^6*P_1^2*P_0^4 + 3*c_1^7*c_3^2*c_5^3*A_1^4*A_0^3*L1_0^2*L2_1*L2_0^7*P_2*P_1*P_0^4 + 7*c_1^7*c_3^2*c_5^3*A_1^4*A_0^3*L1_0^2*L2_1*L2_0^7*P_1^3*P_0^3 + 3*c_1^8*c_3*c_5^4*A_1^4*A_0^3*L1_0^2*L2_0^8*P_2*P_1^2*P_0^3 + 2*c_1^8*c_3*c_5^4*A_1^4*A_0^3*L1_0^2*L2_0^8*P_1^4*P_0^2 + (-6*c_1^6*c_2*c_3^2*c_5^2)*A_1^4*A_0^2*L1_2*L1_0^2*L2_1*L2_0^7*P_1*P_0^5 + (-9*c_1^7*c_2*c_3*c_5^3)*A_1^4*A_0^2*L1_2*L1_0^2*L2_0^8*P_1^2*P_0^4 + (-6*c_1^6*c_2*c_3^2*c_5^2)*A_1^4*A_0^2*L1_1*L1_0^2*L2_2*L2_0^7*P_1*P_0^5 + 6*c_1^6*c_2*c_3^2*c_5^2*A_1^4*A_0^2*L1_1*L1_0^2*L2_1^2*L2_0^6*P_1*P_0^5 + 4*c_1^6*c_2*c_3^2*c_5^2*A_1^4*A_0^2*L1_1*L1_0^2*L2_1*L2_0^7*P_2*P_0^5 + 20*c_1^6*c_2*c_3^2*c_5^2*A_1^4*A_0^2*L1_1*L1_0^2*L2_1*L2_0^7*P_1^2*P_0^4 + 10*c_1^7*c_2*c_3*c_5^3*A_1^4*A_0^2*L1_1*L1_0^2*L2_0^8*P_2*P_1*P_0^4 + 10*c_1^7*c_2*c_3*c_5^3*A_1^4*A_0^2*L1_1*L1_0^2*L2_0^8*P_1^3*P_0^3 + (-2*c_1^5*c_2^2*c_3^2*c_5)*A_1^4*A_0*L1_2*L1_1*L1_0^2*L2_1*L2_0^7*P_0^6 + (-8*c_1^6*c_2^2*c_3*c_5^2)*A_1^4*A_0*L1_2*L1_1*L1_0^2*L2_0^8*P_1*P_0^5 + (-c_1^5*c_2^2*c_3^2*c_5)*A_1^4*A_0*L1_1^2*L1_0^2*L2_2*L2_0^7*P_0^6 + c_1^5*c_2^2*c_3^2*c_5*A_1^4*A_0*L1_1^2*L1_0^2*L2_1^2*L2_0^6*P_0^6 + 9*c_1^5*c_2^2*c_3^2*c_5*A_1^4*A_0*L1_1^2*L1_0^2*L2_1*L2_0^7*P_1*P_0^5 + 5*c_1^6*c_2^2*c_3*c_5^2*A_1^4*A_0*L1_1^2*L1_0^2*L2_0^8*P_2*P_0^5 + 10*c_1^6*c_2^2*c_3*c_5^2*A_1^4*A_0*L1_1^2*L1_0^2*L2_0^8*P_1^2*P_0^4 + (-c_1^5*c_2^3*c_3*c_5)*A_1^4*L1_2*L1_1^2*L1_0^2*L2_0^8*P_0^6 + 2*c_1^5*c_2^3*c_3*c_5*A_1^4*L1_1^3*L1_0^2*L2_0^8*P_1*P_0^5 + 4*c_1^7*c_2*c_3*c_5^3*A_1^3*A_0^3*L1_2*L1_0^2*L2_0^8*P_1^3*P_0^3 + (-3*c_1^7*c_2*c_3*c_5^3)*A_1^3*A_0^3*L1_1*L1_0^2*L2_0^8*P_2*P_1^2*P_0^3 + (-2*c_1^7*c_2*c_3*c_5^3)*A_1^3*A_0^3*L1_1*L1_0^2*L2_0^8*P_1^4*P_0^2 + 6*c_1^6*c_2^2*c_3*c_5^2*A_1^3*A_0^2*L1_2*L1_1*L1_0^2*L2_0^8*P_1^2*P_0^4 + (-4*c_1^6*c_2^2*c_3*c_5^2)*A_1^3*A_0^2*L1_1^2*L1_0^2*L2_0^8*P_2*P_1*P_0^4 + (-4*c_1^6*c_2^2*c_3*c_5^2)*A_1^3*A_0^2*L1_1^2*L1_0^2*L2_0^8*P_1^3*P_0^3 + 2*c_1^5*c_2^3*c_3*c_5*A_1^3*A_0*L1_2*L1_1^2*L1_0^2*L2_0^8*P_1*P_0^5 + (-c_1^5*c_2^3*c_3*c_5)*A_1^3*A_0*L1_1^3*L1_0^2*L2_0^8*P_2*P_0^5 + (-2*c_1^5*c_2^3*c_3*c_5)*A_1^3*A_0*L1_1^3*L1_0^2*L2_0^8*P_1^2*P_0^4 + c_1^6*c_2*c_3*c_5*A_2^2*A_1^2*A_0*L1_1*L1_0^3*L2_0^7*P_1*P_0^5 + c_1^5*c_2^2*c_3*A_2^2*A_1^2*L1_1^2*L1_0^3*L2_0^7*P_0^6 + (-4*c_1^6*c_3^2)*A_2*A_1^5*L1_0^4*L2_0^6*P_1*P_0^5 + (-2*c_1^6*c_3^2*c_5)*A_2*A_1^5*L1_0^3*L2_1*L2_0^6*P_0^6 + 4*c_1^7*c_3*c_5^2*A_2*A_1^5*L1_0^3*L2_0^7*P_1*P_0^5 + c_1^7*c_3*c_5^3*A_2*A_1^5*L1_0^2*L2_1*L2_0^7*P_0^6 + (-c_1^8*c_5^4)*A_2*A_1^5*L1_0^2*L2_0^8*P_1*P_0^5 + (-c_1^6*c_3^2*c_5)*A_2*A_1^4*A_0*L1_1*L1_0^2*L2_1*L2_0^6*P_0^6 + c_1^7*c_3*c_5^2*A_2*A_1^4*A_0*L1_1*L1_0^2*L2_0^7*P_1*P_0^5 + c_1^6*c_3^2*c_5*A_2*A_1^4*A_0*L1_0^3*L2_1^2*L2_0^5*P_0^6 + (-c_1^7*c_3*c_5^2 + 6*c_1^6*c_3^2*c_5)*A_2*A_1^4*A_0*L1_0^3*L2_1*L2_0^6*P_1*P_0^5 + (-14*c_1^7*c_3*c_5^2)*A_2*A_1^4*A_0*L1_0^3*L2_0^7*P_1^2*P_0^4 + (-4*c_1^6*c_3^2*c_5^2)*A_2*A_1^4*A_0*L1_0^2*L2_1^2*L2_0^6*P_0^6 + c_1^7*c_3*c_5^3*A_2*A_1^4*A_0*L1_0^2*L2_1*L2_0^7*P_1*P_0^5 + 3*c_1^8*c_5^4*A_2*A_1^4*A_0*L1_0^2*L2_0^8*P_1^2*P_0^4 + (-c_1^6*c_2*c_3*c_5)*A_2*A_1^4*L1_1^2*L1_0^2*L2_0^7*P_0^6 + c_1^6*c_2*c_3*c_5*A_2*A_1^4*L1_1*L1_0^3*L2_1*L2_0^6*P_0^6 + (-c_1^6*c_2*c_3*c_5)*A_2*A_1^4*L1_1*L1_0^3*L2_0^7*P_1*P_0^5 + (-4*c_1^6*c_2*c_3*c_5^2)*A_2*A_1^4*L1_1*L1_0^2*L2_1*L2_0^7*P_0^6 + 2*c_1^7*c_2*c_5^3*A_2*A_1^4*L1_1*L1_0^2*L2_0^8*P_1*P_0^5 + 3*c_1^7*c_3*c_5^2*A_2*A_1^3*A_0^2*L1_0^3*L2_0^7*P_1^3*P_0^3 + 4*c_1^6*c_3^2*c_5^2*A_2*A_1^3*A_0^2*L1_0^2*L2_1^2*L2_0^6*P_1*P_0^5 + (-c_1^7*c_3*c_5^3)*A_2*A_1^3*A_0^2*L1_0^2*L2_1*L2_0^7*P_1^2*P_0^4 + (-3*c_1^8*c_5^4)*A_2*A_1^3*A_0^2*L1_0^2*L2_0^8*P_1^3*P_0^3 + (-c_1^6*c_2*c_3*c_5)*A_2*A_1^3*A_0*L1_2*L1_0^3*L2_0^7*P_1*P_0^5 + c_1^6*c_2*c_3*c_5*A_2*A_1^3*A_0*L1_1^2*L1_0^2*L2_0^7*P_1*P_0^5 + (-c_1^6*c_2*c_3*c_5)*A_2*A_1^3*A_0*L1_1*L1_0^3*L2_1*L2_0^6*P_1*P_0^5 + (-c_1^6*c_2*c_3*c_5)*A_2*A_1^3*A_0*L1_1*L1_0^3*L2_0^7*P_2*P_0^5 + c_1^6*c_2*c_3*c_5*A_2*A_1^3*A_0*L1_1*L1_0^3*L2_0^7*P_1^2*P_0^4 + 3*c_1^5*c_2*c_3^2*c_5*A_2*A_1^3*A_0*L1_1*L1_0^2*L2_1^2*L2_0^6*P_0^6 + 6*c_1^6*c_2*c_3*c_5^2*A_2*A_1^3*A_0*L1_1*L1_0^2*L2_1*L2_0^7*P_1*P_0^5 + (-4*c_1^7*c_2*c_5^3)*A_2*A_1^3*A_0*L1_1*L1_0^2*L2_0^8*P_1^2*P_0^4 + (-2*c_1^5*c_2^2*c_3)*A_2*A_1^3*L1_2*L1_1*L1_0^3*L2_0^7*P_0^6 + c_1^5*c_2^2*c_3*A_2*A_1^3*L1_1^3*L1_0^2*L2_0^7*P_0^6 + (-c_1^5*c_2^2*c_3)*A_2*A_1^3*L1_1^2*L1_0^3*L2_1*L2_0^6*P_0^6 + c_1^5*c_2^2*c_3*A_2*A_1^3*L1_1^2*L1_0^3*L2_0^7*P_1*P_0^5 + 3*c_1^5*c_2^2*c_3*c_5*A_2*A_1^3*L1_1^2*L1_0^2*L2_1*L2_0^7*P_0^6 + (-c_1^6*c_2^2*c_5^2)*A_2*A_1^3*L1_1^2*L1_0^2*L2_0^8*P_1*P_0^5 + (-c_1^7*c_3*c_5^3)*A_2*A_1^2*A_0^3*L1_0^2*L2_1*L2_0^7*P_1^3*P_0^3 + c_1^8*c_5^4*A_2*A_1^2*A_0^3*L1_0^2*L2_0^8*P_1^4*P_0^2 + (-4*c_1^6*c_2*c_3*c_5^2)*A_2*A_1^2*A_0^2*L1_1*L1_0^2*L2_1*L2_0^7*P_1^2*P_0^4 + 2*c_1^7*c_2*c_5^3*A_2*A_1^2*A_0^2*L1_1*L1_0^2*L2_0^8*P_1^3*P_0^3 + (-3*c_1^5*c_2^2*c_3*c_5)*A_2*A_1^2*A_0*L1_1^2*L1_0^2*L2_1*L2_0^7*P_1*P_0^5 + c_1^6*c_2^2*c_5^2*A_2*A_1^2*A_0*L1_1^2*L1_0^2*L2_0^8*P_1^2*P_0^4 + c_1^6*c_3^2*A_1^6*L1_1^2*L1_0^2*L2_0^6*P_0^6 + (-2*c_1^6*c_3^2)*A_1^6*L1_1*L1_0^3*L2_1*L2_0^5*P_0^6 + (-12*c_1^6*c_3^2)*A_1^6*L1_1*L1_0^3*L2_0^6*P_1*P_0^5 + 3*c_1^6*c_3^2*c_5*A_1^6*L1_1*L1_0^2*L2_1*L2_0^6*P_0^6 + 4*c_1^7*c_3*c_5^2*A_1^6*L1_1*L1_0^2*L2_0^7*P_1*P_0^5 + c_1^6*c_3^2*A_1^6*L1_0^4*L2_1^2*L2_0^4*P_0^6 + 12*c_1^6*c_3^2*A_1^6*L1_0^4*L2_1*L2_0^5*P_1*P_0^5 + 4*c_1^6*c_3^2*A_1^6*L1_0^4*L2_0^6*P_2*P_0^5 + 20*c_1^6*c_3^2*A_1^6*L1_0^4*L2_0^6*P_1^2*P_0^4 + 2*c_1^6*c_3^2*c_5*A_1^6*L1_0^3*L2_2*L2_0^6*P_0^6 + (-5*c_1^6*c_3^2*c_5 - c_1^5*c_3^3)*A_1^6*L1_0^3*L2_1^2*L2_0^5*P_0^6 + (-4*c_1^7*c_3*c_5^2 - 18*c_1^6*c_3^2*c_5)*A_1^6*L1_0^3*L2_1*L2_0^6*P_1*P_0^5 + (-4*c_1^7*c_3*c_5^2)*A_1^6*L1_0^3*L2_0^7*P_2*P_0^5 + (-8*c_1^7*c_3*c_5^2)*A_1^6*L1_0^3*L2_0^7*P_1^2*P_0^4 + (-c_1^7*c_3*c_5^3)*A_1^6*L1_0^2*L2_2*L2_0^7*P_0^6 + (c_1^7*c_3*c_5^3 + 3*c_1^6*c_3^2*c_5^2)*A_1^6*L1_0^2*L2_1^2*L2_0^6*P_0^6 + 6*c_1^7*c_3*c_5^3*A_1^6*L1_0^2*L2_1*L2_0^7*P_1*P_0^5 + c_1^8*c_5^4*A_1^6*L1_0^2*L2_0^8*P_2*P_0^5 + c_1^6*c_3^2*c_5*A_1^5*A_0*L1_1*L1_0^2*L2_2*L2_0^6*P_0^6 + (-c_1^6*c_3^2*c_5)*A_1^5*A_0*L1_1*L1_0^2*L2_1^2*L2_0^5*P_0^6 + (-6*c_1^6*c_3^2*c_5)*A_1^5*A_0*L1_1*L1_0^2*L2_1*L2_0^6*P_1*P_0^5 + (-c_1^7*c_3*c_5^2)*A_1^5*A_0*L1_1*L1_0^2*L2_0^7*P_2*P_0^5 + (-8*c_1^7*c_3*c_5^2)*A_1^5*A_0*L1_1*L1_0^2*L2_0^7*P_1^2*P_0^4 + (-c_1^6*c_3^2*c_5)*A_1^5*A_0*L1_0^3*L2_2*L2_1*L2_0^5*P_0^6 + (-12*c_1^6*c_3^2*c_5)*A_1^5*A_0*L1_0^3*L2_2*L2_0^6*P_1*P_0^5 + c_1^6*c_3^2*c_5*A_1^5*A_0*L1_0^3*L2_1^3*L2_0^4*P_0^6 + 18*c_1^6*c_3^2*c_5*A_1^5*A_0*L1_0^3*L2_1^2*L2_0^5*P_1*P_0^5 + (c_1^7*c_3*c_5^2 + 6*c_1^6*c_3^2*c_5)*A_1^5*A_0*L1_0^3*L2_1*L2_0^6*P_2*P_0^5 + (8*c_1^7*c_3*c_5^2 + 30*c_1^6*c_3^2*c_5)*A_1^5*A_0*L1_0^3*L2_1*L2_0^6*P_1^2*P_0^4 + 14*c_1^7*c_3*c_5^2*A_1^5*A_0*L1_0^3*L2_0^7*P_2*P_1*P_0^4 + 10*c_1^7*c_3*c_5^2*A_1^5*A_0*L1_0^3*L2_0^7*P_1^3*P_0^3 + 4*c_1^6*c_3^2*c_5^2*A_1^5*A_0*L1_0^2*L2_2*L2_1*L2_0^6*P_0^6 + 6*c_1^7*c_3*c_5^3*A_1^5*A_0*L1_0^2*L2_2*L2_0^7*P_1*P_0^5 + (-4*c_1^6*c_3^2*c_5^2 - c_1^5*c_3^3*c_5)*A_1^5*A_0*L1_0^2*L2_1^3*L2_0^5*P_0^6 + (-6*c_1^7*c_3*c_5^3 - 15*c_1^6*c_3^2*c_5^2)*A_1^5*A_0*L1_0^2*L2_1^2*L2_0^6*P_1*P_0^5 + (-7*c_1^7*c_3*c_5^3)*A_1^5*A_0*L1_0^2*L2_1*L2_0^7*P_2*P_0^5 + (-14*c_1^7*c_3*c_5^3)*A_1^5*A_0*L1_0^2*L2_1*L2_0^7*P_1^2*P_0^4 + (-3*c_1^8*c_5^4)*A_1^5*A_0*L1_0^2*L2_0^8*P_2*P_1*P_0^4 + c_1^6*c_2*c_3*c_5*A_1^5*L1_2*L1_1*L1_0^2*L2_0^7*P_0^6 + (-c_1^6*c_2*c_3*c_5)*A_1^5*L1_2*L1_0^3*L2_1*L2_0^6*P_0^6 + (-4*c_1^6*c_2*c_3*c_5)*A_1^5*L1_2*L1_0^3*L2_0^7*P_1*P_0^5 + 2*c_1^6*c_2*c_3*c_5^2*A_1^5*L1_2*L1_0^2*L2_1*L2_0^7*P_0^6 + c_1^7*c_2*c_5^3*A_1^5*L1_2*L1_0^2*L2_0^8*P_1*P_0^5 + (-2*c_1^5*c_2*c_3^2)*A_1^5*L1_1^2*L1_0^2*L2_1*L2_0^6*P_0^6 + (-6*c_1^6*c_2*c_3*c_5)*A_1^5*L1_1^2*L1_0^2*L2_0^7*P_1*P_0^5 + 2*c_1^5*c_2*c_3^2*A_1^5*L1_1*L1_0^3*L2_1^2*L2_0^5*P_0^6 + (6*c_1^6*c_2*c_3*c_5 + 6*c_1^5*c_2*c_3^2)*A_1^5*L1_1*L1_0^3*L2_1*L2_0^6*P_1*P_0^5 + 5*c_1^6*c_2*c_3*c_5*A_1^5*L1_1*L1_0^3*L2_0^7*P_2*P_0^5 + 13*c_1^6*c_2*c_3*c_5*A_1^5*L1_1*L1_0^3*L2_0^7*P_1^2*P_0^4 + 2*c_1^6*c_2*c_3*c_5^2*A_1^5*L1_1*L1_0^2*L2_2*L2_0^7*P_0^6 + (-2*c_1^6*c_2*c_3*c_5^2 - 3*c_1^5*c_2*c_3^2*c_5)*A_1^5*L1_1*L1_0^2*L2_1^2*L2_0^6*P_0^6 + (-12*c_1^6*c_2*c_3*c_5^2)*A_1^5*L1_1*L1_0^2*L2_1*L2_0^7*P_1*P_0^5 + (-3*c_1^7*c_2*c_5^3)*A_1^5*L1_1*L1_0^2*L2_0^8*P_2*P_0^5 + 4*c_1^7*c_3*c_5^2*A_1^4*A_0^2*L1_1*L1_0^2*L2_0^7*P_1^3*P_0^3 + (-4*c_1^7*c_3*c_5^2)*A_1^4*A_0^2*L1_0^3*L2_1*L2_0^6*P_1^3*P_0^3 + (-3*c_1^7*c_3*c_5^2)*A_1^4*A_0^2*L1_0^3*L2_0^7*P_2*P_1^2*P_0^3 + (-2*c_1^7*c_3*c_5^2)*A_1^4*A_0^2*L1_0^3*L2_0^7*P_1^4*P_0^2 + (-6*c_1^6*c_3^2*c_5^2)*A_1^4*A_0^2*L1_0^2*L2_2*L2_1*L2_0^6*P_1*P_0^5 + (-9*c_1^7*c_3*c_5^3)*A_1^4*A_0^2*L1_0^2*L2_2*L2_0^7*P_1^2*P_0^4 + 6*c_1^6*c_3^2*c_5^2*A_1^4*A_0^2*L1_0^2*L2_1^3*L2_0^5*P_1*P_0^5 + 2*c_1^6*c_3^2*c_5^2*A_1^4*A_0^2*L1_0^2*L2_1^2*L2_0^6*P_2*P_0^5 + (9*c_1^7*c_3*c_5^3 + 10*c_1^6*c_3^2*c_5^2)*A_1^4*A_0^2*L1_0^2*L2_1^2*L2_0^6*P_1^2*P_0^4 + 10*c_1^7*c_3*c_5^3*A_1^4*A_0^2*L1_0^2*L2_1*L2_0^7*P_2*P_1*P_0^4 + 10*c_1^7*c_3*c_5^3*A_1^4*A_0^2*L1_0^2*L2_1*L2_0^7*P_1^3*P_0^3 + 3*c_1^8*c_5^4*A_1^4*A_0^2*L1_0^2*L2_0^8*P_2*P_1^2*P_0^3 + (-2*c_1^6*c_2*c_3*c_5)*A_1^4*A_0*L1_2*L1_1*L1_0^2*L2_0^7*P_1*P_0^5 + 2*c_1^6*c_2*c_3*c_5*A_1^4*A_0*L1_2*L1_0^3*L2_1*L2_0^6*P_1*P_0^5 + c_1^6*c_2*c_3*c_5*A_1^4*A_0*L1_2*L1_0^3*L2_0^7*P_2*P_0^5 + 11*c_1^6*c_2*c_3*c_5*A_1^4*A_0*L1_2*L1_0^3*L2_0^7*P_1^2*P_0^4 + (-c_1^5*c_2*c_3^2*c_5)*A_1^4*A_0*L1_2*L1_0^2*L2_1^2*L2_0^6*P_0^6 + (-8*c_1^6*c_2*c_3*c_5^2)*A_1^4*A_0*L1_2*L1_0^2*L2_1*L2_0^7*P_1*P_0^5 + (-3*c_1^7*c_2*c_5^3)*A_1^4*A_0*L1_2*L1_0^2*L2_0^8*P_1^2*P_0^4 + c_1^6*c_2*c_3*c_5*A_1^4*A_0*L1_1^2*L1_0^2*L2_0^7*P_2*P_0^5 + 5*c_1^6*c_2*c_3*c_5*A_1^4*A_0*L1_1^2*L1_0^2*L2_0^7*P_1^2*P_0^4 + (-c_1^6*c_2*c_3*c_5)*A_1^4*A_0*L1_1*L1_0^3*L2_1*L2_0^6*P_2*P_0^5 + (-5*c_1^6*c_2*c_3*c_5)*A_1^4*A_0*L1_1*L1_0^3*L2_1*L2_0^6*P_1^2*P_0^4 + (-12*c_1^6*c_2*c_3*c_5)*A_1^4*A_0*L1_1*L1_0^3*L2_0^7*P_2*P_1*P_0^4 + (-12*c_1^6*c_2*c_3*c_5)*A_1^4*A_0*L1_1*L1_0^3*L2_0^7*P_1^3*P_0^3 + (-2*c_1^5*c_2*c_3^2*c_5)*A_1^4*A_0*L1_1*L1_0^2*L2_2*L2_1*L2_0^6*P_0^6 + (-8*c_1^6*c_2*c_3*c_5^2)*A_1^4*A_0*L1_1*L1_0^2*L2_2*L2_0^7*P_1*P_0^5 + 2*c_1^5*c_2*c_3^2*c_5*A_1^4*A_0*L1_1*L1_0^2*L2_1^3*L2_0^5*P_0^6 + (8*c_1^6*c_2*c_3*c_5^2 + 9*c_1^5*c_2*c_3^2*c_5)*A_1^4*A_0*L1_1*L1_0^2*L2_1^2*L2_0^6*P_1*P_0^5 + 10*c_1^6*c_2*c_3*c_5^2*A_1^4*A_0*L1_1*L1_0^2*L2_1*L2_0^7*P_2*P_0^5 + 20*c_1^6*c_2*c_3*c_5^2*A_1^4*A_0*L1_1*L1_0^2*L2_1*L2_0^7*P_1^2*P_0^4 + 7*c_1^7*c_2*c_5^3*A_1^4*A_0*L1_1*L1_0^2*L2_0^8*P_2*P_1*P_0^4 + c_1^5*c_2^2*c_3*A_1^4*L1_2^2*L1_0^3*L2_0^7*P_0^6 + (-c_1^5*c_2^2*c_3)*A_1^4*L1_2*L1_1^2*L1_0^2*L2_0^7*P_0^6 + c_1^5*c_2^2*c_3*A_1^4*L1_2*L1_1*L1_0^3*L2_1*L2_0^6*P_0^6 + (-2*c_1^5*c_2^2*c_3*c_5)*A_1^4*L1_2*L1_1*L1_0^2*L2_1*L2_0^7*P_0^6 + (-2*c_1^6*c_2^2*c_5^2)*A_1^4*L1_2*L1_1*L1_0^2*L2_0^8*P_1*P_0^5 + 2*c_1^5*c_2^2*c_3*A_1^4*L1_1^3*L1_0^2*L2_0^7*P_1*P_0^5 + (-2*c_1^5*c_2^2*c_3)*A_1^4*L1_1^2*L1_0^3*L2_1*L2_0^6*P_1*P_0^5 + (-c_1^5*c_2^2*c_3)*A_1^4*L1_1^2*L1_0^3*L2_0^7*P_2*P_0^5 + (-2*c_1^5*c_2^2*c_3)*A_1^4*L1_1^2*L1_0^3*L2_0^7*P_1^2*P_0^4 + (-c_1^5*c_2^2*c_3*c_5)*A_1^4*L1_1^2*L1_0^2*L2_2*L2_0^7*P_0^6 + c_1^5*c_2^2*c_3*c_5*A_1^4*L1_1^2*L1_0^2*L2_1^2*L2_0^6*P_0^6 + 6*c_1^5*c_2^2*c_3*c_5*A_1^4*L1_1^2*L1_0^2*L2_1*L2_0^7*P_1*P_0^5 + 3*c_1^6*c_2^2*c_5^2*A_1^4*L1_1^2*L1_0^2*L2_0^8*P_2*P_0^5 + 4*c_1^7*c_3*c_5^3*A_1^3*A_0^3*L1_0^2*L2_2*L2_0^7*P_1^3*P_0^3 + (-4*c_1^7*c_3*c_5^3)*A_1^3*A_0^3*L1_0^2*L2_1^2*L2_0^6*P_1^3*P_0^3 + (-3*c_1^7*c_3*c_5^3)*A_1^3*A_0^3*L1_0^2*L2_1*L2_0^7*P_2*P_1^2*P_0^3 + (-2*c_1^7*c_3*c_5^3)*A_1^3*A_0^3*L1_0^2*L2_1*L2_0^7*P_1^4*P_0^2 + (-c_1^8*c_5^4)*A_1^3*A_0^3*L1_0^2*L2_0^8*P_2*P_1^3*P_0^2 + 6*c_1^6*c_2*c_3*c_5^2*A_1^3*A_0^2*L1_2*L1_0^2*L2_1*L2_0^7*P_1^2*P_0^4 + 3*c_1^7*c_2*c_5^3*A_1^3*A_0^2*L1_2*L1_0^2*L2_0^8*P_1^3*P_0^3 + 6*c_1^6*c_2*c_3*c_5^2*A_1^3*A_0^2*L1_1*L1_0^2*L2_2*L2_0^7*P_1^2*P_0^4 + (-6*c_1^6*c_2*c_3*c_5^2)*A_1^3*A_0^2*L1_1*L1_0^2*L2_1^2*L2_0^6*P_1^2*P_0^4 + (-8*c_1^6*c_2*c_3*c_5^2)*A_1^3*A_0^2*L1_1*L1_0^2*L2_1*L2_0^7*P_2*P_1*P_0^4 + (-8*c_1^6*c_2*c_3*c_5^2)*A_1^3*A_0^2*L1_1*L1_0^2*L2_1*L2_0^7*P_1^3*P_0^3 + (-5*c_1^7*c_2*c_5^3)*A_1^3*A_0^2*L1_1*L1_0^2*L2_0^8*P_2*P_1^2*P_0^3 + 4*c_1^5*c_2^2*c_3*c_5*A_1^3*A_0*L1_2*L1_1*L1_0^2*L2_1*L2_0^7*P_1*P_0^5 + 4*c_1^6*c_2^2*c_5^2*A_1^3*A_0*L1_2*L1_1*L1_0^2*L2_0^8*P_1^2*P_0^4 + 2*c_1^5*c_2^2*c_3*c_5*A_1^3*A_0*L1_1^2*L1_0^2*L2_2*L2_0^7*P_1*P_0^5 + (-2*c_1^5*c_2^2*c_3*c_5)*A_1^3*A_0*L1_1^2*L1_0^2*L2_1^2*L2_0^6*P_1*P_0^5 + (-3*c_1^5*c_2^2*c_3*c_5)*A_1^3*A_0*L1_1^2*L1_0^2*L2_1*L2_0^7*P_2*P_0^5 + (-6*c_1^5*c_2^2*c_3*c_5)*A_1^3*A_0*L1_1^2*L1_0^2*L2_1*L2_0^7*P_1^2*P_0^4 + (-5*c_1^6*c_2^2*c_5^2)*A_1^3*A_0*L1_1^2*L1_0^2*L2_0^8*P_2*P_1*P_0^4 + c_1^5*c_2^3*c_5*A_1^3*L1_2*L1_1^2*L1_0^2*L2_0^8*P_1*P_0^5 + (-c_1^5*c_2^3*c_5)*A_1^3*L1_1^3*L1_0^2*L2_0^8*P_2*P_0^5 + (-c_1^7*c_2*c_5^3)*A_1^2*A_0^3*L1_2*L1_0^2*L2_0^8*P_1^4*P_0^2 + c_1^7*c_2*c_5^3*A_1^2*A_0^3*L1_1*L1_0^2*L2_0^8*P_2*P_1^3*P_0^2 + (-2*c_1^6*c_2^2*c_5^2)*A_1^2*A_0^2*L1_2*L1_1*L1_0^2*L2_0^8*P_1^3*P_0^3 + 2*c_1^6*c_2^2*c_5^2*A_1^2*A_0^2*L1_1^2*L1_0^2*L2_0^8*P_2*P_1^2*P_0^3 + (-c_1^5*c_2^3*c_5)*A_1^2*A_0*L1_2*L1_1^2*L1_0^2*L2_0^8*P_1^2*P_0^4 + c_1^5*c_2^3*c_5*A_1^2*A_0*L1_1^3*L1_0^2*L2_0^8*P_2*P_1*P_0^4 + c_1^6*c_3*c_5*A_2^2*A_1^2*A_0*L1_0^3*L2_1*L2_0^6*P_1*P_0^5 + (-c_1^7*c_5^2)*A_2^2*A_1^2*A_0*L1_0^3*L2_0^7*P_1^2*P_0^4 + 2*c_1^5*c_2*c_3*A_2^2*A_1^2*L1_1*L1_0^3*L2_1*L2_0^6*P_0^6 + (-c_1^6*c_2*c_5)*A_2^2*A_1^2*L1_1*L1_0^3*L2_0^7*P_1*P_0^5 + (-2*c_1^6*c_3)*A_2*A_1^4*L1_1*L1_0^3*L2_0^6*P_1*P_0^5 + (-c_1^6*c_3*c_5)*A_2*A_1^4*L1_1*L1_0^2*L2_1*L2_0^6*P_0^6 + c_1^7*c_5^2*A_2*A_1^4*L1_1*L1_0^2*L2_0^7*P_1*P_0^5 + 2*c_1^6*c_3*A_2*A_1^4*L1_0^4*L2_1*L2_0^5*P_1*P_0^5 + 8*c_1^6*c_3*A_2*A_1^4*L1_0^4*L2_0^6*P_1^2*P_0^4 + c_1^6*c_3*c_5*A_2*A_1^4*L1_0^3*L2_1^2*L2_0^5*P_0^6 + (-c_1^7*c_5^2 - c_1^6*c_3*c_5)*A_2*A_1^4*L1_0^3*L2_1*L2_0^6*P_1*P_0^5 + (-4*c_1^7*c_5^2)*A_2*A_1^4*L1_0^3*L2_0^7*P_1^2*P_0^4 + (-2*c_1^6*c_3*c_5^2)*A_2*A_1^4*L1_0^2*L2_1^2*L2_0^6*P_0^6 + 2*c_1^7*c_5^3*A_2*A_1^4*L1_0^2*L2_1*L2_0^7*P_1*P_0^5 + c_1^6*c_3*c_5*A_2*A_1^3*A_0*L1_1*L1_0^2*L2_1*L2_0^6*P_1*P_0^5 + (-c_1^7*c_5^2)*A_2*A_1^3*A_0*L1_1*L1_0^2*L2_0^7*P_1^2*P_0^4 + (-c_1^6*c_3*c_5)*A_2*A_1^3*A_0*L1_0^3*L2_2*L2_0^6*P_1*P_0^5 + (-c_1^6*c_3*c_5)*A_2*A_1^3*A_0*L1_0^3*L2_1*L2_0^6*P_2*P_0^5 + (c_1^7*c_5^2 + c_1^6*c_3*c_5)*A_2*A_1^3*A_0*L1_0^3*L2_1*L2_0^6*P_1^2*P_0^4 + 2*c_1^7*c_5^2*A_2*A_1^3*A_0*L1_0^3*L2_0^7*P_2*P_1*P_0^4 + 5*c_1^7*c_5^2*A_2*A_1^3*A_0*L1_0^3*L2_0^7*P_1^3*P_0^3 + c_1^5*c_3^2*c_5*A_2*A_1^3*A_0*L1_0^2*L2_1^3*L2_0^5*P_0^6 + 3*c_1^6*c_3*c_5^2*A_2*A_1^3*A_0*L1_0^2*L2_1^2*L2_0^6*P_1*P_0^5 + (-4*c_1^7*c_5^3)*A_2*A_1^3*A_0*L1_0^2*L2_1*L2_0^7*P_1^2*P_0^4 + (-2*c_1^5*c_2*c_3)*A_2*A_1^3*L1_2*L1_0^3*L2_1*L2_0^6*P_0^6 + c_1^6*c_2*c_5*A_2*A_1^3*L1_2*L1_0^3*L2_0^7*P_1*P_0^5 + 2*c_1^5*c_2*c_3*A_2*A_1^3*L1_1^2*L1_0^2*L2_1*L2_0^6*P_0^6 + (-c_1^6*c_2*c_5)*A_2*A_1^3*L1_1^2*L1_0^2*L2_0^7*P_1*P_0^5 + (-2*c_1^5*c_2*c_3)*A_2*A_1^3*L1_1*L1_0^3*L2_2*L2_0^6*P_0^6 + (c_1^6*c_2*c_5 + 2*c_1^5*c_2*c_3)*A_2*A_1^3*L1_1*L1_0^3*L2_1*L2_0^6*P_1*P_0^5 + c_1^6*c_2*c_5*A_2*A_1^3*L1_1*L1_0^3*L2_0^7*P_2*P_0^5 + 2*c_1^6*c_2*c_5*A_2*A_1^3*L1_1*L1_0^3*L2_0^7*P_1^2*P_0^4 + 3*c_1^5*c_2*c_3*c_5*A_2*A_1^3*L1_1*L1_0^2*L2_1^2*L2_0^6*P_0^6 + (-2*c_1^6*c_2*c_5^2)*A_2*A_1^3*L1_1*L1_0^2*L2_1*L2_0^7*P_1*P_0^5 + (-c_1^7*c_5^2)*A_2*A_1^2*A_0^2*L1_0^3*L2_0^7*P_1^4*P_0^2 + (-2*c_1^6*c_3*c_5^2)*A_2*A_1^2*A_0^2*L1_0^2*L2_1^2*L2_0^6*P_1^2*P_0^4 + 2*c_1^7*c_5^3*A_2*A_1^2*A_0^2*L1_0^2*L2_1*L2_0^7*P_1^3*P_0^3 + c_1^6*c_2*c_5*A_2*A_1^2*A_0*L1_2*L1_0^3*L2_0^7*P_1^2*P_0^4 + (-c_1^6*c_2*c_5)*A_2*A_1^2*A_0*L1_1*L1_0^3*L2_0^7*P_2*P_1*P_0^4 + (-c_1^6*c_2*c_5)*A_2*A_1^2*A_0*L1_1*L1_0^3*L2_0^7*P_1^3*P_0^3 + (-3*c_1^5*c_2*c_3*c_5)*A_2*A_1^2*A_0*L1_1*L1_0^2*L2_1^2*L2_0^6*P_1*P_0^5 + 2*c_1^6*c_2*c_5^2*A_2*A_1^2*A_0*L1_1*L1_0^2*L2_1*L2_0^7*P_1^2*P_0^4 + c_1^5*c_2^2*A_2*A_1^2*L1_2*L1_1*L1_0^3*L2_0^7*P_1*P_0^5 + (-c_1^5*c_2^2)*A_2*A_1^2*L1_1^2*L1_0^3*L2_0^7*P_2*P_0^5 + (-2*c_1^6*c_3)*A_1^5*L1_1^2*L1_0^2*L2_0^6*P_1*P_0^5 + 4*c_1^6*c_3*A_1^5*L1_1*L1_0^3*L2_1*L2_0^5*P_1*P_0^5 + 2*c_1^6*c_3*A_1^5*L1_1*L1_0^3*L2_0^6*P_2*P_0^5 + 10*c_1^6*c_3*A_1^5*L1_1*L1_0^3*L2_0^6*P_1^2*P_0^4 + c_1^6*c_3*c_5*A_1^5*L1_1*L1_0^2*L2_2*L2_0^6*P_0^6 + (-c_1^6*c_3*c_5 - c_1^5*c_3^2)*A_1^5*L1_1*L1_0^2*L2_1^2*L2_0^5*P_0^6 + (-6*c_1^6*c_3*c_5)*A_1^5*L1_1*L1_0^2*L2_1*L2_0^6*P_1*P_0^5 + (-c_1^7*c_5^2)*A_1^5*L1_1*L1_0^2*L2_0^7*P_2*P_0^5 + (-c_1^7*c_5^2)*A_1^5*L1_1*L1_0^2*L2_0^7*P_1^2*P_0^4 + (-2*c_1^6*c_3)*A_1^5*L1_0^4*L2_1^2*L2_0^4*P_1*P_0^5 + (-2*c_1^6*c_3)*A_1^5*L1_0^4*L2_1*L2_0^5*P_2*P_0^5 + (-10*c_1^6*c_3)*A_1^5*L1_0^4*L2_1*L2_0^5*P_1^2*P_0^4 + (-8*c_1^6*c_3)*A_1^5*L1_0^4*L2_0^6*P_2*P_1*P_0^4 + (-8*c_1^6*c_3)*A_1^5*L1_0^4*L2_0^6*P_1^3*P_0^3 + (-c_1^6*c_3*c_5)*A_1^5*L1_0^3*L2_2*L2_1*L2_0^5*P_0^6 + (-4*c_1^6*c_3*c_5)*A_1^5*L1_0^3*L2_2*L2_0^6*P_1*P_0^5 + (c_1^6*c_3*c_5 + c_1^5*c_3^2)*A_1^5*L1_0^3*L2_1^3*L2_0^4*P_0^6 + (10*c_1^6*c_3*c_5 + 3*c_1^5*c_3^2)*A_1^5*L1_0^3*L2_1^2*L2_0^5*P_1*P_0^5 + (c_1^7*c_5^2 + 5*c_1^6*c_3*c_5)*A_1^5*L1_0^3*L2_1*L2_0^6*P_2*P_0^5 + (c_1^7*c_5^2 + 13*c_1^6*c_3*c_5)*A_1^5*L1_0^3*L2_1*L2_0^6*P_1^2*P_0^4 + 4*c_1^7*c_5^2*A_1^5*L1_0^3*L2_0^7*P_2*P_1*P_0^4 + 2*c_1^6*c_3*c_5^2*A_1^5*L1_0^2*L2_2*L2_1*L2_0^6*P_0^6 + c_1^7*c_5^3*A_1^5*L1_0^2*L2_2*L2_0^7*P_1*P_0^5 + (-2*c_1^6*c_3*c_5^2 - c_1^5*c_3^2*c_5)*A_1^5*L1_0^2*L2_1^3*L2_0^5*P_0^6 + (-c_1^7*c_5^3 - 6*c_1^6*c_3*c_5^2)*A_1^5*L1_0^2*L2_1^2*L2_0^6*P_1*P_0^5 + (-3*c_1^7*c_5^3)*A_1^5*L1_0^2*L2_1*L2_0^7*P_2*P_0^5 + (-2*c_1^6*c_3*c_5)*A_1^4*A_0*L1_1*L1_0^2*L2_2*L2_0^6*P_1*P_0^5 + 2*c_1^6*c_3*c_5*A_1^4*A_0*L1_1*L1_0^2*L2_1^2*L2_0^5*P_1*P_0^5 + c_1^6*c_3*c_5*A_1^4*A_0*L1_1*L1_0^2*L2_1*L2_0^6*P_2*P_0^5 + 5*c_1^6*c_3*c_5*A_1^4*A_0*L1_1*L1_0^2*L2_1*L2_0^6*P_1^2*P_0^4 + c_1^7*c_5^2*A_1^4*A_0*L1_1*L1_0^2*L2_0^7*P_2*P_1*P_0^4 + 2*c_1^7*c_5^2*A_1^4*A_0*L1_1*L1_0^2*L2_0^7*P_1^3*P_0^3 + 2*c_1^6*c_3*c_5*A_1^4*A_0*L1_0^3*L2_2*L2_1*L2_0^5*P_1*P_0^5 + c_1^6*c_3*c_5*A_1^4*A_0*L1_0^3*L2_2*L2_0^6*P_2*P_0^5 + 11*c_1^6*c_3*c_5*A_1^4*A_0*L1_0^3*L2_2*L2_0^6*P_1^2*P_0^4 + (-2*c_1^6*c_3*c_5)*A_1^4*A_0*L1_0^3*L2_1^3*L2_0^4*P_1*P_0^5 + (-2*c_1^6*c_3*c_5)*A_1^4*A_0*L1_0^3*L2_1^2*L2_0^5*P_2*P_0^5 + (-16*c_1^6*c_3*c_5)*A_1^4*A_0*L1_0^3*L2_1^2*L2_0^5*P_1^2*P_0^4 + (-c_1^7*c_5^2 - 12*c_1^6*c_3*c_5)*A_1^4*A_0*L1_0^3*L2_1*L2_0^6*P_2*P_1*P_0^4 + (-2*c_1^7*c_5^2 - 12*c_1^6*c_3*c_5)*A_1^4*A_0*L1_0^3*L2_1*L2_0^6*P_1^3*P_0^3 + (-c_1^7*c_5^2)*A_1^4*A_0*L1_0^3*L2_0^7*P_2^2*P_0^4 + (-5*c_1^7*c_5^2)*A_1^4*A_0*L1_0^3*L2_0^7*P_2*P_1^2*P_0^3 + (-c_1^5*c_3^2*c_5)*A_1^4*A_0*L1_0^2*L2_2*L2_1^2*L2_0^5*P_0^6 + (-8*c_1^6*c_3*c_5^2)*A_1^4*A_0*L1_0^2*L2_2*L2_1*L2_0^6*P_1*P_0^5 + (-3*c_1^7*c_5^3)*A_1^4*A_0*L1_0^2*L2_2*L2_0^7*P_1^2*P_0^4 + c_1^5*c_3^2*c_5*A_1^4*A_0*L1_0^2*L2_1^4*L2_0^4*P_0^6 + (8*c_1^6*c_3*c_5^2 + 3*c_1^5*c_3^2*c_5)*A_1^4*A_0*L1_0^2*L2_1^3*L2_0^5*P_1*P_0^5 + 5*c_1^6*c_3*c_5^2*A_1^4*A_0*L1_0^2*L2_1^2*L2_0^6*P_2*P_0^5 + (3*c_1^7*c_5^3 + 10*c_1^6*c_3*c_5^2)*A_1^4*A_0*L1_0^2*L2_1^2*L2_0^6*P_1^2*P_0^4 + 7*c_1^7*c_5^3*A_1^4*A_0*L1_0^2*L2_1*L2_0^7*P_2*P_1*P_0^4 + (-c_1^5*c_2*c_3)*A_1^4*L1_2*L1_1*L1_0^2*L2_1*L2_0^6*P_0^6 + (-c_1^6*c_2*c_5)*A_1^4*L1_2*L1_1*L1_0^2*L2_0^7*P_1*P_0^5 + 2*c_1^5*c_2*c_3*A_1^4*L1_2*L1_0^3*L2_2*L2_0^6*P_0^6 + (-c_1^5*c_2*c_3)*A_1^4*L1_2*L1_0^3*L2_1^2*L2_0^5*P_0^6 + c_1^6*c_2*c_5*A_1^4*L1_2*L1_0^3*L2_1*L2_0^6*P_1*P_0^5 + (-c_1^6*c_2*c_5)*A_1^4*L1_2*L1_0^3*L2_0^7*P_2*P_0^5 + 3*c_1^6*c_2*c_5*A_1^4*L1_2*L1_0^3*L2_0^7*P_1^2*P_0^4 + (-c_1^5*c_2*c_3*c_5)*A_1^4*L1_2*L1_0^2*L2_1^2*L2_0^6*P_0^6 + (-2*c_1^6*c_2*c_5^2)*A_1^4*L1_2*L1_0^2*L2_1*L2_0^7*P_1*P_0^5 + (-c_1^5*c_2*c_3)*A_1^4*L1_1^2*L1_0^2*L2_2*L2_0^6*P_0^6 + c_1^5*c_2*c_3*A_1^4*L1_1^2*L1_0^2*L2_1^2*L2_0^5*P_0^6 + 4*c_1^5*c_2*c_3*A_1^4*L1_1^2*L1_0^2*L2_1*L2_0^6*P_1*P_0^5 + 2*c_1^6*c_2*c_5*A_1^4*L1_1^2*L1_0^2*L2_0^7*P_2*P_0^5 + c_1^6*c_2*c_5*A_1^4*L1_1^2*L1_0^2*L2_0^7*P_1^2*P_0^4 + c_1^5*c_2*c_3*A_1^4*L1_1*L1_0^3*L2_2*L2_1*L2_0^5*P_0^6 + (-c_1^5*c_2*c_3)*A_1^4*L1_1*L1_0^3*L2_1^3*L2_0^4*P_0^6 + (-4*c_1^5*c_2*c_3)*A_1^4*L1_1*L1_0^3*L2_1^2*L2_0^5*P_1*P_0^5 + (-2*c_1^6*c_2*c_5 - 2*c_1^5*c_2*c_3)*A_1^4*L1_1*L1_0^3*L2_1*L2_0^6*P_2*P_0^5 + (-c_1^6*c_2*c_5 - 4*c_1^5*c_2*c_3)*A_1^4*L1_1*L1_0^3*L2_1*L2_0^6*P_1^2*P_0^4 + (-5*c_1^6*c_2*c_5)*A_1^4*L1_1*L1_0^3*L2_0^7*P_2*P_1*P_0^4 + (-c_1^6*c_2*c_5)*A_1^4*L1_1*L1_0^3*L2_0^7*P_1^3*P_0^3 + (-2*c_1^5*c_2*c_3*c_5)*A_1^4*L1_1*L1_0^2*L2_2*L2_1*L2_0^6*P_0^6 + (-2*c_1^6*c_2*c_5^2)*A_1^4*L1_1*L1_0^2*L2_2*L2_0^7*P_1*P_0^5 + 2*c_1^5*c_2*c_3*c_5*A_1^4*L1_1*L1_0^2*L2_1^3*L2_0^5*P_0^6 + (2*c_1^6*c_2*c_5^2 + 6*c_1^5*c_2*c_3*c_5)*A_1^4*L1_1*L1_0^2*L2_1^2*L2_0^6*P_1*P_0^5 + 6*c_1^6*c_2*c_5^2*A_1^4*L1_1*L1_0^2*L2_1*L2_0^7*P_2*P_0^5 + (-c_1^7*c_5^2)*A_1^3*A_0^2*L1_1*L1_0^2*L2_0^7*P_1^4*P_0^2 + c_1^7*c_5^2*A_1^3*A_0^2*L1_0^3*L2_1*L2_0^6*P_1^4*P_0^2 + c_1^7*c_5^2*A_1^3*A_0^2*L1_0^3*L2_0^7*P_2*P_1^3*P_0^2 + 6*c_1^6*c_3*c_5^2*A_1^3*A_0^2*L1_0^2*L2_2*L2_1*L2_0^6*P_1^2*P_0^4 + 3*c_1^7*c_5^3*A_1^3*A_0^2*L1_0^2*L2_2*L2_0^7*P_1^3*P_0^3 + (-6*c_1^6*c_3*c_5^2)*A_1^3*A_0^2*L1_0^2*L2_1^3*L2_0^5*P_1^2*P_0^4 + (-4*c_1^6*c_3*c_5^2)*A_1^3*A_0^2*L1_0^2*L2_1^2*L2_0^6*P_2*P_1*P_0^4 + (-3*c_1^7*c_5^3 - 4*c_1^6*c_3*c_5^2)*A_1^3*A_0^2*L1_0^2*L2_1^2*L2_0^6*P_1^3*P_0^3 + (-5*c_1^7*c_5^3)*A_1^3*A_0^2*L1_0^2*L2_1*L2_0^7*P_2*P_1^2*P_0^3 + c_1^6*c_2*c_5*A_1^3*A_0*L1_2*L1_1*L1_0^2*L2_0^7*P_1^2*P_0^4 + (-c_1^6*c_2*c_5)*A_1^3*A_0*L1_2*L1_0^3*L2_1*L2_0^6*P_1^2*P_0^4 + (-c_1^6*c_2*c_5)*A_1^3*A_0*L1_2*L1_0^3*L2_0^7*P_2*P_1*P_0^4 + (-3*c_1^6*c_2*c_5)*A_1^3*A_0*L1_2*L1_0^3*L2_0^7*P_1^3*P_0^3 + 2*c_1^5*c_2*c_3*c_5*A_1^3*A_0*L1_2*L1_0^2*L2_1^2*L2_0^6*P_1*P_0^5 + 4*c_1^6*c_2*c_5^2*A_1^3*A_0*L1_2*L1_0^2*L2_1*L2_0^7*P_1^2*P_0^4 + (-c_1^6*c_2*c_5)*A_1^3*A_0*L1_1^2*L1_0^2*L2_0^7*P_2*P_1*P_0^4 + (-c_1^6*c_2*c_5)*A_1^3*A_0*L1_1^2*L1_0^2*L2_0^7*P_1^3*P_0^3 + c_1^6*c_2*c_5*A_1^3*A_0*L1_1*L1_0^3*L2_1*L2_0^6*P_2*P_1*P_0^4 + c_1^6*c_2*c_5*A_1^3*A_0*L1_1*L1_0^3*L2_1*L2_0^6*P_1^3*P_0^3 + c_1^6*c_2*c_5*A_1^3*A_0*L1_1*L1_0^3*L2_0^7*P_2^2*P_0^4 + 4*c_1^6*c_2*c_5*A_1^3*A_0*L1_1*L1_0^3*L2_0^7*P_2*P_1^2*P_0^3 + c_1^6*c_2*c_5*A_1^3*A_0*L1_1*L1_0^3*L2_0^7*P_1^4*P_0^2 + 4*c_1^5*c_2*c_3*c_5*A_1^3*A_0*L1_1*L1_0^2*L2_2*L2_1*L2_0^6*P_1*P_0^5 + 4*c_1^6*c_2*c_5^2*A_1^3*A_0*L1_1*L1_0^2*L2_2*L2_0^7*P_1^2*P_0^4 + (-4*c_1^5*c_2*c_3*c_5)*A_1^3*A_0*L1_1*L1_0^2*L2_1^3*L2_0^5*P_1*P_0^5 + (-3*c_1^5*c_2*c_3*c_5)*A_1^3*A_0*L1_1*L1_0^2*L2_1^2*L2_0^6*P_2*P_0^5 + (-4*c_1^6*c_2*c_5^2 - 6*c_1^5*c_2*c_3*c_5)*A_1^3*A_0*L1_1*L1_0^2*L2_1^2*L2_0^6*P_1^2*P_0^4 + (-10*c_1^6*c_2*c_5^2)*A_1^3*A_0*L1_1*L1_0^2*L2_1*L2_0^7*P_2*P_1*P_0^4 + (-c_1^5*c_2^2)*A_1^3*L1_2^2*L1_0^3*L2_0^7*P_1*P_0^5 + c_1^5*c_2^2*A_1^3*L1_2*L1_1^2*L1_0^2*L2_0^7*P_1*P_0^5 + (-c_1^5*c_2^2)*A_1^3*L1_2*L1_1*L1_0^3*L2_1*L2_0^6*P_1*P_0^5 + c_1^5*c_2^2*A_1^3*L1_2*L1_1*L1_0^3*L2_0^7*P_2*P_0^5 + (-c_1^5*c_2^2)*A_1^3*L1_2*L1_1*L1_0^3*L2_0^7*P_1^2*P_0^4 + 2*c_1^5*c_2^2*c_5*A_1^3*L1_2*L1_1*L1_0^2*L2_1*L2_0^7*P_1*P_0^5 + (-c_1^5*c_2^2)*A_1^3*L1_1^3*L1_0^2*L2_0^7*P_2*P_0^5 + c_1^5*c_2^2*A_1^3*L1_1^2*L1_0^3*L2_1*L2_0^6*P_2*P_0^5 + c_1^5*c_2^2*A_1^3*L1_1^2*L1_0^3*L2_0^7*P_2*P_1*P_0^4 + c_1^5*c_2^2*c_5*A_1^3*L1_1^2*L1_0^2*L2_2*L2_0^7*P_1*P_0^5 + (-c_1^5*c_2^2*c_5)*A_1^3*L1_1^2*L1_0^2*L2_1^2*L2_0^6*P_1*P_0^5 + (-3*c_1^5*c_2^2*c_5)*A_1^3*L1_1^2*L1_0^2*L2_1*L2_0^7*P_2*P_0^5 + (-c_1^7*c_5^3)*A_1^2*A_0^3*L1_0^2*L2_2*L2_0^7*P_1^4*P_0^2 + c_1^7*c_5^3*A_1^2*A_0^3*L1_0^2*L2_1^2*L2_0^6*P_1^4*P_0^2 + c_1^7*c_5^3*A_1^2*A_0^3*L1_0^2*L2_1*L2_0^7*P_2*P_1^3*P_0^2 + (-2*c_1^6*c_2*c_5^2)*A_1^2*A_0^2*L1_2*L1_0^2*L2_1*L2_0^7*P_1^3*P_0^3 + (-2*c_1^6*c_2*c_5^2)*A_1^2*A_0^2*L1_1*L1_0^2*L2_2*L2_0^7*P_1^3*P_0^3 + 2*c_1^6*c_2*c_5^2*A_1^2*A_0^2*L1_1*L1_0^2*L2_1^2*L2_0^6*P_1^3*P_0^3 + 4*c_1^6*c_2*c_5^2*A_1^2*A_0^2*L1_1*L1_0^2*L2_1*L2_0^7*P_2*P_1^2*P_0^3 + (-2*c_1^5*c_2^2*c_5)*A_1^2*A_0*L1_2*L1_1*L1_0^2*L2_1*L2_0^7*P_1^2*P_0^4 + (-c_1^5*c_2^2*c_5)*A_1^2*A_0*L1_1^2*L1_0^2*L2_2*L2_0^7*P_1^2*P_0^4 + c_1^5*c_2^2*c_5*A_1^2*A_0*L1_1^2*L1_0^2*L2_1^2*L2_0^6*P_1^2*P_0^4 + 3*c_1^5*c_2^2*c_5*A_1^2*A_0*L1_1^2*L1_0^2*L2_1*L2_0^7*P_2*P_1*P_0^4 + c_1^6*A_2^2*A_1^2*L1_0^4*L2_0^6*P_1^2*P_0^4 + c_1^5*c_3*A_2^2*A_1^2*L1_0^3*L2_1^2*L2_0^5*P_0^6 + (-c_1^6*c_5)*A_2^2*A_1^2*L1_0^3*L2_1*L2_0^6*P_1*P_0^5 + 2*c_1^6*A_2*A_1^3*L1_1*L1_0^3*L2_0^6*P_1^2*P_0^4 + c_1^5*c_3*A_2*A_1^3*L1_1*L1_0^2*L2_1^2*L2_0^5*P_0^6 + (-c_1^6*c_5)*A_2*A_1^3*L1_1*L1_0^2*L2_1*L2_0^6*P_1*P_0^5 + (-2*c_1^6)*A_2*A_1^3*L1_0^4*L2_1*L2_0^5*P_1^2*P_0^4 + (-2*c_1^6)*A_2*A_1^3*L1_0^4*L2_0^6*P_2*P_1*P_0^4 + (-2*c_1^6)*A_2*A_1^3*L1_0^4*L2_0^6*P_1^3*P_0^3 + (-2*c_1^5*c_3)*A_2*A_1^3*L1_0^3*L2_2*L2_1*L2_0^5*P_0^6 + c_1^6*c_5*A_2*A_1^3*L1_0^3*L2_2*L2_0^6*P_1*P_0^5 + c_1^5*c_3*A_2*A_1^3*L1_0^3*L2_1^3*L2_0^4*P_0^6 + c_1^5*c_3*A_2*A_1^3*L1_0^3*L2_1^2*L2_0^5*P_1*P_0^5 + c_1^6*c_5*A_2*A_1^3*L1_0^3*L2_1*L2_0^6*P_2*P_0^5 + 2*c_1^6*c_5*A_2*A_1^3*L1_0^3*L2_1*L2_0^6*P_1^2*P_0^4 + c_1^5*c_3*c_5*A_2*A_1^3*L1_0^2*L2_1^3*L2_0^5*P_0^6 + (-c_1^6*c_5^2)*A_2*A_1^3*L1_0^2*L2_1^2*L2_0^6*P_1*P_0^5 + c_1^6*c_5*A_2*A_1^2*A_0*L1_0^3*L2_2*L2_0^6*P_1^2*P_0^4 + (-c_1^6*c_5)*A_2*A_1^2*A_0*L1_0^3*L2_1^2*L2_0^5*P_1^2*P_0^4 + (-c_1^6*c_5)*A_2*A_1^2*A_0*L1_0^3*L2_1*L2_0^6*P_2*P_1*P_0^4 + (-c_1^6*c_5)*A_2*A_1^2*A_0*L1_0^3*L2_1*L2_0^6*P_1^3*P_0^3 + (-c_1^5*c_3*c_5)*A_2*A_1^2*A_0*L1_0^2*L2_1^3*L2_0^5*P_1*P_0^5 + c_1^6*c_5^2*A_2*A_1^2*A_0*L1_0^2*L2_1^2*L2_0^6*P_1^2*P_0^4 + c_1^5*c_2*A_2*A_1^2*L1_2*L1_0^3*L2_1*L2_0^6*P_1*P_0^5 + c_1^5*c_2*A_2*A_1^2*L1_1*L1_0^3*L2_2*L2_0^6*P_1*P_0^5 + (-c_1^5*c_2)*A_2*A_1^2*L1_1*L1_0^3*L2_1^2*L2_0^5*P_1*P_0^5 + (-2*c_1^5*c_2)*A_2*A_1^2*L1_1*L1_0^3*L2_1*L2_0^6*P_2*P_0^5 + c_1^6*A_1^4*L1_1^2*L1_0^2*L2_0^6*P_1^2*P_0^4 + (-2*c_1^6)*A_1^4*L1_1*L1_0^3*L2_1*L2_0^5*P_1^2*P_0^4 + (-2*c_1^6)*A_1^4*L1_1*L1_0^3*L2_0^6*P_2*P_1*P_0^4 + (-2*c_1^6)*A_1^4*L1_1*L1_0^3*L2_0^6*P_1^3*P_0^3 + (-c_1^5*c_3)*A_1^4*L1_1*L1_0^2*L2_2*L2_1*L2_0^5*P_0^6 + (-c_1^6*c_5)*A_1^4*L1_1*L1_0^2*L2_2*L2_0^6*P_1*P_0^5 + c_1^5*c_3*A_1^4*L1_1*L1_0^2*L2_1^3*L2_0^4*P_0^6 + (c_1^6*c_5 + 2*c_1^5*c_3)*A_1^4*L1_1*L1_0^2*L2_1^2*L2_0^5*P_1*P_0^5 + 2*c_1^6*c_5*A_1^4*L1_1*L1_0^2*L2_1*L2_0^6*P_2*P_0^5 + c_1^6*c_5*A_1^4*L1_1*L1_0^2*L2_1*L2_0^6*P_1^2*P_0^4 + c_1^6*A_1^4*L1_0^4*L2_1^2*L2_0^4*P_1^2*P_0^4 + 2*c_1^6*A_1^4*L1_0^4*L2_1*L2_0^5*P_2*P_1*P_0^4 + 2*c_1^6*A_1^4*L1_0^4*L2_1*L2_0^5*P_1^3*P_0^3 + c_1^6*A_1^4*L1_0^4*L2_0^6*P_2^2*P_0^4 + 2*c_1^6*A_1^4*L1_0^4*L2_0^6*P_2*P_1^2*P_0^3 + c_1^6*A_1^4*L1_0^4*L2_0^6*P_1^4*P_0^2 + c_1^5*c_3*A_1^4*L1_0^3*L2_2^2*L2_0^5*P_0^6 + (-c_1^5*c_3)*A_1^4*L1_0^3*L2_2*L2_1^2*L2_0^4*P_0^6 + c_1^6*c_5*A_1^4*L1_0^3*L2_2*L2_1*L2_0^5*P_1*P_0^5 + (-c_1^6*c_5)*A_1^4*L1_0^3*L2_2*L2_0^6*P_2*P_0^5 + 3*c_1^6*c_5*A_1^4*L1_0^3*L2_2*L2_0^6*P_1^2*P_0^4 + (-c_1^6*c_5 - 2*c_1^5*c_3)*A_1^4*L1_0^3*L2_1^3*L2_0^4*P_1*P_0^5 + (-c_1^6*c_5 - c_1^5*c_3)*A_1^4*L1_0^3*L2_1^2*L2_0^5*P_2*P_0^5 + (-4*c_1^6*c_5 - 2*c_1^5*c_3)*A_1^4*L1_0^3*L2_1^2*L2_0^5*P_1^2*P_0^4 + (-5*c_1^6*c_5)*A_1^4*L1_0^3*L2_1*L2_0^6*P_2*P_1*P_0^4 + (-c_1^6*c_5)*A_1^4*L1_0^3*L2_1*L2_0^6*P_1^3*P_0^3 + (-c_1^5*c_3*c_5)*A_1^4*L1_0^2*L2_2*L2_1^2*L2_0^5*P_0^6 + (-2*c_1^6*c_5^2)*A_1^4*L1_0^2*L2_2*L2_1*L2_0^6*P_1*P_0^5 + c_1^5*c_3*c_5*A_1^4*L1_0^2*L2_1^4*L2_0^4*P_0^6 + (2*c_1^6*c_5^2 + 2*c_1^5*c_3*c_5)*A_1^4*L1_0^2*L2_1^3*L2_0^5*P_1*P_0^5 + 3*c_1^6*c_5^2*A_1^4*L1_0^2*L2_1^2*L2_0^6*P_2*P_0^5 + c_1^6*c_5*A_1^3*A_0*L1_1*L1_0^2*L2_2*L2_0^6*P_1^2*P_0^4 + (-c_1^6*c_5)*A_1^3*A_0*L1_1*L1_0^2*L2_1^2*L2_0^5*P_1^2*P_0^4 + (-c_1^6*c_5)*A_1^3*A_0*L1_1*L1_0^2*L2_1*L2_0^6*P_2*P_1*P_0^4 + (-c_1^6*c_5)*A_1^3*A_0*L1_1*L1_0^2*L2_1*L2_0^6*P_1^3*P_0^3 + (-c_1^6*c_5)*A_1^3*A_0*L1_0^3*L2_2*L2_1*L2_0^5*P_1^2*P_0^4 + (-c_1^6*c_5)*A_1^3*A_0*L1_0^3*L2_2*L2_0^6*P_2*P_1*P_0^4 + (-3*c_1^6*c_5)*A_1^3*A_0*L1_0^3*L2_2*L2_0^6*P_1^3*P_0^3 + c_1^6*c_5*A_1^3*A_0*L1_0^3*L2_1^3*L2_0^4*P_1^2*P_0^4 + 2*c_1^6*c_5*A_1^3*A_0*L1_0^3*L2_1^2*L2_0^5*P_2*P_1*P_0^4 + 4*c_1^6*c_5*A_1^3*A_0*L1_0^3*L2_1^2*L2_0^5*P_1^3*P_0^3 + c_1^6*c_5*A_1^3*A_0*L1_0^3*L2_1*L2_0^6*P_2^2*P_0^4 + 4*c_1^6*c_5*A_1^3*A_0*L1_0^3*L2_1*L2_0^6*P_2*P_1^2*P_0^3 + c_1^6*c_5*A_1^3*A_0*L1_0^3*L2_1*L2_0^6*P_1^4*P_0^2 + 2*c_1^5*c_3*c_5*A_1^3*A_0*L1_0^2*L2_2*L2_1^2*L2_0^5*P_1*P_0^5 + 4*c_1^6*c_5^2*A_1^3*A_0*L1_0^2*L2_2*L2_1*L2_0^6*P_1^2*P_0^4 + (-2*c_1^5*c_3*c_5)*A_1^3*A_0*L1_0^2*L2_1^4*L2_0^4*P_1*P_0^5 + (-c_1^5*c_3*c_5)*A_1^3*A_0*L1_0^2*L2_1^3*L2_0^5*P_2*P_0^5 + (-4*c_1^6*c_5^2 - 2*c_1^5*c_3*c_5)*A_1^3*A_0*L1_0^2*L2_1^3*L2_0^5*P_1^2*P_0^4 + (-5*c_1^6*c_5^2)*A_1^3*A_0*L1_0^2*L2_1^2*L2_0^6*P_2*P_1*P_0^4 + c_1^5*c_2*A_1^3*L1_2*L1_1*L1_0^2*L2_1*L2_0^6*P_1*P_0^5 + (-2*c_1^5*c_2)*A_1^3*L1_2*L1_0^3*L2_2*L2_0^6*P_1*P_0^5 + c_1^5*c_2*A_1^3*L1_2*L1_0^3*L2_1^2*L2_0^5*P_1*P_0^5 + c_1^5*c_2*A_1^3*L1_2*L1_0^3*L2_1*L2_0^6*P_2*P_0^5 + (-c_1^5*c_2)*A_1^3*L1_2*L1_0^3*L2_1*L2_0^6*P_1^2*P_0^4 + c_1^5*c_2*c_5*A_1^3*L1_2*L1_0^2*L2_1^2*L2_0^6*P_1*P_0^5 + c_1^5*c_2*A_1^3*L1_1^2*L1_0^2*L2_2*L2_0^6*P_1*P_0^5 + (-c_1^5*c_2)*A_1^3*L1_1^2*L1_0^2*L2_1^2*L2_0^5*P_1*P_0^5 + (-2*c_1^5*c_2)*A_1^3*L1_1^2*L1_0^2*L2_1*L2_0^6*P_2*P_0^5 + (-c_1^5*c_2)*A_1^3*L1_1*L1_0^3*L2_2*L2_1*L2_0^5*P_1*P_0^5 + c_1^5*c_2*A_1^3*L1_1*L1_0^3*L2_2*L2_0^6*P_2*P_0^5 + (-c_1^5*c_2)*A_1^3*L1_1*L1_0^3*L2_2*L2_0^6*P_1^2*P_0^4 + c_1^5*c_2*A_1^3*L1_1*L1_0^3*L2_1^3*L2_0^4*P_1*P_0^5 + c_1^5*c_2*A_1^3*L1_1*L1_0^3*L2_1^2*L2_0^5*P_2*P_0^5 + c_1^5*c_2*A_1^3*L1_1*L1_0^3*L2_1^2*L2_0^5*P_1^2*P_0^4 + 2*c_1^5*c_2*A_1^3*L1_1*L1_0^3*L2_1*L2_0^6*P_2*P_1*P_0^4 + 2*c_1^5*c_2*c_5*A_1^3*L1_1*L1_0^2*L2_2*L2_1*L2_0^6*P_1*P_0^5 + (-2*c_1^5*c_2*c_5)*A_1^3*L1_1*L1_0^2*L2_1^3*L2_0^5*P_1*P_0^5 + (-3*c_1^5*c_2*c_5)*A_1^3*L1_1*L1_0^2*L2_1^2*L2_0^6*P_2*P_0^5 + (-2*c_1^6*c_5^2)*A_1^2*A_0^2*L1_0^2*L2_2*L2_1*L2_0^6*P_1^3*P_0^3 + 2*c_1^6*c_5^2*A_1^2*A_0^2*L1_0^2*L2_1^3*L2_0^5*P_1^3*P_0^3 + 2*c_1^6*c_5^2*A_1^2*A_0^2*L1_0^2*L2_1^2*L2_0^6*P_2*P_1^2*P_0^3 + (-c_1^5*c_2*c_5)*A_1^2*A_0*L1_2*L1_0^2*L2_1^2*L2_0^6*P_1^2*P_0^4 + (-2*c_1^5*c_2*c_5)*A_1^2*A_0*L1_1*L1_0^2*L2_2*L2_1*L2_0^6*P_1^2*P_0^4 + 2*c_1^5*c_2*c_5*A_1^2*A_0*L1_1*L1_0^2*L2_1^3*L2_0^5*P_1^2*P_0^4 + 3*c_1^5*c_2*c_5*A_1^2*A_0*L1_1*L1_0^2*L2_1^2*L2_0^6*P_2*P_1*P_0^4 + c_1^5*A_2*A_1^2*L1_0^3*L2_2*L2_1*L2_0^5*P_1*P_0^5 + (-c_1^5)*A_2*A_1^2*L1_0^3*L2_1^3*L2_0^4*P_1*P_0^5 + (-c_1^5)*A_2*A_1^2*L1_0^3*L2_1^2*L2_0^5*P_2*P_0^5 + c_1^5*A_1^3*L1_1*L1_0^2*L2_2*L2_1*L2_0^5*P_1*P_0^5 + (-c_1^5)*A_1^3*L1_1*L1_0^2*L2_1^3*L2_0^4*P_1*P_0^5 + (-c_1^5)*A_1^3*L1_1*L1_0^2*L2_1^2*L2_0^5*P_2*P_0^5 + (-c_1^5)*A_1^3*L1_0^3*L2_2^2*L2_0^5*P_1*P_0^5 + c_1^5*A_1^3*L1_0^3*L2_2*L2_1^2*L2_0^4*P_1*P_0^5 + c_1^5*A_1^3*L1_0^3*L2_2*L2_1*L2_0^5*P_2*P_0^5 + (-c_1^5)*A_1^3*L1_0^3*L2_2*L2_1*L2_0^5*P_1^2*P_0^4 + c_1^5*A_1^3*L1_0^3*L2_1^3*L2_0^4*P_1^2*P_0^4 + c_1^5*A_1^3*L1_0^3*L2_1^2*L2_0^5*P_2*P_1*P_0^4 + c_1^5*c_5*A_1^3*L1_0^2*L2_2*L2_1^2*L2_0^5*P_1*P_0^5 + (-c_1^5*c_5)*A_1^3*L1_0^2*L2_1^4*L2_0^4*P_1*P_0^5 + (-c_1^5*c_5)*A_1^3*L1_0^2*L2_1^3*L2_0^5*P_2*P_0^5 + (-c_1^5*c_5)*A_1^2*A_0*L1_0^2*L2_2*L2_1^2*L2_0^5*P_1^2*P_0^4 + c_1^5*c_5*A_1^2*A_0*L1_0^2*L2_1^4*L2_0^4*P_1^2*P_0^4 + c_1^5*c_5*A_1^2*A_0*L1_0^2*L2_1^3*L2_0^5*P_2*P_1*P_0^4\n"
     ]
    }
   ],
   "source": [
    "print(res_wo_A1)"
   ]
  },
  {
   "cell_type": "code",
   "execution_count": 19,
   "metadata": {},
   "outputs": [
    {
     "ename": "CoercionException",
     "evalue": "'RingWithOperatorFunctor' object has no attribute 'rank'",
     "output_type": "error",
     "traceback": [
      "\u001b[0;31m---------------------------------------------------------------------------\u001b[0m",
      "\u001b[0;31mAttributeError\u001b[0m                            Traceback (most recent call last)",
      "\u001b[0;32m~/sage/local/lib/python3.9/site-packages/sage/categories/pushout.py\u001b[0m in \u001b[0;36mpushout\u001b[0;34m(R, S)\u001b[0m\n\u001b[1;32m   4147\u001b[0m             \u001b[0;31m# if one of the functors has lower rank, do it first\u001b[0m\u001b[0;34m\u001b[0m\u001b[0;34m\u001b[0m\u001b[0;34m\u001b[0m\u001b[0m\n\u001b[0;32m-> 4148\u001b[0;31m             \u001b[0;32melif\u001b[0m \u001b[0mRc\u001b[0m\u001b[0;34m[\u001b[0m\u001b[0;34m-\u001b[0m\u001b[0;36m1\u001b[0m\u001b[0;34m]\u001b[0m\u001b[0;34m.\u001b[0m\u001b[0mrank\u001b[0m \u001b[0;34m<\u001b[0m \u001b[0mSc\u001b[0m\u001b[0;34m[\u001b[0m\u001b[0;34m-\u001b[0m\u001b[0;36m1\u001b[0m\u001b[0;34m]\u001b[0m\u001b[0;34m.\u001b[0m\u001b[0mrank\u001b[0m\u001b[0;34m:\u001b[0m\u001b[0;34m\u001b[0m\u001b[0;34m\u001b[0m\u001b[0m\n\u001b[0m\u001b[1;32m   4149\u001b[0m                 \u001b[0mall\u001b[0m \u001b[0;34m=\u001b[0m \u001b[0mapply_from\u001b[0m\u001b[0;34m(\u001b[0m\u001b[0mRc\u001b[0m\u001b[0;34m)\u001b[0m\u001b[0;34m\u001b[0m\u001b[0;34m\u001b[0m\u001b[0m\n",
      "\u001b[0;31mAttributeError\u001b[0m: 'RingWithOperatorFunctor' object has no attribute 'rank'",
      "\nDuring handling of the above exception, another exception occurred:\n",
      "\u001b[0;31mCoercionException\u001b[0m                         Traceback (most recent call last)",
      "\u001b[0;32m<ipython-input-19-202f7c6b3cb7>\u001b[0m in \u001b[0;36m<module>\u001b[0;34m\u001b[0m\n\u001b[0;32m----> 1\u001b[0;31m \u001b[0mnew_system\u001b[0m \u001b[0;34m=\u001b[0m \u001b[0mDifferentialSystem\u001b[0m\u001b[0;34m(\u001b[0m\u001b[0;34m[\u001b[0m\u001b[0msystem\u001b[0m\u001b[0;34m.\u001b[0m\u001b[0mequation\u001b[0m\u001b[0;34m(\u001b[0m\u001b[0mInteger\u001b[0m\u001b[0;34m(\u001b[0m\u001b[0;36m0\u001b[0m\u001b[0;34m)\u001b[0m\u001b[0;34m)\u001b[0m\u001b[0;34m,\u001b[0m \u001b[0mres_wo_A1\u001b[0m\u001b[0;34m]\u001b[0m\u001b[0;34m,\u001b[0m \u001b[0mvariables\u001b[0m\u001b[0;34m=\u001b[0m\u001b[0;34m[\u001b[0m\u001b[0mA\u001b[0m\u001b[0;34m]\u001b[0m\u001b[0;34m)\u001b[0m\u001b[0;34m\u001b[0m\u001b[0;34m\u001b[0m\u001b[0m\n\u001b[0m",
      "\u001b[0;32m~/sage/local/lib/python3.9/site-packages/dalgebra/diff_polynomial/diff_polynomial_system.py\u001b[0m in \u001b[0;36m__init__\u001b[0;34m(self, equations, parent, variables)\u001b[0m\n\u001b[1;32m    942\u001b[0m     '''\n\u001b[1;32m    943\u001b[0m     \u001b[0;32mdef\u001b[0m \u001b[0m__init__\u001b[0m\u001b[0;34m(\u001b[0m\u001b[0mself\u001b[0m\u001b[0;34m,\u001b[0m \u001b[0mequations\u001b[0m\u001b[0;34m,\u001b[0m \u001b[0mparent\u001b[0m\u001b[0;34m=\u001b[0m\u001b[0;32mNone\u001b[0m\u001b[0;34m,\u001b[0m \u001b[0mvariables\u001b[0m\u001b[0;34m=\u001b[0m\u001b[0;32mNone\u001b[0m\u001b[0;34m)\u001b[0m\u001b[0;34m:\u001b[0m\u001b[0;34m\u001b[0m\u001b[0;34m\u001b[0m\u001b[0m\n\u001b[0;32m--> 944\u001b[0;31m         \u001b[0msuper\u001b[0m\u001b[0;34m(\u001b[0m\u001b[0;34m)\u001b[0m\u001b[0;34m.\u001b[0m\u001b[0m__init__\u001b[0m\u001b[0;34m(\u001b[0m\u001b[0mequations\u001b[0m\u001b[0;34m,\u001b[0m \u001b[0mparent\u001b[0m\u001b[0;34m,\u001b[0m \u001b[0mvariables\u001b[0m\u001b[0;34m)\u001b[0m\u001b[0;34m\u001b[0m\u001b[0;34m\u001b[0m\u001b[0m\n\u001b[0m\u001b[1;32m    945\u001b[0m \u001b[0;34m\u001b[0m\u001b[0m\n\u001b[1;32m    946\u001b[0m         \u001b[0;32mif\u001b[0m \u001b[0;32mnot\u001b[0m \u001b[0mis_DifferentialPolynomialRing\u001b[0m\u001b[0;34m(\u001b[0m\u001b[0mself\u001b[0m\u001b[0;34m.\u001b[0m\u001b[0mparent\u001b[0m\u001b[0;34m(\u001b[0m\u001b[0;34m)\u001b[0m\u001b[0;34m)\u001b[0m\u001b[0;34m:\u001b[0m\u001b[0;34m\u001b[0m\u001b[0;34m\u001b[0m\u001b[0m\n",
      "\u001b[0;32m~/sage/local/lib/python3.9/site-packages/dalgebra/diff_polynomial/diff_polynomial_system.py\u001b[0m in \u001b[0;36m__init__\u001b[0;34m(self, equations, parent, variables)\u001b[0m\n\u001b[1;32m     64\u001b[0m             \u001b[0mparents\u001b[0m\u001b[0;34m.\u001b[0m\u001b[0minsert\u001b[0m\u001b[0;34m(\u001b[0m\u001b[0;36m0\u001b[0m\u001b[0;34m,\u001b[0m\u001b[0mparent\u001b[0m\u001b[0;34m)\u001b[0m\u001b[0;34m\u001b[0m\u001b[0;34m\u001b[0m\u001b[0m\n\u001b[1;32m     65\u001b[0m \u001b[0;34m\u001b[0m\u001b[0m\n\u001b[0;32m---> 66\u001b[0;31m         \u001b[0mpushed\u001b[0m \u001b[0;34m=\u001b[0m \u001b[0mreduce\u001b[0m\u001b[0;34m(\u001b[0m\u001b[0;32mlambda\u001b[0m \u001b[0mp\u001b[0m\u001b[0;34m,\u001b[0m \u001b[0mq\u001b[0m \u001b[0;34m:\u001b[0m \u001b[0mpushout\u001b[0m\u001b[0;34m(\u001b[0m\u001b[0mp\u001b[0m\u001b[0;34m,\u001b[0m\u001b[0mq\u001b[0m\u001b[0;34m)\u001b[0m\u001b[0;34m,\u001b[0m \u001b[0mparents\u001b[0m\u001b[0;34m)\u001b[0m\u001b[0;34m\u001b[0m\u001b[0;34m\u001b[0m\u001b[0m\n\u001b[0m\u001b[1;32m     67\u001b[0m         \u001b[0;32mif\u001b[0m\u001b[0;34m(\u001b[0m\u001b[0;32mnot\u001b[0m \u001b[0mis_RWOPolynomialRing\u001b[0m\u001b[0;34m(\u001b[0m\u001b[0mpushed\u001b[0m\u001b[0;34m)\u001b[0m\u001b[0;34m)\u001b[0m\u001b[0;34m:\u001b[0m\u001b[0;34m\u001b[0m\u001b[0;34m\u001b[0m\u001b[0m\n\u001b[1;32m     68\u001b[0m             \u001b[0;32mraise\u001b[0m \u001b[0mTypeError\u001b[0m\u001b[0;34m(\u001b[0m\u001b[0;34m\"The common parent is nto a ring of differential polynomials. Not valid for a DifferentialSystem\"\u001b[0m\u001b[0;34m)\u001b[0m\u001b[0;34m\u001b[0m\u001b[0;34m\u001b[0m\u001b[0m\n",
      "\u001b[0;32m~/sage/local/lib/python3.9/site-packages/dalgebra/diff_polynomial/diff_polynomial_system.py\u001b[0m in \u001b[0;36m<lambda>\u001b[0;34m(p, q)\u001b[0m\n\u001b[1;32m     64\u001b[0m             \u001b[0mparents\u001b[0m\u001b[0;34m.\u001b[0m\u001b[0minsert\u001b[0m\u001b[0;34m(\u001b[0m\u001b[0;36m0\u001b[0m\u001b[0;34m,\u001b[0m\u001b[0mparent\u001b[0m\u001b[0;34m)\u001b[0m\u001b[0;34m\u001b[0m\u001b[0;34m\u001b[0m\u001b[0m\n\u001b[1;32m     65\u001b[0m \u001b[0;34m\u001b[0m\u001b[0m\n\u001b[0;32m---> 66\u001b[0;31m         \u001b[0mpushed\u001b[0m \u001b[0;34m=\u001b[0m \u001b[0mreduce\u001b[0m\u001b[0;34m(\u001b[0m\u001b[0;32mlambda\u001b[0m \u001b[0mp\u001b[0m\u001b[0;34m,\u001b[0m \u001b[0mq\u001b[0m \u001b[0;34m:\u001b[0m \u001b[0mpushout\u001b[0m\u001b[0;34m(\u001b[0m\u001b[0mp\u001b[0m\u001b[0;34m,\u001b[0m\u001b[0mq\u001b[0m\u001b[0;34m)\u001b[0m\u001b[0;34m,\u001b[0m \u001b[0mparents\u001b[0m\u001b[0;34m)\u001b[0m\u001b[0;34m\u001b[0m\u001b[0;34m\u001b[0m\u001b[0m\n\u001b[0m\u001b[1;32m     67\u001b[0m         \u001b[0;32mif\u001b[0m\u001b[0;34m(\u001b[0m\u001b[0;32mnot\u001b[0m \u001b[0mis_RWOPolynomialRing\u001b[0m\u001b[0;34m(\u001b[0m\u001b[0mpushed\u001b[0m\u001b[0;34m)\u001b[0m\u001b[0;34m)\u001b[0m\u001b[0;34m:\u001b[0m\u001b[0;34m\u001b[0m\u001b[0;34m\u001b[0m\u001b[0m\n\u001b[1;32m     68\u001b[0m             \u001b[0;32mraise\u001b[0m \u001b[0mTypeError\u001b[0m\u001b[0;34m(\u001b[0m\u001b[0;34m\"The common parent is nto a ring of differential polynomials. Not valid for a DifferentialSystem\"\u001b[0m\u001b[0;34m)\u001b[0m\u001b[0;34m\u001b[0m\u001b[0;34m\u001b[0m\u001b[0m\n",
      "\u001b[0;32m~/sage/local/lib/python3.9/site-packages/sage/categories/pushout.py\u001b[0m in \u001b[0;36mpushout\u001b[0;34m(R, S)\u001b[0m\n\u001b[1;32m   4197\u001b[0m         \u001b[0;31m# make sense, and in this case simply want to return that a pushout\u001b[0m\u001b[0;34m\u001b[0m\u001b[0;34m\u001b[0m\u001b[0;34m\u001b[0m\u001b[0m\n\u001b[1;32m   4198\u001b[0m         \u001b[0;31m# couldn't be found.\u001b[0m\u001b[0;34m\u001b[0m\u001b[0;34m\u001b[0m\u001b[0;34m\u001b[0m\u001b[0m\n\u001b[0;32m-> 4199\u001b[0;31m         \u001b[0;32mraise\u001b[0m \u001b[0mCoercionException\u001b[0m\u001b[0;34m(\u001b[0m\u001b[0mex\u001b[0m\u001b[0;34m)\u001b[0m\u001b[0;34m\u001b[0m\u001b[0;34m\u001b[0m\u001b[0m\n\u001b[0m\u001b[1;32m   4200\u001b[0m \u001b[0;34m\u001b[0m\u001b[0m\n\u001b[1;32m   4201\u001b[0m \u001b[0;34m\u001b[0m\u001b[0m\n",
      "\u001b[0;31mCoercionException\u001b[0m: 'RingWithOperatorFunctor' object has no attribute 'rank'"
     ]
    }
   ],
   "source": [
    "new_system = DifferentialSystem([system.equation(0), res_wo_A1], variables=[A])"
   ]
  },
  {
   "cell_type": "code",
   "execution_count": 14,
   "metadata": {},
   "outputs": [
    {
     "data": {
      "text/html": [
       "<html><script type=\"math/tex; mode=display\">\\newcommand{\\Bold}[1]{\\mathbf{#1}}\\left(1 A_{2}, 1 A_{1}, 1 A_{0}, 1 \\mathit{L1}_{2}, 1 \\mathit{L1}_{1}, 1 \\mathit{L1}_{0}, 1 \\mathit{L2}_{2}, 1 \\mathit{L2}_{1}, 1 \\mathit{L2}_{0}, 1 P_{2}, 1 P_{1}, 1 P_{0}\\right)</script></html>"
      ],
      "text/latex": [
       "$$\\newcommand{\\Bold}[1]{\\mathbf{#1}}\\left(1 A_{2}, 1 A_{1}, 1 A_{0}, 1 \\mathit{L1}_{2}, 1 \\mathit{L1}_{1}, 1 \\mathit{L1}_{0}, 1 \\mathit{L2}_{2}, 1 \\mathit{L2}_{1}, 1 \\mathit{L2}_{0}, 1 P_{2}, 1 P_{1}, 1 P_{0}\\right)$$"
      ],
      "text/plain": [
       "(A_2, A_1, A_0, L1_2, L1_1, L1_0, L2_2, L2_1, L2_0, P_2, P_1, P_0)"
      ]
     },
     "execution_count": 14,
     "metadata": {},
     "output_type": "execute_result"
    }
   ],
   "source": [
    "res_wo_A1.polynomial().variables()"
   ]
  },
  {
   "cell_type": "code",
   "execution_count": null,
   "metadata": {},
   "outputs": [],
   "source": []
  }
 ],
 "metadata": {
  "kernelspec": {
   "display_name": "SageMath 9.3",
   "language": "sage",
   "name": "sagemath"
  },
  "language_info": {
   "codemirror_mode": {
    "name": "ipython",
    "version": 3
   },
   "file_extension": ".py",
   "mimetype": "text/x-python",
   "name": "python",
   "nbconvert_exporter": "python",
   "pygments_lexer": "ipython3",
   "version": "3.9.2"
  }
 },
 "nbformat": 4,
 "nbformat_minor": 4
}
