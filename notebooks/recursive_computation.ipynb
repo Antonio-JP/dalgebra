{
 "cells": [
  {
   "cell_type": "code",
   "execution_count": 1,
   "id": "6e33a014-8338-435e-a00d-7e2af133b655",
   "metadata": {},
   "outputs": [],
   "source": [
    "import sys\n",
    "sys.path.insert(0, \"..\")\n",
    "from dalgebra import *\n",
    "from dalgebra.commutators.almost_commuting import almost_commuting_wilson, generic_normal\n",
    "from functools import lru_cache\n",
    "import logging\n",
    "\n",
    "logger = logging.getLogger(\"dalgebra\")"
   ]
  },
  {
   "cell_type": "code",
   "execution_count": 2,
   "id": "699cdcbf-2b0b-4326-af9b-c487c1d796f4",
   "metadata": {},
   "outputs": [],
   "source": [
    "@lru_cache\n",
    "def recursive_computation(n: int, m:int):\n",
    "    if m <= 0:\n",
    "        raise ValueError(\"Value for {m} must be positive\")\n",
    "    elif m%n == 0:\n",
    "        L = generic_normal(n)\n",
    "        return (L.sym_power(m//n), tuple(L.parent().zero() for _ in range(n-1)))\n",
    "    elif m < n:\n",
    "        return almost_commuting_wilson(n,m)\n",
    "    else: # recursive case\n",
    "        logger.debug(f\"Computing recursion case ({n=}, m={m-n})...\")\n",
    "        P, T = recursive_computation(n, m-n)\n",
    "        R = P.parent()\n",
    "        L = generic_normal(n, output_ring=R)\n",
    "        z = R.gen(\"z\")\n",
    "        logger.debug(f\"Computing [L, P_{m-n}]...\")\n",
    "        T = sum(T[i]*z[i] for i in range(len(T)))\n",
    "        \n",
    "        ## P is the ´m-n´ element of the basis\n",
    "        ## [L, P] = T\n",
    "        logger.debug(f\"Extending variables...\")\n",
    "        ER = R.append_variables(*[f\"y_{i}\" for i in range(n)])\n",
    "        ## Fast conversion because ´ER´ was built using \"append_variables\" \n",
    "        oL, L = L, ER(L); oP, P = P, ER(P); oT, T = T, ER(T)\n",
    "        oz, z = z, ER.gen(\"z\")\n",
    "        logger.debug(f\"Creating new objects...\")\n",
    "        y = [ER.gen(f\"y_{i}\") for i in range(n)]\n",
    "        Q = sum(y[i]*z[i] for i in range(n))\n",
    "        \n",
    "        ## We want that L*P + Q is the element in the almost commuting basis.\n",
    "        ## [L, L*P + Q] = L*[L, P] + [L, Q] = L*T + [L,Q]\n",
    "        logger.debug(f\"Computing [L, L*P_{m} + Q]...\")\n",
    "        com = L(z=T) + L.lie_bracket(Q, z)\n",
    "        logger.debug(f\"Getting the differential equations...\")\n",
    "        equs = [com.coefficient_full(z[i]) for i in range(n-1, com.order(z)+1)]\n",
    "        system = DSystem(equs, variables=y)\n",
    "        logger.debug(f\"Computing the solution to the system:\\n{system}\")\n",
    "        solution = system.solve_linear()\n",
    "        \n",
    "        ## Plugging solution\n",
    "        logger.debug(f\"Plugging computed solution:\\n{solution}\")\n",
    "        nP = oL(z=oP) + sum(R(solution[y[i]])*oz[i] for i in range(n))\n",
    "        nT = tuple(R(com.coefficient_full(z[i])(dic=solution)) for i in range(n-1))\n",
    "                   \n",
    "        logger.debug(f\"Finished execution for {n=} and {m=}\")\n",
    "        return nP, nT      "
   ]
  },
  {
   "cell_type": "code",
   "execution_count": 4,
   "id": "466db820-4862-4f35-9f00-d2229a333e63",
   "metadata": {},
   "outputs": [
    {
     "name": "stdout",
     "output_type": "stream",
     "text": [
      "Finished execution for n=3 and m=20\n",
      "CPU times: user 4min 17s, sys: 200 ms, total: 4min 17s\n",
      "Wall time: 4min 17s\n"
     ]
    }
   ],
   "source": [
    "%time P1, T1 = recursive_computation(3, 20)"
   ]
  },
  {
   "cell_type": "code",
   "execution_count": 5,
   "id": "65d202e1-306f-4fd6-8bd2-53be0155b1b6",
   "metadata": {},
   "outputs": [
    {
     "name": "stdout",
     "output_type": "stream",
     "text": [
      "CPU times: user 5min 5s, sys: 110 ms, total: 5min 6s\n",
      "Wall time: 5min 6s\n"
     ]
    }
   ],
   "source": [
    "%time P2, T2 = almost_commuting_wilson(3,20)"
   ]
  },
  {
   "cell_type": "code",
   "execution_count": 7,
   "id": "dcda1a3a-3cda-423b-8fe0-21eb7d51e3a1",
   "metadata": {},
   "outputs": [
    {
     "data": {
      "text/plain": [
       "True"
      ]
     },
     "execution_count": 7,
     "metadata": {},
     "output_type": "execute_result"
    }
   ],
   "source": [
    "T1 == T2"
   ]
  },
  {
   "cell_type": "code",
   "execution_count": 2,
   "id": "f2ebd467-aefb-430f-b207-e371f5db4e9b",
   "metadata": {},
   "outputs": [],
   "source": [
    "from dalgebra.commutators.almost_commuting import recursion"
   ]
  }
 ],
 "metadata": {
  "kernelspec": {
   "display_name": "SageMath 9.7",
   "language": "sage",
   "name": "sagemath"
  },
  "language_info": {
   "codemirror_mode": {
    "name": "ipython",
    "version": 3
   },
   "file_extension": ".py",
   "mimetype": "text/x-python",
   "name": "python",
   "nbconvert_exporter": "python",
   "pygments_lexer": "ipython3",
   "version": "3.10.5"
  }
 },
 "nbformat": 4,
 "nbformat_minor": 5
}
