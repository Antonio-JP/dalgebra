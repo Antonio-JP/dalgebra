{
 "cells": [
  {
   "cell_type": "code",
   "execution_count": null,
   "id": "6e33a014-8338-435e-a00d-7e2af133b655",
   "metadata": {},
   "outputs": [],
   "source": [
    "import sys\n",
    "sys.path.insert(0, \"..\")\n",
    "from dalgebra import *\n",
    "from dalgebra.commutators.almost_commuting import almost_commuting_wilson, generic_normal\n",
    "from functools import lru_cache\n",
    "import logging\n",
    "\n",
    "logger = logging.getLogger(\"dalgebra\")"
   ]
  },
  {
   "cell_type": "code",
   "execution_count": 6,
   "id": "699cdcbf-2b0b-4326-af9b-c487c1d796f4",
   "metadata": {},
   "outputs": [],
   "source": [
    "@lru_cache\n",
    "def recursive_computation(n: int, m:int):\n",
    "    if m <= 0:\n",
    "        raise ValueError(\"Value for {m} must be positive\")\n",
    "    elif m%n == 0:\n",
    "        L = generic_normal(n)\n",
    "        return (L.sym_power(m//n), tuple(L.parent().zero() for _ in range(n-1)))\n",
    "    elif m < n:\n",
    "        return almost_commuting_wilson(n,m)\n",
    "    else: # recursive case\n",
    "        logger.debug(f\"Computing recursion case ({n=}, m={m-n})...\")\n",
    "        P, T = recursive_computation(n, m-n)\n",
    "        R = P.parent()\n",
    "        L = generic_normal(n, output_ring=R)\n",
    "        z = R.gen(\"z\")\n",
    "        logger.debug(f\"Computing [L, P_{m-n}]...\")\n",
    "        iT = T; T = sum(T[i]*z[i] for i in range(len(T)))\n",
    "        \n",
    "        ## P is the ´m-n´ element of the basis\n",
    "        ## [L, P] = T\n",
    "        logger.debug(f\"Extending variables...\")\n",
    "        ER = R.append_variables(*[f\"y_{i}\" for i in range(n)])\n",
    "        ## Fast conversion because ´ER´ was built using \"append_variables\" \n",
    "        oL, L = L, ER(L); oP, P = P, ER(P); oT, T = T, ER(T)\n",
    "        oz, z = z, ER.gen(\"z\")\n",
    "        logger.debug(f\"Creating new objects...\")\n",
    "        y = [ER.gen(f\"y_{i}\") for i in range(n)]\n",
    "        Q = sum(y[i]*z[i] for i in range(n))\n",
    "        \n",
    "        ## We want that L*P + Q is the element in the almost commuting basis.\n",
    "        ## [L, L*P + Q] = L*[L, P] + [L, Q] = L*T + [L,Q]\n",
    "        logger.debug(f\"Computing [L, L*P_{m} + Q]...\")\n",
    "        com_LQ = L.lie_bracket(Q, z)\n",
    "        com = L(z=T) + com_LQ\n",
    "        logger.debug(f\"Getting the differential equations...\")\n",
    "        equs = [com.coefficient_full(z[i]) for i in range(n-1, com.order(z)+1)]\n",
    "        system = DSystem(equs, variables=y)\n",
    "        logger.debug(f\"Computing the solution to the system:\\n{system}\")\n",
    "        solution = system.solve_linear()\n",
    "        \n",
    "        ## Plugging solution\n",
    "        logger.debug(f\"Plugging computed solution:\\n{solution}\")\n",
    "        nP = oL(z=oP) + sum(R(solution[y[i]])*oz[i] for i in range(n))\n",
    "        nT = tuple(R(com.coefficient_full(z[i])(dic=solution)) for i in range(n-1))\n",
    "                   \n",
    "        logger.debug(f\"Finished execution for {n=} and {m=}\")\n",
    "        return nP, nT      "
   ]
  },
  {
   "cell_type": "code",
   "execution_count": 7,
   "id": "466db820-4862-4f35-9f00-d2229a333e63",
   "metadata": {},
   "outputs": [
    {
     "ename": "KeyboardInterrupt",
     "evalue": "",
     "output_type": "error",
     "traceback": [
      "\u001b[0;31m---------------------------------------------------------------------------\u001b[0m",
      "\u001b[0;31mKeyboardInterrupt\u001b[0m                         Traceback (most recent call last)",
      "File \u001b[0;32m<timed exec>:1\u001b[0m, in \u001b[0;36m<module>\u001b[0;34m\u001b[0m\n",
      "Input \u001b[0;32mIn [6]\u001b[0m, in \u001b[0;36mrecursive_computation\u001b[0;34m(n, m)\u001b[0m\n\u001b[1;32m     10\u001b[0m \u001b[38;5;28;01melse\u001b[39;00m: \u001b[38;5;66;03m# recursive case\u001b[39;00m\n\u001b[1;32m     11\u001b[0m     logger\u001b[38;5;241m.\u001b[39mdebug(\u001b[38;5;124mf\u001b[39m\u001b[38;5;124m\"\u001b[39m\u001b[38;5;124mComputing recursion case (\u001b[39m\u001b[38;5;132;01m{\u001b[39;00mn\u001b[38;5;132;01m=}\u001b[39;00m\u001b[38;5;124m, m=\u001b[39m\u001b[38;5;132;01m{\u001b[39;00mm\u001b[38;5;241m-\u001b[39mn\u001b[38;5;132;01m}\u001b[39;00m\u001b[38;5;124m)...\u001b[39m\u001b[38;5;124m\"\u001b[39m)\n\u001b[0;32m---> 12\u001b[0m     P, T \u001b[38;5;241m=\u001b[39m \u001b[43mrecursive_computation\u001b[49m\u001b[43m(\u001b[49m\u001b[43mn\u001b[49m\u001b[43m,\u001b[49m\u001b[43m \u001b[49m\u001b[43mm\u001b[49m\u001b[38;5;241;43m-\u001b[39;49m\u001b[43mn\u001b[49m\u001b[43m)\u001b[49m\n\u001b[1;32m     13\u001b[0m     R \u001b[38;5;241m=\u001b[39m P\u001b[38;5;241m.\u001b[39mparent()\n\u001b[1;32m     14\u001b[0m     L \u001b[38;5;241m=\u001b[39m generic_normal(n, output_ring\u001b[38;5;241m=\u001b[39mR)\n",
      "Input \u001b[0;32mIn [6]\u001b[0m, in \u001b[0;36mrecursive_computation\u001b[0;34m(n, m)\u001b[0m\n\u001b[1;32m     15\u001b[0m z \u001b[38;5;241m=\u001b[39m R\u001b[38;5;241m.\u001b[39mgen(\u001b[38;5;124m\"\u001b[39m\u001b[38;5;124mz\u001b[39m\u001b[38;5;124m\"\u001b[39m)\n\u001b[1;32m     16\u001b[0m logger\u001b[38;5;241m.\u001b[39mdebug(\u001b[38;5;124mf\u001b[39m\u001b[38;5;124m\"\u001b[39m\u001b[38;5;124mComputing [L, P_\u001b[39m\u001b[38;5;132;01m{\u001b[39;00mm\u001b[38;5;241m-\u001b[39mn\u001b[38;5;132;01m}\u001b[39;00m\u001b[38;5;124m]...\u001b[39m\u001b[38;5;124m\"\u001b[39m)\n\u001b[0;32m---> 17\u001b[0m T \u001b[38;5;241m=\u001b[39m \u001b[38;5;28;43msum\u001b[39;49m\u001b[43m(\u001b[49m\u001b[43mT\u001b[49m\u001b[43m[\u001b[49m\u001b[43mi\u001b[49m\u001b[43m]\u001b[49m\u001b[38;5;241;43m*\u001b[39;49m\u001b[43mz\u001b[49m\u001b[43m[\u001b[49m\u001b[43mi\u001b[49m\u001b[43m]\u001b[49m\u001b[43m \u001b[49m\u001b[38;5;28;43;01mfor\u001b[39;49;00m\u001b[43m \u001b[49m\u001b[43mi\u001b[49m\u001b[43m \u001b[49m\u001b[38;5;129;43;01min\u001b[39;49;00m\u001b[43m \u001b[49m\u001b[38;5;28;43mrange\u001b[39;49m\u001b[43m(\u001b[49m\u001b[38;5;28;43mlen\u001b[39;49m\u001b[43m(\u001b[49m\u001b[43mT\u001b[49m\u001b[43m)\u001b[49m\u001b[43m)\u001b[49m\u001b[43m)\u001b[49m\n\u001b[1;32m     19\u001b[0m \u001b[38;5;66;03m## P is the ´m-n´ element of the basis\u001b[39;00m\n\u001b[1;32m     20\u001b[0m \u001b[38;5;66;03m## [L, P] = T\u001b[39;00m\n\u001b[1;32m     21\u001b[0m logger\u001b[38;5;241m.\u001b[39mdebug(\u001b[38;5;124mf\u001b[39m\u001b[38;5;124m\"\u001b[39m\u001b[38;5;124mExtending variables...\u001b[39m\u001b[38;5;124m\"\u001b[39m)\n",
      "File \u001b[0;32m~/sage/src/sage/misc/functional.py:585\u001b[0m, in \u001b[0;36msymbolic_sum\u001b[0;34m(expression, *args, **kwds)\u001b[0m\n\u001b[1;32m    583\u001b[0m     \u001b[38;5;28;01mreturn\u001b[39;00m expression\u001b[38;5;241m.\u001b[39msum(\u001b[38;5;241m*\u001b[39margs, \u001b[38;5;241m*\u001b[39m\u001b[38;5;241m*\u001b[39mkwds)\n\u001b[1;32m    584\u001b[0m \u001b[38;5;28;01melif\u001b[39;00m \u001b[38;5;28mmax\u001b[39m(\u001b[38;5;28mlen\u001b[39m(args),\u001b[38;5;28mlen\u001b[39m(kwds)) \u001b[38;5;241m<\u001b[39m\u001b[38;5;241m=\u001b[39m \u001b[38;5;241m1\u001b[39m:\n\u001b[0;32m--> 585\u001b[0m     \u001b[38;5;28;01mreturn\u001b[39;00m \u001b[38;5;28;43msum\u001b[39;49m\u001b[43m(\u001b[49m\u001b[43mexpression\u001b[49m\u001b[43m,\u001b[49m\u001b[43m \u001b[49m\u001b[38;5;241;43m*\u001b[39;49m\u001b[43margs\u001b[49m\u001b[43m,\u001b[49m\u001b[43m \u001b[49m\u001b[38;5;241;43m*\u001b[39;49m\u001b[38;5;241;43m*\u001b[39;49m\u001b[43mkwds\u001b[49m\u001b[43m)\u001b[49m\n\u001b[1;32m    586\u001b[0m \u001b[38;5;28;01melse\u001b[39;00m:\n\u001b[1;32m    587\u001b[0m     \u001b[38;5;28;01mfrom\u001b[39;00m \u001b[38;5;21;01msage\u001b[39;00m\u001b[38;5;21;01m.\u001b[39;00m\u001b[38;5;21;01msymbolic\u001b[39;00m\u001b[38;5;21;01m.\u001b[39;00m\u001b[38;5;21;01mring\u001b[39;00m \u001b[38;5;28;01mimport\u001b[39;00m SR\n",
      "Input \u001b[0;32mIn [6]\u001b[0m, in \u001b[0;36m<genexpr>\u001b[0;34m(.0)\u001b[0m\n\u001b[1;32m     15\u001b[0m z \u001b[38;5;241m=\u001b[39m R\u001b[38;5;241m.\u001b[39mgen(\u001b[38;5;124m\"\u001b[39m\u001b[38;5;124mz\u001b[39m\u001b[38;5;124m\"\u001b[39m)\n\u001b[1;32m     16\u001b[0m logger\u001b[38;5;241m.\u001b[39mdebug(\u001b[38;5;124mf\u001b[39m\u001b[38;5;124m\"\u001b[39m\u001b[38;5;124mComputing [L, P_\u001b[39m\u001b[38;5;132;01m{\u001b[39;00mm\u001b[38;5;241m-\u001b[39mn\u001b[38;5;132;01m}\u001b[39;00m\u001b[38;5;124m]...\u001b[39m\u001b[38;5;124m\"\u001b[39m)\n\u001b[0;32m---> 17\u001b[0m T \u001b[38;5;241m=\u001b[39m \u001b[38;5;28msum\u001b[39m(\u001b[43mT\u001b[49m\u001b[43m[\u001b[49m\u001b[43mi\u001b[49m\u001b[43m]\u001b[49m\u001b[38;5;241;43m*\u001b[39;49m\u001b[43mz\u001b[49m\u001b[43m[\u001b[49m\u001b[43mi\u001b[49m\u001b[43m]\u001b[49m \u001b[38;5;28;01mfor\u001b[39;00m i \u001b[38;5;129;01min\u001b[39;00m \u001b[38;5;28mrange\u001b[39m(\u001b[38;5;28mlen\u001b[39m(T)))\n\u001b[1;32m     19\u001b[0m \u001b[38;5;66;03m## P is the ´m-n´ element of the basis\u001b[39;00m\n\u001b[1;32m     20\u001b[0m \u001b[38;5;66;03m## [L, P] = T\u001b[39;00m\n\u001b[1;32m     21\u001b[0m logger\u001b[38;5;241m.\u001b[39mdebug(\u001b[38;5;124mf\u001b[39m\u001b[38;5;124m\"\u001b[39m\u001b[38;5;124mExtending variables...\u001b[39m\u001b[38;5;124m\"\u001b[39m)\n",
      "File \u001b[0;32m~/sage/src/sage/structure/element.pyx:1514\u001b[0m, in \u001b[0;36msage.structure.element.Element.__mul__\u001b[0;34m()\u001b[0m\n\u001b[1;32m   1512\u001b[0m cdef int cl = classify_elements(left, right)\n\u001b[1;32m   1513\u001b[0m if HAVE_SAME_PARENT(cl):\n\u001b[0;32m-> 1514\u001b[0m     return (<Element>left)._mul_(right)\n\u001b[1;32m   1515\u001b[0m if BOTH_ARE_ELEMENT(cl):\n\u001b[1;32m   1516\u001b[0m     return coercion_model.bin_op(left, right, mul)\n",
      "File \u001b[0;32m~/sage/src/sage/structure/element.pyx:1560\u001b[0m, in \u001b[0;36msage.structure.element.Element._mul_\u001b[0;34m()\u001b[0m\n\u001b[1;32m   1558\u001b[0m         raise bin_op_exception('*', self, other)\n\u001b[1;32m   1559\u001b[0m     else:\n\u001b[0;32m-> 1560\u001b[0m         return python_op(other)\n\u001b[1;32m   1561\u001b[0m \n\u001b[1;32m   1562\u001b[0m cdef _mul_long(self, long n):\n",
      "File \u001b[0;32m~/git/dalgebra/notebooks/../dalgebra/dpolynomial/dpolynomial.py:431\u001b[0m, in \u001b[0;36mDPolynomial._mul_\u001b[0;34m(self, other)\u001b[0m\n\u001b[1;32m    429\u001b[0m output \u001b[38;5;241m=\u001b[39m \u001b[38;5;28mdict\u001b[39m()\n\u001b[1;32m    430\u001b[0m \u001b[38;5;28;01mfor\u001b[39;00m (ms, mo) \u001b[38;5;129;01min\u001b[39;00m product(\u001b[38;5;28mself\u001b[39m\u001b[38;5;241m.\u001b[39mmonomials(), other\u001b[38;5;241m.\u001b[39mmonomials()):\n\u001b[0;32m--> 431\u001b[0m     m \u001b[38;5;241m=\u001b[39m \u001b[43mms\u001b[49m\u001b[38;5;241;43m*\u001b[39;49m\u001b[43mmo\u001b[49m\n\u001b[1;32m    432\u001b[0m     output[m] \u001b[38;5;241m=\u001b[39m output\u001b[38;5;241m.\u001b[39mget(m, \u001b[38;5;28mself\u001b[39m\u001b[38;5;241m.\u001b[39mparent()\u001b[38;5;241m.\u001b[39mbase()\u001b[38;5;241m.\u001b[39mzero()) \u001b[38;5;241m+\u001b[39m \u001b[38;5;28mself\u001b[39m\u001b[38;5;241m.\u001b[39m_content[ms]\u001b[38;5;241m*\u001b[39mother\u001b[38;5;241m.\u001b[39m_content[mo]\n\u001b[1;32m    433\u001b[0m \u001b[38;5;28;01mreturn\u001b[39;00m \u001b[38;5;28mself\u001b[39m\u001b[38;5;241m.\u001b[39mparent()\u001b[38;5;241m.\u001b[39melement_class(\u001b[38;5;28mself\u001b[39m\u001b[38;5;241m.\u001b[39mparent(), output)\n",
      "File \u001b[0;32m~/sage/src/sage/structure/element.pyx:1514\u001b[0m, in \u001b[0;36msage.structure.element.Element.__mul__\u001b[0;34m()\u001b[0m\n\u001b[1;32m   1512\u001b[0m cdef int cl = classify_elements(left, right)\n\u001b[1;32m   1513\u001b[0m if HAVE_SAME_PARENT(cl):\n\u001b[0;32m-> 1514\u001b[0m     return (<Element>left)._mul_(right)\n\u001b[1;32m   1515\u001b[0m if BOTH_ARE_ELEMENT(cl):\n\u001b[1;32m   1516\u001b[0m     return coercion_model.bin_op(left, right, mul)\n",
      "File \u001b[0;32m~/sage/src/sage/structure/element.pyx:1560\u001b[0m, in \u001b[0;36msage.structure.element.Element._mul_\u001b[0;34m()\u001b[0m\n\u001b[1;32m   1558\u001b[0m         raise bin_op_exception('*', self, other)\n\u001b[1;32m   1559\u001b[0m     else:\n\u001b[0;32m-> 1560\u001b[0m         return python_op(other)\n\u001b[1;32m   1561\u001b[0m \n\u001b[1;32m   1562\u001b[0m cdef _mul_long(self, long n):\n",
      "File \u001b[0;32m~/git/dalgebra/notebooks/../dalgebra/dpolynomial/dmonoids.py:220\u001b[0m, in \u001b[0;36mDMonomial._mul_\u001b[0;34m(self, other)\u001b[0m\n\u001b[1;32m    218\u001b[0m \u001b[38;5;28;01mfor\u001b[39;00m (k,v) \u001b[38;5;129;01min\u001b[39;00m other\u001b[38;5;241m.\u001b[39m_variables\u001b[38;5;241m.\u001b[39mitems():\n\u001b[1;32m    219\u001b[0m     new_dict[k] \u001b[38;5;241m=\u001b[39m new_dict[k] \u001b[38;5;241m+\u001b[39m v \u001b[38;5;28;01mif\u001b[39;00m (k \u001b[38;5;129;01min\u001b[39;00m new_dict) \u001b[38;5;28;01melse\u001b[39;00m v\n\u001b[0;32m--> 220\u001b[0m \u001b[38;5;28;01mreturn\u001b[39;00m \u001b[38;5;28;43mself\u001b[39;49m\u001b[38;5;241;43m.\u001b[39;49m\u001b[43m_parent\u001b[49m\u001b[38;5;241;43m.\u001b[39;49m\u001b[43melement_class\u001b[49m\u001b[43m(\u001b[49m\u001b[38;5;28;43mself\u001b[39;49m\u001b[38;5;241;43m.\u001b[39;49m\u001b[43m_parent\u001b[49m\u001b[43m,\u001b[49m\u001b[43m \u001b[49m\u001b[43mnew_dict\u001b[49m\u001b[43m)\u001b[49m\n",
      "File \u001b[0;32m~/git/dalgebra/notebooks/../dalgebra/dpolynomial/dmonoids.py:201\u001b[0m, in \u001b[0;36mDMonomial.__init__\u001b[0;34m(self, parent, input)\u001b[0m\n\u001b[1;32m    198\u001b[0m \u001b[38;5;28;01melif\u001b[39;00m \u001b[38;5;129;01mnot\u001b[39;00m \u001b[38;5;28misinstance\u001b[39m(o, (\u001b[38;5;28mlist\u001b[39m, \u001b[38;5;28mtuple\u001b[39m)):\n\u001b[1;32m    199\u001b[0m     o \u001b[38;5;241m=\u001b[39m (ZZ(o),)\n\u001b[0;32m--> 201\u001b[0m \u001b[38;5;28;01mif\u001b[39;00m \u001b[38;5;129;01mnot\u001b[39;00m \u001b[38;5;28misinstance\u001b[39m(o, (\u001b[38;5;28mlist\u001b[39m,\u001b[38;5;28mtuple\u001b[39m)) \u001b[38;5;129;01mor\u001b[39;00m \u001b[38;5;28mlen\u001b[39m(o) \u001b[38;5;241m!=\u001b[39m \u001b[43mparent\u001b[49m\u001b[38;5;241;43m.\u001b[39;49m\u001b[43mnoperators\u001b[49m\u001b[43m(\u001b[49m\u001b[43m)\u001b[49m: \n\u001b[1;32m    202\u001b[0m     \u001b[38;5;28;01mraise\u001b[39;00m \u001b[38;5;167;01mTypeError\u001b[39;00m(\u001b[38;5;124mf\u001b[39m\u001b[38;5;124m\"\u001b[39m\u001b[38;5;124m[DMonomial] Invalid input for order (\u001b[39m\u001b[38;5;132;01m{\u001b[39;00mo\u001b[38;5;132;01m}\u001b[39;00m\u001b[38;5;124m) for \u001b[39m\u001b[38;5;132;01m{\u001b[39;00mparent\u001b[38;5;241m.\u001b[39mnoperators()\u001b[38;5;132;01m}\u001b[39;00m\u001b[38;5;124m operations\u001b[39m\u001b[38;5;124m\"\u001b[39m)\n\u001b[1;32m    203\u001b[0m \u001b[38;5;28;01melif\u001b[39;00m \u001b[38;5;28many\u001b[39m((\u001b[38;5;129;01mnot\u001b[39;00m oo \u001b[38;5;129;01min\u001b[39;00m ZZ \u001b[38;5;129;01mor\u001b[39;00m oo \u001b[38;5;241m<\u001b[39m \u001b[38;5;241m0\u001b[39m \u001b[38;5;28;01mfor\u001b[39;00m oo \u001b[38;5;129;01min\u001b[39;00m o)):\n",
      "File \u001b[0;32msrc/cysignals/signals.pyx:310\u001b[0m, in \u001b[0;36mcysignals.signals.python_check_interrupt\u001b[0;34m()\u001b[0m\n",
      "\u001b[0;31mKeyboardInterrupt\u001b[0m: "
     ]
    }
   ],
   "source": [
    "%time P1, T1 = recursive_computation(3, 20)"
   ]
  },
  {
   "cell_type": "code",
   "execution_count": 5,
   "id": "65d202e1-306f-4fd6-8bd2-53be0155b1b6",
   "metadata": {},
   "outputs": [
    {
     "name": "stdout",
     "output_type": "stream",
     "text": [
      "CPU times: user 5min 5s, sys: 110 ms, total: 5min 6s\n",
      "Wall time: 5min 6s\n"
     ]
    }
   ],
   "source": [
    "%time P2, T2 = almost_commuting_wilson(3,20)"
   ]
  },
  {
   "cell_type": "code",
   "execution_count": 7,
   "id": "dcda1a3a-3cda-423b-8fe0-21eb7d51e3a1",
   "metadata": {},
   "outputs": [
    {
     "data": {
      "text/plain": [
       "True"
      ]
     },
     "execution_count": 7,
     "metadata": {},
     "output_type": "execute_result"
    }
   ],
   "source": [
    "T1 == T2"
   ]
  },
  {
   "cell_type": "code",
   "execution_count": 2,
   "id": "f2ebd467-aefb-430f-b207-e371f5db4e9b",
   "metadata": {},
   "outputs": [],
   "source": [
    "from dalgebra.commutators.almost_commuting import recursion"
   ]
  }
 ],
 "metadata": {
  "kernelspec": {
   "display_name": "SageMath 9.7",
   "language": "sage",
   "name": "sagemath"
  },
  "language_info": {
   "codemirror_mode": {
    "name": "ipython",
    "version": 3
   },
   "file_extension": ".py",
   "mimetype": "text/x-python",
   "name": "python",
   "nbconvert_exporter": "python",
   "pygments_lexer": "ipython3",
   "version": "3.10.5"
  }
 },
 "nbformat": 4,
 "nbformat_minor": 5
}
