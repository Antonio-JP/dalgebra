{
 "cells": [
  {
   "cell_type": "markdown",
   "id": "ebebae67-dce7-46a3-b62d-d01b9cde101b",
   "metadata": {},
   "source": [
    "# Pseudo operators"
   ]
  },
  {
   "cell_type": "code",
   "execution_count": 1,
   "id": "1db302c7-16ff-42bf-9e09-77f4429ad510",
   "metadata": {},
   "outputs": [],
   "source": [
    "import sys\n",
    "sys.path.insert(0, \"..\") # dalgebra is here\n",
    "from dalgebra import *\n",
    "from dalgebra.dpolynomial.pseudo_doperator import *"
   ]
  },
  {
   "cell_type": "code",
   "execution_count": 2,
   "id": "8644d9dc-5dae-4b7a-9135-eea260caaaa7",
   "metadata": {},
   "outputs": [],
   "source": [
    "R.<u,v> = DifferentialPolynomialRing(QQ)\n",
    "S = PseudoDOperatorRing(R, \"D\")"
   ]
  },
  {
   "cell_type": "markdown",
   "id": "a03ac591-0e16-4a51-9af7-5a5829a10dbd",
   "metadata": {},
   "source": [
    "## Computing a recursion operator"
   ]
  },
  {
   "cell_type": "markdown",
   "id": "98608aae-a128-4fbe-944e-3a2a2c4c309d",
   "metadata": {},
   "source": [
    "Let $L_n$ be a generic differential operator in normal form of order $n$. We know that the elements of the almost commuting basis $P_m$ satisfy\n",
    "$$[L_n, P_m] = H_{m,0} + \\ldots + H_{m,n-2}\\partial^{n-2},$$\n",
    "and the differential polynomials $H_{m,i}$ define the integrable hierarchy in some fashion. Let us write $H_m = (H_{m,0}, \\ldots, H_{m,n-2})^T$.\n",
    "\n",
    "The recursion operator is a matrix $\\mathcal{R}$ of dimension $(n-1)\\times(n-1)$ of pseudo-differential operators such that, for all $m \\in \\mathbb{N}$:\n",
    "$$\\mathcal{R} H_m = H_{m+n}.$$\n",
    "\n",
    "In order to look for this recursion operator, we can observe that the polynomials $H_{m,i}$ are homogeneous of different weights (namely, they are homogeneous of order $n+m-i$). Hence, we can assume the coefficients of $\\mathcal{R}$ must have appropriate homogeneous conditions. More precisely, the entries $R_{i,j}$ multiplies the coefficient $H_{m,j}$ and is used to create the coefficient $H_{m+n,i}$. Hence, it must be homogeneous of weight\n",
    "$$w(R_{i,j}) = (m+n-i) - (m-j) = n+j-i.$$\n",
    "\n",
    "Moreover, following the work [here](https://arxiv.org/abs/2406.19919), the authors argue that the appropriate shape of the recursion operator must be quasi-local, i.e., the pseudo-differential operators in the recursion matrix must be of the form\n",
    "$$R_{i,j} = R_{i,j}^+ + u\\partial^{-1}v,$$\n",
    "where the elements $u,v$ are, respectively, a symmetry and cosymmetry of the differential equation associated.\n",
    "\n",
    "Since the weights and homogeneous conditions hold in the ring of pseudo-differential operators, then we can set up a guess for these elements, since $w(u \\partial^{-1} v) = w(u)+w(v)-1$."
   ]
  },
  {
   "cell_type": "markdown",
   "id": "d92512d0-3b54-4eb8-825a-fe5c33e6beb4",
   "metadata": {},
   "source": [
    "### Necessary conditions on the pseudo part"
   ]
  },
  {
   "cell_type": "markdown",
   "id": "f004baaf-f0b8-45b1-a3d3-28cd8ac6f2b1",
   "metadata": {},
   "source": [
    "Besides the homogeneous condition, we need that equation $(1)$ holds for **all** values of $m \\in \\mathbb{N}$. This can help us since we know the values for $H_1$ for all values of $n$:\n",
    "$$H_1 = (u_n',\\ldots,u_{2}')^T.$$\n",
    "Since $\\mathcal{R}H_1 = H_{n+1}$, it means that all operators in $\\mathcal{R}$ must be applicable to these functions. More precisely, $R_{i,j}$ is applied to $H_{1,j}$, so the pseudo-part of $R_{i,j}$ must be compatible with $u_{n-j}'$.\n",
    "\n",
    "Let us look to an example for $n=5$. "
   ]
  },
  {
   "cell_type": "code",
   "execution_count": 3,
   "id": "63ff9e02-2162-4c19-81de-fbfdef4478f6",
   "metadata": {},
   "outputs": [],
   "source": [
    "R.<u_2,u_3,u_4,u_5,z> = DifferentialPolynomialRing(QQ)\n",
    "S = PseudoDOperatorRing(R, \"D\")"
   ]
  },
  {
   "cell_type": "code",
   "execution_count": 4,
   "id": "06c6f531-f6b9-45b8-a17b-a51244f83323",
   "metadata": {},
   "outputs": [],
   "source": [
    "w = R.weight_func([2,3,4,5,0], [1])"
   ]
  },
  {
   "cell_type": "markdown",
   "id": "63d49624-84a0-4d97-b8d2-0f6b6ba4d20d",
   "metadata": {},
   "source": [
    "If we consider the element $R_{i,0}$, we know it has weight $5+0-i$ for $i=0,...,3$. So, namely:\n",
    "$$w(R_{0,0}) = 5, \\quad w(R_{1,0}) = 4, \\quad w(R_{2,0}) = 3, \\quad w(R_{3,0}) = 2.$$\n",
    "This means that the pseudo part of $R_{3,0}$ must be a sum of the form $u\\partial^{-1} v$ where $v$ has weight $0, 1, 2$ or $3$."
   ]
  },
  {
   "cell_type": "code",
   "execution_count": 5,
   "id": "31e8376f-525f-4e80-9c03-0db3eecf1d29",
   "metadata": {},
   "outputs": [],
   "source": [
    "pseudo_for_R_3_0 = [(S.Di * el) for el in sum((w.homogeneous_monomials(i) for i in range(4)), tuple())]"
   ]
  },
  {
   "cell_type": "code",
   "execution_count": 6,
   "id": "4dc4ee0c-e8e3-4605-a39a-bfce3f3b57b9",
   "metadata": {},
   "outputs": [
    {
     "name": "stdout",
     "output_type": "stream",
     "text": [
      "D^(-1)*(u_2_0) was not valid: [inverse_derivation] Element u_2_0*u_5_1 not integrable -> non-zero non-integrable part in decomposition: -u_2_1*u_5_0\n",
      "D^(-1)*(u_2_1) was not valid: [inverse_derivation] Element u_2_1*u_5_1 not integrable -> non-zero non-integrable part in decomposition: -u_2_2*u_5_0\n",
      "D^(-1)*(u_3_0) was not valid: [inverse_derivation] Element u_3_0*u_5_1 not integrable -> non-zero non-integrable part in decomposition: -u_3_1*u_5_0\n"
     ]
    },
    {
     "data": {
      "text/plain": [
       "[D^(-1)]"
      ]
     },
     "execution_count": 6,
     "metadata": {},
     "output_type": "execute_result"
    }
   ],
   "source": [
    "valid = []\n",
    "for el in pseudo_for_R_3_0:\n",
    "    try:\n",
    "        el(u_5[1])\n",
    "        valid.append(el)\n",
    "    except Exception as e:\n",
    "        print(f\"{el} was not valid: {e}\")\n",
    "valid"
   ]
  },
  {
   "cell_type": "markdown",
   "id": "208d83ad-0945-49ec-b807-842ba1af6f1d",
   "metadata": {},
   "source": [
    "So we can conclude that the pseudo-part of $R_{0,3}$ can **only** be the simple $\\partial^{-1}$.\n",
    "\n",
    "We can now generalize this computation to check the pseudo valid parts for all the matrix."
   ]
  },
  {
   "cell_type": "code",
   "execution_count": 11,
   "id": "9ee481d2-1703-429f-acaa-42070d3d38b5",
   "metadata": {},
   "outputs": [],
   "source": [
    "def compute_integrability_conditions(element, *gens, c_name=\"a\"):\n",
    "    if len(gens) == 0:\n",
    "        return False\n",
    "    \n",
    "    new_constants = [f\"a_{i}\" for i in range(len(gens))]\n",
    "    R = element.parent()\n",
    "    R = R.add_constants(*new_constants)\n",
    "    constants = [R(R.base()(c)) for c in new_constants]\n",
    "    element = R(element)\n",
    "    gens = [R(el) for el in gens]\n",
    "    generic_part = sum(c*g for (c,g) in zip(constants, gens))\n",
    "    generic_element = element * generic_part\n",
    "\n",
    "    solutions = integrability_conditions(generic_element, R)\n",
    "    if len(solutions) == 0:\n",
    "        return [generic_part, []]\n",
    "    else:\n",
    "        return [(sol.eval(generic_part), sol) for sol in solutions]\n",
    "\n",
    "def integrability_conditions(element, parent):\n",
    "    A, B = parent.integral_decomposition(element)\n",
    "\n",
    "    if B == 0:\n",
    "        return []\n",
    "    else:\n",
    "        conds = B.coefficients()\n",
    "        conds = [conds[0].parent().wrapped(el) for el in conds]\n",
    "        return analyze_ideal(ideal(conds), {}, [])\n",
    "        "
   ]
  },
  {
   "cell_type": "code",
   "execution_count": 6,
   "id": "ddefe229-bb68-4336-914c-fb3298a3821a",
   "metadata": {},
   "outputs": [],
   "source": [
    "from dalgebra.commutators.almost_commuting import hierarchy\n",
    "from dalgebra.commutators.ideals import analyze_ideal\n",
    "H = [hierarchy(5,i) for i in range(1,5)]"
   ]
  },
  {
   "cell_type": "code",
   "execution_count": 7,
   "id": "6322d4da-0d03-4005-8b60-c0662b42cf05",
   "metadata": {},
   "outputs": [
    {
     "data": {
      "text/plain": [
       "(-u_5_1, -u_4_1, -u_3_1, -u_2_1)"
      ]
     },
     "execution_count": 7,
     "metadata": {},
     "output_type": "execute_result"
    }
   ],
   "source": [
    "H[0]"
   ]
  },
  {
   "cell_type": "code",
   "execution_count": 12,
   "id": "81bb266f-b0d4-48c3-8e1c-408656442f7c",
   "metadata": {},
   "outputs": [],
   "source": [
    "columns = [{i : compute_integrability_conditions(H[0][j], *w.homogeneous_monomials(i+1)) for i in range(1,5+j+1)} for j in range(4)]"
   ]
  },
  {
   "cell_type": "code",
   "execution_count": 13,
   "id": "0f6c40cd-c3e9-49d0-93d4-ff55157fd8b3",
   "metadata": {},
   "outputs": [
    {
     "data": {
      "text/plain": [
       "{1: [(0, Solution Branch [a_0=0].)],\n",
       " 2: [(0, Solution Branch [a_1=0,a_0=0].)],\n",
       " 3: [(0, Solution Branch [a_2=0,a_0=0,a_1=0,a_3=0].)],\n",
       " 4: [(a_5*u_5_0,\n",
       "   Solution Branch [a_1=0,a_2=0,a_4=0,a_3=0,a_0=0] and a_5 as free variables.)],\n",
       " 5: [(0,\n",
       "   Solution Branch [a_0=0,a_7=0,a_1=0,a_8=0,a_5=0,a_9=0,a_6=0,a_4=0,a_10=0,a_3=0,a_2=0].)]}"
      ]
     },
     "execution_count": 13,
     "metadata": {},
     "output_type": "execute_result"
    }
   ],
   "source": [
    "columns[0]"
   ]
  },
  {
   "cell_type": "code",
   "execution_count": 10,
   "id": "bbe29c7a-1967-4434-9bb3-9d4913598331",
   "metadata": {},
   "outputs": [
    {
     "data": {
      "text/plain": [
       "[5 6 7 8]\n",
       "[4 5 6 7]\n",
       "[3 4 5 6]\n",
       "[2 3 4 5]"
      ]
     },
     "execution_count": 10,
     "metadata": {},
     "output_type": "execute_result"
    }
   ],
   "source": [
    "Matrix([[5+j-i for j in range(4)] for i in range(4)])"
   ]
  },
  {
   "cell_type": "markdown",
   "id": "8fc845f4-8517-47dd-b948-d47932a66323",
   "metadata": {},
   "source": [
    "From the previous two cells, we conclude that the pseudo-differential part of the first column of $\\mathcal{R}$ has to be\n",
    "* $R_{0,0} \\longrightarrow \\alpha_1 \\partial^{-1} (u_5)$, where $w(\\alpha_1) = 1$\n",
    "* $R_{1,0} \\longrightarrow \\alpha_0 \\partial^{-1} (u_5)$, where $w(\\alpha_0) = 0$\n",
    "* $R_{2,0} \\longrightarrow$ no pseudo-part\n",
    "* $R_{3,0} \\longrightarrow$ no pseudo-part\n",
    "\n",
    "For the rest of components of the matrix, we need to keep analyzing the object `columns`"
   ]
  },
  {
   "cell_type": "code",
   "execution_count": 14,
   "id": "80240618-cedb-47d0-9a36-11f624325aca",
   "metadata": {},
   "outputs": [
    {
     "data": {
      "text/plain": [
       "{1: [(0, Solution Branch [a_0=0].)],\n",
       " 2: [(0, Solution Branch [a_1=0,a_0=0].)],\n",
       " 3: [(a_3*u_4_0,\n",
       "   Solution Branch [a_2=0,a_0=0,a_1=0] and a_3 as free variables.)],\n",
       " 4: [(0, Solution Branch [a_2=0,a_4=0,a_0=0,a_5=0,a_1=0,a_3=0].)],\n",
       " 5: [(a_4*u_4_2,\n",
       "   Solution Branch [a_1=0,a_6=0,a_9=0,a_5=0,a_10=0,a_7=0,a_3=0,a_0=0,a_8=0,a_2=0] and a_4 as free variables.)],\n",
       " 6: [(0,\n",
       "   Solution Branch [a_12=0,a_6=0,a_7=0,a_1=0,a_3=0,a_9=0,a_15=0,a_11=0,a_8=0,a_2=0,a_13=0,a_0=0,a_14=0,a_4=0,a_10=0,a_5=0].)]}"
      ]
     },
     "execution_count": 14,
     "metadata": {},
     "output_type": "execute_result"
    }
   ],
   "source": [
    "columns[1]"
   ]
  },
  {
   "cell_type": "markdown",
   "id": "0cda4e64-fde9-4e0f-a8ab-ca581288e7a1",
   "metadata": {},
   "source": [
    "* $R_{0,1} \\longrightarrow (\\alpha_1 \\partial^{-1} u_4'') + (\\alpha_3 \\partial^{-1} u_4)$, where $w(\\alpha_1) = 1$ and $w(\\alpha_3) = 3$\n",
    "* $R_{1,1} \\longrightarrow (\\alpha_0 \\partial^{-1} u_4'') + (\\alpha_2 \\partial^{-1} u_4)$, where $w(\\alpha_0) = 0$ and $w(\\alpha_2) = 2$\n",
    "* $R_{2,1} \\longrightarrow (\\beta_1 \\partial^{-1} u_4)$, where $w(\\beta_1) = 1$\n",
    "* $R_{3,1} \\longrightarrow (\\beta_0 \\partial^{-1} u_4)$, where $w(\\beta_0) = 0$"
   ]
  },
  {
   "cell_type": "code",
   "execution_count": 15,
   "id": "597a1f18-7ec5-41e5-af4d-aafea31d7970",
   "metadata": {},
   "outputs": [
    {
     "data": {
      "text/plain": [
       "{1: [(0, Solution Branch [a_0=0].)],\n",
       " 2: [(a_1*u_3_0, Solution Branch [a_0=0] and a_1 as free variables.)],\n",
       " 3: [(0, Solution Branch [a_3=0,a_2=0,a_0=0,a_1=0].)],\n",
       " 4: [(a_1*u_3_2,\n",
       "   Solution Branch [a_4=0,a_5=0,a_2=0,a_0=0,a_3=0] and a_1 as free variables.)],\n",
       " 5: [(a_10*u_3_0^2,\n",
       "   Solution Branch [a_9=0,a_4=0,a_0=0,a_7=0,a_1=0,a_8=0,a_6=0,a_3=0,a_5=0,a_2=0] and a_10 as free variables.)],\n",
       " 6: [((2*a_5)*u_2_0*u_3_2 + a_5*u_2_1*u_3_1 + a_1*u_3_4,\n",
       "   Solution Branch [a_4=0,a_9=0,a_8=0,a_11=0,a_0=0,a_15=0,a_14=0,a_6=0,a_2=0,a_3=0,a_12=0,a_13=0,a_10=0,a_7=2*a_5] and a_1,a_5 as free variables.)],\n",
       " 7: [((2*a_6)*u_2_1*u_3_2 + a_6*u_2_2*u_3_1 + (2*a_16)*u_3_0*u_3_2 + a_16*u_3_1^2,\n",
       "   Solution Branch [a_15=0,a_1=0,a_5=0,a_9=0,a_11=0,a_8=0,a_28=0,a_4=0,a_21=0,a_24=0,a_0=0,a_10=0,a_23=0,a_25=0,a_18=0,a_12=0,a_26=0,a_19=0,a_27=0,a_22=0,a_20=0,a_3=0,a_13=0,a_14=0,a_2=0,a_7=2*a_6,a_17=2*a_16] and a_6,a_16 as free variables.)]}"
      ]
     },
     "execution_count": 15,
     "metadata": {},
     "output_type": "execute_result"
    }
   ],
   "source": [
    "columns[2]"
   ]
  },
  {
   "cell_type": "code",
   "execution_count": null,
   "id": "009ce5e0-3219-4ceb-8fb4-3b93bee01a7f",
   "metadata": {},
   "outputs": [],
   "source": []
  }
 ],
 "metadata": {
  "kernelspec": {
   "display_name": "SageMath 10.4.rc1",
   "language": "sage",
   "name": "sagemath"
  },
  "language_info": {
   "codemirror_mode": {
    "name": "ipython",
    "version": 3
   },
   "file_extension": ".py",
   "mimetype": "text/x-python",
   "name": "python",
   "nbconvert_exporter": "python",
   "pygments_lexer": "ipython3",
   "version": "3.10.12"
  }
 },
 "nbformat": 4,
 "nbformat_minor": 5
}
