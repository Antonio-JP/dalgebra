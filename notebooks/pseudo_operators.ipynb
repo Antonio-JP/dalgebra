{
 "cells": [
  {
   "cell_type": "markdown",
   "id": "ebebae67-dce7-46a3-b62d-d01b9cde101b",
   "metadata": {},
   "source": [
    "# Pseudo operators"
   ]
  },
  {
   "cell_type": "code",
   "execution_count": 1,
   "id": "1db302c7-16ff-42bf-9e09-77f4429ad510",
   "metadata": {},
   "outputs": [],
   "source": [
    "import sys\n",
    "sys.path.insert(0, \"..\") # dalgebra is here\n",
    "from dalgebra import *\n",
    "from dalgebra.dpolynomial.pseudo_doperator import *"
   ]
  },
  {
   "cell_type": "code",
   "execution_count": 2,
   "id": "8644d9dc-5dae-4b7a-9135-eea260caaaa7",
   "metadata": {},
   "outputs": [],
   "source": [
    "R.<u,v> = DifferentialPolynomialRing(QQ)\n",
    "S = PseudoDOperatorRing(R, \"D\")"
   ]
  },
  {
   "cell_type": "markdown",
   "id": "a03ac591-0e16-4a51-9af7-5a5829a10dbd",
   "metadata": {},
   "source": [
    "## Computing a recursion operator"
   ]
  },
  {
   "cell_type": "markdown",
   "id": "98608aae-a128-4fbe-944e-3a2a2c4c309d",
   "metadata": {},
   "source": [
    "Let $L_n$ be a generic differential operator in normal form of order $n$. We know that the elements of the almost commuting basis $P_m$ satisfy\n",
    "$$[L_n, P_m] = H_{m,0} + \\ldots + H_{m,n-2}\\partial^{n-2},$$\n",
    "and the differential polynomials $H_{m,i}$ define the integrable hierarchy in some fashion. Let us write $H_m = (H_{m,0}, ldots, H_{m,n-2})^T$.\n",
    "\n",
    "The recursion operator is a matrix $\\mathcal{R}$ of dimension $(n-1)\\times(n-1)$ of pseudo-differential operators such that, for all $n \\in \\mathbb{N}$:\n",
    "$$\\mathcal{R} H_m = H_{m+n}.$$\n",
    "\n",
    "In order to look for this recursion operator, we can observe that the polynomials $H_{m,i}$ are homogeneous of different weights (namely, they are homogeneous of order $n+m-i$). Hence, we can assume the coefficients of $\\mathcal{R}$ must have appropriate homogeneous conditions. More precisely, the entries $R_{i,j}$ multiplies the coefficient $H_{m,j}$ and is used to create the coefficient $H_{m+n,i}$. Hence, it must be homogeneous of weight\n",
    "$$w(R_{i,j}) = (m+n-i) - (m-j) = n+j-i.$$\n",
    "\n",
    "Moreover, following the work [here](https://arxiv.org/abs/2406.19919), the authors argue that the appropriate shape of the recursion operator must be quasi-local, i.e., the pseudo-differential operators in the recursion matrix must be of the form\n",
    "$$R_{i,j} = R_{i,j}^+ + u\\partial^{-1}v,$$\n",
    "where the elements $u,v$ are, respectively, a symmetry and cosymmetry of the differential equation associated.\n",
    "\n",
    "Since the weights and homogeneous conditions hold in the ring of pseudo-differential operators, then we can set up a guess for these elements, since $w(u \\partial^{-1} v) = w(u)+w(v)-1$."
   ]
  },
  {
   "cell_type": "code",
   "execution_count": null,
   "id": "6f35ac48-a7fd-4f22-9c87-8cfb914ef1f7",
   "metadata": {},
   "outputs": [],
   "source": []
  }
 ],
 "metadata": {
  "kernelspec": {
   "display_name": "SageMath 10.4.rc1",
   "language": "sage",
   "name": "sagemath"
  },
  "language_info": {
   "codemirror_mode": {
    "name": "ipython",
    "version": 3
   },
   "file_extension": ".py",
   "mimetype": "text/x-python",
   "name": "python",
   "nbconvert_exporter": "python",
   "pygments_lexer": "ipython3",
   "version": "3.10.12"
  }
 },
 "nbformat": 4,
 "nbformat_minor": 5
}
