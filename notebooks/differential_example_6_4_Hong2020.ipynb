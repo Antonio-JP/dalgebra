{
 "cells": [
  {
   "cell_type": "markdown",
   "metadata": {},
   "source": [
    "# A differential example from Hong et al 2020\n",
    "\n",
    "Let us consider the following differential system with rational dynamics (see example 6.4 in [Hong et al](https://arxiv.org/abs/1801.08112)):\n",
    "\n",
    "$$\\left\\{\\begin{array}{ll}\n",
    "    \\dot x_1 & = a_1(x_2-x_1) - \\frac{k_aV_mx_1}{k_ck_a + k_cx_3 + k_ax_1}\\\\\n",
    "    \\dot x_2 & = a_2(x_1-x_2)\\\\\n",
    "    \\dot x_3 & = b_1(x_4 - x_3) - \\frac{k_cV_mx_3}{k_ck_a + k_cx_3 + k_ax_1}\\\\\n",
    "    \\dot x_4 & = b_2(x_3-x_4)\n",
    "\\end{array}\\right.$$\n",
    "\n",
    "This is a model arising from pharmacokinetics (see [Demignot et al](https://pubmed.ncbi.nlm.nih.gov/2855567/)) and the only output in the system is the fucntion $y = x_1$. Let us transform this problem so we can use `dalgebra` to solve the identifiability problem."
   ]
  },
  {
   "cell_type": "code",
   "execution_count": 1,
   "metadata": {},
   "outputs": [],
   "source": [
    "%display latex\n",
    "from dalgebra import *\n",
    "\n",
    "## we add some lines to do some time control on executions\n",
    "import signal\n",
    "from contextlib import contextmanager\n",
    "\n",
    "\n",
    "@contextmanager\n",
    "def timeout(time):\n",
    "    # Register a function to raise a TimeoutError on the signal.\n",
    "    signal.signal(signal.SIGALRM, raise_timeout)\n",
    "    # Schedule the signal to be sent after ``time``.\n",
    "    signal.alarm(time)\n",
    "\n",
    "    try:\n",
    "        yield\n",
    "    except TimeoutError:\n",
    "        print(f\"Timeout of {time} seconds expired for execution\")\n",
    "    finally:\n",
    "        # Unregister the signal so it won't be triggered\n",
    "        # if the timeout is not reached.\n",
    "        signal.signal(signal.SIGALRM, signal.SIG_IGN)\n",
    "        \n",
    "def raise_timeout(signum, frame):\n",
    "    raise TimeoutError"
   ]
  },
  {
   "cell_type": "markdown",
   "metadata": {},
   "source": [
    "The system has 4 state variables $x_1(t), x_2(t), x_3(t)$ and $x_4(t)$ and the differential system can be written using the parameters $k_a, k_c, V_m, a_1, a_2, b_1$ and $b_2$. We need to create these variables and set the differential ring such that everything is a constant:"
   ]
  },
  {
   "cell_type": "code",
   "execution_count": 2,
   "metadata": {},
   "outputs": [
    {
     "name": "stdout",
     "output_type": "stream",
     "text": [
      "All are constants ->  True\n"
     ]
    },
    {
     "data": {
      "text/html": [
       "<html><script type=\"math/tex; mode=display\">\\newcommand{\\Bold}[1]{\\mathbf{#1}}\\left( \\Bold{Q}[a_{1}, a_{2}, b_{1}, b_{2}, k_{a}, k_{c}, V_{m}] , \\begin{array}{rcl}a_{1} \\mapsto 0\\\\a_{2} \\mapsto 0\\\\b_{1} \\mapsto 0\\\\b_{2} \\mapsto 0\\\\k_{a} \\mapsto 0\\\\k_{c} \\mapsto 0\\\\V_{m} \\mapsto 0\\end{array} \\right)</script></html>"
      ],
      "text/latex": [
       "$$\\newcommand{\\Bold}[1]{\\mathbf{#1}}\\left( \\Bold{Q}[a_{1}, a_{2}, b_{1}, b_{2}, k_{a}, k_{c}, V_{m}] , \\begin{array}{rcl}a_{1} \\mapsto 0\\\\a_{2} \\mapsto 0\\\\b_{1} \\mapsto 0\\\\b_{2} \\mapsto 0\\\\k_{a} \\mapsto 0\\\\k_{c} \\mapsto 0\\\\V_{m} \\mapsto 0\\end{array} \\right)$$"
      ],
      "text/plain": [
       "Differential Ring [Multivariate Polynomial Ring in a_1, a_2, b_1, b_2, k_a, k_c, V_m over Rational Field] with derivation [Map from callable <lambda>]"
      ]
     },
     "execution_count": 2,
     "metadata": {},
     "output_type": "execute_result"
    }
   ],
   "source": [
    "R.<a_1,a_2,b_1,b_2,k_a,k_c,V_m> = QQ[]\n",
    "DR = DifferentialRing(R)\n",
    "## We update the variables\n",
    "a_1,a_2,b_1,b_2,k_a,k_c,V_m = DR.gens()\n",
    "## We check that all these are constants\n",
    "print(\"All are constants -> \", all(el.derivative() == 0 for el in DR.gens()))\n",
    "\n",
    "DR"
   ]
  },
  {
   "cell_type": "markdown",
   "metadata": {},
   "source": [
    "In order to build the system, we need to create the four differential variables $x_1(t), x_2(t), x_3(t)$ and $x_4(t)$. In the code, these will be represented by $\\texttt{x1}$, $\\texttt{x2}$, $\\texttt{x3}$ and $\\texttt{x4}$ such that $\\texttt{xi[k]} = x_i^{(k)}(t)$. We do that with the class `DifferentialPolynomialRing`:"
   ]
  },
  {
   "cell_type": "code",
   "execution_count": 3,
   "metadata": {},
   "outputs": [
    {
     "data": {
      "text/html": [
       "<html><script type=\"math/tex; mode=display\">\\newcommand{\\Bold}[1]{\\mathbf{#1}}\\left( \\Bold{Q}[a_{1}, a_{2}, b_{1}, b_{2}, k_{a}, k_{c}, V_{m}] , \\begin{array}{rcl}a_{1} \\mapsto 0\\\\a_{2} \\mapsto 0\\\\b_{1} \\mapsto 0\\\\b_{2} \\mapsto 0\\\\k_{a} \\mapsto 0\\\\k_{c} \\mapsto 0\\\\V_{m} \\mapsto 0\\end{array} \\right) \\{ x1, x2, x3, x4 \\}</script></html>"
      ],
      "text/latex": [
       "$$\\newcommand{\\Bold}[1]{\\mathbf{#1}}\\left( \\Bold{Q}[a_{1}, a_{2}, b_{1}, b_{2}, k_{a}, k_{c}, V_{m}] , \\begin{array}{rcl}a_{1} \\mapsto 0\\\\a_{2} \\mapsto 0\\\\b_{1} \\mapsto 0\\\\b_{2} \\mapsto 0\\\\k_{a} \\mapsto 0\\\\k_{c} \\mapsto 0\\\\V_{m} \\mapsto 0\\end{array} \\right) \\{ x1, x2, x3, x4 \\}$$"
      ],
      "text/plain": [
       "Ring of differential polynomials in (x1, x2, x3, x4) over Differential Ring [Multivariate Polynomial Ring in a_1, a_2, b_1, b_2, k_a, k_c, V_m over Rational Field] with derivation [Map from callable <lambda>]"
      ]
     },
     "execution_count": 3,
     "metadata": {},
     "output_type": "execute_result"
    }
   ],
   "source": [
    "DPR.<x1,x2,x3,x4> = DifferentialPolynomialRing(DR)\n",
    "DPR"
   ]
  },
  {
   "cell_type": "code",
   "execution_count": 4,
   "metadata": {},
   "outputs": [
    {
     "data": {
      "text/html": [
       "<html><script type=\"math/tex; mode=display\">\\newcommand{\\Bold}[1]{\\mathbf{#1}}\\left(\\mathit{x1}_{\\ast}, \\mathit{x2}_{\\ast}, \\mathit{x3}_{\\ast}, \\mathit{x4}_{\\ast}\\right)</script></html>"
      ],
      "text/latex": [
       "$$\\newcommand{\\Bold}[1]{\\mathbf{#1}}\\left(\\mathit{x1}_{\\ast}, \\mathit{x2}_{\\ast}, \\mathit{x3}_{\\ast}, \\mathit{x4}_{\\ast}\\right)$$"
      ],
      "text/plain": [
       "(x1_*, x2_*, x3_*, x4_*)"
      ]
     },
     "execution_count": 4,
     "metadata": {},
     "output_type": "execute_result"
    }
   ],
   "source": [
    "x1,x2,x3,x4"
   ]
  },
  {
   "cell_type": "markdown",
   "metadata": {},
   "source": [
    "At this point we can create a differential system with the appropiate equations. Since $x_1(t)$ is our output variable that is the variable we do not need to eliminate, so the variables for teh system are the remaining $x_2(t), x_3(t)$ and $x_4(t)$:"
   ]
  },
  {
   "cell_type": "code",
   "execution_count": 5,
   "metadata": {},
   "outputs": [
    {
     "data": {
      "text/html": [
       "<html><script type=\"math/tex; mode=display\">\\newcommand{\\Bold}[1]{\\mathbf{#1}}\\text{System over } \\left( \\Bold{Q}[a_{1}, a_{2}, b_{1}, b_{2}, k_{a}, k_{c}, V_{m}] , \\begin{array}{rcl}a_{1} \\mapsto 0\\\\a_{2} \\mapsto 0\\\\b_{1} \\mapsto 0\\\\b_{2} \\mapsto 0\\\\k_{a} \\mapsto 0\\\\k_{c} \\mapsto 0\\\\V_{m} \\mapsto 0\\end{array} \\right) \\{ x1, x2, x3, x4 \\} \\text{ with variables } \\mathit{x2}_{\\ast}, \\mathit{x3}_{\\ast}, \\mathit{x4}_{\\ast} :\n",
       "\n",
       " \\left\\{\\begin{array}{ll} k_{a} \\mathit{x1}_{1} \\mathit{x1}_{0} + k_{c} \\mathit{x1}_{1} \\mathit{x3}_{0} + \\left(a_{1} k_{a}\\right) \\mathit{x1}_{0}^{2} + \\left(-a_{1} k_{a}\\right) \\mathit{x1}_{0} \\mathit{x2}_{0} + \\left(a_{1} k_{c}\\right) \\mathit{x1}_{0} \\mathit{x3}_{0} + \\left(-a_{1} k_{c}\\right) \\mathit{x2}_{0} \\mathit{x3}_{0} + \\left(k_{a} k_{c}\\right) \\mathit{x1}_{1} + \\left(a_{1} k_{a} k_{c} + k_{a} V_{m}\\right) \\mathit{x1}_{0} + \\left(-a_{1} k_{a} k_{c}\\right) \\mathit{x2}_{0} & = 0 \\\\\n",
       "\\left(-a_{2}\\right) \\mathit{x1}_{0} + 1 \\mathit{x2}_{1} + a_{2} \\mathit{x2}_{0} & = 0 \\\\\n",
       "k_{a} \\mathit{x1}_{0} \\mathit{x3}_{1} + \\left(b_{1} k_{a}\\right) \\mathit{x1}_{0} \\mathit{x3}_{0} + \\left(-b_{1} k_{a}\\right) \\mathit{x1}_{0} \\mathit{x4}_{0} + k_{c} \\mathit{x3}_{1} \\mathit{x3}_{0} + \\left(b_{1} k_{c}\\right) \\mathit{x3}_{0}^{2} + \\left(-b_{1} k_{c}\\right) \\mathit{x3}_{0} \\mathit{x4}_{0} + \\left(k_{a} k_{c}\\right) \\mathit{x3}_{1} + \\left(b_{1} k_{a} k_{c} + k_{c} V_{m}\\right) \\mathit{x3}_{0} + \\left(-b_{1} k_{a} k_{c}\\right) \\mathit{x4}_{0} & = 0 \\\\\n",
       "\\left(-b_{2}\\right) \\mathit{x3}_{0} + 1 \\mathit{x4}_{1} + b_{2} \\mathit{x4}_{0} & = 0 \\\\ \n",
       "\\end{array}\\right.</script></html>"
      ],
      "text/latex": [
       "$$\\newcommand{\\Bold}[1]{\\mathbf{#1}}\\text{System over } \\left( \\Bold{Q}[a_{1}, a_{2}, b_{1}, b_{2}, k_{a}, k_{c}, V_{m}] , \\begin{array}{rcl}a_{1} \\mapsto 0\\\\a_{2} \\mapsto 0\\\\b_{1} \\mapsto 0\\\\b_{2} \\mapsto 0\\\\k_{a} \\mapsto 0\\\\k_{c} \\mapsto 0\\\\V_{m} \\mapsto 0\\end{array} \\right) \\{ x1, x2, x3, x4 \\} \\text{ with variables } \\mathit{x2}_{\\ast}, \\mathit{x3}_{\\ast}, \\mathit{x4}_{\\ast} :\n",
       "\n",
       " \\left\\{\\begin{array}{ll} k_{a} \\mathit{x1}_{1} \\mathit{x1}_{0} + k_{c} \\mathit{x1}_{1} \\mathit{x3}_{0} + \\left(a_{1} k_{a}\\right) \\mathit{x1}_{0}^{2} + \\left(-a_{1} k_{a}\\right) \\mathit{x1}_{0} \\mathit{x2}_{0} + \\left(a_{1} k_{c}\\right) \\mathit{x1}_{0} \\mathit{x3}_{0} + \\left(-a_{1} k_{c}\\right) \\mathit{x2}_{0} \\mathit{x3}_{0} + \\left(k_{a} k_{c}\\right) \\mathit{x1}_{1} + \\left(a_{1} k_{a} k_{c} + k_{a} V_{m}\\right) \\mathit{x1}_{0} + \\left(-a_{1} k_{a} k_{c}\\right) \\mathit{x2}_{0} & = 0 \\\\\n",
       "\\left(-a_{2}\\right) \\mathit{x1}_{0} + 1 \\mathit{x2}_{1} + a_{2} \\mathit{x2}_{0} & = 0 \\\\\n",
       "k_{a} \\mathit{x1}_{0} \\mathit{x3}_{1} + \\left(b_{1} k_{a}\\right) \\mathit{x1}_{0} \\mathit{x3}_{0} + \\left(-b_{1} k_{a}\\right) \\mathit{x1}_{0} \\mathit{x4}_{0} + k_{c} \\mathit{x3}_{1} \\mathit{x3}_{0} + \\left(b_{1} k_{c}\\right) \\mathit{x3}_{0}^{2} + \\left(-b_{1} k_{c}\\right) \\mathit{x3}_{0} \\mathit{x4}_{0} + \\left(k_{a} k_{c}\\right) \\mathit{x3}_{1} + \\left(b_{1} k_{a} k_{c} + k_{c} V_{m}\\right) \\mathit{x3}_{0} + \\left(-b_{1} k_{a} k_{c}\\right) \\mathit{x4}_{0} & = 0 \\\\\n",
       "\\left(-b_{2}\\right) \\mathit{x3}_{0} + 1 \\mathit{x4}_{1} + b_{2} \\mathit{x4}_{0} & = 0 \\\\ \n",
       "\\end{array}\\right.$$"
      ],
      "text/plain": [
       "System over [Ring of differential polynomials in (x1, x2, x3, x4) over Differential Ring [Multivariate Polynomial Ring in a_1, a_2, b_1, b_2, k_a, k_c, V_m over Rational Field] with derivation [Map from callable <lambda>]] with variables [(x2_*, x3_*, x4_*)]:\n",
       "{\n",
       "\tk_a*x1_1*x1_0 + k_c*x1_1*x3_0 + a_1*k_a*x1_0^2 + (-a_1*k_a)*x1_0*x2_0 + a_1*k_c*x1_0*x3_0 + (-a_1*k_c)*x2_0*x3_0 + k_a*k_c*x1_1 + (a_1*k_a*k_c + k_a*V_m)*x1_0 + (-a_1*k_a*k_c)*x2_0 == 0\n",
       "\t(-a_2)*x1_0 + x2_1 + a_2*x2_0 == 0\n",
       "\tk_a*x1_0*x3_1 + b_1*k_a*x1_0*x3_0 + (-b_1*k_a)*x1_0*x4_0 + k_c*x3_1*x3_0 + b_1*k_c*x3_0^2 + (-b_1*k_c)*x3_0*x4_0 + k_a*k_c*x3_1 + (b_1*k_a*k_c + k_c*V_m)*x3_0 + (-b_1*k_a*k_c)*x4_0 == 0\n",
       "\t(-b_2)*x3_0 + x4_1 + b_2*x4_0 == 0\n",
       "}"
      ]
     },
     "execution_count": 5,
     "metadata": {},
     "output_type": "execute_result"
    }
   ],
   "source": [
    "denom = k_c*k_a + k_c*x3[0] + k_a*x1[0]\n",
    "system = DifferentialSystem([\n",
    "    x1[1]*denom - a_1*(x2[0]-x1[0])*denom + k_a*V_m*x1[0],\n",
    "    x2[1] - a_2*(x1[0] - x2[0]),\n",
    "    x3[1]*denom - b_1*(x4[0]-x3[0])*denom + k_c*V_m*x3[0],\n",
    "    x4[1] - b_2*(x3[0]-x4[0])\n",
    "], DPR, [x2,x3,x4])\n",
    "system"
   ]
  },
  {
   "cell_type": "markdown",
   "metadata": {},
   "source": [
    "Let us try to execute blindly the differential resultant algorithm:"
   ]
  },
  {
   "cell_type": "code",
   "execution_count": 6,
   "metadata": {
    "scrolled": false
   },
   "outputs": [
    {
     "name": "stdout",
     "output_type": "stream",
     "text": [
      "Checking if there is any linear variable...\n",
      "Forced iterative elimination. We do not look for linear variables\n",
      "Several eliminations are needed --> we use recursion\n",
      "Picking the best variable to start with...\n",
      "Picked differential variable x2_*\n",
      "Picked the pivot [k_a*x1_1*x1_0 + k_c*x1_1*x3_0 ...] for differential elimination\n",
      "Computing the elimination for all pair of equations...\n",
      "Checking if there is any linear variable...\n",
      "Forced iterative elimination. We do not look for linear variables\n",
      "Only one variable remains. We proceed to eliminate it in an algebraic fashion\n",
      "Extending the system to eliminate x2_*...\n",
      "Trying the extension (0, 0)\n",
      "Trying the extension (1, 0)\n",
      "Found the valid extension (1, 0)\n",
      "Iterating to remove all the algebraic variables...\n",
      "--------------------------------------------------\n",
      "\tRemaining variables: [x2_0, x2_1]\n",
      "\tPicking best algebraic variable to eliminate...\n",
      "\tNumber of appearance for each variable: [3, 2]. Number of equations: 3\n",
      "\tPicked x2_1\n",
      "\tPicking the best 'pivot' to eliminate x2_1...\n",
      "\t- Pivot --> ((-a_1*k_c)*x3_0 + (-a_1*k_a)*... [with 2 monomials and coefficients 209 long]\n",
      "\tEliminating the variable x2_1 in each pair of equations...\n",
      "\tEliminating with x2_1 + a_2*x2_0 + (-a_2)*x1_0... [with 2 monomials and coefficients 22 long]\n",
      "\tComputing Sylvester matrix...\n",
      "\tComputing Sylvester determinant...\n",
      "\tRemaining variables: [x2_0]\n",
      "\tPicking best algebraic variable to eliminate...\n",
      "\tNumber of appearance for each variable: [2]. Number of equations: 2\n",
      "\tPicked x2_0\n",
      "\tPicking the best 'pivot' to eliminate x2_0...\n",
      "\t- Pivot --> ((-a_1*k_c)*x3_0 + (-a_1*k_a)*... [with 2 monomials and coefficients 112 long]\n",
      "\tEliminating the variable x2_0 in each pair of equations...\n",
      "\tEliminating with ((-a_1*a_2*k_c)*x3_0 + a_1*k_c... [with 2 monomials and coefficients 259 long]\n",
      "\tComputing Sylvester matrix...\n",
      "\tStoring Sylvester matrix...\n",
      "\tComputing Sylvester determinant...\n",
      "--------------------------------------------------\n",
      "Elimination procedure finished. Checking that we have a result...\n",
      "Return the smallest result obtained\n",
      "Adding equations without x2_*...\n",
      "Variable x2_* eliminated. Proceeding with the remaining variables [x3_*, x4_*]...\n",
      "Checking if there is any linear variable...\n",
      "Forced iterative elimination. We do not look for linear variables\n",
      "Several eliminations are needed --> we use recursion\n",
      "Picking the best variable to start with...\n",
      "Picked differential variable x4_*\n",
      "Picked the pivot [k_a*x1_0*x3_1 + b_1*k_a*x1_0*x...] for differential elimination\n",
      "Computing the elimination for all pair of equations...\n",
      "Checking if there is any linear variable...\n",
      "Forced iterative elimination. We do not look for linear variables\n",
      "Only one variable remains. We proceed to eliminate it in an algebraic fashion\n",
      "Extending the system to eliminate x4_*...\n",
      "Trying the extension (0, 0)\n",
      "Trying the extension (1, 0)\n",
      "Found the valid extension (1, 0)\n",
      "Iterating to remove all the algebraic variables...\n",
      "--------------------------------------------------\n",
      "\tRemaining variables: [x4_0, x4_1]\n",
      "\tPicking best algebraic variable to eliminate...\n",
      "\tNumber of appearance for each variable: [3, 2]. Number of equations: 3\n",
      "\tPicked x4_1\n",
      "\tPicking the best 'pivot' to eliminate x4_1...\n",
      "\t- Pivot --> ((-b_1*k_c)*x3_0 + (-b_1*k_a)*... [with 2 monomials and coefficients 209 long]\n",
      "\tEliminating the variable x4_1 in each pair of equations...\n",
      "\tEliminating with x4_1 + b_2*x4_0 + (-b_2)*x3_0... [with 2 monomials and coefficients 22 long]\n",
      "\tComputing Sylvester matrix...\n",
      "\tComputing Sylvester determinant...\n",
      "\tRemaining variables: [x4_0]\n",
      "\tPicking best algebraic variable to eliminate...\n",
      "\tNumber of appearance for each variable: [2]. Number of equations: 2\n",
      "\tPicked x4_0\n",
      "\tPicking the best 'pivot' to eliminate x4_0...\n",
      "\t- Pivot --> ((-b_1*k_c)*x3_0 + (-b_1*k_a)*... [with 2 monomials and coefficients 112 long]\n",
      "\tEliminating the variable x4_0 in each pair of equations...\n",
      "\tEliminating with ((-b_1*b_2*k_c)*x3_0 + b_1*k_c... [with 2 monomials and coefficients 259 long]\n",
      "\tComputing Sylvester matrix...\n",
      "\tStoring Sylvester matrix...\n",
      "\tComputing Sylvester determinant...\n",
      "--------------------------------------------------\n",
      "Elimination procedure finished. Checking that we have a result...\n",
      "Return the smallest result obtained\n",
      "Adding equations without x4_*...\n",
      "Variable x4_* eliminated. Proceeding with the remaining variables [x3_*]...\n",
      "Checking if there is any linear variable...\n",
      "Forced iterative elimination. We do not look for linear variables\n",
      "Only one variable remains. We proceed to eliminate it in an algebraic fashion\n",
      "Extending the system to eliminate x3_*...\n",
      "Trying the extension (0, 0)\n",
      "Trying the extension (1, 0)\n",
      "Trying the extension (0, 1)\n",
      "Trying the extension (2, 0)\n",
      "Trying the extension (1, 1)\n",
      "Trying the extension (0, 2)\n",
      "Trying the extension (3, 0)\n",
      "Trying the extension (2, 1)\n",
      "Trying the extension (1, 2)\n",
      "Found the valid extension (1, 2)\n",
      "Iterating to remove all the algebraic variables...\n",
      "--------------------------------------------------\n",
      "\tRemaining variables: [x3_0, x3_1, x3_2, x3_3]\n",
      "\tPicking best algebraic variable to eliminate...\n",
      "\tNumber of appearance for each variable: [5, 5, 4, 2]. Number of equations: 5\n",
      "\tPicked x3_3\n",
      "\tPicking the best 'pivot' to eliminate x3_3...\n",
      "\t- Pivot --> (b_1*k_c^2*x3_0^2 + (2*b_1*k_a... [with 2 monomials and coefficients 899 long]\n",
      "\tEliminating the variable x3_3 in each pair of equations...\n",
      "\tEliminating with ((-a_1*k_a*k_c*V_m)*x1_0)*x3_3... [with 2 monomials and coefficients 1661 long]\n",
      "\tComputing Sylvester matrix...\n",
      "\tComputing Sylvester determinant...\n",
      "\tRemaining variables: [x3_0, x3_1, x3_2]\n",
      "\tPicking best algebraic variable to eliminate...\n",
      "\tNumber of appearance for each variable: [4, 4, 3]. Number of equations: 4\n",
      "\tPicked x3_2\n",
      "\tPicking the best 'pivot' to eliminate x3_2...\n",
      "\t- Pivot --> (b_1*k_c^2*x3_0^2 + (2*b_1*k_a... [with 2 monomials and coefficients 426 long]\n",
      "\tEliminating the variable x3_2 in each pair of equations...\n",
      "\tEliminating with ((-a_1*k_a*k_c*V_m)*x1_0)*x3_2... [with 2 monomials and coefficients 1046 long]\n",
      "\tComputing Sylvester matrix...\n",
      "\tComputing Sylvester determinant...\n",
      "\tEliminating with (((2*a_1^2*b_1*k_c^4 + 2*a_1*a... [with 2 monomials and coefficients 7457 long]\n",
      "\tComputing Sylvester matrix...\n",
      "\tComputing Sylvester determinant...\n",
      "\tRemaining variables: [x3_0, x3_1]\n",
      "\tPicking best algebraic variable to eliminate...\n",
      "\tNumber of appearance for each variable: [3, 3]. Number of equations: 3\n",
      "\tPicked x3_1\n",
      "\tPicking the best 'pivot' to eliminate x3_1...\n",
      "\t- Pivot --> ((-a_1*k_a*k_c*V_m)*x1_0)*x3_1... [with 2 monomials and coefficients 558 long]\n",
      "\tEliminating the variable x3_1 in each pair of equations...\n",
      "\tEliminating with (((2*a_1^2*b_1*k_c^4 + 2*a_1*a... [with 2 monomials and coefficients 3214 long]\n",
      "\tComputing Sylvester matrix...\n",
      "\tComputing Sylvester determinant...\n",
      "\tEliminating with (((2*a_1^2*b_1^2*k_c^6 + 2*a_1... [with 3 monomials and coefficients 15385 long]\n",
      "\tComputing Sylvester matrix...\n",
      "\tComputing Sylvester determinant...\n",
      "\tRemaining variables: [x3_0]\n",
      "\tPicking best algebraic variable to eliminate...\n",
      "\tNumber of appearance for each variable: [2]. Number of equations: 2\n",
      "\tPicked x3_0\n",
      "\tPicking the best 'pivot' to eliminate x3_0...\n",
      "\t- Pivot --> ((-2*a_1^4*b_1*k_c^6 - 4*a_1^3... [with 6 monomials and coefficients 5291 long]\n",
      "\tEliminating the variable x3_0 in each pair of equations...\n",
      "\tEliminating with ((2*a_1^6*b_1^2*k_c^10 + 6*a_1... [with 9 monomials and coefficients 32620 long]\n",
      "\tComputing Sylvester matrix...\n",
      "\tStoring Sylvester matrix...\n",
      "\tComputing Sylvester determinant...\n",
      "Timeout of 15 seconds expired for execution\n"
     ]
    }
   ],
   "source": [
    "with timeout(15):\n",
    "    res = system.diff_resultant(alg_res=\"iterative\", verbose=True)"
   ]
  },
  {
   "cell_type": "code",
   "execution_count": 10,
   "metadata": {},
   "outputs": [],
   "source": [
    "def read_matrix(file, R):\n",
    "    with open(file, \"r\") as stream:\n",
    "        r,c = [int(el) for el in stream.readline().split(',')]\n",
    "        M = [[0 for _ in range(r)] for _ in range(c)]\n",
    "        for line in stream:\n",
    "            indices, equ = line.split(\";\")\n",
    "            i,j = [int(el) for el in indices.split(',')]\n",
    "            M[i][j] = R(equ)\n",
    "    return Matrix(R, M)"
   ]
  },
  {
   "cell_type": "code",
   "execution_count": 11,
   "metadata": {},
   "outputs": [],
   "source": [
    "A = read_matrix(\"./sylvester_matrix.txt\", DPR)"
   ]
  },
  {
   "cell_type": "code",
   "execution_count": 12,
   "metadata": {},
   "outputs": [
    {
     "data": {
      "text/html": [
       "<html><script type=\"math/tex; mode=display\">\\newcommand{\\Bold}[1]{\\mathbf{#1}}\\left(-2 a_{1}^{2} b_{1} k_{c}^{6}\\right) \\mathit{x1}_{2}^{2} + \\left(-4 a_{1}^{3} b_{1} k_{c}^{6} - 4 a_{1}^{2} a_{2} b_{1} k_{c}^{6}\\right) \\mathit{x1}_{2} \\mathit{x1}_{1} + \\left(-2 a_{1}^{4} b_{1} k_{c}^{6} - 4 a_{1}^{3} a_{2} b_{1} k_{c}^{6} - 2 a_{1}^{2} a_{2}^{2} b_{1} k_{c}^{6}\\right) \\mathit{x1}_{1}^{2}</script></html>"
      ],
      "text/latex": [
       "$$\\newcommand{\\Bold}[1]{\\mathbf{#1}}\\left(-2 a_{1}^{2} b_{1} k_{c}^{6}\\right) \\mathit{x1}_{2}^{2} + \\left(-4 a_{1}^{3} b_{1} k_{c}^{6} - 4 a_{1}^{2} a_{2} b_{1} k_{c}^{6}\\right) \\mathit{x1}_{2} \\mathit{x1}_{1} + \\left(-2 a_{1}^{4} b_{1} k_{c}^{6} - 4 a_{1}^{3} a_{2} b_{1} k_{c}^{6} - 2 a_{1}^{2} a_{2}^{2} b_{1} k_{c}^{6}\\right) \\mathit{x1}_{1}^{2}$$"
      ],
      "text/plain": [
       "(-2*a_1^2*b_1*k_c^6)*x1_2^2 + (-4*a_1^3*b_1*k_c^6 - 4*a_1^2*a_2*b_1*k_c^6)*x1_2*x1_1 + (-2*a_1^4*b_1*k_c^6 - 4*a_1^3*a_2*b_1*k_c^6 - 2*a_1^2*a_2^2*b_1*k_c^6)*x1_1^2"
      ]
     },
     "execution_count": 12,
     "metadata": {},
     "output_type": "execute_result"
    }
   ],
   "source": [
    "A[0][0]"
   ]
  },
  {
   "cell_type": "code",
   "execution_count": 13,
   "metadata": {},
   "outputs": [
    {
     "data": {
      "text/html": [
       "<html><script type=\"math/tex; mode=display\">\\newcommand{\\Bold}[1]{\\mathbf{#1}}\\left(-10 a_{1}^{2} b_{1} k_{a} k_{c}^{5}\\right) \\mathit{x1}_{2}^{2} \\mathit{x1}_{0} + \\left(-20 a_{1}^{3} b_{1} k_{a} k_{c}^{5} - 20 a_{1}^{2} a_{2} b_{1} k_{a} k_{c}^{5}\\right) \\mathit{x1}_{2} \\mathit{x1}_{1} \\mathit{x1}_{0} + \\left(-10 a_{1}^{4} b_{1} k_{a} k_{c}^{5} - 20 a_{1}^{3} a_{2} b_{1} k_{a} k_{c}^{5} - 10 a_{1}^{2} a_{2}^{2} b_{1} k_{a} k_{c}^{5}\\right) \\mathit{x1}_{1}^{2} \\mathit{x1}_{0} + \\left(-a_{1}^{2} b_{1} k_{a} k_{c}^{5} V_{m}\\right) \\mathit{x1}_{3} \\mathit{x1}_{0} + \\left(-10 a_{1}^{2} b_{1} k_{a} k_{c}^{6}\\right) \\mathit{x1}_{2}^{2} + \\left(-20 a_{1}^{3} b_{1} k_{a} k_{c}^{6} - 20 a_{1}^{2} a_{2} b_{1} k_{a} k_{c}^{6} - 2 a_{1}^{2} b_{1} k_{a} k_{c}^{5} V_{m}\\right) \\mathit{x1}_{2} \\mathit{x1}_{1} + \\left(-a_{1}^{3} b_{1} k_{a} k_{c}^{5} V_{m} - 4 a_{1}^{2} a_{2} b_{1} k_{a} k_{c}^{5} V_{m} - a_{1}^{2} b_{1}^{2} k_{a} k_{c}^{5} V_{m} - a_{1}^{2} b_{1} b_{2} k_{a} k_{c}^{5} V_{m}\\right) \\mathit{x1}_{2} \\mathit{x1}_{0} + \\left(-10 a_{1}^{4} b_{1} k_{a} k_{c}^{6} - 20 a_{1}^{3} a_{2} b_{1} k_{a} k_{c}^{6} - 10 a_{1}^{2} a_{2}^{2} b_{1} k_{a} k_{c}^{6} - 2 a_{1}^{3} b_{1} k_{a} k_{c}^{5} V_{m} - 2 a_{1}^{2} a_{2} b_{1} k_{a} k_{c}^{5} V_{m}\\right) \\mathit{x1}_{1}^{2} + \\left(-3 a_{1}^{3} a_{2} b_{1} k_{a} k_{c}^{5} V_{m} - 3 a_{1}^{2} a_{2}^{2} b_{1} k_{a} k_{c}^{5} V_{m} - a_{1}^{3} b_{1}^{2} k_{a} k_{c}^{5} V_{m} - a_{1}^{2} a_{2} b_{1}^{2} k_{a} k_{c}^{5} V_{m} - a_{1}^{3} b_{1} b_{2} k_{a} k_{c}^{5} V_{m} - a_{1}^{2} a_{2} b_{1} b_{2} k_{a} k_{c}^{5} V_{m}\\right) \\mathit{x1}_{1} \\mathit{x1}_{0}</script></html>"
      ],
      "text/latex": [
       "$$\\newcommand{\\Bold}[1]{\\mathbf{#1}}\\left(-10 a_{1}^{2} b_{1} k_{a} k_{c}^{5}\\right) \\mathit{x1}_{2}^{2} \\mathit{x1}_{0} + \\left(-20 a_{1}^{3} b_{1} k_{a} k_{c}^{5} - 20 a_{1}^{2} a_{2} b_{1} k_{a} k_{c}^{5}\\right) \\mathit{x1}_{2} \\mathit{x1}_{1} \\mathit{x1}_{0} + \\left(-10 a_{1}^{4} b_{1} k_{a} k_{c}^{5} - 20 a_{1}^{3} a_{2} b_{1} k_{a} k_{c}^{5} - 10 a_{1}^{2} a_{2}^{2} b_{1} k_{a} k_{c}^{5}\\right) \\mathit{x1}_{1}^{2} \\mathit{x1}_{0} + \\left(-a_{1}^{2} b_{1} k_{a} k_{c}^{5} V_{m}\\right) \\mathit{x1}_{3} \\mathit{x1}_{0} + \\left(-10 a_{1}^{2} b_{1} k_{a} k_{c}^{6}\\right) \\mathit{x1}_{2}^{2} + \\left(-20 a_{1}^{3} b_{1} k_{a} k_{c}^{6} - 20 a_{1}^{2} a_{2} b_{1} k_{a} k_{c}^{6} - 2 a_{1}^{2} b_{1} k_{a} k_{c}^{5} V_{m}\\right) \\mathit{x1}_{2} \\mathit{x1}_{1} + \\left(-a_{1}^{3} b_{1} k_{a} k_{c}^{5} V_{m} - 4 a_{1}^{2} a_{2} b_{1} k_{a} k_{c}^{5} V_{m} - a_{1}^{2} b_{1}^{2} k_{a} k_{c}^{5} V_{m} - a_{1}^{2} b_{1} b_{2} k_{a} k_{c}^{5} V_{m}\\right) \\mathit{x1}_{2} \\mathit{x1}_{0} + \\left(-10 a_{1}^{4} b_{1} k_{a} k_{c}^{6} - 20 a_{1}^{3} a_{2} b_{1} k_{a} k_{c}^{6} - 10 a_{1}^{2} a_{2}^{2} b_{1} k_{a} k_{c}^{6} - 2 a_{1}^{3} b_{1} k_{a} k_{c}^{5} V_{m} - 2 a_{1}^{2} a_{2} b_{1} k_{a} k_{c}^{5} V_{m}\\right) \\mathit{x1}_{1}^{2} + \\left(-3 a_{1}^{3} a_{2} b_{1} k_{a} k_{c}^{5} V_{m} - 3 a_{1}^{2} a_{2}^{2} b_{1} k_{a} k_{c}^{5} V_{m} - a_{1}^{3} b_{1}^{2} k_{a} k_{c}^{5} V_{m} - a_{1}^{2} a_{2} b_{1}^{2} k_{a} k_{c}^{5} V_{m} - a_{1}^{3} b_{1} b_{2} k_{a} k_{c}^{5} V_{m} - a_{1}^{2} a_{2} b_{1} b_{2} k_{a} k_{c}^{5} V_{m}\\right) \\mathit{x1}_{1} \\mathit{x1}_{0}$$"
      ],
      "text/plain": [
       "(-10*a_1^2*b_1*k_a*k_c^5)*x1_2^2*x1_0 + (-20*a_1^3*b_1*k_a*k_c^5 - 20*a_1^2*a_2*b_1*k_a*k_c^5)*x1_2*x1_1*x1_0 + (-10*a_1^4*b_1*k_a*k_c^5 - 20*a_1^3*a_2*b_1*k_a*k_c^5 - 10*a_1^2*a_2^2*b_1*k_a*k_c^5)*x1_1^2*x1_0 + (-a_1^2*b_1*k_a*k_c^5*V_m)*x1_3*x1_0 + (-10*a_1^2*b_1*k_a*k_c^6)*x1_2^2 + (-20*a_1^3*b_1*k_a*k_c^6 - 20*a_1^2*a_2*b_1*k_a*k_c^6 - 2*a_1^2*b_1*k_a*k_c^5*V_m)*x1_2*x1_1 + (-a_1^3*b_1*k_a*k_c^5*V_m - 4*a_1^2*a_2*b_1*k_a*k_c^5*V_m - a_1^2*b_1^2*k_a*k_c^5*V_m - a_1^2*b_1*b_2*k_a*k_c^5*V_m)*x1_2*x1_0 + (-10*a_1^4*b_1*k_a*k_c^6 - 20*a_1^3*a_2*b_1*k_a*k_c^6 - 10*a_1^2*a_2^2*b_1*k_a*k_c^6 - 2*a_1^3*b_1*k_a*k_c^5*V_m - 2*a_1^2*a_2*b_1*k_a*k_c^5*V_m)*x1_1^2 + (-3*a_1^3*a_2*b_1*k_a*k_c^5*V_m - 3*a_1^2*a_2^2*b_1*k_a*k_c^5*V_m - a_1^3*b_1^2*k_a*k_c^5*V_m - a_1^2*a_2*b_1^2*k_a*k_c^5*V_m - a_1^3*b_1*b_2*k_a*k_c^5*V_m - a_1^2*a_2*b_1*b_2*k_a*k_c^5*V_m)*x1_1*x1_0"
      ]
     },
     "execution_count": 13,
     "metadata": {},
     "output_type": "execute_result"
    }
   ],
   "source": [
    "A[0][1]"
   ]
  },
  {
   "cell_type": "code",
   "execution_count": 24,
   "metadata": {},
   "outputs": [],
   "source": [
    "monomials_pivot = list(set(sum([el.monomials() for el in A[0]],[])))\n",
    "monomials_equation = list(set(sum([el.monomials() for el in A[8]],[])))"
   ]
  },
  {
   "cell_type": "code",
   "execution_count": 69,
   "metadata": {},
   "outputs": [],
   "source": [
    "size = len(monomials_pivot)**8 * len(monomials_equation)**5"
   ]
  },
  {
   "cell_type": "code",
   "execution_count": 65,
   "metadata": {},
   "outputs": [
    {
     "ename": "OverflowError",
     "evalue": "cannot fit 'int' into an index-sized integer",
     "output_type": "error",
     "traceback": [
      "\u001b[0;31m---------------------------------------------------------------------------\u001b[0m",
      "\u001b[0;31mOverflowError\u001b[0m                             Traceback (most recent call last)",
      "\u001b[0;32m<ipython-input-65-884666198f3d>\u001b[0m in \u001b[0;36m<module>\u001b[0;34m\u001b[0m\n\u001b[1;32m      1\u001b[0m \u001b[0mcp\u001b[0m \u001b[0;34m=\u001b[0m \u001b[0mcartesian_product\u001b[0m\u001b[0;34m(\u001b[0m\u001b[0;34m[\u001b[0m\u001b[0mmonomials_pivot\u001b[0m \u001b[0;32mfor\u001b[0m \u001b[0m_\u001b[0m \u001b[0;32min\u001b[0m \u001b[0mrange\u001b[0m\u001b[0;34m(\u001b[0m\u001b[0mInteger\u001b[0m\u001b[0;34m(\u001b[0m\u001b[0;36m8\u001b[0m\u001b[0;34m)\u001b[0m\u001b[0;34m)\u001b[0m\u001b[0;34m]\u001b[0m \u001b[0;34m+\u001b[0m \u001b[0;34m[\u001b[0m\u001b[0mmonomials_equation\u001b[0m \u001b[0;32mfor\u001b[0m \u001b[0m_\u001b[0m \u001b[0;32min\u001b[0m \u001b[0mrange\u001b[0m\u001b[0;34m(\u001b[0m\u001b[0mInteger\u001b[0m\u001b[0;34m(\u001b[0m\u001b[0;36m5\u001b[0m\u001b[0;34m)\u001b[0m\u001b[0;34m)\u001b[0m\u001b[0;34m]\u001b[0m\u001b[0;34m)\u001b[0m\u001b[0;34m\u001b[0m\u001b[0;34m\u001b[0m\u001b[0m\n\u001b[0;32m----> 2\u001b[0;31m \u001b[0mlen\u001b[0m\u001b[0;34m(\u001b[0m\u001b[0mcp\u001b[0m\u001b[0;34m)\u001b[0m\u001b[0;34m\u001b[0m\u001b[0;34m\u001b[0m\u001b[0m\n\u001b[0m",
      "\u001b[0;31mOverflowError\u001b[0m: cannot fit 'int' into an index-sized integer"
     ]
    }
   ],
   "source": [
    "cp = cartesian_product([monomials_pivot for _ in range(8)] + [monomials_equation for _ in range(5)])"
   ]
  },
  {
   "cell_type": "code",
   "execution_count": 57,
   "metadata": {},
   "outputs": [],
   "source": [
    "FP = parent(cp[0][0]).change_ring(parent(cp[0][0]).base().wrapped)"
   ]
  },
  {
   "cell_type": "code",
   "execution_count": null,
   "metadata": {
    "scrolled": false
   },
   "outputs": [],
   "source": [
    "all_matrices = []\n",
    "i = 0\n",
    "for current in cp:\n",
    "    nM = []\n",
    "    for i in range(A.nrows()):\n",
    "        nrow = []\n",
    "        for el in A[i]:\n",
    "            if el == 0:\n",
    "                nrow.append(0)\n",
    "            else:\n",
    "                nrow.append(el.polynomial().coefficient(current[i]))\n",
    "        nM.append(nrow)\n",
    "    all_matrices.append(Matrix(nM))\n",
    "    i += 1\n",
    "    if i%100 == 0: print(\"%.2f completed\\r\" %(float(i/size)))"
   ]
  },
  {
   "cell_type": "code",
   "execution_count": 62,
   "metadata": {},
   "outputs": [
    {
     "name": "stdout",
     "output_type": "stream",
     "text": [
      "> \u001b[0;32m/home/anton/sage/local/lib/python3.9/site-packages/sage/rings/polynomial/multi_polynomial_element.py\u001b[0m(964)\u001b[0;36mcoefficient\u001b[0;34m()\u001b[0m\n",
      "\u001b[0;32m    962 \u001b[0;31m                        \u001b[0mlooking_for\u001b[0m\u001b[0;34m[\u001b[0m\u001b[0mi\u001b[0m\u001b[0;34m]\u001b[0m \u001b[0;34m=\u001b[0m \u001b[0mexp\u001b[0m\u001b[0;34m\u001b[0m\u001b[0;34m\u001b[0m\u001b[0m\n",
      "\u001b[0m\u001b[0;32m    963 \u001b[0;31m        \u001b[0;32mif\u001b[0m \u001b[0;32mnot\u001b[0m \u001b[0mlooking_for\u001b[0m\u001b[0;34m:\u001b[0m\u001b[0;34m\u001b[0m\u001b[0;34m\u001b[0m\u001b[0m\n",
      "\u001b[0m\u001b[0;32m--> 964 \u001b[0;31m            \u001b[0;32mraise\u001b[0m \u001b[0mValueError\u001b[0m\u001b[0;34m(\u001b[0m\u001b[0;34m\"You must pass a dictionary list or monomial.\"\u001b[0m\u001b[0;34m)\u001b[0m\u001b[0;34m\u001b[0m\u001b[0;34m\u001b[0m\u001b[0m\n",
      "\u001b[0m\u001b[0;32m    965 \u001b[0;31m        \u001b[0;32mreturn\u001b[0m \u001b[0mself\u001b[0m\u001b[0;34m.\u001b[0m\u001b[0mparent\u001b[0m\u001b[0;34m(\u001b[0m\u001b[0;34m)\u001b[0m\u001b[0;34m(\u001b[0m\u001b[0mself\u001b[0m\u001b[0;34m.\u001b[0m\u001b[0melement\u001b[0m\u001b[0;34m(\u001b[0m\u001b[0;34m)\u001b[0m\u001b[0;34m.\u001b[0m\u001b[0mpolynomial_coefficient\u001b[0m\u001b[0;34m(\u001b[0m\u001b[0mlooking_for\u001b[0m\u001b[0;34m)\u001b[0m\u001b[0;34m)\u001b[0m\u001b[0;34m\u001b[0m\u001b[0;34m\u001b[0m\u001b[0m\n",
      "\u001b[0m\u001b[0;32m    966 \u001b[0;31m\u001b[0;34m\u001b[0m\u001b[0m\n",
      "\u001b[0m\n",
      "ipdb> up\n",
      "> \u001b[0;32m<ipython-input-61-8cc12044d380>\u001b[0m(7)\u001b[0;36m<module>\u001b[0;34m()\u001b[0m\n",
      "\u001b[0;32m      5 \u001b[0;31m        \u001b[0mnrow\u001b[0m \u001b[0;34m=\u001b[0m \u001b[0;34m[\u001b[0m\u001b[0;34m]\u001b[0m\u001b[0;34m\u001b[0m\u001b[0;34m\u001b[0m\u001b[0m\n",
      "\u001b[0m\u001b[0;32m      6 \u001b[0;31m        \u001b[0;32mfor\u001b[0m \u001b[0mel\u001b[0m \u001b[0;32min\u001b[0m \u001b[0mA\u001b[0m\u001b[0;34m[\u001b[0m\u001b[0mi\u001b[0m\u001b[0;34m]\u001b[0m\u001b[0;34m:\u001b[0m\u001b[0;34m\u001b[0m\u001b[0;34m\u001b[0m\u001b[0m\n",
      "\u001b[0m\u001b[0;32m----> 7 \u001b[0;31m            \u001b[0mnrow\u001b[0m\u001b[0;34m.\u001b[0m\u001b[0mappend\u001b[0m\u001b[0;34m(\u001b[0m\u001b[0mel\u001b[0m\u001b[0;34m.\u001b[0m\u001b[0mpolynomial\u001b[0m\u001b[0;34m(\u001b[0m\u001b[0;34m)\u001b[0m\u001b[0;34m.\u001b[0m\u001b[0mcoefficient\u001b[0m\u001b[0;34m(\u001b[0m\u001b[0mcurrent\u001b[0m\u001b[0;34m[\u001b[0m\u001b[0mi\u001b[0m\u001b[0;34m]\u001b[0m\u001b[0;34m)\u001b[0m\u001b[0;34m)\u001b[0m\u001b[0;34m\u001b[0m\u001b[0;34m\u001b[0m\u001b[0m\n",
      "\u001b[0m\u001b[0;32m      8 \u001b[0;31m        \u001b[0mnM\u001b[0m\u001b[0;34m.\u001b[0m\u001b[0mappend\u001b[0m\u001b[0;34m(\u001b[0m\u001b[0mnrow\u001b[0m\u001b[0;34m)\u001b[0m\u001b[0;34m\u001b[0m\u001b[0;34m\u001b[0m\u001b[0m\n",
      "\u001b[0m\u001b[0;32m      9 \u001b[0;31m    \u001b[0mall_matrices\u001b[0m\u001b[0;34m.\u001b[0m\u001b[0mappend\u001b[0m\u001b[0;34m(\u001b[0m\u001b[0mMatrix\u001b[0m\u001b[0;34m(\u001b[0m\u001b[0mFP\u001b[0m\u001b[0;34m.\u001b[0m\u001b[0mbase\u001b[0m\u001b[0;34m(\u001b[0m\u001b[0;34m)\u001b[0m\u001b[0;34m,\u001b[0m \u001b[0mnM\u001b[0m\u001b[0;34m)\u001b[0m\u001b[0;34m)\u001b[0m\u001b[0;34m\u001b[0m\u001b[0;34m\u001b[0m\u001b[0m\n",
      "\u001b[0m\n",
      "ipdb> print(el)\n",
      "0\n",
      "ipdb> print(current[i])\n",
      "x1_2*x1_0\n",
      "ipdb> exit\n"
     ]
    }
   ],
   "source": [
    "%debug"
   ]
  },
  {
   "cell_type": "code",
   "execution_count": 52,
   "metadata": {},
   "outputs": [
    {
     "name": "stdout",
     "output_type": "stream",
     "text": [
      "> \u001b[0;32m/home/anton/sage/local/lib/python3.9/site-packages/sage/rings/polynomial/multi_polynomial_element.py\u001b[0m(964)\u001b[0;36mcoefficient\u001b[0;34m()\u001b[0m\n",
      "\u001b[0;32m    962 \u001b[0;31m                        \u001b[0mlooking_for\u001b[0m\u001b[0;34m[\u001b[0m\u001b[0mi\u001b[0m\u001b[0;34m]\u001b[0m \u001b[0;34m=\u001b[0m \u001b[0mexp\u001b[0m\u001b[0;34m\u001b[0m\u001b[0;34m\u001b[0m\u001b[0m\n",
      "\u001b[0m\u001b[0;32m    963 \u001b[0;31m        \u001b[0;32mif\u001b[0m \u001b[0;32mnot\u001b[0m \u001b[0mlooking_for\u001b[0m\u001b[0;34m:\u001b[0m\u001b[0;34m\u001b[0m\u001b[0;34m\u001b[0m\u001b[0m\n",
      "\u001b[0m\u001b[0;32m--> 964 \u001b[0;31m            \u001b[0;32mraise\u001b[0m \u001b[0mValueError\u001b[0m\u001b[0;34m(\u001b[0m\u001b[0;34m\"You must pass a dictionary list or monomial.\"\u001b[0m\u001b[0;34m)\u001b[0m\u001b[0;34m\u001b[0m\u001b[0;34m\u001b[0m\u001b[0m\n",
      "\u001b[0m\u001b[0;32m    965 \u001b[0;31m        \u001b[0;32mreturn\u001b[0m \u001b[0mself\u001b[0m\u001b[0;34m.\u001b[0m\u001b[0mparent\u001b[0m\u001b[0;34m(\u001b[0m\u001b[0;34m)\u001b[0m\u001b[0;34m(\u001b[0m\u001b[0mself\u001b[0m\u001b[0;34m.\u001b[0m\u001b[0melement\u001b[0m\u001b[0;34m(\u001b[0m\u001b[0;34m)\u001b[0m\u001b[0;34m.\u001b[0m\u001b[0mpolynomial_coefficient\u001b[0m\u001b[0;34m(\u001b[0m\u001b[0mlooking_for\u001b[0m\u001b[0;34m)\u001b[0m\u001b[0;34m)\u001b[0m\u001b[0;34m\u001b[0m\u001b[0;34m\u001b[0m\u001b[0m\n",
      "\u001b[0m\u001b[0;32m    966 \u001b[0;31m\u001b[0;34m\u001b[0m\u001b[0m\n",
      "\u001b[0m\n",
      "ipdb> up\n",
      "> \u001b[0;32m<ipython-input-51-2cce1d3b7de2>\u001b[0m(1)\u001b[0;36m<listcomp>\u001b[0;34m()\u001b[0m\n",
      "\u001b[0;32m----> 1 \u001b[0;31m\u001b[0mall_matrices\u001b[0m \u001b[0;34m=\u001b[0m \u001b[0;34m[\u001b[0m\u001b[0mMatrix\u001b[0m\u001b[0;34m(\u001b[0m\u001b[0mDPR\u001b[0m\u001b[0;34m.\u001b[0m\u001b[0mbase\u001b[0m\u001b[0;34m(\u001b[0m\u001b[0;34m)\u001b[0m\u001b[0;34m.\u001b[0m\u001b[0mwrapped\u001b[0m\u001b[0;34m,\u001b[0m \u001b[0;34m[\u001b[0m\u001b[0;34m[\u001b[0m\u001b[0mel\u001b[0m\u001b[0;34m.\u001b[0m\u001b[0mpolynomial\u001b[0m\u001b[0;34m(\u001b[0m\u001b[0;34m)\u001b[0m\u001b[0;34m.\u001b[0m\u001b[0mcoefficient\u001b[0m\u001b[0;34m(\u001b[0m\u001b[0mcurrent\u001b[0m\u001b[0;34m[\u001b[0m\u001b[0mi\u001b[0m\u001b[0;34m]\u001b[0m\u001b[0;34m)\u001b[0m \u001b[0;32mfor\u001b[0m \u001b[0mel\u001b[0m \u001b[0;32min\u001b[0m \u001b[0mA\u001b[0m\u001b[0;34m[\u001b[0m\u001b[0mi\u001b[0m\u001b[0;34m]\u001b[0m\u001b[0;34m]\u001b[0m \u001b[0;32mfor\u001b[0m \u001b[0mi\u001b[0m \u001b[0;32min\u001b[0m \u001b[0mrange\u001b[0m\u001b[0;34m(\u001b[0m\u001b[0mA\u001b[0m\u001b[0;34m.\u001b[0m\u001b[0mnrows\u001b[0m\u001b[0;34m(\u001b[0m\u001b[0;34m)\u001b[0m\u001b[0;34m)\u001b[0m\u001b[0;34m]\u001b[0m\u001b[0;34m)\u001b[0m \u001b[0;32mfor\u001b[0m \u001b[0mcurrent\u001b[0m \u001b[0;32min\u001b[0m \u001b[0mcp\u001b[0m\u001b[0;34m]\u001b[0m\u001b[0;34m\u001b[0m\u001b[0;34m\u001b[0m\u001b[0m\n",
      "\u001b[0m\n",
      "ipdb> pritn(current)\n",
      "*** NameError: name 'pritn' is not defined\n",
      "ipdb> print(current)\n",
      "(x1_2*x1_0, x1_2*x1_0, x1_2*x1_0, x1_2*x1_0, x1_2*x1_0, x1_2*x1_0, x1_2*x1_0, x1_2*x1_0, x1_2^2*x1_1, x1_2^2*x1_1, x1_2^2*x1_1, x1_2^2*x1_1, x1_2^2*x1_1)\n",
      "ipdb> exit\n"
     ]
    }
   ],
   "source": [
    "%debug"
   ]
  },
  {
   "cell_type": "code",
   "execution_count": null,
   "metadata": {},
   "outputs": [],
   "source": []
  }
 ],
 "metadata": {
  "kernelspec": {
   "display_name": "SageMath 9.3",
   "language": "sage",
   "name": "sagemath"
  },
  "language_info": {
   "codemirror_mode": {
    "name": "ipython",
    "version": 3
   },
   "file_extension": ".py",
   "mimetype": "text/x-python",
   "name": "python",
   "nbconvert_exporter": "python",
   "pygments_lexer": "ipython3",
   "version": "3.9.2"
  }
 },
 "nbformat": 4,
 "nbformat_minor": 4
}
