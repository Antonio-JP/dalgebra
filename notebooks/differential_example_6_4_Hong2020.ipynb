{
 "cells": [
  {
   "cell_type": "markdown",
   "metadata": {},
   "source": [
    "# A differential example from Hong et al 2020\n",
    "\n",
    "Let us consider the following differential system with rational dynamics (see example 6.4 in [Hong et al](https://arxiv.org/abs/1801.08112)):\n",
    "\n",
    "$$\\left\\{\\begin{array}{ll}\n",
    "    \\dot x_1 & = a_1(x_2-x_1) - \\frac{k_aV_mx_1}{k_ck_a + k_cx_3 + k_ax_1}\\\\\n",
    "    \\dot x_2 & = a_2(x_1-x_2)\\\\\n",
    "    \\dot x_3 & = b_1(x_4 - x_3) - \\frac{k_cV_mx_3}{k_ck_a + k_cx_3 + k_ax_1}\\\\\n",
    "    \\dot x_4 & = b_2(x_3-x_4)\n",
    "\\end{array}\\right.$$\n",
    "\n",
    "This is a model arising from pharmacokinetics (see [Demignot et al](https://pubmed.ncbi.nlm.nih.gov/2855567/)) and the only output in the system is the fucntion $y = x_1$. Let us transform this problem so we can use `dalgebra` to solve the identifiability problem."
   ]
  },
  {
   "cell_type": "code",
   "execution_count": 1,
   "metadata": {},
   "outputs": [],
   "source": [
    "%display latex\n",
    "from dalgebra import *\n",
    "\n",
    "## we add some lines to do some time control on executions\n",
    "import signal\n",
    "from contextlib import contextmanager\n",
    "\n",
    "\n",
    "@contextmanager\n",
    "def timeout(time):\n",
    "    # Register a function to raise a TimeoutError on the signal.\n",
    "    signal.signal(signal.SIGALRM, raise_timeout)\n",
    "    # Schedule the signal to be sent after ``time``.\n",
    "    signal.alarm(time)\n",
    "\n",
    "    try:\n",
    "        yield\n",
    "    except TimeoutError:\n",
    "        print(f\"Timeout of {time} seconds expired for execution\")\n",
    "    finally:\n",
    "        # Unregister the signal so it won't be triggered\n",
    "        # if the timeout is not reached.\n",
    "        signal.signal(signal.SIGALRM, signal.SIG_IGN)\n",
    "        \n",
    "def raise_timeout(signum, frame):\n",
    "    raise TimeoutError"
   ]
  },
  {
   "cell_type": "markdown",
   "metadata": {},
   "source": [
    "The system has 4 state variables $x_1(t), x_2(t), x_3(t)$ and $x_4(t)$ and the differential system can be written using the parameters $k_a, k_c, V_m, a_1, a_2, b_1$ and $b_2$. We need to create these variables and set the differential ring such that everything is a constant:"
   ]
  },
  {
   "cell_type": "code",
   "execution_count": 2,
   "metadata": {},
   "outputs": [
    {
     "name": "stdout",
     "output_type": "stream",
     "text": [
      "All are constants ->  True\n"
     ]
    },
    {
     "data": {
      "text/html": [
       "<html><script type=\"math/tex; mode=display\">\\newcommand{\\Bold}[1]{\\mathbf{#1}}\\left( \\Bold{Q}[a_{1}, a_{2}, b_{1}, b_{2}, k_{a}, k_{c}, V_{m}] , \\begin{array}{rcl}a_{1} \\mapsto 0\\\\a_{2} \\mapsto 0\\\\b_{1} \\mapsto 0\\\\b_{2} \\mapsto 0\\\\k_{a} \\mapsto 0\\\\k_{c} \\mapsto 0\\\\V_{m} \\mapsto 0\\end{array} \\right)</script></html>"
      ],
      "text/latex": [
       "$$\\newcommand{\\Bold}[1]{\\mathbf{#1}}\\left( \\Bold{Q}[a_{1}, a_{2}, b_{1}, b_{2}, k_{a}, k_{c}, V_{m}] , \\begin{array}{rcl}a_{1} \\mapsto 0\\\\a_{2} \\mapsto 0\\\\b_{1} \\mapsto 0\\\\b_{2} \\mapsto 0\\\\k_{a} \\mapsto 0\\\\k_{c} \\mapsto 0\\\\V_{m} \\mapsto 0\\end{array} \\right)$$"
      ],
      "text/plain": [
       "Differential Ring [Multivariate Polynomial Ring in a_1, a_2, b_1, b_2, k_a, k_c, V_m over Rational Field] with derivation [Map from callable <lambda>]"
      ]
     },
     "execution_count": 2,
     "metadata": {},
     "output_type": "execute_result"
    }
   ],
   "source": [
    "R.<a_1,a_2,b_1,b_2,k_a,k_c,V_m> = QQ[]\n",
    "DR = DifferentialRing(R)\n",
    "## We update the variables\n",
    "a_1,a_2,b_1,b_2,k_a,k_c,V_m = DR.gens()\n",
    "## We check that all these are constants\n",
    "print(\"All are constants -> \", all(el.derivative() == 0 for el in DR.gens()))\n",
    "\n",
    "DR"
   ]
  },
  {
   "cell_type": "markdown",
   "metadata": {},
   "source": [
    "In order to build the system, we need to create the four differential variables $x_1(t), x_2(t), x_3(t)$ and $x_4(t)$. In the code, these will be represented by $\\texttt{x1}$, $\\texttt{x2}$, $\\texttt{x3}$ and $\\texttt{x4}$ such that $\\texttt{xi[k]} = x_i^{(k)}(t)$. We do that with the class `DifferentialPolynomialRing`:"
   ]
  },
  {
   "cell_type": "code",
   "execution_count": 3,
   "metadata": {},
   "outputs": [
    {
     "data": {
      "text/html": [
       "<html><script type=\"math/tex; mode=display\">\\newcommand{\\Bold}[1]{\\mathbf{#1}}\\left( \\Bold{Q}[a_{1}, a_{2}, b_{1}, b_{2}, k_{a}, k_{c}, V_{m}] , \\begin{array}{rcl}a_{1} \\mapsto 0\\\\a_{2} \\mapsto 0\\\\b_{1} \\mapsto 0\\\\b_{2} \\mapsto 0\\\\k_{a} \\mapsto 0\\\\k_{c} \\mapsto 0\\\\V_{m} \\mapsto 0\\end{array} \\right) \\{ x1, x2, x3, x4 \\}</script></html>"
      ],
      "text/latex": [
       "$$\\newcommand{\\Bold}[1]{\\mathbf{#1}}\\left( \\Bold{Q}[a_{1}, a_{2}, b_{1}, b_{2}, k_{a}, k_{c}, V_{m}] , \\begin{array}{rcl}a_{1} \\mapsto 0\\\\a_{2} \\mapsto 0\\\\b_{1} \\mapsto 0\\\\b_{2} \\mapsto 0\\\\k_{a} \\mapsto 0\\\\k_{c} \\mapsto 0\\\\V_{m} \\mapsto 0\\end{array} \\right) \\{ x1, x2, x3, x4 \\}$$"
      ],
      "text/plain": [
       "Ring of differential polynomials in (x1, x2, x3, x4) over Differential Ring [Multivariate Polynomial Ring in a_1, a_2, b_1, b_2, k_a, k_c, V_m over Rational Field] with derivation [Map from callable <lambda>]"
      ]
     },
     "execution_count": 3,
     "metadata": {},
     "output_type": "execute_result"
    }
   ],
   "source": [
    "DPR.<x1,x2,x3,x4> = DifferentialPolynomialRing(DR)\n",
    "DPR"
   ]
  },
  {
   "cell_type": "code",
   "execution_count": 4,
   "metadata": {},
   "outputs": [
    {
     "data": {
      "text/html": [
       "<html><script type=\"math/tex; mode=display\">\\newcommand{\\Bold}[1]{\\mathbf{#1}}\\left(\\mathit{x1}_{\\ast}, \\mathit{x2}_{\\ast}, \\mathit{x3}_{\\ast}, \\mathit{x4}_{\\ast}\\right)</script></html>"
      ],
      "text/latex": [
       "$$\\newcommand{\\Bold}[1]{\\mathbf{#1}}\\left(\\mathit{x1}_{\\ast}, \\mathit{x2}_{\\ast}, \\mathit{x3}_{\\ast}, \\mathit{x4}_{\\ast}\\right)$$"
      ],
      "text/plain": [
       "(x1_*, x2_*, x3_*, x4_*)"
      ]
     },
     "execution_count": 4,
     "metadata": {},
     "output_type": "execute_result"
    }
   ],
   "source": [
    "x1,x2,x3,x4"
   ]
  },
  {
   "cell_type": "markdown",
   "metadata": {},
   "source": [
    "At this point we can create a differential system with the appropiate equations. Since $x_1(t)$ is our output variable that is the variable we do not need to eliminate, so the variables for teh system are the remaining $x_2(t), x_3(t)$ and $x_4(t)$:"
   ]
  },
  {
   "cell_type": "code",
   "execution_count": 5,
   "metadata": {},
   "outputs": [
    {
     "data": {
      "text/html": [
       "<html><script type=\"math/tex; mode=display\">\\newcommand{\\Bold}[1]{\\mathbf{#1}}\\text{System over } \\left( \\Bold{Q}[a_{1}, a_{2}, b_{1}, b_{2}, k_{a}, k_{c}, V_{m}] , \\begin{array}{rcl}a_{1} \\mapsto 0\\\\a_{2} \\mapsto 0\\\\b_{1} \\mapsto 0\\\\b_{2} \\mapsto 0\\\\k_{a} \\mapsto 0\\\\k_{c} \\mapsto 0\\\\V_{m} \\mapsto 0\\end{array} \\right) \\{ x1, x2, x3, x4 \\} \\text{ with variables } \\mathit{x2}_{\\ast}, \\mathit{x3}_{\\ast}, \\mathit{x4}_{\\ast} :\n",
       "\n",
       " \\left\\{\\begin{array}{ll} k_{a} \\mathit{x1}_{1} \\mathit{x1}_{0} + k_{c} \\mathit{x1}_{1} \\mathit{x3}_{0} + \\left(a_{1} k_{a}\\right) \\mathit{x1}_{0}^{2} + \\left(-a_{1} k_{a}\\right) \\mathit{x1}_{0} \\mathit{x2}_{0} + \\left(a_{1} k_{c}\\right) \\mathit{x1}_{0} \\mathit{x3}_{0} + \\left(-a_{1} k_{c}\\right) \\mathit{x2}_{0} \\mathit{x3}_{0} + \\left(k_{a} k_{c}\\right) \\mathit{x1}_{1} + \\left(a_{1} k_{a} k_{c} + k_{a} V_{m}\\right) \\mathit{x1}_{0} + \\left(-a_{1} k_{a} k_{c}\\right) \\mathit{x2}_{0} & = 0 \\\\\n",
       "\\left(-a_{2}\\right) \\mathit{x1}_{0} + 1 \\mathit{x2}_{1} + a_{2} \\mathit{x2}_{0} & = 0 \\\\\n",
       "k_{a} \\mathit{x1}_{0} \\mathit{x3}_{1} + \\left(b_{1} k_{a}\\right) \\mathit{x1}_{0} \\mathit{x3}_{0} + \\left(-b_{1} k_{a}\\right) \\mathit{x1}_{0} \\mathit{x4}_{0} + k_{c} \\mathit{x3}_{1} \\mathit{x3}_{0} + \\left(b_{1} k_{c}\\right) \\mathit{x3}_{0}^{2} + \\left(-b_{1} k_{c}\\right) \\mathit{x3}_{0} \\mathit{x4}_{0} + \\left(k_{a} k_{c}\\right) \\mathit{x3}_{1} + \\left(b_{1} k_{a} k_{c} + k_{c} V_{m}\\right) \\mathit{x3}_{0} + \\left(-b_{1} k_{a} k_{c}\\right) \\mathit{x4}_{0} & = 0 \\\\\n",
       "\\left(-b_{2}\\right) \\mathit{x3}_{0} + 1 \\mathit{x4}_{1} + b_{2} \\mathit{x4}_{0} & = 0 \\\\ \n",
       "\\end{array}\\right.</script></html>"
      ],
      "text/latex": [
       "$$\\newcommand{\\Bold}[1]{\\mathbf{#1}}\\text{System over } \\left( \\Bold{Q}[a_{1}, a_{2}, b_{1}, b_{2}, k_{a}, k_{c}, V_{m}] , \\begin{array}{rcl}a_{1} \\mapsto 0\\\\a_{2} \\mapsto 0\\\\b_{1} \\mapsto 0\\\\b_{2} \\mapsto 0\\\\k_{a} \\mapsto 0\\\\k_{c} \\mapsto 0\\\\V_{m} \\mapsto 0\\end{array} \\right) \\{ x1, x2, x3, x4 \\} \\text{ with variables } \\mathit{x2}_{\\ast}, \\mathit{x3}_{\\ast}, \\mathit{x4}_{\\ast} :\n",
       "\n",
       " \\left\\{\\begin{array}{ll} k_{a} \\mathit{x1}_{1} \\mathit{x1}_{0} + k_{c} \\mathit{x1}_{1} \\mathit{x3}_{0} + \\left(a_{1} k_{a}\\right) \\mathit{x1}_{0}^{2} + \\left(-a_{1} k_{a}\\right) \\mathit{x1}_{0} \\mathit{x2}_{0} + \\left(a_{1} k_{c}\\right) \\mathit{x1}_{0} \\mathit{x3}_{0} + \\left(-a_{1} k_{c}\\right) \\mathit{x2}_{0} \\mathit{x3}_{0} + \\left(k_{a} k_{c}\\right) \\mathit{x1}_{1} + \\left(a_{1} k_{a} k_{c} + k_{a} V_{m}\\right) \\mathit{x1}_{0} + \\left(-a_{1} k_{a} k_{c}\\right) \\mathit{x2}_{0} & = 0 \\\\\n",
       "\\left(-a_{2}\\right) \\mathit{x1}_{0} + 1 \\mathit{x2}_{1} + a_{2} \\mathit{x2}_{0} & = 0 \\\\\n",
       "k_{a} \\mathit{x1}_{0} \\mathit{x3}_{1} + \\left(b_{1} k_{a}\\right) \\mathit{x1}_{0} \\mathit{x3}_{0} + \\left(-b_{1} k_{a}\\right) \\mathit{x1}_{0} \\mathit{x4}_{0} + k_{c} \\mathit{x3}_{1} \\mathit{x3}_{0} + \\left(b_{1} k_{c}\\right) \\mathit{x3}_{0}^{2} + \\left(-b_{1} k_{c}\\right) \\mathit{x3}_{0} \\mathit{x4}_{0} + \\left(k_{a} k_{c}\\right) \\mathit{x3}_{1} + \\left(b_{1} k_{a} k_{c} + k_{c} V_{m}\\right) \\mathit{x3}_{0} + \\left(-b_{1} k_{a} k_{c}\\right) \\mathit{x4}_{0} & = 0 \\\\\n",
       "\\left(-b_{2}\\right) \\mathit{x3}_{0} + 1 \\mathit{x4}_{1} + b_{2} \\mathit{x4}_{0} & = 0 \\\\ \n",
       "\\end{array}\\right.$$"
      ],
      "text/plain": [
       "System over [Ring of differential polynomials in (x1, x2, x3, x4) over Differential Ring [Multivariate Polynomial Ring in a_1, a_2, b_1, b_2, k_a, k_c, V_m over Rational Field] with derivation [Map from callable <lambda>]] with variables [(x2_*, x3_*, x4_*)]:\n",
       "{\n",
       "\tk_a*x1_1*x1_0 + k_c*x1_1*x3_0 + a_1*k_a*x1_0^2 + (-a_1*k_a)*x1_0*x2_0 + a_1*k_c*x1_0*x3_0 + (-a_1*k_c)*x2_0*x3_0 + k_a*k_c*x1_1 + (a_1*k_a*k_c + k_a*V_m)*x1_0 + (-a_1*k_a*k_c)*x2_0 == 0\n",
       "\t(-a_2)*x1_0 + x2_1 + a_2*x2_0 == 0\n",
       "\tk_a*x1_0*x3_1 + b_1*k_a*x1_0*x3_0 + (-b_1*k_a)*x1_0*x4_0 + k_c*x3_1*x3_0 + b_1*k_c*x3_0^2 + (-b_1*k_c)*x3_0*x4_0 + k_a*k_c*x3_1 + (b_1*k_a*k_c + k_c*V_m)*x3_0 + (-b_1*k_a*k_c)*x4_0 == 0\n",
       "\t(-b_2)*x3_0 + x4_1 + b_2*x4_0 == 0\n",
       "}"
      ]
     },
     "execution_count": 5,
     "metadata": {},
     "output_type": "execute_result"
    }
   ],
   "source": [
    "denom = k_c*k_a + k_c*x3[0] + k_a*x1[0]\n",
    "system = DifferentialSystem([\n",
    "    x1[1]*denom - a_1*(x2[0]-x1[0])*denom + k_a*V_m*x1[0],\n",
    "    x2[1] - a_2*(x1[0] - x2[0]),\n",
    "    x3[1]*denom - b_1*(x4[0]-x3[0])*denom + k_c*V_m*x3[0],\n",
    "    x4[1] - b_2*(x3[0]-x4[0])\n",
    "], DPR, [x2,x3,x4])\n",
    "system"
   ]
  },
  {
   "cell_type": "markdown",
   "metadata": {},
   "source": [
    "Let us try to execute blindly the differential resultant algorithm:"
   ]
  },
  {
   "cell_type": "code",
   "execution_count": 6,
   "metadata": {
    "scrolled": false
   },
   "outputs": [
    {
     "name": "stdout",
     "output_type": "stream",
     "text": [
      "Checking if there is any linear variable...\n",
      "No linear variable remain in the system. We proceed by univariate eliminations\n",
      "Several eliminations are needed --> we use recursion\n",
      "Picking the best variable to start with...\n",
      "Picked differential variable x2_*\n",
      "Picked the pivot k_a*x1_0*x3_1 + b_1*k_a*x1_0*x3_0 + (-b_1*k_a)*x1_0*x4_0 + k_c*x3_1*x3_0 + b_1*k_c*x3_0^2 + (-b_1*k_c)*x3_0*x4_0 + k_a*k_c*x3_1 + (b_1*k_a*k_c + k_c*V_m)*x3_0 + (-b_1*k_a*k_c)*x4_0 for differential elimination\n",
      "Computing the elimination for all pair of equations...\n",
      "The system is linear: we use Macaulay\n",
      "Getting the appropriate extension for having a SP2 system...\n",
      "Trying the extension (0, 0)\n",
      "Trying the extension (1, 0)\n"
     ]
    },
    {
     "ename": "IndexError",
     "evalue": "tuple index out of range",
     "output_type": "error",
     "traceback": [
      "\u001b[0;31m---------------------------------------------------------------------------\u001b[0m",
      "\u001b[0;31mIndexError\u001b[0m                                Traceback (most recent call last)",
      "\u001b[0;32m<ipython-input-6-cd3c07fafc69>\u001b[0m in \u001b[0;36m<module>\u001b[0;34m\u001b[0m\n\u001b[1;32m      1\u001b[0m \u001b[0;32mwith\u001b[0m \u001b[0mtimeout\u001b[0m\u001b[0;34m(\u001b[0m\u001b[0mInteger\u001b[0m\u001b[0;34m(\u001b[0m\u001b[0;36m60\u001b[0m\u001b[0;34m)\u001b[0m\u001b[0;34m)\u001b[0m\u001b[0;34m:\u001b[0m\u001b[0;34m\u001b[0m\u001b[0;34m\u001b[0m\u001b[0m\n\u001b[0;32m----> 2\u001b[0;31m     \u001b[0mres\u001b[0m \u001b[0;34m=\u001b[0m \u001b[0msystem\u001b[0m\u001b[0;34m.\u001b[0m\u001b[0mdiff_resultant\u001b[0m\u001b[0;34m(\u001b[0m\u001b[0malg_res\u001b[0m\u001b[0;34m=\u001b[0m\u001b[0;34m\"iterative\"\u001b[0m\u001b[0;34m,\u001b[0m \u001b[0mverbose\u001b[0m\u001b[0;34m=\u001b[0m\u001b[0;32mTrue\u001b[0m\u001b[0;34m)\u001b[0m\u001b[0;34m\u001b[0m\u001b[0;34m\u001b[0m\u001b[0m\n\u001b[0m",
      "\u001b[0;32m~/sage/local/lib/python3.9/site-packages/dalgebra/logging/logging.py\u001b[0m in \u001b[0;36mwrap\u001b[0;34m(verbose, *args, **kwds)\u001b[0m\n\u001b[1;32m     41\u001b[0m                     \u001b[0mlogger\u001b[0m\u001b[0;34m.\u001b[0m\u001b[0msetLevel\u001b[0m\u001b[0;34m(\u001b[0m\u001b[0mlogging\u001b[0m\u001b[0;34m.\u001b[0m\u001b[0mINFO\u001b[0m\u001b[0;34m)\u001b[0m\u001b[0;34m\u001b[0m\u001b[0;34m\u001b[0m\u001b[0m\n\u001b[1;32m     42\u001b[0m \u001b[0;34m\u001b[0m\u001b[0m\n\u001b[0;32m---> 43\u001b[0;31m             \u001b[0mout\u001b[0m \u001b[0;34m=\u001b[0m \u001b[0mfunc\u001b[0m\u001b[0;34m(\u001b[0m\u001b[0;34m*\u001b[0m\u001b[0margs\u001b[0m\u001b[0;34m,\u001b[0m \u001b[0;34m**\u001b[0m\u001b[0mkwds\u001b[0m\u001b[0;34m)\u001b[0m\u001b[0;34m\u001b[0m\u001b[0;34m\u001b[0m\u001b[0m\n\u001b[0m\u001b[1;32m     44\u001b[0m \u001b[0;34m\u001b[0m\u001b[0m\n\u001b[1;32m     45\u001b[0m             \u001b[0;32mif\u001b[0m \u001b[0mverbose\u001b[0m\u001b[0;34m:\u001b[0m\u001b[0;34m\u001b[0m\u001b[0;34m\u001b[0m\u001b[0m\n",
      "\u001b[0;32m~/sage/local/lib/python3.9/site-packages/dalgebra/diff_polynomial/diff_polynomial_system.py\u001b[0m in \u001b[0;36mdiff_resultant\u001b[0;34m(self, bound_L, alg_res)\u001b[0m\n\u001b[1;32m    706\u001b[0m                 \u001b[0moutput\u001b[0m \u001b[0;34m=\u001b[0m \u001b[0mself\u001b[0m\u001b[0;34m.\u001b[0m\u001b[0m__macaulay\u001b[0m\u001b[0;34m(\u001b[0m\u001b[0mbound_L\u001b[0m\u001b[0;34m)\u001b[0m\u001b[0;34m\u001b[0m\u001b[0;34m\u001b[0m\u001b[0m\n\u001b[1;32m    707\u001b[0m             \u001b[0;32melif\u001b[0m\u001b[0;34m(\u001b[0m\u001b[0mto_use_alg\u001b[0m \u001b[0;34m==\u001b[0m \u001b[0;34m\"iterative\"\u001b[0m\u001b[0;34m)\u001b[0m\u001b[0;34m:\u001b[0m\u001b[0;34m\u001b[0m\u001b[0;34m\u001b[0m\u001b[0m\n\u001b[0;32m--> 708\u001b[0;31m                 \u001b[0moutput\u001b[0m \u001b[0;34m=\u001b[0m \u001b[0mself\u001b[0m\u001b[0;34m.\u001b[0m\u001b[0m__iterative\u001b[0m\u001b[0;34m(\u001b[0m\u001b[0mbound_L\u001b[0m\u001b[0;34m,\u001b[0m \u001b[0malg_res\u001b[0m\u001b[0;34m)\u001b[0m\u001b[0;34m\u001b[0m\u001b[0;34m\u001b[0m\u001b[0m\n\u001b[0m\u001b[1;32m    709\u001b[0m \u001b[0;34m\u001b[0m\u001b[0m\n\u001b[1;32m    710\u001b[0m             \u001b[0;32mif\u001b[0m \u001b[0moutput\u001b[0m \u001b[0;34m==\u001b[0m \u001b[0;36m0\u001b[0m\u001b[0;34m:\u001b[0m \u001b[0;31m# degenerate case\u001b[0m\u001b[0;34m\u001b[0m\u001b[0;34m\u001b[0m\u001b[0m\n",
      "\u001b[0;32m~/sage/local/lib/python3.9/site-packages/dalgebra/diff_polynomial/diff_polynomial_system.py\u001b[0m in \u001b[0;36m__iterative\u001b[0;34m(self, bound, alg_res)\u001b[0m\n\u001b[1;32m    815\u001b[0m             \u001b[0mlogger\u001b[0m\u001b[0;34m.\u001b[0m\u001b[0minfo\u001b[0m\u001b[0;34m(\u001b[0m\u001b[0;34mf\"Picked the pivot {pivot} for differential elimination\"\u001b[0m\u001b[0;34m)\u001b[0m\u001b[0;34m\u001b[0m\u001b[0;34m\u001b[0m\u001b[0m\n\u001b[1;32m    816\u001b[0m             \u001b[0mlogger\u001b[0m\u001b[0;34m.\u001b[0m\u001b[0minfo\u001b[0m\u001b[0;34m(\u001b[0m\u001b[0;34mf\"Computing the elimination for all pair of equations...\"\u001b[0m\u001b[0;34m)\u001b[0m\u001b[0;34m\u001b[0m\u001b[0;34m\u001b[0m\u001b[0m\n\u001b[0;32m--> 817\u001b[0;31m             new_equs = [\n\u001b[0m\u001b[1;32m    818\u001b[0m                 \u001b[0mself\u001b[0m\u001b[0;34m.\u001b[0m\u001b[0msubsystem\u001b[0m\u001b[0;34m(\u001b[0m\u001b[0;34m[\u001b[0m\u001b[0mequs_by_order\u001b[0m\u001b[0;34m[\u001b[0m\u001b[0;36m0\u001b[0m\u001b[0;34m]\u001b[0m\u001b[0;34m,\u001b[0m \u001b[0mi\u001b[0m\u001b[0;34m]\u001b[0m\u001b[0;34m,\u001b[0m \u001b[0mvariables\u001b[0m\u001b[0;34m=\u001b[0m\u001b[0;34m[\u001b[0m\u001b[0mv\u001b[0m\u001b[0;34m]\u001b[0m\u001b[0;34m)\u001b[0m\u001b[0;34m.\u001b[0m\u001b[0mdiff_resultant\u001b[0m\u001b[0;34m(\u001b[0m\u001b[0mbound\u001b[0m\u001b[0;34m)\u001b[0m\u001b[0;34m\u001b[0m\u001b[0;34m\u001b[0m\u001b[0m\n\u001b[1;32m    819\u001b[0m                 \u001b[0;32mfor\u001b[0m \u001b[0mi\u001b[0m \u001b[0;32min\u001b[0m \u001b[0mequs_by_order\u001b[0m\u001b[0;34m[\u001b[0m\u001b[0;36m1\u001b[0m\u001b[0;34m:\u001b[0m\u001b[0;34m]\u001b[0m\u001b[0;34m\u001b[0m\u001b[0;34m\u001b[0m\u001b[0m\n",
      "\u001b[0;32m~/sage/local/lib/python3.9/site-packages/dalgebra/diff_polynomial/diff_polynomial_system.py\u001b[0m in \u001b[0;36m<listcomp>\u001b[0;34m(.0)\u001b[0m\n\u001b[1;32m    816\u001b[0m             \u001b[0mlogger\u001b[0m\u001b[0;34m.\u001b[0m\u001b[0minfo\u001b[0m\u001b[0;34m(\u001b[0m\u001b[0;34mf\"Computing the elimination for all pair of equations...\"\u001b[0m\u001b[0;34m)\u001b[0m\u001b[0;34m\u001b[0m\u001b[0;34m\u001b[0m\u001b[0m\n\u001b[1;32m    817\u001b[0m             new_equs = [\n\u001b[0;32m--> 818\u001b[0;31m                 \u001b[0mself\u001b[0m\u001b[0;34m.\u001b[0m\u001b[0msubsystem\u001b[0m\u001b[0;34m(\u001b[0m\u001b[0;34m[\u001b[0m\u001b[0mequs_by_order\u001b[0m\u001b[0;34m[\u001b[0m\u001b[0;36m0\u001b[0m\u001b[0;34m]\u001b[0m\u001b[0;34m,\u001b[0m \u001b[0mi\u001b[0m\u001b[0;34m]\u001b[0m\u001b[0;34m,\u001b[0m \u001b[0mvariables\u001b[0m\u001b[0;34m=\u001b[0m\u001b[0;34m[\u001b[0m\u001b[0mv\u001b[0m\u001b[0;34m]\u001b[0m\u001b[0;34m)\u001b[0m\u001b[0;34m.\u001b[0m\u001b[0mdiff_resultant\u001b[0m\u001b[0;34m(\u001b[0m\u001b[0mbound\u001b[0m\u001b[0;34m)\u001b[0m\u001b[0;34m\u001b[0m\u001b[0;34m\u001b[0m\u001b[0m\n\u001b[0m\u001b[1;32m    819\u001b[0m                 \u001b[0;32mfor\u001b[0m \u001b[0mi\u001b[0m \u001b[0;32min\u001b[0m \u001b[0mequs_by_order\u001b[0m\u001b[0;34m[\u001b[0m\u001b[0;36m1\u001b[0m\u001b[0;34m:\u001b[0m\u001b[0;34m]\u001b[0m\u001b[0;34m\u001b[0m\u001b[0;34m\u001b[0m\u001b[0m\n\u001b[1;32m    820\u001b[0m             ]\n",
      "\u001b[0;32m~/sage/local/lib/python3.9/site-packages/dalgebra/logging/logging.py\u001b[0m in \u001b[0;36mwrap\u001b[0;34m(verbose, *args, **kwds)\u001b[0m\n\u001b[1;32m     41\u001b[0m                     \u001b[0mlogger\u001b[0m\u001b[0;34m.\u001b[0m\u001b[0msetLevel\u001b[0m\u001b[0;34m(\u001b[0m\u001b[0mlogging\u001b[0m\u001b[0;34m.\u001b[0m\u001b[0mINFO\u001b[0m\u001b[0;34m)\u001b[0m\u001b[0;34m\u001b[0m\u001b[0;34m\u001b[0m\u001b[0m\n\u001b[1;32m     42\u001b[0m \u001b[0;34m\u001b[0m\u001b[0m\n\u001b[0;32m---> 43\u001b[0;31m             \u001b[0mout\u001b[0m \u001b[0;34m=\u001b[0m \u001b[0mfunc\u001b[0m\u001b[0;34m(\u001b[0m\u001b[0;34m*\u001b[0m\u001b[0margs\u001b[0m\u001b[0;34m,\u001b[0m \u001b[0;34m**\u001b[0m\u001b[0mkwds\u001b[0m\u001b[0;34m)\u001b[0m\u001b[0;34m\u001b[0m\u001b[0;34m\u001b[0m\u001b[0m\n\u001b[0m\u001b[1;32m     44\u001b[0m \u001b[0;34m\u001b[0m\u001b[0m\n\u001b[1;32m     45\u001b[0m             \u001b[0;32mif\u001b[0m \u001b[0mverbose\u001b[0m\u001b[0;34m:\u001b[0m\u001b[0;34m\u001b[0m\u001b[0;34m\u001b[0m\u001b[0m\n",
      "\u001b[0;32m~/sage/local/lib/python3.9/site-packages/dalgebra/diff_polynomial/diff_polynomial_system.py\u001b[0m in \u001b[0;36mdiff_resultant\u001b[0;34m(self, bound_L, alg_res)\u001b[0m\n\u001b[1;32m    704\u001b[0m                 \u001b[0moutput\u001b[0m \u001b[0;34m=\u001b[0m \u001b[0mself\u001b[0m\u001b[0;34m.\u001b[0m\u001b[0m__dixon\u001b[0m\u001b[0;34m(\u001b[0m\u001b[0mbound_L\u001b[0m\u001b[0;34m)\u001b[0m\u001b[0;34m\u001b[0m\u001b[0;34m\u001b[0m\u001b[0m\n\u001b[1;32m    705\u001b[0m             \u001b[0;32melif\u001b[0m\u001b[0;34m(\u001b[0m\u001b[0mto_use_alg\u001b[0m \u001b[0;34m==\u001b[0m \u001b[0;34m\"macaulay\"\u001b[0m\u001b[0;34m)\u001b[0m\u001b[0;34m:\u001b[0m\u001b[0;34m\u001b[0m\u001b[0;34m\u001b[0m\u001b[0m\n\u001b[0;32m--> 706\u001b[0;31m                 \u001b[0moutput\u001b[0m \u001b[0;34m=\u001b[0m \u001b[0mself\u001b[0m\u001b[0;34m.\u001b[0m\u001b[0m__macaulay\u001b[0m\u001b[0;34m(\u001b[0m\u001b[0mbound_L\u001b[0m\u001b[0;34m)\u001b[0m\u001b[0;34m\u001b[0m\u001b[0;34m\u001b[0m\u001b[0m\n\u001b[0m\u001b[1;32m    707\u001b[0m             \u001b[0;32melif\u001b[0m\u001b[0;34m(\u001b[0m\u001b[0mto_use_alg\u001b[0m \u001b[0;34m==\u001b[0m \u001b[0;34m\"iterative\"\u001b[0m\u001b[0;34m)\u001b[0m\u001b[0;34m:\u001b[0m\u001b[0;34m\u001b[0m\u001b[0;34m\u001b[0m\u001b[0m\n\u001b[1;32m    708\u001b[0m                 \u001b[0moutput\u001b[0m \u001b[0;34m=\u001b[0m \u001b[0mself\u001b[0m\u001b[0;34m.\u001b[0m\u001b[0m__iterative\u001b[0m\u001b[0;34m(\u001b[0m\u001b[0mbound_L\u001b[0m\u001b[0;34m,\u001b[0m \u001b[0malg_res\u001b[0m\u001b[0;34m)\u001b[0m\u001b[0;34m\u001b[0m\u001b[0;34m\u001b[0m\u001b[0m\n",
      "\u001b[0;32m~/sage/local/lib/python3.9/site-packages/dalgebra/diff_polynomial/diff_polynomial_system.py\u001b[0m in \u001b[0;36m__macaulay\u001b[0;34m(self, bound)\u001b[0m\n\u001b[1;32m    765\u001b[0m         '''\n\u001b[1;32m    766\u001b[0m         \u001b[0mlogger\u001b[0m\u001b[0;34m.\u001b[0m\u001b[0minfo\u001b[0m\u001b[0;34m(\u001b[0m\u001b[0;34m\"Getting the appropriate extension for having a SP2 system...\"\u001b[0m\u001b[0;34m)\u001b[0m\u001b[0;34m\u001b[0m\u001b[0;34m\u001b[0m\u001b[0m\n\u001b[0;32m--> 767\u001b[0;31m         \u001b[0mL\u001b[0m \u001b[0;34m=\u001b[0m \u001b[0mself\u001b[0m\u001b[0;34m.\u001b[0m\u001b[0m__get_extension\u001b[0m\u001b[0;34m(\u001b[0m\u001b[0mbound\u001b[0m\u001b[0;34m)\u001b[0m\u001b[0;34m\u001b[0m\u001b[0;34m\u001b[0m\u001b[0m\n\u001b[0m\u001b[1;32m    768\u001b[0m \u001b[0;34m\u001b[0m\u001b[0m\n\u001b[1;32m    769\u001b[0m         \u001b[0mlogger\u001b[0m\u001b[0;34m.\u001b[0m\u001b[0minfo\u001b[0m\u001b[0;34m(\u001b[0m\u001b[0;34m\"Getting the homogenize version of the equations...\"\u001b[0m\u001b[0;34m)\u001b[0m\u001b[0;34m\u001b[0m\u001b[0;34m\u001b[0m\u001b[0m\n",
      "\u001b[0;32m~/sage/local/lib/python3.9/site-packages/dalgebra/diff_polynomial/diff_polynomial_system.py\u001b[0m in \u001b[0;36m__get_extension\u001b[0;34m(self, bound)\u001b[0m\n\u001b[1;32m    739\u001b[0m         \u001b[0;32mfor\u001b[0m \u001b[0mL\u001b[0m \u001b[0;32min\u001b[0m \u001b[0mgen_cartesian\u001b[0m\u001b[0;34m(\u001b[0m\u001b[0mself\u001b[0m\u001b[0;34m.\u001b[0m\u001b[0msize\u001b[0m\u001b[0;34m(\u001b[0m\u001b[0;34m)\u001b[0m\u001b[0;34m,\u001b[0m \u001b[0mbound\u001b[0m\u001b[0;34m)\u001b[0m\u001b[0;34m:\u001b[0m\u001b[0;34m\u001b[0m\u001b[0;34m\u001b[0m\u001b[0m\n\u001b[1;32m    740\u001b[0m             \u001b[0mlogger\u001b[0m\u001b[0;34m.\u001b[0m\u001b[0minfo\u001b[0m\u001b[0;34m(\u001b[0m\u001b[0;34mf\"Trying the extension {L}\"\u001b[0m\u001b[0;34m)\u001b[0m\u001b[0;34m\u001b[0m\u001b[0;34m\u001b[0m\u001b[0m\n\u001b[0;32m--> 741\u001b[0;31m             \u001b[0;32mif\u001b[0m\u001b[0;34m(\u001b[0m\u001b[0mself\u001b[0m\u001b[0;34m.\u001b[0m\u001b[0mextend_by_operation\u001b[0m\u001b[0;34m(\u001b[0m\u001b[0mL\u001b[0m\u001b[0;34m)\u001b[0m\u001b[0;34m.\u001b[0m\u001b[0mis_sp2\u001b[0m\u001b[0;34m(\u001b[0m\u001b[0;34m)\u001b[0m\u001b[0;34m)\u001b[0m\u001b[0;34m:\u001b[0m\u001b[0;34m\u001b[0m\u001b[0;34m\u001b[0m\u001b[0m\n\u001b[0m\u001b[1;32m    742\u001b[0m                 \u001b[0mlogger\u001b[0m\u001b[0;34m.\u001b[0m\u001b[0minfo\u001b[0m\u001b[0;34m(\u001b[0m\u001b[0;34mf\"Found the valid extension {L}\"\u001b[0m\u001b[0;34m)\u001b[0m\u001b[0;34m\u001b[0m\u001b[0;34m\u001b[0m\u001b[0m\n\u001b[1;32m    743\u001b[0m                 \u001b[0;32mbreak\u001b[0m\u001b[0;34m\u001b[0m\u001b[0;34m\u001b[0m\u001b[0m\n",
      "\u001b[0;32m~/sage/local/lib/python3.9/site-packages/dalgebra/diff_polynomial/diff_polynomial_system.py\u001b[0m in \u001b[0;36mis_sp2\u001b[0;34m(self)\u001b[0m\n\u001b[1;32m    661\u001b[0m                 \u001b[0;32mTrue\u001b[0m\u001b[0;34m\u001b[0m\u001b[0;34m\u001b[0m\u001b[0m\n\u001b[1;32m    662\u001b[0m         '''\n\u001b[0;32m--> 663\u001b[0;31m         \u001b[0;32mif\u001b[0m\u001b[0;34m(\u001b[0m\u001b[0mself\u001b[0m\u001b[0;34m.\u001b[0m\u001b[0mis_homogeneous\u001b[0m\u001b[0;34m(\u001b[0m\u001b[0;34m)\u001b[0m\u001b[0;34m)\u001b[0m\u001b[0;34m:\u001b[0m\u001b[0;34m\u001b[0m\u001b[0;34m\u001b[0m\u001b[0m\n\u001b[0m\u001b[1;32m    664\u001b[0m             \u001b[0;32mreturn\u001b[0m \u001b[0mlen\u001b[0m\u001b[0;34m(\u001b[0m\u001b[0mself\u001b[0m\u001b[0;34m.\u001b[0m\u001b[0malgebraic_variables\u001b[0m\u001b[0;34m(\u001b[0m\u001b[0;34m)\u001b[0m\u001b[0;34m)\u001b[0m \u001b[0;34m==\u001b[0m \u001b[0mself\u001b[0m\u001b[0;34m.\u001b[0m\u001b[0msize\u001b[0m\u001b[0;34m(\u001b[0m\u001b[0;34m)\u001b[0m\u001b[0;34m\u001b[0m\u001b[0;34m\u001b[0m\u001b[0m\n\u001b[1;32m    665\u001b[0m         \u001b[0;32mreturn\u001b[0m \u001b[0mlen\u001b[0m\u001b[0;34m(\u001b[0m\u001b[0mself\u001b[0m\u001b[0;34m.\u001b[0m\u001b[0malgebraic_variables\u001b[0m\u001b[0;34m(\u001b[0m\u001b[0;34m)\u001b[0m\u001b[0;34m)\u001b[0m \u001b[0;34m==\u001b[0m \u001b[0mself\u001b[0m\u001b[0;34m.\u001b[0m\u001b[0msize\u001b[0m\u001b[0;34m(\u001b[0m\u001b[0;34m)\u001b[0m \u001b[0;34m-\u001b[0m \u001b[0;36m1\u001b[0m\u001b[0;34m\u001b[0m\u001b[0;34m\u001b[0m\u001b[0m\n",
      "\u001b[0;32m~/sage/local/lib/python3.9/site-packages/sage/misc/cachefunc.pyx\u001b[0m in \u001b[0;36msage.misc.cachefunc.CachedMethodCallerNoArgs.__call__ (build/cythonized/sage/misc/cachefunc.c:12906)\u001b[0;34m()\u001b[0m\n\u001b[1;32m   2308\u001b[0m         \u001b[0;32mif\u001b[0m \u001b[0mself\u001b[0m\u001b[0;34m.\u001b[0m\u001b[0mcache\u001b[0m \u001b[0;32mis\u001b[0m \u001b[0;32mNone\u001b[0m\u001b[0;34m:\u001b[0m\u001b[0;34m\u001b[0m\u001b[0;34m\u001b[0m\u001b[0m\n\u001b[1;32m   2309\u001b[0m             \u001b[0mf\u001b[0m \u001b[0;34m=\u001b[0m \u001b[0mself\u001b[0m\u001b[0;34m.\u001b[0m\u001b[0mf\u001b[0m\u001b[0;34m\u001b[0m\u001b[0;34m\u001b[0m\u001b[0m\n\u001b[0;32m-> 2310\u001b[0;31m             \u001b[0mself\u001b[0m\u001b[0;34m.\u001b[0m\u001b[0mcache\u001b[0m \u001b[0;34m=\u001b[0m \u001b[0mf\u001b[0m\u001b[0;34m(\u001b[0m\u001b[0mself\u001b[0m\u001b[0;34m.\u001b[0m\u001b[0m_instance\u001b[0m\u001b[0;34m)\u001b[0m\u001b[0;34m\u001b[0m\u001b[0;34m\u001b[0m\u001b[0m\n\u001b[0m\u001b[1;32m   2311\u001b[0m         \u001b[0;32mreturn\u001b[0m \u001b[0mself\u001b[0m\u001b[0;34m.\u001b[0m\u001b[0mcache\u001b[0m\u001b[0;34m\u001b[0m\u001b[0;34m\u001b[0m\u001b[0m\n\u001b[1;32m   2312\u001b[0m \u001b[0;34m\u001b[0m\u001b[0m\n",
      "\u001b[0;32m~/sage/local/lib/python3.9/site-packages/dalgebra/diff_polynomial/diff_polynomial_system.py\u001b[0m in \u001b[0;36mis_homogeneous\u001b[0;34m(self)\u001b[0m\n\u001b[1;32m    586\u001b[0m             \u001b[0;32mfrom\u001b[0m \u001b[0mthe\u001b[0m \u001b[0mpolynomial\u001b[0m \u001b[0;32mclass\u001b[0m \u001b[0;32min\u001b[0m \u001b[0mSage\u001b[0m\u001b[0;34m.\u001b[0m\u001b[0;34m\u001b[0m\u001b[0;34m\u001b[0m\u001b[0m\n\u001b[1;32m    587\u001b[0m         '''\n\u001b[0;32m--> 588\u001b[0;31m         \u001b[0;32mreturn\u001b[0m \u001b[0mall\u001b[0m\u001b[0;34m(\u001b[0m\u001b[0mequ\u001b[0m\u001b[0;34m.\u001b[0m\u001b[0mis_homogeneous\u001b[0m\u001b[0;34m(\u001b[0m\u001b[0;34m)\u001b[0m \u001b[0;32mfor\u001b[0m \u001b[0mequ\u001b[0m \u001b[0;32min\u001b[0m \u001b[0mself\u001b[0m\u001b[0;34m.\u001b[0m\u001b[0malgebraic_equations\u001b[0m\u001b[0;34m(\u001b[0m\u001b[0;34m)\u001b[0m\u001b[0;34m)\u001b[0m\u001b[0;34m\u001b[0m\u001b[0;34m\u001b[0m\u001b[0m\n\u001b[0m\u001b[1;32m    589\u001b[0m \u001b[0;34m\u001b[0m\u001b[0m\n\u001b[1;32m    590\u001b[0m     \u001b[0;32mdef\u001b[0m \u001b[0mis_linear\u001b[0m\u001b[0;34m(\u001b[0m\u001b[0mself\u001b[0m\u001b[0;34m,\u001b[0m \u001b[0mvariables\u001b[0m\u001b[0;34m=\u001b[0m\u001b[0;32mNone\u001b[0m\u001b[0;34m)\u001b[0m\u001b[0;34m:\u001b[0m\u001b[0;34m\u001b[0m\u001b[0;34m\u001b[0m\u001b[0m\n",
      "\u001b[0;32m~/sage/local/lib/python3.9/site-packages/sage/misc/cachefunc.pyx\u001b[0m in \u001b[0;36msage.misc.cachefunc.CachedMethodCallerNoArgs.__call__ (build/cythonized/sage/misc/cachefunc.c:12906)\u001b[0;34m()\u001b[0m\n\u001b[1;32m   2308\u001b[0m         \u001b[0;32mif\u001b[0m \u001b[0mself\u001b[0m\u001b[0;34m.\u001b[0m\u001b[0mcache\u001b[0m \u001b[0;32mis\u001b[0m \u001b[0;32mNone\u001b[0m\u001b[0;34m:\u001b[0m\u001b[0;34m\u001b[0m\u001b[0;34m\u001b[0m\u001b[0m\n\u001b[1;32m   2309\u001b[0m             \u001b[0mf\u001b[0m \u001b[0;34m=\u001b[0m \u001b[0mself\u001b[0m\u001b[0;34m.\u001b[0m\u001b[0mf\u001b[0m\u001b[0;34m\u001b[0m\u001b[0;34m\u001b[0m\u001b[0m\n\u001b[0;32m-> 2310\u001b[0;31m             \u001b[0mself\u001b[0m\u001b[0;34m.\u001b[0m\u001b[0mcache\u001b[0m \u001b[0;34m=\u001b[0m \u001b[0mf\u001b[0m\u001b[0;34m(\u001b[0m\u001b[0mself\u001b[0m\u001b[0;34m.\u001b[0m\u001b[0m_instance\u001b[0m\u001b[0;34m)\u001b[0m\u001b[0;34m\u001b[0m\u001b[0;34m\u001b[0m\u001b[0m\n\u001b[0m\u001b[1;32m   2311\u001b[0m         \u001b[0;32mreturn\u001b[0m \u001b[0mself\u001b[0m\u001b[0;34m.\u001b[0m\u001b[0mcache\u001b[0m\u001b[0;34m\u001b[0m\u001b[0;34m\u001b[0m\u001b[0m\n\u001b[1;32m   2312\u001b[0m \u001b[0;34m\u001b[0m\u001b[0m\n",
      "\u001b[0;32m~/sage/local/lib/python3.9/site-packages/dalgebra/diff_polynomial/diff_polynomial_system.py\u001b[0m in \u001b[0;36malgebraic_equations\u001b[0;34m(self)\u001b[0m\n\u001b[1;32m    509\u001b[0m         \u001b[0mfinal_parent\u001b[0m \u001b[0;34m=\u001b[0m \u001b[0mPolynomialRing\u001b[0m\u001b[0;34m(\u001b[0m\u001b[0minner_ring\u001b[0m\u001b[0;34m,\u001b[0m \u001b[0mvariables\u001b[0m\u001b[0;34m)\u001b[0m\u001b[0;34m\u001b[0m\u001b[0;34m\u001b[0m\u001b[0m\n\u001b[1;32m    510\u001b[0m         \u001b[0;32mtry\u001b[0m\u001b[0;34m:\u001b[0m\u001b[0;34m\u001b[0m\u001b[0;34m\u001b[0m\u001b[0m\n\u001b[0;32m--> 511\u001b[0;31m             \u001b[0;32mreturn\u001b[0m \u001b[0mtuple\u001b[0m\u001b[0;34m(\u001b[0m\u001b[0;34m[\u001b[0m\u001b[0mfinal_parent\u001b[0m\u001b[0;34m(\u001b[0m\u001b[0mel\u001b[0m\u001b[0;34m(\u001b[0m\u001b[0;34m**\u001b[0m\u001b[0msubs_dict\u001b[0m\u001b[0;34m)\u001b[0m\u001b[0;34m)\u001b[0m \u001b[0;32mfor\u001b[0m \u001b[0mel\u001b[0m \u001b[0;32min\u001b[0m \u001b[0mequations\u001b[0m\u001b[0;34m]\u001b[0m\u001b[0;34m)\u001b[0m\u001b[0;34m\u001b[0m\u001b[0;34m\u001b[0m\u001b[0m\n\u001b[0m\u001b[1;32m    512\u001b[0m         \u001b[0;32mexcept\u001b[0m \u001b[0mTypeError\u001b[0m\u001b[0;34m:\u001b[0m\u001b[0;34m\u001b[0m\u001b[0;34m\u001b[0m\u001b[0m\n\u001b[1;32m    513\u001b[0m             \u001b[0;32mreturn\u001b[0m \u001b[0mtuple\u001b[0m\u001b[0;34m(\u001b[0m\u001b[0;34m[\u001b[0m\u001b[0mfinal_parent\u001b[0m\u001b[0;34m(\u001b[0m\u001b[0mstr\u001b[0m\u001b[0;34m(\u001b[0m\u001b[0mel\u001b[0m\u001b[0;34m)\u001b[0m\u001b[0;34m)\u001b[0m \u001b[0;32mfor\u001b[0m \u001b[0mel\u001b[0m \u001b[0;32min\u001b[0m \u001b[0mequations\u001b[0m\u001b[0;34m]\u001b[0m\u001b[0;34m)\u001b[0m\u001b[0;34m\u001b[0m\u001b[0;34m\u001b[0m\u001b[0m\n",
      "\u001b[0;32m~/sage/local/lib/python3.9/site-packages/dalgebra/diff_polynomial/diff_polynomial_system.py\u001b[0m in \u001b[0;36m<listcomp>\u001b[0;34m(.0)\u001b[0m\n\u001b[1;32m    509\u001b[0m         \u001b[0mfinal_parent\u001b[0m \u001b[0;34m=\u001b[0m \u001b[0mPolynomialRing\u001b[0m\u001b[0;34m(\u001b[0m\u001b[0minner_ring\u001b[0m\u001b[0;34m,\u001b[0m \u001b[0mvariables\u001b[0m\u001b[0;34m)\u001b[0m\u001b[0;34m\u001b[0m\u001b[0;34m\u001b[0m\u001b[0m\n\u001b[1;32m    510\u001b[0m         \u001b[0;32mtry\u001b[0m\u001b[0;34m:\u001b[0m\u001b[0;34m\u001b[0m\u001b[0;34m\u001b[0m\u001b[0m\n\u001b[0;32m--> 511\u001b[0;31m             \u001b[0;32mreturn\u001b[0m \u001b[0mtuple\u001b[0m\u001b[0;34m(\u001b[0m\u001b[0;34m[\u001b[0m\u001b[0mfinal_parent\u001b[0m\u001b[0;34m(\u001b[0m\u001b[0mel\u001b[0m\u001b[0;34m(\u001b[0m\u001b[0;34m**\u001b[0m\u001b[0msubs_dict\u001b[0m\u001b[0;34m)\u001b[0m\u001b[0;34m)\u001b[0m \u001b[0;32mfor\u001b[0m \u001b[0mel\u001b[0m \u001b[0;32min\u001b[0m \u001b[0mequations\u001b[0m\u001b[0;34m]\u001b[0m\u001b[0;34m)\u001b[0m\u001b[0;34m\u001b[0m\u001b[0;34m\u001b[0m\u001b[0m\n\u001b[0m\u001b[1;32m    512\u001b[0m         \u001b[0;32mexcept\u001b[0m \u001b[0mTypeError\u001b[0m\u001b[0;34m:\u001b[0m\u001b[0;34m\u001b[0m\u001b[0;34m\u001b[0m\u001b[0m\n\u001b[1;32m    513\u001b[0m             \u001b[0;32mreturn\u001b[0m \u001b[0mtuple\u001b[0m\u001b[0;34m(\u001b[0m\u001b[0;34m[\u001b[0m\u001b[0mfinal_parent\u001b[0m\u001b[0;34m(\u001b[0m\u001b[0mstr\u001b[0m\u001b[0;34m(\u001b[0m\u001b[0mel\u001b[0m\u001b[0;34m)\u001b[0m\u001b[0;34m)\u001b[0m \u001b[0;32mfor\u001b[0m \u001b[0mel\u001b[0m \u001b[0;32min\u001b[0m \u001b[0mequations\u001b[0m\u001b[0;34m]\u001b[0m\u001b[0;34m)\u001b[0m\u001b[0;34m\u001b[0m\u001b[0;34m\u001b[0m\u001b[0m\n",
      "\u001b[0;32m~/sage/local/lib/python3.9/site-packages/sage/rings/polynomial/multi_polynomial_ring.py\u001b[0m in \u001b[0;36m__call__\u001b[0;34m(self, x, check)\u001b[0m\n\u001b[1;32m    499\u001b[0m \u001b[0;34m\u001b[0m\u001b[0m\n\u001b[1;32m    500\u001b[0m         \u001b[0;32melif\u001b[0m \u001b[0mhasattr\u001b[0m\u001b[0;34m(\u001b[0m\u001b[0mx\u001b[0m\u001b[0;34m,\u001b[0m \u001b[0;34m'_polynomial_'\u001b[0m\u001b[0;34m)\u001b[0m\u001b[0;34m:\u001b[0m\u001b[0;34m\u001b[0m\u001b[0;34m\u001b[0m\u001b[0m\n\u001b[0;32m--> 501\u001b[0;31m             \u001b[0;32mreturn\u001b[0m \u001b[0mx\u001b[0m\u001b[0;34m.\u001b[0m\u001b[0m_polynomial_\u001b[0m\u001b[0;34m(\u001b[0m\u001b[0mself\u001b[0m\u001b[0;34m)\u001b[0m\u001b[0;34m\u001b[0m\u001b[0;34m\u001b[0m\u001b[0m\n\u001b[0m\u001b[1;32m    502\u001b[0m \u001b[0;34m\u001b[0m\u001b[0m\n\u001b[1;32m    503\u001b[0m         \u001b[0;32melif\u001b[0m \u001b[0misinstance\u001b[0m\u001b[0;34m(\u001b[0m\u001b[0mx\u001b[0m\u001b[0;34m,\u001b[0m \u001b[0mstr\u001b[0m\u001b[0;34m)\u001b[0m\u001b[0;34m:\u001b[0m\u001b[0;34m\u001b[0m\u001b[0;34m\u001b[0m\u001b[0m\n",
      "\u001b[0;32m~/sage/local/lib/python3.9/site-packages/sage/rings/polynomial/multi_polynomial.pyx\u001b[0m in \u001b[0;36msage.rings.polynomial.multi_polynomial.MPolynomial._polynomial_ (build/cythonized/sage/rings/polynomial/multi_polynomial.c:6209)\u001b[0;34m()\u001b[0m\n\u001b[1;32m    188\u001b[0m \u001b[0;34m\u001b[0m\u001b[0m\n\u001b[1;32m    189\u001b[0m     \u001b[0;32mdef\u001b[0m \u001b[0m_polynomial_\u001b[0m\u001b[0;34m(\u001b[0m\u001b[0mself\u001b[0m\u001b[0;34m,\u001b[0m \u001b[0mR\u001b[0m\u001b[0;34m)\u001b[0m\u001b[0;34m:\u001b[0m\u001b[0;34m\u001b[0m\u001b[0;34m\u001b[0m\u001b[0m\n\u001b[0;32m--> 190\u001b[0;31m         \u001b[0mvar\u001b[0m \u001b[0;34m=\u001b[0m \u001b[0mR\u001b[0m\u001b[0;34m.\u001b[0m\u001b[0mvariable_name\u001b[0m\u001b[0;34m(\u001b[0m\u001b[0;34m)\u001b[0m\u001b[0;34m\u001b[0m\u001b[0;34m\u001b[0m\u001b[0m\n\u001b[0m\u001b[1;32m    191\u001b[0m         \u001b[0;32mif\u001b[0m \u001b[0mvar\u001b[0m \u001b[0;32min\u001b[0m \u001b[0mself\u001b[0m\u001b[0;34m.\u001b[0m\u001b[0m_parent\u001b[0m\u001b[0;34m.\u001b[0m\u001b[0mvariable_names\u001b[0m\u001b[0;34m(\u001b[0m\u001b[0;34m)\u001b[0m\u001b[0;34m:\u001b[0m\u001b[0;34m\u001b[0m\u001b[0;34m\u001b[0m\u001b[0m\n\u001b[1;32m    192\u001b[0m             \u001b[0;32mreturn\u001b[0m \u001b[0mR\u001b[0m\u001b[0;34m(\u001b[0m\u001b[0mself\u001b[0m\u001b[0;34m.\u001b[0m\u001b[0mpolynomial\u001b[0m\u001b[0;34m(\u001b[0m\u001b[0mself\u001b[0m\u001b[0;34m.\u001b[0m\u001b[0m_parent\u001b[0m\u001b[0;34m(\u001b[0m\u001b[0mvar\u001b[0m\u001b[0;34m)\u001b[0m\u001b[0;34m)\u001b[0m\u001b[0;34m)\u001b[0m\u001b[0;34m\u001b[0m\u001b[0;34m\u001b[0m\u001b[0m\n",
      "\u001b[0;32m~/sage/local/lib/python3.9/site-packages/sage/structure/category_object.pyx\u001b[0m in \u001b[0;36msage.structure.category_object.CategoryObject.variable_name (build/cythonized/sage/structure/category_object.c:4470)\u001b[0;34m()\u001b[0m\n\u001b[1;32m    489\u001b[0m             \u001b[0;34m'x'\u001b[0m\u001b[0;34m\u001b[0m\u001b[0;34m\u001b[0m\u001b[0m\n\u001b[1;32m    490\u001b[0m         \"\"\"\n\u001b[0;32m--> 491\u001b[0;31m         \u001b[0;32mreturn\u001b[0m \u001b[0mself\u001b[0m\u001b[0;34m.\u001b[0m\u001b[0mvariable_names\u001b[0m\u001b[0;34m(\u001b[0m\u001b[0;34m)\u001b[0m\u001b[0;34m[\u001b[0m\u001b[0;36m0\u001b[0m\u001b[0;34m]\u001b[0m\u001b[0;34m\u001b[0m\u001b[0;34m\u001b[0m\u001b[0m\n\u001b[0m\u001b[1;32m    492\u001b[0m \u001b[0;34m\u001b[0m\u001b[0m\n\u001b[1;32m    493\u001b[0m     \u001b[0;32mdef\u001b[0m \u001b[0m__temporarily_change_names\u001b[0m\u001b[0;34m(\u001b[0m\u001b[0mself\u001b[0m\u001b[0;34m,\u001b[0m \u001b[0mnames\u001b[0m\u001b[0;34m,\u001b[0m \u001b[0mlatex_names\u001b[0m\u001b[0;34m)\u001b[0m\u001b[0;34m:\u001b[0m\u001b[0;34m\u001b[0m\u001b[0;34m\u001b[0m\u001b[0m\n",
      "\u001b[0;31mIndexError\u001b[0m: tuple index out of range"
     ]
    }
   ],
   "source": [
    "with timeout(60):\n",
    "    res = system.diff_resultant(alg_res=\"iterative\", verbose=True)"
   ]
  },
  {
   "cell_type": "code",
   "execution_count": null,
   "metadata": {},
   "outputs": [],
   "source": []
  }
 ],
 "metadata": {
  "kernelspec": {
   "display_name": "SageMath 9.3",
   "language": "sage",
   "name": "sagemath"
  },
  "language_info": {
   "codemirror_mode": {
    "name": "ipython",
    "version": 3
   },
   "file_extension": ".py",
   "mimetype": "text/x-python",
   "name": "python",
   "nbconvert_exporter": "python",
   "pygments_lexer": "ipython3",
   "version": "3.9.2"
  }
 },
 "nbformat": 4,
 "nbformat_minor": 4
}
