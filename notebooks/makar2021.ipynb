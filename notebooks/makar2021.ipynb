{
 "cells": [
  {
   "cell_type": "markdown",
   "id": "2fad99a4-a8f8-43a6-90b6-9a5d21a436f6",
   "metadata": {},
   "source": [
    "# **Some thoughs on Makar-Limanov paper**"
   ]
  },
  {
   "cell_type": "markdown",
   "id": "cac967dd-0061-49ab-bd91-84d1dd8c9975",
   "metadata": {},
   "source": [
    "## Introduction"
   ]
  },
  {
   "cell_type": "markdown",
   "id": "bad9713c-404f-4a79-9bb3-c61411cd3155",
   "metadata": {},
   "source": [
    "The paper by Makar-Limanov of 2021 studies some operators in the first Weil algebra that have a non-trivial centralizer. \n",
    "\n",
    "Let $K$ be an algebraically closed field of characteristic zero and let $A_1$ be its first Weyl-algebra, i.e., the ring of differential operators $K[x][\\partial]$ where $\\partial x = 1 + x \\partial$, which is the same as considering the linear differential operators over the differential ring $(K[x],\\partial)$ where $\\partial(K) = 0$ and $\\partial(x) = 1$.\n",
    "\n",
    "For an element $L \\in A_1$, we define $C(L) = \\{P \\in A_1\\ :\\ [L,P] = LP - PL = 0\\}$.\n",
    "\n",
    "Finally, for a set $S \\subset A_1$, we define the *rank* of $S$ as the greatest common divisor of the orders of the elements in $S$.\n",
    "\n",
    "In his paper, Makar-Limanov proved the following theorem:\n",
    "\n",
    "**Theorem.** Is the centralizer $C(L)$ of an element $L \\in A_1 \\setminus K$ has rank 1, then $C(L)$ can be embedded into a polynomial ring $K[z]$."
   ]
  },
  {
   "cell_type": "markdown",
   "id": "d4df3875-514d-420e-9118-05d1b81fa983",
   "metadata": {},
   "source": [
    "During this paper, the author explores the possible existence of a non-trivial element in the centralizer by exploring known results on the *skew field* of fractions $D_1$. This field is the ring of differential operators over $K(x)$. "
   ]
  },
  {
   "cell_type": "markdown",
   "id": "eff1a63b-cb25-4706-936b-1c978a67689c",
   "metadata": {},
   "source": [
    "### Some thoughts about the centralizer"
   ]
  },
  {
   "cell_type": "markdown",
   "id": "eff947d0-e36e-4458-97ed-3827424cd3aa",
   "metadata": {},
   "source": [
    "Following the discussion with Sonia, there is something interesting to think about with respect on how the centralizer of a differential operator behaves under certain operations. Let $(K,\\partial)$ be a differential field with field of constants $C$, and consider $K[\\partial]$ its ring of linear differential operators where $\\partial \\alpha = \\alpha' + \\alpha\\partial$."
   ]
  },
  {
   "cell_type": "markdown",
   "id": "ed7dc788-1dc2-48ef-97ad-a34dafea5e9c",
   "metadata": {},
   "source": [
    "**Lemma** Let $A \\subset K[\\partial]$ be a commutivative subalgebra (i.e., for any $P,Q \\in A$, $[P,Q] = 0$). If there is $p \\in A \\cap K$ with $p' \\neq 0$ then $A = K$.\n",
    "\n",
    "*Proof.* Let $p \\in A \\cap K$ such that $p' \\neq 0$. Let $L = u_0\\partial^n + \\ldots u_n = \\sum_{i=0}^n u_{n-i}\\partial^i$ be a differential operator in $A$ (with $u_0 \\neq 0$). Then we have\n",
    "$$[p,L] = [p,u_0\\partial^n] + [p,L-u_0\\partial^n].$$\n",
    "The first term can be written as follows:\n",
    "$$[p, u_0\\partial^n] = pu_0\\partial^n - \\sum_{i=0}^n \\binom{n}{i}u_0p^{(n-i)}\\partial^{i} = -\\sum_{i=0}^{n-1}\\binom{n}{i}u_0p^{(n-i)}\\partial^{i},$$\n",
    "and the second summand with an expression of order at most $n-2$. Hence, we have that\n",
    "$$[\\partial^{n-1}][p,L] = [\\partial^{n-1}][p, u_0\\partial^n] = nu_0p' = 0.$$\n",
    "This means that either $n = 0$, $u_0 = 0$ or $p' = 0$. However, we know that $u_0 \\neq 0$ and that $p' \\neq 0$. Hence we can conclude that $n = 0$, i.e., $L \\in A\\cap K$.\n",
    "\n",
    "On the other hand, for any $q \\in K$ we have $[p,q] = pq - qp = 0$, so $A = K$."
   ]
  },
  {
   "cell_type": "markdown",
   "id": "94206ddc-5c93-4c44-bc51-32529e471c23",
   "metadata": {},
   "source": [
    "**Definition.** Let $A \\subset K[\\partial]$ be a commutative subalgebra. We will call *order* of $A$ to the minimal order of the elements of $A$.\n",
    "\n",
    "Hence, using the previous Lemma, we have that if the order of $A$ is non-zero, then $A\\cap K = C$. This provide a bit of structure on the algebra $A$. We can even go a bit further."
   ]
  },
  {
   "cell_type": "markdown",
   "id": "9147edff-d925-4de9-8969-137423e82399",
   "metadata": {},
   "source": [
    "## Data from paper"
   ]
  },
  {
   "cell_type": "markdown",
   "id": "7bc04d97-cbff-4df6-a77d-b6715f92bace",
   "metadata": {},
   "source": [
    "### Example from Section 6"
   ]
  },
  {
   "cell_type": "code",
   "execution_count": 1,
   "id": "0c6cc872-be37-490a-ac0f-c6a8c17add53",
   "metadata": {},
   "outputs": [],
   "source": [
    "import sys\n",
    "\n",
    "if \"..\" not in sys.path:\n",
    "    sys.path.insert(0, \"..\") # dalgebra is here\n",
    "\n",
    "## Creating the set up for the example\n",
    "from dalgebra import *\n",
    "B = DifferentialRing(QQ[x], [1])\n",
    "R.<D> = DifferentialPolynomialRing(B.fraction_field())\n",
    "x = R.base().gens()[0]\n",
    "\n",
    "A = (x*(2+x)*D[1]).sym_power(2) - 2*(x*(2+x)+1/3)*D[0]"
   ]
  },
  {
   "cell_type": "markdown",
   "id": "10428ac9-f5c3-4123-9460-6d34f4c4aacd",
   "metadata": {},
   "source": [
    "We can see that $A$ is an operator in the first Weyl algebra that is not in normal form. We can compute an operator $B$ in normal form such that $A = \\varphi(B)$ for a ring automorphism $\\varphi$:"
   ]
  },
  {
   "cell_type": "code",
   "execution_count": 2,
   "id": "70523333-6d83-4364-b09d-72ca4e2c3f1b",
   "metadata": {},
   "outputs": [
    {
     "data": {
      "text/plain": [
       "-(2*x^2 + 4*x + 2/3)*D_0 + D_2"
      ]
     },
     "execution_count": 2,
     "metadata": {},
     "output_type": "execute_result"
    }
   ],
   "source": [
    "B = A.normal_form(D); B"
   ]
  },
  {
   "cell_type": "code",
   "execution_count": 4,
   "id": "f28aed60-14ff-4ad0-a225-cc9c1daf3138",
   "metadata": {},
   "outputs": [],
   "source": [
    "phi = A.inverted_normalizing_automorphism(D)"
   ]
  },
  {
   "cell_type": "code",
   "execution_count": 6,
   "id": "5cff2213-01b7-4ea6-bfbb-2edbe38d4ac7",
   "metadata": {},
   "outputs": [
    {
     "data": {
      "text/plain": [
       "Endomorphism of Ring of operator polynomials in (D) over Fraction Field of Differential Ring [[Univariate Polynomial Ring in x over Rational Field], (d/dx,)] as linear operators on D_* with\n",
       "\tD_1 --> (x^2 + 2*x)*D_1"
      ]
     },
     "execution_count": 6,
     "metadata": {},
     "output_type": "execute_result"
    }
   ],
   "source": [
    "phi"
   ]
  },
  {
   "cell_type": "markdown",
   "id": "2b8b5bff-a49d-4092-bb69-80ac935d86cf",
   "metadata": {},
   "source": [
    "To look for a possible commutator for $A$, we are going to look for some commutator of $B$ when we consider the new commutator rule:\n",
    "$$D \\cdot f = f' D + (x^2 + 2x)f$$"
   ]
  },
  {
   "cell_type": "code",
   "execution_count": 12,
   "id": "7ba6628e-7829-4b44-a625-3665d6f16387",
   "metadata": {},
   "outputs": [],
   "source": [
    "RR = R.append_variables(\"q_2\", \"q_3\")\n",
    "D, q_2, q_3 = RR.gens()"
   ]
  },
  {
   "cell_type": "code",
   "execution_count": 11,
   "id": "dbe0d29e-c77a-4f4d-93d8-ed13d498202b",
   "metadata": {},
   "outputs": [
    {
     "data": {
      "text/plain": [
       "(4*x + 4)*D_0 + (2*x^3 + 6*x^2 + 4*x)*D_0*q_1 + (x^4 + 4*x^3 + 4*x^2)*D_0*q_2 - (6*x^2 + 12*x + 4)*D_1 + (2*x^4 + 8*x^3 + 8*x^2)*D_1*q_1 - (4*x^3 + 12*x^2 + 8*x)*D_2"
      ]
     },
     "execution_count": 11,
     "metadata": {},
     "output_type": "execute_result"
    }
   ],
   "source": [
    "RR(A).lie_bracket(D[1] + q[0]*D[0], D)"
   ]
  },
  {
   "cell_type": "markdown",
   "id": "741baa44-ee05-41bf-adce-840b55128eff",
   "metadata": {},
   "source": [
    "We can see that this Lie bracket has always a non-zero leading coefficient independently of the value of $q(x)$, so $\\mathcal{C}(B) = C[B]$ and then $\\mathcal{C}(A) = C[A]$."
   ]
  },
  {
   "cell_type": "code",
   "execution_count": 14,
   "id": "1717cfdd-654d-4316-938b-04a39ee8d554",
   "metadata": {},
   "outputs": [
    {
     "data": {
      "text/plain": [
       "Endomorphism of Ring of operator polynomials in (D) over Fraction Field of Differential Ring [[Univariate Polynomial Ring in x over Rational Field], (d/dx,)] as linear operators on D_* with\n",
       "\tD_1 --> (x^2 + 2*x)*D_1"
      ]
     },
     "execution_count": 14,
     "metadata": {},
     "output_type": "execute_result"
    }
   ],
   "source": [
    "A.inverted_normalizing_automorphism(R.gens()[0])"
   ]
  },
  {
   "cell_type": "code",
   "execution_count": null,
   "id": "c13a7cf0-f342-4f4f-a91c-850ee2f28356",
   "metadata": {},
   "outputs": [],
   "source": []
  }
 ],
 "metadata": {
  "kernelspec": {
   "display_name": "SageMath 10.4.rc1",
   "language": "sage",
   "name": "sagemath"
  },
  "language_info": {
   "codemirror_mode": {
    "name": "ipython",
    "version": 3
   },
   "file_extension": ".py",
   "mimetype": "text/x-python",
   "name": "python",
   "nbconvert_exporter": "python",
   "pygments_lexer": "ipython3",
   "version": "3.10.12"
  }
 },
 "nbformat": 4,
 "nbformat_minor": 5
}
