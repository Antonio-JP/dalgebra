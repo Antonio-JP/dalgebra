{
 "cells": [
  {
   "cell_type": "markdown",
   "id": "2fad99a4-a8f8-43a6-90b6-9a5d21a436f6",
   "metadata": {},
   "source": [
    "# **Some thoughs on Makar-Limanov paper**"
   ]
  },
  {
   "cell_type": "markdown",
   "id": "cac967dd-0061-49ab-bd91-84d1dd8c9975",
   "metadata": {},
   "source": [
    "## Introduction"
   ]
  },
  {
   "cell_type": "markdown",
   "id": "bad9713c-404f-4a79-9bb3-c61411cd3155",
   "metadata": {},
   "source": [
    "The paper by Makar-Limanov of 2021 studies some operators in the first Weil algebra that have a non-trivial centralizer. \n",
    "\n",
    "Let $K$ be an algebraically closed field of characteristic zero and let $A_1$ be its first Weyl-algebra, i.e., the ring of differential operators $K[x][\\partial]$ where $\\partial x = 1 + x \\partial$, which is the same as considering the linear differential operators over the differential ring $(K[x],\\partial)$ where $\\partial(K) = 0$ and $\\partial(x) = 1$.\n",
    "\n",
    "For an element $L \\in A_1$, we define $C(L) = \\{P \\in A_1\\ :\\ [L,P] = LP - PL = 0\\}$.\n",
    "\n",
    "Finally, for a set $S \\subset A_1$, we define the *rank* of $S$ as the greatest common divisor of the orders of the elements in $S$.\n",
    "\n",
    "In his paper, Makar-Limanov proved the following theorem:\n",
    "\n",
    "**Theorem.** Is the centralizer $C(L)$ of an element $L \\in A_1 \\setminus K$ has rank 1, then $C(L)$ can be embedded into a polynomial ring $K[z]$."
   ]
  },
  {
   "cell_type": "markdown",
   "id": "d4df3875-514d-420e-9118-05d1b81fa983",
   "metadata": {},
   "source": [
    "During this paper, the author explores the possible existence of a non-trivial element in the centralizer by exploring known results on the *skew field* of fractions $D_1$. This field is the ring of differential operators over $K(x)$. "
   ]
  },
  {
   "cell_type": "code",
   "execution_count": null,
   "id": "05871b39-2004-45ad-ac82-bb137fdab975",
   "metadata": {},
   "outputs": [],
   "source": []
  }
 ],
 "metadata": {
  "kernelspec": {
   "display_name": "SageMath 10.4.rc1",
   "language": "sage",
   "name": "sagemath"
  },
  "language_info": {
   "codemirror_mode": {
    "name": "ipython",
    "version": 3
   },
   "file_extension": ".py",
   "mimetype": "text/x-python",
   "name": "python",
   "nbconvert_exporter": "python",
   "pygments_lexer": "ipython3",
   "version": "3.10.12"
  }
 },
 "nbformat": 4,
 "nbformat_minor": 5
}
