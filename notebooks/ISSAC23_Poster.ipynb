{
 "cells": [
  {
   "cell_type": "code",
   "execution_count": 30,
   "id": "7abaf090-0f8a-4532-a8f5-4b1053f0ef74",
   "metadata": {},
   "outputs": [],
   "source": [
    "import sys\n",
    "sys.path.insert(0,\"..\") # salgebra is here\n",
    "\n",
    "from dalgebra import *\n",
    "%display latex"
   ]
  },
  {
   "cell_type": "code",
   "execution_count": 71,
   "id": "26056bb0-7867-4d99-a25a-2e8b26209569",
   "metadata": {},
   "outputs": [
    {
     "data": {
      "text/html": [
       "<html>\\(\\displaystyle \\left(\\left(\\mathit{Y0}_{\\ast}, \\mathit{Y1}_{\\ast}\\right), \\left(\\mathit{u0}_{\\ast}, \\mathit{u1}_{\\ast}\\right), z_{\\ast}\\right)\\)</html>"
      ],
      "text/latex": [
       "$\\displaystyle \\left(\\left(\\mathit{Y0}_{\\ast}, \\mathit{Y1}_{\\ast}\\right), \\left(\\mathit{u0}_{\\ast}, \\mathit{u1}_{\\ast}\\right), z_{\\ast}\\right)$"
      ],
      "text/plain": [
       "((Y0_*, Y1_*), (u0_*, u1_*), z_*)"
      ]
     },
     "execution_count": 71,
     "metadata": {},
     "output_type": "execute_result"
    }
   ],
   "source": [
    "n = 3; m = 3\n",
    "R = DifferentialPolynomialRing(QQ, [f\"u{i}\" for i in range(n-1)] + [f\"Y{j}\" for j in range(m-1)] + [\"z\"])\n",
    "Y, u, z = R.gens()[:m-1], R.gens()[m-1:m+n-2], R.gens()[-1] ;\n",
    "Y,u,z"
   ]
  },
  {
   "cell_type": "code",
   "execution_count": 72,
   "id": "2414740f-8a2f-4c4e-989d-6124ed8845e4",
   "metadata": {},
   "outputs": [],
   "source": [
    "L = z[n] + sum(z[i]*u[i][0] for i in range(n-1))\n",
    "P = z[m] + sum(z[i]*Y[i][0] for i in range(m-1))"
   ]
  },
  {
   "cell_type": "code",
   "execution_count": 73,
   "id": "57c33dfa-e168-4489-94ec-4f0f3de097fa",
   "metadata": {},
   "outputs": [
    {
     "data": {
      "text/html": [
       "<html>\\(\\displaystyle 1 \\mathit{u0}_{0} z_{0} + 1 \\mathit{u1}_{0} z_{1} + 1 z_{3}\\)</html>"
      ],
      "text/latex": [
       "$\\displaystyle 1 \\mathit{u0}_{0} z_{0} + 1 \\mathit{u1}_{0} z_{1} + 1 z_{3}$"
      ],
      "text/plain": [
       "u0_0*z_0 + u1_0*z_1 + z_3"
      ]
     },
     "execution_count": 73,
     "metadata": {},
     "output_type": "execute_result"
    }
   ],
   "source": [
    "L"
   ]
  },
  {
   "cell_type": "code",
   "execution_count": 74,
   "id": "bbbfeafc-5a00-4ee7-9b7c-2d5dedfa6725",
   "metadata": {},
   "outputs": [
    {
     "data": {
      "text/html": [
       "<html>\\(\\displaystyle 1 \\mathit{Y0}_{0} z_{0} + 1 \\mathit{Y1}_{0} z_{1} + 1 z_{3}\\)</html>"
      ],
      "text/latex": [
       "$\\displaystyle 1 \\mathit{Y0}_{0} z_{0} + 1 \\mathit{Y1}_{0} z_{1} + 1 z_{3}$"
      ],
      "text/plain": [
       "Y0_0*z_0 + Y1_0*z_1 + z_3"
      ]
     },
     "execution_count": 74,
     "metadata": {},
     "output_type": "execute_result"
    }
   ],
   "source": [
    "P"
   ]
  },
  {
   "cell_type": "code",
   "execution_count": 75,
   "id": "796d42ad-661c-4f61-84c3-f16c4c5a207e",
   "metadata": {},
   "outputs": [
    {
     "data": {
      "text/html": [
       "<html>\\(\\displaystyle 1 \\mathit{Y0}_{1} \\mathit{u1}_{0} z_{0} + 1 \\mathit{Y1}_{1} \\mathit{u1}_{0} z_{1} - \\mathit{Y1}_{0} \\mathit{u0}_{1} z_{0} - \\mathit{Y1}_{0} \\mathit{u1}_{1} z_{1} + 1 \\mathit{Y0}_{3} z_{0} + 3 \\mathit{Y0}_{2} z_{1} + 3 \\mathit{Y0}_{1} z_{2} + 1 \\mathit{Y1}_{3} z_{1} + 3 \\mathit{Y1}_{2} z_{2} + 3 \\mathit{Y1}_{1} z_{3} - \\mathit{u0}_{3} z_{0} + \\left(-3\\right) \\mathit{u0}_{2} z_{1} + \\left(-3\\right) \\mathit{u0}_{1} z_{2} - \\mathit{u1}_{3} z_{1} + \\left(-3\\right) \\mathit{u1}_{2} z_{2} + \\left(-3\\right) \\mathit{u1}_{1} z_{3}\\)</html>"
      ],
      "text/latex": [
       "$\\displaystyle 1 \\mathit{Y0}_{1} \\mathit{u1}_{0} z_{0} + 1 \\mathit{Y1}_{1} \\mathit{u1}_{0} z_{1} - \\mathit{Y1}_{0} \\mathit{u0}_{1} z_{0} - \\mathit{Y1}_{0} \\mathit{u1}_{1} z_{1} + 1 \\mathit{Y0}_{3} z_{0} + 3 \\mathit{Y0}_{2} z_{1} + 3 \\mathit{Y0}_{1} z_{2} + 1 \\mathit{Y1}_{3} z_{1} + 3 \\mathit{Y1}_{2} z_{2} + 3 \\mathit{Y1}_{1} z_{3} - \\mathit{u0}_{3} z_{0} + \\left(-3\\right) \\mathit{u0}_{2} z_{1} + \\left(-3\\right) \\mathit{u0}_{1} z_{2} - \\mathit{u1}_{3} z_{1} + \\left(-3\\right) \\mathit{u1}_{2} z_{2} + \\left(-3\\right) \\mathit{u1}_{1} z_{3}$"
      ],
      "text/plain": [
       "Y0_1*u1_0*z_0 + Y1_1*u1_0*z_1 - Y1_0*u0_1*z_0 - Y1_0*u1_1*z_1 + Y0_3*z_0 + 3*Y0_2*z_1 + 3*Y0_1*z_2 + Y1_3*z_1 + 3*Y1_2*z_2 + 3*Y1_1*z_3 - u0_3*z_0 + (-3)*u0_2*z_1 + (-3)*u0_1*z_2 - u1_3*z_1 + (-3)*u1_2*z_2 + (-3)*u1_1*z_3"
      ]
     },
     "execution_count": 75,
     "metadata": {},
     "output_type": "execute_result"
    }
   ],
   "source": [
    "commutator = L(z=P) - P(z=L); commutator"
   ]
  },
  {
   "cell_type": "code",
   "execution_count": 76,
   "id": "7c649a2f-c782-4554-b068-d362f06da7db",
   "metadata": {},
   "outputs": [
    {
     "name": "stdout",
     "output_type": "stream",
     "text": [
      "0 ---> Y0_1*u1_0 - Y1_0*u0_1 + Y0_3 - u0_3\n",
      "1 ---> Y1_1*u1_0 - Y1_0*u1_1 + 3*Y0_2 + Y1_3 + (-3)*u0_2 - u1_3\n",
      "2 ---> 3*Y0_1 + 3*Y1_2 + (-3)*u0_1 + (-3)*u1_2\n",
      "3 ---> 3*Y1_1 + (-3)*u1_1\n"
     ]
    }
   ],
   "source": [
    "for i in range(commutator.order(z)+1):\n",
    "    print(f\"{i} ---> {commutator.coefficient(z[i])}\")"
   ]
  },
  {
   "cell_type": "code",
   "execution_count": 77,
   "id": "d2037b1e-8517-4170-ba7f-51626252c9ca",
   "metadata": {},
   "outputs": [
    {
     "data": {
      "text/html": [
       "<html>\\(\\displaystyle \\newcommand{\\Bold}[1]{\\mathbf{#1}}\\text{System over } \\left(\\Bold{Q}, 0\\right) \\{ Y0, Y1, u0, u1, z \\} \\text{ with variables } \\mathit{Y0}_{\\ast}, \\mathit{Y1}_{\\ast} :\n",
       "\n",
       " \\left\\{\\begin{array}{ll} 3 \\mathit{Y0}_{1} + 3 \\mathit{Y1}_{2} + \\left(-3\\right) \\mathit{u0}_{1} + \\left(-3\\right) \\mathit{u1}_{2} & = 0 \\\\\n",
       "3 \\mathit{Y1}_{1} + \\left(-3\\right) \\mathit{u1}_{1} & = 0 \\\\ \n",
       "\\end{array}\\right.\\)</html>"
      ],
      "text/latex": [
       "$\\displaystyle \\newcommand{\\Bold}[1]{\\mathbf{#1}}\\text{System over } \\left(\\Bold{Q}, 0\\right) \\{ Y0, Y1, u0, u1, z \\} \\text{ with variables } \\mathit{Y0}_{\\ast}, \\mathit{Y1}_{\\ast} :\n",
       "\n",
       " \\left\\{\\begin{array}{ll} 3 \\mathit{Y0}_{1} + 3 \\mathit{Y1}_{2} + \\left(-3\\right) \\mathit{u0}_{1} + \\left(-3\\right) \\mathit{u1}_{2} & = 0 \\\\\n",
       "3 \\mathit{Y1}_{1} + \\left(-3\\right) \\mathit{u1}_{1} & = 0 \\\\ \n",
       "\\end{array}\\right.$"
      ],
      "text/plain": [
       "System over [Ring of operator polynomials in (Y0, Y1, u0, u1, z) over Differential Ring [[Rational Field], (0,)]] with variables [(Y0_*, Y1_*)]:\n",
       "{\n",
       "\t3*Y0_1 + 3*Y1_2 + (-3)*u0_1 + (-3)*u1_2 == 0\n",
       "\t3*Y1_1 + (-3)*u1_1 == 0\n",
       "}"
      ]
     },
     "execution_count": 77,
     "metadata": {},
     "output_type": "execute_result"
    }
   ],
   "source": [
    "DifferentialSystem([commutator.coefficient(z[i]) for i in range(n-1, commutator.order(z)+1)], variables=Y)"
   ]
  },
  {
   "cell_type": "code",
   "execution_count": null,
   "id": "95a46a66-50dc-4f40-a3b5-86874fb41208",
   "metadata": {},
   "outputs": [],
   "source": [
    "y_0 = (2/3)*u_1 + c"
   ]
  },
  {
   "cell_type": "markdown",
   "id": "51e2b4d4-746b-4e40-b308-e375570086c3",
   "metadata": {},
   "source": [
    "$P_2 = c_2 + (2/3)u_1 + \\partial^2$\n",
    "\n",
    "$Y_0 + (u_1 + c)\\partial + \\partial^3 = (Y_0 + u_1\\partial + \\partial^3) + cP_1$"
   ]
  },
  {
   "cell_type": "code",
   "execution_count": null,
   "id": "080952cc-8ae5-4d35-9eda-561fee7b35c2",
   "metadata": {},
   "outputs": [],
   "source": []
  }
 ],
 "metadata": {
  "kernelspec": {
   "display_name": "SageMath 9.7",
   "language": "sage",
   "name": "sagemath"
  },
  "language_info": {
   "codemirror_mode": {
    "name": "ipython",
    "version": 3
   },
   "file_extension": ".py",
   "mimetype": "text/x-python",
   "name": "python",
   "nbconvert_exporter": "python",
   "pygments_lexer": "ipython3",
   "version": "3.10.5"
  }
 },
 "nbformat": 4,
 "nbformat_minor": 5
}
