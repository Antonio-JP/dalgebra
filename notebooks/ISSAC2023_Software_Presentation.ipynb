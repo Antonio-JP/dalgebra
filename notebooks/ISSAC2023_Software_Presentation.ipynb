{
 "cells": [
  {
   "cell_type": "markdown",
   "id": "acef1280-8853-42d4-895d-d0b4feb1fe81",
   "metadata": {},
   "source": [
    "# ISSAC 2023 Software Presentation of `dalgebra`"
   ]
  },
  {
   "cell_type": "markdown",
   "id": "d1abad14-0857-4776-b5eb-a011f6a5bc0c",
   "metadata": {},
   "source": [
    "In this notebook we explain in more detail the software `dalgebra` as it was during its presentation in the International Symposium on Symbolic and Algebraic Computation (ISSAC) 2023 hold in Tromsø (Norway) between July 24th to 27th.\n",
    "\n",
    "As a summary, `dalgebra` is a software for SageMath to represent and manipulate objects in the context of difference and differential algebra. In this context, we usually study rings $R$ where we have a set of associated operators $\\Delta = \\{\\sigma_1,\\ldots,\\sigma_n\\}$ that are additive endomorphisms, i.e., $\\sigma_i : R \\rightarrow R$ satisfies $\\sigma_i(r+s) = \\sigma_i(r)+\\sigma_i(s)$. We call the pair $(R, \\Delta)$ a **d-ring**.\n"
   ]
  },
  {
   "cell_type": "markdown",
   "id": "ee014fa3-fd4f-4b74-8ef9-ac9b6dd5fae3",
   "metadata": {
    "tags": []
   },
   "source": [
    "## 1. Installation and documentation\n",
    "\n",
    "The software `dalgebra` can be found in this repository. In particular, the version presented, the version 0.0.5, can be found [here](https://github.com/Antonio-JP/dalgebra/releases/tag/v0.0.5). In order to install it, simply run the following command line in a terminal where the command `sage` is available:\n",
    "\n",
    "`sage -pip install [--user] git+https://github.com/Antonio-JP/dalgebra.git@v0.0.5`\n",
    "\n",
    "where `[--user]` is an optional argument.\n",
    "\n",
    "Once installed, we can load the software by importing `dalgebra`, and every functionality of the package will be available."
   ]
  },
  {
   "cell_type": "code",
   "execution_count": 1,
   "id": "f27bc68d-a350-47ec-a69b-195195a34c8c",
   "metadata": {},
   "outputs": [],
   "source": [
    "from dalgebra import *\n",
    "%display latex"
   ]
  },
  {
   "cell_type": "markdown",
   "id": "33c02f50-4b30-47eb-8276-4f431b462358",
   "metadata": {},
   "source": [
    "The documentation for the package at it latest version ca be found [here](https://antonio-jp.github.io/dalgebra/). "
   ]
  },
  {
   "cell_type": "markdown",
   "id": "5ea8a79e-716c-4a0d-93ed-2312b7b815c8",
   "metadata": {
    "tags": []
   },
   "source": [
    "## 2. The category of d-rings and creating from SageMath"
   ]
  },
  {
   "cell_type": "markdown",
   "id": "03e01ad3-3a78-4e5c-94b7-36181efc875d",
   "metadata": {},
   "source": [
    "The main feature (that will be used for future extension on the implementation) is the _Category_ (seen as in SageMath) of d-rings. This is implemented in the class `DRings`:"
   ]
  },
  {
   "cell_type": "code",
   "execution_count": 2,
   "id": "952cf7f1-967d-44c6-9729-43ba65c57265",
   "metadata": {},
   "outputs": [
    {
     "data": {
      "text/html": [
       "<html>\\(\\displaystyle \\mathbf{DRings}\\)</html>"
      ],
      "text/latex": [
       "$\\displaystyle \\mathbf{DRings}$"
      ],
      "text/plain": [
       "Category of d rings"
      ]
     },
     "execution_count": 2,
     "metadata": {},
     "output_type": "execute_result"
    }
   ],
   "source": [
    "DRings()"
   ]
  },
  {
   "cell_type": "markdown",
   "id": "e3bc885b-8350-469d-9cdd-c5199b0858a0",
   "metadata": {},
   "source": [
    "This category will provide any of its parent structures or element structures with enough methods to get the list of associated operators $\\Delta$, apply any of these operators to its elements, etc. \n",
    "\n",
    "In general, we would like to take a ring structure from SageMath and attach to it some operators. This can be achieved using the factory `DRing`, which takes the following arguments:\n",
    "* A SageMath structure for a ring $R$. It could also be a _d-ring_.\n",
    "* A list of callables (or `Morphism`s) represting the set $\\Delta$.\n",
    "* (optionally) A list of types for the operators in $\\Delta$. They define the callable as a `homomorphism`, a `derivation` or a `skew`-derivation. \n",
    "\n",
    "In order to provide clarity to the code, we provide shortcuts to the factory `DRing` with the methods `DifferentialRing` and `DifferenceRing` that call the factory with the corresponding type (`derivation` and `homomorphism`respectively).\n",
    "\n",
    "As an example, we show now how to create the following rings:\n",
    "1. $R = (\\mathbb{Q}[x],\\partial_x)$\n",
    "2. $S = (\\mathbb{Q}[c,x], (\\partial_x, \\sigma_x))$, where $\\sigma_x(x) = x+1$.\n",
    "3. $T = (\\mathbb{Q}[x,y], (\\partial_x, \\partial_y, \\sigma))$ where we define $\\sigma(x) = x+1$ and $\\sigma(y) = y-1$."
   ]
  },
  {
   "cell_type": "code",
   "execution_count": 3,
   "id": "ab09d534-c755-4ad6-a777-fed6d1417643",
   "metadata": {},
   "outputs": [
    {
     "data": {
      "text/html": [
       "<html>\\(\\displaystyle \\newcommand{\\Bold}[1]{\\mathbf{#1}}\\left(\\Bold{Q}[x], \\frac{d}{dx}\\right)\\)</html>"
      ],
      "text/latex": [
       "$\\displaystyle \\newcommand{\\Bold}[1]{\\mathbf{#1}}\\left(\\Bold{Q}[x], \\frac{d}{dx}\\right)$"
      ],
      "text/plain": [
       "Differential Ring [[Univariate Polynomial Ring in x over Rational Field], (d/dx,)]"
      ]
     },
     "execution_count": 3,
     "metadata": {},
     "output_type": "execute_result"
    }
   ],
   "source": [
    "# Defining the first ring R\n",
    "R = DifferentialRing(QQ[x], diff); R"
   ]
  },
  {
   "cell_type": "code",
   "execution_count": 4,
   "id": "bae47b4d-59fe-4631-b9a0-9825c59d32d9",
   "metadata": {},
   "outputs": [
    {
     "data": {
      "text/html": [
       "<html>\\(\\displaystyle \\newcommand{\\Bold}[1]{\\mathbf{#1}}\\left(\\Bold{Q}[x, c], \\left(\\frac{d}{dx}, \\sigma\\left(x \\mapsto x + 1, c \\mapsto c\\right)\\right)\\right)\\)</html>"
      ],
      "text/latex": [
       "$\\displaystyle \\newcommand{\\Bold}[1]{\\mathbf{#1}}\\left(\\Bold{Q}[x, c], \\left(\\frac{d}{dx}, \\sigma\\left(x \\mapsto x + 1, c \\mapsto c\\right)\\right)\\right)$"
      ],
      "text/plain": [
       "Ring [[Multivariate Polynomial Ring in x, c over Rational Field], (d/dx, Hom({x: x + 1, c: c}))]"
      ]
     },
     "execution_count": 4,
     "metadata": {},
     "output_type": "execute_result"
    }
   ],
   "source": [
    "# Defining the second ring S\n",
    "B.<x,c> = QQ[]\n",
    "S = DifferenceRing(DifferentialRing(B, lambda p : diff(p, x)), B.Hom(B)([x+1, c])); S"
   ]
  },
  {
   "cell_type": "code",
   "execution_count": 5,
   "id": "5924fbfd-b26b-4562-8ab1-56c860f67bb3",
   "metadata": {},
   "outputs": [
    {
     "data": {
      "text/html": [
       "<html>\\(\\displaystyle \\newcommand{\\Bold}[1]{\\mathbf{#1}}\\left(\\Bold{Q}[x, y], \\left(\\frac{d}{dx}, \\frac{d}{dy}, \\sigma\\left(x \\mapsto x + 1, y \\mapsto y - 1\\right)\\right)\\right)\\)</html>"
      ],
      "text/latex": [
       "$\\displaystyle \\newcommand{\\Bold}[1]{\\mathbf{#1}}\\left(\\Bold{Q}[x, y], \\left(\\frac{d}{dx}, \\frac{d}{dy}, \\sigma\\left(x \\mapsto x + 1, y \\mapsto y - 1\\right)\\right)\\right)$"
      ],
      "text/plain": [
       "Ring [[Multivariate Polynomial Ring in x, y over Rational Field], (d/dx, d/dy, Hom({x: x + 1, y: y - 1}))]"
      ]
     },
     "execution_count": 5,
     "metadata": {},
     "output_type": "execute_result"
    }
   ],
   "source": [
    "# Defining the third ring T\n",
    "B.<x,y> = QQ[]; dx,dy = B.derivation_module().gens()\n",
    "T = DifferenceRing(DifferentialRing(B, dx, dy), B.Hom(B)([x+1, y-1])); T"
   ]
  },
  {
   "cell_type": "markdown",
   "id": "f9f94642-3093-434e-bc0c-814cd890c839",
   "metadata": {},
   "source": [
    "At this stage, we can create elements on each of these rings and see how the operation acts:"
   ]
  },
  {
   "cell_type": "code",
   "execution_count": 6,
   "id": "ca2e4d62-0ac5-42d4-81fd-b521be5f47f7",
   "metadata": {},
   "outputs": [
    {
     "data": {
      "text/html": [
       "<html>\\(\\displaystyle x^{3} - 3 x + 2\\)</html>"
      ],
      "text/latex": [
       "$\\displaystyle x^{3} - 3 x + 2$"
      ],
      "text/plain": [
       "x^3 - 3*x + 2"
      ]
     },
     "metadata": {},
     "output_type": "display_data"
    },
    {
     "data": {
      "text/html": [
       "<html>\\(\\displaystyle 3 x^{2} - 3\\)</html>"
      ],
      "text/latex": [
       "$\\displaystyle 3 x^{2} - 3$"
      ],
      "text/plain": [
       "3*x^2 - 3"
      ]
     },
     "execution_count": 6,
     "metadata": {},
     "output_type": "execute_result"
    }
   ],
   "source": [
    "## Computing in the ring (QQ[x], dx)\n",
    "x = R(x)\n",
    "p = x^3 - 3*x + 2; show(p)\n",
    "p.derivative()"
   ]
  },
  {
   "cell_type": "code",
   "execution_count": 7,
   "id": "e76e4f67-e976-4ca7-bf1c-d23268f0b7ea",
   "metadata": {},
   "outputs": [
    {
     "data": {
      "text/html": [
       "<html>\\(\\displaystyle p = x^{2} c - 3 x + c\\)</html>"
      ],
      "text/latex": [
       "$\\displaystyle p = x^{2} c - 3 x + c$"
      ],
      "text/plain": [
       "p = x^{2} c - 3 x + c"
      ]
     },
     "metadata": {},
     "output_type": "display_data"
    },
    {
     "data": {
      "text/html": [
       "<html>\\(\\displaystyle \\partial(p) = 2 x c - 3\\)</html>"
      ],
      "text/latex": [
       "$\\displaystyle \\partial(p) = 2 x c - 3$"
      ],
      "text/plain": [
       "\\partial(p) = 2 x c - 3"
      ]
     },
     "metadata": {},
     "output_type": "display_data"
    },
    {
     "data": {
      "text/html": [
       "<html>\\(\\displaystyle \\sigma(p) = x^{2} c + 2 x c - 3 x + 2 c - 3\\)</html>"
      ],
      "text/latex": [
       "$\\displaystyle \\sigma(p) = x^{2} c + 2 x c - 3 x + 2 c - 3$"
      ],
      "text/plain": [
       "\\sigma(p) = x^{2} c + 2 x c - 3 x + 2 c - 3"
      ]
     },
     "metadata": {},
     "output_type": "display_data"
    }
   ],
   "source": [
    "## Computing in the ring (QQ[x,c], (dx, sigma_x)\n",
    "x = S(x); c = S(c)\n",
    "p = c*x^2 - 3*x + c\n",
    "show(r\"p = \" + latex(p))\n",
    "show(r\"\\partial(p) = \" + latex(p.derivative()))\n",
    "show(r\"\\sigma(p) = \" + latex(p.difference()))"
   ]
  },
  {
   "cell_type": "code",
   "execution_count": 8,
   "id": "93f567a5-59d0-4b0b-b103-a007449d1972",
   "metadata": {},
   "outputs": [
    {
     "data": {
      "text/html": [
       "<html>\\(\\displaystyle p = x + y\\)</html>"
      ],
      "text/latex": [
       "$\\displaystyle p = x + y$"
      ],
      "text/plain": [
       "p = x + y"
      ]
     },
     "metadata": {},
     "output_type": "display_data"
    },
    {
     "data": {
      "text/html": [
       "<html>\\(\\displaystyle \\partial_x(p) = 1\\)</html>"
      ],
      "text/latex": [
       "$\\displaystyle \\partial_x(p) = 1$"
      ],
      "text/plain": [
       "\\partial_x(p) = 1"
      ]
     },
     "metadata": {},
     "output_type": "display_data"
    },
    {
     "data": {
      "text/html": [
       "<html>\\(\\displaystyle \\partial_y(p) = 1\\)</html>"
      ],
      "text/latex": [
       "$\\displaystyle \\partial_y(p) = 1$"
      ],
      "text/plain": [
       "\\partial_y(p) = 1"
      ]
     },
     "metadata": {},
     "output_type": "display_data"
    },
    {
     "data": {
      "text/html": [
       "<html>\\(\\displaystyle \\sigma(p) = x + y\\)</html>"
      ],
      "text/latex": [
       "$\\displaystyle \\sigma(p) = x + y$"
      ],
      "text/plain": [
       "\\sigma(p) = x + y"
      ]
     },
     "metadata": {},
     "output_type": "display_data"
    }
   ],
   "source": [
    "## Computing in the ring (QQ[x,y], (dx, dy, sigma)\n",
    "x = T(x); y = T(y)\n",
    "p = x+y\n",
    "show(r\"p = \" + latex(p))\n",
    "show(r\"\\partial_x(p) = \" + latex(p.derivative(0)))\n",
    "show(r\"\\partial_y(p) = \" + latex(p.derivative(1)))\n",
    "show(r\"\\sigma(p) = \" + latex(p.difference()))"
   ]
  },
  {
   "cell_type": "markdown",
   "id": "407edabe-7ffb-481e-b7b8-957d2aedd11f",
   "metadata": {},
   "source": [
    "We can check the types of the operators (and use then accordingly the method `derivative` and `difference`) by using the method `operator_types`:"
   ]
  },
  {
   "cell_type": "code",
   "execution_count": 9,
   "id": "0ed06178-8ab1-4311-807f-ce8e8ac33299",
   "metadata": {},
   "outputs": [
    {
     "data": {
      "text/html": [
       "<html>\\(\\displaystyle \\left(\\verb|derivation|\\right)\\)</html>"
      ],
      "text/latex": [
       "$\\displaystyle \\left(\\verb|derivation|\\right)$"
      ],
      "text/plain": [
       "('derivation',)"
      ]
     },
     "execution_count": 9,
     "metadata": {},
     "output_type": "execute_result"
    }
   ],
   "source": [
    "R.operator_types()"
   ]
  },
  {
   "cell_type": "code",
   "execution_count": 10,
   "id": "5a6e0a9e-6ded-40e0-b85b-7828fad841ef",
   "metadata": {},
   "outputs": [
    {
     "data": {
      "text/html": [
       "<html>\\(\\displaystyle \\left(\\verb|derivation|, \\verb|derivation|, \\verb|homomorphism|\\right)\\)</html>"
      ],
      "text/latex": [
       "$\\displaystyle \\left(\\verb|derivation|, \\verb|derivation|, \\verb|homomorphism|\\right)$"
      ],
      "text/plain": [
       "('derivation', 'derivation', 'homomorphism')"
      ]
     },
     "execution_count": 10,
     "metadata": {},
     "output_type": "execute_result"
    }
   ],
   "source": [
    "T.operator_types()"
   ]
  },
  {
   "cell_type": "markdown",
   "id": "9cbf5f38-2d7e-4726-b858-c48ee08d83f5",
   "metadata": {
    "tags": []
   },
   "source": [
    "## 3. The ring of d-polynomials"
   ]
  },
  {
   "cell_type": "markdown",
   "id": "65d75a84-0a62-4381-adf5-605ab463cd9c",
   "metadata": {},
   "source": [
    "Given a d-ring $(R, \\Delta)$ we can always define what we call the ring of d-polynomials over $(R,\\Delta)$ with a _d-variable_ $u$. This is a new d-ring with the same operations where we have taken as base ring the infinitely generated polynomial ring \n",
    "$$R[u_\\alpha\\ :\\ \\alpha \\in \\mathbb{N}^n]$$\n",
    "where $|\\Delta| = n$ and we extend the operations over $R$ by setting:\n",
    "$$\\sigma_i(u_\\alpha) = u_{\\alpha + e_i},$$\n",
    "where $e_i$ is the $i$th canonical vector on $\\mathbb{N}^n$. This can be then extended for several _d-variables_. We denote the new ring by $(R,\\Delta)\\{u\\}$.\n",
    "\n",
    "We can create this structure using `dalgebra` by the use of the _Factory_ `DPolynomialRing`. This factory only requires a valid d-ring and a list of names for the d-variables.\n",
    "\n",
    "* The implementation is based on the class of infinite polynomials from SageMath. This means that the generators of the rings are not polynomials but the generators of variables.\n",
    "* To ensure uniqueness in the structure, we sort the d-variables alphabetically. Hence $R\\{u\\}\\{v\\} \\equiv R\\{v\\}\\{u\\} \\equiv R\\{u,v\\}$.\n",
    "* If another rings of d-polynomials is provided as argument, `DPolynomialRing` appends the new variables.\n",
    "\n",
    "Following the examples above, we can construct easily the ring of d-polynomials over $S = (\\mathbb{Q}[x,c], (\\partial_x,\\sigma_x))$ with d-variable $y$ with the following line:"
   ]
  },
  {
   "cell_type": "code",
   "execution_count": 11,
   "id": "e0ed8773-3969-4058-b66e-a6915f21f82c",
   "metadata": {},
   "outputs": [
    {
     "data": {
      "text/html": [
       "<html>\\(\\displaystyle \\newcommand{\\Bold}[1]{\\mathbf{#1}}\\left(\\Bold{Q}[x, c], \\left(\\frac{d}{dx}, \\sigma\\left(x \\mapsto x + 1, c \\mapsto c\\right)\\right)\\right) \\{ y \\}\\)</html>"
      ],
      "text/latex": [
       "$\\displaystyle \\newcommand{\\Bold}[1]{\\mathbf{#1}}\\left(\\Bold{Q}[x, c], \\left(\\frac{d}{dx}, \\sigma\\left(x \\mapsto x + 1, c \\mapsto c\\right)\\right)\\right) \\{ y \\}$"
      ],
      "text/plain": [
       "Ring of operator polynomials in (y) over Ring [[Multivariate Polynomial Ring in x, c over Rational Field], (d/dx, Hom({x: x + 1, c: c}))]"
      ]
     },
     "execution_count": 11,
     "metadata": {},
     "output_type": "execute_result"
    }
   ],
   "source": [
    "DS.<y> = DPolynomialRing(S); DS"
   ]
  },
  {
   "cell_type": "markdown",
   "id": "344ee0d0-ef74-435d-9008-b85209854bb6",
   "metadata": {},
   "source": [
    "Now we can create any d-polynomial using the d-variable $y$. More precisely, when we want to create $\\partial_x^a(\\sigma_x^b(y)) \\equiv y_{(a,b)}$, we only need to type $y[a,b]$:"
   ]
  },
  {
   "cell_type": "code",
   "execution_count": 12,
   "id": "ef819bbd-0a56-497c-948b-cbac2371e03c",
   "metadata": {},
   "outputs": [
    {
     "data": {
      "text/html": [
       "<html>\\(\\displaystyle \\left(1 y_{(1, 0)}, 1 y_{(0, 1)}\\right)\\)</html>"
      ],
      "text/latex": [
       "$\\displaystyle \\left(1 y_{(1, 0)}, 1 y_{(0, 1)}\\right)$"
      ],
      "text/plain": [
       "(y_1_0, y_0_1)"
      ]
     },
     "execution_count": 12,
     "metadata": {},
     "output_type": "execute_result"
    }
   ],
   "source": [
    "y[0,0].derivative(), y[0,0].difference()"
   ]
  },
  {
   "cell_type": "markdown",
   "id": "e47aa17f-1572-4024-bfb3-2a526169bd07",
   "metadata": {
    "tags": []
   },
   "source": [
    "### Selected methods for d-polynomials and rings of d-polynomials"
   ]
  },
  {
   "cell_type": "markdown",
   "id": "8abdb10a-1110-452f-af44-b34d2a69c7b0",
   "metadata": {},
   "source": [
    "The d-polynomials have several incorporated functionalities beyond those already given as elements of a d-ring. Some selected are the following:\n",
    "\n",
    "* `is_linear`: checks whether the d-polynomial is linear in any given set of d-variables. This means for any appearance of the given d-variables, they appear linearly. For example, the d-polynomials in $(\\mathbb{Q},0)\\{a,b\\}$ are linear in $a$:\n",
    "  $$a_0b_0^2 - a_1 + a_2b_2,\\quad b_0b_1 - a_3b_2,$$\n",
    "  but they are not linear in $b$ while the following polynomial is linear in both $a$ and $b$ but not in the set $(a,b)$:\n",
    "  $$a_1 + b_1 -a_0b_0.$$\n",
    "* `flatten`: allows to flatten a d-polynomial into a multivariable polynomial. This is helpful to take coefficients with respect to variables that are not d-variables.\n",
    "* `eval`: given an element $t$ in any d-extension of $(R,\\Delta)$, we can always evaluate a d-polynomial $(R,\\Delta)\\{y\\}$ in the element $t$ where we substitute \n",
    "  $$y_{(\\alpha_1,\\ldots,\\alpha_n)} \\mapsto \\left(\\sigma_1^{\\alpha_1}\\circ\\ldots\\circ\\sigma_n^{\\alpha_n}\\right)(t).$$\n",
    "  This means, in particular, that we can evaluate a d-polynomial in another d-polynomial. This is specially helpful because it implements the composition of d-polynomials when seen as operators.\n",
    "* `as_linear_operator`: when we have a d-polynomial in the d-variable $y$ and it is linear and homogenous, we can interpret the d-polynomials as a linear operator. Namely, the d-polynomial represents the action of the operator over an element. This methods transforms (if possible) a d-polynomial into an Ore polynomial that represents the same linear operator.\n",
    "* `solve` (currently incomplete): given a d-variable appearing in the d-polynomial, this method tries to find an expression for said d-variable such that, when we call `eval` with that value, the d-polynomial evaluates to zero."
   ]
  },
  {
   "cell_type": "markdown",
   "id": "729e1654-3c5a-4d8f-872c-2b296aab6fdf",
   "metadata": {
    "tags": []
   },
   "source": [
    "## 4. System of d-polynomials"
   ]
  },
  {
   "cell_type": "markdown",
   "id": "1a4b2c02-0da8-4943-80d9-73bd8a9f174d",
   "metadata": {},
   "source": [
    "In order to set up systems of d-polynomials, we provide a class with several methods that will allow to create, manipulate and compute with systems of d-polynomials. The class is called `DSystem`. This class receives:\n",
    "* A list of d-polynomials that can be casted into a common ring of d-polynomials $(R, \\Delta)\\{y_1,\\ldots,y_n\\}$.\n",
    "* A list of variables to be considered the unknowns of the system. They must be a subset of $\\{y_1,\\ldots, y_n\\}$.\n",
    "\n",
    "Following with the previously created ring $S = (\\mathbb{Q}[x,c], (\\partial_x,\\sigma_x))$, we can define a system for the following two d-polynomials:"
   ]
  },
  {
   "cell_type": "code",
   "execution_count": 13,
   "id": "a74d8b35-7e9a-4385-9201-4593f3f3cef8",
   "metadata": {},
   "outputs": [
    {
     "data": {
      "text/html": [
       "<html>\\(\\displaystyle \\newcommand{\\Bold}[1]{\\mathbf{#1}}\\text{System over } \\left(\\Bold{Q}[x, c], \\left(\\frac{d}{dx}, \\sigma\\left(x \\mapsto x + 1, c \\mapsto c\\right)\\right)\\right) \\{ y \\} \\text{ with variables } y_{\\ast} :\n",
       "\n",
       " \\left\\{\\begin{array}{ll} 1 y_{(0, 1)} - y_{(0, 0)} & = 0 \\\\\n",
       "1 y_{(1, 0)} + \\left(-c\\right) y_{(0, 0)} & = 0 \\\\ \n",
       "\\end{array}\\right.\\)</html>"
      ],
      "text/latex": [
       "$\\displaystyle \\newcommand{\\Bold}[1]{\\mathbf{#1}}\\text{System over } \\left(\\Bold{Q}[x, c], \\left(\\frac{d}{dx}, \\sigma\\left(x \\mapsto x + 1, c \\mapsto c\\right)\\right)\\right) \\{ y \\} \\text{ with variables } y_{\\ast} :\n",
       "\n",
       " \\left\\{\\begin{array}{ll} 1 y_{(0, 1)} - y_{(0, 0)} & = 0 \\\\\n",
       "1 y_{(1, 0)} + \\left(-c\\right) y_{(0, 0)} & = 0 \\\\ \n",
       "\\end{array}\\right.$"
      ],
      "text/plain": [
       "System over [Ring of operator polynomials in (y) over Ring [[Multivariate Polynomial Ring in x, c over Rational Field], (d/dx, Hom({x: x + 1, c: c}))]] with variables [(y_*,)]:\n",
       "{\n",
       "\ty_0_1 - y_0_0 == 0\n",
       "\ty_1_0 + (-c)*y_0_0 == 0\n",
       "}"
      ]
     },
     "execution_count": 13,
     "metadata": {},
     "output_type": "execute_result"
    }
   ],
   "source": [
    "p1 = y[0,1] - y[0,0]\n",
    "p2 = y[1,0] - c*y[0,0]\n",
    "S = DSystem([p1,p2]); S"
   ]
  },
  {
   "cell_type": "markdown",
   "id": "4b8f15ea-dfd8-485e-903e-6161935f9a2f",
   "metadata": {},
   "source": [
    "### Selected methods for system of d-polynomials"
   ]
  },
  {
   "cell_type": "markdown",
   "id": "cebc1531-bdeb-45cb-a715-61dbfb0a36f2",
   "metadata": {},
   "source": [
    "The clas `DSystem` includes several methods to manipulate systems of d-polynomials. Some of these methods are:\n",
    "* `extend_by_operation`: if $p(y) = 0$, then $\\sigma(p(y)) = 0$ no matter which $\\sigma$ we have defined. Hence, given a system of d-polynomials, we can always compute more equations that are equal to zero by applying one operation to each polynomial. This method automatizes this procedure, creating a system with more equations. This is crucial to many elimination algorithms.\n",
    "* There are several methods to obtain subsystems of equations. In particular, the slice notation in Python allows to get a subsystem for a given set of indices.\n",
    "* `is_homogeneous`: checks whether all equations in the system are homogeneous (when looked as algebraic polynomials).\n",
    "* `is_linear`: check whether the system is linear in a given set of variables.\n",
    "* `solve_linear`: if the system is linear in its variables, this method tries to solve the system obtaining a dictionary of solutions such that, if we evaluate all the equations using this dictionary (see method `eval`) we obtain always zero.\n",
    "* `diff_resultant`: method to compute the differential/difference resultant of a system. This will allow to eliminate $n$ d-variables from a set of $n-1$ d-polynomial equations. Currently this implementation is incomplete."
   ]
  },
  {
   "cell_type": "markdown",
   "id": "a43a1030-77bb-4cba-9540-3d9d17ca20aa",
   "metadata": {
    "tags": []
   },
   "source": [
    "## 5. Examples of use (section 3 of software presentation)"
   ]
  },
  {
   "cell_type": "markdown",
   "id": "785f4330-1890-4f48-896a-68a35b933d2b",
   "metadata": {
    "tags": []
   },
   "source": [
    "### 5.1 Computing a commuting operator\n",
    "\n",
    "Assume that we are considering the linear differential operator $L_2 = \\partial^2 - u$ where $u$ is a d-variable. We want to compute an operator of order 3 of the form $P_3 = \\partial^3 + a\\partial + b$ (for some $a$ and $b$) such that $L_2$ and $P_3$ commute. This means that $[L,P] = LP - PL = 0$.\n",
    "\n",
    "We can get the system for $a$ and $b$ using `dalgebra`. For doing so, we first create a ring of d-polynomials with variables $u$, $a$ and $b$. We also add the d-variable $y$ to include the operator $\\partial$ as a d-polynomial, since:\n",
    "$$L_2\\cdot y = y'' - uy,\\qquad P_3\\cdot y = y''' + ay' + by.$$"
   ]
  },
  {
   "cell_type": "code",
   "execution_count": 14,
   "id": "f41e9167-6ba2-488c-99de-5a608d6f460f",
   "metadata": {},
   "outputs": [],
   "source": [
    "R.<a,b,u,y> = DPolynomialRing(DifferentialRing(QQ, lambda p:0))\n",
    "L = y[2] - u[0]*y[0]; P = y[3] + a[0]*y[1] + b[0]*y[0]"
   ]
  },
  {
   "cell_type": "markdown",
   "id": "e0899d3a-db1d-42e2-af8e-0c48f4b49b1e",
   "metadata": {},
   "source": [
    "We can the proceed to compute the commutator of these two operators. This can be done by evaluating the d-variable $y$ in the other operator:"
   ]
  },
  {
   "cell_type": "code",
   "execution_count": 15,
   "id": "e953a6f2-d243-45b8-ac97-5786f3e38864",
   "metadata": {},
   "outputs": [
    {
     "data": {
      "text/html": [
       "<html>\\(\\displaystyle 1 a_{0} u_{1} y_{0} + 1 a_{2} y_{1} + 2 a_{1} y_{2} + 1 b_{2} y_{0} + 2 b_{1} y_{1} + 1 u_{3} y_{0} + 3 u_{2} y_{1} + 3 u_{1} y_{2}\\)</html>"
      ],
      "text/latex": [
       "$\\displaystyle 1 a_{0} u_{1} y_{0} + 1 a_{2} y_{1} + 2 a_{1} y_{2} + 1 b_{2} y_{0} + 2 b_{1} y_{1} + 1 u_{3} y_{0} + 3 u_{2} y_{1} + 3 u_{1} y_{2}$"
      ],
      "text/plain": [
       "a_0*u_1*y_0 + a_2*y_1 + 2*a_1*y_2 + b_2*y_0 + 2*b_1*y_1 + u_3*y_0 + 3*u_2*y_1 + 3*u_1*y_2"
      ]
     },
     "execution_count": 15,
     "metadata": {},
     "output_type": "execute_result"
    }
   ],
   "source": [
    "C = L(y=P) - P(y=L); C"
   ]
  },
  {
   "cell_type": "markdown",
   "id": "83fc4deb-f35f-4a09-b78d-f15461d4ad05",
   "metadata": {},
   "source": [
    "We can observe that, in general, the operators $L_2$ and $P_3$ do not commute since $C = [L,P] \\neq 0$. If we want to compute a commutator, we need that all the coefficients w.r.t. $y$ must vanish. We can get this system by extracting coefficients from $C$:"
   ]
  },
  {
   "cell_type": "code",
   "execution_count": 16,
   "id": "6e146a01-d46f-48c5-bc41-9757e52c7eb2",
   "metadata": {},
   "outputs": [
    {
     "data": {
      "text/html": [
       "<html>\\(\\displaystyle \\newcommand{\\Bold}[1]{\\mathbf{#1}}\\text{System over } \\left(\\Bold{Q}, 0\\right) \\{ a, b, u, y \\} \\text{ with variables } a_{\\ast}, b_{\\ast} :\n",
       "\n",
       " \\left\\{\\begin{array}{ll} 1 a_{0} u_{1} + 1 b_{2} + 1 u_{3} & = 0 \\\\\n",
       "1 a_{2} + 2 b_{1} + 3 u_{2} & = 0 \\\\\n",
       "2 a_{1} + 3 u_{1} & = 0 \\\\ \n",
       "\\end{array}\\right.\\)</html>"
      ],
      "text/latex": [
       "$\\displaystyle \\newcommand{\\Bold}[1]{\\mathbf{#1}}\\text{System over } \\left(\\Bold{Q}, 0\\right) \\{ a, b, u, y \\} \\text{ with variables } a_{\\ast}, b_{\\ast} :\n",
       "\n",
       " \\left\\{\\begin{array}{ll} 1 a_{0} u_{1} + 1 b_{2} + 1 u_{3} & = 0 \\\\\n",
       "1 a_{2} + 2 b_{1} + 3 u_{2} & = 0 \\\\\n",
       "2 a_{1} + 3 u_{1} & = 0 \\\\ \n",
       "\\end{array}\\right.$"
      ],
      "text/plain": [
       "System over [Ring of operator polynomials in (a, b, u, y) over Differential Ring [[Rational Field], (0,)]] with variables [(a_*, b_*)]:\n",
       "{\n",
       "\ta_0*u_1 + b_2 + u_3 == 0\n",
       "\ta_2 + 2*b_1 + 3*u_2 == 0\n",
       "\t2*a_1 + 3*u_1 == 0\n",
       "}"
      ]
     },
     "execution_count": 16,
     "metadata": {},
     "output_type": "execute_result"
    }
   ],
   "source": [
    "S = DSystem([C.coefficient(y[i]) for i in range(C.order(y)+1)], variables=[a,b]); S"
   ]
  },
  {
   "cell_type": "markdown",
   "id": "706e5250-766c-4083-a970-2ad56db3e095",
   "metadata": {},
   "source": [
    "In this particular case, we end up with 3 equations and two variables. This usually has no solution and depends on the preoperties of the function $u$. We can get this condition on $u$ by solving the subsystem on $a$ and $b$ in the last two equations and pluging their value into the first equation:"
   ]
  },
  {
   "cell_type": "code",
   "execution_count": 17,
   "id": "eea18c07-b0db-442d-b7a9-079f55684959",
   "metadata": {},
   "outputs": [
    {
     "data": {
      "text/html": [
       "<html>\\(\\displaystyle \\left\\{a_{\\ast} : \\left(-\\frac{3}{2}\\right) u_{0}, b_{\\ast} : \\left(-\\frac{3}{4}\\right) u_{1}\\right\\}\\)</html>"
      ],
      "text/latex": [
       "$\\displaystyle \\left\\{a_{\\ast} : \\left(-\\frac{3}{2}\\right) u_{0}, b_{\\ast} : \\left(-\\frac{3}{4}\\right) u_{1}\\right\\}$"
      ],
      "text/plain": [
       "{a_*: (-3/2)*u_0, b_*: (-3/4)*u_1}"
      ]
     },
     "execution_count": 17,
     "metadata": {},
     "output_type": "execute_result"
    }
   ],
   "source": [
    "sol_ab = S[1:].solve_linear(); sol_ab"
   ]
  },
  {
   "cell_type": "code",
   "execution_count": 18,
   "id": "4b0a0871-f02b-47fe-83b8-f0d380411057",
   "metadata": {},
   "outputs": [
    {
     "data": {
      "text/html": [
       "<html>\\(\\displaystyle \\left(-\\frac{3}{2}\\right) u_{1} u_{0} + \\frac{1}{4} u_{3}\\)</html>"
      ],
      "text/latex": [
       "$\\displaystyle \\left(-\\frac{3}{2}\\right) u_{1} u_{0} + \\frac{1}{4} u_{3}$"
      ],
      "text/plain": [
       "(-3/2)*u_1*u_0 + 1/4*u_3"
      ]
     },
     "execution_count": 18,
     "metadata": {},
     "output_type": "execute_result"
    }
   ],
   "source": [
    "S.equation(0)(dic=sol_ab)"
   ]
  },
  {
   "cell_type": "markdown",
   "id": "02c2cc12-d304-47f9-a927-5660ee79c49b",
   "metadata": {
    "tags": []
   },
   "source": [
    "### 5.2 Sylvester resultant and subresultants\n",
    "\n",
    "Another computation that is available is the computation of the Sylvester resultant of two linear d-polynomials and the subresultant sequence. Assume we have the following operators:\n",
    "$$L_1 = \\partial^2 - (\\cosh(x) + e^x) \\partial + e^x(\\cosh(x) -1),\\qquad L_2 = \\partial^2 - (\\sinh(x) + e^x) \\partial + e^x(\\sinh(x) -1).$$\n",
    "If we would like to know if they share a common solution, we would need to compute the resultant of the two operators.\n",
    "\n",
    "This can be done in `dalgebra` using the method `sylvester_resultant`. First, we need to define the ring of d-polynomials to represent $L_1$ and $L_2$. In order to do so, we need to include in the system the $\\cosh(x)$ and $\\sinh(x)$. This requires the exponential function $e^x$ to be added in the system:"
   ]
  },
  {
   "cell_type": "code",
   "execution_count": 19,
   "id": "e90a793a-e500-49ea-bf03-16631bf1f057",
   "metadata": {},
   "outputs": [
    {
     "data": {
      "text/html": [
       "<html>\\(\\displaystyle \\newcommand{\\Bold}[1]{\\mathbf{#1}}\\left(\\mathrm{Frac}(\\Bold{Q}[\\mathit{ex}]), ex \\frac{d}{d\\mathit{ex}}\\right)\\)</html>"
      ],
      "text/latex": [
       "$\\displaystyle \\newcommand{\\Bold}[1]{\\mathbf{#1}}\\left(\\mathrm{Frac}(\\Bold{Q}[\\mathit{ex}]), ex \\frac{d}{d\\mathit{ex}}\\right)$"
      ],
      "text/plain": [
       "Differential Ring [[Fraction Field of Univariate Polynomial Ring in ex over Rational Field], (ex*d/dex,)]"
      ]
     },
     "metadata": {},
     "output_type": "display_data"
    },
    {
     "data": {
      "text/html": [
       "<html>\\(\\displaystyle \\mathit{ex}\\)</html>"
      ],
      "text/latex": [
       "$\\displaystyle \\mathit{ex}$"
      ],
      "text/plain": [
       "ex"
      ]
     },
     "execution_count": 19,
     "metadata": {},
     "output_type": "execute_result"
    }
   ],
   "source": [
    "B.<ex> = QQ[] # ex is e^x\n",
    "F = DifferentialRing(B.fraction_field(), lambda ex: ex); show(F)\n",
    "F(ex).operation()"
   ]
  },
  {
   "cell_type": "markdown",
   "id": "9a5855d3-8a81-4b94-9d14-a9568a23cc73",
   "metadata": {},
   "source": [
    "Then we proceed to define the $\\cosh(x)$ and $\\sinh(x)$:"
   ]
  },
  {
   "cell_type": "code",
   "execution_count": 20,
   "id": "09a07d8d-22bd-4ce7-b52c-58bb6388c886",
   "metadata": {},
   "outputs": [
    {
     "data": {
      "text/html": [
       "<html>\\(\\displaystyle \\mathrm{True}\\)</html>"
      ],
      "text/latex": [
       "$\\displaystyle \\mathrm{True}$"
      ],
      "text/plain": [
       "True"
      ]
     },
     "execution_count": 20,
     "metadata": {},
     "output_type": "execute_result"
    }
   ],
   "source": [
    "cosh = F((ex + (1/ex))/2)\n",
    "sinh = F((ex - (1/ex))/2)\n",
    "ex = F(ex)\n",
    "cosh.operation() == sinh and sinh.operation() == cosh"
   ]
  },
  {
   "cell_type": "markdown",
   "id": "c8a07e9c-32de-480d-9906-558ba5940801",
   "metadata": {},
   "source": [
    "We then proceed to create the ring of d-polynomials necessary to represent the two linear operators $L_1$ and $L_2$. Then we can simply compute the Sylvester resultant:"
   ]
  },
  {
   "cell_type": "code",
   "execution_count": 21,
   "id": "c044931b-aca6-4e1c-b3cb-859a387bbef2",
   "metadata": {},
   "outputs": [
    {
     "data": {
      "text/html": [
       "<html>\\(\\displaystyle 0\\)</html>"
      ],
      "text/latex": [
       "$\\displaystyle 0$"
      ],
      "text/plain": [
       "0"
      ]
     },
     "execution_count": 21,
     "metadata": {},
     "output_type": "execute_result"
    }
   ],
   "source": [
    "R.<y> = DPolynomialRing(F)\n",
    "L1 = y[2] - (cosh + ex)*y[1] + ex*(cosh-F(1))*y[0]\n",
    "L2 = y[2] - (sinh + ex)*y[1] + ex*(sinh-F(1))*y[0]\n",
    "L1.sylvester_resultant(L2)"
   ]
  },
  {
   "cell_type": "markdown",
   "id": "56b0e782-b27d-45e2-b848-ded5d512be2e",
   "metadata": {},
   "source": [
    "Hence they share a common solution. In order to see which one, we could compute the right greatest common divisor of $L_1$ and $L_2$. We can do it by checking the first non-zero subresultant operator. This can be done by the method `sylvester_subresultant_sequence` in the ring of d-polynomials:"
   ]
  },
  {
   "cell_type": "code",
   "execution_count": 22,
   "id": "aef78597-1aae-4df6-8688-1e7b782f096a",
   "metadata": {},
   "outputs": [
    {
     "data": {
      "text/html": [
       "<html>\\(\\displaystyle \\left(0, \\left(\\frac{-1}{\\mathit{ex}}\\right) y_{1} + 1 y_{0}\\right)\\)</html>"
      ],
      "text/latex": [
       "$\\displaystyle \\left(0, \\left(\\frac{-1}{\\mathit{ex}}\\right) y_{1} + 1 y_{0}\\right)$"
      ],
      "text/plain": [
       "(0, (-1/ex)*y_1 + y_0)"
      ]
     },
     "execution_count": 22,
     "metadata": {},
     "output_type": "execute_result"
    }
   ],
   "source": [
    "R.sylvester_subresultant_sequence(L1, L2)"
   ]
  },
  {
   "cell_type": "markdown",
   "id": "b0d03a18-e7f2-4280-84bf-9dc902696d2d",
   "metadata": {},
   "source": [
    "This means that the solution to the differential operator $\\partial - e^x$ (i.e., $ce^{e^x}$) is a common solution for both $L_1$ and $L_2$."
   ]
  },
  {
   "cell_type": "markdown",
   "id": "893ad3ad-4668-4f1d-86aa-3317c12b6c74",
   "metadata": {
    "tags": []
   },
   "source": [
    "### 5.3 Elimination of difference variables\n",
    "\n",
    "In this last example we are going to show how, from a non-linear difference system, we can eliminate one of the variables using \\packname. Consider the following difference system:\n",
    "$$\\label{equ:difference_system}\\left\\{\\begin{array}{ll}\n",
    "    u(n+1) - 2^n u(n)^2 + u(n)v(n) & = 0,\\\\\n",
    "    v(n+1) - 3^n v(n)^2 + u(n)v(n) & = 0,\n",
    "\\end{array}\\right.$$\n",
    "and assume we want to eliminate the variable $u(n)$ to obtain a relation only involving $v(n)$ that all solutions to the system satisfy.\n",
    "\n",
    "We can do this in \\packname by computing the difference resultant of the system. We start by creating the elements representing the two exponential sequences $2^n$ and $3^n$:"
   ]
  },
  {
   "cell_type": "code",
   "execution_count": 23,
   "id": "0642c48e-88d0-4f2b-b485-ccedbd0fb32b",
   "metadata": {},
   "outputs": [],
   "source": [
    "B.<e2,e3> = QQ[]\n",
    "DB = DifferenceRing(B, B.Hom(B)([2*e2, 3*e3])) # e2 represents 2^n and e3 represents 3^n\n",
    "e2, e3 = DB(e2), DB(e3)"
   ]
  },
  {
   "cell_type": "markdown",
   "id": "fe48af45-4774-4c04-b6b8-537f671fead0",
   "metadata": {},
   "source": [
    "As an example, we have that $\\sigma(2^n3^n) = \\sigma(6^n) = 6\\cdot 6^n$:"
   ]
  },
  {
   "cell_type": "code",
   "execution_count": 24,
   "id": "1470d68a-169a-4034-b265-e076e8aefc6b",
   "metadata": {},
   "outputs": [
    {
     "data": {
      "text/html": [
       "<html>\\(\\displaystyle 6\\)</html>"
      ],
      "text/latex": [
       "$\\displaystyle 6$"
      ],
      "text/plain": [
       "6"
      ]
     },
     "execution_count": 24,
     "metadata": {},
     "output_type": "execute_result"
    }
   ],
   "source": [
    "(e2*e3).shift()//(e2*e3)"
   ]
  },
  {
   "cell_type": "markdown",
   "id": "3a9c746d-ab61-4b11-8be0-8a9230bd5f6f",
   "metadata": {},
   "source": [
    "Now we proceed to create two difference variables $u(n),v(n)$ and the two equations of the system above:"
   ]
  },
  {
   "cell_type": "code",
   "execution_count": 25,
   "id": "7ad77480-15a7-4888-88f0-e4ad43ea39d9",
   "metadata": {},
   "outputs": [],
   "source": [
    "R.<u,v> = DPolynomialRing(DB)\n",
    "f1 = u[1] - e2*u[0]^2 + u[0]*v[0]\n",
    "f2 = v[1] - e3*v[0]^2 + u[0]*v[0]"
   ]
  },
  {
   "cell_type": "markdown",
   "id": "a15276a5-f27c-42c7-af6f-4bab47155da9",
   "metadata": {},
   "source": [
    "The system of d-equations can now be created. Since we want to eliminate the $u$, we set this as the variable for the system:"
   ]
  },
  {
   "cell_type": "code",
   "execution_count": 26,
   "id": "841a2a89-7e4e-4674-8ee2-ddf49395fb0a",
   "metadata": {},
   "outputs": [
    {
     "data": {
      "text/html": [
       "<html>\\(\\displaystyle \\newcommand{\\Bold}[1]{\\mathbf{#1}}\\text{System over } \\left(\\Bold{Q}[e_{2}, e_{3}], \\sigma\\left(e_{2} \\mapsto 2 e_{2}, e_{3} \\mapsto 3 e_{3}\\right)\\right) \\{ u, v \\} \\text{ with variables } u_{\\ast} :\n",
       "\n",
       " \\left\\{\\begin{array}{ll} \\left(-e_{2}\\right) u_{0}^{2} + 1 u_{0} v_{0} + 1 u_{1} & = 0 \\\\\n",
       "1 u_{0} v_{0} + \\left(-e_{3}\\right) v_{0}^{2} + 1 v_{1} & = 0 \\\\ \n",
       "\\end{array}\\right.\\)</html>"
      ],
      "text/latex": [
       "$\\displaystyle \\newcommand{\\Bold}[1]{\\mathbf{#1}}\\text{System over } \\left(\\Bold{Q}[e_{2}, e_{3}], \\sigma\\left(e_{2} \\mapsto 2 e_{2}, e_{3} \\mapsto 3 e_{3}\\right)\\right) \\{ u, v \\} \\text{ with variables } u_{\\ast} :\n",
       "\n",
       " \\left\\{\\begin{array}{ll} \\left(-e_{2}\\right) u_{0}^{2} + 1 u_{0} v_{0} + 1 u_{1} & = 0 \\\\\n",
       "1 u_{0} v_{0} + \\left(-e_{3}\\right) v_{0}^{2} + 1 v_{1} & = 0 \\\\ \n",
       "\\end{array}\\right.$"
      ],
      "text/plain": [
       "System over [Ring of operator polynomials in (u, v) over Difference Ring [[Multivariate Polynomial Ring in e2, e3 over Rational Field], (Hom({e2: 2*e2, e3: 3*e3}),)]] with variables [(u_*,)]:\n",
       "{\n",
       "\t(-e2)*u_0^2 + u_0*v_0 + u_1 == 0\n",
       "\tu_0*v_0 + (-e3)*v_0^2 + v_1 == 0\n",
       "}"
      ]
     },
     "execution_count": 26,
     "metadata": {},
     "output_type": "execute_result"
    }
   ],
   "source": [
    "S = DSystem([f1,f2], variables=[u]); S"
   ]
  },
  {
   "cell_type": "markdown",
   "id": "aaf8d79c-58de-45ed-baee-91394ae5a393",
   "metadata": {},
   "source": [
    "Finally, we can call the method `diff_resultant` to eliminate the $u$. The obtained result is a relation for the $v$:"
   ]
  },
  {
   "cell_type": "code",
   "execution_count": 27,
   "id": "e63db621-0ba1-462d-8bdc-a3abed0f6950",
   "metadata": {},
   "outputs": [
    {
     "data": {
      "text/html": [
       "<html>\\(\\displaystyle \\left(e_{2} e_{3}^{2} - e_{3}\\right) v_{1} v_{0}^{4} + \\left(-2 e_{2} e_{3} - 3 e_{3} + 1\\right) v_{1}^{2} v_{0}^{2} + 1 v_{2} v_{0}^{2} + e_{2} v_{1}^{3}\\)</html>"
      ],
      "text/latex": [
       "$\\displaystyle \\left(e_{2} e_{3}^{2} - e_{3}\\right) v_{1} v_{0}^{4} + \\left(-2 e_{2} e_{3} - 3 e_{3} + 1\\right) v_{1}^{2} v_{0}^{2} + 1 v_{2} v_{0}^{2} + e_{2} v_{1}^{3}$"
      ],
      "text/plain": [
       "(e2*e3^2 - e3)*v_1*v_0^4 + (-2*e2*e3 - 3*e3 + 1)*v_1^2*v_0^2 + v_2*v_0^2 + e2*v_1^3"
      ]
     },
     "execution_count": 27,
     "metadata": {},
     "output_type": "execute_result"
    }
   ],
   "source": [
    "S.diff_resultant()"
   ]
  },
  {
   "cell_type": "markdown",
   "id": "0fb05973-7a37-4f00-908f-884a6762d59e",
   "metadata": {},
   "source": [
    "Rewriting this in their meaning as sequences, we have obtained that $v(n)$ satisfies:\n",
    "$$3^n(6^n - 1) v(n+1)v(n)^4 - (2\\cdot 6^n + 3^{n+1} - 1)v(n+1)^2v(n)^2 + v(n+2)v(n)^2 + 2^nv(n+1)^3 = 0$$\n",
    "\n",
    "From this equation we can get an expression for $v(n+2)$ in terms of the previous values:\n",
    "$$v(n+2) = \\frac{(2\\cdot 6^n + 3^{n+1} - 1)v(n+1)^2v(n)^2 - 3^n(6^n - 1) v(n+1)v(n)^4 - 2^nv(n+1)^3}{v(n)^2},$$\n",
    "and if we want $u(0) = 2$ and  $v(0) = 1$, we then have $v(1)=1$. Hence we can unroll the sequence $v(n)$:"
   ]
  },
  {
   "cell_type": "code",
   "execution_count": 28,
   "id": "dc81c81b-2480-4d02-ab70-48f6e0eadd6f",
   "metadata": {},
   "outputs": [],
   "source": [
    "from functools import lru_cache\n",
    "@lru_cache(maxsize=None)\n",
    "def v(n):\n",
    "    if n == 0: return 1\n",
    "    elif n == 1: return 1\n",
    "    else:\n",
    "        numerator = (2*6**(n-2) + 3**(n-1) - 1)*v(n-1)**2*v(n-2)**2 - 3**(n-2)*(6**(n-2)-1)*v(n-1)*v(n-2)**4 - 2**(n-2)*v(n-1)**3\n",
    "        denominator = v(n-2)**2\n",
    "        return numerator/denominator"
   ]
  },
  {
   "cell_type": "code",
   "execution_count": 29,
   "id": "5dc84385-404c-4bb8-842e-f99d5bcc11e8",
   "metadata": {},
   "outputs": [
    {
     "data": {
      "text/html": [
       "<html>\\(\\displaystyle \\left[1, 1, 3, 81, 177147, 2541865828329\\right]\\)</html>"
      ],
      "text/latex": [
       "$\\displaystyle \\left[1, 1, 3, 81, 177147, 2541865828329\\right]$"
      ],
      "text/plain": [
       "[1, 1, 3, 81, 177147, 2541865828329]"
      ]
     },
     "execution_count": 29,
     "metadata": {},
     "output_type": "execute_result"
    }
   ],
   "source": [
    "[v(i) for i in range(6)]"
   ]
  },
  {
   "cell_type": "markdown",
   "id": "7b6684d0-78d0-4835-ba0b-230f5b8f84ae",
   "metadata": {},
   "source": [
    "Similarly, we can then obtain $u(n)$ from the first equation:"
   ]
  },
  {
   "cell_type": "code",
   "execution_count": 30,
   "id": "0be3d323-072c-44d5-8252-1c27b884bb3b",
   "metadata": {},
   "outputs": [],
   "source": [
    "@lru_cache(maxsize=None)\n",
    "def u(n):\n",
    "    if n == 0: return 2\n",
    "    else:\n",
    "        return 2**(n-1)*u(n-1)**2 - u(n-1)*v(n-1)"
   ]
  },
  {
   "cell_type": "code",
   "execution_count": 31,
   "id": "6790cae6-99e4-4bb5-9313-2e9875c9d271",
   "metadata": {},
   "outputs": [
    {
     "data": {
      "text/html": [
       "<html>\\(\\displaystyle \\left[2, 2, 6, 126, 116802, 197592191370\\right]\\)</html>"
      ],
      "text/latex": [
       "$\\displaystyle \\left[2, 2, 6, 126, 116802, 197592191370\\right]$"
      ],
      "text/plain": [
       "[2, 2, 6, 126, 116802, 197592191370]"
      ]
     },
     "execution_count": 31,
     "metadata": {},
     "output_type": "execute_result"
    }
   ],
   "source": [
    "[u(i) for i in range(6)]"
   ]
  },
  {
   "cell_type": "code",
   "execution_count": null,
   "id": "ae1a0b94-2c34-4e64-b112-9dddf4d92134",
   "metadata": {},
   "outputs": [],
   "source": []
  }
 ],
 "metadata": {
  "kernelspec": {
   "display_name": "SageMath 9.7",
   "language": "sage",
   "name": "sagemath"
  },
  "language_info": {
   "codemirror_mode": {
    "name": "ipython",
    "version": 3
   },
   "file_extension": ".py",
   "mimetype": "text/x-python",
   "name": "python",
   "nbconvert_exporter": "python",
   "pygments_lexer": "ipython3",
   "version": "3.10.5"
  }
 },
 "nbformat": 4,
 "nbformat_minor": 5
}
